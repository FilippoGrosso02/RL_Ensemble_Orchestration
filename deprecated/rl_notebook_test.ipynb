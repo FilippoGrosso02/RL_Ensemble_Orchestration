{
 "cells": [
  {
   "cell_type": "markdown",
   "metadata": {},
   "source": [
    "# Random Ensemble Orchestration - With get STATE\n"
   ]
  },
  {
   "cell_type": "markdown",
   "metadata": {},
   "source": [
    "Global Variables\n"
   ]
  },
  {
   "cell_type": "code",
   "execution_count": 25,
   "metadata": {},
   "outputs": [
    {
     "name": "stdout",
     "output_type": "stream",
     "text": [
      "Contents of initial_sim_config.yaml have been dumped into c:\\Documents\\Aalto Semester 1\\Research\\ROHE_orchestrator\\ROHE_orchestrator\\source\\rl_simulation\\sim_config.yaml.\n"
     ]
    }
   ],
   "source": [
    "from model_rl import ServiceConfig, ProcessingService, ServiceType, InferenceService, EnsembleService\n",
    "import logging\n",
    "import os\n",
    "import time\n",
    "import pandas as pd\n",
    "import random\n",
    "import copy\n",
    "from collections import Counter\n",
    "from rohe.common import rohe_utils as utils\n",
    "from IPython.display import clear_output\n",
    "from config_manager import ConfigManager\n",
    "import yaml\n",
    "\n",
    "# Configure logging\n",
    "#logging.basicConfig(format=\"%(asctime)s:%(levelname)s -- %(message)s\", level=logging.INFO)\n",
    "#logging.getLogger().setLevel(logging.CRITICAL)\n",
    "\n",
    "# Paths and configurations\n",
    "current_dir = os.getcwd()\n",
    "parent_dir = os.path.dirname(current_dir)\n",
    "MODEL_DATA_PATH = os.path.join(parent_dir, \"profile/processed\")\n",
    "PROFILE_PATH = os.path.join(parent_dir, \"profile/model_profile/model_profile.yaml\")\n",
    "CONFIG_PATH = os.path.join(current_dir, \"sim_config.yaml\")\n",
    "FILE_DATA_PATH = os.path.join(current_dir, \"file_label.csv\")\n",
    "THROUGHPUT_REQUIREMENT = 15\n",
    "\n",
    "def setup_config():\n",
    "    # RELOAD INITIAL YAML\n",
    "    initial_yaml_file_path = \"initial_sim_config.yaml\"  # Ensure this path matches your desired location\n",
    "    # Load contents from the initial YAML file\n",
    "    with open(initial_yaml_file_path, \"r\") as initial_file:\n",
    "        initial_yaml_content = yaml.safe_load(initial_file)\n",
    "\n",
    "    # Write the loaded contents into the target YAML file\n",
    "    with open(CONFIG_PATH, \"w\") as target_file:\n",
    "        yaml.dump(initial_yaml_content, target_file, default_flow_style=False)\n",
    "\n",
    "    print(f\"Contents of {initial_yaml_file_path} have been dumped into {CONFIG_PATH}.\")\n",
    "\n",
    "    # Load necessary data\n",
    "    profile_data = utils.load_config(PROFILE_PATH)\n",
    "    data_file_label = pd.read_csv(FILE_DATA_PATH).groupby(\"label\")\n",
    "    labels = list(data_file_label.groups.keys())\n",
    "    model_profile_data = {}\n",
    "\n",
    "setup_config()\n",
    "\n",
    "# Input data example\n",
    "init_data = {\n",
    "    \"input\": {\n",
    "        \"file_name\": \"n01560419_3101\",\n",
    "        \"image_height\": 224,\n",
    "        \"image_width\": 224,\n",
    "    }\n",
    "}\n",
    "\n",
    "weights = {\n",
    "    \"accuracy\": 1.0,\n",
    "    \"confidence\": 0.0,\n",
    "    \"latency\": 0.0,\n",
    "    \"energy\": 0.0,\n",
    "    \"explainability\": 0.0\n",
    "}\n",
    "\n",
    "\n",
    "# Global variables\n",
    "sim_config = None\n",
    "distribution_keys = None\n",
    "distribution_weights = None\n",
    "processing_service = None\n",
    "ensemble_service = None\n",
    "total_energy_consumption = 0\n",
    "\n",
    "\n",
    "\n",
    "\n"
   ]
  },
  {
   "cell_type": "markdown",
   "metadata": {},
   "source": [
    "## Define necessary functions"
   ]
  },
  {
   "cell_type": "code",
   "execution_count": 26,
   "metadata": {},
   "outputs": [],
   "source": [
    "# Function to configure the pipeline\n",
    "def config_pipeline():\n",
    "    global sim_config, distribution_keys, distribution_weights, processing_service, ensemble_service\n",
    "\n",
    "    # Load simulation config\n",
    "    sim_config = utils.load_config(CONFIG_PATH)\n",
    "\n",
    "    # Input distribution\n",
    "    distribution = sim_config[\"distribution\"]\n",
    "    distribution_keys = list(distribution.keys())\n",
    "    distribution_weights = list(distribution.values())\n",
    "\n",
    "    # Create processing service\n",
    "    if \"processing\" in sim_config:\n",
    "        processing_config = sim_config[\"processing\"]\n",
    "        processing_config[\"service_type\"] = ServiceType.PROCESSING.value\n",
    "        processing_service_config = ServiceConfig.model_validate(processing_config)\n",
    "        processing_service = ProcessingService(processing_service_config)\n",
    "\n",
    "    # Create ensemble service\n",
    "    if \"ensemble\" in sim_config:\n",
    "        ensemble_config = sim_config[\"ensemble\"]\n",
    "        ensemble_config[\"service_type\"] = ServiceType.ENSEMBLE.value\n",
    "        ensemble_service_config = ServiceConfig.model_validate(ensemble_config)\n",
    "        ensemble_service = EnsembleService(ensemble_service_config)\n",
    "        #ensemble_service.load_models_from_yaml(sim_config[\"throughput_requirement\"], PROFILE_PATH)\n",
    "\n",
    "\n",
    "\n",
    "\n",
    "    # Add inference services to ensemble\n",
    "    if \"inference\" in sim_config:\n",
    "        inference_configs = sim_config[\"inference\"]\n",
    "        for model_name, model_config in inference_configs.items():\n",
    "            model_config[\"throughput\"] = profile_data[model_name][\"throughput\"]\n",
    "            model_config[\"energy\"] = profile_data[model_name][\"energy\"]\n",
    "            model_config[\"response_time\"] = profile_data[model_name][\"response_time\"]\n",
    "            model_config[\"service_type\"] = ServiceType.INFERENCE.value\n",
    "            model_config[\"data_path\"] = str(MODEL_DATA_PATH)\n",
    "            model_config[\"throughput_requirement\"] = int(sim_config[\"throughput_requirement\"])\n",
    "            inference_service_config = ServiceConfig.model_validate(model_config)\n",
    "            inference_service = InferenceService(inference_service_config)\n",
    "            ensemble_service.add_model(inference_service)\n",
    "\n",
    "\n",
    "\n",
    "# Function to simulate applying RL agent actions\n",
    "def apply_action(action):\n",
    "    manager = ConfigManager(PROFILE_PATH, CONFIG_PATH)\n",
    "\n",
    "    if action == \"keep_ensemble\":\n",
    "        logging.info(\"Action: Keeping the ensemble\")\n",
    "    \n",
    "    elif action == \"add_model\":\n",
    "        manager.add_best_model(weights)\n",
    "        logging.info(\"Action: Adding a model\")\n",
    "        # Logic for adding a new model (Placeholder)\n",
    "    elif action == \"replace_model\":\n",
    "        logging.info(\"Action: Replacing a model\")\n",
    "        manager.remove_worst_model(weights)\n",
    "        manager.add_best_model(weights)\n",
    "        # Logic for replacing a model (Placeholder)\n",
    "    elif action == \"remove_model\":\n",
    "        manager.remove_worst_model(weights)\n",
    "\n",
    "    elif action == \"add_random_model\":\n",
    "        manager.add_random_model()\n",
    "    elif action == \"remove_random_model\":\n",
    "        manager.remove_random_model()\n",
    "    elif action == \"replace_random_model\":\n",
    "        manager.remove_random_model()\n",
    "        manager.add_random_model()\n",
    "\n",
    "\n",
    "    else:\n",
    "        logging.warning(\"Unknown action\")\n",
    "\n"
   ]
  },
  {
   "cell_type": "code",
   "execution_count": 33,
   "metadata": {},
   "outputs": [],
   "source": [
    "### DEFINE GET STATE RL\n",
    "\n",
    "# IMAGE DATA +\n",
    "# ENSEMBLE MDOELS DATA ( CAPPED AT 10)\n",
    "\n",
    "# FLATTEN\n",
    "\n",
    "import numpy as np\n",
    "\n",
    "def get_state(data):\n",
    "    # Ensemble-level metrics\n",
    "    energy_report = ensemble_service.energy_estimate()\n",
    "    ensemble_state = {\n",
    "        \"total_energy_consumption\": total_energy_consumption + energy_report[\"ensemble\"],\n",
    "        \"ensemble_size\": len(ensemble_service.ensemble),\n",
    "    }\n",
    "\n",
    "    # Model-level metrics\n",
    "    model_states = []\n",
    "    for model_name, model_data in model_profile_data.items():\n",
    "        # Directly compute metrics from data_frame\n",
    "        if \"data_frame\" in model_data:\n",
    "            recent_df = model_data[\"data_frame\"].tail(10000)  # Use recent 10,000 entries\n",
    "            accuracy = recent_df[\"accuracy\"].mean()\n",
    "            confidence = recent_df[\"confidence\"].mean()\n",
    "            avg_response_time = recent_df[\"response_time\"].mean()\n",
    "            max_response_time = recent_df[\"response_time\"].max()\n",
    "            contribution = recent_df[\"contribution\"].mean()\n",
    "\n",
    "            model_states.append([\n",
    "                accuracy,\n",
    "                confidence,\n",
    "                avg_response_time,\n",
    "                max_response_time,\n",
    "                contribution\n",
    "            ])\n",
    "\n",
    "    # Ensure fixed-length state for 10 models\n",
    "    max_models = 10\n",
    "    num_features = 5  # Accuracy, Confidence, Avg Response, Max Response, Contribution\n",
    "    while len(model_states) < max_models:\n",
    "        model_states.append([0.0] * num_features)  # Padding with zeros\n",
    "\n",
    "    # Truncate if more than 10 models (just in case)\n",
    "    model_states = model_states[:max_models]\n",
    "\n",
    "    # Input state (flattened input metrics)\n",
    "    input_state = [\n",
    "        len(data[\"input\"][\"file_name\"]),  # Example input length\n",
    "        data[\"input\"][\"image_height\"],\n",
    "        data[\"input\"][\"image_width\"],\n",
    "    ]\n",
    "\n",
    "    # Ensemble state metrics\n",
    "    ensemble_state_vector = [\n",
    "        ensemble_state[\"total_energy_consumption\"],\n",
    "        ensemble_state[\"ensemble_size\"],\n",
    "    ]\n",
    "    \"\"\"\n",
    "    # Combine and flatten state\n",
    "    state = np.concatenate([\n",
    "        np.array(ensemble_state_vector, dtype=np.float32),\n",
    "        np.array(model_states, dtype=np.float32).flatten(),\n",
    "        np.array(input_state, dtype=np.float32)\n",
    "    ]) \n",
    "    \"\"\"\n",
    "    structured_state = {\n",
    "        \"ensemble_state\": ensemble_state,\n",
    "        \"model_states\": model_states,\n",
    "        \"input_state\": input_state\n",
    "    }\n",
    "\n",
    "\n",
    "    return structured_state\n",
    "\n",
    "def flatten_structured_state(structured_state):\n",
    "    \"\"\"\n",
    "    Flattens the structured state dictionary into a single NumPy array.\n",
    "\n",
    "    Args:\n",
    "        structured_state (dict): State dictionary with keys:\n",
    "            - \"ensemble_state\": dict with ensemble metrics.\n",
    "            - \"model_states\": list of model-level metrics.\n",
    "            - \"input_state\": list of input-level metrics.\n",
    "\n",
    "    Returns:\n",
    "        np.array: Flattened state array.\n",
    "    \"\"\"\n",
    "    # Ensemble state as a vector\n",
    "    ensemble_state_vector = [\n",
    "        structured_state[\"ensemble_state\"][\"total_energy_consumption\"],\n",
    "        structured_state[\"ensemble_state\"][\"ensemble_size\"],\n",
    "        *distribution_weights\n",
    "\n",
    "    ]\n",
    "\n",
    "    # Model states as a flattened vector\n",
    "    model_states_vector = []\n",
    "    for model in structured_state[\"model_states\"]:\n",
    "        model_states_vector.extend(model)  # Assuming model states are lists of 5 metrics\n",
    "\n",
    "    # Input state as a vector\n",
    "    input_state_vector = structured_state[\"input_state\"]\n",
    "\n",
    "    # Combine all parts into a single flattened array\n",
    "    flattened_state = np.concatenate([\n",
    "        np.array(ensemble_state_vector, dtype=np.float32),\n",
    "        np.array(model_states_vector, dtype=np.float32),\n",
    "        np.array(input_state_vector, dtype=np.float32)\n",
    "    ])\n",
    "\n",
    "    return flattened_state\n",
    "\n",
    "\n"
   ]
  },
  {
   "cell_type": "code",
   "execution_count": 34,
   "metadata": {},
   "outputs": [],
   "source": [
    "def random_data_metrics():\n",
    "    # returns data and inference metrics on a random image\n",
    "    config_pipeline()\n",
    "\n",
    "    model_count = 0\n",
    "    # Prepare input data: 224-224\n",
    "    data = copy.deepcopy(init_data)\n",
    "    \n",
    "    # SELECT THE INPUT IMAGE\n",
    "    selected_key = random.choices(distribution_keys, weights=distribution_weights, k=1)[0]\n",
    "    if selected_key in labels:\n",
    "        df_file = data_file_label.get_group(selected_key)\n",
    "        file_name = random.choice(df_file[\"file_name\"].values)\n",
    "    data[\"input\"][\"file_name\"] = file_name\n",
    "    data[\"label\"] = selected_key\n",
    "    \n",
    "    \n",
    "    # Execute services\n",
    "    data = processing_service.execute(data)\n",
    "    data = ensemble_service.execute(data)\n",
    "    \n",
    "    \n",
    "    # Update model profiles\n",
    "    for model_name, inferences in data[\"ml_inference\"].items():\n",
    "        model_count +=1 \n",
    "        response_time = data[\"response_time\"][\"inference\"].get(model_name, 0)\n",
    "\n",
    "        i_label = data[\"label\"]\n",
    "        i_accuracy = 1 if i_label in inferences else 0\n",
    "        i_confidence = inferences.get(i_label, 0)\n",
    "        model_contribution = data[\"contribution\"].get(model_name, 0)\n",
    "\n",
    "\n",
    "        # Save to profile data\n",
    "        data_dict = {\n",
    "            \"label\": [i_label],\n",
    "            \"accuracy\": [i_accuracy],\n",
    "            \"confidence\": [i_confidence],\n",
    "            \"response_time\": [response_time],\n",
    "            \"contribution\": [model_contribution],\n",
    "        }\n",
    "        result_df = pd.DataFrame(data_dict)\n",
    "        if model_name not in model_profile_data:\n",
    "            model_profile_data[model_name] = {\"data_frame\": result_df}\n",
    "        else:\n",
    "            model_profile_data[model_name][\"data_frame\"] = pd.concat(\n",
    "                [model_profile_data[model_name][\"data_frame\"], result_df], ignore_index=True\n",
    "            )\n",
    "\n",
    "    return data\n",
    "    "
   ]
  },
  {
   "cell_type": "markdown",
   "metadata": {},
   "source": [
    "## RL test"
   ]
  },
  {
   "cell_type": "markdown",
   "metadata": {},
   "source": [
    "Defining the Simulation enviroment"
   ]
  },
  {
   "cell_type": "code",
   "execution_count": 35,
   "metadata": {},
   "outputs": [],
   "source": [
    "import gym\n",
    "from gym import spaces\n",
    "import numpy as np\n",
    "\n",
    "#substitute everything with get state\n",
    "\n",
    "# ADD DISTRIBUTION WEIGHTS TO THE SIMULATION ENV\n",
    "\n",
    "class SimulationEnv(gym.Env):\n",
    "\n",
    "    def __init__(self):\n",
    "        super(SimulationEnv, self).__init__()\n",
    "\n",
    "        # Define constants\n",
    "        self.state_size = 55 + 20  # Change this to be dynamic based on the enviroment\n",
    "        # Observation space: Fixed size of 55\n",
    "        self.observation_space = spaces.Box(\n",
    "            low=0.0, high=10.0, shape=(self.state_size,), dtype=np.float32\n",
    "        )\n",
    "\n",
    "        # Action space (example: add/remove/replace a model)\n",
    "        self.action_space = spaces.Discrete(6)\n",
    "\n",
    "    def reset(self):\n",
    "        # Reset the environment to an initial state\n",
    "\n",
    "        # Define Init Data:\n",
    "        data = random_data_metrics()\n",
    "\n",
    "        self.current_state = get_state(data)  # Get initial state\n",
    "        print(self.current_state)\n",
    "        return flatten_structured_state(self.current_state)\n",
    "\n",
    "    def step(self, action):\n",
    "        \n",
    "                \n",
    "        if action == 0:\n",
    "            apply_action(\"keep_ensemble\")\n",
    "        elif action == 1:\n",
    "            apply_action(\"add_model\")\n",
    "        elif action == 2:\n",
    "            apply_action(\"replace_model\")\n",
    "\n",
    "\n",
    "        data = random_data_metrics()\n",
    "        state = get_state(data)\n",
    "\n",
    "        # Simulate a step in the environment\n",
    "        self.current_state = state\n",
    "        reward = self._calculate_reward(self.current_state)\n",
    "        print(\"STATE:\" , state)\n",
    "        done = False  # Define termination condition if applicable\n",
    "       \n",
    "        return flatten_structured_state(self.current_state), reward, done, {}\n",
    "\n",
    "    def _state_to_observation(self, state):\n",
    "        # Convert the state dictionary to a flat vector for the RL agent\n",
    "        return np.array(list(state[\"ensemble\"].values()) + [model[\"accuracy\"] for model in state[\"models\"]])\n",
    "\n",
    "    def _calculate_reward(self, state):\n",
    "        model_accuracies = [model[0] for model in state.get(\"model_states\", []) if model[0]!= 0]  # Index 0 -> Accuracy\n",
    "        \n",
    "        # Reward is the mean accuracy; default to 0 if no accuracies exist\n",
    "        if model_accuracies:\n",
    "            accuracy_reward = np.mean(model_accuracies)\n",
    "        else:\n",
    "            accuracy_reward = 0.0\n",
    "\n",
    "        # Debugging output\n",
    "        print(\"Model Accuracies:\", model_accuracies)\n",
    "        print(\"Accuracy Reward:\", accuracy_reward)\n",
    "\n",
    "        return accuracy_reward"
   ]
  },
  {
   "cell_type": "markdown",
   "metadata": {},
   "source": [
    "Running the simulation"
   ]
  },
  {
   "cell_type": "code",
   "execution_count": 38,
   "metadata": {},
   "outputs": [
    {
     "name": "stdout",
     "output_type": "stream",
     "text": [
      "Contents of initial_sim_config.yaml have been dumped into c:\\Documents\\Aalto Semester 1\\Research\\ROHE_orchestrator\\ROHE_orchestrator\\source\\rl_simulation\\sim_config.yaml.\n",
      "Using cpu device\n",
      "Wrapping the env with a `Monitor` wrapper\n",
      "Wrapping the env in a DummyVecEnv.\n"
     ]
    },
    {
     "name": "stderr",
     "output_type": "stream",
     "text": [
      "c:\\Users\\Filippo\\anaconda3\\Lib\\site-packages\\stable_baselines3\\common\\vec_env\\patch_gym.py:49: UserWarning: You provided an OpenAI Gym environment. We strongly recommend transitioning to Gymnasium environments. Stable-Baselines3 is automatically wrapping your environments in a compatibility layer, which could potentially cause issues.\n",
      "  warnings.warn(\n"
     ]
    },
    {
     "name": "stdout",
     "output_type": "stream",
     "text": [
      "{'ensemble_state': {'total_energy_consumption': 0.00329458735984739, 'ensemble_size': 3}, 'model_states': [[0.920388349514563, 0.8149167671365646, 2.073909771218895, 2.5248890024990285, 0.7917360034093116], [0.8219512195121951, 0.6646395952236361, 0.09457568744741897, 0.1964937604702088, 0.6553794139042133], [0.7097701149425287, 0.6497511538280838, 0.38968308142394287, 0.5163422452602895, 0.7171673640266232], [0.8825242718446602, 0.7485794605604142, 6.916381610661182, 7.288435090373072, 0.9041109834191868], [0.9576771653543307, 0.8398253469485936, 1.1472186519699605, 1.3322012301546087, 0.7966453300451669], [0.9469469469469469, 0.8303964472151136, 3.819046791436031, 4.001362883372639, 0.794377355335711], [0.9459183673469388, 0.7106480975540317, 7.1196906674063785, 7.279399427503429, 0.676256727929018], [0.9085239085239085, 0.8117234781229571, 0.5848439618190212, 0.835027244945422, 0.7967551179276683], [0.8827292110874201, 0.7385769925519093, 0.9938437923720507, 1.1020057401462464, 0.7259205716695867], [0.8926615553121577, 0.7801009140100824, 0.5758226137222777, 0.695257711376081, 0.7580443546583984]], 'input_state': [14, 224, 224]}\n"
     ]
    },
    {
     "name": "stderr",
     "output_type": "stream",
     "text": [
      "2024-12-19 18:07:35,304:INFO -- Action: Adding a model\n"
     ]
    },
    {
     "name": "stdout",
     "output_type": "stream",
     "text": [
      "Model Accuracies: [0.9204655674102813, 0.8221680876979294, 0.7101865136298422, 0.8826382153249273, 0.9576771653543307, 0.9469469469469469, 0.9459183673469388, 0.9085239085239085, 0.8827292110874201, 0.8926615553121577]\n",
      "Accuracy Reward: 0.8869915538634683\n",
      "STATE: {'ensemble_state': {'total_energy_consumption': 0.00329458735984739, 'ensemble_size': 3}, 'model_states': [[0.9204655674102813, 0.8150326349455448, 2.073876825658556, 2.5248890024990285, 0.7918743549852436], [0.8221680876979294, 0.6649922529614364, 0.0944867745209515, 0.1964937604702088, 0.6557433507910019], [0.7101865136298422, 0.6502504853299221, 0.3892874543650033, 0.5163422452602895, 0.7175699721278898], [0.8826382153249273, 0.7487865717486072, 6.911659269376788, 7.288435090373072, 0.9042018410595266], [0.9576771653543307, 0.8398253469485936, 1.1472186519699605, 1.3322012301546087, 0.7966453300451669], [0.9469469469469469, 0.8303964472151136, 3.819046791436031, 4.001362883372639, 0.794377355335711], [0.9459183673469388, 0.7106480975540317, 7.1196906674063785, 7.279399427503429, 0.676256727929018], [0.9085239085239085, 0.8117234781229571, 0.5848439618190212, 0.835027244945422, 0.7967551179276683], [0.8827292110874201, 0.7385769925519093, 0.9938437923720507, 1.1020057401462464, 0.7259205716695867], [0.8926615553121577, 0.7801009140100824, 0.5758226137222777, 0.695257711376081, 0.7580443546583984]], 'input_state': [15, 224, 224]}\n",
      "Best model: EfficientNetV2S with score: 0.953925925925926\n",
      "{'accuracy_n01440764': 0.977037037037037, 'accuracy_n01443537': 0.9859259259259259, 'accuracy_n01484850': 0.914074074074074, 'accuracy_n01491361': 0.9088888888888889, 'accuracy_n01494475': 0.9688888888888889, 'accuracy_n01496331': 0.8785185185185185, 'accuracy_n01498041': 0.8896296296296297, 'accuracy_n01514668': 0.8851851851851852, 'accuracy_n01514859': 0.9014814814814814, 'accuracy_n01518878': 0.9940740740740741, 'accuracy_n01530575': 0.9622222222222222, 'accuracy_n01531178': 0.9911111111111112, 'accuracy_n01532829': 0.9792592592592593, 'accuracy_n01534433': 0.9851851851851852, 'accuracy_n01537544': 0.9859259259259259, 'accuracy_n01558993': 0.9681481481481482, 'accuracy_n01560419': 0.9792592592592593, 'accuracy_n01580077': 0.9822222222222222, 'accuracy_n01582220': 0.9555555555555556, 'accuracy_n01592084': 0.9859259259259259, 'confidence_n01440764': 0.8849708387586805, 'confidence_n01443537': 0.8934162699734723, 'confidence_n01484850': 0.7871093256826754, 'confidence_n01491361': 0.769880608452691, 'confidence_n01494475': 0.8482088454122897, 'confidence_n01496331': 0.7576004429879012, 'confidence_n01498041': 0.7177889564743748, 'confidence_n01514668': 0.7284385553554252, 'confidence_n01514859': 0.7421550402817902, 'confidence_n01518878': 0.899801015191608, 'confidence_n01530575': 0.8651834988594055, 'confidence_n01531178': 0.8909786882444665, 'confidence_n01532829': 0.8623206767770979, 'confidence_n01534433': 0.8791895103013074, 'confidence_n01537544': 0.8927185327697683, 'confidence_n01558993': 0.8647769725322724, 'confidence_n01560419': 0.8747891883938401, 'confidence_n01580077': 0.8785905482813164, 'confidence_n01582220': 0.834610737628407, 'confidence_n01592084': 0.8843920033507877, 'energy': {'cpu': 5.4, 'cuda': 8.4, 'tpu': 4.5}, 'overall_accuracy': 0.953925925925926, 'overall_confidence': 0.8378460127854789, 'response_time': {'cpu': {'avg': 1.1477190832937918, 'max': 1.3586578369140625, 'min': 1.028880596160889}, 'cuda': {'avg': 0.23081557921941767, 'max': 0.3144452571868896, 'min': 0.2253203392028808}, 'tpu': {'avg': 0.16157090545359237, 'max': 0.2515562057495117, 'min': 0.15872423744201658}}, 'throughput': {'cpu': 0.8712933456940885, 'cuda': 4.332463187198386, 'tpu': 6.189233124574271}}\n",
      "{'EfficientNetV2S': {'explainability': 0, 'host': {'cpu': 1}, 'mlmodel_name': 'EfficientNetV2S', 'response_time_range': {'avg': 0.3, 'base_scale': 40, 'max': 0.5, 'min': 0.1, 'noise_scale': 20, 'spike_scale': 3}, 'response_time_sim': 1, 'service_name': 'EfficientNetV2S'}}\n",
      "Model 'EfficientNetV2S' successfully added to the target YAML.\n"
     ]
    },
    {
     "name": "stderr",
     "output_type": "stream",
     "text": [
      "2024-12-19 18:07:35,901:INFO -- Action: Adding a model\n"
     ]
    },
    {
     "name": "stdout",
     "output_type": "stream",
     "text": [
      "Model Accuracies: [0.9205426356589147, 0.8223844282238443, 0.7106017191977078, 0.8827519379844961, 0.9577187807276303, 0.9469469469469469, 0.9459183673469388, 0.9085239085239085, 0.8827292110874201, 0.8926615553121577]\n",
      "Accuracy Reward: 0.8870779491009966\n",
      "STATE: {'ensemble_state': {'total_energy_consumption': 0.003833157044692698, 'ensemble_size': 4}, 'model_states': [[0.9205426356589147, 0.8151703876002815, 2.0738789756501603, 2.5248890024990285, 0.7920345478337403], [0.8223844282238443, 0.6651579026323166, 0.09443858566373532, 0.1964937604702088, 0.6559202521676855], [0.7106017191977078, 0.6507226805119938, 0.3889004402475074, 0.5163422452602895, 0.7179457210538039], [0.8827519379844961, 0.7489330557336284, 6.906982589693644, 7.288435090373072, 0.9042751364871975], [0.9577187807276303, 0.8398467967526634, 1.1472082209109535, 1.3322012301546087, 0.7967092380762804], [0.9469469469469469, 0.8303964472151136, 3.819046791436031, 4.001362883372639, 0.794377355335711], [0.9459183673469388, 0.7106480975540317, 7.1196906674063785, 7.279399427503429, 0.676256727929018], [0.9085239085239085, 0.8117234781229571, 0.5848439618190212, 0.835027244945422, 0.7967551179276683], [0.8827292110874201, 0.7385769925519093, 0.9938437923720507, 1.1020057401462464, 0.7259205716695867], [0.8926615553121577, 0.7801009140100824, 0.5758226137222777, 0.695257711376081, 0.7580443546583984]], 'input_state': [14, 224, 224]}\n",
      "Best model: NASNetLarge with score: 0.942962962962963\n",
      "{'accuracy_n01440764': 0.9666666666666667, 'accuracy_n01443537': 0.9674074074074074, 'accuracy_n01484850': 0.9185185185185185, 'accuracy_n01491361': 0.8777777777777778, 'accuracy_n01494475': 0.945925925925926, 'accuracy_n01496331': 0.8859259259259259, 'accuracy_n01498041': 0.8718518518518519, 'accuracy_n01514668': 0.8962962962962963, 'accuracy_n01514859': 0.88, 'accuracy_n01518878': 0.9829629629629629, 'accuracy_n01530575': 0.9496296296296296, 'accuracy_n01531178': 0.977037037037037, 'accuracy_n01532829': 0.9651851851851851, 'accuracy_n01534433': 0.9681481481481482, 'accuracy_n01537544': 0.9814814814814815, 'accuracy_n01558993': 0.9711111111111111, 'accuracy_n01560419': 0.9488888888888889, 'accuracy_n01580077': 0.9651851851851851, 'accuracy_n01582220': 0.9555555555555556, 'accuracy_n01592084': 0.9837037037037037, 'confidence_n01440764': 0.8815337629892208, 'confidence_n01443537': 0.859235787347511, 'confidence_n01484850': 0.8005482587549422, 'confidence_n01491361': 0.7452449365677657, 'confidence_n01494475': 0.8424315228285613, 'confidence_n01496331': 0.7572105677039535, 'confidence_n01498041': 0.7244180644662291, 'confidence_n01514668': 0.7429368097914589, 'confidence_n01514859': 0.7386219886276457, 'confidence_n01518878': 0.891659748201017, 'confidence_n01530575': 0.8586840399547859, 'confidence_n01531178': 0.8749082992474239, 'confidence_n01532829': 0.8693031679700922, 'confidence_n01534433': 0.877843244738049, 'confidence_n01537544': 0.8915974416997697, 'confidence_n01558993': 0.8892527391954704, 'confidence_n01560419': 0.8627495476051613, 'confidence_n01580077': 0.8815608282000931, 'confidence_n01582220': 0.8617625115535877, 'confidence_n01592084': 0.8864688077458629, 'energy': {'cpu': 5.9, 'cuda': 8.3, 'tpu': 4.5}, 'overall_accuracy': 0.942962962962963, 'overall_confidence': 0.83689860375943, 'response_time': {'cpu': {'avg': 3.817890139574504, 'max': 4.050956726074219, 'min': 3.6893832683563232}, 'cuda': {'avg': 1.3722617124256336, 'max': 1.461817741394043, 'min': 1.3610644340515137}, 'tpu': {'avg': 0.8233570274553802, 'max': 0.9769106448364258, 'min': 0.680532217025757}}, 'throughput': {'cpu': 0.26192477086610144, 'cuda': 0.7287239678445758, 'tpu': 1.214682013455319}}\n",
      "{'NASNetLarge': {'explainability': 0, 'host': {'cpu': 1}, 'mlmodel_name': 'NASNetLarge', 'response_time_range': {'avg': 0.3, 'base_scale': 40, 'max': 0.5, 'min': 0.1, 'noise_scale': 20, 'spike_scale': 3}, 'response_time_sim': 1, 'service_name': 'NASNetLarge'}}\n",
      "Model 'NASNetLarge' successfully added to the target YAML.\n",
      "Model Accuracies: [0.920619554695063, 0.8226002430133658, 0.7110157367668097, 0.882865440464666, 0.9577603143418467, 0.947, 0.9459183673469388, 0.9085239085239085, 0.8827292110874201, 0.8926615553121577]\n",
      "Accuracy Reward: 0.8871694331552176\n",
      "STATE: {'ensemble_state': {'total_energy_consumption': 0.006996982659451798, 'ensemble_size': 5}, 'model_states': [[0.920619554695063, 0.8152892865954617, 2.0738623483722742, 2.5248890024990285, 0.7921758435760324], [0.8226002430133658, 0.6652250927969143, 0.09438904227374438, 0.1964937604702088, 0.6559986666949378], [0.7110157367668097, 0.6512223500038933, 0.38850924599192665, 0.5163422452602895, 0.7183492202444991], [0.882865440464666, 0.7490767800243516, 6.903997685413234, 7.288435090373072, 0.904367795266348], [0.9577603143418467, 0.8399250397864868, 1.1472248854065368, 1.3322012301546087, 0.7968298559221632], [0.947, 0.8304751136898995, 3.819042561664893, 4.001362883372639, 0.7944920409023761], [0.9459183673469388, 0.7106480975540317, 7.1196906674063785, 7.279399427503429, 0.676256727929018], [0.9085239085239085, 0.8117234781229571, 0.5848439618190212, 0.835027244945422, 0.7967551179276683], [0.8827292110874201, 0.7385769925519093, 0.9938437923720507, 1.1020057401462464, 0.7259205716695867], [0.8926615553121577, 0.7801009140100824, 0.5758226137222777, 0.695257711376081, 0.7580443546583984]], 'input_state': [14, 224, 224]}\n"
     ]
    },
    {
     "name": "stderr",
     "output_type": "stream",
     "text": [
      "2024-12-19 18:07:36,351:INFO -- Action: Replacing a model\n"
     ]
    },
    {
     "name": "stdout",
     "output_type": "stream",
     "text": [
      "Model Accuracies: [0.9206963249516441, 0.8216019417475728, 0.71, 0.8820116054158608, 0.957801766437684, 0.9470529470529471, 0.9459183673469388, 0.9085239085239085, 0.8827292110874201, 0.8926615553121577]\n",
      "Accuracy Reward: 0.8868997627876134\n",
      "STATE: {'ensemble_state': {'total_energy_consumption': 0.006996982659451798, 'ensemble_size': 5}, 'model_states': [[0.9206963249516441, 0.8151869796346188, 2.073862646555523, 2.5248890024990285, 0.7914097160677385], [0.8216019417475728, 0.6644177807910928, 0.09431019940336886, 0.1964937604702088, 0.6561314507016858], [0.71, 0.6502920323610306, 0.3881096431155094, 0.5163422452602895, 0.7187434548991067], [0.8820116054158608, 0.7483523343957014, 6.9009939524915795, 7.288435090373072, 0.9044547833545526], [0.957801766437684, 0.8395331333500129, 1.1472378057632981, 1.3322012301546087, 0.796047883541474], [0.9470529470529471, 0.8303759794730645, 3.8190133390821606, 4.001362883372639, 0.7936983425598163], [0.9459183673469388, 0.7106480975540317, 7.1196906674063785, 7.279399427503429, 0.676256727929018], [0.9085239085239085, 0.8117234781229571, 0.5848439618190212, 0.835027244945422, 0.7967551179276683], [0.8827292110874201, 0.7385769925519093, 0.9938437923720507, 1.1020057401462464, 0.7259205716695867], [0.8926615553121577, 0.7801009140100824, 0.5758226137222777, 0.695257711376081, 0.7580443546583984]], 'input_state': [14, 224, 224]}\n",
      "Worst model: ResNet50V2 with score: 0.7573739295908658\n",
      "Model 'ResNet50V2' successfully removed from the target YAML.\n",
      "Best model: EfficientNetB7 with score: 0.9045925925925926\n",
      "{'accuracy_n01440764': 0.9725925925925926, 'accuracy_n01443537': 0.9674074074074074, 'accuracy_n01484850': 0.8792592592592593, 'accuracy_n01491361': 0.8866666666666667, 'accuracy_n01494475': 0.9407407407407408, 'accuracy_n01496331': 0.92, 'accuracy_n01498041': 0.6422222222222222, 'accuracy_n01514668': 0.8488888888888889, 'accuracy_n01514859': 0.8637037037037038, 'accuracy_n01518878': 0.9777777777777777, 'accuracy_n01530575': 0.9562962962962963, 'accuracy_n01531178': 0.9474074074074074, 'accuracy_n01532829': 0.9340740740740741, 'accuracy_n01534433': 0.9311111111111111, 'accuracy_n01537544': 0.9585185185185185, 'accuracy_n01558993': 0.9355555555555556, 'accuracy_n01560419': 0.9311111111111111, 'accuracy_n01580077': 0.8955555555555555, 'accuracy_n01582220': 0.7703703703703704, 'accuracy_n01592084': 0.9325925925925926, 'confidence_n01440764': 0.7960814834303326, 'confidence_n01443537': 0.7754988633261787, 'confidence_n01484850': 0.6140795646994203, 'confidence_n01491361': 0.6228765483255739, 'confidence_n01494475': 0.723544799597175, 'confidence_n01496331': 0.6838512290627868, 'confidence_n01498041': 0.41567686586468305, 'confidence_n01514668': 0.5889637838248853, 'confidence_n01514859': 0.6051828186379539, 'confidence_n01518878': 0.7761210391477302, 'confidence_n01530575': 0.7790066302264178, 'confidence_n01531178': 0.7196357750671881, 'confidence_n01532829': 0.6974704091416465, 'confidence_n01534433': 0.7361404990929145, 'confidence_n01537544': 0.7284220681587855, 'confidence_n01558993': 0.7130095083404471, 'confidence_n01560419': 0.7346031936671998, 'confidence_n01580077': 0.6935278160483749, 'confidence_n01582220': 0.5579640306146056, 'confidence_n01592084': 0.6806270710627238, 'energy': {'cpu': 5.9, 'cuda': 10.2, 'tpu': 4.6}, 'overall_accuracy': 0.9045925925925926, 'overall_confidence': 0.6821141998668512, 'response_time': {'cpu': {'avg': 7.118659233378473, 'max': 7.353195428848267, 'min': 6.890150547027588}, 'cuda': {'avg': 1.6033208482974284, 'max': 1.6119613647460938, 'min': 1.595247745513916}, 'tpu': {'avg': 0.6447845458984375, 'max': 0.8280990982055664, 'min': 0.4016604241487142}}, 'throughput': {'cpu': 0.14047589120590703, 'cuda': 0.6237054804482229, 'tpu': 1.553682794349682}}\n",
      "{'EfficientNetB7': {'explainability': 0, 'host': {'cpu': 1}, 'mlmodel_name': 'EfficientNetB7', 'response_time_range': {'avg': 0.3, 'base_scale': 40, 'max': 0.5, 'min': 0.1, 'noise_scale': 20, 'spike_scale': 3}, 'response_time_sim': 1, 'service_name': 'EfficientNetB7'}}\n",
      "Model 'EfficientNetB7' successfully added to the target YAML.\n"
     ]
    },
    {
     "name": "stderr",
     "output_type": "stream",
     "text": [
      "2024-12-19 18:07:36,749:INFO -- Action: Replacing a model\n"
     ]
    },
    {
     "name": "stdout",
     "output_type": "stream",
     "text": [
      "Model Accuracies: [0.9207729468599034, 0.8218181818181818, 0.71, 0.8821256038647343, 0.957843137254902, 0.9471057884231537, 0.9459734964322121, 0.9085239085239085, 0.8827292110874201, 0.8926615553121577]\n",
      "Accuracy Reward: 0.8869553829576574\n",
      "STATE: {'ensemble_state': {'total_energy_consumption': 0.011042723686154656, 'ensemble_size': 5}, 'model_states': [[0.9207729468599034, 0.8152767140508274, 2.0738648902599706, 2.5248890024990285, 0.7915224236854609], [0.8218181818181818, 0.6647843555248145, 0.09426920980598333, 0.1964937604702088, 0.6565080694718795], [0.71, 0.6502920323610306, 0.3881096431155094, 0.5163422452602895, 0.7187434548991067], [0.8821256038647343, 0.748515102623844, 6.901211419914598, 7.288435090373072, 0.9045150607968299], [0.957843137254902, 0.8396422615238265, 1.147229091979968, 1.3322012301546087, 0.796199644313139], [0.9471057884231537, 0.8304672757546583, 3.819009286239259, 4.001362883372639, 0.7938262432694673], [0.9459734964322121, 0.7107763711465608, 7.119688264867097, 7.279399427503429, 0.6764200589829386], [0.9085239085239085, 0.8117234781229571, 0.5848439618190212, 0.835027244945422, 0.7967551179276683], [0.8827292110874201, 0.7385769925519093, 0.9938437923720507, 1.1020057401462464, 0.7259205716695867], [0.8926615553121577, 0.7801009140100824, 0.5758226137222777, 0.695257711376081, 0.7580443546583984]], 'input_state': [13, 224, 224]}\n",
      "Worst model: MobileNetV2 with score: 0.8261111111111111\n",
      "Model 'MobileNetV2' successfully removed from the target YAML.\n",
      "Best model: DenseNet201 with score: 0.8944655883285759\n",
      "{'accuracy_n01440764': 0.8995983935742972, 'accuracy_n01443537': 0.9373493975903614, 'accuracy_n01484850': 0.8397486252945797, 'accuracy_n01491361': 0.8090692124105012, 'accuracy_n01494475': 0.8916109873793615, 'accuracy_n01496331': 0.8365384615384616, 'accuracy_n01498041': 0.7039106145251397, 'accuracy_n01514668': 0.8609539207760711, 'accuracy_n01514859': 0.8312693498452013, 'accuracy_n01518878': 0.9637972646822205, 'accuracy_n01530575': 0.9100401606425703, 'accuracy_n01531178': 0.954983922829582, 'accuracy_n01532829': 0.942261427425822, 'accuracy_n01534433': 0.9309236947791165, 'accuracy_n01537544': 0.9551641313050441, 'accuracy_n01558993': 0.94, 'accuracy_n01560419': 0.8889770023790642, 'accuracy_n01580077': 0.9272581934452439, 'accuracy_n01582220': 0.9214814814814815, 'accuracy_n01592084': 0.9476650563607085, 'confidence_n01440764': 0.8507088873999186, 'confidence_n01443537': 0.9081706566982959, 'confidence_n01484850': 0.7415451820170139, 'confidence_n01491361': 0.7114785020324855, 'confidence_n01494475': 0.8132264527154128, 'confidence_n01496331': 0.7474914477326167, 'confidence_n01498041': 0.5899613202331738, 'confidence_n01514668': 0.7831299501797222, 'confidence_n01514859': 0.7359045279607315, 'confidence_n01518878': 0.9388876674113884, 'confidence_n01530575': 0.8686450119478156, 'confidence_n01531178': 0.9232020817241868, 'confidence_n01532829': 0.9017658981927033, 'confidence_n01534433': 0.8770391474047818, 'confidence_n01537544': 0.934071161705938, 'confidence_n01558993': 0.9003039276838303, 'confidence_n01560419': 0.8300106770031798, 'confidence_n01580077': 0.8817515867076617, 'confidence_n01582220': 0.8698661566663671, 'confidence_n01592084': 0.9071123148172182, 'energy': {'cpu': 5.8, 'cuda': 7.4, 'tpu': 4.7}, 'overall_accuracy': 0.8944655883285759, 'overall_confidence': 0.8353643247280524, 'response_time': {'cpu': {'avg': 0.5838861006610798, 'max': 0.8330824375152588, 'min': 0.4933516979217529}, 'cuda': {'avg': 0.15158661080014174, 'max': 0.252490758895874, 'min': 0.1474027633666992}, 'tpu': {'avg': 0.1212692886434234, 'max': 0.2146171450634348, 'min': 0.08318193435668944}}, 'throughput': {'cpu': 1.7126627930820637, 'cuda': 6.596888700931791, 'tpu': 8.246110875943439}}\n",
      "{'DenseNet201': {'explainability': 0, 'host': {'cpu': 1}, 'mlmodel_name': 'DenseNet201', 'response_time_range': {'avg': 0.3, 'base_scale': 40, 'max': 0.5, 'min': 0.1, 'noise_scale': 20, 'spike_scale': 3}, 'response_time_sim': 1, 'service_name': 'DenseNet201'}}\n",
      "Model 'DenseNet201' successfully added to the target YAML.\n"
     ]
    },
    {
     "name": "stderr",
     "output_type": "stream",
     "text": [
      "2024-12-19 18:07:37,238:INFO -- Action: Adding a model\n"
     ]
    },
    {
     "name": "stdout",
     "output_type": "stream",
     "text": [
      "Model Accuracies: [0.9208494208494209, 0.8218181818181818, 0.71, 0.8822393822393823, 0.9578844270323212, 0.9471585244267199, 0.9460285132382892, 0.9086188992731049, 0.8827292110874201, 0.8926615553121577]\n",
      "Accuracy Reward: 0.8869988115276998\n",
      "STATE: {'ensemble_state': {'total_energy_consumption': 0.01131999673746023, 'ensemble_size': 5}, 'model_states': [[0.9208494208494209, 0.8153323506411438, 2.073860548970615, 2.5248890024990285, 0.7916009891274813], [0.8218181818181818, 0.6647843555248145, 0.09426920980598333, 0.1964937604702088, 0.6565080694718795], [0.71, 0.6502920323610306, 0.3881096431155094, 0.5163422452602895, 0.7187434548991067], [0.8822393822393823, 0.7485440745686117, 6.9014216184428365, 7.288435090373072, 0.9045227082252042], [0.9578844270323212, 0.8396220419129008, 1.147227876325559, 1.3322012301546087, 0.7962219737886098], [0.9471585244267199, 0.830549001099462, 3.819010946259862, 4.001362883372639, 0.7939445000524417], [0.9460285132382892, 0.710766924677944, 7.119675894943997, 7.279399427503429, 0.6764455985755882], [0.9086188992731049, 0.8114899108466824, 0.5848614490686288, 0.835027244945422, 0.7965370941199246], [0.8827292110874201, 0.7385769925519093, 0.9938437923720507, 1.1020057401462464, 0.7259205716695867], [0.8926615553121577, 0.7801009140100824, 0.5758226137222777, 0.695257711376081, 0.7580443546583984]], 'input_state': [15, 224, 224]}\n",
      "Best model: Xception with score: 0.8872592592592593\n",
      "{'accuracy_n01440764': 0.9155555555555556, 'accuracy_n01443537': 0.9133333333333333, 'accuracy_n01484850': 0.8185185185185185, 'accuracy_n01491361': 0.8333333333333334, 'accuracy_n01494475': 0.8881481481481481, 'accuracy_n01496331': 0.8311111111111111, 'accuracy_n01498041': 0.6896296296296296, 'accuracy_n01514668': 0.8274074074074074, 'accuracy_n01514859': 0.8237037037037037, 'accuracy_n01518878': 0.9548148148148148, 'accuracy_n01530575': 0.9059259259259259, 'accuracy_n01531178': 0.9392592592592592, 'accuracy_n01532829': 0.922962962962963, 'accuracy_n01534433': 0.917037037037037, 'accuracy_n01537544': 0.9496296296296296, 'accuracy_n01558993': 0.9318518518518518, 'accuracy_n01560419': 0.9044444444444445, 'accuracy_n01580077': 0.9133333333333333, 'accuracy_n01582220': 0.9096296296296297, 'accuracy_n01592084': 0.9555555555555556, 'confidence_n01440764': 0.7849238790626879, 'confidence_n01443537': 0.7908147066831589, 'confidence_n01484850': 0.6704838063098766, 'confidence_n01491361': 0.6707633914108629, 'confidence_n01494475': 0.7576432365841336, 'confidence_n01496331': 0.6817896819997716, 'confidence_n01498041': 0.5140939294408868, 'confidence_n01514668': 0.670311072755743, 'confidence_n01514859': 0.6897513262430827, 'confidence_n01518878': 0.8481628962357839, 'confidence_n01530575': 0.7997658061539685, 'confidence_n01531178': 0.8129038308947175, 'confidence_n01532829': 0.816156490776274, 'confidence_n01534433': 0.811796645367587, 'confidence_n01537544': 0.8504851775699191, 'confidence_n01558993': 0.8060381575204708, 'confidence_n01560419': 0.7931925661917086, 'confidence_n01580077': 0.798561633516241, 'confidence_n01582220': 0.7811226044981568, 'confidence_n01592084': 0.8646499234437942, 'energy': {'cpu': 6.0, 'cuda': 7.6, 'tpu': 4.5}, 'overall_accuracy': 0.8872592592592593, 'overall_confidence': 0.7606705381329413, 'response_time': {'cpu': {'avg': 0.992859913642148, 'max': 1.1338202953338623, 'min': 0.8938288688659668}, 'cuda': {'avg': 2.598089245478969, 'max': 2.7906649112701416, 'min': 2.576108932495117}, 'tpu': {'avg': 2.338280320931072, 'max': 2.511598420397155, 'min': 2.218498039245605}}, 'throughput': {'cpu': 1.0071914338163375, 'cuda': 0.38489824848785964, 'tpu': 0.4272822822822823}}\n",
      "{'Xception': {'explainability': 0, 'host': {'cpu': 1}, 'mlmodel_name': 'Xception', 'response_time_range': {'avg': 0.3, 'base_scale': 40, 'max': 0.5, 'min': 0.1, 'noise_scale': 20, 'spike_scale': 3}, 'response_time_sim': 1, 'service_name': 'Xception'}}\n",
      "Model 'Xception' successfully added to the target YAML.\n",
      "Model Accuracies: [0.9199614271938283, 0.8218181818181818, 0.71, 0.8813886210221794, 0.9579256360078278, 0.9472111553784861, 0.9460834181078331, 0.9087136929460581, 0.8828541001064962, 0.8926615553121577]\n",
      "Accuracy Reward: 0.8868617787893049\n",
      "STATE: {'ensemble_state': {'total_energy_consumption': 0.016804851811249164, 'ensemble_size': 6}, 'model_states': [[0.9199614271938283, 0.8145461092229749, 2.0738997365887095, 2.5248890024990285, 0.7914808112319663], [0.8218181818181818, 0.6647843555248145, 0.09426920980598333, 0.1964937604702088, 0.6565080694718795], [0.71, 0.6502920323610306, 0.3881096431155094, 0.5163422452602895, 0.7187434548991067], [0.8813886210221794, 0.7478222384311299, 6.901664941042056, 7.288435090373072, 0.9036504587476486], [0.9579256360078278, 0.8394733017671365, 1.1472453159655844, 1.3322012301546087, 0.7954428916224762], [0.9472111553784861, 0.8303797550766592, 3.8190016292119697, 4.001362883372639, 0.7931537186778874], [0.9460834181078331, 0.7103688216645987, 7.1197006807996805, 7.279399427503429, 0.6757574545282071], [0.9087136929460581, 0.8111221710552319, 0.5848579231125962, 0.835027244945422, 0.7960793373495711], [0.8828541001064962, 0.7382338865559956, 0.9938565605159192, 1.1020057401462464, 0.7251474933185008], [0.8926615553121577, 0.7801009140100824, 0.5758226137222777, 0.695257711376081, 0.7580443546583984]], 'input_state': [15, 224, 224]}\n"
     ]
    },
    {
     "name": "stderr",
     "output_type": "stream",
     "text": [
      "2024-12-19 18:07:37,788:INFO -- Action: Keeping the ensemble\n"
     ]
    },
    {
     "name": "stdout",
     "output_type": "stream",
     "text": [
      "Model Accuracies: [0.9200385356454721, 0.8218181818181818, 0.71, 0.8815028901734104, 0.9579667644183774, 0.9472636815920398, 0.9461382113821138, 0.9088082901554404, 0.8829787234042553, 0.8926615553121577]\n",
      "Accuracy Reward: 0.8869176833901449\n",
      "STATE: {'ensemble_state': {'total_energy_consumption': 0.016804851811249164, 'ensemble_size': 6}, 'model_states': [[0.9200385356454721, 0.8146368885315911, 2.073861305647492, 2.5248890024990285, 0.7915938114442348], [0.8218181818181818, 0.6647843555248145, 0.09426920980598333, 0.1964937604702088, 0.6565080694718795], [0.71, 0.6502920323610306, 0.3881096431155094, 0.5163422452602895, 0.7187434548991067], [0.8815028901734104, 0.7479695329034747, 6.901922822835256, 7.288435090373072, 0.9037430406133563], [0.9579667644183774, 0.8395492785254298, 1.147242242258271, 1.3322012301546087, 0.7955619088598943], [0.9472636815920398, 0.8304653467230536, 3.819044046118391, 4.001362883372639, 0.7932763511565194], [0.9461382113821138, 0.710470245136478, 7.119738719593759, 7.279399427503429, 0.6758940521536804], [0.9088082901554404, 0.8113176407591667, 0.5848743492691707, 0.835027244945422, 0.7962903954822165], [0.8829787234042553, 0.7383549053301203, 0.9938474441708026, 1.1020057401462464, 0.725282433787559], [0.8926615553121577, 0.7801009140100824, 0.5758226137222777, 0.695257711376081, 0.7580443546583984]], 'input_state': [13, 224, 224]}\n",
      "Model Accuracies: [0.9201154956689124, 0.8218181818181818, 0.71, 0.8816169393647738, 0.9580078125, 0.9473161033797217, 0.9461928934010152, 0.9089026915113871, 0.8831030818278427, 0.8926615553121577]\n",
      "Accuracy Reward: 0.8869734754783993\n",
      "STATE: {'ensemble_state': {'total_energy_consumption': 0.016804851811249164, 'ensemble_size': 6}, 'model_states': [[0.9201154956689124, 0.8147307793261113, 2.073915084533772, 2.5248890024990285, 0.7917098803687715], [0.8218181818181818, 0.6647843555248145, 0.09426920980598333, 0.1964937604702088, 0.6565080694718795], [0.71, 0.6502920323610306, 0.3881096431155094, 0.5163422452602895, 0.7187434548991067], [0.8816169393647738, 0.7481335005820112, 6.9021152927965215, 7.288435090373072, 0.9038353206390826], [0.9580078125, 0.8396410599234514, 1.1472513198386416, 1.3322012301546087, 0.7956966466736048], [0.9473161033797217, 0.8305645104549514, 3.819019571201728, 4.001362883372639, 0.7934124820808293], [0.9461928934010152, 0.710583573367995, 7.119713572737489, 7.279399427503429, 0.67604248311919], [0.9089026915113871, 0.8115125727949676, 0.5848800503899968, 0.835027244945422, 0.7965008836725483], [0.8831030818278427, 0.7385397824230153, 0.9938350245814416, 1.1020057401462464, 0.7254812029862379], [0.8926615553121577, 0.7801009140100824, 0.5758226137222777, 0.695257711376081, 0.7580443546583984]], 'input_state': [14, 224, 224]}\n"
     ]
    },
    {
     "name": "stderr",
     "output_type": "stream",
     "text": [
      "2024-12-19 18:07:38,421:INFO -- Action: Adding a model\n"
     ]
    },
    {
     "name": "stdout",
     "output_type": "stream",
     "text": [
      "Model Accuracies: [0.9201923076923076, 0.8218181818181818, 0.71, 0.8817307692307692, 0.9580487804878048, 0.9473684210526315, 0.9462474645030426, 0.9089968976215098, 0.8832271762208068, 0.8926615553121577]\n",
      "Accuracy Reward: 0.8870291553939211\n",
      "STATE: {'ensemble_state': {'total_energy_consumption': 0.016804851811249164, 'ensemble_size': 6}, 'model_states': [[0.9201923076923076, 0.8144820329661553, 2.0739381580213543, 2.5248890024990285, 0.7914832694885823], [0.8218181818181818, 0.6647843555248145, 0.09426920980598333, 0.1964937604702088, 0.6565080694718795], [0.71, 0.6502920323610306, 0.3881096431155094, 0.5163422452602895, 0.7187434548991067], [0.8817307692307692, 0.7481235975089239, 6.902306488287225, 7.288435090373072, 0.9038172392031321], [0.9580487804878048, 0.8396853424281608, 1.1472303021789068, 1.3322012301546087, 0.7957838017766069], [0.9473684210526315, 0.8302997888140787, 3.819022807591343, 4.001362883372639, 0.793184654211927], [0.9462474645030426, 0.7105900779457169, 7.119683308457556, 7.279399427503429, 0.6760840192286045], [0.9089968976215098, 0.8115609819541426, 0.5848974753487677, 0.835027244945422, 0.7965648168122016], [0.8832271762208068, 0.7386545273465462, 0.9938506336935282, 1.1020057401462464, 0.7256098105206358], [0.8926615553121577, 0.7801009140100824, 0.5758226137222777, 0.695257711376081, 0.7580443546583984]], 'input_state': [14, 224, 224]}\n",
      "Best model: InceptionV3 with score: 0.8844354582936885\n",
      "{'accuracy_n01440764': 0.8971887550200803, 'accuracy_n01443537': 0.9373493975903614, 'accuracy_n01484850': 0.800471327572663, 'accuracy_n01491361': 0.8321400159108989, 'accuracy_n01494475': 0.8938381588715665, 'accuracy_n01496331': 0.8173076923076923, 'accuracy_n01498041': 0.6951316839584996, 'accuracy_n01514668': 0.8318512530315278, 'accuracy_n01514859': 0.8003095975232198, 'accuracy_n01518878': 0.9493161705551086, 'accuracy_n01530575': 0.9164658634538153, 'accuracy_n01531178': 0.9389067524115756, 'accuracy_n01532829': 0.9165998396150762, 'accuracy_n01534433': 0.9325301204819277, 'accuracy_n01537544': 0.9463570856685348, 'accuracy_n01558993': 0.9184, 'accuracy_n01560419': 0.908802537668517, 'accuracy_n01580077': 0.9272581934452439, 'accuracy_n01582220': 0.8985185185185185, 'accuracy_n01592084': 0.9339774557165862, 'confidence_n01440764': 0.8350344103024188, 'confidence_n01443537': 0.8882812398983293, 'confidence_n01484850': 0.6614114570739413, 'confidence_n01491361': 0.7222218863197803, 'confidence_n01494475': 0.7916275451116059, 'confidence_n01496331': 0.7043643737307343, 'confidence_n01498041': 0.5460635211975786, 'confidence_n01514668': 0.6861160294173124, 'confidence_n01514859': 0.6577486161938393, 'confidence_n01518878': 0.8749500737972827, 'confidence_n01530575': 0.8290790454690237, 'confidence_n01531178': 0.8538098974674461, 'confidence_n01532829': 0.8113410898992894, 'confidence_n01534433': 0.8344095435965971, 'confidence_n01537544': 0.8453550068161982, 'confidence_n01558993': 0.8342735558986664, 'confidence_n01560419': 0.8075236620929485, 'confidence_n01580077': 0.8292508203682186, 'confidence_n01582220': 0.7937918633884854, 'confidence_n01592084': 0.8587097484084527, 'energy': {'cpu': 5.9, 'cuda': 8.0, 'tpu': 4.7}, 'overall_accuracy': 0.8844354582936885, 'overall_confidence': 0.7829232527373746, 'response_time': {'cpu': {'avg': 0.5758627045706767, 'max': 0.7718358039855957, 'min': 0.486767053604126}, 'cuda': {'avg': 0.39190631745510934, 'max': 0.4055709838867187, 'min': 0.3809609413146972}, 'tpu': {'avg': 0.2743344222185765, 'max': 0.324456787109375, 'min': 0.236672658920288}}, 'throughput': {'cpu': 1.7365250294261212, 'cuda': 2.55163021227527, 'tpu': 3.6451860175475}}\n",
      "{'InceptionV3': {'explainability': 0, 'host': {'cpu': 1}, 'mlmodel_name': 'InceptionV3', 'response_time_range': {'avg': 0.3, 'base_scale': 40, 'max': 0.5, 'min': 0.1, 'noise_scale': 20, 'spike_scale': 3}, 'response_time_sim': 1, 'service_name': 'InceptionV3'}}\n",
      "Model 'InceptionV3' successfully added to the target YAML.\n"
     ]
    },
    {
     "name": "stderr",
     "output_type": "stream",
     "text": [
      "2024-12-19 18:07:38,832:INFO -- Action: Adding a model\n"
     ]
    },
    {
     "name": "stdout",
     "output_type": "stream",
     "text": [
      "Model Accuracies: [0.920268972142171, 0.8218181818181818, 0.71, 0.8818443804034583, 0.9580896686159844, 0.9474206349206349, 0.9463019250253293, 0.9090909090909091, 0.8833510074231177, 0.8927789934354485]\n",
      "Accuracy Reward: 0.8870964672875236\n",
      "STATE: {'ensemble_state': {'total_energy_consumption': 0.017675754738927185, 'ensemble_size': 7}, 'model_states': [[0.920268972142171, 0.8144005664716422, 2.073927038691655, 2.5248890024990285, 0.7914238959464972], [0.8218181818181818, 0.6647843555248145, 0.09426920980598333, 0.1964937604702088, 0.6565080694718795], [0.71, 0.6502920323610306, 0.3881096431155094, 0.5163422452602895, 0.7187434548991067], [0.8818443804034583, 0.7482224319863514, 6.902535260169824, 7.288435090373072, 0.9038384798681587], [0.9580896686159844, 0.8397410820450699, 1.147205427538186, 1.3322012301546087, 0.7958823304194921], [0.9474206349206349, 0.8303309088306767, 3.8190086973416237, 4.001362883372639, 0.7932525947985668], [0.9463019250253293, 0.7106985490855958, 7.11969513369697, 7.279399427503429, 0.6762274509142959], [0.9090909090909091, 0.8116791304970575, 0.5848812945078887, 0.835027244945422, 0.796698457261255], [0.8833510074231177, 0.7388089491668713, 0.9938673735505281, 1.1020057401462464, 0.7257780655507444], [0.8927789934354485, 0.7801675426425245, 0.5758048221923205, 0.695257711376081, 0.7581351151938511]], 'input_state': [33, 224, 224]}\n",
      "Best model: DenseNet121 with score: 0.8663703703703703\n",
      "{'accuracy_n01440764': 0.9051851851851852, 'accuracy_n01443537': 0.8896296296296297, 'accuracy_n01484850': 0.8074074074074075, 'accuracy_n01491361': 0.7748148148148148, 'accuracy_n01494475': 0.8540740740740741, 'accuracy_n01496331': 0.8007407407407408, 'accuracy_n01498041': 0.6311111111111111, 'accuracy_n01514668': 0.8333333333333334, 'accuracy_n01514859': 0.7918518518518518, 'accuracy_n01518878': 0.9437037037037037, 'accuracy_n01530575': 0.9118518518518518, 'accuracy_n01531178': 0.9296296296296296, 'accuracy_n01532829': 0.8955555555555555, 'accuracy_n01534433': 0.8962962962962963, 'accuracy_n01537544': 0.945925925925926, 'accuracy_n01558993': 0.9014814814814814, 'accuracy_n01560419': 0.882962962962963, 'accuracy_n01580077': 0.9096296296296297, 'accuracy_n01582220': 0.8874074074074074, 'accuracy_n01592084': 0.9348148148148148, 'confidence_n01440764': 0.8555789436455126, 'confidence_n01443537': 0.836367677670938, 'confidence_n01484850': 0.6804508073683139, 'confidence_n01491361': 0.6500454611689956, 'confidence_n01494475': 0.7512010844107028, 'confidence_n01496331': 0.7036331299278471, 'confidence_n01498041': 0.51273987809817, 'confidence_n01514668': 0.7528531013373976, 'confidence_n01514859': 0.6805257531448646, 'confidence_n01518878': 0.9108507290151384, 'confidence_n01530575': 0.8724519717472571, 'confidence_n01531178': 0.8872694136036767, 'confidence_n01532829': 0.8417765819584881, 'confidence_n01534433': 0.8411677694762194, 'confidence_n01537544': 0.9230168290712215, 'confidence_n01558993': 0.8585732829791528, 'confidence_n01560419': 0.8149585115909577, 'confidence_n01580077': 0.8708953173955282, 'confidence_n01582220': 0.8211729401791538, 'confidence_n01592084': 0.8844351943554701, 'energy': {'cpu': 5.5, 'cuda': 6.0, 'tpu': 4.2}, 'overall_accuracy': 0.8663703703703703, 'overall_confidence': 0.7974982189072503, 'response_time': {'cpu': {'avg': 0.37077864743857236, 'max': 0.5649008750915527, 'min': 0.3080501556396484}, 'cuda': {'avg': 0.08970351503919573, 'max': 0.185699462890625, 'min': 0.0850656032562255}, 'tpu': {'avg': 0.022676492209296, 'max': 0.110704650872344, 'min': 0.018863276681973}}, 'throughput': {'cpu': 2.6970269375225335, 'cuda': 11.147835171933368, 'tpu': 44.0985312354}}\n",
      "{'DenseNet121': {'explainability': 0, 'host': {'cpu': 1}, 'mlmodel_name': 'DenseNet121', 'response_time_range': {'avg': 0.3, 'base_scale': 40, 'max': 0.5, 'min': 0.1, 'noise_scale': 20, 'spike_scale': 3}, 'response_time_sim': 1, 'service_name': 'DenseNet121'}}\n",
      "Model 'DenseNet121' successfully added to the target YAML.\n"
     ]
    },
    {
     "name": "stderr",
     "output_type": "stream",
     "text": [
      "2024-12-19 18:07:39,195:INFO -- Action: Keeping the ensemble\n"
     ]
    },
    {
     "name": "stdout",
     "output_type": "stream",
     "text": [
      "Model Accuracies: [0.9203454894433781, 0.8218181818181818, 0.71, 0.8819577735124761, 0.9581304771178188, 0.9474727452923687, 0.9463562753036437, 0.9091847265221878, 0.8834745762711864, 0.8918032786885246]\n",
      "Accuracy Reward: 0.8870543523969765\n",
      "STATE: {'ensemble_state': {'total_energy_consumption': 0.017825260597325844, 'ensemble_size': 8}, 'model_states': [[0.9203454894433781, 0.8141800527266029, 2.073892853432198, 2.5248890024990285, 0.7912254327489867], [0.8218181818181818, 0.6647843555248145, 0.09426920980598333, 0.1964937604702088, 0.6565080694718795], [0.71, 0.6502920323610306, 0.3881096431155094, 0.5163422452602895, 0.7187434548991067], [0.8819577735124761, 0.7481323882325298, 6.902741971074922, 7.288435090373072, 0.903696843135151], [0.9581304771178188, 0.8396597888824886, 1.1472033730808935, 1.3322012301546087, 0.7958437429546962], [0.9474727452923687, 0.8300370140992497, 3.8190033835806387, 4.001362883372639, 0.7929954476529], [0.9463562753036437, 0.7106998288921016, 7.119677575987456, 7.279399427503429, 0.6762636204962789], [0.9091847265221878, 0.8115481990163663, 0.584885646406152, 0.835027244945422, 0.7965829857116636], [0.8834745762711864, 0.73867151548423, 0.9938789761642128, 1.1020057401462464, 0.7256544357702389], [0.8918032786885246, 0.779314900519418, 0.5758101470540937, 0.695257711376081, 0.7573065522264262]], 'input_state': [15, 224, 224]}\n",
      "Model Accuracies: [0.9204218600191755, 0.8218181818181818, 0.71, 0.8820709491850431, 0.958171206225681, 0.9475247524752475, 0.9464105156723963, 0.9092783505154639, 0.8835978835978836, 0.8919213973799127]\n",
      "Accuracy Reward: 0.8871215096888985\n",
      "STATE: {'ensemble_state': {'total_energy_consumption': 0.017825260597325844, 'ensemble_size': 8}, 'model_states': [[0.9204218600191755, 0.8142748717379364, 2.0738835754765024, 2.5248890024990285, 0.7913422600249201], [0.8218181818181818, 0.6647843555248145, 0.09426920980598333, 0.1964937604702088, 0.6565080694718795], [0.71, 0.6502920323610306, 0.3881096431155094, 0.5163422452602895, 0.7187434548991067], [0.8820709491850431, 0.748297449749524, 6.903000106961303, 7.288435090373072, 0.9037805473644461], [0.958171206225681, 0.8396888933640974, 1.1472341970452877, 1.3322012301546087, 0.7959154700490751], [0.9475247524752475, 0.8301187173564836, 3.819029748388866, 4.001362883372639, 0.7931138257283975], [0.9464105156723963, 0.7107702543087024, 7.119722413424127, 7.279399427503429, 0.6763688651326935], [0.9092783505154639, 0.811733201238298, 0.5848356420491287, 0.835027244945422, 0.7967834159885485], [0.8835978835978836, 0.738890554381426, 0.9938348648248, 1.1020057401462464, 0.725887249354963], [0.8919213973799127, 0.7795158123280284, 0.5758038302922361, 0.695257711376081, 0.7575314906161424]], 'input_state': [15, 224, 224]}\n",
      "Model Accuracies: [0.9204980842911877, 0.8218181818181818, 0.71, 0.882183908045977, 0.9582118561710399, 0.9475766567754699, 0.9464646464646465, 0.9093717816683831, 0.8837209302325582, 0.8920392584514721]\n",
      "Accuracy Reward: 0.8871885303918916\n",
      "STATE: {'ensemble_state': {'total_energy_consumption': 0.017825260597325844, 'ensemble_size': 8}, 'model_states': [[0.9204980842911877, 0.8143373670134965, 2.0739202723315975, 2.5248890024990285, 0.7914267214036536], [0.8218181818181818, 0.6647843555248145, 0.09426920980598333, 0.1964937604702088, 0.6565080694718795], [0.71, 0.6502920323610306, 0.3881096431155094, 0.5163422452602895, 0.7187434548991067], [0.882183908045977, 0.7483347040650247, 6.903278213673875, 7.288435090373072, 0.9038039235490949], [0.9582118561710399, 0.8397748956874925, 1.147205934243536, 1.3322012301546087, 0.7960440121424557], [0.9475766567754699, 0.8301768766902203, 3.8190339970150395, 4.001362883372639, 0.7932085873288287], [0.9464646464646465, 0.7108950522210863, 7.1197833933105406, 7.279399427503429, 0.6765284119230328], [0.9093717816683831, 0.8113724864044838, 0.5848061737436246, 0.835027244945422, 0.7964380974320255], [0.8837209302325582, 0.738769754893432, 0.9938403691315641, 1.1020057401462464, 0.7257801954325359], [0.8920392584514721, 0.7796769634522944, 0.5758039364348012, 0.695257711376081, 0.7577166159189385]], 'input_state': [14, 224, 224]}\n",
      "Model Accuracies: [0.9205741626794258, 0.8218181818181818, 0.71, 0.8813397129186603, 0.958252427184466, 0.9476284584980237, 0.9465186680121089, 0.9084362139917695, 0.8827877507919747, 0.8921568627450981]\n",
      "Accuracy Reward: 0.886951243863971\n",
      "STATE: {'ensemble_state': {'total_energy_consumption': 0.017825260597325844, 'ensemble_size': 8}, 'model_states': [[0.9205741626794258, 0.8139623491672808, 2.0739440231781634, 2.5248890024990285, 0.7911041042165893], [0.8218181818181818, 0.6647843555248145, 0.09426920980598333, 0.1964937604702088, 0.6565080694718795], [0.71, 0.6502920323610306, 0.3881096431155094, 0.5163422452602895, 0.7187434548991067], [0.8813397129186603, 0.7476185943003691, 6.90353921786316, 7.288435090373072, 0.9038622849580774], [0.958252427184466, 0.8394927042780571, 1.147223032144418, 1.3322012301546087, 0.7955837687531722], [0.9476284584980237, 0.8297503539931633, 3.8190200725653174, 4.001362883372639, 0.792872844948599], [0.9465186680121089, 0.7105405290961626, 7.119829377580405, 7.279399427503429, 0.6761994862592545], [0.9084362139917695, 0.8105377410481005, 0.5848201086127779, 0.835027244945422, 0.7966113006197867], [0.8827877507919747, 0.7379896389959733, 0.9938306382822003, 1.1020057401462464, 0.7258602441490137], [0.8921568627450981, 0.7792077271961698, 0.5757990958808294, 0.695257711376081, 0.757370203798373]], 'input_state': [14, 224, 224]}\n"
     ]
    },
    {
     "name": "stderr",
     "output_type": "stream",
     "text": [
      "2024-12-19 18:07:40,668:INFO -- Action: Keeping the ensemble\n"
     ]
    },
    {
     "name": "stdout",
     "output_type": "stream",
     "text": [
      "Model Accuracies: [0.9206500956022945, 0.8218181818181818, 0.71, 0.8814531548757171, 0.9582929194956353, 0.947680157946693, 0.9465725806451613, 0.9085303186022611, 0.8829113924050633, 0.8922742110990207]\n",
      "Accuracy Reward: 0.8870183012490029\n",
      "STATE: {'ensemble_state': {'total_energy_consumption': 0.017825260597325844, 'ensemble_size': 8}, 'model_states': [[0.9206500956022945, 0.8140598223553561, 2.0739456818517277, 2.5248890024990285, 0.7912234304113096], [0.8218181818181818, 0.6647843555248145, 0.09426920980598333, 0.1964937604702088, 0.6565080694718795], [0.71, 0.6502920323610306, 0.3881096431155094, 0.5163422452602895, 0.7187434548991067], [0.8814531548757171, 0.7478054904468986, 6.903793804932276, 7.288435090373072, 0.903953492726924], [0.9582929194956353, 0.8395898389538784, 1.1472219934568382, 1.3322012301546087, 0.7957234921152446], [0.947680157946693, 0.8298361911590102, 3.818996952676016, 4.001362883372639, 0.7929950863681917], [0.9465725806451613, 0.710681070663756, 7.119870661645042, 7.279399427503429, 0.6763746458135785], [0.9085303186022611, 0.810721132609484, 0.584835014190533, 0.835027244945422, 0.7968090050695856], [0.8829113924050633, 0.7382249037739094, 0.9938555659980833, 1.1020057401462464, 0.7261083036472525], [0.8922742110990207, 0.779419049247694, 0.5758102496120373, 0.695257711376081, 0.7576052881169242]], 'input_state': [15, 224, 224]}\n"
     ]
    },
    {
     "name": "stderr",
     "output_type": "stream",
     "text": [
      "2024-12-19 18:07:41,133:INFO -- Action: Adding a model\n"
     ]
    },
    {
     "name": "stdout",
     "output_type": "stream",
     "text": [
      "Model Accuracies: [0.9207258834765998, 0.8218181818181818, 0.71, 0.8815663801337154, 0.9583333333333334, 0.9477317554240631, 0.945619335347432, 0.9075975359342916, 0.8830347734457323, 0.8913043478260869]\n",
      "Accuracy Reward: 0.8867731526739437\n",
      "STATE: {'ensemble_state': {'total_energy_consumption': 0.017825260597325844, 'ensemble_size': 8}, 'model_states': [[0.9207258834765998, 0.8140411650496886, 2.0739119022432693, 2.5248890024990285, 0.7912265843682439], [0.8218181818181818, 0.6647843555248145, 0.09426920980598333, 0.1964937604702088, 0.6565080694718795], [0.71, 0.6502920323610306, 0.3881096431155094, 0.5163422452602895, 0.7187434548991067], [0.8815663801337154, 0.7477331722017446, 6.904019790438421, 7.288435090373072, 0.9039574869781192], [0.9583333333333334, 0.839317201759464, 1.1472264119850755, 1.3322012301546087, 0.7954933610708677], [0.9477317554240631, 0.8299134093863959, 3.818954437088069, 4.001362883372639, 0.7931086370460616], [0.945619335347432, 0.7099653797567431, 7.119880390168001, 7.279399427503429, 0.6756935031692547], [0.9075975359342916, 0.8098887700503367, 0.5848243357556889, 0.835027244945422, 0.7959909260089393], [0.8830347734457323, 0.7378974421257968, 0.9938531111235699, 1.1020057401462464, 0.7257936097548056], [0.8913043478260869, 0.7785718546289465, 0.5757979413655103, 0.695257711376081, 0.7567818041081014]], 'input_state': [15, 224, 224]}\n",
      "Best model: MobileNet with score: 0.84\n",
      "{'accuracy_n01440764': 0.8718518518518519, 'accuracy_n01443537': 0.8822222222222222, 'accuracy_n01484850': 0.7807407407407407, 'accuracy_n01491361': 0.7192592592592593, 'accuracy_n01494475': 0.7933333333333333, 'accuracy_n01496331': 0.7022222222222222, 'accuracy_n01498041': 0.7229629629629629, 'accuracy_n01514668': 0.8488888888888889, 'accuracy_n01514859': 0.7792592592592592, 'accuracy_n01518878': 0.9192592592592592, 'accuracy_n01530575': 0.8325925925925926, 'accuracy_n01531178': 0.9177777777777778, 'accuracy_n01532829': 0.8748148148148148, 'accuracy_n01534433': 0.8837037037037037, 'accuracy_n01537544': 0.8970370370370371, 'accuracy_n01558993': 0.8851851851851852, 'accuracy_n01560419': 0.8407407407407408, 'accuracy_n01580077': 0.8881481481481481, 'accuracy_n01582220': 0.8474074074074074, 'accuracy_n01592084': 0.9125925925925926, 'confidence_n01440764': 0.8044017738324625, 'confidence_n01443537': 0.8294662503401439, 'confidence_n01484850': 0.6696429613122233, 'confidence_n01491361': 0.6107286714624476, 'confidence_n01494475': 0.6937759952191953, 'confidence_n01496331': 0.5969136061271032, 'confidence_n01498041': 0.5789870491513499, 'confidence_n01514668': 0.7721535674730937, 'confidence_n01514859': 0.6764461270526604, 'confidence_n01518878': 0.8765193866800379, 'confidence_n01530575': 0.7659375043268557, 'confidence_n01531178': 0.8573051474491755, 'confidence_n01532829': 0.8135966352842472, 'confidence_n01534433': 0.8291853203376134, 'confidence_n01537544': 0.8531961435079575, 'confidence_n01558993': 0.8305690138649058, 'confidence_n01560419': 0.7669931743321595, 'confidence_n01580077': 0.8251968296589675, 'confidence_n01582220': 0.7839321985951176, 'confidence_n01592084': 0.8627666596571605, 'energy': {'cpu': 4.8, 'cuda': 3.6, 'tpu': 4.1}, 'overall_accuracy': 0.84, 'overall_confidence': 0.7648857007832439, 'response_time': {'cpu': {'avg': 0.11196264621338554, 'max': 0.3588166236877441, 'min': 0.0911517143249511}, 'cuda': {'avg': 0.03442102605718974, 'max': 0.0471177101135253, 'min': 0.0297753810882568}, 'tpu': {'avg': 0.020652615634313844, 'max': 0.02827062606811518, 'min': 0.01786522865295408}}, 'throughput': {'cpu': 8.931550243052815, 'cuda': 29.052010196864064, 'tpu': 48.44807370106768}}\n",
      "{'MobileNet': {'explainability': 0, 'host': {'cpu': 1}, 'mlmodel_name': 'MobileNet', 'response_time_range': {'avg': 0.3, 'base_scale': 40, 'max': 0.5, 'min': 0.1, 'noise_scale': 20, 'spike_scale': 3}, 'response_time_sim': 1, 'service_name': 'MobileNet'}}\n",
      "Model 'MobileNet' successfully added to the target YAML.\n"
     ]
    },
    {
     "name": "stderr",
     "output_type": "stream",
     "text": [
      "2024-12-19 18:07:41,542:INFO -- Action: Replacing a model\n"
     ]
    },
    {
     "name": "stdout",
     "output_type": "stream",
     "text": [
      "Model Accuracies: [0.9208015267175572, 0.8218181818181818, 0.71, 0.8816793893129771, 0.9583736689254598, 0.9477832512315271, 0.9456740442655935, 0.9076923076923077, 0.8831578947368421, 0.8914223669923995]\n",
      "Accuracy Reward: 0.8868402631692845\n",
      "STATE: {'ensemble_state': {'total_energy_consumption': 0.017859681623383035, 'ensemble_size': 9}, 'model_states': [[0.9208015267175572, 0.8141492195427418, 2.0739390627366436, 2.5248890024990285, 0.7913564084993518], [0.8218181818181818, 0.6647843555248145, 0.09426920980598333, 0.1964937604702088, 0.6565080694718795], [0.71, 0.6502920323610306, 0.3881096431155094, 0.5163422452602895, 0.7187434548991067], [0.8816793893129771, 0.7479016857844588, 6.904258526280215, 7.288435090373072, 0.9040477857960545], [0.9583736689254598, 0.8393585349560245, 1.1472450445941742, 1.3322012301546087, 0.7955771181209506], [0.9477832512315271, 0.8300071264722665, 3.818922042840114, 4.001362883372639, 0.7932386149913807], [0.9456740442655935, 0.7100001707283304, 7.11990449175622, 7.279399427503429, 0.675762772889924], [0.9076923076923077, 0.8100417438837199, 0.5848388166594668, 0.835027244945422, 0.7961581540413392], [0.8831578947368421, 0.7381381174137718, 0.9938333903375196, 1.1020057401462464, 0.7260470259189605], [0.8914223669923995, 0.7787624997826016, 0.5757381511489476, 0.695257711376081, 0.7569961083828433]], 'input_state': [14, 224, 224]}\n",
      "Worst model: MobileNet with score: 0.84\n",
      "Model 'MobileNet' successfully removed from the target YAML.\n",
      "Best model: MobileNet with score: 0.84\n",
      "{'accuracy_n01440764': 0.8718518518518519, 'accuracy_n01443537': 0.8822222222222222, 'accuracy_n01484850': 0.7807407407407407, 'accuracy_n01491361': 0.7192592592592593, 'accuracy_n01494475': 0.7933333333333333, 'accuracy_n01496331': 0.7022222222222222, 'accuracy_n01498041': 0.7229629629629629, 'accuracy_n01514668': 0.8488888888888889, 'accuracy_n01514859': 0.7792592592592592, 'accuracy_n01518878': 0.9192592592592592, 'accuracy_n01530575': 0.8325925925925926, 'accuracy_n01531178': 0.9177777777777778, 'accuracy_n01532829': 0.8748148148148148, 'accuracy_n01534433': 0.8837037037037037, 'accuracy_n01537544': 0.8970370370370371, 'accuracy_n01558993': 0.8851851851851852, 'accuracy_n01560419': 0.8407407407407408, 'accuracy_n01580077': 0.8881481481481481, 'accuracy_n01582220': 0.8474074074074074, 'accuracy_n01592084': 0.9125925925925926, 'confidence_n01440764': 0.8044017738324625, 'confidence_n01443537': 0.8294662503401439, 'confidence_n01484850': 0.6696429613122233, 'confidence_n01491361': 0.6107286714624476, 'confidence_n01494475': 0.6937759952191953, 'confidence_n01496331': 0.5969136061271032, 'confidence_n01498041': 0.5789870491513499, 'confidence_n01514668': 0.7721535674730937, 'confidence_n01514859': 0.6764461270526604, 'confidence_n01518878': 0.8765193866800379, 'confidence_n01530575': 0.7659375043268557, 'confidence_n01531178': 0.8573051474491755, 'confidence_n01532829': 0.8135966352842472, 'confidence_n01534433': 0.8291853203376134, 'confidence_n01537544': 0.8531961435079575, 'confidence_n01558993': 0.8305690138649058, 'confidence_n01560419': 0.7669931743321595, 'confidence_n01580077': 0.8251968296589675, 'confidence_n01582220': 0.7839321985951176, 'confidence_n01592084': 0.8627666596571605, 'energy': {'cpu': 4.8, 'cuda': 3.6, 'tpu': 4.1}, 'overall_accuracy': 0.84, 'overall_confidence': 0.7648857007832439, 'response_time': {'cpu': {'avg': 0.11196264621338554, 'max': 0.3588166236877441, 'min': 0.0911517143249511}, 'cuda': {'avg': 0.03442102605718974, 'max': 0.0471177101135253, 'min': 0.0297753810882568}, 'tpu': {'avg': 0.020652615634313844, 'max': 0.02827062606811518, 'min': 0.01786522865295408}}, 'throughput': {'cpu': 8.931550243052815, 'cuda': 29.052010196864064, 'tpu': 48.44807370106768}}\n",
      "{'MobileNet': {'explainability': 0, 'host': {'cpu': 1}, 'mlmodel_name': 'MobileNet', 'response_time_range': {'avg': 0.3, 'base_scale': 40, 'max': 0.5, 'min': 0.1, 'noise_scale': 20, 'spike_scale': 3}, 'response_time_sim': 1, 'service_name': 'MobileNet'}}\n",
      "Model 'MobileNet' successfully added to the target YAML.\n"
     ]
    },
    {
     "name": "stderr",
     "output_type": "stream",
     "text": [
      "2024-12-19 18:07:42,111:INFO -- Action: Replacing a model\n"
     ]
    },
    {
     "name": "stdout",
     "output_type": "stream",
     "text": [
      "Model Accuracies: [0.9208770257387988, 0.8218181818181818, 0.71, 0.8817921830314586, 0.9584139264990329, 0.9478346456692913, 0.9457286432160804, 0.9077868852459017, 0.8832807570977917, 0.8915401301518439]\n",
      "Accuracy Reward: 0.8869072378468381\n",
      "STATE: {'ensemble_state': {'total_energy_consumption': 0.017859681623383035, 'ensemble_size': 9}, 'model_states': [[0.9208770257387988, 0.8142306399243121, 2.0739714848464224, 2.5248890024990285, 0.7914595570134707], [0.8218181818181818, 0.6647843555248145, 0.09426920980598333, 0.1964937604702088, 0.6565080694718795], [0.71, 0.6502920323610306, 0.3881096431155094, 0.5163422452602895, 0.7187434548991067], [0.8817921830314586, 0.7478060935673573, 6.904484734344637, 7.288435090373072, 0.9040435068770973], [0.9584139264990329, 0.8392589815695927, 1.147255281885852, 1.3322012301546087, 0.7955199065302972], [0.9478346456692913, 0.8300660954216333, 3.8188997308701342, 4.001362883372639, 0.7933337734205517], [0.9457286432160804, 0.7097465190755662, 7.119915577609091, 7.279399427503429, 0.6755435306822235], [0.9077868852459017, 0.809559078520683, 0.5848482782555228, 0.835027244945422, 0.795689713667895], [0.8832807570977917, 0.7378404196253836, 0.9938489576598121, 1.1020057401462464, 0.7257620422120601], [0.8915401301518439, 0.7787561210078427, 0.5757116275228148, 0.695257711376081, 0.7570133374078672]], 'input_state': [14, 224, 224]}\n",
      "Worst model: MobileNet with score: 0.84\n",
      "Model 'MobileNet' successfully removed from the target YAML.\n",
      "Best model: MobileNet with score: 0.84\n",
      "{'accuracy_n01440764': 0.8718518518518519, 'accuracy_n01443537': 0.8822222222222222, 'accuracy_n01484850': 0.7807407407407407, 'accuracy_n01491361': 0.7192592592592593, 'accuracy_n01494475': 0.7933333333333333, 'accuracy_n01496331': 0.7022222222222222, 'accuracy_n01498041': 0.7229629629629629, 'accuracy_n01514668': 0.8488888888888889, 'accuracy_n01514859': 0.7792592592592592, 'accuracy_n01518878': 0.9192592592592592, 'accuracy_n01530575': 0.8325925925925926, 'accuracy_n01531178': 0.9177777777777778, 'accuracy_n01532829': 0.8748148148148148, 'accuracy_n01534433': 0.8837037037037037, 'accuracy_n01537544': 0.8970370370370371, 'accuracy_n01558993': 0.8851851851851852, 'accuracy_n01560419': 0.8407407407407408, 'accuracy_n01580077': 0.8881481481481481, 'accuracy_n01582220': 0.8474074074074074, 'accuracy_n01592084': 0.9125925925925926, 'confidence_n01440764': 0.8044017738324625, 'confidence_n01443537': 0.8294662503401439, 'confidence_n01484850': 0.6696429613122233, 'confidence_n01491361': 0.6107286714624476, 'confidence_n01494475': 0.6937759952191953, 'confidence_n01496331': 0.5969136061271032, 'confidence_n01498041': 0.5789870491513499, 'confidence_n01514668': 0.7721535674730937, 'confidence_n01514859': 0.6764461270526604, 'confidence_n01518878': 0.8765193866800379, 'confidence_n01530575': 0.7659375043268557, 'confidence_n01531178': 0.8573051474491755, 'confidence_n01532829': 0.8135966352842472, 'confidence_n01534433': 0.8291853203376134, 'confidence_n01537544': 0.8531961435079575, 'confidence_n01558993': 0.8305690138649058, 'confidence_n01560419': 0.7669931743321595, 'confidence_n01580077': 0.8251968296589675, 'confidence_n01582220': 0.7839321985951176, 'confidence_n01592084': 0.8627666596571605, 'energy': {'cpu': 4.8, 'cuda': 3.6, 'tpu': 4.1}, 'overall_accuracy': 0.84, 'overall_confidence': 0.7648857007832439, 'response_time': {'cpu': {'avg': 0.11196264621338554, 'max': 0.3588166236877441, 'min': 0.0911517143249511}, 'cuda': {'avg': 0.03442102605718974, 'max': 0.0471177101135253, 'min': 0.0297753810882568}, 'tpu': {'avg': 0.020652615634313844, 'max': 0.02827062606811518, 'min': 0.01786522865295408}}, 'throughput': {'cpu': 8.931550243052815, 'cuda': 29.052010196864064, 'tpu': 48.44807370106768}}\n",
      "{'MobileNet': {'explainability': 0, 'host': {'cpu': 1}, 'mlmodel_name': 'MobileNet', 'response_time_range': {'avg': 0.3, 'base_scale': 40, 'max': 0.5, 'min': 0.1, 'noise_scale': 20, 'spike_scale': 3}, 'response_time_sim': 1, 'service_name': 'MobileNet'}}\n",
      "Model 'MobileNet' successfully added to the target YAML.\n",
      "Model Accuracies: [0.920952380952381, 0.8218181818181818, 0.71, 0.8819047619047619, 0.9584541062801932, 0.9478859390363815, 0.9457831325301205, 0.9078812691914022, 0.8834033613445378, 0.8916576381365113]\n",
      "Accuracy Reward: 0.8869740771194472\n",
      "STATE: {'ensemble_state': {'total_energy_consumption': 0.017859681623383035, 'ensemble_size': 9}, 'model_states': [[0.920952380952381, 0.8143323416085471, 2.073975737955423, 2.5248890024990285, 0.7915829454433351], [0.8218181818181818, 0.6647843555248145, 0.09426920980598333, 0.1964937604702088, 0.6565080694718795], [0.71, 0.6502920323610306, 0.3881096431155094, 0.5163422452602895, 0.7187434548991067], [0.8819047619047619, 0.7479812881611889, 6.904664771604937, 7.288435090373072, 0.9041345984878995], [0.9584541062801932, 0.83934572186447, 1.1472646776514417, 1.3322012301546087, 0.7956489068010579], [0.9478859390363815, 0.8301394152781957, 3.818942281193913, 4.001362883372639, 0.7934432115878327], [0.9457831325301205, 0.709879710522282, 7.119879092814086, 7.279399427503429, 0.6757110624787319], [0.9078812691914022, 0.8097512808341453, 0.5848840424844881, 0.835027244945422, 0.7958961118512168], [0.8834033613445378, 0.7379084684643424, 0.993855891044672, 1.1020057401462464, 0.7258427784222514], [0.8916576381365113, 0.7789861139148183, 0.5757062823200303, 0.695257711376081, 0.7572668869601298]], 'input_state': [15, 224, 224]}\n",
      "Model Accuracies: [0.9210275927687916, 0.8218181818181818, 0.71, 0.8820171265461465, 0.9584942084942085, 0.9479371316306483, 0.9458375125376128, 0.9079754601226994, 0.8835257082896117, 0.8917748917748918]\n",
      "Accuracy Reward: 0.8870407813982792\n",
      "STATE: {'ensemble_state': {'total_energy_consumption': 0.017859681623383035, 'ensemble_size': 9}, 'model_states': [[0.9210275927687916, 0.8144365185845136, 2.073977894839239, 2.5248890024990285, 0.7917087678961477], [0.8218181818181818, 0.6647843555248145, 0.09426920980598333, 0.1964937604702088, 0.6565080694718795], [0.71, 0.6502920323610306, 0.3881096431155094, 0.5163422452602895, 0.7187434548991067], [0.8820171265461465, 0.7481012983123392, 6.9048848918933095, 7.288435090373072, 0.9042221097635383], [0.9584942084942085, 0.8394454049672859, 1.147259126933489, 1.3322012301546087, 0.7957907682967923], [0.9479371316306483, 0.8302101867606457, 3.8189619158376495, 4.001362883372639, 0.7935500304216486], [0.9458375125376128, 0.7099997993995816, 7.119884480375964, 7.279399427503429, 0.6758654228184623], [0.9079754601226994, 0.8095274112646321, 0.5848911644889133, 0.835027244945422, 0.7956864091211545], [0.8835257082896117, 0.738062656626246, 0.9938574178363154, 1.1020057401462464, 0.7260096273292149], [0.8917748917748918, 0.77913087435486, 0.5756877653729183, 0.695257711376081, 0.7574351530570489]], 'input_state': [14, 224, 224]}\n",
      "Model Accuracies: [0.9211026615969582, 0.8218181818181818, 0.71, 0.8821292775665399, 0.9585342333654774, 0.9479882237487733, 0.9458917835671342, 0.9080694586312564, 0.8836477987421384, 0.8918918918918919]\n",
      "Accuracy Reward: 0.8871073510928351\n",
      "STATE: {'ensemble_state': {'total_energy_consumption': 0.017859681623383035, 'ensemble_size': 9}, 'model_states': [[0.9211026615969582, 0.8145531166359046, 2.0739325633350787, 2.5248890024990285, 0.791846970273288], [0.8218181818181818, 0.6647843555248145, 0.09426920980598333, 0.1964937604702088, 0.6565080694718795], [0.71, 0.6502920323610306, 0.3881096431155094, 0.5163422452602895, 0.7187434548991067], [0.8821292775665399, 0.748289306617898, 6.905109755359832, 7.288435090373072, 0.9043129273750483], [0.9585342333654774, 0.8395198306559137, 1.1472621777606669, 1.3322012301546087, 0.7959072910313896], [0.9479882237487733, 0.830279628240793, 3.818960913352566, 4.001362883372639, 0.7936554485027175], [0.9458917835671342, 0.7101298750701075, 7.119896958385146, 7.279399427503429, 0.6760297012711336], [0.9080694586312564, 0.8097217220877725, 0.5850088433231128, 0.835027244945422, 0.7958948578422963], [0.8836477987421384, 0.7382574491905716, 0.993862980846912, 1.1020057401462464, 0.726217054096158], [0.8918918918918919, 0.7793665792813173, 0.5757672268238465, 0.695257711376081, 0.7576943128173416]], 'input_state': [15, 224, 224]}\n",
      "Model Accuracies: [0.9211775878442545, 0.8218181818181818, 0.71, 0.8822412155745489, 0.9585741811175337, 0.9480392156862745, 0.9459459459459459, 0.9081632653061225, 0.8837696335078534, 0.8920086393088553]\n",
      "Accuracy Reward: 0.8871737866109571\n",
      "STATE: {'ensemble_state': {'total_energy_consumption': 0.017859681623383035, 'ensemble_size': 9}, 'model_states': [[0.9211775878442545, 0.814655096527518, 2.0739385333181795, 2.5248890024990285, 0.7919705134567938], [0.8218181818181818, 0.6647843555248145, 0.09426920980598333, 0.1964937604702088, 0.6565080694718795], [0.71, 0.6502920323610306, 0.3881096431155094, 0.5163422452602895, 0.7187434548991067], [0.8822412155745489, 0.74838672366787, 6.905348649893733, 7.288435090373072, 0.9044002347465707], [0.9585741811175337, 0.8395789533221882, 1.1472601524651587, 1.3322012301546087, 0.7960084296317919], [0.9480392156862745, 0.8303580845687903, 3.818974670201129, 4.001362883372639, 0.7937698108892814], [0.9459459459459459, 0.7102205773910603, 7.119923703205498, 7.279399427503429, 0.6761545379001934], [0.9081632653061225, 0.8098398549520239, 0.58497900486725, 0.835027244945422, 0.7960270997516963], [0.8837696335078534, 0.7383645346027394, 0.9938319694077473, 1.1020057401462464, 0.7263367472518801], [0.8920086393088553, 0.7795237254182412, 0.5757640717445252, 0.695257711376081, 0.7578748631297126]], 'input_state': [13, 224, 224]}\n"
     ]
    },
    {
     "name": "stderr",
     "output_type": "stream",
     "text": [
      "2024-12-19 18:07:44,286:INFO -- Action: Replacing a model\n"
     ]
    },
    {
     "name": "stdout",
     "output_type": "stream",
     "text": [
      "Model Accuracies: [0.9212523719165086, 0.8218181818181818, 0.71, 0.8823529411764706, 0.958614051973051, 0.9480901077375122, 0.946, 0.908256880733945, 0.8838912133891214, 0.8921251348435815]\n",
      "Accuracy Reward: 0.8872400883588373\n",
      "STATE: {'ensemble_state': {'total_energy_consumption': 0.017859681623383035, 'ensemble_size': 9}, 'model_states': [[0.9212523719165086, 0.8147340337454255, 2.0739445895637134, 2.5248890024990285, 0.7920709730495312], [0.8218181818181818, 0.6647843555248145, 0.09426920980598333, 0.1964937604702088, 0.6565080694718795], [0.71, 0.6502920323610306, 0.3881096431155094, 0.5163422452602895, 0.7187434548991067], [0.8823529411764706, 0.7484728660621819, 6.905525308536365, 7.288435090373072, 0.9044852482130225], [0.958614051973051, 0.8396266706295031, 1.1472618694511534, 1.3322012301546087, 0.7960980819955942], [0.9480901077375122, 0.8302509868180016, 3.818946363375335, 4.001362883372639, 0.793698548861979], [0.946, 0.7103347716629506, 7.119883400334573, 7.279399427503429, 0.6763027982115746], [0.908256880733945, 0.8100275864234151, 0.5849519717705026, 0.835027244945422, 0.7962289115036177], [0.8838912133891214, 0.7381086135010341, 0.9938371862829619, 1.1020057401462464, 0.7260934075176966], [0.8921251348435815, 0.7797171424957798, 0.5757517246166373, 0.695257711376081, 0.7580916338882528]], 'input_state': [14, 224, 224]}\n",
      "Worst model: MobileNet with score: 0.84\n",
      "Model 'MobileNet' successfully removed from the target YAML.\n",
      "Best model: MobileNet with score: 0.84\n",
      "{'accuracy_n01440764': 0.8718518518518519, 'accuracy_n01443537': 0.8822222222222222, 'accuracy_n01484850': 0.7807407407407407, 'accuracy_n01491361': 0.7192592592592593, 'accuracy_n01494475': 0.7933333333333333, 'accuracy_n01496331': 0.7022222222222222, 'accuracy_n01498041': 0.7229629629629629, 'accuracy_n01514668': 0.8488888888888889, 'accuracy_n01514859': 0.7792592592592592, 'accuracy_n01518878': 0.9192592592592592, 'accuracy_n01530575': 0.8325925925925926, 'accuracy_n01531178': 0.9177777777777778, 'accuracy_n01532829': 0.8748148148148148, 'accuracy_n01534433': 0.8837037037037037, 'accuracy_n01537544': 0.8970370370370371, 'accuracy_n01558993': 0.8851851851851852, 'accuracy_n01560419': 0.8407407407407408, 'accuracy_n01580077': 0.8881481481481481, 'accuracy_n01582220': 0.8474074074074074, 'accuracy_n01592084': 0.9125925925925926, 'confidence_n01440764': 0.8044017738324625, 'confidence_n01443537': 0.8294662503401439, 'confidence_n01484850': 0.6696429613122233, 'confidence_n01491361': 0.6107286714624476, 'confidence_n01494475': 0.6937759952191953, 'confidence_n01496331': 0.5969136061271032, 'confidence_n01498041': 0.5789870491513499, 'confidence_n01514668': 0.7721535674730937, 'confidence_n01514859': 0.6764461270526604, 'confidence_n01518878': 0.8765193866800379, 'confidence_n01530575': 0.7659375043268557, 'confidence_n01531178': 0.8573051474491755, 'confidence_n01532829': 0.8135966352842472, 'confidence_n01534433': 0.8291853203376134, 'confidence_n01537544': 0.8531961435079575, 'confidence_n01558993': 0.8305690138649058, 'confidence_n01560419': 0.7669931743321595, 'confidence_n01580077': 0.8251968296589675, 'confidence_n01582220': 0.7839321985951176, 'confidence_n01592084': 0.8627666596571605, 'energy': {'cpu': 4.8, 'cuda': 3.6, 'tpu': 4.1}, 'overall_accuracy': 0.84, 'overall_confidence': 0.7648857007832439, 'response_time': {'cpu': {'avg': 0.11196264621338554, 'max': 0.3588166236877441, 'min': 0.0911517143249511}, 'cuda': {'avg': 0.03442102605718974, 'max': 0.0471177101135253, 'min': 0.0297753810882568}, 'tpu': {'avg': 0.020652615634313844, 'max': 0.02827062606811518, 'min': 0.01786522865295408}}, 'throughput': {'cpu': 8.931550243052815, 'cuda': 29.052010196864064, 'tpu': 48.44807370106768}}\n",
      "{'MobileNet': {'explainability': 0, 'host': {'cpu': 1}, 'mlmodel_name': 'MobileNet', 'response_time_range': {'avg': 0.3, 'base_scale': 40, 'max': 0.5, 'min': 0.1, 'noise_scale': 20, 'spike_scale': 3}, 'response_time_sim': 1, 'service_name': 'MobileNet'}}\n",
      "Model 'MobileNet' successfully added to the target YAML.\n"
     ]
    },
    {
     "name": "stderr",
     "output_type": "stream",
     "text": [
      "2024-12-19 18:07:44,863:INFO -- Action: Keeping the ensemble\n"
     ]
    },
    {
     "name": "stdout",
     "output_type": "stream",
     "text": [
      "Model Accuracies: [0.9213270142180094, 0.8218181818181818, 0.71, 0.8824644549763033, 0.9586538461538462, 0.9481409001956947, 0.9460539460539461, 0.9083503054989817, 0.8840125391849529, 0.8922413793103449]\n",
      "Accuracy Reward: 0.887306256741026\n",
      "STATE: {'ensemble_state': {'total_energy_consumption': 0.017859681623383035, 'ensemble_size': 9}, 'model_states': [[0.9213270142180094, 0.8148559415227429, 2.073929370564619, 2.5248890024990285, 0.7922143624009679], [0.8218181818181818, 0.6647843555248145, 0.09426920980598333, 0.1964937604702088, 0.6565080694718795], [0.71, 0.6502920323610306, 0.3881096431155094, 0.5163422452602895, 0.7187434548991067], [0.8824644549763033, 0.7486354599970394, 6.905761258966181, 7.288435090373072, 0.9045741032367633], [0.9586538461538462, 0.8396967723392523, 1.1472621386592359, 1.3322012301546087, 0.7962100381174912], [0.9481409001956947, 0.8303417421717, 3.8189376713877574, 4.001362883372639, 0.7938250698105463], [0.9460539460539461, 0.7103133076256686, 7.11990620275387, 7.279399427503429, 0.6763153321497686], [0.9083503054989817, 0.8101995577333901, 0.5849454761807044, 0.835027244945422, 0.7964149344173809], [0.8840125391849529, 0.7382905625873474, 0.9938358798785677, 1.1020057401462464, 0.7262879116781826], [0.8922413793103449, 0.7799217453354905, 0.5757673939983167, 0.695257711376081, 0.7583195400777561]], 'input_state': [14, 224, 224]}\n"
     ]
    },
    {
     "name": "stderr",
     "output_type": "stream",
     "text": [
      "2024-12-19 18:07:45,285:INFO -- Action: Replacing a model\n"
     ]
    },
    {
     "name": "stdout",
     "output_type": "stream",
     "text": [
      "Model Accuracies: [0.9214015151515151, 0.8218181818181818, 0.71, 0.8825757575757576, 0.9586935638808838, 0.9481915933528837, 0.9461077844311377, 0.9084435401831129, 0.8830897703549061, 0.8923573735199138]\n",
      "Accuracy Reward: 0.8872679080268293\n",
      "STATE: {'ensemble_state': {'total_energy_consumption': 0.017859681623383035, 'ensemble_size': 9}, 'model_states': [[0.9214015151515151, 0.8148878984096827, 2.073939164039876, 2.5248890024990285, 0.7922677601772276], [0.8218181818181818, 0.6647843555248145, 0.09426920980598333, 0.1964937604702088, 0.6565080694718795], [0.71, 0.6502920323610306, 0.3881096431155094, 0.5163422452602895, 0.7187434548991067], [0.8825757575757576, 0.7485923095500052, 6.905982798403176, 7.288435090373072, 0.904566673759484], [0.9586935638808838, 0.839697945186659, 1.147277446561381, 1.3322012301546087, 0.796252984965111], [0.9481915933528837, 0.8304066364366638, 3.8189497668306855, 4.001362883372639, 0.7939256597474174], [0.9461077844311377, 0.7100518917490146, 7.119917229895949, 7.279399427503429, 0.67608784638836], [0.9084435401831129, 0.8102462112539782, 0.5850410688472581, 0.835027244945422, 0.7964756109525325], [0.8830897703549061, 0.7375199043800538, 0.99384113330876, 1.1020057401462464, 0.725529782334051], [0.8923573735199138, 0.7796501981493474, 0.5757695857565878, 0.695257711376081, 0.7580712460727301]], 'input_state': [15, 224, 224]}\n",
      "Worst model: MobileNet with score: 0.84\n",
      "Model 'MobileNet' successfully removed from the target YAML.\n",
      "Best model: MobileNet with score: 0.84\n",
      "{'accuracy_n01440764': 0.8718518518518519, 'accuracy_n01443537': 0.8822222222222222, 'accuracy_n01484850': 0.7807407407407407, 'accuracy_n01491361': 0.7192592592592593, 'accuracy_n01494475': 0.7933333333333333, 'accuracy_n01496331': 0.7022222222222222, 'accuracy_n01498041': 0.7229629629629629, 'accuracy_n01514668': 0.8488888888888889, 'accuracy_n01514859': 0.7792592592592592, 'accuracy_n01518878': 0.9192592592592592, 'accuracy_n01530575': 0.8325925925925926, 'accuracy_n01531178': 0.9177777777777778, 'accuracy_n01532829': 0.8748148148148148, 'accuracy_n01534433': 0.8837037037037037, 'accuracy_n01537544': 0.8970370370370371, 'accuracy_n01558993': 0.8851851851851852, 'accuracy_n01560419': 0.8407407407407408, 'accuracy_n01580077': 0.8881481481481481, 'accuracy_n01582220': 0.8474074074074074, 'accuracy_n01592084': 0.9125925925925926, 'confidence_n01440764': 0.8044017738324625, 'confidence_n01443537': 0.8294662503401439, 'confidence_n01484850': 0.6696429613122233, 'confidence_n01491361': 0.6107286714624476, 'confidence_n01494475': 0.6937759952191953, 'confidence_n01496331': 0.5969136061271032, 'confidence_n01498041': 0.5789870491513499, 'confidence_n01514668': 0.7721535674730937, 'confidence_n01514859': 0.6764461270526604, 'confidence_n01518878': 0.8765193866800379, 'confidence_n01530575': 0.7659375043268557, 'confidence_n01531178': 0.8573051474491755, 'confidence_n01532829': 0.8135966352842472, 'confidence_n01534433': 0.8291853203376134, 'confidence_n01537544': 0.8531961435079575, 'confidence_n01558993': 0.8305690138649058, 'confidence_n01560419': 0.7669931743321595, 'confidence_n01580077': 0.8251968296589675, 'confidence_n01582220': 0.7839321985951176, 'confidence_n01592084': 0.8627666596571605, 'energy': {'cpu': 4.8, 'cuda': 3.6, 'tpu': 4.1}, 'overall_accuracy': 0.84, 'overall_confidence': 0.7648857007832439, 'response_time': {'cpu': {'avg': 0.11196264621338554, 'max': 0.3588166236877441, 'min': 0.0911517143249511}, 'cuda': {'avg': 0.03442102605718974, 'max': 0.0471177101135253, 'min': 0.0297753810882568}, 'tpu': {'avg': 0.020652615634313844, 'max': 0.02827062606811518, 'min': 0.01786522865295408}}, 'throughput': {'cpu': 8.931550243052815, 'cuda': 29.052010196864064, 'tpu': 48.44807370106768}}\n",
      "{'MobileNet': {'explainability': 0, 'host': {'cpu': 1}, 'mlmodel_name': 'MobileNet', 'response_time_range': {'avg': 0.3, 'base_scale': 40, 'max': 0.5, 'min': 0.1, 'noise_scale': 20, 'spike_scale': 3}, 'response_time_sim': 1, 'service_name': 'MobileNet'}}\n",
      "Model 'MobileNet' successfully added to the target YAML.\n"
     ]
    },
    {
     "name": "stderr",
     "output_type": "stream",
     "text": [
      "2024-12-19 18:07:45,984:INFO -- Action: Adding a model\n"
     ]
    },
    {
     "name": "stdout",
     "output_type": "stream",
     "text": [
      "Model Accuracies: [0.9214758751182592, 0.8218181818181818, 0.71, 0.8817407757805109, 0.9587332053742802, 0.9482421875, 0.9461615154536391, 0.907520325203252, 0.8832116788321168, 0.8924731182795699]\n",
      "Accuracy Reward: 0.887137686335981\n",
      "STATE: {'ensemble_state': {'total_energy_consumption': 0.017859681623383035, 'ensemble_size': 9}, 'model_states': [[0.9214758751182592, 0.8147605289630204, 2.0739687284136856, 2.5248890024990285, 0.7915182164116862], [0.8218181818181818, 0.6647843555248145, 0.09426920980598333, 0.1964937604702088, 0.6565080694718795], [0.71, 0.6502920323610306, 0.3881096431155094, 0.5163422452602895, 0.7187434548991067], [0.8817407757805109, 0.7478840859837328, 6.9061957811868675, 7.288435090373072, 0.9037108869347351], [0.9587332053742802, 0.839734058062083, 1.1472933663415448, 1.3322012301546087, 0.7954888266302116], [0.9482421875, 0.8303174155880697, 3.8189629665407896, 4.001362883372639, 0.7931503417203203], [0.9461615154536391, 0.7100329648699623, 7.119918476117071, 7.279399427503429, 0.6754137807389199], [0.907520325203252, 0.8094227903075819, 0.5850670184118884, 0.835027244945422, 0.7956661845186377], [0.8832116788321168, 0.737200264885975, 0.9938155899267975, 1.1020057401462464, 0.7247732340730144], [0.8924731182795699, 0.7791947825301078, 0.575756372805732, 0.695257711376081, 0.7572561157006089]], 'input_state': [15, 224, 224]}\n",
      "Best model: ResNet50 with score: 0.8398350777037742\n",
      "{'accuracy_n01440764': 0.8690763052208835, 'accuracy_n01443537': 0.8682730923694779, 'accuracy_n01484850': 0.816967792615868, 'accuracy_n01491361': 0.5202863961813843, 'accuracy_n01494475': 0.8158871566443949, 'accuracy_n01496331': 0.7203525641025641, 'accuracy_n01498041': 0.6927374301675978, 'accuracy_n01514668': 0.8480194017784963, 'accuracy_n01514859': 0.8041795665634675, 'accuracy_n01518878': 0.9573612228479486, 'accuracy_n01530575': 0.8473895582329317, 'accuracy_n01531178': 0.9228295819935691, 'accuracy_n01532829': 0.9069767441860465, 'accuracy_n01534433': 0.8819277108433735, 'accuracy_n01537544': 0.9167333867093675, 'accuracy_n01558993': 0.9272, 'accuracy_n01560419': 0.823949246629659, 'accuracy_n01580077': 0.885691446842526, 'accuracy_n01582220': 0.8822222222222222, 'accuracy_n01592084': 0.892914653784219, 'confidence_n01440764': 0.8209096902584934, 'confidence_n01443537': 0.8208902307782308, 'confidence_n01484850': 0.7370351771622873, 'confidence_n01491361': 0.4292419925272797, 'confidence_n01494475': 0.7420243989695596, 'confidence_n01496331': 0.6235693876321117, 'confidence_n01498041': 0.5818021364765745, 'confidence_n01514668': 0.7616980219908848, 'confidence_n01514859': 0.7007494070581607, 'confidence_n01518878': 0.926416075383092, 'confidence_n01530575': 0.8009073819261957, 'confidence_n01531178': 0.8770688988771469, 'confidence_n01532829': 0.8605496810260733, 'confidence_n01534433': 0.8363869809960744, 'confidence_n01537544': 0.8724744984920355, 'confidence_n01558993': 0.8921689900159836, 'confidence_n01560419': 0.7427067844807204, 'confidence_n01580077': 0.8444573708670697, 'confidence_n01582220': 0.8231162259313796, 'confidence_n01592084': 0.8439570041238398, 'energy': {'cpu': 5.5, 'cuda': 7.9, 'tpu': 4.6}, 'overall_accuracy': 0.8398350777037742, 'overall_confidence': 0.7765461756486554, 'response_time': {'cpu': {'avg': 0.4119657963514328, 'max': 0.6360375881195068, 'min': 0.3547177314758301}, 'cuda': {'avg': 0.27835446695106086, 'max': 0.2921502590179443, 'min': 0.2722315788269043}, 'tpu': {'avg': 0.2226835735608487, 'max': 0.23372020721435544, 'min': 0.21778526306152343}}, 'throughput': {'cpu': 2.427385984119266, 'cuda': 3.59254159257238, 'tpu': 4.491366366366366}}\n",
      "{'ResNet50': {'explainability': 0, 'host': {'cpu': 1}, 'mlmodel_name': 'ResNet50', 'response_time_range': {'avg': 0.3, 'base_scale': 40, 'max': 0.5, 'min': 0.1, 'noise_scale': 20, 'spike_scale': 3}, 'response_time_sim': 1, 'service_name': 'ResNet50'}}\n",
      "Model 'ResNet50' successfully added to the target YAML.\n",
      "Model Accuracies: [0.9215500945179584, 0.8218181818181818, 0.71, 0.8818525519848771, 0.9587727708533078, 0.9482926829268292, 0.9462151394422311, 0.9076142131979695, 0.8833333333333333, 0.8925886143931256]\n",
      "Accuracy Reward: 0.8872037582467815\n",
      "STATE: {'ensemble_state': {'total_energy_consumption': 0.018470515036970083, 'ensemble_size': 10}, 'model_states': [[0.9215500945179584, 0.814660901636843, 2.0739821444315334, 2.5248890024990285, 0.7914405572448201], [0.8218181818181818, 0.6647843555248145, 0.09426920980598333, 0.1964937604702088, 0.6565080694718795], [0.71, 0.6502920323610306, 0.3881096431155094, 0.5163422452602895, 0.7187434548991067], [0.8818525519848771, 0.7479849202906602, 6.906387470859923, 7.288435090373072, 0.903787375989393], [0.9587727708533078, 0.8397953591433605, 1.1472906636724538, 1.3322012301546087, 0.795592548834626], [0.9482926829268292, 0.8303695290263107, 3.8189824754298933, 4.001362883372639, 0.7932387157184322], [0.9462151394422311, 0.7098290009565087, 7.119896110684729, 7.279399427503429, 0.6752442980845611], [0.9076142131979695, 0.8096006720501759, 0.5850542355224779, 0.835027244945422, 0.7958580323584794], [0.8833333333333333, 0.7372178630903363, 0.9938127605171918, 1.1020057401462464, 0.7248037771011392], [0.8925886143931256, 0.779347034677399, 0.5757766660816773, 0.695257711376081, 0.7574319324739254]], 'input_state': [15, 224, 224]}\n"
     ]
    },
    {
     "name": "stderr",
     "output_type": "stream",
     "text": [
      "2024-12-19 18:07:46,854:INFO -- Action: Keeping the ensemble\n"
     ]
    },
    {
     "name": "stdout",
     "output_type": "stream",
     "text": [
      "Model Accuracies: [0.9216241737488197, 0.8218181818181818, 0.71, 0.8819641170915958, 0.9588122605363985, 0.9483430799220273, 0.9462686567164179, 0.907707910750507, 0.8834547346514048, 0.8927038626609443]\n",
      "Accuracy Reward: 0.8872696977896297\n",
      "STATE: {'ensemble_state': {'total_energy_consumption': 0.018470515036970083, 'ensemble_size': 10}, 'model_states': [[0.9216241737488197, 0.8147122773559056, 2.0740549353484834, 2.5248890024990285, 0.7915138596346966], [0.8218181818181818, 0.6647843555248145, 0.09426920980598333, 0.1964937604702088, 0.6565080694718795], [0.71, 0.6502920323610306, 0.3881096431155094, 0.5163422452602895, 0.7187434548991067], [0.8819641170915958, 0.748151045686565, 6.906603743371494, 7.288435090373072, 0.9038741129597366], [0.9588122605363985, 0.8398591173791338, 1.14727525980079, 1.3322012301546087, 0.7956986469270169], [0.9483430799220273, 0.8304135923729538, 3.818961645137383, 4.001362883372639, 0.7933189689415937], [0.9462686567164179, 0.709926718799629, 7.119901941687203, 7.279399427503429, 0.6753764285673549], [0.907707910750507, 0.8097605799262471, 0.5850908466434542, 0.835027244945422, 0.7960318780030005], [0.8834547346514048, 0.7374141310553893, 0.9938138589751331, 1.1020057401462464, 0.7250129629496357], [0.8927038626609443, 0.7795503633536495, 0.5757539543847509, 0.695257711376081, 0.757658775208334]], 'input_state': [15, 224, 224]}\n"
     ]
    },
    {
     "name": "stderr",
     "output_type": "stream",
     "text": [
      "2024-12-19 18:07:47,395:INFO -- Action: Adding a model\n"
     ]
    },
    {
     "name": "stdout",
     "output_type": "stream",
     "text": [
      "Model Accuracies: [0.9216981132075471, 0.8218181818181818, 0.71, 0.8820754716981132, 0.9588516746411483, 0.9483933787731256, 0.9463220675944334, 0.9078014184397163, 0.8835758835758836, 0.8928188638799571]\n",
      "Accuracy Reward: 0.8873355053628107\n",
      "STATE: {'ensemble_state': {'total_energy_consumption': 0.018470515036970083, 'ensemble_size': 10}, 'model_states': [[0.9216981132075471, 0.814784791756351, 2.0740665861602503, 2.5248890024990285, 0.7916082593348791], [0.8218181818181818, 0.6647843555248145, 0.09426920980598333, 0.1964937604702088, 0.6565080694718795], [0.71, 0.6502920323610306, 0.3881096431155094, 0.5163422452602895, 0.7187434548991067], [0.8820754716981132, 0.7481721655721834, 6.9068082740061145, 7.288435090373072, 0.9039496092582648], [0.9588516746411483, 0.8399218070450012, 1.1472821855507256, 1.3322012301546087, 0.7958035954162835], [0.9483933787731256, 0.8304746404594897, 3.81899659210682, 4.001362883372639, 0.7934161364277706], [0.9463220675944334, 0.7095644663923066, 7.119895271782607, 7.279399427503429, 0.6750485203849156], [0.9078014184397163, 0.8097545156423324, 0.5850860435987248, 0.835027244945422, 0.7960397232448438], [0.8835758835758836, 0.7375061386836046, 0.9938091254157274, 1.1020057401462464, 0.7251178616049879], [0.8928188638799571, 0.7791321906565598, 0.5757980709986962, 0.695257711376081, 0.7572640661641332]], 'input_state': [14, 224, 224]}\n",
      "Best model: NASNetMobile with score: 0.8327037037037037\n",
      "{'accuracy_n01440764': 0.8577777777777778, 'accuracy_n01443537': 0.8977777777777778, 'accuracy_n01484850': 0.6851851851851852, 'accuracy_n01491361': 0.7288888888888889, 'accuracy_n01494475': 0.7948148148148149, 'accuracy_n01496331': 0.7407407407407407, 'accuracy_n01498041': 0.6696296296296296, 'accuracy_n01514668': 0.8007407407407408, 'accuracy_n01514859': 0.794074074074074, 'accuracy_n01518878': 0.9348148148148148, 'accuracy_n01530575': 0.8348148148148148, 'accuracy_n01531178': 0.9096296296296297, 'accuracy_n01532829': 0.8777777777777778, 'accuracy_n01534433': 0.8822222222222222, 'accuracy_n01537544': 0.9192592592592592, 'accuracy_n01558993': 0.8688888888888889, 'accuracy_n01560419': 0.8422222222222222, 'accuracy_n01580077': 0.8911111111111111, 'accuracy_n01582220': 0.8125925925925926, 'accuracy_n01592084': 0.9111111111111111, 'confidence_n01440764': 0.7400275992464136, 'confidence_n01443537': 0.7893899715829779, 'confidence_n01484850': 0.5374918138318592, 'confidence_n01491361': 0.5925062816672855, 'confidence_n01494475': 0.661245142199375, 'confidence_n01496331': 0.6141365513315907, 'confidence_n01498041': 0.5080547851324081, 'confidence_n01514668': 0.6518928346810517, 'confidence_n01514859': 0.6481938755732995, 'confidence_n01518878': 0.8381041952415749, 'confidence_n01530575': 0.7350619866229869, 'confidence_n01531178': 0.8095578954837941, 'confidence_n01532829': 0.7781342529809033, 'confidence_n01534433': 0.7860421341878396, 'confidence_n01537544': 0.8282265088072529, 'confidence_n01558993': 0.7677711412862495, 'confidence_n01560419': 0.7366915006770028, 'confidence_n01580077': 0.7950119889003259, 'confidence_n01582220': 0.7227106479141447, 'confidence_n01592084': 0.8159024135713224, 'energy': {'cpu': 5.2, 'cuda': 4.3, 'tpu': 4.4}, 'overall_accuracy': 0.8327037037037037, 'overall_confidence': 0.717807676045983, 'response_time': {'cpu': {'avg': 0.2482919055102582, 'max': 0.446000337600708, 'min': 0.2130575180053711}, 'cuda': {'avg': 0.07240368858834163, 'max': 0.2449533939361572, 'min': 0.058558702468872}, 'tpu': {'avg': 0.05068258101183914, 'max': 0.17146737575531004, 'min': 0.0351352214813232}}, 'throughput': {'cpu': 4.0275175219463, 'cuda': 13.811451039264027, 'tpu': 19.6860735790736}}\n",
      "{'NASNetMobile': {'explainability': 0, 'host': {'cpu': 1}, 'mlmodel_name': 'NASNetMobile', 'response_time_range': {'avg': 0.3, 'base_scale': 40, 'max': 0.5, 'min': 0.1, 'noise_scale': 20, 'spike_scale': 3}, 'response_time_sim': 1, 'service_name': 'NASNetMobile'}}\n",
      "Model 'NASNetMobile' successfully added to the target YAML.\n",
      "Model Accuracies: [0.9217719132893497, 0.8218181818181818, 0.71, 0.882186616399623, 0.9588910133843213, 0.9484435797665369, 0.9463753723932473, 0.9078947368421053, 0.8836967808930426, 0.892933618843683]\n",
      "Accuracy Reward: 0.887401181363009\n",
      "STATE: {'ensemble_state': {'total_energy_consumption': 0.018556997220561713, 'ensemble_size': 11}, 'model_states': [[0.9217719132893497, 0.8148770941584657, 2.0740881089620795, 2.5248890024990285, 0.7917224057826313], [0.8218181818181818, 0.6647843555248145, 0.09426920980598333, 0.1964937604702088, 0.6565080694718795], [0.71, 0.6502920323610306, 0.3881096431155094, 0.5163422452602895, 0.7187434548991067], [0.882186616399623, 0.7483188272550577, 6.9069989164788135, 7.288435090373072, 0.9040373380907744], [0.9588910133843213, 0.8399864299575411, 1.1473081720547893, 1.3322012301546087, 0.7959103963514131], [0.9484435797665369, 0.8305279376557829, 3.8189862160536547, 4.001362883372639, 0.7935054827524994], [0.9463753723932473, 0.7096935114356233, 7.119874215270865, 7.279399427503429, 0.6752118414421423], [0.9078947368421053, 0.8099191034069428, 0.5850805576218412, 0.835027244945422, 0.7962181923782777], [0.8836967808930426, 0.7376407938211507, 0.9937921014595658, 1.1020057401462464, 0.725265380997029], [0.892933618843683, 0.7793502555860953, 0.575808575946436, 0.695257711376081, 0.7575055445031895]], 'input_state': [14, 224, 224]}\n"
     ]
    },
    {
     "name": "stderr",
     "output_type": "stream",
     "text": [
      "2024-12-19 18:07:48,398:INFO -- Action: Replacing a model\n"
     ]
    },
    {
     "name": "stdout",
     "output_type": "stream",
     "text": [
      "Model Accuracies: [0.9218455743879472, 0.8218181818181818, 0.71, 0.8822975517890772, 0.958930276981853, 0.9484936831875608, 0.9464285714285714, 0.9079878665318504, 0.8838174273858921, 0.893048128342246]\n",
      "Accuracy Reward: 0.887466726185318\n",
      "STATE: {'ensemble_state': {'total_energy_consumption': 0.018556997220561713, 'ensemble_size': 11}, 'model_states': [[0.9218455743879472, 0.8149709926879564, 2.0740752243769, 2.5248890024990285, 0.7918381072201971], [0.8218181818181818, 0.6647843555248145, 0.09426920980598333, 0.1964937604702088, 0.6565080694718795], [0.71, 0.6502920323610306, 0.3881096431155094, 0.5163422452602895, 0.7187434548991067], [0.8822975517890772, 0.7484972564806436, 6.907197398915765, 7.288435090373072, 0.9041276024391423], [0.958930276981853, 0.8400405684651482, 1.1472829434461518, 1.3322012301546087, 0.796006632312321], [0.9484936831875608, 0.8305664085090682, 3.81897779768301, 4.001362883372639, 0.7935799326678871], [0.9464285714285714, 0.709828064939569, 7.119861796202502, 7.279399427503429, 0.6753806029520337], [0.9079878665318504, 0.8101104239060254, 0.5850524902628704, 0.835027244945422, 0.7964233661746593], [0.8838174273858921, 0.7377935345613116, 0.9937883028799223, 1.1020057401462464, 0.7254309593023601], [0.893048128342246, 0.7795785964810275, 0.5759349038960562, 0.695257711376081, 0.7577572487254831]], 'input_state': [15, 224, 224]}\n",
      "Worst model: NASNetMobile with score: 0.8327037037037037\n",
      "Model 'NASNetMobile' successfully removed from the target YAML.\n",
      "Best model: NASNetMobile with score: 0.8327037037037037\n",
      "{'accuracy_n01440764': 0.8577777777777778, 'accuracy_n01443537': 0.8977777777777778, 'accuracy_n01484850': 0.6851851851851852, 'accuracy_n01491361': 0.7288888888888889, 'accuracy_n01494475': 0.7948148148148149, 'accuracy_n01496331': 0.7407407407407407, 'accuracy_n01498041': 0.6696296296296296, 'accuracy_n01514668': 0.8007407407407408, 'accuracy_n01514859': 0.794074074074074, 'accuracy_n01518878': 0.9348148148148148, 'accuracy_n01530575': 0.8348148148148148, 'accuracy_n01531178': 0.9096296296296297, 'accuracy_n01532829': 0.8777777777777778, 'accuracy_n01534433': 0.8822222222222222, 'accuracy_n01537544': 0.9192592592592592, 'accuracy_n01558993': 0.8688888888888889, 'accuracy_n01560419': 0.8422222222222222, 'accuracy_n01580077': 0.8911111111111111, 'accuracy_n01582220': 0.8125925925925926, 'accuracy_n01592084': 0.9111111111111111, 'confidence_n01440764': 0.7400275992464136, 'confidence_n01443537': 0.7893899715829779, 'confidence_n01484850': 0.5374918138318592, 'confidence_n01491361': 0.5925062816672855, 'confidence_n01494475': 0.661245142199375, 'confidence_n01496331': 0.6141365513315907, 'confidence_n01498041': 0.5080547851324081, 'confidence_n01514668': 0.6518928346810517, 'confidence_n01514859': 0.6481938755732995, 'confidence_n01518878': 0.8381041952415749, 'confidence_n01530575': 0.7350619866229869, 'confidence_n01531178': 0.8095578954837941, 'confidence_n01532829': 0.7781342529809033, 'confidence_n01534433': 0.7860421341878396, 'confidence_n01537544': 0.8282265088072529, 'confidence_n01558993': 0.7677711412862495, 'confidence_n01560419': 0.7366915006770028, 'confidence_n01580077': 0.7950119889003259, 'confidence_n01582220': 0.7227106479141447, 'confidence_n01592084': 0.8159024135713224, 'energy': {'cpu': 5.2, 'cuda': 4.3, 'tpu': 4.4}, 'overall_accuracy': 0.8327037037037037, 'overall_confidence': 0.717807676045983, 'response_time': {'cpu': {'avg': 0.2482919055102582, 'max': 0.446000337600708, 'min': 0.2130575180053711}, 'cuda': {'avg': 0.07240368858834163, 'max': 0.2449533939361572, 'min': 0.058558702468872}, 'tpu': {'avg': 0.05068258101183914, 'max': 0.17146737575531004, 'min': 0.0351352214813232}}, 'throughput': {'cpu': 4.0275175219463, 'cuda': 13.811451039264027, 'tpu': 19.6860735790736}}\n",
      "{'NASNetMobile': {'explainability': 0, 'host': {'cpu': 1}, 'mlmodel_name': 'NASNetMobile', 'response_time_range': {'avg': 0.3, 'base_scale': 40, 'max': 0.5, 'min': 0.1, 'noise_scale': 20, 'spike_scale': 3}, 'response_time_sim': 1, 'service_name': 'NASNetMobile'}}\n",
      "Model 'NASNetMobile' successfully added to the target YAML.\n"
     ]
    },
    {
     "name": "stderr",
     "output_type": "stream",
     "text": [
      "2024-12-19 18:07:49,074:INFO -- Action: Replacing a model\n"
     ]
    },
    {
     "name": "stdout",
     "output_type": "stream",
     "text": [
      "Model Accuracies: [0.9219190968955786, 0.8218181818181818, 0.71, 0.8824082784571966, 0.958969465648855, 0.9485436893203884, 0.9464816650148662, 0.908080808080808, 0.883937823834197, 0.8931623931623932]\n",
      "Accuracy Reward: 0.8875321402232466\n",
      "STATE: {'ensemble_state': {'total_energy_consumption': 0.018556997220561713, 'ensemble_size': 11}, 'model_states': [[0.9219190968955786, 0.8150681553028265, 2.074107174636045, 2.5248890024990285, 0.7919570317216785], [0.8218181818181818, 0.6647843555248145, 0.09426920980598333, 0.1964937604702088, 0.6565080694718795], [0.71, 0.6502920323610306, 0.3881096431155094, 0.5163422452602895, 0.7187434548991067], [0.8824082784571966, 0.7485113805246999, 6.907433319952965, 7.288435090373072, 0.9041408924201919], [0.958969465648855, 0.8400055601169135, 1.1472455766297291, 1.3322012301546087, 0.7960136410787361], [0.9485436893203884, 0.830633903070561, 3.81895590265309, 4.001362883372639, 0.7936833364292256], [0.9464816650148662, 0.709754074972614, 7.119888861116841, 7.279399427503429, 0.6753407531852647], [0.908080808080808, 0.8100583958204346, 0.5850723477503463, 0.835027244945422, 0.7963851633999083], [0.883937823834197, 0.7378864051146828, 0.9937922624815225, 1.1020057401462464, 0.7255366408145489], [0.8931623931623932, 0.779283941269685, 0.5759188352037637, 0.695257711376081, 0.7574859069198625]], 'input_state': [15, 224, 224]}\n"
     ]
    },
    {
     "ename": "KeyboardInterrupt",
     "evalue": "",
     "output_type": "error",
     "traceback": [
      "\u001b[1;31m---------------------------------------------------------------------------\u001b[0m",
      "\u001b[1;31mIndexError\u001b[0m                                Traceback (most recent call last)",
      "File \u001b[1;32mc:\\Users\\Filippo\\anaconda3\\Lib\\site-packages\\yaml\\reader.py:89\u001b[0m, in \u001b[0;36mReader.peek\u001b[1;34m(self, index)\u001b[0m\n\u001b[0;32m     88\u001b[0m \u001b[38;5;28;01mtry\u001b[39;00m:\n\u001b[1;32m---> 89\u001b[0m     \u001b[38;5;28;01mreturn\u001b[39;00m \u001b[38;5;28;43mself\u001b[39;49m\u001b[38;5;241;43m.\u001b[39;49m\u001b[43mbuffer\u001b[49m\u001b[43m[\u001b[49m\u001b[38;5;28;43mself\u001b[39;49m\u001b[38;5;241;43m.\u001b[39;49m\u001b[43mpointer\u001b[49m\u001b[38;5;241;43m+\u001b[39;49m\u001b[43mindex\u001b[49m\u001b[43m]\u001b[49m\n\u001b[0;32m     90\u001b[0m \u001b[38;5;28;01mexcept\u001b[39;00m \u001b[38;5;167;01mIndexError\u001b[39;00m:\n",
      "\u001b[1;31mIndexError\u001b[0m: string index out of range",
      "\nDuring handling of the above exception, another exception occurred:\n",
      "\u001b[1;31mKeyboardInterrupt\u001b[0m                         Traceback (most recent call last)",
      "Cell \u001b[1;32mIn[38], line 9\u001b[0m\n\u001b[0;32m      7\u001b[0m \u001b[38;5;66;03m# Train the agent\u001b[39;00m\n\u001b[0;32m      8\u001b[0m model \u001b[38;5;241m=\u001b[39m PPO(\u001b[38;5;124m\"\u001b[39m\u001b[38;5;124mMlpPolicy\u001b[39m\u001b[38;5;124m\"\u001b[39m, env, verbose\u001b[38;5;241m=\u001b[39m\u001b[38;5;241m1\u001b[39m)\n\u001b[1;32m----> 9\u001b[0m \u001b[43mmodel\u001b[49m\u001b[38;5;241;43m.\u001b[39;49m\u001b[43mlearn\u001b[49m\u001b[43m(\u001b[49m\u001b[43mtotal_timesteps\u001b[49m\u001b[38;5;241;43m=\u001b[39;49m\u001b[38;5;241;43m1\u001b[39;49m\u001b[43m)\u001b[49m\n\u001b[0;32m     11\u001b[0m \u001b[38;5;66;03m# Save the trained model\u001b[39;00m\n\u001b[0;32m     12\u001b[0m model\u001b[38;5;241m.\u001b[39msave(\u001b[38;5;124m\"\u001b[39m\u001b[38;5;124msimulation_policy\u001b[39m\u001b[38;5;124m\"\u001b[39m)\n",
      "File \u001b[1;32mc:\\Users\\Filippo\\anaconda3\\Lib\\site-packages\\stable_baselines3\\ppo\\ppo.py:311\u001b[0m, in \u001b[0;36mPPO.learn\u001b[1;34m(self, total_timesteps, callback, log_interval, tb_log_name, reset_num_timesteps, progress_bar)\u001b[0m\n\u001b[0;32m    302\u001b[0m \u001b[38;5;28;01mdef\u001b[39;00m \u001b[38;5;21mlearn\u001b[39m(\n\u001b[0;32m    303\u001b[0m     \u001b[38;5;28mself\u001b[39m: SelfPPO,\n\u001b[0;32m    304\u001b[0m     total_timesteps: \u001b[38;5;28mint\u001b[39m,\n\u001b[1;32m   (...)\u001b[0m\n\u001b[0;32m    309\u001b[0m     progress_bar: \u001b[38;5;28mbool\u001b[39m \u001b[38;5;241m=\u001b[39m \u001b[38;5;28;01mFalse\u001b[39;00m,\n\u001b[0;32m    310\u001b[0m ) \u001b[38;5;241m-\u001b[39m\u001b[38;5;241m>\u001b[39m SelfPPO:\n\u001b[1;32m--> 311\u001b[0m     \u001b[38;5;28;01mreturn\u001b[39;00m \u001b[38;5;28;43msuper\u001b[39;49m\u001b[43m(\u001b[49m\u001b[43m)\u001b[49m\u001b[38;5;241;43m.\u001b[39;49m\u001b[43mlearn\u001b[49m\u001b[43m(\u001b[49m\n\u001b[0;32m    312\u001b[0m \u001b[43m        \u001b[49m\u001b[43mtotal_timesteps\u001b[49m\u001b[38;5;241;43m=\u001b[39;49m\u001b[43mtotal_timesteps\u001b[49m\u001b[43m,\u001b[49m\n\u001b[0;32m    313\u001b[0m \u001b[43m        \u001b[49m\u001b[43mcallback\u001b[49m\u001b[38;5;241;43m=\u001b[39;49m\u001b[43mcallback\u001b[49m\u001b[43m,\u001b[49m\n\u001b[0;32m    314\u001b[0m \u001b[43m        \u001b[49m\u001b[43mlog_interval\u001b[49m\u001b[38;5;241;43m=\u001b[39;49m\u001b[43mlog_interval\u001b[49m\u001b[43m,\u001b[49m\n\u001b[0;32m    315\u001b[0m \u001b[43m        \u001b[49m\u001b[43mtb_log_name\u001b[49m\u001b[38;5;241;43m=\u001b[39;49m\u001b[43mtb_log_name\u001b[49m\u001b[43m,\u001b[49m\n\u001b[0;32m    316\u001b[0m \u001b[43m        \u001b[49m\u001b[43mreset_num_timesteps\u001b[49m\u001b[38;5;241;43m=\u001b[39;49m\u001b[43mreset_num_timesteps\u001b[49m\u001b[43m,\u001b[49m\n\u001b[0;32m    317\u001b[0m \u001b[43m        \u001b[49m\u001b[43mprogress_bar\u001b[49m\u001b[38;5;241;43m=\u001b[39;49m\u001b[43mprogress_bar\u001b[49m\u001b[43m,\u001b[49m\n\u001b[0;32m    318\u001b[0m \u001b[43m    \u001b[49m\u001b[43m)\u001b[49m\n",
      "File \u001b[1;32mc:\\Users\\Filippo\\anaconda3\\Lib\\site-packages\\stable_baselines3\\common\\on_policy_algorithm.py:323\u001b[0m, in \u001b[0;36mOnPolicyAlgorithm.learn\u001b[1;34m(self, total_timesteps, callback, log_interval, tb_log_name, reset_num_timesteps, progress_bar)\u001b[0m\n\u001b[0;32m    320\u001b[0m \u001b[38;5;28;01massert\u001b[39;00m \u001b[38;5;28mself\u001b[39m\u001b[38;5;241m.\u001b[39menv \u001b[38;5;129;01mis\u001b[39;00m \u001b[38;5;129;01mnot\u001b[39;00m \u001b[38;5;28;01mNone\u001b[39;00m\n\u001b[0;32m    322\u001b[0m \u001b[38;5;28;01mwhile\u001b[39;00m \u001b[38;5;28mself\u001b[39m\u001b[38;5;241m.\u001b[39mnum_timesteps \u001b[38;5;241m<\u001b[39m total_timesteps:\n\u001b[1;32m--> 323\u001b[0m     continue_training \u001b[38;5;241m=\u001b[39m \u001b[38;5;28;43mself\u001b[39;49m\u001b[38;5;241;43m.\u001b[39;49m\u001b[43mcollect_rollouts\u001b[49m\u001b[43m(\u001b[49m\u001b[38;5;28;43mself\u001b[39;49m\u001b[38;5;241;43m.\u001b[39;49m\u001b[43menv\u001b[49m\u001b[43m,\u001b[49m\u001b[43m \u001b[49m\u001b[43mcallback\u001b[49m\u001b[43m,\u001b[49m\u001b[43m \u001b[49m\u001b[38;5;28;43mself\u001b[39;49m\u001b[38;5;241;43m.\u001b[39;49m\u001b[43mrollout_buffer\u001b[49m\u001b[43m,\u001b[49m\u001b[43m \u001b[49m\u001b[43mn_rollout_steps\u001b[49m\u001b[38;5;241;43m=\u001b[39;49m\u001b[38;5;28;43mself\u001b[39;49m\u001b[38;5;241;43m.\u001b[39;49m\u001b[43mn_steps\u001b[49m\u001b[43m)\u001b[49m\n\u001b[0;32m    325\u001b[0m     \u001b[38;5;28;01mif\u001b[39;00m \u001b[38;5;129;01mnot\u001b[39;00m continue_training:\n\u001b[0;32m    326\u001b[0m         \u001b[38;5;28;01mbreak\u001b[39;00m\n",
      "File \u001b[1;32mc:\\Users\\Filippo\\anaconda3\\Lib\\site-packages\\stable_baselines3\\common\\on_policy_algorithm.py:218\u001b[0m, in \u001b[0;36mOnPolicyAlgorithm.collect_rollouts\u001b[1;34m(self, env, callback, rollout_buffer, n_rollout_steps)\u001b[0m\n\u001b[0;32m    213\u001b[0m     \u001b[38;5;28;01melse\u001b[39;00m:\n\u001b[0;32m    214\u001b[0m         \u001b[38;5;66;03m# Otherwise, clip the actions to avoid out of bound error\u001b[39;00m\n\u001b[0;32m    215\u001b[0m         \u001b[38;5;66;03m# as we are sampling from an unbounded Gaussian distribution\u001b[39;00m\n\u001b[0;32m    216\u001b[0m         clipped_actions \u001b[38;5;241m=\u001b[39m np\u001b[38;5;241m.\u001b[39mclip(actions, \u001b[38;5;28mself\u001b[39m\u001b[38;5;241m.\u001b[39maction_space\u001b[38;5;241m.\u001b[39mlow, \u001b[38;5;28mself\u001b[39m\u001b[38;5;241m.\u001b[39maction_space\u001b[38;5;241m.\u001b[39mhigh)\n\u001b[1;32m--> 218\u001b[0m new_obs, rewards, dones, infos \u001b[38;5;241m=\u001b[39m \u001b[43menv\u001b[49m\u001b[38;5;241;43m.\u001b[39;49m\u001b[43mstep\u001b[49m\u001b[43m(\u001b[49m\u001b[43mclipped_actions\u001b[49m\u001b[43m)\u001b[49m\n\u001b[0;32m    220\u001b[0m \u001b[38;5;28mself\u001b[39m\u001b[38;5;241m.\u001b[39mnum_timesteps \u001b[38;5;241m+\u001b[39m\u001b[38;5;241m=\u001b[39m env\u001b[38;5;241m.\u001b[39mnum_envs\n\u001b[0;32m    222\u001b[0m \u001b[38;5;66;03m# Give access to local variables\u001b[39;00m\n",
      "File \u001b[1;32mc:\\Users\\Filippo\\anaconda3\\Lib\\site-packages\\stable_baselines3\\common\\vec_env\\base_vec_env.py:206\u001b[0m, in \u001b[0;36mVecEnv.step\u001b[1;34m(self, actions)\u001b[0m\n\u001b[0;32m    199\u001b[0m \u001b[38;5;250m\u001b[39m\u001b[38;5;124;03m\"\"\"\u001b[39;00m\n\u001b[0;32m    200\u001b[0m \u001b[38;5;124;03mStep the environments with the given action\u001b[39;00m\n\u001b[0;32m    201\u001b[0m \n\u001b[0;32m    202\u001b[0m \u001b[38;5;124;03m:param actions: the action\u001b[39;00m\n\u001b[0;32m    203\u001b[0m \u001b[38;5;124;03m:return: observation, reward, done, information\u001b[39;00m\n\u001b[0;32m    204\u001b[0m \u001b[38;5;124;03m\"\"\"\u001b[39;00m\n\u001b[0;32m    205\u001b[0m \u001b[38;5;28mself\u001b[39m\u001b[38;5;241m.\u001b[39mstep_async(actions)\n\u001b[1;32m--> 206\u001b[0m \u001b[38;5;28;01mreturn\u001b[39;00m \u001b[38;5;28;43mself\u001b[39;49m\u001b[38;5;241;43m.\u001b[39;49m\u001b[43mstep_wait\u001b[49m\u001b[43m(\u001b[49m\u001b[43m)\u001b[49m\n",
      "File \u001b[1;32mc:\\Users\\Filippo\\anaconda3\\Lib\\site-packages\\stable_baselines3\\common\\vec_env\\dummy_vec_env.py:58\u001b[0m, in \u001b[0;36mDummyVecEnv.step_wait\u001b[1;34m(self)\u001b[0m\n\u001b[0;32m     55\u001b[0m \u001b[38;5;28;01mdef\u001b[39;00m \u001b[38;5;21mstep_wait\u001b[39m(\u001b[38;5;28mself\u001b[39m) \u001b[38;5;241m-\u001b[39m\u001b[38;5;241m>\u001b[39m VecEnvStepReturn:\n\u001b[0;32m     56\u001b[0m     \u001b[38;5;66;03m# Avoid circular imports\u001b[39;00m\n\u001b[0;32m     57\u001b[0m     \u001b[38;5;28;01mfor\u001b[39;00m env_idx \u001b[38;5;129;01min\u001b[39;00m \u001b[38;5;28mrange\u001b[39m(\u001b[38;5;28mself\u001b[39m\u001b[38;5;241m.\u001b[39mnum_envs):\n\u001b[1;32m---> 58\u001b[0m         obs, \u001b[38;5;28mself\u001b[39m\u001b[38;5;241m.\u001b[39mbuf_rews[env_idx], terminated, truncated, \u001b[38;5;28mself\u001b[39m\u001b[38;5;241m.\u001b[39mbuf_infos[env_idx] \u001b[38;5;241m=\u001b[39m \u001b[38;5;28;43mself\u001b[39;49m\u001b[38;5;241;43m.\u001b[39;49m\u001b[43menvs\u001b[49m\u001b[43m[\u001b[49m\u001b[43menv_idx\u001b[49m\u001b[43m]\u001b[49m\u001b[38;5;241;43m.\u001b[39;49m\u001b[43mstep\u001b[49m\u001b[43m(\u001b[49m\n\u001b[0;32m     59\u001b[0m \u001b[43m            \u001b[49m\u001b[38;5;28;43mself\u001b[39;49m\u001b[38;5;241;43m.\u001b[39;49m\u001b[43mactions\u001b[49m\u001b[43m[\u001b[49m\u001b[43menv_idx\u001b[49m\u001b[43m]\u001b[49m\n\u001b[0;32m     60\u001b[0m \u001b[43m        \u001b[49m\u001b[43m)\u001b[49m\n\u001b[0;32m     61\u001b[0m         \u001b[38;5;66;03m# convert to SB3 VecEnv api\u001b[39;00m\n\u001b[0;32m     62\u001b[0m         \u001b[38;5;28mself\u001b[39m\u001b[38;5;241m.\u001b[39mbuf_dones[env_idx] \u001b[38;5;241m=\u001b[39m terminated \u001b[38;5;129;01mor\u001b[39;00m truncated\n",
      "File \u001b[1;32mc:\\Users\\Filippo\\anaconda3\\Lib\\site-packages\\stable_baselines3\\common\\monitor.py:94\u001b[0m, in \u001b[0;36mMonitor.step\u001b[1;34m(self, action)\u001b[0m\n\u001b[0;32m     92\u001b[0m \u001b[38;5;28;01mif\u001b[39;00m \u001b[38;5;28mself\u001b[39m\u001b[38;5;241m.\u001b[39mneeds_reset:\n\u001b[0;32m     93\u001b[0m     \u001b[38;5;28;01mraise\u001b[39;00m \u001b[38;5;167;01mRuntimeError\u001b[39;00m(\u001b[38;5;124m\"\u001b[39m\u001b[38;5;124mTried to step environment that needs reset\u001b[39m\u001b[38;5;124m\"\u001b[39m)\n\u001b[1;32m---> 94\u001b[0m observation, reward, terminated, truncated, info \u001b[38;5;241m=\u001b[39m \u001b[38;5;28;43mself\u001b[39;49m\u001b[38;5;241;43m.\u001b[39;49m\u001b[43menv\u001b[49m\u001b[38;5;241;43m.\u001b[39;49m\u001b[43mstep\u001b[49m\u001b[43m(\u001b[49m\u001b[43maction\u001b[49m\u001b[43m)\u001b[49m\n\u001b[0;32m     95\u001b[0m \u001b[38;5;28mself\u001b[39m\u001b[38;5;241m.\u001b[39mrewards\u001b[38;5;241m.\u001b[39mappend(\u001b[38;5;28mfloat\u001b[39m(reward))\n\u001b[0;32m     96\u001b[0m \u001b[38;5;28;01mif\u001b[39;00m terminated \u001b[38;5;129;01mor\u001b[39;00m truncated:\n",
      "File \u001b[1;32mc:\\Users\\Filippo\\anaconda3\\Lib\\site-packages\\shimmy\\openai_gym_compatibility.py:250\u001b[0m, in \u001b[0;36mGymV21CompatibilityV0.step\u001b[1;34m(self, action)\u001b[0m\n\u001b[0;32m    241\u001b[0m \u001b[38;5;28;01mdef\u001b[39;00m \u001b[38;5;21mstep\u001b[39m(\u001b[38;5;28mself\u001b[39m, action: ActType) \u001b[38;5;241m-\u001b[39m\u001b[38;5;241m>\u001b[39m \u001b[38;5;28mtuple\u001b[39m[Any, \u001b[38;5;28mfloat\u001b[39m, \u001b[38;5;28mbool\u001b[39m, \u001b[38;5;28mbool\u001b[39m, \u001b[38;5;28mdict\u001b[39m]:\n\u001b[0;32m    242\u001b[0m \u001b[38;5;250m    \u001b[39m\u001b[38;5;124;03m\"\"\"Steps through the environment.\u001b[39;00m\n\u001b[0;32m    243\u001b[0m \n\u001b[0;32m    244\u001b[0m \u001b[38;5;124;03m    Args:\u001b[39;00m\n\u001b[1;32m   (...)\u001b[0m\n\u001b[0;32m    248\u001b[0m \u001b[38;5;124;03m        (observation, reward, terminated, truncated, info)\u001b[39;00m\n\u001b[0;32m    249\u001b[0m \u001b[38;5;124;03m    \"\"\"\u001b[39;00m\n\u001b[1;32m--> 250\u001b[0m     obs, reward, done, info \u001b[38;5;241m=\u001b[39m \u001b[38;5;28;43mself\u001b[39;49m\u001b[38;5;241;43m.\u001b[39;49m\u001b[43mgym_env\u001b[49m\u001b[38;5;241;43m.\u001b[39;49m\u001b[43mstep\u001b[49m\u001b[43m(\u001b[49m\u001b[43maction\u001b[49m\u001b[43m)\u001b[49m\n\u001b[0;32m    252\u001b[0m     \u001b[38;5;28;01mif\u001b[39;00m \u001b[38;5;28mself\u001b[39m\u001b[38;5;241m.\u001b[39mrender_mode \u001b[38;5;129;01mis\u001b[39;00m \u001b[38;5;129;01mnot\u001b[39;00m \u001b[38;5;28;01mNone\u001b[39;00m:\n\u001b[0;32m    253\u001b[0m         \u001b[38;5;28mself\u001b[39m\u001b[38;5;241m.\u001b[39mrender()\n",
      "Cell \u001b[1;32mIn[35], line 42\u001b[0m, in \u001b[0;36mSimulationEnv.step\u001b[1;34m(self, action)\u001b[0m\n\u001b[0;32m     40\u001b[0m     apply_action(\u001b[38;5;124m\"\u001b[39m\u001b[38;5;124madd_model\u001b[39m\u001b[38;5;124m\"\u001b[39m)\n\u001b[0;32m     41\u001b[0m \u001b[38;5;28;01melif\u001b[39;00m action \u001b[38;5;241m==\u001b[39m \u001b[38;5;241m2\u001b[39m:\n\u001b[1;32m---> 42\u001b[0m     \u001b[43mapply_action\u001b[49m\u001b[43m(\u001b[49m\u001b[38;5;124;43m\"\u001b[39;49m\u001b[38;5;124;43mreplace_model\u001b[39;49m\u001b[38;5;124;43m\"\u001b[39;49m\u001b[43m)\u001b[49m\n\u001b[0;32m     45\u001b[0m data \u001b[38;5;241m=\u001b[39m random_data_metrics()\n\u001b[0;32m     46\u001b[0m state \u001b[38;5;241m=\u001b[39m get_state(data)\n",
      "Cell \u001b[1;32mIn[26], line 60\u001b[0m, in \u001b[0;36mapply_action\u001b[1;34m(action)\u001b[0m\n\u001b[0;32m     58\u001b[0m \u001b[38;5;28;01melif\u001b[39;00m action \u001b[38;5;241m==\u001b[39m \u001b[38;5;124m\"\u001b[39m\u001b[38;5;124mreplace_model\u001b[39m\u001b[38;5;124m\"\u001b[39m:\n\u001b[0;32m     59\u001b[0m     logging\u001b[38;5;241m.\u001b[39minfo(\u001b[38;5;124m\"\u001b[39m\u001b[38;5;124mAction: Replacing a model\u001b[39m\u001b[38;5;124m\"\u001b[39m)\n\u001b[1;32m---> 60\u001b[0m     \u001b[43mmanager\u001b[49m\u001b[38;5;241;43m.\u001b[39;49m\u001b[43mremove_worst_model\u001b[49m\u001b[43m(\u001b[49m\u001b[43mweights\u001b[49m\u001b[43m)\u001b[49m\n\u001b[0;32m     61\u001b[0m     manager\u001b[38;5;241m.\u001b[39madd_best_model(weights)\n\u001b[0;32m     62\u001b[0m     \u001b[38;5;66;03m# Logic for replacing a model (Placeholder)\u001b[39;00m\n",
      "File \u001b[1;32mc:\\Documents\\Aalto Semester 1\\Research\\ROHE_orchestrator\\ROHE_orchestrator\\source\\rl_simulation\\config_manager.py:200\u001b[0m, in \u001b[0;36mConfigManager.remove_worst_model\u001b[1;34m(self, weights)\u001b[0m\n\u001b[0;32m    198\u001b[0m \u001b[38;5;250m\u001b[39m\u001b[38;5;124;03m\"\"\"Remove the worst model from the target YAML based on scoring.\"\"\"\u001b[39;00m\n\u001b[0;32m    199\u001b[0m \u001b[38;5;66;03m# Load model profiles and target YAML\u001b[39;00m\n\u001b[1;32m--> 200\u001b[0m model_profiles \u001b[38;5;241m=\u001b[39m \u001b[38;5;28;43mself\u001b[39;49m\u001b[38;5;241;43m.\u001b[39;49m\u001b[43mload_yaml\u001b[49m\u001b[43m(\u001b[49m\u001b[38;5;28;43mself\u001b[39;49m\u001b[38;5;241;43m.\u001b[39;49m\u001b[43mmodel_profile_path\u001b[49m\u001b[43m)\u001b[49m\n\u001b[0;32m    201\u001b[0m target_yaml \u001b[38;5;241m=\u001b[39m \u001b[38;5;28mself\u001b[39m\u001b[38;5;241m.\u001b[39mload_yaml(\u001b[38;5;28mself\u001b[39m\u001b[38;5;241m.\u001b[39mtarget_yaml_path)\n\u001b[0;32m    203\u001b[0m \u001b[38;5;28;01mif\u001b[39;00m \u001b[38;5;129;01mnot\u001b[39;00m target_yaml \u001b[38;5;129;01mor\u001b[39;00m \u001b[38;5;124m'\u001b[39m\u001b[38;5;124minference\u001b[39m\u001b[38;5;124m'\u001b[39m \u001b[38;5;129;01mnot\u001b[39;00m \u001b[38;5;129;01min\u001b[39;00m target_yaml:\n",
      "File \u001b[1;32mc:\\Documents\\Aalto Semester 1\\Research\\ROHE_orchestrator\\ROHE_orchestrator\\source\\rl_simulation\\config_manager.py:15\u001b[0m, in \u001b[0;36mConfigManager.load_yaml\u001b[1;34m(self, path)\u001b[0m\n\u001b[0;32m     13\u001b[0m \u001b[38;5;28;01mtry\u001b[39;00m:\n\u001b[0;32m     14\u001b[0m     \u001b[38;5;28;01mwith\u001b[39;00m \u001b[38;5;28mopen\u001b[39m(path, \u001b[38;5;124m'\u001b[39m\u001b[38;5;124mr\u001b[39m\u001b[38;5;124m'\u001b[39m) \u001b[38;5;28;01mas\u001b[39;00m file:\n\u001b[1;32m---> 15\u001b[0m         \u001b[38;5;28;01mreturn\u001b[39;00m \u001b[43myaml\u001b[49m\u001b[38;5;241;43m.\u001b[39;49m\u001b[43msafe_load\u001b[49m\u001b[43m(\u001b[49m\u001b[43mfile\u001b[49m\u001b[43m)\u001b[49m\n\u001b[0;32m     16\u001b[0m \u001b[38;5;28;01mexcept\u001b[39;00m \u001b[38;5;167;01mFileNotFoundError\u001b[39;00m:\n\u001b[0;32m     17\u001b[0m     \u001b[38;5;28mprint\u001b[39m(\u001b[38;5;124mf\u001b[39m\u001b[38;5;124m\"\u001b[39m\u001b[38;5;124mFile not found: \u001b[39m\u001b[38;5;132;01m{\u001b[39;00mpath\u001b[38;5;132;01m}\u001b[39;00m\u001b[38;5;124m\"\u001b[39m)\n",
      "File \u001b[1;32mc:\\Users\\Filippo\\anaconda3\\Lib\\site-packages\\yaml\\__init__.py:125\u001b[0m, in \u001b[0;36msafe_load\u001b[1;34m(stream)\u001b[0m\n\u001b[0;32m    117\u001b[0m \u001b[38;5;28;01mdef\u001b[39;00m \u001b[38;5;21msafe_load\u001b[39m(stream):\n\u001b[0;32m    118\u001b[0m \u001b[38;5;250m    \u001b[39m\u001b[38;5;124;03m\"\"\"\u001b[39;00m\n\u001b[0;32m    119\u001b[0m \u001b[38;5;124;03m    Parse the first YAML document in a stream\u001b[39;00m\n\u001b[0;32m    120\u001b[0m \u001b[38;5;124;03m    and produce the corresponding Python object.\u001b[39;00m\n\u001b[1;32m   (...)\u001b[0m\n\u001b[0;32m    123\u001b[0m \u001b[38;5;124;03m    to be safe for untrusted input.\u001b[39;00m\n\u001b[0;32m    124\u001b[0m \u001b[38;5;124;03m    \"\"\"\u001b[39;00m\n\u001b[1;32m--> 125\u001b[0m     \u001b[38;5;28;01mreturn\u001b[39;00m \u001b[43mload\u001b[49m\u001b[43m(\u001b[49m\u001b[43mstream\u001b[49m\u001b[43m,\u001b[49m\u001b[43m \u001b[49m\u001b[43mSafeLoader\u001b[49m\u001b[43m)\u001b[49m\n",
      "File \u001b[1;32mc:\\Users\\Filippo\\anaconda3\\Lib\\site-packages\\yaml\\__init__.py:81\u001b[0m, in \u001b[0;36mload\u001b[1;34m(stream, Loader)\u001b[0m\n\u001b[0;32m     79\u001b[0m loader \u001b[38;5;241m=\u001b[39m Loader(stream)\n\u001b[0;32m     80\u001b[0m \u001b[38;5;28;01mtry\u001b[39;00m:\n\u001b[1;32m---> 81\u001b[0m     \u001b[38;5;28;01mreturn\u001b[39;00m \u001b[43mloader\u001b[49m\u001b[38;5;241;43m.\u001b[39;49m\u001b[43mget_single_data\u001b[49m\u001b[43m(\u001b[49m\u001b[43m)\u001b[49m\n\u001b[0;32m     82\u001b[0m \u001b[38;5;28;01mfinally\u001b[39;00m:\n\u001b[0;32m     83\u001b[0m     loader\u001b[38;5;241m.\u001b[39mdispose()\n",
      "File \u001b[1;32mc:\\Users\\Filippo\\anaconda3\\Lib\\site-packages\\yaml\\constructor.py:49\u001b[0m, in \u001b[0;36mBaseConstructor.get_single_data\u001b[1;34m(self)\u001b[0m\n\u001b[0;32m     47\u001b[0m \u001b[38;5;28;01mdef\u001b[39;00m \u001b[38;5;21mget_single_data\u001b[39m(\u001b[38;5;28mself\u001b[39m):\n\u001b[0;32m     48\u001b[0m     \u001b[38;5;66;03m# Ensure that the stream contains a single document and construct it.\u001b[39;00m\n\u001b[1;32m---> 49\u001b[0m     node \u001b[38;5;241m=\u001b[39m \u001b[38;5;28;43mself\u001b[39;49m\u001b[38;5;241;43m.\u001b[39;49m\u001b[43mget_single_node\u001b[49m\u001b[43m(\u001b[49m\u001b[43m)\u001b[49m\n\u001b[0;32m     50\u001b[0m     \u001b[38;5;28;01mif\u001b[39;00m node \u001b[38;5;129;01mis\u001b[39;00m \u001b[38;5;129;01mnot\u001b[39;00m \u001b[38;5;28;01mNone\u001b[39;00m:\n\u001b[0;32m     51\u001b[0m         \u001b[38;5;28;01mreturn\u001b[39;00m \u001b[38;5;28mself\u001b[39m\u001b[38;5;241m.\u001b[39mconstruct_document(node)\n",
      "File \u001b[1;32mc:\\Users\\Filippo\\anaconda3\\Lib\\site-packages\\yaml\\composer.py:36\u001b[0m, in \u001b[0;36mComposer.get_single_node\u001b[1;34m(self)\u001b[0m\n\u001b[0;32m     34\u001b[0m document \u001b[38;5;241m=\u001b[39m \u001b[38;5;28;01mNone\u001b[39;00m\n\u001b[0;32m     35\u001b[0m \u001b[38;5;28;01mif\u001b[39;00m \u001b[38;5;129;01mnot\u001b[39;00m \u001b[38;5;28mself\u001b[39m\u001b[38;5;241m.\u001b[39mcheck_event(StreamEndEvent):\n\u001b[1;32m---> 36\u001b[0m     document \u001b[38;5;241m=\u001b[39m \u001b[38;5;28;43mself\u001b[39;49m\u001b[38;5;241;43m.\u001b[39;49m\u001b[43mcompose_document\u001b[49m\u001b[43m(\u001b[49m\u001b[43m)\u001b[49m\n\u001b[0;32m     38\u001b[0m \u001b[38;5;66;03m# Ensure that the stream contains no more documents.\u001b[39;00m\n\u001b[0;32m     39\u001b[0m \u001b[38;5;28;01mif\u001b[39;00m \u001b[38;5;129;01mnot\u001b[39;00m \u001b[38;5;28mself\u001b[39m\u001b[38;5;241m.\u001b[39mcheck_event(StreamEndEvent):\n",
      "File \u001b[1;32mc:\\Users\\Filippo\\anaconda3\\Lib\\site-packages\\yaml\\composer.py:55\u001b[0m, in \u001b[0;36mComposer.compose_document\u001b[1;34m(self)\u001b[0m\n\u001b[0;32m     52\u001b[0m \u001b[38;5;28mself\u001b[39m\u001b[38;5;241m.\u001b[39mget_event()\n\u001b[0;32m     54\u001b[0m \u001b[38;5;66;03m# Compose the root node.\u001b[39;00m\n\u001b[1;32m---> 55\u001b[0m node \u001b[38;5;241m=\u001b[39m \u001b[38;5;28;43mself\u001b[39;49m\u001b[38;5;241;43m.\u001b[39;49m\u001b[43mcompose_node\u001b[49m\u001b[43m(\u001b[49m\u001b[38;5;28;43;01mNone\u001b[39;49;00m\u001b[43m,\u001b[49m\u001b[43m \u001b[49m\u001b[38;5;28;43;01mNone\u001b[39;49;00m\u001b[43m)\u001b[49m\n\u001b[0;32m     57\u001b[0m \u001b[38;5;66;03m# Drop the DOCUMENT-END event.\u001b[39;00m\n\u001b[0;32m     58\u001b[0m \u001b[38;5;28mself\u001b[39m\u001b[38;5;241m.\u001b[39mget_event()\n",
      "File \u001b[1;32mc:\\Users\\Filippo\\anaconda3\\Lib\\site-packages\\yaml\\composer.py:84\u001b[0m, in \u001b[0;36mComposer.compose_node\u001b[1;34m(self, parent, index)\u001b[0m\n\u001b[0;32m     82\u001b[0m     node \u001b[38;5;241m=\u001b[39m \u001b[38;5;28mself\u001b[39m\u001b[38;5;241m.\u001b[39mcompose_sequence_node(anchor)\n\u001b[0;32m     83\u001b[0m \u001b[38;5;28;01melif\u001b[39;00m \u001b[38;5;28mself\u001b[39m\u001b[38;5;241m.\u001b[39mcheck_event(MappingStartEvent):\n\u001b[1;32m---> 84\u001b[0m     node \u001b[38;5;241m=\u001b[39m \u001b[38;5;28;43mself\u001b[39;49m\u001b[38;5;241;43m.\u001b[39;49m\u001b[43mcompose_mapping_node\u001b[49m\u001b[43m(\u001b[49m\u001b[43manchor\u001b[49m\u001b[43m)\u001b[49m\n\u001b[0;32m     85\u001b[0m \u001b[38;5;28mself\u001b[39m\u001b[38;5;241m.\u001b[39mascend_resolver()\n\u001b[0;32m     86\u001b[0m \u001b[38;5;28;01mreturn\u001b[39;00m node\n",
      "File \u001b[1;32mc:\\Users\\Filippo\\anaconda3\\Lib\\site-packages\\yaml\\composer.py:133\u001b[0m, in \u001b[0;36mComposer.compose_mapping_node\u001b[1;34m(self, anchor)\u001b[0m\n\u001b[0;32m    129\u001b[0m item_key \u001b[38;5;241m=\u001b[39m \u001b[38;5;28mself\u001b[39m\u001b[38;5;241m.\u001b[39mcompose_node(node, \u001b[38;5;28;01mNone\u001b[39;00m)\n\u001b[0;32m    130\u001b[0m \u001b[38;5;66;03m#if item_key in node.value:\u001b[39;00m\n\u001b[0;32m    131\u001b[0m \u001b[38;5;66;03m#    raise ComposerError(\"while composing a mapping\", start_event.start_mark,\u001b[39;00m\n\u001b[0;32m    132\u001b[0m \u001b[38;5;66;03m#            \"found duplicate key\", key_event.start_mark)\u001b[39;00m\n\u001b[1;32m--> 133\u001b[0m item_value \u001b[38;5;241m=\u001b[39m \u001b[38;5;28;43mself\u001b[39;49m\u001b[38;5;241;43m.\u001b[39;49m\u001b[43mcompose_node\u001b[49m\u001b[43m(\u001b[49m\u001b[43mnode\u001b[49m\u001b[43m,\u001b[49m\u001b[43m \u001b[49m\u001b[43mitem_key\u001b[49m\u001b[43m)\u001b[49m\n\u001b[0;32m    134\u001b[0m \u001b[38;5;66;03m#node.value[item_key] = item_value\u001b[39;00m\n\u001b[0;32m    135\u001b[0m node\u001b[38;5;241m.\u001b[39mvalue\u001b[38;5;241m.\u001b[39mappend((item_key, item_value))\n",
      "File \u001b[1;32mc:\\Users\\Filippo\\anaconda3\\Lib\\site-packages\\yaml\\composer.py:84\u001b[0m, in \u001b[0;36mComposer.compose_node\u001b[1;34m(self, parent, index)\u001b[0m\n\u001b[0;32m     82\u001b[0m     node \u001b[38;5;241m=\u001b[39m \u001b[38;5;28mself\u001b[39m\u001b[38;5;241m.\u001b[39mcompose_sequence_node(anchor)\n\u001b[0;32m     83\u001b[0m \u001b[38;5;28;01melif\u001b[39;00m \u001b[38;5;28mself\u001b[39m\u001b[38;5;241m.\u001b[39mcheck_event(MappingStartEvent):\n\u001b[1;32m---> 84\u001b[0m     node \u001b[38;5;241m=\u001b[39m \u001b[38;5;28;43mself\u001b[39;49m\u001b[38;5;241;43m.\u001b[39;49m\u001b[43mcompose_mapping_node\u001b[49m\u001b[43m(\u001b[49m\u001b[43manchor\u001b[49m\u001b[43m)\u001b[49m\n\u001b[0;32m     85\u001b[0m \u001b[38;5;28mself\u001b[39m\u001b[38;5;241m.\u001b[39mascend_resolver()\n\u001b[0;32m     86\u001b[0m \u001b[38;5;28;01mreturn\u001b[39;00m node\n",
      "File \u001b[1;32mc:\\Users\\Filippo\\anaconda3\\Lib\\site-packages\\yaml\\composer.py:127\u001b[0m, in \u001b[0;36mComposer.compose_mapping_node\u001b[1;34m(self, anchor)\u001b[0m\n\u001b[0;32m    125\u001b[0m \u001b[38;5;28;01mif\u001b[39;00m anchor \u001b[38;5;129;01mis\u001b[39;00m \u001b[38;5;129;01mnot\u001b[39;00m \u001b[38;5;28;01mNone\u001b[39;00m:\n\u001b[0;32m    126\u001b[0m     \u001b[38;5;28mself\u001b[39m\u001b[38;5;241m.\u001b[39manchors[anchor] \u001b[38;5;241m=\u001b[39m node\n\u001b[1;32m--> 127\u001b[0m \u001b[38;5;28;01mwhile\u001b[39;00m \u001b[38;5;129;01mnot\u001b[39;00m \u001b[38;5;28;43mself\u001b[39;49m\u001b[38;5;241;43m.\u001b[39;49m\u001b[43mcheck_event\u001b[49m\u001b[43m(\u001b[49m\u001b[43mMappingEndEvent\u001b[49m\u001b[43m)\u001b[49m:\n\u001b[0;32m    128\u001b[0m     \u001b[38;5;66;03m#key_event = self.peek_event()\u001b[39;00m\n\u001b[0;32m    129\u001b[0m     item_key \u001b[38;5;241m=\u001b[39m \u001b[38;5;28mself\u001b[39m\u001b[38;5;241m.\u001b[39mcompose_node(node, \u001b[38;5;28;01mNone\u001b[39;00m)\n\u001b[0;32m    130\u001b[0m     \u001b[38;5;66;03m#if item_key in node.value:\u001b[39;00m\n\u001b[0;32m    131\u001b[0m     \u001b[38;5;66;03m#    raise ComposerError(\"while composing a mapping\", start_event.start_mark,\u001b[39;00m\n\u001b[0;32m    132\u001b[0m     \u001b[38;5;66;03m#            \"found duplicate key\", key_event.start_mark)\u001b[39;00m\n",
      "File \u001b[1;32mc:\\Users\\Filippo\\anaconda3\\Lib\\site-packages\\yaml\\parser.py:98\u001b[0m, in \u001b[0;36mParser.check_event\u001b[1;34m(self, *choices)\u001b[0m\n\u001b[0;32m     96\u001b[0m \u001b[38;5;28;01mif\u001b[39;00m \u001b[38;5;28mself\u001b[39m\u001b[38;5;241m.\u001b[39mcurrent_event \u001b[38;5;129;01mis\u001b[39;00m \u001b[38;5;28;01mNone\u001b[39;00m:\n\u001b[0;32m     97\u001b[0m     \u001b[38;5;28;01mif\u001b[39;00m \u001b[38;5;28mself\u001b[39m\u001b[38;5;241m.\u001b[39mstate:\n\u001b[1;32m---> 98\u001b[0m         \u001b[38;5;28mself\u001b[39m\u001b[38;5;241m.\u001b[39mcurrent_event \u001b[38;5;241m=\u001b[39m \u001b[38;5;28;43mself\u001b[39;49m\u001b[38;5;241;43m.\u001b[39;49m\u001b[43mstate\u001b[49m\u001b[43m(\u001b[49m\u001b[43m)\u001b[49m\n\u001b[0;32m     99\u001b[0m \u001b[38;5;28;01mif\u001b[39;00m \u001b[38;5;28mself\u001b[39m\u001b[38;5;241m.\u001b[39mcurrent_event \u001b[38;5;129;01mis\u001b[39;00m \u001b[38;5;129;01mnot\u001b[39;00m \u001b[38;5;28;01mNone\u001b[39;00m:\n\u001b[0;32m    100\u001b[0m     \u001b[38;5;28;01mif\u001b[39;00m \u001b[38;5;129;01mnot\u001b[39;00m choices:\n",
      "File \u001b[1;32mc:\\Users\\Filippo\\anaconda3\\Lib\\site-packages\\yaml\\parser.py:428\u001b[0m, in \u001b[0;36mParser.parse_block_mapping_key\u001b[1;34m(self)\u001b[0m\n\u001b[0;32m    427\u001b[0m \u001b[38;5;28;01mdef\u001b[39;00m \u001b[38;5;21mparse_block_mapping_key\u001b[39m(\u001b[38;5;28mself\u001b[39m):\n\u001b[1;32m--> 428\u001b[0m     \u001b[38;5;28;01mif\u001b[39;00m \u001b[38;5;28;43mself\u001b[39;49m\u001b[38;5;241;43m.\u001b[39;49m\u001b[43mcheck_token\u001b[49m\u001b[43m(\u001b[49m\u001b[43mKeyToken\u001b[49m\u001b[43m)\u001b[49m:\n\u001b[0;32m    429\u001b[0m         token \u001b[38;5;241m=\u001b[39m \u001b[38;5;28mself\u001b[39m\u001b[38;5;241m.\u001b[39mget_token()\n\u001b[0;32m    430\u001b[0m         \u001b[38;5;28;01mif\u001b[39;00m \u001b[38;5;129;01mnot\u001b[39;00m \u001b[38;5;28mself\u001b[39m\u001b[38;5;241m.\u001b[39mcheck_token(KeyToken, ValueToken, BlockEndToken):\n",
      "File \u001b[1;32mc:\\Users\\Filippo\\anaconda3\\Lib\\site-packages\\yaml\\scanner.py:116\u001b[0m, in \u001b[0;36mScanner.check_token\u001b[1;34m(self, *choices)\u001b[0m\n\u001b[0;32m    113\u001b[0m \u001b[38;5;28;01mdef\u001b[39;00m \u001b[38;5;21mcheck_token\u001b[39m(\u001b[38;5;28mself\u001b[39m, \u001b[38;5;241m*\u001b[39mchoices):\n\u001b[0;32m    114\u001b[0m     \u001b[38;5;66;03m# Check if the next token is one of the given types.\u001b[39;00m\n\u001b[0;32m    115\u001b[0m     \u001b[38;5;28;01mwhile\u001b[39;00m \u001b[38;5;28mself\u001b[39m\u001b[38;5;241m.\u001b[39mneed_more_tokens():\n\u001b[1;32m--> 116\u001b[0m         \u001b[38;5;28;43mself\u001b[39;49m\u001b[38;5;241;43m.\u001b[39;49m\u001b[43mfetch_more_tokens\u001b[49m\u001b[43m(\u001b[49m\u001b[43m)\u001b[49m\n\u001b[0;32m    117\u001b[0m     \u001b[38;5;28;01mif\u001b[39;00m \u001b[38;5;28mself\u001b[39m\u001b[38;5;241m.\u001b[39mtokens:\n\u001b[0;32m    118\u001b[0m         \u001b[38;5;28;01mif\u001b[39;00m \u001b[38;5;129;01mnot\u001b[39;00m choices:\n",
      "File \u001b[1;32mc:\\Users\\Filippo\\anaconda3\\Lib\\site-packages\\yaml\\scanner.py:255\u001b[0m, in \u001b[0;36mScanner.fetch_more_tokens\u001b[1;34m(self)\u001b[0m\n\u001b[0;32m    253\u001b[0m \u001b[38;5;66;03m# It must be a plain scalar then.\u001b[39;00m\n\u001b[0;32m    254\u001b[0m \u001b[38;5;28;01mif\u001b[39;00m \u001b[38;5;28mself\u001b[39m\u001b[38;5;241m.\u001b[39mcheck_plain():\n\u001b[1;32m--> 255\u001b[0m     \u001b[38;5;28;01mreturn\u001b[39;00m \u001b[38;5;28;43mself\u001b[39;49m\u001b[38;5;241;43m.\u001b[39;49m\u001b[43mfetch_plain\u001b[49m\u001b[43m(\u001b[49m\u001b[43m)\u001b[49m\n\u001b[0;32m    257\u001b[0m \u001b[38;5;66;03m# No? It's an error. Let's produce a nice error message.\u001b[39;00m\n\u001b[0;32m    258\u001b[0m \u001b[38;5;28;01mraise\u001b[39;00m ScannerError(\u001b[38;5;124m\"\u001b[39m\u001b[38;5;124mwhile scanning for the next token\u001b[39m\u001b[38;5;124m\"\u001b[39m, \u001b[38;5;28;01mNone\u001b[39;00m,\n\u001b[0;32m    259\u001b[0m         \u001b[38;5;124m\"\u001b[39m\u001b[38;5;124mfound character \u001b[39m\u001b[38;5;132;01m%r\u001b[39;00m\u001b[38;5;124m that cannot start any token\u001b[39m\u001b[38;5;124m\"\u001b[39m \u001b[38;5;241m%\u001b[39m ch,\n\u001b[0;32m    260\u001b[0m         \u001b[38;5;28mself\u001b[39m\u001b[38;5;241m.\u001b[39mget_mark())\n",
      "File \u001b[1;32mc:\\Users\\Filippo\\anaconda3\\Lib\\site-packages\\yaml\\scanner.py:679\u001b[0m, in \u001b[0;36mScanner.fetch_plain\u001b[1;34m(self)\u001b[0m\n\u001b[0;32m    676\u001b[0m \u001b[38;5;28mself\u001b[39m\u001b[38;5;241m.\u001b[39mallow_simple_key \u001b[38;5;241m=\u001b[39m \u001b[38;5;28;01mFalse\u001b[39;00m\n\u001b[0;32m    678\u001b[0m \u001b[38;5;66;03m# Scan and add SCALAR. May change `allow_simple_key`.\u001b[39;00m\n\u001b[1;32m--> 679\u001b[0m \u001b[38;5;28mself\u001b[39m\u001b[38;5;241m.\u001b[39mtokens\u001b[38;5;241m.\u001b[39mappend(\u001b[38;5;28;43mself\u001b[39;49m\u001b[38;5;241;43m.\u001b[39;49m\u001b[43mscan_plain\u001b[49m\u001b[43m(\u001b[49m\u001b[43m)\u001b[49m)\n",
      "File \u001b[1;32mc:\\Users\\Filippo\\anaconda3\\Lib\\site-packages\\yaml\\scanner.py:1290\u001b[0m, in \u001b[0;36mScanner.scan_plain\u001b[1;34m(self)\u001b[0m\n\u001b[0;32m   1288\u001b[0m     \u001b[38;5;28;01mbreak\u001b[39;00m\n\u001b[0;32m   1289\u001b[0m \u001b[38;5;28;01mwhile\u001b[39;00m \u001b[38;5;28;01mTrue\u001b[39;00m:\n\u001b[1;32m-> 1290\u001b[0m     ch \u001b[38;5;241m=\u001b[39m \u001b[38;5;28;43mself\u001b[39;49m\u001b[38;5;241;43m.\u001b[39;49m\u001b[43mpeek\u001b[49m\u001b[43m(\u001b[49m\u001b[43mlength\u001b[49m\u001b[43m)\u001b[49m\n\u001b[0;32m   1291\u001b[0m     \u001b[38;5;28;01mif\u001b[39;00m ch \u001b[38;5;129;01min\u001b[39;00m \u001b[38;5;124m'\u001b[39m\u001b[38;5;130;01m\\0\u001b[39;00m\u001b[38;5;124m \u001b[39m\u001b[38;5;130;01m\\t\u001b[39;00m\u001b[38;5;130;01m\\r\u001b[39;00m\u001b[38;5;130;01m\\n\u001b[39;00m\u001b[38;5;130;01m\\x85\u001b[39;00m\u001b[38;5;130;01m\\u2028\u001b[39;00m\u001b[38;5;130;01m\\u2029\u001b[39;00m\u001b[38;5;124m'\u001b[39m    \\\n\u001b[0;32m   1292\u001b[0m             \u001b[38;5;129;01mor\u001b[39;00m (ch \u001b[38;5;241m==\u001b[39m \u001b[38;5;124m'\u001b[39m\u001b[38;5;124m:\u001b[39m\u001b[38;5;124m'\u001b[39m \u001b[38;5;129;01mand\u001b[39;00m\n\u001b[0;32m   1293\u001b[0m                     \u001b[38;5;28mself\u001b[39m\u001b[38;5;241m.\u001b[39mpeek(length\u001b[38;5;241m+\u001b[39m\u001b[38;5;241m1\u001b[39m) \u001b[38;5;129;01min\u001b[39;00m \u001b[38;5;124m'\u001b[39m\u001b[38;5;130;01m\\0\u001b[39;00m\u001b[38;5;124m \u001b[39m\u001b[38;5;130;01m\\t\u001b[39;00m\u001b[38;5;130;01m\\r\u001b[39;00m\u001b[38;5;130;01m\\n\u001b[39;00m\u001b[38;5;130;01m\\x85\u001b[39;00m\u001b[38;5;130;01m\\u2028\u001b[39;00m\u001b[38;5;130;01m\\u2029\u001b[39;00m\u001b[38;5;124m'\u001b[39m\n\u001b[0;32m   1294\u001b[0m                           \u001b[38;5;241m+\u001b[39m (\u001b[38;5;124mu\u001b[39m\u001b[38;5;124m'\u001b[39m\u001b[38;5;124m,[]\u001b[39m\u001b[38;5;132;01m{}\u001b[39;00m\u001b[38;5;124m'\u001b[39m \u001b[38;5;28;01mif\u001b[39;00m \u001b[38;5;28mself\u001b[39m\u001b[38;5;241m.\u001b[39mflow_level \u001b[38;5;28;01melse\u001b[39;00m \u001b[38;5;124mu\u001b[39m\u001b[38;5;124m'\u001b[39m\u001b[38;5;124m'\u001b[39m))\\\n\u001b[0;32m   1295\u001b[0m             \u001b[38;5;129;01mor\u001b[39;00m (\u001b[38;5;28mself\u001b[39m\u001b[38;5;241m.\u001b[39mflow_level \u001b[38;5;129;01mand\u001b[39;00m ch \u001b[38;5;129;01min\u001b[39;00m \u001b[38;5;124m'\u001b[39m\u001b[38;5;124m,?[]\u001b[39m\u001b[38;5;132;01m{}\u001b[39;00m\u001b[38;5;124m'\u001b[39m):\n\u001b[0;32m   1296\u001b[0m         \u001b[38;5;28;01mbreak\u001b[39;00m\n",
      "File \u001b[1;32mc:\\Users\\Filippo\\anaconda3\\Lib\\site-packages\\yaml\\reader.py:91\u001b[0m, in \u001b[0;36mReader.peek\u001b[1;34m(self, index)\u001b[0m\n\u001b[0;32m     89\u001b[0m     \u001b[38;5;28;01mreturn\u001b[39;00m \u001b[38;5;28mself\u001b[39m\u001b[38;5;241m.\u001b[39mbuffer[\u001b[38;5;28mself\u001b[39m\u001b[38;5;241m.\u001b[39mpointer\u001b[38;5;241m+\u001b[39mindex]\n\u001b[0;32m     90\u001b[0m \u001b[38;5;28;01mexcept\u001b[39;00m \u001b[38;5;167;01mIndexError\u001b[39;00m:\n\u001b[1;32m---> 91\u001b[0m     \u001b[38;5;28;43mself\u001b[39;49m\u001b[38;5;241;43m.\u001b[39;49m\u001b[43mupdate\u001b[49m\u001b[43m(\u001b[49m\u001b[43mindex\u001b[49m\u001b[38;5;241;43m+\u001b[39;49m\u001b[38;5;241;43m1\u001b[39;49m\u001b[43m)\u001b[49m\n\u001b[0;32m     92\u001b[0m     \u001b[38;5;28;01mreturn\u001b[39;00m \u001b[38;5;28mself\u001b[39m\u001b[38;5;241m.\u001b[39mbuffer[\u001b[38;5;28mself\u001b[39m\u001b[38;5;241m.\u001b[39mpointer\u001b[38;5;241m+\u001b[39mindex]\n",
      "File \u001b[1;32mc:\\Users\\Filippo\\anaconda3\\Lib\\site-packages\\yaml\\reader.py:153\u001b[0m, in \u001b[0;36mReader.update\u001b[1;34m(self, length)\u001b[0m\n\u001b[0;32m    151\u001b[0m \u001b[38;5;28;01mwhile\u001b[39;00m \u001b[38;5;28mlen\u001b[39m(\u001b[38;5;28mself\u001b[39m\u001b[38;5;241m.\u001b[39mbuffer) \u001b[38;5;241m<\u001b[39m length:\n\u001b[0;32m    152\u001b[0m     \u001b[38;5;28;01mif\u001b[39;00m \u001b[38;5;129;01mnot\u001b[39;00m \u001b[38;5;28mself\u001b[39m\u001b[38;5;241m.\u001b[39meof:\n\u001b[1;32m--> 153\u001b[0m         \u001b[38;5;28;43mself\u001b[39;49m\u001b[38;5;241;43m.\u001b[39;49m\u001b[43mupdate_raw\u001b[49m\u001b[43m(\u001b[49m\u001b[43m)\u001b[49m\n\u001b[0;32m    154\u001b[0m     \u001b[38;5;28;01mif\u001b[39;00m \u001b[38;5;28mself\u001b[39m\u001b[38;5;241m.\u001b[39mraw_decode \u001b[38;5;129;01mis\u001b[39;00m \u001b[38;5;129;01mnot\u001b[39;00m \u001b[38;5;28;01mNone\u001b[39;00m:\n\u001b[0;32m    155\u001b[0m         \u001b[38;5;28;01mtry\u001b[39;00m:\n",
      "File \u001b[1;32mc:\\Users\\Filippo\\anaconda3\\Lib\\site-packages\\yaml\\reader.py:178\u001b[0m, in \u001b[0;36mReader.update_raw\u001b[1;34m(self, size)\u001b[0m\n\u001b[0;32m    177\u001b[0m \u001b[38;5;28;01mdef\u001b[39;00m \u001b[38;5;21mupdate_raw\u001b[39m(\u001b[38;5;28mself\u001b[39m, size\u001b[38;5;241m=\u001b[39m\u001b[38;5;241m4096\u001b[39m):\n\u001b[1;32m--> 178\u001b[0m     data \u001b[38;5;241m=\u001b[39m \u001b[38;5;28mself\u001b[39m\u001b[38;5;241m.\u001b[39mstream\u001b[38;5;241m.\u001b[39mread(size)\n\u001b[0;32m    179\u001b[0m     \u001b[38;5;28;01mif\u001b[39;00m \u001b[38;5;28mself\u001b[39m\u001b[38;5;241m.\u001b[39mraw_buffer \u001b[38;5;129;01mis\u001b[39;00m \u001b[38;5;28;01mNone\u001b[39;00m:\n\u001b[0;32m    180\u001b[0m         \u001b[38;5;28mself\u001b[39m\u001b[38;5;241m.\u001b[39mraw_buffer \u001b[38;5;241m=\u001b[39m data\n",
      "File \u001b[1;32m<frozen codecs>:319\u001b[0m, in \u001b[0;36mdecode\u001b[1;34m(self, input, final)\u001b[0m\n",
      "\u001b[1;31mKeyboardInterrupt\u001b[0m: "
     ]
    }
   ],
   "source": [
    "from stable_baselines3 import PPO\n",
    "\n",
    "setup_config()\n",
    "# Create the environment\n",
    "env = SimulationEnv()\n",
    "\n",
    "# Train the agent\n",
    "model = PPO(\"MlpPolicy\", env, verbose=1)\n",
    "model.learn(total_timesteps=1)\n",
    "\n",
    "# Save the trained model\n",
    "model.save(\"simulation_policy\")\n"
   ]
  }
 ],
 "metadata": {
  "kernelspec": {
   "display_name": "base",
   "language": "python",
   "name": "python3"
  },
  "language_info": {
   "codemirror_mode": {
    "name": "ipython",
    "version": 3
   },
   "file_extension": ".py",
   "mimetype": "text/x-python",
   "name": "python",
   "nbconvert_exporter": "python",
   "pygments_lexer": "ipython3",
   "version": "3.11.7"
  }
 },
 "nbformat": 4,
 "nbformat_minor": 2
}
