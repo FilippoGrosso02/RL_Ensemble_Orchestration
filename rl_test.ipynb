{
 "cells": [
  {
   "cell_type": "markdown",
   "metadata": {},
   "source": [
    "# Random Ensemble Orchestration - With get STATE\n"
   ]
  },
  {
   "cell_type": "markdown",
   "metadata": {},
   "source": [
    "## RL test"
   ]
  },
  {
   "cell_type": "markdown",
   "metadata": {},
   "source": [
    "Defining the Simulation enviroment"
   ]
  },
  {
   "cell_type": "code",
   "execution_count": 6,
   "metadata": {},
   "outputs": [],
   "source": [
    "from config_manager import ConfigManager\n",
    "import logging\n",
    "import os\n",
    "import numpy as np\n",
    "from state_manager import StateManager \n",
    "from visualization_manager import VisualizationManager, DashApp\n",
    "\n",
    "import gym\n",
    "from gym import spaces\n",
    "\n",
    "\n",
    "class SimulationEnv(gym.Env):\n",
    "\n",
    "    def __init__(self):\n",
    "        super(SimulationEnv, self).__init__()\n",
    "\n",
    "        current_dir = os.getcwd()   \n",
    "        \n",
    "\n",
    "        parent_dir = os.path.dirname(current_dir)\n",
    "        CONFIG_PATH = os.path.join(current_dir, \"sim_config.yaml\")\n",
    "        PROFILE_PATH = os.path.join(current_dir, \"profile/model_profile/model_profile.yaml\")\n",
    "\n",
    "\n",
    "        self.state_manager = StateManager(current_dir)\n",
    "        self.config_manager = ConfigManager(PROFILE_PATH, CONFIG_PATH)\n",
    "        self.visualization_manager = VisualizationManager()\n",
    "        self.dash_app = DashApp(self.visualization_manager)\n",
    "\n",
    "        self.dash_app.run()\n",
    "\n",
    "        # Define constants\n",
    "        self.state_size = self.state_manager.state_lenght # Change this to be dynamic based on the enviroment\n",
    "        # Observation space: Fixed size of 55\n",
    "        self.observation_space = spaces.Box(\n",
    "            low=0.0, high=10.0, shape=(self.state_size,), dtype=np.float32\n",
    "        )\n",
    "\n",
    "        # Action space (example: add/remove/replace a model)\n",
    "        self.action_space = spaces.Discrete(3)\n",
    "\n",
    "        self.weights = {\n",
    "            \"accuracy\": 1.0,\n",
    "            \"confidence\": 0.0,\n",
    "            \"latency\": 0.0,\n",
    "            \"energy\": 0.0,\n",
    "            \"explainability\": 0.0\n",
    "        }\n",
    "\n",
    "    def reset(self):\n",
    "        # Reset the environment to an initial state\n",
    "        # Define Init Data:\n",
    "        \n",
    "        self.current_state = self.state_manager.get_state()  # Get initial state\n",
    "        \n",
    "        return self.state_manager.flatten_structured_state(self.current_state)\n",
    "\n",
    "    def step(self, action):\n",
    "        \n",
    "        if action == 0:\n",
    "            self.apply_action(\"keep_ensemble\")\n",
    "        elif action == 1:\n",
    "            self.apply_action(\"add_model\")\n",
    "        elif action == 2:\n",
    "            self.apply_action(\"replace_model\")\n",
    "      \n",
    "        state = self.state_manager.get_state()\n",
    "        print(\"STATE: \", state)\n",
    "\n",
    "        # Simulate a step in the environment\n",
    "        self.current_state = state\n",
    "        reward = self._calculate_reward(self.current_state)\n",
    "        self.visualization_manager.reward_list.append(reward)\n",
    "        self.visualization_manager.flatten_state_to_csv(state)\n",
    "        self.dash_app.update_graph()\n",
    "\n",
    "        print(\"REWARD: \", reward)\n",
    "\n",
    "        done = False  # Define termination condition if applicable\n",
    "        \n",
    "        return  self.state_manager.flatten_structured_state(self.current_state), reward, done, {}\n",
    "\n",
    "\n",
    "    def _calculate_reward(self, state):\n",
    "        model_states = state[\"model_states\"]\n",
    "        reward = 0.0\n",
    "        \n",
    "        metrics = model_states[\"ensemble\"]\n",
    "        \n",
    "        reward += self.weights[\"accuracy\"] * metrics[\"accuracy\"]\n",
    "        reward += self.weights[\"confidence\"] * metrics[\"confidence\"]\n",
    "\n",
    "        return reward\n",
    "    \n",
    "    def apply_action(self, action):\n",
    "    \n",
    "        weights = self.weights\n",
    "        manager = self.config_manager\n",
    "        if action == \"keep_ensemble\":\n",
    "            logging.info(\"Action: Keeping the ensemble\")\n",
    "        \n",
    "        elif action == \"add_model\":\n",
    "            manager.add_best_model(weights)\n",
    "            logging.info(\"Action: Adding a model\")\n",
    "            # Logic for adding a new model (Placeholder)\n",
    "        elif action == \"replace_model\":\n",
    "            logging.info(\"Action: Replacing a model\")\n",
    "            manager.remove_worst_model(weights)\n",
    "            manager.add_best_model(weights)\n",
    "            # Logic for replacing a model (Placeholder)\n",
    "        elif action == \"remove_model\":\n",
    "            manager.remove_worst_model(weights)\n",
    "\n",
    "        elif action == \"add_random_model\":\n",
    "            manager.add_random_model()\n",
    "        elif action == \"remove_random_model\":\n",
    "            manager.remove_random_model()\n",
    "        elif action == \"replace_random_model\":\n",
    "            manager.remove_random_model()\n",
    "            manager.add_random_model()\n",
    "\n",
    "\n",
    "        else:\n",
    "            logging.warning(\"Unknown action\")"
   ]
  },
  {
   "cell_type": "markdown",
   "metadata": {},
   "source": [
    "Running the simulation"
   ]
  },
  {
   "cell_type": "code",
   "execution_count": 7,
   "metadata": {},
   "outputs": [
    {
     "name": "stdout",
     "output_type": "stream",
     "text": [
      "Contents of initial_sim_config.yaml have been dumped into c:\\Documents\\Aalto Semester 2\\ResearchCloud\\RL_simulation\\sim_config.yaml.\n"
     ]
    },
    {
     "data": {
      "text/html": [
       "\n",
       "        <iframe\n",
       "            width=\"100%\"\n",
       "            height=\"650\"\n",
       "            src=\"http://127.0.0.1:8000/\"\n",
       "            frameborder=\"0\"\n",
       "            allowfullscreen\n",
       "            \n",
       "        ></iframe>\n",
       "        "
      ],
      "text/plain": [
       "<IPython.lib.display.IFrame at 0x28d5324ad90>"
      ]
     },
     "metadata": {},
     "output_type": "display_data"
    },
    {
     "name": "stdout",
     "output_type": "stream",
     "text": [
      "Using cpu device\n",
      "Wrapping the env with a `Monitor` wrapper\n",
      "Wrapping the env in a DummyVecEnv.\n"
     ]
    },
    {
     "name": "stderr",
     "output_type": "stream",
     "text": [
      "c:\\Users\\Filippo\\anaconda3\\Lib\\site-packages\\stable_baselines3\\common\\vec_env\\patch_gym.py:49: UserWarning:\n",
      "\n",
      "You provided an OpenAI Gym environment. We strongly recommend transitioning to Gymnasium environments. Stable-Baselines3 is automatically wrapping your environments in a compatibility layer, which could potentially cause issues.\n",
      "\n",
      "c:\\Users\\Filippo\\anaconda3\\Lib\\site-packages\\stable_baselines3\\ppo\\ppo.py:155: UserWarning:\n",
      "\n",
      "You have specified a mini-batch size of 64, but because the `RolloutBuffer` is of size `n_steps * n_envs = 1028`, after every 16 untruncated mini-batches, there will be a truncated mini-batch of size 4\n",
      "We recommend using a `batch_size` that is a factor of `n_steps * n_envs`.\n",
      "Info: (n_steps=1028 and n_envs=1)\n",
      "\n",
      "2025-01-22 17:59:30,141:INFO -- Action: Adding a model\n"
     ]
    },
    {
     "name": "stdout",
     "output_type": "stream",
     "text": [
      "Best model: EfficientNetV2S with score: 0.953925925925926\n",
      "Model 'EfficientNetV2S' successfully added to the target YAML.\n"
     ]
    },
    {
     "name": "stderr",
     "output_type": "stream",
     "text": [
      "2025-01-22 17:59:30,347:INFO -- Action: Replacing a model\n"
     ]
    },
    {
     "name": "stdout",
     "output_type": "stream",
     "text": [
      "STATE:  {'ensemble_state': {'total_energy_consumption': 0.003833157044692698, 'ensemble_size': 4}, 'model_states': {'InceptionResNetV2': {'accuracy': 1.0, 'confidence': 0.8364989558855692, 'avg_response_time': 2.05789025315367, 'max_response_time': 2.0769034695437374, 'contribution': 0.8364989558855692}, 'MobileNetV2': {'accuracy': 0.6666666666666666, 'confidence': 0.38845465580622357, 'avg_response_time': 0.03660480847997461, 'max_response_time': 0.05765201932159984, 'contribution': 0.38845465580622357}, 'ResNet50V2': {'accuracy': 1.0, 'confidence': 0.5565559466679891, 'avg_response_time': 0.11347026663042319, 'max_response_time': 0.12229664638153938, 'contribution': 0.5565559466679891}, 'ensemble': {'accuracy': 1.0, 'confidence': 0.6840378377172681, 'avg_response_time': 2.066981226335621, 'max_response_time': 2.0853497457787635, 'contribution': 0.9007989565531412}, 'EfficientNetV2S': {'accuracy': 1.0, 'confidence': 0.8118118643760681, 'avg_response_time': 1.1114612382078328, 'max_response_time': 1.1114612382078328, 'contribution': 0.8118118643760681}, 'padding_model_6': {'accuracy': 0.0, 'confidence': 0.0, 'avg_response_time': 0.0, 'max_response_time': 0.0, 'contribution': 0.0}, 'padding_model_7': {'accuracy': 0.0, 'confidence': 0.0, 'avg_response_time': 0.0, 'max_response_time': 0.0, 'contribution': 0.0}, 'padding_model_8': {'accuracy': 0.0, 'confidence': 0.0, 'avg_response_time': 0.0, 'max_response_time': 0.0, 'contribution': 0.0}, 'padding_model_9': {'accuracy': 0.0, 'confidence': 0.0, 'avg_response_time': 0.0, 'max_response_time': 0.0, 'contribution': 0.0}, 'padding_model_10': {'accuracy': 0.0, 'confidence': 0.0, 'avg_response_time': 0.0, 'max_response_time': 0.0, 'contribution': 0.0}}, 'input_state': {'input_file_length': 14, 'image_height': 224, 'image_width': 224}, 'distribution_weights': [1.0, 1.0, 1.0, 1.0, 1.0, 0.0, 0.0, 0.0, 0.0, 0.0, 0.0, 0.0, 0.0, 0.0, 0.0, 0.0, 0.0, 0.0, 0.0, 0.0]}\n",
      "Flattened state appended to results/reinforcement_learning.csv\n",
      "REWARD:  1.0\n",
      "Worst model: ResNet50V2 with score: 0.7573739295908658\n",
      "Model 'ResNet50V2' successfully removed from the target YAML.\n",
      "Best model: NASNetLarge with score: 0.942962962962963\n",
      "Model 'NASNetLarge' successfully added to the target YAML.\n"
     ]
    },
    {
     "name": "stderr",
     "output_type": "stream",
     "text": [
      "2025-01-22 17:59:30,712:INFO -- Action: Keeping the ensemble\n"
     ]
    },
    {
     "name": "stdout",
     "output_type": "stream",
     "text": [
      "STATE:  {'ensemble_state': {'total_energy_consumption': 0.006499981282645277, 'ensemble_size': 4}, 'model_states': {'InceptionResNetV2': {'accuracy': 1.0, 'confidence': 0.8611472100019455, 'avg_response_time': 2.0544749933858126, 'max_response_time': 2.0769034695437374, 'contribution': 0.8611472100019455}, 'MobileNetV2': {'accuracy': 0.75, 'confidence': 0.4965403228998184, 'avg_response_time': 0.03840904206768121, 'max_response_time': 0.05765201932159984, 'contribution': 0.4965403228998184}, 'ResNet50V2': {'accuracy': 1.0, 'confidence': 0.5565559466679891, 'avg_response_time': 0.11347026663042319, 'max_response_time': 0.12229664638153938, 'contribution': 0.5565559466679891}, 'ensemble': {'accuracy': 1.0, 'confidence': 0.7355900394419829, 'avg_response_time': 2.5032440670190637, 'max_response_time': 3.8120325890693914, 'contribution': 0.9093722105026245}, 'EfficientNetV2S': {'accuracy': 1.0, 'confidence': 0.8704643845558167, 'avg_response_time': 1.1149154977619293, 'max_response_time': 1.1183697573160256, 'contribution': 0.8704643845558167}, 'NASNetLarge': {'accuracy': 1.0, 'confidence': 0.8759803771972656, 'avg_response_time': 3.801957584242278, 'max_response_time': 3.801957584242278, 'contribution': 0.8759803771972656}, 'padding_model_7': {'accuracy': 0.0, 'confidence': 0.0, 'avg_response_time': 0.0, 'max_response_time': 0.0, 'contribution': 0.0}, 'padding_model_8': {'accuracy': 0.0, 'confidence': 0.0, 'avg_response_time': 0.0, 'max_response_time': 0.0, 'contribution': 0.0}, 'padding_model_9': {'accuracy': 0.0, 'confidence': 0.0, 'avg_response_time': 0.0, 'max_response_time': 0.0, 'contribution': 0.0}, 'padding_model_10': {'accuracy': 0.0, 'confidence': 0.0, 'avg_response_time': 0.0, 'max_response_time': 0.0, 'contribution': 0.0}}, 'input_state': {'input_file_length': 14, 'image_height': 224, 'image_width': 224}, 'distribution_weights': [1.0, 1.0, 1.0, 1.0, 1.0, 0.0, 0.0, 0.0, 0.0, 0.0, 0.0, 0.0, 0.0, 0.0, 0.0, 0.0, 0.0, 0.0, 0.0, 0.0]}\n",
      "Flattened state appended to results/reinforcement_learning.csv\n",
      "REWARD:  1.0\n"
     ]
    },
    {
     "name": "stderr",
     "output_type": "stream",
     "text": [
      "2025-01-22 17:59:30,929:INFO -- Action: Replacing a model\n"
     ]
    },
    {
     "name": "stdout",
     "output_type": "stream",
     "text": [
      "STATE:  {'ensemble_state': {'total_energy_consumption': 0.006499981282645277, 'ensemble_size': 4}, 'model_states': {'InceptionResNetV2': {'accuracy': 1.0, 'confidence': 0.8679001927375793, 'avg_response_time': 2.055664484183559, 'max_response_time': 2.0769034695437374, 'contribution': 0.8679001927375793}, 'MobileNetV2': {'accuracy': 0.8, 'confidence': 0.5807859182357789, 'avg_response_time': 0.04030498876340015, 'max_response_time': 0.05765201932159984, 'contribution': 0.5807859182357789}, 'ResNet50V2': {'accuracy': 1.0, 'confidence': 0.5565559466679891, 'avg_response_time': 0.11347026663042319, 'max_response_time': 0.12229664638153938, 'contribution': 0.5565559466679891}, 'ensemble': {'accuracy': 1.0, 'confidence': 0.7685760488112767, 'avg_response_time': 2.7694869379688702, 'max_response_time': 3.8344584217680953, 'contribution': 0.9110514283180237}, 'EfficientNetV2S': {'accuracy': 1.0, 'confidence': 0.8849811355272929, 'avg_response_time': 1.1242510925357265, 'max_response_time': 1.1429222820833205, 'contribution': 0.8849811355272929}, 'NASNetLarge': {'accuracy': 1.0, 'confidence': 0.8756828308105469, 'avg_response_time': 3.811858354440815, 'max_response_time': 3.821759124639352, 'contribution': 0.8756828308105469}, 'padding_model_7': {'accuracy': 0.0, 'confidence': 0.0, 'avg_response_time': 0.0, 'max_response_time': 0.0, 'contribution': 0.0}, 'padding_model_8': {'accuracy': 0.0, 'confidence': 0.0, 'avg_response_time': 0.0, 'max_response_time': 0.0, 'contribution': 0.0}, 'padding_model_9': {'accuracy': 0.0, 'confidence': 0.0, 'avg_response_time': 0.0, 'max_response_time': 0.0, 'contribution': 0.0}, 'padding_model_10': {'accuracy': 0.0, 'confidence': 0.0, 'avg_response_time': 0.0, 'max_response_time': 0.0, 'contribution': 0.0}}, 'input_state': {'input_file_length': 15, 'image_height': 224, 'image_width': 224}, 'distribution_weights': [1.0, 1.0, 1.0, 1.0, 1.0, 0.0, 0.0, 0.0, 0.0, 0.0, 0.0, 0.0, 0.0, 0.0, 0.0, 0.0, 0.0, 0.0, 0.0, 0.0]}\n",
      "Flattened state appended to results/reinforcement_learning.csv\n",
      "REWARD:  1.0\n",
      "Worst model: MobileNetV2 with score: 0.8261111111111111\n",
      "Model 'MobileNetV2' successfully removed from the target YAML.\n",
      "Best model: EfficientNetB7 with score: 0.9045925925925926\n",
      "Model 'EfficientNetB7' successfully added to the target YAML.\n"
     ]
    },
    {
     "name": "stderr",
     "output_type": "stream",
     "text": [
      "2025-01-22 17:59:31,307:INFO -- Action: Replacing a model\n"
     ]
    },
    {
     "name": "stdout",
     "output_type": "stream",
     "text": [
      "STATE:  {'ensemble_state': {'total_energy_consumption': 0.01100840203748216, 'ensemble_size': 4}, 'model_states': {'InceptionResNetV2': {'accuracy': 1.0, 'confidence': 0.8711458841959635, 'avg_response_time': 2.0637379090649133, 'max_response_time': 2.1041050334716838, 'contribution': 0.8711458841959635}, 'MobileNetV2': {'accuracy': 0.8, 'confidence': 0.5807859182357789, 'avg_response_time': 0.04030498876340015, 'max_response_time': 0.05765201932159984, 'contribution': 0.5807859182357789}, 'ResNet50V2': {'accuracy': 1.0, 'confidence': 0.5565559466679891, 'avg_response_time': 0.11347026663042319, 'max_response_time': 0.12229664638153938, 'contribution': 0.5565559466679891}, 'ensemble': {'accuracy': 1.0, 'confidence': 0.7793983312116728, 'avg_response_time': 3.501780512852014, 'max_response_time': 7.163248387267734, 'contribution': 0.910586396853129}, 'EfficientNetV2S': {'accuracy': 1.0, 'confidence': 0.8908011615276337, 'avg_response_time': 1.1319825055168735, 'max_response_time': 1.155176744460315, 'contribution': 0.8908011615276337}, 'NASNetLarge': {'accuracy': 1.0, 'confidence': 0.8767179449399313, 'avg_response_time': 3.820206027859619, 'max_response_time': 3.836901374697226, 'contribution': 0.8767179449399313}, 'EfficientNetB7': {'accuracy': 1.0, 'confidence': 0.6596152186393738, 'avg_response_time': 7.153420297817476, 'max_response_time': 7.153420297817476, 'contribution': 0.6596152186393738}, 'padding_model_8': {'accuracy': 0.0, 'confidence': 0.0, 'avg_response_time': 0.0, 'max_response_time': 0.0, 'contribution': 0.0}, 'padding_model_9': {'accuracy': 0.0, 'confidence': 0.0, 'avg_response_time': 0.0, 'max_response_time': 0.0, 'contribution': 0.0}, 'padding_model_10': {'accuracy': 0.0, 'confidence': 0.0, 'avg_response_time': 0.0, 'max_response_time': 0.0, 'contribution': 0.0}}, 'input_state': {'input_file_length': 14, 'image_height': 224, 'image_width': 224}, 'distribution_weights': [1.0, 1.0, 1.0, 1.0, 1.0, 0.0, 0.0, 0.0, 0.0, 0.0, 0.0, 0.0, 0.0, 0.0, 0.0, 0.0, 0.0, 0.0, 0.0, 0.0]}\n",
      "Flattened state appended to results/reinforcement_learning.csv\n",
      "REWARD:  1.0\n",
      "Worst model: EfficientNetB7 with score: 0.9045925925925926\n",
      "Model 'EfficientNetB7' successfully removed from the target YAML.\n",
      "Best model: EfficientNetB7 with score: 0.9045925925925926\n",
      "Model 'EfficientNetB7' successfully added to the target YAML.\n"
     ]
    },
    {
     "name": "stderr",
     "output_type": "stream",
     "text": [
      "2025-01-22 17:59:31,797:INFO -- Action: Adding a model\n"
     ]
    },
    {
     "name": "stdout",
     "output_type": "stream",
     "text": [
      "STATE:  {'ensemble_state': {'total_energy_consumption': 0.01100840203748216, 'ensemble_size': 4}, 'model_states': {'InceptionResNetV2': {'accuracy': 1.0, 'confidence': 0.8762111748967852, 'avg_response_time': 2.062103825128892, 'max_response_time': 2.1041050334716838, 'contribution': 0.8762111748967852}, 'MobileNetV2': {'accuracy': 0.8, 'confidence': 0.5807859182357789, 'avg_response_time': 0.04030498876340015, 'max_response_time': 0.05765201932159984, 'contribution': 0.5807859182357789}, 'ResNet50V2': {'accuracy': 1.0, 'confidence': 0.5565559466679891, 'avg_response_time': 0.11347026663042319, 'max_response_time': 0.12229664638153938, 'contribution': 0.5565559466679891}, 'ensemble': {'accuracy': 1.0, 'confidence': 0.7963034631240935, 'avg_response_time': 4.01892522833844, 'max_response_time': 7.163248387267734, 'contribution': 0.9125582660947528}, 'EfficientNetV2S': {'accuracy': 1.0, 'confidence': 0.8951128244400024, 'avg_response_time': 1.1323720298712867, 'max_response_time': 1.155176744460315, 'contribution': 0.8951128244400024}, 'NASNetLarge': {'accuracy': 1.0, 'confidence': 0.8886358290910721, 'avg_response_time': 3.8140429439729804, 'max_response_time': 3.836901374697226, 'contribution': 0.8886358290910721}, 'EfficientNetB7': {'accuracy': 1.0, 'confidence': 0.7536001801490784, 'avg_response_time': 7.133309248062674, 'max_response_time': 7.153420297817476, 'contribution': 0.7536001801490784}, 'padding_model_8': {'accuracy': 0.0, 'confidence': 0.0, 'avg_response_time': 0.0, 'max_response_time': 0.0, 'contribution': 0.0}, 'padding_model_9': {'accuracy': 0.0, 'confidence': 0.0, 'avg_response_time': 0.0, 'max_response_time': 0.0, 'contribution': 0.0}, 'padding_model_10': {'accuracy': 0.0, 'confidence': 0.0, 'avg_response_time': 0.0, 'max_response_time': 0.0, 'contribution': 0.0}}, 'input_state': {'input_file_length': 12, 'image_height': 224, 'image_width': 224}, 'distribution_weights': [1.0, 1.0, 1.0, 1.0, 1.0, 0.0, 0.0, 0.0, 0.0, 0.0, 0.0, 0.0, 0.0, 0.0, 0.0, 0.0, 0.0, 0.0, 0.0, 0.0]}\n",
      "Flattened state appended to results/reinforcement_learning.csv\n",
      "REWARD:  1.0\n",
      "Best model: DenseNet201 with score: 0.8944655883285759\n",
      "Model 'DenseNet201' successfully added to the target YAML.\n"
     ]
    },
    {
     "name": "stderr",
     "output_type": "stream",
     "text": [
      "2025-01-22 17:59:32,036:INFO -- Action: Keeping the ensemble\n"
     ]
    },
    {
     "name": "stdout",
     "output_type": "stream",
     "text": [
      "STATE:  {'ensemble_state': {'total_energy_consumption': 0.01131999673746023, 'ensemble_size': 5}, 'model_states': {'InceptionResNetV2': {'accuracy': 1.0, 'confidence': 0.8825253397226334, 'avg_response_time': 2.05906484802786, 'max_response_time': 2.1041050334716838, 'contribution': 0.8825253397226334}, 'MobileNetV2': {'accuracy': 0.8, 'confidence': 0.5807859182357789, 'avg_response_time': 0.04030498876340015, 'max_response_time': 0.05765201932159984, 'contribution': 0.5807859182357789}, 'ResNet50V2': {'accuracy': 1.0, 'confidence': 0.5565559466679891, 'avg_response_time': 0.11347026663042319, 'max_response_time': 0.12229664638153938, 'contribution': 0.5565559466679891}, 'ensemble': {'accuracy': 1.0, 'confidence': 0.8058441103746493, 'avg_response_time': 4.404895591747715, 'max_response_time': 7.163248387267734, 'contribution': 0.9228262230753899}, 'EfficientNetV2S': {'accuracy': 1.0, 'confidence': 0.889193038145701, 'avg_response_time': 1.1357416199244406, 'max_response_time': 1.155176744460315, 'contribution': 0.889193038145701}, 'NASNetLarge': {'accuracy': 1.0, 'confidence': 0.8920031428337097, 'avg_response_time': 3.802674277709662, 'max_response_time': 3.836901374697226, 'contribution': 0.8920031428337097}, 'EfficientNetB7': {'accuracy': 1.0, 'confidence': 0.7279502153396606, 'avg_response_time': 7.121306931915595, 'max_response_time': 7.153420297817476, 'contribution': 0.7279502153396606}, 'DenseNet201': {'accuracy': 1.0, 'confidence': 0.9947019219398499, 'avg_response_time': 0.6067820190670266, 'max_response_time': 0.6067820190670266, 'contribution': 0.9947019219398499}, 'padding_model_9': {'accuracy': 0.0, 'confidence': 0.0, 'avg_response_time': 0.0, 'max_response_time': 0.0, 'contribution': 0.0}, 'padding_model_10': {'accuracy': 0.0, 'confidence': 0.0, 'avg_response_time': 0.0, 'max_response_time': 0.0, 'contribution': 0.0}}, 'input_state': {'input_file_length': 14, 'image_height': 224, 'image_width': 224}, 'distribution_weights': [1.0, 1.0, 1.0, 1.0, 1.0, 0.0, 0.0, 0.0, 0.0, 0.0, 0.0, 0.0, 0.0, 0.0, 0.0, 0.0, 0.0, 0.0, 0.0, 0.0]}\n",
      "Flattened state appended to results/reinforcement_learning.csv\n",
      "REWARD:  1.0\n"
     ]
    },
    {
     "name": "stderr",
     "output_type": "stream",
     "text": [
      "2025-01-22 17:59:32,283:INFO -- Action: Replacing a model\n"
     ]
    },
    {
     "name": "stdout",
     "output_type": "stream",
     "text": [
      "STATE:  {'ensemble_state': {'total_energy_consumption': 0.01131999673746023, 'ensemble_size': 5}, 'model_states': {'InceptionResNetV2': {'accuracy': 1.0, 'confidence': 0.8905873762236701, 'avg_response_time': 2.057155310571496, 'max_response_time': 2.1041050334716838, 'contribution': 0.8905873762236701}, 'MobileNetV2': {'accuracy': 0.8, 'confidence': 0.5807859182357789, 'avg_response_time': 0.04030498876340015, 'max_response_time': 0.05765201932159984, 'contribution': 0.5807859182357789}, 'ResNet50V2': {'accuracy': 1.0, 'confidence': 0.5565559466679891, 'avg_response_time': 0.11347026663042319, 'max_response_time': 0.12229664638153938, 'contribution': 0.5565559466679891}, 'ensemble': {'accuracy': 1.0, 'confidence': 0.8149300761796809, 'avg_response_time': 4.706960609533446, 'max_response_time': 7.163248387267734, 'contribution': 0.92868705590566}, 'EfficientNetV2S': {'accuracy': 1.0, 'confidence': 0.8883233325822013, 'avg_response_time': 1.138940230244016, 'max_response_time': 1.1581318921614683, 'contribution': 0.8883233325822013}, 'NASNetLarge': {'accuracy': 1.0, 'confidence': 0.8927395443121592, 'avg_response_time': 3.8139680394617255, 'max_response_time': 3.870436848222042, 'contribution': 0.8927395443121592}, 'EfficientNetB7': {'accuracy': 1.0, 'confidence': 0.7279389053583145, 'avg_response_time': 7.119436683584433, 'max_response_time': 7.153420297817476, 'contribution': 0.7279389053583145}, 'DenseNet201': {'accuracy': 1.0, 'confidence': 0.9851378202438354, 'avg_response_time': 0.5897022607376033, 'max_response_time': 0.6067820190670266, 'contribution': 0.9851378202438354}, 'padding_model_9': {'accuracy': 0.0, 'confidence': 0.0, 'avg_response_time': 0.0, 'max_response_time': 0.0, 'contribution': 0.0}, 'padding_model_10': {'accuracy': 0.0, 'confidence': 0.0, 'avg_response_time': 0.0, 'max_response_time': 0.0, 'contribution': 0.0}}, 'input_state': {'input_file_length': 14, 'image_height': 224, 'image_width': 224}, 'distribution_weights': [1.0, 1.0, 1.0, 1.0, 1.0, 0.0, 0.0, 0.0, 0.0, 0.0, 0.0, 0.0, 0.0, 0.0, 0.0, 0.0, 0.0, 0.0, 0.0, 0.0]}\n",
      "Flattened state appended to results/reinforcement_learning.csv\n",
      "REWARD:  1.0\n",
      "Worst model: DenseNet201 with score: 0.8944655883285759\n",
      "Model 'DenseNet201' successfully removed from the target YAML.\n",
      "Best model: DenseNet201 with score: 0.8944655883285759\n",
      "Model 'DenseNet201' successfully added to the target YAML.\n"
     ]
    },
    {
     "name": "stderr",
     "output_type": "stream",
     "text": [
      "2025-01-22 17:59:32,701:INFO -- Action: Replacing a model\n"
     ]
    },
    {
     "name": "stdout",
     "output_type": "stream",
     "text": [
      "STATE:  {'ensemble_state': {'total_energy_consumption': 0.01131999673746023, 'ensemble_size': 5}, 'model_states': {'InceptionResNetV2': {'accuracy': 1.0, 'confidence': 0.898164963722229, 'avg_response_time': 2.064925963408889, 'max_response_time': 2.1348618389454272, 'contribution': 0.898164963722229}, 'MobileNetV2': {'accuracy': 0.8, 'confidence': 0.5807859182357789, 'avg_response_time': 0.04030498876340015, 'max_response_time': 0.05765201932159984, 'contribution': 0.5807859182357789}, 'ResNet50V2': {'accuracy': 1.0, 'confidence': 0.5565559466679891, 'avg_response_time': 0.11347026663042319, 'max_response_time': 0.12229664638153938, 'contribution': 0.5565559466679891}, 'ensemble': {'accuracy': 1.0, 'confidence': 0.8262018145124117, 'avg_response_time': 4.947714570241686, 'max_response_time': 7.163248387267734, 'contribution': 0.9358178019523621}, 'EfficientNetV2S': {'accuracy': 1.0, 'confidence': 0.8924220874905586, 'avg_response_time': 1.1438379225999054, 'max_response_time': 1.1781217690911319, 'contribution': 0.8924220874905586}, 'NASNetLarge': {'accuracy': 1.0, 'confidence': 0.893212114061628, 'avg_response_time': 3.8151674634241055, 'max_response_time': 3.870436848222042, 'contribution': 0.893212114061628}, 'EfficientNetB7': {'accuracy': 1.0, 'confidence': 0.753294849395752, 'avg_response_time': 7.116622838906224, 'max_response_time': 7.153420297817476, 'contribution': 0.753294849395752}, 'DenseNet201': {'accuracy': 1.0, 'confidence': 0.9900900522867838, 'avg_response_time': 0.5844667624445586, 'max_response_time': 0.6067820190670266, 'contribution': 0.9900900522867838}, 'padding_model_9': {'accuracy': 0.0, 'confidence': 0.0, 'avg_response_time': 0.0, 'max_response_time': 0.0, 'contribution': 0.0}, 'padding_model_10': {'accuracy': 0.0, 'confidence': 0.0, 'avg_response_time': 0.0, 'max_response_time': 0.0, 'contribution': 0.0}}, 'input_state': {'input_file_length': 15, 'image_height': 224, 'image_width': 224}, 'distribution_weights': [1.0, 1.0, 1.0, 1.0, 1.0, 0.0, 0.0, 0.0, 0.0, 0.0, 0.0, 0.0, 0.0, 0.0, 0.0, 0.0, 0.0, 0.0, 0.0, 0.0]}\n",
      "Flattened state appended to results/reinforcement_learning.csv\n",
      "REWARD:  1.0\n",
      "Worst model: DenseNet201 with score: 0.8944655883285759\n",
      "Model 'DenseNet201' successfully removed from the target YAML.\n",
      "Best model: DenseNet201 with score: 0.8944655883285759\n",
      "Model 'DenseNet201' successfully added to the target YAML.\n"
     ]
    },
    {
     "name": "stderr",
     "output_type": "stream",
     "text": [
      "2025-01-22 17:59:33,223:INFO -- Action: Adding a model\n"
     ]
    },
    {
     "name": "stdout",
     "output_type": "stream",
     "text": [
      "STATE:  {'ensemble_state': {'total_energy_consumption': 0.01131999673746023, 'ensemble_size': 5}, 'model_states': {'InceptionResNetV2': {'accuracy': 1.0, 'confidence': 0.8986351327462629, 'avg_response_time': 2.0653038407161617, 'max_response_time': 2.1348618389454272, 'contribution': 0.8986351327462629}, 'MobileNetV2': {'accuracy': 0.8, 'confidence': 0.5807859182357789, 'avg_response_time': 0.04030498876340015, 'max_response_time': 0.05765201932159984, 'contribution': 0.5807859182357789}, 'ResNet50V2': {'accuracy': 1.0, 'confidence': 0.5565559466679891, 'avg_response_time': 0.11347026663042319, 'max_response_time': 0.12229664638153938, 'contribution': 0.5565559466679891}, 'ensemble': {'accuracy': 1.0, 'confidence': 0.831554056387959, 'avg_response_time': 5.143790394235148, 'max_response_time': 7.163248387267734, 'contribution': 0.935301049189134}, 'EfficientNetV2S': {'accuracy': 1.0, 'confidence': 0.8944343394703336, 'avg_response_time': 1.144958413797631, 'max_response_time': 1.1781217690911319, 'contribution': 0.8944343394703336}, 'NASNetLarge': {'accuracy': 1.0, 'confidence': 0.8898957818746567, 'avg_response_time': 3.817536743297871, 'max_response_time': 3.870436848222042, 'contribution': 0.8898957818746567}, 'EfficientNetB7': {'accuracy': 1.0, 'confidence': 0.7635287443796793, 'avg_response_time': 7.113521313400672, 'max_response_time': 7.153420297817476, 'contribution': 0.7635287443796793}, 'DenseNet201': {'accuracy': 1.0, 'confidence': 0.9751009196043015, 'avg_response_time': 0.5797117310676468, 'max_response_time': 0.6067820190670266, 'contribution': 0.9751009196043015}, 'padding_model_9': {'accuracy': 0.0, 'confidence': 0.0, 'avg_response_time': 0.0, 'max_response_time': 0.0, 'contribution': 0.0}, 'padding_model_10': {'accuracy': 0.0, 'confidence': 0.0, 'avg_response_time': 0.0, 'max_response_time': 0.0, 'contribution': 0.0}}, 'input_state': {'input_file_length': 33, 'image_height': 224, 'image_width': 224}, 'distribution_weights': [1.0, 1.0, 1.0, 1.0, 1.0, 0.0, 0.0, 0.0, 0.0, 0.0, 0.0, 0.0, 0.0, 0.0, 0.0, 0.0, 0.0, 0.0, 0.0, 0.0]}\n",
      "Flattened state appended to results/reinforcement_learning.csv\n",
      "REWARD:  1.0\n",
      "Best model: Xception with score: 0.8872592592592593\n",
      "Model 'Xception' successfully added to the target YAML.\n"
     ]
    },
    {
     "name": "stderr",
     "output_type": "stream",
     "text": [
      "2025-01-22 17:59:33,627:INFO -- Action: Adding a model\n"
     ]
    },
    {
     "name": "stdout",
     "output_type": "stream",
     "text": [
      "STATE:  {'ensemble_state': {'total_energy_consumption': 0.016804851811249164, 'ensemble_size': 6}, 'model_states': {'InceptionResNetV2': {'accuracy': 1.0, 'confidence': 0.9026135951280594, 'avg_response_time': 2.0657460959147147, 'max_response_time': 2.1348618389454272, 'contribution': 0.9026135951280594}, 'MobileNetV2': {'accuracy': 0.8, 'confidence': 0.5807859182357789, 'avg_response_time': 0.04030498876340015, 'max_response_time': 0.05765201932159984, 'contribution': 0.5807859182357789}, 'ResNet50V2': {'accuracy': 1.0, 'confidence': 0.5565559466679891, 'avg_response_time': 0.11347026663042319, 'max_response_time': 0.12229664638153938, 'contribution': 0.5565559466679891}, 'ensemble': {'accuracy': 1.0, 'confidence': 0.8344226631025472, 'avg_response_time': 5.307089568315866, 'max_response_time': 7.163248387267734, 'contribution': 0.9406143029530843}, 'EfficientNetV2S': {'accuracy': 1.0, 'confidence': 0.8952954709529877, 'avg_response_time': 1.1434708412978303, 'max_response_time': 1.1781217690911319, 'contribution': 0.8952954709529877}, 'NASNetLarge': {'accuracy': 1.0, 'confidence': 0.8931470380889045, 'avg_response_time': 3.8171800416677732, 'max_response_time': 3.870436848222042, 'contribution': 0.8931470380889045}, 'EfficientNetB7': {'accuracy': 1.0, 'confidence': 0.7563349093709674, 'avg_response_time': 7.110667318004071, 'max_response_time': 7.153420297817476, 'contribution': 0.7563349093709674}, 'DenseNet201': {'accuracy': 1.0, 'confidence': 0.9798927545547486, 'avg_response_time': 0.583761737234302, 'max_response_time': 0.6067820190670266, 'contribution': 0.9798927545547486}, 'Xception': {'accuracy': 1.0, 'confidence': 0.715052604675293, 'avg_response_time': 0.9194595109152154, 'max_response_time': 0.9194595109152154, 'contribution': 0.715052604675293}, 'padding_model_10': {'accuracy': 0.0, 'confidence': 0.0, 'avg_response_time': 0.0, 'max_response_time': 0.0, 'contribution': 0.0}}, 'input_state': {'input_file_length': 15, 'image_height': 224, 'image_width': 224}, 'distribution_weights': [1.0, 1.0, 1.0, 1.0, 1.0, 0.0, 0.0, 0.0, 0.0, 0.0, 0.0, 0.0, 0.0, 0.0, 0.0, 0.0, 0.0, 0.0, 0.0, 0.0]}\n",
      "Flattened state appended to results/reinforcement_learning.csv\n",
      "REWARD:  1.0\n",
      "Best model: InceptionV3 with score: 0.8844354582936885\n",
      "Model 'InceptionV3' successfully added to the target YAML.\n"
     ]
    },
    {
     "name": "stderr",
     "output_type": "stream",
     "text": [
      "2025-01-22 17:59:34,082:INFO -- Action: Adding a model\n"
     ]
    },
    {
     "name": "stdout",
     "output_type": "stream",
     "text": [
      "STATE:  {'ensemble_state': {'total_energy_consumption': 0.017675754738927185, 'ensemble_size': 7}, 'model_states': {'InceptionResNetV2': {'accuracy': 0.9230769230769231, 'confidence': 0.8331817801182086, 'avg_response_time': 2.064643816225062, 'max_response_time': 2.1348618389454272, 'contribution': 0.8331817801182086}, 'MobileNetV2': {'accuracy': 0.8, 'confidence': 0.5807859182357789, 'avg_response_time': 0.04030498876340015, 'max_response_time': 0.05765201932159984, 'contribution': 0.5807859182357789}, 'ResNet50V2': {'accuracy': 1.0, 'confidence': 0.5565559466679891, 'avg_response_time': 0.11347026663042319, 'max_response_time': 0.12229664638153938, 'contribution': 0.5565559466679891}, 'ensemble': {'accuracy': 1.0, 'confidence': 0.8399824639925589, 'avg_response_time': 5.4462886444033005, 'max_response_time': 7.163248387267734, 'contribution': 0.9398506742257339}, 'EfficientNetV2S': {'accuracy': 0.9090909090909091, 'confidence': 0.8139049735936251, 'avg_response_time': 1.143499633831688, 'max_response_time': 1.1781217690911319, 'contribution': 0.8139049735936251}, 'NASNetLarge': {'accuracy': 1.0, 'confidence': 0.8940210163593292, 'avg_response_time': 3.8146842747513476, 'max_response_time': 3.870436848222042, 'contribution': 0.8940210163593292}, 'EfficientNetB7': {'accuracy': 1.0, 'confidence': 0.7727338299155235, 'avg_response_time': 7.1098909172907225, 'max_response_time': 7.153420297817476, 'contribution': 0.7727338299155235}, 'DenseNet201': {'accuracy': 0.8333333333333334, 'confidence': 0.8165772954622904, 'avg_response_time': 0.585076920572703, 'max_response_time': 0.6067820190670266, 'contribution': 0.8165772954622904}, 'Xception': {'accuracy': 0.5, 'confidence': 0.3575263023376465, 'avg_response_time': 0.9639727715664705, 'max_response_time': 1.0084860322177256, 'contribution': 0.3575263023376465}, 'InceptionV3': {'accuracy': 1.0, 'confidence': 0.9306871294975281, 'avg_response_time': 0.5671747487270665, 'max_response_time': 0.5671747487270665, 'contribution': 0.9306871294975281}}, 'input_state': {'input_file_length': 33, 'image_height': 224, 'image_width': 224}, 'distribution_weights': [1.0, 1.0, 1.0, 1.0, 1.0, 0.0, 0.0, 0.0, 0.0, 0.0, 0.0, 0.0, 0.0, 0.0, 0.0, 0.0, 0.0, 0.0, 0.0, 0.0]}\n",
      "Flattened state appended to results/reinforcement_learning.csv\n",
      "REWARD:  1.0\n",
      "Best model: DenseNet121 with score: 0.8663703703703703\n",
      "Model 'DenseNet121' successfully added to the target YAML.\n"
     ]
    },
    {
     "name": "stderr",
     "output_type": "stream",
     "text": [
      "2025-01-22 17:59:34,484:INFO -- Action: Replacing a model\n"
     ]
    },
    {
     "name": "stdout",
     "output_type": "stream",
     "text": [
      "STATE:  {'ensemble_state': {'total_energy_consumption': 0.017825260597325844, 'ensemble_size': 8}, 'model_states': {'InceptionResNetV2': {'accuracy': 0.9285714285714286, 'confidence': 0.8363911168915885, 'avg_response_time': 2.0700806953516317, 'max_response_time': 2.140760123997036, 'contribution': 0.8363911168915885}, 'MobileNetV2': {'accuracy': 0.8, 'confidence': 0.5807859182357789, 'avg_response_time': 0.04030498876340015, 'max_response_time': 0.05765201932159984, 'contribution': 0.5807859182357789}, 'ResNet50V2': {'accuracy': 1.0, 'confidence': 0.5565559466679891, 'avg_response_time': 0.11347026663042319, 'max_response_time': 0.12229664638153938, 'contribution': 0.5565559466679891}, 'ensemble': {'accuracy': 1.0, 'confidence': 0.8318558526358434, 'avg_response_time': 5.569286855509271, 'max_response_time': 7.168263599886896, 'contribution': 0.9359590496335711}, 'EfficientNetV2S': {'accuracy': 0.9166666666666666, 'confidence': 0.8198602199554443, 'avg_response_time': 1.1448695444288985, 'max_response_time': 1.1781217690911319, 'contribution': 0.8198602199554443}, 'NASNetLarge': {'accuracy': 1.0, 'confidence': 0.8922510688955133, 'avg_response_time': 3.8153389877292696, 'max_response_time': 3.870436848222042, 'contribution': 0.8922510688955133}, 'EfficientNetB7': {'accuracy': 1.0, 'confidence': 0.7721351120207045, 'avg_response_time': 7.115829000841081, 'max_response_time': 7.163333669243945, 'contribution': 0.7721351120207045}, 'DenseNet201': {'accuracy': 0.8571428571428571, 'confidence': 0.812357885496957, 'avg_response_time': 0.5815472040306894, 'max_response_time': 0.6067820190670266, 'contribution': 0.812357885496957}, 'Xception': {'accuracy': 0.6666666666666666, 'confidence': 0.4317283034324646, 'avg_response_time': 0.9770390279552622, 'max_response_time': 1.0084860322177256, 'contribution': 0.4317283034324646}, 'InceptionV3': {'accuracy': 1.0, 'confidence': 0.8172557950019836, 'avg_response_time': 0.5729894729924165, 'max_response_time': 0.5788041972577664, 'contribution': 0.8172557950019836}}, 'input_state': {'input_file_length': 15, 'image_height': 224, 'image_width': 224}, 'distribution_weights': [1.0, 1.0, 1.0, 1.0, 1.0, 0.0, 0.0, 0.0, 0.0, 0.0, 0.0, 0.0, 0.0, 0.0, 0.0, 0.0, 0.0, 0.0, 0.0, 0.0]}\n",
      "Flattened state appended to results/reinforcement_learning.csv\n",
      "REWARD:  1.0\n",
      "Worst model: DenseNet121 with score: 0.8663703703703703\n",
      "Model 'DenseNet121' successfully removed from the target YAML.\n",
      "Best model: DenseNet121 with score: 0.8663703703703703\n",
      "Model 'DenseNet121' successfully added to the target YAML.\n"
     ]
    },
    {
     "name": "stderr",
     "output_type": "stream",
     "text": [
      "2025-01-22 17:59:35,349:INFO -- Action: Adding a model\n"
     ]
    },
    {
     "name": "stdout",
     "output_type": "stream",
     "text": [
      "STATE:  {'ensemble_state': {'total_energy_consumption': 0.017825260597325844, 'ensemble_size': 8}, 'model_states': {'InceptionResNetV2': {'accuracy': 0.8666666666666667, 'confidence': 0.780631709098816, 'avg_response_time': 2.0711446454157176, 'max_response_time': 2.140760123997036, 'contribution': 0.8033115903536479}, 'MobileNetV2': {'accuracy': 0.8, 'confidence': 0.5807859182357789, 'avg_response_time': 0.04030498876340015, 'max_response_time': 0.05765201932159984, 'contribution': 0.5807859182357789}, 'ResNet50V2': {'accuracy': 1.0, 'confidence': 0.5565559466679891, 'avg_response_time': 0.11347026663042319, 'max_response_time': 0.12229664638153938, 'contribution': 0.5565559466679891}, 'ensemble': {'accuracy': 0.9333333333333333, 'confidence': 0.7763987957934538, 'avg_response_time': 5.673939393535702, 'max_response_time': 7.168263599886896, 'contribution': 0.9260653614997864}, 'EfficientNetV2S': {'accuracy': 0.8461538461538461, 'confidence': 0.7567940491896409, 'avg_response_time': 1.1453511835476133, 'max_response_time': 1.1781217690911319, 'contribution': 0.7567940491896409}, 'NASNetLarge': {'accuracy': 0.9166666666666666, 'confidence': 0.8178968131542206, 'avg_response_time': 3.8113455469694837, 'max_response_time': 3.870436848222042, 'contribution': 0.8835262904564539}, 'EfficientNetB7': {'accuracy': 1.0, 'confidence': 0.7250017464160919, 'avg_response_time': 7.117253916977911, 'max_response_time': 7.163333669243945, 'contribution': 0.7396216213703155}, 'DenseNet201': {'accuracy': 0.75, 'confidence': 0.7108131498098373, 'avg_response_time': 0.5812676403408353, 'max_response_time': 0.6067820190670266, 'contribution': 0.7108131498098373}, 'Xception': {'accuracy': 0.5, 'confidence': 0.32379622757434845, 'avg_response_time': 0.9805031815305867, 'max_response_time': 1.0084860322177256, 'contribution': 0.4914574921131134}, 'InceptionV3': {'accuracy': 0.6666666666666666, 'confidence': 0.5448371966679891, 'avg_response_time': 0.580199276007058, 'max_response_time': 0.5946188820363411, 'contribution': 0.7873931924502054}}, 'input_state': {'input_file_length': 14, 'image_height': 224, 'image_width': 224}, 'distribution_weights': [1.0, 1.0, 1.0, 1.0, 1.0, 0.0, 0.0, 0.0, 0.0, 0.0, 0.0, 0.0, 0.0, 0.0, 0.0, 0.0, 0.0, 0.0, 0.0, 0.0]}\n",
      "Flattened state appended to results/reinforcement_learning.csv\n",
      "REWARD:  0.9333333333333333\n",
      "Best model: MobileNet with score: 0.84\n",
      "Model 'MobileNet' successfully added to the target YAML.\n"
     ]
    },
    {
     "name": "stderr",
     "output_type": "stream",
     "text": [
      "2025-01-22 17:59:35,890:INFO -- Action: Adding a model\n"
     ]
    },
    {
     "name": "stdout",
     "output_type": "stream",
     "text": [
      "STATE:  {'ensemble_state': {'total_energy_consumption': 0.017859681623383035, 'ensemble_size': 9}, 'model_states': {'InceptionResNetV2': {'accuracy': 0.875, 'confidence': 0.7898647598922253, 'avg_response_time': 2.071524576770625, 'max_response_time': 2.140760123997036, 'contribution': 0.8111271485686302}, 'MobileNetV2': {'accuracy': 0.8, 'confidence': 0.5807859182357789, 'avg_response_time': 0.04030498876340015, 'max_response_time': 0.05765201932159984, 'contribution': 0.5807859182357789}, 'ResNet50V2': {'accuracy': 1.0, 'confidence': 0.5565559466679891, 'avg_response_time': 0.11347026663042319, 'max_response_time': 0.12229664638153938, 'contribution': 0.5565559466679891}, 'ensemble': {'accuracy': 0.9375, 'confidence': 0.7869166820361796, 'avg_response_time': 5.764930172161692, 'max_response_time': 7.168263599886896, 'contribution': 0.9306847117841244}, 'EfficientNetV2S': {'accuracy': 0.8571428571428571, 'confidence': 0.768589871270316, 'avg_response_time': 1.1472684902297268, 'max_response_time': 1.1781217690911319, 'contribution': 0.768589871270316}, 'NASNetLarge': {'accuracy': 0.9230769230769231, 'confidence': 0.8218739766340989, 'avg_response_time': 3.8132201984408067, 'max_response_time': 3.870436848222042, 'contribution': 0.8824550326053913}, 'EfficientNetB7': {'accuracy': 1.0, 'confidence': 0.7348174940456044, 'avg_response_time': 7.117591904409494, 'max_response_time': 7.163333669243945, 'contribution': 0.7481082894585349}, 'DenseNet201': {'accuracy': 0.7777777777777778, 'confidence': 0.7423744665251838, 'avg_response_time': 0.581421470142629, 'max_response_time': 0.6067820190670266, 'contribution': 0.7423744665251838}, 'Xception': {'accuracy': 0.6, 'confidence': 0.4532520532608032, 'avg_response_time': 0.9826833587056043, 'max_response_time': 1.0084860322177256, 'contribution': 0.5873810648918152}, 'InceptionV3': {'accuracy': 0.75, 'confidence': 0.6554971933364868, 'avg_response_time': 0.5786454571311668, 'max_response_time': 0.5946188820363411, 'contribution': 0.8374141901731491}}, 'input_state': {'input_file_length': 33, 'image_height': 224, 'image_width': 224}, 'distribution_weights': [1.0, 1.0, 1.0, 1.0, 1.0, 0.0, 0.0, 0.0, 0.0, 0.0, 0.0, 0.0, 0.0, 0.0, 0.0, 0.0, 0.0, 0.0, 0.0, 0.0]}\n",
      "Flattened state appended to results/reinforcement_learning.csv\n",
      "REWARD:  0.9375\n",
      "Best model: ResNet50 with score: 0.8398350777037742\n",
      "Model 'ResNet50' successfully added to the target YAML.\n"
     ]
    },
    {
     "name": "stderr",
     "output_type": "stream",
     "text": [
      "2025-01-22 17:59:36,367:INFO -- Action: Keeping the ensemble\n"
     ]
    },
    {
     "name": "stdout",
     "output_type": "stream",
     "text": [
      "STATE:  {'ensemble_state': {'total_energy_consumption': 0.018470515036970083, 'ensemble_size': 10}, 'model_states': {'InceptionResNetV2': {'accuracy': 0.8823529411764706, 'confidence': 0.7986050668884727, 'avg_response_time': 2.0739661710953423, 'max_response_time': 2.140760123997036, 'contribution': 0.8186167268192067}, 'MobileNetV2': {'accuracy': 0.8, 'confidence': 0.5807859182357789, 'avg_response_time': 0.04030498876340015, 'max_response_time': 0.05765201932159984, 'contribution': 0.5807859182357789}, 'ResNet50V2': {'accuracy': 1.0, 'confidence': 0.5565559466679891, 'avg_response_time': 0.11347026663042319, 'max_response_time': 0.12229664638153938, 'contribution': 0.5565559466679891}, 'ensemble': {'accuracy': 0.9411764705882353, 'confidence': 0.7953031244572082, 'avg_response_time': 5.845371758944617, 'max_response_time': 7.168263599886896, 'contribution': 0.9346112924463609}, 'EfficientNetV2S': {'accuracy': 0.8666666666666667, 'confidence': 0.7769407550493876, 'avg_response_time': 1.1479891532627102, 'max_response_time': 1.1781217690911319, 'contribution': 0.7769407550493876}, 'NASNetLarge': {'accuracy': 0.9285714285714286, 'confidence': 0.8288472167083195, 'avg_response_time': 3.8132290275920746, 'max_response_time': 3.870436848222042, 'contribution': 0.8851010543959481}, 'EfficientNetB7': {'accuracy': 1.0, 'confidence': 0.7387646635373434, 'avg_response_time': 7.117980785017213, 'max_response_time': 7.163333669243945, 'contribution': 0.750947892665863}, 'DenseNet201': {'accuracy': 0.8, 'confidence': 0.7678806781768799, 'avg_response_time': 0.5826145369417046, 'max_response_time': 0.6067820190670266, 'contribution': 0.7678806781768799}, 'Xception': {'accuracy': 0.6666666666666666, 'confidence': 0.5375079909960429, 'avg_response_time': 0.9833048820771407, 'max_response_time': 1.0084860322177256, 'contribution': 0.6492821673552195}, 'InceptionV3': {'accuracy': 0.8, 'confidence': 0.7127908349037171, 'avg_response_time': 0.5792980617500895, 'max_response_time': 0.5946188820363411, 'contribution': 0.8583244323730469}}, 'input_state': {'input_file_length': 15, 'image_height': 224, 'image_width': 224}, 'distribution_weights': [1.0, 1.0, 1.0, 1.0, 1.0, 0.0, 0.0, 0.0, 0.0, 0.0, 0.0, 0.0, 0.0, 0.0, 0.0, 0.0, 0.0, 0.0, 0.0, 0.0]}\n",
      "Flattened state appended to results/reinforcement_learning.csv\n",
      "REWARD:  0.9411764705882353\n"
     ]
    },
    {
     "name": "stderr",
     "output_type": "stream",
     "text": [
      "2025-01-22 17:59:36,861:INFO -- Action: Replacing a model\n"
     ]
    },
    {
     "name": "stdout",
     "output_type": "stream",
     "text": [
      "STATE:  {'ensemble_state': {'total_energy_consumption': 0.018470515036970083, 'ensemble_size': 10}, 'model_states': {'InceptionResNetV2': {'accuracy': 0.8888888888888888, 'confidence': 0.8080724312199487, 'avg_response_time': 2.0723644958665717, 'max_response_time': 2.140760123997036, 'contribution': 0.8269723322656419}, 'MobileNetV2': {'accuracy': 0.8, 'confidence': 0.5807859182357789, 'avg_response_time': 0.04030498876340015, 'max_response_time': 0.05765201932159984, 'contribution': 0.5807859182357789}, 'ResNet50V2': {'accuracy': 1.0, 'confidence': 0.5565559466679891, 'avg_response_time': 0.11347026663042319, 'max_response_time': 0.12229664638153938, 'contribution': 0.5565559466679891}, 'ensemble': {'accuracy': 0.9444444444444444, 'confidence': 0.8038989466971453, 'avg_response_time': 5.914520941882841, 'max_response_time': 7.168263599886896, 'contribution': 0.9382320808039771}, 'EfficientNetV2S': {'accuracy': 0.875, 'confidence': 0.786455899477005, 'avg_response_time': 1.1463991227030823, 'max_response_time': 1.1781217690911319, 'contribution': 0.786455899477005}, 'NASNetLarge': {'accuracy': 0.9333333333333333, 'confidence': 0.8351587732632955, 'avg_response_time': 3.8142406009271403, 'max_response_time': 3.870436848222042, 'contribution': 0.8876623551050822}, 'EfficientNetB7': {'accuracy': 1.0, 'confidence': 0.7430868011254531, 'avg_response_time': 7.1152255038883006, 'max_response_time': 7.163333669243945, 'contribution': 0.7543328587825482}, 'DenseNet201': {'accuracy': 0.8181818181818182, 'confidence': 0.7867470221085981, 'avg_response_time': 0.5844695557000085, 'max_response_time': 0.6067820190670266, 'contribution': 0.7867470221085981}, 'Xception': {'accuracy': 0.7142857142857143, 'confidence': 0.5974288497652326, 'avg_response_time': 0.9841181917980749, 'max_response_time': 1.0084860322177256, 'contribution': 0.6932352866445269}, 'InceptionV3': {'accuracy': 0.8333333333333334, 'confidence': 0.7543798585732778, 'avg_response_time': 0.5769071547536601, 'max_response_time': 0.5946188820363411, 'contribution': 0.875657856464386}}, 'input_state': {'input_file_length': 14, 'image_height': 224, 'image_width': 224}, 'distribution_weights': [1.0, 1.0, 1.0, 1.0, 1.0, 0.0, 0.0, 0.0, 0.0, 0.0, 0.0, 0.0, 0.0, 0.0, 0.0, 0.0, 0.0, 0.0, 0.0, 0.0]}\n",
      "Flattened state appended to results/reinforcement_learning.csv\n",
      "REWARD:  0.9444444444444444\n",
      "Worst model: ResNet50 with score: 0.8398350777037742\n",
      "Model 'ResNet50' successfully removed from the target YAML.\n",
      "Best model: ResNet50 with score: 0.8398350777037742\n",
      "Model 'ResNet50' successfully added to the target YAML.\n"
     ]
    },
    {
     "name": "stderr",
     "output_type": "stream",
     "text": [
      "2025-01-22 17:59:37,641:INFO -- Action: Adding a model\n"
     ]
    },
    {
     "name": "stdout",
     "output_type": "stream",
     "text": [
      "STATE:  {'ensemble_state': {'total_energy_consumption': 0.018470515036970083, 'ensemble_size': 10}, 'model_states': {'InceptionResNetV2': {'accuracy': 0.8947368421052632, 'confidence': 0.8130466404714083, 'avg_response_time': 2.070354551430852, 'max_response_time': 2.140760123997036, 'contribution': 0.8309518098831177}, 'MobileNetV2': {'accuracy': 0.8, 'confidence': 0.5807859182357789, 'avg_response_time': 0.04030498876340015, 'max_response_time': 0.05765201932159984, 'contribution': 0.5807859182357789}, 'ResNet50V2': {'accuracy': 1.0, 'confidence': 0.5565559466679891, 'avg_response_time': 0.11347026663042319, 'max_response_time': 0.12229664638153938, 'contribution': 0.5565559466679891}, 'ensemble': {'accuracy': 0.9473684210526315, 'confidence': 0.8102016056098087, 'avg_response_time': 5.979342160829934, 'max_response_time': 7.168263599886896, 'contribution': 0.9413665376211467}, 'EfficientNetV2S': {'accuracy': 0.8823529411764706, 'confidence': 0.7929106144344106, 'avg_response_time': 1.1476071503493759, 'max_response_time': 1.1781217690911319, 'contribution': 0.7929106144344106}, 'NASNetLarge': {'accuracy': 0.9375, 'confidence': 0.8409563601016998, 'avg_response_time': 3.815380212584737, 'max_response_time': 3.870436848222042, 'contribution': 0.8901784680783749}, 'EfficientNetB7': {'accuracy': 1.0, 'confidence': 0.7488763119493212, 'avg_response_time': 7.116746043082899, 'max_response_time': 7.163333669243945, 'contribution': 0.7593190797737667}, 'DenseNet201': {'accuracy': 0.8333333333333334, 'confidence': 0.8043336669603983, 'avg_response_time': 0.5830458109420084, 'max_response_time': 0.6067820190670266, 'contribution': 0.8043336669603983}, 'Xception': {'accuracy': 0.75, 'confidence': 0.6345134079456329, 'avg_response_time': 0.9829981906574535, 'max_response_time': 1.0084860322177256, 'contribution': 0.7183440402150154}, 'InceptionV3': {'accuracy': 0.8571428571428571, 'confidence': 0.7885616762297494, 'avg_response_time': 0.5774871338638506, 'max_response_time': 0.5946188820363411, 'contribution': 0.8925142458506993}}, 'input_state': {'input_file_length': 14, 'image_height': 224, 'image_width': 224}, 'distribution_weights': [1.0, 1.0, 1.0, 1.0, 1.0, 0.0, 0.0, 0.0, 0.0, 0.0, 0.0, 0.0, 0.0, 0.0, 0.0, 0.0, 0.0, 0.0, 0.0, 0.0]}\n",
      "Flattened state appended to results/reinforcement_learning.csv\n",
      "REWARD:  0.9473684210526315\n",
      "Best model: NASNetMobile with score: 0.8327037037037037\n",
      "Model 'NASNetMobile' successfully added to the target YAML.\n"
     ]
    },
    {
     "name": "stderr",
     "output_type": "stream",
     "text": [
      "2025-01-22 17:59:38,180:INFO -- Action: Replacing a model\n"
     ]
    },
    {
     "name": "stdout",
     "output_type": "stream",
     "text": [
      "STATE:  {'ensemble_state': {'total_energy_consumption': 0.018556997220561713, 'ensemble_size': 11}, 'model_states': {'InceptionResNetV2': {'accuracy': 0.9, 'confidence': 0.8184685945510864, 'avg_response_time': 2.0705457208690743, 'max_response_time': 2.140760123997036, 'contribution': 0.8354785054922104}, 'MobileNetV2': {'accuracy': 0.8, 'confidence': 0.5807859182357789, 'avg_response_time': 0.04030498876340015, 'max_response_time': 0.05765201932159984, 'contribution': 0.5807859182357789}, 'ResNet50V2': {'accuracy': 1.0, 'confidence': 0.5565559466679891, 'avg_response_time': 0.11347026663042319, 'max_response_time': 0.12229664638153938, 'contribution': 0.5565559466679891}, 'ensemble': {'accuracy': 0.95, 'confidence': 0.8138747760491689, 'avg_response_time': 6.036200833895274, 'max_response_time': 7.168263599886896, 'contribution': 0.9438441246747971}, 'EfficientNetV2S': {'accuracy': 0.8888888888888888, 'confidence': 0.798742436700397, 'avg_response_time': 1.1473776490006822, 'max_response_time': 1.1781217690911319, 'contribution': 0.798742436700397}, 'NASNetLarge': {'accuracy': 0.9411764705882353, 'confidence': 0.8456483904053184, 'avg_response_time': 3.814296789382032, 'max_response_time': 3.870436848222042, 'contribution': 0.8919750802657184}, 'EfficientNetB7': {'accuracy': 1.0, 'confidence': 0.7497250080108643, 'avg_response_time': 7.116103495885136, 'max_response_time': 7.163333669243945, 'contribution': 0.75947159131368}, 'DenseNet201': {'accuracy': 0.8461538461538461, 'confidence': 0.8186379579397348, 'avg_response_time': 0.5795372879619431, 'max_response_time': 0.6067820190670266, 'contribution': 0.8186379579397348}, 'Xception': {'accuracy': 0.7777777777777778, 'confidence': 0.6635197136137221, 'avg_response_time': 0.9848212271634663, 'max_response_time': 1.0084860322177256, 'contribution': 0.7380358311865065}, 'InceptionV3': {'accuracy': 0.875, 'confidence': 0.809165745973587, 'avg_response_time': 0.5766455419928126, 'max_response_time': 0.5946188820363411, 'contribution': 0.9001242443919182}}, 'input_state': {'input_file_length': 14, 'image_height': 224, 'image_width': 224}, 'distribution_weights': [1.0, 1.0, 1.0, 1.0, 1.0, 0.0, 0.0, 0.0, 0.0, 0.0, 0.0, 0.0, 0.0, 0.0, 0.0, 0.0, 0.0, 0.0, 0.0, 0.0]}\n",
      "Flattened state appended to results/reinforcement_learning.csv\n",
      "REWARD:  0.95\n",
      "Worst model: NASNetMobile with score: 0.8327037037037037\n",
      "Model 'NASNetMobile' successfully removed from the target YAML.\n",
      "Best model: NASNetMobile with score: 0.8327037037037037\n",
      "Model 'NASNetMobile' successfully added to the target YAML.\n"
     ]
    },
    {
     "name": "stderr",
     "output_type": "stream",
     "text": [
      "2025-01-22 17:59:39,008:INFO -- Action: Adding a model\n"
     ]
    },
    {
     "name": "stdout",
     "output_type": "stream",
     "text": [
      "STATE:  {'ensemble_state': {'total_energy_consumption': 0.018556997220561713, 'ensemble_size': 11}, 'model_states': {'InceptionResNetV2': {'accuracy': 0.9047619047619048, 'confidence': 0.8237230068161374, 'avg_response_time': 2.069851212642574, 'max_response_time': 2.140760123997036, 'contribution': 0.8399229219981602}, 'MobileNetV2': {'accuracy': 0.8, 'confidence': 0.5807859182357789, 'avg_response_time': 0.04030498876340015, 'max_response_time': 0.05765201932159984, 'contribution': 0.5807859182357789}, 'ResNet50V2': {'accuracy': 1.0, 'confidence': 0.5565559466679891, 'avg_response_time': 0.11347026663042319, 'max_response_time': 0.12229664638153938, 'contribution': 0.5565559466679891}, 'ensemble': {'accuracy': 0.9523809523809523, 'confidence': 0.817981982447956, 'avg_response_time': 6.088471731232808, 'max_response_time': 7.168263599886896, 'contribution': 0.9462054598899114}, 'EfficientNetV2S': {'accuracy': 0.8947368421052632, 'confidence': 0.8034103826472634, 'avg_response_time': 1.148424731325809, 'max_response_time': 1.1781217690911319, 'contribution': 0.8034103826472634}, 'NASNetLarge': {'accuracy': 0.9444444444444444, 'confidence': 0.8467859129110972, 'avg_response_time': 3.813235284713374, 'max_response_time': 3.870436848222042, 'contribution': 0.8905388977792528}, 'EfficientNetB7': {'accuracy': 1.0, 'confidence': 0.7529765665531158, 'avg_response_time': 7.116648522686521, 'max_response_time': 7.163333669243945, 'contribution': 0.7621139883995056}, 'DenseNet201': {'accuracy': 0.8571428571428571, 'confidence': 0.8311232583863395, 'avg_response_time': 0.5801967041189782, 'max_response_time': 0.6067820190670266, 'contribution': 0.8311232583863395}, 'Xception': {'accuracy': 0.8, 'confidence': 0.6939011752605438, 'avg_response_time': 0.9867499827938417, 'max_response_time': 1.0084860322177256, 'contribution': 0.7609656810760498}, 'InceptionV3': {'accuracy': 0.8888888888888888, 'confidence': 0.8279346823692322, 'avg_response_time': 0.5749872637081892, 'max_response_time': 0.5946188820363411, 'contribution': 0.9087866809633043}}, 'input_state': {'input_file_length': 15, 'image_height': 224, 'image_width': 224}, 'distribution_weights': [1.0, 1.0, 1.0, 1.0, 1.0, 0.0, 0.0, 0.0, 0.0, 0.0, 0.0, 0.0, 0.0, 0.0, 0.0, 0.0, 0.0, 0.0, 0.0, 0.0]}\n",
      "Flattened state appended to results/reinforcement_learning.csv\n",
      "REWARD:  0.9523809523809523\n",
      "Best model: MobileNetV2 with score: 0.8261111111111111\n",
      "Model 'MobileNetV2' successfully added to the target YAML.\n"
     ]
    },
    {
     "name": "stderr",
     "output_type": "stream",
     "text": [
      "2025-01-22 17:59:39,682:INFO -- Action: Adding a model\n"
     ]
    },
    {
     "name": "stdout",
     "output_type": "stream",
     "text": [
      "STATE:  {'ensemble_state': {'total_energy_consumption': 0.018591318869234208, 'ensemble_size': 12}, 'model_states': {'InceptionResNetV2': {'accuracy': 0.8636363636363636, 'confidence': 0.7862810519608584, 'avg_response_time': 2.0710850722343257, 'max_response_time': 2.140760123997036, 'contribution': 0.8017446073618802}, 'MobileNetV2': {'accuracy': 0.6666666666666666, 'confidence': 0.48398826519648236, 'avg_response_time': 0.04956355427721825, 'max_response_time': 0.09585638184630875, 'contribution': 0.48398826519648236}, 'ResNet50V2': {'accuracy': 1.0, 'confidence': 0.5565559466679891, 'avg_response_time': 0.11347026663042319, 'max_response_time': 0.12229664638153938, 'contribution': 0.5565559466679891}, 'ensemble': {'accuracy': 0.9545454545454546, 'confidence': 0.8123688426245042, 'avg_response_time': 6.134209809535364, 'max_response_time': 7.168263599886896, 'contribution': 0.9361676953055642}, 'EfficientNetV2S': {'accuracy': 0.9, 'confidence': 0.7995085954666138, 'avg_response_time': 1.1474400030526604, 'max_response_time': 1.1781217690911319, 'contribution': 0.7995085954666138}, 'NASNetLarge': {'accuracy': 0.8947368421052632, 'confidence': 0.8022182332841974, 'avg_response_time': 3.8150505156503924, 'max_response_time': 3.870436848222042, 'contribution': 0.8436684294750816}, 'EfficientNetB7': {'accuracy': 1.0, 'confidence': 0.747719778734095, 'avg_response_time': 7.114865650507568, 'max_response_time': 7.163333669243945, 'contribution': 0.7563197051777559}, 'DenseNet201': {'accuracy': 0.8, 'confidence': 0.7757150411605835, 'avg_response_time': 0.5793922069665842, 'max_response_time': 0.6067820190670266, 'contribution': 0.7757150411605835}, 'Xception': {'accuracy': 0.7272727272727273, 'confidence': 0.630819250236858, 'avg_response_time': 0.9854542627007246, 'max_response_time': 1.0084860322177256, 'contribution': 0.6917869827964089}, 'InceptionV3': {'accuracy': 0.8, 'confidence': 0.7451412141323089, 'avg_response_time': 0.5759030961532736, 'max_response_time': 0.5946188820363411, 'contribution': 0.8179080128669739}}, 'input_state': {'input_file_length': 14, 'image_height': 224, 'image_width': 224}, 'distribution_weights': [1.0, 1.0, 1.0, 1.0, 1.0, 0.0, 0.0, 0.0, 0.0, 0.0, 0.0, 0.0, 0.0, 0.0, 0.0, 0.0, 0.0, 0.0, 0.0, 0.0]}\n",
      "Flattened state appended to results/reinforcement_learning.csv\n",
      "REWARD:  0.9545454545454546\n",
      "Best model: EfficientNetB0 with score: 0.793037037037037\n",
      "Model 'EfficientNetB0' successfully added to the target YAML.\n"
     ]
    },
    {
     "name": "stderr",
     "output_type": "stream",
     "text": [
      "2025-01-22 17:59:40,274:INFO -- Action: Keeping the ensemble\n"
     ]
    },
    {
     "name": "stdout",
     "output_type": "stream",
     "text": [
      "STATE:  {'ensemble_state': {'total_energy_consumption': 0.018654365737329086, 'ensemble_size': 13}, 'model_states': {'InceptionResNetV2': {'accuracy': 0.8695652173913043, 'confidence': 0.7913709671601005, 'avg_response_time': 2.071574210245325, 'max_response_time': 2.140760123997036, 'contribution': 0.8061621940654257}, 'MobileNetV2': {'accuracy': 0.5714285714285714, 'confidence': 0.4148470844541277, 'avg_response_time': 0.05596533342611177, 'max_response_time': 0.09585638184630875, 'contribution': 0.4148470844541277}, 'ResNet50V2': {'accuracy': 1.0, 'confidence': 0.5565559466679891, 'avg_response_time': 0.11347026663042319, 'max_response_time': 0.12229664638153938, 'contribution': 0.5565559466679891}, 'ensemble': {'accuracy': 0.9565217391304348, 'confidence': 0.8157725523599391, 'avg_response_time': 6.178858246520573, 'max_response_time': 7.168263599886896, 'contribution': 0.9357642842375714}, 'EfficientNetV2S': {'accuracy': 0.9047619047619048, 'confidence': 0.8048120708692641, 'avg_response_time': 1.14930094456838, 'max_response_time': 1.186519774882767, 'contribution': 0.8048120708692641}, 'NASNetLarge': {'accuracy': 0.9, 'confidence': 0.8084517836570739, 'avg_response_time': 3.8188067524613416, 'max_response_time': 3.8901752518693726, 'contribution': 0.847829470038414}, 'EfficientNetB7': {'accuracy': 1.0, 'confidence': 0.7557892070876228, 'avg_response_time': 7.116904132242793, 'max_response_time': 7.163333669243945, 'contribution': 0.7639113598399692}, 'DenseNet201': {'accuracy': 0.75, 'confidence': 0.727232851088047, 'avg_response_time': 0.5799810022559277, 'max_response_time': 0.6067820190670266, 'contribution': 0.727232851088047}, 'Xception': {'accuracy': 0.75, 'confidence': 0.6519692490498225, 'avg_response_time': 0.9890977256398764, 'max_response_time': 1.0291758179705475, 'contribution': 0.7078563372294108}, 'InceptionV3': {'accuracy': 0.7272727272727273, 'confidence': 0.6774011037566445, 'avg_response_time': 0.5789510913534449, 'max_response_time': 0.6094310433551587, 'contribution': 0.7435527389699762}}, 'input_state': {'input_file_length': 15, 'image_height': 224, 'image_width': 224}, 'distribution_weights': [1.0, 1.0, 1.0, 1.0, 1.0, 0.0, 0.0, 0.0, 0.0, 0.0, 0.0, 0.0, 0.0, 0.0, 0.0, 0.0, 0.0, 0.0, 0.0, 0.0]}\n",
      "Flattened state appended to results/reinforcement_learning.csv\n",
      "REWARD:  0.9565217391304348\n"
     ]
    },
    {
     "name": "stderr",
     "output_type": "stream",
     "text": [
      "2025-01-22 17:59:41,017:INFO -- Action: Adding a model\n"
     ]
    },
    {
     "name": "stdout",
     "output_type": "stream",
     "text": [
      "STATE:  {'ensemble_state': {'total_energy_consumption': 0.018654365737329086, 'ensemble_size': 13}, 'model_states': {'InceptionResNetV2': {'accuracy': 0.875, 'confidence': 0.7966488301753998, 'avg_response_time': 2.0688953735298985, 'max_response_time': 2.140760123997036, 'contribution': 0.8108237559596697}, 'MobileNetV2': {'accuracy': 0.625, 'confidence': 0.46131496876478195, 'avg_response_time': 0.06257476402318492, 'max_response_time': 0.10884077820269697, 'contribution': 0.46131496876478195}, 'ResNet50V2': {'accuracy': 1.0, 'confidence': 0.5565559466679891, 'avg_response_time': 0.11347026663042319, 'max_response_time': 0.12229664638153938, 'contribution': 0.5565559466679891}, 'ensemble': {'accuracy': 0.9583333333333334, 'confidence': 0.8209978947705161, 'avg_response_time': 6.219040085016679, 'max_response_time': 7.168263599886896, 'contribution': 0.9384399230281512}, 'EfficientNetV2S': {'accuracy': 0.9090909090909091, 'confidence': 0.8095797788013112, 'avg_response_time': 1.1490510854723377, 'max_response_time': 1.186519774882767, 'contribution': 0.8095797788013112}, 'NASNetLarge': {'accuracy': 0.9047619047619048, 'confidence': 0.8141591407003856, 'avg_response_time': 3.817095793828579, 'max_response_time': 3.8901752518693726, 'contribution': 0.8516616991588047}, 'EfficientNetB7': {'accuracy': 1.0, 'confidence': 0.760660707950592, 'avg_response_time': 7.117778463032288, 'max_response_time': 7.163333669243945, 'contribution': 0.7683553789791308}, 'DenseNet201': {'accuracy': 0.7647058823529411, 'confidence': 0.7432767783894259, 'avg_response_time': 0.5805685162733771, 'max_response_time': 0.6067820190670266, 'contribution': 0.7432767783894259}, 'Xception': {'accuracy': 0.7692307692307693, 'confidence': 0.6763919729452866, 'avg_response_time': 0.9882944626091087, 'max_response_time': 1.0291758179705475, 'contribution': 0.7279800543418298}, 'InceptionV3': {'accuracy': 0.75, 'confidence': 0.7020813177029291, 'avg_response_time': 0.5826272504190113, 'max_response_time': 0.6230650001402411, 'contribution': 0.7627203166484833}}, 'input_state': {'input_file_length': 15, 'image_height': 224, 'image_width': 224}, 'distribution_weights': [1.0, 1.0, 1.0, 1.0, 1.0, 0.0, 0.0, 0.0, 0.0, 0.0, 0.0, 0.0, 0.0, 0.0, 0.0, 0.0, 0.0, 0.0, 0.0, 0.0]}\n",
      "Flattened state appended to results/reinforcement_learning.csv\n",
      "REWARD:  0.9583333333333334\n",
      "Best model: VGG16 with score: 0.7599259259259259\n",
      "Model 'VGG16' successfully added to the target YAML.\n"
     ]
    },
    {
     "name": "stderr",
     "output_type": "stream",
     "text": [
      "2025-01-22 17:59:41,656:INFO -- Action: Keeping the ensemble\n"
     ]
    },
    {
     "name": "stdout",
     "output_type": "stream",
     "text": [
      "STATE:  {'ensemble_state': {'total_energy_consumption': 0.01894598299398171, 'ensemble_size': 14}, 'model_states': {'InceptionResNetV2': {'accuracy': 0.88, 'confidence': 0.8021299481391907, 'avg_response_time': 2.0684926527844554, 'max_response_time': 2.140760123997036, 'contribution': 0.8157378768920899}, 'MobileNetV2': {'accuracy': 0.6666666666666666, 'confidence': 0.515729824701945, 'avg_response_time': 0.06555019974484746, 'max_response_time': 0.10884077820269697, 'contribution': 0.515729824701945}, 'ResNet50V2': {'accuracy': 1.0, 'confidence': 0.5565559466679891, 'avg_response_time': 0.11347026663042319, 'max_response_time': 0.12229664638153938, 'contribution': 0.5565559466679891}, 'ensemble': {'accuracy': 0.96, 'confidence': 0.82377298942463, 'avg_response_time': 6.255583806121645, 'max_response_time': 7.168263599886896, 'contribution': 0.940839307308197}, 'EfficientNetV2S': {'accuracy': 0.9130434782608695, 'confidence': 0.8141572553178539, 'avg_response_time': 1.1485804726472362, 'max_response_time': 1.186519774882767, 'contribution': 0.8141572553178539}, 'NASNetLarge': {'accuracy': 0.9090909090909091, 'confidence': 0.8177498877048492, 'avg_response_time': 3.8159950211876916, 'max_response_time': 3.8901752518693726, 'contribution': 0.8535477844151583}, 'EfficientNetB7': {'accuracy': 1.0, 'confidence': 0.7628005474805832, 'avg_response_time': 7.118049856611316, 'max_response_time': 7.163333669243945, 'contribution': 0.770110484957695}, 'DenseNet201': {'accuracy': 0.7777777777777778, 'confidence': 0.7574516534805298, 'avg_response_time': 0.5821142675593155, 'max_response_time': 0.608392039420268, 'contribution': 0.7574516534805298}, 'Xception': {'accuracy': 0.7857142857142857, 'confidence': 0.6919813539300647, 'avg_response_time': 0.9896908250637537, 'max_response_time': 1.0291758179705475, 'contribution': 0.7398845723697117}, 'InceptionV3': {'accuracy': 0.7692307692307693, 'confidence': 0.723294184758113, 'avg_response_time': 0.5827012224108684, 'max_response_time': 0.6230650001402411, 'contribution': 0.7792686453232398}}, 'input_state': {'input_file_length': 15, 'image_height': 224, 'image_width': 224}, 'distribution_weights': [1.0, 1.0, 1.0, 1.0, 1.0, 0.0, 0.0, 0.0, 0.0, 0.0, 0.0, 0.0, 0.0, 0.0, 0.0, 0.0, 0.0, 0.0, 0.0, 0.0]}\n",
      "Flattened state appended to results/reinforcement_learning.csv\n",
      "REWARD:  0.96\n"
     ]
    },
    {
     "name": "stderr",
     "output_type": "stream",
     "text": [
      "2025-01-22 17:59:42,305:INFO -- Action: Keeping the ensemble\n"
     ]
    },
    {
     "name": "stdout",
     "output_type": "stream",
     "text": [
      "STATE:  {'ensemble_state': {'total_energy_consumption': 0.01894598299398171, 'ensemble_size': 14}, 'model_states': {'InceptionResNetV2': {'accuracy': 0.8846153846153846, 'confidence': 0.806798905134201, 'avg_response_time': 2.069771233533629, 'max_response_time': 2.140760123997036, 'contribution': 0.8198834520119888}, 'MobileNetV2': {'accuracy': 0.7, 'confidence': 0.5509335398674011, 'avg_response_time': 0.06798392834801023, 'max_response_time': 0.10884077820269697, 'contribution': 0.5509335398674011}, 'ResNet50V2': {'accuracy': 1.0, 'confidence': 0.5565559466679891, 'avg_response_time': 0.11347026663042319, 'max_response_time': 0.12229664638153938, 'contribution': 0.5565559466679891}, 'ensemble': {'accuracy': 0.9615384615384616, 'confidence': 0.8248306942657384, 'avg_response_time': 6.289292151727251, 'max_response_time': 7.168263599886896, 'contribution': 0.9425979462953714}, 'EfficientNetV2S': {'accuracy': 0.9166666666666666, 'confidence': 0.8168457647164663, 'avg_response_time': 1.1498128913014996, 'max_response_time': 1.186519774882767, 'contribution': 0.8168457647164663}, 'NASNetLarge': {'accuracy': 0.9130434782608695, 'confidence': 0.8207305643869482, 'avg_response_time': 3.8167432366913734, 'max_response_time': 3.8901752518693726, 'contribution': 0.8549720308055049}, 'EfficientNetB7': {'accuracy': 1.0, 'confidence': 0.7538023136910939, 'avg_response_time': 7.118207484711759, 'max_response_time': 7.163333669243945, 'contribution': 0.7607641589073908}, 'DenseNet201': {'accuracy': 0.7894736842105263, 'confidence': 0.768202144848673, 'avg_response_time': 0.5827853112485148, 'max_response_time': 0.608392039420268, 'contribution': 0.768202144848673}, 'Xception': {'accuracy': 0.8, 'confidence': 0.7017072757085164, 'avg_response_time': 0.9888983685637467, 'max_response_time': 1.0291758179705475, 'contribution': 0.7464169462521871}, 'InceptionV3': {'accuracy': 0.7857142857142857, 'confidence': 0.7395744664328439, 'avg_response_time': 0.5821431816035675, 'max_response_time': 0.6230650001402411, 'contribution': 0.7915507512433189}}, 'input_state': {'input_file_length': 13, 'image_height': 224, 'image_width': 224}, 'distribution_weights': [1.0, 1.0, 1.0, 1.0, 1.0, 0.0, 0.0, 0.0, 0.0, 0.0, 0.0, 0.0, 0.0, 0.0, 0.0, 0.0, 0.0, 0.0, 0.0, 0.0]}\n",
      "Flattened state appended to results/reinforcement_learning.csv\n",
      "REWARD:  0.9615384615384616\n"
     ]
    },
    {
     "name": "stderr",
     "output_type": "stream",
     "text": [
      "2025-01-22 17:59:42,960:INFO -- Action: Replacing a model\n"
     ]
    },
    {
     "name": "stdout",
     "output_type": "stream",
     "text": [
      "STATE:  {'ensemble_state': {'total_energy_consumption': 0.01894598299398171, 'ensemble_size': 14}, 'model_states': {'InceptionResNetV2': {'accuracy': 0.8888888888888888, 'confidence': 0.8115227906792252, 'avg_response_time': 2.069776390659124, 'max_response_time': 2.140760123997036, 'contribution': 0.8241227247096874}, 'MobileNetV2': {'accuracy': 0.7272727272727273, 'confidence': 0.5761082605882124, 'avg_response_time': 0.07018276716894435, 'max_response_time': 0.10884077820269697, 'contribution': 0.5761082605882124}, 'ResNet50V2': {'accuracy': 1.0, 'confidence': 0.5565559466679891, 'avg_response_time': 0.11347026663042319, 'max_response_time': 0.12229664638153938, 'contribution': 0.5565559466679891}, 'ensemble': {'accuracy': 0.9629629629629629, 'confidence': 0.8283375770468491, 'avg_response_time': 6.318916548310197, 'max_response_time': 7.168263599886896, 'contribution': 0.9447235420898155}, 'EfficientNetV2S': {'accuracy': 0.92, 'confidence': 0.8206985664367675, 'avg_response_time': 1.1492930590216393, 'max_response_time': 1.186519774882767, 'contribution': 0.8206985664367675}, 'NASNetLarge': {'accuracy': 0.9166666666666666, 'confidence': 0.821583757797877, 'avg_response_time': 3.816789206474034, 'max_response_time': 3.8901752518693726, 'contribution': 0.8543984964489937}, 'EfficientNetB7': {'accuracy': 1.0, 'confidence': 0.7571516307917509, 'avg_response_time': 7.116539711030884, 'max_response_time': 7.163333669243945, 'contribution': 0.7637970284982161}, 'DenseNet201': {'accuracy': 0.8, 'confidence': 0.7795898973941803, 'avg_response_time': 0.5836442202641423, 'max_response_time': 0.608392039420268, 'contribution': 0.7795898973941803}, 'Xception': {'accuracy': 0.8125, 'confidence': 0.6945262774825096, 'avg_response_time': 0.9897548163945254, 'max_response_time': 1.0291758179705475, 'contribution': 0.7364415936172009}, 'InceptionV3': {'accuracy': 0.8, 'confidence': 0.7568517486254375, 'avg_response_time': 0.5804861511722578, 'max_response_time': 0.6230650001402411, 'contribution': 0.8053629477818807}}, 'input_state': {'input_file_length': 15, 'image_height': 224, 'image_width': 224}, 'distribution_weights': [1.0, 1.0, 1.0, 1.0, 1.0, 0.0, 0.0, 0.0, 0.0, 0.0, 0.0, 0.0, 0.0, 0.0, 0.0, 0.0, 0.0, 0.0, 0.0, 0.0]}\n",
      "Flattened state appended to results/reinforcement_learning.csv\n",
      "REWARD:  0.9629629629629629\n",
      "Worst model: VGG16 with score: 0.7599259259259259\n",
      "Model 'VGG16' successfully removed from the target YAML.\n",
      "Best model: VGG16 with score: 0.7599259259259259\n",
      "Model 'VGG16' successfully added to the target YAML.\n"
     ]
    },
    {
     "name": "stderr",
     "output_type": "stream",
     "text": [
      "2025-01-22 17:59:43,816:INFO -- Action: Keeping the ensemble\n"
     ]
    },
    {
     "name": "stdout",
     "output_type": "stream",
     "text": [
      "STATE:  {'ensemble_state': {'total_energy_consumption': 0.01894598299398171, 'ensemble_size': 14}, 'model_states': {'InceptionResNetV2': {'accuracy': 0.8928571428571429, 'confidence': 0.8167536216122764, 'avg_response_time': 2.069949928339541, 'max_response_time': 2.140760123997036, 'contribution': 0.8289035579987934}, 'MobileNetV2': {'accuracy': 0.75, 'confidence': 0.5684767713149389, 'avg_response_time': 0.071887797473266, 'max_response_time': 0.10884077820269697, 'contribution': 0.5684767713149389}, 'ResNet50V2': {'accuracy': 1.0, 'confidence': 0.5565559466679891, 'avg_response_time': 0.11347026663042319, 'max_response_time': 0.12229664638153938, 'contribution': 0.5565559466679891}, 'ensemble': {'accuracy': 0.9642857142857143, 'confidence': 0.8287157492179303, 'avg_response_time': 6.3483617473997525, 'max_response_time': 7.168263599886896, 'contribution': 0.9463158952338355}, 'EfficientNetV2S': {'accuracy': 0.9230769230769231, 'confidence': 0.8238751131754655, 'avg_response_time': 1.1486689386864373, 'max_response_time': 1.186519774882767, 'contribution': 0.8238751131754655}, 'NASNetLarge': {'accuracy': 0.92, 'confidence': 0.8242279672622681, 'avg_response_time': 3.816803185193452, 'max_response_time': 3.8901752518693726, 'contribution': 0.8557301163673401}, 'EfficientNetB7': {'accuracy': 1.0, 'confidence': 0.7600112298260564, 'avg_response_time': 7.117203788143731, 'max_response_time': 7.163333669243945, 'contribution': 0.766367697197458}, 'DenseNet201': {'accuracy': 0.8095238095238095, 'confidence': 0.7895765418098086, 'avg_response_time': 0.5839342526732746, 'max_response_time': 0.608392039420268, 'contribution': 0.7895765418098086}, 'Xception': {'accuracy': 0.8235294117647058, 'confidence': 0.7113276614862329, 'avg_response_time': 0.9906865891131036, 'max_response_time': 1.0291758179705475, 'contribution': 0.7507773707894718}, 'InceptionV3': {'accuracy': 0.8125, 'confidence': 0.7711728252470493, 'avg_response_time': 0.5799968381501519, 'max_response_time': 0.6230650001402411, 'contribution': 0.8166520744562149}}, 'input_state': {'input_file_length': 15, 'image_height': 224, 'image_width': 224}, 'distribution_weights': [1.0, 1.0, 1.0, 1.0, 1.0, 0.0, 0.0, 0.0, 0.0, 0.0, 0.0, 0.0, 0.0, 0.0, 0.0, 0.0, 0.0, 0.0, 0.0, 0.0]}\n",
      "Flattened state appended to results/reinforcement_learning.csv\n",
      "REWARD:  0.9642857142857143\n",
      "STATE:  {'ensemble_state': {'total_energy_consumption': 0.01894598299398171, 'ensemble_size': 14}, 'model_states': {'InceptionResNetV2': {'accuracy': 0.896551724137931, 'confidence': 0.8201035261154175, 'avg_response_time': 2.068233429881966, 'max_response_time': 2.140760123997036, 'contribution': 0.8318344991782616}, 'MobileNetV2': {'accuracy': 0.7692307692307693, 'confidence': 0.5863277866290166, 'avg_response_time': 0.07661043993326076, 'max_response_time': 0.13328214945319794, 'contribution': 0.5863277866290166}, 'ResNet50V2': {'accuracy': 1.0, 'confidence': 0.5565559466679891, 'avg_response_time': 0.11347026663042319, 'max_response_time': 0.12229664638153938, 'contribution': 0.5565559466679891}, 'ensemble': {'accuracy': 0.9655172413793104, 'confidence': 0.8311482086373331, 'avg_response_time': 6.37625986487531, 'max_response_time': 7.168263599886896, 'contribution': 0.9479673422616104}, 'EfficientNetV2S': {'accuracy': 0.9259259259259259, 'confidence': 0.8260230907687435, 'avg_response_time': 1.149825967772777, 'max_response_time': 1.186519774882767, 'contribution': 0.8260230907687435}, 'NASNetLarge': {'accuracy': 0.9230769230769231, 'confidence': 0.8271770775318146, 'avg_response_time': 3.8186551502126393, 'max_response_time': 3.8901752518693726, 'contribution': 0.8574676055174607}, 'EfficientNetB7': {'accuracy': 1.0, 'confidence': 0.7612999305129051, 'avg_response_time': 7.118507708301672, 'max_response_time': 7.163333669243945, 'contribution': 0.767391545077165}, 'DenseNet201': {'accuracy': 0.8181818181818182, 'confidence': 0.7988233268260956, 'avg_response_time': 0.5848103858867404, 'max_response_time': 0.608392039420268, 'contribution': 0.7988233268260956}, 'Xception': {'accuracy': 0.8333333333333334, 'confidence': 0.7261082430680593, 'avg_response_time': 0.9911194360172192, 'max_response_time': 1.0291758179705475, 'contribution': 0.7633663018544515}, 'InceptionV3': {'accuracy': 0.8235294117647058, 'confidence': 0.7817322646870333, 'avg_response_time': 0.5810539988064772, 'max_response_time': 0.6230650001402411, 'contribution': 0.8245362639427185}}, 'input_state': {'input_file_length': 14, 'image_height': 224, 'image_width': 224}, 'distribution_weights': [1.0, 1.0, 1.0, 1.0, 1.0, 0.0, 0.0, 0.0, 0.0, 0.0, 0.0, 0.0, 0.0, 0.0, 0.0, 0.0, 0.0, 0.0, 0.0, 0.0]}\n",
      "Flattened state appended to results/reinforcement_learning.csv\n",
      "REWARD:  0.9655172413793104\n",
      "Best model: ResNet50V2 with score: 0.7573739295908658\n"
     ]
    },
    {
     "ename": "KeyboardInterrupt",
     "evalue": "",
     "output_type": "error",
     "traceback": [
      "\u001b[1;31m---------------------------------------------------------------------------\u001b[0m",
      "\u001b[1;31mKeyboardInterrupt\u001b[0m                         Traceback (most recent call last)",
      "Cell \u001b[1;32mIn[7], line 10\u001b[0m\n\u001b[0;32m      8\u001b[0m \u001b[38;5;66;03m# Train the agent\u001b[39;00m\n\u001b[0;32m      9\u001b[0m model \u001b[38;5;241m=\u001b[39m PPO(\u001b[38;5;124m\"\u001b[39m\u001b[38;5;124mMlpPolicy\u001b[39m\u001b[38;5;124m\"\u001b[39m, env, verbose\u001b[38;5;241m=\u001b[39m\u001b[38;5;241m1\u001b[39m, n_steps\u001b[38;5;241m=\u001b[39m\u001b[38;5;241m1028\u001b[39m)\n\u001b[1;32m---> 10\u001b[0m \u001b[43mmodel\u001b[49m\u001b[38;5;241;43m.\u001b[39;49m\u001b[43mlearn\u001b[49m\u001b[43m(\u001b[49m\u001b[43mtotal_timesteps\u001b[49m\u001b[38;5;241;43m=\u001b[39;49m\u001b[38;5;241;43m1\u001b[39;49m\u001b[43m)\u001b[49m\n\u001b[0;32m     12\u001b[0m \u001b[38;5;66;03m# Save the trained model\u001b[39;00m\n\u001b[0;32m     13\u001b[0m model\u001b[38;5;241m.\u001b[39msave(\u001b[38;5;124m\"\u001b[39m\u001b[38;5;124msimulation_policy\u001b[39m\u001b[38;5;124m\"\u001b[39m)\n",
      "File \u001b[1;32mc:\\Users\\Filippo\\anaconda3\\Lib\\site-packages\\stable_baselines3\\ppo\\ppo.py:311\u001b[0m, in \u001b[0;36mPPO.learn\u001b[1;34m(self, total_timesteps, callback, log_interval, tb_log_name, reset_num_timesteps, progress_bar)\u001b[0m\n\u001b[0;32m    302\u001b[0m \u001b[38;5;28;01mdef\u001b[39;00m \u001b[38;5;21mlearn\u001b[39m(\n\u001b[0;32m    303\u001b[0m     \u001b[38;5;28mself\u001b[39m: SelfPPO,\n\u001b[0;32m    304\u001b[0m     total_timesteps: \u001b[38;5;28mint\u001b[39m,\n\u001b[1;32m   (...)\u001b[0m\n\u001b[0;32m    309\u001b[0m     progress_bar: \u001b[38;5;28mbool\u001b[39m \u001b[38;5;241m=\u001b[39m \u001b[38;5;28;01mFalse\u001b[39;00m,\n\u001b[0;32m    310\u001b[0m ) \u001b[38;5;241m-\u001b[39m\u001b[38;5;241m>\u001b[39m SelfPPO:\n\u001b[1;32m--> 311\u001b[0m     \u001b[38;5;28;01mreturn\u001b[39;00m \u001b[38;5;28;43msuper\u001b[39;49m\u001b[43m(\u001b[49m\u001b[43m)\u001b[49m\u001b[38;5;241;43m.\u001b[39;49m\u001b[43mlearn\u001b[49m\u001b[43m(\u001b[49m\n\u001b[0;32m    312\u001b[0m \u001b[43m        \u001b[49m\u001b[43mtotal_timesteps\u001b[49m\u001b[38;5;241;43m=\u001b[39;49m\u001b[43mtotal_timesteps\u001b[49m\u001b[43m,\u001b[49m\n\u001b[0;32m    313\u001b[0m \u001b[43m        \u001b[49m\u001b[43mcallback\u001b[49m\u001b[38;5;241;43m=\u001b[39;49m\u001b[43mcallback\u001b[49m\u001b[43m,\u001b[49m\n\u001b[0;32m    314\u001b[0m \u001b[43m        \u001b[49m\u001b[43mlog_interval\u001b[49m\u001b[38;5;241;43m=\u001b[39;49m\u001b[43mlog_interval\u001b[49m\u001b[43m,\u001b[49m\n\u001b[0;32m    315\u001b[0m \u001b[43m        \u001b[49m\u001b[43mtb_log_name\u001b[49m\u001b[38;5;241;43m=\u001b[39;49m\u001b[43mtb_log_name\u001b[49m\u001b[43m,\u001b[49m\n\u001b[0;32m    316\u001b[0m \u001b[43m        \u001b[49m\u001b[43mreset_num_timesteps\u001b[49m\u001b[38;5;241;43m=\u001b[39;49m\u001b[43mreset_num_timesteps\u001b[49m\u001b[43m,\u001b[49m\n\u001b[0;32m    317\u001b[0m \u001b[43m        \u001b[49m\u001b[43mprogress_bar\u001b[49m\u001b[38;5;241;43m=\u001b[39;49m\u001b[43mprogress_bar\u001b[49m\u001b[43m,\u001b[49m\n\u001b[0;32m    318\u001b[0m \u001b[43m    \u001b[49m\u001b[43m)\u001b[49m\n",
      "File \u001b[1;32mc:\\Users\\Filippo\\anaconda3\\Lib\\site-packages\\stable_baselines3\\common\\on_policy_algorithm.py:323\u001b[0m, in \u001b[0;36mOnPolicyAlgorithm.learn\u001b[1;34m(self, total_timesteps, callback, log_interval, tb_log_name, reset_num_timesteps, progress_bar)\u001b[0m\n\u001b[0;32m    320\u001b[0m \u001b[38;5;28;01massert\u001b[39;00m \u001b[38;5;28mself\u001b[39m\u001b[38;5;241m.\u001b[39menv \u001b[38;5;129;01mis\u001b[39;00m \u001b[38;5;129;01mnot\u001b[39;00m \u001b[38;5;28;01mNone\u001b[39;00m\n\u001b[0;32m    322\u001b[0m \u001b[38;5;28;01mwhile\u001b[39;00m \u001b[38;5;28mself\u001b[39m\u001b[38;5;241m.\u001b[39mnum_timesteps \u001b[38;5;241m<\u001b[39m total_timesteps:\n\u001b[1;32m--> 323\u001b[0m     continue_training \u001b[38;5;241m=\u001b[39m \u001b[38;5;28;43mself\u001b[39;49m\u001b[38;5;241;43m.\u001b[39;49m\u001b[43mcollect_rollouts\u001b[49m\u001b[43m(\u001b[49m\u001b[38;5;28;43mself\u001b[39;49m\u001b[38;5;241;43m.\u001b[39;49m\u001b[43menv\u001b[49m\u001b[43m,\u001b[49m\u001b[43m \u001b[49m\u001b[43mcallback\u001b[49m\u001b[43m,\u001b[49m\u001b[43m \u001b[49m\u001b[38;5;28;43mself\u001b[39;49m\u001b[38;5;241;43m.\u001b[39;49m\u001b[43mrollout_buffer\u001b[49m\u001b[43m,\u001b[49m\u001b[43m \u001b[49m\u001b[43mn_rollout_steps\u001b[49m\u001b[38;5;241;43m=\u001b[39;49m\u001b[38;5;28;43mself\u001b[39;49m\u001b[38;5;241;43m.\u001b[39;49m\u001b[43mn_steps\u001b[49m\u001b[43m)\u001b[49m\n\u001b[0;32m    325\u001b[0m     \u001b[38;5;28;01mif\u001b[39;00m \u001b[38;5;129;01mnot\u001b[39;00m continue_training:\n\u001b[0;32m    326\u001b[0m         \u001b[38;5;28;01mbreak\u001b[39;00m\n",
      "File \u001b[1;32mc:\\Users\\Filippo\\anaconda3\\Lib\\site-packages\\stable_baselines3\\common\\on_policy_algorithm.py:218\u001b[0m, in \u001b[0;36mOnPolicyAlgorithm.collect_rollouts\u001b[1;34m(self, env, callback, rollout_buffer, n_rollout_steps)\u001b[0m\n\u001b[0;32m    213\u001b[0m     \u001b[38;5;28;01melse\u001b[39;00m:\n\u001b[0;32m    214\u001b[0m         \u001b[38;5;66;03m# Otherwise, clip the actions to avoid out of bound error\u001b[39;00m\n\u001b[0;32m    215\u001b[0m         \u001b[38;5;66;03m# as we are sampling from an unbounded Gaussian distribution\u001b[39;00m\n\u001b[0;32m    216\u001b[0m         clipped_actions \u001b[38;5;241m=\u001b[39m np\u001b[38;5;241m.\u001b[39mclip(actions, \u001b[38;5;28mself\u001b[39m\u001b[38;5;241m.\u001b[39maction_space\u001b[38;5;241m.\u001b[39mlow, \u001b[38;5;28mself\u001b[39m\u001b[38;5;241m.\u001b[39maction_space\u001b[38;5;241m.\u001b[39mhigh)\n\u001b[1;32m--> 218\u001b[0m new_obs, rewards, dones, infos \u001b[38;5;241m=\u001b[39m \u001b[43menv\u001b[49m\u001b[38;5;241;43m.\u001b[39;49m\u001b[43mstep\u001b[49m\u001b[43m(\u001b[49m\u001b[43mclipped_actions\u001b[49m\u001b[43m)\u001b[49m\n\u001b[0;32m    220\u001b[0m \u001b[38;5;28mself\u001b[39m\u001b[38;5;241m.\u001b[39mnum_timesteps \u001b[38;5;241m+\u001b[39m\u001b[38;5;241m=\u001b[39m env\u001b[38;5;241m.\u001b[39mnum_envs\n\u001b[0;32m    222\u001b[0m \u001b[38;5;66;03m# Give access to local variables\u001b[39;00m\n",
      "File \u001b[1;32mc:\\Users\\Filippo\\anaconda3\\Lib\\site-packages\\stable_baselines3\\common\\vec_env\\base_vec_env.py:206\u001b[0m, in \u001b[0;36mVecEnv.step\u001b[1;34m(self, actions)\u001b[0m\n\u001b[0;32m    199\u001b[0m \u001b[38;5;250m\u001b[39m\u001b[38;5;124;03m\"\"\"\u001b[39;00m\n\u001b[0;32m    200\u001b[0m \u001b[38;5;124;03mStep the environments with the given action\u001b[39;00m\n\u001b[0;32m    201\u001b[0m \n\u001b[0;32m    202\u001b[0m \u001b[38;5;124;03m:param actions: the action\u001b[39;00m\n\u001b[0;32m    203\u001b[0m \u001b[38;5;124;03m:return: observation, reward, done, information\u001b[39;00m\n\u001b[0;32m    204\u001b[0m \u001b[38;5;124;03m\"\"\"\u001b[39;00m\n\u001b[0;32m    205\u001b[0m \u001b[38;5;28mself\u001b[39m\u001b[38;5;241m.\u001b[39mstep_async(actions)\n\u001b[1;32m--> 206\u001b[0m \u001b[38;5;28;01mreturn\u001b[39;00m \u001b[38;5;28;43mself\u001b[39;49m\u001b[38;5;241;43m.\u001b[39;49m\u001b[43mstep_wait\u001b[49m\u001b[43m(\u001b[49m\u001b[43m)\u001b[49m\n",
      "File \u001b[1;32mc:\\Users\\Filippo\\anaconda3\\Lib\\site-packages\\stable_baselines3\\common\\vec_env\\dummy_vec_env.py:58\u001b[0m, in \u001b[0;36mDummyVecEnv.step_wait\u001b[1;34m(self)\u001b[0m\n\u001b[0;32m     55\u001b[0m \u001b[38;5;28;01mdef\u001b[39;00m \u001b[38;5;21mstep_wait\u001b[39m(\u001b[38;5;28mself\u001b[39m) \u001b[38;5;241m-\u001b[39m\u001b[38;5;241m>\u001b[39m VecEnvStepReturn:\n\u001b[0;32m     56\u001b[0m     \u001b[38;5;66;03m# Avoid circular imports\u001b[39;00m\n\u001b[0;32m     57\u001b[0m     \u001b[38;5;28;01mfor\u001b[39;00m env_idx \u001b[38;5;129;01min\u001b[39;00m \u001b[38;5;28mrange\u001b[39m(\u001b[38;5;28mself\u001b[39m\u001b[38;5;241m.\u001b[39mnum_envs):\n\u001b[1;32m---> 58\u001b[0m         obs, \u001b[38;5;28mself\u001b[39m\u001b[38;5;241m.\u001b[39mbuf_rews[env_idx], terminated, truncated, \u001b[38;5;28mself\u001b[39m\u001b[38;5;241m.\u001b[39mbuf_infos[env_idx] \u001b[38;5;241m=\u001b[39m \u001b[38;5;28;43mself\u001b[39;49m\u001b[38;5;241;43m.\u001b[39;49m\u001b[43menvs\u001b[49m\u001b[43m[\u001b[49m\u001b[43menv_idx\u001b[49m\u001b[43m]\u001b[49m\u001b[38;5;241;43m.\u001b[39;49m\u001b[43mstep\u001b[49m\u001b[43m(\u001b[49m\n\u001b[0;32m     59\u001b[0m \u001b[43m            \u001b[49m\u001b[38;5;28;43mself\u001b[39;49m\u001b[38;5;241;43m.\u001b[39;49m\u001b[43mactions\u001b[49m\u001b[43m[\u001b[49m\u001b[43menv_idx\u001b[49m\u001b[43m]\u001b[49m\n\u001b[0;32m     60\u001b[0m \u001b[43m        \u001b[49m\u001b[43m)\u001b[49m\n\u001b[0;32m     61\u001b[0m         \u001b[38;5;66;03m# convert to SB3 VecEnv api\u001b[39;00m\n\u001b[0;32m     62\u001b[0m         \u001b[38;5;28mself\u001b[39m\u001b[38;5;241m.\u001b[39mbuf_dones[env_idx] \u001b[38;5;241m=\u001b[39m terminated \u001b[38;5;129;01mor\u001b[39;00m truncated\n",
      "File \u001b[1;32mc:\\Users\\Filippo\\anaconda3\\Lib\\site-packages\\stable_baselines3\\common\\monitor.py:94\u001b[0m, in \u001b[0;36mMonitor.step\u001b[1;34m(self, action)\u001b[0m\n\u001b[0;32m     92\u001b[0m \u001b[38;5;28;01mif\u001b[39;00m \u001b[38;5;28mself\u001b[39m\u001b[38;5;241m.\u001b[39mneeds_reset:\n\u001b[0;32m     93\u001b[0m     \u001b[38;5;28;01mraise\u001b[39;00m \u001b[38;5;167;01mRuntimeError\u001b[39;00m(\u001b[38;5;124m\"\u001b[39m\u001b[38;5;124mTried to step environment that needs reset\u001b[39m\u001b[38;5;124m\"\u001b[39m)\n\u001b[1;32m---> 94\u001b[0m observation, reward, terminated, truncated, info \u001b[38;5;241m=\u001b[39m \u001b[38;5;28;43mself\u001b[39;49m\u001b[38;5;241;43m.\u001b[39;49m\u001b[43menv\u001b[49m\u001b[38;5;241;43m.\u001b[39;49m\u001b[43mstep\u001b[49m\u001b[43m(\u001b[49m\u001b[43maction\u001b[49m\u001b[43m)\u001b[49m\n\u001b[0;32m     95\u001b[0m \u001b[38;5;28mself\u001b[39m\u001b[38;5;241m.\u001b[39mrewards\u001b[38;5;241m.\u001b[39mappend(\u001b[38;5;28mfloat\u001b[39m(reward))\n\u001b[0;32m     96\u001b[0m \u001b[38;5;28;01mif\u001b[39;00m terminated \u001b[38;5;129;01mor\u001b[39;00m truncated:\n",
      "File \u001b[1;32mc:\\Users\\Filippo\\anaconda3\\Lib\\site-packages\\shimmy\\openai_gym_compatibility.py:250\u001b[0m, in \u001b[0;36mGymV21CompatibilityV0.step\u001b[1;34m(self, action)\u001b[0m\n\u001b[0;32m    241\u001b[0m \u001b[38;5;28;01mdef\u001b[39;00m \u001b[38;5;21mstep\u001b[39m(\u001b[38;5;28mself\u001b[39m, action: ActType) \u001b[38;5;241m-\u001b[39m\u001b[38;5;241m>\u001b[39m \u001b[38;5;28mtuple\u001b[39m[Any, \u001b[38;5;28mfloat\u001b[39m, \u001b[38;5;28mbool\u001b[39m, \u001b[38;5;28mbool\u001b[39m, \u001b[38;5;28mdict\u001b[39m]:\n\u001b[0;32m    242\u001b[0m \u001b[38;5;250m    \u001b[39m\u001b[38;5;124;03m\"\"\"Steps through the environment.\u001b[39;00m\n\u001b[0;32m    243\u001b[0m \n\u001b[0;32m    244\u001b[0m \u001b[38;5;124;03m    Args:\u001b[39;00m\n\u001b[1;32m   (...)\u001b[0m\n\u001b[0;32m    248\u001b[0m \u001b[38;5;124;03m        (observation, reward, terminated, truncated, info)\u001b[39;00m\n\u001b[0;32m    249\u001b[0m \u001b[38;5;124;03m    \"\"\"\u001b[39;00m\n\u001b[1;32m--> 250\u001b[0m     obs, reward, done, info \u001b[38;5;241m=\u001b[39m \u001b[38;5;28;43mself\u001b[39;49m\u001b[38;5;241;43m.\u001b[39;49m\u001b[43mgym_env\u001b[49m\u001b[38;5;241;43m.\u001b[39;49m\u001b[43mstep\u001b[49m\u001b[43m(\u001b[49m\u001b[43maction\u001b[49m\u001b[43m)\u001b[49m\n\u001b[0;32m    252\u001b[0m     \u001b[38;5;28;01mif\u001b[39;00m \u001b[38;5;28mself\u001b[39m\u001b[38;5;241m.\u001b[39mrender_mode \u001b[38;5;129;01mis\u001b[39;00m \u001b[38;5;129;01mnot\u001b[39;00m \u001b[38;5;28;01mNone\u001b[39;00m:\n\u001b[0;32m    253\u001b[0m         \u001b[38;5;28mself\u001b[39m\u001b[38;5;241m.\u001b[39mrender()\n",
      "Cell \u001b[1;32mIn[6], line 63\u001b[0m, in \u001b[0;36mSimulationEnv.step\u001b[1;34m(self, action)\u001b[0m\n\u001b[0;32m     61\u001b[0m     \u001b[38;5;28mself\u001b[39m\u001b[38;5;241m.\u001b[39mapply_action(\u001b[38;5;124m\"\u001b[39m\u001b[38;5;124mkeep_ensemble\u001b[39m\u001b[38;5;124m\"\u001b[39m)\n\u001b[0;32m     62\u001b[0m \u001b[38;5;28;01melif\u001b[39;00m action \u001b[38;5;241m==\u001b[39m \u001b[38;5;241m1\u001b[39m:\n\u001b[1;32m---> 63\u001b[0m     \u001b[38;5;28;43mself\u001b[39;49m\u001b[38;5;241;43m.\u001b[39;49m\u001b[43mapply_action\u001b[49m\u001b[43m(\u001b[49m\u001b[38;5;124;43m\"\u001b[39;49m\u001b[38;5;124;43madd_model\u001b[39;49m\u001b[38;5;124;43m\"\u001b[39;49m\u001b[43m)\u001b[49m\n\u001b[0;32m     64\u001b[0m \u001b[38;5;28;01melif\u001b[39;00m action \u001b[38;5;241m==\u001b[39m \u001b[38;5;241m2\u001b[39m:\n\u001b[0;32m     65\u001b[0m     \u001b[38;5;28mself\u001b[39m\u001b[38;5;241m.\u001b[39mapply_action(\u001b[38;5;124m\"\u001b[39m\u001b[38;5;124mreplace_model\u001b[39m\u001b[38;5;124m\"\u001b[39m)\n",
      "Cell \u001b[1;32mIn[6], line 103\u001b[0m, in \u001b[0;36mSimulationEnv.apply_action\u001b[1;34m(self, action)\u001b[0m\n\u001b[0;32m    100\u001b[0m     logging\u001b[38;5;241m.\u001b[39minfo(\u001b[38;5;124m\"\u001b[39m\u001b[38;5;124mAction: Keeping the ensemble\u001b[39m\u001b[38;5;124m\"\u001b[39m)\n\u001b[0;32m    102\u001b[0m \u001b[38;5;28;01melif\u001b[39;00m action \u001b[38;5;241m==\u001b[39m \u001b[38;5;124m\"\u001b[39m\u001b[38;5;124madd_model\u001b[39m\u001b[38;5;124m\"\u001b[39m:\n\u001b[1;32m--> 103\u001b[0m     \u001b[43mmanager\u001b[49m\u001b[38;5;241;43m.\u001b[39;49m\u001b[43madd_best_model\u001b[49m\u001b[43m(\u001b[49m\u001b[43mweights\u001b[49m\u001b[43m)\u001b[49m\n\u001b[0;32m    104\u001b[0m     logging\u001b[38;5;241m.\u001b[39minfo(\u001b[38;5;124m\"\u001b[39m\u001b[38;5;124mAction: Adding a model\u001b[39m\u001b[38;5;124m\"\u001b[39m)\n\u001b[0;32m    105\u001b[0m     \u001b[38;5;66;03m# Logic for adding a new model (Placeholder)\u001b[39;00m\n",
      "File \u001b[1;32mc:\\Documents\\Aalto Semester 2\\ResearchCloud\\RL_simulation\\config_manager.py:196\u001b[0m, in \u001b[0;36mConfigManager.add_best_model\u001b[1;34m(self, weights)\u001b[0m\n\u001b[0;32m    194\u001b[0m best_model_name \u001b[38;5;241m=\u001b[39m \u001b[38;5;28mself\u001b[39m\u001b[38;5;241m.\u001b[39mselect_best_model(weights)\n\u001b[0;32m    195\u001b[0m \u001b[38;5;28;01mif\u001b[39;00m best_model_name:\n\u001b[1;32m--> 196\u001b[0m     \u001b[38;5;28;43mself\u001b[39;49m\u001b[38;5;241;43m.\u001b[39;49m\u001b[43madd_model\u001b[49m\u001b[43m(\u001b[49m\u001b[43mbest_model_name\u001b[49m\u001b[43m)\u001b[49m\n",
      "File \u001b[1;32mc:\\Documents\\Aalto Semester 2\\ResearchCloud\\RL_simulation\\config_manager.py:59\u001b[0m, in \u001b[0;36mConfigManager.add_model\u001b[1;34m(self, model_name)\u001b[0m\n\u001b[0;32m     57\u001b[0m \u001b[38;5;28;01mdef\u001b[39;00m \u001b[38;5;21madd_model\u001b[39m(\u001b[38;5;28mself\u001b[39m, model_name: \u001b[38;5;28mstr\u001b[39m):\n\u001b[0;32m     58\u001b[0m \u001b[38;5;250m    \u001b[39m\u001b[38;5;124;03m\"\"\"Add a single model to the target YAML.\"\"\"\u001b[39;00m\n\u001b[1;32m---> 59\u001b[0m     model_profiles \u001b[38;5;241m=\u001b[39m \u001b[38;5;28;43mself\u001b[39;49m\u001b[38;5;241;43m.\u001b[39;49m\u001b[43mload_yaml\u001b[49m\u001b[43m(\u001b[49m\u001b[38;5;28;43mself\u001b[39;49m\u001b[38;5;241;43m.\u001b[39;49m\u001b[43mmodel_profile_path\u001b[49m\u001b[43m)\u001b[49m\n\u001b[0;32m     60\u001b[0m     \u001b[38;5;28;01mif\u001b[39;00m model_profiles \u001b[38;5;129;01mis\u001b[39;00m \u001b[38;5;28;01mNone\u001b[39;00m \u001b[38;5;129;01mor\u001b[39;00m model_name \u001b[38;5;129;01mnot\u001b[39;00m \u001b[38;5;129;01min\u001b[39;00m model_profiles:\n\u001b[0;32m     61\u001b[0m         \u001b[38;5;28mprint\u001b[39m(\u001b[38;5;124mf\u001b[39m\u001b[38;5;124m\"\u001b[39m\u001b[38;5;124mModel \u001b[39m\u001b[38;5;124m'\u001b[39m\u001b[38;5;132;01m{\u001b[39;00mmodel_name\u001b[38;5;132;01m}\u001b[39;00m\u001b[38;5;124m'\u001b[39m\u001b[38;5;124m not found in model profiles.\u001b[39m\u001b[38;5;124m\"\u001b[39m)\n",
      "File \u001b[1;32mc:\\Documents\\Aalto Semester 2\\ResearchCloud\\RL_simulation\\config_manager.py:15\u001b[0m, in \u001b[0;36mConfigManager.load_yaml\u001b[1;34m(self, path)\u001b[0m\n\u001b[0;32m     13\u001b[0m \u001b[38;5;28;01mtry\u001b[39;00m:\n\u001b[0;32m     14\u001b[0m     \u001b[38;5;28;01mwith\u001b[39;00m \u001b[38;5;28mopen\u001b[39m(path, \u001b[38;5;124m'\u001b[39m\u001b[38;5;124mr\u001b[39m\u001b[38;5;124m'\u001b[39m) \u001b[38;5;28;01mas\u001b[39;00m file:\n\u001b[1;32m---> 15\u001b[0m         \u001b[38;5;28;01mreturn\u001b[39;00m \u001b[43myaml\u001b[49m\u001b[38;5;241;43m.\u001b[39;49m\u001b[43msafe_load\u001b[49m\u001b[43m(\u001b[49m\u001b[43mfile\u001b[49m\u001b[43m)\u001b[49m\n\u001b[0;32m     16\u001b[0m \u001b[38;5;28;01mexcept\u001b[39;00m \u001b[38;5;167;01mFileNotFoundError\u001b[39;00m:\n\u001b[0;32m     17\u001b[0m     \u001b[38;5;28mprint\u001b[39m(\u001b[38;5;124mf\u001b[39m\u001b[38;5;124m\"\u001b[39m\u001b[38;5;124mFile not found: \u001b[39m\u001b[38;5;132;01m{\u001b[39;00mpath\u001b[38;5;132;01m}\u001b[39;00m\u001b[38;5;124m\"\u001b[39m)\n",
      "File \u001b[1;32mc:\\Users\\Filippo\\anaconda3\\Lib\\site-packages\\yaml\\__init__.py:125\u001b[0m, in \u001b[0;36msafe_load\u001b[1;34m(stream)\u001b[0m\n\u001b[0;32m    117\u001b[0m \u001b[38;5;28;01mdef\u001b[39;00m \u001b[38;5;21msafe_load\u001b[39m(stream):\n\u001b[0;32m    118\u001b[0m \u001b[38;5;250m    \u001b[39m\u001b[38;5;124;03m\"\"\"\u001b[39;00m\n\u001b[0;32m    119\u001b[0m \u001b[38;5;124;03m    Parse the first YAML document in a stream\u001b[39;00m\n\u001b[0;32m    120\u001b[0m \u001b[38;5;124;03m    and produce the corresponding Python object.\u001b[39;00m\n\u001b[1;32m   (...)\u001b[0m\n\u001b[0;32m    123\u001b[0m \u001b[38;5;124;03m    to be safe for untrusted input.\u001b[39;00m\n\u001b[0;32m    124\u001b[0m \u001b[38;5;124;03m    \"\"\"\u001b[39;00m\n\u001b[1;32m--> 125\u001b[0m     \u001b[38;5;28;01mreturn\u001b[39;00m \u001b[43mload\u001b[49m\u001b[43m(\u001b[49m\u001b[43mstream\u001b[49m\u001b[43m,\u001b[49m\u001b[43m \u001b[49m\u001b[43mSafeLoader\u001b[49m\u001b[43m)\u001b[49m\n",
      "File \u001b[1;32mc:\\Users\\Filippo\\anaconda3\\Lib\\site-packages\\yaml\\__init__.py:81\u001b[0m, in \u001b[0;36mload\u001b[1;34m(stream, Loader)\u001b[0m\n\u001b[0;32m     79\u001b[0m loader \u001b[38;5;241m=\u001b[39m Loader(stream)\n\u001b[0;32m     80\u001b[0m \u001b[38;5;28;01mtry\u001b[39;00m:\n\u001b[1;32m---> 81\u001b[0m     \u001b[38;5;28;01mreturn\u001b[39;00m \u001b[43mloader\u001b[49m\u001b[38;5;241;43m.\u001b[39;49m\u001b[43mget_single_data\u001b[49m\u001b[43m(\u001b[49m\u001b[43m)\u001b[49m\n\u001b[0;32m     82\u001b[0m \u001b[38;5;28;01mfinally\u001b[39;00m:\n\u001b[0;32m     83\u001b[0m     loader\u001b[38;5;241m.\u001b[39mdispose()\n",
      "File \u001b[1;32mc:\\Users\\Filippo\\anaconda3\\Lib\\site-packages\\yaml\\constructor.py:49\u001b[0m, in \u001b[0;36mBaseConstructor.get_single_data\u001b[1;34m(self)\u001b[0m\n\u001b[0;32m     47\u001b[0m \u001b[38;5;28;01mdef\u001b[39;00m \u001b[38;5;21mget_single_data\u001b[39m(\u001b[38;5;28mself\u001b[39m):\n\u001b[0;32m     48\u001b[0m     \u001b[38;5;66;03m# Ensure that the stream contains a single document and construct it.\u001b[39;00m\n\u001b[1;32m---> 49\u001b[0m     node \u001b[38;5;241m=\u001b[39m \u001b[38;5;28;43mself\u001b[39;49m\u001b[38;5;241;43m.\u001b[39;49m\u001b[43mget_single_node\u001b[49m\u001b[43m(\u001b[49m\u001b[43m)\u001b[49m\n\u001b[0;32m     50\u001b[0m     \u001b[38;5;28;01mif\u001b[39;00m node \u001b[38;5;129;01mis\u001b[39;00m \u001b[38;5;129;01mnot\u001b[39;00m \u001b[38;5;28;01mNone\u001b[39;00m:\n\u001b[0;32m     51\u001b[0m         \u001b[38;5;28;01mreturn\u001b[39;00m \u001b[38;5;28mself\u001b[39m\u001b[38;5;241m.\u001b[39mconstruct_document(node)\n",
      "File \u001b[1;32mc:\\Users\\Filippo\\anaconda3\\Lib\\site-packages\\yaml\\composer.py:36\u001b[0m, in \u001b[0;36mComposer.get_single_node\u001b[1;34m(self)\u001b[0m\n\u001b[0;32m     34\u001b[0m document \u001b[38;5;241m=\u001b[39m \u001b[38;5;28;01mNone\u001b[39;00m\n\u001b[0;32m     35\u001b[0m \u001b[38;5;28;01mif\u001b[39;00m \u001b[38;5;129;01mnot\u001b[39;00m \u001b[38;5;28mself\u001b[39m\u001b[38;5;241m.\u001b[39mcheck_event(StreamEndEvent):\n\u001b[1;32m---> 36\u001b[0m     document \u001b[38;5;241m=\u001b[39m \u001b[38;5;28;43mself\u001b[39;49m\u001b[38;5;241;43m.\u001b[39;49m\u001b[43mcompose_document\u001b[49m\u001b[43m(\u001b[49m\u001b[43m)\u001b[49m\n\u001b[0;32m     38\u001b[0m \u001b[38;5;66;03m# Ensure that the stream contains no more documents.\u001b[39;00m\n\u001b[0;32m     39\u001b[0m \u001b[38;5;28;01mif\u001b[39;00m \u001b[38;5;129;01mnot\u001b[39;00m \u001b[38;5;28mself\u001b[39m\u001b[38;5;241m.\u001b[39mcheck_event(StreamEndEvent):\n",
      "File \u001b[1;32mc:\\Users\\Filippo\\anaconda3\\Lib\\site-packages\\yaml\\composer.py:55\u001b[0m, in \u001b[0;36mComposer.compose_document\u001b[1;34m(self)\u001b[0m\n\u001b[0;32m     52\u001b[0m \u001b[38;5;28mself\u001b[39m\u001b[38;5;241m.\u001b[39mget_event()\n\u001b[0;32m     54\u001b[0m \u001b[38;5;66;03m# Compose the root node.\u001b[39;00m\n\u001b[1;32m---> 55\u001b[0m node \u001b[38;5;241m=\u001b[39m \u001b[38;5;28;43mself\u001b[39;49m\u001b[38;5;241;43m.\u001b[39;49m\u001b[43mcompose_node\u001b[49m\u001b[43m(\u001b[49m\u001b[38;5;28;43;01mNone\u001b[39;49;00m\u001b[43m,\u001b[49m\u001b[43m \u001b[49m\u001b[38;5;28;43;01mNone\u001b[39;49;00m\u001b[43m)\u001b[49m\n\u001b[0;32m     57\u001b[0m \u001b[38;5;66;03m# Drop the DOCUMENT-END event.\u001b[39;00m\n\u001b[0;32m     58\u001b[0m \u001b[38;5;28mself\u001b[39m\u001b[38;5;241m.\u001b[39mget_event()\n",
      "File \u001b[1;32mc:\\Users\\Filippo\\anaconda3\\Lib\\site-packages\\yaml\\composer.py:84\u001b[0m, in \u001b[0;36mComposer.compose_node\u001b[1;34m(self, parent, index)\u001b[0m\n\u001b[0;32m     82\u001b[0m     node \u001b[38;5;241m=\u001b[39m \u001b[38;5;28mself\u001b[39m\u001b[38;5;241m.\u001b[39mcompose_sequence_node(anchor)\n\u001b[0;32m     83\u001b[0m \u001b[38;5;28;01melif\u001b[39;00m \u001b[38;5;28mself\u001b[39m\u001b[38;5;241m.\u001b[39mcheck_event(MappingStartEvent):\n\u001b[1;32m---> 84\u001b[0m     node \u001b[38;5;241m=\u001b[39m \u001b[38;5;28;43mself\u001b[39;49m\u001b[38;5;241;43m.\u001b[39;49m\u001b[43mcompose_mapping_node\u001b[49m\u001b[43m(\u001b[49m\u001b[43manchor\u001b[49m\u001b[43m)\u001b[49m\n\u001b[0;32m     85\u001b[0m \u001b[38;5;28mself\u001b[39m\u001b[38;5;241m.\u001b[39mascend_resolver()\n\u001b[0;32m     86\u001b[0m \u001b[38;5;28;01mreturn\u001b[39;00m node\n",
      "File \u001b[1;32mc:\\Users\\Filippo\\anaconda3\\Lib\\site-packages\\yaml\\composer.py:133\u001b[0m, in \u001b[0;36mComposer.compose_mapping_node\u001b[1;34m(self, anchor)\u001b[0m\n\u001b[0;32m    129\u001b[0m item_key \u001b[38;5;241m=\u001b[39m \u001b[38;5;28mself\u001b[39m\u001b[38;5;241m.\u001b[39mcompose_node(node, \u001b[38;5;28;01mNone\u001b[39;00m)\n\u001b[0;32m    130\u001b[0m \u001b[38;5;66;03m#if item_key in node.value:\u001b[39;00m\n\u001b[0;32m    131\u001b[0m \u001b[38;5;66;03m#    raise ComposerError(\"while composing a mapping\", start_event.start_mark,\u001b[39;00m\n\u001b[0;32m    132\u001b[0m \u001b[38;5;66;03m#            \"found duplicate key\", key_event.start_mark)\u001b[39;00m\n\u001b[1;32m--> 133\u001b[0m item_value \u001b[38;5;241m=\u001b[39m \u001b[38;5;28;43mself\u001b[39;49m\u001b[38;5;241;43m.\u001b[39;49m\u001b[43mcompose_node\u001b[49m\u001b[43m(\u001b[49m\u001b[43mnode\u001b[49m\u001b[43m,\u001b[49m\u001b[43m \u001b[49m\u001b[43mitem_key\u001b[49m\u001b[43m)\u001b[49m\n\u001b[0;32m    134\u001b[0m \u001b[38;5;66;03m#node.value[item_key] = item_value\u001b[39;00m\n\u001b[0;32m    135\u001b[0m node\u001b[38;5;241m.\u001b[39mvalue\u001b[38;5;241m.\u001b[39mappend((item_key, item_value))\n",
      "File \u001b[1;32mc:\\Users\\Filippo\\anaconda3\\Lib\\site-packages\\yaml\\composer.py:84\u001b[0m, in \u001b[0;36mComposer.compose_node\u001b[1;34m(self, parent, index)\u001b[0m\n\u001b[0;32m     82\u001b[0m     node \u001b[38;5;241m=\u001b[39m \u001b[38;5;28mself\u001b[39m\u001b[38;5;241m.\u001b[39mcompose_sequence_node(anchor)\n\u001b[0;32m     83\u001b[0m \u001b[38;5;28;01melif\u001b[39;00m \u001b[38;5;28mself\u001b[39m\u001b[38;5;241m.\u001b[39mcheck_event(MappingStartEvent):\n\u001b[1;32m---> 84\u001b[0m     node \u001b[38;5;241m=\u001b[39m \u001b[38;5;28;43mself\u001b[39;49m\u001b[38;5;241;43m.\u001b[39;49m\u001b[43mcompose_mapping_node\u001b[49m\u001b[43m(\u001b[49m\u001b[43manchor\u001b[49m\u001b[43m)\u001b[49m\n\u001b[0;32m     85\u001b[0m \u001b[38;5;28mself\u001b[39m\u001b[38;5;241m.\u001b[39mascend_resolver()\n\u001b[0;32m     86\u001b[0m \u001b[38;5;28;01mreturn\u001b[39;00m node\n",
      "File \u001b[1;32mc:\\Users\\Filippo\\anaconda3\\Lib\\site-packages\\yaml\\composer.py:133\u001b[0m, in \u001b[0;36mComposer.compose_mapping_node\u001b[1;34m(self, anchor)\u001b[0m\n\u001b[0;32m    129\u001b[0m item_key \u001b[38;5;241m=\u001b[39m \u001b[38;5;28mself\u001b[39m\u001b[38;5;241m.\u001b[39mcompose_node(node, \u001b[38;5;28;01mNone\u001b[39;00m)\n\u001b[0;32m    130\u001b[0m \u001b[38;5;66;03m#if item_key in node.value:\u001b[39;00m\n\u001b[0;32m    131\u001b[0m \u001b[38;5;66;03m#    raise ComposerError(\"while composing a mapping\", start_event.start_mark,\u001b[39;00m\n\u001b[0;32m    132\u001b[0m \u001b[38;5;66;03m#            \"found duplicate key\", key_event.start_mark)\u001b[39;00m\n\u001b[1;32m--> 133\u001b[0m item_value \u001b[38;5;241m=\u001b[39m \u001b[38;5;28;43mself\u001b[39;49m\u001b[38;5;241;43m.\u001b[39;49m\u001b[43mcompose_node\u001b[49m\u001b[43m(\u001b[49m\u001b[43mnode\u001b[49m\u001b[43m,\u001b[49m\u001b[43m \u001b[49m\u001b[43mitem_key\u001b[49m\u001b[43m)\u001b[49m\n\u001b[0;32m    134\u001b[0m \u001b[38;5;66;03m#node.value[item_key] = item_value\u001b[39;00m\n\u001b[0;32m    135\u001b[0m node\u001b[38;5;241m.\u001b[39mvalue\u001b[38;5;241m.\u001b[39mappend((item_key, item_value))\n",
      "File \u001b[1;32mc:\\Users\\Filippo\\anaconda3\\Lib\\site-packages\\yaml\\composer.py:64\u001b[0m, in \u001b[0;36mComposer.compose_node\u001b[1;34m(self, parent, index)\u001b[0m\n\u001b[0;32m     63\u001b[0m \u001b[38;5;28;01mdef\u001b[39;00m \u001b[38;5;21mcompose_node\u001b[39m(\u001b[38;5;28mself\u001b[39m, parent, index):\n\u001b[1;32m---> 64\u001b[0m     \u001b[38;5;28;01mif\u001b[39;00m \u001b[38;5;28;43mself\u001b[39;49m\u001b[38;5;241;43m.\u001b[39;49m\u001b[43mcheck_event\u001b[49m\u001b[43m(\u001b[49m\u001b[43mAliasEvent\u001b[49m\u001b[43m)\u001b[49m:\n\u001b[0;32m     65\u001b[0m         event \u001b[38;5;241m=\u001b[39m \u001b[38;5;28mself\u001b[39m\u001b[38;5;241m.\u001b[39mget_event()\n\u001b[0;32m     66\u001b[0m         anchor \u001b[38;5;241m=\u001b[39m event\u001b[38;5;241m.\u001b[39manchor\n",
      "File \u001b[1;32mc:\\Users\\Filippo\\anaconda3\\Lib\\site-packages\\yaml\\parser.py:98\u001b[0m, in \u001b[0;36mParser.check_event\u001b[1;34m(self, *choices)\u001b[0m\n\u001b[0;32m     96\u001b[0m \u001b[38;5;28;01mif\u001b[39;00m \u001b[38;5;28mself\u001b[39m\u001b[38;5;241m.\u001b[39mcurrent_event \u001b[38;5;129;01mis\u001b[39;00m \u001b[38;5;28;01mNone\u001b[39;00m:\n\u001b[0;32m     97\u001b[0m     \u001b[38;5;28;01mif\u001b[39;00m \u001b[38;5;28mself\u001b[39m\u001b[38;5;241m.\u001b[39mstate:\n\u001b[1;32m---> 98\u001b[0m         \u001b[38;5;28mself\u001b[39m\u001b[38;5;241m.\u001b[39mcurrent_event \u001b[38;5;241m=\u001b[39m \u001b[38;5;28;43mself\u001b[39;49m\u001b[38;5;241;43m.\u001b[39;49m\u001b[43mstate\u001b[49m\u001b[43m(\u001b[49m\u001b[43m)\u001b[49m\n\u001b[0;32m     99\u001b[0m \u001b[38;5;28;01mif\u001b[39;00m \u001b[38;5;28mself\u001b[39m\u001b[38;5;241m.\u001b[39mcurrent_event \u001b[38;5;129;01mis\u001b[39;00m \u001b[38;5;129;01mnot\u001b[39;00m \u001b[38;5;28;01mNone\u001b[39;00m:\n\u001b[0;32m    100\u001b[0m     \u001b[38;5;28;01mif\u001b[39;00m \u001b[38;5;129;01mnot\u001b[39;00m choices:\n",
      "File \u001b[1;32mc:\\Users\\Filippo\\anaconda3\\Lib\\site-packages\\yaml\\parser.py:451\u001b[0m, in \u001b[0;36mParser.parse_block_mapping_value\u001b[1;34m(self)\u001b[0m\n\u001b[0;32m    449\u001b[0m \u001b[38;5;28;01mif\u001b[39;00m \u001b[38;5;129;01mnot\u001b[39;00m \u001b[38;5;28mself\u001b[39m\u001b[38;5;241m.\u001b[39mcheck_token(KeyToken, ValueToken, BlockEndToken):\n\u001b[0;32m    450\u001b[0m     \u001b[38;5;28mself\u001b[39m\u001b[38;5;241m.\u001b[39mstates\u001b[38;5;241m.\u001b[39mappend(\u001b[38;5;28mself\u001b[39m\u001b[38;5;241m.\u001b[39mparse_block_mapping_key)\n\u001b[1;32m--> 451\u001b[0m     \u001b[38;5;28;01mreturn\u001b[39;00m \u001b[38;5;28;43mself\u001b[39;49m\u001b[38;5;241;43m.\u001b[39;49m\u001b[43mparse_block_node_or_indentless_sequence\u001b[49m\u001b[43m(\u001b[49m\u001b[43m)\u001b[49m\n\u001b[0;32m    452\u001b[0m \u001b[38;5;28;01melse\u001b[39;00m:\n\u001b[0;32m    453\u001b[0m     \u001b[38;5;28mself\u001b[39m\u001b[38;5;241m.\u001b[39mstate \u001b[38;5;241m=\u001b[39m \u001b[38;5;28mself\u001b[39m\u001b[38;5;241m.\u001b[39mparse_block_mapping_key\n",
      "File \u001b[1;32mc:\\Users\\Filippo\\anaconda3\\Lib\\site-packages\\yaml\\parser.py:271\u001b[0m, in \u001b[0;36mParser.parse_block_node_or_indentless_sequence\u001b[1;34m(self)\u001b[0m\n\u001b[0;32m    270\u001b[0m \u001b[38;5;28;01mdef\u001b[39;00m \u001b[38;5;21mparse_block_node_or_indentless_sequence\u001b[39m(\u001b[38;5;28mself\u001b[39m):\n\u001b[1;32m--> 271\u001b[0m     \u001b[38;5;28;01mreturn\u001b[39;00m \u001b[38;5;28;43mself\u001b[39;49m\u001b[38;5;241;43m.\u001b[39;49m\u001b[43mparse_node\u001b[49m\u001b[43m(\u001b[49m\u001b[43mblock\u001b[49m\u001b[38;5;241;43m=\u001b[39;49m\u001b[38;5;28;43;01mTrue\u001b[39;49;00m\u001b[43m,\u001b[49m\u001b[43m \u001b[49m\u001b[43mindentless_sequence\u001b[49m\u001b[38;5;241;43m=\u001b[39;49m\u001b[38;5;28;43;01mTrue\u001b[39;49;00m\u001b[43m)\u001b[49m\n",
      "File \u001b[1;32mc:\\Users\\Filippo\\anaconda3\\Lib\\site-packages\\yaml\\parser.py:274\u001b[0m, in \u001b[0;36mParser.parse_node\u001b[1;34m(self, block, indentless_sequence)\u001b[0m\n\u001b[0;32m    273\u001b[0m \u001b[38;5;28;01mdef\u001b[39;00m \u001b[38;5;21mparse_node\u001b[39m(\u001b[38;5;28mself\u001b[39m, block\u001b[38;5;241m=\u001b[39m\u001b[38;5;28;01mFalse\u001b[39;00m, indentless_sequence\u001b[38;5;241m=\u001b[39m\u001b[38;5;28;01mFalse\u001b[39;00m):\n\u001b[1;32m--> 274\u001b[0m     \u001b[38;5;28;01mif\u001b[39;00m \u001b[38;5;28;43mself\u001b[39;49m\u001b[38;5;241;43m.\u001b[39;49m\u001b[43mcheck_token\u001b[49m\u001b[43m(\u001b[49m\u001b[43mAliasToken\u001b[49m\u001b[43m)\u001b[49m:\n\u001b[0;32m    275\u001b[0m         token \u001b[38;5;241m=\u001b[39m \u001b[38;5;28mself\u001b[39m\u001b[38;5;241m.\u001b[39mget_token()\n\u001b[0;32m    276\u001b[0m         event \u001b[38;5;241m=\u001b[39m AliasEvent(token\u001b[38;5;241m.\u001b[39mvalue, token\u001b[38;5;241m.\u001b[39mstart_mark, token\u001b[38;5;241m.\u001b[39mend_mark)\n",
      "File \u001b[1;32mc:\\Users\\Filippo\\anaconda3\\Lib\\site-packages\\yaml\\scanner.py:115\u001b[0m, in \u001b[0;36mScanner.check_token\u001b[1;34m(self, *choices)\u001b[0m\n\u001b[0;32m    113\u001b[0m \u001b[38;5;28;01mdef\u001b[39;00m \u001b[38;5;21mcheck_token\u001b[39m(\u001b[38;5;28mself\u001b[39m, \u001b[38;5;241m*\u001b[39mchoices):\n\u001b[0;32m    114\u001b[0m     \u001b[38;5;66;03m# Check if the next token is one of the given types.\u001b[39;00m\n\u001b[1;32m--> 115\u001b[0m     \u001b[38;5;28;01mwhile\u001b[39;00m \u001b[38;5;28;43mself\u001b[39;49m\u001b[38;5;241;43m.\u001b[39;49m\u001b[43mneed_more_tokens\u001b[49m\u001b[43m(\u001b[49m\u001b[43m)\u001b[49m:\n\u001b[0;32m    116\u001b[0m         \u001b[38;5;28mself\u001b[39m\u001b[38;5;241m.\u001b[39mfetch_more_tokens()\n\u001b[0;32m    117\u001b[0m     \u001b[38;5;28;01mif\u001b[39;00m \u001b[38;5;28mself\u001b[39m\u001b[38;5;241m.\u001b[39mtokens:\n",
      "File \u001b[1;32mc:\\Users\\Filippo\\anaconda3\\Lib\\site-packages\\yaml\\scanner.py:153\u001b[0m, in \u001b[0;36mScanner.need_more_tokens\u001b[1;34m(self)\u001b[0m\n\u001b[0;32m    150\u001b[0m \u001b[38;5;66;03m# The current token may be a potential simple key, so we\u001b[39;00m\n\u001b[0;32m    151\u001b[0m \u001b[38;5;66;03m# need to look further.\u001b[39;00m\n\u001b[0;32m    152\u001b[0m \u001b[38;5;28mself\u001b[39m\u001b[38;5;241m.\u001b[39mstale_possible_simple_keys()\n\u001b[1;32m--> 153\u001b[0m \u001b[38;5;28;01mif\u001b[39;00m \u001b[38;5;28;43mself\u001b[39;49m\u001b[38;5;241;43m.\u001b[39;49m\u001b[43mnext_possible_simple_key\u001b[49m\u001b[43m(\u001b[49m\u001b[43m)\u001b[49m \u001b[38;5;241m==\u001b[39m \u001b[38;5;28mself\u001b[39m\u001b[38;5;241m.\u001b[39mtokens_taken:\n\u001b[0;32m    154\u001b[0m     \u001b[38;5;28;01mreturn\u001b[39;00m \u001b[38;5;28;01mTrue\u001b[39;00m\n",
      "File \u001b[1;32mc:\\Users\\Filippo\\anaconda3\\Lib\\site-packages\\yaml\\scanner.py:264\u001b[0m, in \u001b[0;36mScanner.next_possible_simple_key\u001b[1;34m(self)\u001b[0m\n\u001b[0;32m    258\u001b[0m     \u001b[38;5;28;01mraise\u001b[39;00m ScannerError(\u001b[38;5;124m\"\u001b[39m\u001b[38;5;124mwhile scanning for the next token\u001b[39m\u001b[38;5;124m\"\u001b[39m, \u001b[38;5;28;01mNone\u001b[39;00m,\n\u001b[0;32m    259\u001b[0m             \u001b[38;5;124m\"\u001b[39m\u001b[38;5;124mfound character \u001b[39m\u001b[38;5;132;01m%r\u001b[39;00m\u001b[38;5;124m that cannot start any token\u001b[39m\u001b[38;5;124m\"\u001b[39m \u001b[38;5;241m%\u001b[39m ch,\n\u001b[0;32m    260\u001b[0m             \u001b[38;5;28mself\u001b[39m\u001b[38;5;241m.\u001b[39mget_mark())\n\u001b[0;32m    262\u001b[0m \u001b[38;5;66;03m# Simple keys treatment.\u001b[39;00m\n\u001b[1;32m--> 264\u001b[0m \u001b[38;5;28;01mdef\u001b[39;00m \u001b[38;5;21mnext_possible_simple_key\u001b[39m(\u001b[38;5;28mself\u001b[39m):\n\u001b[0;32m    265\u001b[0m     \u001b[38;5;66;03m# Return the number of the nearest possible simple key. Actually we\u001b[39;00m\n\u001b[0;32m    266\u001b[0m     \u001b[38;5;66;03m# don't need to loop through the whole dictionary. We may replace it\u001b[39;00m\n\u001b[0;32m    267\u001b[0m     \u001b[38;5;66;03m# with the following code:\u001b[39;00m\n\u001b[0;32m    268\u001b[0m     \u001b[38;5;66;03m#   if not self.possible_simple_keys:\u001b[39;00m\n\u001b[0;32m    269\u001b[0m     \u001b[38;5;66;03m#       return None\u001b[39;00m\n\u001b[0;32m    270\u001b[0m     \u001b[38;5;66;03m#   return self.possible_simple_keys[\u001b[39;00m\n\u001b[0;32m    271\u001b[0m     \u001b[38;5;66;03m#           min(self.possible_simple_keys.keys())].token_number\u001b[39;00m\n\u001b[0;32m    272\u001b[0m     min_token_number \u001b[38;5;241m=\u001b[39m \u001b[38;5;28;01mNone\u001b[39;00m\n\u001b[0;32m    273\u001b[0m     \u001b[38;5;28;01mfor\u001b[39;00m level \u001b[38;5;129;01min\u001b[39;00m \u001b[38;5;28mself\u001b[39m\u001b[38;5;241m.\u001b[39mpossible_simple_keys:\n",
      "\u001b[1;31mKeyboardInterrupt\u001b[0m: "
     ]
    }
   ],
   "source": [
    "from stable_baselines3 import PPO\n",
    "\n",
    "#setup_config()\n",
    "\n",
    "# Create the environment\n",
    "env = SimulationEnv()\n",
    "\n",
    "# Train the agent\n",
    "model = PPO(\"MlpPolicy\", env, verbose=1, n_steps=1028)\n",
    "model.learn(total_timesteps=1)\n",
    "\n",
    "# Save the trained model\n",
    "model.save(\"simulation_policy\")\n"
   ]
  },
  {
   "cell_type": "markdown",
   "metadata": {},
   "source": [
    "# Check results"
   ]
  },
  {
   "cell_type": "code",
   "execution_count": 8,
   "metadata": {},
   "outputs": [
    {
     "name": "stdout",
     "output_type": "stream",
     "text": [
      "action policy: random action - with Bounds\n",
      "\n",
      "number of inferences:  145\n",
      "Average accuracy across all labels: 0.9655\n",
      "Average accuracy for all labels: \n",
      "label\n",
      "n01440764    1.000\n",
      "n01443537    1.000\n",
      "n01484850    1.000\n",
      "n01491361    0.875\n",
      "n01494475    1.000\n",
      "Name: accuracy, dtype: float64\n"
     ]
    }
   ],
   "source": [
    "import pandas as pd\n",
    "\n",
    "# Define the path to the CSV file\n",
    "csv_file_path = \"results/reinf_learning_inference/ensemble_inference.csv\"\n",
    "\n",
    "print(\"action policy: random action - with Bounds\\n\")\n",
    "# Read the CSV file\n",
    "df = pd.read_csv(csv_file_path)\n",
    "print(\"number of inferences: \", df.size)\n",
    "\n",
    "# Calculate average accuracy for all labels\n",
    "average_accuracy_all = df[\"accuracy\"].mean()\n",
    "\n",
    "# Calculate average accuracy for a specific label\n",
    "average_accuracy_per_label = df.groupby(\"label\")[\"accuracy\"].mean()\n",
    "\n",
    "# Print the results\n",
    "print(f\"Average accuracy across all labels: {average_accuracy_all:.4f}\")\n",
    "print(f\"Average accuracy for all labels: \") \n",
    "print(average_accuracy_per_label)"
   ]
  },
  {
   "cell_type": "code",
   "execution_count": 3,
   "metadata": {},
   "outputs": [
    {
     "data": {
      "image/png": "[encoded data removed]",
      "text/plain": [
       "<Figure size 1000x600 with 1 Axes>"
      ]
     },
     "metadata": {},
     "output_type": "display_data"
    }
   ],
   "source": [
    "\n",
    "import matplotlib.pyplot as plt\n",
    "\n",
    "# Assuming env.visualization_manager.reward_list is a list of rewards\n",
    "def plot_rewards(reward_list):\n",
    "    plt.figure(figsize=(10, 6))\n",
    "    plt.plot(reward_list, label=\"Rewards\", marker='o', linestyle='-')\n",
    "    plt.title(\"Rewards Over Time\", fontsize=16)\n",
    "    plt.xlabel(\"Episode\", fontsize=14)\n",
    "    plt.ylabel(\"Reward\", fontsize=14)\n",
    "    plt.grid(True)\n",
    "    plt.legend(fontsize=12)\n",
    "    plt.show()\n",
    "\n",
    "# Example usage:\n",
    "if hasattr(env, 'visualization_manager') and hasattr(env.visualization_manager, 'reward_list'):\n",
    "    plot_rewards(env.visualization_manager.reward_list)\n",
    "else:\n",
    "    print(\"reward_list not found in env.visualization_manager.\")"
   ]
  }
 ],
 "metadata": {
  "kernelspec": {
   "display_name": "base",
   "language": "python",
   "name": "python3"
  },
  "language_info": {
   "codemirror_mode": {
    "name": "ipython",
    "version": 3
   },
   "file_extension": ".py",
   "mimetype": "text/x-python",
   "name": "python",
   "nbconvert_exporter": "python",
   "pygments_lexer": "ipython3",
   "version": "3.11.7"
  }
 },
 "nbformat": 4,
 "nbformat_minor": 2
}
