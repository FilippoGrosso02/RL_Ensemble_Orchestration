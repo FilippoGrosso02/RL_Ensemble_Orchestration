{
 "cells": [
  {
   "cell_type": "markdown",
   "metadata": {},
   "source": [
    "# Random Ensemble Orchestration - With get STATE\n"
   ]
  },
  {
   "cell_type": "markdown",
   "metadata": {},
   "source": [
    "## RL test"
   ]
  },
  {
   "cell_type": "markdown",
   "metadata": {},
   "source": [
    "Defining the Simulation enviroment"
   ]
  },
  {
   "cell_type": "code",
   "execution_count": 1,
   "metadata": {},
   "outputs": [],
   "source": [
    "from config_manager import ConfigManager\n",
    "import logging\n",
    "import os\n",
    "import numpy as np\n",
    "from state_manager import StateManager \n",
    "from visualization_manager import VisualizationManager, DashApp\n",
    "from objective import rl_reward_estimation\n",
    "\n",
    "import gym\n",
    "from gym import spaces\n",
    "\n",
    "\n",
    "class SimulationEnv(gym.Env):\n",
    "\n",
    "    def __init__(self):\n",
    "        super(SimulationEnv, self).__init__()\n",
    "\n",
    "        current_dir = os.getcwd()   \n",
    "        \n",
    "\n",
    "        parent_dir = os.path.dirname(current_dir)\n",
    "        CONFIG_PATH = os.path.join(current_dir, \"sim_config.yaml\")\n",
    "        PROFILE_PATH = os.path.join(current_dir, \"profile/model_profile/model_profile.yaml\")\n",
    "\n",
    "\n",
    "        self.state_manager = StateManager(current_dir)\n",
    "        self.config_manager = ConfigManager(PROFILE_PATH, CONFIG_PATH)\n",
    "        self.visualization_manager = VisualizationManager()\n",
    "        self.dash_app = DashApp(self.visualization_manager)\n",
    "\n",
    "        self.dash_app.run()\n",
    "\n",
    "        # Define constants\n",
    "        self.state_size = self.state_manager.state_lenght # Change this to be dynamic based on the enviroment\n",
    "        # Observation space: Fixed size of 55\n",
    "        self.observation_space = spaces.Box(\n",
    "            low=0.0, high=10.0, shape=(self.state_size,), dtype=np.float32\n",
    "        )\n",
    "\n",
    "        # Action space (example: add/remove/replace a model)\n",
    "        self.action_space = spaces.Discrete(3)\n",
    "\n",
    "        self.weights = {\n",
    "            \"accuracy\": 1.0,\n",
    "            \"confidence\": 0.0,\n",
    "            \"latency\": 0.0,\n",
    "            \"energy\": 0.0,\n",
    "            \"explainability\": 0.0\n",
    "        }\n",
    "\n",
    "    def reset(self):\n",
    "        # Reset the environment to an initial state\n",
    "        # Define Init Data:\n",
    "        \n",
    "        self.current_state = self.state_manager.get_state()  # Get initial state\n",
    "        \n",
    "        return self.state_manager.flatten_structured_state(self.current_state)\n",
    "\n",
    "    def step(self, action):\n",
    "        \n",
    "        if action == 0:\n",
    "            self.apply_action(\"keep_ensemble\")\n",
    "        elif action == 1:\n",
    "            self.apply_action(\"add_model\")\n",
    "        elif action == 2:\n",
    "            self.apply_action(\"replace_model\")\n",
    "      \n",
    "        state = self.state_manager.get_state()\n",
    "        print(\"STATE: \", state)\n",
    "\n",
    "        # Simulate a step in the environment\n",
    "        self.current_state = state\n",
    "        reward = self._calculate_reward(self.current_state)\n",
    "\n",
    "        state[\"reward\"] = reward\n",
    "\n",
    "        self.visualization_manager.reward_list.append(reward)\n",
    "        self.visualization_manager.add_state_to_csv(state)\n",
    "        self.dash_app.update_graph()\n",
    "\n",
    "        print(\"REWARD: \", reward)\n",
    "\n",
    "        done = False  # Define termination condition if applicable\n",
    "        \n",
    "        return  self.state_manager.flatten_structured_state(self.current_state), reward, done, {}\n",
    "\n",
    "\n",
    "    def _calculate_reward(self, state):\n",
    "        model_states = state[\"model_states\"]\n",
    "        contract_file = {} # load it from the folder\n",
    "        rl_reward_estimation(model_states, contract_file)\n",
    "        reward = 0.0\n",
    "\n",
    "\n",
    "        return reward\n",
    "    \n",
    "    def apply_action(self, action):\n",
    "    \n",
    "        weights = self.weights\n",
    "        manager = self.config_manager\n",
    "        if action == \"keep_ensemble\":\n",
    "            logging.info(\"Action: Keeping the ensemble\")\n",
    "        \n",
    "        elif action == \"add_model\":\n",
    "            manager.add_best_model(weights)\n",
    "            logging.info(\"Action: Adding a model\")\n",
    "            # Logic for adding a new model (Placeholder)\n",
    "        elif action == \"replace_model\":\n",
    "            logging.info(\"Action: Replacing a model\")\n",
    "            manager.remove_worst_model(weights)\n",
    "            manager.add_best_model(weights)\n",
    "            # Logic for replacing a model (Placeholder)\n",
    "        elif action == \"remove_model\":\n",
    "            manager.remove_worst_model(weights)\n",
    "\n",
    "        elif action == \"add_random_model\":\n",
    "            manager.add_random_model()\n",
    "        elif action == \"remove_random_model\":\n",
    "            manager.remove_random_model()\n",
    "        elif action == \"replace_random_model\":\n",
    "            manager.remove_random_model()\n",
    "            manager.add_random_model()\n",
    "\n",
    "\n",
    "        else:\n",
    "            logging.warning(\"Unknown action\")"
   ]
  },
  {
   "cell_type": "markdown",
   "metadata": {},
   "source": [
    "Running the simulation"
   ]
  },
  {
   "cell_type": "code",
   "execution_count": 2,
   "metadata": {},
   "outputs": [
    {
     "name": "stdout",
     "output_type": "stream",
     "text": [
      "Contents of initial_sim_config.yaml have been dumped into c:\\Documents\\Aalto Semester 2\\ResearchCloud\\RL_simulation\\sim_config.yaml.\n"
     ]
    },
    {
     "data": {
      "text/html": [
       "\n",
       "        <iframe\n",
       "            width=\"100%\"\n",
       "            height=\"650\"\n",
       "            src=\"http://127.0.0.1:8000/\"\n",
       "            frameborder=\"0\"\n",
       "            allowfullscreen\n",
       "            \n",
       "        ></iframe>\n",
       "        "
      ],
      "text/plain": [
       "<IPython.lib.display.IFrame at 0x1cee8ca1bd0>"
      ]
     },
     "metadata": {},
     "output_type": "display_data"
    },
    {
     "name": "stdout",
     "output_type": "stream",
     "text": [
      "Using cpu device\n",
      "Wrapping the env with a `Monitor` wrapper\n",
      "Wrapping the env in a DummyVecEnv.\n"
     ]
    },
    {
     "name": "stderr",
     "output_type": "stream",
     "text": [
      "c:\\Users\\Filippo\\anaconda3\\Lib\\site-packages\\stable_baselines3\\common\\vec_env\\patch_gym.py:49: UserWarning:\n",
      "\n",
      "You provided an OpenAI Gym environment. We strongly recommend transitioning to Gymnasium environments. Stable-Baselines3 is automatically wrapping your environments in a compatibility layer, which could potentially cause issues.\n",
      "\n",
      "c:\\Users\\Filippo\\anaconda3\\Lib\\site-packages\\stable_baselines3\\ppo\\ppo.py:155: UserWarning:\n",
      "\n",
      "You have specified a mini-batch size of 64, but because the `RolloutBuffer` is of size `n_steps * n_envs = 1028`, after every 16 untruncated mini-batches, there will be a truncated mini-batch of size 4\n",
      "We recommend using a `batch_size` that is a factor of `n_steps * n_envs`.\n",
      "Info: (n_steps=1028 and n_envs=1)\n",
      "\n",
      "2025-01-24 16:37:54,982:INFO -- Action: Keeping the ensemble\n"
     ]
    },
    {
     "name": "stdout",
     "output_type": "stream",
     "text": [
      "STATE:  {'ensemble_state': {'total_energy_consumption': 0.00329458735984739, 'ensemble_size': 3}, 'model_states': {'InceptionResNetV2': {'accuracy': 1.0, 'confidence': 0.9087229172388712, 'avg_response_time': 2.091670247415987, 'max_response_time': 2.101726343428781, 'contribution': 0.9087229172388712}, 'MobileNetV2': {'accuracy': 1.0, 'confidence': 0.8077986637751261, 'avg_response_time': 0.03763396772187785, 'max_response_time': 0.04570103067149779, 'contribution': 0.8077986637751261}, 'ResNet50V2': {'accuracy': 1.0, 'confidence': 0.9968352913856506, 'avg_response_time': 0.1142892278632953, 'max_response_time': 0.12286897397190412, 'contribution': 0.9968352913856506}, 'ensemble': {'accuracy': 1.0, 'confidence': 0.9044522907998825, 'avg_response_time': 2.1006180818694564, 'max_response_time': 2.1109896694707655, 'contribution': 0.9968352913856506}, 'padding_model_5': {'accuracy': 0.0, 'confidence': 0.0, 'avg_response_time': 0.0, 'max_response_time': 0.0, 'contribution': 0.0}, 'padding_model_6': {'accuracy': 0.0, 'confidence': 0.0, 'avg_response_time': 0.0, 'max_response_time': 0.0, 'contribution': 0.0}, 'padding_model_7': {'accuracy': 0.0, 'confidence': 0.0, 'avg_response_time': 0.0, 'max_response_time': 0.0, 'contribution': 0.0}, 'padding_model_8': {'accuracy': 0.0, 'confidence': 0.0, 'avg_response_time': 0.0, 'max_response_time': 0.0, 'contribution': 0.0}, 'padding_model_9': {'accuracy': 0.0, 'confidence': 0.0, 'avg_response_time': 0.0, 'max_response_time': 0.0, 'contribution': 0.0}, 'padding_model_10': {'accuracy': 0.0, 'confidence': 0.0, 'avg_response_time': 0.0, 'max_response_time': 0.0, 'contribution': 0.0}}, 'input_state': {'input_file_length': 14, 'image_height': 224, 'image_width': 224}, 'distribution_weights': [1.0, 1.0, 1.0, 1.0, 1.0, 0.0, 0.0, 0.0, 0.0, 0.0, 0.0, 0.0, 0.0, 0.0, 0.0, 0.0, 0.0, 0.0, 0.0, 0.0]}\n"
     ]
    },
    {
     "name": "stderr",
     "output_type": "stream",
     "text": [
      "2025-01-24 16:37:55,621:INFO -- Action: Adding a model\n"
     ]
    },
    {
     "name": "stdout",
     "output_type": "stream",
     "text": [
      "REWARD:  1.0\n",
      "Best model: EfficientNetV2S with score: 0.953925925925926\n",
      "Model 'EfficientNetV2S' successfully added to the target YAML.\n"
     ]
    },
    {
     "name": "stderr",
     "output_type": "stream",
     "text": [
      "2025-01-24 16:37:55,811:INFO -- Action: Replacing a model\n"
     ]
    },
    {
     "name": "stdout",
     "output_type": "stream",
     "text": [
      "STATE:  {'ensemble_state': {'total_energy_consumption': 0.003833157044692698, 'ensemble_size': 4}, 'model_states': {'InceptionResNetV2': {'accuracy': 1.0, 'confidence': 0.9127983450889587, 'avg_response_time': 2.0929729976292086, 'max_response_time': 2.101726343428781, 'contribution': 0.9127983450889587}, 'MobileNetV2': {'accuracy': 1.0, 'confidence': 0.8381791114807129, 'avg_response_time': 0.03796508656833962, 'max_response_time': 0.04570103067149779, 'contribution': 0.8381791114807129}, 'ResNet50V2': {'accuracy': 1.0, 'confidence': 0.9973743259906769, 'avg_response_time': 0.11628307826802525, 'max_response_time': 0.12286897397190412, 'contribution': 0.9973743259906769}, 'ensemble': {'accuracy': 1.0, 'confidence': 0.9138971542318661, 'avg_response_time': 2.101885606582549, 'max_response_time': 2.1109896694707655, 'contribution': 0.9973743259906769}, 'EfficientNetV2S': {'accuracy': 1.0, 'confidence': 0.9155904650688171, 'avg_response_time': 1.1289855051337703, 'max_response_time': 1.1289855051337703, 'contribution': 0.9155904650688171}, 'padding_model_6': {'accuracy': 0.0, 'confidence': 0.0, 'avg_response_time': 0.0, 'max_response_time': 0.0, 'contribution': 0.0}, 'padding_model_7': {'accuracy': 0.0, 'confidence': 0.0, 'avg_response_time': 0.0, 'max_response_time': 0.0, 'contribution': 0.0}, 'padding_model_8': {'accuracy': 0.0, 'confidence': 0.0, 'avg_response_time': 0.0, 'max_response_time': 0.0, 'contribution': 0.0}, 'padding_model_9': {'accuracy': 0.0, 'confidence': 0.0, 'avg_response_time': 0.0, 'max_response_time': 0.0, 'contribution': 0.0}, 'padding_model_10': {'accuracy': 0.0, 'confidence': 0.0, 'avg_response_time': 0.0, 'max_response_time': 0.0, 'contribution': 0.0}}, 'input_state': {'input_file_length': 14, 'image_height': 224, 'image_width': 224}, 'distribution_weights': [1.0, 1.0, 1.0, 1.0, 1.0, 0.0, 0.0, 0.0, 0.0, 0.0, 0.0, 0.0, 0.0, 0.0, 0.0, 0.0, 0.0, 0.0, 0.0, 0.0]}\n",
      "REWARD:  1.0\n",
      "Worst model: ResNet50V2 with score: 0.7573739295908658\n",
      "Model 'ResNet50V2' successfully removed from the target YAML.\n",
      "Best model: NASNetLarge with score: 0.942962962962963\n",
      "Model 'NASNetLarge' successfully added to the target YAML.\n"
     ]
    },
    {
     "name": "stderr",
     "output_type": "stream",
     "text": [
      "2025-01-24 16:37:56,204:INFO -- Action: Keeping the ensemble\n"
     ]
    },
    {
     "name": "stdout",
     "output_type": "stream",
     "text": [
      "STATE:  {'ensemble_state': {'total_energy_consumption': 0.006499981282645277, 'ensemble_size': 4}, 'model_states': {'InceptionResNetV2': {'accuracy': 0.8, 'confidence': 0.730238676071167, 'avg_response_time': 2.089333021621231, 'max_response_time': 2.101726343428781, 'contribution': 0.730238676071167}, 'MobileNetV2': {'accuracy': 0.8, 'confidence': 0.6705432891845703, 'avg_response_time': 0.03565591134574379, 'max_response_time': 0.04570103067149779, 'contribution': 0.6705432891845703}, 'ResNet50V2': {'accuracy': 1.0, 'confidence': 0.9973743259906769, 'avg_response_time': 0.11628307826802525, 'max_response_time': 0.12286897397190412, 'contribution': 0.9973743259906769}, 'ensemble': {'accuracy': 1.0, 'confidence': 0.9050085047880808, 'avg_response_time': 2.4485963681855747, 'max_response_time': 3.835439414597678, 'contribution': 0.9717902421951294}, 'EfficientNetV2S': {'accuracy': 0.5, 'confidence': 0.45779523253440857, 'avg_response_time': 1.139215149315158, 'max_response_time': 1.1494447934965457, 'contribution': 0.45779523253440857}, 'NASNetLarge': {'accuracy': 1.0, 'confidence': 0.8694539070129395, 'avg_response_time': 3.827272754372139, 'max_response_time': 3.827272754372139, 'contribution': 0.8694539070129395}, 'padding_model_7': {'accuracy': 0.0, 'confidence': 0.0, 'avg_response_time': 0.0, 'max_response_time': 0.0, 'contribution': 0.0}, 'padding_model_8': {'accuracy': 0.0, 'confidence': 0.0, 'avg_response_time': 0.0, 'max_response_time': 0.0, 'contribution': 0.0}, 'padding_model_9': {'accuracy': 0.0, 'confidence': 0.0, 'avg_response_time': 0.0, 'max_response_time': 0.0, 'contribution': 0.0}, 'padding_model_10': {'accuracy': 0.0, 'confidence': 0.0, 'avg_response_time': 0.0, 'max_response_time': 0.0, 'contribution': 0.0}}, 'input_state': {'input_file_length': 15, 'image_height': 224, 'image_width': 224}, 'distribution_weights': [1.0, 1.0, 1.0, 1.0, 1.0, 0.0, 0.0, 0.0, 0.0, 0.0, 0.0, 0.0, 0.0, 0.0, 0.0, 0.0, 0.0, 0.0, 0.0, 0.0]}\n",
      "REWARD:  1.0\n"
     ]
    },
    {
     "name": "stderr",
     "output_type": "stream",
     "text": [
      "2025-01-24 16:37:56,526:INFO -- Action: Adding a model\n"
     ]
    },
    {
     "name": "stdout",
     "output_type": "stream",
     "text": [
      "STATE:  {'ensemble_state': {'total_energy_consumption': 0.006499981282645277, 'ensemble_size': 4}, 'model_states': {'InceptionResNetV2': {'accuracy': 0.8333333333333334, 'confidence': 0.7479867935180664, 'avg_response_time': 2.083021110240075, 'max_response_time': 2.101726343428781, 'contribution': 0.7479867935180664}, 'MobileNetV2': {'accuracy': 0.8333333333333334, 'confidence': 0.7165173888206482, 'avg_response_time': 0.03606145638372208, 'max_response_time': 0.04570103067149779, 'contribution': 0.7165173888206482}, 'ResNet50V2': {'accuracy': 1.0, 'confidence': 0.9973743259906769, 'avg_response_time': 0.11628307826802525, 'max_response_time': 0.12286897397190412, 'contribution': 0.9973743259906769}, 'ensemble': {'accuracy': 1.0, 'confidence': 0.9028950615061654, 'avg_response_time': 2.6766852135606776, 'max_response_time': 3.835439414597678, 'contribution': 0.9675565163294474}, 'EfficientNetV2S': {'accuracy': 0.6666666666666666, 'confidence': 0.6016159653663635, 'avg_response_time': 1.1502443931518307, 'max_response_time': 1.1723028808251754, 'contribution': 0.6016159653663635}, 'NASNetLarge': {'accuracy': 1.0, 'confidence': 0.8831962943077087, 'avg_response_time': 3.817933616551007, 'max_response_time': 3.827272754372139, 'contribution': 0.8831962943077087}, 'padding_model_7': {'accuracy': 0.0, 'confidence': 0.0, 'avg_response_time': 0.0, 'max_response_time': 0.0, 'contribution': 0.0}, 'padding_model_8': {'accuracy': 0.0, 'confidence': 0.0, 'avg_response_time': 0.0, 'max_response_time': 0.0, 'contribution': 0.0}, 'padding_model_9': {'accuracy': 0.0, 'confidence': 0.0, 'avg_response_time': 0.0, 'max_response_time': 0.0, 'contribution': 0.0}, 'padding_model_10': {'accuracy': 0.0, 'confidence': 0.0, 'avg_response_time': 0.0, 'max_response_time': 0.0, 'contribution': 0.0}}, 'input_state': {'input_file_length': 14, 'image_height': 224, 'image_width': 224}, 'distribution_weights': [1.0, 1.0, 1.0, 1.0, 1.0, 0.0, 0.0, 0.0, 0.0, 0.0, 0.0, 0.0, 0.0, 0.0, 0.0, 0.0, 0.0, 0.0, 0.0, 0.0]}\n",
      "REWARD:  1.0\n",
      "Best model: EfficientNetB7 with score: 0.9045925925925926\n",
      "Model 'EfficientNetB7' successfully added to the target YAML.\n"
     ]
    },
    {
     "name": "stderr",
     "output_type": "stream",
     "text": [
      "2025-01-24 16:37:56,895:INFO -- Action: Adding a model\n"
     ]
    },
    {
     "name": "stdout",
     "output_type": "stream",
     "text": [
      "STATE:  {'ensemble_state': {'total_energy_consumption': 0.011042723686154656, 'ensemble_size': 5}, 'model_states': {'InceptionResNetV2': {'accuracy': 0.8571428571428571, 'confidence': 0.7758444547653198, 'avg_response_time': 2.0897519943742644, 'max_response_time': 2.130137299179403, 'contribution': 0.7758444547653198}, 'MobileNetV2': {'accuracy': 0.8571428571428571, 'confidence': 0.7467718379838126, 'avg_response_time': 0.035995357249036054, 'max_response_time': 0.04570103067149779, 'contribution': 0.7467718379838126}, 'ResNet50V2': {'accuracy': 1.0, 'confidence': 0.9973743259906769, 'avg_response_time': 0.11628307826802525, 'max_response_time': 0.12286897397190412, 'contribution': 0.9973743259906769}, 'ensemble': {'accuracy': 1.0, 'confidence': 0.9029991987205687, 'avg_response_time': 3.3144431424392837, 'max_response_time': 7.1409907157109185, 'contribution': 0.9640470743179321}, 'EfficientNetV2S': {'accuracy': 0.75, 'confidence': 0.6788769662380219, 'avg_response_time': 1.1509782894439562, 'max_response_time': 1.1723028808251754, 'contribution': 0.6788769662380219}, 'NASNetLarge': {'accuracy': 1.0, 'confidence': 0.8894493182500204, 'avg_response_time': 3.815464737196494, 'max_response_time': 3.827272754372139, 'contribution': 0.8894493182500204}, 'EfficientNetB7': {'accuracy': 1.0, 'confidence': 0.8342158198356628, 'avg_response_time': 7.13173692466328, 'max_response_time': 7.13173692466328, 'contribution': 0.8342158198356628}, 'padding_model_8': {'accuracy': 0.0, 'confidence': 0.0, 'avg_response_time': 0.0, 'max_response_time': 0.0, 'contribution': 0.0}, 'padding_model_9': {'accuracy': 0.0, 'confidence': 0.0, 'avg_response_time': 0.0, 'max_response_time': 0.0, 'contribution': 0.0}, 'padding_model_10': {'accuracy': 0.0, 'confidence': 0.0, 'avg_response_time': 0.0, 'max_response_time': 0.0, 'contribution': 0.0}}, 'input_state': {'input_file_length': 14, 'image_height': 224, 'image_width': 224}, 'distribution_weights': [1.0, 1.0, 1.0, 1.0, 1.0, 0.0, 0.0, 0.0, 0.0, 0.0, 0.0, 0.0, 0.0, 0.0, 0.0, 0.0, 0.0, 0.0, 0.0, 0.0]}\n",
      "REWARD:  1.0\n",
      "Best model: DenseNet201 with score: 0.8944655883285759\n",
      "Model 'DenseNet201' successfully added to the target YAML.\n"
     ]
    },
    {
     "name": "stderr",
     "output_type": "stream",
     "text": [
      "2025-01-24 16:37:57,190:INFO -- Action: Replacing a model\n"
     ]
    },
    {
     "name": "stdout",
     "output_type": "stream",
     "text": [
      "STATE:  {'ensemble_state': {'total_energy_consumption': 0.011354318386132727, 'ensemble_size': 6}, 'model_states': {'InceptionResNetV2': {'accuracy': 0.875, 'confidence': 0.7237327322363853, 'avg_response_time': 2.085060811529752, 'max_response_time': 2.130137299179403, 'contribution': 0.7237327322363853}, 'MobileNetV2': {'accuracy': 0.875, 'confidence': 0.6934397853910923, 'avg_response_time': 0.03533945077594443, 'max_response_time': 0.04570103067149779, 'contribution': 0.6934397853910923}, 'ResNet50V2': {'accuracy': 1.0, 'confidence': 0.9973743259906769, 'avg_response_time': 0.11628307826802525, 'max_response_time': 0.12286897397190412, 'contribution': 0.9973743259906769}, 'ensemble': {'accuracy': 1.0, 'confidence': 0.8664030170689027, 'avg_response_time': 3.7932952583752177, 'max_response_time': 7.145260069926755, 'contribution': 0.9510951563715935}, 'EfficientNetV2S': {'accuracy': 0.8, 'confidence': 0.7117706418037415, 'avg_response_time': 1.1448671386004987, 'max_response_time': 1.1723028808251754, 'contribution': 0.7117706418037415}, 'NASNetLarge': {'accuracy': 1.0, 'confidence': 0.882194921374321, 'avg_response_time': 3.8187607892995628, 'max_response_time': 3.8286489456087685, 'contribution': 0.882194921374321}, 'EfficientNetB7': {'accuracy': 1.0, 'confidence': 0.7203653156757355, 'avg_response_time': 7.137248497295017, 'max_response_time': 7.142760069926755, 'contribution': 0.7203653156757355}, 'DenseNet201': {'accuracy': 1.0, 'confidence': 0.6720204949378967, 'avg_response_time': 0.6072221871748754, 'max_response_time': 0.6072221871748754, 'contribution': 0.6720204949378967}, 'padding_model_9': {'accuracy': 0.0, 'confidence': 0.0, 'avg_response_time': 0.0, 'max_response_time': 0.0, 'contribution': 0.0}, 'padding_model_10': {'accuracy': 0.0, 'confidence': 0.0, 'avg_response_time': 0.0, 'max_response_time': 0.0, 'contribution': 0.0}}, 'input_state': {'input_file_length': 15, 'image_height': 224, 'image_width': 224}, 'distribution_weights': [1.0, 1.0, 1.0, 1.0, 1.0, 0.0, 0.0, 0.0, 0.0, 0.0, 0.0, 0.0, 0.0, 0.0, 0.0, 0.0, 0.0, 0.0, 0.0, 0.0]}\n",
      "REWARD:  1.0\n",
      "Worst model: MobileNetV2 with score: 0.8261111111111111\n",
      "Model 'MobileNetV2' successfully removed from the target YAML.\n",
      "Best model: Xception with score: 0.8872592592592593\n",
      "Model 'Xception' successfully added to the target YAML.\n"
     ]
    },
    {
     "name": "stderr",
     "output_type": "stream",
     "text": [
      "2025-01-24 16:37:57,657:INFO -- Action: Keeping the ensemble\n"
     ]
    },
    {
     "name": "stdout",
     "output_type": "stream",
     "text": [
      "STATE:  {'ensemble_state': {'total_energy_consumption': 0.016804851811249164, 'ensemble_size': 6}, 'model_states': {'InceptionResNetV2': {'accuracy': 0.8888888888888888, 'confidence': 0.7463638120227389, 'avg_response_time': 2.0834600772053875, 'max_response_time': 2.130137299179403, 'contribution': 0.7463638120227389}, 'MobileNetV2': {'accuracy': 0.875, 'confidence': 0.6934397853910923, 'avg_response_time': 0.03533945077594443, 'max_response_time': 0.04570103067149779, 'contribution': 0.6934397853910923}, 'ResNet50V2': {'accuracy': 1.0, 'confidence': 0.9973743259906769, 'avg_response_time': 0.11628307826802525, 'max_response_time': 0.12286897397190412, 'contribution': 0.9973743259906769}, 'ensemble': {'accuracy': 1.0, 'confidence': 0.8721182477694971, 'avg_response_time': 4.168860222408756, 'max_response_time': 7.173379934677056, 'contribution': 0.9547778434223599}, 'EfficientNetV2S': {'accuracy': 0.8333333333333334, 'confidence': 0.7504109640916189, 'avg_response_time': 1.1483255977124773, 'max_response_time': 1.1723028808251754, 'contribution': 0.7504109640916189}, 'NASNetLarge': {'accuracy': 1.0, 'confidence': 0.8884603261947632, 'avg_response_time': 3.818918925937294, 'max_response_time': 3.8286489456087685, 'contribution': 0.8884603261947632}, 'EfficientNetB7': {'accuracy': 1.0, 'confidence': 0.765118420124054, 'avg_response_time': 7.146018835096132, 'max_response_time': 7.16355951069836, 'contribution': 0.765118420124054}, 'DenseNet201': {'accuracy': 1.0, 'confidence': 0.828129917383194, 'avg_response_time': 0.5946428202632796, 'max_response_time': 0.6072221871748754, 'contribution': 0.828129917383194}, 'Xception': {'accuracy': 1.0, 'confidence': 0.8836296200752258, 'avg_response_time': 0.9962511060015776, 'max_response_time': 0.9962511060015776, 'contribution': 0.8836296200752258}, 'padding_model_10': {'accuracy': 0.0, 'confidence': 0.0, 'avg_response_time': 0.0, 'max_response_time': 0.0, 'contribution': 0.0}}, 'input_state': {'input_file_length': 14, 'image_height': 224, 'image_width': 224}, 'distribution_weights': [1.0, 1.0, 1.0, 1.0, 1.0, 0.0, 0.0, 0.0, 0.0, 0.0, 0.0, 0.0, 0.0, 0.0, 0.0, 0.0, 0.0, 0.0, 0.0, 0.0]}\n",
      "REWARD:  1.0\n"
     ]
    },
    {
     "name": "stderr",
     "output_type": "stream",
     "text": [
      "2025-01-24 16:37:57,949:INFO -- Action: Replacing a model\n"
     ]
    },
    {
     "name": "stdout",
     "output_type": "stream",
     "text": [
      "STATE:  {'ensemble_state': {'total_energy_consumption': 0.016804851811249164, 'ensemble_size': 6}, 'model_states': {'InceptionResNetV2': {'accuracy': 0.9, 'confidence': 0.7659171521663666, 'avg_response_time': 2.0831169001133563, 'max_response_time': 2.130137299179403, 'contribution': 0.7659171521663666}, 'MobileNetV2': {'accuracy': 0.875, 'confidence': 0.6934397853910923, 'avg_response_time': 0.03533945077594443, 'max_response_time': 0.04570103067149779, 'contribution': 0.6934397853910923}, 'ResNet50V2': {'accuracy': 1.0, 'confidence': 0.9973743259906769, 'avg_response_time': 0.11628307826802525, 'max_response_time': 0.12286897397190412, 'contribution': 0.9973743259906769}, 'ensemble': {'accuracy': 1.0, 'confidence': 0.8735152412454287, 'avg_response_time': 4.465279280267015, 'max_response_time': 7.173379934677056, 'contribution': 0.9586893916130066}, 'EfficientNetV2S': {'accuracy': 0.8571428571428571, 'confidence': 0.7725123422486442, 'avg_response_time': 1.1542110429932078, 'max_response_time': 1.1895237146775917, 'contribution': 0.7725123422486442}, 'NASNetLarge': {'accuracy': 1.0, 'confidence': 0.8849994838237762, 'avg_response_time': 3.816689579388133, 'max_response_time': 3.8286489456087685, 'contribution': 0.8849994838237762}, 'EfficientNetB7': {'accuracy': 1.0, 'confidence': 0.7727777510881424, 'avg_response_time': 7.139958100903686, 'max_response_time': 7.16355951069836, 'contribution': 0.7727777510881424}, 'DenseNet201': {'accuracy': 1.0, 'confidence': 0.8833843866984049, 'avg_response_time': 0.5907076551790157, 'max_response_time': 0.6072221871748754, 'contribution': 0.8833843866984049}, 'Xception': {'accuracy': 1.0, 'confidence': 0.8478982746601105, 'avg_response_time': 0.9968726998921091, 'max_response_time': 0.9974942937826407, 'contribution': 0.8478982746601105}, 'padding_model_10': {'accuracy': 0.0, 'confidence': 0.0, 'avg_response_time': 0.0, 'max_response_time': 0.0, 'contribution': 0.0}}, 'input_state': {'input_file_length': 15, 'image_height': 224, 'image_width': 224}, 'distribution_weights': [1.0, 1.0, 1.0, 1.0, 1.0, 0.0, 0.0, 0.0, 0.0, 0.0, 0.0, 0.0, 0.0, 0.0, 0.0, 0.0, 0.0, 0.0, 0.0, 0.0]}\n",
      "REWARD:  1.0\n",
      "Worst model: Xception with score: 0.8872592592592593\n",
      "Model 'Xception' successfully removed from the target YAML.\n",
      "Best model: Xception with score: 0.8872592592592593\n",
      "Model 'Xception' successfully added to the target YAML.\n"
     ]
    },
    {
     "name": "stderr",
     "output_type": "stream",
     "text": [
      "2025-01-24 16:37:58,422:INFO -- Action: Replacing a model\n"
     ]
    },
    {
     "name": "stdout",
     "output_type": "stream",
     "text": [
      "STATE:  {'ensemble_state': {'total_energy_consumption': 0.016804851811249164, 'ensemble_size': 6}, 'model_states': {'InceptionResNetV2': {'accuracy': 0.9090909090909091, 'confidence': 0.782048377123746, 'avg_response_time': 2.0881310808306788, 'max_response_time': 2.1382728880039026, 'contribution': 0.782048377123746}, 'MobileNetV2': {'accuracy': 0.875, 'confidence': 0.6934397853910923, 'avg_response_time': 0.03533945077594443, 'max_response_time': 0.04570103067149779, 'contribution': 0.6934397853910923}, 'ResNet50V2': {'accuracy': 1.0, 'confidence': 0.9973743259906769, 'avg_response_time': 0.11628307826802525, 'max_response_time': 0.12286897397190412, 'contribution': 0.9973743259906769}, 'ensemble': {'accuracy': 1.0, 'confidence': 0.8793440947930017, 'avg_response_time': 4.707868073495996, 'max_response_time': 7.173379934677056, 'contribution': 0.9623690193349664}, 'EfficientNetV2S': {'accuracy': 0.875, 'confidence': 0.7923047691583633, 'avg_response_time': 1.1549149676865822, 'max_response_time': 1.1895237146775917, 'contribution': 0.7923047691583633}, 'NASNetLarge': {'accuracy': 1.0, 'confidence': 0.8849194901330131, 'avg_response_time': 3.8216467941169006, 'max_response_time': 3.8513900824895066, 'contribution': 0.8849194901330131}, 'EfficientNetB7': {'accuracy': 1.0, 'confidence': 0.7925826191902161, 'avg_response_time': 7.136845264637998, 'max_response_time': 7.16355951069836, 'contribution': 0.7925826191902161}, 'DenseNet201': {'accuracy': 1.0, 'confidence': 0.9123296141624451, 'avg_response_time': 0.5848487520749677, 'max_response_time': 0.6072221871748754, 'contribution': 0.9123296141624451}, 'Xception': {'accuracy': 1.0, 'confidence': 0.8973243435223898, 'avg_response_time': 0.9886022456735093, 'max_response_time': 0.9974942937826407, 'contribution': 0.8973243435223898}, 'padding_model_10': {'accuracy': 0.0, 'confidence': 0.0, 'avg_response_time': 0.0, 'max_response_time': 0.0, 'contribution': 0.0}}, 'input_state': {'input_file_length': 15, 'image_height': 224, 'image_width': 224}, 'distribution_weights': [1.0, 1.0, 1.0, 1.0, 1.0, 0.0, 0.0, 0.0, 0.0, 0.0, 0.0, 0.0, 0.0, 0.0, 0.0, 0.0, 0.0, 0.0, 0.0, 0.0]}\n",
      "REWARD:  1.0\n",
      "Worst model: Xception with score: 0.8872592592592593\n",
      "Model 'Xception' successfully removed from the target YAML.\n",
      "Best model: Xception with score: 0.8872592592592593\n",
      "Model 'Xception' successfully added to the target YAML.\n"
     ]
    },
    {
     "name": "stderr",
     "output_type": "stream",
     "text": [
      "2025-01-24 16:37:58,982:INFO -- Action: Adding a model\n"
     ]
    },
    {
     "name": "stdout",
     "output_type": "stream",
     "text": [
      "STATE:  {'ensemble_state': {'total_energy_consumption': 0.016804851811249164, 'ensemble_size': 6}, 'model_states': {'InceptionResNetV2': {'accuracy': 0.9166666666666666, 'confidence': 0.7976582199335098, 'avg_response_time': 2.088951434461207, 'max_response_time': 2.1382728880039026, 'contribution': 0.7976582199335098}, 'MobileNetV2': {'accuracy': 0.875, 'confidence': 0.6934397853910923, 'avg_response_time': 0.03533945077594443, 'max_response_time': 0.04570103067149779, 'contribution': 0.6934397853910923}, 'ResNet50V2': {'accuracy': 1.0, 'confidence': 0.9973743259906769, 'avg_response_time': 0.11628307826802525, 'max_response_time': 0.12286897397190412, 'contribution': 0.9973743259906769}, 'ensemble': {'accuracy': 1.0, 'confidence': 0.8819440925286876, 'avg_response_time': 4.909421719104345, 'max_response_time': 7.173379934677056, 'contribution': 0.9654721965392431}, 'EfficientNetV2S': {'accuracy': 0.8888888888888888, 'confidence': 0.8067012164327834, 'avg_response_time': 1.1543873915521454, 'max_response_time': 1.1895237146775917, 'contribution': 0.8067012164327834}, 'NASNetLarge': {'accuracy': 1.0, 'confidence': 0.8896851390600204, 'avg_response_time': 3.8225774961803256, 'max_response_time': 3.8513900824895066, 'contribution': 0.8896851390600204}, 'EfficientNetB7': {'accuracy': 1.0, 'confidence': 0.7855416039625803, 'avg_response_time': 7.13346628321202, 'max_response_time': 7.16355951069836, 'contribution': 0.7855416039625803}, 'DenseNet201': {'accuracy': 1.0, 'confidence': 0.9297851204872132, 'avg_response_time': 0.5828626225553901, 'max_response_time': 0.6072221871748754, 'contribution': 0.9297851204872132}, 'Xception': {'accuracy': 1.0, 'confidence': 0.8977524489164352, 'avg_response_time': 0.9803207592413719, 'max_response_time': 0.9974942937826407, 'contribution': 0.8977524489164352}, 'padding_model_10': {'accuracy': 0.0, 'confidence': 0.0, 'avg_response_time': 0.0, 'max_response_time': 0.0, 'contribution': 0.0}}, 'input_state': {'input_file_length': 15, 'image_height': 224, 'image_width': 224}, 'distribution_weights': [1.0, 1.0, 1.0, 1.0, 1.0, 0.0, 0.0, 0.0, 0.0, 0.0, 0.0, 0.0, 0.0, 0.0, 0.0, 0.0, 0.0, 0.0, 0.0, 0.0]}\n",
      "REWARD:  1.0\n",
      "Best model: InceptionV3 with score: 0.8844354582936885\n",
      "Model 'InceptionV3' successfully added to the target YAML.\n"
     ]
    },
    {
     "name": "stderr",
     "output_type": "stream",
     "text": [
      "2025-01-24 16:37:59,418:INFO -- Action: Keeping the ensemble\n"
     ]
    },
    {
     "name": "stdout",
     "output_type": "stream",
     "text": [
      "STATE:  {'ensemble_state': {'total_energy_consumption': 0.017675754738927185, 'ensemble_size': 7}, 'model_states': {'InceptionResNetV2': {'accuracy': 0.9230769230769231, 'confidence': 0.7626956976377047, 'avg_response_time': 2.085187463044451, 'max_response_time': 2.1382728880039026, 'contribution': 0.7626956976377047}, 'MobileNetV2': {'accuracy': 0.875, 'confidence': 0.6934397853910923, 'avg_response_time': 0.03533945077594443, 'max_response_time': 0.04570103067149779, 'contribution': 0.6934397853910923}, 'ResNet50V2': {'accuracy': 1.0, 'confidence': 0.9973743259906769, 'avg_response_time': 0.11628307826802525, 'max_response_time': 0.12286897397190412, 'contribution': 0.9973743259906769}, 'ensemble': {'accuracy': 1.0, 'confidence': 0.8460086090442461, 'avg_response_time': 5.080481358154625, 'max_response_time': 7.173379934677056, 'contribution': 0.9286220417572901}, 'EfficientNetV2S': {'accuracy': 0.8, 'confidence': 0.726031094789505, 'avg_response_time': 1.1542377587860073, 'max_response_time': 1.1895237146775917, 'contribution': 0.726031094789505}, 'NASNetLarge': {'accuracy': 1.0, 'confidence': 0.8448779218726687, 'avg_response_time': 3.824105851035734, 'max_response_time': 3.8513900824895066, 'contribution': 0.8448779218726687}, 'EfficientNetB7': {'accuracy': 0.8571428571428571, 'confidence': 0.6733213748250689, 'avg_response_time': 7.132191199251184, 'max_response_time': 7.16355951069836, 'contribution': 0.6733213748250689}, 'DenseNet201': {'accuracy': 0.8333333333333334, 'confidence': 0.7748209337393442, 'avg_response_time': 0.586086980253865, 'max_response_time': 0.6072221871748754, 'contribution': 0.7748209337393442}, 'Xception': {'accuracy': 0.8, 'confidence': 0.7182019591331482, 'avg_response_time': 0.9708018109748331, 'max_response_time': 0.9974942937826407, 'contribution': 0.7182019591331482}, 'InceptionV3': {'accuracy': 0.0, 'confidence': 0.0, 'avg_response_time': 0.5935550768472457, 'max_response_time': 0.5935550768472457, 'contribution': 0.0}}, 'input_state': {'input_file_length': 14, 'image_height': 224, 'image_width': 224}, 'distribution_weights': [1.0, 1.0, 1.0, 1.0, 1.0, 0.0, 0.0, 0.0, 0.0, 0.0, 0.0, 0.0, 0.0, 0.0, 0.0, 0.0, 0.0, 0.0, 0.0, 0.0]}\n",
      "REWARD:  1.0\n"
     ]
    },
    {
     "name": "stderr",
     "output_type": "stream",
     "text": [
      "2025-01-24 16:37:59,791:INFO -- Action: Keeping the ensemble\n"
     ]
    },
    {
     "name": "stdout",
     "output_type": "stream",
     "text": [
      "STATE:  {'ensemble_state': {'total_energy_consumption': 0.017675754738927185, 'ensemble_size': 7}, 'model_states': {'InceptionResNetV2': {'accuracy': 0.9285714285714286, 'confidence': 0.7713931543486459, 'avg_response_time': 2.085322526368332, 'max_response_time': 2.1382728880039026, 'contribution': 0.7713931543486459}, 'MobileNetV2': {'accuracy': 0.875, 'confidence': 0.6934397853910923, 'avg_response_time': 0.03533945077594443, 'max_response_time': 0.04570103067149779, 'contribution': 0.6934397853910923}, 'ResNet50V2': {'accuracy': 1.0, 'confidence': 0.9973743259906769, 'avg_response_time': 0.11628307826802525, 'max_response_time': 0.12286897397190412, 'contribution': 0.9973743259906769}, 'ensemble': {'accuracy': 1.0, 'confidence': 0.8500431530532382, 'avg_response_time': 5.22896351850242, 'max_response_time': 7.173379934677056, 'contribution': 0.9321736246347427}, 'EfficientNetV2S': {'accuracy': 0.8181818181818182, 'confidence': 0.742570774121718, 'avg_response_time': 1.1541391114236037, 'max_response_time': 1.1895237146775917, 'contribution': 0.742570774121718}, 'NASNetLarge': {'accuracy': 1.0, 'confidence': 0.8496147125959397, 'avg_response_time': 3.8199592532380025, 'max_response_time': 3.8513900824895066, 'contribution': 0.8496147125959397}, 'EfficientNetB7': {'accuracy': 0.875, 'confidence': 0.6899162828922272, 'avg_response_time': 7.134451586095433, 'max_response_time': 7.16355951069836, 'contribution': 0.6899162828922272}, 'DenseNet201': {'accuracy': 0.8571428571428571, 'confidence': 0.8038956863539559, 'avg_response_time': 0.5874968487067864, 'max_response_time': 0.6072221871748754, 'contribution': 0.8038956863539559}, 'Xception': {'accuracy': 0.8333333333333334, 'confidence': 0.7473238905270895, 'avg_response_time': 0.9690449588167165, 'max_response_time': 0.9974942937826407, 'contribution': 0.7473238905270895}, 'InceptionV3': {'accuracy': 0.5, 'confidence': 0.4777068495750427, 'avg_response_time': 0.5771675265381273, 'max_response_time': 0.5935550768472457, 'contribution': 0.4777068495750427}}, 'input_state': {'input_file_length': 15, 'image_height': 224, 'image_width': 224}, 'distribution_weights': [1.0, 1.0, 1.0, 1.0, 1.0, 0.0, 0.0, 0.0, 0.0, 0.0, 0.0, 0.0, 0.0, 0.0, 0.0, 0.0, 0.0, 0.0, 0.0, 0.0]}\n",
      "REWARD:  1.0\n"
     ]
    },
    {
     "name": "stderr",
     "output_type": "stream",
     "text": [
      "2025-01-24 16:38:00,265:INFO -- Action: Adding a model\n"
     ]
    },
    {
     "name": "stdout",
     "output_type": "stream",
     "text": [
      "STATE:  {'ensemble_state': {'total_energy_consumption': 0.017675754738927185, 'ensemble_size': 7}, 'model_states': {'InceptionResNetV2': {'accuracy': 0.9333333333333333, 'confidence': 0.7749027768770854, 'avg_response_time': 2.0837769841080984, 'max_response_time': 2.1382728880039026, 'contribution': 0.7749027768770854}, 'MobileNetV2': {'accuracy': 0.875, 'confidence': 0.6934397853910923, 'avg_response_time': 0.03533945077594443, 'max_response_time': 0.04570103067149779, 'contribution': 0.6934397853910923}, 'ResNet50V2': {'accuracy': 1.0, 'confidence': 0.9973743259906769, 'avg_response_time': 0.11628307826802525, 'max_response_time': 0.12286897397190412, 'contribution': 0.9973743259906769}, 'ensemble': {'accuracy': 1.0, 'confidence': 0.8476529194249046, 'avg_response_time': 5.357239753354219, 'max_response_time': 7.173379934677056, 'contribution': 0.9305881400903065}, 'EfficientNetV2S': {'accuracy': 0.8333333333333334, 'confidence': 0.7545082370440165, 'avg_response_time': 1.151838689086487, 'max_response_time': 1.1895237146775917, 'contribution': 0.7545082370440165}, 'NASNetLarge': {'accuracy': 1.0, 'confidence': 0.8549580438570543, 'avg_response_time': 3.8214888901100634, 'max_response_time': 3.8513900824895066, 'contribution': 0.8549580438570543}, 'EfficientNetB7': {'accuracy': 0.8888888888888888, 'confidence': 0.7094670070542229, 'avg_response_time': 7.1357522445888675, 'max_response_time': 7.16355951069836, 'contribution': 0.7094670070542229}, 'DenseNet201': {'accuracy': 0.75, 'confidence': 0.7034087255597115, 'avg_response_time': 0.5853302771407729, 'max_response_time': 0.6072221871748754, 'contribution': 0.7034087255597115}, 'Xception': {'accuracy': 0.7142857142857143, 'confidence': 0.6405633347375053, 'avg_response_time': 0.9710958357181471, 'max_response_time': 0.9974942937826407, 'contribution': 0.6405633347375053}, 'InceptionV3': {'accuracy': 0.6666666666666666, 'confidence': 0.5140799880027771, 'avg_response_time': 0.5736042718218802, 'max_response_time': 0.5935550768472457, 'contribution': 0.5140799880027771}}, 'input_state': {'input_file_length': 15, 'image_height': 224, 'image_width': 224}, 'distribution_weights': [1.0, 1.0, 1.0, 1.0, 1.0, 0.0, 0.0, 0.0, 0.0, 0.0, 0.0, 0.0, 0.0, 0.0, 0.0, 0.0, 0.0, 0.0, 0.0, 0.0]}\n",
      "REWARD:  1.0\n",
      "Best model: DenseNet121 with score: 0.8663703703703703\n",
      "Model 'DenseNet121' successfully added to the target YAML.\n"
     ]
    },
    {
     "name": "stderr",
     "output_type": "stream",
     "text": [
      "2025-01-24 16:38:00,649:INFO -- Action: Replacing a model\n"
     ]
    },
    {
     "name": "stdout",
     "output_type": "stream",
     "text": [
      "STATE:  {'ensemble_state': {'total_energy_consumption': 0.017825260597325844, 'ensemble_size': 8}, 'model_states': {'InceptionResNetV2': {'accuracy': 0.9375, 'confidence': 0.7845166958868504, 'avg_response_time': 2.082689795860754, 'max_response_time': 2.1382728880039026, 'contribution': 0.7845166958868504}, 'MobileNetV2': {'accuracy': 0.875, 'confidence': 0.6934397853910923, 'avg_response_time': 0.03533945077594443, 'max_response_time': 0.04570103067149779, 'contribution': 0.6934397853910923}, 'ResNet50V2': {'accuracy': 1.0, 'confidence': 0.9973743259906769, 'avg_response_time': 0.11628307826802525, 'max_response_time': 0.12286897397190412, 'contribution': 0.9973743259906769}, 'ensemble': {'accuracy': 1.0, 'confidence': 0.8537666688983638, 'avg_response_time': 5.46857008322675, 'max_response_time': 7.173379934677056, 'contribution': 0.9348880480974913}, 'EfficientNetV2S': {'accuracy': 0.8461538461538461, 'confidence': 0.7677831649780273, 'avg_response_time': 1.151116548843612, 'max_response_time': 1.1895237146775917, 'contribution': 0.7677831649780273}, 'NASNetLarge': {'accuracy': 1.0, 'confidence': 0.8600607886910439, 'avg_response_time': 3.8219010023204625, 'max_response_time': 3.8513900824895066, 'contribution': 0.8600607886910439}, 'EfficientNetB7': {'accuracy': 0.9, 'confidence': 0.7220246076583863, 'avg_response_time': 7.135113447439494, 'max_response_time': 7.16355951069836, 'contribution': 0.7220246076583863}, 'DenseNet201': {'accuracy': 0.7777777777777778, 'confidence': 0.7359998689757453, 'avg_response_time': 0.5849693294715759, 'max_response_time': 0.6072221871748754, 'contribution': 0.7359998689757453}, 'Xception': {'accuracy': 0.75, 'confidence': 0.683567151427269, 'avg_response_time': 0.9733318275817511, 'max_response_time': 0.9974942937826407, 'contribution': 0.683567151427269}, 'InceptionV3': {'accuracy': 0.75, 'confidence': 0.6295679807662964, 'avg_response_time': 0.5700421413792743, 'max_response_time': 0.5935550768472457, 'contribution': 0.6295679807662964}}, 'input_state': {'input_file_length': 14, 'image_height': 224, 'image_width': 224}, 'distribution_weights': [1.0, 1.0, 1.0, 1.0, 1.0, 0.0, 0.0, 0.0, 0.0, 0.0, 0.0, 0.0, 0.0, 0.0, 0.0, 0.0, 0.0, 0.0, 0.0, 0.0]}\n",
      "REWARD:  1.0\n",
      "Worst model: DenseNet121 with score: 0.8663703703703703\n",
      "Model 'DenseNet121' successfully removed from the target YAML.\n",
      "Best model: DenseNet121 with score: 0.8663703703703703\n",
      "Model 'DenseNet121' successfully added to the target YAML.\n"
     ]
    },
    {
     "name": "stderr",
     "output_type": "stream",
     "text": [
      "2025-01-24 16:38:01,478:INFO -- Action: Adding a model\n"
     ]
    },
    {
     "name": "stdout",
     "output_type": "stream",
     "text": [
      "STATE:  {'ensemble_state': {'total_energy_consumption': 0.017825260597325844, 'ensemble_size': 8}, 'model_states': {'InceptionResNetV2': {'accuracy': 0.8823529411764706, 'confidence': 0.7383686549523297, 'avg_response_time': 2.0719560697329085, 'max_response_time': 2.1382728880039026, 'contribution': 0.7383686549523297}, 'MobileNetV2': {'accuracy': 0.875, 'confidence': 0.6934397853910923, 'avg_response_time': 0.03533945077594443, 'max_response_time': 0.04570103067149779, 'contribution': 0.6934397853910923}, 'ResNet50V2': {'accuracy': 1.0, 'confidence': 0.9973743259906769, 'avg_response_time': 0.11628307826802525, 'max_response_time': 0.12286897397190412, 'contribution': 0.9973743259906769}, 'ensemble': {'accuracy': 1.0, 'confidence': 0.8395289986991749, 'avg_response_time': 5.568771319709042, 'max_response_time': 7.173379934677056, 'contribution': 0.9264139164896572}, 'EfficientNetV2S': {'accuracy': 0.8571428571428571, 'confidence': 0.7694292111056191, 'avg_response_time': 1.1528163435832126, 'max_response_time': 1.1895237146775917, 'contribution': 0.7694292111056191}, 'NASNetLarge': {'accuracy': 1.0, 'confidence': 0.8530673682689667, 'avg_response_time': 3.8235074225303385, 'max_response_time': 3.8513900824895066, 'contribution': 0.8530673682689667}, 'EfficientNetB7': {'accuracy': 0.9090909090909091, 'confidence': 0.706944617358121, 'avg_response_time': 7.137522616018504, 'max_response_time': 7.16355951069836, 'contribution': 0.706944617358121}, 'DenseNet201': {'accuracy': 0.8, 'confidence': 0.725372189283371, 'avg_response_time': 0.5821261163554335, 'max_response_time': 0.6072221871748754, 'contribution': 0.725372189283371}, 'Xception': {'accuracy': 0.7777777777777778, 'confidence': 0.6667634844779968, 'avg_response_time': 0.9754062603382222, 'max_response_time': 0.9974942937826407, 'contribution': 0.6667634844779968}, 'InceptionV3': {'accuracy': 0.8, 'confidence': 0.5644744277000427, 'avg_response_time': 0.5710897853047557, 'max_response_time': 0.5935550768472457, 'contribution': 0.5644744277000427}}, 'input_state': {'input_file_length': 15, 'image_height': 224, 'image_width': 224}, 'distribution_weights': [1.0, 1.0, 1.0, 1.0, 1.0, 0.0, 0.0, 0.0, 0.0, 0.0, 0.0, 0.0, 0.0, 0.0, 0.0, 0.0, 0.0, 0.0, 0.0, 0.0]}\n",
      "REWARD:  1.0\n",
      "Best model: MobileNet with score: 0.84\n",
      "Model 'MobileNet' successfully added to the target YAML.\n"
     ]
    },
    {
     "name": "stderr",
     "output_type": "stream",
     "text": [
      "2025-01-24 16:38:01,885:INFO -- Action: Keeping the ensemble\n"
     ]
    },
    {
     "name": "stdout",
     "output_type": "stream",
     "text": [
      "STATE:  {'ensemble_state': {'total_energy_consumption': 0.017859681623383035, 'ensemble_size': 9}, 'model_states': {'InceptionResNetV2': {'accuracy': 0.8888888888888888, 'confidence': 0.7416218519210815, 'avg_response_time': 2.0749248771551194, 'max_response_time': 2.1382728880039026, 'contribution': 0.7416218519210815}, 'MobileNetV2': {'accuracy': 0.875, 'confidence': 0.6934397853910923, 'avg_response_time': 0.03533945077594443, 'max_response_time': 0.04570103067149779, 'contribution': 0.6934397853910923}, 'ResNet50V2': {'accuracy': 1.0, 'confidence': 0.9973743259906769, 'avg_response_time': 0.11628307826802525, 'max_response_time': 0.12286897397190412, 'contribution': 0.9973743259906769}, 'ensemble': {'accuracy': 1.0, 'confidence': 0.8309439518070094, 'avg_response_time': 5.6557868350795415, 'max_response_time': 7.173379934677056, 'contribution': 0.9263436943292618}, 'EfficientNetV2S': {'accuracy': 0.8666666666666667, 'confidence': 0.7780374407768249, 'avg_response_time': 1.1526247750170255, 'max_response_time': 1.1895237146775917, 'contribution': 0.7780374407768249}, 'NASNetLarge': {'accuracy': 1.0, 'confidence': 0.8582161217927933, 'avg_response_time': 3.8234361188391857, 'max_response_time': 3.8513900824895066, 'contribution': 0.8582161217927933}, 'EfficientNetB7': {'accuracy': 0.9166666666666666, 'confidence': 0.688922201593717, 'avg_response_time': 7.136508796710945, 'max_response_time': 7.16355951069836, 'contribution': 0.688922201593717}, 'DenseNet201': {'accuracy': 0.8181818181818182, 'confidence': 0.6967265199531208, 'avg_response_time': 0.5814734689326139, 'max_response_time': 0.6072221871748754, 'contribution': 0.6967265199531208}, 'Xception': {'accuracy': 0.8, 'confidence': 0.6780918598175049, 'avg_response_time': 0.9750889050756368, 'max_response_time': 0.9974942937826407, 'contribution': 0.6780918598175049}, 'InceptionV3': {'accuracy': 0.8333333333333334, 'confidence': 0.6041995882987976, 'avg_response_time': 0.5747372325000945, 'max_response_time': 0.5935550768472457, 'contribution': 0.6041995882987976}}, 'input_state': {'input_file_length': 14, 'image_height': 224, 'image_width': 224}, 'distribution_weights': [1.0, 1.0, 1.0, 1.0, 1.0, 0.0, 0.0, 0.0, 0.0, 0.0, 0.0, 0.0, 0.0, 0.0, 0.0, 0.0, 0.0, 0.0, 0.0, 0.0]}\n",
      "REWARD:  1.0\n"
     ]
    },
    {
     "name": "stderr",
     "output_type": "stream",
     "text": [
      "2025-01-24 16:38:02,402:INFO -- Action: Adding a model\n"
     ]
    },
    {
     "name": "stdout",
     "output_type": "stream",
     "text": [
      "STATE:  {'ensemble_state': {'total_energy_consumption': 0.017859681623383035, 'ensemble_size': 9}, 'model_states': {'InceptionResNetV2': {'accuracy': 0.8421052631578947, 'confidence': 0.7025891228726036, 'avg_response_time': 2.076848749753186, 'max_response_time': 2.1382728880039026, 'contribution': 0.7414728999137878}, 'MobileNetV2': {'accuracy': 0.875, 'confidence': 0.6934397853910923, 'avg_response_time': 0.03533945077594443, 'max_response_time': 0.04570103067149779, 'contribution': 0.6934397853910923}, 'ResNet50V2': {'accuracy': 1.0, 'confidence': 0.9973743259906769, 'avg_response_time': 0.11628307826802525, 'max_response_time': 0.12286897397190412, 'contribution': 0.9973743259906769}, 'ensemble': {'accuracy': 0.9473684210526315, 'confidence': 0.7872100596066405, 'avg_response_time': 5.730307293185205, 'max_response_time': 7.173379934677056, 'contribution': 0.9250460157268926}, 'EfficientNetV2S': {'accuracy': 0.875, 'confidence': 0.7647466734051704, 'avg_response_time': 1.1535855392313, 'max_response_time': 1.1895237146775917, 'contribution': 0.7294101007282734}, 'NASNetLarge': {'accuracy': 0.9333333333333333, 'confidence': 0.8010017136732738, 'avg_response_time': 3.8233709987406828, 'max_response_time': 3.8513900824895066, 'contribution': 0.8591275155544281}, 'EfficientNetB7': {'accuracy': 0.9230769230769231, 'confidence': 0.6630939405698043, 'avg_response_time': 7.130954604284496, 'max_response_time': 7.16355951069836, 'contribution': 0.6604304542908301}, 'DenseNet201': {'accuracy': 0.8333333333333334, 'confidence': 0.6830061251918474, 'avg_response_time': 0.5836092494710557, 'max_response_time': 0.6072221871748754, 'contribution': 0.6386659766236941}, 'Xception': {'accuracy': 0.7272727272727273, 'confidence': 0.6164471452886408, 'avg_response_time': 0.9832392853108516, 'max_response_time': 1.0647430876629993, 'contribution': 0.6505217308347876}, 'InceptionV3': {'accuracy': 0.7142857142857143, 'confidence': 0.5178853613989693, 'avg_response_time': 0.5744827491040255, 'max_response_time': 0.5935550768472457, 'contribution': 0.628540405205318}}, 'input_state': {'input_file_length': 15, 'image_height': 224, 'image_width': 224}, 'distribution_weights': [1.0, 1.0, 1.0, 1.0, 1.0, 0.0, 0.0, 0.0, 0.0, 0.0, 0.0, 0.0, 0.0, 0.0, 0.0, 0.0, 0.0, 0.0, 0.0, 0.0]}\n",
      "REWARD:  0.9473684210526315\n",
      "Best model: ResNet50 with score: 0.8398350777037742\n",
      "Model 'ResNet50' successfully added to the target YAML.\n"
     ]
    },
    {
     "name": "stderr",
     "output_type": "stream",
     "text": [
      "2025-01-24 16:38:02,972:INFO -- Action: Adding a model\n"
     ]
    },
    {
     "name": "stdout",
     "output_type": "stream",
     "text": [
      "STATE:  {'ensemble_state': {'total_energy_consumption': 0.018470515036970083, 'ensemble_size': 10}, 'model_states': {'InceptionResNetV2': {'accuracy': 0.8, 'confidence': 0.6674596667289734, 'avg_response_time': 2.0764985943178496, 'max_response_time': 2.1382728880039026, 'contribution': 0.7043992549180984}, 'MobileNetV2': {'accuracy': 0.875, 'confidence': 0.6934397853910923, 'avg_response_time': 0.03533945077594443, 'max_response_time': 0.04570103067149779, 'contribution': 0.6934397853910923}, 'ResNet50V2': {'accuracy': 1.0, 'confidence': 0.9973743259906769, 'avg_response_time': 0.11628307826802525, 'max_response_time': 0.12286897397190412, 'contribution': 0.9973743259906769}, 'ensemble': {'accuracy': 0.9, 'confidence': 0.7478495566263085, 'avg_response_time': 5.799763747431296, 'max_response_time': 7.173379934677056, 'contribution': 0.8787937149405479}, 'EfficientNetV2S': {'accuracy': 0.8235294117647058, 'confidence': 0.7197615749695722, 'avg_response_time': 1.152647407443897, 'max_response_time': 1.1895237146775917, 'contribution': 0.6865036242148456}, 'NASNetLarge': {'accuracy': 0.875, 'confidence': 0.7509391065686941, 'avg_response_time': 3.822160260191041, 'max_response_time': 3.8513900824895066, 'contribution': 0.8054320458322763}, 'EfficientNetB7': {'accuracy': 0.8571428571428571, 'confidence': 0.6157300876719611, 'avg_response_time': 7.129349811339769, 'max_response_time': 7.16355951069836, 'contribution': 0.6132568504129138}, 'DenseNet201': {'accuracy': 0.7692307692307693, 'confidence': 0.6304671924847823, 'avg_response_time': 0.5841606368978707, 'max_response_time': 0.6072221871748754, 'contribution': 0.5895378245757177}, 'Xception': {'accuracy': 0.6666666666666666, 'confidence': 0.5650765498479208, 'avg_response_time': 0.9837409109890788, 'max_response_time': 1.0647430876629993, 'contribution': 0.5963115865985552}, 'InceptionV3': {'accuracy': 0.625, 'confidence': 0.4531496912240982, 'avg_response_time': 0.5753024021266913, 'max_response_time': 0.5935550768472457, 'contribution': 0.5499728545546532}}, 'input_state': {'input_file_length': 14, 'image_height': 224, 'image_width': 224}, 'distribution_weights': [1.0, 1.0, 1.0, 1.0, 1.0, 0.0, 0.0, 0.0, 0.0, 0.0, 0.0, 0.0, 0.0, 0.0, 0.0, 0.0, 0.0, 0.0, 0.0, 0.0]}\n",
      "REWARD:  0.9\n",
      "Best model: NASNetMobile with score: 0.8327037037037037\n",
      "Model 'NASNetMobile' successfully added to the target YAML.\n"
     ]
    },
    {
     "name": "stderr",
     "output_type": "stream",
     "text": [
      "2025-01-24 16:38:03,476:INFO -- Action: Keeping the ensemble\n"
     ]
    },
    {
     "name": "stdout",
     "output_type": "stream",
     "text": [
      "STATE:  {'ensemble_state': {'total_energy_consumption': 0.018556997220561713, 'ensemble_size': 11}, 'model_states': {'InceptionResNetV2': {'accuracy': 0.8095238095238095, 'confidence': 0.6799647779691786, 'avg_response_time': 2.074727808840599, 'max_response_time': 2.1382728880039026, 'contribution': 0.7151453381492978}, 'MobileNetV2': {'accuracy': 0.875, 'confidence': 0.6934397853910923, 'avg_response_time': 0.03533945077594443, 'max_response_time': 0.04570103067149779, 'contribution': 0.6934397853910923}, 'ResNet50V2': {'accuracy': 1.0, 'confidence': 0.9973743259906769, 'avg_response_time': 0.11628307826802525, 'max_response_time': 0.12286897397190412, 'contribution': 0.9973743259906769}, 'ensemble': {'accuracy': 0.9047619047619048, 'confidence': 0.7572679311540833, 'avg_response_time': 5.861159211513451, 'max_response_time': 7.173379934677056, 'contribution': 0.8845556818303608}, 'EfficientNetV2S': {'accuracy': 0.8333333333333334, 'confidence': 0.7311580015553368, 'avg_response_time': 1.15097307002936, 'max_response_time': 1.1895237146775917, 'contribution': 0.6997477147314284}, 'NASNetLarge': {'accuracy': 0.8823529411764706, 'confidence': 0.7583063753212199, 'avg_response_time': 3.823358278888201, 'max_response_time': 3.8513900824895066, 'contribution': 0.8095938475692973}, 'EfficientNetB7': {'accuracy': 0.8666666666666667, 'confidence': 0.632993100086848, 'avg_response_time': 7.125849382463339, 'max_response_time': 7.16355951069836, 'contribution': 0.630684745311737}, 'DenseNet201': {'accuracy': 0.7857142857142857, 'confidence': 0.6566008904150554, 'avg_response_time': 0.5841089324182543, 'max_response_time': 0.6072221871748754, 'contribution': 0.6185950487852097}, 'Xception': {'accuracy': 0.6923076923076923, 'confidence': 0.5946218233842117, 'avg_response_time': 0.9850527088810915, 'max_response_time': 1.0647430876629993, 'contribution': 0.6234541650001819}, 'InceptionV3': {'accuracy': 0.6666666666666666, 'confidence': 0.5134492251608107, 'avg_response_time': 0.576144122518631, 'max_response_time': 0.5935550768472457, 'contribution': 0.5995142592324151}}, 'input_state': {'input_file_length': 15, 'image_height': 224, 'image_width': 224}, 'distribution_weights': [1.0, 1.0, 1.0, 1.0, 1.0, 0.0, 0.0, 0.0, 0.0, 0.0, 0.0, 0.0, 0.0, 0.0, 0.0, 0.0, 0.0, 0.0, 0.0, 0.0]}\n",
      "REWARD:  0.9047619047619048\n"
     ]
    },
    {
     "name": "stderr",
     "output_type": "stream",
     "text": [
      "2025-01-24 16:38:03,976:INFO -- Action: Keeping the ensemble\n"
     ]
    },
    {
     "name": "stdout",
     "output_type": "stream",
     "text": [
      "STATE:  {'ensemble_state': {'total_energy_consumption': 0.018556997220561713, 'ensemble_size': 11}, 'model_states': {'InceptionResNetV2': {'accuracy': 0.8181818181818182, 'confidence': 0.6904400370337747, 'avg_response_time': 2.074877301333987, 'max_response_time': 2.1382728880039026, 'contribution': 0.7240214808420702}, 'MobileNetV2': {'accuracy': 0.875, 'confidence': 0.6934397853910923, 'avg_response_time': 0.03533945077594443, 'max_response_time': 0.04570103067149779, 'contribution': 0.6934397853910923}, 'ResNet50V2': {'accuracy': 1.0, 'confidence': 0.9973743259906769, 'avg_response_time': 0.11628307826802525, 'max_response_time': 0.12286897397190412, 'contribution': 0.9973743259906769}, 'ensemble': {'accuracy': 0.9090909090909091, 'confidence': 0.7654416798425209, 'avg_response_time': 5.919808652689046, 'max_response_time': 7.173379934677056, 'contribution': 0.8897850012237375}, 'EfficientNetV2S': {'accuracy': 0.8421052631578947, 'confidence': 0.7402465751296595, 'avg_response_time': 1.1513151468691238, 'max_response_time': 1.1895237146775917, 'contribution': 0.710489461296483}, 'NASNetLarge': {'accuracy': 0.8888888888888888, 'confidence': 0.7676955643627379, 'avg_response_time': 3.8273954135597372, 'max_response_time': 3.896026702975862, 'contribution': 0.8161337325970331}, 'EfficientNetB7': {'accuracy': 0.875, 'confidence': 0.6469039488583803, 'avg_response_time': 7.126768303339292, 'max_response_time': 7.16355951069836, 'contribution': 0.6447398662567139}, 'DenseNet201': {'accuracy': 0.8, 'confidence': 0.6794675449530284, 'avg_response_time': 0.5829390053723027, 'max_response_time': 0.6072221871748754, 'contribution': 0.6439954260985057}, 'Xception': {'accuracy': 0.7142857142857143, 'confidence': 0.6125127587999616, 'avg_response_time': 0.9862876361749742, 'max_response_time': 1.0647430876629993, 'contribution': 0.6392856474433627}, 'InceptionV3': {'accuracy': 0.7, 'confidence': 0.5591058015823365, 'avg_response_time': 0.5740103483225611, 'max_response_time': 0.5935550768472457, 'contribution': 0.6365643322467804}}, 'input_state': {'input_file_length': 15, 'image_height': 224, 'image_width': 224}, 'distribution_weights': [1.0, 1.0, 1.0, 1.0, 1.0, 0.0, 0.0, 0.0, 0.0, 0.0, 0.0, 0.0, 0.0, 0.0, 0.0, 0.0, 0.0, 0.0, 0.0, 0.0]}\n",
      "REWARD:  0.9090909090909091\n"
     ]
    },
    {
     "name": "stderr",
     "output_type": "stream",
     "text": [
      "2025-01-24 16:38:04,474:INFO -- Action: Replacing a model\n"
     ]
    },
    {
     "name": "stdout",
     "output_type": "stream",
     "text": [
      "STATE:  {'ensemble_state': {'total_energy_consumption': 0.018556997220561713, 'ensemble_size': 11}, 'model_states': {'InceptionResNetV2': {'accuracy': 0.8260869565217391, 'confidence': 0.6999173579008683, 'avg_response_time': 2.07473227295504, 'max_response_time': 2.1382728880039026, 'contribution': 0.7320387389348901}, 'MobileNetV2': {'accuracy': 0.875, 'confidence': 0.6934397853910923, 'avg_response_time': 0.03533945077594443, 'max_response_time': 0.04570103067149779, 'contribution': 0.6934397853910923}, 'ResNet50V2': {'accuracy': 1.0, 'confidence': 0.9973743259906769, 'avg_response_time': 0.11628307826802525, 'max_response_time': 0.12286897397190412, 'contribution': 0.9973743259906769}, 'ensemble': {'accuracy': 0.9130434782608695, 'confidence': 0.7719704910100303, 'avg_response_time': 5.97596487567221, 'max_response_time': 7.211401781301823, 'contribution': 0.8933990273786627}, 'EfficientNetV2S': {'accuracy': 0.85, 'confidence': 0.7490469425916672, 'avg_response_time': 1.147179858447068, 'max_response_time': 1.1895237146775917, 'contribution': 0.7207776844501496}, 'NASNetLarge': {'accuracy': 0.8947368421052632, 'confidence': 0.7760099847065774, 'avg_response_time': 3.8274827551679547, 'max_response_time': 3.896026702975862, 'contribution': 0.8218987756653836}, 'EfficientNetB7': {'accuracy': 0.8823529411764706, 'confidence': 0.657256552401711, 'avg_response_time': 7.13097282663639, 'max_response_time': 7.198245199389978, 'contribution': 0.6552197687766131}, 'DenseNet201': {'accuracy': 0.8125, 'confidence': 0.6978075485676527, 'avg_response_time': 0.5820800089104368, 'max_response_time': 0.6072221871748754, 'contribution': 0.6645524371415377}, 'Xception': {'accuracy': 0.7333333333333333, 'confidence': 0.6347845633824666, 'avg_response_time': 0.9870683172174634, 'max_response_time': 1.0647430876629993, 'contribution': 0.6597725927829743}, 'InceptionV3': {'accuracy': 0.7272727272727273, 'confidence': 0.5958058779889887, 'avg_response_time': 0.5741997471327557, 'max_response_time': 0.5935550768472457, 'contribution': 0.6662227240475741}}, 'input_state': {'input_file_length': 14, 'image_height': 224, 'image_width': 224}, 'distribution_weights': [1.0, 1.0, 1.0, 1.0, 1.0, 0.0, 0.0, 0.0, 0.0, 0.0, 0.0, 0.0, 0.0, 0.0, 0.0, 0.0, 0.0, 0.0, 0.0, 0.0]}\n",
      "REWARD:  0.9130434782608695\n",
      "Worst model: NASNetMobile with score: 0.8327037037037037\n",
      "Model 'NASNetMobile' successfully removed from the target YAML.\n",
      "Best model: NASNetMobile with score: 0.8327037037037037\n",
      "Model 'NASNetMobile' successfully added to the target YAML.\n"
     ]
    },
    {
     "name": "stderr",
     "output_type": "stream",
     "text": [
      "2025-01-24 16:38:05,139:INFO -- Action: Keeping the ensemble\n"
     ]
    },
    {
     "name": "stdout",
     "output_type": "stream",
     "text": [
      "STATE:  {'ensemble_state': {'total_energy_consumption': 0.018556997220561713, 'ensemble_size': 11}, 'model_states': {'InceptionResNetV2': {'accuracy': 0.7916666666666666, 'confidence': 0.6707541346549988, 'avg_response_time': 2.077079445493472, 'max_response_time': 2.1382728880039026, 'contribution': 0.701537124812603}, 'MobileNetV2': {'accuracy': 0.875, 'confidence': 0.6934397853910923, 'avg_response_time': 0.03533945077594443, 'max_response_time': 0.04570103067149779, 'contribution': 0.6934397853910923}, 'ResNet50V2': {'accuracy': 1.0, 'confidence': 0.9973743259906769, 'avg_response_time': 0.11628307826802525, 'max_response_time': 0.12286897397190412, 'contribution': 0.9973743259906769}, 'ensemble': {'accuracy': 0.9166666666666666, 'confidence': 0.7663639978052776, 'avg_response_time': 6.0255914246579065, 'max_response_time': 7.211401781301823, 'contribution': 0.892500426620245}, 'EfficientNetV2S': {'accuracy': 0.8095238095238095, 'confidence': 0.7133780405634925, 'avg_response_time': 1.1466317202220784, 'max_response_time': 1.1895237146775917, 'contribution': 0.686454937571571}, 'NASNetLarge': {'accuracy': 0.85, 'confidence': 0.7372094854712486, 'avg_response_time': 3.826336562528886, 'max_response_time': 3.896026702975862, 'contribution': 0.7808038368821144}, 'EfficientNetB7': {'accuracy': 0.8333333333333334, 'confidence': 0.6207422994905047, 'avg_response_time': 7.132026279172867, 'max_response_time': 7.198245199389978, 'contribution': 0.6188186705112457}, 'DenseNet201': {'accuracy': 0.7647058823529411, 'confidence': 0.656760045710732, 'avg_response_time': 0.5815986576386675, 'max_response_time': 0.6072221871748754, 'contribution': 0.6254611173096825}, 'Xception': {'accuracy': 0.6875, 'confidence': 0.5951105281710625, 'avg_response_time': 0.9878315080245059, 'max_response_time': 1.0647430876629993, 'contribution': 0.6185368057340384}, 'InceptionV3': {'accuracy': 0.6666666666666666, 'confidence': 0.5461553881565729, 'avg_response_time': 0.5730128004240771, 'max_response_time': 0.5935550768472457, 'contribution': 0.6107041637102762}}, 'input_state': {'input_file_length': 14, 'image_height': 224, 'image_width': 224}, 'distribution_weights': [1.0, 1.0, 1.0, 1.0, 1.0, 0.0, 0.0, 0.0, 0.0, 0.0, 0.0, 0.0, 0.0, 0.0, 0.0, 0.0, 0.0, 0.0, 0.0, 0.0]}\n",
      "REWARD:  0.9166666666666666\n"
     ]
    },
    {
     "name": "stderr",
     "output_type": "stream",
     "text": [
      "2025-01-24 16:38:05,830:INFO -- Action: Adding a model\n"
     ]
    },
    {
     "name": "stdout",
     "output_type": "stream",
     "text": [
      "STATE:  {'ensemble_state': {'total_energy_consumption': 0.018556997220561713, 'ensemble_size': 11}, 'model_states': {'InceptionResNetV2': {'accuracy': 0.8, 'confidence': 0.6810529375076294, 'avg_response_time': 2.0788085133717598, 'max_response_time': 2.1382728880039026, 'contribution': 0.7106046080589294}, 'MobileNetV2': {'accuracy': 0.875, 'confidence': 0.6934397853910923, 'avg_response_time': 0.03533945077594443, 'max_response_time': 0.04570103067149779, 'contribution': 0.6934397853910923}, 'ResNet50V2': {'accuracy': 1.0, 'confidence': 0.9973743259906769, 'avg_response_time': 0.11628307826802525, 'max_response_time': 0.12286897397190412, 'contribution': 0.9973743259906769}, 'ensemble': {'accuracy': 0.92, 'confidence': 0.7636595223674182, 'avg_response_time': 6.069444815141038, 'max_response_time': 7.211401781301823, 'contribution': 0.8939293777942657}, 'EfficientNetV2S': {'accuracy': 0.8181818181818182, 'confidence': 0.722683150659908, 'avg_response_time': 1.1466980583316764, 'max_response_time': 1.1895237146775917, 'contribution': 0.6969838250767101}, 'NASNetLarge': {'accuracy': 0.8571428571428571, 'confidence': 0.7455035944779714, 'avg_response_time': 3.8257177984713726, 'max_response_time': 3.896026702975862, 'contribution': 0.7870220243930817}, 'EfficientNetB7': {'accuracy': 0.8421052631578947, 'confidence': 0.628637327959663, 'avg_response_time': 7.130973567902266, 'max_response_time': 7.198245199389978, 'contribution': 0.6268149426108912}, 'DenseNet201': {'accuracy': 0.7777777777777778, 'confidence': 0.6570525815089544, 'avg_response_time': 0.5809473925876536, 'max_response_time': 0.6072221871748754, 'contribution': 0.6274924824635187}, 'Xception': {'accuracy': 0.6470588235294118, 'confidence': 0.5601040265139412, 'avg_response_time': 0.9886824322488192, 'max_response_time': 1.0647430876629993, 'contribution': 0.5821522877496832}, 'InceptionV3': {'accuracy': 0.6923076923076923, 'confidence': 0.5545017673419073, 'avg_response_time': 0.5744347138848747, 'max_response_time': 0.5935550768472457, 'contribution': 0.6140852524684026}}, 'input_state': {'input_file_length': 14, 'image_height': 224, 'image_width': 224}, 'distribution_weights': [1.0, 1.0, 1.0, 1.0, 1.0, 0.0, 0.0, 0.0, 0.0, 0.0, 0.0, 0.0, 0.0, 0.0, 0.0, 0.0, 0.0, 0.0, 0.0, 0.0]}\n",
      "REWARD:  0.92\n",
      "Best model: MobileNetV2 with score: 0.8261111111111111\n",
      "Model 'MobileNetV2' successfully added to the target YAML.\n"
     ]
    },
    {
     "name": "stderr",
     "output_type": "stream",
     "text": [
      "2025-01-24 16:38:06,607:INFO -- Action: Keeping the ensemble\n"
     ]
    },
    {
     "name": "stdout",
     "output_type": "stream",
     "text": [
      "STATE:  {'ensemble_state': {'total_energy_consumption': 0.018591318869234208, 'ensemble_size': 12}, 'model_states': {'InceptionResNetV2': {'accuracy': 0.8076923076923077, 'confidence': 0.6846209374757913, 'avg_response_time': 2.078837801982801, 'max_response_time': 2.1382728880039026, 'contribution': 0.7130360053135798}, 'MobileNetV2': {'accuracy': 0.8888888888888888, 'confidence': 0.6538042624791464, 'avg_response_time': 0.0431495637912494, 'max_response_time': 0.1056304679136892, 'contribution': 0.6538042624791464}, 'ResNet50V2': {'accuracy': 1.0, 'confidence': 0.9973743259906769, 'avg_response_time': 0.11628307826802525, 'max_response_time': 0.12286897397190412, 'contribution': 0.9973743259906769}, 'ensemble': {'accuracy': 0.9230769230769231, 'confidence': 0.7636251288469981, 'avg_response_time': 6.110936573703741, 'max_response_time': 7.211401781301823, 'contribution': 0.8951130773012455}, 'EfficientNetV2S': {'accuracy': 0.8260869565217391, 'confidence': 0.731007544890694, 'avg_response_time': 1.145861924883256, 'max_response_time': 1.1895237146775917, 'contribution': 0.7064255812893743}, 'NASNetLarge': {'accuracy': 0.8636363636363636, 'confidence': 0.7536491385915063, 'avg_response_time': 3.825032537748832, 'max_response_time': 3.896026702975862, 'contribution': 0.7932803671468388}, 'EfficientNetB7': {'accuracy': 0.85, 'confidence': 0.6397971257567405, 'avg_response_time': 7.13141497820059, 'max_response_time': 7.198245199389978, 'contribution': 0.6380658596754074}, 'DenseNet201': {'accuracy': 0.7894736842105263, 'confidence': 0.6666611009522488, 'avg_response_time': 0.5810668384941118, 'max_response_time': 0.6072221871748754, 'contribution': 0.6386567965934151}, 'Xception': {'accuracy': 0.6666666666666666, 'confidence': 0.5749795469972823, 'avg_response_time': 0.9884523574513651, 'max_response_time': 1.0647430876629993, 'contribution': 0.5958029048310386}, 'InceptionV3': {'accuracy': 0.7142857142857143, 'confidence': 0.5656123161315918, 'avg_response_time': 0.5726570434795676, 'max_response_time': 0.5935550768472457, 'contribution': 0.620939838034766}}, 'input_state': {'input_file_length': 15, 'image_height': 224, 'image_width': 224}, 'distribution_weights': [1.0, 1.0, 1.0, 1.0, 1.0, 0.0, 0.0, 0.0, 0.0, 0.0, 0.0, 0.0, 0.0, 0.0, 0.0, 0.0, 0.0, 0.0, 0.0, 0.0]}\n",
      "REWARD:  0.9230769230769231\n"
     ]
    },
    {
     "name": "stderr",
     "output_type": "stream",
     "text": [
      "2025-01-24 16:38:07,340:INFO -- Action: Keeping the ensemble\n"
     ]
    },
    {
     "name": "stdout",
     "output_type": "stream",
     "text": [
      "STATE:  {'ensemble_state': {'total_energy_consumption': 0.018591318869234208, 'ensemble_size': 12}, 'model_states': {'InceptionResNetV2': {'accuracy': 0.8148148148148148, 'confidence': 0.6929380143130267, 'avg_response_time': 2.0802519775031736, 'max_response_time': 2.1382728880039026, 'contribution': 0.7203006722308971}, 'MobileNetV2': {'accuracy': 0.9, 'confidence': 0.6694361686706543, 'avg_response_time': 0.048388223581506976, 'max_response_time': 0.1056304679136892, 'contribution': 0.6694361686706543}, 'ResNet50V2': {'accuracy': 1.0, 'confidence': 0.9973743259906769, 'avg_response_time': 0.11628307826802525, 'max_response_time': 0.12286897397190412, 'contribution': 0.9973743259906769}, 'ensemble': {'accuracy': 0.9259259259259259, 'confidence': 0.7687583237637161, 'avg_response_time': 6.149120926604843, 'max_response_time': 7.211401781301823, 'contribution': 0.8988590980017627}, 'EfficientNetV2S': {'accuracy': 0.8333333333333334, 'confidence': 0.7372041394313177, 'avg_response_time': 1.1458182457396309, 'max_response_time': 1.1895237146775917, 'contribution': 0.7136464243133863}, 'NASNetLarge': {'accuracy': 0.8695652173913043, 'confidence': 0.7595539235550425, 'avg_response_time': 3.8253518712425234, 'max_response_time': 3.896026702975862, 'contribution': 0.7974620552166648}, 'EfficientNetB7': {'accuracy': 0.8571428571428571, 'confidence': 0.6441561310064225, 'avg_response_time': 7.1313716038849995, 'max_response_time': 7.198245199389978, 'contribution': 0.6425073061670575}, 'DenseNet201': {'accuracy': 0.8, 'confidence': 0.6829088971018791, 'avg_response_time': 0.5809718790837108, 'max_response_time': 0.6072221871748754, 'contribution': 0.6563048079609871}, 'Xception': {'accuracy': 0.6842105263157895, 'confidence': 0.5947379093421133, 'avg_response_time': 0.9895421210325822, 'max_response_time': 1.0647430876629993, 'contribution': 0.614465300974093}, 'InceptionV3': {'accuracy': 0.7333333333333333, 'confidence': 0.5798486828804016, 'avg_response_time': 0.5730270028078291, 'max_response_time': 0.5935550768472457, 'contribution': 0.6314877033233642}}, 'input_state': {'input_file_length': 14, 'image_height': 224, 'image_width': 224}, 'distribution_weights': [1.0, 1.0, 1.0, 1.0, 1.0, 0.0, 0.0, 0.0, 0.0, 0.0, 0.0, 0.0, 0.0, 0.0, 0.0, 0.0, 0.0, 0.0, 0.0, 0.0]}\n",
      "REWARD:  0.9259259259259259\n"
     ]
    },
    {
     "name": "stderr",
     "output_type": "stream",
     "text": [
      "2025-01-24 16:38:08,035:INFO -- Action: Keeping the ensemble\n"
     ]
    },
    {
     "name": "stdout",
     "output_type": "stream",
     "text": [
      "STATE:  {'ensemble_state': {'total_energy_consumption': 0.018591318869234208, 'ensemble_size': 12}, 'model_states': {'InceptionResNetV2': {'accuracy': 0.8214285714285714, 'confidence': 0.6960104533604213, 'avg_response_time': 2.077924788105393, 'max_response_time': 2.1382728880039026, 'contribution': 0.6945756482226508}, 'MobileNetV2': {'accuracy': 0.9090909090909091, 'confidence': 0.666110943664204, 'avg_response_time': 0.05310461135404994, 'max_response_time': 0.1056304679136892, 'contribution': 0.6085783351551403}, 'ResNet50V2': {'accuracy': 1.0, 'confidence': 0.9973743259906769, 'avg_response_time': 0.11628307826802525, 'max_response_time': 0.12286897397190412, 'contribution': 0.9973743259906769}, 'ensemble': {'accuracy': 0.8928571428571429, 'confidence': 0.7413026693435834, 'avg_response_time': 6.183607586269052, 'max_response_time': 7.211401781301823, 'contribution': 0.8667569873588425}, 'EfficientNetV2S': {'accuracy': 0.84, 'confidence': 0.7405449604988098, 'avg_response_time': 1.1447912629987236, 'max_response_time': 1.1895237146775917, 'contribution': 0.6851005673408508}, 'NASNetLarge': {'accuracy': 0.875, 'confidence': 0.7540950415035089, 'avg_response_time': 3.825014110372471, 'max_response_time': 3.896026702975862, 'contribution': 0.7642344695826372}, 'EfficientNetB7': {'accuracy': 0.8636363636363636, 'confidence': 0.6403771869160912, 'avg_response_time': 7.130111522078907, 'max_response_time': 7.198245199389978, 'contribution': 0.6133024286140095}, 'DenseNet201': {'accuracy': 0.8095238095238095, 'confidence': 0.6768362110569364, 'avg_response_time': 0.5801117379624878, 'max_response_time': 0.6072221871748754, 'contribution': 0.625052198058083}, 'Xception': {'accuracy': 0.7, 'confidence': 0.5899354070425034, 'avg_response_time': 0.9897765146458102, 'max_response_time': 1.0647430876629993, 'contribution': 0.5837420359253883}, 'InceptionV3': {'accuracy': 0.75, 'confidence': 0.5704556591808796, 'avg_response_time': 0.5740050163542206, 'max_response_time': 0.5935550768472457, 'contribution': 0.592019721865654}}, 'input_state': {'input_file_length': 14, 'image_height': 224, 'image_width': 224}, 'distribution_weights': [1.0, 1.0, 1.0, 1.0, 1.0, 0.0, 0.0, 0.0, 0.0, 0.0, 0.0, 0.0, 0.0, 0.0, 0.0, 0.0, 0.0, 0.0, 0.0, 0.0]}\n",
      "REWARD:  0.8928571428571429\n"
     ]
    },
    {
     "name": "stderr",
     "output_type": "stream",
     "text": [
      "2025-01-24 16:38:08,710:INFO -- Action: Replacing a model\n"
     ]
    },
    {
     "name": "stdout",
     "output_type": "stream",
     "text": [
      "STATE:  {'ensemble_state': {'total_energy_consumption': 0.018591318869234208, 'ensemble_size': 12}, 'model_states': {'InceptionResNetV2': {'accuracy': 0.8275862068965517, 'confidence': 0.7037136821911253, 'avg_response_time': 2.0789384038813385, 'max_response_time': 2.1382728880039026, 'contribution': 0.7023283530925882}, 'MobileNetV2': {'accuracy': 0.9166666666666666, 'confidence': 0.6661982387304306, 'avg_response_time': 0.05763024336414029, 'max_response_time': 0.10741219547513417, 'contribution': 0.6134600142637888}, 'ResNet50V2': {'accuracy': 1.0, 'confidence': 0.9973743259906769, 'avg_response_time': 0.11628307826802525, 'max_response_time': 0.12286897397190412, 'contribution': 0.9973743259906769}, 'ensemble': {'accuracy': 0.896551724137931, 'confidence': 0.7442965406735228, 'avg_response_time': 6.22031120779865, 'max_response_time': 7.248012610627401, 'contribution': 0.8704343859491677}, 'EfficientNetV2S': {'accuracy': 0.8461538461538461, 'confidence': 0.7443046982471759, 'avg_response_time': 1.1453217754911997, 'max_response_time': 1.1895237146775917, 'contribution': 0.6909927817491385}, 'NASNetLarge': {'accuracy': 0.88, 'confidence': 0.7608701956272125, 'avg_response_time': 3.8260588476262565, 'max_response_time': 3.896026702975862, 'contribution': 0.7706040465831756}, 'EfficientNetB7': {'accuracy': 0.8695652173913043, 'confidence': 0.6290026825407277, 'avg_response_time': 7.134678640634883, 'max_response_time': 7.235155248866351, 'contribution': 0.6031050876430843}, 'DenseNet201': {'accuracy': 0.8181818181818182, 'confidence': 0.6826733581044457, 'avg_response_time': 0.5810135708472589, 'max_response_time': 0.6072221871748754, 'contribution': 0.6332431638782675}, 'Xception': {'accuracy': 0.7142857142857143, 'confidence': 0.6015909541220892, 'avg_response_time': 0.9899772965069786, 'max_response_time': 1.0647430876629993, 'contribution': 0.5956925054391226}, 'InceptionV3': {'accuracy': 0.7647058823529411, 'confidence': 0.5916692789863137, 'avg_response_time': 0.5731508518977053, 'max_response_time': 0.5935550768472457, 'contribution': 0.6119648673955131}}, 'input_state': {'input_file_length': 14, 'image_height': 224, 'image_width': 224}, 'distribution_weights': [1.0, 1.0, 1.0, 1.0, 1.0, 0.0, 0.0, 0.0, 0.0, 0.0, 0.0, 0.0, 0.0, 0.0, 0.0, 0.0, 0.0, 0.0, 0.0, 0.0]}\n",
      "REWARD:  0.896551724137931\n",
      "Worst model: MobileNetV2 with score: 0.8261111111111111\n",
      "Model 'MobileNetV2' successfully removed from the target YAML.\n",
      "Best model: MobileNetV2 with score: 0.8261111111111111\n",
      "Model 'MobileNetV2' successfully added to the target YAML.\n"
     ]
    },
    {
     "name": "stderr",
     "output_type": "stream",
     "text": [
      "2025-01-24 16:38:09,709:INFO -- Action: Adding a model\n"
     ]
    },
    {
     "name": "stdout",
     "output_type": "stream",
     "text": [
      "STATE:  {'ensemble_state': {'total_energy_consumption': 0.018591318869234208, 'ensemble_size': 12}, 'model_states': {'InceptionResNetV2': {'accuracy': 0.8333333333333334, 'confidence': 0.7108795126279195, 'avg_response_time': 2.0795580846613393, 'max_response_time': 2.1382728880039026, 'contribution': 0.7095403611660004}, 'MobileNetV2': {'accuracy': 0.9230769230769231, 'confidence': 0.6558246704248282, 'avg_response_time': 0.060642480935602476, 'max_response_time': 0.10741219547513417, 'contribution': 0.6071432324556204}, 'ResNet50V2': {'accuracy': 1.0, 'confidence': 0.9973743259906769, 'avg_response_time': 0.11628307826802525, 'max_response_time': 0.12286897397190412, 'contribution': 0.9973743259906769}, 'ensemble': {'accuracy': 0.9, 'confidence': 0.747147283783006, 'avg_response_time': 6.251142182003444, 'max_response_time': 7.248012610627401, 'contribution': 0.8737082252899806}, 'EfficientNetV2S': {'accuracy': 0.8518518518518519, 'confidence': 0.7499949291900352, 'avg_response_time': 1.1438257719169407, 'max_response_time': 1.1895237146775917, 'contribution': 0.698657528117851}, 'NASNetLarge': {'accuracy': 0.8846153846153846, 'confidence': 0.7659700661897659, 'avg_response_time': 3.8255745922211437, 'max_response_time': 3.896026702975862, 'contribution': 0.7753295382628074}, 'EfficientNetB7': {'accuracy': 0.875, 'confidence': 0.6379115084807078, 'avg_response_time': 7.134713177282812, 'max_response_time': 7.235155248866351, 'contribution': 0.6130929800371329}, 'DenseNet201': {'accuracy': 0.8260869565217391, 'confidence': 0.6951071062813634, 'avg_response_time': 0.5799957071230193, 'max_response_time': 0.6072221871748754, 'contribution': 0.6478260509345842}, 'Xception': {'accuracy': 0.7272727272727273, 'confidence': 0.615208850665526, 'avg_response_time': 0.991353303808371, 'max_response_time': 1.0647430876629993, 'contribution': 0.6095785132863305}, 'InceptionV3': {'accuracy': 0.7777777777777778, 'confidence': 0.6038544873396555, 'avg_response_time': 0.5728712621222593, 'max_response_time': 0.5935550768472457, 'contribution': 0.623022543059455}}, 'input_state': {'input_file_length': 13, 'image_height': 224, 'image_width': 224}, 'distribution_weights': [1.0, 1.0, 1.0, 1.0, 1.0, 0.0, 0.0, 0.0, 0.0, 0.0, 0.0, 0.0, 0.0, 0.0, 0.0, 0.0, 0.0, 0.0, 0.0, 0.0]}\n",
      "REWARD:  0.9\n",
      "Best model: EfficientNetB0 with score: 0.793037037037037\n",
      "Model 'EfficientNetB0' successfully added to the target YAML.\n"
     ]
    },
    {
     "name": "stderr",
     "output_type": "stream",
     "text": [
      "2025-01-24 16:38:10,488:INFO -- Action: Adding a model\n"
     ]
    },
    {
     "name": "stdout",
     "output_type": "stream",
     "text": [
      "STATE:  {'ensemble_state': {'total_energy_consumption': 0.018654365737329086, 'ensemble_size': 13}, 'model_states': {'InceptionResNetV2': {'accuracy': 0.8064516129032258, 'confidence': 0.6879479154463737, 'avg_response_time': 2.0775132732639756, 'max_response_time': 2.1382728880039026, 'contribution': 0.7084486157663407}, 'MobileNetV2': {'accuracy': 0.8571428571428571, 'confidence': 0.608980051108769, 'avg_response_time': 0.06362719783214382, 'max_response_time': 0.10741219547513417, 'contribution': 0.5999631796564374}, 'ResNet50V2': {'accuracy': 1.0, 'confidence': 0.9973743259906769, 'avg_response_time': 0.11628307826802525, 'max_response_time': 0.12286897397190412, 'contribution': 0.9973743259906769}, 'ensemble': {'accuracy': 0.8709677419354839, 'confidence': 0.7230457584996832, 'avg_response_time': 6.278164098917378, 'max_response_time': 7.248012610627401, 'contribution': 0.874058174510156}, 'EfficientNetV2S': {'accuracy': 0.8214285714285714, 'confidence': 0.7232093960046768, 'avg_response_time': 1.1444196929592565, 'max_response_time': 1.1895237146775917, 'contribution': 0.7030694229262215}, 'NASNetLarge': {'accuracy': 0.8518518518518519, 'confidence': 0.7376008044790339, 'avg_response_time': 3.8258543632922426, 'max_response_time': 3.896026702975862, 'contribution': 0.7693117249895025}, 'EfficientNetB7': {'accuracy': 0.88, 'confidence': 0.6256370043754578, 'avg_response_time': 7.132436908740265, 'max_response_time': 7.235155248866351, 'contribution': 0.6045914876461029}, 'DenseNet201': {'accuracy': 0.7916666666666666, 'confidence': 0.6661443101863066, 'avg_response_time': 0.580144559932109, 'max_response_time': 0.6072221871748754, 'contribution': 0.6542192188402017}, 'Xception': {'accuracy': 0.6956521739130435, 'confidence': 0.5884606397670248, 'avg_response_time': 0.9923906383405416, 'max_response_time': 1.0647430876629993, 'contribution': 0.6171280054942422}, 'InceptionV3': {'accuracy': 0.7368421052631579, 'confidence': 0.5720726722165158, 'avg_response_time': 0.5782718943016129, 'max_response_time': 0.6754832735299773, 'contribution': 0.6293257223932367}}, 'input_state': {'input_file_length': 15, 'image_height': 224, 'image_width': 224}, 'distribution_weights': [1.0, 1.0, 1.0, 1.0, 1.0, 0.0, 0.0, 0.0, 0.0, 0.0, 0.0, 0.0, 0.0, 0.0, 0.0, 0.0, 0.0, 0.0, 0.0, 0.0]}\n",
      "REWARD:  0.8709677419354839\n",
      "Best model: VGG16 with score: 0.7599259259259259\n",
      "Model 'VGG16' successfully added to the target YAML.\n"
     ]
    },
    {
     "name": "stderr",
     "output_type": "stream",
     "text": [
      "2025-01-24 16:38:11,186:INFO -- Action: Keeping the ensemble\n"
     ]
    },
    {
     "name": "stdout",
     "output_type": "stream",
     "text": [
      "STATE:  {'ensemble_state': {'total_energy_consumption': 0.01894598299398171, 'ensemble_size': 14}, 'model_states': {'InceptionResNetV2': {'accuracy': 0.8125, 'confidence': 0.6961353309452534, 'avg_response_time': 2.0773511556741475, 'max_response_time': 2.1382728880039026, 'contribution': 0.7159953843802214}, 'MobileNetV2': {'accuracy': 0.8666666666666667, 'confidence': 0.6299733678499858, 'avg_response_time': 0.0661445489661273, 'max_response_time': 0.10741219547513417, 'contribution': 0.621557621161143}, 'ResNet50V2': {'accuracy': 1.0, 'confidence': 0.9973743259906769, 'avg_response_time': 0.11628307826802525, 'max_response_time': 0.12286897397190412, 'contribution': 0.9973743259906769}, 'ensemble': {'accuracy': 0.875, 'confidence': 0.7273141798048588, 'avg_response_time': 6.305362592782025, 'max_response_time': 7.248012610627401, 'contribution': 0.8776862369850278}, 'EfficientNetV2S': {'accuracy': 0.8275862068965517, 'confidence': 0.7299939537870472, 'avg_response_time': 1.1443173145093501, 'max_response_time': 1.1895237146775917, 'contribution': 0.7105484625388836}, 'NASNetLarge': {'accuracy': 0.8571428571428571, 'confidence': 0.744646888758455, 'avg_response_time': 3.8247367193288455, 'max_response_time': 3.896026702975862, 'contribution': 0.7752252763935498}, 'EfficientNetB7': {'accuracy': 0.8846153846153846, 'confidence': 0.6297829472101651, 'avg_response_time': 7.132572146901254, 'max_response_time': 7.235155248866351, 'contribution': 0.6095468734319394}, 'DenseNet201': {'accuracy': 0.8, 'confidence': 0.6786783850193023, 'avg_response_time': 0.5800455077819191, 'max_response_time': 0.6072221871748754, 'contribution': 0.6672302973270416}, 'Xception': {'accuracy': 0.7083333333333334, 'confidence': 0.6010161812106768, 'avg_response_time': 0.9919489857663631, 'max_response_time': 1.0647430876629993, 'contribution': 0.6284890733659267}, 'InceptionV3': {'accuracy': 0.75, 'confidence': 0.5921078145503997, 'avg_response_time': 0.5769359198365669, 'max_response_time': 0.6754832735299773, 'contribution': 0.6464982122182846}}, 'input_state': {'input_file_length': 14, 'image_height': 224, 'image_width': 224}, 'distribution_weights': [1.0, 1.0, 1.0, 1.0, 1.0, 0.0, 0.0, 0.0, 0.0, 0.0, 0.0, 0.0, 0.0, 0.0, 0.0, 0.0, 0.0, 0.0, 0.0, 0.0]}\n",
      "REWARD:  0.875\n"
     ]
    },
    {
     "name": "stderr",
     "output_type": "stream",
     "text": [
      "2025-01-24 16:38:11,946:INFO -- Action: Replacing a model\n"
     ]
    },
    {
     "name": "stdout",
     "output_type": "stream",
     "text": [
      "STATE:  {'ensemble_state': {'total_energy_consumption': 0.01894598299398171, 'ensemble_size': 14}, 'model_states': {'InceptionResNetV2': {'accuracy': 0.8181818181818182, 'confidence': 0.7040207873691212, 'avg_response_time': 2.077294498066572, 'max_response_time': 2.1382728880039026, 'contribution': 0.7232790210030295}, 'MobileNetV2': {'accuracy': 0.875, 'confidence': 0.6491066440939903, 'avg_response_time': 0.06842018878255568, 'max_response_time': 0.10741219547513417, 'contribution': 0.6412168815732002}, 'ResNet50V2': {'accuracy': 1.0, 'confidence': 0.9973743259906769, 'avg_response_time': 0.11628307826802525, 'max_response_time': 0.12286897397190412, 'contribution': 0.9973743259906769}, 'ensemble': {'accuracy': 0.8787878787878788, 'confidence': 0.7333323211526885, 'avg_response_time': 6.330078762529151, 'max_response_time': 7.248012610627401, 'contribution': 0.8813130828467283}, 'EfficientNetV2S': {'accuracy': 0.8333333333333334, 'confidence': 0.736203012863795, 'avg_response_time': 1.1449843155050123, 'max_response_time': 1.1895237146775917, 'contribution': 0.7174057046572367}, 'NASNetLarge': {'accuracy': 0.8620689655172413, 'confidence': 0.7499444515540682, 'avg_response_time': 3.8245853915252703, 'max_response_time': 3.896026702975862, 'contribution': 0.7794684120293321}, 'EfficientNetB7': {'accuracy': 0.8888888888888888, 'confidence': 0.6350564802134478, 'avg_response_time': 7.131736680874148, 'max_response_time': 7.235155248866351, 'contribution': 0.6155698906492304}, 'DenseNet201': {'accuracy': 0.8076923076923077, 'confidence': 0.6909358375347577, 'avg_response_time': 0.5788010195165597, 'max_response_time': 0.6072221871748754, 'contribution': 0.679928060907584}, 'Xception': {'accuracy': 0.72, 'confidence': 0.6151694273948669, 'avg_response_time': 0.9927047095823289, 'max_response_time': 1.0647430876629993, 'contribution': 0.6415434038639068}, 'InceptionV3': {'accuracy': 0.7619047619047619, 'confidence': 0.611046436287108, 'avg_response_time': 0.5771393669471064, 'max_response_time': 0.6754832735299773, 'contribution': 0.6628468150184268}}, 'input_state': {'input_file_length': 14, 'image_height': 224, 'image_width': 224}, 'distribution_weights': [1.0, 1.0, 1.0, 1.0, 1.0, 0.0, 0.0, 0.0, 0.0, 0.0, 0.0, 0.0, 0.0, 0.0, 0.0, 0.0, 0.0, 0.0, 0.0, 0.0]}\n",
      "REWARD:  0.8787878787878788\n",
      "Worst model: VGG16 with score: 0.7599259259259259\n",
      "Model 'VGG16' successfully removed from the target YAML.\n",
      "Best model: VGG16 with score: 0.7599259259259259\n",
      "Model 'VGG16' successfully added to the target YAML.\n",
      "STATE:  {'ensemble_state': {'total_energy_consumption': 0.01894598299398171, 'ensemble_size': 14}, 'model_states': {'InceptionResNetV2': {'accuracy': 0.8235294117647058, 'confidence': 0.7106544673442841, 'avg_response_time': 2.077664000905181, 'max_response_time': 2.1382728880039026, 'contribution': 0.729346282341901}, 'MobileNetV2': {'accuracy': 0.8823529411764706, 'confidence': 0.6594446406644934, 'avg_response_time': 0.0699693565575771, 'max_response_time': 0.10741219547513417, 'contribution': 0.6520189818213967}, 'ResNet50V2': {'accuracy': 1.0, 'confidence': 0.9973743259906769, 'avg_response_time': 0.11628307826802525, 'max_response_time': 0.12286897397190412, 'contribution': 0.9973743259906769}, 'ensemble': {'accuracy': 0.8823529411764706, 'confidence': 0.7388887812752096, 'avg_response_time': 6.3533638867249955, 'max_response_time': 7.248012610627401, 'contribution': 0.8845059617477304}, 'EfficientNetV2S': {'accuracy': 0.8387096774193549, 'confidence': 0.7422304134215078, 'avg_response_time': 1.144894932480994, 'max_response_time': 1.1895237146775917, 'contribution': 0.7240394699958063}, 'NASNetLarge': {'accuracy': 0.8666666666666667, 'confidence': 0.7554748723904292, 'avg_response_time': 3.8242330160234417, 'max_response_time': 3.896026702975862, 'contribution': 0.7840147008498509}, 'EfficientNetB7': {'accuracy': 0.8928571428571429, 'confidence': 0.6427916437387466, 'avg_response_time': 7.131046832798271, 'max_response_time': 7.235155248866351, 'contribution': 0.6240010038018227}, 'DenseNet201': {'accuracy': 0.8148148148148148, 'confidence': 0.7007518333417398, 'avg_response_time': 0.5797852874321288, 'max_response_time': 0.6072221871748754, 'contribution': 0.6901517521452021}, 'Xception': {'accuracy': 0.7307692307692307, 'confidence': 0.6260885389951559, 'avg_response_time': 0.9928793952360178, 'max_response_time': 1.0647430876629993, 'contribution': 0.6514481317538482}, 'InceptionV3': {'accuracy': 0.7727272727272727, 'confidence': 0.628189582716335, 'avg_response_time': 0.576703481593311, 'max_response_time': 0.6754832735299773, 'contribution': 0.6776353987780485}}, 'input_state': {'input_file_length': 14, 'image_height': 224, 'image_width': 224}, 'distribution_weights': [1.0, 1.0, 1.0, 1.0, 1.0, 0.0, 0.0, 0.0, 0.0, 0.0, 0.0, 0.0, 0.0, 0.0, 0.0, 0.0, 0.0, 0.0, 0.0, 0.0]}\n",
      "REWARD:  0.8823529411764706\n",
      "Best model: ResNet50V2 with score: 0.7573739295908658\n"
     ]
    },
    {
     "name": "stderr",
     "output_type": "stream",
     "text": [
      "2025-01-24 16:38:13,108:INFO -- Action: Adding a model\n"
     ]
    },
    {
     "name": "stdout",
     "output_type": "stream",
     "text": [
      "Model 'ResNet50V2' successfully added to the target YAML.\n"
     ]
    },
    {
     "name": "stderr",
     "output_type": "stream",
     "text": [
      "2025-01-24 16:38:13,821:INFO -- Action: Keeping the ensemble\n"
     ]
    },
    {
     "name": "stdout",
     "output_type": "stream",
     "text": [
      "STATE:  {'ensemble_state': {'total_energy_consumption': 0.01944298437078823, 'ensemble_size': 15}, 'model_states': {'InceptionResNetV2': {'accuracy': 0.8285714285714286, 'confidence': 0.7163553987230573, 'avg_response_time': 2.0787688297019864, 'max_response_time': 2.1382728880039026, 'contribution': 0.7345131618635995}, 'MobileNetV2': {'accuracy': 0.8888888888888888, 'confidence': 0.6770291129748026, 'avg_response_time': 0.07191513117695776, 'max_response_time': 0.10741219547513417, 'contribution': 0.6700159907341003}, 'ResNet50V2': {'accuracy': 1.0, 'confidence': 0.9978464722633362, 'avg_response_time': 0.1726461008431687, 'max_response_time': 0.3980981911437425, 'contribution': 0.9978464722633362}, 'ensemble': {'accuracy': 0.8857142857142857, 'confidence': 0.742434785655542, 'avg_response_time': 6.373032919432345, 'max_response_time': 7.248012610627401, 'contribution': 0.8877982216221946}, 'EfficientNetV2S': {'accuracy': 0.84375, 'confidence': 0.7466956805437803, 'avg_response_time': 1.1453913911675655, 'max_response_time': 1.1895237146775917, 'contribution': 0.729073204100132}, 'NASNetLarge': {'accuracy': 0.8709677419354839, 'confidence': 0.7607620867990679, 'avg_response_time': 3.824308965908588, 'max_response_time': 3.896026702975862, 'contribution': 0.7883812756307663}, 'EfficientNetB7': {'accuracy': 0.896551724137931, 'confidence': 0.6436403619832006, 'avg_response_time': 7.127605783163735, 'max_response_time': 7.235155248866351, 'contribution': 0.6254976751475498}, 'DenseNet201': {'accuracy': 0.8214285714285714, 'confidence': 0.7106370021189962, 'avg_response_time': 0.5807701941600486, 'max_response_time': 0.6073626758138881, 'contribution': 0.7004154952509063}, 'Xception': {'accuracy': 0.7407407407407407, 'confidence': 0.639392634232839, 'avg_response_time': 0.9923338330394237, 'max_response_time': 1.0647430876629993, 'contribution': 0.6638129828152833}, 'InceptionV3': {'accuracy': 0.782608695652174, 'confidence': 0.640090507009755, 'avg_response_time': 0.5768102829839159, 'max_response_time': 0.6754832735299773, 'contribution': 0.6873865049818287}}, 'input_state': {'input_file_length': 15, 'image_height': 224, 'image_width': 224}, 'distribution_weights': [1.0, 1.0, 1.0, 1.0, 1.0, 0.0, 0.0, 0.0, 0.0, 0.0, 0.0, 0.0, 0.0, 0.0, 0.0, 0.0, 0.0, 0.0, 0.0, 0.0]}\n",
      "REWARD:  0.8857142857142857\n"
     ]
    },
    {
     "name": "stderr",
     "output_type": "stream",
     "text": [
      "2025-01-24 16:38:14,533:INFO -- Action: Replacing a model\n"
     ]
    },
    {
     "name": "stdout",
     "output_type": "stream",
     "text": [
      "STATE:  {'ensemble_state': {'total_energy_consumption': 0.01944298437078823, 'ensemble_size': 15}, 'model_states': {'InceptionResNetV2': {'accuracy': 0.8333333333333334, 'confidence': 0.7222906831238005, 'avg_response_time': 2.0798860906103194, 'max_response_time': 2.1382728880039026, 'contribution': 0.7399440639548831}, 'MobileNetV2': {'accuracy': 0.8947368421052632, 'confidence': 0.6908974208329853, 'avg_response_time': 0.07354009586867814, 'max_response_time': 0.10741219547513417, 'contribution': 0.6842534102891621}, 'ResNet50V2': {'accuracy': 1.0, 'confidence': 0.9981864194075266, 'avg_response_time': 0.21358631705291362, 'max_response_time': 0.4182873981016382, 'contribution': 0.9981864194075266}, 'ensemble': {'accuracy': 0.8888888888888888, 'confidence': 0.7480013727644841, 'avg_response_time': 6.394451379986911, 'max_response_time': 7.248012610627401, 'contribution': 0.8909117753307024}, 'EfficientNetV2S': {'accuracy': 0.8484848484848485, 'confidence': 0.7527186581582734, 'avg_response_time': 1.1450764101250466, 'max_response_time': 1.1895237146775917, 'contribution': 0.7356301961523114}, 'NASNetLarge': {'accuracy': 0.875, 'confidence': 0.7650387035682797, 'avg_response_time': 3.8249357218918627, 'max_response_time': 3.896026702975862, 'contribution': 0.7917947927489877}, 'EfficientNetB7': {'accuracy': 0.9, 'confidence': 0.6505076964696248, 'avg_response_time': 7.1278011911439645, 'max_response_time': 7.235155248866351, 'contribution': 0.6329697658618291}, 'DenseNet201': {'accuracy': 0.8275862068965517, 'confidence': 0.720600223746793, 'avg_response_time': 0.5815154441650544, 'max_response_time': 0.6073626758138881, 'contribution': 0.7107311826327751}, 'Xception': {'accuracy': 0.75, 'confidence': 0.6493425241538456, 'avg_response_time': 0.9922145997233699, 'max_response_time': 1.0647430876629993, 'contribution': 0.6728907174297741}, 'InceptionV3': {'accuracy': 0.7916666666666666, 'confidence': 0.6546575551231703, 'avg_response_time': 0.5757194390857135, 'max_response_time': 0.6754832735299773, 'contribution': 0.6999828865130743}}, 'input_state': {'input_file_length': 14, 'image_height': 224, 'image_width': 224}, 'distribution_weights': [1.0, 1.0, 1.0, 1.0, 1.0, 0.0, 0.0, 0.0, 0.0, 0.0, 0.0, 0.0, 0.0, 0.0, 0.0, 0.0, 0.0, 0.0, 0.0, 0.0]}\n",
      "REWARD:  0.8888888888888888\n",
      "Worst model: ResNet50V2 with score: 0.7573739295908658\n",
      "Model 'ResNet50V2' successfully removed from the target YAML.\n",
      "Best model: ResNet50V2 with score: 0.7573739295908658\n",
      "Model 'ResNet50V2' successfully added to the target YAML.\n"
     ]
    },
    {
     "name": "stderr",
     "output_type": "stream",
     "text": [
      "2025-01-24 16:38:15,485:INFO -- Action: Replacing a model\n"
     ]
    },
    {
     "name": "stdout",
     "output_type": "stream",
     "text": [
      "STATE:  {'ensemble_state': {'total_energy_consumption': 0.01944298437078823, 'ensemble_size': 15}, 'model_states': {'InceptionResNetV2': {'accuracy': 0.8378378378378378, 'confidence': 0.7247443247485805, 'avg_response_time': 2.0799993632342924, 'max_response_time': 2.1382728880039026, 'contribution': 0.7419205871788231}, 'MobileNetV2': {'accuracy': 0.9, 'confidence': 0.6789516940712929, 'avg_response_time': 0.07534145268573762, 'max_response_time': 0.10956723220986778, 'contribution': 0.6726398840546608}, 'ResNet50V2': {'accuracy': 1.0, 'confidence': 0.9408753599439349, 'avg_response_time': 0.2367726222284609, 'max_response_time': 0.4182873981016382, 'contribution': 0.9408753599439349}, 'ensemble': {'accuracy': 0.8918918918918919, 'confidence': 0.7448778114470503, 'avg_response_time': 6.413864142387802, 'max_response_time': 7.248012610627401, 'contribution': 0.889358648577252}, 'EfficientNetV2S': {'accuracy': 0.8529411764705882, 'confidence': 0.7550929942551781, 'avg_response_time': 1.1451603927030412, 'max_response_time': 1.1895237146775917, 'contribution': 0.7385071340729209}, 'NASNetLarge': {'accuracy': 0.8787878787878788, 'confidence': 0.7659561877900903, 'avg_response_time': 3.82505485676005, 'max_response_time': 3.896026702975862, 'contribution': 0.7919014863895647}, 'EfficientNetB7': {'accuracy': 0.9032258064516129, 'confidence': 0.6536577459304563, 'avg_response_time': 7.127007977150586, 'max_response_time': 7.235155248866351, 'contribution': 0.6366855550196863}, 'DenseNet201': {'accuracy': 0.8333333333333334, 'confidence': 0.7193502873182297, 'avg_response_time': 0.5813653523701249, 'max_response_time': 0.6073626758138881, 'contribution': 0.7098102142413457}, 'Xception': {'accuracy': 0.7586206896551724, 'confidence': 0.6450673752817614, 'avg_response_time': 0.9920603899192115, 'max_response_time': 1.0647430876629993, 'contribution': 0.6678035618930027}, 'InceptionV3': {'accuracy': 0.8, 'confidence': 0.6461277556419373, 'avg_response_time': 0.5761897028266167, 'max_response_time': 0.6754832735299773, 'contribution': 0.6896400737762451}}, 'input_state': {'input_file_length': 14, 'image_height': 224, 'image_width': 224}, 'distribution_weights': [1.0, 1.0, 1.0, 1.0, 1.0, 0.0, 0.0, 0.0, 0.0, 0.0, 0.0, 0.0, 0.0, 0.0, 0.0, 0.0, 0.0, 0.0, 0.0, 0.0]}\n",
      "REWARD:  0.8918918918918919\n",
      "Worst model: ResNet50V2 with score: 0.7573739295908658\n",
      "Model 'ResNet50V2' successfully removed from the target YAML.\n",
      "Best model: ResNet50V2 with score: 0.7573739295908658\n",
      "Model 'ResNet50V2' successfully added to the target YAML.\n"
     ]
    },
    {
     "name": "stderr",
     "output_type": "stream",
     "text": [
      "2025-01-24 16:38:16,323:INFO -- Action: Replacing a model\n"
     ]
    },
    {
     "name": "stdout",
     "output_type": "stream",
     "text": [
      "STATE:  {'ensemble_state': {'total_energy_consumption': 0.01944298437078823, 'ensemble_size': 15}, 'model_states': {'InceptionResNetV2': {'accuracy': 0.8421052631578947, 'confidence': 0.7307725799711127, 'avg_response_time': 2.0789672242950927, 'max_response_time': 2.1382728880039026, 'contribution': 0.7474968354952963}, 'MobileNetV2': {'accuracy': 0.9047619047619048, 'confidence': 0.6918124003069741, 'avg_response_time': 0.07664629339448376, 'max_response_time': 0.10956723220986778, 'contribution': 0.6858011526720864}, 'ResNet50V2': {'accuracy': 1.0, 'confidence': 0.9482617527246475, 'avg_response_time': 0.25678662563714444, 'max_response_time': 0.4182873981016382, 'contribution': 0.9482617527246475}, 'ensemble': {'accuracy': 0.8947368421052632, 'confidence': 0.7499561022897784, 'avg_response_time': 6.433967212757649, 'max_response_time': 7.248012610627401, 'contribution': 0.8922693815670515}, 'EfficientNetV2S': {'accuracy': 0.8571428571428571, 'confidence': 0.7604350737162999, 'avg_response_time': 1.1453533751489087, 'max_response_time': 1.1895237146775917, 'contribution': 0.7443230952535357}, 'NASNetLarge': {'accuracy': 0.8823529411764706, 'confidence': 0.7693687019979253, 'avg_response_time': 3.825631774571873, 'max_response_time': 3.896026702975862, 'contribution': 0.794550903579768}, 'EfficientNetB7': {'accuracy': 0.90625, 'confidence': 0.6593777369707823, 'avg_response_time': 7.128284407297535, 'max_response_time': 7.235155248866351, 'contribution': 0.6429359270259738}, 'DenseNet201': {'accuracy': 0.8387096774193549, 'confidence': 0.7283447682857513, 'avg_response_time': 0.5812601528825128, 'max_response_time': 0.6073626758138881, 'contribution': 0.7191124395016701}, 'Xception': {'accuracy': 0.7666666666666667, 'confidence': 0.6498084127902984, 'avg_response_time': 0.9893517465648475, 'max_response_time': 1.0647430876629993, 'contribution': 0.6717867265144984}, 'InceptionV3': {'accuracy': 0.8076923076923077, 'confidence': 0.659229569710218, 'avg_response_time': 0.5760884286768974, 'max_response_time': 0.6754832735299773, 'contribution': 0.7010683371470525}}, 'input_state': {'input_file_length': 14, 'image_height': 224, 'image_width': 224}, 'distribution_weights': [1.0, 1.0, 1.0, 1.0, 1.0, 0.0, 0.0, 0.0, 0.0, 0.0, 0.0, 0.0, 0.0, 0.0, 0.0, 0.0, 0.0, 0.0, 0.0, 0.0]}\n",
      "REWARD:  0.8947368421052632\n",
      "Worst model: ResNet50V2 with score: 0.7573739295908658\n",
      "Model 'ResNet50V2' successfully removed from the target YAML.\n",
      "Best model: ResNet50V2 with score: 0.7573739295908658\n",
      "Model 'ResNet50V2' successfully added to the target YAML.\n"
     ]
    },
    {
     "name": "stderr",
     "output_type": "stream",
     "text": [
      "2025-01-24 16:38:17,164:INFO -- Action: Replacing a model\n"
     ]
    },
    {
     "name": "stdout",
     "output_type": "stream",
     "text": [
      "STATE:  {'ensemble_state': {'total_energy_consumption': 0.01944298437078823, 'ensemble_size': 15}, 'model_states': {'InceptionResNetV2': {'accuracy': 0.8205128205128205, 'confidence': 0.7120348215103149, 'avg_response_time': 2.0761074209509287, 'max_response_time': 2.1382728880039026, 'contribution': 0.7456557949384054}, 'MobileNetV2': {'accuracy': 0.8636363636363636, 'confidence': 0.6603663821112026, 'avg_response_time': 0.07838552772953995, 'max_response_time': 0.11490944876572, 'contribution': 0.6776566681536761}, 'ResNet50V2': {'accuracy': 0.8888888888888888, 'confidence': 0.8428993357552422, 'avg_response_time': 0.27292126129287547, 'max_response_time': 0.4182873981016382, 'contribution': 0.9112239082654318}, 'ensemble': {'accuracy': 0.8717948717948718, 'confidence': 0.7307264586413225, 'avg_response_time': 6.450959374806064, 'max_response_time': 7.248012610627401, 'contribution': 0.8920716192477789}, 'EfficientNetV2S': {'accuracy': 0.8333333333333334, 'confidence': 0.7393118772241805, 'avg_response_time': 1.1463477557281767, 'max_response_time': 1.1895237146775917, 'contribution': 0.7464860810173882}, 'NASNetLarge': {'accuracy': 0.8571428571428571, 'confidence': 0.7473867390836988, 'avg_response_time': 3.825777883859526, 'max_response_time': 3.896026702975862, 'contribution': 0.7893594086170197}, 'EfficientNetB7': {'accuracy': 0.9090909090909091, 'confidence': 0.6494283784519542, 'avg_response_time': 7.1270238200919405, 'max_response_time': 7.235155248866351, 'contribution': 0.6355910707603801}, 'DenseNet201': {'accuracy': 0.8125, 'confidence': 0.7055839942768216, 'avg_response_time': 0.582423212776964, 'max_response_time': 0.6184780695049532, 'contribution': 0.7216796157881618}, 'Xception': {'accuracy': 0.7419354838709677, 'confidence': 0.6288468510873856, 'avg_response_time': 0.9888341704808321, 'max_response_time': 1.0647430876629993, 'contribution': 0.6753812461130081}, 'InceptionV3': {'accuracy': 0.7777777777777778, 'confidence': 0.6348136597209506, 'avg_response_time': 0.5713959853916658, 'max_response_time': 0.6754832735299773, 'contribution': 0.7026133228231359}}, 'input_state': {'input_file_length': 15, 'image_height': 224, 'image_width': 224}, 'distribution_weights': [1.0, 1.0, 1.0, 1.0, 1.0, 0.0, 0.0, 0.0, 0.0, 0.0, 0.0, 0.0, 0.0, 0.0, 0.0, 0.0, 0.0, 0.0, 0.0, 0.0]}\n",
      "REWARD:  0.8717948717948718\n",
      "Worst model: ResNet50V2 with score: 0.7573739295908658\n",
      "Model 'ResNet50V2' successfully removed from the target YAML.\n",
      "Best model: ResNet50V2 with score: 0.7573739295908658\n",
      "Model 'ResNet50V2' successfully added to the target YAML.\n"
     ]
    },
    {
     "name": "stderr",
     "output_type": "stream",
     "text": [
      "2025-01-24 16:38:17,995:INFO -- Action: Replacing a model\n"
     ]
    },
    {
     "name": "stdout",
     "output_type": "stream",
     "text": [
      "STATE:  {'ensemble_state': {'total_energy_consumption': 0.01944298437078823, 'ensemble_size': 15}, 'model_states': {'InceptionResNetV2': {'accuracy': 0.825, 'confidence': 0.7174158379435539, 'avg_response_time': 2.076181778112855, 'max_response_time': 2.1382728880039026, 'contribution': 0.7501962870359421}, 'MobileNetV2': {'accuracy': 0.8695652173913043, 'confidence': 0.6720350242179373, 'avg_response_time': 0.07981905040634601, 'max_response_time': 0.11490944876572, 'contribution': 0.6885735586933468}, 'ResNet50V2': {'accuracy': 0.9, 'confidence': 0.8586091876029969, 'avg_response_time': 0.2759095389205643, 'max_response_time': 0.4182873981016382, 'contribution': 0.9201013028621674}, 'ensemble': {'accuracy': 0.875, 'confidence': 0.7362204815567744, 'avg_response_time': 6.468189603031327, 'max_response_time': 7.248012610627401, 'contribution': 0.8947697751224041}, 'EfficientNetV2S': {'accuracy': 0.8378378378378378, 'confidence': 0.744843257440103, 'avg_response_time': 1.1464198505026586, 'max_response_time': 1.1895237146775917, 'contribution': 0.7518235638334945}, 'NASNetLarge': {'accuracy': 0.8611111111111112, 'confidence': 0.7524984752138456, 'avg_response_time': 3.825705950041671, 'max_response_time': 3.896026702975862, 'contribution': 0.7933052372601297}, 'EfficientNetB7': {'accuracy': 0.9117647058823529, 'confidence': 0.653780600603889, 'avg_response_time': 7.127078635108377, 'max_response_time': 7.235155248866351, 'contribution': 0.6403502725503024}, 'DenseNet201': {'accuracy': 0.8181818181818182, 'confidence': 0.7144445551164222, 'avg_response_time': 0.5823137999641828, 'max_response_time': 0.6184780695049532, 'contribution': 0.7300524305213582}, 'Xception': {'accuracy': 0.75, 'confidence': 0.6367455534636974, 'avg_response_time': 0.9891353895449957, 'max_response_time': 1.0647430876629993, 'contribution': 0.6818257486447692}, 'InceptionV3': {'accuracy': 0.7857142857142857, 'confidence': 0.6460920103958675, 'avg_response_time': 0.5717213717074665, 'max_response_time': 0.6754832735299773, 'contribution': 0.711470256958689}}, 'input_state': {'input_file_length': 14, 'image_height': 224, 'image_width': 224}, 'distribution_weights': [1.0, 1.0, 1.0, 1.0, 1.0, 0.0, 0.0, 0.0, 0.0, 0.0, 0.0, 0.0, 0.0, 0.0, 0.0, 0.0, 0.0, 0.0, 0.0, 0.0]}\n",
      "REWARD:  0.875\n",
      "Worst model: ResNet50V2 with score: 0.7573739295908658\n",
      "Model 'ResNet50V2' successfully removed from the target YAML.\n",
      "Best model: ResNet50V2 with score: 0.7573739295908658\n",
      "Model 'ResNet50V2' successfully added to the target YAML.\n"
     ]
    },
    {
     "name": "stderr",
     "output_type": "stream",
     "text": [
      "2025-01-24 16:38:18,971:INFO -- Action: Adding a model\n"
     ]
    },
    {
     "name": "stdout",
     "output_type": "stream",
     "text": [
      "STATE:  {'ensemble_state': {'total_energy_consumption': 0.01944298437078823, 'ensemble_size': 15}, 'model_states': {'InceptionResNetV2': {'accuracy': 0.8292682926829268, 'confidence': 0.722525772525043, 'avg_response_time': 2.07599631413471, 'max_response_time': 2.1382728880039026, 'contribution': 0.7545066984688363}, 'MobileNetV2': {'accuracy': 0.875, 'confidence': 0.6813623470564684, 'avg_response_time': 0.08101062826875803, 'max_response_time': 0.11490944876572, 'contribution': 0.6972117759287357}, 'ResNet50V2': {'accuracy': 0.9090909090909091, 'confidence': 0.8714626919139515, 'avg_response_time': 0.28733280934337346, 'max_response_time': 0.4182873981016382, 'contribution': 0.9273646148768339}, 'ensemble': {'accuracy': 0.8780487804878049, 'confidence': 0.7413655507488185, 'avg_response_time': 6.484216586620938, 'max_response_time': 7.248012610627401, 'contribution': 0.8973363107297478}, 'EfficientNetV2S': {'accuracy': 0.8421052631578947, 'confidence': 0.7497771366646415, 'avg_response_time': 1.1456764364746734, 'max_response_time': 1.1895237146775917, 'contribution': 0.7565737507845226}, 'NASNetLarge': {'accuracy': 0.8648648648648649, 'confidence': 0.7572064858836096, 'avg_response_time': 3.8260351080695183, 'max_response_time': 3.896026702975862, 'contribution': 0.7969103624691835}, 'EfficientNetB7': {'accuracy': 0.9142857142857143, 'confidence': 0.6596212148666382, 'avg_response_time': 7.126712861337927, 'max_response_time': 7.235155248866351, 'contribution': 0.6465746104717255}, 'DenseNet201': {'accuracy': 0.8235294117647058, 'confidence': 0.7226799314512926, 'avg_response_time': 0.5827295717629357, 'max_response_time': 0.6184780695049532, 'contribution': 0.7378287516972598}, 'Xception': {'accuracy': 0.7575757575757576, 'confidence': 0.6447468309691458, 'avg_response_time': 0.9876592669792322, 'max_response_time': 1.0647430876629993, 'contribution': 0.688460959629579}, 'InceptionV3': {'accuracy': 0.7931034482758621, 'confidence': 0.6579160731414269, 'avg_response_time': 0.572218628759497, 'max_response_time': 0.6754832735299773, 'contribution': 0.7210398974089787}}, 'input_state': {'input_file_length': 15, 'image_height': 224, 'image_width': 224}, 'distribution_weights': [1.0, 1.0, 1.0, 1.0, 1.0, 0.0, 0.0, 0.0, 0.0, 0.0, 0.0, 0.0, 0.0, 0.0, 0.0, 0.0, 0.0, 0.0, 0.0, 0.0]}\n",
      "REWARD:  0.8780487804878049\n",
      "Best model: EfficientNetV2L with score: 0.5911481481481482\n",
      "Model 'EfficientNetV2L' successfully added to the target YAML.\n"
     ]
    },
    {
     "name": "stderr",
     "output_type": "stream",
     "text": [
      "2025-01-24 16:38:19,643:INFO -- Action: Replacing a model\n"
     ]
    },
    {
     "name": "stdout",
     "output_type": "stream",
     "text": [
      "STATE:  {'ensemble_state': {'total_energy_consumption': 0.023205572371097348, 'ensemble_size': 16}, 'model_states': {'InceptionResNetV2': {'accuracy': 0.8333333333333334, 'confidence': 0.7267743859972272, 'avg_response_time': 2.0751993685162304, 'max_response_time': 2.1382728880039026, 'contribution': 0.7579938613233113}, 'MobileNetV2': {'accuracy': 0.88, 'confidence': 0.6858106791973114, 'avg_response_time': 0.08155909562715681, 'max_response_time': 0.11490944876572, 'contribution': 0.7010261309146881}, 'ResNet50V2': {'accuracy': 0.9166666666666666, 'confidence': 0.8820235878229141, 'avg_response_time': 0.29854943061655037, 'max_response_time': 0.42193226462149624, 'contribution': 0.9332670172055563}, 'ensemble': {'accuracy': 0.8809523809523809, 'confidence': 0.7453905772236805, 'avg_response_time': 6.500545279148647, 'max_response_time': 7.248012610627401, 'contribution': 0.8997667651800882}, 'EfficientNetV2S': {'accuracy': 0.8461538461538461, 'confidence': 0.7541596537981278, 'avg_response_time': 1.1461906100475416, 'max_response_time': 1.1895237146775917, 'contribution': 0.7607819957610888}, 'NASNetLarge': {'accuracy': 0.868421052631579, 'confidence': 0.7607303630364569, 'avg_response_time': 3.8277840962739336, 'max_response_time': 3.896026702975862, 'contribution': 0.7993894007645155}, 'EfficientNetB7': {'accuracy': 0.9166666666666666, 'confidence': 0.6628696752919091, 'avg_response_time': 7.127611126660636, 'max_response_time': 7.235155248866351, 'contribution': 0.6501854765746329}, 'DenseNet201': {'accuracy': 0.8285714285714286, 'confidence': 0.7297662573201316, 'avg_response_time': 0.5820408409107172, 'max_response_time': 0.6184780695049532, 'contribution': 0.7444822541304997}, 'Xception': {'accuracy': 0.7647058823529411, 'confidence': 0.6530848145484924, 'avg_response_time': 0.9877204290624856, 'max_response_time': 1.0647430876629993, 'contribution': 0.6955132335424423}, 'InceptionV3': {'accuracy': 0.8, 'confidence': 0.6675265610218049, 'avg_response_time': 0.5725531513410892, 'max_response_time': 0.6754832735299773, 'contribution': 0.7285462578137716}}, 'input_state': {'input_file_length': 13, 'image_height': 224, 'image_width': 224}, 'distribution_weights': [1.0, 1.0, 1.0, 1.0, 1.0, 0.0, 0.0, 0.0, 0.0, 0.0, 0.0, 0.0, 0.0, 0.0, 0.0, 0.0, 0.0, 0.0, 0.0, 0.0]}\n",
      "REWARD:  0.8809523809523809\n",
      "Worst model: EfficientNetV2L with score: 0.5911481481481482\n",
      "Model 'EfficientNetV2L' successfully removed from the target YAML.\n",
      "Best model: EfficientNetV2L with score: 0.5911481481481482\n",
      "Model 'EfficientNetV2L' successfully added to the target YAML.\n"
     ]
    },
    {
     "name": "stderr",
     "output_type": "stream",
     "text": [
      "2025-01-24 16:38:20,519:INFO -- Action: Replacing a model\n"
     ]
    },
    {
     "name": "stdout",
     "output_type": "stream",
     "text": [
      "STATE:  {'ensemble_state': {'total_energy_consumption': 0.023205572371097348, 'ensemble_size': 16}, 'model_states': {'InceptionResNetV2': {'accuracy': 0.8372093023255814, 'confidence': 0.7309941524683043, 'avg_response_time': 2.0752804537997873, 'max_response_time': 2.1382728880039026, 'contribution': 0.7614875934844794}, 'MobileNetV2': {'accuracy': 0.8846153846153846, 'confidence': 0.6964281602547719, 'avg_response_time': 0.08219992050929054, 'max_response_time': 0.11490944876572, 'contribution': 0.711058402290711}, 'ResNet50V2': {'accuracy': 0.9230769230769231, 'confidence': 0.8910986322623032, 'avg_response_time': 0.30788465879390947, 'max_response_time': 0.42193226462149624, 'contribution': 0.9384002593847421}, 'ensemble': {'accuracy': 0.8837209302325582, 'confidence': 0.7500823561012017, 'avg_response_time': 6.515703041305802, 'max_response_time': 7.248012610627401, 'contribution': 0.902097751234853}, 'EfficientNetV2S': {'accuracy': 0.85, 'confidence': 0.7587906152009964, 'avg_response_time': 1.1461097679031107, 'max_response_time': 1.1895237146775917, 'contribution': 0.7652473986148834}, 'NASNetLarge': {'accuracy': 0.8717948717948718, 'confidence': 0.7649398988638169, 'avg_response_time': 3.8275350145440994, 'max_response_time': 3.896026702975862, 'contribution': 0.802607679214233}, 'EfficientNetB7': {'accuracy': 0.918918918918919, 'confidence': 0.6676532013996227, 'avg_response_time': 7.1279255156727, 'max_response_time': 7.235155248866351, 'contribution': 0.6553118188638944}, 'DenseNet201': {'accuracy': 0.8333333333333334, 'confidence': 0.7372304656439357, 'avg_response_time': 0.5817052124159767, 'max_response_time': 0.6184780695049532, 'contribution': 0.751537684765127}, 'Xception': {'accuracy': 0.7714285714285715, 'confidence': 0.6600955605506897, 'avg_response_time': 0.9873847018972427, 'max_response_time': 1.0647430876629993, 'contribution': 0.7013117390019553}, 'InceptionV3': {'accuracy': 0.8064516129032258, 'confidence': 0.6780880305074877, 'avg_response_time': 0.5733221782445909, 'max_response_time': 0.6754832735299773, 'contribution': 0.7371393499835845}}, 'input_state': {'input_file_length': 15, 'image_height': 224, 'image_width': 224}, 'distribution_weights': [1.0, 1.0, 1.0, 1.0, 1.0, 0.0, 0.0, 0.0, 0.0, 0.0, 0.0, 0.0, 0.0, 0.0, 0.0, 0.0, 0.0, 0.0, 0.0, 0.0]}\n",
      "REWARD:  0.8837209302325582\n",
      "Worst model: EfficientNetV2L with score: 0.5911481481481482\n",
      "Model 'EfficientNetV2L' successfully removed from the target YAML.\n",
      "Best model: EfficientNetV2L with score: 0.5911481481481482\n",
      "Model 'EfficientNetV2L' successfully added to the target YAML.\n"
     ]
    },
    {
     "name": "stderr",
     "output_type": "stream",
     "text": [
      "2025-01-24 16:38:21,407:INFO -- Action: Keeping the ensemble\n"
     ]
    },
    {
     "name": "stdout",
     "output_type": "stream",
     "text": [
      "STATE:  {'ensemble_state': {'total_energy_consumption': 0.023205572371097348, 'ensemble_size': 16}, 'model_states': {'InceptionResNetV2': {'accuracy': 0.8409090909090909, 'confidence': 0.732288970188661, 'avg_response_time': 2.0728574775073314, 'max_response_time': 2.1382728880039026, 'contribution': 0.7620893784544684}, 'MobileNetV2': {'accuracy': 0.8518518518518519, 'confidence': 0.6706345246897804, 'avg_response_time': 0.08266820860136093, 'max_response_time': 0.11490944876572, 'contribution': 0.6847229059095736}, 'ResNet50V2': {'accuracy': 0.8571428571428571, 'confidence': 0.827448729957853, 'avg_response_time': 0.31537682812544976, 'max_response_time': 0.42193226462149624, 'contribution': 0.8713716694286892}, 'ensemble': {'accuracy': 0.8863636363636364, 'confidence': 0.7492638651302365, 'avg_response_time': 6.528457802774648, 'max_response_time': 7.248012610627401, 'contribution': 0.9027892168272625}, 'EfficientNetV2S': {'accuracy': 0.8536585365853658, 'confidence': 0.7603433568303178, 'avg_response_time': 1.1468918852427283, 'max_response_time': 1.1895237146775917, 'contribution': 0.7666426577219149}, 'NASNetLarge': {'accuracy': 0.875, 'confidence': 0.7684034608304501, 'avg_response_time': 3.8266582578697514, 'max_response_time': 3.896026702975862, 'contribution': 0.8051295466721058}, 'EfficientNetB7': {'accuracy': 0.9210526315789473, 'confidence': 0.6689560162393671, 'avg_response_time': 7.126376064801581, 'max_response_time': 7.235155248866351, 'contribution': 0.6569394069282632}, 'DenseNet201': {'accuracy': 0.8108108108108109, 'confidence': 0.7173053179238293, 'avg_response_time': 0.5816428492530616, 'max_response_time': 0.6184780695049532, 'contribution': 0.7312258554471506}, 'Xception': {'accuracy': 0.7777777777777778, 'confidence': 0.6510765271054374, 'avg_response_time': 0.9878678446750155, 'max_response_time': 1.0647430876629993, 'contribution': 0.6911478117108345}, 'InceptionV3': {'accuracy': 0.8125, 'confidence': 0.6860390994697809, 'avg_response_time': 0.5739042427850594, 'max_response_time': 0.6754832735299773, 'contribution': 0.7432450652122498}}, 'input_state': {'input_file_length': 15, 'image_height': 224, 'image_width': 224}, 'distribution_weights': [1.0, 1.0, 1.0, 1.0, 1.0, 0.0, 0.0, 0.0, 0.0, 0.0, 0.0, 0.0, 0.0, 0.0, 0.0, 0.0, 0.0, 0.0, 0.0, 0.0]}\n",
      "REWARD:  0.8863636363636364\n"
     ]
    },
    {
     "name": "stderr",
     "output_type": "stream",
     "text": [
      "2025-01-24 16:38:22,153:INFO -- Action: Adding a model\n"
     ]
    },
    {
     "name": "stdout",
     "output_type": "stream",
     "text": [
      "STATE:  {'ensemble_state': {'total_energy_consumption': 0.023205572371097348, 'ensemble_size': 16}, 'model_states': {'InceptionResNetV2': {'accuracy': 0.8444444444444444, 'confidence': 0.7361867295371162, 'avg_response_time': 2.0731705281068122, 'max_response_time': 2.1382728880039026, 'contribution': 0.7653249065081279}, 'MobileNetV2': {'accuracy': 0.8571428571428571, 'confidence': 0.6668523007205555, 'avg_response_time': 0.08343224747263568, 'max_response_time': 0.11490944876572, 'contribution': 0.6804375254682132}, 'ResNet50V2': {'accuracy': 0.8666666666666667, 'confidence': 0.8384078661600749, 'avg_response_time': 0.32020371300714584, 'max_response_time': 0.42193226462149624, 'contribution': 0.8794026096661886}, 'ensemble': {'accuracy': 0.8888888888888888, 'confidence': 0.7515037981358279, 'avg_response_time': 6.5416933967961715, 'max_response_time': 7.248012610627401, 'contribution': 0.904859514368905}, 'EfficientNetV2S': {'accuracy': 0.8571428571428571, 'confidence': 0.7630703860805148, 'avg_response_time': 1.146418302548081, 'max_response_time': 1.1895237146775917, 'contribution': 0.7692197036175501}, 'NASNetLarge': {'accuracy': 0.8780487804878049, 'confidence': 0.7699902937179659, 'avg_response_time': 3.8260550225693684, 'max_response_time': 3.896026702975862, 'contribution': 0.8058206213683616}, 'EfficientNetB7': {'accuracy': 0.9230769230769231, 'confidence': 0.6728791808470701, 'avg_response_time': 7.12600970561087, 'max_response_time': 7.235155248866351, 'contribution': 0.6611706897234305}, 'DenseNet201': {'accuracy': 0.8157894736842105, 'confidence': 0.724638141299549, 'avg_response_time': 0.5815151604401513, 'max_response_time': 0.6184780695049532, 'contribution': 0.7381923488880459}, 'Xception': {'accuracy': 0.7837837837837838, 'confidence': 0.6594309194667919, 'avg_response_time': 0.9880127404826253, 'max_response_time': 1.0647430876629993, 'contribution': 0.6984191963801513}, 'InceptionV3': {'accuracy': 0.8181818181818182, 'confidence': 0.6952377991242842, 'avg_response_time': 0.5736617714710457, 'max_response_time': 0.6754832735299773, 'contribution': 0.750710250753345}}, 'input_state': {'input_file_length': 14, 'image_height': 224, 'image_width': 224}, 'distribution_weights': [1.0, 1.0, 1.0, 1.0, 1.0, 0.0, 0.0, 0.0, 0.0, 0.0, 0.0, 0.0, 0.0, 0.0, 0.0, 0.0, 0.0, 0.0, 0.0, 0.0]}\n",
      "REWARD:  0.8888888888888888\n",
      "No eligible models to score.\n"
     ]
    },
    {
     "name": "stderr",
     "output_type": "stream",
     "text": [
      "2025-01-24 16:38:22,861:INFO -- Action: Keeping the ensemble\n"
     ]
    },
    {
     "name": "stdout",
     "output_type": "stream",
     "text": [
      "STATE:  {'ensemble_state': {'total_energy_consumption': 0.023205572371097348, 'ensemble_size': 16}, 'model_states': {'InceptionResNetV2': {'accuracy': 0.8478260869565217, 'confidence': 0.7396290120871171, 'avg_response_time': 2.0722311974409187, 'max_response_time': 2.1382728880039026, 'contribution': 0.7681337504283242}, 'MobileNetV2': {'accuracy': 0.8620689655172413, 'confidence': 0.6753838545289533, 'avg_response_time': 0.08421450240814768, 'max_response_time': 0.11490944876572, 'contribution': 0.6885006232508297}, 'ResNet50V2': {'accuracy': 0.875, 'confidence': 0.8475251644849777, 'avg_response_time': 0.3251265441642386, 'max_response_time': 0.42193226462149624, 'contribution': 0.8859577365219593}, 'ensemble': {'accuracy': 0.8913043478260869, 'confidence': 0.753985115547586, 'avg_response_time': 6.55449451548881, 'max_response_time': 7.248012610627401, 'contribution': 0.9065861475208531}, 'EfficientNetV2S': {'accuracy': 0.8604651162790697, 'confidence': 0.7658454651056334, 'avg_response_time': 1.146198763804731, 'max_response_time': 1.1895237146775917, 'contribution': 0.7718517752580865}, 'NASNetLarge': {'accuracy': 0.8809523809523809, 'confidence': 0.7737181406645548, 'avg_response_time': 3.8254760660108618, 'max_response_time': 3.896026702975862, 'contribution': 0.8086953652756554}, 'EfficientNetB7': {'accuracy': 0.925, 'confidence': 0.6764155164361, 'avg_response_time': 7.125901682483804, 'max_response_time': 7.235155248866351, 'contribution': 0.6649997375905514}, 'DenseNet201': {'accuracy': 0.8205128205128205, 'confidence': 0.7311629981566699, 'avg_response_time': 0.5812090075788505, 'max_response_time': 0.6184780695049532, 'contribution': 0.7443696619608463}, 'Xception': {'accuracy': 0.7894736842105263, 'confidence': 0.6654346146081623, 'avg_response_time': 0.9875677390748612, 'max_response_time': 1.0647430876629993, 'contribution': 0.703396884234328}, 'InceptionV3': {'accuracy': 0.8235294117647058, 'confidence': 0.7027615729500266, 'avg_response_time': 0.5747465894585422, 'max_response_time': 0.6754832735299773, 'contribution': 0.7566024818841148}}, 'input_state': {'input_file_length': 13, 'image_height': 224, 'image_width': 224}, 'distribution_weights': [1.0, 1.0, 1.0, 1.0, 1.0, 0.0, 0.0, 0.0, 0.0, 0.0, 0.0, 0.0, 0.0, 0.0, 0.0, 0.0, 0.0, 0.0, 0.0, 0.0]}\n",
      "REWARD:  0.8913043478260869\n"
     ]
    },
    {
     "name": "stderr",
     "output_type": "stream",
     "text": [
      "2025-01-24 16:38:23,557:INFO -- Action: Replacing a model\n"
     ]
    },
    {
     "name": "stdout",
     "output_type": "stream",
     "text": [
      "STATE:  {'ensemble_state': {'total_energy_consumption': 0.023205572371097348, 'ensemble_size': 16}, 'model_states': {'InceptionResNetV2': {'accuracy': 0.851063829787234, 'confidence': 0.743652102795053, 'avg_response_time': 2.0732898170900365, 'max_response_time': 2.1382728880039026, 'contribution': 0.7715503573417664}, 'MobileNetV2': {'accuracy': 0.8666666666666667, 'confidence': 0.673932334780693, 'avg_response_time': 0.08464810711331834, 'max_response_time': 0.11490944876572, 'contribution': 0.686611877878507}, 'ResNet50V2': {'accuracy': 0.8823529411764706, 'confidence': 0.8562123389805064, 'avg_response_time': 0.3306149022981395, 'max_response_time': 0.42193226462149624, 'contribution': 0.8923841714859009}, 'ensemble': {'accuracy': 0.8936170212765957, 'confidence': 0.7548361297161442, 'avg_response_time': 6.567322428926486, 'max_response_time': 7.248012610627401, 'contribution': 0.9084717003588981}, 'EfficientNetV2S': {'accuracy': 0.8636363636363636, 'confidence': 0.7693672627210617, 'avg_response_time': 1.1464380757760022, 'max_response_time': 1.1895237146775917, 'contribution': 0.7752370658245954}, 'NASNetLarge': {'accuracy': 0.8837209302325582, 'confidence': 0.7773013648598693, 'avg_response_time': 3.8256030314906213, 'max_response_time': 3.896026702975862, 'contribution': 0.8114651656428049}, 'EfficientNetB7': {'accuracy': 0.926829268292683, 'confidence': 0.6738649839308204, 'avg_response_time': 7.1263219190852585, 'max_response_time': 7.235155248866351, 'contribution': 0.662727638715651}, 'DenseNet201': {'accuracy': 0.825, 'confidence': 0.7377300523221493, 'avg_response_time': 0.5810733149937749, 'max_response_time': 0.6184780695049532, 'contribution': 0.7506065495312214}, 'Xception': {'accuracy': 0.7948717948717948, 'confidence': 0.6726500926873623, 'avg_response_time': 0.9878841368680162, 'max_response_time': 1.0647430876629993, 'contribution': 0.7096389707846519}, 'InceptionV3': {'accuracy': 0.8285714285714286, 'confidence': 0.7083558201789856, 'avg_response_time': 0.5749828270234285, 'max_response_time': 0.6754832735299773, 'contribution': 0.7606584174292428}}, 'input_state': {'input_file_length': 33, 'image_height': 224, 'image_width': 224}, 'distribution_weights': [1.0, 1.0, 1.0, 1.0, 1.0, 0.0, 0.0, 0.0, 0.0, 0.0, 0.0, 0.0, 0.0, 0.0, 0.0, 0.0, 0.0, 0.0, 0.0, 0.0]}\n",
      "REWARD:  0.8936170212765957\n",
      "Worst model: EfficientNetV2L with score: 0.5911481481481482\n",
      "Model 'EfficientNetV2L' successfully removed from the target YAML.\n",
      "Best model: EfficientNetV2L with score: 0.5911481481481482\n",
      "Model 'EfficientNetV2L' successfully added to the target YAML.\n"
     ]
    },
    {
     "name": "stderr",
     "output_type": "stream",
     "text": [
      "2025-01-24 16:38:24,598:INFO -- Action: Replacing a model\n"
     ]
    },
    {
     "name": "stdout",
     "output_type": "stream",
     "text": [
      "STATE:  {'ensemble_state': {'total_energy_consumption': 0.023205572371097348, 'ensemble_size': 16}, 'model_states': {'InceptionResNetV2': {'accuracy': 0.8541666666666666, 'confidence': 0.747425007323424, 'avg_response_time': 2.073855254686605, 'max_response_time': 2.1382728880039026, 'contribution': 0.7747420482337475}, 'MobileNetV2': {'accuracy': 0.8709677419354839, 'confidence': 0.6843798920031516, 'avg_response_time': 0.08523306190802006, 'max_response_time': 0.11490944876572, 'contribution': 0.6966504175816813}, 'ResNet50V2': {'accuracy': 0.8888888888888888, 'confidence': 0.8640910916858249, 'avg_response_time': 0.33383225296167046, 'max_response_time': 0.42193226462149624, 'contribution': 0.8982533779409196}, 'ensemble': {'accuracy': 0.8958333333333334, 'confidence': 0.7584798628017718, 'avg_response_time': 6.579154458984988, 'max_response_time': 7.248012610627401, 'contribution': 0.9103782294938961}, 'EfficientNetV2S': {'accuracy': 0.8666666666666667, 'confidence': 0.7722408771514893, 'avg_response_time': 1.146020434881025, 'max_response_time': 1.1895237146775917, 'contribution': 0.7779802401860555}, 'NASNetLarge': {'accuracy': 0.8863636363636364, 'confidence': 0.7806238999420946, 'avg_response_time': 3.825689011008271, 'max_response_time': 3.896026702975862, 'contribution': 0.8140112507072362}, 'EfficientNetB7': {'accuracy': 0.9285714285714286, 'confidence': 0.6782108942667643, 'avg_response_time': 7.126222658597064, 'max_response_time': 7.235155248866351, 'contribution': 0.6673387239376704}, 'DenseNet201': {'accuracy': 0.8292682926829268, 'confidence': 0.7441148750665711, 'avg_response_time': 0.5811348707782147, 'max_response_time': 0.6184780695049532, 'contribution': 0.7566773113681049}, 'Xception': {'accuracy': 0.8, 'confidence': 0.6783544853329658, 'avg_response_time': 0.9877621558078813, 'max_response_time': 1.0647430876629993, 'contribution': 0.7144186414778233}, 'InceptionV3': {'accuracy': 0.8333333333333334, 'confidence': 0.7160792599121729, 'avg_response_time': 0.5749412962246652, 'max_response_time': 0.6754832735299773, 'contribution': 0.766929007238812}}, 'input_state': {'input_file_length': 14, 'image_height': 224, 'image_width': 224}, 'distribution_weights': [1.0, 1.0, 1.0, 1.0, 1.0, 0.0, 0.0, 0.0, 0.0, 0.0, 0.0, 0.0, 0.0, 0.0, 0.0, 0.0, 0.0, 0.0, 0.0, 0.0]}\n",
      "REWARD:  0.8958333333333334\n",
      "Worst model: EfficientNetV2L with score: 0.5911481481481482\n",
      "Model 'EfficientNetV2L' successfully removed from the target YAML.\n",
      "Best model: EfficientNetV2L with score: 0.5911481481481482\n",
      "Model 'EfficientNetV2L' successfully added to the target YAML.\n"
     ]
    },
    {
     "name": "stderr",
     "output_type": "stream",
     "text": [
      "2025-01-24 16:38:25,480:INFO -- Action: Replacing a model\n"
     ]
    },
    {
     "name": "stdout",
     "output_type": "stream",
     "text": [
      "STATE:  {'ensemble_state': {'total_energy_consumption': 0.023205572371097348, 'ensemble_size': 16}, 'model_states': {'InceptionResNetV2': {'accuracy': 0.8571428571428571, 'confidence': 0.7425998729102465, 'avg_response_time': 2.0737818690404857, 'max_response_time': 2.1382728880039026, 'contribution': 0.769359423189747}, 'MobileNetV2': {'accuracy': 0.875, 'confidence': 0.6802262691780925, 'avg_response_time': 0.08533539528037895, 'max_response_time': 0.11490944876572, 'contribution': 0.692113340832293}, 'ResNet50V2': {'accuracy': 0.8421052631578947, 'confidence': 0.8186126131760446, 'avg_response_time': 0.33751645325166724, 'max_response_time': 0.42193226462149624, 'contribution': 0.8509768843650818}, 'ensemble': {'accuracy': 0.8979591836734694, 'confidence': 0.7547285265698589, 'avg_response_time': 6.589873304611766, 'max_response_time': 7.248012610627401, 'contribution': 0.8917990819532045}, 'EfficientNetV2S': {'accuracy': 0.8695652173913043, 'confidence': 0.7704868096372356, 'avg_response_time': 1.145759998874753, 'max_response_time': 1.1895237146775917, 'contribution': 0.7761014039101808}, 'NASNetLarge': {'accuracy': 0.8888888888888888, 'confidence': 0.7730549342102475, 'avg_response_time': 3.824476682012205, 'max_response_time': 3.896026702975862, 'contribution': 0.8057003438472747}, 'EfficientNetB7': {'accuracy': 0.9069767441860465, 'confidence': 0.6624385478884675, 'avg_response_time': 7.125326899392047, 'max_response_time': 7.235155248866351, 'contribution': 0.6518192187298176}, 'DenseNet201': {'accuracy': 0.8333333333333334, 'confidence': 0.7387259808324632, 'avg_response_time': 0.5811403873855934, 'max_response_time': 0.6184780695049532, 'contribution': 0.75098931150777}, 'Xception': {'accuracy': 0.8048780487804879, 'confidence': 0.6701579908045326, 'avg_response_time': 0.9878926218591203, 'max_response_time': 1.0647430876629993, 'contribution': 0.7053425333848814}, 'InceptionV3': {'accuracy': 0.8378378378378378, 'confidence': 0.7203235416798979, 'avg_response_time': 0.5762333229917376, 'max_response_time': 0.6754832735299773, 'contribution': 0.7697989715112222}}, 'input_state': {'input_file_length': 14, 'image_height': 224, 'image_width': 224}, 'distribution_weights': [1.0, 1.0, 1.0, 1.0, 1.0, 0.0, 0.0, 0.0, 0.0, 0.0, 0.0, 0.0, 0.0, 0.0, 0.0, 0.0, 0.0, 0.0, 0.0, 0.0]}\n",
      "REWARD:  0.8979591836734694\n",
      "Worst model: EfficientNetV2L with score: 0.5911481481481482\n",
      "Model 'EfficientNetV2L' successfully removed from the target YAML.\n",
      "Best model: EfficientNetV2L with score: 0.5911481481481482\n",
      "Model 'EfficientNetV2L' successfully added to the target YAML.\n"
     ]
    },
    {
     "name": "stderr",
     "output_type": "stream",
     "text": [
      "2025-01-24 16:38:26,373:INFO -- Action: Replacing a model\n"
     ]
    },
    {
     "name": "stdout",
     "output_type": "stream",
     "text": [
      "STATE:  {'ensemble_state': {'total_energy_consumption': 0.023205572371097348, 'ensemble_size': 16}, 'model_states': {'InceptionResNetV2': {'accuracy': 0.86, 'confidence': 0.7457689130306244, 'avg_response_time': 2.0743502454927714, 'max_response_time': 2.1382728880039026, 'contribution': 0.771993272304535}, 'MobileNetV2': {'accuracy': 0.8787878787878788, 'confidence': 0.6888964383891134, 'avg_response_time': 0.0856073740962215, 'max_response_time': 0.11490944876572, 'contribution': 0.7004232957507625}, 'ResNet50V2': {'accuracy': 0.85, 'confidence': 0.8276515781879425, 'avg_response_time': 0.34030396631287146, 'max_response_time': 0.42193226462149624, 'contribution': 0.8583976358175278}, 'ensemble': {'accuracy': 0.9, 'confidence': 0.7581004049713478, 'avg_response_time': 6.601354189312538, 'max_response_time': 7.248012610627401, 'contribution': 0.8939630001783371}, 'EfficientNetV2S': {'accuracy': 0.8723404255319149, 'confidence': 0.7738685886910621, 'avg_response_time': 1.1462468348559365, 'max_response_time': 1.1895237146775917, 'contribution': 0.7793637235113915}, 'NASNetLarge': {'accuracy': 0.8913043478260869, 'confidence': 0.7762547465770141, 'avg_response_time': 3.825278796673872, 'max_response_time': 3.896026702975862, 'contribution': 0.8081904733958452}, 'EfficientNetB7': {'accuracy': 0.9090909090909091, 'confidence': 0.6668730567802083, 'avg_response_time': 7.125857421794404, 'max_response_time': 7.235155248866351, 'contribution': 0.6564950760115277}, 'DenseNet201': {'accuracy': 0.8372093023255814, 'confidence': 0.7447148305039073, 'avg_response_time': 0.5814021283554603, 'max_response_time': 0.6184780695049532, 'contribution': 0.7566929674425791}, 'Xception': {'accuracy': 0.8095238095238095, 'confidence': 0.6760632764725458, 'avg_response_time': 0.9879053340789982, 'max_response_time': 1.0647430876629993, 'contribution': 0.7104100918486005}, 'InceptionV3': {'accuracy': 0.8421052631578947, 'confidence': 0.7249906047394401, 'avg_response_time': 0.5769269141540558, 'max_response_time': 0.6754832735299773, 'contribution': 0.7731640495752033}}, 'input_state': {'input_file_length': 15, 'image_height': 224, 'image_width': 224}, 'distribution_weights': [1.0, 1.0, 1.0, 1.0, 1.0, 0.0, 0.0, 0.0, 0.0, 0.0, 0.0, 0.0, 0.0, 0.0, 0.0, 0.0, 0.0, 0.0, 0.0, 0.0]}\n",
      "REWARD:  0.9\n",
      "Worst model: EfficientNetV2L with score: 0.5911481481481482\n",
      "Model 'EfficientNetV2L' successfully removed from the target YAML.\n",
      "Best model: EfficientNetV2L with score: 0.5911481481481482\n",
      "Model 'EfficientNetV2L' successfully added to the target YAML.\n"
     ]
    },
    {
     "name": "stderr",
     "output_type": "stream",
     "text": [
      "2025-01-24 16:38:27,263:INFO -- Action: Replacing a model\n"
     ]
    },
    {
     "name": "stdout",
     "output_type": "stream",
     "text": [
      "STATE:  {'ensemble_state': {'total_energy_consumption': 0.023205572371097348, 'ensemble_size': 16}, 'model_states': {'InceptionResNetV2': {'accuracy': 0.8627450980392157, 'confidence': 0.7467627899319518, 'avg_response_time': 2.0735588678527055, 'max_response_time': 2.1382728880039026, 'contribution': 0.7568561493181715}, 'MobileNetV2': {'accuracy': 0.8529411764705882, 'confidence': 0.6686347784364924, 'avg_response_time': 0.08588474727731071, 'max_response_time': 0.11490944876572, 'contribution': 0.6798226105816224}, 'ResNet50V2': {'accuracy': 0.8095238095238095, 'confidence': 0.788239598274231, 'avg_response_time': 0.34271031382777484, 'max_response_time': 0.42193226462149624, 'contribution': 0.8480539804413205}, 'ensemble': {'accuracy': 0.8823529411764706, 'confidence': 0.7432356911483802, 'avg_response_time': 6.612479613343669, 'max_response_time': 7.248012610627401, 'contribution': 0.8764343139003304}, 'EfficientNetV2S': {'accuracy': 0.875, 'confidence': 0.7734615330894788, 'avg_response_time': 1.146252078120074, 'max_response_time': 1.1895237146775917, 'contribution': 0.7631269792715708}, 'NASNetLarge': {'accuracy': 0.8936170212765957, 'confidence': 0.7792598040814095, 'avg_response_time': 3.8251255995392754, 'max_response_time': 3.896026702975862, 'contribution': 0.7909949314086995}, 'EfficientNetB7': {'accuracy': 0.9111111111111111, 'confidence': 0.6674483948283725, 'avg_response_time': 7.126560139337739, 'max_response_time': 7.235155248866351, 'contribution': 0.6419062965446048}, 'DenseNet201': {'accuracy': 0.8409090909090909, 'confidence': 0.7394329004667022, 'avg_response_time': 0.5818358059217759, 'max_response_time': 0.6184780695049532, 'contribution': 0.7394954000007022}, 'Xception': {'accuracy': 0.813953488372093, 'confidence': 0.6691987140234127, 'avg_response_time': 0.9882026155924448, 'max_response_time': 1.0647430876629993, 'contribution': 0.6938889269218889}, 'InceptionV3': {'accuracy': 0.8461538461538461, 'confidence': 0.7283708728276767, 'avg_response_time': 0.5760989779016894, 'max_response_time': 0.6754832735299773, 'contribution': 0.7533393303553263}}, 'input_state': {'input_file_length': 15, 'image_height': 224, 'image_width': 224}, 'distribution_weights': [1.0, 1.0, 1.0, 1.0, 1.0, 0.0, 0.0, 0.0, 0.0, 0.0, 0.0, 0.0, 0.0, 0.0, 0.0, 0.0, 0.0, 0.0, 0.0, 0.0]}\n",
      "REWARD:  0.8823529411764706\n",
      "Worst model: EfficientNetV2L with score: 0.5911481481481482\n",
      "Model 'EfficientNetV2L' successfully removed from the target YAML.\n",
      "Best model: EfficientNetV2L with score: 0.5911481481481482\n",
      "Model 'EfficientNetV2L' successfully added to the target YAML.\n"
     ]
    },
    {
     "name": "stderr",
     "output_type": "stream",
     "text": [
      "2025-01-24 16:38:28,152:INFO -- Action: Keeping the ensemble\n"
     ]
    },
    {
     "name": "stdout",
     "output_type": "stream",
     "text": [
      "STATE:  {'ensemble_state': {'total_energy_consumption': 0.023205572371097348, 'ensemble_size': 16}, 'model_states': {'InceptionResNetV2': {'accuracy': 0.8653846153846154, 'confidence': 0.7502870834790744, 'avg_response_time': 2.074329403279026, 'max_response_time': 2.1382728880039026, 'contribution': 0.7601863398001745}, 'MobileNetV2': {'accuracy': 0.8571428571428571, 'confidence': 0.6741265032972609, 'avg_response_time': 0.08620341924682097, 'max_response_time': 0.11490944876572, 'contribution': 0.684994683095387}, 'ResNet50V2': {'accuracy': 0.8181818181818182, 'confidence': 0.7932144132527438, 'avg_response_time': 0.3440905245181916, 'max_response_time': 0.42193226462149624, 'contribution': 0.8503099598667838}, 'ensemble': {'accuracy': 0.8846153846153846, 'confidence': 0.7461824677249431, 'avg_response_time': 6.622724564531794, 'max_response_time': 7.248012610627401, 'contribution': 0.878594815157927}, 'EfficientNetV2S': {'accuracy': 0.8775510204081632, 'confidence': 0.7764049160237215, 'avg_response_time': 1.1461983286419168, 'max_response_time': 1.1895237146775917, 'contribution': 0.7662812714674034}, 'NASNetLarge': {'accuracy': 0.8958333333333334, 'confidence': 0.781563296293219, 'avg_response_time': 3.825084225262421, 'max_response_time': 3.896026702975862, 'contribution': 0.7930539418011904}, 'EfficientNetB7': {'accuracy': 0.9130434782608695, 'confidence': 0.670871755351191, 'avg_response_time': 7.126810449473516, 'max_response_time': 7.235155248866351, 'contribution': 0.6458849200735921}, 'DenseNet201': {'accuracy': 0.8444444444444444, 'confidence': 0.7449739555517833, 'avg_response_time': 0.58187049147617, 'max_response_time': 0.6184780695049532, 'contribution': 0.7450350662072499}, 'Xception': {'accuracy': 0.8181818181818182, 'confidence': 0.6746303791349585, 'avg_response_time': 0.9880834072993155, 'max_response_time': 1.0647430876629993, 'contribution': 0.6987594508311965}, 'InceptionV3': {'accuracy': 0.85, 'confidence': 0.7334480658173561, 'avg_response_time': 0.5758063118029615, 'max_response_time': 0.6754832735299773, 'contribution': 0.7577923119068146}}, 'input_state': {'input_file_length': 14, 'image_height': 224, 'image_width': 224}, 'distribution_weights': [1.0, 1.0, 1.0, 1.0, 1.0, 0.0, 0.0, 0.0, 0.0, 0.0, 0.0, 0.0, 0.0, 0.0, 0.0, 0.0, 0.0, 0.0, 0.0, 0.0]}\n",
      "REWARD:  0.8846153846153846\n"
     ]
    },
    {
     "name": "stderr",
     "output_type": "stream",
     "text": [
      "2025-01-24 16:38:28,837:INFO -- Action: Keeping the ensemble\n"
     ]
    },
    {
     "name": "stdout",
     "output_type": "stream",
     "text": [
      "STATE:  {'ensemble_state': {'total_energy_consumption': 0.023205572371097348, 'ensemble_size': 16}, 'model_states': {'InceptionResNetV2': {'accuracy': 0.8490566037735849, 'confidence': 0.7361307234134314, 'avg_response_time': 2.073895812292956, 'max_response_time': 2.1382728880039026, 'contribution': 0.7458432013133787}, 'MobileNetV2': {'accuracy': 0.8333333333333334, 'confidence': 0.6554007670945592, 'avg_response_time': 0.08642398729614979, 'max_response_time': 0.11490944876572, 'contribution': 0.6659670530094041}, 'ResNet50V2': {'accuracy': 0.782608695652174, 'confidence': 0.7587268300678419, 'avg_response_time': 0.34689358547789106, 'max_response_time': 0.42193226462149624, 'contribution': 0.8476886878842893}, 'ensemble': {'accuracy': 0.8679245283018868, 'confidence': 0.7321035532395669, 'avg_response_time': 6.632809105752683, 'max_response_time': 7.248012610627401, 'contribution': 0.8620175544945698}, 'EfficientNetV2S': {'accuracy': 0.86, 'confidence': 0.7608768177032471, 'avg_response_time': 1.1463679132753148, 'max_response_time': 1.1895237146775917, 'contribution': 0.7509556460380554}, 'NASNetLarge': {'accuracy': 0.8979591836734694, 'confidence': 0.7829784489407832, 'avg_response_time': 3.8249271815859625, 'max_response_time': 3.896026702975862, 'contribution': 0.7768691674787171}, 'EfficientNetB7': {'accuracy': 0.9148936170212766, 'confidence': 0.6687901806324086, 'avg_response_time': 7.127283820890584, 'max_response_time': 7.235155248866351, 'contribution': 0.6321426877316009}, 'DenseNet201': {'accuracy': 0.8478260869565217, 'confidence': 0.7449654722991197, 'avg_response_time': 0.5814258749837329, 'max_response_time': 0.6184780695049532, 'contribution': 0.7288386517244837}, 'Xception': {'accuracy': 0.8, 'confidence': 0.6596385929319594, 'avg_response_time': 0.9879219720460088, 'max_response_time': 1.0647430876629993, 'contribution': 0.6832314630349478}, 'InceptionV3': {'accuracy': 0.8536585365853658, 'confidence': 0.7277499088426915, 'avg_response_time': 0.5754099652350001, 'max_response_time': 0.6754832735299773, 'contribution': 0.7393095725920142}}, 'input_state': {'input_file_length': 15, 'image_height': 224, 'image_width': 224}, 'distribution_weights': [1.0, 1.0, 1.0, 1.0, 1.0, 0.0, 0.0, 0.0, 0.0, 0.0, 0.0, 0.0, 0.0, 0.0, 0.0, 0.0, 0.0, 0.0, 0.0, 0.0]}\n",
      "REWARD:  0.8679245283018868\n"
     ]
    },
    {
     "name": "stderr",
     "output_type": "stream",
     "text": [
      "2025-01-24 16:38:29,581:INFO -- Action: Adding a model\n"
     ]
    },
    {
     "name": "stdout",
     "output_type": "stream",
     "text": [
      "STATE:  {'ensemble_state': {'total_energy_consumption': 0.023205572371097348, 'ensemble_size': 16}, 'model_states': {'InceptionResNetV2': {'accuracy': 0.8518518518518519, 'confidence': 0.7387967595347652, 'avg_response_time': 2.073647819499724, 'max_response_time': 2.1382728880039026, 'contribution': 0.7483293767328616}, 'MobileNetV2': {'accuracy': 0.8378378378378378, 'confidence': 0.6615938665093603, 'avg_response_time': 0.08657808296015272, 'max_response_time': 0.11490944876572, 'contribution': 0.6718745771292094}, 'ResNet50V2': {'accuracy': 0.7916666666666666, 'confidence': 0.768777792652448, 'avg_response_time': 0.34953813092623776, 'max_response_time': 0.42193226462149624, 'contribution': 0.8540329063932101}, 'ensemble': {'accuracy': 0.8703703703703703, 'confidence': 0.735300852821479, 'avg_response_time': 6.642320328033249, 'max_response_time': 7.248012610627401, 'contribution': 0.8645718577835295}, 'EfficientNetV2S': {'accuracy': 0.8627450980392157, 'confidence': 0.7640413910734887, 'avg_response_time': 1.1462838415441579, 'max_response_time': 1.1895237146775917, 'contribution': 0.7543147521860459}, 'NASNetLarge': {'accuracy': 0.9, 'confidence': 0.7855983477830887, 'avg_response_time': 3.8250433485686073, 'max_response_time': 3.896026702975862, 'contribution': 0.7796112519502639}, 'EfficientNetB7': {'accuracy': 0.9166666666666666, 'confidence': 0.6720615699887276, 'avg_response_time': 7.127467076071077, 'max_response_time': 7.235155248866351, 'contribution': 0.6361775665233532}, 'DenseNet201': {'accuracy': 0.851063829787234, 'confidence': 0.7498607806702877, 'avg_response_time': 0.5814319142334762, 'max_response_time': 0.6184780695049532, 'contribution': 0.7340770839376652}, 'Xception': {'accuracy': 0.8043478260869565, 'confidence': 0.6659919373367144, 'avg_response_time': 0.9880557315352199, 'max_response_time': 1.0647430876629993, 'contribution': 0.689071918959203}, 'InceptionV3': {'accuracy': 0.8571428571428571, 'confidence': 0.7335426083632878, 'avg_response_time': 0.5754876880521306, 'max_response_time': 0.6754832735299773, 'contribution': 0.7448270420233408}}, 'input_state': {'input_file_length': 14, 'image_height': 224, 'image_width': 224}, 'distribution_weights': [1.0, 1.0, 1.0, 1.0, 1.0, 0.0, 0.0, 0.0, 0.0, 0.0, 0.0, 0.0, 0.0, 0.0, 0.0, 0.0, 0.0, 0.0, 0.0, 0.0]}\n",
      "REWARD:  0.8703703703703703\n",
      "No eligible models to score.\n"
     ]
    },
    {
     "name": "stderr",
     "output_type": "stream",
     "text": [
      "2025-01-24 16:38:30,311:INFO -- Action: Keeping the ensemble\n"
     ]
    },
    {
     "name": "stdout",
     "output_type": "stream",
     "text": [
      "STATE:  {'ensemble_state': {'total_energy_consumption': 0.023205572371097348, 'ensemble_size': 16}, 'model_states': {'InceptionResNetV2': {'accuracy': 0.8545454545454545, 'confidence': 0.7425485318357294, 'avg_response_time': 2.0733392683626373, 'max_response_time': 2.1382728880039026, 'contribution': 0.7519078287211332}, 'MobileNetV2': {'accuracy': 0.8421052631578947, 'confidence': 0.6697458209175813, 'avg_response_time': 0.08647535892530017, 'max_response_time': 0.11490944876572, 'contribution': 0.6797559865211186}, 'ResNet50V2': {'accuracy': 0.8, 'confidence': 0.7780266761779785, 'avg_response_time': 0.3513866251500975, 'max_response_time': 0.42193226462149624, 'contribution': 0.8598715853691101}, 'ensemble': {'accuracy': 0.8727272727272727, 'confidence': 0.7393934129616587, 'avg_response_time': 6.650583318511995, 'max_response_time': 7.248012610627401, 'contribution': 0.8670341876420108}, 'EfficientNetV2S': {'accuracy': 0.8653846153846154, 'confidence': 0.7670198931143835, 'avg_response_time': 1.1463701653980352, 'max_response_time': 1.1895237146775917, 'contribution': 0.757480304974776}, 'NASNetLarge': {'accuracy': 0.9019607843137255, 'confidence': 0.7883104676125097, 'avg_response_time': 3.8249004415039147, 'max_response_time': 3.896026702975862, 'contribution': 0.7824407658156227}, 'EfficientNetB7': {'accuracy': 0.9183673469387755, 'confidence': 0.6757347608099178, 'avg_response_time': 7.126570439441491, 'max_response_time': 7.235155248866351, 'contribution': 0.6405830839458777}, 'DenseNet201': {'accuracy': 0.8541666666666666, 'confidence': 0.7550719746698936, 'avg_response_time': 0.5784916640510757, 'max_response_time': 0.6184780695049532, 'contribution': 0.7396171049525341}, 'Xception': {'accuracy': 0.8085106382978723, 'confidence': 0.6726363656368661, 'avg_response_time': 0.9880196223569321, 'max_response_time': 1.0647430876629993, 'contribution': 0.6952252838205784}, 'InceptionV3': {'accuracy': 0.8604651162790697, 'confidence': 0.7397346302520397, 'avg_response_time': 0.5752150318310946, 'max_response_time': 0.6754832735299773, 'contribution': 0.750756635222324}}, 'input_state': {'input_file_length': 15, 'image_height': 224, 'image_width': 224}, 'distribution_weights': [1.0, 1.0, 1.0, 1.0, 1.0, 0.0, 0.0, 0.0, 0.0, 0.0, 0.0, 0.0, 0.0, 0.0, 0.0, 0.0, 0.0, 0.0, 0.0, 0.0]}\n",
      "REWARD:  0.8727272727272727\n"
     ]
    },
    {
     "name": "stderr",
     "output_type": "stream",
     "text": [
      "2025-01-24 16:38:31,001:INFO -- Action: Replacing a model\n"
     ]
    },
    {
     "name": "stdout",
     "output_type": "stream",
     "text": [
      "STATE:  {'ensemble_state': {'total_energy_consumption': 0.023205572371097348, 'ensemble_size': 16}, 'model_states': {'InceptionResNetV2': {'accuracy': 0.8571428571428571, 'confidence': 0.7457971338714872, 'avg_response_time': 2.0735770440055985, 'max_response_time': 2.1382728880039026, 'contribution': 0.7549893004553658}, 'MobileNetV2': {'accuracy': 0.8461538461538461, 'confidence': 0.6774677137533823, 'avg_response_time': 0.08688748297834763, 'max_response_time': 0.11490944876572, 'contribution': 0.6872212084440085}, 'ResNet50V2': {'accuracy': 0.8076923076923077, 'confidence': 0.7865640200101413, 'avg_response_time': 0.3531588133084123, 'max_response_time': 0.42193226462149624, 'contribution': 0.865261048078537}, 'ensemble': {'accuracy': 0.875, 'confidence': 0.7431758724893723, 'avg_response_time': 6.658834572405099, 'max_response_time': 7.248012610627401, 'contribution': 0.8694085707621915}, 'EfficientNetV2S': {'accuracy': 0.8679245283018868, 'confidence': 0.7701651903818238, 'avg_response_time': 1.145945109380072, 'max_response_time': 1.1895237146775917, 'contribution': 0.7608055944712657}, 'NASNetLarge': {'accuracy': 0.9038461538461539, 'confidence': 0.790519427221555, 'avg_response_time': 3.824702238779973, 'max_response_time': 3.896026702975862, 'contribution': 0.7847626043053774}, 'EfficientNetB7': {'accuracy': 0.92, 'confidence': 0.6784789764881134, 'avg_response_time': 7.1260898673337225, 'max_response_time': 7.235155248866351, 'contribution': 0.644030333161354}, 'DenseNet201': {'accuracy': 0.8571428571428571, 'confidence': 0.7600670414311546, 'avg_response_time': 0.5784139195853353, 'max_response_time': 0.6184780695049532, 'contribution': 0.7449275772182309}, 'Xception': {'accuracy': 0.8125, 'confidence': 0.6772528439760208, 'avg_response_time': 0.9884793915686391, 'max_response_time': 1.0647430876629993, 'contribution': 0.6993711596975724}, 'InceptionV3': {'accuracy': 0.8636363636363636, 'confidence': 0.7455151568759572, 'avg_response_time': 0.5751031463383351, 'max_response_time': 0.6754832735299773, 'contribution': 0.7562866617332805}}, 'input_state': {'input_file_length': 15, 'image_height': 224, 'image_width': 224}, 'distribution_weights': [1.0, 1.0, 1.0, 1.0, 1.0, 0.0, 0.0, 0.0, 0.0, 0.0, 0.0, 0.0, 0.0, 0.0, 0.0, 0.0, 0.0, 0.0, 0.0, 0.0]}\n",
      "REWARD:  0.875\n",
      "Worst model: EfficientNetV2L with score: 0.5911481481481482\n",
      "Model 'EfficientNetV2L' successfully removed from the target YAML.\n",
      "Best model: EfficientNetV2L with score: 0.5911481481481482\n",
      "Model 'EfficientNetV2L' successfully added to the target YAML.\n"
     ]
    },
    {
     "name": "stderr",
     "output_type": "stream",
     "text": [
      "2025-01-24 16:38:31,891:INFO -- Action: Keeping the ensemble\n"
     ]
    },
    {
     "name": "stdout",
     "output_type": "stream",
     "text": [
      "STATE:  {'ensemble_state': {'total_energy_consumption': 0.023205572371097348, 'ensemble_size': 16}, 'model_states': {'InceptionResNetV2': {'accuracy': 0.8596491228070176, 'confidence': 0.7489815668055886, 'avg_response_time': 2.0740622279638985, 'max_response_time': 2.1382728880039026, 'contribution': 0.7580124673090483}, 'MobileNetV2': {'accuracy': 0.85, 'confidence': 0.6849525935947895, 'avg_response_time': 0.08697160533987539, 'max_response_time': 0.11490944876572, 'contribution': 0.69446225091815}, 'ResNet50V2': {'accuracy': 0.8148148148148148, 'confidence': 0.7944675463217276, 'avg_response_time': 0.3543023025758951, 'max_response_time': 0.42193226462149624, 'contribution': 0.8702498696468495}, 'ensemble': {'accuracy': 0.8771929824561403, 'confidence': 0.7463410306077137, 'avg_response_time': 6.666595433190172, 'max_response_time': 7.248012610627401, 'contribution': 0.8716989332123807}, 'EfficientNetV2S': {'accuracy': 0.8703703703703703, 'confidence': 0.7725342026463261, 'avg_response_time': 1.1454925327703214, 'max_response_time': 1.1895237146775917, 'contribution': 0.7633479325859635}, 'NASNetLarge': {'accuracy': 0.9056603773584906, 'confidence': 0.7928987432200953, 'avg_response_time': 3.824954126142039, 'max_response_time': 3.896026702975862, 'contribution': 0.787250539604223}, 'EfficientNetB7': {'accuracy': 0.9215686274509803, 'confidence': 0.6808197241203457, 'avg_response_time': 7.125364407394496, 'max_response_time': 7.235155248866351, 'contribution': 0.6470465443882287}, 'DenseNet201': {'accuracy': 0.86, 'confidence': 0.764681755900383, 'avg_response_time': 0.5790021747081607, 'max_response_time': 0.6184780695049532, 'contribution': 0.7498450809717179}, 'Xception': {'accuracy': 0.8163265306122449, 'confidence': 0.6828361214423666, 'avg_response_time': 0.9884984697361128, 'max_response_time': 1.0647430876629993, 'contribution': 0.7045030429655191}, 'InceptionV3': {'accuracy': 0.8666666666666667, 'confidence': 0.7507970823182, 'avg_response_time': 0.5760939614030459, 'max_response_time': 0.6754832735299773, 'contribution': 0.7613292204009162}}, 'input_state': {'input_file_length': 14, 'image_height': 224, 'image_width': 224}, 'distribution_weights': [1.0, 1.0, 1.0, 1.0, 1.0, 0.0, 0.0, 0.0, 0.0, 0.0, 0.0, 0.0, 0.0, 0.0, 0.0, 0.0, 0.0, 0.0, 0.0, 0.0]}\n",
      "REWARD:  0.8771929824561403\n"
     ]
    },
    {
     "name": "stderr",
     "output_type": "stream",
     "text": [
      "2025-01-24 16:38:32,582:INFO -- Action: Keeping the ensemble\n"
     ]
    },
    {
     "name": "stdout",
     "output_type": "stream",
     "text": [
      "STATE:  {'ensemble_state': {'total_energy_consumption': 0.023205572371097348, 'ensemble_size': 16}, 'model_states': {'InceptionResNetV2': {'accuracy': 0.8620689655172413, 'confidence': 0.7522958660947865, 'avg_response_time': 2.0739442401337174, 'max_response_time': 2.1382728880039026, 'contribution': 0.7611710614171522}, 'MobileNetV2': {'accuracy': 0.8536585365853658, 'confidence': 0.6830967890053261, 'avg_response_time': 0.08730617342989297, 'max_response_time': 0.11490944876572, 'contribution': 0.6923745034671411}, 'ResNet50V2': {'accuracy': 0.8214285714285714, 'confidence': 0.8007097457136426, 'avg_response_time': 0.3549002157640719, 'max_response_time': 0.42193226462149624, 'contribution': 0.8737855574914387}, 'ensemble': {'accuracy': 0.8793103448275862, 'confidence': 0.749094704755684, 'avg_response_time': 6.6749938266936315, 'max_response_time': 7.248012610627401, 'contribution': 0.8739056952040771}, 'EfficientNetV2S': {'accuracy': 0.8727272727272727, 'confidence': 0.7755891919136048, 'avg_response_time': 1.1450467815898726, 'max_response_time': 1.1895237146775917, 'contribution': 0.7665699449452487}, 'NASNetLarge': {'accuracy': 0.9074074074074074, 'confidence': 0.7955615481844655, 'avg_response_time': 3.824377553967955, 'max_response_time': 3.896026702975862, 'contribution': 0.79001794093185}, 'EfficientNetB7': {'accuracy': 0.9230769230769231, 'confidence': 0.6838799932828317, 'avg_response_time': 7.125697486847499, 'max_response_time': 7.235155248866351, 'contribution': 0.6507562977763323}, 'DenseNet201': {'accuracy': 0.8627450980392157, 'confidence': 0.7692897828186259, 'avg_response_time': 0.5790917113394701, 'max_response_time': 0.6184780695049532, 'contribution': 0.7547440230846405}, 'Xception': {'accuracy': 0.82, 'confidence': 0.6880505740642547, 'avg_response_time': 0.988782941134012, 'max_response_time': 1.0647430876629993, 'contribution': 0.7092841571569443}, 'InceptionV3': {'accuracy': 0.8695652173913043, 'confidence': 0.7558517287606779, 'avg_response_time': 0.576305975447844, 'max_response_time': 0.6754832735299773, 'contribution': 0.7661549073198567}}, 'input_state': {'input_file_length': 15, 'image_height': 224, 'image_width': 224}, 'distribution_weights': [1.0, 1.0, 1.0, 1.0, 1.0, 0.0, 0.0, 0.0, 0.0, 0.0, 0.0, 0.0, 0.0, 0.0, 0.0, 0.0, 0.0, 0.0, 0.0, 0.0]}\n",
      "REWARD:  0.8793103448275862\n"
     ]
    },
    {
     "name": "stderr",
     "output_type": "stream",
     "text": [
      "2025-01-24 16:38:33,348:INFO -- Action: Adding a model\n"
     ]
    },
    {
     "name": "stdout",
     "output_type": "stream",
     "text": [
      "STATE:  {'ensemble_state': {'total_energy_consumption': 0.023205572371097348, 'ensemble_size': 16}, 'model_states': {'InceptionResNetV2': {'accuracy': 0.864406779661017, 'confidence': 0.7548676850432057, 'avg_response_time': 2.073475126499001, 'max_response_time': 2.1382728880039026, 'contribution': 0.7635924533262091}, 'MobileNetV2': {'accuracy': 0.8571428571428571, 'confidence': 0.6902701691502616, 'avg_response_time': 0.0875138594944258, 'max_response_time': 0.11490944876572, 'contribution': 0.6993269856487002}, 'ResNet50V2': {'accuracy': 0.8275862068965517, 'confidence': 0.804813105484535, 'avg_response_time': 0.3559677951822776, 'max_response_time': 0.42193226462149624, 'contribution': 0.8753690616837864}, 'ensemble': {'accuracy': 0.8813559322033898, 'confidence': 0.7514156595743869, 'avg_response_time': 6.682797423300076, 'max_response_time': 7.248012610627401, 'contribution': 0.8758985021356809}, 'EfficientNetV2S': {'accuracy': 0.875, 'confidence': 0.7776102413024221, 'avg_response_time': 1.145391574021882, 'max_response_time': 1.1895237146775917, 'contribution': 0.7687520523156438}, 'NASNetLarge': {'accuracy': 0.9090909090909091, 'confidence': 0.7969737199219791, 'avg_response_time': 3.8241259928350546, 'max_response_time': 3.896026702975862, 'contribution': 0.791530905528502}, 'EfficientNetB7': {'accuracy': 0.9245283018867925, 'confidence': 0.6868847529843168, 'avg_response_time': 7.125631619527789, 'max_response_time': 7.235155248866351, 'contribution': 0.6543860328647325}, 'DenseNet201': {'accuracy': 0.8653846153846154, 'confidence': 0.7735626966907427, 'avg_response_time': 0.5785222199032748, 'max_response_time': 0.6184780695049532, 'contribution': 0.7592966631054878}, 'Xception': {'accuracy': 0.8235294117647058, 'confidence': 0.6933619578679403, 'avg_response_time': 0.9887131969383757, 'max_response_time': 1.0647430876629993, 'contribution': 0.7141791961941064}, 'InceptionV3': {'accuracy': 0.8723404255319149, 'confidence': 0.7602761400506851, 'avg_response_time': 0.575975469793858, 'max_response_time': 0.6754832735299773, 'contribution': 0.7703601020447751}}, 'input_state': {'input_file_length': 14, 'image_height': 224, 'image_width': 224}, 'distribution_weights': [1.0, 1.0, 1.0, 1.0, 1.0, 0.0, 0.0, 0.0, 0.0, 0.0, 0.0, 0.0, 0.0, 0.0, 0.0, 0.0, 0.0, 0.0, 0.0, 0.0]}\n",
      "REWARD:  0.8813559322033898\n",
      "No eligible models to score.\n"
     ]
    },
    {
     "name": "stderr",
     "output_type": "stream",
     "text": [
      "2025-01-24 16:38:34,034:INFO -- Action: Replacing a model\n"
     ]
    },
    {
     "name": "stdout",
     "output_type": "stream",
     "text": [
      "STATE:  {'ensemble_state': {'total_energy_consumption': 0.023205572371097348, 'ensemble_size': 16}, 'model_states': {'InceptionResNetV2': {'accuracy': 0.8666666666666667, 'confidence': 0.7574654887119929, 'avg_response_time': 2.0739969883796308, 'max_response_time': 2.1382728880039026, 'contribution': 0.7660448441902796}, 'MobileNetV2': {'accuracy': 0.8604651162790697, 'confidence': 0.6957437416841817, 'avg_response_time': 0.0877968176502608, 'max_response_time': 0.11490944876572, 'contribution': 0.7045899345431217}, 'ResNet50V2': {'accuracy': 0.8333333333333334, 'confidence': 0.8113192200660706, 'avg_response_time': 0.3579150646639451, 'max_response_time': 0.42193226462149624, 'contribution': 0.8795233110586802}, 'ensemble': {'accuracy': 0.8833333333333333, 'confidence': 0.7538815617983594, 'avg_response_time': 6.690970777979517, 'max_response_time': 7.248012610627401, 'contribution': 0.8779668028155962}, 'EfficientNetV2S': {'accuracy': 0.8771929824561403, 'confidence': 0.7803466905627334, 'avg_response_time': 1.145421255360369, 'max_response_time': 1.1895237146775917, 'contribution': 0.7716439084002846}, 'NASNetLarge': {'accuracy': 0.9107142857142857, 'confidence': 0.7991730075861726, 'avg_response_time': 3.8236865894169347, 'max_response_time': 3.896026702975862, 'contribution': 0.7938273863068649}, 'EfficientNetB7': {'accuracy': 0.9259259259259259, 'confidence': 0.6892808256325899, 'avg_response_time': 7.126367021185782, 'max_response_time': 7.235155248866351, 'contribution': 0.6573839336633682}, 'DenseNet201': {'accuracy': 0.8679245283018868, 'confidence': 0.7778119461716346, 'avg_response_time': 0.5787102296904002, 'max_response_time': 0.6184780695049532, 'contribution': 0.7638150830313845}, 'Xception': {'accuracy': 0.8269230769230769, 'confidence': 0.6976146147801325, 'avg_response_time': 0.9893540119076654, 'max_response_time': 1.0647430876629993, 'contribution': 0.7180315216000264}, 'InceptionV3': {'accuracy': 0.875, 'confidence': 0.7648178152740002, 'avg_response_time': 0.5757152886285625, 'max_response_time': 0.6754832735299773, 'contribution': 0.7746916947265466}}, 'input_state': {'input_file_length': 14, 'image_height': 224, 'image_width': 224}, 'distribution_weights': [1.0, 1.0, 1.0, 1.0, 1.0, 0.0, 0.0, 0.0, 0.0, 0.0, 0.0, 0.0, 0.0, 0.0, 0.0, 0.0, 0.0, 0.0, 0.0, 0.0]}\n",
      "REWARD:  0.8833333333333333\n",
      "Worst model: EfficientNetV2L with score: 0.5911481481481482\n",
      "Model 'EfficientNetV2L' successfully removed from the target YAML.\n",
      "Best model: EfficientNetV2L with score: 0.5911481481481482\n",
      "Model 'EfficientNetV2L' successfully added to the target YAML.\n"
     ]
    },
    {
     "name": "stderr",
     "output_type": "stream",
     "text": [
      "2025-01-24 16:38:34,928:INFO -- Action: Keeping the ensemble\n"
     ]
    },
    {
     "name": "stdout",
     "output_type": "stream",
     "text": [
      "STATE:  {'ensemble_state': {'total_energy_consumption': 0.023205572371097348, 'ensemble_size': 16}, 'model_states': {'InceptionResNetV2': {'accuracy': 0.8688524590163934, 'confidence': 0.7602666020393372, 'avg_response_time': 2.0734459266514556, 'max_response_time': 2.1382728880039026, 'contribution': 0.7687053123458487}, 'MobileNetV2': {'accuracy': 0.8636363636363636, 'confidence': 0.7021900977600705, 'avg_response_time': 0.08834799459762395, 'max_response_time': 0.11490944876572, 'contribution': 0.7108352407813072}, 'ResNet50V2': {'accuracy': 0.8387096774193549, 'confidence': 0.8174044124541744, 'avg_response_time': 0.35912324962426934, 'max_response_time': 0.42193226462149624, 'contribution': 0.8834083714792805}, 'ensemble': {'accuracy': 0.8852459016393442, 'confidence': 0.7568129252630232, 'avg_response_time': 6.697735211806763, 'max_response_time': 7.248012610627401, 'contribution': 0.8799666943120175}, 'EfficientNetV2S': {'accuracy': 0.8793103448275862, 'confidence': 0.782555405435891, 'avg_response_time': 1.1456333381806625, 'max_response_time': 1.1895237146775917, 'contribution': 0.7740026712417603}, 'NASNetLarge': {'accuracy': 0.9122807017543859, 'confidence': 0.8007093453616426, 'avg_response_time': 3.823368176680911, 'max_response_time': 3.896026702975862, 'contribution': 0.7954575069117964}, 'EfficientNetB7': {'accuracy': 0.9272727272727272, 'confidence': 0.6920340624722567, 'avg_response_time': 7.125787615943203, 'max_response_time': 7.235155248866351, 'contribution': 0.6607171139933846}, 'DenseNet201': {'accuracy': 0.8703703703703703, 'confidence': 0.7818497314497277, 'avg_response_time': 0.579209151895668, 'max_response_time': 0.6184780695049532, 'contribution': 0.7681120694787414}, 'Xception': {'accuracy': 0.8301886792452831, 'confidence': 0.7010851176279895, 'avg_response_time': 0.9890506065134848, 'max_response_time': 1.0647430876629993, 'contribution': 0.7211167997909043}, 'InceptionV3': {'accuracy': 0.8775510204081632, 'confidence': 0.7694789110397806, 'avg_response_time': 0.5757061577621988, 'max_response_time': 0.6754832735299773, 'contribution': 0.7791512827483975}}, 'input_state': {'input_file_length': 14, 'image_height': 224, 'image_width': 224}, 'distribution_weights': [1.0, 1.0, 1.0, 1.0, 1.0, 0.0, 0.0, 0.0, 0.0, 0.0, 0.0, 0.0, 0.0, 0.0, 0.0, 0.0, 0.0, 0.0, 0.0, 0.0]}\n",
      "REWARD:  0.8852459016393442\n",
      "STATE:  {'ensemble_state': {'total_energy_consumption': 0.023205572371097348, 'ensemble_size': 16}, 'model_states': {'InceptionResNetV2': {'accuracy': 0.8709677419354839, 'confidence': 0.7637758216550273, 'avg_response_time': 2.0692238129754172, 'max_response_time': 2.1382728880039026, 'contribution': 0.7720784237307887}, 'MobileNetV2': {'accuracy': 0.8666666666666667, 'confidence': 0.706615204943551, 'avg_response_time': 0.0885678135689162, 'max_response_time': 0.11490944876572, 'contribution': 0.7150682336754269}, 'ResNet50V2': {'accuracy': 0.8125, 'confidence': 0.7918605245649815, 'avg_response_time': 0.3571012785750893, 'max_response_time': 0.42193226462149624, 'contribution': 0.855801859870553}, 'ensemble': {'accuracy': 0.8870967741935484, 'confidence': 0.7566444993702414, 'avg_response_time': 6.7038495776317175, 'max_response_time': 7.248012610627401, 'contribution': 0.8815452672781483}, 'EfficientNetV2S': {'accuracy': 0.8813559322033898, 'confidence': 0.7850046875113148, 'avg_response_time': 1.1450694914332695, 'max_response_time': 1.1895237146775917, 'contribution': 0.7765969149136948}, 'NASNetLarge': {'accuracy': 0.9137931034482759, 'confidence': 0.8027338123527067, 'avg_response_time': 3.823059123209296, 'max_response_time': 3.896026702975862, 'contribution': 0.7975725228416508}, 'EfficientNetB7': {'accuracy': 0.9285714285714286, 'confidence': 0.6922236617122378, 'avg_response_time': 7.124715990638687, 'max_response_time': 7.235155248866351, 'contribution': 0.6614659444562027}, 'DenseNet201': {'accuracy': 0.8727272727272727, 'confidence': 0.7852693530646238, 'avg_response_time': 0.579706820773459, 'max_response_time': 0.6184780695049532, 'contribution': 0.7717814667658373}, 'Xception': {'accuracy': 0.8333333333333334, 'confidence': 0.7028289073043399, 'avg_response_time': 0.9905379816640255, 'max_response_time': 1.0693688646426827, 'contribution': 0.7224896323901636}, 'InceptionV3': {'accuracy': 0.88, 'confidence': 0.7720883607864379, 'avg_response_time': 0.5758357879668284, 'max_response_time': 0.6754832735299773, 'contribution': 0.7815672850608826}}, 'input_state': {'input_file_length': 14, 'image_height': 224, 'image_width': 224}, 'distribution_weights': [1.0, 1.0, 1.0, 1.0, 1.0, 0.0, 0.0, 0.0, 0.0, 0.0, 0.0, 0.0, 0.0, 0.0, 0.0, 0.0, 0.0, 0.0, 0.0, 0.0]}\n",
      "REWARD:  0.8870967741935484\n"
     ]
    },
    {
     "name": "stderr",
     "output_type": "stream",
     "text": [
      "2025-01-24 16:38:35,826:INFO -- Action: Adding a model\n"
     ]
    },
    {
     "name": "stdout",
     "output_type": "stream",
     "text": [
      "No eligible models to score.\n"
     ]
    },
    {
     "name": "stderr",
     "output_type": "stream",
     "text": [
      "2025-01-24 16:38:36,578:INFO -- Action: Adding a model\n"
     ]
    },
    {
     "name": "stdout",
     "output_type": "stream",
     "text": [
      "STATE:  {'ensemble_state': {'total_energy_consumption': 0.023205572371097348, 'ensemble_size': 16}, 'model_states': {'InceptionResNetV2': {'accuracy': 0.873015873015873, 'confidence': 0.7657583441053119, 'avg_response_time': 2.070093561023686, 'max_response_time': 2.1382728880039026, 'contribution': 0.7739291588465372}, 'MobileNetV2': {'accuracy': 0.8695652173913043, 'confidence': 0.7076884048140567, 'avg_response_time': 0.08870434195622462, 'max_response_time': 0.11490944876572, 'contribution': 0.7159576720517614}, 'ResNet50V2': {'accuracy': 0.8181818181818182, 'confidence': 0.7964582985097711, 'avg_response_time': 0.35885748417431607, 'max_response_time': 0.42193226462149624, 'contribution': 0.8584620175939618}, 'ensemble': {'accuracy': 0.8888888888888888, 'confidence': 0.7576000436314927, 'avg_response_time': 6.710607111614192, 'max_response_time': 7.248012610627401, 'contribution': 0.8830757174226973}, 'EfficientNetV2S': {'accuracy': 0.8833333333333333, 'confidence': 0.7862862348556519, 'avg_response_time': 1.1451504767702574, 'max_response_time': 1.1895237146775917, 'contribution': 0.7780185918013255}, 'NASNetLarge': {'accuracy': 0.9152542372881356, 'confidence': 0.8045251778626846, 'avg_response_time': 3.823352216079407, 'max_response_time': 3.896026702975862, 'contribution': 0.799451367834867}, 'EfficientNetB7': {'accuracy': 0.9298245614035088, 'confidence': 0.6937132341819897, 'avg_response_time': 7.124663561398111, 'max_response_time': 7.235155248866351, 'contribution': 0.6634951260006219}, 'DenseNet201': {'accuracy': 0.875, 'confidence': 0.7885424617145743, 'avg_response_time': 0.5801843588768028, 'max_response_time': 0.6184780695049532, 'contribution': 0.7752954305282661}, 'Xception': {'accuracy': 0.8363636363636363, 'confidence': 0.7031789855523543, 'avg_response_time': 0.990832802701924, 'max_response_time': 1.0693688646426827, 'contribution': 0.7224822429093447}, 'InceptionV3': {'accuracy': 0.8823529411764706, 'confidence': 0.7755020237436482, 'avg_response_time': 0.5759566816028885, 'max_response_time': 0.6754832735299773, 'contribution': 0.7847950867578095}}, 'input_state': {'input_file_length': 15, 'image_height': 224, 'image_width': 224}, 'distribution_weights': [1.0, 1.0, 1.0, 1.0, 1.0, 0.0, 0.0, 0.0, 0.0, 0.0, 0.0, 0.0, 0.0, 0.0, 0.0, 0.0, 0.0, 0.0, 0.0, 0.0]}\n",
      "REWARD:  0.8888888888888888\n",
      "No eligible models to score.\n"
     ]
    },
    {
     "name": "stderr",
     "output_type": "stream",
     "text": [
      "2025-01-24 16:38:37,269:INFO -- Action: Keeping the ensemble\n"
     ]
    },
    {
     "name": "stdout",
     "output_type": "stream",
     "text": [
      "STATE:  {'ensemble_state': {'total_energy_consumption': 0.023205572371097348, 'ensemble_size': 16}, 'model_states': {'InceptionResNetV2': {'accuracy': 0.875, 'confidence': 0.7682755086570978, 'avg_response_time': 2.0694814321063286, 'max_response_time': 2.1382728880039026, 'contribution': 0.7763186544179916}, 'MobileNetV2': {'accuracy': 0.8723404255319149, 'confidence': 0.7123721235610069, 'avg_response_time': 0.08911153554578882, 'max_response_time': 0.11490944876572, 'contribution': 0.7204654489425902}, 'ResNet50V2': {'accuracy': 0.8235294117647058, 'confidence': 0.8024448191418367, 'avg_response_time': 0.3605504108254182, 'max_response_time': 0.42193226462149624, 'contribution': 0.8626248994294334}, 'ensemble': {'accuracy': 0.890625, 'confidence': 0.7603538434023444, 'avg_response_time': 6.717514813815727, 'max_response_time': 7.248012610627401, 'contribution': 0.8849026593379676}, 'EfficientNetV2S': {'accuracy': 0.8852459016393442, 'confidence': 0.7883678420645291, 'avg_response_time': 1.1440422143371725, 'max_response_time': 1.1895237146775917, 'contribution': 0.7802357341422409}, 'NASNetLarge': {'accuracy': 0.9166666666666666, 'confidence': 0.806491319835186, 'avg_response_time': 3.823518552822558, 'max_response_time': 3.896026702975862, 'contribution': 0.8015020733078321}, 'EfficientNetB7': {'accuracy': 0.9310344827586207, 'confidence': 0.6966701365750412, 'avg_response_time': 7.124948940405361, 'max_response_time': 7.235155248866351, 'contribution': 0.6669730302588693}, 'DenseNet201': {'accuracy': 0.8771929824561403, 'confidence': 0.7922463683705581, 'avg_response_time': 0.5806018834052733, 'max_response_time': 0.6184780695049532, 'contribution': 0.77923174124015}, 'Xception': {'accuracy': 0.8392857142857143, 'confidence': 0.7064578948276383, 'avg_response_time': 0.9909480649468463, 'max_response_time': 1.0693688646426827, 'contribution': 0.7254164511603969}, 'InceptionV3': {'accuracy': 0.8846153846153846, 'confidence': 0.7790819670145328, 'avg_response_time': 0.5760655782217132, 'max_response_time': 0.6754832735299773, 'contribution': 0.7881963172784219}}, 'input_state': {'input_file_length': 15, 'image_height': 224, 'image_width': 224}, 'distribution_weights': [1.0, 1.0, 1.0, 1.0, 1.0, 0.0, 0.0, 0.0, 0.0, 0.0, 0.0, 0.0, 0.0, 0.0, 0.0, 0.0, 0.0, 0.0, 0.0, 0.0]}\n",
      "REWARD:  0.890625\n"
     ]
    },
    {
     "name": "stderr",
     "output_type": "stream",
     "text": [
      "2025-01-24 16:38:37,987:INFO -- Action: Keeping the ensemble\n"
     ]
    },
    {
     "name": "stdout",
     "output_type": "stream",
     "text": [
      "STATE:  {'ensemble_state': {'total_energy_consumption': 0.023205572371097348, 'ensemble_size': 16}, 'model_states': {'InceptionResNetV2': {'accuracy': 0.8769230769230769, 'confidence': 0.7701541561346787, 'avg_response_time': 2.0694078878248146, 'max_response_time': 2.1382728880039026, 'contribution': 0.7643752905038687}, 'MobileNetV2': {'accuracy': 0.8541666666666666, 'confidence': 0.6975310376534859, 'avg_response_time': 0.08931775852400485, 'max_response_time': 0.11490944876572, 'contribution': 0.7153579027702411}, 'ResNet50V2': {'accuracy': 0.8285714285714286, 'confidence': 0.7953075579234532, 'avg_response_time': 0.36066765217234364, 'max_response_time': 0.42193226462149624, 'contribution': 0.8379784737314496}, 'ensemble': {'accuracy': 0.8769230769230769, 'confidence': 0.7486560919653852, 'avg_response_time': 6.724235093192533, 'max_response_time': 7.248012610627401, 'contribution': 0.8859920001946963}, 'EfficientNetV2S': {'accuracy': 0.8870967741935484, 'confidence': 0.7860363500733529, 'avg_response_time': 1.14405635113974, 'max_response_time': 1.1895237146775917, 'contribution': 0.767651286817366}, 'NASNetLarge': {'accuracy': 0.9180327868852459, 'confidence': 0.8074360602214689, 'avg_response_time': 3.822779899962268, 'max_response_time': 3.896026702975862, 'contribution': 0.788362695056884}, 'EfficientNetB7': {'accuracy': 0.9322033898305084, 'confidence': 0.6988061323004254, 'avg_response_time': 7.12528741133747, 'max_response_time': 7.235155248866351, 'contribution': 0.655668402627363}, 'DenseNet201': {'accuracy': 0.8793103448275862, 'confidence': 0.7919821631291817, 'avg_response_time': 0.5812551900102585, 'max_response_time': 0.6184936664944127, 'contribution': 0.7657967112187681}, 'Xception': {'accuracy': 0.8421052631578947, 'confidence': 0.7030063773456373, 'avg_response_time': 0.9915469706239036, 'max_response_time': 1.0693688646426827, 'contribution': 0.7126898467540741}, 'InceptionV3': {'accuracy': 0.8867924528301887, 'confidence': 0.7772723942432763, 'avg_response_time': 0.5763592854839794, 'max_response_time': 0.6754832735299773, 'contribution': 0.7733246886505271}}, 'input_state': {'input_file_length': 15, 'image_height': 224, 'image_width': 224}, 'distribution_weights': [1.0, 1.0, 1.0, 1.0, 1.0, 0.0, 0.0, 0.0, 0.0, 0.0, 0.0, 0.0, 0.0, 0.0, 0.0, 0.0, 0.0, 0.0, 0.0, 0.0]}\n",
      "REWARD:  0.8769230769230769\n"
     ]
    },
    {
     "name": "stderr",
     "output_type": "stream",
     "text": [
      "2025-01-24 16:38:38,677:INFO -- Action: Replacing a model\n"
     ]
    },
    {
     "name": "stdout",
     "output_type": "stream",
     "text": [
      "STATE:  {'ensemble_state': {'total_energy_consumption': 0.023205572371097348, 'ensemble_size': 16}, 'model_states': {'InceptionResNetV2': {'accuracy': 0.8787878787878788, 'confidence': 0.7723755402998491, 'avg_response_time': 2.0694421796003484, 'max_response_time': 2.1382728880039026, 'contribution': 0.7666842332392028}, 'MobileNetV2': {'accuracy': 0.8571428571428571, 'confidence': 0.7033795525833052, 'avg_response_time': 0.09047783219225201, 'max_response_time': 0.14616136826811602, 'contribution': 0.720842604126249}, 'ResNet50V2': {'accuracy': 0.8333333333333334, 'confidence': 0.8009924193223318, 'avg_response_time': 0.36207219994408785, 'max_response_time': 0.42193226462149624, 'contribution': 0.8424780319134394}, 'ensemble': {'accuracy': 0.8787878787878788, 'confidence': 0.7517436263840399, 'avg_response_time': 6.730370879165904, 'max_response_time': 7.248012610627401, 'contribution': 0.8877188269839142}, 'EfficientNetV2S': {'accuracy': 0.8888888888888888, 'confidence': 0.7881388456102402, 'avg_response_time': 1.1444304403274015, 'max_response_time': 1.1895237146775917, 'contribution': 0.7700456087551419}, 'NASNetLarge': {'accuracy': 0.9193548387096774, 'confidence': 0.8093379163934339, 'avg_response_time': 3.8219371765701, 'max_response_time': 3.896026702975862, 'contribution': 0.7905721861508584}, 'EfficientNetB7': {'accuracy': 0.9333333333333333, 'confidence': 0.7002784023682277, 'avg_response_time': 7.125194664320751, 'max_response_time': 7.235155248866351, 'contribution': 0.657859634856383}, 'DenseNet201': {'accuracy': 0.8813559322033898, 'confidence': 0.7954758784528506, 'avg_response_time': 0.5812567350263598, 'max_response_time': 0.6184936664944127, 'contribution': 0.7697342477612577}, 'Xception': {'accuracy': 0.8448275862068966, 'confidence': 0.7059398714838356, 'avg_response_time': 0.9916370271562782, 'max_response_time': 1.0693688646426827, 'contribution': 0.7154563845231615}, 'InceptionV3': {'accuracy': 0.8888888888888888, 'confidence': 0.7813272851484793, 'avg_response_time': 0.5767446444548461, 'max_response_time': 0.6754832735299773, 'contribution': 0.777452685214855}}, 'input_state': {'input_file_length': 14, 'image_height': 224, 'image_width': 224}, 'distribution_weights': [1.0, 1.0, 1.0, 1.0, 1.0, 0.0, 0.0, 0.0, 0.0, 0.0, 0.0, 0.0, 0.0, 0.0, 0.0, 0.0, 0.0, 0.0, 0.0, 0.0]}\n",
      "REWARD:  0.8787878787878788\n",
      "Worst model: EfficientNetV2L with score: 0.5911481481481482\n",
      "Model 'EfficientNetV2L' successfully removed from the target YAML.\n",
      "Best model: EfficientNetV2L with score: 0.5911481481481482\n",
      "Model 'EfficientNetV2L' successfully added to the target YAML.\n"
     ]
    },
    {
     "name": "stderr",
     "output_type": "stream",
     "text": [
      "2025-01-24 16:38:39,628:INFO -- Action: Adding a model\n"
     ]
    },
    {
     "name": "stdout",
     "output_type": "stream",
     "text": [
      "STATE:  {'ensemble_state': {'total_energy_consumption': 0.023205572371097348, 'ensemble_size': 16}, 'model_states': {'InceptionResNetV2': {'accuracy': 0.8805970149253731, 'confidence': 0.774706246247932, 'avg_response_time': 2.0691195158411784, 'max_response_time': 2.1382728880039026, 'contribution': 0.769099884068788}, 'MobileNetV2': {'accuracy': 0.86, 'confidence': 0.7005209225416184, 'avg_response_time': 0.09064975839510238, 'max_response_time': 0.14616136826811602, 'contribution': 0.7176347130537033}, 'ResNet50V2': {'accuracy': 0.8108108108108109, 'confidence': 0.7793439755568633, 'avg_response_time': 0.36316007520087507, 'max_response_time': 0.42193226462149624, 'contribution': 0.8197083553752383}, 'ensemble': {'accuracy': 0.8805970149253731, 'confidence': 0.751039336911105, 'avg_response_time': 6.736539538343082, 'max_response_time': 7.248012610627401, 'contribution': 0.8883279913396978}, 'EfficientNetV2S': {'accuracy': 0.890625, 'confidence': 0.7900257967412472, 'avg_response_time': 1.1444420265206714, 'max_response_time': 1.1895237146775917, 'contribution': 0.7722152667120099}, 'NASNetLarge': {'accuracy': 0.9206349206349206, 'confidence': 0.81067965002287, 'avg_response_time': 3.821374169408048, 'max_response_time': 3.896026702975862, 'contribution': 0.7922117885143037}, 'EfficientNetB7': {'accuracy': 0.9344262295081968, 'confidence': 0.7018025214554834, 'avg_response_time': 7.1253550794418965, 'max_response_time': 7.235155248866351, 'contribution': 0.6600791435749804}, 'DenseNet201': {'accuracy': 0.8833333333333333, 'confidence': 0.7968344127138456, 'avg_response_time': 0.5808534284713354, 'max_response_time': 0.6184936664944127, 'contribution': 0.7715218092004458}, 'Xception': {'accuracy': 0.847457627118644, 'confidence': 0.7031916097059088, 'avg_response_time': 0.9911923815885042, 'max_response_time': 1.0693688646426827, 'contribution': 0.7125468259140596}, 'InceptionV3': {'accuracy': 0.8909090909090909, 'confidence': 0.7825934052467346, 'avg_response_time': 0.5763471984992974, 'max_response_time': 0.6754832735299773, 'contribution': 0.7787892525846308}}, 'input_state': {'input_file_length': 14, 'image_height': 224, 'image_width': 224}, 'distribution_weights': [1.0, 1.0, 1.0, 1.0, 1.0, 0.0, 0.0, 0.0, 0.0, 0.0, 0.0, 0.0, 0.0, 0.0, 0.0, 0.0, 0.0, 0.0, 0.0, 0.0]}\n",
      "REWARD:  0.8805970149253731\n",
      "No eligible models to score.\n"
     ]
    },
    {
     "name": "stderr",
     "output_type": "stream",
     "text": [
      "2025-01-24 16:38:40,315:INFO -- Action: Replacing a model\n"
     ]
    },
    {
     "name": "stdout",
     "output_type": "stream",
     "text": [
      "STATE:  {'ensemble_state': {'total_energy_consumption': 0.023205572371097348, 'ensemble_size': 16}, 'model_states': {'InceptionResNetV2': {'accuracy': 0.8823529411764706, 'confidence': 0.7775373713058584, 'avg_response_time': 2.0695839214727805, 'max_response_time': 2.1382728880039026, 'contribution': 0.7720134556293488}, 'MobileNetV2': {'accuracy': 0.8627450980392157, 'confidence': 0.7046035300282871, 'avg_response_time': 0.09163607269263012, 'max_response_time': 0.14616136826811602, 'contribution': 0.7213817560205272}, 'ResNet50V2': {'accuracy': 0.8157894736842105, 'confidence': 0.7845393121242523, 'avg_response_time': 0.36413807969556816, 'max_response_time': 0.42193226462149624, 'contribution': 0.8238414714210912}, 'ensemble': {'accuracy': 0.8823529411764706, 'confidence': 0.7530731884107376, 'avg_response_time': 6.743000356485874, 'max_response_time': 7.248012610627401, 'contribution': 0.8899331991286838}, 'EfficientNetV2S': {'accuracy': 0.8923076923076924, 'confidence': 0.7920252543229324, 'avg_response_time': 1.144366872213366, 'max_response_time': 1.1895237146775917, 'contribution': 0.774488732447991}, 'NASNetLarge': {'accuracy': 0.921875, 'confidence': 0.8116130814887583, 'avg_response_time': 3.8217690465832628, 'max_response_time': 3.896026702975862, 'contribution': 0.7934337803162634}, 'EfficientNetB7': {'accuracy': 0.9354838709677419, 'confidence': 0.7033525551519086, 'avg_response_time': 7.126006246687069, 'max_response_time': 7.235155248866351, 'contribution': 0.6623021349791558}, 'DenseNet201': {'accuracy': 0.8852459016393442, 'confidence': 0.7999690092000805, 'avg_response_time': 0.5811079787555876, 'max_response_time': 0.6184936664944127, 'contribution': 0.7750713664000152}, 'Xception': {'accuracy': 0.85, 'confidence': 0.7056524813175201, 'avg_response_time': 0.9909551376343672, 'max_response_time': 1.0693688646426827, 'contribution': 0.7148517772555352}, 'InceptionV3': {'accuracy': 0.8928571428571429, 'confidence': 0.7812640794685909, 'avg_response_time': 0.5761391038356661, 'max_response_time': 0.6754832735299773, 'contribution': 0.7775278581040246}}, 'input_state': {'input_file_length': 15, 'image_height': 224, 'image_width': 224}, 'distribution_weights': [1.0, 1.0, 1.0, 1.0, 1.0, 0.0, 0.0, 0.0, 0.0, 0.0, 0.0, 0.0, 0.0, 0.0, 0.0, 0.0, 0.0, 0.0, 0.0, 0.0]}\n",
      "REWARD:  0.8823529411764706\n",
      "Worst model: EfficientNetV2L with score: 0.5911481481481482\n",
      "Model 'EfficientNetV2L' successfully removed from the target YAML.\n",
      "Best model: EfficientNetV2L with score: 0.5911481481481482\n",
      "Model 'EfficientNetV2L' successfully added to the target YAML.\n"
     ]
    },
    {
     "name": "stderr",
     "output_type": "stream",
     "text": [
      "2025-01-24 16:38:41,218:INFO -- Action: Replacing a model\n"
     ]
    },
    {
     "name": "stdout",
     "output_type": "stream",
     "text": [
      "STATE:  {'ensemble_state': {'total_energy_consumption': 0.023205572371097348, 'ensemble_size': 16}, 'model_states': {'InceptionResNetV2': {'accuracy': 0.8840579710144928, 'confidence': 0.779606781144073, 'avg_response_time': 2.0700702616404456, 'max_response_time': 2.1382728880039026, 'contribution': 0.7741629222164983}, 'MobileNetV2': {'accuracy': 0.8653846153846154, 'confidence': 0.7087265545359025, 'avg_response_time': 0.09173101191779966, 'max_response_time': 0.14616136826811602, 'contribution': 0.7251821223359841}, 'ResNet50V2': {'accuracy': 0.8205128205128205, 'confidence': 0.7900637678610973, 'avg_response_time': 0.3649560462356464, 'max_response_time': 0.42193226462149624, 'contribution': 0.8283581794836582}, 'ensemble': {'accuracy': 0.8840579710144928, 'confidence': 0.7558900178164765, 'avg_response_time': 6.748670247171388, 'max_response_time': 7.248012610627401, 'contribution': 0.8915282699508943}, 'EfficientNetV2S': {'accuracy': 0.8939393939393939, 'confidence': 0.7939883425380244, 'avg_response_time': 1.1437276923733675, 'max_response_time': 1.1895237146775917, 'contribution': 0.7767175255399762}, 'NASNetLarge': {'accuracy': 0.9230769230769231, 'confidence': 0.8133280171797825, 'avg_response_time': 3.8217158131048916, 'max_response_time': 3.896026702975862, 'contribution': 0.7954283975637876}, 'EfficientNetB7': {'accuracy': 0.9365079365079365, 'confidence': 0.7054642088829525, 'avg_response_time': 7.125972341501883, 'max_response_time': 7.235155248866351, 'contribution': 0.6650653826811957}, 'DenseNet201': {'accuracy': 0.8870967741935484, 'confidence': 0.8031818486990467, 'avg_response_time': 0.5808472636225266, 'max_response_time': 0.6184936664944127, 'contribution': 0.7786857807828534}, 'Xception': {'accuracy': 0.8524590163934426, 'confidence': 0.7082793429249623, 'avg_response_time': 0.9908919780296114, 'max_response_time': 1.0693688646426827, 'contribution': 0.7173278307328459}, 'InceptionV3': {'accuracy': 0.8947368421052632, 'confidence': 0.7845543591599715, 'avg_response_time': 0.576379059310015, 'max_response_time': 0.6754832735299773, 'contribution': 0.7808836855386433}}, 'input_state': {'input_file_length': 15, 'image_height': 224, 'image_width': 224}, 'distribution_weights': [1.0, 1.0, 1.0, 1.0, 1.0, 0.0, 0.0, 0.0, 0.0, 0.0, 0.0, 0.0, 0.0, 0.0, 0.0, 0.0, 0.0, 0.0, 0.0, 0.0]}\n",
      "REWARD:  0.8840579710144928\n",
      "Worst model: EfficientNetV2L with score: 0.5911481481481482\n",
      "Model 'EfficientNetV2L' successfully removed from the target YAML.\n",
      "Best model: EfficientNetV2L with score: 0.5911481481481482\n",
      "Model 'EfficientNetV2L' successfully added to the target YAML.\n"
     ]
    },
    {
     "name": "stderr",
     "output_type": "stream",
     "text": [
      "2025-01-24 16:38:42,106:INFO -- Action: Keeping the ensemble\n"
     ]
    },
    {
     "name": "stdout",
     "output_type": "stream",
     "text": [
      "STATE:  {'ensemble_state': {'total_energy_consumption': 0.023205572371097348, 'ensemble_size': 16}, 'model_states': {'InceptionResNetV2': {'accuracy': 0.8857142857142857, 'confidence': 0.781767554794039, 'avg_response_time': 2.0704893482837314, 'max_response_time': 2.1382728880039026, 'contribution': 0.7764014652797154}, 'MobileNetV2': {'accuracy': 0.8679245283018868, 'confidence': 0.7141424962934458, 'avg_response_time': 0.09192820805754498, 'max_response_time': 0.14616136826811602, 'contribution': 0.7302875816822052}, 'ResNet50V2': {'accuracy': 0.825, 'confidence': 0.7953120991587639, 'avg_response_time': 0.36529827088240097, 'max_response_time': 0.42193226462149624, 'contribution': 0.8326491504907608}, 'ensemble': {'accuracy': 0.8857142857142857, 'confidence': 0.7587218663063023, 'avg_response_time': 6.753781737863419, 'max_response_time': 7.248012610627401, 'contribution': 0.8930778235197068}, 'EfficientNetV2S': {'accuracy': 0.8955223880597015, 'confidence': 0.7958668763957807, 'avg_response_time': 1.1437666623429592, 'max_response_time': 1.1895237146775917, 'contribution': 0.7788538327857629}, 'NASNetLarge': {'accuracy': 0.9242424242424242, 'confidence': 0.8149626982031446, 'avg_response_time': 3.8218438518553826, 'max_response_time': 3.896026702975862, 'contribution': 0.7973342849449678}, 'EfficientNetB7': {'accuracy': 0.9375, 'confidence': 0.7076151529327035, 'avg_response_time': 7.125499324142418, 'max_response_time': 7.235155248866351, 'contribution': 0.6678475583903491}, 'DenseNet201': {'accuracy': 0.8888888888888888, 'confidence': 0.8062897442825256, 'avg_response_time': 0.5808396018360874, 'max_response_time': 0.6184936664944127, 'contribution': 0.7821825028411926}, 'Xception': {'accuracy': 0.8548387096774194, 'confidence': 0.7109993080939015, 'avg_response_time': 0.9908705174176311, 'max_response_time': 1.0693688646426827, 'contribution': 0.7199018525500451}, 'InceptionV3': {'accuracy': 0.896551724137931, 'confidence': 0.7880849673830229, 'avg_response_time': 0.5763462381933825, 'max_response_time': 0.6754832735299773, 'contribution': 0.7844775812379245}}, 'input_state': {'input_file_length': 15, 'image_height': 224, 'image_width': 224}, 'distribution_weights': [1.0, 1.0, 1.0, 1.0, 1.0, 0.0, 0.0, 0.0, 0.0, 0.0, 0.0, 0.0, 0.0, 0.0, 0.0, 0.0, 0.0, 0.0, 0.0, 0.0]}\n",
      "REWARD:  0.8857142857142857\n"
     ]
    },
    {
     "name": "stderr",
     "output_type": "stream",
     "text": [
      "2025-01-24 16:38:42,798:INFO -- Action: Keeping the ensemble\n"
     ]
    },
    {
     "name": "stdout",
     "output_type": "stream",
     "text": [
      "STATE:  {'ensemble_state': {'total_energy_consumption': 0.023205572371097348, 'ensemble_size': 16}, 'model_states': {'InceptionResNetV2': {'accuracy': 0.8873239436619719, 'confidence': 0.7840053690990931, 'avg_response_time': 2.0704664004899653, 'max_response_time': 2.1382728880039026, 'contribution': 0.7787148583103234}, 'MobileNetV2': {'accuracy': 0.8703703703703703, 'confidence': 0.7129296919813862, 'avg_response_time': 0.09202391155604832, 'max_response_time': 0.14616136826811602, 'contribution': 0.7287757943073908}, 'ResNet50V2': {'accuracy': 0.8292682926829268, 'confidence': 0.7995691895484924, 'avg_response_time': 0.3659403592116898, 'max_response_time': 0.42193226462149624, 'contribution': 0.8359955810919041}, 'ensemble': {'accuracy': 0.8873239436619719, 'confidence': 0.7596395361258637, 'avg_response_time': 6.758484754440727, 'max_response_time': 7.248012610627401, 'contribution': 0.8941591612889733}, 'EfficientNetV2S': {'accuracy': 0.8970588235294118, 'confidence': 0.7970246576211032, 'avg_response_time': 1.1438690504125393, 'max_response_time': 1.1895237146775917, 'contribution': 0.7802618058288798}, 'NASNetLarge': {'accuracy': 0.9253731343283582, 'confidence': 0.8165279649086853, 'avg_response_time': 3.82145305879307, 'max_response_time': 3.896026702975862, 'contribution': 0.7991626622961528}, 'EfficientNetB7': {'accuracy': 0.9384615384615385, 'confidence': 0.7078291416168213, 'avg_response_time': 7.124768839905099, 'max_response_time': 7.235155248866351, 'contribution': 0.6686733562212724}, 'DenseNet201': {'accuracy': 0.890625, 'confidence': 0.8060140931047499, 'avg_response_time': 0.5809304921285543, 'max_response_time': 0.6184936664944127, 'contribution': 0.7822835273109376}, 'Xception': {'accuracy': 0.8571428571428571, 'confidence': 0.7147800373652625, 'avg_response_time': 0.9908955836596685, 'max_response_time': 1.0693688646426827, 'contribution': 0.7235412715919434}, 'InceptionV3': {'accuracy': 0.8983050847457628, 'confidence': 0.789792598304102, 'avg_response_time': 0.5760817347692382, 'max_response_time': 0.6754832735299773, 'contribution': 0.786246354297056}}, 'input_state': {'input_file_length': 14, 'image_height': 224, 'image_width': 224}, 'distribution_weights': [1.0, 1.0, 1.0, 1.0, 1.0, 0.0, 0.0, 0.0, 0.0, 0.0, 0.0, 0.0, 0.0, 0.0, 0.0, 0.0, 0.0, 0.0, 0.0, 0.0]}\n",
      "REWARD:  0.8873239436619719\n"
     ]
    },
    {
     "name": "stderr",
     "output_type": "stream",
     "text": [
      "2025-01-24 16:38:43,549:INFO -- Action: Adding a model\n"
     ]
    },
    {
     "name": "stdout",
     "output_type": "stream",
     "text": [
      "STATE:  {'ensemble_state': {'total_energy_consumption': 0.023205572371097348, 'ensemble_size': 16}, 'model_states': {'InceptionResNetV2': {'accuracy': 0.875, 'confidence': 0.7731164056393836, 'avg_response_time': 2.070618056027727, 'max_response_time': 2.1382728880039026, 'contribution': 0.7678993741671244}, 'MobileNetV2': {'accuracy': 0.8545454545454545, 'confidence': 0.699967333945361, 'avg_response_time': 0.09212247659298842, 'max_response_time': 0.14616136826811602, 'contribution': 0.7155253253199837}, 'ResNet50V2': {'accuracy': 0.8095238095238095, 'confidence': 0.7805318278925759, 'avg_response_time': 0.3674988319093529, 'max_response_time': 0.4313962125135385, 'contribution': 0.8160909243992397}, 'ensemble': {'accuracy': 0.875, 'confidence': 0.7490889870130045, 'avg_response_time': 6.763937183826622, 'max_response_time': 7.248012610627401, 'contribution': 0.8817402840488486}, 'EfficientNetV2S': {'accuracy': 0.8985507246376812, 'confidence': 0.7931495213854141, 'avg_response_time': 1.1440755889875196, 'max_response_time': 1.1895237146775917, 'contribution': 0.7689536637154178}, 'NASNetLarge': {'accuracy': 0.9264705882352942, 'confidence': 0.8092266049455193, 'avg_response_time': 3.8210298766458277, 'max_response_time': 3.896026702975862, 'contribution': 0.7874102702035624}, 'EfficientNetB7': {'accuracy': 0.9393939393939394, 'confidence': 0.7022556820602128, 'avg_response_time': 7.125022492298058, 'max_response_time': 7.235155248866351, 'contribution': 0.6585419417330713}, 'DenseNet201': {'accuracy': 0.8769230769230769, 'confidence': 0.7936138762877538, 'avg_response_time': 0.5804688217031218, 'max_response_time': 0.6184936664944127, 'contribution': 0.7702483961215386}, 'Xception': {'accuracy': 0.84375, 'confidence': 0.7036115992814302, 'avg_response_time': 0.9911897111586451, 'max_response_time': 1.0693688646426827, 'contribution': 0.7122359392233193}, 'InceptionV3': {'accuracy': 0.8833333333333333, 'confidence': 0.7766293883323669, 'avg_response_time': 0.575902575937018, 'max_response_time': 0.6754832735299773, 'contribution': 0.7731422483921051}}, 'input_state': {'input_file_length': 14, 'image_height': 224, 'image_width': 224}, 'distribution_weights': [1.0, 1.0, 1.0, 1.0, 1.0, 0.0, 0.0, 0.0, 0.0, 0.0, 0.0, 0.0, 0.0, 0.0, 0.0, 0.0, 0.0, 0.0, 0.0, 0.0]}\n",
      "REWARD:  0.875\n",
      "No eligible models to score.\n"
     ]
    },
    {
     "name": "stderr",
     "output_type": "stream",
     "text": [
      "2025-01-24 16:38:44,239:INFO -- Action: Keeping the ensemble\n"
     ]
    },
    {
     "name": "stdout",
     "output_type": "stream",
     "text": [
      "STATE:  {'ensemble_state': {'total_energy_consumption': 0.023205572371097348, 'ensemble_size': 16}, 'model_states': {'InceptionResNetV2': {'accuracy': 0.863013698630137, 'confidence': 0.7625257699456933, 'avg_response_time': 2.070670714540673, 'max_response_time': 2.1382728880039026, 'contribution': 0.7573802046579857}, 'MobileNetV2': {'accuracy': 0.8392857142857143, 'confidence': 0.6874679172677653, 'avg_response_time': 0.09236579867764429, 'max_response_time': 0.14616136826811602, 'contribution': 0.7177114385579314}, 'ResNet50V2': {'accuracy': 0.7906976744186046, 'confidence': 0.76237992491833, 'avg_response_time': 0.36825782336189383, 'max_response_time': 0.4313962125135385, 'contribution': 0.7971120656922807}, 'ensemble': {'accuracy': 0.863013698630137, 'confidence': 0.7388274940402236, 'avg_response_time': 6.7686291911014145, 'max_response_time': 7.248012610627401, 'contribution': 0.8811403851803035}, 'EfficientNetV2S': {'accuracy': 0.9, 'confidence': 0.788652446440288, 'avg_response_time': 1.144211005139493, 'max_response_time': 1.1895237146775917, 'contribution': 0.7579686113766262}, 'NASNetLarge': {'accuracy': 0.9130434782608695, 'confidence': 0.7974986831347147, 'avg_response_time': 3.821101002395704, 'max_response_time': 3.896026702975862, 'contribution': 0.7759985271571339}, 'EfficientNetB7': {'accuracy': 0.9253731343283582, 'confidence': 0.6917742539697619, 'avg_response_time': 7.124631390603131, 'max_response_time': 7.235155248866351, 'contribution': 0.6487129575281001}, 'DenseNet201': {'accuracy': 0.8636363636363636, 'confidence': 0.7815894236167272, 'avg_response_time': 0.5809300307025981, 'max_response_time': 0.6184936664944127, 'contribution': 0.7637281801664468}, 'Xception': {'accuracy': 0.8307692307692308, 'confidence': 0.6927868054463313, 'avg_response_time': 0.9911298589118694, 'max_response_time': 1.0693688646426827, 'contribution': 0.7012784632352682}, 'InceptionV3': {'accuracy': 0.8688524590163934, 'confidence': 0.7638977590154429, 'avg_response_time': 0.5754306300840447, 'max_response_time': 0.6754832735299773, 'contribution': 0.76046778530371}}, 'input_state': {'input_file_length': 14, 'image_height': 224, 'image_width': 224}, 'distribution_weights': [1.0, 1.0, 1.0, 1.0, 1.0, 0.0, 0.0, 0.0, 0.0, 0.0, 0.0, 0.0, 0.0, 0.0, 0.0, 0.0, 0.0, 0.0, 0.0, 0.0]}\n",
      "REWARD:  0.863013698630137\n"
     ]
    },
    {
     "name": "stderr",
     "output_type": "stream",
     "text": [
      "2025-01-24 16:38:44,958:INFO -- Action: Keeping the ensemble\n"
     ]
    },
    {
     "name": "stdout",
     "output_type": "stream",
     "text": [
      "STATE:  {'ensemble_state': {'total_energy_consumption': 0.023205572371097348, 'ensemble_size': 16}, 'model_states': {'InceptionResNetV2': {'accuracy': 0.8648648648648649, 'confidence': 0.764887543948921, 'avg_response_time': 2.0699900562975175, 'max_response_time': 2.1382728880039026, 'contribution': 0.7598115133272635}, 'MobileNetV2': {'accuracy': 0.8421052631578947, 'confidence': 0.6921025446632452, 'avg_response_time': 0.09216524392515939, 'max_response_time': 0.14616136826811602, 'contribution': 0.7218154778606013}, 'ResNet50V2': {'accuracy': 0.7954545454545454, 'confidence': 0.7677803811701861, 'avg_response_time': 0.36936409996676506, 'max_response_time': 0.4313962125135385, 'contribution': 0.8017231551083651}, 'ensemble': {'accuracy': 0.8648648648648649, 'confidence': 0.7415813916219752, 'avg_response_time': 6.7737318740448895, 'max_response_time': 7.248012610627401, 'contribution': 0.8827465961913805}, 'EfficientNetV2S': {'accuracy': 0.9014084507042254, 'confidence': 0.7906990168799817, 'avg_response_time': 1.1441558627293573, 'max_response_time': 1.1895237146775917, 'contribution': 0.7604473485073573}, 'NASNetLarge': {'accuracy': 0.9142857142857143, 'confidence': 0.7989486847605024, 'avg_response_time': 3.8207536546189527, 'max_response_time': 3.896026702975862, 'contribution': 0.7777556738683156}, 'EfficientNetB7': {'accuracy': 0.9264705882352942, 'confidence': 0.6935112480731571, 'avg_response_time': 7.124797032007034, 'max_response_time': 7.235155248866351, 'contribution': 0.6510832059909316}, 'DenseNet201': {'accuracy': 0.8656716417910447, 'confidence': 0.784849238484653, 'avg_response_time': 0.5829626740723116, 'max_response_time': 0.7171171364734032, 'contribution': 0.7672545807575112}, 'Xception': {'accuracy': 0.8333333333333334, 'confidence': 0.6971922462636774, 'avg_response_time': 0.9911807869559129, 'max_response_time': 1.0693688646426827, 'contribution': 0.7055552425709638}, 'InceptionV3': {'accuracy': 0.8709677419354839, 'confidence': 0.7676881167196459, 'avg_response_time': 0.5758368610389305, 'max_response_time': 0.6754832735299773, 'contribution': 0.7643134651645538}}, 'input_state': {'input_file_length': 13, 'image_height': 224, 'image_width': 224}, 'distribution_weights': [1.0, 1.0, 1.0, 1.0, 1.0, 0.0, 0.0, 0.0, 0.0, 0.0, 0.0, 0.0, 0.0, 0.0, 0.0, 0.0, 0.0, 0.0, 0.0, 0.0]}\n",
      "REWARD:  0.8648648648648649\n"
     ]
    },
    {
     "name": "stderr",
     "output_type": "stream",
     "text": [
      "2025-01-24 16:38:45,671:INFO -- Action: Replacing a model\n"
     ]
    },
    {
     "name": "stdout",
     "output_type": "stream",
     "text": [
      "STATE:  {'ensemble_state': {'total_energy_consumption': 0.023205572371097348, 'ensemble_size': 16}, 'model_states': {'InceptionResNetV2': {'accuracy': 0.8533333333333334, 'confidence': 0.7546890433629354, 'avg_response_time': 2.0701280465593133, 'max_response_time': 2.1382728880039026, 'contribution': 0.7593858718872071}, 'MobileNetV2': {'accuracy': 0.8275862068965517, 'confidence': 0.6801697421690514, 'avg_response_time': 0.09246054297632421, 'max_response_time': 0.14616136826811602, 'contribution': 0.7200732431535063}, 'ResNet50V2': {'accuracy': 0.8, 'confidence': 0.7716149038738674, 'avg_response_time': 0.37012015743636023, 'max_response_time': 0.4313962125135385, 'contribution': 0.783907084994846}, 'ensemble': {'accuracy': 0.8533333333333334, 'confidence': 0.7316936397336823, 'avg_response_time': 6.7786097936194984, 'max_response_time': 7.248012610627401, 'contribution': 0.8840692675113678}, 'EfficientNetV2S': {'accuracy': 0.9027777777777778, 'confidence': 0.7866082870297961, 'avg_response_time': 1.1445396269598223, 'max_response_time': 1.1895237146775917, 'contribution': 0.7498855797780885}, 'NASNetLarge': {'accuracy': 0.9014084507042254, 'confidence': 0.7876958863835939, 'avg_response_time': 3.8211840683499476, 'max_response_time': 3.896026702975862, 'contribution': 0.7748844568998041}, 'EfficientNetB7': {'accuracy': 0.927536231884058, 'confidence': 0.693830047396646, 'avg_response_time': 7.124892951907044, 'max_response_time': 7.235155248866351, 'contribution': 0.6416472174983093}, 'DenseNet201': {'accuracy': 0.8676470588235294, 'confidence': 0.7803145204396809, 'avg_response_time': 0.5833071136153891, 'max_response_time': 0.7171171364734032, 'contribution': 0.7609322031631189}, 'Xception': {'accuracy': 0.835820895522388, 'confidence': 0.6978731021952274, 'avg_response_time': 0.9909855161374839, 'max_response_time': 1.0693688646426827, 'contribution': 0.6950245673087105}, 'InceptionV3': {'accuracy': 0.873015873015873, 'confidence': 0.7705611719025506, 'avg_response_time': 0.5758687863611028, 'max_response_time': 0.6754832735299773, 'contribution': 0.752181505400037}}, 'input_state': {'input_file_length': 14, 'image_height': 224, 'image_width': 224}, 'distribution_weights': [1.0, 1.0, 1.0, 1.0, 1.0, 0.0, 0.0, 0.0, 0.0, 0.0, 0.0, 0.0, 0.0, 0.0, 0.0, 0.0, 0.0, 0.0, 0.0, 0.0]}\n",
      "REWARD:  0.8533333333333334\n",
      "Worst model: EfficientNetV2L with score: 0.5911481481481482\n",
      "Model 'EfficientNetV2L' successfully removed from the target YAML.\n",
      "Best model: EfficientNetV2L with score: 0.5911481481481482\n",
      "Model 'EfficientNetV2L' successfully added to the target YAML.\n"
     ]
    },
    {
     "name": "stderr",
     "output_type": "stream",
     "text": [
      "2025-01-24 16:38:46,629:INFO -- Action: Adding a model\n"
     ]
    },
    {
     "name": "stdout",
     "output_type": "stream",
     "text": [
      "STATE:  {'ensemble_state': {'total_energy_consumption': 0.023205572371097348, 'ensemble_size': 16}, 'model_states': {'InceptionResNetV2': {'accuracy': 0.8552631578947368, 'confidence': 0.7569270847659362, 'avg_response_time': 2.0686499630371626, 'max_response_time': 2.1382728880039026, 'contribution': 0.7615621129148885}, 'MobileNetV2': {'accuracy': 0.8305084745762712, 'confidence': 0.6797328293323517, 'avg_response_time': 0.09175125954202179, 'max_response_time': 0.14616136826811602, 'contribution': 0.7189599997916464}, 'ResNet50V2': {'accuracy': 0.8043478260869565, 'confidence': 0.7663450577984685, 'avg_response_time': 0.37123571932660526, 'max_response_time': 0.4313962125135385, 'contribution': 0.7783700175907301}, 'ensemble': {'accuracy': 0.8552631578947368, 'confidence': 0.7325784595176286, 'avg_response_time': 6.78320148628964, 'max_response_time': 7.248012610627401, 'contribution': 0.885019300407485}, 'EfficientNetV2S': {'accuracy': 0.9041095890410958, 'confidence': 0.7880140142898037, 'avg_response_time': 1.1448410764520698, 'max_response_time': 1.1895237146775917, 'contribution': 0.7517943578223659}, 'NASNetLarge': {'accuracy': 0.9027777777777778, 'confidence': 0.7890538622935613, 'avg_response_time': 3.820871321318695, 'max_response_time': 3.896026702975862, 'contribution': 0.7764203693303797}, 'EfficientNetB7': {'accuracy': 0.9285714285714286, 'confidence': 0.6957431618656431, 'avg_response_time': 7.124790106453119, 'max_response_time': 7.235155248866351, 'contribution': 0.6443058009658541}, 'DenseNet201': {'accuracy': 0.8695652173913043, 'confidence': 0.7822965111421503, 'avg_response_time': 0.5831681582888337, 'max_response_time': 0.7171171364734032, 'contribution': 0.7631950970145239}, 'Xception': {'accuracy': 0.8382352941176471, 'confidence': 0.7012192072237239, 'avg_response_time': 0.991135909289374, 'max_response_time': 1.0693688646426827, 'contribution': 0.6984125625561265}, 'InceptionV3': {'accuracy': 0.875, 'confidence': 0.7693038554862142, 'avg_response_time': 0.5758131588904095, 'max_response_time': 0.6754832735299773, 'contribution': 0.7512113712728024}}, 'input_state': {'input_file_length': 14, 'image_height': 224, 'image_width': 224}, 'distribution_weights': [1.0, 1.0, 1.0, 1.0, 1.0, 0.0, 0.0, 0.0, 0.0, 0.0, 0.0, 0.0, 0.0, 0.0, 0.0, 0.0, 0.0, 0.0, 0.0, 0.0]}\n",
      "REWARD:  0.8552631578947368\n",
      "No eligible models to score.\n"
     ]
    },
    {
     "name": "stderr",
     "output_type": "stream",
     "text": [
      "2025-01-24 16:38:47,322:INFO -- Action: Keeping the ensemble\n"
     ]
    },
    {
     "name": "stdout",
     "output_type": "stream",
     "text": [
      "STATE:  {'ensemble_state': {'total_energy_consumption': 0.023205572371097348, 'ensemble_size': 16}, 'model_states': {'InceptionResNetV2': {'accuracy': 0.8571428571428571, 'confidence': 0.7591394015720913, 'avg_response_time': 2.068874514048107, 'max_response_time': 2.1382728880039026, 'contribution': 0.7637142345502779}, 'MobileNetV2': {'accuracy': 0.8333333333333334, 'confidence': 0.6838830346862476, 'avg_response_time': 0.09203134619806766, 'max_response_time': 0.14616136826811602, 'contribution': 0.7224564189712207}, 'ResNet50V2': {'accuracy': 0.8085106382978723, 'confidence': 0.7713163938928158, 'avg_response_time': 0.37159535360210433, 'max_response_time': 0.4313962125135385, 'contribution': 0.7830855034767313}, 'ensemble': {'accuracy': 0.8571428571428571, 'confidence': 0.7352494333551787, 'avg_response_time': 6.787612939537473, 'max_response_time': 7.248012610627401, 'contribution': 0.8865125283792421}, 'EfficientNetV2S': {'accuracy': 0.9054054054054054, 'confidence': 0.7901215674103917, 'avg_response_time': 1.1450717530014636, 'max_response_time': 1.1895237146775917, 'contribution': 0.7543913657600815}, 'NASNetLarge': {'accuracy': 0.9041095890410958, 'confidence': 0.7910039359576082, 'avg_response_time': 3.820956364274153, 'max_response_time': 3.896026702975862, 'contribution': 0.7785435045418674}, 'EfficientNetB7': {'accuracy': 0.9295774647887324, 'confidence': 0.6971750036931373, 'avg_response_time': 7.124598027162467, 'max_response_time': 7.235155248866351, 'contribution': 0.6464621126651764}, 'DenseNet201': {'accuracy': 0.8714285714285714, 'confidence': 0.7853777395827429, 'avg_response_time': 0.5827057489444286, 'max_response_time': 0.7171171364734032, 'contribution': 0.7665492027997971}, 'Xception': {'accuracy': 0.8405797101449275, 'confidence': 0.7038334988165593, 'avg_response_time': 0.9911304499225865, 'max_response_time': 1.0693688646426827, 'contribution': 0.7010675301586372}, 'InceptionV3': {'accuracy': 0.8769230769230769, 'confidence': 0.7720931419959435, 'avg_response_time': 0.5757028663561131, 'max_response_time': 0.6754832735299773, 'contribution': 0.7542790036935073}}, 'input_state': {'input_file_length': 14, 'image_height': 224, 'image_width': 224}, 'distribution_weights': [1.0, 1.0, 1.0, 1.0, 1.0, 0.0, 0.0, 0.0, 0.0, 0.0, 0.0, 0.0, 0.0, 0.0, 0.0, 0.0, 0.0, 0.0, 0.0, 0.0]}\n",
      "REWARD:  0.8571428571428571\n"
     ]
    },
    {
     "name": "stderr",
     "output_type": "stream",
     "text": [
      "2025-01-24 16:38:48,015:INFO -- Action: Keeping the ensemble\n"
     ]
    },
    {
     "name": "stdout",
     "output_type": "stream",
     "text": [
      "STATE:  {'ensemble_state': {'total_energy_consumption': 0.023205572371097348, 'ensemble_size': 16}, 'model_states': {'InceptionResNetV2': {'accuracy': 0.8589743589743589, 'confidence': 0.7612940921233251, 'avg_response_time': 2.0694730673472304, 'max_response_time': 2.1382728880039026, 'contribution': 0.7658102733966632}, 'MobileNetV2': {'accuracy': 0.8360655737704918, 'confidence': 0.6882355872724877, 'avg_response_time': 0.0921986598934155, 'max_response_time': 0.14616136826811602, 'contribution': 0.7261766209954121}, 'ResNet50V2': {'accuracy': 0.8125, 'confidence': 0.7739722430706024, 'avg_response_time': 0.372393441893051, 'max_response_time': 0.4313962125135385, 'contribution': 0.7854961628715197}, 'ensemble': {'accuracy': 0.8589743589743589, 'confidence': 0.7366694213662871, 'avg_response_time': 6.791930908891912, 'max_response_time': 7.248012610627401, 'contribution': 0.8878462410125977}, 'EfficientNetV2S': {'accuracy': 0.9066666666666666, 'confidence': 0.7917258270581563, 'avg_response_time': 1.144583382842536, 'max_response_time': 1.1895237146775917, 'contribution': 0.7564720280965169}, 'NASNetLarge': {'accuracy': 0.9054054054054054, 'confidence': 0.7926765535328839, 'avg_response_time': 3.81888677291033, 'max_response_time': 3.896026702975862, 'contribution': 0.780384506325464}, 'EfficientNetB7': {'accuracy': 0.9305555555555556, 'confidence': 0.6979628639916579, 'avg_response_time': 7.12445049403643, 'max_response_time': 7.235155248866351, 'contribution': 0.6479543186724186}, 'DenseNet201': {'accuracy': 0.8732394366197183, 'confidence': 0.7882673786559575, 'avg_response_time': 0.5826543147660038, 'max_response_time': 0.7171171364734032, 'contribution': 0.7697040325319263}, 'Xception': {'accuracy': 0.8428571428571429, 'confidence': 0.7074186810425349, 'avg_response_time': 0.9910700814360098, 'max_response_time': 1.0693688646426827, 'contribution': 0.7046922262225832}, 'InceptionV3': {'accuracy': 0.8787878787878788, 'confidence': 0.7748922795960398, 'avg_response_time': 0.5741121810891656, 'max_response_time': 0.6754832735299773, 'contribution': 0.757348052480004}}, 'input_state': {'input_file_length': 15, 'image_height': 224, 'image_width': 224}, 'distribution_weights': [1.0, 1.0, 1.0, 1.0, 1.0, 0.0, 0.0, 0.0, 0.0, 0.0, 0.0, 0.0, 0.0, 0.0, 0.0, 0.0, 0.0, 0.0, 0.0, 0.0]}\n",
      "REWARD:  0.8589743589743589\n"
     ]
    },
    {
     "name": "stderr",
     "output_type": "stream",
     "text": [
      "2025-01-24 16:38:48,709:INFO -- Action: Replacing a model\n"
     ]
    },
    {
     "name": "stdout",
     "output_type": "stream",
     "text": [
      "STATE:  {'ensemble_state': {'total_energy_consumption': 0.023205572371097348, 'ensemble_size': 16}, 'model_states': {'InceptionResNetV2': {'accuracy': 0.8607594936708861, 'confidence': 0.7636111703100084, 'avg_response_time': 2.0697957781448104, 'max_response_time': 2.1382728880039026, 'contribution': 0.7680701847317852}, 'MobileNetV2': {'accuracy': 0.8387096774193549, 'confidence': 0.690497473843636, 'avg_response_time': 0.0924135401183378, 'max_response_time': 0.14616136826811602, 'contribution': 0.7278265554097391}, 'ResNet50V2': {'accuracy': 0.8163265306122449, 'confidence': 0.7784452061263882, 'avg_response_time': 0.37246564631372925, 'max_response_time': 0.4313962125135385, 'contribution': 0.7897339438905522}, 'ensemble': {'accuracy': 0.8607594936708861, 'confidence': 0.7384308036919355, 'avg_response_time': 6.796347164396697, 'max_response_time': 7.248012610627401, 'contribution': 0.8892371288583248}, 'EfficientNetV2S': {'accuracy': 0.9078947368421053, 'confidence': 0.7926358753129056, 'avg_response_time': 1.144511205189738, 'max_response_time': 1.1895237146775917, 'contribution': 0.7578459421270772}, 'NASNetLarge': {'accuracy': 0.9066666666666666, 'confidence': 0.7940710926055908, 'avg_response_time': 3.8192084371456616, 'max_response_time': 3.896026702975862, 'contribution': 0.7819429393609365}, 'EfficientNetB7': {'accuracy': 0.9315068493150684, 'confidence': 0.6981623331977896, 'avg_response_time': 7.124527275230685, 'max_response_time': 7.235155248866351, 'contribution': 0.6488388364445673}, 'DenseNet201': {'accuracy': 0.875, 'confidence': 0.7908594099183878, 'avg_response_time': 0.5825304254857109, 'max_response_time': 0.7171171364734032, 'contribution': 0.7725538880460792}, 'Xception': {'accuracy': 0.8450704225352113, 'confidence': 0.7080020065038977, 'avg_response_time': 0.9910641202125829, 'max_response_time': 1.0693688646426827, 'contribution': 0.7053139524560579}, 'InceptionV3': {'accuracy': 0.8805970149253731, 'confidence': 0.7765667509676805, 'avg_response_time': 0.5740971988157858, 'max_response_time': 0.6754832735299773, 'contribution': 0.7592843779877051}}, 'input_state': {'input_file_length': 14, 'image_height': 224, 'image_width': 224}, 'distribution_weights': [1.0, 1.0, 1.0, 1.0, 1.0, 0.0, 0.0, 0.0, 0.0, 0.0, 0.0, 0.0, 0.0, 0.0, 0.0, 0.0, 0.0, 0.0, 0.0, 0.0]}\n",
      "REWARD:  0.8607594936708861\n",
      "Worst model: EfficientNetV2L with score: 0.5911481481481482\n",
      "Model 'EfficientNetV2L' successfully removed from the target YAML.\n",
      "Best model: EfficientNetV2L with score: 0.5911481481481482\n",
      "Model 'EfficientNetV2L' successfully added to the target YAML.\n"
     ]
    },
    {
     "name": "stderr",
     "output_type": "stream",
     "text": [
      "2025-01-24 16:38:49,667:INFO -- Action: Adding a model\n"
     ]
    },
    {
     "name": "stdout",
     "output_type": "stream",
     "text": [
      "STATE:  {'ensemble_state': {'total_energy_consumption': 0.023205572371097348, 'ensemble_size': 16}, 'model_states': {'InceptionResNetV2': {'accuracy': 0.8625, 'confidence': 0.7657952420413494, 'avg_response_time': 2.06999468043886, 'max_response_time': 2.1382728880039026, 'contribution': 0.7701985187828541}, 'MobileNetV2': {'accuracy': 0.8412698412698413, 'confidence': 0.6951917348399995, 'avg_response_time': 0.09237756869328081, 'max_response_time': 0.14616136826811602, 'contribution': 0.7319282913018786}, 'ResNet50V2': {'accuracy': 0.82, 'confidence': 0.7828644692897797, 'avg_response_time': 0.37286859916743836, 'max_response_time': 0.4313962125135385, 'contribution': 0.7939274322986603}, 'ensemble': {'accuracy': 0.8625, 'confidence': 0.7408313721216192, 'avg_response_time': 6.800221628847664, 'max_response_time': 7.248012610627401, 'contribution': 0.8906149793416261}, 'EfficientNetV2S': {'accuracy': 0.9090909090909091, 'confidence': 0.7938743883913214, 'avg_response_time': 1.1445259138429575, 'max_response_time': 1.1895237146775917, 'contribution': 0.7595362725195947}, 'NASNetLarge': {'accuracy': 0.9078947368421053, 'confidence': 0.7956031866763768, 'avg_response_time': 3.8191974471177415, 'max_response_time': 3.896026702975862, 'contribution': 0.7836346143954679}, 'EfficientNetB7': {'accuracy': 0.9324324324324325, 'confidence': 0.6995462594000069, 'avg_response_time': 7.124195918761658, 'max_response_time': 7.235155248866351, 'contribution': 0.650889296386693}, 'DenseNet201': {'accuracy': 0.8767123287671232, 'confidence': 0.7937170230362514, 'avg_response_time': 0.5828724605343132, 'max_response_time': 0.7171171364734032, 'contribution': 0.775662261737536}, 'Xception': {'accuracy': 0.8472222222222222, 'confidence': 0.7116275620129373, 'avg_response_time': 0.9913117751844387, 'max_response_time': 1.0693688646426827, 'contribution': 0.7089768420490954}, 'InceptionV3': {'accuracy': 0.8823529411764706, 'confidence': 0.7796789644395604, 'avg_response_time': 0.5740684643577073, 'max_response_time': 0.6754832735299773, 'contribution': 0.762650744003408}}, 'input_state': {'input_file_length': 15, 'image_height': 224, 'image_width': 224}, 'distribution_weights': [1.0, 1.0, 1.0, 1.0, 1.0, 0.0, 0.0, 0.0, 0.0, 0.0, 0.0, 0.0, 0.0, 0.0, 0.0, 0.0, 0.0, 0.0, 0.0, 0.0]}\n",
      "REWARD:  0.8625\n",
      "No eligible models to score.\n"
     ]
    },
    {
     "name": "stderr",
     "output_type": "stream",
     "text": [
      "2025-01-24 16:38:50,356:INFO -- Action: Keeping the ensemble\n"
     ]
    },
    {
     "name": "stdout",
     "output_type": "stream",
     "text": [
      "STATE:  {'ensemble_state': {'total_energy_consumption': 0.023205572371097348, 'ensemble_size': 16}, 'model_states': {'InceptionResNetV2': {'accuracy': 0.8641975308641975, 'confidence': 0.76796492897434, 'avg_response_time': 2.0694943211825376, 'max_response_time': 2.1382728880039026, 'contribution': 0.7723138442745915}, 'MobileNetV2': {'accuracy': 0.84375, 'confidence': 0.6994960564188659, 'avg_response_time': 0.09242166659997052, 'max_response_time': 0.14616136826811602, 'contribution': 0.7356586041860282}, 'ResNet50V2': {'accuracy': 0.8235294117647058, 'confidence': 0.787122014690848, 'avg_response_time': 0.37320773520804945, 'max_response_time': 0.4313962125135385, 'contribution': 0.7979680568564171}, 'ensemble': {'accuracy': 0.8641975308641975, 'confidence': 0.7435566646372311, 'avg_response_time': 6.804606490274612, 'max_response_time': 7.248012610627401, 'contribution': 0.8919654116954332}, 'EfficientNetV2S': {'accuracy': 0.9102564102564102, 'confidence': 0.7956676689478067, 'avg_response_time': 1.1444321676675049, 'max_response_time': 1.1895237146775917, 'contribution': 0.7617697853308457}, 'NASNetLarge': {'accuracy': 0.9090909090909091, 'confidence': 0.7969956250933857, 'avg_response_time': 3.820045318926466, 'max_response_time': 3.896026702975862, 'contribution': 0.7851824888161251}, 'EfficientNetB7': {'accuracy': 0.9333333333333333, 'confidence': 0.7014078422387441, 'avg_response_time': 7.124474588382906, 'max_response_time': 7.235155248866351, 'contribution': 0.6533996387322744}, 'DenseNet201': {'accuracy': 0.8783783783783784, 'confidence': 0.7965045583409232, 'avg_response_time': 0.5832190320319419, 'max_response_time': 0.7171171364734032, 'contribution': 0.7786937803030014}, 'Xception': {'accuracy': 0.8493150684931506, 'confidence': 0.7149977643195897, 'avg_response_time': 0.9900816725789969, 'max_response_time': 1.0693688646426827, 'contribution': 0.7123833555881292}, 'InceptionV3': {'accuracy': 0.8840579710144928, 'confidence': 0.7827947537104288, 'avg_response_time': 0.5739381551297533, 'max_response_time': 0.6754832735299773, 'contribution': 0.7660133190776991}}, 'input_state': {'input_file_length': 13, 'image_height': 224, 'image_width': 224}, 'distribution_weights': [1.0, 1.0, 1.0, 1.0, 1.0, 0.0, 0.0, 0.0, 0.0, 0.0, 0.0, 0.0, 0.0, 0.0, 0.0, 0.0, 0.0, 0.0, 0.0, 0.0]}\n",
      "REWARD:  0.8641975308641975\n"
     ]
    },
    {
     "name": "stderr",
     "output_type": "stream",
     "text": [
      "2025-01-24 16:38:51,114:INFO -- Action: Adding a model\n"
     ]
    },
    {
     "name": "stdout",
     "output_type": "stream",
     "text": [
      "STATE:  {'ensemble_state': {'total_energy_consumption': 0.023205572371097348, 'ensemble_size': 16}, 'model_states': {'InceptionResNetV2': {'accuracy': 0.8658536585365854, 'confidence': 0.7696274271825465, 'avg_response_time': 2.069448468429986, 'max_response_time': 2.1382728880039026, 'contribution': 0.7739233069303559}, 'MobileNetV2': {'accuracy': 0.8461538461538461, 'confidence': 0.7023319762486678, 'avg_response_time': 0.09259198635622137, 'max_response_time': 0.14616136826811602, 'contribution': 0.7379381771271045}, 'ResNet50V2': {'accuracy': 0.8269230769230769, 'confidence': 0.7912075771735265, 'avg_response_time': 0.37362047688481975, 'max_response_time': 0.4313962125135385, 'contribution': 0.8018450416051425}, 'ensemble': {'accuracy': 0.8658536585365854, 'confidence': 0.7459754719769539, 'avg_response_time': 6.809105532087042, 'max_response_time': 7.248012610627401, 'contribution': 0.893277678184393}, 'EfficientNetV2S': {'accuracy': 0.9113924050632911, 'confidence': 0.7969783816156508, 'avg_response_time': 1.1445928164030008, 'max_response_time': 1.1895237146775917, 'contribution': 0.7635095851330818}, 'NASNetLarge': {'accuracy': 0.9102564102564102, 'confidence': 0.7983543360844637, 'avg_response_time': 3.8198211396042874, 'max_response_time': 3.896026702975862, 'contribution': 0.7866926502722961}, 'EfficientNetB7': {'accuracy': 0.9342105263157895, 'confidence': 0.703194264910723, 'avg_response_time': 7.124990889672257, 'max_response_time': 7.235155248866351, 'contribution': 0.6558177482924963}, 'DenseNet201': {'accuracy': 0.88, 'confidence': 0.7991547477245331, 'avg_response_time': 0.5834439479395508, 'max_response_time': 0.7171171364734032, 'contribution': 0.7815814467271169}, 'Xception': {'accuracy': 0.8513513513513513, 'confidence': 0.7179273439420236, 'avg_response_time': 0.9903253940406103, 'max_response_time': 1.0693688646426827, 'contribution': 0.7153482650582855}, 'InceptionV3': {'accuracy': 0.8857142857142857, 'confidence': 0.7855918083872114, 'avg_response_time': 0.574337112830722, 'max_response_time': 0.6754832735299773, 'contribution': 0.7690501085349492}}, 'input_state': {'input_file_length': 14, 'image_height': 224, 'image_width': 224}, 'distribution_weights': [1.0, 1.0, 1.0, 1.0, 1.0, 0.0, 0.0, 0.0, 0.0, 0.0, 0.0, 0.0, 0.0, 0.0, 0.0, 0.0, 0.0, 0.0, 0.0, 0.0]}\n",
      "REWARD:  0.8658536585365854\n",
      "No eligible models to score.\n",
      "STATE:  {'ensemble_state': {'total_energy_consumption': 0.023205572371097348, 'ensemble_size': 16}, 'model_states': {'InceptionResNetV2': {'accuracy': 0.8674698795180723, 'confidence': 0.7700327455279339, 'avg_response_time': 2.0687310835248844, 'max_response_time': 2.1382728880039026, 'contribution': 0.7742768676884203}, 'MobileNetV2': {'accuracy': 0.8484848484848485, 'confidence': 0.703528831854011, 'avg_response_time': 0.09279557272055536, 'max_response_time': 0.14616136826811602, 'contribution': 0.7385955448403503}, 'ResNet50V2': {'accuracy': 0.8113207547169812, 'confidence': 0.7762791323211958, 'avg_response_time': 0.37388189146196216, 'max_response_time': 0.4313962125135385, 'contribution': 0.7867158898767436}, 'ensemble': {'accuracy': 0.8674698795180723, 'confidence': 0.7461725453653866, 'avg_response_time': 6.812483178994259, 'max_response_time': 7.248012610627401, 'contribution': 0.8937367470149534}, 'EfficientNetV2S': {'accuracy': 0.9125, 'confidence': 0.7954122088849545, 'avg_response_time': 1.1443787585757916, 'max_response_time': 1.1895237146775917, 'contribution': 0.7623617723584175}, 'NASNetLarge': {'accuracy': 0.9113924050632911, 'confidence': 0.799003247218796, 'avg_response_time': 3.819513878054461, 'max_response_time': 3.896026702975862, 'contribution': 0.7874891776827317}, 'EfficientNetB7': {'accuracy': 0.935064935064935, 'confidence': 0.7041031048669444, 'avg_response_time': 7.124387938677976, 'max_response_time': 7.235155248866351, 'contribution': 0.657341867685318}, 'DenseNet201': {'accuracy': 0.881578947368421, 'confidence': 0.8008698323055318, 'avg_response_time': 0.5836284476142322, 'max_response_time': 0.7171171364734032, 'contribution': 0.7835277589528185}, 'Xception': {'accuracy': 0.8533333333333334, 'confidence': 0.7163049562772115, 'avg_response_time': 0.9904130883287215, 'max_response_time': 1.0693688646426827, 'contribution': 0.7137602651119233}, 'InceptionV3': {'accuracy': 0.8873239436619719, 'confidence': 0.7841839093557545, 'avg_response_time': 0.5742572853665779, 'max_response_time': 0.6754832735299773, 'contribution': 0.7678751911915523}}, 'input_state': {'input_file_length': 33, 'image_height': 224, 'image_width': 224}, 'distribution_weights': [1.0, 1.0, 1.0, 1.0, 1.0, 0.0, 0.0, 0.0, 0.0, 0.0, 0.0, 0.0, 0.0, 0.0, 0.0, 0.0, 0.0, 0.0, 0.0, 0.0]}\n",
      "REWARD:  0.8674698795180723\n",
      "No eligible models to score.\n"
     ]
    },
    {
     "name": "stderr",
     "output_type": "stream",
     "text": [
      "2025-01-24 16:38:52,016:INFO -- Action: Adding a model\n",
      "2025-01-24 16:38:52,738:INFO -- Action: Keeping the ensemble\n"
     ]
    },
    {
     "name": "stdout",
     "output_type": "stream",
     "text": [
      "STATE:  {'ensemble_state': {'total_energy_consumption': 0.023205572371097348, 'ensemble_size': 16}, 'model_states': {'InceptionResNetV2': {'accuracy': 0.8690476190476191, 'confidence': 0.7720599720875422, 'avg_response_time': 2.0685410624843152, 'max_response_time': 2.1382728880039026, 'contribution': 0.7762535689842134}, 'MobileNetV2': {'accuracy': 0.8507462686567164, 'confidence': 0.7075171590741001, 'avg_response_time': 0.09291481310856592, 'max_response_time': 0.14616136826811602, 'contribution': 0.7420604882845238}, 'ResNet50V2': {'accuracy': 0.8148148148148148, 'confidence': 0.7784214704125015, 'avg_response_time': 0.37409237021158015, 'max_response_time': 0.4313962125135385, 'contribution': 0.7886649546799837}, 'ensemble': {'accuracy': 0.8690476190476191, 'confidence': 0.748078724824568, 'avg_response_time': 6.816537543420127, 'max_response_time': 7.248012610627401, 'contribution': 0.8950008576114973}, 'EfficientNetV2S': {'accuracy': 0.9135802469135802, 'confidence': 0.7968119323989491, 'avg_response_time': 1.1443842151819135, 'max_response_time': 1.1895237146775917, 'contribution': 0.7641695259529867}, 'NASNetLarge': {'accuracy': 0.9125, 'confidence': 0.8000636607408523, 'avg_response_time': 3.819730896677916, 'max_response_time': 3.896026702975862, 'contribution': 0.7886935170739889}, 'EfficientNetB7': {'accuracy': 0.9358974358974359, 'confidence': 0.7059238044879376, 'avg_response_time': 7.124666045983163, 'max_response_time': 7.235155248866351, 'contribution': 0.6597620703471012}, 'DenseNet201': {'accuracy': 0.8831168831168831, 'confidence': 0.803454925874611, 'avg_response_time': 0.584011902724194, 'max_response_time': 0.7171171364734032, 'contribution': 0.7863380742537511}, 'Xception': {'accuracy': 0.8552631578947368, 'confidence': 0.7165962975276144, 'avg_response_time': 0.9904428252796071, 'max_response_time': 1.0693688646426827, 'contribution': 0.7140850891408167}, 'InceptionV3': {'accuracy': 0.8888888888888888, 'confidence': 0.7870273242394129, 'avg_response_time': 0.5741703197741619, 'max_response_time': 0.6754832735299773, 'contribution': 0.7709451160497136}}, 'input_state': {'input_file_length': 33, 'image_height': 224, 'image_width': 224}, 'distribution_weights': [1.0, 1.0, 1.0, 1.0, 1.0, 0.0, 0.0, 0.0, 0.0, 0.0, 0.0, 0.0, 0.0, 0.0, 0.0, 0.0, 0.0, 0.0, 0.0, 0.0]}\n",
      "REWARD:  0.8690476190476191\n"
     ]
    },
    {
     "name": "stderr",
     "output_type": "stream",
     "text": [
      "2025-01-24 16:38:53,440:INFO -- Action: Keeping the ensemble\n"
     ]
    },
    {
     "name": "stdout",
     "output_type": "stream",
     "text": [
      "STATE:  {'ensemble_state': {'total_energy_consumption': 0.023205572371097348, 'ensemble_size': 16}, 'model_states': {'InceptionResNetV2': {'accuracy': 0.8705882352941177, 'confidence': 0.7741840173216427, 'avg_response_time': 2.069454874018186, 'max_response_time': 2.1462150428633615, 'contribution': 0.7783282777842353}, 'MobileNetV2': {'accuracy': 0.8529411764705882, 'confidence': 0.7044991714989438, 'avg_response_time': 0.0932306604336911, 'max_response_time': 0.14616136826811602, 'contribution': 0.7385345105739201}, 'ResNet50V2': {'accuracy': 0.8181818181818182, 'confidence': 0.7718498322096738, 'avg_response_time': 0.37485155598181635, 'max_response_time': 0.4313962125135385, 'contribution': 0.7819070713086562}, 'ensemble': {'accuracy': 0.8705882352941177, 'confidence': 0.748274510834915, 'avg_response_time': 6.8199428605467265, 'max_response_time': 7.248012610627401, 'contribution': 0.8958488271516912}, 'EfficientNetV2S': {'accuracy': 0.9146341463414634, 'confidence': 0.7981095314025879, 'avg_response_time': 1.1443687059777292, 'max_response_time': 1.1895237146775917, 'contribution': 0.7658652030840153}, 'NASNetLarge': {'accuracy': 0.9135802469135802, 'confidence': 0.8012754225436552, 'avg_response_time': 3.819497272061875, 'max_response_time': 3.896026702975862, 'contribution': 0.7900456510208271}, 'EfficientNetB7': {'accuracy': 0.9367088607594937, 'confidence': 0.7046795242194888, 'avg_response_time': 7.124276455430688, 'max_response_time': 7.235155248866351, 'contribution': 0.6591021158272707}, 'DenseNet201': {'accuracy': 0.8846153846153846, 'confidence': 0.8049233651314026, 'avg_response_time': 0.5840920957418094, 'max_response_time': 0.7171171364734032, 'contribution': 0.7880259603261948}, 'Xception': {'accuracy': 0.8571428571428571, 'confidence': 0.7190548692430768, 'avg_response_time': 0.9903020107068575, 'max_response_time': 1.0693688646426827, 'contribution': 0.7165762739522117}, 'InceptionV3': {'accuracy': 0.8904109589041096, 'confidence': 0.7882110321358459, 'avg_response_time': 0.5740997873938625, 'max_response_time': 0.6754832735299773, 'contribution': 0.7723491281679232}}, 'input_state': {'input_file_length': 15, 'image_height': 224, 'image_width': 224}, 'distribution_weights': [1.0, 1.0, 1.0, 1.0, 1.0, 0.0, 0.0, 0.0, 0.0, 0.0, 0.0, 0.0, 0.0, 0.0, 0.0, 0.0, 0.0, 0.0, 0.0, 0.0]}\n",
      "REWARD:  0.8705882352941177\n"
     ]
    },
    {
     "name": "stderr",
     "output_type": "stream",
     "text": [
      "2025-01-24 16:38:54,209:INFO -- Action: Adding a model\n"
     ]
    },
    {
     "name": "stdout",
     "output_type": "stream",
     "text": [
      "STATE:  {'ensemble_state': {'total_energy_consumption': 0.023205572371097348, 'ensemble_size': 16}, 'model_states': {'InceptionResNetV2': {'accuracy': 0.872093023255814, 'confidence': 0.7720139338526615, 'avg_response_time': 2.0691751696983887, 'max_response_time': 2.1462150428633615, 'contribution': 0.7761100052401076}, 'MobileNetV2': {'accuracy': 0.8405797101449275, 'confidence': 0.6942890385786692, 'avg_response_time': 0.09317685453416498, 'max_response_time': 0.14616136826811602, 'contribution': 0.7278311118699502}, 'ResNet50V2': {'accuracy': 0.8035714285714286, 'confidence': 0.7580667994916439, 'avg_response_time': 0.37504610994337945, 'max_response_time': 0.4313962125135385, 'contribution': 0.7679444450352874}, 'ensemble': {'accuracy': 0.872093023255814, 'confidence': 0.7477223904028387, 'avg_response_time': 6.823332806029222, 'max_response_time': 7.248012610627401, 'contribution': 0.8953868064076401}, 'EfficientNetV2S': {'accuracy': 0.9156626506024096, 'confidence': 0.7988083929900663, 'avg_response_time': 1.14425231903915, 'max_response_time': 1.1895237146775917, 'contribution': 0.76695255055485}, 'NASNetLarge': {'accuracy': 0.9146341463414634, 'confidence': 0.8006753216429454, 'avg_response_time': 3.8196234222582683, 'max_response_time': 3.896026702975862, 'contribution': 0.7895824985533226}, 'EfficientNetB7': {'accuracy': 0.9375, 'confidence': 0.7026865843683481, 'avg_response_time': 7.1239802555919125, 'max_response_time': 7.235155248866351, 'contribution': 0.6576788935810327}, 'DenseNet201': {'accuracy': 0.8860759493670886, 'confidence': 0.8052397532553612, 'avg_response_time': 0.5841142852008173, 'max_response_time': 0.7171171364734032, 'contribution': 0.7885562396502193}, 'Xception': {'accuracy': 0.8461538461538461, 'confidence': 0.7098362170732938, 'avg_response_time': 0.9905095596977, 'max_response_time': 1.0693688646426827, 'contribution': 0.7073893986451321}, 'InceptionV3': {'accuracy': 0.8783783783783784, 'confidence': 0.7775595317015777, 'avg_response_time': 0.5740827148757708, 'max_response_time': 0.6754832735299773, 'contribution': 0.7619119777872756}}, 'input_state': {'input_file_length': 15, 'image_height': 224, 'image_width': 224}, 'distribution_weights': [1.0, 1.0, 1.0, 1.0, 1.0, 0.0, 0.0, 0.0, 0.0, 0.0, 0.0, 0.0, 0.0, 0.0, 0.0, 0.0, 0.0, 0.0, 0.0, 0.0]}\n",
      "REWARD:  0.872093023255814\n",
      "No eligible models to score.\n"
     ]
    },
    {
     "name": "stderr",
     "output_type": "stream",
     "text": [
      "2025-01-24 16:38:55,078:INFO -- Action: Keeping the ensemble\n"
     ]
    },
    {
     "name": "stdout",
     "output_type": "stream",
     "text": [
      "STATE:  {'ensemble_state': {'total_energy_consumption': 0.023205572371097348, 'ensemble_size': 16}, 'model_states': {'InceptionResNetV2': {'accuracy': 0.8735632183908046, 'confidence': 0.7737577345179415, 'avg_response_time': 2.0691763695961027, 'max_response_time': 2.1462150428633615, 'contribution': 0.7778067246250723}, 'MobileNetV2': {'accuracy': 0.8428571428571429, 'confidence': 0.6971247566597802, 'avg_response_time': 0.09319409347703146, 'max_response_time': 0.14616136826811602, 'contribution': 0.7301876574754715}, 'ResNet50V2': {'accuracy': 0.8070175438596491, 'confidence': 0.7619022449903321, 'avg_response_time': 0.3755753806069584, 'max_response_time': 0.4313962125135385, 'contribution': 0.7716065985068941}, 'ensemble': {'accuracy': 0.8735632183908046, 'confidence': 0.7498013521452941, 'avg_response_time': 6.8270394630433335, 'max_response_time': 7.248012610627401, 'contribution': 0.8965821166833242}, 'EfficientNetV2S': {'accuracy': 0.9166666666666666, 'confidence': 0.8004739731550217, 'avg_response_time': 1.1441860481073318, 'max_response_time': 1.1895237146775917, 'contribution': 0.7689973669392722}, 'NASNetLarge': {'accuracy': 0.9156626506024096, 'confidence': 0.8019050639795969, 'avg_response_time': 3.819170921185241, 'max_response_time': 3.896026702975862, 'contribution': 0.7909458893609335}, 'EfficientNetB7': {'accuracy': 0.9382716049382716, 'confidence': 0.7034755492651904, 'avg_response_time': 7.124096036966324, 'max_response_time': 7.235155248866351, 'contribution': 0.6590235089814221}, 'DenseNet201': {'accuracy': 0.8875, 'confidence': 0.8075691979378462, 'avg_response_time': 0.5842550624830938, 'max_response_time': 0.7171171364734032, 'contribution': 0.7910942282527685}, 'Xception': {'accuracy': 0.8481012658227848, 'confidence': 0.712403645998315, 'avg_response_time': 0.9903810543736365, 'max_response_time': 1.0693688646426827, 'contribution': 0.7099877999553198}, 'InceptionV3': {'accuracy': 0.88, 'confidence': 0.7799446193377176, 'avg_response_time': 0.5743082684117238, 'max_response_time': 0.6754832735299773, 'contribution': 0.7645056994756063}}, 'input_state': {'input_file_length': 15, 'image_height': 224, 'image_width': 224}, 'distribution_weights': [1.0, 1.0, 1.0, 1.0, 1.0, 0.0, 0.0, 0.0, 0.0, 0.0, 0.0, 0.0, 0.0, 0.0, 0.0, 0.0, 0.0, 0.0, 0.0, 0.0]}\n",
      "REWARD:  0.8735632183908046\n"
     ]
    },
    {
     "name": "stderr",
     "output_type": "stream",
     "text": [
      "2025-01-24 16:38:55,945:INFO -- Action: Keeping the ensemble\n"
     ]
    },
    {
     "name": "stdout",
     "output_type": "stream",
     "text": [
      "STATE:  {'ensemble_state': {'total_energy_consumption': 0.023205572371097348, 'ensemble_size': 16}, 'model_states': {'InceptionResNetV2': {'accuracy': 0.875, 'confidence': 0.7741331268440593, 'avg_response_time': 2.068948650712304, 'max_response_time': 2.1462150428633615, 'contribution': 0.7781361056999727}, 'MobileNetV2': {'accuracy': 0.8450704225352113, 'confidence': 0.6947442599585358, 'avg_response_time': 0.09329799654063296, 'max_response_time': 0.14616136826811602, 'contribution': 0.7273414861148512}, 'ResNet50V2': {'accuracy': 0.8103448275862069, 'confidence': 0.7658868046670124, 'avg_response_time': 0.37627193291429645, 'max_response_time': 0.4313962125135385, 'contribution': 0.7754238417436337}, 'ensemble': {'accuracy': 0.875, 'confidence': 0.7492844590020742, 'avg_response_time': 6.830038496446105, 'max_response_time': 7.248012610627401, 'contribution': 0.8976778506555341}, 'EfficientNetV2S': {'accuracy': 0.9176470588235294, 'confidence': 0.7984370098394507, 'avg_response_time': 1.1443676217137062, 'max_response_time': 1.1895237146775917, 'contribution': 0.7673307166380041}, 'NASNetLarge': {'accuracy': 0.9166666666666666, 'confidence': 0.802916440935362, 'avg_response_time': 3.81936179159478, 'max_response_time': 3.896026702975862, 'contribution': 0.7920877326812062}, 'EfficientNetB7': {'accuracy': 0.9390243902439024, 'confidence': 0.7022625778506442, 'avg_response_time': 7.123645064620192, 'max_response_time': 7.235155248866351, 'contribution': 0.6583526356191169}, 'DenseNet201': {'accuracy': 0.8888888888888888, 'confidence': 0.8094354474250182, 'avg_response_time': 0.5844879609183292, 'max_response_time': 0.7171171364734032, 'contribution': 0.7931638724274106}, 'Xception': {'accuracy': 0.85, 'confidence': 0.7104473993182182, 'avg_response_time': 0.9904312861553519, 'max_response_time': 1.0693688646426827, 'contribution': 0.7080617513507604}, 'InceptionV3': {'accuracy': 0.868421052631579, 'confidence': 0.7696821901359057, 'avg_response_time': 0.5743477639231455, 'max_response_time': 0.6754832735299773, 'contribution': 0.7544464139561904}}, 'input_state': {'input_file_length': 15, 'image_height': 224, 'image_width': 224}, 'distribution_weights': [1.0, 1.0, 1.0, 1.0, 1.0, 0.0, 0.0, 0.0, 0.0, 0.0, 0.0, 0.0, 0.0, 0.0, 0.0, 0.0, 0.0, 0.0, 0.0, 0.0]}\n",
      "REWARD:  0.875\n"
     ]
    },
    {
     "name": "stderr",
     "output_type": "stream",
     "text": [
      "2025-01-24 16:38:56,791:INFO -- Action: Replacing a model\n"
     ]
    },
    {
     "name": "stdout",
     "output_type": "stream",
     "text": [
      "STATE:  {'ensemble_state': {'total_energy_consumption': 0.023205572371097348, 'ensemble_size': 16}, 'model_states': {'InceptionResNetV2': {'accuracy': 0.8764044943820225, 'confidence': 0.7757555574513553, 'avg_response_time': 2.068813466631626, 'max_response_time': 2.1462150428633615, 'contribution': 0.7797135590167528}, 'MobileNetV2': {'accuracy': 0.8472222222222222, 'confidence': 0.6983136290477382, 'avg_response_time': 0.09337186930278062, 'max_response_time': 0.14616136826811602, 'contribution': 0.7304581159518825}, 'ResNet50V2': {'accuracy': 0.8135593220338984, 'confidence': 0.7649906868651762, 'avg_response_time': 0.37662860527160436, 'max_response_time': 0.4313962125135385, 'contribution': 0.7743660792455835}, 'ensemble': {'accuracy': 0.8764044943820225, 'confidence': 0.7509735998261129, 'avg_response_time': 6.833419699429029, 'max_response_time': 7.248012610627401, 'contribution': 0.8987510341606783}, 'EfficientNetV2S': {'accuracy': 0.9186046511627907, 'confidence': 0.7996825215428375, 'avg_response_time': 1.1443053617086185, 'max_response_time': 1.1895237146775917, 'contribution': 0.7689379294251286}, 'NASNetLarge': {'accuracy': 0.9176470588235294, 'confidence': 0.8041986598688013, 'avg_response_time': 3.8192992909969012, 'max_response_time': 3.896026702975862, 'contribution': 0.7934973481823416}, 'EfficientNetB7': {'accuracy': 0.9397590361445783, 'confidence': 0.703701614974493, 'avg_response_time': 7.1235956225429184, 'max_response_time': 7.235155248866351, 'contribution': 0.6603207081915384}, 'DenseNet201': {'accuracy': 0.8902439024390244, 'confidence': 0.8116167045947982, 'avg_response_time': 0.5845577759707521, 'max_response_time': 0.7171171364734032, 'contribution': 0.7955435634386249}, 'Xception': {'accuracy': 0.8518518518518519, 'confidence': 0.7131738427244587, 'avg_response_time': 0.9906799448875596, 'max_response_time': 1.0693688646426827, 'contribution': 0.7108176472010436}, 'InceptionV3': {'accuracy': 0.8701298701298701, 'confidence': 0.7721006220037286, 'avg_response_time': 0.5741054450813418, 'max_response_time': 0.6754832735299773, 'contribution': 0.7570627130471267}}, 'input_state': {'input_file_length': 14, 'image_height': 224, 'image_width': 224}, 'distribution_weights': [1.0, 1.0, 1.0, 1.0, 1.0, 0.0, 0.0, 0.0, 0.0, 0.0, 0.0, 0.0, 0.0, 0.0, 0.0, 0.0, 0.0, 0.0, 0.0, 0.0]}\n",
      "REWARD:  0.8764044943820225\n",
      "Worst model: EfficientNetV2L with score: 0.5911481481481482\n",
      "Model 'EfficientNetV2L' successfully removed from the target YAML.\n",
      "Best model: EfficientNetV2L with score: 0.5911481481481482\n",
      "Model 'EfficientNetV2L' successfully added to the target YAML.\n"
     ]
    },
    {
     "name": "stderr",
     "output_type": "stream",
     "text": [
      "2025-01-24 16:38:57,856:INFO -- Action: Replacing a model\n"
     ]
    },
    {
     "name": "stdout",
     "output_type": "stream",
     "text": [
      "STATE:  {'ensemble_state': {'total_energy_consumption': 0.023205572371097348, 'ensemble_size': 16}, 'model_states': {'InceptionResNetV2': {'accuracy': 0.8777777777777778, 'confidence': 0.7773025035858154, 'avg_response_time': 2.0684942819883805, 'max_response_time': 2.1462150428633615, 'contribution': 0.7812165273560419}, 'MobileNetV2': {'accuracy': 0.8493150684931506, 'confidence': 0.7008484695872216, 'avg_response_time': 0.09343969992475443, 'max_response_time': 0.14616136826811602, 'contribution': 0.7325526210543227}, 'ResNet50V2': {'accuracy': 0.8166666666666667, 'confidence': 0.7689075087507565, 'avg_response_time': 0.37646203885784196, 'max_response_time': 0.4313962125135385, 'contribution': 0.7781266445914904}, 'ensemble': {'accuracy': 0.8777777777777778, 'confidence': 0.7525502975236329, 'avg_response_time': 6.836476932830385, 'max_response_time': 7.248012610627401, 'contribution': 0.8998760226700041}, 'EfficientNetV2S': {'accuracy': 0.9195402298850575, 'confidence': 0.8008103233644333, 'avg_response_time': 1.1446155281974517, 'max_response_time': 1.1895237146775917, 'contribution': 0.7704191173630199}, 'NASNetLarge': {'accuracy': 0.9186046511627907, 'confidence': 0.8054553651532461, 'avg_response_time': 3.81927163568829, 'max_response_time': 3.896026702975862, 'contribution': 0.7948784873236058}, 'EfficientNetB7': {'accuracy': 0.9404761904761905, 'confidence': 0.7020827059944471, 'avg_response_time': 7.12329136811867, 'max_response_time': 7.235155248866351, 'contribution': 0.6592182385779563}, 'DenseNet201': {'accuracy': 0.891566265060241, 'confidence': 0.8138805272349392, 'avg_response_time': 0.5844171455884738, 'max_response_time': 0.7171171364734032, 'contribution': 0.7980010383818523}, 'Xception': {'accuracy': 0.8536585365853658, 'confidence': 0.7154271748007798, 'avg_response_time': 0.9908855914667661, 'max_response_time': 1.0693688646426827, 'contribution': 0.7130997133691136}, 'InceptionV3': {'accuracy': 0.8717948717948718, 'confidence': 0.7748952439198127, 'avg_response_time': 0.5743006562126077, 'max_response_time': 0.6754832735299773, 'contribution': 0.7600501286677825}}, 'input_state': {'input_file_length': 15, 'image_height': 224, 'image_width': 224}, 'distribution_weights': [1.0, 1.0, 1.0, 1.0, 1.0, 0.0, 0.0, 0.0, 0.0, 0.0, 0.0, 0.0, 0.0, 0.0, 0.0, 0.0, 0.0, 0.0, 0.0, 0.0]}\n",
      "REWARD:  0.8777777777777778\n",
      "Worst model: EfficientNetV2L with score: 0.5911481481481482\n",
      "Model 'EfficientNetV2L' successfully removed from the target YAML.\n",
      "Best model: EfficientNetV2L with score: 0.5911481481481482\n",
      "Model 'EfficientNetV2L' successfully added to the target YAML.\n"
     ]
    },
    {
     "name": "stderr",
     "output_type": "stream",
     "text": [
      "2025-01-24 16:38:58,894:INFO -- Action: Keeping the ensemble\n"
     ]
    },
    {
     "name": "stdout",
     "output_type": "stream",
     "text": [
      "STATE:  {'ensemble_state': {'total_energy_consumption': 0.023205572371097348, 'ensemble_size': 16}, 'model_states': {'InceptionResNetV2': {'accuracy': 0.8791208791208791, 'confidence': 0.7787392106685009, 'avg_response_time': 2.0679887099130103, 'max_response_time': 2.1462150428633615, 'contribution': 0.782610223188505}, 'MobileNetV2': {'accuracy': 0.8513513513513513, 'confidence': 0.6989436403319642, 'avg_response_time': 0.09356405846984636, 'max_response_time': 0.14616136826811602, 'contribution': 0.7302193573197803}, 'ResNet50V2': {'accuracy': 0.8032786885245902, 'confidence': 0.756302467623695, 'avg_response_time': 0.37674089636687613, 'max_response_time': 0.4313962125135385, 'contribution': 0.7653704700899906}, 'ensemble': {'accuracy': 0.8791208791208791, 'confidence': 0.7519164102332105, 'avg_response_time': 6.839426432476183, 'max_response_time': 7.248012610627401, 'contribution': 0.8999657680045118}, 'EfficientNetV2S': {'accuracy': 0.9204545454545454, 'confidence': 0.8018836934458126, 'avg_response_time': 1.1446679515457314, 'max_response_time': 1.1895237146775917, 'contribution': 0.7718378420580517}, 'NASNetLarge': {'accuracy': 0.9195402298850575, 'confidence': 0.8054122828889168, 'avg_response_time': 3.819213645901393, 'max_response_time': 3.896026702975862, 'contribution': 0.794956978367663}, 'EfficientNetB7': {'accuracy': 0.9411764705882353, 'confidence': 0.7016275290180655, 'avg_response_time': 7.122921211937983, 'max_response_time': 7.235155248866351, 'contribution': 0.6592673494535334}, 'DenseNet201': {'accuracy': 0.8928571428571429, 'confidence': 0.814427990643751, 'avg_response_time': 0.5842131611353617, 'max_response_time': 0.7171171364734032, 'contribution': 0.7987375433246294}, 'Xception': {'accuracy': 0.8554216867469879, 'confidence': 0.7143855655049703, 'avg_response_time': 0.9909990307899922, 'max_response_time': 1.0693688646426827, 'contribution': 0.7120861457773002}, 'InceptionV3': {'accuracy': 0.8734177215189873, 'confidence': 0.7748222252990626, 'avg_response_time': 0.5740801697547527, 'max_response_time': 0.6754832735299773, 'contribution': 0.7601650228983239}}, 'input_state': {'input_file_length': 14, 'image_height': 224, 'image_width': 224}, 'distribution_weights': [1.0, 1.0, 1.0, 1.0, 1.0, 0.0, 0.0, 0.0, 0.0, 0.0, 0.0, 0.0, 0.0, 0.0, 0.0, 0.0, 0.0, 0.0, 0.0, 0.0]}\n",
      "REWARD:  0.8791208791208791\n"
     ]
    },
    {
     "name": "stderr",
     "output_type": "stream",
     "text": [
      "2025-01-24 16:38:59,697:INFO -- Action: Replacing a model\n"
     ]
    },
    {
     "name": "stdout",
     "output_type": "stream",
     "text": [
      "STATE:  {'ensemble_state': {'total_energy_consumption': 0.023205572371097348, 'ensemble_size': 16}, 'model_states': {'InceptionResNetV2': {'accuracy': 0.8804347826086957, 'confidence': 0.7775141590315363, 'avg_response_time': 2.0681559025118834, 'max_response_time': 2.1462150428633615, 'contribution': 0.7813430953284969}, 'MobileNetV2': {'accuracy': 0.84, 'confidence': 0.6896243917942048, 'avg_response_time': 0.09356111797949697, 'max_response_time': 0.14616136826811602, 'contribution': 0.7204830992221832}, 'ResNet50V2': {'accuracy': 0.7903225806451613, 'confidence': 0.7441040407265386, 'avg_response_time': 0.3773492439727316, 'max_response_time': 0.4313962125135385, 'contribution': 0.7530257850885391}, 'ensemble': {'accuracy': 0.8804347826086957, 'confidence': 0.7520144876421552, 'avg_response_time': 6.842670787856005, 'max_response_time': 7.248012610627401, 'contribution': 0.9004157551604769}, 'EfficientNetV2S': {'accuracy': 0.9213483146067416, 'confidence': 0.803450894489717, 'avg_response_time': 1.1447795134227825, 'max_response_time': 1.1895237146775917, 'contribution': 0.7737426369377737}, 'NASNetLarge': {'accuracy': 0.9204545454545454, 'confidence': 0.8066107840700583, 'avg_response_time': 3.819379118890842, 'max_response_time': 3.896026702975862, 'contribution': 0.7962742898274552}, 'EfficientNetB7': {'accuracy': 0.9418604651162791, 'confidence': 0.7020834604668063, 'avg_response_time': 7.1229931332578404, 'max_response_time': 7.235155248866351, 'contribution': 0.6602158411297687}, 'DenseNet201': {'accuracy': 0.8941176470588236, 'confidence': 0.8140822301892673, 'avg_response_time': 0.5840952101105998, 'max_response_time': 0.7171171364734032, 'contribution': 0.7985763763680177}, 'Xception': {'accuracy': 0.8571428571428571, 'confidence': 0.7170658026422773, 'avg_response_time': 0.9910900686347791, 'max_response_time': 1.0693688646426827, 'contribution': 0.7147937569589842}, 'InceptionV3': {'accuracy': 0.875, 'confidence': 0.7726163245737553, 'avg_response_time': 0.5740332199921517, 'max_response_time': 0.6754832735299773, 'contribution': 0.7581423372030258}}, 'input_state': {'input_file_length': 15, 'image_height': 224, 'image_width': 224}, 'distribution_weights': [1.0, 1.0, 1.0, 1.0, 1.0, 0.0, 0.0, 0.0, 0.0, 0.0, 0.0, 0.0, 0.0, 0.0, 0.0, 0.0, 0.0, 0.0, 0.0, 0.0]}\n",
      "REWARD:  0.8804347826086957\n",
      "Worst model: EfficientNetV2L with score: 0.5911481481481482\n",
      "Model 'EfficientNetV2L' successfully removed from the target YAML.\n",
      "Best model: EfficientNetV2L with score: 0.5911481481481482\n",
      "Model 'EfficientNetV2L' successfully added to the target YAML.\n"
     ]
    },
    {
     "name": "stderr",
     "output_type": "stream",
     "text": [
      "2025-01-24 16:39:00,752:INFO -- Action: Adding a model\n"
     ]
    },
    {
     "name": "stdout",
     "output_type": "stream",
     "text": [
      "STATE:  {'ensemble_state': {'total_energy_consumption': 0.023205572371097348, 'ensemble_size': 16}, 'model_states': {'InceptionResNetV2': {'accuracy': 0.8817204301075269, 'confidence': 0.7795462121245682, 'avg_response_time': 2.0671176875371304, 'max_response_time': 2.1462150428633615, 'contribution': 0.783333977063497}, 'MobileNetV2': {'accuracy': 0.8421052631578947, 'confidence': 0.6905852889544085, 'avg_response_time': 0.09351353476648701, 'max_response_time': 0.14616136826811602, 'contribution': 0.7210379607583347}, 'ResNet50V2': {'accuracy': 0.7777777777777778, 'confidence': 0.7322928654769111, 'avg_response_time': 0.3780035725480147, 'max_response_time': 0.4313962125135385, 'contribution': 0.7410729948490385}, 'ensemble': {'accuracy': 0.8817204301075269, 'confidence': 0.7528111804105959, 'avg_response_time': 6.845052933464812, 'max_response_time': 7.248012610627401, 'contribution': 0.9011262857144878}, 'EfficientNetV2S': {'accuracy': 0.9222222222222223, 'confidence': 0.8044210222032335, 'avg_response_time': 1.1448772745363647, 'max_response_time': 1.1895237146775917, 'contribution': 0.7750428564018673}, 'NASNetLarge': {'accuracy': 0.9213483146067416, 'confidence': 0.8079695360044415, 'avg_response_time': 3.8190024805429235, 'max_response_time': 3.896026702975862, 'contribution': 0.7977491821465867}, 'EfficientNetB7': {'accuracy': 0.9425287356321839, 'confidence': 0.7031671983757238, 'avg_response_time': 7.1222045980876105, 'max_response_time': 7.235155248866351, 'contribution': 0.6617808160425602}, 'DenseNet201': {'accuracy': 0.8953488372093024, 'confidence': 0.8120792435352192, 'avg_response_time': 0.5838931948988162, 'max_response_time': 0.7171171364734032, 'contribution': 0.7967536903397981}, 'Xception': {'accuracy': 0.8588235294117647, 'confidence': 0.7191604410900789, 'avg_response_time': 0.9910230754000637, 'max_response_time': 1.0693688646426827, 'contribution': 0.716915125356001}, 'InceptionV3': {'accuracy': 0.8765432098765432, 'confidence': 0.7729808062682917, 'avg_response_time': 0.5741826226475915, 'max_response_time': 0.6754832735299773, 'contribution': 0.75868551009967}}, 'input_state': {'input_file_length': 14, 'image_height': 224, 'image_width': 224}, 'distribution_weights': [1.0, 1.0, 1.0, 1.0, 1.0, 0.0, 0.0, 0.0, 0.0, 0.0, 0.0, 0.0, 0.0, 0.0, 0.0, 0.0, 0.0, 0.0, 0.0, 0.0]}\n",
      "REWARD:  0.8817204301075269\n",
      "No eligible models to score.\n"
     ]
    },
    {
     "name": "stderr",
     "output_type": "stream",
     "text": [
      "2025-01-24 16:39:01,563:INFO -- Action: Keeping the ensemble\n"
     ]
    },
    {
     "name": "stdout",
     "output_type": "stream",
     "text": [
      "STATE:  {'ensemble_state': {'total_energy_consumption': 0.023205572371097348, 'ensemble_size': 16}, 'model_states': {'InceptionResNetV2': {'accuracy': 0.8829787234042553, 'confidence': 0.7811394745999194, 'avg_response_time': 2.067099234878806, 'max_response_time': 2.1462150428633615, 'contribution': 0.7848869441671574}, 'MobileNetV2': {'accuracy': 0.8441558441558441, 'confidence': 0.6944129455399204, 'avg_response_time': 0.09362269190195265, 'max_response_time': 0.14616136826811602, 'contribution': 0.7244701280996397}, 'ResNet50V2': {'accuracy': 0.78125, 'confidence': 0.7364721414633095, 'avg_response_time': 0.3786614125967624, 'max_response_time': 0.4313962125135385, 'contribution': 0.7451150813139975}, 'ensemble': {'accuracy': 0.8829787234042553, 'confidence': 0.7544110321488843, 'avg_response_time': 6.848177975556995, 'max_response_time': 7.248012610627401, 'contribution': 0.9021756500005722}, 'EfficientNetV2S': {'accuracy': 0.9230769230769231, 'confidence': 0.8053678385504, 'avg_response_time': 1.1449293731509838, 'max_response_time': 1.1895237146775917, 'contribution': 0.776312509735862}, 'NASNetLarge': {'accuracy': 0.9222222222222223, 'confidence': 0.8089476697974735, 'avg_response_time': 3.818993467797118, 'max_response_time': 3.896026702975862, 'contribution': 0.7988408754269282}, 'EfficientNetB7': {'accuracy': 0.9431818181818182, 'confidence': 0.7024780549108982, 'avg_response_time': 7.122287109620978, 'max_response_time': 7.235155248866351, 'contribution': 0.6615619723769751}, 'DenseNet201': {'accuracy': 0.896551724137931, 'confidence': 0.8141573944996143, 'avg_response_time': 0.5838520085465972, 'max_response_time': 0.7171171364734032, 'contribution': 0.7990079970880487}, 'Xception': {'accuracy': 0.8604651162790697, 'confidence': 0.7220982077509858, 'avg_response_time': 0.9911064245931197, 'max_response_time': 1.0693688646426827, 'contribution': 0.7198790003393971}, 'InceptionV3': {'accuracy': 0.8780487804878049, 'confidence': 0.7754065750575647, 'avg_response_time': 0.5741719500110614, 'max_response_time': 0.6754832735299773, 'contribution': 0.7612856117690482}}, 'input_state': {'input_file_length': 15, 'image_height': 224, 'image_width': 224}, 'distribution_weights': [1.0, 1.0, 1.0, 1.0, 1.0, 0.0, 0.0, 0.0, 0.0, 0.0, 0.0, 0.0, 0.0, 0.0, 0.0, 0.0, 0.0, 0.0, 0.0, 0.0]}\n",
      "REWARD:  0.8829787234042553\n"
     ]
    },
    {
     "name": "stderr",
     "output_type": "stream",
     "text": [
      "2025-01-24 16:39:02,401:INFO -- Action: Replacing a model\n"
     ]
    },
    {
     "name": "stdout",
     "output_type": "stream",
     "text": [
      "STATE:  {'ensemble_state': {'total_energy_consumption': 0.023205572371097348, 'ensemble_size': 16}, 'model_states': {'InceptionResNetV2': {'accuracy': 0.8842105263157894, 'confidence': 0.7826015190074318, 'avg_response_time': 2.0667406718139927, 'max_response_time': 2.1462150428633615, 'contribution': 0.7863095415265937}, 'MobileNetV2': {'accuracy': 0.8461538461538461, 'confidence': 0.6975217534181399, 'avg_response_time': 0.09353744490262801, 'max_response_time': 0.14616136826811602, 'contribution': 0.7271935874835039}, 'ResNet50V2': {'accuracy': 0.7846153846153846, 'confidence': 0.7405264143760387, 'avg_response_time': 0.3793834993510856, 'max_response_time': 0.4313962125135385, 'contribution': 0.7490363859213316}, 'ensemble': {'accuracy': 0.8842105263157894, 'confidence': 0.756500821958263, 'avg_response_time': 6.8510503628657995, 'max_response_time': 7.248012610627401, 'contribution': 0.9032053787457316}, 'EfficientNetV2S': {'accuracy': 0.9239130434782609, 'confidence': 0.8066579239523929, 'avg_response_time': 1.145156073246192, 'max_response_time': 1.1895237146775917, 'contribution': 0.7779184139293173}, 'NASNetLarge': {'accuracy': 0.9230769230769231, 'confidence': 0.8101206199153439, 'avg_response_time': 3.8192837008406717, 'max_response_time': 3.896026702975862, 'contribution': 0.8001248892192002}, 'EfficientNetB7': {'accuracy': 0.9438202247191011, 'confidence': 0.7039628902847848, 'avg_response_time': 7.1221730635961595, 'max_response_time': 7.235155248866351, 'contribution': 0.6635065390152878}, 'DenseNet201': {'accuracy': 0.8977272727272727, 'confidence': 0.8162194128063592, 'avg_response_time': 0.5837599737775526, 'max_response_time': 0.7171171364734032, 'contribution': 0.8012421676381067}, 'Xception': {'accuracy': 0.8620689655172413, 'confidence': 0.7246496286885492, 'avg_response_time': 0.9914012332929328, 'max_response_time': 1.0693688646426827, 'contribution': 0.7224559294081282}, 'InceptionV3': {'accuracy': 0.8795180722891566, 'confidence': 0.7780072538249464, 'avg_response_time': 0.5743652314698015, 'max_response_time': 0.6754832735299773, 'contribution': 0.7640564226242433}}, 'input_state': {'input_file_length': 14, 'image_height': 224, 'image_width': 224}, 'distribution_weights': [1.0, 1.0, 1.0, 1.0, 1.0, 0.0, 0.0, 0.0, 0.0, 0.0, 0.0, 0.0, 0.0, 0.0, 0.0, 0.0, 0.0, 0.0, 0.0, 0.0]}\n",
      "REWARD:  0.8842105263157894\n",
      "Worst model: EfficientNetV2L with score: 0.5911481481481482\n",
      "Model 'EfficientNetV2L' successfully removed from the target YAML.\n",
      "Best model: EfficientNetV2L with score: 0.5911481481481482\n",
      "Model 'EfficientNetV2L' successfully added to the target YAML.\n"
     ]
    },
    {
     "name": "stderr",
     "output_type": "stream",
     "text": [
      "2025-01-24 16:39:03,441:INFO -- Action: Replacing a model\n"
     ]
    },
    {
     "name": "stdout",
     "output_type": "stream",
     "text": [
      "STATE:  {'ensemble_state': {'total_energy_consumption': 0.023205572371097348, 'ensemble_size': 16}, 'model_states': {'InceptionResNetV2': {'accuracy': 0.8854166666666666, 'confidence': 0.7777482454354564, 'avg_response_time': 2.066881291421486, 'max_response_time': 2.1462150428633615, 'contribution': 0.7814176427200437}, 'MobileNetV2': {'accuracy': 0.8481012658227848, 'confidence': 0.6969347426408454, 'avg_response_time': 0.09357794981445575, 'max_response_time': 0.14616136826811602, 'contribution': 0.7262309838699389}, 'ResNet50V2': {'accuracy': 0.7727272727272727, 'confidence': 0.729306317188523, 'avg_response_time': 0.3795786058541967, 'max_response_time': 0.4313962125135385, 'contribution': 0.7376873497710084}, 'ensemble': {'accuracy': 0.8854166666666666, 'confidence': 0.7560005196524454, 'avg_response_time': 6.853845904189721, 'max_response_time': 7.248012610627401, 'contribution': 0.9030974845712384}, 'EfficientNetV2S': {'accuracy': 0.9247311827956989, 'confidence': 0.8058200536235687, 'avg_response_time': 1.1451612487568084, 'max_response_time': 1.1895237146775917, 'contribution': 0.7773895705899885}, 'NASNetLarge': {'accuracy': 0.9239130434782609, 'confidence': 0.8110198255466379, 'avg_response_time': 3.819030849403149, 'max_response_time': 3.896026702975862, 'contribution': 0.8011327440971914}, 'EfficientNetB7': {'accuracy': 0.9444444444444444, 'confidence': 0.7040728439887365, 'avg_response_time': 7.122032430271046, 'max_response_time': 7.235155248866351, 'contribution': 0.664066007733345}, 'DenseNet201': {'accuracy': 0.898876404494382, 'confidence': 0.8145241794291507, 'avg_response_time': 0.5839757683940051, 'max_response_time': 0.7171171364734032, 'contribution': 0.7997152179144742}, 'Xception': {'accuracy': 0.8522727272727273, 'confidence': 0.7164149738170884, 'avg_response_time': 0.9912557796531254, 'max_response_time': 1.0693688646426827, 'contribution': 0.7142462029375813}, 'InceptionV3': {'accuracy': 0.8809523809523809, 'confidence': 0.7789887927827381, 'avg_response_time': 0.5740525006833345, 'max_response_time': 0.6754832735299773, 'contribution': 0.7652040429058529}}, 'input_state': {'input_file_length': 15, 'image_height': 224, 'image_width': 224}, 'distribution_weights': [1.0, 1.0, 1.0, 1.0, 1.0, 0.0, 0.0, 0.0, 0.0, 0.0, 0.0, 0.0, 0.0, 0.0, 0.0, 0.0, 0.0, 0.0, 0.0, 0.0]}\n",
      "REWARD:  0.8854166666666666\n",
      "Worst model: EfficientNetV2L with score: 0.5911481481481482\n",
      "Model 'EfficientNetV2L' successfully removed from the target YAML.\n",
      "Best model: EfficientNetV2L with score: 0.5911481481481482\n",
      "Model 'EfficientNetV2L' successfully added to the target YAML.\n"
     ]
    },
    {
     "name": "stderr",
     "output_type": "stream",
     "text": [
      "2025-01-24 16:39:04,537:INFO -- Action: Adding a model\n"
     ]
    },
    {
     "name": "stdout",
     "output_type": "stream",
     "text": [
      "STATE:  {'ensemble_state': {'total_energy_consumption': 0.023205572371097348, 'ensemble_size': 16}, 'model_states': {'InceptionResNetV2': {'accuracy': 0.8865979381443299, 'confidence': 0.77933439182252, 'avg_response_time': 2.0680542921287857, 'max_response_time': 2.180662360029575, 'contribution': 0.7829659602691218}, 'MobileNetV2': {'accuracy': 0.85, 'confidence': 0.6999797273427248, 'avg_response_time': 0.0937754335379807, 'max_response_time': 0.14616136826811602, 'contribution': 0.7289097655564547}, 'ResNet50V2': {'accuracy': 0.7761194029850746, 'confidence': 0.7333314307590029, 'avg_response_time': 0.3801111167523199, 'max_response_time': 0.4313962125135385, 'contribution': 0.7415873733029437}, 'ensemble': {'accuracy': 0.8865979381443299, 'confidence': 0.7574621628892158, 'avg_response_time': 6.856905982177346, 'max_response_time': 7.248012610627401, 'contribution': 0.9040860561365934}, 'EfficientNetV2S': {'accuracy': 0.925531914893617, 'confidence': 0.8067148803396428, 'avg_response_time': 1.145402447671958, 'max_response_time': 1.1895237146775917, 'contribution': 0.7785868492532284}, 'NASNetLarge': {'accuracy': 0.9247311827956989, 'confidence': 0.8121022498735817, 'avg_response_time': 3.8190498162149065, 'max_response_time': 3.896026702975862, 'contribution': 0.8023214811278928}, 'EfficientNetB7': {'accuracy': 0.945054945054945, 'confidence': 0.7048138488125015, 'avg_response_time': 7.122198280362423, 'max_response_time': 7.235155248866351, 'contribution': 0.6652466481203562}, 'DenseNet201': {'accuracy': 0.9, 'confidence': 0.8164503544569015, 'avg_response_time': 0.5837209465223072, 'max_response_time': 0.7171171364734032, 'contribution': 0.8018059369590548}, 'Xception': {'accuracy': 0.8539325842696629, 'confidence': 0.7183149483766449, 'avg_response_time': 0.9914186746280101, 'max_response_time': 1.0693688646426827, 'contribution': 0.7161705457092671}, 'InceptionV3': {'accuracy': 0.8823529411764706, 'confidence': 0.7807363362873302, 'avg_response_time': 0.5739577602353816, 'max_response_time': 0.6754832735299773, 'contribution': 0.7671137599384084}}, 'input_state': {'input_file_length': 14, 'image_height': 224, 'image_width': 224}, 'distribution_weights': [1.0, 1.0, 1.0, 1.0, 1.0, 0.0, 0.0, 0.0, 0.0, 0.0, 0.0, 0.0, 0.0, 0.0, 0.0, 0.0, 0.0, 0.0, 0.0, 0.0]}\n",
      "REWARD:  0.8865979381443299\n",
      "No eligible models to score.\n"
     ]
    },
    {
     "name": "stderr",
     "output_type": "stream",
     "text": [
      "2025-01-24 16:39:05,392:INFO -- Action: Replacing a model\n"
     ]
    },
    {
     "name": "stdout",
     "output_type": "stream",
     "text": [
      "STATE:  {'ensemble_state': {'total_energy_consumption': 0.023205572371097348, 'ensemble_size': 16}, 'model_states': {'InceptionResNetV2': {'accuracy': 0.8877551020408163, 'confidence': 0.7809435107878276, 'avg_response_time': 2.0680443095916967, 'max_response_time': 2.180662360029575, 'contribution': 0.7845380224135458}, 'MobileNetV2': {'accuracy': 0.8518518518518519, 'confidence': 0.7027692960368263, 'avg_response_time': 0.09383322475540735, 'max_response_time': 0.14616136826811602, 'contribution': 0.7313421732849545}, 'ResNet50V2': {'accuracy': 0.7794117647058824, 'confidence': 0.7372160233995494, 'avg_response_time': 0.38014538788853053, 'max_response_time': 0.4313962125135385, 'contribution': 0.7453505550237263}, 'ensemble': {'accuracy': 0.8877551020408163, 'confidence': 0.7593202733098023, 'avg_response_time': 6.859928517655871, 'max_response_time': 7.248012610627401, 'contribution': 0.905046710250329}, 'EfficientNetV2S': {'accuracy': 0.9263157894736842, 'confidence': 0.8077776651633414, 'avg_response_time': 1.1457403439760938, 'max_response_time': 1.1895237146775917, 'contribution': 0.7799457186146787}, 'NASNetLarge': {'accuracy': 0.925531914893617, 'confidence': 0.8131092812152619, 'avg_response_time': 3.8193901727589585, 'max_response_time': 3.896026702975862, 'contribution': 0.80343256320091}, 'EfficientNetB7': {'accuracy': 0.9456521739130435, 'confidence': 0.7056925047350966, 'avg_response_time': 7.12242243332114, 'max_response_time': 7.235155248866351, 'contribution': 0.6665553823113441}, 'DenseNet201': {'accuracy': 0.9010989010989011, 'confidence': 0.8184396529590691, 'avg_response_time': 0.5837814924262181, 'max_response_time': 0.7171171364734032, 'contribution': 0.8039561631260338}, 'Xception': {'accuracy': 0.8555555555555555, 'confidence': 0.7213035934501224, 'avg_response_time': 0.9912295824837347, 'max_response_time': 1.0693688646426827, 'contribution': 0.7191830174790488}, 'InceptionV3': {'accuracy': 0.8837209302325582, 'confidence': 0.7831245542958726, 'avg_response_time': 0.5741670162954023, 'max_response_time': 0.6754832735299773, 'contribution': 0.7696603799975196}}, 'input_state': {'input_file_length': 15, 'image_height': 224, 'image_width': 224}, 'distribution_weights': [1.0, 1.0, 1.0, 1.0, 1.0, 0.0, 0.0, 0.0, 0.0, 0.0, 0.0, 0.0, 0.0, 0.0, 0.0, 0.0, 0.0, 0.0, 0.0, 0.0]}\n",
      "REWARD:  0.8877551020408163\n",
      "Worst model: EfficientNetV2L with score: 0.5911481481481482\n",
      "Model 'EfficientNetV2L' successfully removed from the target YAML.\n",
      "Best model: EfficientNetV2L with score: 0.5911481481481482\n",
      "Model 'EfficientNetV2L' successfully added to the target YAML.\n"
     ]
    },
    {
     "name": "stderr",
     "output_type": "stream",
     "text": [
      "2025-01-24 16:39:06,408:INFO -- Action: Keeping the ensemble\n"
     ]
    },
    {
     "name": "stdout",
     "output_type": "stream",
     "text": [
      "STATE:  {'ensemble_state': {'total_energy_consumption': 0.023205572371097348, 'ensemble_size': 16}, 'model_states': {'InceptionResNetV2': {'accuracy': 0.8888888888888888, 'confidence': 0.7825580489153814, 'avg_response_time': 2.0678665087298476, 'max_response_time': 2.180662360029575, 'contribution': 0.7861162523428599}, 'MobileNetV2': {'accuracy': 0.8536585365853658, 'confidence': 0.7044533167670413, 'avg_response_time': 0.0939731037147305, 'max_response_time': 0.14616136826811602, 'contribution': 0.7326777442926313}, 'ResNet50V2': {'accuracy': 0.782608695652174, 'confidence': 0.7400480141674263, 'avg_response_time': 0.3805638980667122, 'max_response_time': 0.4313962125135385, 'contribution': 0.748064654028934}, 'ensemble': {'accuracy': 0.8888888888888888, 'confidence': 0.7606339050499861, 'avg_response_time': 6.862642708262741, 'max_response_time': 7.248012610627401, 'contribution': 0.9059155429854537}, 'EfficientNetV2S': {'accuracy': 0.9270833333333334, 'confidence': 0.8087489195168018, 'avg_response_time': 1.1459160797599526, 'max_response_time': 1.1895237146775917, 'contribution': 0.781206889078021}, 'NASNetLarge': {'accuracy': 0.9263157894736842, 'confidence': 0.8141098022460938, 'avg_response_time': 3.8191017581140176, 'max_response_time': 3.896026702975862, 'contribution': 0.8045349444213666}, 'EfficientNetB7': {'accuracy': 0.946236559139785, 'confidence': 0.706265426130705, 'avg_response_time': 7.122366065069802, 'max_response_time': 7.235155248866351, 'contribution': 0.6675491329803261}, 'DenseNet201': {'accuracy': 0.9021739130434783, 'confidence': 0.8200718737814737, 'avg_response_time': 0.5834815084984194, 'max_response_time': 0.7171171364734032, 'contribution': 0.805745813185754}, 'Xception': {'accuracy': 0.8571428571428571, 'confidence': 0.7234108041930984, 'avg_response_time': 0.9912472135766964, 'max_response_time': 1.0693688646426827, 'contribution': 0.721313531254674}, 'InceptionV3': {'accuracy': 0.8850574712643678, 'confidence': 0.7839399288440573, 'avg_response_time': 0.5743151090638563, 'max_response_time': 0.6754832735299773, 'contribution': 0.7706305151698233}}, 'input_state': {'input_file_length': 15, 'image_height': 224, 'image_width': 224}, 'distribution_weights': [1.0, 1.0, 1.0, 1.0, 1.0, 0.0, 0.0, 0.0, 0.0, 0.0, 0.0, 0.0, 0.0, 0.0, 0.0, 0.0, 0.0, 0.0, 0.0, 0.0]}\n",
      "REWARD:  0.8888888888888888\n"
     ]
    },
    {
     "name": "stderr",
     "output_type": "stream",
     "text": [
      "2025-01-24 16:39:07,238:INFO -- Action: Keeping the ensemble\n"
     ]
    },
    {
     "name": "stdout",
     "output_type": "stream",
     "text": [
      "STATE:  {'ensemble_state': {'total_energy_consumption': 0.023205572371097348, 'ensemble_size': 16}, 'model_states': {'InceptionResNetV2': {'accuracy': 0.89, 'confidence': 0.7840197232365608, 'avg_response_time': 2.068302627325457, 'max_response_time': 2.180662360029575, 'contribution': 0.7782550898194313}, 'MobileNetV2': {'accuracy': 0.8554216867469879, 'confidence': 0.7076025881681097, 'avg_response_time': 0.09390795929904731, 'max_response_time': 0.14616136826811602, 'contribution': 0.7238503015903105}, 'ResNet50V2': {'accuracy': 0.7714285714285715, 'confidence': 0.7294758996793202, 'avg_response_time': 0.3812505572925213, 'max_response_time': 0.4313962125135385, 'contribution': 0.7509878426790237}, 'ensemble': {'accuracy': 0.88, 'confidence': 0.7530275659994863, 'avg_response_time': 6.864737211803672, 'max_response_time': 7.248012610627401, 'contribution': 0.8968563875555993}, 'EfficientNetV2S': {'accuracy': 0.9278350515463918, 'confidence': 0.8099688512762797, 'avg_response_time': 1.1447778900342007, 'max_response_time': 1.1895237146775917, 'contribution': 0.7731532098091755}, 'NASNetLarge': {'accuracy': 0.9270833333333334, 'confidence': 0.8151731478671232, 'avg_response_time': 3.818909610801906, 'max_response_time': 3.896026702975862, 'contribution': 0.796154372083644}, 'EfficientNetB7': {'accuracy': 0.9468085106382979, 'confidence': 0.7076354004601215, 'avg_response_time': 7.121703648468557, 'max_response_time': 7.235155248866351, 'contribution': 0.6604475464592588}, 'DenseNet201': {'accuracy': 0.9032258064516129, 'confidence': 0.8219714129483828, 'avg_response_time': 0.5832802418622783, 'max_response_time': 0.7171171364734032, 'contribution': 0.7970818797106384}, 'Xception': {'accuracy': 0.8586956521739131, 'confidence': 0.7262497505416041, 'avg_response_time': 0.9912550965178824, 'max_response_time': 1.0693688646426827, 'contribution': 0.7134731667845146}, 'InceptionV3': {'accuracy': 0.8863636363636364, 'confidence': 0.7861227928237482, 'avg_response_time': 0.5745169909142523, 'max_response_time': 0.6754832735299773, 'contribution': 0.7618733502247117}}, 'input_state': {'input_file_length': 14, 'image_height': 224, 'image_width': 224}, 'distribution_weights': [1.0, 1.0, 1.0, 1.0, 1.0, 0.0, 0.0, 0.0, 0.0, 0.0, 0.0, 0.0, 0.0, 0.0, 0.0, 0.0, 0.0, 0.0, 0.0, 0.0]}\n",
      "REWARD:  0.88\n"
     ]
    },
    {
     "name": "stderr",
     "output_type": "stream",
     "text": [
      "2025-01-24 16:39:08,092:INFO -- Action: Replacing a model\n"
     ]
    },
    {
     "name": "stdout",
     "output_type": "stream",
     "text": [
      "STATE:  {'ensemble_state': {'total_energy_consumption': 0.023205572371097348, 'ensemble_size': 16}, 'model_states': {'InceptionResNetV2': {'accuracy': 0.8910891089108911, 'confidence': 0.7854903951139733, 'avg_response_time': 2.066342084841427, 'max_response_time': 2.180662360029575, 'contribution': 0.7797828372752312}, 'MobileNetV2': {'accuracy': 0.8571428571428571, 'confidence': 0.7038345741374152, 'avg_response_time': 0.09411246924162187, 'max_response_time': 0.14616136826811602, 'contribution': 0.7198888623998279}, 'ResNet50V2': {'accuracy': 0.7746478873239436, 'confidence': 0.7323334951635817, 'avg_response_time': 0.3814136332400192, 'max_response_time': 0.4313962125135385, 'contribution': 0.7535424530506134}, 'ensemble': {'accuracy': 0.8811881188118812, 'confidence': 0.7521274843815652, 'avg_response_time': 6.867486474506031, 'max_response_time': 7.248012610627401, 'contribution': 0.8972098647367837}, 'EfficientNetV2S': {'accuracy': 0.9285714285714286, 'confidence': 0.8068071810566649, 'avg_response_time': 1.1450749508536933, 'max_response_time': 1.1895237146775917, 'contribution': 0.7703672094004494}, 'NASNetLarge': {'accuracy': 0.9278350515463918, 'confidence': 0.8157297931995589, 'avg_response_time': 3.8191940558002795, 'max_response_time': 3.896026702975862, 'contribution': 0.7969070872695175}, 'EfficientNetB7': {'accuracy': 0.9473684210526315, 'confidence': 0.7092560012089578, 'avg_response_time': 7.121812428110312, 'max_response_time': 7.235155248866351, 'contribution': 0.6625648614607359}, 'DenseNet201': {'accuracy': 0.9042553191489362, 'confidence': 0.819255124064202, 'avg_response_time': 0.5830035722574641, 'max_response_time': 0.7171171364734032, 'contribution': 0.7946303730949442}, 'Xception': {'accuracy': 0.8602150537634409, 'confidence': 0.7248007328279557, 'avg_response_time': 0.9914868531564954, 'max_response_time': 1.0693688646426827, 'contribution': 0.7121615316919101}, 'InceptionV3': {'accuracy': 0.8876404494382022, 'confidence': 0.7875035217638766, 'avg_response_time': 0.5745817099170439, 'max_response_time': 0.6754832735299773, 'contribution': 0.7635265448120203}}, 'input_state': {'input_file_length': 15, 'image_height': 224, 'image_width': 224}, 'distribution_weights': [1.0, 1.0, 1.0, 1.0, 1.0, 0.0, 0.0, 0.0, 0.0, 0.0, 0.0, 0.0, 0.0, 0.0, 0.0, 0.0, 0.0, 0.0, 0.0, 0.0]}\n",
      "REWARD:  0.8811881188118812\n",
      "Worst model: EfficientNetV2L with score: 0.5911481481481482\n",
      "Model 'EfficientNetV2L' successfully removed from the target YAML.\n",
      "Best model: EfficientNetV2L with score: 0.5911481481481482\n",
      "Model 'EfficientNetV2L' successfully added to the target YAML.\n"
     ]
    },
    {
     "name": "stderr",
     "output_type": "stream",
     "text": [
      "2025-01-24 16:39:09,260:INFO -- Action: Keeping the ensemble\n"
     ]
    },
    {
     "name": "stdout",
     "output_type": "stream",
     "text": [
      "STATE:  {'ensemble_state': {'total_energy_consumption': 0.023205572371097348, 'ensemble_size': 16}, 'model_states': {'InceptionResNetV2': {'accuracy': 0.8921568627450981, 'confidence': 0.7864997144423279, 'avg_response_time': 2.0663106450730355, 'max_response_time': 2.180662360029575, 'contribution': 0.7808481130529853}, 'MobileNetV2': {'accuracy': 0.8470588235294118, 'confidence': 0.6955541673828574, 'avg_response_time': 0.09409453274816404, 'max_response_time': 0.14616136826811602, 'contribution': 0.7114195816657123}, 'ResNet50V2': {'accuracy': 0.7638888888888888, 'confidence': 0.7221621966196431, 'avg_response_time': 0.38211839404124226, 'max_response_time': 0.43215641092808105, 'contribution': 0.7430765856471326}, 'ensemble': {'accuracy': 0.8823529411764706, 'confidence': 0.750944224171891, 'avg_response_time': 6.87013289700165, 'max_response_time': 7.248012610627401, 'contribution': 0.8972237966224259}, 'EfficientNetV2S': {'accuracy': 0.9292929292929293, 'confidence': 0.8077346935416713, 'avg_response_time': 1.144922641300634, 'max_response_time': 1.1895237146775917, 'contribution': 0.7716628024072358}, 'NASNetLarge': {'accuracy': 0.9285714285714286, 'confidence': 0.8143061259571387, 'avg_response_time': 3.819297496818727, 'max_response_time': 3.896026702975862, 'contribution': 0.795675488454955}, 'EfficientNetB7': {'accuracy': 0.9375, 'confidence': 0.7018679178630313, 'avg_response_time': 7.12188155827479, 'max_response_time': 7.235155248866351, 'contribution': 0.6556631441538533}, 'DenseNet201': {'accuracy': 0.8947368421052632, 'confidence': 0.8106313859161578, 'avg_response_time': 0.5828581148485513, 'max_response_time': 0.7171171364734032, 'contribution': 0.7862658428518395}, 'Xception': {'accuracy': 0.8617021276595744, 'confidence': 0.7206928232248794, 'avg_response_time': 0.9914431712315791, 'max_response_time': 1.0693688646426827, 'contribution': 0.7081880816753875}, 'InceptionV3': {'accuracy': 0.8888888888888888, 'confidence': 0.784800057278739, 'avg_response_time': 0.5743751298163478, 'max_response_time': 0.6754832735299773, 'contribution': 0.7610894911819034}}, 'input_state': {'input_file_length': 15, 'image_height': 224, 'image_width': 224}, 'distribution_weights': [1.0, 1.0, 1.0, 1.0, 1.0, 0.0, 0.0, 0.0, 0.0, 0.0, 0.0, 0.0, 0.0, 0.0, 0.0, 0.0, 0.0, 0.0, 0.0, 0.0]}\n",
      "REWARD:  0.8823529411764706\n"
     ]
    },
    {
     "name": "stderr",
     "output_type": "stream",
     "text": [
      "2025-01-24 16:39:10,098:INFO -- Action: Keeping the ensemble\n"
     ]
    },
    {
     "name": "stdout",
     "output_type": "stream",
     "text": [
      "STATE:  {'ensemble_state': {'total_energy_consumption': 0.023205572371097348, 'ensemble_size': 16}, 'model_states': {'InceptionResNetV2': {'accuracy': 0.8932038834951457, 'confidence': 0.788135966340315, 'avg_response_time': 2.066292869440155, 'max_response_time': 2.180662360029575, 'contribution': 0.7825392348673738}, 'MobileNetV2': {'accuracy': 0.8488372093023255, 'confidence': 0.6986728830392971, 'avg_response_time': 0.09427669471866496, 'max_response_time': 0.14616136826811602, 'contribution': 0.7143538157607234}, 'ResNet50V2': {'accuracy': 0.7671232876712328, 'confidence': 0.7228591095094812, 'avg_response_time': 0.3825573060693111, 'max_response_time': 0.43215641092808105, 'contribution': 0.7434870000571421}, 'ensemble': {'accuracy': 0.883495145631068, 'confidence': 0.7522001648450894, 'avg_response_time': 6.872741705722774, 'max_response_time': 7.248012610627401, 'contribution': 0.8981887585329777}, 'EfficientNetV2S': {'accuracy': 0.93, 'confidence': 0.8087719458341599, 'avg_response_time': 1.1447612147944866, 'max_response_time': 1.1895237146775917, 'contribution': 0.7730607736110687}, 'NASNetLarge': {'accuracy': 0.9292929292929293, 'confidence': 0.8152226408322653, 'avg_response_time': 3.8190679055133625, 'max_response_time': 3.896026702975862, 'contribution': 0.7967801915876793}, 'EfficientNetB7': {'accuracy': 0.9381443298969072, 'confidence': 0.7031949061093871, 'avg_response_time': 7.121930700045848, 'max_response_time': 7.235155248866351, 'contribution': 0.6574664702734996}, 'DenseNet201': {'accuracy': 0.8958333333333334, 'confidence': 0.8125687139108777, 'avg_response_time': 0.5825491951906737, 'max_response_time': 0.7171171364734032, 'contribution': 0.7884569785868129}, 'Xception': {'accuracy': 0.8631578947368421, 'confidence': 0.7231219037583, 'avg_response_time': 0.991346576354418, 'max_response_time': 1.0693688646426827, 'contribution': 0.7107487910672238}, 'InceptionV3': {'accuracy': 0.8901098901098901, 'confidence': 0.7866997921859825, 'avg_response_time': 0.5740795593050114, 'max_response_time': 0.6754832735299773, 'contribution': 0.7632497817605406}}, 'input_state': {'input_file_length': 15, 'image_height': 224, 'image_width': 224}, 'distribution_weights': [1.0, 1.0, 1.0, 1.0, 1.0, 0.0, 0.0, 0.0, 0.0, 0.0, 0.0, 0.0, 0.0, 0.0, 0.0, 0.0, 0.0, 0.0, 0.0, 0.0]}\n",
      "REWARD:  0.883495145631068\n"
     ]
    },
    {
     "name": "stderr",
     "output_type": "stream",
     "text": [
      "2025-01-24 16:39:10,957:INFO -- Action: Replacing a model\n"
     ]
    },
    {
     "name": "stdout",
     "output_type": "stream",
     "text": [
      "STATE:  {'ensemble_state': {'total_energy_consumption': 0.023205572371097348, 'ensemble_size': 16}, 'model_states': {'InceptionResNetV2': {'accuracy': 0.8942307692307693, 'confidence': 0.7894051593656723, 'avg_response_time': 2.0666695239290456, 'max_response_time': 2.180662360029575, 'contribution': 0.7838622426184324}, 'MobileNetV2': {'accuracy': 0.8505747126436781, 'confidence': 0.7012503941853842, 'avg_response_time': 0.0943733640035053, 'max_response_time': 0.14616136826811602, 'contribution': 0.7167510863008171}, 'ResNet50V2': {'accuracy': 0.7702702702702703, 'confidence': 0.7266032466211835, 'avg_response_time': 0.38259050648323056, 'max_response_time': 0.43215641092808105, 'contribution': 0.7469523818911733}, 'ensemble': {'accuracy': 0.8846153846153846, 'confidence': 0.7539228691686186, 'avg_response_time': 6.875403371277622, 'max_response_time': 7.248012610627401, 'contribution': 0.8991669940833862}, 'EfficientNetV2S': {'accuracy': 0.9306930693069307, 'confidence': 0.8100325347173332, 'avg_response_time': 1.1447438978215538, 'max_response_time': 1.1895237146775917, 'contribution': 0.774674938456847}, 'NASNetLarge': {'accuracy': 0.93, 'confidence': 0.8158602744340897, 'avg_response_time': 3.8188966363848884, 'max_response_time': 3.896026702975862, 'contribution': 0.7976022496819496}, 'EfficientNetB7': {'accuracy': 0.9387755102040817, 'confidence': 0.703288625393595, 'avg_response_time': 7.122111092930485, 'max_response_time': 7.235155248866351, 'contribution': 0.6580268062499105}, 'DenseNet201': {'accuracy': 0.8969072164948454, 'confidence': 0.8144655279892007, 'avg_response_time': 0.5826537525780929, 'max_response_time': 0.7171171364734032, 'contribution': 0.7906023672561056}, 'Xception': {'accuracy': 0.8645833333333334, 'confidence': 0.725441224562625, 'avg_response_time': 0.9914513588032959, 'max_response_time': 1.0693688646426827, 'contribution': 0.713196998462081}, 'InceptionV3': {'accuracy': 0.8913043478260869, 'confidence': 0.788986360249312, 'avg_response_time': 0.5738466303434206, 'max_response_time': 0.6754832735299773, 'contribution': 0.765791241241538}}, 'input_state': {'input_file_length': 15, 'image_height': 224, 'image_width': 224}, 'distribution_weights': [1.0, 1.0, 1.0, 1.0, 1.0, 0.0, 0.0, 0.0, 0.0, 0.0, 0.0, 0.0, 0.0, 0.0, 0.0, 0.0, 0.0, 0.0, 0.0, 0.0]}\n",
      "REWARD:  0.8846153846153846\n",
      "Worst model: EfficientNetV2L with score: 0.5911481481481482\n",
      "Model 'EfficientNetV2L' successfully removed from the target YAML.\n",
      "Best model: EfficientNetV2L with score: 0.5911481481481482\n",
      "Model 'EfficientNetV2L' successfully added to the target YAML.\n"
     ]
    },
    {
     "name": "stderr",
     "output_type": "stream",
     "text": [
      "2025-01-24 16:39:12,078:INFO -- Action: Adding a model\n"
     ]
    },
    {
     "name": "stdout",
     "output_type": "stream",
     "text": [
      "STATE:  {'ensemble_state': {'total_energy_consumption': 0.023205572371097348, 'ensemble_size': 16}, 'model_states': {'InceptionResNetV2': {'accuracy': 0.8952380952380953, 'confidence': 0.7906839878786178, 'avg_response_time': 2.0666685801101945, 'max_response_time': 2.180662360029575, 'contribution': 0.7851938608146849}, 'MobileNetV2': {'accuracy': 0.8522727272727273, 'confidence': 0.7011122432622042, 'avg_response_time': 0.0945233228009354, 'max_response_time': 0.14616136826811602, 'contribution': 0.7164367911490527}, 'ResNet50V2': {'accuracy': 0.7733333333333333, 'confidence': 0.7260782015323639, 'avg_response_time': 0.38284973783066345, 'max_response_time': 0.43215641092808105, 'contribution': 0.7461560149987538}, 'ensemble': {'accuracy': 0.8857142857142857, 'confidence': 0.7543454875282564, 'avg_response_time': 6.878072516594353, 'max_response_time': 7.248012610627401, 'contribution': 0.8995556510630108}, 'EfficientNetV2S': {'accuracy': 0.9313725490196079, 'confidence': 0.8111024808649924, 'avg_response_time': 1.1449301441017863, 'max_response_time': 1.1895237146775917, 'contribution': 0.776091527705099}, 'NASNetLarge': {'accuracy': 0.9306930693069307, 'confidence': 0.8167940260160087, 'avg_response_time': 3.8193333297767103, 'max_response_time': 3.896026702975862, 'contribution': 0.7987167737861671}, 'EfficientNetB7': {'accuracy': 0.9393939393939394, 'confidence': 0.7046198486679732, 'avg_response_time': 7.122328818223445, 'max_response_time': 7.235155248866351, 'contribution': 0.6598152196166491}, 'DenseNet201': {'accuracy': 0.8979591836734694, 'confidence': 0.8139740773001496, 'avg_response_time': 0.5825206971708061, 'max_response_time': 0.7171171364734032, 'contribution': 0.790354418207188}, 'Xception': {'accuracy': 0.865979381443299, 'confidence': 0.7271466141509026, 'avg_response_time': 0.9914021515339668, 'max_response_time': 1.0693688646426827, 'contribution': 0.7150286171854157}, 'InceptionV3': {'accuracy': 0.8924731182795699, 'confidence': 0.790609904514846, 'avg_response_time': 0.5739613892105331, 'max_response_time': 0.6754832735299773, 'contribution': 0.767664195388876}}, 'input_state': {'input_file_length': 14, 'image_height': 224, 'image_width': 224}, 'distribution_weights': [1.0, 1.0, 1.0, 1.0, 1.0, 0.0, 0.0, 0.0, 0.0, 0.0, 0.0, 0.0, 0.0, 0.0, 0.0, 0.0, 0.0, 0.0, 0.0, 0.0]}\n",
      "REWARD:  0.8857142857142857\n",
      "No eligible models to score.\n"
     ]
    },
    {
     "name": "stderr",
     "output_type": "stream",
     "text": [
      "2025-01-24 16:39:12,934:INFO -- Action: Keeping the ensemble\n"
     ]
    },
    {
     "name": "stdout",
     "output_type": "stream",
     "text": [
      "STATE:  {'ensemble_state': {'total_energy_consumption': 0.023205572371097348, 'ensemble_size': 16}, 'model_states': {'InceptionResNetV2': {'accuracy': 0.8962264150943396, 'confidence': 0.7918849309098046, 'avg_response_time': 2.067148887932759, 'max_response_time': 2.180662360029575, 'contribution': 0.7864465974974182}, 'MobileNetV2': {'accuracy': 0.8539325842696629, 'confidence': 0.7037919826721877, 'avg_response_time': 0.09448471229584966, 'max_response_time': 0.14616136826811602, 'contribution': 0.7189443446277233}, 'ResNet50V2': {'accuracy': 0.7763157894736842, 'confidence': 0.7296788210147306, 'avg_response_time': 0.3831994162685916, 'max_response_time': 0.43215641092808105, 'contribution': 0.7494924527249838}, 'ensemble': {'accuracy': 0.8867924528301887, 'confidence': 0.7559414793877786, 'avg_response_time': 6.881171016276726, 'max_response_time': 7.248012610627401, 'contribution': 0.9005017491444102}, 'EfficientNetV2S': {'accuracy': 0.9320388349514563, 'confidence': 0.8120484415767262, 'avg_response_time': 1.1449978788725115, 'max_response_time': 1.1895237146775917, 'contribution': 0.7773774005834339}, 'NASNetLarge': {'accuracy': 0.9313725490196079, 'confidence': 0.8175917372984045, 'avg_response_time': 3.8193609604637864, 'max_response_time': 3.896026702975862, 'contribution': 0.7996917130316005}, 'EfficientNetB7': {'accuracy': 0.94, 'confidence': 0.7059072789549827, 'avg_response_time': 7.123055842021252, 'max_response_time': 7.235155248866351, 'contribution': 0.661550696194172}, 'DenseNet201': {'accuracy': 0.898989898989899, 'confidence': 0.8158303658769588, 'avg_response_time': 0.582492495410615, 'max_response_time': 0.7171171364734032, 'contribution': 0.7924492891990778}, 'Xception': {'accuracy': 0.8673469387755102, 'confidence': 0.7296070933950191, 'avg_response_time': 0.9913298614928807, 'max_response_time': 1.0693688646426827, 'contribution': 0.7176127494597921}, 'InceptionV3': {'accuracy': 0.8936170212765957, 'confidence': 0.7920294416711685, 'avg_response_time': 0.5741892147627723, 'max_response_time': 0.6754832735299773, 'contribution': 0.7693278358337727}}, 'input_state': {'input_file_length': 15, 'image_height': 224, 'image_width': 224}, 'distribution_weights': [1.0, 1.0, 1.0, 1.0, 1.0, 0.0, 0.0, 0.0, 0.0, 0.0, 0.0, 0.0, 0.0, 0.0, 0.0, 0.0, 0.0, 0.0, 0.0, 0.0]}\n",
      "REWARD:  0.8867924528301887\n"
     ]
    },
    {
     "name": "stderr",
     "output_type": "stream",
     "text": [
      "2025-01-24 16:39:13,739:INFO -- Action: Keeping the ensemble\n"
     ]
    },
    {
     "name": "stdout",
     "output_type": "stream",
     "text": [
      "STATE:  {'ensemble_state': {'total_energy_consumption': 0.023205572371097348, 'ensemble_size': 16}, 'model_states': {'InceptionResNetV2': {'accuracy': 0.8878504672897196, 'confidence': 0.7844841371629839, 'avg_response_time': 2.0669061731604677, 'max_response_time': 2.180662360029575, 'contribution': 0.7857616279169778}, 'MobileNetV2': {'accuracy': 0.8444444444444444, 'confidence': 0.6959720717536079, 'avg_response_time': 0.09452661762113745, 'max_response_time': 0.14616136826811602, 'contribution': 0.7170326252778371}, 'ResNet50V2': {'accuracy': 0.7662337662337663, 'confidence': 0.7202024726898639, 'avg_response_time': 0.3832300546066024, 'max_response_time': 0.43215641092808105, 'contribution': 0.7458534310390423}, 'ensemble': {'accuracy': 0.8785046728971962, 'confidence': 0.7488766057486405, 'avg_response_time': 6.883469753817192, 'max_response_time': 7.248012610627401, 'contribution': 0.8996070498060957}, 'EfficientNetV2S': {'accuracy': 0.9326923076923077, 'confidence': 0.8072136460015407, 'avg_response_time': 1.1451092233917648, 'max_response_time': 1.1895237146775917, 'contribution': 0.7750565747802074}, 'NASNetLarge': {'accuracy': 0.9223300970873787, 'confidence': 0.8096539534411384, 'avg_response_time': 3.81928772781462, 'max_response_time': 3.896026702975862, 'contribution': 0.7968247113297287}, 'EfficientNetB7': {'accuracy': 0.9306930693069307, 'confidence': 0.6989180979752304, 'avg_response_time': 7.1229832289532204, 'max_response_time': 7.235155248866351, 'contribution': 0.6595106821249027}, 'DenseNet201': {'accuracy': 0.9, 'confidence': 0.8130642518401145, 'avg_response_time': 0.582134073398617, 'max_response_time': 0.7171171364734032, 'contribution': 0.7882566204667092}, 'Xception': {'accuracy': 0.8585858585858586, 'confidence': 0.7222373247748674, 'avg_response_time': 0.9914028766348761, 'max_response_time': 1.0693688646426827, 'contribution': 0.7164279553625319}, 'InceptionV3': {'accuracy': 0.8842105263157894, 'confidence': 0.7836922896535773, 'avg_response_time': 0.5742037036827838, 'max_response_time': 0.6754832735299773, 'contribution': 0.7668065322072882}}, 'input_state': {'input_file_length': 14, 'image_height': 224, 'image_width': 224}, 'distribution_weights': [1.0, 1.0, 1.0, 1.0, 1.0, 0.0, 0.0, 0.0, 0.0, 0.0, 0.0, 0.0, 0.0, 0.0, 0.0, 0.0, 0.0, 0.0, 0.0, 0.0]}\n",
      "REWARD:  0.8785046728971962\n"
     ]
    },
    {
     "name": "stderr",
     "output_type": "stream",
     "text": [
      "2025-01-24 16:39:14,679:INFO -- Action: Adding a model\n"
     ]
    },
    {
     "name": "stdout",
     "output_type": "stream",
     "text": [
      "STATE:  {'ensemble_state': {'total_energy_consumption': 0.023205572371097348, 'ensemble_size': 16}, 'model_states': {'InceptionResNetV2': {'accuracy': 0.8888888888888888, 'confidence': 0.782939368100078, 'avg_response_time': 2.066700148186729, 'max_response_time': 2.180662360029575, 'contribution': 0.7842050302359793}, 'MobileNetV2': {'accuracy': 0.8461538461538461, 'confidence': 0.6959438468073751, 'avg_response_time': 0.09442905851690186, 'max_response_time': 0.14616136826811602, 'contribution': 0.7167729656774919}, 'ResNet50V2': {'accuracy': 0.7692307692307693, 'confidence': 0.7236569955562934, 'avg_response_time': 0.3837081018231455, 'max_response_time': 0.43215641092808105, 'contribution': 0.7489790954650977}, 'ensemble': {'accuracy': 0.8796296296296297, 'confidence': 0.7487141538750541, 'avg_response_time': 6.885605653997515, 'max_response_time': 7.248012610627401, 'contribution': 0.9004642850270977}, 'EfficientNetV2S': {'accuracy': 0.9333333333333333, 'confidence': 0.8082852928411393, 'avg_response_time': 1.1455945898610247, 'max_response_time': 1.19607270266405, 'contribution': 0.7764344794409616}, 'NASNetLarge': {'accuracy': 0.9230769230769231, 'confidence': 0.8105667743545312, 'avg_response_time': 3.81920597275977, 'max_response_time': 3.896026702975862, 'contribution': 0.7978608903403466}, 'EfficientNetB7': {'accuracy': 0.9313725490196079, 'confidence': 0.6987327603148479, 'avg_response_time': 7.122774638856392, 'max_response_time': 7.235155248866351, 'contribution': 0.6597116916787391}, 'DenseNet201': {'accuracy': 0.900990099009901, 'confidence': 0.8129756241151602, 'avg_response_time': 0.5823154408943733, 'max_response_time': 0.7171171364734032, 'contribution': 0.7884136128543627}, 'Xception': {'accuracy': 0.86, 'confidence': 0.7244551321864128, 'avg_response_time': 0.991500911706499, 'max_response_time': 1.0693688646426827, 'contribution': 0.7187038564682007}, 'InceptionV3': {'accuracy': 0.8854166666666666, 'confidence': 0.780855055898428, 'avg_response_time': 0.574278576921016, 'max_response_time': 0.6754832735299773, 'contribution': 0.7641451917588711}}, 'input_state': {'input_file_length': 14, 'image_height': 224, 'image_width': 224}, 'distribution_weights': [1.0, 1.0, 1.0, 1.0, 1.0, 0.0, 0.0, 0.0, 0.0, 0.0, 0.0, 0.0, 0.0, 0.0, 0.0, 0.0, 0.0, 0.0, 0.0, 0.0]}\n",
      "REWARD:  0.8796296296296297\n",
      "No eligible models to score.\n"
     ]
    },
    {
     "name": "stderr",
     "output_type": "stream",
     "text": [
      "2025-01-24 16:39:15,518:INFO -- Action: Keeping the ensemble\n"
     ]
    },
    {
     "name": "stdout",
     "output_type": "stream",
     "text": [
      "STATE:  {'ensemble_state': {'total_energy_consumption': 0.023205572371097348, 'ensemble_size': 16}, 'model_states': {'InceptionResNetV2': {'accuracy': 0.8899082568807339, 'confidence': 0.7804551482747454, 'avg_response_time': 2.066624708010493, 'max_response_time': 2.180662360029575, 'contribution': 0.7817091988314182}, 'MobileNetV2': {'accuracy': 0.8369565217391305, 'confidence': 0.6883792397768601, 'avg_response_time': 0.09455065149273709, 'max_response_time': 0.14616136826811602, 'contribution': 0.7089819551809974}, 'ResNet50V2': {'accuracy': 0.7721518987341772, 'confidence': 0.7235568275180044, 'avg_response_time': 0.383982431794285, 'max_response_time': 0.43215641092808105, 'contribution': 0.7485583945165707}, 'ensemble': {'accuracy': 0.8807339449541285, 'confidence': 0.7485068317091778, 'avg_response_time': 6.888044368613408, 'max_response_time': 7.248012610627401, 'contribution': 0.9005507107721556}, 'EfficientNetV2S': {'accuracy': 0.9339622641509434, 'confidence': 0.808897779516454, 'avg_response_time': 1.1456145617619153, 'max_response_time': 1.19607270266405, 'contribution': 0.7773474454879761}, 'NASNetLarge': {'accuracy': 0.9238095238095239, 'confidence': 0.8113674879074096, 'avg_response_time': 3.819071400106112, 'max_response_time': 3.896026702975862, 'contribution': 0.7987826123124078}, 'EfficientNetB7': {'accuracy': 0.9320388349514563, 'confidence': 0.6997251519300405, 'avg_response_time': 7.1229444152381065, 'max_response_time': 7.235155248866351, 'contribution': 0.6610829286204959}, 'DenseNet201': {'accuracy': 0.9019607843137255, 'confidence': 0.8117687588228899, 'avg_response_time': 0.5824905059946066, 'max_response_time': 0.7171171364734032, 'contribution': 0.787447551594061}, 'Xception': {'accuracy': 0.8613861386138614, 'confidence': 0.7262910684146503, 'avg_response_time': 0.9915254249249138, 'max_response_time': 1.0693688646426827, 'contribution': 0.7205967360203809}, 'InceptionV3': {'accuracy': 0.8865979381443299, 'confidence': 0.7797206572650635, 'avg_response_time': 0.5744026873642769, 'max_response_time': 0.6754832735299773, 'contribution': 0.7631830597661206}}, 'input_state': {'input_file_length': 14, 'image_height': 224, 'image_width': 224}, 'distribution_weights': [1.0, 1.0, 1.0, 1.0, 1.0, 0.0, 0.0, 0.0, 0.0, 0.0, 0.0, 0.0, 0.0, 0.0, 0.0, 0.0, 0.0, 0.0, 0.0, 0.0]}\n",
      "REWARD:  0.8807339449541285\n"
     ]
    },
    {
     "name": "stderr",
     "output_type": "stream",
     "text": [
      "2025-01-24 16:39:16,361:INFO -- Action: Keeping the ensemble\n"
     ]
    },
    {
     "name": "stdout",
     "output_type": "stream",
     "text": [
      "STATE:  {'ensemble_state': {'total_energy_consumption': 0.023205572371097348, 'ensemble_size': 16}, 'model_states': {'InceptionResNetV2': {'accuracy': 0.8909090909090909, 'confidence': 0.7815414550629529, 'avg_response_time': 2.066222741529516, 'max_response_time': 2.180662360029575, 'contribution': 0.7827841051600196}, 'MobileNetV2': {'accuracy': 0.8387096774193549, 'confidence': 0.6895012259483337, 'avg_response_time': 0.0947674439786978, 'max_response_time': 0.14616136826811602, 'contribution': 0.709882406778233}, 'ResNet50V2': {'accuracy': 0.775, 'confidence': 0.7256346073001623, 'avg_response_time': 0.38412480431488644, 'max_response_time': 0.43215641092808105, 'contribution': 0.7503236547112465}, 'ensemble': {'accuracy': 0.8818181818181818, 'confidence': 0.7494293310506916, 'avg_response_time': 6.8899444401688585, 'max_response_time': 7.248012610627401, 'contribution': 0.9014437938278371}, 'EfficientNetV2S': {'accuracy': 0.9345794392523364, 'confidence': 0.8092996597847092, 'avg_response_time': 1.1453536560757471, 'max_response_time': 1.19607270266405, 'contribution': 0.7780441886910768}, 'NASNetLarge': {'accuracy': 0.9245283018867925, 'confidence': 0.8121963413256519, 'avg_response_time': 3.8189378185554195, 'max_response_time': 3.896026702975862, 'contribution': 0.7997301909721123}, 'EfficientNetB7': {'accuracy': 0.9326923076923077, 'confidence': 0.700481672413074, 'avg_response_time': 7.122596665288313, 'max_response_time': 7.235155248866351, 'contribution': 0.6622110089430442}, 'DenseNet201': {'accuracy': 0.9029126213592233, 'confidence': 0.8135399479889175, 'avg_response_time': 0.5825362648727556, 'max_response_time': 0.7171171364734032, 'contribution': 0.7894548689856112}, 'Xception': {'accuracy': 0.8627450980392157, 'confidence': 0.7285807509632671, 'avg_response_time': 0.991403728162395, 'max_response_time': 1.0693688646426827, 'contribution': 0.7229422453571769}, 'InceptionV3': {'accuracy': 0.8877551020408163, 'confidence': 0.7812747438343204, 'avg_response_time': 0.5744492582631615, 'max_response_time': 0.6754832735299773, 'contribution': 0.7649058973302647}}, 'input_state': {'input_file_length': 13, 'image_height': 224, 'image_width': 224}, 'distribution_weights': [1.0, 1.0, 1.0, 1.0, 1.0, 0.0, 0.0, 0.0, 0.0, 0.0, 0.0, 0.0, 0.0, 0.0, 0.0, 0.0, 0.0, 0.0, 0.0, 0.0]}\n",
      "REWARD:  0.8818181818181818\n"
     ]
    },
    {
     "name": "stderr",
     "output_type": "stream",
     "text": [
      "2025-01-24 16:39:17,223:INFO -- Action: Replacing a model\n"
     ]
    },
    {
     "name": "stdout",
     "output_type": "stream",
     "text": [
      "STATE:  {'ensemble_state': {'total_energy_consumption': 0.023205572371097348, 'ensemble_size': 16}, 'model_states': {'InceptionResNetV2': {'accuracy': 0.8918918918918919, 'confidence': 0.7827580337588852, 'avg_response_time': 2.065793660479264, 'max_response_time': 2.180662360029575, 'contribution': 0.7839894888100324}, 'MobileNetV2': {'accuracy': 0.8404255319148937, 'confidence': 0.6924005290295215, 'avg_response_time': 0.09478381952276044, 'max_response_time': 0.14616136826811602, 'contribution': 0.7125648887867623}, 'ResNet50V2': {'accuracy': 0.7777777777777778, 'confidence': 0.7290000426180568, 'avg_response_time': 0.3843503390254297, 'max_response_time': 0.43215641092808105, 'contribution': 0.7533842869746832}, 'ensemble': {'accuracy': 0.8828828828828829, 'confidence': 0.7511975860891179, 'avg_response_time': 6.892096696794528, 'max_response_time': 7.248012610627401, 'contribution': 0.9023234610621994}, 'EfficientNetV2S': {'accuracy': 0.9351851851851852, 'confidence': 0.8103528185575096, 'avg_response_time': 1.1454808832182335, 'max_response_time': 1.19607270266405, 'contribution': 0.7793867499740036}, 'NASNetLarge': {'accuracy': 0.9252336448598131, 'confidence': 0.8133208668120554, 'avg_response_time': 3.819023108308148, 'max_response_time': 3.896026702975862, 'contribution': 0.8009712225365861}, 'EfficientNetB7': {'accuracy': 0.9333333333333333, 'confidence': 0.7016285921846117, 'avg_response_time': 7.122559895886347, 'max_response_time': 7.235155248866351, 'contribution': 0.6637224112238203}, 'DenseNet201': {'accuracy': 0.9038461538461539, 'confidence': 0.8151099495589733, 'avg_response_time': 0.5827378747998263, 'max_response_time': 0.7171171364734032, 'contribution': 0.7912564578537757}, 'Xception': {'accuracy': 0.8640776699029126, 'confidence': 0.7306872157795915, 'avg_response_time': 0.9914268522980846, 'max_response_time': 1.0693688646426827, 'contribution': 0.7251034529463759}, 'InceptionV3': {'accuracy': 0.8888888888888888, 'confidence': 0.7833772090950397, 'avg_response_time': 0.5745121429742694, 'max_response_time': 0.6754832735299773, 'contribution': 0.7671737044748633}}, 'input_state': {'input_file_length': 15, 'image_height': 224, 'image_width': 224}, 'distribution_weights': [1.0, 1.0, 1.0, 1.0, 1.0, 0.0, 0.0, 0.0, 0.0, 0.0, 0.0, 0.0, 0.0, 0.0, 0.0, 0.0, 0.0, 0.0, 0.0, 0.0]}\n",
      "REWARD:  0.8828828828828829\n",
      "Worst model: EfficientNetV2L with score: 0.5911481481481482\n",
      "Model 'EfficientNetV2L' successfully removed from the target YAML.\n",
      "Best model: EfficientNetV2L with score: 0.5911481481481482\n",
      "Model 'EfficientNetV2L' successfully added to the target YAML.\n"
     ]
    },
    {
     "name": "stderr",
     "output_type": "stream",
     "text": [
      "2025-01-24 16:39:18,332:INFO -- Action: Adding a model\n"
     ]
    },
    {
     "name": "stdout",
     "output_type": "stream",
     "text": [
      "STATE:  {'ensemble_state': {'total_energy_consumption': 0.023205572371097348, 'ensemble_size': 16}, 'model_states': {'InceptionResNetV2': {'accuracy': 0.8839285714285714, 'confidence': 0.7757691227431808, 'avg_response_time': 2.0654045069579814, 'max_response_time': 2.180662360029575, 'contribution': 0.7851068694144487}, 'MobileNetV2': {'accuracy': 0.8315789473684211, 'confidence': 0.6851121024081581, 'avg_response_time': 0.09476638216943362, 'max_response_time': 0.14616136826811602, 'contribution': 0.7133490436955502}, 'ResNet50V2': {'accuracy': 0.7682926829268293, 'confidence': 0.7201097981958855, 'avg_response_time': 0.384734708146206, 'max_response_time': 0.43215641092808105, 'contribution': 0.7561935019202348}, 'ensemble': {'accuracy': 0.875, 'confidence': 0.7444904647847508, 'avg_response_time': 6.89401372868201, 'max_response_time': 7.248012610627401, 'contribution': 0.9030650106391737}, 'EfficientNetV2S': {'accuracy': 0.926605504587156, 'confidence': 0.8029183890294591, 'avg_response_time': 1.1452428318369006, 'max_response_time': 1.19607270266405, 'contribution': 0.7768989992797921}, 'NASNetLarge': {'accuracy': 0.9166666666666666, 'confidence': 0.8057901180452771, 'avg_response_time': 3.8186765641666347, 'max_response_time': 3.896026702975862, 'contribution': 0.8018707884130655}, 'EfficientNetB7': {'accuracy': 0.9339622641509434, 'confidence': 0.7018015629278039, 'avg_response_time': 7.122327127308778, 'max_response_time': 7.235155248866351, 'contribution': 0.6574608790424635}, 'DenseNet201': {'accuracy': 0.8952380952380953, 'confidence': 0.8073469976584117, 'avg_response_time': 0.5827728939053411, 'max_response_time': 0.7171171364734032, 'contribution': 0.7927376994064876}, 'Xception': {'accuracy': 0.8557692307692307, 'confidence': 0.7236613771663263, 'avg_response_time': 0.991558786535024, 'max_response_time': 1.0693688646426827, 'contribution': 0.725958586885379}, 'InceptionV3': {'accuracy': 0.88, 'confidence': 0.7755434370040893, 'avg_response_time': 0.5744434984404632, 'max_response_time': 0.6754832735299773, 'contribution': 0.7685020530223846}}, 'input_state': {'input_file_length': 15, 'image_height': 224, 'image_width': 224}, 'distribution_weights': [1.0, 1.0, 1.0, 1.0, 1.0, 0.0, 0.0, 0.0, 0.0, 0.0, 0.0, 0.0, 0.0, 0.0, 0.0, 0.0, 0.0, 0.0, 0.0, 0.0]}\n",
      "REWARD:  0.875\n",
      "No eligible models to score.\n"
     ]
    },
    {
     "name": "stderr",
     "output_type": "stream",
     "text": [
      "2025-01-24 16:39:19,194:INFO -- Action: Keeping the ensemble\n"
     ]
    },
    {
     "name": "stdout",
     "output_type": "stream",
     "text": [
      "STATE:  {'ensemble_state': {'total_energy_consumption': 0.023205572371097348, 'ensemble_size': 16}, 'model_states': {'InceptionResNetV2': {'accuracy': 0.8849557522123894, 'confidence': 0.7772476327630271, 'avg_response_time': 2.0654670153287467, 'max_response_time': 2.180662360029575, 'contribution': 0.7865027445080006}, 'MobileNetV2': {'accuracy': 0.8333333333333334, 'confidence': 0.687411035100619, 'avg_response_time': 0.09485228350040198, 'max_response_time': 0.14616136826811602, 'contribution': 0.715353841582934}, 'ResNet50V2': {'accuracy': 0.7710843373493976, 'confidence': 0.7191113517226944, 'avg_response_time': 0.38505358656100075, 'max_response_time': 0.43215641092808105, 'contribution': 0.7547603120286781}, 'ensemble': {'accuracy': 0.8761061946902655, 'confidence': 0.7453604798810279, 'avg_response_time': 6.895899924679068, 'max_response_time': 7.248012610627401, 'contribution': 0.9038011571474834}, 'EfficientNetV2S': {'accuracy': 0.9272727272727272, 'confidence': 0.8037800656123595, 'avg_response_time': 1.1452633862301311, 'max_response_time': 1.19607270266405, 'contribution': 0.7779972157695076}, 'NASNetLarge': {'accuracy': 0.9174311926605505, 'confidence': 0.8065701291101788, 'avg_response_time': 3.818776368457368, 'max_response_time': 3.896026702975862, 'contribution': 0.8026867566305563}, 'EfficientNetB7': {'accuracy': 0.9345794392523364, 'confidence': 0.7032366876847276, 'avg_response_time': 7.122106688233628, 'max_response_time': 7.235155248866351, 'contribution': 0.6593104027142035}, 'DenseNet201': {'accuracy': 0.8962264150943396, 'confidence': 0.8090347577378435, 'avg_response_time': 0.5828950678904921, 'max_response_time': 0.7171171364734032, 'contribution': 0.7945632830543338}, 'Xception': {'accuracy': 0.8571428571428571, 'confidence': 0.7255573281220027, 'avg_response_time': 0.9913085280749496, 'max_response_time': 1.0693688646426827, 'contribution': 0.7278326596532549}, 'InceptionV3': {'accuracy': 0.8811881188118812, 'confidence': 0.7773172395064099, 'avg_response_time': 0.5743677880861292, 'max_response_time': 0.6754832735299773, 'contribution': 0.7703455721977914}}, 'input_state': {'input_file_length': 15, 'image_height': 224, 'image_width': 224}, 'distribution_weights': [1.0, 1.0, 1.0, 1.0, 1.0, 0.0, 0.0, 0.0, 0.0, 0.0, 0.0, 0.0, 0.0, 0.0, 0.0, 0.0, 0.0, 0.0, 0.0, 0.0]}\n",
      "REWARD:  0.8761061946902655\n"
     ]
    },
    {
     "name": "stderr",
     "output_type": "stream",
     "text": [
      "2025-01-24 16:39:20,106:INFO -- Action: Adding a model\n"
     ]
    },
    {
     "name": "stdout",
     "output_type": "stream",
     "text": [
      "STATE:  {'ensemble_state': {'total_energy_consumption': 0.023205572371097348, 'ensemble_size': 16}, 'model_states': {'InceptionResNetV2': {'accuracy': 0.8859649122807017, 'confidence': 0.7785451587354928, 'avg_response_time': 2.0656556652621627, 'max_response_time': 2.180662360029575, 'contribution': 0.7877190852897209}, 'MobileNetV2': {'accuracy': 0.8350515463917526, 'confidence': 0.6899507850715795, 'avg_response_time': 0.09492037385847335, 'max_response_time': 0.14616136826811602, 'contribution': 0.7176055213839737}, 'ResNet50V2': {'accuracy': 0.7738095238095238, 'confidence': 0.721766753920487, 'avg_response_time': 0.3848839803831996, 'max_response_time': 0.43215641092808105, 'contribution': 0.7569913218418757}, 'ensemble': {'accuracy': 0.8771929824561403, 'confidence': 0.7467365495939138, 'avg_response_time': 6.897804824031834, 'max_response_time': 7.248012610627401, 'contribution': 0.9046431238714018}, 'EfficientNetV2S': {'accuracy': 0.9279279279279279, 'confidence': 0.8049637645751506, 'avg_response_time': 1.1452838599326882, 'max_response_time': 1.19607270266405, 'contribution': 0.779413192658811}, 'NASNetLarge': {'accuracy': 0.9181818181818182, 'confidence': 0.8075191394849257, 'avg_response_time': 3.8186881235005457, 'max_response_time': 3.896026702975862, 'contribution': 0.8036710703914816}, 'EfficientNetB7': {'accuracy': 0.9351851851851852, 'confidence': 0.704370780951447, 'avg_response_time': 7.121905799333212, 'max_response_time': 7.235155248866351, 'contribution': 0.660851220841761}, 'DenseNet201': {'accuracy': 0.897196261682243, 'confidence': 0.8108174736811736, 'avg_response_time': 0.5827121413630105, 'max_response_time': 0.7171171364734032, 'contribution': 0.7964812464246126}, 'Xception': {'accuracy': 0.8584905660377359, 'confidence': 0.7279564229384908, 'avg_response_time': 0.9912495246612386, 'max_response_time': 1.0693688646426827, 'contribution': 0.7302102890779387}, 'InceptionV3': {'accuracy': 0.8823529411764706, 'confidence': 0.7794290599869746, 'avg_response_time': 0.5745581119831993, 'max_response_time': 0.6754832735299773, 'contribution': 0.7725257423578524}}, 'input_state': {'input_file_length': 15, 'image_height': 224, 'image_width': 224}, 'distribution_weights': [1.0, 1.0, 1.0, 1.0, 1.0, 0.0, 0.0, 0.0, 0.0, 0.0, 0.0, 0.0, 0.0, 0.0, 0.0, 0.0, 0.0, 0.0, 0.0, 0.0]}\n",
      "REWARD:  0.8771929824561403\n",
      "No eligible models to score.\n"
     ]
    },
    {
     "name": "stderr",
     "output_type": "stream",
     "text": [
      "2025-01-24 16:39:21,017:INFO -- Action: Adding a model\n"
     ]
    },
    {
     "name": "stdout",
     "output_type": "stream",
     "text": [
      "STATE:  {'ensemble_state': {'total_energy_consumption': 0.023205572371097348, 'ensemble_size': 16}, 'model_states': {'InceptionResNetV2': {'accuracy': 0.8782608695652174, 'confidence': 0.771775200833445, 'avg_response_time': 2.0655699150730276, 'max_response_time': 2.180662360029575, 'contribution': 0.7890410145987635}, 'MobileNetV2': {'accuracy': 0.826530612244898, 'confidence': 0.682910470938196, 'avg_response_time': 0.09506094879857552, 'max_response_time': 0.14616136826811602, 'contribution': 0.7102830160637291}, 'ResNet50V2': {'accuracy': 0.7647058823529411, 'confidence': 0.7132753803449519, 'avg_response_time': 0.38495313480732823, 'max_response_time': 0.43215641092808105, 'contribution': 0.7480855415849125}, 'ensemble': {'accuracy': 0.8695652173913043, 'confidence': 0.7402431882930971, 'avg_response_time': 6.899712979455794, 'max_response_time': 7.248012610627401, 'contribution': 0.905405015271643}, 'EfficientNetV2S': {'accuracy': 0.9196428571428571, 'confidence': 0.7977765881057296, 'avg_response_time': 1.1453250372939023, 'max_response_time': 1.19607270266405, 'contribution': 0.7797710145158427}, 'NASNetLarge': {'accuracy': 0.9099099099099099, 'confidence': 0.8002441922823588, 'avg_response_time': 3.8187699898163627, 'max_response_time': 3.896026702975862, 'contribution': 0.8043184744882154}, 'EfficientNetB7': {'accuracy': 0.926605504587156, 'confidence': 0.6979086636950117, 'avg_response_time': 7.1217633688872315, 'max_response_time': 7.235155248866351, 'contribution': 0.6614672432252027}, 'DenseNet201': {'accuracy': 0.8888888888888888, 'confidence': 0.8033099044804219, 'avg_response_time': 0.5827860864708193, 'max_response_time': 0.7171171364734032, 'contribution': 0.7966810671819581}, 'Xception': {'accuracy': 0.8504672897196262, 'confidence': 0.7211530918829909, 'avg_response_time': 0.9913077691936938, 'max_response_time': 1.0693688646426827, 'contribution': 0.7312555853451523}, 'InceptionV3': {'accuracy': 0.8737864077669902, 'confidence': 0.7718617875599166, 'avg_response_time': 0.5743819665771218, 'max_response_time': 0.6754832735299773, 'contribution': 0.7741854925757473}}, 'input_state': {'input_file_length': 15, 'image_height': 224, 'image_width': 224}, 'distribution_weights': [1.0, 1.0, 1.0, 1.0, 1.0, 0.0, 0.0, 0.0, 0.0, 0.0, 0.0, 0.0, 0.0, 0.0, 0.0, 0.0, 0.0, 0.0, 0.0, 0.0]}\n",
      "REWARD:  0.8695652173913043\n",
      "No eligible models to score.\n"
     ]
    },
    {
     "name": "stderr",
     "output_type": "stream",
     "text": [
      "2025-01-24 16:39:21,934:INFO -- Action: Adding a model\n"
     ]
    },
    {
     "name": "stdout",
     "output_type": "stream",
     "text": [
      "STATE:  {'ensemble_state': {'total_energy_consumption': 0.023205572371097348, 'ensemble_size': 16}, 'model_states': {'InceptionResNetV2': {'accuracy': 0.8706896551724138, 'confidence': 0.7651219663435015, 'avg_response_time': 2.065679173955009, 'max_response_time': 2.180662360029575, 'contribution': 0.7822389368867052}, 'MobileNetV2': {'accuracy': 0.8282828282828283, 'confidence': 0.6840205740446996, 'avg_response_time': 0.095070424946042, 'max_response_time': 0.14616136826811602, 'contribution': 0.7111166288154294}, 'ResNet50V2': {'accuracy': 0.7674418604651163, 'confidence': 0.715578536308089, 'avg_response_time': 0.3850521804036039, 'max_response_time': 0.43215641092808105, 'contribution': 0.7499839282313059}, 'ensemble': {'accuracy': 0.8706896551724138, 'confidence': 0.7401491000830084, 'avg_response_time': 6.901702910385216, 'max_response_time': 7.248012610627401, 'contribution': 0.9054562374949455}, 'EfficientNetV2S': {'accuracy': 0.9203539823008849, 'confidence': 0.7985629225726676, 'avg_response_time': 1.1451081722413674, 'max_response_time': 1.19607270266405, 'contribution': 0.7807166903419832}, 'NASNetLarge': {'accuracy': 0.9107142857142857, 'confidence': 0.801179221698216, 'avg_response_time': 3.8191065488651113, 'max_response_time': 3.896026702975862, 'contribution': 0.8052171263843775}, 'EfficientNetB7': {'accuracy': 0.9272727272727272, 'confidence': 0.6989002219655297, 'avg_response_time': 7.121753122204616, 'max_response_time': 7.235155248866351, 'contribution': 0.6627900871363553}, 'DenseNet201': {'accuracy': 0.8899082568807339, 'confidence': 0.8021039642872066, 'avg_response_time': 0.5829303597500292, 'max_response_time': 0.7171171364734032, 'contribution': 0.7955359420098296}, 'Xception': {'accuracy': 0.8425925925925926, 'confidence': 0.7144757484396299, 'avg_response_time': 0.991511521816958, 'max_response_time': 1.0693688646426827, 'contribution': 0.7244847002956603}, 'InceptionV3': {'accuracy': 0.875, 'confidence': 0.7696191273056544, 'avg_response_time': 0.5743994033904841, 'max_response_time': 0.6754832735299773, 'contribution': 0.7719204890040251}}, 'input_state': {'input_file_length': 15, 'image_height': 224, 'image_width': 224}, 'distribution_weights': [1.0, 1.0, 1.0, 1.0, 1.0, 0.0, 0.0, 0.0, 0.0, 0.0, 0.0, 0.0, 0.0, 0.0, 0.0, 0.0, 0.0, 0.0, 0.0, 0.0]}\n",
      "REWARD:  0.8706896551724138\n",
      "No eligible models to score.\n"
     ]
    },
    {
     "name": "stderr",
     "output_type": "stream",
     "text": [
      "2025-01-24 16:39:22,742:INFO -- Action: Keeping the ensemble\n"
     ]
    },
    {
     "name": "stdout",
     "output_type": "stream",
     "text": [
      "STATE:  {'ensemble_state': {'total_energy_consumption': 0.023205572371097348, 'ensemble_size': 16}, 'model_states': {'InceptionResNetV2': {'accuracy': 0.8717948717948718, 'confidence': 0.7665518234428178, 'avg_response_time': 2.0656261262156987, 'max_response_time': 2.180662360029575, 'contribution': 0.7835224950924898}, 'MobileNetV2': {'accuracy': 0.83, 'confidence': 0.6830828750133514, 'avg_response_time': 0.09504523601866958, 'max_response_time': 0.14616136826811602, 'contribution': 0.7099079692363739}, 'ResNet50V2': {'accuracy': 0.7586206896551724, 'confidence': 0.7073534956608696, 'avg_response_time': 0.38542908093185074, 'max_response_time': 0.43215641092808105, 'contribution': 0.741363423309107}, 'ensemble': {'accuracy': 0.8717948717948718, 'confidence': 0.739551942574271, 'avg_response_time': 6.90365175809335, 'max_response_time': 7.248012610627401, 'contribution': 0.9056866563792921}, 'EfficientNetV2S': {'accuracy': 0.9210526315789473, 'confidence': 0.7992215216682669, 'avg_response_time': 1.145181579020694, 'max_response_time': 1.19607270266405, 'contribution': 0.7815318353343428}, 'NASNetLarge': {'accuracy': 0.911504424778761, 'confidence': 0.8016407869558418, 'avg_response_time': 3.819035675707713, 'max_response_time': 3.896026702975862, 'contribution': 0.8056429579722143}, 'EfficientNetB7': {'accuracy': 0.9279279279279279, 'confidence': 0.6997591302738534, 'avg_response_time': 7.121738360413506, 'max_response_time': 7.235155248866351, 'contribution': 0.6639743119746715}, 'DenseNet201': {'accuracy': 0.8909090909090909, 'confidence': 0.8029497268525037, 'avg_response_time': 0.5828641651165248, 'max_response_time': 0.7171171364734032, 'contribution': 0.7964414138685573}, 'Xception': {'accuracy': 0.8440366972477065, 'confidence': 0.7143040099822053, 'avg_response_time': 0.9912287073851952, 'max_response_time': 1.0693688646426827, 'contribution': 0.7242211365918501}, 'InceptionV3': {'accuracy': 0.8761904761904762, 'confidence': 0.7672846152668907, 'avg_response_time': 0.5743962266309688, 'max_response_time': 0.6754832735299773, 'contribution': 0.7695640592348008}}, 'input_state': {'input_file_length': 13, 'image_height': 224, 'image_width': 224}, 'distribution_weights': [1.0, 1.0, 1.0, 1.0, 1.0, 0.0, 0.0, 0.0, 0.0, 0.0, 0.0, 0.0, 0.0, 0.0, 0.0, 0.0, 0.0, 0.0, 0.0, 0.0]}\n",
      "REWARD:  0.8717948717948718\n"
     ]
    },
    {
     "name": "stderr",
     "output_type": "stream",
     "text": [
      "2025-01-24 16:39:23,613:INFO -- Action: Keeping the ensemble\n"
     ]
    },
    {
     "name": "stdout",
     "output_type": "stream",
     "text": [
      "STATE:  {'ensemble_state': {'total_energy_consumption': 0.023205572371097348, 'ensemble_size': 16}, 'model_states': {'InceptionResNetV2': {'accuracy': 0.8728813559322034, 'confidence': 0.767818364804074, 'avg_response_time': 2.0652498458905044, 'max_response_time': 2.180662360029575, 'contribution': 0.7846452172024775}, 'MobileNetV2': {'accuracy': 0.8316831683168316, 'confidence': 0.6858009631090826, 'avg_response_time': 0.09516409682851988, 'max_response_time': 0.14616136826811602, 'contribution': 0.7123604623397978}, 'ResNet50V2': {'accuracy': 0.7613636363636364, 'confidence': 0.7106787030669776, 'avg_response_time': 0.3856595302712416, 'max_response_time': 0.43215641092808105, 'contribution': 0.7443021542646668}, 'ensemble': {'accuracy': 0.8728813559322034, 'confidence': 0.7412513067172809, 'avg_response_time': 6.905415615019034, 'max_response_time': 7.248012610627401, 'contribution': 0.9064857462200068}, 'EfficientNetV2S': {'accuracy': 0.9217391304347826, 'confidence': 0.8002227676951367, 'avg_response_time': 1.1452347155175227, 'max_response_time': 1.19607270266405, 'contribution': 0.7826869047206381}, 'NASNetLarge': {'accuracy': 0.9122807017543859, 'confidence': 0.8025087714195251, 'avg_response_time': 3.8188768041785996, 'max_response_time': 3.896026702975862, 'contribution': 0.8064758356725961}, 'EfficientNetB7': {'accuracy': 0.9285714285714286, 'confidence': 0.7010390729244266, 'avg_response_time': 7.1215455071036065, 'max_response_time': 7.235155248866351, 'contribution': 0.6655737619314875}, 'DenseNet201': {'accuracy': 0.8918918918918919, 'confidence': 0.8047140178916691, 'avg_response_time': 0.5828625230158235, 'max_response_time': 0.7171171364734032, 'contribution': 0.7982643383580286}, 'Xception': {'accuracy': 0.8454545454545455, 'confidence': 0.7167068668387153, 'avg_response_time': 0.9912269622623991, 'max_response_time': 1.0693688646426827, 'contribution': 0.7265338377519087}, 'InceptionV3': {'accuracy': 0.8773584905660378, 'confidence': 0.7686931226613387, 'avg_response_time': 0.5745453684540831, 'max_response_time': 0.6754832735299773, 'contribution': 0.7709510624408722}}, 'input_state': {'input_file_length': 13, 'image_height': 224, 'image_width': 224}, 'distribution_weights': [1.0, 1.0, 1.0, 1.0, 1.0, 0.0, 0.0, 0.0, 0.0, 0.0, 0.0, 0.0, 0.0, 0.0, 0.0, 0.0, 0.0, 0.0, 0.0, 0.0]}\n",
      "REWARD:  0.8728813559322034\n"
     ]
    },
    {
     "name": "stderr",
     "output_type": "stream",
     "text": [
      "2025-01-24 16:39:24,476:INFO -- Action: Replacing a model\n"
     ]
    },
    {
     "name": "stdout",
     "output_type": "stream",
     "text": [
      "STATE:  {'ensemble_state': {'total_energy_consumption': 0.023205572371097348, 'ensemble_size': 16}, 'model_states': {'InceptionResNetV2': {'accuracy': 0.8739495798319328, 'confidence': 0.7685238926851449, 'avg_response_time': 2.065446576021641, 'max_response_time': 2.180662360029575, 'contribution': 0.7852093429625535}, 'MobileNetV2': {'accuracy': 0.8333333333333334, 'confidence': 0.6859305822381786, 'avg_response_time': 0.09516140525638998, 'max_response_time': 0.14616136826811602, 'contribution': 0.7122296942215339}, 'ResNet50V2': {'accuracy': 0.7640449438202247, 'confidence': 0.7138913290554219, 'avg_response_time': 0.3860196615225856, 'max_response_time': 0.43215641092808105, 'contribution': 0.7471369886666201}, 'ensemble': {'accuracy': 0.8739495798319328, 'confidence': 0.7421021440799894, 'avg_response_time': 6.907228572903172, 'max_response_time': 7.248012610627401, 'contribution': 0.907243029159658}, 'EfficientNetV2S': {'accuracy': 0.9224137931034483, 'confidence': 0.8005293826090878, 'avg_response_time': 1.1451510229365895, 'max_response_time': 1.19607270266405, 'contribution': 0.783144690867128}, 'NASNetLarge': {'accuracy': 0.9130434782608695, 'confidence': 0.8031917312870855, 'avg_response_time': 3.8190927384119053, 'max_response_time': 3.896026702975862, 'contribution': 0.8071242993292601}, 'EfficientNetB7': {'accuracy': 0.9292035398230089, 'confidence': 0.7015535027052449, 'avg_response_time': 7.121463468631593, 'max_response_time': 7.235155248866351, 'contribution': 0.6664020440219778}, 'DenseNet201': {'accuracy': 0.8928571428571429, 'confidence': 0.8061176881726299, 'avg_response_time': 0.5833054781054001, 'max_response_time': 0.7171171364734032, 'contribution': 0.7997255950633969}, 'Xception': {'accuracy': 0.8468468468468469, 'confidence': 0.7179260917075045, 'avg_response_time': 0.9912334451709625, 'max_response_time': 1.0693688646426827, 'contribution': 0.7276645313512098}, 'InceptionV3': {'accuracy': 0.8785046728971962, 'confidence': 0.7698112960173705, 'avg_response_time': 0.5744968242100336, 'max_response_time': 0.6754832735299773, 'contribution': 0.7720481335559738}}, 'input_state': {'input_file_length': 14, 'image_height': 224, 'image_width': 224}, 'distribution_weights': [1.0, 1.0, 1.0, 1.0, 1.0, 0.0, 0.0, 0.0, 0.0, 0.0, 0.0, 0.0, 0.0, 0.0, 0.0, 0.0, 0.0, 0.0, 0.0, 0.0]}\n",
      "REWARD:  0.8739495798319328\n",
      "Worst model: EfficientNetV2L with score: 0.5911481481481482\n",
      "Model 'EfficientNetV2L' successfully removed from the target YAML.\n",
      "Best model: EfficientNetV2L with score: 0.5911481481481482\n",
      "Model 'EfficientNetV2L' successfully added to the target YAML.\n"
     ]
    },
    {
     "name": "stderr",
     "output_type": "stream",
     "text": [
      "2025-01-24 16:39:25,514:INFO -- Action: Replacing a model\n"
     ]
    },
    {
     "name": "stdout",
     "output_type": "stream",
     "text": [
      "STATE:  {'ensemble_state': {'total_energy_consumption': 0.023205572371097348, 'ensemble_size': 16}, 'model_states': {'InceptionResNetV2': {'accuracy': 0.875, 'confidence': 0.7695171562333901, 'avg_response_time': 2.065251582591657, 'max_response_time': 2.180662360029575, 'contribution': 0.7860635610918204}, 'MobileNetV2': {'accuracy': 0.8349514563106796, 'confidence': 0.6887876941162405, 'avg_response_time': 0.09516606185952793, 'max_response_time': 0.14616136826811602, 'contribution': 0.7148314749152915}, 'ResNet50V2': {'accuracy': 0.7666666666666667, 'confidence': 0.716969613565339, 'avg_response_time': 0.38609170170488893, 'max_response_time': 0.43215641092808105, 'contribution': 0.7498458769586351}, 'ensemble': {'accuracy': 0.875, 'confidence': 0.7435284766343133, 'avg_response_time': 6.90918914517244, 'max_response_time': 7.248012610627401, 'contribution': 0.908011648307244}, 'EfficientNetV2S': {'accuracy': 0.9230769230769231, 'confidence': 0.801404741839466, 'avg_response_time': 1.1451933995517931, 'max_response_time': 1.19607270266405, 'contribution': 0.7841686372064117}, 'NASNetLarge': {'accuracy': 0.9137931034482759, 'confidence': 0.8041748738494413, 'avg_response_time': 3.819191089390227, 'max_response_time': 3.896026702975862, 'contribution': 0.8080735404429764}, 'EfficientNetB7': {'accuracy': 0.9298245614035088, 'confidence': 0.7026758562577399, 'avg_response_time': 7.12156545490904, 'max_response_time': 7.235155248866351, 'contribution': 0.6678327437032733}, 'DenseNet201': {'accuracy': 0.8938053097345132, 'confidence': 0.8077478284856915, 'avg_response_time': 0.5830972489527372, 'max_response_time': 0.7171171364734032, 'contribution': 0.8014123025721154}, 'Xception': {'accuracy': 0.8482142857142857, 'confidence': 0.7198608195675271, 'avg_response_time': 0.991003174391796, 'max_response_time': 1.0693688646426827, 'contribution': 0.7295123088572707}, 'InceptionV3': {'accuracy': 0.8796296296296297, 'confidence': 0.7717000477843814, 'avg_response_time': 0.5745163500221276, 'max_response_time': 0.6754832735299773, 'contribution': 0.773916173864294}}, 'input_state': {'input_file_length': 14, 'image_height': 224, 'image_width': 224}, 'distribution_weights': [1.0, 1.0, 1.0, 1.0, 1.0, 0.0, 0.0, 0.0, 0.0, 0.0, 0.0, 0.0, 0.0, 0.0, 0.0, 0.0, 0.0, 0.0, 0.0, 0.0]}\n",
      "REWARD:  0.875\n",
      "Worst model: EfficientNetV2L with score: 0.5911481481481482\n",
      "Model 'EfficientNetV2L' successfully removed from the target YAML.\n",
      "Best model: EfficientNetV2L with score: 0.5911481481481482\n",
      "Model 'EfficientNetV2L' successfully added to the target YAML.\n"
     ]
    },
    {
     "name": "stderr",
     "output_type": "stream",
     "text": [
      "2025-01-24 16:39:26,653:INFO -- Action: Adding a model\n"
     ]
    },
    {
     "name": "stdout",
     "output_type": "stream",
     "text": [
      "STATE:  {'ensemble_state': {'total_energy_consumption': 0.023205572371097348, 'ensemble_size': 16}, 'model_states': {'InceptionResNetV2': {'accuracy': 0.8760330578512396, 'confidence': 0.7697420477374526, 'avg_response_time': 2.0651157658507344, 'max_response_time': 2.180662360029575, 'contribution': 0.7861517054482925}, 'MobileNetV2': {'accuracy': 0.8365384615384616, 'confidence': 0.6854076015834625, 'avg_response_time': 0.09510146775090583, 'max_response_time': 0.14616136826811602, 'contribution': 0.7112009614132918}, 'ResNet50V2': {'accuracy': 0.7582417582417582, 'confidence': 0.7090908266030825, 'avg_response_time': 0.38649922819787713, 'max_response_time': 0.43215641092808105, 'contribution': 0.7416058123766721}, 'ensemble': {'accuracy': 0.8760330578512396, 'confidence': 0.7421270923041434, 'avg_response_time': 6.910633777259018, 'max_response_time': 7.248012610627401, 'contribution': 0.9078901752460101}, 'EfficientNetV2S': {'accuracy': 0.9152542372881356, 'confidence': 0.7946131762306569, 'avg_response_time': 1.1451749138852485, 'max_response_time': 1.19607270266405, 'contribution': 0.7775231402809337}, 'NASNetLarge': {'accuracy': 0.9145299145299145, 'confidence': 0.8049367416618217, 'avg_response_time': 3.8192093585851796, 'max_response_time': 3.896026702975862, 'contribution': 0.80880208631866}, 'EfficientNetB7': {'accuracy': 0.9304347826086956, 'confidence': 0.7000110232311746, 'avg_response_time': 7.121149491362378, 'max_response_time': 7.235155248866351, 'contribution': 0.6654708942641383}, 'DenseNet201': {'accuracy': 0.8947368421052632, 'confidence': 0.8062658239352075, 'avg_response_time': 0.5832035962359128, 'max_response_time': 0.7171171364734032, 'contribution': 0.799985872810347}, 'Xception': {'accuracy': 0.8407079646017699, 'confidence': 0.713490369836841, 'avg_response_time': 0.9908909439474456, 'max_response_time': 1.0693688646426827, 'contribution': 0.7230564477169408}, 'InceptionV3': {'accuracy': 0.8807339449541285, 'confidence': 0.7695755225802781, 'avg_response_time': 0.5745445010352085, 'max_response_time': 0.6754832735299773, 'contribution': 0.7717713172282648}}, 'input_state': {'input_file_length': 13, 'image_height': 224, 'image_width': 224}, 'distribution_weights': [1.0, 1.0, 1.0, 1.0, 1.0, 0.0, 0.0, 0.0, 0.0, 0.0, 0.0, 0.0, 0.0, 0.0, 0.0, 0.0, 0.0, 0.0, 0.0, 0.0]}\n",
      "REWARD:  0.8760330578512396\n",
      "No eligible models to score.\n"
     ]
    },
    {
     "name": "stderr",
     "output_type": "stream",
     "text": [
      "2025-01-24 16:39:27,745:INFO -- Action: Adding a model\n"
     ]
    },
    {
     "name": "stdout",
     "output_type": "stream",
     "text": [
      "STATE:  {'ensemble_state': {'total_energy_consumption': 0.023205572371097348, 'ensemble_size': 16}, 'model_states': {'InceptionResNetV2': {'accuracy': 0.8770491803278688, 'confidence': 0.7709185659396843, 'avg_response_time': 2.0652366872144756, 'max_response_time': 2.180662360029575, 'contribution': 0.7871937182594518}, 'MobileNetV2': {'accuracy': 0.8380952380952381, 'confidence': 0.6877464774109069, 'avg_response_time': 0.09520636279684337, 'max_response_time': 0.14616136826811602, 'contribution': 0.7132941861947377}, 'ResNet50V2': {'accuracy': 0.7608695652173914, 'confidence': 0.7118555582735849, 'avg_response_time': 0.38670814241168766, 'max_response_time': 0.43215641092808105, 'contribution': 0.744017120288766}, 'ensemble': {'accuracy': 0.8770491803278688, 'confidence': 0.7432699120846756, 'avg_response_time': 6.912427711760877, 'max_response_time': 7.248012610627401, 'contribution': 0.90858963205189}, 'EfficientNetV2S': {'accuracy': 0.9159663865546218, 'confidence': 0.7954924199260583, 'avg_response_time': 1.1451996377451954, 'max_response_time': 1.19607270266405, 'contribution': 0.7785459977238118}, 'NASNetLarge': {'accuracy': 0.9152542372881356, 'confidence': 0.8057198878061973, 'avg_response_time': 3.8192809102018717, 'max_response_time': 3.896026702975862, 'contribution': 0.8095524753049269}, 'EfficientNetB7': {'accuracy': 0.9310344827586207, 'confidence': 0.7001390236205068, 'avg_response_time': 7.121143686448572, 'max_response_time': 7.235155248866351, 'contribution': 0.6658966543859449}, 'DenseNet201': {'accuracy': 0.8956521739130435, 'confidence': 0.807891546384148, 'avg_response_time': 0.5831290860161673, 'max_response_time': 0.7171171364734032, 'contribution': 0.8016662035299384}, 'Xception': {'accuracy': 0.8421052631578947, 'confidence': 0.7151896297408823, 'avg_response_time': 0.9909371486880527, 'max_response_time': 1.0693688646426827, 'contribution': 0.7246717946571216}, 'InceptionV3': {'accuracy': 0.8818181818181818, 'confidence': 0.7716025720943104, 'avg_response_time': 0.5746581977890141, 'max_response_time': 0.6754832735299773, 'contribution': 0.77377840497277}}, 'input_state': {'input_file_length': 13, 'image_height': 224, 'image_width': 224}, 'distribution_weights': [1.0, 1.0, 1.0, 1.0, 1.0, 0.0, 0.0, 0.0, 0.0, 0.0, 0.0, 0.0, 0.0, 0.0, 0.0, 0.0, 0.0, 0.0, 0.0, 0.0]}\n",
      "REWARD:  0.8770491803278688\n",
      "No eligible models to score.\n"
     ]
    },
    {
     "name": "stderr",
     "output_type": "stream",
     "text": [
      "2025-01-24 16:39:28,635:INFO -- Action: Adding a model\n"
     ]
    },
    {
     "name": "stdout",
     "output_type": "stream",
     "text": [
      "STATE:  {'ensemble_state': {'total_energy_consumption': 0.023205572371097348, 'ensemble_size': 16}, 'model_states': {'InceptionResNetV2': {'accuracy': 0.8780487804878049, 'confidence': 0.7723260277170476, 'avg_response_time': 2.0652034324605855, 'max_response_time': 2.180662360029575, 'contribution': 0.7884688617252722}, 'MobileNetV2': {'accuracy': 0.839622641509434, 'confidence': 0.6894018635997232, 'avg_response_time': 0.09527443996625846, 'max_response_time': 0.14616136826811602, 'contribution': 0.7147085562629519}, 'ResNet50V2': {'accuracy': 0.7634408602150538, 'confidence': 0.7149504939074157, 'avg_response_time': 0.38714142199473944, 'max_response_time': 0.43215641092808105, 'contribution': 0.7467662326751217}, 'ensemble': {'accuracy': 0.8780487804878049, 'confidence': 0.7448141944767813, 'avg_response_time': 6.914336428927729, 'max_response_time': 7.248012610627401, 'contribution': 0.9093302413215482}, 'EfficientNetV2S': {'accuracy': 0.9166666666666666, 'confidence': 0.7965616263449192, 'avg_response_time': 1.1451483762786439, 'max_response_time': 1.19607270266405, 'contribution': 0.7797564243276914}, 'NASNetLarge': {'accuracy': 0.9159663865546218, 'confidence': 0.8065908831708571, 'avg_response_time': 3.8190102631797544, 'max_response_time': 3.896026702975862, 'contribution': 0.8103912640519503}, 'EfficientNetB7': {'accuracy': 0.9316239316239316, 'confidence': 0.701503972721915, 'avg_response_time': 7.121289981103411, 'max_response_time': 7.235155248866351, 'contribution': 0.6675542733098707}, 'DenseNet201': {'accuracy': 0.896551724137931, 'confidence': 0.8095205757638504, 'avg_response_time': 0.5831941173746952, 'max_response_time': 0.7171171364734032, 'contribution': 0.803348899658384}, 'Xception': {'accuracy': 0.8434782608695652, 'confidence': 0.7167098151600879, 'avg_response_time': 0.9906283254449573, 'max_response_time': 1.0693688646426827, 'contribution': 0.7261095264683599}, 'InceptionV3': {'accuracy': 0.8828828828828829, 'confidence': 0.7728777994980683, 'avg_response_time': 0.5746976443688918, 'max_response_time': 0.6754832735299773, 'contribution': 0.7750340302785238}}, 'input_state': {'input_file_length': 15, 'image_height': 224, 'image_width': 224}, 'distribution_weights': [1.0, 1.0, 1.0, 1.0, 1.0, 0.0, 0.0, 0.0, 0.0, 0.0, 0.0, 0.0, 0.0, 0.0, 0.0, 0.0, 0.0, 0.0, 0.0, 0.0]}\n",
      "REWARD:  0.8780487804878049\n",
      "No eligible models to score.\n"
     ]
    },
    {
     "name": "stderr",
     "output_type": "stream",
     "text": [
      "2025-01-24 16:39:29,378:INFO -- Action: Keeping the ensemble\n"
     ]
    },
    {
     "name": "stdout",
     "output_type": "stream",
     "text": [
      "STATE:  {'ensemble_state': {'total_energy_consumption': 0.023205572371097348, 'ensemble_size': 16}, 'model_states': {'InceptionResNetV2': {'accuracy': 0.8790322580645161, 'confidence': 0.7732233200823108, 'avg_response_time': 2.065358106080857, 'max_response_time': 2.180662360029575, 'contribution': 0.7892359699453076}, 'MobileNetV2': {'accuracy': 0.8411214953271028, 'confidence': 0.6888939663071498, 'avg_response_time': 0.09526208568765039, 'max_response_time': 0.14616136826811602, 'contribution': 0.7139641478239933}, 'ResNet50V2': {'accuracy': 0.7659574468085106, 'confidence': 0.7178686238983845, 'avg_response_time': 0.3873418658448738, 'max_response_time': 0.43215641092808105, 'contribution': 0.749345897360051}, 'ensemble': {'accuracy': 0.8790322580645161, 'confidence': 0.745592850305185, 'avg_response_time': 6.916076997749827, 'max_response_time': 7.248012610627401, 'contribution': 0.9100141825695192}, 'EfficientNetV2S': {'accuracy': 0.9173553719008265, 'confidence': 0.7972013731140736, 'avg_response_time': 1.1452286467834103, 'max_response_time': 1.19607270266405, 'contribution': 0.7805350570639303}, 'NASNetLarge': {'accuracy': 0.9166666666666666, 'confidence': 0.8074049572149913, 'avg_response_time': 3.819086766653721, 'max_response_time': 3.896026702975862, 'contribution': 0.8111736682554086}, 'EfficientNetB7': {'accuracy': 0.9322033898305084, 'confidence': 0.7017282156620995, 'avg_response_time': 7.121284733484793, 'max_response_time': 7.235155248866351, 'contribution': 0.6680662255671065}, 'DenseNet201': {'accuracy': 0.8974358974358975, 'confidence': 0.8110985106382614, 'avg_response_time': 0.5832396833964599, 'max_response_time': 0.7171171364734032, 'contribution': 0.8049795839012178}, 'Xception': {'accuracy': 0.8448275862068966, 'confidence': 0.7188983515932642, 'avg_response_time': 0.9907691138680922, 'max_response_time': 1.0693688646426827, 'contribution': 0.7282170309074993}, 'InceptionV3': {'accuracy': 0.8839285714285714, 'confidence': 0.7745246051677636, 'avg_response_time': 0.5747388075732625, 'max_response_time': 0.6754832735299773, 'contribution': 0.7766615838876793}}, 'input_state': {'input_file_length': 14, 'image_height': 224, 'image_width': 224}, 'distribution_weights': [1.0, 1.0, 1.0, 1.0, 1.0, 0.0, 0.0, 0.0, 0.0, 0.0, 0.0, 0.0, 0.0, 0.0, 0.0, 0.0, 0.0, 0.0, 0.0, 0.0]}\n",
      "REWARD:  0.8790322580645161\n"
     ]
    },
    {
     "name": "stderr",
     "output_type": "stream",
     "text": [
      "2025-01-24 16:39:30,198:INFO -- Action: Replacing a model\n"
     ]
    },
    {
     "name": "stdout",
     "output_type": "stream",
     "text": [
      "STATE:  {'ensemble_state': {'total_energy_consumption': 0.023205572371097348, 'ensemble_size': 16}, 'model_states': {'InceptionResNetV2': {'accuracy': 0.88, 'confidence': 0.773998678445816, 'avg_response_time': 2.0654753719955585, 'max_response_time': 2.180662360029575, 'contribution': 0.7829220821857452}, 'MobileNetV2': {'accuracy': 0.8425925925925926, 'confidence': 0.6894049895582376, 'avg_response_time': 0.09535072324962324, 'max_response_time': 0.14616136826811602, 'contribution': 0.7073533686774748}, 'ResNet50V2': {'accuracy': 0.7578947368421053, 'confidence': 0.7103121120678751, 'avg_response_time': 0.387368713299968, 'max_response_time': 0.43215641092808105, 'contribution': 0.7414580458088925}, 'ensemble': {'accuracy': 0.872, 'confidence': 0.7396281075027434, 'avg_response_time': 6.917775705120227, 'max_response_time': 7.248012610627401, 'contribution': 0.902734069108963}, 'EfficientNetV2S': {'accuracy': 0.9180327868852459, 'confidence': 0.7980620780440627, 'avg_response_time': 1.1454014856480632, 'max_response_time': 1.19607270266405, 'contribution': 0.7741372287273407}, 'NASNetLarge': {'accuracy': 0.9173553719008265, 'confidence': 0.8078909708448678, 'avg_response_time': 3.8187800823136144, 'max_response_time': 3.896026702975862, 'contribution': 0.8044697536417276}, 'EfficientNetB7': {'accuracy': 0.9327731092436975, 'confidence': 0.7012883004020242, 'avg_response_time': 7.121235987826912, 'max_response_time': 7.235155248866351, 'contribution': 0.6624522236715845}, 'DenseNet201': {'accuracy': 0.8983050847457628, 'confidence': 0.8105398166482731, 'avg_response_time': 0.5834645901636645, 'max_response_time': 0.7171171364734032, 'contribution': 0.7981577230206991}, 'Xception': {'accuracy': 0.8461538461538461, 'confidence': 0.7182606206490443, 'avg_response_time': 0.9907251554605436, 'max_response_time': 1.0693688646426827, 'contribution': 0.7219929537202558}, 'InceptionV3': {'accuracy': 0.8761061946902655, 'confidence': 0.7676704051220311, 'avg_response_time': 0.5747412821290421, 'max_response_time': 0.6754832735299773, 'contribution': 0.7697884725258414}}, 'input_state': {'input_file_length': 14, 'image_height': 224, 'image_width': 224}, 'distribution_weights': [1.0, 1.0, 1.0, 1.0, 1.0, 0.0, 0.0, 0.0, 0.0, 0.0, 0.0, 0.0, 0.0, 0.0, 0.0, 0.0, 0.0, 0.0, 0.0, 0.0]}\n",
      "REWARD:  0.872\n",
      "Worst model: EfficientNetV2L with score: 0.5911481481481482\n",
      "Model 'EfficientNetV2L' successfully removed from the target YAML.\n",
      "Best model: EfficientNetV2L with score: 0.5911481481481482\n",
      "Model 'EfficientNetV2L' successfully added to the target YAML.\n"
     ]
    },
    {
     "name": "stderr",
     "output_type": "stream",
     "text": [
      "2025-01-24 16:39:31,246:INFO -- Action: Replacing a model\n"
     ]
    },
    {
     "name": "stdout",
     "output_type": "stream",
     "text": [
      "STATE:  {'ensemble_state': {'total_energy_consumption': 0.023205572371097348, 'ensemble_size': 16}, 'model_states': {'InceptionResNetV2': {'accuracy': 0.8809523809523809, 'confidence': 0.7752931148759903, 'avg_response_time': 2.0654422579039973, 'max_response_time': 2.180662360029575, 'contribution': 0.7841456979513168}, 'MobileNetV2': {'accuracy': 0.8440366972477065, 'confidence': 0.6918960949149701, 'avg_response_time': 0.09536995046349263, 'max_response_time': 0.14616136826811602, 'contribution': 0.7096798100055904}, 'ResNet50V2': {'accuracy': 0.7604166666666666, 'confidence': 0.7133188660567006, 'avg_response_time': 0.3875870999844882, 'max_response_time': 0.43215641092808105, 'contribution': 0.7441403629879156}, 'ensemble': {'accuracy': 0.873015873015873, 'confidence': 0.741273538534411, 'avg_response_time': 6.920528755246146, 'max_response_time': 7.2646600209859935, 'contribution': 0.9035041339340664}, 'EfficientNetV2S': {'accuracy': 0.9186991869918699, 'confidence': 0.7990260029711375, 'avg_response_time': 1.145491367749318, 'max_response_time': 1.19607270266405, 'contribution': 0.7752956646244701}, 'NASNetLarge': {'accuracy': 0.9180327868852459, 'confidence': 0.8086539223545888, 'avg_response_time': 3.8187313710986173, 'max_response_time': 3.896026702975862, 'contribution': 0.8052607479154087}, 'EfficientNetB7': {'accuracy': 0.9333333333333333, 'confidence': 0.702442692220211, 'avg_response_time': 7.122359127514915, 'max_response_time': 7.2560127503873435, 'contribution': 0.6639302494625251}, 'DenseNet201': {'accuracy': 0.8991596638655462, 'confidence': 0.8121298829547497, 'avg_response_time': 0.5833163878967546, 'max_response_time': 0.7171171364734032, 'contribution': 0.79985184053413}, 'Xception': {'accuracy': 0.847457627118644, 'confidence': 0.720003282872297, 'avg_response_time': 0.9906519253810668, 'max_response_time': 1.0693688646426827, 'contribution': 0.723703986002227}, 'InceptionV3': {'accuracy': 0.8771929824561403, 'confidence': 0.7696834535975206, 'avg_response_time': 0.5746246220059291, 'max_response_time': 0.6754832735299773, 'contribution': 0.7717829414627009}}, 'input_state': {'input_file_length': 15, 'image_height': 224, 'image_width': 224}, 'distribution_weights': [1.0, 1.0, 1.0, 1.0, 1.0, 0.0, 0.0, 0.0, 0.0, 0.0, 0.0, 0.0, 0.0, 0.0, 0.0, 0.0, 0.0, 0.0, 0.0, 0.0]}\n",
      "REWARD:  0.873015873015873\n",
      "Worst model: EfficientNetV2L with score: 0.5911481481481482\n",
      "Model 'EfficientNetV2L' successfully removed from the target YAML.\n",
      "Best model: EfficientNetV2L with score: 0.5911481481481482\n",
      "Model 'EfficientNetV2L' successfully added to the target YAML.\n"
     ]
    },
    {
     "name": "stderr",
     "output_type": "stream",
     "text": [
      "2025-01-24 16:39:32,283:INFO -- Action: Keeping the ensemble\n"
     ]
    },
    {
     "name": "stdout",
     "output_type": "stream",
     "text": [
      "STATE:  {'ensemble_state': {'total_energy_consumption': 0.023205572371097348, 'ensemble_size': 16}, 'model_states': {'InceptionResNetV2': {'accuracy': 0.8818897637795275, 'confidence': 0.7763821560097491, 'avg_response_time': 2.0651803081835935, 'max_response_time': 2.180662360029575, 'contribution': 0.7851650337065299}, 'MobileNetV2': {'accuracy': 0.8454545454545455, 'confidence': 0.6944343477487565, 'avg_response_time': 0.09533584984461149, 'max_response_time': 0.14616136826811602, 'contribution': 0.7120563927021893}, 'ResNet50V2': {'accuracy': 0.7628865979381443, 'confidence': 0.7134133672591337, 'avg_response_time': 0.38794676107839055, 'max_response_time': 0.43215641092808105, 'contribution': 0.7439171167993054}, 'ensemble': {'accuracy': 0.8740157480314961, 'confidence': 0.7424670581182126, 'avg_response_time': 6.922333727791751, 'max_response_time': 7.2646600209859935, 'contribution': 0.9042201710967567}, 'EfficientNetV2S': {'accuracy': 0.9193548387096774, 'confidence': 0.7997277261268708, 'avg_response_time': 1.1454196450832108, 'max_response_time': 1.19607270266405, 'contribution': 0.7761887614765475}, 'NASNetLarge': {'accuracy': 0.9186991869918699, 'confidence': 0.8094135682757307, 'avg_response_time': 3.8188385155159694, 'max_response_time': 3.896026702975862, 'contribution': 0.8060479806206091}, 'EfficientNetB7': {'accuracy': 0.9338842975206612, 'confidence': 0.7027548832341659, 'avg_response_time': 7.122518642998713, 'max_response_time': 7.2560127503873435, 'contribution': 0.6645607251273699}, 'DenseNet201': {'accuracy': 0.9, 'confidence': 0.8131671465933323, 'avg_response_time': 0.5838861321309013, 'max_response_time': 0.7171171364734032, 'contribution': 0.8009914211928845}, 'Xception': {'accuracy': 0.8487394957983193, 'confidence': 0.7221567152428026, 'avg_response_time': 0.9906566176912498, 'max_response_time': 1.0693688646426827, 'contribution': 0.7258263200271029}, 'InceptionV3': {'accuracy': 0.8782608695652174, 'confidence': 0.7707127229027126, 'avg_response_time': 0.5747109667222862, 'max_response_time': 0.6754832735299773, 'contribution': 0.772793954351674}}, 'input_state': {'input_file_length': 15, 'image_height': 224, 'image_width': 224}, 'distribution_weights': [1.0, 1.0, 1.0, 1.0, 1.0, 0.0, 0.0, 0.0, 0.0, 0.0, 0.0, 0.0, 0.0, 0.0, 0.0, 0.0, 0.0, 0.0, 0.0, 0.0]}\n",
      "REWARD:  0.8740157480314961\n"
     ]
    },
    {
     "name": "stderr",
     "output_type": "stream",
     "text": [
      "2025-01-24 16:39:33,138:INFO -- Action: Keeping the ensemble\n"
     ]
    },
    {
     "name": "stdout",
     "output_type": "stream",
     "text": [
      "STATE:  {'ensemble_state': {'total_energy_consumption': 0.023205572371097348, 'ensemble_size': 16}, 'model_states': {'InceptionResNetV2': {'accuracy': 0.8828125, 'confidence': 0.7774798523169011, 'avg_response_time': 2.0650770287846547, 'max_response_time': 2.180662360029575, 'contribution': 0.7861941137816757}, 'MobileNetV2': {'accuracy': 0.8468468468468469, 'confidence': 0.6969941083912377, 'avg_response_time': 0.09534204211117107, 'max_response_time': 0.14616136826811602, 'contribution': 0.714457396182928}, 'ResNet50V2': {'accuracy': 0.7653061224489796, 'confidence': 0.7163377170051847, 'avg_response_time': 0.38795470945644717, 'max_response_time': 0.43215641092808105, 'contribution': 0.7465302037949465}, 'ensemble': {'accuracy': 0.875, 'confidence': 0.7440791141927522, 'avg_response_time': 6.924016255895194, 'max_response_time': 7.2646600209859935, 'contribution': 0.9049684482160956}, 'EfficientNetV2S': {'accuracy': 0.92, 'confidence': 0.8008109900951386, 'avg_response_time': 1.145834511321988, 'max_response_time': 1.197277924930375, 'contribution': 0.7774603371620178}, 'NASNetLarge': {'accuracy': 0.9193548387096774, 'confidence': 0.8102163033139321, 'avg_response_time': 3.819791746676722, 'max_response_time': 3.937039179449276, 'contribution': 0.8068778574947388}, 'EfficientNetB7': {'accuracy': 0.9344262295081968, 'confidence': 0.7040707825637255, 'avg_response_time': 7.122562686426959, 'max_response_time': 7.2560127503873435, 'contribution': 0.6661896913266573}, 'DenseNet201': {'accuracy': 0.9008264462809917, 'confidence': 0.814708598142813, 'avg_response_time': 0.5840564761053144, 'max_response_time': 0.7171171364734032, 'contribution': 0.802633498572121}, 'Xception': {'accuracy': 0.85, 'confidence': 0.7230193771421909, 'avg_response_time': 0.9909426190936117, 'max_response_time': 1.0693688646426827, 'contribution': 0.7266584018866221}, 'InceptionV3': {'accuracy': 0.8793103448275862, 'confidence': 0.7724312877860563, 'avg_response_time': 0.5747511684823131, 'max_response_time': 0.6754832735299773, 'contribution': 0.7744945775845955}}, 'input_state': {'input_file_length': 14, 'image_height': 224, 'image_width': 224}, 'distribution_weights': [1.0, 1.0, 1.0, 1.0, 1.0, 0.0, 0.0, 0.0, 0.0, 0.0, 0.0, 0.0, 0.0, 0.0, 0.0, 0.0, 0.0, 0.0, 0.0, 0.0]}\n",
      "REWARD:  0.875\n"
     ]
    },
    {
     "name": "stderr",
     "output_type": "stream",
     "text": [
      "2025-01-24 16:39:34,038:INFO -- Action: Adding a model\n"
     ]
    },
    {
     "name": "stdout",
     "output_type": "stream",
     "text": [
      "STATE:  {'ensemble_state': {'total_energy_consumption': 0.023205572371097348, 'ensemble_size': 16}, 'model_states': {'InceptionResNetV2': {'accuracy': 0.8837209302325582, 'confidence': 0.7779377137505731, 'avg_response_time': 2.0655793629738426, 'max_response_time': 2.180662360029575, 'contribution': 0.7865844228008921}, 'MobileNetV2': {'accuracy': 0.8482142857142857, 'confidence': 0.6991889889218977, 'avg_response_time': 0.09540781840100794, 'max_response_time': 0.14616136826811602, 'contribution': 0.7164963545011622}, 'ResNet50V2': {'accuracy': 0.7676767676767676, 'confidence': 0.7191985403046464, 'avg_response_time': 0.38810198553391306, 'max_response_time': 0.43215641092808105, 'contribution': 0.7490860524803701}, 'ensemble': {'accuracy': 0.875968992248062, 'confidence': 0.7449437197545056, 'avg_response_time': 6.925257231002889, 'max_response_time': 7.2646600209859935, 'contribution': 0.9057017100411792}, 'EfficientNetV2S': {'accuracy': 0.9206349206349206, 'confidence': 0.8015300402092556, 'avg_response_time': 1.1457159178765388, 'max_response_time': 1.197277924930375, 'contribution': 0.7783647099184612}, 'NASNetLarge': {'accuracy': 0.92, 'confidence': 0.8107217025756835, 'avg_response_time': 3.8198506675125907, 'max_response_time': 3.937039179449276, 'contribution': 0.8074099643230438}, 'EfficientNetB7': {'accuracy': 0.9349593495934959, 'confidence': 0.704637948090468, 'avg_response_time': 7.1221823702404645, 'max_response_time': 7.2560127503873435, 'contribution': 0.6670648332049207}, 'DenseNet201': {'accuracy': 0.9016393442622951, 'confidence': 0.8160015425232591, 'avg_response_time': 0.5842163599793844, 'max_response_time': 0.7171171364734032, 'contribution': 0.8040254191785562}, 'Xception': {'accuracy': 0.8512396694214877, 'confidence': 0.7244170911548552, 'avg_response_time': 0.9908026714997776, 'max_response_time': 1.0693688646426827, 'contribution': 0.7280260413146216}, 'InceptionV3': {'accuracy': 0.8803418803418803, 'confidence': 0.7737350718587892, 'avg_response_time': 0.5747794348162076, 'max_response_time': 0.6754832735299773, 'contribution': 0.7757807267017853}}, 'input_state': {'input_file_length': 15, 'image_height': 224, 'image_width': 224}, 'distribution_weights': [1.0, 1.0, 1.0, 1.0, 1.0, 0.0, 0.0, 0.0, 0.0, 0.0, 0.0, 0.0, 0.0, 0.0, 0.0, 0.0, 0.0, 0.0, 0.0, 0.0]}\n",
      "REWARD:  0.875968992248062\n",
      "No eligible models to score.\n"
     ]
    },
    {
     "name": "stderr",
     "output_type": "stream",
     "text": [
      "2025-01-24 16:39:34,988:INFO -- Action: Adding a model\n"
     ]
    },
    {
     "name": "stdout",
     "output_type": "stream",
     "text": [
      "STATE:  {'ensemble_state': {'total_energy_consumption': 0.023205572371097348, 'ensemble_size': 16}, 'model_states': {'InceptionResNetV2': {'accuracy': 0.8846153846153846, 'confidence': 0.7782442970917776, 'avg_response_time': 2.065850945107847, 'max_response_time': 2.180662360029575, 'contribution': 0.7868244929955556}, 'MobileNetV2': {'accuracy': 0.8495575221238938, 'confidence': 0.7001733460785013, 'avg_response_time': 0.09547208666028616, 'max_response_time': 0.14616136826811602, 'contribution': 0.7173275491305157}, 'ResNet50V2': {'accuracy': 0.77, 'confidence': 0.7204502514004707, 'avg_response_time': 0.3881916718423678, 'max_response_time': 0.43215641092808105, 'contribution': 0.7500388884544372}, 'ensemble': {'accuracy': 0.8769230769230769, 'confidence': 0.7455257112724978, 'avg_response_time': 6.926573245156545, 'max_response_time': 7.2646600209859935, 'contribution': 0.9063956084159704}, 'EfficientNetV2S': {'accuracy': 0.9212598425196851, 'confidence': 0.8021933804816148, 'avg_response_time': 1.1458625665244437, 'max_response_time': 1.197277924930375, 'contribution': 0.7792104543663385}, 'NASNetLarge': {'accuracy': 0.9206349206349206, 'confidence': 0.8113788810987321, 'avg_response_time': 3.8199713868044105, 'max_response_time': 3.937039179449276, 'contribution': 0.8080934264830181}, 'EfficientNetB7': {'accuracy': 0.9274193548387096, 'confidence': 0.6989553839929642, 'avg_response_time': 7.1219100345253095, 'max_response_time': 7.2560127503873435, 'contribution': 0.6616852780984294}, 'DenseNet201': {'accuracy': 0.9024390243902439, 'confidence': 0.8174642007040783, 'avg_response_time': 0.5840597565480835, 'max_response_time': 0.7171171364734032, 'contribution': 0.8055854442158366}, 'Xception': {'accuracy': 0.8524590163934426, 'confidence': 0.7254977165186991, 'avg_response_time': 0.9907279512729883, 'max_response_time': 1.0693688646426827, 'contribution': 0.729077085119779}, 'InceptionV3': {'accuracy': 0.8813559322033898, 'confidence': 0.7729767682188649, 'avg_response_time': 0.5747882956414107, 'max_response_time': 0.6754832735299773, 'contribution': 0.7750050870038695}}, 'input_state': {'input_file_length': 15, 'image_height': 224, 'image_width': 224}, 'distribution_weights': [1.0, 1.0, 1.0, 1.0, 1.0, 0.0, 0.0, 0.0, 0.0, 0.0, 0.0, 0.0, 0.0, 0.0, 0.0, 0.0, 0.0, 0.0, 0.0, 0.0]}\n",
      "REWARD:  0.8769230769230769\n",
      "No eligible models to score.\n"
     ]
    },
    {
     "name": "stderr",
     "output_type": "stream",
     "text": [
      "2025-01-24 16:39:35,898:INFO -- Action: Adding a model\n"
     ]
    },
    {
     "name": "stdout",
     "output_type": "stream",
     "text": [
      "STATE:  {'ensemble_state': {'total_energy_consumption': 0.023205572371097348, 'ensemble_size': 16}, 'model_states': {'InceptionResNetV2': {'accuracy': 0.8854961832061069, 'confidence': 0.7792198250766929, 'avg_response_time': 2.065670685005997, 'max_response_time': 2.180662360029575, 'contribution': 0.7877345233018161}, 'MobileNetV2': {'accuracy': 0.8508771929824561, 'confidence': 0.7022963456417385, 'avg_response_time': 0.09547381229913096, 'max_response_time': 0.14616136826811602, 'contribution': 0.7193000732283843}, 'ResNet50V2': {'accuracy': 0.7722772277227723, 'confidence': 0.7232165481194411, 'avg_response_time': 0.3883060259622345, 'max_response_time': 0.43215641092808105, 'contribution': 0.7525122283708932}, 'ensemble': {'accuracy': 0.8778625954198473, 'confidence': 0.7469994181156778, 'avg_response_time': 6.928127679110295, 'max_response_time': 7.2646600209859935, 'contribution': 0.9071089718633025}, 'EfficientNetV2S': {'accuracy': 0.921875, 'confidence': 0.8032410938758403, 'avg_response_time': 1.1459265761793793, 'max_response_time': 1.197277924930375, 'contribution': 0.7804377218708396}, 'NASNetLarge': {'accuracy': 0.9212598425196851, 'confidence': 0.8122370839118958, 'avg_response_time': 3.8196533474219962, 'max_response_time': 3.937039179449276, 'contribution': 0.8089774990175652}, 'EfficientNetB7': {'accuracy': 0.928, 'confidence': 0.7001391077041625, 'avg_response_time': 7.121900604704651, 'max_response_time': 7.2560127503873435, 'contribution': 0.6631671626567841}, 'DenseNet201': {'accuracy': 0.9032258064516129, 'confidence': 0.8189177938526676, 'avg_response_time': 0.5843665912434255, 'max_response_time': 0.7171171364734032, 'contribution': 0.8071348337877181}, 'Xception': {'accuracy': 0.8536585365853658, 'confidence': 0.7270122696229113, 'avg_response_time': 0.990743834946272, 'max_response_time': 1.0693688646426827, 'contribution': 0.7305625376662588}, 'InceptionV3': {'accuracy': 0.8823529411764706, 'confidence': 0.7748364731043327, 'avg_response_time': 0.5745901406845584, 'max_response_time': 0.6754832735299773, 'contribution': 0.7768477471936651}}, 'input_state': {'input_file_length': 33, 'image_height': 224, 'image_width': 224}, 'distribution_weights': [1.0, 1.0, 1.0, 1.0, 1.0, 0.0, 0.0, 0.0, 0.0, 0.0, 0.0, 0.0, 0.0, 0.0, 0.0, 0.0, 0.0, 0.0, 0.0, 0.0]}\n",
      "REWARD:  0.8778625954198473\n",
      "No eligible models to score.\n"
     ]
    },
    {
     "name": "stderr",
     "output_type": "stream",
     "text": [
      "2025-01-24 16:39:36,802:INFO -- Action: Keeping the ensemble\n"
     ]
    },
    {
     "name": "stdout",
     "output_type": "stream",
     "text": [
      "STATE:  {'ensemble_state': {'total_energy_consumption': 0.023205572371097348, 'ensemble_size': 16}, 'model_states': {'InceptionResNetV2': {'accuracy': 0.8787878787878788, 'confidence': 0.7733166445836877, 'avg_response_time': 2.065388720551503, 'max_response_time': 2.180662360029575, 'contribution': 0.7881763281695771}, 'MobileNetV2': {'accuracy': 0.8434782608695652, 'confidence': 0.6961894208970277, 'avg_response_time': 0.09560467913669284, 'max_response_time': 0.14616136826811602, 'contribution': 0.7204862037430639}, 'ResNet50V2': {'accuracy': 0.7647058823529411, 'confidence': 0.7161261898045447, 'avg_response_time': 0.38822842259914175, 'max_response_time': 0.43215641092808105, 'contribution': 0.7509124875068665}, 'ensemble': {'accuracy': 0.8712121212121212, 'confidence': 0.7413403316148015, 'avg_response_time': 6.929963671003885, 'max_response_time': 7.2646600209859935, 'contribution': 0.9071648330851034}, 'EfficientNetV2S': {'accuracy': 0.9147286821705426, 'confidence': 0.797014418729516, 'avg_response_time': 1.1458152450202668, 'max_response_time': 1.197277924930375, 'contribution': 0.7772194671538449}, 'NASNetLarge': {'accuracy': 0.9140625, 'confidence': 0.8058914816938341, 'avg_response_time': 3.8195150861658824, 'max_response_time': 3.937039179449276, 'contribution': 0.809573353966698}, 'EfficientNetB7': {'accuracy': 0.9285714285714286, 'confidence': 0.6987919400608729, 'avg_response_time': 7.122196339256667, 'max_response_time': 7.2560127503873435, 'contribution': 0.6579039312071271}, 'DenseNet201': {'accuracy': 0.896, 'confidence': 0.8123664515018463, 'avg_response_time': 0.5844853047616447, 'max_response_time': 0.7171171364734032, 'contribution': 0.8073890244960785}, 'Xception': {'accuracy': 0.8467741935483871, 'confidence': 0.7211492674485329, 'avg_response_time': 0.9907167664490386, 'max_response_time': 1.0693688646426827, 'contribution': 0.7297485850511058}, 'InceptionV3': {'accuracy': 0.875, 'confidence': 0.7683795024951299, 'avg_response_time': 0.5747299155788034, 'max_response_time': 0.6754832735299773, 'contribution': 0.7779947047432264}}, 'input_state': {'input_file_length': 14, 'image_height': 224, 'image_width': 224}, 'distribution_weights': [1.0, 1.0, 1.0, 1.0, 1.0, 0.0, 0.0, 0.0, 0.0, 0.0, 0.0, 0.0, 0.0, 0.0, 0.0, 0.0, 0.0, 0.0, 0.0, 0.0]}\n",
      "REWARD:  0.8712121212121212\n"
     ]
    },
    {
     "name": "stderr",
     "output_type": "stream",
     "text": [
      "2025-01-24 16:39:37,631:INFO -- Action: Keeping the ensemble\n"
     ]
    },
    {
     "name": "stdout",
     "output_type": "stream",
     "text": [
      "STATE:  {'ensemble_state': {'total_energy_consumption': 0.023205572371097348, 'ensemble_size': 16}, 'model_states': {'InceptionResNetV2': {'accuracy': 0.8721804511278195, 'confidence': 0.7675022337221562, 'avg_response_time': 2.0655796510733806, 'max_response_time': 2.180662360029575, 'contribution': 0.7868086644133231}, 'MobileNetV2': {'accuracy': 0.8362068965517241, 'confidence': 0.6901877879582602, 'avg_response_time': 0.09561003731167515, 'max_response_time': 0.14616136826811602, 'contribution': 0.7215194329619408}, 'ResNet50V2': {'accuracy': 0.7572815533980582, 'confidence': 0.7091735083501316, 'avg_response_time': 0.38855522281153393, 'max_response_time': 0.43215641092808105, 'contribution': 0.7489270469517384}, 'ensemble': {'accuracy': 0.8646616541353384, 'confidence': 0.7357663441590511, 'avg_response_time': 6.931414172397114, 'max_response_time': 7.2646600209859935, 'contribution': 0.9066623966944846}, 'EfficientNetV2S': {'accuracy': 0.9076923076923077, 'confidence': 0.7908835385854428, 'avg_response_time': 1.1456548750428674, 'max_response_time': 1.197277924930375, 'contribution': 0.7770462882060271}, 'NASNetLarge': {'accuracy': 0.9069767441860465, 'confidence': 0.7996442609055098, 'avg_response_time': 3.8195354859896447, 'max_response_time': 3.937039179449276, 'contribution': 0.8094092009141464}, 'EfficientNetB7': {'accuracy': 0.9291338582677166, 'confidence': 0.6969343595148072, 'avg_response_time': 7.122113639100539, 'max_response_time': 7.2560127503873435, 'contribution': 0.6527235852921103}, 'DenseNet201': {'accuracy': 0.8888888888888888, 'confidence': 0.8059190987121492, 'avg_response_time': 0.5842413254485361, 'max_response_time': 0.7171171364734032, 'contribution': 0.8051942702796724}, 'Xception': {'accuracy': 0.84, 'confidence': 0.7153800733089447, 'avg_response_time': 0.990847142583982, 'max_response_time': 1.0693688646426827, 'contribution': 0.7298731293678283}, 'InceptionV3': {'accuracy': 0.8677685950413223, 'confidence': 0.7620292586728561, 'avg_response_time': 0.5748220647366508, 'max_response_time': 0.6754832735299773, 'contribution': 0.7750863206288046}}, 'input_state': {'input_file_length': 14, 'image_height': 224, 'image_width': 224}, 'distribution_weights': [1.0, 1.0, 1.0, 1.0, 1.0, 0.0, 0.0, 0.0, 0.0, 0.0, 0.0, 0.0, 0.0, 0.0, 0.0, 0.0, 0.0, 0.0, 0.0, 0.0]}\n",
      "REWARD:  0.8646616541353384\n"
     ]
    },
    {
     "name": "stderr",
     "output_type": "stream",
     "text": [
      "2025-01-24 16:39:38,527:INFO -- Action: Replacing a model\n"
     ]
    },
    {
     "name": "stdout",
     "output_type": "stream",
     "text": [
      "STATE:  {'ensemble_state': {'total_energy_consumption': 0.023205572371097348, 'ensemble_size': 16}, 'model_states': {'InceptionResNetV2': {'accuracy': 0.8731343283582089, 'confidence': 0.7691043315093908, 'avg_response_time': 2.0656368367563185, 'max_response_time': 2.180662360029575, 'contribution': 0.7882666843595789}, 'MobileNetV2': {'accuracy': 0.8376068376068376, 'confidence': 0.6887116134166718, 'avg_response_time': 0.09565828682078634, 'max_response_time': 0.14616136826811602, 'contribution': 0.719775466582714}, 'ResNet50V2': {'accuracy': 0.7596153846153846, 'confidence': 0.7093090429328955, 'avg_response_time': 0.388786476284329, 'max_response_time': 0.43215641092808105, 'contribution': 0.7486803359710253}, 'ensemble': {'accuracy': 0.8656716417910447, 'confidence': 0.7354151522361829, 'avg_response_time': 6.932842867411114, 'max_response_time': 7.2646600209859935, 'contribution': 0.9072259858028212}, 'EfficientNetV2S': {'accuracy': 0.9083969465648855, 'confidence': 0.7918434650388383, 'avg_response_time': 1.1457342588737922, 'max_response_time': 1.197277924930375, 'contribution': 0.7781118425249144}, 'NASNetLarge': {'accuracy': 0.9076923076923077, 'confidence': 0.80020783497737, 'avg_response_time': 3.8194925332033707, 'max_response_time': 3.937039179449276, 'contribution': 0.8098976600628632}, 'EfficientNetB7': {'accuracy': 0.9296875, 'confidence': 0.6980526342522353, 'avg_response_time': 7.122022736851933, 'max_response_time': 7.2560127503873435, 'contribution': 0.6541872567031533}, 'DenseNet201': {'accuracy': 0.889763779527559, 'confidence': 0.8055445117743936, 'avg_response_time': 0.584109657530159, 'max_response_time': 0.7171171364734032, 'contribution': 0.8048253906524088}, 'Xception': {'accuracy': 0.8412698412698413, 'confidence': 0.7151679815281005, 'avg_response_time': 0.9908308011735192, 'max_response_time': 1.0693688646426827, 'contribution': 0.7295460133325486}, 'InceptionV3': {'accuracy': 0.8688524590163934, 'confidence': 0.7612324259320243, 'avg_response_time': 0.574829719984057, 'max_response_time': 0.6754832735299773, 'contribution': 0.7741824627899733}}, 'input_state': {'input_file_length': 14, 'image_height': 224, 'image_width': 224}, 'distribution_weights': [1.0, 1.0, 1.0, 1.0, 1.0, 0.0, 0.0, 0.0, 0.0, 0.0, 0.0, 0.0, 0.0, 0.0, 0.0, 0.0, 0.0, 0.0, 0.0, 0.0]}\n",
      "REWARD:  0.8656716417910447\n",
      "Worst model: EfficientNetV2L with score: 0.5911481481481482\n",
      "Model 'EfficientNetV2L' successfully removed from the target YAML.\n",
      "Best model: EfficientNetV2L with score: 0.5911481481481482\n",
      "Model 'EfficientNetV2L' successfully added to the target YAML.\n"
     ]
    },
    {
     "name": "stderr",
     "output_type": "stream",
     "text": [
      "2025-01-24 16:39:39,592:INFO -- Action: Keeping the ensemble\n"
     ]
    },
    {
     "name": "stdout",
     "output_type": "stream",
     "text": [
      "STATE:  {'ensemble_state': {'total_energy_consumption': 0.023205572371097348, 'ensemble_size': 16}, 'model_states': {'InceptionResNetV2': {'accuracy': 0.8740740740740741, 'confidence': 0.7701306508647071, 'avg_response_time': 2.0654346723554915, 'max_response_time': 2.180662360029575, 'contribution': 0.7891510603604494}, 'MobileNetV2': {'accuracy': 0.8389830508474576, 'confidence': 0.6906823422444068, 'avg_response_time': 0.09565601809678469, 'max_response_time': 0.14616136826811602, 'contribution': 0.7214829424175165}, 'ResNet50V2': {'accuracy': 0.7619047619047619, 'confidence': 0.7120763543106261, 'avg_response_time': 0.3889417877488155, 'max_response_time': 0.43215641092808105, 'contribution': 0.7510726826531546}, 'ensemble': {'accuracy': 0.8666666666666667, 'confidence': 0.7369918322288267, 'avg_response_time': 6.934566295940742, 'max_response_time': 7.2646600209859935, 'contribution': 0.9079131927755144}, 'EfficientNetV2S': {'accuracy': 0.9090909090909091, 'confidence': 0.7928647843725753, 'avg_response_time': 1.1456303894847166, 'max_response_time': 1.197277924930375, 'contribution': 0.7792371893019387}, 'NASNetLarge': {'accuracy': 0.9083969465648855, 'confidence': 0.8010352713461141, 'avg_response_time': 3.818918915153551, 'max_response_time': 3.937039179449276, 'contribution': 0.8106511283011837}, 'EfficientNetB7': {'accuracy': 0.9302325581395349, 'confidence': 0.6990127732125364, 'avg_response_time': 7.1223057169271575, 'max_response_time': 7.2560127503873435, 'contribution': 0.6554874373498814}, 'DenseNet201': {'accuracy': 0.890625, 'confidence': 0.8070428522769362, 'avg_response_time': 0.5839795306246192, 'max_response_time': 0.7171171364734032, 'contribution': 0.8063293492887169}, 'Xception': {'accuracy': 0.84251968503937, 'confidence': 0.7167456584183249, 'avg_response_time': 0.9908621806771165, 'max_response_time': 1.0693688646426827, 'contribution': 0.7310104773739191}, 'InceptionV3': {'accuracy': 0.8699186991869918, 'confidence': 0.7631392100962197, 'avg_response_time': 0.5749777971477494, 'max_response_time': 0.6754832735299773, 'contribution': 0.775983962101665}}, 'input_state': {'input_file_length': 14, 'image_height': 224, 'image_width': 224}, 'distribution_weights': [1.0, 1.0, 1.0, 1.0, 1.0, 0.0, 0.0, 0.0, 0.0, 0.0, 0.0, 0.0, 0.0, 0.0, 0.0, 0.0, 0.0, 0.0, 0.0, 0.0]}\n",
      "REWARD:  0.8666666666666667\n"
     ]
    },
    {
     "name": "stderr",
     "output_type": "stream",
     "text": [
      "2025-01-24 16:39:40,476:INFO -- Action: Keeping the ensemble\n"
     ]
    },
    {
     "name": "stdout",
     "output_type": "stream",
     "text": [
      "STATE:  {'ensemble_state': {'total_energy_consumption': 0.023205572371097348, 'ensemble_size': 16}, 'model_states': {'InceptionResNetV2': {'accuracy': 0.875, 'confidence': 0.7713731989702758, 'avg_response_time': 2.065681981674091, 'max_response_time': 2.180662360029575, 'contribution': 0.7902537525138434}, 'MobileNetV2': {'accuracy': 0.8403361344537815, 'confidence': 0.6929332200719529, 'avg_response_time': 0.09572185948911648, 'max_response_time': 0.14616136826811602, 'contribution': 0.7234749916721793}, 'ResNet50V2': {'accuracy': 0.7641509433962265, 'confidence': 0.7139926623061018, 'avg_response_time': 0.3888125232095632, 'max_response_time': 0.43215641092808105, 'contribution': 0.7526211007586066}, 'ensemble': {'accuracy': 0.8676470588235294, 'confidence': 0.7379149135696258, 'avg_response_time': 6.936309887319182, 'max_response_time': 7.2646600209859935, 'contribution': 0.9084529006744132}, 'EfficientNetV2S': {'accuracy': 0.9097744360902256, 'confidence': 0.7933204633400852, 'avg_response_time': 1.1450162780758908, 'max_response_time': 1.197277924930375, 'contribution': 0.7797953313902805}, 'NASNetLarge': {'accuracy': 0.9090909090909091, 'confidence': 0.8017210319186702, 'avg_response_time': 3.8190645864376473, 'max_response_time': 3.937039179449276, 'contribution': 0.811264041472565}, 'EfficientNetB7': {'accuracy': 0.9307692307692308, 'confidence': 0.7000259149533051, 'avg_response_time': 7.122608893035346, 'max_response_time': 7.2560127503873435, 'contribution': 0.6568353893665168}, 'DenseNet201': {'accuracy': 0.8914728682170543, 'confidence': 0.8074142616386561, 'avg_response_time': 0.5839196715493489, 'max_response_time': 0.7171171364734032, 'contribution': 0.8067062896813533}, 'Xception': {'accuracy': 0.84375, 'confidence': 0.7180159215349704, 'avg_response_time': 0.9909810785146765, 'max_response_time': 1.0693688646426827, 'contribution': 0.732169296592474}, 'InceptionV3': {'accuracy': 0.8709677419354839, 'confidence': 0.7638878365678172, 'avg_response_time': 0.5747933979635269, 'max_response_time': 0.6754832735299773, 'contribution': 0.7766290018635411}}, 'input_state': {'input_file_length': 15, 'image_height': 224, 'image_width': 224}, 'distribution_weights': [1.0, 1.0, 1.0, 1.0, 1.0, 0.0, 0.0, 0.0, 0.0, 0.0, 0.0, 0.0, 0.0, 0.0, 0.0, 0.0, 0.0, 0.0, 0.0, 0.0]}\n",
      "REWARD:  0.8676470588235294\n"
     ]
    },
    {
     "name": "stderr",
     "output_type": "stream",
     "text": [
      "2025-01-24 16:39:41,270:INFO -- Action: Keeping the ensemble\n"
     ]
    },
    {
     "name": "stdout",
     "output_type": "stream",
     "text": [
      "STATE:  {'ensemble_state': {'total_energy_consumption': 0.023205572371097348, 'ensemble_size': 16}, 'model_states': {'InceptionResNetV2': {'accuracy': 0.8759124087591241, 'confidence': 0.7725753768952224, 'avg_response_time': 2.0657523307863936, 'max_response_time': 2.180662360029575, 'contribution': 0.7913181161793479}, 'MobileNetV2': {'accuracy': 0.8416666666666667, 'confidence': 0.6948385102053484, 'avg_response_time': 0.09575367904796647, 'max_response_time': 0.14616136826811602, 'contribution': 0.7251257670422395}, 'ResNet50V2': {'accuracy': 0.7663551401869159, 'confidence': 0.7166536057663855, 'avg_response_time': 0.3889798236940629, 'max_response_time': 0.43215641092808105, 'contribution': 0.7549210307754088}, 'ensemble': {'accuracy': 0.8686131386861314, 'confidence': 0.7393214431667138, 'avg_response_time': 6.937940240894561, 'max_response_time': 7.2646600209859935, 'contribution': 0.9091117379874208}, 'EfficientNetV2S': {'accuracy': 0.9104477611940298, 'confidence': 0.7940925628836475, 'avg_response_time': 1.1450312081430973, 'max_response_time': 1.197277924930375, 'contribution': 0.7806683647543636}, 'NASNetLarge': {'accuracy': 0.9097744360902256, 'confidence': 0.8023690706805179, 'avg_response_time': 3.8191462091097796, 'max_response_time': 3.937039179449276, 'contribution': 0.8118403282828797}, 'EfficientNetB7': {'accuracy': 0.9312977099236641, 'confidence': 0.7008906800783318, 'avg_response_time': 7.122820787695907, 'max_response_time': 7.2560127503873435, 'contribution': 0.6580298531601447}, 'DenseNet201': {'accuracy': 0.8923076923076924, 'confidence': 0.8088468939065934, 'avg_response_time': 0.5840505995603188, 'max_response_time': 0.7171171364734032, 'contribution': 0.8081443678874236}, 'Xception': {'accuracy': 0.8449612403100775, 'confidence': 0.719409505295199, 'avg_response_time': 0.9910181247365641, 'max_response_time': 1.0693688646426827, 'contribution': 0.7334531642669855}, 'InceptionV3': {'accuracy': 0.872, 'confidence': 0.7654668364524841, 'avg_response_time': 0.5745642337712173, 'max_response_time': 0.6754832735299773, 'contribution': 0.7781060724258423}}, 'input_state': {'input_file_length': 14, 'image_height': 224, 'image_width': 224}, 'distribution_weights': [1.0, 1.0, 1.0, 1.0, 1.0, 0.0, 0.0, 0.0, 0.0, 0.0, 0.0, 0.0, 0.0, 0.0, 0.0, 0.0, 0.0, 0.0, 0.0, 0.0]}\n",
      "REWARD:  0.8686131386861314\n"
     ]
    },
    {
     "name": "stderr",
     "output_type": "stream",
     "text": [
      "2025-01-24 16:39:42,127:INFO -- Action: Replacing a model\n"
     ]
    },
    {
     "name": "stdout",
     "output_type": "stream",
     "text": [
      "STATE:  {'ensemble_state': {'total_energy_consumption': 0.023205572371097348, 'ensemble_size': 16}, 'model_states': {'InceptionResNetV2': {'accuracy': 0.8768115942028986, 'confidence': 0.7737219862747884, 'avg_response_time': 2.0656603432516096, 'max_response_time': 2.180662360029575, 'contribution': 0.7923289086075797}, 'MobileNetV2': {'accuracy': 0.8429752066115702, 'confidence': 0.6964083424777039, 'avg_response_time': 0.09585332562596652, 'max_response_time': 0.14616136826811602, 'contribution': 0.7264452914068521}, 'ResNet50V2': {'accuracy': 0.7685185185185185, 'confidence': 0.7192744300873192, 'avg_response_time': 0.3891867418232699, 'max_response_time': 0.43215641092808105, 'contribution': 0.7571875270869997}, 'ensemble': {'accuracy': 0.8695652173913043, 'confidence': 0.740645949445443, 'avg_response_time': 6.939204418431017, 'max_response_time': 7.2646600209859935, 'contribution': 0.909768193744231}, 'EfficientNetV2S': {'accuracy': 0.9111111111111111, 'confidence': 0.7950508468680911, 'avg_response_time': 1.145406277945611, 'max_response_time': 1.197277924930375, 'contribution': 0.7817260872434687}, 'NASNetLarge': {'accuracy': 0.9104477611940298, 'confidence': 0.803237844758959, 'avg_response_time': 3.819227413666602, 'max_response_time': 3.937039179449276, 'contribution': 0.8126384213344374}, 'EfficientNetB7': {'accuracy': 0.9318181818181818, 'confidence': 0.7019053663719784, 'avg_response_time': 7.122667526984081, 'max_response_time': 7.2560127503873435, 'contribution': 0.6593692426880201}, 'DenseNet201': {'accuracy': 0.8931297709923665, 'confidence': 0.8099905200131977, 'avg_response_time': 0.5838479839102555, 'max_response_time': 0.7171171364734032, 'contribution': 0.8092933567880675}, 'Xception': {'accuracy': 0.8461538461538461, 'confidence': 0.7201029926538467, 'avg_response_time': 0.991019605144479, 'max_response_time': 1.0693688646426827, 'contribution': 0.7340386234796964}, 'InceptionV3': {'accuracy': 0.873015873015873, 'confidence': 0.7672357071959783, 'avg_response_time': 0.5746172221166931, 'max_response_time': 0.6754832735299773, 'contribution': 0.7797746317727225}}, 'input_state': {'input_file_length': 15, 'image_height': 224, 'image_width': 224}, 'distribution_weights': [1.0, 1.0, 1.0, 1.0, 1.0, 0.0, 0.0, 0.0, 0.0, 0.0, 0.0, 0.0, 0.0, 0.0, 0.0, 0.0, 0.0, 0.0, 0.0, 0.0]}\n",
      "REWARD:  0.8695652173913043\n",
      "Worst model: EfficientNetV2L with score: 0.5911481481481482\n",
      "Model 'EfficientNetV2L' successfully removed from the target YAML.\n",
      "Best model: EfficientNetV2L with score: 0.5911481481481482\n",
      "Model 'EfficientNetV2L' successfully added to the target YAML.\n"
     ]
    },
    {
     "name": "stderr",
     "output_type": "stream",
     "text": [
      "2025-01-24 16:39:43,207:INFO -- Action: Adding a model\n"
     ]
    },
    {
     "name": "stdout",
     "output_type": "stream",
     "text": [
      "STATE:  {'ensemble_state': {'total_energy_consumption': 0.023205572371097348, 'ensemble_size': 16}, 'model_states': {'InceptionResNetV2': {'accuracy': 0.8776978417266187, 'confidence': 0.7716471846583935, 'avg_response_time': 2.06604145505314, 'max_response_time': 2.180662360029575, 'contribution': 0.7901202442405892}, 'MobileNetV2': {'accuracy': 0.8442622950819673, 'confidence': 0.6963315891926406, 'avg_response_time': 0.09595377545954828, 'max_response_time': 0.14616136826811602, 'contribution': 0.7261223336223697}, 'ResNet50V2': {'accuracy': 0.7614678899082569, 'confidence': 0.7126755821048667, 'avg_response_time': 0.3892622311708517, 'max_response_time': 0.43215641092808105, 'contribution': 0.7502408525265685}, 'ensemble': {'accuracy': 0.8705035971223022, 'confidence': 0.7403143027025603, 'avg_response_time': 6.940576365900885, 'max_response_time': 7.2646600209859935, 'contribution': 0.9095291699008118}, 'EfficientNetV2S': {'accuracy': 0.9117647058823529, 'confidence': 0.7956242296187317, 'avg_response_time': 1.1453896148901594, 'max_response_time': 1.197277924930375, 'contribution': 0.7823974461678196}, 'NASNetLarge': {'accuracy': 0.9111111111111111, 'confidence': 0.802291578275186, 'avg_response_time': 3.8190280854920484, 'max_response_time': 3.937039179449276, 'contribution': 0.8116225209501055}, 'EfficientNetB7': {'accuracy': 0.9323308270676691, 'confidence': 0.7015036942815422, 'avg_response_time': 7.122645917558473, 'max_response_time': 7.2560127503873435, 'contribution': 0.6592873910764107}, 'DenseNet201': {'accuracy': 0.8939393939393939, 'confidence': 0.8104947121305899, 'avg_response_time': 0.5838519502611668, 'max_response_time': 0.7171171364734032, 'contribution': 0.809802830445044}, 'Xception': {'accuracy': 0.8473282442748091, 'confidence': 0.7210070443062382, 'avg_response_time': 0.99100222579477, 'max_response_time': 1.0693688646426827, 'contribution': 0.7348362962708218}, 'InceptionV3': {'accuracy': 0.8661417322834646, 'confidence': 0.761194481155065, 'avg_response_time': 0.5745924941452188, 'max_response_time': 0.6754832735299773, 'contribution': 0.7736346740422286}}, 'input_state': {'input_file_length': 14, 'image_height': 224, 'image_width': 224}, 'distribution_weights': [1.0, 1.0, 1.0, 1.0, 1.0, 0.0, 0.0, 0.0, 0.0, 0.0, 0.0, 0.0, 0.0, 0.0, 0.0, 0.0, 0.0, 0.0, 0.0, 0.0]}\n",
      "REWARD:  0.8705035971223022\n",
      "No eligible models to score.\n"
     ]
    },
    {
     "name": "stderr",
     "output_type": "stream",
     "text": [
      "2025-01-24 16:39:44,158:INFO -- Action: Adding a model\n"
     ]
    },
    {
     "name": "stdout",
     "output_type": "stream",
     "text": [
      "STATE:  {'ensemble_state': {'total_energy_consumption': 0.023205572371097348, 'ensemble_size': 16}, 'model_states': {'InceptionResNetV2': {'accuracy': 0.8785714285714286, 'confidence': 0.7728137307933398, 'avg_response_time': 2.0660237903681966, 'max_response_time': 2.180662360029575, 'contribution': 0.7911548399499484}, 'MobileNetV2': {'accuracy': 0.8455284552845529, 'confidence': 0.6964796769425152, 'avg_response_time': 0.0959537838961942, 'max_response_time': 0.14616136826811602, 'contribution': 0.7260282201980187}, 'ResNet50V2': {'accuracy': 0.7636363636363637, 'confidence': 0.7152875106443058, 'avg_response_time': 0.38953695197718363, 'max_response_time': 0.43215641092808105, 'contribution': 0.7525112786076286}, 'ensemble': {'accuracy': 0.8714285714285714, 'confidence': 0.7415328914389311, 'avg_response_time': 6.941754745606188, 'max_response_time': 7.2646600209859935, 'contribution': 0.9101753024118288}, 'EfficientNetV2S': {'accuracy': 0.9124087591240876, 'confidence': 0.7965761581911658, 'avg_response_time': 1.1453770140037063, 'max_response_time': 1.197277924930375, 'contribution': 0.783445920604859}, 'NASNetLarge': {'accuracy': 0.9117647058823529, 'confidence': 0.8032960983760217, 'avg_response_time': 3.8191951913453503, 'max_response_time': 3.937039179449276, 'contribution': 0.8125584311783314}, 'EfficientNetB7': {'accuracy': 0.9328358208955224, 'confidence': 0.702310055271903, 'avg_response_time': 7.122400864527714, 'max_response_time': 7.2560127503873435, 'contribution': 0.6604087991056158}, 'DenseNet201': {'accuracy': 0.8947368421052632, 'confidence': 0.8119194133389265, 'avg_response_time': 0.5841622138258492, 'max_response_time': 0.7171171364734032, 'contribution': 0.811232733771317}, 'Xception': {'accuracy': 0.8484848484848485, 'confidence': 0.7224571043343255, 'avg_response_time': 0.9910096139046853, 'max_response_time': 1.0693688646426827, 'contribution': 0.7361815892385714}, 'InceptionV3': {'accuracy': 0.8671875, 'confidence': 0.7628602725453675, 'avg_response_time': 0.5744998593244012, 'max_response_time': 0.6754832735299773, 'contribution': 0.7752032764256}}, 'input_state': {'input_file_length': 14, 'image_height': 224, 'image_width': 224}, 'distribution_weights': [1.0, 1.0, 1.0, 1.0, 1.0, 0.0, 0.0, 0.0, 0.0, 0.0, 0.0, 0.0, 0.0, 0.0, 0.0, 0.0, 0.0, 0.0, 0.0, 0.0]}\n",
      "REWARD:  0.8714285714285714\n",
      "No eligible models to score.\n"
     ]
    },
    {
     "name": "stderr",
     "output_type": "stream",
     "text": [
      "2025-01-24 16:39:45,000:INFO -- Action: Keeping the ensemble\n"
     ]
    },
    {
     "name": "stdout",
     "output_type": "stream",
     "text": [
      "STATE:  {'ensemble_state': {'total_energy_consumption': 0.023205572371097348, 'ensemble_size': 16}, 'model_states': {'InceptionResNetV2': {'accuracy': 0.8794326241134752, 'confidence': 0.7740076017295215, 'avg_response_time': 2.065795956846153, 'max_response_time': 2.180662360029575, 'contribution': 0.7922186320977853}, 'MobileNetV2': {'accuracy': 0.8467741935483871, 'confidence': 0.6987939729325233, 'avg_response_time': 0.0959131638541104, 'max_response_time': 0.14616136826811602, 'contribution': 0.7281042214843535}, 'ResNet50V2': {'accuracy': 0.7657657657657657, 'confidence': 0.7178523258582966, 'avg_response_time': 0.3894450482037442, 'max_response_time': 0.43215641092808105, 'contribution': 0.7547407445606885}, 'ensemble': {'accuracy': 0.8723404255319149, 'confidence': 0.7430548373302541, 'avg_response_time': 6.943145435680416, 'max_response_time': 7.2646600209859935, 'contribution': 0.9108123358682538}, 'EfficientNetV2S': {'accuracy': 0.9130434782608695, 'confidence': 0.7975566864445589, 'avg_response_time': 1.1454456230231223, 'max_response_time': 1.197277924930375, 'contribution': 0.7845215955074283}, 'NASNetLarge': {'accuracy': 0.9124087591240876, 'confidence': 0.8040457115556202, 'avg_response_time': 3.8189735089450463, 'max_response_time': 3.937039179449276, 'contribution': 0.8132404360892999}, 'EfficientNetB7': {'accuracy': 0.9333333333333333, 'confidence': 0.7031888319386377, 'avg_response_time': 7.122456066822262, 'max_response_time': 7.2560127503873435, 'contribution': 0.6615979554476561}, 'DenseNet201': {'accuracy': 0.8955223880597015, 'confidence': 0.813322959773576, 'avg_response_time': 0.5841688409764108, 'max_response_time': 0.7171171364734032, 'contribution': 0.8126414046803517}, 'Xception': {'accuracy': 0.849624060150376, 'confidence': 0.7241036320539346, 'avg_response_time': 0.9910276193004208, 'max_response_time': 1.0693688646426827, 'contribution': 0.737724925342359}, 'InceptionV3': {'accuracy': 0.8682170542635659, 'confidence': 0.7646640123322953, 'avg_response_time': 0.5744853898099198, 'max_response_time': 0.6754832735299773, 'contribution': 0.7769113340119059}}, 'input_state': {'input_file_length': 15, 'image_height': 224, 'image_width': 224}, 'distribution_weights': [1.0, 1.0, 1.0, 1.0, 1.0, 0.0, 0.0, 0.0, 0.0, 0.0, 0.0, 0.0, 0.0, 0.0, 0.0, 0.0, 0.0, 0.0, 0.0, 0.0]}\n",
      "REWARD:  0.8723404255319149\n"
     ]
    },
    {
     "name": "stderr",
     "output_type": "stream",
     "text": [
      "2025-01-24 16:39:45,870:INFO -- Action: Replacing a model\n"
     ]
    },
    {
     "name": "stdout",
     "output_type": "stream",
     "text": [
      "STATE:  {'ensemble_state': {'total_energy_consumption': 0.023205572371097348, 'ensemble_size': 16}, 'model_states': {'InceptionResNetV2': {'accuracy': 0.8802816901408451, 'confidence': 0.77497129394135, 'avg_response_time': 2.065697232536013, 'max_response_time': 2.180662360029575, 'contribution': 0.7930540776168796}, 'MobileNetV2': {'accuracy': 0.848, 'confidence': 0.7011121098995209, 'avg_response_time': 0.09598561074635684, 'max_response_time': 0.14616136826811602, 'contribution': 0.7301878764629364}, 'ResNet50V2': {'accuracy': 0.7678571428571429, 'confidence': 0.7203343715518713, 'avg_response_time': 0.38930111768578773, 'max_response_time': 0.43215641092808105, 'contribution': 0.7568934293729919}, 'ensemble': {'accuracy': 0.8732394366197183, 'confidence': 0.7443961741674826, 'avg_response_time': 6.9446453568216, 'max_response_time': 7.2646600209859935, 'contribution': 0.9114377492330443}, 'EfficientNetV2S': {'accuracy': 0.9136690647482014, 'confidence': 0.7984441984042847, 'avg_response_time': 1.1452751880996825, 'max_response_time': 1.197277924930375, 'contribution': 0.7855028850997953}, 'NASNetLarge': {'accuracy': 0.9130434782608695, 'confidence': 0.8051511774892393, 'avg_response_time': 3.818679265625552, 'max_response_time': 3.937039179449276, 'contribution': 0.8142792735842691}, 'EfficientNetB7': {'accuracy': 0.9338235294117647, 'confidence': 0.7038479186594486, 'avg_response_time': 7.1226212575941545, 'max_response_time': 7.2560127503873435, 'contribution': 0.6625628574367832}, 'DenseNet201': {'accuracy': 0.8962962962962963, 'confidence': 0.8147029455061312, 'avg_response_time': 0.5841237433205, 'max_response_time': 0.7171171364734032, 'contribution': 0.8140264389691529}, 'Xception': {'accuracy': 0.8507462686567164, 'confidence': 0.7256560029823389, 'avg_response_time': 0.9911272068837269, 'max_response_time': 1.0693688646426827, 'contribution': 0.7391756448283124}, 'InceptionV3': {'accuracy': 0.8692307692307693, 'confidence': 0.766425563280399, 'avg_response_time': 0.5743013695466661, 'max_response_time': 0.6754832735299773, 'contribution': 0.7785786747932434}}, 'input_state': {'input_file_length': 15, 'image_height': 224, 'image_width': 224}, 'distribution_weights': [1.0, 1.0, 1.0, 1.0, 1.0, 0.0, 0.0, 0.0, 0.0, 0.0, 0.0, 0.0, 0.0, 0.0, 0.0, 0.0, 0.0, 0.0, 0.0, 0.0]}\n",
      "REWARD:  0.8732394366197183\n",
      "Worst model: EfficientNetV2L with score: 0.5911481481481482\n",
      "Model 'EfficientNetV2L' successfully removed from the target YAML.\n",
      "Best model: EfficientNetV2L with score: 0.5911481481481482\n",
      "Model 'EfficientNetV2L' successfully added to the target YAML.\n"
     ]
    },
    {
     "name": "stderr",
     "output_type": "stream",
     "text": [
      "2025-01-24 16:39:47,088:INFO -- Action: Replacing a model\n"
     ]
    },
    {
     "name": "stdout",
     "output_type": "stream",
     "text": [
      "STATE:  {'ensemble_state': {'total_energy_consumption': 0.023205572371097348, 'ensemble_size': 16}, 'model_states': {'InceptionResNetV2': {'accuracy': 0.8811188811188811, 'confidence': 0.7761293497535732, 'avg_response_time': 2.0657309797558616, 'max_response_time': 2.180662360029575, 'contribution': 0.7940856803964068}, 'MobileNetV2': {'accuracy': 0.8492063492063492, 'confidence': 0.6990298335514371, 'avg_response_time': 0.09592766829875259, 'max_response_time': 0.14616136826811602, 'contribution': 0.727874840062762}, 'ResNet50V2': {'accuracy': 0.7699115044247787, 'confidence': 0.7227777720025156, 'avg_response_time': 0.3895136745972159, 'max_response_time': 0.43215641092808105, 'contribution': 0.7590132983384934}, 'ensemble': {'accuracy': 0.8741258741258742, 'confidence': 0.7447435594696694, 'avg_response_time': 6.946093300411057, 'max_response_time': 7.2646600209859935, 'contribution': 0.9120321609340347}, 'EfficientNetV2S': {'accuracy': 0.9142857142857143, 'confidence': 0.7982919652547155, 'avg_response_time': 1.145349194352819, 'max_response_time': 1.197277924930375, 'contribution': 0.785443089902401}, 'NASNetLarge': {'accuracy': 0.9136690647482014, 'confidence': 0.8057362432960126, 'avg_response_time': 3.8186352059681505, 'max_response_time': 3.937039179449276, 'contribution': 0.8147986696349631}, 'EfficientNetB7': {'accuracy': 0.9343065693430657, 'confidence': 0.702592556711531, 'avg_response_time': 7.122765526140977, 'max_response_time': 7.2560127503873435, 'contribution': 0.6616088463007098}, 'DenseNet201': {'accuracy': 0.8970588235294118, 'confidence': 0.8144949505872586, 'avg_response_time': 0.5840099739162516, 'max_response_time': 0.7171171364734032, 'contribution': 0.8138234183630523}, 'Xception': {'accuracy': 0.8518518518518519, 'confidence': 0.7271013977351012, 'avg_response_time': 0.9913949724380028, 'max_response_time': 1.0693688646426827, 'contribution': 0.7405208940859194}, 'InceptionV3': {'accuracy': 0.8702290076335878, 'confidence': 0.7677786318400434, 'avg_response_time': 0.5743753399885961, 'max_response_time': 0.6754832735299773, 'contribution': 0.7798389715092783}}, 'input_state': {'input_file_length': 14, 'image_height': 224, 'image_width': 224}, 'distribution_weights': [1.0, 1.0, 1.0, 1.0, 1.0, 0.0, 0.0, 0.0, 0.0, 0.0, 0.0, 0.0, 0.0, 0.0, 0.0, 0.0, 0.0, 0.0, 0.0, 0.0]}\n",
      "REWARD:  0.8741258741258742\n",
      "Worst model: EfficientNetV2L with score: 0.5911481481481482\n",
      "Model 'EfficientNetV2L' successfully removed from the target YAML.\n",
      "Best model: EfficientNetV2L with score: 0.5911481481481482\n",
      "Model 'EfficientNetV2L' successfully added to the target YAML.\n"
     ]
    },
    {
     "name": "stderr",
     "output_type": "stream",
     "text": [
      "2025-01-24 16:39:48,143:INFO -- Action: Replacing a model\n"
     ]
    },
    {
     "name": "stdout",
     "output_type": "stream",
     "text": [
      "STATE:  {'ensemble_state': {'total_energy_consumption': 0.023205572371097348, 'ensemble_size': 16}, 'model_states': {'InceptionResNetV2': {'accuracy': 0.8819444444444444, 'confidence': 0.7773131386687359, 'avg_response_time': 2.066120721578387, 'max_response_time': 2.180662360029575, 'contribution': 0.7951447725709941}, 'MobileNetV2': {'accuracy': 0.8503937007874016, 'confidence': 0.7012204804758387, 'avg_response_time': 0.09594200551609616, 'max_response_time': 0.14616136826811602, 'contribution': 0.7298383609516415}, 'ResNet50V2': {'accuracy': 0.7719298245614035, 'confidence': 0.7252063628351479, 'avg_response_time': 0.389517228900316, 'max_response_time': 0.43215641092808105, 'contribution': 0.7611240336769506}, 'ensemble': {'accuracy': 0.875, 'confidence': 0.745828318318312, 'avg_response_time': 6.947284056891712, 'max_response_time': 7.2646600209859935, 'contribution': 0.9126405287533998}, 'EfficientNetV2S': {'accuracy': 0.9148936170212766, 'confidence': 0.7986469034184801, 'avg_response_time': 1.1453098002174231, 'max_response_time': 1.197277924930375, 'contribution': 0.7858891548417138}, 'NASNetLarge': {'accuracy': 0.9142857142857143, 'confidence': 0.8063383472817285, 'avg_response_time': 3.8184124791628378, 'max_response_time': 3.937039179449276, 'contribution': 0.8153360420039721}, 'EfficientNetB7': {'accuracy': 0.9347826086956522, 'confidence': 0.7031212999768879, 'avg_response_time': 7.122647520245181, 'max_response_time': 7.2560127503873435, 'contribution': 0.6624345729748408}, 'DenseNet201': {'accuracy': 0.8978102189781022, 'confidence': 0.8158084434749436, 'avg_response_time': 0.5843111154957231, 'max_response_time': 0.7171171364734032, 'contribution': 0.8151418129458045}, 'Xception': {'accuracy': 0.8529411764705882, 'confidence': 0.7285609076566556, 'avg_response_time': 0.9912547691900828, 'max_response_time': 1.0693688646426827, 'contribution': 0.7418817312401884}, 'InceptionV3': {'accuracy': 0.8712121212121212, 'confidence': 0.7691763097589667, 'avg_response_time': 0.5745508277937301, 'max_response_time': 0.6754832735299773, 'contribution': 0.7811452832185861}}, 'input_state': {'input_file_length': 13, 'image_height': 224, 'image_width': 224}, 'distribution_weights': [1.0, 1.0, 1.0, 1.0, 1.0, 0.0, 0.0, 0.0, 0.0, 0.0, 0.0, 0.0, 0.0, 0.0, 0.0, 0.0, 0.0, 0.0, 0.0, 0.0]}\n",
      "REWARD:  0.875\n",
      "Worst model: EfficientNetV2L with score: 0.5911481481481482\n",
      "Model 'EfficientNetV2L' successfully removed from the target YAML.\n",
      "Best model: EfficientNetV2L with score: 0.5911481481481482\n",
      "Model 'EfficientNetV2L' successfully added to the target YAML.\n"
     ]
    },
    {
     "name": "stderr",
     "output_type": "stream",
     "text": [
      "2025-01-24 16:39:49,239:INFO -- Action: Adding a model\n"
     ]
    },
    {
     "name": "stdout",
     "output_type": "stream",
     "text": [
      "STATE:  {'ensemble_state': {'total_energy_consumption': 0.023205572371097348, 'ensemble_size': 16}, 'model_states': {'InceptionResNetV2': {'accuracy': 0.8827586206896552, 'confidence': 0.7784905863219294, 'avg_response_time': 2.0662692227854014, 'max_response_time': 2.180662360029575, 'contribution': 0.7961992434386549}, 'MobileNetV2': {'accuracy': 0.84375, 'confidence': 0.6957421954721212, 'avg_response_time': 0.09602127514224422, 'max_response_time': 0.14616136826811602, 'contribution': 0.7241364987567067}, 'ResNet50V2': {'accuracy': 0.7652173913043478, 'confidence': 0.7189002205496249, 'avg_response_time': 0.3894106025965024, 'max_response_time': 0.43215641092808105, 'contribution': 0.7545055638188901}, 'ensemble': {'accuracy': 0.8758620689655172, 'confidence': 0.7462846364561455, 'avg_response_time': 6.948484979410939, 'max_response_time': 7.2646600209859935, 'contribution': 0.912884684061182}, 'EfficientNetV2S': {'accuracy': 0.9154929577464789, 'confidence': 0.7994567535712686, 'avg_response_time': 1.145263105984407, 'max_response_time': 1.197277924930375, 'contribution': 0.7867888482943387}, 'NASNetLarge': {'accuracy': 0.9148936170212766, 'confidence': 0.8069028575369652, 'avg_response_time': 3.8182074630272314, 'max_response_time': 3.937039179449276, 'contribution': 0.8158367388214626}, 'EfficientNetB7': {'accuracy': 0.935251798561151, 'confidence': 0.7040462264482924, 'avg_response_time': 7.12255050688957, 'max_response_time': 7.2560127503873435, 'contribution': 0.663652209712447}, 'DenseNet201': {'accuracy': 0.8985507246376812, 'confidence': 0.8160133208485617, 'avg_response_time': 0.5843113254332954, 'max_response_time': 0.7171171364734032, 'contribution': 0.8153515209754308}, 'Xception': {'accuracy': 0.8540145985401459, 'confidence': 0.7299052318082239, 'avg_response_time': 0.9913946316106577, 'max_response_time': 1.0693688646426827, 'contribution': 0.7431288231028258}, 'InceptionV3': {'accuracy': 0.8721804511278195, 'confidence': 0.7697011250302308, 'avg_response_time': 0.5742843539897852, 'max_response_time': 0.6754832735299773, 'contribution': 0.781580106208199}}, 'input_state': {'input_file_length': 15, 'image_height': 224, 'image_width': 224}, 'distribution_weights': [1.0, 1.0, 1.0, 1.0, 1.0, 0.0, 0.0, 0.0, 0.0, 0.0, 0.0, 0.0, 0.0, 0.0, 0.0, 0.0, 0.0, 0.0, 0.0, 0.0]}\n",
      "REWARD:  0.8758620689655172\n",
      "No eligible models to score.\n"
     ]
    },
    {
     "name": "stderr",
     "output_type": "stream",
     "text": [
      "2025-01-24 16:39:50,187:INFO -- Action: Adding a model\n"
     ]
    },
    {
     "name": "stdout",
     "output_type": "stream",
     "text": [
      "STATE:  {'ensemble_state': {'total_energy_consumption': 0.023205572371097348, 'ensemble_size': 16}, 'model_states': {'InceptionResNetV2': {'accuracy': 0.8835616438356164, 'confidence': 0.7794134969988914, 'avg_response_time': 2.0665498164298515, 'max_response_time': 2.180662360029575, 'contribution': 0.7970008619435845}, 'MobileNetV2': {'accuracy': 0.8372093023255814, 'confidence': 0.6903488451196241, 'avg_response_time': 0.09606716050614776, 'max_response_time': 0.14616136826811602, 'contribution': 0.7185230375260345}, 'ResNet50V2': {'accuracy': 0.7586206896551724, 'confidence': 0.7127028048552316, 'avg_response_time': 0.389332304369986, 'max_response_time': 0.43215641092808105, 'contribution': 0.7480012055101066}, 'ensemble': {'accuracy': 0.8767123287671232, 'confidence': 0.7456343294299264, 'avg_response_time': 6.949749027811243, 'max_response_time': 7.2646600209859935, 'contribution': 0.9128870872193819}, 'EfficientNetV2S': {'accuracy': 0.916083916083916, 'confidence': 0.8001811643997272, 'avg_response_time': 1.1449842376820771, 'max_response_time': 1.197277924930375, 'contribution': 0.7876018458729858}, 'NASNetLarge': {'accuracy': 0.9154929577464789, 'confidence': 0.8069338534079807, 'avg_response_time': 3.818175617405816, 'max_response_time': 3.937039179449276, 'contribution': 0.8158048200355449}, 'EfficientNetB7': {'accuracy': 0.9357142857142857, 'confidence': 0.7042370083076613, 'avg_response_time': 7.122568135468469, 'max_response_time': 7.2560127503873435, 'contribution': 0.6641315202627863}, 'DenseNet201': {'accuracy': 0.8992805755395683, 'confidence': 0.8162826631995413, 'avg_response_time': 0.5841707505424092, 'max_response_time': 0.7171171364734032, 'contribution': 0.8156256244765768}, 'Xception': {'accuracy': 0.855072463768116, 'confidence': 0.7307009154903716, 'avg_response_time': 0.9913096004338392, 'max_response_time': 1.0693688646426827, 'contribution': 0.7438286836596503}, 'InceptionV3': {'accuracy': 0.8731343283582089, 'confidence': 0.768575916984188, 'avg_response_time': 0.5743722007592461, 'max_response_time': 0.6754832735299773, 'contribution': 0.7803662490488877}}, 'input_state': {'input_file_length': 14, 'image_height': 224, 'image_width': 224}, 'distribution_weights': [1.0, 1.0, 1.0, 1.0, 1.0, 0.0, 0.0, 0.0, 0.0, 0.0, 0.0, 0.0, 0.0, 0.0, 0.0, 0.0, 0.0, 0.0, 0.0, 0.0]}\n",
      "REWARD:  0.8767123287671232\n",
      "No eligible models to score.\n"
     ]
    },
    {
     "name": "stderr",
     "output_type": "stream",
     "text": [
      "2025-01-24 16:39:51,124:INFO -- Action: Adding a model\n"
     ]
    },
    {
     "name": "stdout",
     "output_type": "stream",
     "text": [
      "STATE:  {'ensemble_state': {'total_energy_consumption': 0.023205572371097348, 'ensemble_size': 16}, 'model_states': {'InceptionResNetV2': {'accuracy': 0.8843537414965986, 'confidence': 0.7804514187939313, 'avg_response_time': 2.066294629459437, 'max_response_time': 2.180662360029575, 'contribution': 0.7979191418002252}, 'MobileNetV2': {'accuracy': 0.8384615384615385, 'confidence': 0.6910282263389, 'avg_response_time': 0.09603924316027794, 'max_response_time': 0.14616136826811602, 'contribution': 0.718985694188338}, 'ResNet50V2': {'accuracy': 0.7606837606837606, 'confidence': 0.7151187151415735, 'avg_response_time': 0.38949492087648774, 'max_response_time': 0.43215641092808105, 'contribution': 0.7501154200643556}, 'ensemble': {'accuracy': 0.8775510204081632, 'confidence': 0.7467742185223849, 'avg_response_time': 6.950857656346928, 'max_response_time': 7.2646600209859935, 'contribution': 0.913448156750932}, 'EfficientNetV2S': {'accuracy': 0.9166666666666666, 'confidence': 0.8009129652960433, 'avg_response_time': 1.1450116902661849, 'max_response_time': 1.197277924930375, 'contribution': 0.7884210031479597}, 'NASNetLarge': {'accuracy': 0.916083916083916, 'confidence': 0.8075806581890667, 'avg_response_time': 3.8182808824806114, 'max_response_time': 3.937039179449276, 'contribution': 0.8163895900849696}, 'EfficientNetB7': {'accuracy': 0.9361702127659575, 'confidence': 0.7051012222225784, 'avg_response_time': 7.122435699419169, 'max_response_time': 7.2560127503873435, 'contribution': 0.665280170263128}, 'DenseNet201': {'accuracy': 0.9, 'confidence': 0.8172344324844224, 'avg_response_time': 0.5842348590269797, 'max_response_time': 0.7171171364734032, 'contribution': 0.8165820868951934}, 'Xception': {'accuracy': 0.8561151079136691, 'confidence': 0.7317593820232282, 'avg_response_time': 0.991263240465717, 'max_response_time': 1.0693688646426827, 'contribution': 0.7447927058171883}, 'InceptionV3': {'accuracy': 0.8740740740740741, 'confidence': 0.7698082442636843, 'avg_response_time': 0.5743590438462339, 'max_response_time': 0.6754832735299773, 'contribution': 0.7815112405353122}}, 'input_state': {'input_file_length': 14, 'image_height': 224, 'image_width': 224}, 'distribution_weights': [1.0, 1.0, 1.0, 1.0, 1.0, 0.0, 0.0, 0.0, 0.0, 0.0, 0.0, 0.0, 0.0, 0.0, 0.0, 0.0, 0.0, 0.0, 0.0, 0.0]}\n",
      "REWARD:  0.8775510204081632\n",
      "No eligible models to score.\n"
     ]
    },
    {
     "name": "stderr",
     "output_type": "stream",
     "text": [
      "2025-01-24 16:39:51,959:INFO -- Action: Keeping the ensemble\n"
     ]
    },
    {
     "name": "stdout",
     "output_type": "stream",
     "text": [
      "STATE:  {'ensemble_state': {'total_energy_consumption': 0.023205572371097348, 'ensemble_size': 16}, 'model_states': {'InceptionResNetV2': {'accuracy': 0.8851351351351351, 'confidence': 0.7813532797468675, 'avg_response_time': 2.0660510777314918, 'max_response_time': 2.180662360029575, 'contribution': 0.7987029775977135}, 'MobileNetV2': {'accuracy': 0.8396946564885496, 'confidence': 0.6922008754642865, 'avg_response_time': 0.09611534272196731, 'max_response_time': 0.14616136826811602, 'contribution': 0.7199449275286143}, 'ResNet50V2': {'accuracy': 0.7627118644067796, 'confidence': 0.7175311787148654, 'avg_response_time': 0.38980890949004876, 'max_response_time': 0.43215641092808105, 'contribution': 0.752231301392539}, 'ensemble': {'accuracy': 0.8783783783783784, 'confidence': 0.7477506784289447, 'avg_response_time': 6.951939311745642, 'max_response_time': 7.2646600209859935, 'contribution': 0.9140315436430879}, 'EfficientNetV2S': {'accuracy': 0.9172413793103448, 'confidence': 0.8016589355879816, 'avg_response_time': 1.1450859308060866, 'max_response_time': 1.197277924930375, 'contribution': 0.7892531249029883}, 'NASNetLarge': {'accuracy': 0.9166666666666666, 'confidence': 0.8083491536478201, 'avg_response_time': 3.818127685672113, 'max_response_time': 3.937039179449276, 'contribution': 0.8170969124055572}, 'EfficientNetB7': {'accuracy': 0.9366197183098591, 'confidence': 0.7059509361713705, 'avg_response_time': 7.1222958081516925, 'max_response_time': 7.2560127503873435, 'contribution': 0.6664103141552965}, 'DenseNet201': {'accuracy': 0.900709219858156, 'confidence': 0.8160574273437473, 'avg_response_time': 0.5842177664767859, 'max_response_time': 0.7171171364734032, 'contribution': 0.8154097083189809}, 'Xception': {'accuracy': 0.8571428571428571, 'confidence': 0.7324790049876485, 'avg_response_time': 0.9911626116301311, 'max_response_time': 1.0693688646426827, 'contribution': 0.7454192336116519}, 'InceptionV3': {'accuracy': 0.875, 'confidence': 0.7709214297287604, 'avg_response_time': 0.5745321020244871, 'max_response_time': 0.6754832735299773, 'contribution': 0.7825383745572146}}, 'input_state': {'input_file_length': 14, 'image_height': 224, 'image_width': 224}, 'distribution_weights': [1.0, 1.0, 1.0, 1.0, 1.0, 0.0, 0.0, 0.0, 0.0, 0.0, 0.0, 0.0, 0.0, 0.0, 0.0, 0.0, 0.0, 0.0, 0.0, 0.0]}\n",
      "REWARD:  0.8783783783783784\n"
     ]
    },
    {
     "name": "stderr",
     "output_type": "stream",
     "text": [
      "2025-01-24 16:39:52,825:INFO -- Action: Replacing a model\n"
     ]
    },
    {
     "name": "stdout",
     "output_type": "stream",
     "text": [
      "STATE:  {'ensemble_state': {'total_energy_consumption': 0.023205572371097348, 'ensemble_size': 16}, 'model_states': {'InceptionResNetV2': {'accuracy': 0.8859060402684564, 'confidence': 0.782271522603579, 'avg_response_time': 2.0661528951621944, 'max_response_time': 2.180662360029575, 'contribution': 0.7995047795292515}, 'MobileNetV2': {'accuracy': 0.8409090909090909, 'confidence': 0.6919062823960276, 'avg_response_time': 0.09616664261883427, 'max_response_time': 0.14616136826811602, 'contribution': 0.7194401522477468}, 'ResNet50V2': {'accuracy': 0.7647058823529411, 'confidence': 0.7199048602781376, 'avg_response_time': 0.38998284256345717, 'max_response_time': 0.43215641092808105, 'contribution': 0.754313385286251}, 'ensemble': {'accuracy': 0.8791946308724832, 'confidence': 0.7488711642609123, 'avg_response_time': 6.953599566285855, 'max_response_time': 7.2646600209859935, 'contribution': 0.914608508348465}, 'EfficientNetV2S': {'accuracy': 0.9178082191780822, 'confidence': 0.8024404271416468, 'avg_response_time': 1.144898834777413, 'max_response_time': 1.197277924930375, 'contribution': 0.7901195877627151}, 'NASNetLarge': {'accuracy': 0.9172413793103448, 'confidence': 0.808934852583655, 'avg_response_time': 3.818093757846292, 'max_response_time': 3.937039179449276, 'contribution': 0.8176222819706489}, 'EfficientNetB7': {'accuracy': 0.9370629370629371, 'confidence': 0.7065517946139915, 'avg_response_time': 7.122774064766693, 'max_response_time': 7.2560127503873435, 'contribution': 0.6672876804441839}, 'DenseNet201': {'accuracy': 0.9014084507042254, 'confidence': 0.8173003874614205, 'avg_response_time': 0.5841169219812504, 'max_response_time': 0.7171171364734032, 'contribution': 0.816657229838237}, 'Xception': {'accuracy': 0.8581560283687943, 'confidence': 0.7336335704258993, 'avg_response_time': 0.9912071696658935, 'max_response_time': 1.0693688646426827, 'contribution': 0.7464820243788104}, 'InceptionV3': {'accuracy': 0.8759124087591241, 'confidence': 0.7725645160152964, 'avg_response_time': 0.5747494266115274, 'max_response_time': 0.6754832735299773, 'contribution': 0.7840966656260246}}, 'input_state': {'input_file_length': 13, 'image_height': 224, 'image_width': 224}, 'distribution_weights': [1.0, 1.0, 1.0, 1.0, 1.0, 0.0, 0.0, 0.0, 0.0, 0.0, 0.0, 0.0, 0.0, 0.0, 0.0, 0.0, 0.0, 0.0, 0.0, 0.0]}\n",
      "REWARD:  0.8791946308724832\n",
      "Worst model: EfficientNetV2L with score: 0.5911481481481482\n",
      "Model 'EfficientNetV2L' successfully removed from the target YAML.\n",
      "Best model: EfficientNetV2L with score: 0.5911481481481482\n",
      "Model 'EfficientNetV2L' successfully added to the target YAML.\n"
     ]
    },
    {
     "name": "stderr",
     "output_type": "stream",
     "text": [
      "2025-01-24 16:39:53,905:INFO -- Action: Keeping the ensemble\n"
     ]
    },
    {
     "name": "stdout",
     "output_type": "stream",
     "text": [
      "STATE:  {'ensemble_state': {'total_energy_consumption': 0.023205572371097348, 'ensemble_size': 16}, 'model_states': {'InceptionResNetV2': {'accuracy': 0.88, 'confidence': 0.7770563791195552, 'avg_response_time': 2.066506302063749, 'max_response_time': 2.180662360029575, 'contribution': 0.7941747476657232}, 'MobileNetV2': {'accuracy': 0.8345864661654135, 'confidence': 0.6867039795208695, 'avg_response_time': 0.0961171151675521, 'max_response_time': 0.14616136826811602, 'contribution': 0.7168876887264108}, 'ResNet50V2': {'accuracy': 0.7666666666666667, 'confidence': 0.717790857454141, 'avg_response_time': 0.3899617048144601, 'max_response_time': 0.43215641092808105, 'contribution': 0.7514914132654666}, 'ensemble': {'accuracy': 0.8733333333333333, 'confidence': 0.7438786898325062, 'avg_response_time': 6.954806410548563, 'max_response_time': 7.2646600209859935, 'contribution': 0.913915983637174}, 'EfficientNetV2S': {'accuracy': 0.9183673469387755, 'confidence': 0.7996121936914872, 'avg_response_time': 1.1448353804245486, 'max_response_time': 1.197277924930375, 'contribution': 0.7847446245806557}, 'NASNetLarge': {'accuracy': 0.910958904109589, 'confidence': 0.8033942029084244, 'avg_response_time': 3.8181773886918315, 'max_response_time': 3.937039179449276, 'contribution': 0.8120221293544116}, 'EfficientNetB7': {'accuracy': 0.9375, 'confidence': 0.7048660760952367, 'avg_response_time': 7.122779859556173, 'max_response_time': 7.2560127503873435, 'contribution': 0.6626537382188771}, 'DenseNet201': {'accuracy': 0.8951048951048951, 'confidence': 0.8115850001365155, 'avg_response_time': 0.5841971376851453, 'max_response_time': 0.7171171364734032, 'contribution': 0.8109463401190884}, 'Xception': {'accuracy': 0.852112676056338, 'confidence': 0.7284671368313508, 'avg_response_time': 0.9912440459071868, 'max_response_time': 1.0693688646426827, 'contribution': 0.7412251087141709}, 'InceptionV3': {'accuracy': 0.8768115942028986, 'confidence': 0.7711468351923901, 'avg_response_time': 0.5747131678421695, 'max_response_time': 0.6754832735299773, 'contribution': 0.778414805730184}}, 'input_state': {'input_file_length': 13, 'image_height': 224, 'image_width': 224}, 'distribution_weights': [1.0, 1.0, 1.0, 1.0, 1.0, 0.0, 0.0, 0.0, 0.0, 0.0, 0.0, 0.0, 0.0, 0.0, 0.0, 0.0, 0.0, 0.0, 0.0, 0.0]}\n",
      "REWARD:  0.8733333333333333\n"
     ]
    },
    {
     "name": "stderr",
     "output_type": "stream",
     "text": [
      "2025-01-24 16:39:54,774:INFO -- Action: Keeping the ensemble\n"
     ]
    },
    {
     "name": "stdout",
     "output_type": "stream",
     "text": [
      "STATE:  {'ensemble_state': {'total_energy_consumption': 0.023205572371097348, 'ensemble_size': 16}, 'model_states': {'InceptionResNetV2': {'accuracy': 0.8807947019867549, 'confidence': 0.7778474094457184, 'avg_response_time': 2.066316996690199, 'max_response_time': 2.180662360029575, 'contribution': 0.7948524113127727}, 'MobileNetV2': {'accuracy': 0.835820895522388, 'confidence': 0.6888175660104894, 'avg_response_time': 0.09619137998790905, 'max_response_time': 0.14616136826811602, 'contribution': 0.7187760236547954}, 'ResNet50V2': {'accuracy': 0.768595041322314, 'confidence': 0.7143883510562014, 'avg_response_time': 0.3901075856314535, 'max_response_time': 0.43215641092808105, 'contribution': 0.7478103898773508}, 'ensemble': {'accuracy': 0.8741721854304636, 'confidence': 0.744613374566911, 'avg_response_time': 6.9560681855293405, 'max_response_time': 7.2646600209859935, 'contribution': 0.9144371027583318}, 'EfficientNetV2S': {'accuracy': 0.918918918918919, 'confidence': 0.8002579272598833, 'avg_response_time': 1.1449236653767372, 'max_response_time': 1.197277924930375, 'contribution': 0.7854908146970981}, 'NASNetLarge': {'accuracy': 0.9115646258503401, 'confidence': 0.8038094895226615, 'avg_response_time': 3.8178652619578126, 'max_response_time': 3.937039179449276, 'contribution': 0.812378722591465}, 'EfficientNetB7': {'accuracy': 0.9379310344827586, 'confidence': 0.7057606803959814, 'avg_response_time': 7.122879977023808, 'max_response_time': 7.2560127503873435, 'contribution': 0.6638394620911828}, 'DenseNet201': {'accuracy': 0.8958333333333334, 'confidence': 0.8128420832670398, 'avg_response_time': 0.5843473385368597, 'max_response_time': 0.7171171364734032, 'contribution': 0.8122078583886226}, 'Xception': {'accuracy': 0.8531468531468531, 'confidence': 0.7298559640254174, 'avg_response_time': 0.9911880621212418, 'max_response_time': 1.0693688646426827, 'contribution': 0.7425247193216444}, 'InceptionV3': {'accuracy': 0.8776978417266187, 'confidence': 0.772564391438052, 'avg_response_time': 0.5745528394488874, 'max_response_time': 0.6754832735299773, 'contribution': 0.7797800744180199}}, 'input_state': {'input_file_length': 15, 'image_height': 224, 'image_width': 224}, 'distribution_weights': [1.0, 1.0, 1.0, 1.0, 1.0, 0.0, 0.0, 0.0, 0.0, 0.0, 0.0, 0.0, 0.0, 0.0, 0.0, 0.0, 0.0, 0.0, 0.0, 0.0]}\n",
      "REWARD:  0.8741721854304636\n"
     ]
    },
    {
     "name": "stderr",
     "output_type": "stream",
     "text": [
      "2025-01-24 16:39:55,668:INFO -- Action: Replacing a model\n"
     ]
    },
    {
     "name": "stdout",
     "output_type": "stream",
     "text": [
      "STATE:  {'ensemble_state': {'total_energy_consumption': 0.023205572371097348, 'ensemble_size': 16}, 'model_states': {'InceptionResNetV2': {'accuracy': 0.881578947368421, 'confidence': 0.7789502381102035, 'avg_response_time': 2.066331313682217, 'max_response_time': 2.180662360029575, 'contribution': 0.7958433649649745}, 'MobileNetV2': {'accuracy': 0.837037037037037, 'confidence': 0.6896318744730067, 'avg_response_time': 0.09621309224259703, 'max_response_time': 0.14616136826811602, 'contribution': 0.7193684176162437}, 'ResNet50V2': {'accuracy': 0.7704918032786885, 'confidence': 0.7167043732326539, 'avg_response_time': 0.3901110235436159, 'max_response_time': 0.43215641092808105, 'contribution': 0.7498524609159251}, 'ensemble': {'accuracy': 0.875, 'confidence': 0.7455249249979438, 'avg_response_time': 6.9570533403612345, 'max_response_time': 7.2646600209859935, 'contribution': 0.9149799050861284}, 'EfficientNetV2S': {'accuracy': 0.9194630872483222, 'confidence': 0.8008171571981186, 'avg_response_time': 1.1449654496890798, 'max_response_time': 1.197277924930375, 'contribution': 0.7861491527733386}, 'NASNetLarge': {'accuracy': 0.9121621621621622, 'confidence': 0.8046080248581396, 'avg_response_time': 3.8181276463014786, 'max_response_time': 3.937039179449276, 'contribution': 0.8131193577035053}, 'EfficientNetB7': {'accuracy': 0.9383561643835616, 'confidence': 0.7062155788075434, 'avg_response_time': 7.122702756547651, 'max_response_time': 7.2560127503873435, 'contribution': 0.6645814921349695}, 'DenseNet201': {'accuracy': 0.896551724137931, 'confidence': 0.8140062198556702, 'avg_response_time': 0.5842940698867057, 'max_response_time': 0.7171171364734032, 'contribution': 0.8133763689419319}, 'Xception': {'accuracy': 0.8541666666666666, 'confidence': 0.7308066286560562, 'avg_response_time': 0.9910278423712146, 'max_response_time': 1.0693688646426827, 'contribution': 0.7433874064849483}, 'InceptionV3': {'accuracy': 0.8785714285714286, 'confidence': 0.7740033715963364, 'avg_response_time': 0.5744309636442972, 'max_response_time': 0.6754832735299773, 'contribution': 0.7811675139835903}}, 'input_state': {'input_file_length': 15, 'image_height': 224, 'image_width': 224}, 'distribution_weights': [1.0, 1.0, 1.0, 1.0, 1.0, 0.0, 0.0, 0.0, 0.0, 0.0, 0.0, 0.0, 0.0, 0.0, 0.0, 0.0, 0.0, 0.0, 0.0, 0.0]}\n",
      "REWARD:  0.875\n",
      "Worst model: EfficientNetV2L with score: 0.5911481481481482\n",
      "Model 'EfficientNetV2L' successfully removed from the target YAML.\n",
      "Best model: EfficientNetV2L with score: 0.5911481481481482\n",
      "Model 'EfficientNetV2L' successfully added to the target YAML.\n"
     ]
    },
    {
     "name": "stderr",
     "output_type": "stream",
     "text": [
      "2025-01-24 16:39:56,761:INFO -- Action: Adding a model\n"
     ]
    },
    {
     "name": "stdout",
     "output_type": "stream",
     "text": [
      "STATE:  {'ensemble_state': {'total_energy_consumption': 0.023205572371097348, 'ensemble_size': 16}, 'model_states': {'InceptionResNetV2': {'accuracy': 0.8823529411764706, 'confidence': 0.7798748680579117, 'avg_response_time': 2.066333437988713, 'max_response_time': 2.180662360029575, 'contribution': 0.7966575823188607}, 'MobileNetV2': {'accuracy': 0.8382352941176471, 'confidence': 0.69180688875563, 'avg_response_time': 0.09635567933773112, 'max_response_time': 0.14616136826811602, 'contribution': 0.7213247808463433}, 'ResNet50V2': {'accuracy': 0.7723577235772358, 'confidence': 0.71900241864406, 'avg_response_time': 0.39030180198233366, 'max_response_time': 0.43215641092808105, 'contribution': 0.7518810096794997}, 'ensemble': {'accuracy': 0.8758169934640523, 'confidence': 0.7466541756012837, 'avg_response_time': 6.9583868320334785, 'max_response_time': 7.2646600209859935, 'contribution': 0.9155314348491967}, 'EfficientNetV2S': {'accuracy': 0.92, 'confidence': 0.8015816577275594, 'avg_response_time': 1.1450858580361625, 'max_response_time': 1.197277924930375, 'contribution': 0.7870114399989446}, 'NASNetLarge': {'accuracy': 0.912751677852349, 'confidence': 0.8052695237550159, 'avg_response_time': 3.8183842080823327, 'max_response_time': 3.937039179449276, 'contribution': 0.813723733561151}, 'EfficientNetB7': {'accuracy': 0.9387755102040817, 'confidence': 0.7071131516476067, 'avg_response_time': 7.1229018326761775, 'max_response_time': 7.2560127503873435, 'contribution': 0.6657622900544381}, 'DenseNet201': {'accuracy': 0.8972602739726028, 'confidence': 0.8150844335147779, 'avg_response_time': 0.5844139032856397, 'max_response_time': 0.7171171364734032, 'contribution': 0.8144588966483939}, 'Xception': {'accuracy': 0.8551724137931035, 'confidence': 0.7323451714269046, 'avg_response_time': 0.9909978835831396, 'max_response_time': 1.0693688646426827, 'contribution': 0.7448391852707699}, 'InceptionV3': {'accuracy': 0.8794326241134752, 'confidence': 0.7753200556369538, 'avg_response_time': 0.5742842190080049, 'max_response_time': 0.6754832735299773, 'contribution': 0.7824333885037307}}, 'input_state': {'input_file_length': 14, 'image_height': 224, 'image_width': 224}, 'distribution_weights': [1.0, 1.0, 1.0, 1.0, 1.0, 0.0, 0.0, 0.0, 0.0, 0.0, 0.0, 0.0, 0.0, 0.0, 0.0, 0.0, 0.0, 0.0, 0.0, 0.0]}\n",
      "REWARD:  0.8758169934640523\n",
      "No eligible models to score.\n"
     ]
    },
    {
     "name": "stderr",
     "output_type": "stream",
     "text": [
      "2025-01-24 16:39:57,609:INFO -- Action: Keeping the ensemble\n"
     ]
    },
    {
     "name": "stdout",
     "output_type": "stream",
     "text": [
      "STATE:  {'ensemble_state': {'total_energy_consumption': 0.023205572371097348, 'ensemble_size': 16}, 'model_states': {'InceptionResNetV2': {'accuracy': 0.8831168831168831, 'confidence': 0.7794220286917377, 'avg_response_time': 2.0662291397523904, 'max_response_time': 2.180662360029575, 'contribution': 0.7960957642886546}, 'MobileNetV2': {'accuracy': 0.8394160583941606, 'confidence': 0.6915521908850566, 'avg_response_time': 0.09635393056949332, 'max_response_time': 0.14616136826811602, 'contribution': 0.7208546239094142}, 'ResNet50V2': {'accuracy': 0.7661290322580645, 'confidence': 0.7132040120420917, 'avg_response_time': 0.39036389443211944, 'max_response_time': 0.43215641092808105, 'contribution': 0.7458174531498263}, 'ensemble': {'accuracy': 0.8766233766233766, 'confidence': 0.7461142891325601, 'avg_response_time': 6.959482967027576, 'max_response_time': 7.2646600209859935, 'contribution': 0.91563912781028}, 'EfficientNetV2S': {'accuracy': 0.9205298013245033, 'confidence': 0.8020605034386086, 'avg_response_time': 1.144970694340838, 'max_response_time': 1.197277924930375, 'contribution': 0.7875867772181302}, 'NASNetLarge': {'accuracy': 0.9133333333333333, 'confidence': 0.8047393500804901, 'avg_response_time': 3.818129293675212, 'max_response_time': 3.937039179449276, 'contribution': 0.8131371984879175}, 'EfficientNetB7': {'accuracy': 0.9391891891891891, 'confidence': 0.7065045986626599, 'avg_response_time': 7.122891362440103, 'max_response_time': 7.2560127503873435, 'contribution': 0.6654331347829586}, 'DenseNet201': {'accuracy': 0.8979591836734694, 'confidence': 0.8154617055338256, 'avg_response_time': 0.5842091621383083, 'max_response_time': 0.7171171364734032, 'contribution': 0.8148404240202741}, 'Xception': {'accuracy': 0.8561643835616438, 'confidence': 0.7316666337316984, 'avg_response_time': 0.9910331511729634, 'max_response_time': 1.0693688646426827, 'contribution': 0.7440750721382768}, 'InceptionV3': {'accuracy': 0.8802816901408451, 'confidence': 0.7764242534906092, 'avg_response_time': 0.5744217679107922, 'max_response_time': 0.6754832735299773, 'contribution': 0.7834874924639581}}, 'input_state': {'input_file_length': 14, 'image_height': 224, 'image_width': 224}, 'distribution_weights': [1.0, 1.0, 1.0, 1.0, 1.0, 0.0, 0.0, 0.0, 0.0, 0.0, 0.0, 0.0, 0.0, 0.0, 0.0, 0.0, 0.0, 0.0, 0.0, 0.0]}\n",
      "REWARD:  0.8766233766233766\n"
     ]
    },
    {
     "name": "stderr",
     "output_type": "stream",
     "text": [
      "2025-01-24 16:39:58,460:INFO -- Action: Keeping the ensemble\n"
     ]
    },
    {
     "name": "stdout",
     "output_type": "stream",
     "text": [
      "STATE:  {'ensemble_state': {'total_energy_consumption': 0.023205572371097348, 'ensemble_size': 16}, 'model_states': {'InceptionResNetV2': {'accuracy': 0.8838709677419355, 'confidence': 0.7804358741929455, 'avg_response_time': 2.0664529934279603, 'max_response_time': 2.180662360029575, 'contribution': 0.7970020373021403}, 'MobileNetV2': {'accuracy': 0.8405797101449275, 'confidence': 0.6936237738616224, 'avg_response_time': 0.09633293740445706, 'max_response_time': 0.14616136826811602, 'contribution': 0.7227138704147892}, 'ResNet50V2': {'accuracy': 0.768, 'confidence': 0.7154926002025604, 'avg_response_time': 0.3903254838630047, 'max_response_time': 0.43215641092808105, 'contribution': 0.7478451337814331}, 'ensemble': {'accuracy': 0.8774193548387097, 'confidence': 0.7472807062354263, 'avg_response_time': 6.960390015459793, 'max_response_time': 7.2646600209859935, 'contribution': 0.9161787304186052}, 'EfficientNetV2S': {'accuracy': 0.9210526315789473, 'confidence': 0.802808695325726, 'avg_response_time': 1.1448367696662327, 'max_response_time': 1.197277924930375, 'contribution': 0.7884301909882772}, 'NASNetLarge': {'accuracy': 0.9139072847682119, 'confidence': 0.8052949056720102, 'avg_response_time': 3.8181175747581664, 'max_response_time': 3.937039179449276, 'contribution': 0.8136371391893222}, 'EfficientNetB7': {'accuracy': 0.9395973154362416, 'confidence': 0.7075825301592782, 'avg_response_time': 7.122657179692613, 'max_response_time': 7.2560127503873435, 'contribution': 0.6667867136881656}, 'DenseNet201': {'accuracy': 0.8986486486486487, 'confidence': 0.816701847757842, 'avg_response_time': 0.5843022710705327, 'max_response_time': 0.7171171364734032, 'contribution': 0.8160847640923552}, 'Xception': {'accuracy': 0.8571428571428571, 'confidence': 0.7329562766616847, 'avg_response_time': 0.9909367322105471, 'max_response_time': 1.0693688646426827, 'contribution': 0.7452803039226402}, 'InceptionV3': {'accuracy': 0.8811188811188811, 'confidence': 0.7779006541192115, 'avg_response_time': 0.5744231300179116, 'max_response_time': 0.6754832735299773, 'contribution': 0.7849144998130265}}, 'input_state': {'input_file_length': 15, 'image_height': 224, 'image_width': 224}, 'distribution_weights': [1.0, 1.0, 1.0, 1.0, 1.0, 0.0, 0.0, 0.0, 0.0, 0.0, 0.0, 0.0, 0.0, 0.0, 0.0, 0.0, 0.0, 0.0, 0.0, 0.0]}\n",
      "REWARD:  0.8774193548387097\n"
     ]
    },
    {
     "name": "stderr",
     "output_type": "stream",
     "text": [
      "2025-01-24 16:39:59,316:INFO -- Action: Replacing a model\n"
     ]
    },
    {
     "name": "stdout",
     "output_type": "stream",
     "text": [
      "STATE:  {'ensemble_state': {'total_energy_consumption': 0.023205572371097348, 'ensemble_size': 16}, 'model_states': {'InceptionResNetV2': {'accuracy': 0.8846153846153846, 'confidence': 0.7801283149000926, 'avg_response_time': 2.066947038811285, 'max_response_time': 2.180662360029575, 'contribution': 0.7965882846560234}, 'MobileNetV2': {'accuracy': 0.8345323741007195, 'confidence': 0.6886336747690928, 'avg_response_time': 0.09638216530799544, 'max_response_time': 0.14616136826811602, 'contribution': 0.7175144900520929}, 'ResNet50V2': {'accuracy': 0.7619047619047619, 'confidence': 0.7098140875025402, 'avg_response_time': 0.39044917015753483, 'max_response_time': 0.43215641092808105, 'contribution': 0.7419098549418979}, 'ensemble': {'accuracy': 0.8782051282051282, 'confidence': 0.7466501115137818, 'avg_response_time': 6.961733743067861, 'max_response_time': 7.2646600209859935, 'contribution': 0.9152500608410591}, 'EfficientNetV2S': {'accuracy': 0.9150326797385621, 'confidence': 0.7975615796700023, 'avg_response_time': 1.145083592936591, 'max_response_time': 1.197277924930375, 'contribution': 0.7832770524850858}, 'NASNetLarge': {'accuracy': 0.9144736842105263, 'confidence': 0.8039304582696212, 'avg_response_time': 3.818046359072823, 'max_response_time': 3.937039179449276, 'contribution': 0.8122178086716878}, 'EfficientNetB7': {'accuracy': 0.9333333333333333, 'confidence': 0.7028653132915497, 'avg_response_time': 7.122907020692805, 'max_response_time': 7.2560127503873435, 'contribution': 0.6623414689302445}, 'DenseNet201': {'accuracy': 0.8926174496644296, 'confidence': 0.8112206273030915, 'avg_response_time': 0.5842021275725888, 'max_response_time': 0.7171171364734032, 'contribution': 0.8106076851387152}, 'Xception': {'accuracy': 0.8581081081081081, 'confidence': 0.7332153982810072, 'avg_response_time': 0.9909612709457175, 'max_response_time': 1.0693688646426827, 'contribution': 0.7454561550874967}, 'InceptionV3': {'accuracy': 0.8819444444444444, 'confidence': 0.775928912891282, 'avg_response_time': 0.574369815205707, 'max_response_time': 0.6754832735299773, 'contribution': 0.7828940513233343}}, 'input_state': {'input_file_length': 14, 'image_height': 224, 'image_width': 224}, 'distribution_weights': [1.0, 1.0, 1.0, 1.0, 1.0, 0.0, 0.0, 0.0, 0.0, 0.0, 0.0, 0.0, 0.0, 0.0, 0.0, 0.0, 0.0, 0.0, 0.0, 0.0]}\n",
      "REWARD:  0.8782051282051282\n",
      "Worst model: EfficientNetV2L with score: 0.5911481481481482\n",
      "Model 'EfficientNetV2L' successfully removed from the target YAML.\n",
      "Best model: EfficientNetV2L with score: 0.5911481481481482\n",
      "Model 'EfficientNetV2L' successfully added to the target YAML.\n"
     ]
    },
    {
     "name": "stderr",
     "output_type": "stream",
     "text": [
      "2025-01-24 16:40:00,401:INFO -- Action: Adding a model\n"
     ]
    },
    {
     "name": "stdout",
     "output_type": "stream",
     "text": [
      "STATE:  {'ensemble_state': {'total_energy_consumption': 0.023205572371097348, 'ensemble_size': 16}, 'model_states': {'InceptionResNetV2': {'accuracy': 0.8853503184713376, 'confidence': 0.780959627241086, 'avg_response_time': 2.067003062131635, 'max_response_time': 2.180662360029575, 'contribution': 0.797314756425323}, 'MobileNetV2': {'accuracy': 0.8285714285714286, 'confidence': 0.6837148628064564, 'avg_response_time': 0.09639323179315613, 'max_response_time': 0.14616136826811602, 'contribution': 0.7123893865517208}, 'ResNet50V2': {'accuracy': 0.7559055118110236, 'confidence': 0.7042250001993705, 'avg_response_time': 0.3904304683485272, 'max_response_time': 0.43215641092808105, 'contribution': 0.7360680450604656}, 'ensemble': {'accuracy': 0.8789808917197452, 'confidence': 0.7457974882746067, 'avg_response_time': 6.962673060837124, 'max_response_time': 7.2646600209859935, 'contribution': 0.9152207251187343}, 'EfficientNetV2S': {'accuracy': 0.9155844155844156, 'confidence': 0.7963143320052655, 'avg_response_time': 1.145169602233588, 'max_response_time': 1.197277924930375, 'contribution': 0.782122561490381}, 'NASNetLarge': {'accuracy': 0.9150326797385621, 'confidence': 0.8040546272315231, 'avg_response_time': 3.81821215727576, 'max_response_time': 3.937039179449276, 'contribution': 0.8122878119446872}, 'EfficientNetB7': {'accuracy': 0.9337748344370861, 'confidence': 0.7012148511330814, 'avg_response_time': 7.122761718875312, 'max_response_time': 7.2560127503873435, 'contribution': 0.6609593766019833}, 'DenseNet201': {'accuracy': 0.8933333333333333, 'confidence': 0.8088716292381286, 'avg_response_time': 0.5839924253727624, 'max_response_time': 0.7171171364734032, 'contribution': 0.8082627733548482}, 'Xception': {'accuracy': 0.8590604026845637, 'confidence': 0.7309404871607786, 'avg_response_time': 0.9908732718200945, 'max_response_time': 1.0693688646426827, 'contribution': 0.7430990912370233}, 'InceptionV3': {'accuracy': 0.8827586206896552, 'confidence': 0.776608184288288, 'avg_response_time': 0.5742222570504881, 'max_response_time': 0.6754832735299773, 'contribution': 0.783525287282878}}, 'input_state': {'input_file_length': 14, 'image_height': 224, 'image_width': 224}, 'distribution_weights': [1.0, 1.0, 1.0, 1.0, 1.0, 0.0, 0.0, 0.0, 0.0, 0.0, 0.0, 0.0, 0.0, 0.0, 0.0, 0.0, 0.0, 0.0, 0.0, 0.0]}\n",
      "REWARD:  0.8789808917197452\n",
      "No eligible models to score.\n"
     ]
    },
    {
     "name": "stderr",
     "output_type": "stream",
     "text": [
      "2025-01-24 16:40:01,267:INFO -- Action: Keeping the ensemble\n"
     ]
    },
    {
     "name": "stdout",
     "output_type": "stream",
     "text": [
      "STATE:  {'ensemble_state': {'total_energy_consumption': 0.023205572371097348, 'ensemble_size': 16}, 'model_states': {'InceptionResNetV2': {'accuracy': 0.8860759493670886, 'confidence': 0.778021194512331, 'avg_response_time': 2.0669247119251613, 'max_response_time': 2.180662360029575, 'contribution': 0.7942728102207184}, 'MobileNetV2': {'accuracy': 0.8297872340425532, 'confidence': 0.6834838914533033, 'avg_response_time': 0.09629556908422746, 'max_response_time': 0.14616136826811602, 'contribution': 0.7119550497819346}, 'ResNet50V2': {'accuracy': 0.75, 'confidence': 0.6987232423853129, 'avg_response_time': 0.3906632429352627, 'max_response_time': 0.43215641092808105, 'contribution': 0.7303175134584308}, 'ensemble': {'accuracy': 0.879746835443038, 'confidence': 0.7455612497450192, 'avg_response_time': 6.963871843694196, 'max_response_time': 7.2646600209859935, 'contribution': 0.9150791226685802}, 'EfficientNetV2S': {'accuracy': 0.9161290322580645, 'confidence': 0.7958783426592427, 'avg_response_time': 1.1451807086063472, 'max_response_time': 1.197277924930375, 'contribution': 0.7817781319541316}, 'NASNetLarge': {'accuracy': 0.9155844155844156, 'confidence': 0.8046312045741391, 'avg_response_time': 3.818351660667802, 'max_response_time': 3.937039179449276, 'contribution': 0.8128109270489061}, 'EfficientNetB7': {'accuracy': 0.9342105263157895, 'confidence': 0.7012980345048403, 'avg_response_time': 7.122891475311018, 'max_response_time': 7.2560127503873435, 'contribution': 0.6613073986219732}, 'DenseNet201': {'accuracy': 0.8940397350993378, 'confidence': 0.807921112767908, 'avg_response_time': 0.5840837183492303, 'max_response_time': 0.7171171364734032, 'contribution': 0.807316289042795}, 'Xception': {'accuracy': 0.8533333333333334, 'confidence': 0.7260675505797068, 'avg_response_time': 0.9910108141562605, 'max_response_time': 1.0693688646426827, 'contribution': 0.7381450972954432}, 'InceptionV3': {'accuracy': 0.8835616438356164, 'confidence': 0.7771824880005562, 'avg_response_time': 0.5741779405401176, 'max_response_time': 0.6754832735299773, 'contribution': 0.784052213577375}}, 'input_state': {'input_file_length': 15, 'image_height': 224, 'image_width': 224}, 'distribution_weights': [1.0, 1.0, 1.0, 1.0, 1.0, 0.0, 0.0, 0.0, 0.0, 0.0, 0.0, 0.0, 0.0, 0.0, 0.0, 0.0, 0.0, 0.0, 0.0, 0.0]}\n",
      "REWARD:  0.879746835443038\n"
     ]
    },
    {
     "name": "stderr",
     "output_type": "stream",
     "text": [
      "2025-01-24 16:40:02,129:INFO -- Action: Keeping the ensemble\n"
     ]
    },
    {
     "name": "stdout",
     "output_type": "stream",
     "text": [
      "STATE:  {'ensemble_state': {'total_energy_consumption': 0.023205572371097348, 'ensemble_size': 16}, 'model_states': {'InceptionResNetV2': {'accuracy': 0.8867924528301887, 'confidence': 0.778918298910249, 'avg_response_time': 2.0669356311925595, 'max_response_time': 2.180662360029575, 'contribution': 0.7950677031990867}, 'MobileNetV2': {'accuracy': 0.8309859154929577, 'confidence': 0.6851307934438678, 'avg_response_time': 0.09634445263511976, 'max_response_time': 0.14616136826811602, 'contribution': 0.7134014506575087}, 'ResNet50V2': {'accuracy': 0.751937984496124, 'confidence': 0.7010301344616469, 'avg_response_time': 0.3906426251087032, 'max_response_time': 0.43215641092808105, 'contribution': 0.7323794887047406}, 'ensemble': {'accuracy': 0.8805031446540881, 'confidence': 0.7465672829919404, 'avg_response_time': 6.965190349478984, 'max_response_time': 7.2646600209859935, 'contribution': 0.915594479760284}, 'EfficientNetV2S': {'accuracy': 0.9166666666666666, 'confidence': 0.796484785202222, 'avg_response_time': 1.1452554621846862, 'max_response_time': 1.197277924930375, 'contribution': 0.7824749604631693}, 'NASNetLarge': {'accuracy': 0.9161290322580645, 'confidence': 0.8050942220995503, 'avg_response_time': 3.8184729912462956, 'max_response_time': 3.937039179449276, 'contribution': 0.8132211721712543}, 'EfficientNetB7': {'accuracy': 0.934640522875817, 'confidence': 0.7018878257352542, 'avg_response_time': 7.123144174576536, 'max_response_time': 7.2560127503873435, 'contribution': 0.662158566557504}, 'DenseNet201': {'accuracy': 0.8947368421052632, 'confidence': 0.8090605484811884, 'avg_response_time': 0.584053497630739, 'max_response_time': 0.7171171364734032, 'contribution': 0.80845970385953}, 'Xception': {'accuracy': 0.8543046357615894, 'confidence': 0.7266733393763865, 'avg_response_time': 0.991013442746781, 'max_response_time': 1.0693688646426827, 'contribution': 0.7386709023390384}, 'InceptionV3': {'accuracy': 0.8843537414965986, 'confidence': 0.7783214251200358, 'avg_response_time': 0.5742450994627561, 'max_response_time': 0.6754832735299773, 'contribution': 0.7851444178698014}}, 'input_state': {'input_file_length': 14, 'image_height': 224, 'image_width': 224}, 'distribution_weights': [1.0, 1.0, 1.0, 1.0, 1.0, 0.0, 0.0, 0.0, 0.0, 0.0, 0.0, 0.0, 0.0, 0.0, 0.0, 0.0, 0.0, 0.0, 0.0, 0.0]}\n",
      "REWARD:  0.8805031446540881\n"
     ]
    },
    {
     "name": "stderr",
     "output_type": "stream",
     "text": [
      "2025-01-24 16:40:03,039:INFO -- Action: Adding a model\n"
     ]
    },
    {
     "name": "stdout",
     "output_type": "stream",
     "text": [
      "STATE:  {'ensemble_state': {'total_energy_consumption': 0.023205572371097348, 'ensemble_size': 16}, 'model_states': {'InceptionResNetV2': {'accuracy': 0.8875, 'confidence': 0.7789645854383707, 'avg_response_time': 2.066972211464275, 'max_response_time': 2.180662360029575, 'contribution': 0.7950130559504032}, 'MobileNetV2': {'accuracy': 0.8321678321678322, 'confidence': 0.6860806633542468, 'avg_response_time': 0.09633604880941418, 'max_response_time': 0.14616136826811602, 'contribution': 0.7141536236642958}, 'ResNet50V2': {'accuracy': 0.7538461538461538, 'confidence': 0.7030621957320433, 'avg_response_time': 0.39050579492430537, 'max_response_time': 0.43215641092808105, 'contribution': 0.734170401096344}, 'ensemble': {'accuracy': 0.88125, 'confidence': 0.7469684964267568, 'avg_response_time': 6.966229730146513, 'max_response_time': 7.2646600209859935, 'contribution': 0.9159045023843646}, 'EfficientNetV2S': {'accuracy': 0.9171974522292994, 'confidence': 0.7965867215660727, 'avg_response_time': 1.145431150217501, 'max_response_time': 1.197277924930375, 'contribution': 0.782666131379498}, 'NASNetLarge': {'accuracy': 0.9166666666666666, 'confidence': 0.8057330407393284, 'avg_response_time': 3.818325743053906, 'max_response_time': 3.937039179449276, 'contribution': 0.8138078949772395}, 'EfficientNetB7': {'accuracy': 0.935064935064935, 'confidence': 0.7024634170841861, 'avg_response_time': 7.123123845609329, 'max_response_time': 7.2560127503873435, 'contribution': 0.6629921401088888}, 'DenseNet201': {'accuracy': 0.8954248366013072, 'confidence': 0.8098442332417357, 'avg_response_time': 0.5840413903427678, 'max_response_time': 0.7171171364734032, 'contribution': 0.8092473157091078}, 'Xception': {'accuracy': 0.8552631578947368, 'confidence': 0.727710421932371, 'avg_response_time': 0.9910489544870743, 'max_response_time': 1.0693688646426827, 'contribution': 0.7396290535597425}, 'InceptionV3': {'accuracy': 0.8851351351351351, 'confidence': 0.7793094515800476, 'avg_response_time': 0.5742768938793237, 'max_response_time': 0.6754832735299773, 'contribution': 0.78608634302745}}, 'input_state': {'input_file_length': 14, 'image_height': 224, 'image_width': 224}, 'distribution_weights': [1.0, 1.0, 1.0, 1.0, 1.0, 0.0, 0.0, 0.0, 0.0, 0.0, 0.0, 0.0, 0.0, 0.0, 0.0, 0.0, 0.0, 0.0, 0.0, 0.0]}\n",
      "REWARD:  0.88125\n",
      "No eligible models to score.\n"
     ]
    },
    {
     "name": "stderr",
     "output_type": "stream",
     "text": [
      "2025-01-24 16:40:03,898:INFO -- Action: Keeping the ensemble\n"
     ]
    },
    {
     "name": "stdout",
     "output_type": "stream",
     "text": [
      "STATE:  {'ensemble_state': {'total_energy_consumption': 0.023205572371097348, 'ensemble_size': 16}, 'model_states': {'InceptionResNetV2': {'accuracy': 0.8881987577639752, 'confidence': 0.7798455735171064, 'avg_response_time': 2.067475378643248, 'max_response_time': 2.180662360029575, 'contribution': 0.7900750866587858}, 'MobileNetV2': {'accuracy': 0.8333333333333334, 'confidence': 0.6847136486321688, 'avg_response_time': 0.09643859634302704, 'max_response_time': 0.14616136826811602, 'contribution': 0.7091942234999604}, 'ResNet50V2': {'accuracy': 0.7480916030534351, 'confidence': 0.6976953087417224, 'avg_response_time': 0.3908291516713448, 'max_response_time': 0.43286552878647533, 'contribution': 0.7356329478380335}, 'ensemble': {'accuracy': 0.8757763975155279, 'confidence': 0.7423289405483298, 'avg_response_time': 6.967373267729228, 'max_response_time': 7.2646600209859935, 'contribution': 0.910215654543468}, 'EfficientNetV2S': {'accuracy': 0.9177215189873418, 'confidence': 0.7973404311681096, 'avg_response_time': 1.1452858474892744, 'max_response_time': 1.197277924930375, 'contribution': 0.7777125482695012}, 'NASNetLarge': {'accuracy': 0.9171974522292994, 'confidence': 0.8063878716936537, 'avg_response_time': 3.818129082839135, 'max_response_time': 3.937039179449276, 'contribution': 0.8086244052003144}, 'EfficientNetB7': {'accuracy': 0.9354838709677419, 'confidence': 0.7033121247445383, 'avg_response_time': 7.12328330003097, 'max_response_time': 7.2560127503873435, 'contribution': 0.658714771463025}, 'DenseNet201': {'accuracy': 0.8961038961038961, 'confidence': 0.8109963002142968, 'avg_response_time': 0.5840736132972018, 'max_response_time': 0.7171171364734032, 'contribution': 0.8039924630096981}, 'Xception': {'accuracy': 0.8562091503267973, 'confidence': 0.7289943157457838, 'avg_response_time': 0.9910658797657302, 'max_response_time': 1.0693688646426827, 'contribution': 0.7347948767390906}, 'InceptionV3': {'accuracy': 0.8859060402684564, 'confidence': 0.77965990408955, 'avg_response_time': 0.5736571161723072, 'max_response_time': 0.6754832735299773, 'contribution': 0.7808105957588093}}, 'input_state': {'input_file_length': 15, 'image_height': 224, 'image_width': 224}, 'distribution_weights': [1.0, 1.0, 1.0, 1.0, 1.0, 0.0, 0.0, 0.0, 0.0, 0.0, 0.0, 0.0, 0.0, 0.0, 0.0, 0.0, 0.0, 0.0, 0.0, 0.0]}\n",
      "REWARD:  0.8757763975155279\n"
     ]
    },
    {
     "name": "stderr",
     "output_type": "stream",
     "text": [
      "2025-01-24 16:40:04,888:INFO -- Action: Keeping the ensemble\n"
     ]
    },
    {
     "name": "stdout",
     "output_type": "stream",
     "text": [
      "STATE:  {'ensemble_state': {'total_energy_consumption': 0.023205572371097348, 'ensemble_size': 16}, 'model_states': {'InceptionResNetV2': {'accuracy': 0.8888888888888888, 'confidence': 0.7801116237669815, 'avg_response_time': 2.0672651396920756, 'max_response_time': 2.180662360029575, 'contribution': 0.7902779917658111}, 'MobileNetV2': {'accuracy': 0.8275862068965517, 'confidence': 0.6799914855381538, 'avg_response_time': 0.09642261871969417, 'max_response_time': 0.14616136826811602, 'contribution': 0.7043032288551331}, 'ResNet50V2': {'accuracy': 0.7424242424242424, 'confidence': 0.6924097382209518, 'avg_response_time': 0.39087899856321945, 'max_response_time': 0.43286552878647533, 'contribution': 0.7300599709604726}, 'ensemble': {'accuracy': 0.8765432098765432, 'confidence': 0.7419806911420023, 'avg_response_time': 6.968262506304534, 'max_response_time': 7.2646600209859935, 'contribution': 0.909947505151784}, 'EfficientNetV2S': {'accuracy': 0.9182389937106918, 'confidence': 0.7977771294191949, 'avg_response_time': 1.1453273292540058, 'max_response_time': 1.197277924930375, 'contribution': 0.7782726923249802}, 'NASNetLarge': {'accuracy': 0.9177215189873418, 'confidence': 0.8065856506552878, 'avg_response_time': 3.818242096222273, 'max_response_time': 3.937039179449276, 'contribution': 0.8088080288865899}, 'EfficientNetB7': {'accuracy': 0.9358974358974359, 'confidence': 0.7029611334586755, 'avg_response_time': 7.123144887173578, 'max_response_time': 7.2560127503873435, 'contribution': 0.6586496606469154}, 'DenseNet201': {'accuracy': 0.8903225806451613, 'confidence': 0.8057640660193659, 'avg_response_time': 0.583896449718311, 'max_response_time': 0.7171171364734032, 'contribution': 0.7988054148612483}, 'Xception': {'accuracy': 0.8571428571428571, 'confidence': 0.7264404500072653, 'avg_response_time': 0.9910347954328245, 'max_response_time': 1.0693688646426827, 'contribution': 0.732203345020096}, 'InceptionV3': {'accuracy': 0.8866666666666667, 'confidence': 0.7793771449724833, 'avg_response_time': 0.5737294082456723, 'max_response_time': 0.6754832735299773, 'contribution': 0.7805201653639475}}, 'input_state': {'input_file_length': 15, 'image_height': 224, 'image_width': 224}, 'distribution_weights': [1.0, 1.0, 1.0, 1.0, 1.0, 0.0, 0.0, 0.0, 0.0, 0.0, 0.0, 0.0, 0.0, 0.0, 0.0, 0.0, 0.0, 0.0, 0.0, 0.0]}\n",
      "REWARD:  0.8765432098765432\n"
     ]
    },
    {
     "name": "stderr",
     "output_type": "stream",
     "text": [
      "2025-01-24 16:40:05,766:INFO -- Action: Adding a model\n"
     ]
    },
    {
     "name": "stdout",
     "output_type": "stream",
     "text": [
      "STATE:  {'ensemble_state': {'total_energy_consumption': 0.023205572371097348, 'ensemble_size': 16}, 'model_states': {'InceptionResNetV2': {'accuracy': 0.8895705521472392, 'confidence': 0.7810539990846365, 'avg_response_time': 2.0673767157411618, 'max_response_time': 2.180662360029575, 'contribution': 0.7911579967276451}, 'MobileNetV2': {'accuracy': 0.8287671232876712, 'confidence': 0.68168104409355, 'avg_response_time': 0.09641534161899756, 'max_response_time': 0.14616136826811602, 'contribution': 0.705826268620687}, 'ResNet50V2': {'accuracy': 0.7443609022556391, 'confidence': 0.6947072128156074, 'avg_response_time': 0.3911172740070288, 'max_response_time': 0.43286552878647533, 'contribution': 0.73207436109844}, 'ensemble': {'accuracy': 0.8773006134969326, 'confidence': 0.7430783178708388, 'avg_response_time': 6.969265827212177, 'max_response_time': 7.2646600209859935, 'contribution': 0.9104904684186713}, 'EfficientNetV2S': {'accuracy': 0.91875, 'confidence': 0.7985628169029951, 'avg_response_time': 1.1453708162708094, 'max_response_time': 1.197277924930375, 'contribution': 0.7791802825406193}, 'NASNetLarge': {'accuracy': 0.9182389937106918, 'confidence': 0.807164783372819, 'avg_response_time': 3.8182904413335277, 'max_response_time': 3.937039179449276, 'contribution': 0.8093731843825406}, 'EfficientNetB7': {'accuracy': 0.9363057324840764, 'confidence': 0.7036199691189322, 'avg_response_time': 7.123127597469932, 'max_response_time': 7.2560127503873435, 'contribution': 0.6595907349875019}, 'DenseNet201': {'accuracy': 0.8910256410256411, 'confidence': 0.8069992355811291, 'avg_response_time': 0.5841878672159703, 'max_response_time': 0.7171171364734032, 'contribution': 0.8000851911612046}, 'Xception': {'accuracy': 0.8580645161290322, 'confidence': 0.7278937253259843, 'avg_response_time': 0.9911449311212495, 'max_response_time': 1.0693688646426827, 'contribution': 0.7336194403709904}, 'InceptionV3': {'accuracy': 0.8874172185430463, 'confidence': 0.7807449848446625, 'avg_response_time': 0.5738588865854685, 'max_response_time': 0.6754832735299773, 'contribution': 0.78188043556466}}, 'input_state': {'input_file_length': 14, 'image_height': 224, 'image_width': 224}, 'distribution_weights': [1.0, 1.0, 1.0, 1.0, 1.0, 0.0, 0.0, 0.0, 0.0, 0.0, 0.0, 0.0, 0.0, 0.0, 0.0, 0.0, 0.0, 0.0, 0.0, 0.0]}\n",
      "REWARD:  0.8773006134969326\n",
      "No eligible models to score.\n"
     ]
    },
    {
     "name": "stderr",
     "output_type": "stream",
     "text": [
      "2025-01-24 16:40:06,621:INFO -- Action: Replacing a model\n"
     ]
    },
    {
     "name": "stdout",
     "output_type": "stream",
     "text": [
      "STATE:  {'ensemble_state': {'total_energy_consumption': 0.023205572371097348, 'ensemble_size': 16}, 'model_states': {'InceptionResNetV2': {'accuracy': 0.8902439024390244, 'confidence': 0.7813406085095754, 'avg_response_time': 2.067671321366522, 'max_response_time': 2.180662360029575, 'contribution': 0.7913829964108583}, 'MobileNetV2': {'accuracy': 0.8299319727891157, 'confidence': 0.6815553767745998, 'avg_response_time': 0.09646848949162298, 'max_response_time': 0.14616136826811602, 'contribution': 0.705536348073661}, 'ResNet50V2': {'accuracy': 0.7388059701492538, 'confidence': 0.6895228306304163, 'avg_response_time': 0.391310896512287, 'max_response_time': 0.43286552878647533, 'contribution': 0.7266111195977054}, 'ensemble': {'accuracy': 0.8780487804878049, 'confidence': 0.7424307781367849, 'avg_response_time': 6.970193674673711, 'max_response_time': 7.2646600209859935, 'contribution': 0.9105085859574923}, 'EfficientNetV2S': {'accuracy': 0.9192546583850931, 'confidence': 0.7991189653088587, 'avg_response_time': 1.1455612607009307, 'max_response_time': 1.197277924930375, 'contribution': 0.7798568193586717}, 'NASNetLarge': {'accuracy': 0.91875, 'confidence': 0.8078291393816471, 'avg_response_time': 3.8182553804687287, 'max_response_time': 3.937039179449276, 'contribution': 0.8100237378850579}, 'EfficientNetB7': {'accuracy': 0.9367088607594937, 'confidence': 0.7016839518954482, 'avg_response_time': 7.123067598107359, 'max_response_time': 7.2560127503873435, 'contribution': 0.6579333838028244}, 'DenseNet201': {'accuracy': 0.8853503184713376, 'confidence': 0.801859113061504, 'avg_response_time': 0.5843213332270404, 'max_response_time': 0.7171171364734032, 'contribution': 0.7949891071410695}, 'Xception': {'accuracy': 0.8589743589743589, 'confidence': 0.7277750607866508, 'avg_response_time': 0.9911149927757353, 'max_response_time': 1.0693688646426827, 'contribution': 0.7334640725300863}, 'InceptionV3': {'accuracy': 0.8881578947368421, 'confidence': 0.7806651474613893, 'avg_response_time': 0.5738767408026755, 'max_response_time': 0.6754832735299773, 'contribution': 0.7817931281108605}}, 'input_state': {'input_file_length': 14, 'image_height': 224, 'image_width': 224}, 'distribution_weights': [1.0, 1.0, 1.0, 1.0, 1.0, 0.0, 0.0, 0.0, 0.0, 0.0, 0.0, 0.0, 0.0, 0.0, 0.0, 0.0, 0.0, 0.0, 0.0, 0.0]}\n",
      "REWARD:  0.8780487804878049\n",
      "Worst model: EfficientNetV2L with score: 0.5911481481481482\n",
      "Model 'EfficientNetV2L' successfully removed from the target YAML.\n",
      "Best model: EfficientNetV2L with score: 0.5911481481481482\n",
      "Model 'EfficientNetV2L' successfully added to the target YAML.\n"
     ]
    },
    {
     "name": "stderr",
     "output_type": "stream",
     "text": [
      "2025-01-24 16:40:07,664:INFO -- Action: Replacing a model\n"
     ]
    },
    {
     "name": "stdout",
     "output_type": "stream",
     "text": [
      "STATE:  {'ensemble_state': {'total_energy_consumption': 0.023205572371097348, 'ensemble_size': 16}, 'model_states': {'InceptionResNetV2': {'accuracy': 0.8909090909090909, 'confidence': 0.7823080839532794, 'avg_response_time': 2.0678880078027153, 'max_response_time': 2.180662360029575, 'contribution': 0.7922896088975848}, 'MobileNetV2': {'accuracy': 0.831081081081081, 'confidence': 0.6833784763474722, 'avg_response_time': 0.09649280195039273, 'max_response_time': 0.14616136826811602, 'contribution': 0.7071974140566748}, 'ResNet50V2': {'accuracy': 0.7407407407407407, 'confidence': 0.6918172657489776, 'avg_response_time': 0.3906345827065558, 'max_response_time': 0.43286552878647533, 'contribution': 0.7286308266498425}, 'ensemble': {'accuracy': 0.8787878787878788, 'confidence': 0.7435888536347486, 'avg_response_time': 6.970728041098665, 'max_response_time': 7.2646600209859935, 'contribution': 0.9110509119250557}, 'EfficientNetV2S': {'accuracy': 0.9197530864197531, 'confidence': 0.800045590341827, 'avg_response_time': 1.1456069100245014, 'max_response_time': 1.197277924930375, 'contribution': 0.780902346527135}, 'NASNetLarge': {'accuracy': 0.9192546583850931, 'confidence': 0.8081753113254997, 'avg_response_time': 3.8182151758007903, 'max_response_time': 3.937039179449276, 'contribution': 0.8103562787823055}, 'EfficientNetB7': {'accuracy': 0.9371069182389937, 'confidence': 0.7028096548791202, 'avg_response_time': 7.122599635187658, 'max_response_time': 7.2560127503873435, 'contribution': 0.6593342475921103}, 'DenseNet201': {'accuracy': 0.8860759493670886, 'confidence': 0.8030992659586894, 'avg_response_time': 0.5840640328733352, 'max_response_time': 0.7171171364734032, 'contribution': 0.7962727410883843}, 'Xception': {'accuracy': 0.8598726114649682, 'confidence': 0.728686983987784, 'avg_response_time': 0.9910381223170305, 'max_response_time': 1.0693688646426827, 'contribution': 0.7343397599876307}, 'InceptionV3': {'accuracy': 0.8888888888888888, 'confidence': 0.7819424072901408, 'avg_response_time': 0.5738380164249136, 'max_response_time': 0.6754832735299773, 'contribution': 0.7830630155170665}}, 'input_state': {'input_file_length': 15, 'image_height': 224, 'image_width': 224}, 'distribution_weights': [1.0, 1.0, 1.0, 1.0, 1.0, 0.0, 0.0, 0.0, 0.0, 0.0, 0.0, 0.0, 0.0, 0.0, 0.0, 0.0, 0.0, 0.0, 0.0, 0.0]}\n",
      "REWARD:  0.8787878787878788\n",
      "Worst model: EfficientNetV2L with score: 0.5911481481481482\n",
      "Model 'EfficientNetV2L' successfully removed from the target YAML.\n",
      "Best model: EfficientNetV2L with score: 0.5911481481481482\n",
      "Model 'EfficientNetV2L' successfully added to the target YAML.\n"
     ]
    },
    {
     "name": "stderr",
     "output_type": "stream",
     "text": [
      "2025-01-24 16:40:08,697:INFO -- Action: Keeping the ensemble\n"
     ]
    },
    {
     "name": "stdout",
     "output_type": "stream",
     "text": [
      "STATE:  {'ensemble_state': {'total_energy_consumption': 0.023205572371097348, 'ensemble_size': 16}, 'model_states': {'InceptionResNetV2': {'accuracy': 0.891566265060241, 'confidence': 0.78312973588346, 'avg_response_time': 2.067919269310019, 'max_response_time': 2.180662360029575, 'contribution': 0.7930511311594263}, 'MobileNetV2': {'accuracy': 0.8322147651006712, 'confidence': 0.6852411233738764, 'avg_response_time': 0.09655432992286866, 'max_response_time': 0.14616136826811602, 'contribution': 0.7089002024407355}, 'ResNet50V2': {'accuracy': 0.7426470588235294, 'confidence': 0.6940719351610717, 'avg_response_time': 0.3897713781731471, 'max_response_time': 0.43286552878647533, 'contribution': 0.7306148081141359}, 'ensemble': {'accuracy': 0.8795180722891566, 'confidence': 0.7444392488242354, 'avg_response_time': 6.9717073868038675, 'max_response_time': 7.2646600209859935, 'contribution': 0.9115774263459516}, 'EfficientNetV2S': {'accuracy': 0.9202453987730062, 'confidence': 0.8006663903868272, 'avg_response_time': 1.1455529234113446, 'max_response_time': 1.197277924930375, 'contribution': 0.7816405897857222}, 'NASNetLarge': {'accuracy': 0.9197530864197531, 'confidence': 0.8085602937657156, 'avg_response_time': 3.818419636496982, 'max_response_time': 3.937039179449276, 'contribution': 0.8107277984604423}, 'EfficientNetB7': {'accuracy': 0.9375, 'confidence': 0.7036945110186934, 'avg_response_time': 7.122594201584008, 'max_response_time': 7.2560127503873435, 'contribution': 0.6604908250272274}, 'DenseNet201': {'accuracy': 0.8867924528301887, 'confidence': 0.8042941269634655, 'avg_response_time': 0.5841252467493504, 'max_response_time': 0.7171171364734032, 'contribution': 0.7975105362118415}, 'Xception': {'accuracy': 0.8607594936708861, 'confidence': 0.7299845228089562, 'avg_response_time': 0.9910582918859179, 'max_response_time': 1.0693688646426827, 'contribution': 0.7356015217455127}, 'InceptionV3': {'accuracy': 0.8896103896103896, 'confidence': 0.7830299812477904, 'avg_response_time': 0.5737876528944598, 'max_response_time': 0.6754832735299773, 'contribution': 0.7841433127979179}}, 'input_state': {'input_file_length': 14, 'image_height': 224, 'image_width': 224}, 'distribution_weights': [1.0, 1.0, 1.0, 1.0, 1.0, 0.0, 0.0, 0.0, 0.0, 0.0, 0.0, 0.0, 0.0, 0.0, 0.0, 0.0, 0.0, 0.0, 0.0, 0.0]}\n",
      "REWARD:  0.8795180722891566\n"
     ]
    },
    {
     "name": "stderr",
     "output_type": "stream",
     "text": [
      "2025-01-24 16:40:09,598:INFO -- Action: Adding a model\n"
     ]
    },
    {
     "name": "stdout",
     "output_type": "stream",
     "text": [
      "STATE:  {'ensemble_state': {'total_energy_consumption': 0.023205572371097348, 'ensemble_size': 16}, 'model_states': {'InceptionResNetV2': {'accuracy': 0.8922155688622755, 'confidence': 0.7840909807981845, 'avg_response_time': 2.0678066322986313, 'max_response_time': 2.180662360029575, 'contribution': 0.7939529665216001}, 'MobileNetV2': {'accuracy': 0.8333333333333334, 'confidence': 0.6872162860631943, 'avg_response_time': 0.09668837444187808, 'max_response_time': 0.14616136826811602, 'contribution': 0.7107176379362742}, 'ResNet50V2': {'accuracy': 0.7445255474452555, 'confidence': 0.6963035157562172, 'avg_response_time': 0.38985121098804004, 'max_response_time': 0.43286552878647533, 'contribution': 0.732579652410354}, 'ensemble': {'accuracy': 0.8802395209580839, 'confidence': 0.7455233211227243, 'avg_response_time': 6.972804197927955, 'max_response_time': 7.2646600209859935, 'contribution': 0.9121059641509712}, 'EfficientNetV2S': {'accuracy': 0.9207317073170732, 'confidence': 0.801495719246748, 'avg_response_time': 1.1456610127923479, 'max_response_time': 1.197277924930375, 'contribution': 0.782585929624918}, 'NASNetLarge': {'accuracy': 0.9202453987730062, 'confidence': 0.8092096521079175, 'avg_response_time': 3.8187467574748024, 'max_response_time': 3.937039179449276, 'contribution': 0.8113638592278299}, 'EfficientNetB7': {'accuracy': 0.937888198757764, 'confidence': 0.7043512628315398, 'avg_response_time': 7.122732443840198, 'max_response_time': 7.2560127503873435, 'contribution': 0.6614159227157972}, 'DenseNet201': {'accuracy': 0.8875, 'confidence': 0.8055143300443888, 'avg_response_time': 0.584066997719987, 'max_response_time': 0.7171171364734032, 'contribution': 0.7987731367349624}, 'Xception': {'accuracy': 0.8616352201257862, 'confidence': 0.7315298823065728, 'avg_response_time': 0.9910853846449649, 'max_response_time': 1.0693688646426827, 'contribution': 0.7371115542057926}, 'InceptionV3': {'accuracy': 0.8903225806451613, 'confidence': 0.7840198709118751, 'avg_response_time': 0.5736919404633617, 'max_response_time': 0.6754832735299773, 'contribution': 0.7851260196778083}}, 'input_state': {'input_file_length': 14, 'image_height': 224, 'image_width': 224}, 'distribution_weights': [1.0, 1.0, 1.0, 1.0, 1.0, 0.0, 0.0, 0.0, 0.0, 0.0, 0.0, 0.0, 0.0, 0.0, 0.0, 0.0, 0.0, 0.0, 0.0, 0.0]}\n",
      "REWARD:  0.8802395209580839\n",
      "No eligible models to score.\n"
     ]
    },
    {
     "name": "stderr",
     "output_type": "stream",
     "text": [
      "2025-01-24 16:40:10,449:INFO -- Action: Replacing a model\n"
     ]
    },
    {
     "name": "stdout",
     "output_type": "stream",
     "text": [
      "STATE:  {'ensemble_state': {'total_energy_consumption': 0.023205572371097348, 'ensemble_size': 16}, 'model_states': {'InceptionResNetV2': {'accuracy': 0.8928571428571429, 'confidence': 0.784970546407359, 'avg_response_time': 2.067602306733755, 'max_response_time': 2.180662360029575, 'contribution': 0.7947738298348018}, 'MobileNetV2': {'accuracy': 0.8344370860927153, 'confidence': 0.6889406191986918, 'avg_response_time': 0.0966816640077024, 'max_response_time': 0.14616136826811602, 'contribution': 0.712286332979897}, 'ResNet50V2': {'accuracy': 0.7463768115942029, 'confidence': 0.6982788627130397, 'avg_response_time': 0.38997744335820106, 'max_response_time': 0.43286552878647533, 'contribution': 0.7342921288117118}, 'ensemble': {'accuracy': 0.8809523809523809, 'confidence': 0.746093575996204, 'avg_response_time': 6.973651981424129, 'max_response_time': 7.2646600209859935, 'contribution': 0.9126266384763377}, 'EfficientNetV2S': {'accuracy': 0.9212121212121213, 'confidence': 0.8021993355317549, 'avg_response_time': 1.1457743494096837, 'max_response_time': 1.197277924930375, 'contribution': 0.7834041506955118}, 'NASNetLarge': {'accuracy': 0.9207317073170732, 'confidence': 0.8097499485422925, 'avg_response_time': 3.818575223263119, 'max_response_time': 3.937039179449276, 'contribution': 0.8118910202529372}, 'EfficientNetB7': {'accuracy': 0.9382716049382716, 'confidence': 0.7048707815967961, 'avg_response_time': 7.122626048355382, 'max_response_time': 7.2560127503873435, 'contribution': 0.6622004744447307}, 'DenseNet201': {'accuracy': 0.8881987577639752, 'confidence': 0.8066978661910348, 'avg_response_time': 0.5842201652718763, 'max_response_time': 0.7171171364734032, 'contribution': 0.7999985436475054}, 'Xception': {'accuracy': 0.8625, 'confidence': 0.7328262953087687, 'avg_response_time': 0.9910734946893003, 'max_response_time': 1.0693688646426827, 'contribution': 0.7383730817586184}, 'InceptionV3': {'accuracy': 0.8910256410256411, 'confidence': 0.7852030148108801, 'avg_response_time': 0.5735564285987299, 'max_response_time': 0.6754832735299773, 'contribution': 0.7863020728795956}}, 'input_state': {'input_file_length': 14, 'image_height': 224, 'image_width': 224}, 'distribution_weights': [1.0, 1.0, 1.0, 1.0, 1.0, 0.0, 0.0, 0.0, 0.0, 0.0, 0.0, 0.0, 0.0, 0.0, 0.0, 0.0, 0.0, 0.0, 0.0, 0.0]}\n",
      "REWARD:  0.8809523809523809\n",
      "Worst model: EfficientNetV2L with score: 0.5911481481481482\n",
      "Model 'EfficientNetV2L' successfully removed from the target YAML.\n",
      "Best model: EfficientNetV2L with score: 0.5911481481481482\n",
      "Model 'EfficientNetV2L' successfully added to the target YAML.\n"
     ]
    },
    {
     "name": "stderr",
     "output_type": "stream",
     "text": [
      "2025-01-24 16:40:11,497:INFO -- Action: Replacing a model\n"
     ]
    },
    {
     "name": "stdout",
     "output_type": "stream",
     "text": [
      "STATE:  {'ensemble_state': {'total_energy_consumption': 0.023205572371097348, 'ensemble_size': 16}, 'model_states': {'InceptionResNetV2': {'accuracy': 0.893491124260355, 'confidence': 0.7857377352799184, 'avg_response_time': 2.0676961132644722, 'max_response_time': 2.180662360029575, 'contribution': 0.795483011113116}, 'MobileNetV2': {'accuracy': 0.8289473684210527, 'confidence': 0.6844081151250162, 'avg_response_time': 0.09661157006554705, 'max_response_time': 0.14616136826811602, 'contribution': 0.7076002386839766}, 'ResNet50V2': {'accuracy': 0.7410071942446043, 'confidence': 0.6932552737726582, 'avg_response_time': 0.3899187138132702, 'max_response_time': 0.43286552878647533, 'contribution': 0.729009451626016}, 'ensemble': {'accuracy': 0.8816568047337278, 'confidence': 0.7456758566977436, 'avg_response_time': 6.974625100566441, 'max_response_time': 7.2646600209859935, 'contribution': 0.9130043286896317}, 'EfficientNetV2S': {'accuracy': 0.9216867469879518, 'confidence': 0.8026191800473684, 'avg_response_time': 1.1457209752497892, 'max_response_time': 1.197277924930375, 'contribution': 0.7839372192161629}, 'NASNetLarge': {'accuracy': 0.9212121212121213, 'confidence': 0.8102442246494871, 'avg_response_time': 3.818732438275232, 'max_response_time': 3.937039179449276, 'contribution': 0.8123723201679461}, 'EfficientNetB7': {'accuracy': 0.9386503067484663, 'confidence': 0.7045026573301093, 'avg_response_time': 7.122643501426674, 'max_response_time': 7.2560127503873435, 'contribution': 0.6620941312035169}, 'DenseNet201': {'accuracy': 0.8888888888888888, 'confidence': 0.8055434819356895, 'avg_response_time': 0.5840822779210848, 'max_response_time': 0.7171171364734032, 'contribution': 0.7988855132350215}, 'Xception': {'accuracy': 0.8633540372670807, 'confidence': 0.7327153088513368, 'avg_response_time': 0.9910850113825811, 'max_response_time': 1.0693688646426827, 'contribution': 0.7382276432114359}, 'InceptionV3': {'accuracy': 0.89171974522293, 'confidence': 0.786421188503314, 'avg_response_time': 0.5735002659602259, 'max_response_time': 0.6754832735299773, 'contribution': 0.7875132462021651}}, 'input_state': {'input_file_length': 14, 'image_height': 224, 'image_width': 224}, 'distribution_weights': [1.0, 1.0, 1.0, 1.0, 1.0, 0.0, 0.0, 0.0, 0.0, 0.0, 0.0, 0.0, 0.0, 0.0, 0.0, 0.0, 0.0, 0.0, 0.0, 0.0]}\n",
      "REWARD:  0.8816568047337278\n",
      "Worst model: EfficientNetV2L with score: 0.5911481481481482\n",
      "Model 'EfficientNetV2L' successfully removed from the target YAML.\n",
      "Best model: EfficientNetV2L with score: 0.5911481481481482\n",
      "Model 'EfficientNetV2L' successfully added to the target YAML.\n"
     ]
    },
    {
     "name": "stderr",
     "output_type": "stream",
     "text": [
      "2025-01-24 16:40:12,540:INFO -- Action: Keeping the ensemble\n"
     ]
    },
    {
     "name": "stdout",
     "output_type": "stream",
     "text": [
      "STATE:  {'ensemble_state': {'total_energy_consumption': 0.023205572371097348, 'ensemble_size': 16}, 'model_states': {'InceptionResNetV2': {'accuracy': 0.8941176470588236, 'confidence': 0.7865764933473923, 'avg_response_time': 2.067736077396023, 'max_response_time': 2.180662360029575, 'contribution': 0.79626444402863}, 'MobileNetV2': {'accuracy': 0.8300653594771242, 'confidence': 0.6858891975256353, 'avg_response_time': 0.09661050230993552, 'max_response_time': 0.14616136826811602, 'contribution': 0.7089297385776744}, 'ResNet50V2': {'accuracy': 0.7428571428571429, 'confidence': 0.695423164325101, 'avg_response_time': 0.38998690816476966, 'max_response_time': 0.43286552878647533, 'contribution': 0.7309219551937921}, 'ensemble': {'accuracy': 0.8823529411764706, 'confidence': 0.7467296806749956, 'avg_response_time': 6.975496924356233, 'max_response_time': 7.2646600209859935, 'contribution': 0.9135045971940545}, 'EfficientNetV2S': {'accuracy': 0.9221556886227545, 'confidence': 0.8031621125643839, 'avg_response_time': 1.1456915834125723, 'max_response_time': 1.197277924930375, 'contribution': 0.7845920197621077}, 'NASNetLarge': {'accuracy': 0.9216867469879518, 'confidence': 0.8108688880162067, 'avg_response_time': 3.818748810944347, 'max_response_time': 3.937039179449276, 'contribution': 0.8129841636821448}, 'EfficientNetB7': {'accuracy': 0.9390243902439024, 'confidence': 0.7051435649031546, 'avg_response_time': 7.122563315518376, 'max_response_time': 7.2560127503873435, 'contribution': 0.6629936273505048}, 'DenseNet201': {'accuracy': 0.8895705521472392, 'confidence': 0.8066661518775612, 'avg_response_time': 0.5840628929245711, 'max_response_time': 0.7171171364734032, 'contribution': 0.8000490296106397}, 'Xception': {'accuracy': 0.8641975308641975, 'confidence': 0.733474897933595, 'avg_response_time': 0.9912565701466496, 'max_response_time': 1.0693688646426827, 'contribution': 0.7389532055383847}, 'InceptionV3': {'accuracy': 0.8924050632911392, 'confidence': 0.7876985582369792, 'avg_response_time': 0.5736632701202474, 'max_response_time': 0.6754832735299773, 'contribution': 0.7887837041782427}}, 'input_state': {'input_file_length': 14, 'image_height': 224, 'image_width': 224}, 'distribution_weights': [1.0, 1.0, 1.0, 1.0, 1.0, 0.0, 0.0, 0.0, 0.0, 0.0, 0.0, 0.0, 0.0, 0.0, 0.0, 0.0, 0.0, 0.0, 0.0, 0.0]}\n",
      "REWARD:  0.8823529411764706\n"
     ]
    },
    {
     "name": "stderr",
     "output_type": "stream",
     "text": [
      "2025-01-24 16:40:13,464:INFO -- Action: Adding a model\n"
     ]
    },
    {
     "name": "stdout",
     "output_type": "stream",
     "text": [
      "STATE:  {'ensemble_state': {'total_energy_consumption': 0.023205572371097348, 'ensemble_size': 16}, 'model_states': {'InceptionResNetV2': {'accuracy': 0.8947368421052632, 'confidence': 0.7874248313624956, 'avg_response_time': 2.067943800852551, 'max_response_time': 2.180662360029575, 'contribution': 0.7970561273613869}, 'MobileNetV2': {'accuracy': 0.8311688311688312, 'confidence': 0.6877535103590457, 'avg_response_time': 0.09654306978822332, 'max_response_time': 0.14616136826811602, 'contribution': 0.7106444375081495}, 'ResNet50V2': {'accuracy': 0.7446808510638298, 'confidence': 0.6975830419266478, 'avg_response_time': 0.39010652385836353, 'max_response_time': 0.43286552878647533, 'contribution': 0.7328300683210928}, 'ensemble': {'accuracy': 0.8830409356725146, 'confidence': 0.7479242678518959, 'avg_response_time': 6.9764482653134, 'max_response_time': 7.2646600209859935, 'contribution': 0.9140103241504981}, 'EfficientNetV2S': {'accuracy': 0.9226190476190477, 'confidence': 0.8038768786050025, 'avg_response_time': 1.1455747966200829, 'max_response_time': 1.197277924930375, 'contribution': 0.7854173220694065}, 'NASNetLarge': {'accuracy': 0.9221556886227545, 'confidence': 0.8114641776341878, 'avg_response_time': 3.819112897100329, 'max_response_time': 3.937039179449276, 'contribution': 0.813566786978773}, 'EfficientNetB7': {'accuracy': 0.9393939393939394, 'confidence': 0.7055853458968075, 'avg_response_time': 7.122613201966974, 'max_response_time': 7.2560127503873435, 'contribution': 0.6636908625111435}, 'DenseNet201': {'accuracy': 0.8902439024390244, 'confidence': 0.8078307305894247, 'avg_response_time': 0.5841425317192566, 'max_response_time': 0.7171171364734032, 'contribution': 0.8012539566290088}, 'Xception': {'accuracy': 0.8650306748466258, 'confidence': 0.7348154938659786, 'avg_response_time': 0.9911866906979865, 'max_response_time': 1.0693688646426827, 'contribution': 0.7402601922216591}, 'InceptionV3': {'accuracy': 0.8930817610062893, 'confidence': 0.789026454559662, 'avg_response_time': 0.573681992972326, 'max_response_time': 0.6754832735299773, 'contribution': 0.7901047756836849}}, 'input_state': {'input_file_length': 13, 'image_height': 224, 'image_width': 224}, 'distribution_weights': [1.0, 1.0, 1.0, 1.0, 1.0, 0.0, 0.0, 0.0, 0.0, 0.0, 0.0, 0.0, 0.0, 0.0, 0.0, 0.0, 0.0, 0.0, 0.0, 0.0]}\n",
      "REWARD:  0.8830409356725146\n",
      "No eligible models to score.\n"
     ]
    },
    {
     "name": "stderr",
     "output_type": "stream",
     "text": [
      "2025-01-24 16:40:14,292:INFO -- Action: Replacing a model\n"
     ]
    },
    {
     "name": "stdout",
     "output_type": "stream",
     "text": [
      "STATE:  {'ensemble_state': {'total_energy_consumption': 0.023205572371097348, 'ensemble_size': 16}, 'model_states': {'InceptionResNetV2': {'accuracy': 0.8953488372093024, 'confidence': 0.7881924946640813, 'avg_response_time': 2.0682460167288697, 'max_response_time': 2.180662360029575, 'contribution': 0.7977677947560022}, 'MobileNetV2': {'accuracy': 0.832258064516129, 'confidence': 0.6893410596155352, 'avg_response_time': 0.09653936032202053, 'max_response_time': 0.14616136826811602, 'contribution': 0.712084303363677}, 'ResNet50V2': {'accuracy': 0.7464788732394366, 'confidence': 0.6997126078521702, 'avg_response_time': 0.39024131908183773, 'max_response_time': 0.43286552878647533, 'contribution': 0.7347114157508796}, 'ensemble': {'accuracy': 0.8837209302325582, 'confidence': 0.7487903269698762, 'avg_response_time': 6.977156786543187, 'max_response_time': 7.2646600209859935, 'contribution': 0.914510156006314}, 'EfficientNetV2S': {'accuracy': 0.9230769230769231, 'confidence': 0.8047165595568143, 'avg_response_time': 1.1456192005085424, 'max_response_time': 1.197277924930375, 'contribution': 0.7863662311663995}, 'NASNetLarge': {'accuracy': 0.9226190476190477, 'confidence': 0.8120543868059203, 'avg_response_time': 3.819070332954581, 'max_response_time': 3.937039179449276, 'contribution': 0.8141444806186926}, 'EfficientNetB7': {'accuracy': 0.9397590361445783, 'confidence': 0.7062204819486801, 'avg_response_time': 7.122433349829618, 'max_response_time': 7.2560127503873435, 'contribution': 0.6645783749689539}, 'DenseNet201': {'accuracy': 0.8909090909090909, 'confidence': 0.8089574322556005, 'avg_response_time': 0.5840422184133492, 'max_response_time': 0.7171171364734032, 'contribution': 0.8024205175313083}, 'Xception': {'accuracy': 0.8658536585365854, 'confidence': 0.7349479120315575, 'avg_response_time': 0.9911654711866303, 'max_response_time': 1.0693688646426827, 'contribution': 0.7403594110070205}, 'InceptionV3': {'accuracy': 0.89375, 'confidence': 0.7897912133485079, 'avg_response_time': 0.5736513354973131, 'max_response_time': 0.6754832735299773, 'contribution': 0.7908627949655056}}, 'input_state': {'input_file_length': 15, 'image_height': 224, 'image_width': 224}, 'distribution_weights': [1.0, 1.0, 1.0, 1.0, 1.0, 0.0, 0.0, 0.0, 0.0, 0.0, 0.0, 0.0, 0.0, 0.0, 0.0, 0.0, 0.0, 0.0, 0.0, 0.0]}\n",
      "REWARD:  0.8837209302325582\n",
      "Worst model: EfficientNetV2L with score: 0.5911481481481482\n",
      "Model 'EfficientNetV2L' successfully removed from the target YAML.\n",
      "Best model: EfficientNetV2L with score: 0.5911481481481482\n",
      "Model 'EfficientNetV2L' successfully added to the target YAML.\n"
     ]
    },
    {
     "name": "stderr",
     "output_type": "stream",
     "text": [
      "2025-01-24 16:40:15,352:INFO -- Action: Keeping the ensemble\n"
     ]
    },
    {
     "name": "stdout",
     "output_type": "stream",
     "text": [
      "STATE:  {'ensemble_state': {'total_energy_consumption': 0.023205572371097348, 'ensemble_size': 16}, 'model_states': {'InceptionResNetV2': {'accuracy': 0.8959537572254336, 'confidence': 0.7891213166920436, 'avg_response_time': 2.0685553821454885, 'max_response_time': 2.180662360029575, 'contribution': 0.7986412682285199}, 'MobileNetV2': {'accuracy': 0.8269230769230769, 'confidence': 0.6849222066692817, 'avg_response_time': 0.09657743682110033, 'max_response_time': 0.14616136826811602, 'contribution': 0.707519660393397}, 'ResNet50V2': {'accuracy': 0.7482517482517482, 'confidence': 0.7014124541432707, 'avg_response_time': 0.39027830315009465, 'max_response_time': 0.43286552878647533, 'contribution': 0.7361665151335977}, 'ensemble': {'accuracy': 0.884393063583815, 'confidence': 0.7493947297174656, 'avg_response_time': 6.977903339102151, 'max_response_time': 7.2646600209859935, 'contribution': 0.9149227953715131}, 'EfficientNetV2S': {'accuracy': 0.9235294117647059, 'confidence': 0.8053623792003183, 'avg_response_time': 1.1455913258857953, 'max_response_time': 1.197277924930375, 'contribution': 0.7871199939180823}, 'NASNetLarge': {'accuracy': 0.9230769230769231, 'confidence': 0.8127446407397118, 'avg_response_time': 3.819003007272077, 'max_response_time': 3.937039179449276, 'contribution': 0.8148223671334736}, 'EfficientNetB7': {'accuracy': 0.9401197604790419, 'confidence': 0.7069787916666019, 'avg_response_time': 7.122246986835874, 'max_response_time': 7.2560127503873435, 'contribution': 0.665586038620886}, 'DenseNet201': {'accuracy': 0.891566265060241, 'confidence': 0.8097010186637741, 'avg_response_time': 0.5842812998002155, 'max_response_time': 0.7171171364734032, 'contribution': 0.8032034829438451}, 'Xception': {'accuracy': 0.8666666666666667, 'confidence': 0.7362676365809007, 'avg_response_time': 0.9910819402030794, 'max_response_time': 1.0693688646426827, 'contribution': 0.7416463385928761}, 'InceptionV3': {'accuracy': 0.8944099378881988, 'confidence': 0.7909174098731568, 'avg_response_time': 0.5735628222923668, 'max_response_time': 0.6754832735299773, 'contribution': 0.7919823357037136}}, 'input_state': {'input_file_length': 14, 'image_height': 224, 'image_width': 224}, 'distribution_weights': [1.0, 1.0, 1.0, 1.0, 1.0, 0.0, 0.0, 0.0, 0.0, 0.0, 0.0, 0.0, 0.0, 0.0, 0.0, 0.0, 0.0, 0.0, 0.0, 0.0]}\n",
      "REWARD:  0.884393063583815\n"
     ]
    },
    {
     "name": "stderr",
     "output_type": "stream",
     "text": [
      "2025-01-24 16:40:16,205:INFO -- Action: Replacing a model\n"
     ]
    },
    {
     "name": "stdout",
     "output_type": "stream",
     "text": [
      "STATE:  {'ensemble_state': {'total_energy_consumption': 0.023205572371097348, 'ensemble_size': 16}, 'model_states': {'InceptionResNetV2': {'accuracy': 0.896551724137931, 'confidence': 0.7897031636073671, 'avg_response_time': 2.068558064711359, 'max_response_time': 2.180662360029575, 'contribution': 0.7991684027786913}, 'MobileNetV2': {'accuracy': 0.821656050955414, 'confidence': 0.6805596448433627, 'avg_response_time': 0.09658575002183782, 'max_response_time': 0.14616136826811602, 'contribution': 0.7030131657412098}, 'ResNet50V2': {'accuracy': 0.75, 'confidence': 0.7001000557922654, 'avg_response_time': 0.3903453010532976, 'max_response_time': 0.43286552878647533, 'contribution': 0.7346127691368262}, 'ensemble': {'accuracy': 0.8850574712643678, 'confidence': 0.749388897809239, 'avg_response_time': 6.978167248492571, 'max_response_time': 7.2646600209859935, 'contribution': 0.9148879926437619}, 'EfficientNetV2S': {'accuracy': 0.9239766081871345, 'confidence': 0.8059676700865316, 'avg_response_time': 1.1455496345911753, 'max_response_time': 1.197277924930375, 'contribution': 0.7878319654199812}, 'NASNetLarge': {'accuracy': 0.9235294117647059, 'confidence': 0.8131838931756861, 'avg_response_time': 3.818995122662159, 'max_response_time': 3.937039179449276, 'contribution': 0.8152493976494846}, 'EfficientNetB7': {'accuracy': 0.9404761904761905, 'confidence': 0.7073945979632082, 'avg_response_time': 7.121608010656549, 'max_response_time': 7.2560127503873435, 'contribution': 0.6662482303522882}, 'DenseNet201': {'accuracy': 0.8922155688622755, 'confidence': 0.8091507336336695, 'avg_response_time': 0.5841739680606716, 'max_response_time': 0.7171171364734032, 'contribution': 0.8026921053132611}, 'Xception': {'accuracy': 0.8674698795180723, 'confidence': 0.7371281480573746, 'avg_response_time': 0.9911154514616871, 'max_response_time': 1.0693688646426827, 'contribution': 0.7424744482500008}, 'InceptionV3': {'accuracy': 0.8950617283950617, 'confidence': 0.7905226861253197, 'avg_response_time': 0.5735834578900436, 'max_response_time': 0.6754832735299773, 'contribution': 0.7915810383396384}}, 'input_state': {'input_file_length': 14, 'image_height': 224, 'image_width': 224}, 'distribution_weights': [1.0, 1.0, 1.0, 1.0, 1.0, 0.0, 0.0, 0.0, 0.0, 0.0, 0.0, 0.0, 0.0, 0.0, 0.0, 0.0, 0.0, 0.0, 0.0, 0.0]}\n",
      "REWARD:  0.8850574712643678\n",
      "Worst model: EfficientNetV2L with score: 0.5911481481481482\n",
      "Model 'EfficientNetV2L' successfully removed from the target YAML.\n",
      "Best model: EfficientNetV2L with score: 0.5911481481481482\n",
      "Model 'EfficientNetV2L' successfully added to the target YAML.\n"
     ]
    },
    {
     "name": "stderr",
     "output_type": "stream",
     "text": [
      "2025-01-24 16:40:17,417:INFO -- Action: Replacing a model\n"
     ]
    },
    {
     "name": "stdout",
     "output_type": "stream",
     "text": [
      "STATE:  {'ensemble_state': {'total_energy_consumption': 0.023205572371097348, 'ensemble_size': 16}, 'model_states': {'InceptionResNetV2': {'accuracy': 0.8971428571428571, 'confidence': 0.787135146004813, 'avg_response_time': 2.0685152067338635, 'max_response_time': 2.180662360029575, 'contribution': 0.7965101747853416}, 'MobileNetV2': {'accuracy': 0.8164556962025317, 'confidence': 0.6762523053190376, 'avg_response_time': 0.09650308661453948, 'max_response_time': 0.14616136826811602, 'contribution': 0.7048166145252276}, 'ResNet50V2': {'accuracy': 0.7448275862068966, 'confidence': 0.6952717795454223, 'avg_response_time': 0.3904088959067416, 'max_response_time': 0.43286552878647533, 'contribution': 0.7335988221497372}, 'ensemble': {'accuracy': 0.88, 'confidence': 0.7451066755360434, 'avg_response_time': 6.978972600396302, 'max_response_time': 7.2646600209859935, 'contribution': 0.9153055359636034}, 'EfficientNetV2S': {'accuracy': 0.9244186046511628, 'confidence': 0.8058917643718941, 'avg_response_time': 1.145588793355838, 'max_response_time': 1.197277924930375, 'contribution': 0.7832515470163767}, 'NASNetLarge': {'accuracy': 0.9239766081871345, 'confidence': 0.8132426177549084, 'avg_response_time': 3.8191469523851698, 'max_response_time': 3.937039179449276, 'contribution': 0.810481857312353}, 'EfficientNetB7': {'accuracy': 0.9408284023668639, 'confidence': 0.7075363088994336, 'avg_response_time': 7.121552770911848, 'max_response_time': 7.2560127503873435, 'contribution': 0.6623059331312687}, 'DenseNet201': {'accuracy': 0.8869047619047619, 'confidence': 0.8043343602191835, 'avg_response_time': 0.5842528842088528, 'max_response_time': 0.7171171364734032, 'contribution': 0.7979141761149678}, 'Xception': {'accuracy': 0.8622754491017964, 'confidence': 0.7327142070510431, 'avg_response_time': 0.9911714403534925, 'max_response_time': 1.0693688646426827, 'contribution': 0.7380284934700606}, 'InceptionV3': {'accuracy': 0.8895705521472392, 'confidence': 0.785672853695103, 'avg_response_time': 0.5735581562740271, 'max_response_time': 0.6754832735299773, 'contribution': 0.7867247129510517}}, 'input_state': {'input_file_length': 14, 'image_height': 224, 'image_width': 224}, 'distribution_weights': [1.0, 1.0, 1.0, 1.0, 1.0, 0.0, 0.0, 0.0, 0.0, 0.0, 0.0, 0.0, 0.0, 0.0, 0.0, 0.0, 0.0, 0.0, 0.0, 0.0]}\n",
      "REWARD:  0.88\n",
      "Worst model: EfficientNetV2L with score: 0.5911481481481482\n",
      "Model 'EfficientNetV2L' successfully removed from the target YAML.\n",
      "Best model: EfficientNetV2L with score: 0.5911481481481482\n",
      "Model 'EfficientNetV2L' successfully added to the target YAML.\n"
     ]
    },
    {
     "name": "stderr",
     "output_type": "stream",
     "text": [
      "2025-01-24 16:40:18,476:INFO -- Action: Keeping the ensemble\n"
     ]
    },
    {
     "name": "stdout",
     "output_type": "stream",
     "text": [
      "STATE:  {'ensemble_state': {'total_energy_consumption': 0.023205572371097348, 'ensemble_size': 16}, 'model_states': {'InceptionResNetV2': {'accuracy': 0.8977272727272727, 'confidence': 0.7880300713533704, 'avg_response_time': 2.0682726751317464, 'max_response_time': 2.180662360029575, 'contribution': 0.7973518329249187}, 'MobileNetV2': {'accuracy': 0.8176100628930818, 'confidence': 0.6764107089747423, 'avg_response_time': 0.09651333236003602, 'max_response_time': 0.14616136826811602, 'contribution': 0.7047953684374971}, 'ResNet50V2': {'accuracy': 0.7465753424657534, 'confidence': 0.6948813708269432, 'avg_response_time': 0.39051395849020415, 'max_response_time': 0.43286552878647533, 'contribution': 0.7329458994408177}, 'ensemble': {'accuracy': 0.8806818181818182, 'confidence': 0.7454707307253158, 'avg_response_time': 6.979901082176011, 'max_response_time': 7.2646600209859935, 'contribution': 0.9157691985707391}, 'EfficientNetV2S': {'accuracy': 0.9248554913294798, 'confidence': 0.8063436257356853, 'avg_response_time': 1.1456359789232393, 'max_response_time': 1.197277924930375, 'contribution': 0.7838342766885813}, 'NASNetLarge': {'accuracy': 0.9244186046511628, 'confidence': 0.8137968823660252, 'avg_response_time': 3.819125916444561, 'max_response_time': 3.937039179449276, 'contribution': 0.8110521728562754}, 'EfficientNetB7': {'accuracy': 0.9411764705882353, 'confidence': 0.7082423103206298, 'avg_response_time': 7.121605424846346, 'max_response_time': 7.2560127503873435, 'contribution': 0.6632779955863952}, 'DenseNet201': {'accuracy': 0.8875739644970414, 'confidence': 0.8054738619623805, 'avg_response_time': 0.5843489624174921, 'max_response_time': 0.7171171364734032, 'contribution': 0.7990916671132194}, 'Xception': {'accuracy': 0.8630952380952381, 'confidence': 0.7341619589853854, 'avg_response_time': 0.9912282409965075, 'max_response_time': 1.0693688646426827, 'contribution': 0.739444612747147}, 'InceptionV3': {'accuracy': 0.8902439024390244, 'confidence': 0.7867716845215821, 'avg_response_time': 0.5734590121891833, 'max_response_time': 0.6754832735299773, 'contribution': 0.7878171300015798}}, 'input_state': {'input_file_length': 15, 'image_height': 224, 'image_width': 224}, 'distribution_weights': [1.0, 1.0, 1.0, 1.0, 1.0, 0.0, 0.0, 0.0, 0.0, 0.0, 0.0, 0.0, 0.0, 0.0, 0.0, 0.0, 0.0, 0.0, 0.0, 0.0]}\n",
      "REWARD:  0.8806818181818182\n"
     ]
    },
    {
     "name": "stderr",
     "output_type": "stream",
     "text": [
      "2025-01-24 16:40:19,334:INFO -- Action: Replacing a model\n"
     ]
    },
    {
     "name": "stdout",
     "output_type": "stream",
     "text": [
      "STATE:  {'ensemble_state': {'total_energy_consumption': 0.023205572371097348, 'ensemble_size': 16}, 'model_states': {'InceptionResNetV2': {'accuracy': 0.8983050847457628, 'confidence': 0.788796141996222, 'avg_response_time': 2.0684445428104667, 'max_response_time': 2.180662360029575, 'contribution': 0.798065238248157}, 'MobileNetV2': {'accuracy': 0.81875, 'confidence': 0.6773258568719029, 'avg_response_time': 0.09652353342814221, 'max_response_time': 0.14616136826811602, 'contribution': 0.7055331122130155}, 'ResNet50V2': {'accuracy': 0.7482993197278912, 'confidence': 0.6969529254501369, 'avg_response_time': 0.39071800093042736, 'max_response_time': 0.43286552878647533, 'contribution': 0.7347585116924883}, 'ensemble': {'accuracy': 0.8813559322033898, 'confidence': 0.7463737727157601, 'avg_response_time': 6.980708276290372, 'max_response_time': 7.2646600209859935, 'contribution': 0.9162416884117881}, 'EfficientNetV2S': {'accuracy': 0.9252873563218391, 'confidence': 0.8067004697761316, 'avg_response_time': 1.1457379352010815, 'max_response_time': 1.197277924930375, 'contribution': 0.784320484804011}, 'NASNetLarge': {'accuracy': 0.9248554913294798, 'confidence': 0.814530391913618, 'avg_response_time': 3.8192510389668253, 'max_response_time': 3.937039179449276, 'contribution': 0.811801547776757}, 'EfficientNetB7': {'accuracy': 0.9415204678362573, 'confidence': 0.7089038200197164, 'avg_response_time': 7.121579028204283, 'max_response_time': 7.2560127503873435, 'contribution': 0.664202454494454}, 'DenseNet201': {'accuracy': 0.888235294117647, 'confidence': 0.8065381400725421, 'avg_response_time': 0.5841683064046647, 'max_response_time': 0.7171171364734032, 'contribution': 0.8001934875460232}, 'Xception': {'accuracy': 0.863905325443787, 'confidence': 0.734954571759207, 'avg_response_time': 0.9912321137404536, 'max_response_time': 1.0693688646426827, 'contribution': 0.7402059672146859}, 'InceptionV3': {'accuracy': 0.8909090909090909, 'confidence': 0.7878901958465576, 'avg_response_time': 0.5735811274062963, 'max_response_time': 0.6754832735299773, 'contribution': 0.7889293052933433}}, 'input_state': {'input_file_length': 14, 'image_height': 224, 'image_width': 224}, 'distribution_weights': [1.0, 1.0, 1.0, 1.0, 1.0, 0.0, 0.0, 0.0, 0.0, 0.0, 0.0, 0.0, 0.0, 0.0, 0.0, 0.0, 0.0, 0.0, 0.0, 0.0]}\n",
      "REWARD:  0.8813559322033898\n",
      "Worst model: EfficientNetV2L with score: 0.5911481481481482\n",
      "Model 'EfficientNetV2L' successfully removed from the target YAML.\n",
      "Best model: EfficientNetV2L with score: 0.5911481481481482\n",
      "Model 'EfficientNetV2L' successfully added to the target YAML.\n"
     ]
    },
    {
     "name": "stderr",
     "output_type": "stream",
     "text": [
      "2025-01-24 16:40:20,401:INFO -- Action: Replacing a model\n"
     ]
    },
    {
     "name": "stdout",
     "output_type": "stream",
     "text": [
      "STATE:  {'ensemble_state': {'total_energy_consumption': 0.023205572371097348, 'ensemble_size': 16}, 'model_states': {'InceptionResNetV2': {'accuracy': 0.898876404494382, 'confidence': 0.7895551695582572, 'avg_response_time': 2.0684649356870173, 'max_response_time': 2.180662360029575, 'contribution': 0.798772192235743}, 'MobileNetV2': {'accuracy': 0.8198757763975155, 'confidence': 0.6784226885123282, 'avg_response_time': 0.09662329747420309, 'max_response_time': 0.14616136826811602, 'contribution': 0.7064547435097073}, 'ResNet50V2': {'accuracy': 0.75, 'confidence': 0.6950237944319442, 'avg_response_time': 0.39105532461804116, 'max_response_time': 0.440641906697276, 'contribution': 0.7325739375240093}, 'ensemble': {'accuracy': 0.8820224719101124, 'confidence': 0.746625444059414, 'avg_response_time': 6.981512230095145, 'max_response_time': 7.2646600209859935, 'contribution': 0.9165359023916587}, 'EfficientNetV2S': {'accuracy': 0.9257142857142857, 'confidence': 0.8072017795698984, 'avg_response_time': 1.1456064024165646, 'max_response_time': 1.197277924930375, 'contribution': 0.7849496802261897}, 'NASNetLarge': {'accuracy': 0.9252873563218391, 'confidence': 0.8149668365374378, 'avg_response_time': 3.819037069137409, 'max_response_time': 3.937039179449276, 'contribution': 0.8122536754128576}, 'EfficientNetB7': {'accuracy': 0.9418604651162791, 'confidence': 0.7090999205098596, 'avg_response_time': 7.121539181583132, 'max_response_time': 7.2560127503873435, 'contribution': 0.6646584466446278}, 'DenseNet201': {'accuracy': 0.8888888888888888, 'confidence': 0.8074859391179001, 'avg_response_time': 0.5842798988534498, 'max_response_time': 0.7171171364734032, 'contribution': 0.8011783898225304}, 'Xception': {'accuracy': 0.8647058823529412, 'confidence': 0.7357583033687928, 'avg_response_time': 0.9912748353132637, 'max_response_time': 1.0693688646426827, 'contribution': 0.740978808262769}, 'InceptionV3': {'accuracy': 0.891566265060241, 'confidence': 0.7881795146379126, 'avg_response_time': 0.5736040995522457, 'max_response_time': 0.6754832735299773, 'contribution': 0.7892123643892357}}, 'input_state': {'input_file_length': 15, 'image_height': 224, 'image_width': 224}, 'distribution_weights': [1.0, 1.0, 1.0, 1.0, 1.0, 0.0, 0.0, 0.0, 0.0, 0.0, 0.0, 0.0, 0.0, 0.0, 0.0, 0.0, 0.0, 0.0, 0.0, 0.0]}\n",
      "REWARD:  0.8820224719101124\n",
      "Worst model: EfficientNetV2L with score: 0.5911481481481482\n",
      "Model 'EfficientNetV2L' successfully removed from the target YAML.\n",
      "Best model: EfficientNetV2L with score: 0.5911481481481482\n",
      "Model 'EfficientNetV2L' successfully added to the target YAML.\n"
     ]
    },
    {
     "name": "stderr",
     "output_type": "stream",
     "text": [
      "2025-01-24 16:40:21,558:INFO -- Action: Adding a model\n"
     ]
    },
    {
     "name": "stdout",
     "output_type": "stream",
     "text": [
      "STATE:  {'ensemble_state': {'total_energy_consumption': 0.023205572371097348, 'ensemble_size': 16}, 'model_states': {'InceptionResNetV2': {'accuracy': 0.8994413407821229, 'confidence': 0.7904177561152581, 'avg_response_time': 2.0685735887421584, 'max_response_time': 2.180662360029575, 'contribution': 0.7995832870459424}, 'MobileNetV2': {'accuracy': 0.8209876543209876, 'confidence': 0.6799525410672764, 'avg_response_time': 0.0966539710756496, 'max_response_time': 0.14616136826811602, 'contribution': 0.7078115586881284}, 'ResNet50V2': {'accuracy': 0.7516778523489933, 'confidence': 0.6970704529909479, 'avg_response_time': 0.3913224743146523, 'max_response_time': 0.440641906697276, 'contribution': 0.734368581699845}, 'ensemble': {'accuracy': 0.88268156424581, 'confidence': 0.7477406746190239, 'avg_response_time': 6.982523516655085, 'max_response_time': 7.2646600209859935, 'contribution': 0.917002109675434}, 'EfficientNetV2S': {'accuracy': 0.9261363636363636, 'confidence': 0.8079274601557038, 'avg_response_time': 1.145428645632524, 'max_response_time': 1.197277924930375, 'contribution': 0.78580179319463}, 'NASNetLarge': {'accuracy': 0.9257142857142857, 'confidence': 0.8152476409503392, 'avg_response_time': 3.8189760528084427, 'max_response_time': 3.937039179449276, 'contribution': 0.8125499836036137}, 'EfficientNetB7': {'accuracy': 0.9421965317919075, 'confidence': 0.7099084125433354, 'avg_response_time': 7.121698705861646, 'max_response_time': 7.2560127503873435, 'contribution': 0.6657238258102726}, 'DenseNet201': {'accuracy': 0.8895348837209303, 'confidence': 0.8086047681958176, 'avg_response_time': 0.5843773146935225, 'max_response_time': 0.7171171364734032, 'contribution': 0.8023338906986769}, 'Xception': {'accuracy': 0.8654970760233918, 'confidence': 0.7366914935627876, 'avg_response_time': 0.991144780181087, 'max_response_time': 1.0693688646426827, 'contribution': 0.7418814691883778}, 'InceptionV3': {'accuracy': 0.8922155688622755, 'confidence': 0.7894195296807204, 'avg_response_time': 0.5735584136112776, 'max_response_time': 0.6754832735299773, 'contribution': 0.7904461947029936}}, 'input_state': {'input_file_length': 15, 'image_height': 224, 'image_width': 224}, 'distribution_weights': [1.0, 1.0, 1.0, 1.0, 1.0, 0.0, 0.0, 0.0, 0.0, 0.0, 0.0, 0.0, 0.0, 0.0, 0.0, 0.0, 0.0, 0.0, 0.0, 0.0]}\n",
      "REWARD:  0.88268156424581\n",
      "No eligible models to score.\n"
     ]
    },
    {
     "name": "stderr",
     "output_type": "stream",
     "text": [
      "2025-01-24 16:40:22,479:INFO -- Action: Adding a model\n"
     ]
    },
    {
     "name": "stdout",
     "output_type": "stream",
     "text": [
      "STATE:  {'ensemble_state': {'total_energy_consumption': 0.023205572371097348, 'ensemble_size': 16}, 'model_states': {'InceptionResNetV2': {'accuracy': 0.9, 'confidence': 0.789093996418847, 'avg_response_time': 2.068571836474159, 'max_response_time': 2.180662360029575, 'contribution': 0.7982086077332496}, 'MobileNetV2': {'accuracy': 0.8220858895705522, 'confidence': 0.6803959310054779, 'avg_response_time': 0.09663011007690862, 'max_response_time': 0.14616136826811602, 'contribution': 0.708084034407797}, 'ResNet50V2': {'accuracy': 0.7533333333333333, 'confidence': 0.6972288636366526, 'avg_response_time': 0.39122721582599596, 'max_response_time': 0.440641906697276, 'contribution': 0.734278338154157}, 'ensemble': {'accuracy': 0.8833333333333333, 'confidence': 0.7476090163414232, 'avg_response_time': 6.9829942621537295, 'max_response_time': 7.2646600209859935, 'contribution': 0.9173974889847968}, 'EfficientNetV2S': {'accuracy': 0.9265536723163842, 'confidence': 0.8083799336589662, 'avg_response_time': 1.1456670928682429, 'max_response_time': 1.197277924930375, 'contribution': 0.7863792704660341}, 'NASNetLarge': {'accuracy': 0.9261363636363636, 'confidence': 0.8156273222782395, 'avg_response_time': 3.818999378363269, 'max_response_time': 3.937039179449276, 'contribution': 0.812944992530075}, 'EfficientNetB7': {'accuracy': 0.9425287356321839, 'confidence': 0.7080412106267338, 'avg_response_time': 7.121343767418025, 'max_response_time': 7.2560127503873435, 'contribution': 0.6641105583001827}, 'DenseNet201': {'accuracy': 0.8901734104046243, 'confidence': 0.8089879282637139, 'avg_response_time': 0.5844382828981671, 'max_response_time': 0.7171171364734032, 'contribution': 0.8027532986133774}, 'Xception': {'accuracy': 0.8662790697674418, 'confidence': 0.7373623437313146, 'avg_response_time': 0.9911685633810111, 'max_response_time': 1.0693688646426827, 'contribution': 0.7425221450800119}, 'InceptionV3': {'accuracy': 0.8928571428571429, 'confidence': 0.787110569931212, 'avg_response_time': 0.57360492727683, 'max_response_time': 0.6754832735299773, 'contribution': 0.7881311238521621}}, 'input_state': {'input_file_length': 15, 'image_height': 224, 'image_width': 224}, 'distribution_weights': [1.0, 1.0, 1.0, 1.0, 1.0, 0.0, 0.0, 0.0, 0.0, 0.0, 0.0, 0.0, 0.0, 0.0, 0.0, 0.0, 0.0, 0.0, 0.0, 0.0]}\n",
      "REWARD:  0.8833333333333333\n",
      "No eligible models to score.\n"
     ]
    },
    {
     "name": "stderr",
     "output_type": "stream",
     "text": [
      "2025-01-24 16:40:23,332:INFO -- Action: Replacing a model\n"
     ]
    },
    {
     "name": "stdout",
     "output_type": "stream",
     "text": [
      "STATE:  {'ensemble_state': {'total_energy_consumption': 0.023205572371097348, 'ensemble_size': 16}, 'model_states': {'InceptionResNetV2': {'accuracy': 0.9005524861878453, 'confidence': 0.7899767684014463, 'avg_response_time': 2.0686837840705983, 'max_response_time': 2.180662360029575, 'contribution': 0.7990410227472611}, 'MobileNetV2': {'accuracy': 0.823170731707317, 'confidence': 0.6815223993688095, 'avg_response_time': 0.09658698947832264, 'max_response_time': 0.14616136826811602, 'contribution': 0.709041672872334}, 'ResNet50V2': {'accuracy': 0.7549668874172185, 'confidence': 0.6991972169339262, 'avg_response_time': 0.39113519756323667, 'max_response_time': 0.440641906697276, 'contribution': 0.7360013306930365}, 'ensemble': {'accuracy': 0.8839779005524862, 'confidence': 0.7485278429666823, 'avg_response_time': 6.983990329208087, 'max_response_time': 7.2646600209859935, 'contribution': 0.9178231946341899}, 'EfficientNetV2S': {'accuracy': 0.9269662921348315, 'confidence': 0.8089257649491343, 'avg_response_time': 1.1455741468667502, 'max_response_time': 1.197277924930375, 'contribution': 0.787048700987623}, 'NASNetLarge': {'accuracy': 0.9265536723163842, 'confidence': 0.8160392867643281, 'avg_response_time': 3.8189402117011553, 'max_response_time': 3.937039179449276, 'contribution': 0.8133721114215204}, 'EfficientNetB7': {'accuracy': 0.9428571428571428, 'confidence': 0.7084797852379935, 'avg_response_time': 7.121509203991876, 'max_response_time': 7.2560127503873435, 'contribution': 0.6648001652104514}, 'DenseNet201': {'accuracy': 0.8908045977011494, 'confidence': 0.8099940737773632, 'avg_response_time': 0.5844345495824644, 'max_response_time': 0.7171171364734032, 'contribution': 0.8037952753319137}, 'Xception': {'accuracy': 0.8670520231213873, 'confidence': 0.7385192532415334, 'avg_response_time': 0.9910590417546303, 'max_response_time': 1.0693688646426827, 'contribution': 0.7436492291489089}, 'InceptionV3': {'accuracy': 0.893491124260355, 'confidence': 0.7882019397775097, 'avg_response_time': 0.5734022189593372, 'max_response_time': 0.6754832735299773, 'contribution': 0.7892164549178625}}, 'input_state': {'input_file_length': 14, 'image_height': 224, 'image_width': 224}, 'distribution_weights': [1.0, 1.0, 1.0, 1.0, 1.0, 0.0, 0.0, 0.0, 0.0, 0.0, 0.0, 0.0, 0.0, 0.0, 0.0, 0.0, 0.0, 0.0, 0.0, 0.0]}\n",
      "REWARD:  0.8839779005524862\n",
      "Worst model: EfficientNetV2L with score: 0.5911481481481482\n",
      "Model 'EfficientNetV2L' successfully removed from the target YAML.\n",
      "Best model: EfficientNetV2L with score: 0.5911481481481482\n",
      "Model 'EfficientNetV2L' successfully added to the target YAML.\n"
     ]
    },
    {
     "name": "stderr",
     "output_type": "stream",
     "text": [
      "2025-01-24 16:40:24,414:INFO -- Action: Adding a model\n"
     ]
    },
    {
     "name": "stdout",
     "output_type": "stream",
     "text": [
      "STATE:  {'ensemble_state': {'total_energy_consumption': 0.023205572371097348, 'ensemble_size': 16}, 'model_states': {'InceptionResNetV2': {'accuracy': 0.9010989010989011, 'confidence': 0.7906666073825334, 'avg_response_time': 2.068734841515389, 'max_response_time': 2.180662360029575, 'contribution': 0.7996810581330415}, 'MobileNetV2': {'accuracy': 0.8242424242424242, 'confidence': 0.6833211665803736, 'avg_response_time': 0.0967540198673162, 'max_response_time': 0.14616136826811602, 'contribution': 0.7106736566081192}, 'ResNet50V2': {'accuracy': 0.756578947368421, 'confidence': 0.7011759904654402, 'avg_response_time': 0.39128007369786677, 'max_response_time': 0.440641906697276, 'contribution': 0.737737971897188}, 'ensemble': {'accuracy': 0.8846153846153846, 'confidence': 0.7496215339307489, 'avg_response_time': 6.984567711318736, 'max_response_time': 7.2646600209859935, 'contribution': 0.9182746657630899}, 'EfficientNetV2S': {'accuracy': 0.9273743016759777, 'confidence': 0.8095266539291297, 'avg_response_time': 1.1456321635288222, 'max_response_time': 1.197277924930375, 'contribution': 0.7877718082020403}, 'NASNetLarge': {'accuracy': 0.9269662921348315, 'confidence': 0.8165297113107831, 'avg_response_time': 3.818788357636833, 'max_response_time': 3.937039179449276, 'contribution': 0.8138775200991148}, 'EfficientNetB7': {'accuracy': 0.9431818181818182, 'confidence': 0.7090753039175813, 'avg_response_time': 7.121262851716153, 'max_response_time': 7.2560127503873435, 'contribution': 0.6656438635492866}, 'DenseNet201': {'accuracy': 0.8914285714285715, 'confidence': 0.8110756485802787, 'avg_response_time': 0.583843769076441, 'max_response_time': 0.7171171364734032, 'contribution': 0.8049122718402317}, 'Xception': {'accuracy': 0.867816091954023, 'confidence': 0.7395263905155247, 'avg_response_time': 0.991006676521349, 'max_response_time': 1.0693688646426827, 'contribution': 0.7446268838027428}, 'InceptionV3': {'accuracy': 0.8941176470588236, 'confidence': 0.7894104189732496, 'avg_response_time': 0.5733966339764272, 'max_response_time': 0.6754832735299773, 'contribution': 0.7904189663774827}}, 'input_state': {'input_file_length': 15, 'image_height': 224, 'image_width': 224}, 'distribution_weights': [1.0, 1.0, 1.0, 1.0, 1.0, 0.0, 0.0, 0.0, 0.0, 0.0, 0.0, 0.0, 0.0, 0.0, 0.0, 0.0, 0.0, 0.0, 0.0, 0.0]}\n",
      "REWARD:  0.8846153846153846\n",
      "No eligible models to score.\n"
     ]
    },
    {
     "name": "stderr",
     "output_type": "stream",
     "text": [
      "2025-01-24 16:40:25,317:INFO -- Action: Replacing a model\n"
     ]
    },
    {
     "name": "stdout",
     "output_type": "stream",
     "text": [
      "STATE:  {'ensemble_state': {'total_energy_consumption': 0.023205572371097348, 'ensemble_size': 16}, 'model_states': {'InceptionResNetV2': {'accuracy': 0.9016393442622951, 'confidence': 0.7915427652213092, 'avg_response_time': 2.0687092540698746, 'max_response_time': 2.180662360029575, 'contribution': 0.8005079566780987}, 'MobileNetV2': {'accuracy': 0.8253012048192772, 'confidence': 0.6844876284699842, 'avg_response_time': 0.09673341306004164, 'max_response_time': 0.14616136826811602, 'contribution': 0.7116753444614181}, 'ResNet50V2': {'accuracy': 0.7581699346405228, 'confidence': 0.7031208736444611, 'avg_response_time': 0.3913518389392362, 'max_response_time': 0.440641906697276, 'contribution': 0.7394438878773084}, 'ensemble': {'accuracy': 0.8852459016393442, 'confidence': 0.7502918419054185, 'avg_response_time': 6.985542687981822, 'max_response_time': 7.2646600209859935, 'contribution': 0.918714795119124}, 'EfficientNetV2S': {'accuracy': 0.9277777777777778, 'confidence': 0.8101006799274021, 'avg_response_time': 1.1455055748037262, 'max_response_time': 1.197277924930375, 'contribution': 0.788466694454352}, 'NASNetLarge': {'accuracy': 0.9273743016759777, 'confidence': 0.8171074583543746, 'avg_response_time': 3.8186190644945346, 'max_response_time': 3.937039179449276, 'contribution': 0.8144700838533859}, 'EfficientNetB7': {'accuracy': 0.943502824858757, 'confidence': 0.7093410986964985, 'avg_response_time': 7.121468240686655, 'max_response_time': 7.2560127503873435, 'contribution': 0.6661550336975163}, 'DenseNet201': {'accuracy': 0.8920454545454546, 'confidence': 0.8116562566296621, 'avg_response_time': 0.5837048627383741, 'max_response_time': 0.7171171364734032, 'contribution': 0.8055278990756382}, 'Xception': {'accuracy': 0.8685714285714285, 'confidence': 0.7401877439022064, 'avg_response_time': 0.9909970774240597, 'max_response_time': 1.0693688646426827, 'contribution': 0.7452590915134975}, 'InceptionV3': {'accuracy': 0.8947368421052632, 'confidence': 0.789486467141157, 'avg_response_time': 0.5733836899569832, 'max_response_time': 0.6754832735299773, 'contribution': 0.7904891166073537}}, 'input_state': {'input_file_length': 15, 'image_height': 224, 'image_width': 224}, 'distribution_weights': [1.0, 1.0, 1.0, 1.0, 1.0, 0.0, 0.0, 0.0, 0.0, 0.0, 0.0, 0.0, 0.0, 0.0, 0.0, 0.0, 0.0, 0.0, 0.0, 0.0]}\n",
      "REWARD:  0.8852459016393442\n",
      "Worst model: EfficientNetV2L with score: 0.5911481481481482\n",
      "Model 'EfficientNetV2L' successfully removed from the target YAML.\n",
      "Best model: EfficientNetV2L with score: 0.5911481481481482\n",
      "Model 'EfficientNetV2L' successfully added to the target YAML.\n"
     ]
    },
    {
     "name": "stderr",
     "output_type": "stream",
     "text": [
      "2025-01-24 16:40:26,365:INFO -- Action: Keeping the ensemble\n"
     ]
    },
    {
     "name": "stdout",
     "output_type": "stream",
     "text": [
      "STATE:  {'ensemble_state': {'total_energy_consumption': 0.023205572371097348, 'ensemble_size': 16}, 'model_states': {'InceptionResNetV2': {'accuracy': 0.9021739130434783, 'confidence': 0.7912535991357721, 'avg_response_time': 2.0685536056491123, 'max_response_time': 2.180662360029575, 'contribution': 0.796157369957022}, 'MobileNetV2': {'accuracy': 0.8263473053892215, 'confidence': 0.6840767487437426, 'avg_response_time': 0.09678134935632642, 'max_response_time': 0.14616136826811602, 'contribution': 0.707413815452667}, 'ResNet50V2': {'accuracy': 0.7597402597402597, 'confidence': 0.7037649866822479, 'avg_response_time': 0.39134081560840583, 'max_response_time': 0.440641906697276, 'contribution': 0.7346423041897935}, 'ensemble': {'accuracy': 0.8804347826086957, 'confidence': 0.7462141688515848, 'avg_response_time': 6.9862726376759126, 'max_response_time': 7.2646600209859935, 'contribution': 0.9137217799282592}, 'EfficientNetV2S': {'accuracy': 0.9281767955801105, 'confidence': 0.810242746087069, 'avg_response_time': 1.1455067960863912, 'max_response_time': 1.197277924930375, 'contribution': 0.7841105248717314}, 'NASNetLarge': {'accuracy': 0.9277777777777778, 'confidence': 0.8172441098425124, 'avg_response_time': 3.8187678659186988, 'max_response_time': 3.937039179449276, 'contribution': 0.8099452500542005}, 'EfficientNetB7': {'accuracy': 0.9438202247191011, 'confidence': 0.7087103985668568, 'avg_response_time': 7.121398321203337, 'max_response_time': 7.2560127503873435, 'contribution': 0.6624125896879797}, 'DenseNet201': {'accuracy': 0.8926553672316384, 'confidence': 0.8125524847520946, 'avg_response_time': 0.5838467449239991, 'max_response_time': 0.7171171364734032, 'contribution': 0.8009768939961148}, 'Xception': {'accuracy': 0.8693181818181818, 'confidence': 0.7380103125152263, 'avg_response_time': 0.9909922119865014, 'max_response_time': 1.0693688646426827, 'contribution': 0.7410246648571708}, 'InceptionV3': {'accuracy': 0.8953488372093024, 'confidence': 0.7905943802622861, 'avg_response_time': 0.5735470117289747, 'max_response_time': 0.6754832735299773, 'contribution': 0.7858932496503342}}, 'input_state': {'input_file_length': 15, 'image_height': 224, 'image_width': 224}, 'distribution_weights': [1.0, 1.0, 1.0, 1.0, 1.0, 0.0, 0.0, 0.0, 0.0, 0.0, 0.0, 0.0, 0.0, 0.0, 0.0, 0.0, 0.0, 0.0, 0.0, 0.0]}\n",
      "REWARD:  0.8804347826086957\n"
     ]
    },
    {
     "name": "stderr",
     "output_type": "stream",
     "text": [
      "2025-01-24 16:40:27,310:INFO -- Action: Adding a model\n"
     ]
    },
    {
     "name": "stdout",
     "output_type": "stream",
     "text": [
      "STATE:  {'ensemble_state': {'total_energy_consumption': 0.023205572371097348, 'ensemble_size': 16}, 'model_states': {'InceptionResNetV2': {'accuracy': 0.9027027027027027, 'confidence': 0.792092141589603, 'avg_response_time': 2.068397963757849, 'max_response_time': 2.180662360029575, 'contribution': 0.7969694055415488}, 'MobileNetV2': {'accuracy': 0.8273809523809523, 'confidence': 0.6856376810797623, 'avg_response_time': 0.09661854942999143, 'max_response_time': 0.14616136826811602, 'contribution': 0.7088358366773242}, 'ResNet50V2': {'accuracy': 0.7612903225806451, 'confidence': 0.7056761803165559, 'avg_response_time': 0.3914561959447443, 'max_response_time': 0.440641906697276, 'contribution': 0.7363542893240529}, 'ensemble': {'accuracy': 0.8810810810810811, 'confidence': 0.7471083264664591, 'avg_response_time': 6.986971966270204, 'max_response_time': 7.2646600209859935, 'contribution': 0.9141881486854038}, 'EfficientNetV2S': {'accuracy': 0.9285714285714286, 'confidence': 0.8107311859890655, 'avg_response_time': 1.145569349506391, 'max_response_time': 1.197277924930375, 'contribution': 0.7847425484067792}, 'NASNetLarge': {'accuracy': 0.9281767955801105, 'confidence': 0.8177929375711726, 'avg_response_time': 3.8189618891196084, 'max_response_time': 3.937039179449276, 'contribution': 0.8105344029750613}, 'EfficientNetB7': {'accuracy': 0.9441340782122905, 'confidence': 0.7092513255566858, 'avg_response_time': 7.12131228024251, 'max_response_time': 7.2560127503873435, 'contribution': 0.6632121636547856}, 'DenseNet201': {'accuracy': 0.8932584269662921, 'confidence': 0.8136002106612987, 'avg_response_time': 0.5836497074119344, 'max_response_time': 0.7171171364734032, 'contribution': 0.8020896513140603}, 'Xception': {'accuracy': 0.8700564971751412, 'confidence': 0.7388757219759085, 'avg_response_time': 0.9910271833982705, 'max_response_time': 1.0693688646426827, 'contribution': 0.741873044078633}, 'InceptionV3': {'accuracy': 0.8959537572254336, 'confidence': 0.7917926718044832, 'avg_response_time': 0.5737778569747456, 'max_response_time': 0.6754832735299773, 'contribution': 0.7871187153579182}}, 'input_state': {'input_file_length': 14, 'image_height': 224, 'image_width': 224}, 'distribution_weights': [1.0, 1.0, 1.0, 1.0, 1.0, 0.0, 0.0, 0.0, 0.0, 0.0, 0.0, 0.0, 0.0, 0.0, 0.0, 0.0, 0.0, 0.0, 0.0, 0.0]}\n",
      "REWARD:  0.8810810810810811\n",
      "No eligible models to score.\n"
     ]
    },
    {
     "name": "stderr",
     "output_type": "stream",
     "text": [
      "2025-01-24 16:40:28,150:INFO -- Action: Replacing a model\n"
     ]
    },
    {
     "name": "stdout",
     "output_type": "stream",
     "text": [
      "STATE:  {'ensemble_state': {'total_energy_consumption': 0.023205572371097348, 'ensemble_size': 16}, 'model_states': {'InceptionResNetV2': {'accuracy': 0.9032258064516129, 'confidence': 0.7929099327133547, 'avg_response_time': 2.068839615818753, 'max_response_time': 2.180662360029575, 'contribution': 0.7926846237913254}, 'MobileNetV2': {'accuracy': 0.8224852071005917, 'confidence': 0.6815806533810655, 'avg_response_time': 0.0966816538963775, 'max_response_time': 0.14616136826811602, 'contribution': 0.7046415417857425}, 'ResNet50V2': {'accuracy': 0.7564102564102564, 'confidence': 0.7011526150581164, 'avg_response_time': 0.3914641016703065, 'max_response_time': 0.440641906697276, 'contribution': 0.7371821997639461}, 'ensemble': {'accuracy': 0.8763440860215054, 'confidence': 0.7430916150338438, 'avg_response_time': 6.98774355147017, 'max_response_time': 7.2646600209859935, 'contribution': 0.9092731586387081}, 'EfficientNetV2S': {'accuracy': 0.9289617486338798, 'confidence': 0.8101209516082305, 'avg_response_time': 1.1454579802522893, 'max_response_time': 1.197277924930375, 'contribution': 0.7804543377597475}, 'NASNetLarge': {'accuracy': 0.9285714285714286, 'confidence': 0.8181717114134149, 'avg_response_time': 3.8190587922520236, 'max_response_time': 3.937039179449276, 'contribution': 0.8060809172444291}, 'EfficientNetB7': {'accuracy': 0.9444444444444444, 'confidence': 0.7083087977435853, 'avg_response_time': 7.1213100060850705, 'max_response_time': 7.2560127503873435, 'contribution': 0.6595276516344812}, 'DenseNet201': {'accuracy': 0.8938547486033519, 'confidence': 0.8140695890900809, 'avg_response_time': 0.5837024677165907, 'max_response_time': 0.7171171364734032, 'contribution': 0.797608703541356}, 'Xception': {'accuracy': 0.8651685393258427, 'confidence': 0.7347247347737966, 'avg_response_time': 0.9910096476036793, 'max_response_time': 1.0693688646426827, 'contribution': 0.7377052179883036}, 'InceptionV3': {'accuracy': 0.896551724137931, 'confidence': 0.7905037266084518, 'avg_response_time': 0.5737114636976, 'max_response_time': 0.6754832735299773, 'contribution': 0.7825950445799992}}, 'input_state': {'input_file_length': 15, 'image_height': 224, 'image_width': 224}, 'distribution_weights': [1.0, 1.0, 1.0, 1.0, 1.0, 0.0, 0.0, 0.0, 0.0, 0.0, 0.0, 0.0, 0.0, 0.0, 0.0, 0.0, 0.0, 0.0, 0.0, 0.0]}\n",
      "REWARD:  0.8763440860215054\n",
      "Worst model: EfficientNetV2L with score: 0.5911481481481482\n",
      "Model 'EfficientNetV2L' successfully removed from the target YAML.\n",
      "Best model: EfficientNetV2L with score: 0.5911481481481482\n",
      "Model 'EfficientNetV2L' successfully added to the target YAML.\n"
     ]
    },
    {
     "name": "stderr",
     "output_type": "stream",
     "text": [
      "2025-01-24 16:40:29,190:INFO -- Action: Replacing a model\n"
     ]
    },
    {
     "name": "stdout",
     "output_type": "stream",
     "text": [
      "STATE:  {'ensemble_state': {'total_energy_consumption': 0.023205572371097348, 'ensemble_size': 16}, 'model_states': {'InceptionResNetV2': {'accuracy': 0.9037433155080213, 'confidence': 0.7935385375736869, 'avg_response_time': 2.0689295940625936, 'max_response_time': 2.180662360029575, 'contribution': 0.7933144335122032}, 'MobileNetV2': {'accuracy': 0.8235294117647058, 'confidence': 0.6821882744045819, 'avg_response_time': 0.09663743291786146, 'max_response_time': 0.14616136826811602, 'contribution': 0.7051135105245253}, 'ResNet50V2': {'accuracy': 0.7579617834394905, 'confidence': 0.7029013561595018, 'avg_response_time': 0.3914612075725653, 'max_response_time': 0.440641906697276, 'contribution': 0.7387014530646573}, 'ensemble': {'accuracy': 0.8770053475935828, 'confidence': 0.7438477496765192, 'avg_response_time': 6.988586279032651, 'max_response_time': 7.2646600209859935, 'contribution': 0.9096581590048132}, 'EfficientNetV2S': {'accuracy': 0.9293478260869565, 'confidence': 0.8105717858542567, 'avg_response_time': 1.1452622102852095, 'max_response_time': 1.197277924930375, 'contribution': 0.7810664036027763}, 'NASNetLarge': {'accuracy': 0.9289617486338798, 'confidence': 0.8186824569285241, 'avg_response_time': 3.819141419182326, 'max_response_time': 3.937039179449276, 'contribution': 0.8066577326730301}, 'EfficientNetB7': {'accuracy': 0.9447513812154696, 'confidence': 0.7088694928100755, 'avg_response_time': 7.121376495821909, 'max_response_time': 7.2560127503873435, 'contribution': 0.6603578557954968}, 'DenseNet201': {'accuracy': 0.8944444444444445, 'confidence': 0.8149984704123603, 'avg_response_time': 0.5835526054500688, 'max_response_time': 0.7171171364734032, 'contribution': 0.7986290342277951}, 'Xception': {'accuracy': 0.8659217877094972, 'confidence': 0.7350754233378938, 'avg_response_time': 0.9909474484605227, 'max_response_time': 1.0693688646426827, 'contribution': 0.7380392558081856}, 'InceptionV3': {'accuracy': 0.8971428571428571, 'confidence': 0.7914166494778224, 'avg_response_time': 0.5739664645346556, 'max_response_time': 0.6754832735299773, 'contribution': 0.7835531599181039}}, 'input_state': {'input_file_length': 14, 'image_height': 224, 'image_width': 224}, 'distribution_weights': [1.0, 1.0, 1.0, 1.0, 1.0, 0.0, 0.0, 0.0, 0.0, 0.0, 0.0, 0.0, 0.0, 0.0, 0.0, 0.0, 0.0, 0.0, 0.0, 0.0]}\n",
      "REWARD:  0.8770053475935828\n",
      "Worst model: EfficientNetV2L with score: 0.5911481481481482\n",
      "Model 'EfficientNetV2L' successfully removed from the target YAML.\n",
      "Best model: EfficientNetV2L with score: 0.5911481481481482\n",
      "Model 'EfficientNetV2L' successfully added to the target YAML.\n"
     ]
    },
    {
     "name": "stderr",
     "output_type": "stream",
     "text": [
      "2025-01-24 16:40:30,389:INFO -- Action: Keeping the ensemble\n"
     ]
    },
    {
     "name": "stdout",
     "output_type": "stream",
     "text": [
      "STATE:  {'ensemble_state': {'total_energy_consumption': 0.023205572371097348, 'ensemble_size': 16}, 'model_states': {'InceptionResNetV2': {'accuracy': 0.9042553191489362, 'confidence': 0.7921258515500008, 'avg_response_time': 2.0688942083024635, 'max_response_time': 2.180662360029575, 'contribution': 0.7890946758871383}, 'MobileNetV2': {'accuracy': 0.8245614035087719, 'confidence': 0.6808998459263852, 'avg_response_time': 0.09665089321303585, 'max_response_time': 0.14616136826811602, 'contribution': 0.7009900397027445}, 'ResNet50V2': {'accuracy': 0.7531645569620253, 'confidence': 0.6984526133989986, 'avg_response_time': 0.3914212096380724, 'max_response_time': 0.440641906697276, 'contribution': 0.7340261274123494}, 'ensemble': {'accuracy': 0.8723404255319149, 'confidence': 0.7398911127101547, 'avg_response_time': 6.989378216157126, 'max_response_time': 7.2646600209859935, 'contribution': 0.9048195517760642}, 'EfficientNetV2S': {'accuracy': 0.9297297297297298, 'confidence': 0.8102231228673781, 'avg_response_time': 1.14546366523496, 'max_response_time': 1.197277924930375, 'contribution': 0.7768444230427614}, 'NASNetLarge': {'accuracy': 0.9293478260869565, 'confidence': 0.8188194626051447, 'avg_response_time': 3.8190247593304827, 'max_response_time': 3.937039179449276, 'contribution': 0.8022737232563288}, 'EfficientNetB7': {'accuracy': 0.9395604395604396, 'confidence': 0.7049746054869431, 'avg_response_time': 7.121415196085701, 'max_response_time': 7.2560127503873435, 'contribution': 0.6567295159284885}, 'DenseNet201': {'accuracy': 0.8950276243093923, 'confidence': 0.8148398320319244, 'avg_response_time': 0.5836093228845163, 'max_response_time': 0.7171171364734032, 'contribution': 0.7942167191215641}, 'Xception': {'accuracy': 0.8666666666666667, 'confidence': 0.7360635848508941, 'avg_response_time': 0.9910188546451606, 'max_response_time': 1.0693688646426827, 'contribution': 0.7339390377203624}, 'InceptionV3': {'accuracy': 0.8920454545454546, 'confidence': 0.7869199639694258, 'avg_response_time': 0.574206633803114, 'max_response_time': 0.6754832735299773, 'contribution': 0.7791011533276602}}, 'input_state': {'input_file_length': 15, 'image_height': 224, 'image_width': 224}, 'distribution_weights': [1.0, 1.0, 1.0, 1.0, 1.0, 0.0, 0.0, 0.0, 0.0, 0.0, 0.0, 0.0, 0.0, 0.0, 0.0, 0.0, 0.0, 0.0, 0.0, 0.0]}\n",
      "REWARD:  0.8723404255319149\n"
     ]
    },
    {
     "name": "stderr",
     "output_type": "stream",
     "text": [
      "2025-01-24 16:40:31,309:INFO -- Action: Adding a model\n"
     ]
    },
    {
     "name": "stdout",
     "output_type": "stream",
     "text": [
      "STATE:  {'ensemble_state': {'total_energy_consumption': 0.023205572371097348, 'ensemble_size': 16}, 'model_states': {'InceptionResNetV2': {'accuracy': 0.9047619047619048, 'confidence': 0.79279198690697, 'avg_response_time': 2.068826656662192, 'max_response_time': 2.180662360029575, 'contribution': 0.7897768492105777}, 'MobileNetV2': {'accuracy': 0.8255813953488372, 'confidence': 0.6816175642401673, 'avg_response_time': 0.09672570458679933, 'max_response_time': 0.14616136826811602, 'contribution': 0.7015909545643385}, 'ResNet50V2': {'accuracy': 0.7484276729559748, 'confidence': 0.6940598296669295, 'avg_response_time': 0.39141566065817784, 'max_response_time': 0.440641906697276, 'contribution': 0.7294096108877434}, 'ensemble': {'accuracy': 0.873015873015873, 'confidence': 0.7406501444390253, 'avg_response_time': 6.990114795894128, 'max_response_time': 7.2646600209859935, 'contribution': 0.9053204726605188}, 'EfficientNetV2S': {'accuracy': 0.9301075268817204, 'confidence': 0.8106774937721991, 'avg_response_time': 1.1453815068660997, 'max_response_time': 1.197277924930375, 'contribution': 0.7774782493229835}, 'NASNetLarge': {'accuracy': 0.9297297297297298, 'confidence': 0.8192551184344936, 'avg_response_time': 3.8188986992467373, 'max_response_time': 3.937039179449276, 'contribution': 0.8027988155145903}, 'EfficientNetB7': {'accuracy': 0.9398907103825137, 'confidence': 0.7056873134576558, 'avg_response_time': 7.121383182712032, 'max_response_time': 7.2560127503873435, 'contribution': 0.657705858268373}, 'DenseNet201': {'accuracy': 0.8956043956043956, 'confidence': 0.8158535757562616, 'avg_response_time': 0.5835913285750053, 'max_response_time': 0.7171171364734032, 'contribution': 0.7953437766531012}, 'Xception': {'accuracy': 0.8674033149171271, 'confidence': 0.7370699020051166, 'avg_response_time': 0.9910263352325828, 'max_response_time': 1.0693688646426827, 'contribution': 0.7349570927040353}, 'InceptionV3': {'accuracy': 0.8926553672316384, 'confidence': 0.7880402722601163, 'avg_response_time': 0.5742325430016747, 'max_response_time': 0.6754832735299773, 'contribution': 0.7802656356897731}}, 'input_state': {'input_file_length': 14, 'image_height': 224, 'image_width': 224}, 'distribution_weights': [1.0, 1.0, 1.0, 1.0, 1.0, 0.0, 0.0, 0.0, 0.0, 0.0, 0.0, 0.0, 0.0, 0.0, 0.0, 0.0, 0.0, 0.0, 0.0, 0.0]}\n",
      "REWARD:  0.873015873015873\n",
      "No eligible models to score.\n"
     ]
    },
    {
     "name": "stderr",
     "output_type": "stream",
     "text": [
      "2025-01-24 16:40:32,149:INFO -- Action: Replacing a model\n"
     ]
    },
    {
     "name": "stdout",
     "output_type": "stream",
     "text": [
      "STATE:  {'ensemble_state': {'total_energy_consumption': 0.023205572371097348, 'ensemble_size': 16}, 'model_states': {'InceptionResNetV2': {'accuracy': 0.9052631578947369, 'confidence': 0.793156360638769, 'avg_response_time': 2.0688699897246896, 'max_response_time': 2.180662360029575, 'contribution': 0.7901570920881472}, 'MobileNetV2': {'accuracy': 0.8265895953757225, 'confidence': 0.6818300154856863, 'avg_response_time': 0.09668331236129278, 'max_response_time': 0.14616136826811602, 'contribution': 0.7016879526865965}, 'ResNet50V2': {'accuracy': 0.75, 'confidence': 0.6922172160819173, 'avg_response_time': 0.3913467995954302, 'max_response_time': 0.440641906697276, 'contribution': 0.7273460611701011}, 'ensemble': {'accuracy': 0.8736842105263158, 'confidence': 0.7406118056601207, 'avg_response_time': 6.990805037419547, 'max_response_time': 7.2646600209859935, 'contribution': 0.905226858822923}, 'EfficientNetV2S': {'accuracy': 0.93048128342246, 'confidence': 0.8110884902949002, 'avg_response_time': 1.145531105229535, 'max_response_time': 1.197277924930375, 'contribution': 0.778066781912258}, 'NASNetLarge': {'accuracy': 0.9301075268817204, 'confidence': 0.819419869812586, 'avg_response_time': 3.819018604768473, 'max_response_time': 3.937039179449276, 'contribution': 0.8030520416395639}, 'EfficientNetB7': {'accuracy': 0.9347826086956522, 'confidence': 0.7018520563192989, 'avg_response_time': 7.121329274419872, 'max_response_time': 7.2560127503873435, 'contribution': 0.6541313699082189}, 'DenseNet201': {'accuracy': 0.8961748633879781, 'confidence': 0.8161112109168631, 'avg_response_time': 0.5836220237532835, 'max_response_time': 0.7171171364734032, 'contribution': 0.7957134872186379}, 'Xception': {'accuracy': 0.8681318681318682, 'confidence': 0.7377111988735723, 'avg_response_time': 0.9911272119204573, 'max_response_time': 1.0693688646426827, 'contribution': 0.7356099984148047}, 'InceptionV3': {'accuracy': 0.8932584269662921, 'confidence': 0.7879545675234848, 'avg_response_time': 0.5741190359859234, 'max_response_time': 0.6754832735299773, 'contribution': 0.7802236086866828}}, 'input_state': {'input_file_length': 14, 'image_height': 224, 'image_width': 224}, 'distribution_weights': [1.0, 1.0, 1.0, 1.0, 1.0, 0.0, 0.0, 0.0, 0.0, 0.0, 0.0, 0.0, 0.0, 0.0, 0.0, 0.0, 0.0, 0.0, 0.0, 0.0]}\n",
      "REWARD:  0.8736842105263158\n",
      "Worst model: EfficientNetV2L with score: 0.5911481481481482\n",
      "Model 'EfficientNetV2L' successfully removed from the target YAML.\n",
      "Best model: EfficientNetV2L with score: 0.5911481481481482\n",
      "Model 'EfficientNetV2L' successfully added to the target YAML.\n"
     ]
    },
    {
     "name": "stderr",
     "output_type": "stream",
     "text": [
      "2025-01-24 16:40:33,250:INFO -- Action: Keeping the ensemble\n"
     ]
    },
    {
     "name": "stdout",
     "output_type": "stream",
     "text": [
      "STATE:  {'ensemble_state': {'total_energy_consumption': 0.023205572371097348, 'ensemble_size': 16}, 'model_states': {'InceptionResNetV2': {'accuracy': 0.9057591623036649, 'confidence': 0.7938097387708295, 'avg_response_time': 2.068747627440802, 'max_response_time': 2.180662360029575, 'contribution': 0.7908261731969124}, 'MobileNetV2': {'accuracy': 0.8275862068965517, 'confidence': 0.6818752038752895, 'avg_response_time': 0.09684173856998121, 'max_response_time': 0.14616136826811602, 'contribution': 0.7016190150003324}, 'ResNet50V2': {'accuracy': 0.7453416149068323, 'confidence': 0.6879177302677438, 'avg_response_time': 0.391288926538189, 'max_response_time': 0.440641906697276, 'contribution': 0.7228283837715291}, 'ensemble': {'accuracy': 0.8743455497382199, 'confidence': 0.7411896651488765, 'avg_response_time': 6.991410860612992, 'max_response_time': 7.2646600209859935, 'contribution': 0.9056971180813475}, 'EfficientNetV2S': {'accuracy': 0.9308510638297872, 'confidence': 0.8114957432163522, 'avg_response_time': 1.1453987601972062, 'max_response_time': 1.197277924930375, 'contribution': 0.7786496822187241}, 'NASNetLarge': {'accuracy': 0.93048128342246, 'confidence': 0.819876288985186, 'avg_response_time': 3.81900320243559, 'max_response_time': 3.937039179449276, 'contribution': 0.8035959893050678}, 'EfficientNetB7': {'accuracy': 0.9351351351351351, 'confidence': 0.7009736344620988, 'avg_response_time': 7.12120379570967, 'max_response_time': 7.2560127503873435, 'contribution': 0.6535108977072948}, 'DenseNet201': {'accuracy': 0.8967391304347826, 'confidence': 0.8170760354917982, 'avg_response_time': 0.5836744221997279, 'max_response_time': 0.7171171364734032, 'contribution': 0.7967891689875851}, 'Xception': {'accuracy': 0.8688524590163934, 'confidence': 0.7389190843522223, 'avg_response_time': 0.9910387616534752, 'max_response_time': 1.0693688646426827, 'contribution': 0.7368293658631747}, 'InceptionV3': {'accuracy': 0.8938547486033519, 'confidence': 0.7885658507906524, 'avg_response_time': 0.5741598050338812, 'max_response_time': 0.6754832735299773, 'contribution': 0.7808780816680226}}, 'input_state': {'input_file_length': 15, 'image_height': 224, 'image_width': 224}, 'distribution_weights': [1.0, 1.0, 1.0, 1.0, 1.0, 0.0, 0.0, 0.0, 0.0, 0.0, 0.0, 0.0, 0.0, 0.0, 0.0, 0.0, 0.0, 0.0, 0.0, 0.0]}\n",
      "REWARD:  0.8743455497382199\n"
     ]
    },
    {
     "name": "stderr",
     "output_type": "stream",
     "text": [
      "2025-01-24 16:40:34,171:INFO -- Action: Adding a model\n"
     ]
    },
    {
     "name": "stdout",
     "output_type": "stream",
     "text": [
      "STATE:  {'ensemble_state': {'total_energy_consumption': 0.023205572371097348, 'ensemble_size': 16}, 'model_states': {'InceptionResNetV2': {'accuracy': 0.90625, 'confidence': 0.7946374798193574, 'avg_response_time': 2.068826838288171, 'max_response_time': 2.180662360029575, 'contribution': 0.7916694536494712}, 'MobileNetV2': {'accuracy': 0.8285714285714286, 'confidence': 0.6831797684941973, 'avg_response_time': 0.0968475034707838, 'max_response_time': 0.14616136826811602, 'contribution': 0.7028107578413827}, 'ResNet50V2': {'accuracy': 0.7407407407407407, 'confidence': 0.6836713245253504, 'avg_response_time': 0.3914134813419363, 'max_response_time': 0.440641906697276, 'contribution': 0.7183664801680012}, 'ensemble': {'accuracy': 0.875, 'confidence': 0.7415889782503243, 'avg_response_time': 6.992169361042251, 'max_response_time': 7.2646600209859935, 'contribution': 0.9060170903491477}, 'EfficientNetV2S': {'accuracy': 0.9312169312169312, 'confidence': 0.8117584441073988, 'avg_response_time': 1.1453495774954183, 'max_response_time': 1.197277924930375, 'contribution': 0.7790861717922978}, 'NASNetLarge': {'accuracy': 0.9308510638297872, 'confidence': 0.820365901640121, 'avg_response_time': 3.819050048421726, 'max_response_time': 3.937039179449276, 'contribution': 0.8041721992987267}, 'EfficientNetB7': {'accuracy': 0.9354838709677419, 'confidence': 0.7005467901947677, 'avg_response_time': 7.121219282777669, 'max_response_time': 7.2560127503873435, 'contribution': 0.6533392294440218}, 'DenseNet201': {'accuracy': 0.8972972972972973, 'confidence': 0.8178808953310992, 'avg_response_time': 0.5838071068769818, 'max_response_time': 0.7171171364734032, 'contribution': 0.7977036875647467}, 'Xception': {'accuracy': 0.8695652173913043, 'confidence': 0.7401593708149765, 'avg_response_time': 0.9910468002028934, 'max_response_time': 1.0693688646426827, 'contribution': 0.7380810094916302}, 'InceptionV3': {'accuracy': 0.8944444444444445, 'confidence': 0.7893270211087333, 'avg_response_time': 0.574160070923372, 'max_response_time': 0.6754832735299773, 'contribution': 0.7816819618145625}}, 'input_state': {'input_file_length': 13, 'image_height': 224, 'image_width': 224}, 'distribution_weights': [1.0, 1.0, 1.0, 1.0, 1.0, 0.0, 0.0, 0.0, 0.0, 0.0, 0.0, 0.0, 0.0, 0.0, 0.0, 0.0, 0.0, 0.0, 0.0, 0.0]}\n",
      "REWARD:  0.875\n",
      "No eligible models to score.\n"
     ]
    },
    {
     "name": "stderr",
     "output_type": "stream",
     "text": [
      "2025-01-24 16:40:35,048:INFO -- Action: Keeping the ensemble\n"
     ]
    },
    {
     "name": "stdout",
     "output_type": "stream",
     "text": [
      "STATE:  {'ensemble_state': {'total_energy_consumption': 0.023205572371097348, 'ensemble_size': 16}, 'model_states': {'InceptionResNetV2': {'accuracy': 0.9067357512953368, 'confidence': 0.7954286299838921, 'avg_response_time': 2.0687360859383914, 'max_response_time': 2.180662360029575, 'contribution': 0.7924759821879431}, 'MobileNetV2': {'accuracy': 0.8238636363636364, 'confidence': 0.6792980652641166, 'avg_response_time': 0.09682249339007472, 'max_response_time': 0.14616136826811602, 'contribution': 0.6988175148991022}, 'ResNet50V2': {'accuracy': 0.7423312883435583, 'confidence': 0.6843683633701932, 'avg_response_time': 0.3916549511583585, 'max_response_time': 0.440641906697276, 'contribution': 0.718850665297245}, 'ensemble': {'accuracy': 0.8756476683937824, 'confidence': 0.7421084990185726, 'avg_response_time': 6.993214125409836, 'max_response_time': 7.2646600209859935, 'contribution': 0.9064904947046171}, 'EfficientNetV2S': {'accuracy': 0.9315789473684211, 'confidence': 0.8124147744555222, 'avg_response_time': 1.1455111802895013, 'max_response_time': 1.197277924930375, 'contribution': 0.7799144614683954}, 'NASNetLarge': {'accuracy': 0.9312169312169312, 'confidence': 0.8206880455294614, 'avg_response_time': 3.818983592916981, 'max_response_time': 3.937039179449276, 'contribution': 0.8045800241528365}, 'EfficientNetB7': {'accuracy': 0.9358288770053476, 'confidence': 0.701453232828946, 'avg_response_time': 7.1215548392068095, 'max_response_time': 7.2560127503873435, 'contribution': 0.6544981189271345}, 'DenseNet201': {'accuracy': 0.8978494623655914, 'confidence': 0.8188459664903661, 'avg_response_time': 0.5838637340587327, 'max_response_time': 0.7171171364734032, 'contribution': 0.7987772383356607}, 'Xception': {'accuracy': 0.8702702702702703, 'confidence': 0.7410902015260747, 'avg_response_time': 0.9911143956575955, 'max_response_time': 1.0693688646426827, 'contribution': 0.7390230745882601}, 'InceptionV3': {'accuracy': 0.8950276243093923, 'confidence': 0.7870144692573758, 'avg_response_time': 0.5742538027602208, 'max_response_time': 0.6754832735299773, 'contribution': 0.7794116478598578}}, 'input_state': {'input_file_length': 15, 'image_height': 224, 'image_width': 224}, 'distribution_weights': [1.0, 1.0, 1.0, 1.0, 1.0, 0.0, 0.0, 0.0, 0.0, 0.0, 0.0, 0.0, 0.0, 0.0, 0.0, 0.0, 0.0, 0.0, 0.0, 0.0]}\n",
      "REWARD:  0.8756476683937824\n"
     ]
    },
    {
     "name": "stderr",
     "output_type": "stream",
     "text": [
      "2025-01-24 16:40:35,913:INFO -- Action: Keeping the ensemble\n"
     ]
    },
    {
     "name": "stdout",
     "output_type": "stream",
     "text": [
      "STATE:  {'ensemble_state': {'total_energy_consumption': 0.023205572371097348, 'ensemble_size': 16}, 'model_states': {'InceptionResNetV2': {'accuracy': 0.9072164948453608, 'confidence': 0.7961502800282744, 'avg_response_time': 2.0689701312630433, 'max_response_time': 2.180662360029575, 'contribution': 0.7932128520663252}, 'MobileNetV2': {'accuracy': 0.8248587570621468, 'confidence': 0.6809040345041092, 'avg_response_time': 0.09689152988146604, 'max_response_time': 0.14616136826811602, 'contribution': 0.7003132047626258}, 'ResNet50V2': {'accuracy': 0.7439024390243902, 'confidence': 0.686292385364451, 'avg_response_time': 0.39163825412755227, 'max_response_time': 0.440641906697276, 'contribution': 0.7205644293529231}, 'ensemble': {'accuracy': 0.8762886597938144, 'confidence': 0.743022693988522, 'avg_response_time': 6.993976650792947, 'max_response_time': 7.2646600209859935, 'contribution': 0.906972028084637}, 'EfficientNetV2S': {'accuracy': 0.9319371727748691, 'confidence': 0.8128532714244583, 'avg_response_time': 1.1456007008411917, 'max_response_time': 1.197277924930375, 'contribution': 0.7805231171440704}, 'NASNetLarge': {'accuracy': 0.9315789473684211, 'confidence': 0.8211749694849315, 'avg_response_time': 3.8190395961052683, 'max_response_time': 3.937039179449276, 'contribution': 0.8051517271681836}, 'EfficientNetB7': {'accuracy': 0.9361702127659575, 'confidence': 0.7013674010621741, 'avg_response_time': 7.121602808993109, 'max_response_time': 7.2560127503873435, 'contribution': 0.6546620484045211}, 'DenseNet201': {'accuracy': 0.8983957219251337, 'confidence': 0.819772290354744, 'avg_response_time': 0.5838234326418454, 'max_response_time': 0.7171171364734032, 'contribution': 0.7998108816019354}, 'Xception': {'accuracy': 0.8709677419354839, 'confidence': 0.7419750224198064, 'avg_response_time': 0.9911125954889793, 'max_response_time': 1.0693688646426827, 'contribution': 0.7399190090676789}, 'InceptionV3': {'accuracy': 0.8956043956043956, 'confidence': 0.7877851747549497, 'avg_response_time': 0.5741721928737964, 'max_response_time': 0.6754832735299773, 'contribution': 0.7802241271013742}}, 'input_state': {'input_file_length': 15, 'image_height': 224, 'image_width': 224}, 'distribution_weights': [1.0, 1.0, 1.0, 1.0, 1.0, 0.0, 0.0, 0.0, 0.0, 0.0, 0.0, 0.0, 0.0, 0.0, 0.0, 0.0, 0.0, 0.0, 0.0, 0.0]}\n",
      "REWARD:  0.8762886597938144\n"
     ]
    },
    {
     "name": "stderr",
     "output_type": "stream",
     "text": [
      "2025-01-24 16:40:36,766:INFO -- Action: Replacing a model\n"
     ]
    },
    {
     "name": "stdout",
     "output_type": "stream",
     "text": [
      "STATE:  {'ensemble_state': {'total_energy_consumption': 0.023205572371097348, 'ensemble_size': 16}, 'model_states': {'InceptionResNetV2': {'accuracy': 0.9076923076923077, 'confidence': 0.7969232372748546, 'avg_response_time': 2.0682226439667186, 'max_response_time': 2.180662360029575, 'contribution': 0.7940008730460436}, 'MobileNetV2': {'accuracy': 0.8258426966292135, 'confidence': 0.6823023895869095, 'avg_response_time': 0.096957935378877, 'max_response_time': 0.14616136826811602, 'contribution': 0.7016025195630748}, 'ResNet50V2': {'accuracy': 0.7454545454545455, 'confidence': 0.6879732271035512, 'avg_response_time': 0.39176375572835653, 'max_response_time': 0.440641906697276, 'contribution': 0.7220375617345174}, 'ensemble': {'accuracy': 0.8769230769230769, 'confidence': 0.7439171190971848, 'avg_response_time': 6.994734856326699, 'max_response_time': 7.2646600209859935, 'contribution': 0.9074470622417254}, 'EfficientNetV2S': {'accuracy': 0.9322916666666666, 'confidence': 0.8133479915559292, 'avg_response_time': 1.145560213286662, 'max_response_time': 1.197277924930375, 'contribution': 0.7811862234957516}, 'NASNetLarge': {'accuracy': 0.9319371727748691, 'confidence': 0.8214297160428232, 'avg_response_time': 3.8191293833764544, 'max_response_time': 3.937039179449276, 'contribution': 0.8054903650471054}, 'EfficientNetB7': {'accuracy': 0.9365079365079365, 'confidence': 0.7020175926899784, 'avg_response_time': 7.121655787988278, 'max_response_time': 7.2560127503873435, 'contribution': 0.6555593583003554}, 'DenseNet201': {'accuracy': 0.898936170212766, 'confidence': 0.8204944060837969, 'avg_response_time': 0.5839450987226642, 'max_response_time': 0.7171171364734032, 'contribution': 0.8006391750371202}, 'Xception': {'accuracy': 0.8716577540106952, 'confidence': 0.7427173248905549, 'avg_response_time': 0.9911730570310695, 'max_response_time': 1.0693688646426827, 'contribution': 0.7406723062622356}, 'InceptionV3': {'accuracy': 0.8961748633879781, 'confidence': 0.7889061980560178, 'avg_response_time': 0.5738218949200364, 'max_response_time': 0.6754832735299773, 'contribution': 0.781386467602735}}, 'input_state': {'input_file_length': 15, 'image_height': 224, 'image_width': 224}, 'distribution_weights': [1.0, 1.0, 1.0, 1.0, 1.0, 0.0, 0.0, 0.0, 0.0, 0.0, 0.0, 0.0, 0.0, 0.0, 0.0, 0.0, 0.0, 0.0, 0.0, 0.0]}\n",
      "REWARD:  0.8769230769230769\n",
      "Worst model: EfficientNetV2L with score: 0.5911481481481482\n",
      "Model 'EfficientNetV2L' successfully removed from the target YAML.\n",
      "Best model: EfficientNetV2L with score: 0.5911481481481482\n",
      "Model 'EfficientNetV2L' successfully added to the target YAML.\n"
     ]
    },
    {
     "name": "stderr",
     "output_type": "stream",
     "text": [
      "2025-01-24 16:40:37,884:INFO -- Action: Adding a model\n"
     ]
    },
    {
     "name": "stdout",
     "output_type": "stream",
     "text": [
      "STATE:  {'ensemble_state': {'total_energy_consumption': 0.023205572371097348, 'ensemble_size': 16}, 'model_states': {'InceptionResNetV2': {'accuracy': 0.9081632653061225, 'confidence': 0.7977060322858849, 'avg_response_time': 2.0682280641250457, 'max_response_time': 2.180662360029575, 'contribution': 0.7947985780786495}, 'MobileNetV2': {'accuracy': 0.8268156424581006, 'confidence': 0.684015684953615, 'avg_response_time': 0.09688285145091506, 'max_response_time': 0.14616136826811602, 'contribution': 0.7032079929746063}, 'ResNet50V2': {'accuracy': 0.7469879518072289, 'confidence': 0.6861682966890106, 'avg_response_time': 0.3918125303236677, 'max_response_time': 0.440641906697276, 'contribution': 0.7200274244848505}, 'ensemble': {'accuracy': 0.8775510204081632, 'confidence': 0.7443807806101836, 'avg_response_time': 6.995577095241174, 'max_response_time': 7.2646600209859935, 'contribution': 0.9078630581498146}, 'EfficientNetV2S': {'accuracy': 0.9326424870466321, 'confidence': 0.8138771075658847, 'avg_response_time': 1.1455352024737742, 'max_response_time': 1.197277924930375, 'contribution': 0.7818819807909931}, 'NASNetLarge': {'accuracy': 0.9322916666666666, 'confidence': 0.8217803084601959, 'avg_response_time': 3.819025843907163, 'max_response_time': 3.937039179449276, 'contribution': 0.8059239749175807}, 'EfficientNetB7': {'accuracy': 0.9368421052631579, 'confidence': 0.7025805078054729, 'avg_response_time': 7.1218057809231725, 'max_response_time': 7.2560127503873435, 'contribution': 0.6563667904389532}, 'DenseNet201': {'accuracy': 0.8994708994708994, 'confidence': 0.8213544882163799, 'avg_response_time': 0.5840318876096645, 'max_response_time': 0.7171171364734032, 'contribution': 0.8016043113022254}, 'Xception': {'accuracy': 0.8723404255319149, 'confidence': 0.7438144289115642, 'avg_response_time': 0.9911575403520275, 'max_response_time': 1.0693688646426827, 'contribution': 0.7417802880419061}, 'InceptionV3': {'accuracy': 0.8967391304347826, 'confidence': 0.7891551473218462, 'avg_response_time': 0.5738519220495379, 'max_response_time': 0.6754832735299773, 'contribution': 0.781676284968853}}, 'input_state': {'input_file_length': 14, 'image_height': 224, 'image_width': 224}, 'distribution_weights': [1.0, 1.0, 1.0, 1.0, 1.0, 0.0, 0.0, 0.0, 0.0, 0.0, 0.0, 0.0, 0.0, 0.0, 0.0, 0.0, 0.0, 0.0, 0.0, 0.0]}\n",
      "REWARD:  0.8775510204081632\n",
      "No eligible models to score.\n"
     ]
    },
    {
     "name": "stderr",
     "output_type": "stream",
     "text": [
      "2025-01-24 16:40:38,772:INFO -- Action: Adding a model\n"
     ]
    },
    {
     "name": "stdout",
     "output_type": "stream",
     "text": [
      "STATE:  {'ensemble_state': {'total_energy_consumption': 0.023205572371097348, 'ensemble_size': 16}, 'model_states': {'InceptionResNetV2': {'accuracy': 0.9086294416243654, 'confidence': 0.798252518709541, 'avg_response_time': 2.068350540233983, 'max_response_time': 2.180662360029575, 'contribution': 0.7953598231531037}, 'MobileNetV2': {'accuracy': 0.8277777777777777, 'confidence': 0.6856198191642762, 'avg_response_time': 0.09690292259795302, 'max_response_time': 0.14616136826811602, 'contribution': 0.7047055032518175}, 'ResNet50V2': {'accuracy': 0.7485029940119761, 'confidence': 0.6880472643289738, 'avg_response_time': 0.39141142736450274, 'max_response_time': 0.440641906697276, 'contribution': 0.7217036428565751}, 'ensemble': {'accuracy': 0.8781725888324873, 'confidence': 0.7453797711489316, 'avg_response_time': 6.996220037517615, 'max_response_time': 7.2646600209859935, 'contribution': 0.9083307178189912}, 'EfficientNetV2S': {'accuracy': 0.9329896907216495, 'confidence': 0.8145577769304059, 'avg_response_time': 1.1456658268553217, 'max_response_time': 1.197277924930375, 'contribution': 0.7827275734894055}, 'NASNetLarge': {'accuracy': 0.9326424870466321, 'confidence': 0.8223245832586535, 'avg_response_time': 3.8190580595143677, 'max_response_time': 3.937039179449276, 'contribution': 0.806550406884653}, 'EfficientNetB7': {'accuracy': 0.93717277486911, 'confidence': 0.7032845675633216, 'avg_response_time': 7.121761079030724, 'max_response_time': 7.2560127503873435, 'contribution': 0.6573128068322287}, 'DenseNet201': {'accuracy': 0.9, 'confidence': 0.822292915770882, 'avg_response_time': 0.5840392203320444, 'max_response_time': 0.7171171364734032, 'contribution': 0.8026466871562757}, 'Xception': {'accuracy': 0.873015873015873, 'confidence': 0.7444515390686257, 'avg_response_time': 0.9911702208819156, 'max_response_time': 1.0693688646426827, 'contribution': 0.7424281608490717}, 'InceptionV3': {'accuracy': 0.8972972972972973, 'confidence': 0.790270902659442, 'avg_response_time': 0.5740069662589791, 'max_response_time': 0.6754832735299773, 'contribution': 0.782832466589438}}, 'input_state': {'input_file_length': 15, 'image_height': 224, 'image_width': 224}, 'distribution_weights': [1.0, 1.0, 1.0, 1.0, 1.0, 0.0, 0.0, 0.0, 0.0, 0.0, 0.0, 0.0, 0.0, 0.0, 0.0, 0.0, 0.0, 0.0, 0.0, 0.0]}\n",
      "REWARD:  0.8781725888324873\n",
      "No eligible models to score.\n"
     ]
    },
    {
     "name": "stderr",
     "output_type": "stream",
     "text": [
      "2025-01-24 16:40:39,649:INFO -- Action: Keeping the ensemble\n"
     ]
    },
    {
     "name": "stdout",
     "output_type": "stream",
     "text": [
      "STATE:  {'ensemble_state': {'total_energy_consumption': 0.023205572371097348, 'ensemble_size': 16}, 'model_states': {'InceptionResNetV2': {'accuracy': 0.9090909090909091, 'confidence': 0.7987762635404413, 'avg_response_time': 2.0681638791552874, 'max_response_time': 2.180662360029575, 'contribution': 0.7958981775575213}, 'MobileNetV2': {'accuracy': 0.8287292817679558, 'confidence': 0.6872741833576181, 'avg_response_time': 0.09685382742729531, 'max_response_time': 0.14616136826811602, 'contribution': 0.70625442167672}, 'ResNet50V2': {'accuracy': 0.7440476190476191, 'confidence': 0.6839517448984441, 'avg_response_time': 0.3915904660505848, 'max_response_time': 0.440641906697276, 'contribution': 0.7174077878395716}, 'ensemble': {'accuracy': 0.8787878787878788, 'confidence': 0.7462943045147477, 'avg_response_time': 6.996749859703007, 'max_response_time': 7.2646600209859935, 'contribution': 0.9087865570879946}, 'EfficientNetV2S': {'accuracy': 0.9333333333333333, 'confidence': 0.8150735592230772, 'avg_response_time': 1.145660680215012, 'max_response_time': 1.197277924930375, 'contribution': 0.7834065875945947}, 'NASNetLarge': {'accuracy': 0.9329896907216495, 'confidence': 0.8228037584688246, 'avg_response_time': 3.818827233794902, 'max_response_time': 3.937039179449276, 'contribution': 0.8071108922823188}, 'EfficientNetB7': {'accuracy': 0.9375, 'confidence': 0.7037625048930446, 'avg_response_time': 7.121599717005452, 'max_response_time': 7.2560127503873435, 'contribution': 0.6580301804157594}, 'DenseNet201': {'accuracy': 0.900523560209424, 'confidence': 0.8231742132396598, 'avg_response_time': 0.5840596871569127, 'max_response_time': 0.7171171364734032, 'contribution': 0.8036308444607321}, 'Xception': {'accuracy': 0.8736842105263158, 'confidence': 0.7456125361354727, 'avg_response_time': 0.9912155751121435, 'max_response_time': 1.0693688646426827, 'contribution': 0.743599807274969}, 'InceptionV3': {'accuracy': 0.8978494623655914, 'confidence': 0.7913908811025722, 'avg_response_time': 0.5741057306575548, 'max_response_time': 0.6754832735299773, 'contribution': 0.7839924366243424}}, 'input_state': {'input_file_length': 15, 'image_height': 224, 'image_width': 224}, 'distribution_weights': [1.0, 1.0, 1.0, 1.0, 1.0, 0.0, 0.0, 0.0, 0.0, 0.0, 0.0, 0.0, 0.0, 0.0, 0.0, 0.0, 0.0, 0.0, 0.0, 0.0]}\n",
      "REWARD:  0.8787878787878788\n"
     ]
    },
    {
     "name": "stderr",
     "output_type": "stream",
     "text": [
      "2025-01-24 16:40:40,530:INFO -- Action: Replacing a model\n"
     ]
    },
    {
     "name": "stdout",
     "output_type": "stream",
     "text": [
      "STATE:  {'ensemble_state': {'total_energy_consumption': 0.023205572371097348, 'ensemble_size': 16}, 'model_states': {'InceptionResNetV2': {'accuracy': 0.9095477386934674, 'confidence': 0.7994479740684356, 'avg_response_time': 2.0682712821950395, 'max_response_time': 2.180662360029575, 'contribution': 0.7965843508291484}, 'MobileNetV2': {'accuracy': 0.8296703296703297, 'confidence': 0.6874027576420333, 'avg_response_time': 0.09686090162757015, 'max_response_time': 0.14616136826811602, 'contribution': 0.706278708937404}, 'ResNet50V2': {'accuracy': 0.7455621301775148, 'confidence': 0.6855528469269092, 'avg_response_time': 0.39155904263971353, 'max_response_time': 0.440641906697276, 'contribution': 0.7188109251169058}, 'ensemble': {'accuracy': 0.8793969849246231, 'confidence': 0.7466889751174377, 'avg_response_time': 6.997304214162765, 'max_response_time': 7.2646600209859935, 'contribution': 0.9092382445706794}, 'EfficientNetV2S': {'accuracy': 0.9336734693877551, 'confidence': 0.8153915651598755, 'avg_response_time': 1.1456477141989327, 'max_response_time': 1.197277924930375, 'contribution': 0.783886159713171}, 'NASNetLarge': {'accuracy': 0.9333333333333333, 'confidence': 0.8229682751190968, 'avg_response_time': 3.8188087061233547, 'max_response_time': 3.937039179449276, 'contribution': 0.8073558851694449}, 'EfficientNetB7': {'accuracy': 0.9378238341968912, 'confidence': 0.7017241903228463, 'avg_response_time': 7.1214685574852, 'max_response_time': 7.2560127503873435, 'contribution': 0.6562288208946663}, 'DenseNet201': {'accuracy': 0.9010416666666666, 'confidence': 0.8237176025286317, 'avg_response_time': 0.5840006379370842, 'max_response_time': 0.7171171364734032, 'contribution': 0.8042760221287608}, 'Xception': {'accuracy': 0.8743455497382199, 'confidence': 0.7460692058371, 'avg_response_time': 0.9911955618761458, 'max_response_time': 1.0693688646426827, 'contribution': 0.7440670148240334}, 'InceptionV3': {'accuracy': 0.8983957219251337, 'confidence': 0.7919043334410152, 'avg_response_time': 0.574145256483128, 'max_response_time': 0.6754832735299773, 'contribution': 0.7845454528370005}}, 'input_state': {'input_file_length': 14, 'image_height': 224, 'image_width': 224}, 'distribution_weights': [1.0, 1.0, 1.0, 1.0, 1.0, 0.0, 0.0, 0.0, 0.0, 0.0, 0.0, 0.0, 0.0, 0.0, 0.0, 0.0, 0.0, 0.0, 0.0, 0.0]}\n",
      "REWARD:  0.8793969849246231\n",
      "Worst model: EfficientNetV2L with score: 0.5911481481481482\n",
      "Model 'EfficientNetV2L' successfully removed from the target YAML.\n",
      "Best model: EfficientNetV2L with score: 0.5911481481481482\n",
      "Model 'EfficientNetV2L' successfully added to the target YAML.\n"
     ]
    },
    {
     "name": "stderr",
     "output_type": "stream",
     "text": [
      "2025-01-24 16:40:41,562:INFO -- Action: Keeping the ensemble\n"
     ]
    },
    {
     "name": "stdout",
     "output_type": "stream",
     "text": [
      "STATE:  {'ensemble_state': {'total_energy_consumption': 0.023205572371097348, 'ensemble_size': 16}, 'model_states': {'InceptionResNetV2': {'accuracy': 0.91, 'confidence': 0.7999707433581352, 'avg_response_time': 2.0683523494345857, 'max_response_time': 2.180662360029575, 'contribution': 0.7971214382350444}, 'MobileNetV2': {'accuracy': 0.8306010928961749, 'confidence': 0.6881166992943144, 'avg_response_time': 0.09679322849047142, 'max_response_time': 0.14616136826811602, 'contribution': 0.7068895033148469}, 'ResNet50V2': {'accuracy': 0.7470588235294118, 'confidence': 0.6873268416699241, 'avg_response_time': 0.3915999981725191, 'max_response_time': 0.440641906697276, 'contribution': 0.7203892841058619}, 'ensemble': {'accuracy': 0.88, 'confidence': 0.7463587306099371, 'avg_response_time': 6.997741164446353, 'max_response_time': 7.2646600209859935, 'contribution': 0.9096277131140232}, 'EfficientNetV2S': {'accuracy': 0.934010152284264, 'confidence': 0.8155049733098994, 'avg_response_time': 1.1456419112858653, 'max_response_time': 1.197277924930375, 'contribution': 0.7841594937791679}, 'NASNetLarge': {'accuracy': 0.9336734693877551, 'confidence': 0.8226725988242091, 'avg_response_time': 3.8187354611786026, 'max_response_time': 3.937039179449276, 'contribution': 0.8071398639253208}, 'EfficientNetB7': {'accuracy': 0.9381443298969072, 'confidence': 0.7012585157278887, 'avg_response_time': 7.121240070792715, 'max_response_time': 7.2560127503873435, 'contribution': 0.655997658513256}, 'DenseNet201': {'accuracy': 0.9015544041450777, 'confidence': 0.8224774821434614, 'avg_response_time': 0.5839863397884418, 'max_response_time': 0.7171171364734032, 'contribution': 0.8031366353207919}, 'Xception': {'accuracy': 0.875, 'confidence': 0.7470762448695799, 'avg_response_time': 0.991046508335193, 'max_response_time': 1.0693688646426827, 'contribution': 0.7450844819347063}, 'InceptionV3': {'accuracy': 0.8936170212765957, 'confidence': 0.7876920763482439, 'avg_response_time': 0.5741882861746473, 'max_response_time': 0.6754832735299773, 'contribution': 0.7803723387261654}}, 'input_state': {'input_file_length': 14, 'image_height': 224, 'image_width': 224}, 'distribution_weights': [1.0, 1.0, 1.0, 1.0, 1.0, 0.0, 0.0, 0.0, 0.0, 0.0, 0.0, 0.0, 0.0, 0.0, 0.0, 0.0, 0.0, 0.0, 0.0, 0.0]}\n",
      "REWARD:  0.88\n"
     ]
    },
    {
     "name": "stderr",
     "output_type": "stream",
     "text": [
      "2025-01-24 16:40:42,474:INFO -- Action: Replacing a model\n"
     ]
    },
    {
     "name": "stdout",
     "output_type": "stream",
     "text": [
      "STATE:  {'ensemble_state': {'total_energy_consumption': 0.023205572371097348, 'ensemble_size': 16}, 'model_states': {'InceptionResNetV2': {'accuracy': 0.9104477611940298, 'confidence': 0.8001420592787254, 'avg_response_time': 2.067805739420543, 'max_response_time': 2.180662360029575, 'contribution': 0.7973069298030132}, 'MobileNetV2': {'accuracy': 0.8315217391304348, 'confidence': 0.6881096032650574, 'avg_response_time': 0.09678060937301257, 'max_response_time': 0.14616136826811602, 'contribution': 0.7067803811767827}, 'ResNet50V2': {'accuracy': 0.7485380116959064, 'confidence': 0.6890515442828686, 'avg_response_time': 0.3916455465276163, 'max_response_time': 0.440641906697276, 'contribution': 0.7219206391022219}, 'ensemble': {'accuracy': 0.8805970149253731, 'confidence': 0.746566002950738, 'avg_response_time': 6.9982128225757805, 'max_response_time': 7.2646600209859935, 'contribution': 0.9099890229417317}, 'EfficientNetV2S': {'accuracy': 0.9343434343434344, 'confidence': 0.8156911583259853, 'avg_response_time': 1.1456086815180435, 'max_response_time': 1.197277924930375, 'contribution': 0.7845039892979343}, 'NASNetLarge': {'accuracy': 0.934010152284264, 'confidence': 0.8229254871455546, 'avg_response_time': 3.818685322734424, 'max_response_time': 3.937039179449276, 'contribution': 0.8074715986167114}, 'EfficientNetB7': {'accuracy': 0.9384615384615385, 'confidence': 0.7008879727278, 'avg_response_time': 7.121043987112057, 'max_response_time': 7.2560127503873435, 'contribution': 0.6558592224732424}, 'DenseNet201': {'accuracy': 0.9020618556701031, 'confidence': 0.8229913069415338, 'avg_response_time': 0.5840258466565024, 'max_response_time': 0.7171171364734032, 'contribution': 0.8037501552055791}, 'Xception': {'accuracy': 0.8756476683937824, 'confidence': 0.7479819527252968, 'avg_response_time': 0.9910278573743727, 'max_response_time': 1.0693688646426827, 'contribution': 0.7460005098056299}, 'InceptionV3': {'accuracy': 0.8941798941798942, 'confidence': 0.7881435193712749, 'avg_response_time': 0.5742195067404845, 'max_response_time': 0.6754832735299773, 'contribution': 0.7808625105196837}}, 'input_state': {'input_file_length': 12, 'image_height': 224, 'image_width': 224}, 'distribution_weights': [1.0, 1.0, 1.0, 1.0, 1.0, 0.0, 0.0, 0.0, 0.0, 0.0, 0.0, 0.0, 0.0, 0.0, 0.0, 0.0, 0.0, 0.0, 0.0, 0.0]}\n",
      "REWARD:  0.8805970149253731\n",
      "Worst model: EfficientNetV2L with score: 0.5911481481481482\n",
      "Model 'EfficientNetV2L' successfully removed from the target YAML.\n",
      "Best model: EfficientNetV2L with score: 0.5911481481481482\n",
      "Model 'EfficientNetV2L' successfully added to the target YAML.\n"
     ]
    },
    {
     "name": "stderr",
     "output_type": "stream",
     "text": [
      "2025-01-24 16:40:43,572:INFO -- Action: Keeping the ensemble\n"
     ]
    },
    {
     "name": "stdout",
     "output_type": "stream",
     "text": [
      "STATE:  {'ensemble_state': {'total_energy_consumption': 0.023205572371097348, 'ensemble_size': 16}, 'model_states': {'InceptionResNetV2': {'accuracy': 0.9108910891089109, 'confidence': 0.800795039918163, 'avg_response_time': 2.067719996995315, 'max_response_time': 2.180662360029575, 'contribution': 0.7979739457368851}, 'MobileNetV2': {'accuracy': 0.8324324324324325, 'confidence': 0.6896138178335653, 'avg_response_time': 0.09682752153289884, 'max_response_time': 0.14616136826811602, 'contribution': 0.7081836726214434}, 'ResNet50V2': {'accuracy': 0.75, 'confidence': 0.6908181720348292, 'avg_response_time': 0.39165261318167194, 'max_response_time': 0.440641906697276, 'contribution': 0.7234961674656979}, 'ensemble': {'accuracy': 0.8811881188118812, 'confidence': 0.7472663464720282, 'avg_response_time': 6.998763447863925, 'max_response_time': 7.2646600209859935, 'contribution': 0.9103995303411295}, 'EfficientNetV2S': {'accuracy': 0.9346733668341709, 'confidence': 0.8159537288411778, 'avg_response_time': 1.14557476978491, 'max_response_time': 1.197277924930375, 'contribution': 0.7849232792554788}, 'NASNetLarge': {'accuracy': 0.9343434343434344, 'confidence': 0.8234084046850301, 'avg_response_time': 3.8187350712040806, 'max_response_time': 3.937039179449276, 'contribution': 0.8080325660982517}, 'EfficientNetB7': {'accuracy': 0.9387755102040817, 'confidence': 0.7009596832248629, 'avg_response_time': 7.120930443857425, 'max_response_time': 7.2560127503873435, 'contribution': 0.6561606714920122}, 'DenseNet201': {'accuracy': 0.9025641025641026, 'confidence': 0.823535173978561, 'avg_response_time': 0.5840357556274998, 'max_response_time': 0.7171171364734032, 'contribution': 0.8043926948156113}, 'Xception': {'accuracy': 0.8762886597938144, 'confidence': 0.74903304874897, 'avg_response_time': 0.9909999770025292, 'max_response_time': 1.0693688646426827, 'contribution': 0.7470618194526004}, 'InceptionV3': {'accuracy': 0.8947368421052632, 'confidence': 0.7891836320099078, 'avg_response_time': 0.5741635190996431, 'max_response_time': 0.6754832735299773, 'contribution': 0.7819409442575355}}, 'input_state': {'input_file_length': 14, 'image_height': 224, 'image_width': 224}, 'distribution_weights': [1.0, 1.0, 1.0, 1.0, 1.0, 0.0, 0.0, 0.0, 0.0, 0.0, 0.0, 0.0, 0.0, 0.0, 0.0, 0.0, 0.0, 0.0, 0.0, 0.0]}\n",
      "REWARD:  0.8811881188118812\n"
     ]
    },
    {
     "name": "stderr",
     "output_type": "stream",
     "text": [
      "2025-01-24 16:40:44,490:INFO -- Action: Adding a model\n"
     ]
    },
    {
     "name": "stdout",
     "output_type": "stream",
     "text": [
      "STATE:  {'ensemble_state': {'total_energy_consumption': 0.023205572371097348, 'ensemble_size': 16}, 'model_states': {'InceptionResNetV2': {'accuracy': 0.9113300492610837, 'confidence': 0.8003109658292948, 'avg_response_time': 2.067714749780191, 'max_response_time': 2.180662360029575, 'contribution': 0.7975037686636882}, 'MobileNetV2': {'accuracy': 0.8333333333333334, 'confidence': 0.6875834833550197, 'avg_response_time': 0.09677048630925776, 'max_response_time': 0.14616136826811602, 'contribution': 0.7060535002139307}, 'ResNet50V2': {'accuracy': 0.7456647398843931, 'confidence': 0.6868250034103504, 'avg_response_time': 0.39177634205600187, 'max_response_time': 0.440641906697276, 'contribution': 0.7193141086942199}, 'ensemble': {'accuracy': 0.8817733990147784, 'confidence': 0.7471467484224005, 'avg_response_time': 6.9992809538810095, 'max_response_time': 7.2646600209859935, 'contribution': 0.9059148035906806}, 'EfficientNetV2S': {'accuracy': 0.935, 'confidence': 0.815955537557602, 'avg_response_time': 1.1454592820805873, 'max_response_time': 1.197277924930375, 'contribution': 0.7850802402198315}, 'NASNetLarge': {'accuracy': 0.9346733668341709, 'confidence': 0.8236426735044124, 'avg_response_time': 3.8187868706814987, 'max_response_time': 3.937039179449276, 'contribution': 0.8083441004381707}, 'EfficientNetB7': {'accuracy': 0.9390862944162437, 'confidence': 0.7011298193846862, 'avg_response_time': 7.120802826086728, 'max_response_time': 7.2560127503873435, 'contribution': 0.6565582138027637}, 'DenseNet201': {'accuracy': 0.9030612244897959, 'confidence': 0.8225516530932212, 'avg_response_time': 0.584114915344921, 'max_response_time': 0.7171171364734032, 'contribution': 0.8035068396402865}, 'Xception': {'accuracy': 0.8717948717948718, 'confidence': 0.7451918536271804, 'avg_response_time': 0.990967025912254, 'max_response_time': 1.0693688646426827, 'contribution': 0.7432307331989974}, 'InceptionV3': {'accuracy': 0.8952879581151832, 'confidence': 0.7896735421650073, 'avg_response_time': 0.5741447160394842, 'max_response_time': 0.6754832735299773, 'contribution': 0.7824687742437991}}, 'input_state': {'input_file_length': 14, 'image_height': 224, 'image_width': 224}, 'distribution_weights': [1.0, 1.0, 1.0, 1.0, 1.0, 0.0, 0.0, 0.0, 0.0, 0.0, 0.0, 0.0, 0.0, 0.0, 0.0, 0.0, 0.0, 0.0, 0.0, 0.0]}\n",
      "REWARD:  0.8817733990147784\n",
      "No eligible models to score.\n"
     ]
    },
    {
     "name": "stderr",
     "output_type": "stream",
     "text": [
      "2025-01-24 16:40:45,323:INFO -- Action: Keeping the ensemble\n"
     ]
    },
    {
     "name": "stdout",
     "output_type": "stream",
     "text": [
      "STATE:  {'ensemble_state': {'total_energy_consumption': 0.023205572371097348, 'ensemble_size': 16}, 'model_states': {'InceptionResNetV2': {'accuracy': 0.9117647058823529, 'confidence': 0.8009597442898095, 'avg_response_time': 2.0677286927640535, 'max_response_time': 2.180662360029575, 'contribution': 0.7981663078946226}, 'MobileNetV2': {'accuracy': 0.8342245989304813, 'confidence': 0.6889710764196467, 'avg_response_time': 0.09675685866893528, 'max_response_time': 0.14616136826811602, 'contribution': 0.7073423231349272}, 'ResNet50V2': {'accuracy': 0.7471264367816092, 'confidence': 0.6886222518381031, 'avg_response_time': 0.39189007232696804, 'max_response_time': 0.440641906697276, 'contribution': 0.7209246381260883}, 'ensemble': {'accuracy': 0.8823529411764706, 'confidence': 0.7480573909589459, 'avg_response_time': 6.999945497486993, 'max_response_time': 7.2646600209859935, 'contribution': 0.9063745992732983}, 'EfficientNetV2S': {'accuracy': 0.9353233830845771, 'confidence': 0.8165177744419421, 'avg_response_time': 1.1453381122362627, 'max_response_time': 1.197277924930375, 'contribution': 0.7857960855486381}, 'NASNetLarge': {'accuracy': 0.935, 'confidence': 0.8239052924513817, 'avg_response_time': 3.8188745705071563, 'max_response_time': 3.937039179449276, 'contribution': 0.8086832122504711}, 'EfficientNetB7': {'accuracy': 0.9393939393939394, 'confidence': 0.7018134905533358, 'avg_response_time': 7.1208013680558855, 'max_response_time': 7.2560127503873435, 'contribution': 0.6574669940905138}, 'DenseNet201': {'accuracy': 0.9035532994923858, 'confidence': 0.8234509498939901, 'avg_response_time': 0.5840430983495111, 'max_response_time': 0.7171171364734032, 'contribution': 0.8045028106210196}, 'Xception': {'accuracy': 0.8724489795918368, 'confidence': 0.745577484825436, 'avg_response_time': 0.9910168912304753, 'max_response_time': 1.0693688646426827, 'contribution': 0.7436263701137231}, 'InceptionV3': {'accuracy': 0.8958333333333334, 'confidence': 0.7907031824191412, 'avg_response_time': 0.5742531471561242, 'max_response_time': 0.6754832735299773, 'contribution': 0.783535939330856}}, 'input_state': {'input_file_length': 15, 'image_height': 224, 'image_width': 224}, 'distribution_weights': [1.0, 1.0, 1.0, 1.0, 1.0, 0.0, 0.0, 0.0, 0.0, 0.0, 0.0, 0.0, 0.0, 0.0, 0.0, 0.0, 0.0, 0.0, 0.0, 0.0]}\n",
      "REWARD:  0.8823529411764706\n"
     ]
    },
    {
     "name": "stderr",
     "output_type": "stream",
     "text": [
      "2025-01-24 16:40:46,173:INFO -- Action: Keeping the ensemble\n"
     ]
    },
    {
     "name": "stdout",
     "output_type": "stream",
     "text": [
      "STATE:  {'ensemble_state': {'total_energy_consumption': 0.023205572371097348, 'ensemble_size': 16}, 'model_states': {'InceptionResNetV2': {'accuracy': 0.9121951219512195, 'confidence': 0.8014515152791651, 'avg_response_time': 2.0678493121965453, 'max_response_time': 2.180662360029575, 'contribution': 0.7942728137097708}, 'MobileNetV2': {'accuracy': 0.8351063829787234, 'confidence': 0.6893899900482056, 'avg_response_time': 0.09678630364441188, 'max_response_time': 0.14616136826811602, 'contribution': 0.7035798639693158}, 'ResNet50V2': {'accuracy': 0.7428571428571429, 'confidence': 0.6846872675418854, 'avg_response_time': 0.3919324049558248, 'max_response_time': 0.440641906697276, 'contribution': 0.7221881158011301}, 'ensemble': {'accuracy': 0.8780487804878049, 'confidence': 0.7444083305152437, 'avg_response_time': 7.000441578788181, 'max_response_time': 7.2646600209859935, 'contribution': 0.901953259764648}, 'EfficientNetV2S': {'accuracy': 0.9356435643564357, 'confidence': 0.8169883324368166, 'avg_response_time': 1.1453185895619105, 'max_response_time': 1.197277924930375, 'contribution': 0.7819060059172092}, 'NASNetLarge': {'accuracy': 0.9353233830845771, 'confidence': 0.8243820207629038, 'avg_response_time': 3.8188776717294965, 'max_response_time': 3.937039179449276, 'contribution': 0.804659912687036}, 'EfficientNetB7': {'accuracy': 0.9396984924623115, 'confidence': 0.7021402975722174, 'avg_response_time': 7.120623183409136, 'max_response_time': 7.2560127503873435, 'contribution': 0.6541631398488529}, 'DenseNet201': {'accuracy': 0.9040404040404041, 'confidence': 0.8243050894351921, 'avg_response_time': 0.5839864470868773, 'max_response_time': 0.7171171364734032, 'contribution': 0.8004396651128326}, 'Xception': {'accuracy': 0.8730964467005076, 'confidence': 0.7463967474886608, 'avg_response_time': 0.9910147810253654, 'max_response_time': 1.0693688646426827, 'contribution': 0.7398516169659377}, 'InceptionV3': {'accuracy': 0.8963730569948186, 'confidence': 0.7915740819175009, 'avg_response_time': 0.5743427836567985, 'max_response_time': 0.6754832735299773, 'contribution': 0.7794761676244785}}, 'input_state': {'input_file_length': 14, 'image_height': 224, 'image_width': 224}, 'distribution_weights': [1.0, 1.0, 1.0, 1.0, 1.0, 0.0, 0.0, 0.0, 0.0, 0.0, 0.0, 0.0, 0.0, 0.0, 0.0, 0.0, 0.0, 0.0, 0.0, 0.0]}\n",
      "REWARD:  0.8780487804878049\n",
      "STATE:  {'ensemble_state': {'total_energy_consumption': 0.023205572371097348, 'ensemble_size': 16}, 'model_states': {'InceptionResNetV2': {'accuracy': 0.9077669902912622, 'confidence': 0.7975609739428585, 'avg_response_time': 2.0679582911246386, 'max_response_time': 2.180662360029575, 'contribution': 0.790417120439335}, 'MobileNetV2': {'accuracy': 0.8306878306878307, 'confidence': 0.6857424239632944, 'avg_response_time': 0.09679470917781197, 'max_response_time': 0.14616136826811602, 'contribution': 0.6998572191864094}, 'ResNet50V2': {'accuracy': 0.7386363636363636, 'confidence': 0.6807969989763065, 'avg_response_time': 0.3918826736155129, 'max_response_time': 0.440641906697276, 'contribution': 0.7180847742340781}, 'ensemble': {'accuracy': 0.8786407766990292, 'confidence': 0.7437288239213433, 'avg_response_time': 7.00091050604335, 'max_response_time': 7.2646600209859935, 'contribution': 0.9018394471082872}, 'EfficientNetV2S': {'accuracy': 0.9359605911330049, 'confidence': 0.8172913842600554, 'avg_response_time': 1.1452597757200884, 'max_response_time': 1.197277924930375, 'contribution': 0.7823818770829093}, 'NASNetLarge': {'accuracy': 0.9306930693069307, 'confidence': 0.8203009216502162, 'avg_response_time': 3.8188440485291513, 'max_response_time': 3.937039179449276, 'contribution': 0.8006764477727437}, 'EfficientNetB7': {'accuracy': 0.94, 'confidence': 0.7021076093614101, 'avg_response_time': 7.12046117074768, 'max_response_time': 7.2560127503873435, 'contribution': 0.6543703374266624}, 'DenseNet201': {'accuracy': 0.9045226130653267, 'confidence': 0.822632028379632, 'avg_response_time': 0.5839593444131387, 'max_response_time': 0.7171171364734032, 'contribution': 0.7988865308126613}, 'Xception': {'accuracy': 0.8686868686868687, 'confidence': 0.7426270669457888, 'avg_response_time': 0.9910960221060199, 'max_response_time': 1.0693688646426827, 'contribution': 0.736114992637827}, 'InceptionV3': {'accuracy': 0.8917525773195877, 'confidence': 0.7874938031447303, 'avg_response_time': 0.574343063132243, 'max_response_time': 0.6754832735299773, 'contribution': 0.7754582492346617}}, 'input_state': {'input_file_length': 14, 'image_height': 224, 'image_width': 224}, 'distribution_weights': [1.0, 1.0, 1.0, 1.0, 1.0, 0.0, 0.0, 0.0, 0.0, 0.0, 0.0, 0.0, 0.0, 0.0, 0.0, 0.0, 0.0, 0.0, 0.0, 0.0]}\n",
      "REWARD:  0.8786407766990292\n"
     ]
    },
    {
     "name": "stderr",
     "output_type": "stream",
     "text": [
      "2025-01-24 16:40:47,277:INFO -- Action: Adding a model\n"
     ]
    },
    {
     "name": "stdout",
     "output_type": "stream",
     "text": [
      "No eligible models to score.\n"
     ]
    },
    {
     "name": "stderr",
     "output_type": "stream",
     "text": [
      "2025-01-24 16:40:48,097:INFO -- Action: Replacing a model\n"
     ]
    },
    {
     "name": "stdout",
     "output_type": "stream",
     "text": [
      "STATE:  {'ensemble_state': {'total_energy_consumption': 0.023205572371097348, 'ensemble_size': 16}, 'model_states': {'InceptionResNetV2': {'accuracy': 0.9082125603864735, 'confidence': 0.7982947757278663, 'avg_response_time': 2.0679122826090883, 'max_response_time': 2.180662360029575, 'contribution': 0.7911854335939251}, 'MobileNetV2': {'accuracy': 0.8315789473684211, 'confidence': 0.6851932105265166, 'avg_response_time': 0.09679257249285911, 'max_response_time': 0.14616136826811602, 'contribution': 0.6992337173537204}, 'ResNet50V2': {'accuracy': 0.7401129943502824, 'confidence': 0.6822818384668922, 'avg_response_time': 0.39189459010962185, 'max_response_time': 0.440641906697276, 'contribution': 0.7193589483277273}, 'ensemble': {'accuracy': 0.8792270531400966, 'confidence': 0.7441889994399257, 'avg_response_time': 7.001790591736308, 'max_response_time': 7.2646600209859935, 'contribution': 0.9022915805307563}, 'EfficientNetV2S': {'accuracy': 0.9362745098039216, 'confidence': 0.8175071460359237, 'avg_response_time': 1.145248003018999, 'max_response_time': 1.197277924930375, 'contribution': 0.7827687638939596}, 'NASNetLarge': {'accuracy': 0.9310344827586207, 'confidence': 0.820687341278997, 'avg_response_time': 3.8189672392191643, 'max_response_time': 3.937039179449276, 'contribution': 0.8011595396866352}, 'EfficientNetB7': {'accuracy': 0.9402985074626866, 'confidence': 0.7023700770750567, 'avg_response_time': 7.120722260043916, 'max_response_time': 7.2560127503873435, 'contribution': 0.654870304005656}, 'DenseNet201': {'accuracy': 0.905, 'confidence': 0.8234960235655308, 'avg_response_time': 0.5840944575194147, 'max_response_time': 0.7171171364734032, 'contribution': 0.7998692534863949}, 'Xception': {'accuracy': 0.8693467336683417, 'confidence': 0.743506839676718, 'avg_response_time': 0.9910856267967236, 'max_response_time': 1.0693688646426827, 'contribution': 0.7370274893602534}, 'InceptionV3': {'accuracy': 0.8923076923076924, 'confidence': 0.7885160754888486, 'avg_response_time': 0.5743926155157432, 'max_response_time': 0.6754832735299773, 'contribution': 0.7765422423680624}}, 'input_state': {'input_file_length': 14, 'image_height': 224, 'image_width': 224}, 'distribution_weights': [1.0, 1.0, 1.0, 1.0, 1.0, 0.0, 0.0, 0.0, 0.0, 0.0, 0.0, 0.0, 0.0, 0.0, 0.0, 0.0, 0.0, 0.0, 0.0, 0.0]}\n",
      "REWARD:  0.8792270531400966\n",
      "Worst model: EfficientNetV2L with score: 0.5911481481481482\n",
      "Model 'EfficientNetV2L' successfully removed from the target YAML.\n",
      "Best model: EfficientNetV2L with score: 0.5911481481481482\n",
      "Model 'EfficientNetV2L' successfully added to the target YAML.\n"
     ]
    },
    {
     "name": "stderr",
     "output_type": "stream",
     "text": [
      "2025-01-24 16:40:49,130:INFO -- Action: Replacing a model\n"
     ]
    },
    {
     "name": "stdout",
     "output_type": "stream",
     "text": [
      "STATE:  {'ensemble_state': {'total_energy_consumption': 0.023205572371097348, 'ensemble_size': 16}, 'model_states': {'InceptionResNetV2': {'accuracy': 0.9086538461538461, 'confidence': 0.7988805318107972, 'avg_response_time': 2.068011617288726, 'max_response_time': 2.180662360029575, 'contribution': 0.791805369206346}, 'MobileNetV2': {'accuracy': 0.8324607329842932, 'confidence': 0.6864378343077855, 'avg_response_time': 0.09672984999611373, 'max_response_time': 0.14616136826811602, 'contribution': 0.7004048306280406}, 'ResNet50V2': {'accuracy': 0.7415730337078652, 'confidence': 0.6840663520472773, 'avg_response_time': 0.3920244470041389, 'max_response_time': 0.440641906697276, 'contribution': 0.7209351635381077}, 'ensemble': {'accuracy': 0.8798076923076923, 'confidence': 0.7450888668199843, 'avg_response_time': 7.002538687422898, 'max_response_time': 7.2646600209859935, 'contribution': 0.902760973200202}, 'EfficientNetV2S': {'accuracy': 0.9365853658536586, 'confidence': 0.8180856059237225, 'avg_response_time': 1.1452131172653888, 'max_response_time': 1.197277924930375, 'contribution': 0.783516679304402}, 'NASNetLarge': {'accuracy': 0.9313725490196079, 'confidence': 0.8209731190227995, 'avg_response_time': 3.8190295856757506, 'max_response_time': 3.937039179449276, 'contribution': 0.8015410419480473}, 'EfficientNetB7': {'accuracy': 0.9405940594059405, 'confidence': 0.7024196281586543, 'avg_response_time': 7.120843874497014, 'max_response_time': 7.2560127503873435, 'contribution': 0.6551550024806863}, 'DenseNet201': {'accuracy': 0.9054726368159204, 'confidence': 0.8243570367791759, 'avg_response_time': 0.5842385539392176, 'max_response_time': 0.7171171364734032, 'contribution': 0.8008478128198367}, 'Xception': {'accuracy': 0.87, 'confidence': 0.744518188983202, 'avg_response_time': 0.9910641404761286, 'max_response_time': 1.0693688646426827, 'contribution': 0.7380712354183196}, 'InceptionV3': {'accuracy': 0.8928571428571429, 'confidence': 0.7895800957874376, 'avg_response_time': 0.5744285529671853, 'max_response_time': 0.6754832735299773, 'contribution': 0.7776673536519615}}, 'input_state': {'input_file_length': 15, 'image_height': 224, 'image_width': 224}, 'distribution_weights': [1.0, 1.0, 1.0, 1.0, 1.0, 0.0, 0.0, 0.0, 0.0, 0.0, 0.0, 0.0, 0.0, 0.0, 0.0, 0.0, 0.0, 0.0, 0.0, 0.0]}\n",
      "REWARD:  0.8798076923076923\n",
      "Worst model: EfficientNetV2L with score: 0.5911481481481482\n",
      "Model 'EfficientNetV2L' successfully removed from the target YAML.\n",
      "Best model: EfficientNetV2L with score: 0.5911481481481482\n",
      "Model 'EfficientNetV2L' successfully added to the target YAML.\n"
     ]
    },
    {
     "name": "stderr",
     "output_type": "stream",
     "text": [
      "2025-01-24 16:40:50,222:INFO -- Action: Adding a model\n"
     ]
    },
    {
     "name": "stdout",
     "output_type": "stream",
     "text": [
      "STATE:  {'ensemble_state': {'total_energy_consumption': 0.023205572371097348, 'ensemble_size': 16}, 'model_states': {'InceptionResNetV2': {'accuracy': 0.9090909090909091, 'confidence': 0.7992784514951934, 'avg_response_time': 2.067986841071593, 'max_response_time': 2.180662360029575, 'contribution': 0.7922371413433951}, 'MobileNetV2': {'accuracy': 0.8333333333333334, 'confidence': 0.6845082476114234, 'avg_response_time': 0.09675786038340906, 'max_response_time': 0.14616136826811602, 'contribution': 0.6984024991591772}, 'ResNet50V2': {'accuracy': 0.7430167597765364, 'confidence': 0.6844924873146931, 'avg_response_time': 0.3919370905677372, 'max_response_time': 0.440641906697276, 'contribution': 0.7211553277916083}, 'ensemble': {'accuracy': 0.8803827751196173, 'confidence': 0.7450739121651561, 'avg_response_time': 7.003285744232983, 'max_response_time': 7.2646600209859935, 'contribution': 0.9029344892102565}, 'EfficientNetV2S': {'accuracy': 0.9368932038834952, 'confidence': 0.8184724678692309, 'avg_response_time': 1.1451669335124977, 'max_response_time': 1.197277924930375, 'contribution': 0.7840713515733052}, 'NASNetLarge': {'accuracy': 0.9317073170731708, 'confidence': 0.8213302501818028, 'avg_response_time': 3.8191220315079866, 'max_response_time': 3.937039179449276, 'contribution': 0.8019929637269276}, 'EfficientNetB7': {'accuracy': 0.9408866995073891, 'confidence': 0.7029525295560584, 'avg_response_time': 7.120964784541668, 'max_response_time': 7.2560127503873435, 'contribution': 0.6559207345464547}, 'DenseNet201': {'accuracy': 0.900990099009901, 'confidence': 0.8202760613495761, 'avg_response_time': 0.5844357705299003, 'max_response_time': 0.7171171364734032, 'contribution': 0.7968832196870653}, 'Xception': {'accuracy': 0.8706467661691543, 'confidence': 0.7454571876656356, 'avg_response_time': 0.9910302414520503, 'max_response_time': 1.0693688646426827, 'contribution': 0.7390423084965986}, 'InceptionV3': {'accuracy': 0.8934010152284264, 'confidence': 0.7894121006055532, 'avg_response_time': 0.574312853682345, 'max_response_time': 0.6754832735299773, 'contribution': 0.7775598292423384}}, 'input_state': {'input_file_length': 15, 'image_height': 224, 'image_width': 224}, 'distribution_weights': [1.0, 1.0, 1.0, 1.0, 1.0, 0.0, 0.0, 0.0, 0.0, 0.0, 0.0, 0.0, 0.0, 0.0, 0.0, 0.0, 0.0, 0.0, 0.0, 0.0]}\n",
      "REWARD:  0.8803827751196173\n",
      "No eligible models to score.\n"
     ]
    },
    {
     "name": "stderr",
     "output_type": "stream",
     "text": [
      "2025-01-24 16:40:51,081:INFO -- Action: Replacing a model\n"
     ]
    },
    {
     "name": "stdout",
     "output_type": "stream",
     "text": [
      "STATE:  {'ensemble_state': {'total_energy_consumption': 0.023205572371097348, 'ensemble_size': 16}, 'model_states': {'InceptionResNetV2': {'accuracy': 0.9095238095238095, 'confidence': 0.7998332125799996, 'avg_response_time': 2.068119107746653, 'max_response_time': 2.180662360029575, 'contribution': 0.7928254324765432}, 'MobileNetV2': {'accuracy': 0.8341968911917098, 'confidence': 0.6857487648879926, 'avg_response_time': 0.09671614961990269, 'max_response_time': 0.14616136826811602, 'contribution': 0.6995710254950844}, 'ResNet50V2': {'accuracy': 0.7444444444444445, 'confidence': 0.686244725353188, 'avg_response_time': 0.3919671583446452, 'max_response_time': 0.440641906697276, 'contribution': 0.7227038833830092}, 'ensemble': {'accuracy': 0.8809523809523809, 'confidence': 0.7459381912691846, 'avg_response_time': 7.003837659774798, 'max_response_time': 7.2646600209859935, 'contribution': 0.90339620751994}, 'EfficientNetV2S': {'accuracy': 0.9371980676328503, 'confidence': 0.8190115459875208, 'avg_response_time': 1.1450912307432375, 'max_response_time': 1.197277924930375, 'contribution': 0.7847766186592083}, 'NASNetLarge': {'accuracy': 0.9320388349514563, 'confidence': 0.821739786458247, 'avg_response_time': 3.8190963441908368, 'max_response_time': 3.937039179449276, 'contribution': 0.8024963703259681}, 'EfficientNetB7': {'accuracy': 0.9411764705882353, 'confidence': 0.7035488987378046, 'avg_response_time': 7.120905038650583, 'max_response_time': 7.2560127503873435, 'contribution': 0.6567476517429539}, 'DenseNet201': {'accuracy': 0.9014778325123153, 'confidence': 0.8210022007596904, 'avg_response_time': 0.5841583635124539, 'max_response_time': 0.7171171364734032, 'contribution': 0.7977245947703939}, 'Xception': {'accuracy': 0.8712871287128713, 'confidence': 0.7458287596997648, 'avg_response_time': 0.9909793170501999, 'max_response_time': 1.0693688646426827, 'contribution': 0.7394456373582973}, 'InceptionV3': {'accuracy': 0.8939393939393939, 'confidence': 0.7903923193613688, 'avg_response_time': 0.5743506725104481, 'max_response_time': 0.6754832735299773, 'contribution': 0.7785999079545339}}, 'input_state': {'input_file_length': 14, 'image_height': 224, 'image_width': 224}, 'distribution_weights': [1.0, 1.0, 1.0, 1.0, 1.0, 0.0, 0.0, 0.0, 0.0, 0.0, 0.0, 0.0, 0.0, 0.0, 0.0, 0.0, 0.0, 0.0, 0.0, 0.0]}\n",
      "REWARD:  0.8809523809523809\n",
      "Worst model: EfficientNetV2L with score: 0.5911481481481482\n",
      "Model 'EfficientNetV2L' successfully removed from the target YAML.\n",
      "Best model: EfficientNetV2L with score: 0.5911481481481482\n",
      "Model 'EfficientNetV2L' successfully added to the target YAML.\n"
     ]
    },
    {
     "name": "stderr",
     "output_type": "stream",
     "text": [
      "2025-01-24 16:40:52,118:INFO -- Action: Replacing a model\n"
     ]
    },
    {
     "name": "stdout",
     "output_type": "stream",
     "text": [
      "STATE:  {'ensemble_state': {'total_energy_consumption': 0.023205572371097348, 'ensemble_size': 16}, 'model_states': {'InceptionResNetV2': {'accuracy': 0.909952606635071, 'confidence': 0.8005031655185031, 'avg_response_time': 2.067726800687886, 'max_response_time': 2.180662360029575, 'contribution': 0.7935285976430251}, 'MobileNetV2': {'accuracy': 0.8350515463917526, 'confidence': 0.6872982152344025, 'avg_response_time': 0.09676479787235452, 'max_response_time': 0.14616136826811602, 'contribution': 0.7010492270754785}, 'ResNet50V2': {'accuracy': 0.7458563535911602, 'confidence': 0.6879634354983905, 'avg_response_time': 0.3920201573527991, 'max_response_time': 0.440641906697276, 'contribution': 0.7242211617158921}, 'ensemble': {'accuracy': 0.8815165876777251, 'confidence': 0.7468783780739985, 'avg_response_time': 7.004504335186485, 'max_response_time': 7.2646600209859935, 'contribution': 0.9038496459547377}, 'EfficientNetV2S': {'accuracy': 0.9375, 'confidence': 0.8195089597541553, 'avg_response_time': 1.145088481229638, 'max_response_time': 1.197277924930375, 'contribution': 0.7854386234226135}, 'NASNetLarge': {'accuracy': 0.9323671497584541, 'confidence': 0.8220792173763404, 'avg_response_time': 3.819218642199991, 'max_response_time': 3.937039179449276, 'contribution': 0.8029287646070195}, 'EfficientNetB7': {'accuracy': 0.9414634146341463, 'confidence': 0.7040347688081788, 'avg_response_time': 7.120979929732986, 'max_response_time': 7.2560127503873435, 'contribution': 0.6574618205791567}, 'DenseNet201': {'accuracy': 0.9019607843137255, 'confidence': 0.8218481957035906, 'avg_response_time': 0.5841424848959416, 'max_response_time': 0.7171171364734032, 'contribution': 0.7986846956260064}, 'Xception': {'accuracy': 0.8719211822660099, 'confidence': 0.7462684933481545, 'avg_response_time': 0.9906594301065306, 'max_response_time': 1.0693688646426827, 'contribution': 0.739916814959108}, 'InceptionV3': {'accuracy': 0.8944723618090452, 'confidence': 0.7913598732732648, 'avg_response_time': 0.5744033227769576, 'max_response_time': 0.6754832735299773, 'contribution': 0.779626720215208}}, 'input_state': {'input_file_length': 15, 'image_height': 224, 'image_width': 224}, 'distribution_weights': [1.0, 1.0, 1.0, 1.0, 1.0, 0.0, 0.0, 0.0, 0.0, 0.0, 0.0, 0.0, 0.0, 0.0, 0.0, 0.0, 0.0, 0.0, 0.0, 0.0]}\n",
      "REWARD:  0.8815165876777251\n",
      "Worst model: EfficientNetV2L with score: 0.5911481481481482\n",
      "Model 'EfficientNetV2L' successfully removed from the target YAML.\n",
      "Best model: EfficientNetV2L with score: 0.5911481481481482\n",
      "Model 'EfficientNetV2L' successfully added to the target YAML.\n"
     ]
    },
    {
     "name": "stderr",
     "output_type": "stream",
     "text": [
      "2025-01-24 16:40:53,239:INFO -- Action: Adding a model\n"
     ]
    },
    {
     "name": "stdout",
     "output_type": "stream",
     "text": [
      "STATE:  {'ensemble_state': {'total_energy_consumption': 0.023205572371097348, 'ensemble_size': 16}, 'model_states': {'InceptionResNetV2': {'accuracy': 0.910377358490566, 'confidence': 0.8007318686764195, 'avg_response_time': 2.067769010731131, 'max_response_time': 2.180662360029575, 'contribution': 0.7937901997060146}, 'MobileNetV2': {'accuracy': 0.8358974358974359, 'confidence': 0.6882606683633267, 'avg_response_time': 0.09675544930866688, 'max_response_time': 0.14616136826811602, 'contribution': 0.7019411621949612}, 'ResNet50V2': {'accuracy': 0.7417582417582418, 'confidence': 0.6841834166220256, 'avg_response_time': 0.39197944371702537, 'max_response_time': 0.440641906697276, 'contribution': 0.720241924563607}, 'ensemble': {'accuracy': 0.8820754716981132, 'confidence': 0.7466762475558952, 'avg_response_time': 7.005135152186822, 'max_response_time': 7.2646600209859935, 'contribution': 0.903783565000543}, 'EfficientNetV2S': {'accuracy': 0.937799043062201, 'confidence': 0.8194863656491184, 'avg_response_time': 1.1450990121762779, 'max_response_time': 1.197277924930375, 'contribution': 0.7855790452808855}, 'NASNetLarge': {'accuracy': 0.9326923076923077, 'confidence': 0.8224049926950381, 'avg_response_time': 3.8199638926035444, 'max_response_time': 3.974230726139105, 'contribution': 0.8033466094101851}, 'EfficientNetB7': {'accuracy': 0.941747572815534, 'confidence': 0.7034948090615781, 'avg_response_time': 7.1210057939833575, 'max_response_time': 7.2560127503873435, 'contribution': 0.6571479431055125}, 'DenseNet201': {'accuracy': 0.9024390243902439, 'confidence': 0.8215280540105773, 'avg_response_time': 0.5839276075571787, 'max_response_time': 0.7171171364734032, 'contribution': 0.7984775466162984}, 'Xception': {'accuracy': 0.8725490196078431, 'confidence': 0.7467261682830605, 'avg_response_time': 0.9906496042750333, 'max_response_time': 1.0693688646426827, 'contribution': 0.7404056255723915}, 'InceptionV3': {'accuracy': 0.895, 'confidence': 0.7915304830670357, 'avg_response_time': 0.574056884955513, 'max_response_time': 0.6754832735299773, 'contribution': 0.7798559957742691}}, 'input_state': {'input_file_length': 14, 'image_height': 224, 'image_width': 224}, 'distribution_weights': [1.0, 1.0, 1.0, 1.0, 1.0, 0.0, 0.0, 0.0, 0.0, 0.0, 0.0, 0.0, 0.0, 0.0, 0.0, 0.0, 0.0, 0.0, 0.0, 0.0]}\n",
      "REWARD:  0.8820754716981132\n",
      "No eligible models to score.\n"
     ]
    },
    {
     "name": "stderr",
     "output_type": "stream",
     "text": [
      "2025-01-24 16:40:54,086:INFO -- Action: Keeping the ensemble\n"
     ]
    },
    {
     "name": "stdout",
     "output_type": "stream",
     "text": [
      "STATE:  {'ensemble_state': {'total_energy_consumption': 0.023205572371097348, 'ensemble_size': 16}, 'model_states': {'InceptionResNetV2': {'accuracy': 0.9107981220657277, 'confidence': 0.8012929754637776, 'avg_response_time': 2.067838691022815, 'max_response_time': 2.180662360029575, 'contribution': 0.7943838964885389}, 'MobileNetV2': {'accuracy': 0.8367346938775511, 'confidence': 0.6888467295437443, 'avg_response_time': 0.09673065516058248, 'max_response_time': 0.14616136826811602, 'contribution': 0.7024574249374623}, 'ResNet50V2': {'accuracy': 0.7377049180327869, 'confidence': 0.6804447094273698, 'avg_response_time': 0.39207066457211215, 'max_response_time': 0.440641906697276, 'contribution': 0.7163061763419479}, 'ensemble': {'accuracy': 0.8826291079812206, 'confidence': 0.7473715285490158, 'avg_response_time': 7.005887414892784, 'max_response_time': 7.2646600209859935, 'contribution': 0.9042343078924456}, 'EfficientNetV2S': {'accuracy': 0.9380952380952381, 'confidence': 0.8200105479785375, 'avg_response_time': 1.14512991769318, 'max_response_time': 1.197277924930375, 'contribution': 0.7862646910406295}, 'NASNetLarge': {'accuracy': 0.9330143540669856, 'confidence': 0.822919769435408, 'avg_response_time': 3.8200193008210617, 'max_response_time': 3.974230726139105, 'contribution': 0.8039525745873246}, 'EfficientNetB7': {'accuracy': 0.9420289855072463, 'confidence': 0.7041528007546485, 'avg_response_time': 7.1212000698499995, 'max_response_time': 7.2560127503873435, 'contribution': 0.6580298327017522}, 'DenseNet201': {'accuracy': 0.9029126213592233, 'confidence': 0.8223934120055542, 'avg_response_time': 0.5838903019881566, 'max_response_time': 0.7171171364734032, 'contribution': 0.7994548002782377}, 'Xception': {'accuracy': 0.8731707317073171, 'confidence': 0.7478971139686864, 'avg_response_time': 0.990643721849209, 'max_response_time': 1.0693688646426827, 'contribution': 0.7416074031736792}, 'InceptionV3': {'accuracy': 0.8955223880597015, 'confidence': 0.7925590291545166, 'avg_response_time': 0.5739727462349915, 'max_response_time': 0.6754832735299773, 'contribution': 0.7809426238880822}}, 'input_state': {'input_file_length': 15, 'image_height': 224, 'image_width': 224}, 'distribution_weights': [1.0, 1.0, 1.0, 1.0, 1.0, 0.0, 0.0, 0.0, 0.0, 0.0, 0.0, 0.0, 0.0, 0.0, 0.0, 0.0, 0.0, 0.0, 0.0, 0.0]}\n",
      "REWARD:  0.8826291079812206\n"
     ]
    },
    {
     "name": "stderr",
     "output_type": "stream",
     "text": [
      "2025-01-24 16:40:54,945:INFO -- Action: Keeping the ensemble\n"
     ]
    },
    {
     "name": "stdout",
     "output_type": "stream",
     "text": [
      "STATE:  {'ensemble_state': {'total_energy_consumption': 0.023205572371097348, 'ensemble_size': 16}, 'model_states': {'InceptionResNetV2': {'accuracy': 0.9112149532710281, 'confidence': 0.8017250547342212, 'avg_response_time': 2.06753100516082, 'max_response_time': 2.180662360029575, 'contribution': 0.7948482611747546}, 'MobileNetV2': {'accuracy': 0.8375634517766497, 'confidence': 0.6903810649353841, 'avg_response_time': 0.09678652044071387, 'max_response_time': 0.14616136826811602, 'contribution': 0.7039226705047685}, 'ResNet50V2': {'accuracy': 0.7391304347826086, 'confidence': 0.6821705062428246, 'avg_response_time': 0.39214956987056937, 'max_response_time': 0.440641906697276, 'contribution': 0.7178370738806932}, 'ensemble': {'accuracy': 0.883177570093458, 'confidence': 0.7483314364992724, 'avg_response_time': 7.006053234054439, 'max_response_time': 7.2646600209859935, 'contribution': 0.9046787180911715}, 'EfficientNetV2S': {'accuracy': 0.9383886255924171, 'confidence': 0.8204134680083578, 'avg_response_time': 1.1451174409629192, 'max_response_time': 1.197277924930375, 'contribution': 0.7868275440417195}, 'NASNetLarge': {'accuracy': 0.9333333333333333, 'confidence': 0.8233720345156533, 'avg_response_time': 3.8200746517636355, 'max_response_time': 3.974230726139105, 'contribution': 0.804495159643037}, 'EfficientNetB7': {'accuracy': 0.9423076923076923, 'confidence': 0.7047525708778546, 'avg_response_time': 7.120749111865053, 'max_response_time': 7.2560127503873435, 'contribution': 0.6588513478636742}, 'DenseNet201': {'accuracy': 0.9033816425120773, 'confidence': 0.8232479407879465, 'avg_response_time': 0.5837406923082902, 'max_response_time': 0.7171171364734032, 'contribution': 0.8004201436100374}, 'Xception': {'accuracy': 0.8737864077669902, 'confidence': 0.748612342384255, 'avg_response_time': 0.9907547354509345, 'max_response_time': 1.0693688646426827, 'contribution': 0.7423531641659228}, 'InceptionV3': {'accuracy': 0.8960396039603961, 'confidence': 0.7934886665627507, 'avg_response_time': 0.5739821527371892, 'max_response_time': 0.6754832735299773, 'contribution': 0.7819297682530809}}, 'input_state': {'input_file_length': 14, 'image_height': 224, 'image_width': 224}, 'distribution_weights': [1.0, 1.0, 1.0, 1.0, 1.0, 0.0, 0.0, 0.0, 0.0, 0.0, 0.0, 0.0, 0.0, 0.0, 0.0, 0.0, 0.0, 0.0, 0.0, 0.0]}\n",
      "REWARD:  0.883177570093458\n"
     ]
    },
    {
     "name": "stderr",
     "output_type": "stream",
     "text": [
      "2025-01-24 16:40:55,823:INFO -- Action: Replacing a model\n"
     ]
    },
    {
     "name": "stdout",
     "output_type": "stream",
     "text": [
      "STATE:  {'ensemble_state': {'total_energy_consumption': 0.023205572371097348, 'ensemble_size': 16}, 'model_states': {'InceptionResNetV2': {'accuracy': 0.9116279069767442, 'confidence': 0.8002615650032842, 'avg_response_time': 2.067464838747752, 'max_response_time': 2.180662360029575, 'contribution': 0.7934167565301408}, 'MobileNetV2': {'accuracy': 0.8383838383838383, 'confidence': 0.6904122991995378, 'avg_response_time': 0.09688244975127709, 'max_response_time': 0.14616136826811602, 'contribution': 0.703885512821602}, 'ResNet50V2': {'accuracy': 0.7405405405405405, 'confidence': 0.6838831751733213, 'avg_response_time': 0.3921725663273844, 'max_response_time': 0.440641906697276, 'contribution': 0.7193569505536879}, 'ensemble': {'accuracy': 0.8837209302325582, 'confidence': 0.7486030083138967, 'avg_response_time': 7.006357985824332, 'max_response_time': 7.2646600209859935, 'contribution': 0.9051174880460251}, 'EfficientNetV2S': {'accuracy': 0.9386792452830188, 'confidence': 0.8207444208410551, 'avg_response_time': 1.1450541636126104, 'max_response_time': 1.197277924930375, 'contribution': 0.7873169210440708}, 'NASNetLarge': {'accuracy': 0.933649289099526, 'confidence': 0.8238363927009547, 'avg_response_time': 3.820216337703563, 'max_response_time': 3.974230726139105, 'contribution': 0.8050489816902938}, 'EfficientNetB7': {'accuracy': 0.9425837320574163, 'confidence': 0.7054289994342475, 'avg_response_time': 7.120475821820633, 'max_response_time': 7.2560127503873435, 'contribution': 0.6597473994966899}, 'DenseNet201': {'accuracy': 0.9038461538461539, 'confidence': 0.8240803793932383, 'avg_response_time': 0.5836270270898468, 'max_response_time': 0.7171171364734032, 'contribution': 0.801362331240223}, 'Xception': {'accuracy': 0.8743961352657005, 'confidence': 0.7478047078070433, 'avg_response_time': 0.9907751491121909, 'max_response_time': 1.0693688646426827, 'contribution': 0.741575767164645}, 'InceptionV3': {'accuracy': 0.896551724137931, 'confidence': 0.7937067271453406, 'avg_response_time': 0.5739214771305188, 'max_response_time': 0.6754832735299773, 'contribution': 0.7822047692214327}}, 'input_state': {'input_file_length': 14, 'image_height': 224, 'image_width': 224}, 'distribution_weights': [1.0, 1.0, 1.0, 1.0, 1.0, 0.0, 0.0, 0.0, 0.0, 0.0, 0.0, 0.0, 0.0, 0.0, 0.0, 0.0, 0.0, 0.0, 0.0, 0.0]}\n",
      "REWARD:  0.8837209302325582\n",
      "Worst model: EfficientNetV2L with score: 0.5911481481481482\n",
      "Model 'EfficientNetV2L' successfully removed from the target YAML.\n",
      "Best model: EfficientNetV2L with score: 0.5911481481481482\n",
      "Model 'EfficientNetV2L' successfully added to the target YAML.\n"
     ]
    },
    {
     "name": "stderr",
     "output_type": "stream",
     "text": [
      "2025-01-24 16:40:56,877:INFO -- Action: Replacing a model\n"
     ]
    },
    {
     "name": "stdout",
     "output_type": "stream",
     "text": [
      "STATE:  {'ensemble_state': {'total_energy_consumption': 0.023205572371097348, 'ensemble_size': 16}, 'model_states': {'InceptionResNetV2': {'accuracy': 0.9120370370370371, 'confidence': 0.7980335174059426, 'avg_response_time': 2.0675132616860097, 'max_response_time': 2.180662360029575, 'contribution': 0.7912203978609156}, 'MobileNetV2': {'accuracy': 0.8391959798994975, 'confidence': 0.6897614795957977, 'avg_response_time': 0.09693290627454973, 'max_response_time': 0.14616136826811602, 'contribution': 0.7031669886267964}, 'ResNet50V2': {'accuracy': 0.7365591397849462, 'confidence': 0.6802063839089486, 'avg_response_time': 0.3923301226042706, 'max_response_time': 0.440641906697276, 'contribution': 0.71548944006684}, 'ensemble': {'accuracy': 0.8842592592592593, 'confidence': 0.7477618272181431, 'avg_response_time': 7.00696144908643, 'max_response_time': 7.2646600209859935, 'contribution': 0.9009271293050714}, 'EfficientNetV2S': {'accuracy': 0.9389671361502347, 'confidence': 0.8194366587159779, 'avg_response_time': 1.1450781408946977, 'max_response_time': 1.197277924930375, 'contribution': 0.7861660955377587}, 'NASNetLarge': {'accuracy': 0.9339622641509434, 'confidence': 0.8243058037083104, 'avg_response_time': 3.820082165071605, 'max_response_time': 3.974230726139105, 'contribution': 0.8056070125609074}, 'EfficientNetB7': {'accuracy': 0.9428571428571428, 'confidence': 0.7048011233409246, 'avg_response_time': 7.120510483393336, 'max_response_time': 7.2560127503873435, 'contribution': 0.6593370548316411}, 'DenseNet201': {'accuracy': 0.8995215311004785, 'confidence': 0.8201374110707826, 'avg_response_time': 0.5835879704356661, 'max_response_time': 0.7171171364734032, 'contribution': 0.7975280617127578}, 'Xception': {'accuracy': 0.875, 'confidence': 0.7461395459966018, 'avg_response_time': 0.9906467891789386, 'max_response_time': 1.0693688646426827, 'contribution': 0.739940552184215}, 'InceptionV3': {'accuracy': 0.8970588235294118, 'confidence': 0.791989349267062, 'avg_response_time': 0.5738969297184391, 'max_response_time': 0.6754832735299773, 'contribution': 0.7805437734898399}}, 'input_state': {'input_file_length': 15, 'image_height': 224, 'image_width': 224}, 'distribution_weights': [1.0, 1.0, 1.0, 1.0, 1.0, 0.0, 0.0, 0.0, 0.0, 0.0, 0.0, 0.0, 0.0, 0.0, 0.0, 0.0, 0.0, 0.0, 0.0, 0.0]}\n",
      "REWARD:  0.8842592592592593\n",
      "Worst model: EfficientNetV2L with score: 0.5911481481481482\n",
      "Model 'EfficientNetV2L' successfully removed from the target YAML.\n",
      "Best model: EfficientNetV2L with score: 0.5911481481481482\n",
      "Model 'EfficientNetV2L' successfully added to the target YAML.\n"
     ]
    },
    {
     "name": "stderr",
     "output_type": "stream",
     "text": [
      "2025-01-24 16:40:57,914:INFO -- Action: Keeping the ensemble\n"
     ]
    },
    {
     "name": "stdout",
     "output_type": "stream",
     "text": [
      "STATE:  {'ensemble_state': {'total_energy_consumption': 0.023205572371097348, 'ensemble_size': 16}, 'model_states': {'InceptionResNetV2': {'accuracy': 0.9124423963133641, 'confidence': 0.7987263649015383, 'avg_response_time': 2.0676127716696673, 'max_response_time': 2.180662360029575, 'contribution': 0.791944642220774}, 'MobileNetV2': {'accuracy': 0.835, 'confidence': 0.6863126721978188, 'avg_response_time': 0.09689753177323125, 'max_response_time': 0.14616136826811602, 'contribution': 0.6996511536836624}, 'ResNet50V2': {'accuracy': 0.7379679144385026, 'confidence': 0.6818916662172838, 'avg_response_time': 0.39235246200390794, 'max_response_time': 0.440641906697276, 'contribution': 0.7169860429304806}, 'ensemble': {'accuracy': 0.8847926267281107, 'confidence': 0.7486543416545065, 'avg_response_time': 7.007307670796139, 'max_response_time': 7.2646600209859935, 'contribution': 0.9013826494118036}, 'EfficientNetV2S': {'accuracy': 0.9392523364485982, 'confidence': 0.8199919877208282, 'avg_response_time': 1.1452713987975291, 'max_response_time': 1.197277924930375, 'contribution': 0.7868768944640026}, 'NASNetLarge': {'accuracy': 0.9342723004694836, 'confidence': 0.8245471808272349, 'avg_response_time': 3.8199433827085962, 'max_response_time': 3.974230726139105, 'contribution': 0.8059361774316975}, 'EfficientNetB7': {'accuracy': 0.943127962085308, 'confidence': 0.7053369135370752, 'avg_response_time': 7.120296743900943, 'max_response_time': 7.2560127503873435, 'contribution': 0.660088314546793}, 'DenseNet201': {'accuracy': 0.9, 'confidence': 0.8209928281250454, 'avg_response_time': 0.5836581298953861, 'max_response_time': 0.7171171364734032, 'contribution': 0.7984911423353922}, 'Xception': {'accuracy': 0.8755980861244019, 'confidence': 0.7473451670562251, 'avg_response_time': 0.990592409748631, 'max_response_time': 1.0693688646426827, 'contribution': 0.7411758335013139}, 'InceptionV3': {'accuracy': 0.8975609756097561, 'confidence': 0.7927941214747545, 'avg_response_time': 0.5739922940290506, 'max_response_time': 0.6754832735299773, 'contribution': 0.7814043777744945}}, 'input_state': {'input_file_length': 13, 'image_height': 224, 'image_width': 224}, 'distribution_weights': [1.0, 1.0, 1.0, 1.0, 1.0, 0.0, 0.0, 0.0, 0.0, 0.0, 0.0, 0.0, 0.0, 0.0, 0.0, 0.0, 0.0, 0.0, 0.0, 0.0]}\n",
      "REWARD:  0.8847926267281107\n"
     ]
    },
    {
     "name": "stderr",
     "output_type": "stream",
     "text": [
      "2025-01-24 16:40:58,769:INFO -- Action: Replacing a model\n"
     ]
    },
    {
     "name": "stdout",
     "output_type": "stream",
     "text": [
      "STATE:  {'ensemble_state': {'total_energy_consumption': 0.023205572371097348, 'ensemble_size': 16}, 'model_states': {'InceptionResNetV2': {'accuracy': 0.908256880733945, 'confidence': 0.795062482493733, 'avg_response_time': 2.0677362768983403, 'max_response_time': 2.180662360029575, 'contribution': 0.7883118686326053}, 'MobileNetV2': {'accuracy': 0.8308457711442786, 'confidence': 0.6828981812913619, 'avg_response_time': 0.0968832063911935, 'max_response_time': 0.14616136826811602, 'contribution': 0.6961703021727984}, 'ResNet50V2': {'accuracy': 0.7340425531914894, 'confidence': 0.6782645828863407, 'avg_response_time': 0.39236170910306967, 'max_response_time': 0.440641906697276, 'contribution': 0.7164611854451768}, 'ensemble': {'accuracy': 0.8807339449541285, 'confidence': 0.7452201474267335, 'avg_response_time': 7.007926739943935, 'max_response_time': 7.2646600209859935, 'contribution': 0.900084164027774}, 'EfficientNetV2S': {'accuracy': 0.9348837209302325, 'confidence': 0.8161780714988709, 'avg_response_time': 1.145223306809912, 'max_response_time': 1.197277924930375, 'contribution': 0.7832170019316119}, 'NASNetLarge': {'accuracy': 0.9299065420560748, 'confidence': 0.8206941566177618, 'avg_response_time': 3.8197740051795765, 'max_response_time': 3.974230726139105, 'contribution': 0.8021701205278111}, 'EfficientNetB7': {'accuracy': 0.9386792452830188, 'confidence': 0.7020098526241645, 'avg_response_time': 7.120357285122661, 'max_response_time': 7.2560127503873435, 'contribution': 0.6569746904215723}, 'DenseNet201': {'accuracy': 0.8957345971563981, 'confidence': 0.8171018668543106, 'avg_response_time': 0.5838075539208403, 'max_response_time': 0.7171171364734032, 'contribution': 0.7947068241252718}, 'Xception': {'accuracy': 0.8714285714285714, 'confidence': 0.7437863805464335, 'avg_response_time': 0.9906748397419926, 'max_response_time': 1.0693688646426827, 'contribution': 0.7376464247703552}, 'InceptionV3': {'accuracy': 0.8932038834951457, 'confidence': 0.7889456063219644, 'avg_response_time': 0.5740097738186027, 'max_response_time': 0.6754832735299773, 'contribution': 0.7776111526396668}}, 'input_state': {'input_file_length': 15, 'image_height': 224, 'image_width': 224}, 'distribution_weights': [1.0, 1.0, 1.0, 1.0, 1.0, 0.0, 0.0, 0.0, 0.0, 0.0, 0.0, 0.0, 0.0, 0.0, 0.0, 0.0, 0.0, 0.0, 0.0, 0.0]}\n",
      "REWARD:  0.8807339449541285\n",
      "Worst model: EfficientNetV2L with score: 0.5911481481481482\n",
      "Model 'EfficientNetV2L' successfully removed from the target YAML.\n",
      "Best model: EfficientNetV2L with score: 0.5911481481481482\n",
      "Model 'EfficientNetV2L' successfully added to the target YAML.\n"
     ]
    },
    {
     "name": "stderr",
     "output_type": "stream",
     "text": [
      "2025-01-24 16:40:59,846:INFO -- Action: Keeping the ensemble\n"
     ]
    },
    {
     "name": "stdout",
     "output_type": "stream",
     "text": [
      "STATE:  {'ensemble_state': {'total_energy_consumption': 0.023205572371097348, 'ensemble_size': 16}, 'model_states': {'InceptionResNetV2': {'accuracy': 0.908675799086758, 'confidence': 0.7956920746526762, 'avg_response_time': 2.0670725086268145, 'max_response_time': 2.180662360029575, 'contribution': 0.7889722855123755}, 'MobileNetV2': {'accuracy': 0.8267326732673267, 'confidence': 0.6795174972255631, 'avg_response_time': 0.09684602592985483, 'max_response_time': 0.14616136826811602, 'contribution': 0.6927239145382796}, 'ResNet50V2': {'accuracy': 0.7354497354497355, 'confidence': 0.6783217543332034, 'avg_response_time': 0.39233463648047645, 'max_response_time': 0.440641906697276, 'contribution': 0.7163162584658023}, 'ensemble': {'accuracy': 0.8812785388127854, 'confidence': 0.7451383190106589, 'avg_response_time': 7.008601396305123, 'max_response_time': 7.2646600209859935, 'contribution': 0.9003410664595426}, 'EfficientNetV2S': {'accuracy': 0.9351851851851852, 'confidence': 0.8159398969124865, 'avg_response_time': 1.1451762201529698, 'max_response_time': 1.197277924930375, 'contribution': 0.7831314248895204}, 'NASNetLarge': {'accuracy': 0.9302325581395349, 'confidence': 0.8204852827759677, 'avg_response_time': 3.8198223041080768, 'max_response_time': 3.974230726139105, 'contribution': 0.8020474049934121}, 'EfficientNetB7': {'accuracy': 0.9389671361502347, 'confidence': 0.701048837301317, 'avg_response_time': 7.120461706683527, 'max_response_time': 7.2560127503873435, 'contribution': 0.6562251077851219}, 'DenseNet201': {'accuracy': 0.8962264150943396, 'confidence': 0.8160460328437248, 'avg_response_time': 0.5838703454804167, 'max_response_time': 0.7171171364734032, 'contribution': 0.7937566271086909}, 'Xception': {'accuracy': 0.8720379146919431, 'confidence': 0.7447307046273308, 'avg_response_time': 0.9906451792305929, 'max_response_time': 1.0693688646426827, 'contribution': 0.7386198481677267}, 'InceptionV3': {'accuracy': 0.893719806763285, 'confidence': 0.7897543028932839, 'avg_response_time': 0.5739927728479919, 'max_response_time': 0.6754832735299773, 'contribution': 0.7784746050258765}}, 'input_state': {'input_file_length': 14, 'image_height': 224, 'image_width': 224}, 'distribution_weights': [1.0, 1.0, 1.0, 1.0, 1.0, 0.0, 0.0, 0.0, 0.0, 0.0, 0.0, 0.0, 0.0, 0.0, 0.0, 0.0, 0.0, 0.0, 0.0, 0.0]}\n",
      "REWARD:  0.8812785388127854\n"
     ]
    },
    {
     "name": "stderr",
     "output_type": "stream",
     "text": [
      "2025-01-24 16:41:00,717:INFO -- Action: Keeping the ensemble\n"
     ]
    },
    {
     "name": "stdout",
     "output_type": "stream",
     "text": [
      "STATE:  {'ensemble_state': {'total_energy_consumption': 0.023205572371097348, 'ensemble_size': 16}, 'model_states': {'InceptionResNetV2': {'accuracy': 0.9090909090909091, 'confidence': 0.7962331456216899, 'avg_response_time': 2.067255450716937, 'max_response_time': 2.180662360029575, 'contribution': 0.7895439009774815}, 'MobileNetV2': {'accuracy': 0.8275862068965517, 'confidence': 0.6809407701633247, 'avg_response_time': 0.09690436618583557, 'max_response_time': 0.14616136826811602, 'contribution': 0.6940821312331213}, 'ResNet50V2': {'accuracy': 0.7368421052631579, 'confidence': 0.6800103876151536, 'avg_response_time': 0.3923160436405579, 'max_response_time': 0.440641906697276, 'contribution': 0.7178049206733703}, 'ensemble': {'accuracy': 0.8818181818181818, 'confidence': 0.7458899260553994, 'avg_response_time': 7.009149215844642, 'max_response_time': 7.2646600209859935, 'contribution': 0.900790252875198}, 'EfficientNetV2S': {'accuracy': 0.9354838709677419, 'confidence': 0.8162577836194895, 'avg_response_time': 1.1452488605062419, 'max_response_time': 1.197277924930375, 'contribution': 0.7836005027118367}, 'NASNetLarge': {'accuracy': 0.9305555555555556, 'confidence': 0.8208118061776515, 'avg_response_time': 3.819780634098279, 'max_response_time': 3.974230726139105, 'contribution': 0.8024592889403855}, 'EfficientNetB7': {'accuracy': 0.9392523364485982, 'confidence': 0.7015648634634285, 'avg_response_time': 7.120461342388575, 'max_response_time': 7.2560127503873435, 'contribution': 0.6569505906272157}, 'DenseNet201': {'accuracy': 0.8967136150234741, 'confidence': 0.8168750888025257, 'avg_response_time': 0.5839453951151085, 'max_response_time': 0.7171171364734032, 'contribution': 0.7946903281648394}, 'Xception': {'accuracy': 0.8726415094339622, 'confidence': 0.7458236317308444, 'avg_response_time': 0.9905286740115042, 'max_response_time': 1.0693688646426827, 'contribution': 0.7397416000658611}, 'InceptionV3': {'accuracy': 0.8942307692307693, 'confidence': 0.7906364116531152, 'avg_response_time': 0.5741237793177458, 'max_response_time': 0.6754832735299773, 'contribution': 0.7794109431023781}}, 'input_state': {'input_file_length': 13, 'image_height': 224, 'image_width': 224}, 'distribution_weights': [1.0, 1.0, 1.0, 1.0, 1.0, 0.0, 0.0, 0.0, 0.0, 0.0, 0.0, 0.0, 0.0, 0.0, 0.0, 0.0, 0.0, 0.0, 0.0, 0.0]}\n",
      "REWARD:  0.8818181818181818\n"
     ]
    },
    {
     "name": "stderr",
     "output_type": "stream",
     "text": [
      "2025-01-24 16:41:01,596:INFO -- Action: Keeping the ensemble\n"
     ]
    },
    {
     "name": "stdout",
     "output_type": "stream",
     "text": [
      "STATE:  {'ensemble_state': {'total_energy_consumption': 0.023205572371097348, 'ensemble_size': 16}, 'model_states': {'InceptionResNetV2': {'accuracy': 0.9049773755656109, 'confidence': 0.7926302807093746, 'avg_response_time': 2.0675199013569694, 'max_response_time': 2.180662360029575, 'contribution': 0.7859713041404793}, 'MobileNetV2': {'accuracy': 0.8235294117647058, 'confidence': 0.6776028252115437, 'avg_response_time': 0.0969068803081497, 'max_response_time': 0.14616136826811602, 'contribution': 0.6906797678447237}, 'ResNet50V2': {'accuracy': 0.7329842931937173, 'confidence': 0.6764501238056503, 'avg_response_time': 0.3922857879313337, 'max_response_time': 0.440641906697276, 'contribution': 0.7140467797274365}, 'ensemble': {'accuracy': 0.8778280542986425, 'confidence': 0.7425148585166872, 'avg_response_time': 7.00954615702489, 'max_response_time': 7.2646600209859935, 'contribution': 0.8994965109620159}, 'EfficientNetV2S': {'accuracy': 0.9311926605504587, 'confidence': 0.8125134818597671, 'avg_response_time': 1.145202292780884, 'max_response_time': 1.197277924930375, 'contribution': 0.7824820084582775}, 'NASNetLarge': {'accuracy': 0.9262672811059908, 'confidence': 0.8170292632920402, 'avg_response_time': 3.8197224511509233, 'max_response_time': 3.974230726139105, 'contribution': 0.8015948373326508}, 'EfficientNetB7': {'accuracy': 0.9348837209302325, 'confidence': 0.6983017710752265, 'avg_response_time': 7.120304802811515, 'max_response_time': 7.2560127503873435, 'contribution': 0.6538950064847636}, 'DenseNet201': {'accuracy': 0.8925233644859814, 'confidence': 0.8130579154903643, 'avg_response_time': 0.5839426703778551, 'max_response_time': 0.7171171364734032, 'contribution': 0.7934783484055618}, 'Xception': {'accuracy': 0.8685446009389671, 'confidence': 0.742322112333047, 'avg_response_time': 0.9905494237163891, 'max_response_time': 1.0693688646426827, 'contribution': 0.736268634807336}, 'InceptionV3': {'accuracy': 0.8947368421052632, 'confidence': 0.7886583976198042, 'avg_response_time': 0.5740797342197242, 'max_response_time': 0.6754832735299773, 'contribution': 0.7756817041401658}}, 'input_state': {'input_file_length': 15, 'image_height': 224, 'image_width': 224}, 'distribution_weights': [1.0, 1.0, 1.0, 1.0, 1.0, 0.0, 0.0, 0.0, 0.0, 0.0, 0.0, 0.0, 0.0, 0.0, 0.0, 0.0, 0.0, 0.0, 0.0, 0.0]}\n",
      "REWARD:  0.8778280542986425\n"
     ]
    },
    {
     "name": "stderr",
     "output_type": "stream",
     "text": [
      "2025-01-24 16:41:02,422:INFO -- Action: Keeping the ensemble\n"
     ]
    },
    {
     "name": "stdout",
     "output_type": "stream",
     "text": [
      "STATE:  {'ensemble_state': {'total_energy_consumption': 0.023205572371097348, 'ensemble_size': 16}, 'model_states': {'InceptionResNetV2': {'accuracy': 0.9054054054054054, 'confidence': 0.793193776999508, 'avg_response_time': 2.067631095366842, 'max_response_time': 2.180662360029575, 'contribution': 0.7865647958205627}, 'MobileNetV2': {'accuracy': 0.8195121951219512, 'confidence': 0.6742974455763654, 'avg_response_time': 0.09690354850784885, 'max_response_time': 0.14616136826811602, 'contribution': 0.6873105982454811}, 'ResNet50V2': {'accuracy': 0.734375, 'confidence': 0.6780384088245531, 'avg_response_time': 0.39232380218393953, 'max_response_time': 0.440641906697276, 'contribution': 0.71543924883008}, 'ensemble': {'accuracy': 0.8783783783783784, 'confidence': 0.7433375346134917, 'avg_response_time': 7.010172173778702, 'max_response_time': 7.2646600209859935, 'contribution': 0.899884972083676}, 'EfficientNetV2S': {'accuracy': 0.9315068493150684, 'confidence': 0.812980230268278, 'avg_response_time': 1.1452087429203632, 'max_response_time': 1.197277924930375, 'contribution': 0.7830858868823204}, 'NASNetLarge': {'accuracy': 0.926605504587156, 'confidence': 0.8174951317113474, 'avg_response_time': 3.8196698174403627, 'max_response_time': 3.974230726139105, 'contribution': 0.8021315058710379}, 'EfficientNetB7': {'accuracy': 0.9351851851851852, 'confidence': 0.6989008582852505, 'avg_response_time': 7.120380655238466, 'max_response_time': 7.2560127503873435, 'contribution': 0.6546996805678915}, 'DenseNet201': {'accuracy': 0.8930232558139535, 'confidence': 0.8138390844644502, 'avg_response_time': 0.5837795736307957, 'max_response_time': 0.7171171364734032, 'contribution': 0.7943505851335304}, 'Xception': {'accuracy': 0.8691588785046729, 'confidence': 0.743350523236756, 'avg_response_time': 0.9905845192111209, 'max_response_time': 1.0693688646426827, 'contribution': 0.7373253329892024}, 'InceptionV3': {'accuracy': 0.8952380952380953, 'confidence': 0.7895968570595696, 'avg_response_time': 0.5740657969343805, 'max_response_time': 0.6754832735299773, 'contribution': 0.7766819573584057}}, 'input_state': {'input_file_length': 14, 'image_height': 224, 'image_width': 224}, 'distribution_weights': [1.0, 1.0, 1.0, 1.0, 1.0, 0.0, 0.0, 0.0, 0.0, 0.0, 0.0, 0.0, 0.0, 0.0, 0.0, 0.0, 0.0, 0.0, 0.0, 0.0]}\n",
      "REWARD:  0.8783783783783784\n"
     ]
    },
    {
     "name": "stderr",
     "output_type": "stream",
     "text": [
      "2025-01-24 16:41:03,275:INFO -- Action: Replacing a model\n"
     ]
    },
    {
     "name": "stdout",
     "output_type": "stream",
     "text": [
      "STATE:  {'ensemble_state': {'total_energy_consumption': 0.023205572371097348, 'ensemble_size': 16}, 'model_states': {'InceptionResNetV2': {'accuracy': 0.905829596412556, 'confidence': 0.7938064199124751, 'avg_response_time': 2.0676419700502815, 'max_response_time': 2.180662360029575, 'contribution': 0.7872071651065297}, 'MobileNetV2': {'accuracy': 0.8203883495145631, 'confidence': 0.6753841537295036, 'avg_response_time': 0.09694726929830386, 'max_response_time': 0.14616136826811602, 'contribution': 0.6883341357545946}, 'ResNet50V2': {'accuracy': 0.7357512953367875, 'confidence': 0.6797064973591523, 'avg_response_time': 0.3922992683908273, 'max_response_time': 0.440641906697276, 'contribution': 0.7169135506288993}, 'ensemble': {'accuracy': 0.8789237668161435, 'confidence': 0.7441662444744593, 'avg_response_time': 7.010998641261731, 'max_response_time': 7.2646600209859935, 'contribution': 0.9003338264510236}, 'EfficientNetV2S': {'accuracy': 0.9318181818181818, 'confidence': 0.8134892200881785, 'avg_response_time': 1.1453668916095066, 'max_response_time': 1.197277924930375, 'contribution': 0.7837307600812479}, 'NASNetLarge': {'accuracy': 0.9269406392694064, 'confidence': 0.8178714260663071, 'avg_response_time': 3.8196989987988323, 'max_response_time': 3.974230726139105, 'contribution': 0.8025779537686474}, 'EfficientNetB7': {'accuracy': 0.9354838709677419, 'confidence': 0.6995318455080832, 'avg_response_time': 7.120672714617786, 'max_response_time': 7.2560127503873435, 'contribution': 0.6555343598539379}, 'DenseNet201': {'accuracy': 0.8935185185185185, 'confidence': 0.814700465373419, 'avg_response_time': 0.5837795472374379, 'max_response_time': 0.7171171364734032, 'contribution': 0.7953021905764386}, 'Xception': {'accuracy': 0.8697674418604651, 'confidence': 0.7435101590877355, 'avg_response_time': 0.9906229216372511, 'max_response_time': 1.0693688646426827, 'contribution': 0.7375129929808684}, 'InceptionV3': {'accuracy': 0.8957345971563981, 'confidence': 0.7905797916001053, 'avg_response_time': 0.5739942216310702, 'max_response_time': 0.6754832735299773, 'contribution': 0.7777260999543972}}, 'input_state': {'input_file_length': 13, 'image_height': 224, 'image_width': 224}, 'distribution_weights': [1.0, 1.0, 1.0, 1.0, 1.0, 0.0, 0.0, 0.0, 0.0, 0.0, 0.0, 0.0, 0.0, 0.0, 0.0, 0.0, 0.0, 0.0, 0.0, 0.0]}\n",
      "REWARD:  0.8789237668161435\n",
      "Worst model: EfficientNetV2L with score: 0.5911481481481482\n",
      "Model 'EfficientNetV2L' successfully removed from the target YAML.\n",
      "Best model: EfficientNetV2L with score: 0.5911481481481482\n",
      "Model 'EfficientNetV2L' successfully added to the target YAML.\n"
     ]
    },
    {
     "name": "stderr",
     "output_type": "stream",
     "text": [
      "2025-01-24 16:41:04,452:INFO -- Action: Adding a model\n"
     ]
    },
    {
     "name": "stdout",
     "output_type": "stream",
     "text": [
      "STATE:  {'ensemble_state': {'total_energy_consumption': 0.023205572371097348, 'ensemble_size': 16}, 'model_states': {'InceptionResNetV2': {'accuracy': 0.90625, 'confidence': 0.7942788525085364, 'avg_response_time': 2.067447008917673, 'max_response_time': 2.180662360029575, 'contribution': 0.7877090586615461}, 'MobileNetV2': {'accuracy': 0.8164251207729468, 'confidence': 0.6721214283491679, 'avg_response_time': 0.09695469020737328, 'max_response_time': 0.14616136826811602, 'contribution': 0.6850088500746206}, 'ResNet50V2': {'accuracy': 0.7371134020618557, 'confidence': 0.6785698510015133, 'avg_response_time': 0.39239760204195256, 'max_response_time': 0.440641906697276, 'contribution': 0.7155851153368803}, 'ensemble': {'accuracy': 0.8794642857142857, 'confidence': 0.7441199918777847, 'avg_response_time': 7.01158011981911, 'max_response_time': 7.2646600209859935, 'contribution': 0.9006391900724598}, 'EfficientNetV2S': {'accuracy': 0.9321266968325792, 'confidence': 0.813777322952564, 'avg_response_time': 1.145363134298469, 'max_response_time': 1.197277924930375, 'contribution': 0.7841535166108231}, 'NASNetLarge': {'accuracy': 0.9272727272727272, 'confidence': 0.8181802172552456, 'avg_response_time': 3.8195289036203466, 'max_response_time': 3.974230726139105, 'contribution': 0.802956260740757}, 'EfficientNetB7': {'accuracy': 0.9357798165137615, 'confidence': 0.6998800009215643, 'avg_response_time': 7.120711191298006, 'max_response_time': 7.2560127503873435, 'contribution': 0.6560843385961077}, 'DenseNet201': {'accuracy': 0.8940092165898618, 'confidence': 0.815279569631348, 'avg_response_time': 0.5838470758966903, 'max_response_time': 0.7171171364734032, 'contribution': 0.7959706878057823}, 'Xception': {'accuracy': 0.8703703703703703, 'confidence': 0.7427941984324543, 'avg_response_time': 0.9905928026347914, 'max_response_time': 1.0693688646426827, 'contribution': 0.7368247969834892}, 'InceptionV3': {'accuracy': 0.8962264150943396, 'confidence': 0.7889990015131123, 'avg_response_time': 0.5740791497528784, 'max_response_time': 0.6754832735299773, 'contribution': 0.7762059404883744}}, 'input_state': {'input_file_length': 15, 'image_height': 224, 'image_width': 224}, 'distribution_weights': [1.0, 1.0, 1.0, 1.0, 1.0, 0.0, 0.0, 0.0, 0.0, 0.0, 0.0, 0.0, 0.0, 0.0, 0.0, 0.0, 0.0, 0.0, 0.0, 0.0]}\n",
      "REWARD:  0.8794642857142857\n",
      "No eligible models to score.\n"
     ]
    },
    {
     "name": "stderr",
     "output_type": "stream",
     "text": [
      "2025-01-24 16:41:05,358:INFO -- Action: Adding a model\n"
     ]
    },
    {
     "name": "stdout",
     "output_type": "stream",
     "text": [
      "STATE:  {'ensemble_state': {'total_energy_consumption': 0.023205572371097348, 'ensemble_size': 16}, 'model_states': {'InceptionResNetV2': {'accuracy': 0.9066666666666666, 'confidence': 0.7948593437671662, 'avg_response_time': 2.067257483615489, 'max_response_time': 2.180662360029575, 'contribution': 0.7883187490039402}, 'MobileNetV2': {'accuracy': 0.8173076923076923, 'confidence': 0.6724289446496047, 'avg_response_time': 0.09698265655859396, 'max_response_time': 0.14616136826811602, 'contribution': 0.685254407616762}, 'ResNet50V2': {'accuracy': 0.7384615384615385, 'confidence': 0.6801996119511433, 'avg_response_time': 0.39250448117061865, 'max_response_time': 0.440641906697276, 'contribution': 0.7170250544181237}, 'ensemble': {'accuracy': 0.88, 'confidence': 0.7448820348383353, 'avg_response_time': 7.012095140868986, 'max_response_time': 7.2646600209859935, 'contribution': 0.9010718831751081}, 'EfficientNetV2S': {'accuracy': 0.9324324324324325, 'confidence': 0.8142618204022313, 'avg_response_time': 1.1453919722774533, 'max_response_time': 1.197277924930375, 'contribution': 0.7847714546295974}, 'NASNetLarge': {'accuracy': 0.9276018099547512, 'confidence': 0.81853118822046, 'avg_response_time': 3.819664261887198, 'max_response_time': 3.974230726139105, 'contribution': 0.8033761183870324}, 'EfficientNetB7': {'accuracy': 0.9360730593607306, 'confidence': 0.700510047342135, 'avg_response_time': 7.120695346132011, 'max_response_time': 7.2560127503873435, 'contribution': 0.6569143652099453}, 'DenseNet201': {'accuracy': 0.8944954128440367, 'confidence': 0.8160312305623239, 'avg_response_time': 0.5834418925137081, 'max_response_time': 0.7171171364734032, 'contribution': 0.7968109215891689}, 'Xception': {'accuracy': 0.8709677419354839, 'confidence': 0.7431824840433586, 'avg_response_time': 0.9905917851913012, 'max_response_time': 1.0693688646426827, 'contribution': 0.7372405913568312}, 'InceptionV3': {'accuracy': 0.8967136150234741, 'confidence': 0.7899289473961216, 'avg_response_time': 0.5740747369107377, 'max_response_time': 0.6754832735299773, 'contribution': 0.7771959476907488}}, 'input_state': {'input_file_length': 15, 'image_height': 224, 'image_width': 224}, 'distribution_weights': [1.0, 1.0, 1.0, 1.0, 1.0, 0.0, 0.0, 0.0, 0.0, 0.0, 0.0, 0.0, 0.0, 0.0, 0.0, 0.0, 0.0, 0.0, 0.0, 0.0]}\n",
      "REWARD:  0.88\n",
      "No eligible models to score.\n"
     ]
    },
    {
     "name": "stderr",
     "output_type": "stream",
     "text": [
      "2025-01-24 16:41:06,185:INFO -- Action: Keeping the ensemble\n"
     ]
    },
    {
     "name": "stdout",
     "output_type": "stream",
     "text": [
      "STATE:  {'ensemble_state': {'total_energy_consumption': 0.023205572371097348, 'ensemble_size': 16}, 'model_states': {'InceptionResNetV2': {'accuracy': 0.9026548672566371, 'confidence': 0.7913422670248336, 'avg_response_time': 2.0672339226436116, 'max_response_time': 2.180662360029575, 'contribution': 0.7867946110467995}, 'MobileNetV2': {'accuracy': 0.8133971291866029, 'confidence': 0.6692115812780755, 'avg_response_time': 0.09699436607807783, 'max_response_time': 0.14616136826811602, 'contribution': 0.6858001408394444}, 'ResNet50V2': {'accuracy': 0.7346938775510204, 'confidence': 0.6767292057677191, 'avg_response_time': 0.3924014454946089, 'max_response_time': 0.440641906697276, 'contribution': 0.7133667633241537}, 'ensemble': {'accuracy': 0.8761061946902655, 'confidence': 0.741586096631086, 'avg_response_time': 7.012280150428292, 'max_response_time': 7.2646600209859935, 'contribution': 0.9010281271375387}, 'EfficientNetV2S': {'accuracy': 0.9282511210762332, 'confidence': 0.8106104221044634, 'avg_response_time': 1.1454476776425162, 'max_response_time': 1.197277924930375, 'contribution': 0.7848444534256854}, 'NASNetLarge': {'accuracy': 0.9234234234234234, 'confidence': 0.8148441107960435, 'avg_response_time': 3.819453782768669, 'max_response_time': 3.974230726139105, 'contribution': 0.7997573070429467}, 'EfficientNetB7': {'accuracy': 0.9363636363636364, 'confidence': 0.6990573948079889, 'avg_response_time': 7.120340082190126, 'max_response_time': 7.2560127503873435, 'contribution': 0.6554560267112471}, 'DenseNet201': {'accuracy': 0.8949771689497716, 'confidence': 0.8136943200407507, 'avg_response_time': 0.5834175811198461, 'max_response_time': 0.7171171364734032, 'contribution': 0.7956878302032}, 'Xception': {'accuracy': 0.8669724770642202, 'confidence': 0.739773390079857, 'avg_response_time': 0.9906207292538443, 'max_response_time': 1.0693688646426827, 'contribution': 0.7374883758912393}, 'InceptionV3': {'accuracy': 0.8925233644859814, 'confidence': 0.7862376906325884, 'avg_response_time': 0.5738000906473686, 'max_response_time': 0.6754832735299773, 'contribution': 0.7762549824525262}}, 'input_state': {'input_file_length': 15, 'image_height': 224, 'image_width': 224}, 'distribution_weights': [1.0, 1.0, 1.0, 1.0, 1.0, 0.0, 0.0, 0.0, 0.0, 0.0, 0.0, 0.0, 0.0, 0.0, 0.0, 0.0, 0.0, 0.0, 0.0, 0.0]}\n",
      "REWARD:  0.8761061946902655\n"
     ]
    },
    {
     "name": "stderr",
     "output_type": "stream",
     "text": [
      "2025-01-24 16:41:07,103:INFO -- Action: Adding a model\n"
     ]
    },
    {
     "name": "stdout",
     "output_type": "stream",
     "text": [
      "STATE:  {'ensemble_state': {'total_energy_consumption': 0.023205572371097348, 'ensemble_size': 16}, 'model_states': {'InceptionResNetV2': {'accuracy': 0.9030837004405287, 'confidence': 0.7919818831172809, 'avg_response_time': 2.0671315277294955, 'max_response_time': 2.180662360029575, 'contribution': 0.7874542608660223}, 'MobileNetV2': {'accuracy': 0.8142857142857143, 'confidence': 0.6702557194800604, 'avg_response_time': 0.09699771673442514, 'max_response_time': 0.14616136826811602, 'contribution': 0.6867652859006609}, 'ResNet50V2': {'accuracy': 0.7360406091370558, 'confidence': 0.6783626997833929, 'avg_response_time': 0.39247876596677056, 'max_response_time': 0.440641906697276, 'contribution': 0.7148142798903024}, 'ensemble': {'accuracy': 0.8766519823788547, 'confidence': 0.7416641063513635, 'avg_response_time': 7.0127636025234015, 'max_response_time': 7.2646600209859935, 'contribution': 0.9014576399116264}, 'EfficientNetV2S': {'accuracy': 0.9285714285714286, 'confidence': 0.8110027816146612, 'avg_response_time': 1.145290695753323, 'max_response_time': 1.197277924930375, 'contribution': 0.7853518395817706}, 'NASNetLarge': {'accuracy': 0.9237668161434978, 'confidence': 0.8150581990122261, 'avg_response_time': 3.8194202412121037, 'max_response_time': 3.974230726139105, 'contribution': 0.8000390490876185}, 'EfficientNetB7': {'accuracy': 0.9366515837104072, 'confidence': 0.6994735042973341, 'avg_response_time': 7.120315579660959, 'max_response_time': 7.2560127503873435, 'contribution': 0.6560694274589487}, 'DenseNet201': {'accuracy': 0.8954545454545455, 'confidence': 0.8144190449606289, 'avg_response_time': 0.583314980848263, 'max_response_time': 0.7171171364734032, 'contribution': 0.796494402804158}, 'Xception': {'accuracy': 0.867579908675799, 'confidence': 0.7387360575264448, 'avg_response_time': 0.9906045553492097, 'max_response_time': 1.0693688646426827, 'contribution': 0.7364614771925695}, 'InceptionV3': {'accuracy': 0.8930232558139535, 'confidence': 0.7865321252235147, 'avg_response_time': 0.5735765871060275, 'max_response_time': 0.6754832735299773, 'contribution': 0.7765958482442901}}, 'input_state': {'input_file_length': 15, 'image_height': 224, 'image_width': 224}, 'distribution_weights': [1.0, 1.0, 1.0, 1.0, 1.0, 0.0, 0.0, 0.0, 0.0, 0.0, 0.0, 0.0, 0.0, 0.0, 0.0, 0.0, 0.0, 0.0, 0.0, 0.0]}\n",
      "REWARD:  0.8766519823788547\n",
      "No eligible models to score.\n"
     ]
    },
    {
     "name": "stderr",
     "output_type": "stream",
     "text": [
      "2025-01-24 16:41:08,040:INFO -- Action: Adding a model\n"
     ]
    },
    {
     "name": "stdout",
     "output_type": "stream",
     "text": [
      "STATE:  {'ensemble_state': {'total_energy_consumption': 0.023205572371097348, 'ensemble_size': 16}, 'model_states': {'InceptionResNetV2': {'accuracy': 0.9035087719298246, 'confidence': 0.7925171683493414, 'avg_response_time': 2.0670506553596875, 'max_response_time': 2.180662360029575, 'contribution': 0.7880094040904129}, 'MobileNetV2': {'accuracy': 0.8151658767772512, 'confidence': 0.6716913414227454, 'avg_response_time': 0.09691843253757254, 'max_response_time': 0.14616136826811602, 'contribution': 0.688122663452727}, 'ResNet50V2': {'accuracy': 0.7373737373737373, 'confidence': 0.6799853611173052, 'avg_response_time': 0.39242683813651064, 'max_response_time': 0.440641906697276, 'contribution': 0.7162528423347858}, 'ensemble': {'accuracy': 0.8771929824561403, 'confidence': 0.7423755329544769, 'avg_response_time': 7.013390670335938, 'max_response_time': 7.2646600209859935, 'contribution': 0.9018883065957772}, 'EfficientNetV2S': {'accuracy': 0.9288888888888889, 'confidence': 0.8112593746185303, 'avg_response_time': 1.1452062203012858, 'max_response_time': 1.197277924930375, 'contribution': 0.7857224367724525}, 'NASNetLarge': {'accuracy': 0.9241071428571429, 'confidence': 0.8154726456850767, 'avg_response_time': 3.8194169490793533, 'max_response_time': 3.974230726139105, 'contribution': 0.8005205455369183}, 'EfficientNetB7': {'accuracy': 0.9369369369369369, 'confidence': 0.6997951065097843, 'avg_response_time': 7.120410964094174, 'max_response_time': 7.2560127503873435, 'contribution': 0.6565865435310312}, 'DenseNet201': {'accuracy': 0.8959276018099548, 'confidence': 0.815250997359936, 'avg_response_time': 0.583376363007781, 'max_response_time': 0.7171171364734032, 'contribution': 0.7974074621815487}, 'Xception': {'accuracy': 0.8681818181818182, 'confidence': 0.7397839032790877, 'avg_response_time': 0.9906476426208125, 'max_response_time': 1.0693688646426827, 'contribution': 0.7375196619467301}, 'InceptionV3': {'accuracy': 0.8935185185185185, 'confidence': 0.787229134666699, 'avg_response_time': 0.5736131253209258, 'max_response_time': 0.6754832735299773, 'contribution': 0.7773388589697855}}, 'input_state': {'input_file_length': 14, 'image_height': 224, 'image_width': 224}, 'distribution_weights': [1.0, 1.0, 1.0, 1.0, 1.0, 0.0, 0.0, 0.0, 0.0, 0.0, 0.0, 0.0, 0.0, 0.0, 0.0, 0.0, 0.0, 0.0, 0.0, 0.0]}\n",
      "REWARD:  0.8771929824561403\n",
      "No eligible models to score.\n"
     ]
    },
    {
     "name": "stderr",
     "output_type": "stream",
     "text": [
      "2025-01-24 16:41:08,952:INFO -- Action: Adding a model\n"
     ]
    },
    {
     "name": "stdout",
     "output_type": "stream",
     "text": [
      "STATE:  {'ensemble_state': {'total_energy_consumption': 0.023205572371097348, 'ensemble_size': 16}, 'model_states': {'InceptionResNetV2': {'accuracy': 0.9039301310043668, 'confidence': 0.792955028828575, 'avg_response_time': 2.0668672373116936, 'max_response_time': 2.180662360029575, 'contribution': 0.7884669491297293}, 'MobileNetV2': {'accuracy': 0.8160377358490566, 'confidence': 0.6731475855944291, 'avg_response_time': 0.09714374945692388, 'max_response_time': 0.14616136826811602, 'contribution': 0.6895014013884202}, 'ResNet50V2': {'accuracy': 0.7386934673366834, 'confidence': 0.6815688467804512, 'avg_response_time': 0.3924106233828753, 'max_response_time': 0.440641906697276, 'contribution': 0.7176540793485977}, 'ensemble': {'accuracy': 0.8777292576419214, 'confidence': 0.7427784338990661, 'avg_response_time': 7.013935714377311, 'max_response_time': 7.2646600209859935, 'contribution': 0.9023162437578476}, 'EfficientNetV2S': {'accuracy': 0.9292035398230089, 'confidence': 0.8117183855677073, 'avg_response_time': 1.145242084085292, 'max_response_time': 1.197277924930375, 'contribution': 0.7862944430218334}, 'NASNetLarge': {'accuracy': 0.9244444444444444, 'confidence': 0.8158805478943719, 'avg_response_time': 3.819307496343395, 'max_response_time': 3.974230726139105, 'contribution': 0.8009949015246497}, 'EfficientNetB7': {'accuracy': 0.9372197309417041, 'confidence': 0.7000793272069752, 'avg_response_time': 7.120439982991741, 'max_response_time': 7.2560127503873435, 'contribution': 0.657064524600324}, 'DenseNet201': {'accuracy': 0.8963963963963963, 'confidence': 0.8158821144082524, 'avg_response_time': 0.5832475874770323, 'max_response_time': 0.7171171364734032, 'contribution': 0.7981189555144524}, 'Xception': {'accuracy': 0.8687782805429864, 'confidence': 0.7401215742885797, 'avg_response_time': 0.9906073527855316, 'max_response_time': 1.0693688646426827, 'contribution': 0.7378675783921151}, 'InceptionV3': {'accuracy': 0.8940092165898618, 'confidence': 0.7864456197358496, 'avg_response_time': 0.5736529181454256, 'max_response_time': 0.6754832735299773, 'contribution': 0.7766009213462952}}, 'input_state': {'input_file_length': 15, 'image_height': 224, 'image_width': 224}, 'distribution_weights': [1.0, 1.0, 1.0, 1.0, 1.0, 0.0, 0.0, 0.0, 0.0, 0.0, 0.0, 0.0, 0.0, 0.0, 0.0, 0.0, 0.0, 0.0, 0.0, 0.0]}\n",
      "REWARD:  0.8777292576419214\n",
      "No eligible models to score.\n"
     ]
    },
    {
     "name": "stderr",
     "output_type": "stream",
     "text": [
      "2025-01-24 16:41:09,819:INFO -- Action: Keeping the ensemble\n"
     ]
    },
    {
     "name": "stdout",
     "output_type": "stream",
     "text": [
      "STATE:  {'ensemble_state': {'total_energy_consumption': 0.023205572371097348, 'ensemble_size': 16}, 'model_states': {'InceptionResNetV2': {'accuracy': 0.9043478260869565, 'confidence': 0.7935192886901938, 'avg_response_time': 2.066899397711947, 'max_response_time': 2.180662360029575, 'contribution': 0.789050722381343}, 'MobileNetV2': {'accuracy': 0.8169014084507042, 'confidence': 0.6744157207403945, 'avg_response_time': 0.09710802811322752, 'max_response_time': 0.14616136826811602, 'contribution': 0.6906927580564794}, 'ResNet50V2': {'accuracy': 0.74, 'confidence': 0.6811626361310482, 'avg_response_time': 0.39241263186537745, 'max_response_time': 0.440641906697276, 'contribution': 0.717067442536354}, 'ensemble': {'accuracy': 0.8782608695652174, 'confidence': 0.7431598838878961, 'avg_response_time': 7.01431254800368, 'max_response_time': 7.2646600209859935, 'contribution': 0.9026345536760662}, 'EfficientNetV2S': {'accuracy': 0.9295154185022027, 'confidence': 0.8118649752654693, 'avg_response_time': 1.1452518262990086, 'max_response_time': 1.197277924930375, 'contribution': 0.7865530324664936}, 'NASNetLarge': {'accuracy': 0.9247787610619469, 'confidence': 0.8160900167659321, 'avg_response_time': 3.8191660992781573, 'max_response_time': 3.974230726139105, 'contribution': 0.8012702360881113}, 'EfficientNetB7': {'accuracy': 0.9375, 'confidence': 0.7004729261887925, 'avg_response_time': 7.120313101721088, 'max_response_time': 7.2560127503873435, 'contribution': 0.6576501539509211}, 'DenseNet201': {'accuracy': 0.8968609865470852, 'confidence': 0.816598013110225, 'avg_response_time': 0.5831727930452025, 'max_response_time': 0.7171171364734032, 'contribution': 0.7989145096374735}, 'Xception': {'accuracy': 0.8693693693693694, 'confidence': 0.740886321878648, 'avg_response_time': 0.9907879286153951, 'max_response_time': 1.0693688646426827, 'contribution': 0.7386424791168522}, 'InceptionV3': {'accuracy': 0.8944954128440367, 'confidence': 0.7872141920918718, 'avg_response_time': 0.5737236671107743, 'max_response_time': 0.6754832735299773, 'contribution': 0.777414652869242}}, 'input_state': {'input_file_length': 14, 'image_height': 224, 'image_width': 224}, 'distribution_weights': [1.0, 1.0, 1.0, 1.0, 1.0, 0.0, 0.0, 0.0, 0.0, 0.0, 0.0, 0.0, 0.0, 0.0, 0.0, 0.0, 0.0, 0.0, 0.0, 0.0]}\n",
      "REWARD:  0.8782608695652174\n"
     ]
    },
    {
     "name": "stderr",
     "output_type": "stream",
     "text": [
      "2025-01-24 16:41:10,704:INFO -- Action: Keeping the ensemble\n"
     ]
    },
    {
     "name": "stdout",
     "output_type": "stream",
     "text": [
      "STATE:  {'ensemble_state': {'total_energy_consumption': 0.023205572371097348, 'ensemble_size': 16}, 'model_states': {'InceptionResNetV2': {'accuracy': 0.9047619047619048, 'confidence': 0.7941017861748154, 'avg_response_time': 2.0668082811847692, 'max_response_time': 2.180662360029575, 'contribution': 0.7896525643088601}, 'MobileNetV2': {'accuracy': 0.8177570093457944, 'confidence': 0.6745069341681827, 'avg_response_time': 0.09716048733429022, 'max_response_time': 0.14616136826811602, 'contribution': 0.69070791056223}, 'ResNet50V2': {'accuracy': 0.7412935323383084, 'confidence': 0.6827486224138914, 'avg_response_time': 0.3924707092027653, 'max_response_time': 0.440641906697276, 'contribution': 0.718474797941559}, 'ensemble': {'accuracy': 0.8787878787878788, 'confidence': 0.7437053346806176, 'avg_response_time': 7.0147814265974855, 'max_response_time': 7.2646600209859935, 'contribution': 0.9030558148245791}, 'EfficientNetV2S': {'accuracy': 0.9298245614035088, 'confidence': 0.8123341830153215, 'avg_response_time': 1.1452185824069767, 'max_response_time': 1.197277924930375, 'contribution': 0.7871332575093236}, 'NASNetLarge': {'accuracy': 0.9251101321585903, 'confidence': 0.8166132459031328, 'avg_response_time': 3.819151266303405, 'max_response_time': 3.974230726139105, 'contribution': 0.8018587506027474}, 'EfficientNetB7': {'accuracy': 0.9377777777777778, 'confidence': 0.7006151564915974, 'avg_response_time': 7.120285917690536, 'max_response_time': 7.2560127503873435, 'contribution': 0.6579827076858944}, 'DenseNet201': {'accuracy': 0.8973214285714286, 'confidence': 0.8174145016819239, 'avg_response_time': 0.5831617754315873, 'max_response_time': 0.7171171364734032, 'contribution': 0.7998099424211043}, 'Xception': {'accuracy': 0.8699551569506726, 'confidence': 0.7419667948254556, 'avg_response_time': 0.9907829533601914, 'max_response_time': 1.0693688646426827, 'contribution': 0.7397330141388248}, 'InceptionV3': {'accuracy': 0.8949771689497716, 'confidence': 0.7881558993363489, 'avg_response_time': 0.5736477437578733, 'max_response_time': 0.6754832735299773, 'contribution': 0.7784011068681603}}, 'input_state': {'input_file_length': 15, 'image_height': 224, 'image_width': 224}, 'distribution_weights': [1.0, 1.0, 1.0, 1.0, 1.0, 0.0, 0.0, 0.0, 0.0, 0.0, 0.0, 0.0, 0.0, 0.0, 0.0, 0.0, 0.0, 0.0, 0.0, 0.0]}\n",
      "REWARD:  0.8787878787878788\n"
     ]
    },
    {
     "name": "stderr",
     "output_type": "stream",
     "text": [
      "2025-01-24 16:41:11,558:INFO -- Action: Keeping the ensemble\n"
     ]
    },
    {
     "name": "stdout",
     "output_type": "stream",
     "text": [
      "STATE:  {'ensemble_state': {'total_energy_consumption': 0.023205572371097348, 'ensemble_size': 16}, 'model_states': {'InceptionResNetV2': {'accuracy': 0.9051724137931034, 'confidence': 0.7945315497445649, 'avg_response_time': 2.0668007835531608, 'max_response_time': 2.180662360029575, 'contribution': 0.7901015055590662}, 'MobileNetV2': {'accuracy': 0.8186046511627907, 'confidence': 0.6733673219070878, 'avg_response_time': 0.09715435868489447, 'max_response_time': 0.14616136826811602, 'contribution': 0.6894929449225581}, 'ResNet50V2': {'accuracy': 0.7376237623762376, 'confidence': 0.6793686787385752, 'avg_response_time': 0.39247525605209377, 'max_response_time': 0.440641906697276, 'contribution': 0.7149179920111552}, 'ensemble': {'accuracy': 0.8793103448275862, 'confidence': 0.7433713607122059, 'avg_response_time': 7.015202264882382, 'max_response_time': 7.2646600209859935, 'contribution': 0.9031116812136667}, 'EfficientNetV2S': {'accuracy': 0.9301310043668122, 'confidence': 0.8127869456095467, 'avg_response_time': 1.1452713348442287, 'max_response_time': 1.197277924930375, 'contribution': 0.787696067813182}, 'NASNetLarge': {'accuracy': 0.9254385964912281, 'confidence': 0.8159446567296982, 'avg_response_time': 3.8190791318306996, 'max_response_time': 3.974230726139105, 'contribution': 0.8012548741279987}, 'EfficientNetB7': {'accuracy': 0.9380530973451328, 'confidence': 0.7004604178719815, 'avg_response_time': 7.120198157498111, 'max_response_time': 7.2560127503873435, 'contribution': 0.6580166082202861}, 'DenseNet201': {'accuracy': 0.8977777777777778, 'confidence': 0.816885293589698, 'avg_response_time': 0.5832219902002013, 'max_response_time': 0.7171171364734032, 'contribution': 0.799358976814482}, 'Xception': {'accuracy': 0.8705357142857143, 'confidence': 0.7414235819929412, 'avg_response_time': 0.9908226402224292, 'max_response_time': 1.0693688646426827, 'contribution': 0.7391997735415187}, 'InceptionV3': {'accuracy': 0.8954545454545455, 'confidence': 0.7873891921205954, 'avg_response_time': 0.573584434295636, 'max_response_time': 0.6754832735299773, 'contribution': 0.7776787396181714}}, 'input_state': {'input_file_length': 14, 'image_height': 224, 'image_width': 224}, 'distribution_weights': [1.0, 1.0, 1.0, 1.0, 1.0, 0.0, 0.0, 0.0, 0.0, 0.0, 0.0, 0.0, 0.0, 0.0, 0.0, 0.0, 0.0, 0.0, 0.0, 0.0]}\n",
      "REWARD:  0.8793103448275862\n"
     ]
    },
    {
     "name": "stderr",
     "output_type": "stream",
     "text": [
      "2025-01-24 16:41:12,434:INFO -- Action: Replacing a model\n"
     ]
    },
    {
     "name": "stdout",
     "output_type": "stream",
     "text": [
      "STATE:  {'ensemble_state': {'total_energy_consumption': 0.023205572371097348, 'ensemble_size': 16}, 'model_states': {'InceptionResNetV2': {'accuracy': 0.9055793991416309, 'confidence': 0.7951255278270132, 'avg_response_time': 2.0670341900090405, 'max_response_time': 2.180662360029575, 'contribution': 0.7907144967066884}, 'MobileNetV2': {'accuracy': 0.8194444444444444, 'confidence': 0.674700413727098, 'avg_response_time': 0.09707115535854757, 'max_response_time': 0.14616136826811602, 'contribution': 0.6907513810804596}, 'ResNet50V2': {'accuracy': 0.7389162561576355, 'confidence': 0.6809420968805041, 'avg_response_time': 0.39266395201062154, 'max_response_time': 0.440641906697276, 'contribution': 0.7163162903832685}, 'ensemble': {'accuracy': 0.8798283261802575, 'confidence': 0.7442011257946649, 'avg_response_time': 7.015750731965722, 'max_response_time': 7.2646600209859935, 'contribution': 0.9035273533266501}, 'EfficientNetV2S': {'accuracy': 0.9304347826086956, 'confidence': 0.8131812406622845, 'avg_response_time': 1.145282905076881, 'max_response_time': 1.197277924930375, 'contribution': 0.7881994536389475}, 'NASNetLarge': {'accuracy': 0.925764192139738, 'confidence': 0.8162466709270227, 'avg_response_time': 3.8190671691296654, 'max_response_time': 3.974230726139105, 'contribution': 0.8016210358476014}, 'EfficientNetB7': {'accuracy': 0.9383259911894273, 'confidence': 0.7009785666339723, 'avg_response_time': 7.120250430302789, 'max_response_time': 7.2560127503873435, 'contribution': 0.6587217341173063}, 'DenseNet201': {'accuracy': 0.8982300884955752, 'confidence': 0.8176951205308458, 'avg_response_time': 0.5831928968014815, 'max_response_time': 0.7171171364734032, 'contribution': 0.8002463538298564}, 'Xception': {'accuracy': 0.8711111111111111, 'confidence': 0.7424118308226267, 'avg_response_time': 0.9909225150901716, 'max_response_time': 1.0693688646426827, 'contribution': 0.7401979059643216}, 'InceptionV3': {'accuracy': 0.8959276018099548, 'confidence': 0.7880101213358107, 'avg_response_time': 0.5735580024790163, 'max_response_time': 0.6754832735299773, 'contribution': 0.7783436075324925}}, 'input_state': {'input_file_length': 14, 'image_height': 224, 'image_width': 224}, 'distribution_weights': [1.0, 1.0, 1.0, 1.0, 1.0, 0.0, 0.0, 0.0, 0.0, 0.0, 0.0, 0.0, 0.0, 0.0, 0.0, 0.0, 0.0, 0.0, 0.0, 0.0]}\n",
      "REWARD:  0.8798283261802575\n",
      "Worst model: EfficientNetV2L with score: 0.5911481481481482\n",
      "Model 'EfficientNetV2L' successfully removed from the target YAML.\n",
      "Best model: EfficientNetV2L with score: 0.5911481481481482\n",
      "Model 'EfficientNetV2L' successfully added to the target YAML.\n"
     ]
    },
    {
     "name": "stderr",
     "output_type": "stream",
     "text": [
      "2025-01-24 16:41:13,530:INFO -- Action: Keeping the ensemble\n"
     ]
    },
    {
     "name": "stdout",
     "output_type": "stream",
     "text": [
      "STATE:  {'ensemble_state': {'total_energy_consumption': 0.023205572371097348, 'ensemble_size': 16}, 'model_states': {'InceptionResNetV2': {'accuracy': 0.905982905982906, 'confidence': 0.7951603283484777, 'avg_response_time': 2.0669764630849334, 'max_response_time': 2.180662360029575, 'contribution': 0.7907681477884961}, 'MobileNetV2': {'accuracy': 0.8202764976958525, 'confidence': 0.6751917687154585, 'avg_response_time': 0.09708324518780014, 'max_response_time': 0.14616136826811602, 'contribution': 0.69116876847733}, 'ResNet50V2': {'accuracy': 0.7352941176470589, 'confidence': 0.6776041454252075, 'avg_response_time': 0.3925776873164851, 'max_response_time': 0.440641906697276, 'contribution': 0.7128049360186446}, 'ensemble': {'accuracy': 0.8803418803418803, 'confidence': 0.7442786105699734, 'avg_response_time': 7.016204785450316, 'max_response_time': 7.2646600209859935, 'contribution': 0.903646383402694}, 'EfficientNetV2S': {'accuracy': 0.9307359307359307, 'confidence': 0.8125687009328372, 'avg_response_time': 1.145457392897302, 'max_response_time': 1.197277924930375, 'contribution': 0.7876950601736704}, 'NASNetLarge': {'accuracy': 0.9260869565217391, 'confidence': 0.8163917650347171, 'avg_response_time': 3.819561943147545, 'max_response_time': 3.974230726139105, 'contribution': 0.8018297196730323}, 'EfficientNetB7': {'accuracy': 0.9385964912280702, 'confidence': 0.701295217401103, 'avg_response_time': 7.120211190656361, 'max_response_time': 7.2560127503873435, 'contribution': 0.6592237218691591}, 'DenseNet201': {'accuracy': 0.8986784140969163, 'confidence': 0.8181876582196106, 'avg_response_time': 0.5832352368960585, 'max_response_time': 0.7171171364734032, 'contribution': 0.8008157583322819}, 'Xception': {'accuracy': 0.8716814159292036, 'confidence': 0.7417650893989918, 'avg_response_time': 0.9909686826133871, 'max_response_time': 1.0693688646426827, 'contribution': 0.7395609606683782}, 'InceptionV3': {'accuracy': 0.8963963963963963, 'confidence': 0.7875489540196754, 'avg_response_time': 0.5736002754894072, 'max_response_time': 0.6754832735299773, 'contribution': 0.7779259830713272}}, 'input_state': {'input_file_length': 33, 'image_height': 224, 'image_width': 224}, 'distribution_weights': [1.0, 1.0, 1.0, 1.0, 1.0, 0.0, 0.0, 0.0, 0.0, 0.0, 0.0, 0.0, 0.0, 0.0, 0.0, 0.0, 0.0, 0.0, 0.0, 0.0]}\n",
      "REWARD:  0.8803418803418803\n"
     ]
    },
    {
     "name": "stderr",
     "output_type": "stream",
     "text": [
      "2025-01-24 16:41:14,468:INFO -- Action: Adding a model\n"
     ]
    },
    {
     "name": "stdout",
     "output_type": "stream",
     "text": [
      "STATE:  {'ensemble_state': {'total_energy_consumption': 0.023205572371097348, 'ensemble_size': 16}, 'model_states': {'InceptionResNetV2': {'accuracy': 0.9063829787234042, 'confidence': 0.7957764898208861, 'avg_response_time': 2.0669235671762265, 'max_response_time': 2.180662360029575, 'contribution': 0.791402999390947}, 'MobileNetV2': {'accuracy': 0.8211009174311926, 'confidence': 0.6764818201644704, 'avg_response_time': 0.09709571587202188, 'max_response_time': 0.14616136826811602, 'contribution': 0.6923855309366086}, 'ResNet50V2': {'accuracy': 0.7365853658536585, 'confidence': 0.6789546947653701, 'avg_response_time': 0.3926624374603198, 'max_response_time': 0.440641906697276, 'contribution': 0.7139837741851807}, 'ensemble': {'accuracy': 0.8808510638297873, 'confidence': 0.7448096056304547, 'avg_response_time': 7.016568835834168, 'max_response_time': 7.2646600209859935, 'contribution': 0.9040406170043539}, 'EfficientNetV2S': {'accuracy': 0.9310344827586207, 'confidence': 0.812961441175691, 'avg_response_time': 1.1455158324595376, 'max_response_time': 1.197277924930375, 'contribution': 0.7881950143853138}, 'NASNetLarge': {'accuracy': 0.9264069264069265, 'confidence': 0.8168229997416079, 'avg_response_time': 3.8195927327541055, 'max_response_time': 3.974230726139105, 'contribution': 0.8023239935373331}, 'EfficientNetB7': {'accuracy': 0.9388646288209607, 'confidence': 0.7014636199547214, 'avg_response_time': 7.120096739831955, 'max_response_time': 7.2560127503873435, 'contribution': 0.6595758427438778}, 'DenseNet201': {'accuracy': 0.8991228070175439, 'confidence': 0.8189688144545806, 'avg_response_time': 0.5831174656010101, 'max_response_time': 0.7171171364734032, 'contribution': 0.8016731071106175}, 'Xception': {'accuracy': 0.8722466960352423, 'confidence': 0.7425767757031361, 'avg_response_time': 0.9909270224446977, 'max_response_time': 1.0693688646426827, 'contribution': 0.7403823567907191}, 'InceptionV3': {'accuracy': 0.8968609865470852, 'confidence': 0.7883363407556252, 'avg_response_time': 0.573526092821797, 'max_response_time': 0.6754832735299773, 'contribution': 0.7787565221433682}}, 'input_state': {'input_file_length': 14, 'image_height': 224, 'image_width': 224}, 'distribution_weights': [1.0, 1.0, 1.0, 1.0, 1.0, 0.0, 0.0, 0.0, 0.0, 0.0, 0.0, 0.0, 0.0, 0.0, 0.0, 0.0, 0.0, 0.0, 0.0, 0.0]}\n",
      "REWARD:  0.8808510638297873\n",
      "No eligible models to score.\n"
     ]
    },
    {
     "name": "stderr",
     "output_type": "stream",
     "text": [
      "2025-01-24 16:41:15,376:INFO -- Action: Replacing a model\n"
     ]
    },
    {
     "name": "stdout",
     "output_type": "stream",
     "text": [
      "STATE:  {'ensemble_state': {'total_energy_consumption': 0.023205572371097348, 'ensemble_size': 16}, 'model_states': {'InceptionResNetV2': {'accuracy': 0.9067796610169492, 'confidence': 0.7960609840387005, 'avg_response_time': 2.066925128511652, 'max_response_time': 2.180662360029575, 'contribution': 0.7917060253478713}, 'MobileNetV2': {'accuracy': 0.821917808219178, 'confidence': 0.6774934956200047, 'avg_response_time': 0.09697439979102083, 'max_response_time': 0.14616136826811602, 'contribution': 0.6933245867082517}, 'ResNet50V2': {'accuracy': 0.7330097087378641, 'confidence': 0.6756587981888391, 'avg_response_time': 0.3926379266975382, 'max_response_time': 0.440641906697276, 'contribution': 0.7105178335337963}, 'ensemble': {'accuracy': 0.8813559322033898, 'confidence': 0.7451077564326927, 'avg_response_time': 7.017099904394537, 'max_response_time': 7.2646600209859935, 'contribution': 0.9044383323546183}, 'EfficientNetV2S': {'accuracy': 0.9313304721030042, 'confidence': 0.8134360428531794, 'avg_response_time': 1.1454701237370004, 'max_response_time': 1.197277924930375, 'contribution': 0.7887759097400141}, 'NASNetLarge': {'accuracy': 0.9267241379310345, 'confidence': 0.8172463199187969, 'avg_response_time': 3.8195324536147797, 'max_response_time': 3.974230726139105, 'contribution': 0.8028098094309198}, 'EfficientNetB7': {'accuracy': 0.9391304347826087, 'confidence': 0.7009086284948431, 'avg_response_time': 7.12014610381566, 'max_response_time': 7.2560127503873435, 'contribution': 0.6592029720544815}, 'DenseNet201': {'accuracy': 0.8995633187772926, 'confidence': 0.8197501796301796, 'avg_response_time': 0.5831442653000537, 'max_response_time': 0.7171171364734032, 'contribution': 0.802529999392522}, 'Xception': {'accuracy': 0.8728070175438597, 'confidence': 0.743617743122996, 'avg_response_time': 0.9909969115507266, 'max_response_time': 1.0693688646426827, 'contribution': 0.7414329488549316}, 'InceptionV3': {'accuracy': 0.8928571428571429, 'confidence': 0.7848169820915375, 'avg_response_time': 0.5735656032023755, 'max_response_time': 0.6754832735299773, 'contribution': 0.7752799305266568}}, 'input_state': {'input_file_length': 33, 'image_height': 224, 'image_width': 224}, 'distribution_weights': [1.0, 1.0, 1.0, 1.0, 1.0, 0.0, 0.0, 0.0, 0.0, 0.0, 0.0, 0.0, 0.0, 0.0, 0.0, 0.0, 0.0, 0.0, 0.0, 0.0]}\n",
      "REWARD:  0.8813559322033898\n",
      "Worst model: EfficientNetV2L with score: 0.5911481481481482\n",
      "Model 'EfficientNetV2L' successfully removed from the target YAML.\n",
      "Best model: EfficientNetV2L with score: 0.5911481481481482\n",
      "Model 'EfficientNetV2L' successfully added to the target YAML.\n"
     ]
    },
    {
     "name": "stderr",
     "output_type": "stream",
     "text": [
      "2025-01-24 16:41:16,452:INFO -- Action: Keeping the ensemble\n"
     ]
    },
    {
     "name": "stdout",
     "output_type": "stream",
     "text": [
      "STATE:  {'ensemble_state': {'total_energy_consumption': 0.023205572371097348, 'ensemble_size': 16}, 'model_states': {'InceptionResNetV2': {'accuracy': 0.9071729957805907, 'confidence': 0.7954068776172928, 'avg_response_time': 2.0668755231785116, 'max_response_time': 2.180662360029575, 'contribution': 0.7910702942795894}, 'MobileNetV2': {'accuracy': 0.8227272727272728, 'confidence': 0.6763631759719415, 'avg_response_time': 0.09698689696081604, 'max_response_time': 0.14616136826811602, 'contribution': 0.6921223075552421}, 'ResNet50V2': {'accuracy': 0.7294685990338164, 'confidence': 0.6723947460236757, 'avg_response_time': 0.39248971815415534, 'max_response_time': 0.440641906697276, 'contribution': 0.7070853802317006}, 'ensemble': {'accuracy': 0.8818565400843882, 'confidence': 0.7444887498504585, 'avg_response_time': 7.0176780221197905, 'max_response_time': 7.2646600209859935, 'contribution': 0.9043439544957398}, 'EfficientNetV2S': {'accuracy': 0.9273504273504274, 'confidence': 0.8099598204478239, 'avg_response_time': 1.1455086033971795, 'max_response_time': 1.197277924930375, 'contribution': 0.785405072518903}, 'NASNetLarge': {'accuracy': 0.927038626609442, 'confidence': 0.8174969702319526, 'avg_response_time': 3.819559669514771, 'max_response_time': 3.974230726139105, 'contribution': 0.8031224190165557}, 'EfficientNetB7': {'accuracy': 0.9393939393939394, 'confidence': 0.7016928802320967, 'avg_response_time': 7.120230345693918, 'max_response_time': 7.2560127503873435, 'contribution': 0.6601677677590093}, 'DenseNet201': {'accuracy': 0.8956521739130435, 'confidence': 0.8161860484143962, 'avg_response_time': 0.5832418212289204, 'max_response_time': 0.7171171364734032, 'contribution': 0.799040738525598}, 'Xception': {'accuracy': 0.8733624454148472, 'confidence': 0.7440093655513363, 'avg_response_time': 0.9909673440028949, 'max_response_time': 1.0693688646426827, 'contribution': 0.7418341118695955}, 'InceptionV3': {'accuracy': 0.8933333333333333, 'confidence': 0.7831007639567057, 'avg_response_time': 0.5736711936384652, 'max_response_time': 0.6754832735299773, 'contribution': 0.7736060992876689}}, 'input_state': {'input_file_length': 14, 'image_height': 224, 'image_width': 224}, 'distribution_weights': [1.0, 1.0, 1.0, 1.0, 1.0, 0.0, 0.0, 0.0, 0.0, 0.0, 0.0, 0.0, 0.0, 0.0, 0.0, 0.0, 0.0, 0.0, 0.0, 0.0]}\n",
      "REWARD:  0.8818565400843882\n"
     ]
    },
    {
     "name": "stderr",
     "output_type": "stream",
     "text": [
      "2025-01-24 16:41:17,392:INFO -- Action: Adding a model\n"
     ]
    },
    {
     "name": "stdout",
     "output_type": "stream",
     "text": [
      "STATE:  {'ensemble_state': {'total_energy_consumption': 0.023205572371097348, 'ensemble_size': 16}, 'model_states': {'InceptionResNetV2': {'accuracy': 0.907563025210084, 'confidence': 0.7959475826565959, 'avg_response_time': 2.0669421617116455, 'max_response_time': 2.180662360029575, 'contribution': 0.7916292202572862}, 'MobileNetV2': {'accuracy': 0.8235294117647058, 'confidence': 0.6773611108911523, 'avg_response_time': 0.09692614232340369, 'max_response_time': 0.14616136826811602, 'contribution': 0.6930489341867455}, 'ResNet50V2': {'accuracy': 0.7307692307692307, 'confidence': 0.6736666916941221, 'avg_response_time': 0.3926053442857965, 'max_response_time': 0.440641906697276, 'contribution': 0.7081905440069162}, 'ensemble': {'accuracy': 0.8823529411764706, 'confidence': 0.7451173466537263, 'avg_response_time': 7.01821978713385, 'max_response_time': 7.2646600209859935, 'contribution': 0.9046727001917463}, 'EfficientNetV2S': {'accuracy': 0.9276595744680851, 'confidence': 0.8104186765691067, 'avg_response_time': 1.145507721935968, 'max_response_time': 1.197277924930375, 'contribution': 0.785968416929245}, 'NASNetLarge': {'accuracy': 0.9273504273504274, 'confidence': 0.8178613137485634, 'avg_response_time': 3.8194473206161073, 'max_response_time': 3.974230726139105, 'contribution': 0.8035481922392153}, 'EfficientNetB7': {'accuracy': 0.9396551724137931, 'confidence': 0.7018538045472112, 'avg_response_time': 7.120300735482852, 'max_response_time': 7.2560127503873435, 'contribution': 0.6605076796278871}, 'DenseNet201': {'accuracy': 0.8961038961038961, 'confidence': 0.8169063920582528, 'avg_response_time': 0.5833235754392029, 'max_response_time': 0.7171171364734032, 'contribution': 0.7998353042901852}, 'Xception': {'accuracy': 0.8739130434782608, 'confidence': 0.744600837515748, 'avg_response_time': 0.9909789107284861, 'max_response_time': 1.0693688646426827, 'contribution': 0.7424350414587104}, 'InceptionV3': {'accuracy': 0.8938053097345132, 'confidence': 0.7838583100686031, 'avg_response_time': 0.5738318787499309, 'max_response_time': 0.6754832735299773, 'contribution': 0.7744056571901372}}, 'input_state': {'input_file_length': 15, 'image_height': 224, 'image_width': 224}, 'distribution_weights': [1.0, 1.0, 1.0, 1.0, 1.0, 0.0, 0.0, 0.0, 0.0, 0.0, 0.0, 0.0, 0.0, 0.0, 0.0, 0.0, 0.0, 0.0, 0.0, 0.0]}\n",
      "REWARD:  0.8823529411764706\n",
      "No eligible models to score.\n"
     ]
    },
    {
     "name": "stderr",
     "output_type": "stream",
     "text": [
      "2025-01-24 16:41:18,272:INFO -- Action: Keeping the ensemble\n"
     ]
    },
    {
     "name": "stdout",
     "output_type": "stream",
     "text": [
      "STATE:  {'ensemble_state': {'total_energy_consumption': 0.023205572371097348, 'ensemble_size': 16}, 'model_states': {'InceptionResNetV2': {'accuracy': 0.9079497907949791, 'confidence': 0.7965864231147527, 'avg_response_time': 2.066900778505643, 'max_response_time': 2.180662360029575, 'contribution': 0.7922861291773649}, 'MobileNetV2': {'accuracy': 0.8243243243243243, 'confidence': 0.6767496357898455, 'avg_response_time': 0.09692054321879268, 'max_response_time': 0.14616136826811602, 'contribution': 0.6923667932147378}, 'ResNet50V2': {'accuracy': 0.7320574162679426, 'confidence': 0.6751427840102803, 'avg_response_time': 0.39270256559103833, 'max_response_time': 0.440641906697276, 'contribution': 0.7095014504268409}, 'ensemble': {'accuracy': 0.8828451882845189, 'confidence': 0.7453395492043539, 'avg_response_time': 7.018527040780566, 'max_response_time': 7.2646600209859935, 'contribution': 0.9049969566167648}, 'EfficientNetV2S': {'accuracy': 0.9279661016949152, 'confidence': 0.8108246154704336, 'avg_response_time': 1.1454849530269522, 'max_response_time': 1.197277924930375, 'contribution': 0.7864779586256561}, 'NASNetLarge': {'accuracy': 0.9276595744680851, 'confidence': 0.818341756374278, 'avg_response_time': 3.8193844569137503, 'max_response_time': 3.974230726139105, 'contribution': 0.8040895417649695}, 'EfficientNetB7': {'accuracy': 0.9399141630901288, 'confidence': 0.702308561924701, 'avg_response_time': 7.120135256707436, 'max_response_time': 7.2560127503873435, 'contribution': 0.6611398881852882}, 'DenseNet201': {'accuracy': 0.896551724137931, 'confidence': 0.8173445648160474, 'avg_response_time': 0.5833457636789805, 'max_response_time': 0.7171171364734032, 'contribution': 0.8003470593228422}, 'Xception': {'accuracy': 0.8744588744588745, 'confidence': 0.7452345600117852, 'avg_response_time': 0.9908974733071003, 'max_response_time': 1.0693688646426827, 'contribution': 0.7430781396952543}, 'InceptionV3': {'accuracy': 0.8942731277533039, 'confidence': 0.7833367336689113, 'avg_response_time': 0.5738940530322283, 'max_response_time': 0.6754832735299773, 'contribution': 0.7739257224330818}}, 'input_state': {'input_file_length': 14, 'image_height': 224, 'image_width': 224}, 'distribution_weights': [1.0, 1.0, 1.0, 1.0, 1.0, 0.0, 0.0, 0.0, 0.0, 0.0, 0.0, 0.0, 0.0, 0.0, 0.0, 0.0, 0.0, 0.0, 0.0, 0.0]}\n",
      "REWARD:  0.8828451882845189\n"
     ]
    },
    {
     "name": "stderr",
     "output_type": "stream",
     "text": [
      "2025-01-24 16:41:19,223:INFO -- Action: Adding a model\n"
     ]
    },
    {
     "name": "stdout",
     "output_type": "stream",
     "text": [
      "STATE:  {'ensemble_state': {'total_energy_consumption': 0.023205572371097348, 'ensemble_size': 16}, 'model_states': {'InceptionResNetV2': {'accuracy': 0.9083333333333333, 'confidence': 0.7959553225586812, 'avg_response_time': 2.0668799582278017, 'max_response_time': 2.180662360029575, 'contribution': 0.7916729465126991}, 'MobileNetV2': {'accuracy': 0.820627802690583, 'confidence': 0.6737148840598461, 'avg_response_time': 0.0969557794972673, 'max_response_time': 0.14616136826811602, 'contribution': 0.6892620093886628}, 'ResNet50V2': {'accuracy': 0.7285714285714285, 'confidence': 0.6719278183721361, 'avg_response_time': 0.39276116056954374, 'max_response_time': 0.440641906697276, 'contribution': 0.706122872091475}, 'ensemble': {'accuracy': 0.8833333333333333, 'confidence': 0.7451658686362109, 'avg_response_time': 7.0191193206827895, 'max_response_time': 7.2646600209859935, 'contribution': 0.9050468190262715}, 'EfficientNetV2S': {'accuracy': 0.9282700421940928, 'confidence': 0.8111470827070469, 'avg_response_time': 1.1452808314063105, 'max_response_time': 1.197277924930375, 'contribution': 0.786903154372163}, 'NASNetLarge': {'accuracy': 0.9279661016949152, 'confidence': 0.8187596469612445, 'avg_response_time': 3.819291653570969, 'max_response_time': 3.974230726139105, 'contribution': 0.804567823091806}, 'EfficientNetB7': {'accuracy': 0.9401709401709402, 'confidence': 0.702973707109435, 'avg_response_time': 7.120259909581124, 'max_response_time': 7.2560127503873435, 'contribution': 0.6619809678731821}, 'DenseNet201': {'accuracy': 0.8969957081545065, 'confidence': 0.8175173555320936, 'avg_response_time': 0.583454914819771, 'max_response_time': 0.7171171364734032, 'contribution': 0.8005928007062413}, 'Xception': {'accuracy': 0.875, 'confidence': 0.7448557506090608, 'avg_response_time': 0.9910021965992943, 'max_response_time': 1.0693688646426827, 'contribution': 0.7427086252076872}, 'InceptionV3': {'accuracy': 0.8947368421052632, 'confidence': 0.7831978390091344, 'avg_response_time': 0.5738939044459832, 'max_response_time': 0.6754832735299773, 'contribution': 0.7738281041383743}}, 'input_state': {'input_file_length': 14, 'image_height': 224, 'image_width': 224}, 'distribution_weights': [1.0, 1.0, 1.0, 1.0, 1.0, 0.0, 0.0, 0.0, 0.0, 0.0, 0.0, 0.0, 0.0, 0.0, 0.0, 0.0, 0.0, 0.0, 0.0, 0.0]}\n",
      "REWARD:  0.8833333333333333\n",
      "No eligible models to score.\n"
     ]
    },
    {
     "name": "stderr",
     "output_type": "stream",
     "text": [
      "2025-01-24 16:41:20,088:INFO -- Action: Replacing a model\n"
     ]
    },
    {
     "name": "stdout",
     "output_type": "stream",
     "text": [
      "STATE:  {'ensemble_state': {'total_energy_consumption': 0.023205572371097348, 'ensemble_size': 16}, 'model_states': {'InceptionResNetV2': {'accuracy': 0.9087136929460581, 'confidence': 0.7961012717351874, 'avg_response_time': 2.0669381455631384, 'max_response_time': 2.180662360029575, 'contribution': 0.7918366648844168}, 'MobileNetV2': {'accuracy': 0.8169642857142857, 'confidence': 0.6707072283274361, 'avg_response_time': 0.09699133112158227, 'max_response_time': 0.14616136826811602, 'contribution': 0.6861849468467491}, 'ResNet50V2': {'accuracy': 0.7298578199052133, 'confidence': 0.6703039606883062, 'avg_response_time': 0.3927084088359187, 'max_response_time': 0.440641906697276, 'contribution': 0.7043369525416767}, 'ensemble': {'accuracy': 0.8838174273858921, 'confidence': 0.7453460844859227, 'avg_response_time': 7.019643850342395, 'max_response_time': 7.2646600209859935, 'contribution': 0.9052470221311719}, 'EfficientNetV2S': {'accuracy': 0.9285714285714286, 'confidence': 0.8114509582519531, 'avg_response_time': 1.1453056726571318, 'max_response_time': 1.197277924930375, 'contribution': 0.7873088951621737}, 'NASNetLarge': {'accuracy': 0.9282700421940928, 'confidence': 0.8191468972194044, 'avg_response_time': 3.819155856957578, 'max_response_time': 3.974230726139105, 'contribution': 0.805014954463339}, 'EfficientNetB7': {'accuracy': 0.9404255319148936, 'confidence': 0.7032503607425283, 'avg_response_time': 7.120327150810785, 'max_response_time': 7.2560127503873435, 'contribution': 0.6624320586945148}, 'DenseNet201': {'accuracy': 0.8974358974358975, 'confidence': 0.8180976051550645, 'avg_response_time': 0.58333346414541, 'max_response_time': 0.7171171364734032, 'contribution': 0.8012453774865876}, 'Xception': {'accuracy': 0.8755364806866953, 'confidence': 0.7451622643440067, 'avg_response_time': 0.9909559946500046, 'max_response_time': 1.0693688646426827, 'contribution': 0.7430243540731111}, 'InceptionV3': {'accuracy': 0.8951965065502183, 'confidence': 0.7832303736928249, 'avg_response_time': 0.5738520456881904, 'max_response_time': 0.6754832735299773, 'contribution': 0.7739015546948629}}, 'input_state': {'input_file_length': 14, 'image_height': 224, 'image_width': 224}, 'distribution_weights': [1.0, 1.0, 1.0, 1.0, 1.0, 0.0, 0.0, 0.0, 0.0, 0.0, 0.0, 0.0, 0.0, 0.0, 0.0, 0.0, 0.0, 0.0, 0.0, 0.0]}\n",
      "REWARD:  0.8838174273858921\n",
      "Worst model: EfficientNetV2L with score: 0.5911481481481482\n",
      "Model 'EfficientNetV2L' successfully removed from the target YAML.\n",
      "Best model: EfficientNetV2L with score: 0.5911481481481482\n",
      "Model 'EfficientNetV2L' successfully added to the target YAML.\n"
     ]
    },
    {
     "name": "stderr",
     "output_type": "stream",
     "text": [
      "2025-01-24 16:41:21,135:INFO -- Action: Keeping the ensemble\n"
     ]
    },
    {
     "name": "stdout",
     "output_type": "stream",
     "text": [
      "STATE:  {'ensemble_state': {'total_energy_consumption': 0.023205572371097348, 'ensemble_size': 16}, 'model_states': {'InceptionResNetV2': {'accuracy': 0.9090909090909091, 'confidence': 0.7960147469743224, 'avg_response_time': 2.066985803223667, 'max_response_time': 2.180662360029575, 'contribution': 0.7917677624659105}, 'MobileNetV2': {'accuracy': 0.8177777777777778, 'confidence': 0.6712754457526737, 'avg_response_time': 0.09698516055087168, 'max_response_time': 0.14616136826811602, 'contribution': 0.6866843744119009}, 'ResNet50V2': {'accuracy': 0.7311320754716981, 'confidence': 0.6712676102541527, 'avg_response_time': 0.39297717309170493, 'max_response_time': 0.4496864310626002, 'contribution': 0.7051400691270828}, 'ensemble': {'accuracy': 0.8842975206611571, 'confidence': 0.7454081936946763, 'avg_response_time': 7.020147975040083, 'max_response_time': 7.2646600209859935, 'contribution': 0.9055590652976154}, 'EfficientNetV2S': {'accuracy': 0.9288702928870293, 'confidence': 0.8117500860321971, 'avg_response_time': 1.1453381647973042, 'max_response_time': 1.197277924930375, 'contribution': 0.7877090357586929}, 'NASNetLarge': {'accuracy': 0.9285714285714286, 'confidence': 0.8194736823314378, 'avg_response_time': 3.819054739572329, 'max_response_time': 3.974230726139105, 'contribution': 0.8054011174861122}, 'EfficientNetB7': {'accuracy': 0.940677966101695, 'confidence': 0.7029995971311958, 'avg_response_time': 7.120374832607834, 'max_response_time': 7.2560127503873435, 'contribution': 0.6623542539901652}, 'DenseNet201': {'accuracy': 0.8978723404255319, 'confidence': 0.8183373621169557, 'avg_response_time': 0.5833051600621033, 'max_response_time': 0.7171171364734032, 'contribution': 0.8015568460555786}, 'Xception': {'accuracy': 0.8760683760683761, 'confidence': 0.7448223158080354, 'avg_response_time': 0.990921924641622, 'max_response_time': 1.0693688646426827, 'contribution': 0.7426935419058188}, 'InceptionV3': {'accuracy': 0.8956521739130435, 'confidence': 0.7827499078667682, 'avg_response_time': 0.573945089471352, 'max_response_time': 0.6754832735299773, 'contribution': 0.773461648951406}}, 'input_state': {'input_file_length': 14, 'image_height': 224, 'image_width': 224}, 'distribution_weights': [1.0, 1.0, 1.0, 1.0, 1.0, 0.0, 0.0, 0.0, 0.0, 0.0, 0.0, 0.0, 0.0, 0.0, 0.0, 0.0, 0.0, 0.0, 0.0, 0.0]}\n",
      "REWARD:  0.8842975206611571\n"
     ]
    },
    {
     "name": "stderr",
     "output_type": "stream",
     "text": [
      "2025-01-24 16:41:22,004:INFO -- Action: Replacing a model\n"
     ]
    },
    {
     "name": "stdout",
     "output_type": "stream",
     "text": [
      "STATE:  {'ensemble_state': {'total_energy_consumption': 0.023205572371097348, 'ensemble_size': 16}, 'model_states': {'InceptionResNetV2': {'accuracy': 0.9094650205761317, 'confidence': 0.7961300669138324, 'avg_response_time': 2.067060968391301, 'max_response_time': 2.180662360029575, 'contribution': 0.7919005597079242}, 'MobileNetV2': {'accuracy': 0.8141592920353983, 'confidence': 0.6683052004174849, 'avg_response_time': 0.09699020990389612, 'max_response_time': 0.14616136826811602, 'contribution': 0.68364594797645}, 'ResNet50V2': {'accuracy': 0.7276995305164319, 'confidence': 0.668116119126199, 'avg_response_time': 0.3929262330672195, 'max_response_time': 0.4496864310626002, 'contribution': 0.7018295523706176}, 'ensemble': {'accuracy': 0.8847736625514403, 'confidence': 0.7455267658259983, 'avg_response_time': 7.020600397529216, 'max_response_time': 7.2646600209859935, 'contribution': 0.905570720816836}, 'EfficientNetV2S': {'accuracy': 0.9291666666666667, 'confidence': 0.8120587120453516, 'avg_response_time': 1.1454545866516774, 'max_response_time': 1.197277924930375, 'contribution': 0.7881178328146538}, 'NASNetLarge': {'accuracy': 0.9288702928870293, 'confidence': 0.8198457228089975, 'avg_response_time': 3.819114205333832, 'max_response_time': 3.974230726139105, 'contribution': 0.8058320389881294}, 'EfficientNetB7': {'accuracy': 0.9409282700421941, 'confidence': 0.7036868258367611, 'avg_response_time': 7.120373886899707, 'max_response_time': 7.2560127503873435, 'contribution': 0.6632129820338785}, 'DenseNet201': {'accuracy': 0.8940677966101694, 'confidence': 0.8148698309215449, 'avg_response_time': 0.5832912998006204, 'max_response_time': 0.7171171364734032, 'contribution': 0.7981604187417839}, 'Xception': {'accuracy': 0.8723404255319149, 'confidence': 0.7416528591450224, 'avg_response_time': 0.9909827190799321, 'max_response_time': 1.0693688646426827, 'contribution': 0.7395331438551558}, 'InceptionV3': {'accuracy': 0.8961038961038961, 'confidence': 0.78190175356803, 'avg_response_time': 0.5739301630869577, 'max_response_time': 0.6754832735299773, 'contribution': 0.7726537035657214}}, 'input_state': {'input_file_length': 15, 'image_height': 224, 'image_width': 224}, 'distribution_weights': [1.0, 1.0, 1.0, 1.0, 1.0, 0.0, 0.0, 0.0, 0.0, 0.0, 0.0, 0.0, 0.0, 0.0, 0.0, 0.0, 0.0, 0.0, 0.0, 0.0]}\n",
      "REWARD:  0.8847736625514403\n",
      "Worst model: EfficientNetV2L with score: 0.5911481481481482\n",
      "Model 'EfficientNetV2L' successfully removed from the target YAML.\n",
      "Best model: EfficientNetV2L with score: 0.5911481481481482\n",
      "Model 'EfficientNetV2L' successfully added to the target YAML.\n"
     ]
    },
    {
     "name": "stderr",
     "output_type": "stream",
     "text": [
      "2025-01-24 16:41:23,147:INFO -- Action: Keeping the ensemble\n"
     ]
    },
    {
     "name": "stdout",
     "output_type": "stream",
     "text": [
      "STATE:  {'ensemble_state': {'total_energy_consumption': 0.023205572371097348, 'ensemble_size': 16}, 'model_states': {'InceptionResNetV2': {'accuracy': 0.9098360655737705, 'confidence': 0.7964568188200232, 'avg_response_time': 2.0671178818939238, 'max_response_time': 2.180662360029575, 'contribution': 0.7922446456600408}, 'MobileNetV2': {'accuracy': 0.8149779735682819, 'confidence': 0.6685640374731913, 'avg_response_time': 0.09702838803270664, 'max_response_time': 0.14616136826811602, 'contribution': 0.683837204646434}, 'ResNet50V2': {'accuracy': 0.7289719626168224, 'confidence': 0.6671775934573646, 'avg_response_time': 0.39276325001713114, 'max_response_time': 0.4496864310626002, 'contribution': 0.700733487294099}, 'ensemble': {'accuracy': 0.8852459016393442, 'confidence': 0.7454823292318113, 'avg_response_time': 7.021017455515437, 'max_response_time': 7.2646600209859935, 'contribution': 0.9059488286004692}, 'EfficientNetV2S': {'accuracy': 0.9294605809128631, 'confidence': 0.8125272957121188, 'avg_response_time': 1.1455653034324775, 'max_response_time': 1.197277924930375, 'contribution': 0.7886857562292661}, 'NASNetLarge': {'accuracy': 0.9291666666666667, 'confidence': 0.8202909921606382, 'avg_response_time': 3.819072119831079, 'max_response_time': 3.974230726139105, 'contribution': 0.8063356986890237}, 'EfficientNetB7': {'accuracy': 0.9411764705882353, 'confidence': 0.7042112277836359, 'avg_response_time': 7.120332257993924, 'max_response_time': 7.2560127503873435, 'contribution': 0.6639074421479922}, 'DenseNet201': {'accuracy': 0.8945147679324894, 'confidence': 0.8154711969794101, 'avg_response_time': 0.58309948132387, 'max_response_time': 0.7171171364734032, 'contribution': 0.7988322886485087}, 'Xception': {'accuracy': 0.8728813559322034, 'confidence': 0.7406779806745254, 'avg_response_time': 0.9910470068498528, 'max_response_time': 1.0693688646426827, 'contribution': 0.7385672472291074}, 'InceptionV3': {'accuracy': 0.896551724137931, 'confidence': 0.7800893095032922, 'avg_response_time': 0.5738798419125437, 'max_response_time': 0.6754832735299773, 'contribution': 0.7708811217854763}}, 'input_state': {'input_file_length': 15, 'image_height': 224, 'image_width': 224}, 'distribution_weights': [1.0, 1.0, 1.0, 1.0, 1.0, 0.0, 0.0, 0.0, 0.0, 0.0, 0.0, 0.0, 0.0, 0.0, 0.0, 0.0, 0.0, 0.0, 0.0, 0.0]}\n",
      "REWARD:  0.8852459016393442\n"
     ]
    },
    {
     "name": "stderr",
     "output_type": "stream",
     "text": [
      "2025-01-24 16:41:23,986:INFO -- Action: Keeping the ensemble\n"
     ]
    },
    {
     "name": "stdout",
     "output_type": "stream",
     "text": [
      "STATE:  {'ensemble_state': {'total_energy_consumption': 0.023205572371097348, 'ensemble_size': 16}, 'model_states': {'InceptionResNetV2': {'accuracy': 0.9102040816326531, 'confidence': 0.7969488802004834, 'avg_response_time': 2.0671364167988395, 'max_response_time': 2.180662360029575, 'contribution': 0.7927538995840111}, 'MobileNetV2': {'accuracy': 0.8157894736842105, 'confidence': 0.6698371207243518, 'avg_response_time': 0.09703901481889438, 'max_response_time': 0.14616136826811602, 'contribution': 0.6850433003222733}, 'ResNet50V2': {'accuracy': 0.7302325581395349, 'confidence': 0.6687256046505862, 'avg_response_time': 0.3926950810820565, 'max_response_time': 0.4496864310626002, 'contribution': 0.7021254245624986}, 'ensemble': {'accuracy': 0.8857142857142857, 'confidence': 0.7461980017152542, 'avg_response_time': 7.021602249050208, 'max_response_time': 7.2646600209859935, 'contribution': 0.9063327109327122}, 'EfficientNetV2S': {'accuracy': 0.9297520661157025, 'confidence': 0.8130265242797284, 'avg_response_time': 1.1454833631375725, 'max_response_time': 1.197277924930375, 'contribution': 0.7892835035550693}, 'NASNetLarge': {'accuracy': 0.9294605809128631, 'confidence': 0.8205504187409809, 'avg_response_time': 3.8190887332380132, 'max_response_time': 3.974230726139105, 'contribution': 0.8066530310514062}, 'EfficientNetB7': {'accuracy': 0.9414225941422594, 'confidence': 0.7045891160246718, 'avg_response_time': 7.120455171436007, 'max_response_time': 7.2560127503873435, 'contribution': 0.6644539654753697}, 'DenseNet201': {'accuracy': 0.8949579831932774, 'confidence': 0.8162463502723629, 'avg_response_time': 0.5829749776340866, 'max_response_time': 0.7171171364734032, 'contribution': 0.7996773533210033}, 'Xception': {'accuracy': 0.8734177215189873, 'confidence': 0.7413353906150608, 'avg_response_time': 0.9910642929748545, 'max_response_time': 1.0693688646426827, 'contribution': 0.7392335632179357}, 'InceptionV3': {'accuracy': 0.8969957081545065, 'confidence': 0.7810202361176454, 'avg_response_time': 0.5738942481269454, 'max_response_time': 0.6754832735299773, 'contribution': 0.77185156851879}}, 'input_state': {'input_file_length': 15, 'image_height': 224, 'image_width': 224}, 'distribution_weights': [1.0, 1.0, 1.0, 1.0, 1.0, 0.0, 0.0, 0.0, 0.0, 0.0, 0.0, 0.0, 0.0, 0.0, 0.0, 0.0, 0.0, 0.0, 0.0, 0.0]}\n",
      "REWARD:  0.8857142857142857\n"
     ]
    },
    {
     "name": "stderr",
     "output_type": "stream",
     "text": [
      "2025-01-24 16:41:24,771:INFO -- Action: Keeping the ensemble\n"
     ]
    },
    {
     "name": "stdout",
     "output_type": "stream",
     "text": [
      "STATE:  {'ensemble_state': {'total_energy_consumption': 0.023205572371097348, 'ensemble_size': 16}, 'model_states': {'InceptionResNetV2': {'accuracy': 0.9065040650406504, 'confidence': 0.7937092506061725, 'avg_response_time': 2.067137326144816, 'max_response_time': 2.180662360029575, 'contribution': 0.7932775202320843}, 'MobileNetV2': {'accuracy': 0.8165938864628821, 'confidence': 0.6693419555128922, 'avg_response_time': 0.09705829692809043, 'max_response_time': 0.14616136826811602, 'contribution': 0.6820518448623507}, 'ResNet50V2': {'accuracy': 0.7268518518518519, 'confidence': 0.6656296527772038, 'avg_response_time': 0.3926681400884417, 'max_response_time': 0.4496864310626002, 'contribution': 0.6988748438932277}, 'ensemble': {'accuracy': 0.8821138211382114, 'confidence': 0.7431646765050296, 'avg_response_time': 7.021858849465764, 'max_response_time': 7.2646600209859935, 'contribution': 0.906394629095628}, 'EfficientNetV2S': {'accuracy': 0.9300411522633745, 'confidence': 0.8111217987144925, 'avg_response_time': 1.1455318917898925, 'max_response_time': 1.197277924930375, 'contribution': 0.787683099262999}, 'NASNetLarge': {'accuracy': 0.9256198347107438, 'confidence': 0.8171597145313074, 'avg_response_time': 3.819147253062511, 'max_response_time': 3.974230726139105, 'contribution': 0.8067863621741287}, 'EfficientNetB7': {'accuracy': 0.9416666666666667, 'confidence': 0.7046878730257352, 'avg_response_time': 7.120280547142679, 'max_response_time': 7.2560127503873435, 'contribution': 0.661685407285889}, 'DenseNet201': {'accuracy': 0.895397489539749, 'confidence': 0.8145557898856606, 'avg_response_time': 0.5829905603620515, 'max_response_time': 0.7171171364734032, 'contribution': 0.7977374999094209}, 'Xception': {'accuracy': 0.8697478991596639, 'confidence': 0.7382205360326446, 'avg_response_time': 0.9909971941367218, 'max_response_time': 1.0693688646426827, 'contribution': 0.7387543340690997}, 'InceptionV3': {'accuracy': 0.8974358974358975, 'confidence': 0.779722810555727, 'avg_response_time': 0.5739944434792171, 'max_response_time': 0.6754832735299773, 'contribution': 0.7703078975025405}}, 'input_state': {'input_file_length': 13, 'image_height': 224, 'image_width': 224}, 'distribution_weights': [1.0, 1.0, 1.0, 1.0, 1.0, 0.0, 0.0, 0.0, 0.0, 0.0, 0.0, 0.0, 0.0, 0.0, 0.0, 0.0, 0.0, 0.0, 0.0, 0.0]}\n",
      "REWARD:  0.8821138211382114\n"
     ]
    },
    {
     "name": "stderr",
     "output_type": "stream",
     "text": [
      "2025-01-24 16:41:25,581:INFO -- Action: Replacing a model\n"
     ]
    },
    {
     "name": "stdout",
     "output_type": "stream",
     "text": [
      "STATE:  {'ensemble_state': {'total_energy_consumption': 0.023205572371097348, 'ensemble_size': 16}, 'model_states': {'InceptionResNetV2': {'accuracy': 0.9068825910931174, 'confidence': 0.7939172296630226, 'avg_response_time': 2.067232892017406, 'max_response_time': 2.180662360029575, 'contribution': 0.7934872471851858}, 'MobileNetV2': {'accuracy': 0.8173913043478261, 'confidence': 0.6698734670877456, 'avg_response_time': 0.09703032610024963, 'max_response_time': 0.14616136826811602, 'contribution': 0.6825280960487283}, 'ResNet50V2': {'accuracy': 0.728110599078341, 'confidence': 0.6665612886303581, 'avg_response_time': 0.39269100458217376, 'max_response_time': 0.4496864310626002, 'contribution': 0.6996532761006861}, 'ensemble': {'accuracy': 0.8825910931174089, 'confidence': 0.7432134468297589, 'avg_response_time': 7.022273502628649, 'max_response_time': 7.2646600209859935, 'contribution': 0.9067337470739959}, 'EfficientNetV2S': {'accuracy': 0.930327868852459, 'confidence': 0.8114342768905592, 'avg_response_time': 1.145489711934764, 'max_response_time': 1.197277924930375, 'contribution': 0.7880916376827193}, 'NASNetLarge': {'accuracy': 0.9259259259259259, 'confidence': 0.8173488385883378, 'avg_response_time': 3.8190742140364295, 'max_response_time': 3.974230726139105, 'contribution': 0.8070181749239871}, 'EfficientNetB7': {'accuracy': 0.941908713692946, 'confidence': 0.704948787867281, 'avg_response_time': 7.1202475049274545, 'max_response_time': 7.2560127503873435, 'contribution': 0.6621247555952349}, 'DenseNet201': {'accuracy': 0.8958333333333334, 'confidence': 0.8152874606351058, 'avg_response_time': 0.5829356820545027, 'max_response_time': 0.7171171364734032, 'contribution': 0.7985392468671004}, 'Xception': {'accuracy': 0.8702928870292888, 'confidence': 0.7388438174664724, 'avg_response_time': 0.990950431383064, 'max_response_time': 1.0693688646426827, 'contribution': 0.7393753820383399}, 'InceptionV3': {'accuracy': 0.8978723404255319, 'confidence': 0.7798366470539824, 'avg_response_time': 0.5741019231124628, 'max_response_time': 0.6754832735299773, 'contribution': 0.7704617974605966}}, 'input_state': {'input_file_length': 15, 'image_height': 224, 'image_width': 224}, 'distribution_weights': [1.0, 1.0, 1.0, 1.0, 1.0, 0.0, 0.0, 0.0, 0.0, 0.0, 0.0, 0.0, 0.0, 0.0, 0.0, 0.0, 0.0, 0.0, 0.0, 0.0]}\n",
      "REWARD:  0.8825910931174089\n",
      "Worst model: EfficientNetV2L with score: 0.5911481481481482\n",
      "Model 'EfficientNetV2L' successfully removed from the target YAML.\n",
      "Best model: EfficientNetV2L with score: 0.5911481481481482\n",
      "Model 'EfficientNetV2L' successfully added to the target YAML.\n"
     ]
    },
    {
     "name": "stderr",
     "output_type": "stream",
     "text": [
      "2025-01-24 16:41:26,543:INFO -- Action: Replacing a model\n"
     ]
    },
    {
     "name": "stdout",
     "output_type": "stream",
     "text": [
      "STATE:  {'ensemble_state': {'total_energy_consumption': 0.023205572371097348, 'ensemble_size': 16}, 'model_states': {'InceptionResNetV2': {'accuracy': 0.907258064516129, 'confidence': 0.7945815861946152, 'avg_response_time': 2.067402126719381, 'max_response_time': 2.180662360029575, 'contribution': 0.7941533375170923}, 'MobileNetV2': {'accuracy': 0.8181818181818182, 'confidence': 0.6696003547736576, 'avg_response_time': 0.09704398342447201, 'max_response_time': 0.14616136826811602, 'contribution': 0.6822002017910862}, 'ResNet50V2': {'accuracy': 0.7247706422018348, 'confidence': 0.6635036680403106, 'avg_response_time': 0.3929068826087965, 'max_response_time': 0.4496864310626002, 'contribution': 0.6964438574029765}, 'ensemble': {'accuracy': 0.8830645161290323, 'confidence': 0.743141194132785, 'avg_response_time': 7.022737582466811, 'max_response_time': 7.2646600209859935, 'contribution': 0.9069926595735934}, 'EfficientNetV2S': {'accuracy': 0.9306122448979591, 'confidence': 0.8118913337892416, 'avg_response_time': 1.1453844778942854, 'max_response_time': 1.197277924930375, 'contribution': 0.788643970659801}, 'NASNetLarge': {'accuracy': 0.9262295081967213, 'confidence': 0.8176513182335212, 'avg_response_time': 3.818938266194957, 'max_response_time': 3.974230726139105, 'contribution': 0.8073629933546801}, 'EfficientNetB7': {'accuracy': 0.9421487603305785, 'confidence': 0.7052391782279842, 'avg_response_time': 7.120261120562929, 'max_response_time': 7.2560127503873435, 'contribution': 0.6625921047669797}, 'DenseNet201': {'accuracy': 0.8962655601659751, 'confidence': 0.8154821529427999, 'avg_response_time': 0.5827880052362385, 'max_response_time': 0.7171171364734032, 'contribution': 0.7988034338377323}, 'Xception': {'accuracy': 0.8708333333333333, 'confidence': 0.739810901756088, 'avg_response_time': 0.9908603821780914, 'max_response_time': 1.0693688646426827, 'contribution': 0.7403402514755726}, 'InceptionV3': {'accuracy': 0.8983050847457628, 'confidence': 0.7805488134844828, 'avg_response_time': 0.574171531958399, 'max_response_time': 0.6754832735299773, 'contribution': 0.7712136878300522}}, 'input_state': {'input_file_length': 14, 'image_height': 224, 'image_width': 224}, 'distribution_weights': [1.0, 1.0, 1.0, 1.0, 1.0, 0.0, 0.0, 0.0, 0.0, 0.0, 0.0, 0.0, 0.0, 0.0, 0.0, 0.0, 0.0, 0.0, 0.0, 0.0]}\n",
      "REWARD:  0.8830645161290323\n",
      "Worst model: EfficientNetV2L with score: 0.5911481481481482\n",
      "Model 'EfficientNetV2L' successfully removed from the target YAML.\n",
      "Best model: EfficientNetV2L with score: 0.5911481481481482\n",
      "Model 'EfficientNetV2L' successfully added to the target YAML.\n"
     ]
    },
    {
     "name": "stderr",
     "output_type": "stream",
     "text": [
      "2025-01-24 16:41:27,500:INFO -- Action: Replacing a model\n"
     ]
    },
    {
     "name": "stdout",
     "output_type": "stream",
     "text": [
      "STATE:  {'ensemble_state': {'total_energy_consumption': 0.023205572371097348, 'ensemble_size': 16}, 'model_states': {'InceptionResNetV2': {'accuracy': 0.9076305220883534, 'confidence': 0.7949849131356281, 'avg_response_time': 2.0676149880557873, 'max_response_time': 2.180662360029575, 'contribution': 0.7945583843323122}, 'MobileNetV2': {'accuracy': 0.8189655172413793, 'confidence': 0.6710075721915426, 'avg_response_time': 0.09700813059076392, 'max_response_time': 0.14616136826811602, 'contribution': 0.6835531095235512}, 'ResNet50V2': {'accuracy': 0.726027397260274, 'confidence': 0.6646777528878216, 'avg_response_time': 0.39291738713065194, 'max_response_time': 0.4496864310626002, 'contribution': 0.6974675304269138}, 'ensemble': {'accuracy': 0.8835341365461847, 'confidence': 0.7436999902311073, 'avg_response_time': 7.023053737008323, 'max_response_time': 7.2646600209859935, 'contribution': 0.9073504191565226}, 'EfficientNetV2S': {'accuracy': 0.9308943089430894, 'confidence': 0.8121966575461674, 'avg_response_time': 1.1453646405949982, 'max_response_time': 1.197277924930375, 'contribution': 0.7890437958928628}, 'NASNetLarge': {'accuracy': 0.926530612244898, 'confidence': 0.8179838117288083, 'avg_response_time': 3.819006091826883, 'max_response_time': 3.974230726139105, 'contribution': 0.8077374800127379}, 'EfficientNetB7': {'accuracy': 0.9423868312757202, 'confidence': 0.7055705511030347, 'avg_response_time': 7.1201499178267325, 'max_response_time': 7.2560127503873435, 'contribution': 0.6630989800019519}, 'DenseNet201': {'accuracy': 0.8966942148760331, 'confidence': 0.8162145892943232, 'avg_response_time': 0.5827485957971783, 'max_response_time': 0.7171171364734032, 'contribution': 0.7996047905161361}, 'Xception': {'accuracy': 0.8713692946058091, 'confidence': 0.7401270281477094, 'avg_response_time': 0.9908769595516522, 'max_response_time': 1.0693688646426827, 'contribution': 0.7406541813953289}, 'InceptionV3': {'accuracy': 0.8987341772151899, 'confidence': 0.7806514986959691, 'avg_response_time': 0.5744373734751399, 'max_response_time': 0.6754832735299773, 'contribution': 0.7713557617573799}}, 'input_state': {'input_file_length': 33, 'image_height': 224, 'image_width': 224}, 'distribution_weights': [1.0, 1.0, 1.0, 1.0, 1.0, 0.0, 0.0, 0.0, 0.0, 0.0, 0.0, 0.0, 0.0, 0.0, 0.0, 0.0, 0.0, 0.0, 0.0, 0.0]}\n",
      "REWARD:  0.8835341365461847\n",
      "Worst model: EfficientNetV2L with score: 0.5911481481481482\n",
      "Model 'EfficientNetV2L' successfully removed from the target YAML.\n",
      "Best model: EfficientNetV2L with score: 0.5911481481481482\n",
      "Model 'EfficientNetV2L' successfully added to the target YAML.\n"
     ]
    },
    {
     "name": "stderr",
     "output_type": "stream",
     "text": [
      "2025-01-24 16:41:28,465:INFO -- Action: Replacing a model\n"
     ]
    },
    {
     "name": "stdout",
     "output_type": "stream",
     "text": [
      "STATE:  {'ensemble_state': {'total_energy_consumption': 0.023205572371097348, 'ensemble_size': 16}, 'model_states': {'InceptionResNetV2': {'accuracy': 0.908, 'confidence': 0.7954466553926468, 'avg_response_time': 2.067601151923401, 'max_response_time': 2.180662360029575, 'contribution': 0.7950218327045441}, 'MobileNetV2': {'accuracy': 0.8197424892703863, 'confidence': 0.6720073316486097, 'avg_response_time': 0.09707727411759956, 'max_response_time': 0.14616136826811602, 'contribution': 0.6844990254727557}, 'ResNet50V2': {'accuracy': 0.7272727272727273, 'confidence': 0.6662019405852665, 'avg_response_time': 0.3930676904819174, 'max_response_time': 0.4496864310626002, 'contribution': 0.6988426736809991}, 'ensemble': {'accuracy': 0.884, 'confidence': 0.7444809552165245, 'avg_response_time': 7.023569982602538, 'max_response_time': 7.2646600209859935, 'contribution': 0.9077210136651993}, 'EfficientNetV2S': {'accuracy': 0.9311740890688259, 'confidence': 0.8125676868656869, 'avg_response_time': 1.1454025857949584, 'max_response_time': 1.197277924930375, 'contribution': 0.7895085614943794}, 'NASNetLarge': {'accuracy': 0.926829268292683, 'confidence': 0.8184282343562056, 'avg_response_time': 3.819067707001286, 'max_response_time': 3.974230726139105, 'contribution': 0.8082235543950786}, 'EfficientNetB7': {'accuracy': 0.9426229508196722, 'confidence': 0.7061852893379869, 'avg_response_time': 7.120242252260892, 'max_response_time': 7.2560127503873435, 'contribution': 0.6638877820528921}, 'DenseNet201': {'accuracy': 0.897119341563786, 'confidence': 0.8169692646819378, 'avg_response_time': 0.5826812237445509, 'max_response_time': 0.7171171364734032, 'contribution': 0.8004278189851424}, 'Xception': {'accuracy': 0.871900826446281, 'confidence': 0.7405607797636473, 'avg_response_time': 0.9908559183476711, 'max_response_time': 1.0693688646426827, 'contribution': 0.7410857546920618}, 'InceptionV3': {'accuracy': 0.8991596638655462, 'confidence': 0.7814471436147931, 'avg_response_time': 0.5745319815485512, 'max_response_time': 0.6754832735299773, 'contribution': 0.7721904643944332}}, 'input_state': {'input_file_length': 15, 'image_height': 224, 'image_width': 224}, 'distribution_weights': [1.0, 1.0, 1.0, 1.0, 1.0, 0.0, 0.0, 0.0, 0.0, 0.0, 0.0, 0.0, 0.0, 0.0, 0.0, 0.0, 0.0, 0.0, 0.0, 0.0]}\n",
      "REWARD:  0.884\n",
      "Worst model: EfficientNetV2L with score: 0.5911481481481482\n",
      "Model 'EfficientNetV2L' successfully removed from the target YAML.\n",
      "Best model: EfficientNetV2L with score: 0.5911481481481482\n",
      "Model 'EfficientNetV2L' successfully added to the target YAML.\n"
     ]
    },
    {
     "name": "stderr",
     "output_type": "stream",
     "text": [
      "2025-01-24 16:41:29,457:INFO -- Action: Adding a model\n"
     ]
    },
    {
     "name": "stdout",
     "output_type": "stream",
     "text": [
      "STATE:  {'ensemble_state': {'total_energy_consumption': 0.023205572371097348, 'ensemble_size': 16}, 'model_states': {'InceptionResNetV2': {'accuracy': 0.9083665338645418, 'confidence': 0.795504389174906, 'avg_response_time': 2.0675040056267706, 'max_response_time': 2.180662360029575, 'contribution': 0.795081259007473}, 'MobileNetV2': {'accuracy': 0.8162393162393162, 'confidence': 0.6691355054449831, 'avg_response_time': 0.09713896155670261, 'max_response_time': 0.14616136826811602, 'contribution': 0.6815738159621882}, 'ResNet50V2': {'accuracy': 0.7239819004524887, 'confidence': 0.6631874521663286, 'avg_response_time': 0.3930914221358525, 'max_response_time': 0.4496864310626002, 'contribution': 0.6956804896371936}, 'ensemble': {'accuracy': 0.8844621513944223, 'confidence': 0.7440063542709777, 'avg_response_time': 7.024092253112871, 'max_response_time': 7.2646600209859935, 'contribution': 0.9076906422457373}, 'EfficientNetV2S': {'accuracy': 0.9314516129032258, 'confidence': 0.8125580711470496, 'avg_response_time': 1.1454146389329853, 'max_response_time': 1.197277924930375, 'contribution': 0.7895919261199813}, 'NASNetLarge': {'accuracy': 0.9271255060728745, 'confidence': 0.8187588803198657, 'avg_response_time': 3.8190752036543256, 'max_response_time': 3.974230726139105, 'contribution': 0.8085955148525084}, 'EfficientNetB7': {'accuracy': 0.9428571428571428, 'confidence': 0.7055521169487311, 'avg_response_time': 7.120351094115495, 'max_response_time': 7.2560127503873435, 'contribution': 0.6634272525505144}, 'DenseNet201': {'accuracy': 0.8975409836065574, 'confidence': 0.8164322127084263, 'avg_response_time': 0.5827952334137613, 'max_response_time': 0.7171171364734032, 'contribution': 0.7999585598218636}, 'Xception': {'accuracy': 0.8724279835390947, 'confidence': 0.7405300462932743, 'avg_response_time': 0.9909181697964975, 'max_response_time': 1.0693688646426827, 'contribution': 0.7410528608310369}, 'InceptionV3': {'accuracy': 0.895397489539749, 'confidence': 0.778177490294229, 'avg_response_time': 0.5744640280004544, 'max_response_time': 0.6754832735299773, 'contribution': 0.7689595419492682}}, 'input_state': {'input_file_length': 15, 'image_height': 224, 'image_width': 224}, 'distribution_weights': [1.0, 1.0, 1.0, 1.0, 1.0, 0.0, 0.0, 0.0, 0.0, 0.0, 0.0, 0.0, 0.0, 0.0, 0.0, 0.0, 0.0, 0.0, 0.0, 0.0]}\n",
      "REWARD:  0.8844621513944223\n",
      "No eligible models to score.\n"
     ]
    },
    {
     "name": "stderr",
     "output_type": "stream",
     "text": [
      "2025-01-24 16:41:30,337:INFO -- Action: Adding a model\n"
     ]
    },
    {
     "name": "stdout",
     "output_type": "stream",
     "text": [
      "STATE:  {'ensemble_state': {'total_energy_consumption': 0.023205572371097348, 'ensemble_size': 16}, 'model_states': {'InceptionResNetV2': {'accuracy': 0.9087301587301587, 'confidence': 0.7960072163315046, 'avg_response_time': 2.067624954818348, 'max_response_time': 2.180662360029575, 'contribution': 0.7955857652520376}, 'MobileNetV2': {'accuracy': 0.8170212765957446, 'confidence': 0.6703696307983804, 'avg_response_time': 0.09716021169771871, 'max_response_time': 0.14616136826811602, 'contribution': 0.6827550123346613}, 'ResNet50V2': {'accuracy': 0.7252252252252253, 'confidence': 0.6647032857746691, 'avg_response_time': 0.3931221892354849, 'max_response_time': 0.4496864310626002, 'contribution': 0.6970499582118816}, 'ensemble': {'accuracy': 0.8849206349206349, 'confidence': 0.7447397270414696, 'avg_response_time': 7.02436140914675, 'max_response_time': 7.2646600209859935, 'contribution': 0.9080569146881028}, 'EfficientNetV2S': {'accuracy': 0.9317269076305221, 'confidence': 0.8130398949226701, 'avg_response_time': 1.1451596720495036, 'max_response_time': 1.197277924930375, 'contribution': 0.7901659834097667}, 'NASNetLarge': {'accuracy': 0.9274193548387096, 'confidence': 0.8189184886793937, 'avg_response_time': 3.8191277666625867, 'max_response_time': 3.974230726139105, 'contribution': 0.8087961045244048}, 'EfficientNetB7': {'accuracy': 0.943089430894309, 'confidence': 0.7058910242910308, 'avg_response_time': 7.120203786731544, 'max_response_time': 7.2560127503873435, 'contribution': 0.6639373991789856}, 'DenseNet201': {'accuracy': 0.8979591836734694, 'confidence': 0.8171756603279893, 'avg_response_time': 0.5828375977543041, 'max_response_time': 0.7171171364734032, 'contribution': 0.8007692468409635}, 'Xception': {'accuracy': 0.8729508196721312, 'confidence': 0.7405947614155832, 'avg_response_time': 0.9907644148219318, 'max_response_time': 1.0693688646426827, 'contribution': 0.741115433270814}, 'InceptionV3': {'accuracy': 0.8958333333333334, 'confidence': 0.7790869417289893, 'avg_response_time': 0.5745577905697452, 'max_response_time': 0.6754832735299773, 'contribution': 0.7699074015021324}}, 'input_state': {'input_file_length': 14, 'image_height': 224, 'image_width': 224}, 'distribution_weights': [1.0, 1.0, 1.0, 1.0, 1.0, 0.0, 0.0, 0.0, 0.0, 0.0, 0.0, 0.0, 0.0, 0.0, 0.0, 0.0, 0.0, 0.0, 0.0, 0.0]}\n",
      "REWARD:  0.8849206349206349\n",
      "No eligible models to score.\n"
     ]
    },
    {
     "name": "stderr",
     "output_type": "stream",
     "text": [
      "2025-01-24 16:41:31,233:INFO -- Action: Replacing a model\n"
     ]
    },
    {
     "name": "stdout",
     "output_type": "stream",
     "text": [
      "STATE:  {'ensemble_state': {'total_energy_consumption': 0.023205572371097348, 'ensemble_size': 16}, 'model_states': {'InceptionResNetV2': {'accuracy': 0.9090909090909091, 'confidence': 0.7965037058229032, 'avg_response_time': 2.0675131348624283, 'max_response_time': 2.180662360029575, 'contribution': 0.7960839205579795}, 'MobileNetV2': {'accuracy': 0.8177966101694916, 'confidence': 0.6711075360239562, 'avg_response_time': 0.09720907067475537, 'max_response_time': 0.14616136826811602, 'contribution': 0.6834404371299986}, 'ResNet50V2': {'accuracy': 0.726457399103139, 'confidence': 0.666206322844253, 'avg_response_time': 0.3931184900618234, 'max_response_time': 0.4496864310626002, 'contribution': 0.6984079429386977}, 'ensemble': {'accuracy': 0.8853754940711462, 'confidence': 0.7454612522769953, 'avg_response_time': 7.0245175147844945, 'max_response_time': 7.2646600209859935, 'contribution': 0.9084200184100231}, 'EfficientNetV2S': {'accuracy': 0.932, 'confidence': 0.8135711745023727, 'avg_response_time': 1.145138295227141, 'max_response_time': 1.197277924930375, 'contribution': 0.7907887586355209}, 'NASNetLarge': {'accuracy': 0.927710843373494, 'confidence': 0.8192520172720453, 'avg_response_time': 3.8189755428747705, 'max_response_time': 3.974230726139105, 'contribution': 0.8091702852622572}, 'EfficientNetB7': {'accuracy': 0.9433198380566802, 'confidence': 0.706439236880314, 'avg_response_time': 7.1199552783725535, 'max_response_time': 7.2560127503873435, 'contribution': 0.664655464501516}, 'DenseNet201': {'accuracy': 0.8983739837398373, 'confidence': 0.817886965061591, 'avg_response_time': 0.5829874823670126, 'max_response_time': 0.7171171364734032, 'contribution': 0.8015472443123174}, 'Xception': {'accuracy': 0.8734693877551021, 'confidence': 0.7414220966854874, 'avg_response_time': 0.9907378905606806, 'max_response_time': 1.0693688646426827, 'contribution': 0.7419406433494724}, 'InceptionV3': {'accuracy': 0.8962655601659751, 'confidence': 0.7799821535581375, 'avg_response_time': 0.574538812421076, 'max_response_time': 0.6754832735299773, 'contribution': 0.7708407027098153}}, 'input_state': {'input_file_length': 15, 'image_height': 224, 'image_width': 224}, 'distribution_weights': [1.0, 1.0, 1.0, 1.0, 1.0, 0.0, 0.0, 0.0, 0.0, 0.0, 0.0, 0.0, 0.0, 0.0, 0.0, 0.0, 0.0, 0.0, 0.0, 0.0]}\n",
      "REWARD:  0.8853754940711462\n",
      "Worst model: EfficientNetV2L with score: 0.5911481481481482\n",
      "Model 'EfficientNetV2L' successfully removed from the target YAML.\n",
      "Best model: EfficientNetV2L with score: 0.5911481481481482\n",
      "Model 'EfficientNetV2L' successfully added to the target YAML.\n"
     ]
    },
    {
     "name": "stderr",
     "output_type": "stream",
     "text": [
      "2025-01-24 16:41:32,145:INFO -- Action: Replacing a model\n"
     ]
    },
    {
     "name": "stdout",
     "output_type": "stream",
     "text": [
      "STATE:  {'ensemble_state': {'total_energy_consumption': 0.023205572371097348, 'ensemble_size': 16}, 'model_states': {'InceptionResNetV2': {'accuracy': 0.9094488188976378, 'confidence': 0.7968806989314988, 'avg_response_time': 2.0675561885876115, 'max_response_time': 2.180662360029575, 'contribution': 0.7964625663644685}, 'MobileNetV2': {'accuracy': 0.8185654008438819, 'confidence': 0.672262230377157, 'avg_response_time': 0.09721530093313789, 'max_response_time': 0.14616136826811602, 'contribution': 0.6845430939257899}, 'ResNet50V2': {'accuracy': 0.7276785714285714, 'confidence': 0.6676963747345975, 'avg_response_time': 0.3931362368724642, 'max_response_time': 0.4496864310626002, 'contribution': 0.6997542375964778}, 'ensemble': {'accuracy': 0.8858267716535433, 'confidence': 0.7461568889022239, 'avg_response_time': 7.025124228676092, 'max_response_time': 7.2646600209859935, 'contribution': 0.9087804826929813}, 'EfficientNetV2S': {'accuracy': 0.9322709163346613, 'confidence': 0.8139706309810578, 'avg_response_time': 1.1451168421819014, 'max_response_time': 1.197277924930375, 'contribution': 0.7912789817112851}, 'NASNetLarge': {'accuracy': 0.928, 'confidence': 0.8195125267505646, 'avg_response_time': 3.8188822457244203, 'max_response_time': 3.974230726139105, 'contribution': 0.8094711216688156}, 'EfficientNetB7': {'accuracy': 0.9435483870967742, 'confidence': 0.7069408403288934, 'avg_response_time': 7.120158684087348, 'max_response_time': 7.2560127503873435, 'contribution': 0.6653255509032358}, 'DenseNet201': {'accuracy': 0.8987854251012146, 'confidence': 0.8186236446203008, 'avg_response_time': 0.5829899497754022, 'max_response_time': 0.7171171364734032, 'contribution': 0.8023500765866114}, 'Xception': {'accuracy': 0.8739837398373984, 'confidence': 0.7423364993760256, 'avg_response_time': 0.9908110729678002, 'max_response_time': 1.0693688646426827, 'contribution': 0.7428529381267424}, 'InceptionV3': {'accuracy': 0.8966942148760331, 'confidence': 0.7808772175272635, 'avg_response_time': 0.5745264570001887, 'max_response_time': 0.6754832735299773, 'contribution': 0.7717735412692236}}, 'input_state': {'input_file_length': 15, 'image_height': 224, 'image_width': 224}, 'distribution_weights': [1.0, 1.0, 1.0, 1.0, 1.0, 0.0, 0.0, 0.0, 0.0, 0.0, 0.0, 0.0, 0.0, 0.0, 0.0, 0.0, 0.0, 0.0, 0.0, 0.0]}\n",
      "REWARD:  0.8858267716535433\n",
      "Worst model: EfficientNetV2L with score: 0.5911481481481482\n",
      "Model 'EfficientNetV2L' successfully removed from the target YAML.\n",
      "Best model: EfficientNetV2L with score: 0.5911481481481482\n",
      "Model 'EfficientNetV2L' successfully added to the target YAML.\n"
     ]
    },
    {
     "name": "stderr",
     "output_type": "stream",
     "text": [
      "2025-01-24 16:41:33,090:INFO -- Action: Replacing a model\n"
     ]
    },
    {
     "name": "stdout",
     "output_type": "stream",
     "text": [
      "STATE:  {'ensemble_state': {'total_energy_consumption': 0.023205572371097348, 'ensemble_size': 16}, 'model_states': {'InceptionResNetV2': {'accuracy': 0.9098039215686274, 'confidence': 0.796143926709306, 'avg_response_time': 2.0676796481826845, 'max_response_time': 2.180662360029575, 'contribution': 0.7933391837512745}, 'MobileNetV2': {'accuracy': 0.8151260504201681, 'confidence': 0.6694375991570849, 'avg_response_time': 0.09724393735886744, 'max_response_time': 0.14616136826811602, 'contribution': 0.6831535009526405}, 'ResNet50V2': {'accuracy': 0.7244444444444444, 'confidence': 0.6647288352913326, 'avg_response_time': 0.3932358978586694, 'max_response_time': 0.4496864310626002, 'contribution': 0.6966442187627157}, 'ensemble': {'accuracy': 0.8823529411764706, 'confidence': 0.7432307834555485, 'avg_response_time': 7.025724550937711, 'max_response_time': 7.2646600209859935, 'contribution': 0.9082153623010598}, 'EfficientNetV2S': {'accuracy': 0.9325396825396826, 'confidence': 0.8131378183052653, 'avg_response_time': 1.1450713235987002, 'max_response_time': 1.197277924930375, 'contribution': 0.7881389857521133}, 'NASNetLarge': {'accuracy': 0.9282868525896414, 'confidence': 0.8178566954287875, 'avg_response_time': 3.818897038615119, 'max_response_time': 3.974230726139105, 'contribution': 0.8062461371203343}, 'EfficientNetB7': {'accuracy': 0.9437751004016064, 'confidence': 0.7053565660633715, 'avg_response_time': 7.120332884590578, 'max_response_time': 7.2560127503873435, 'contribution': 0.6626535607389656}, 'DenseNet201': {'accuracy': 0.8991935483870968, 'confidence': 0.8165328033989475, 'avg_response_time': 0.5830247543630095, 'max_response_time': 0.7171171364734032, 'contribution': 0.800542161108986}, 'Xception': {'accuracy': 0.8704453441295547, 'confidence': 0.7393310884473777, 'avg_response_time': 0.9908795764877074, 'max_response_time': 1.0693688646426827, 'contribution': 0.7398454363529499}, 'InceptionV3': {'accuracy': 0.897119341563786, 'confidence': 0.7800659184102658, 'avg_response_time': 0.5744707716390857, 'max_response_time': 0.6754832735299773, 'contribution': 0.7685975184656465}}, 'input_state': {'input_file_length': 15, 'image_height': 224, 'image_width': 224}, 'distribution_weights': [1.0, 1.0, 1.0, 1.0, 1.0, 0.0, 0.0, 0.0, 0.0, 0.0, 0.0, 0.0, 0.0, 0.0, 0.0, 0.0, 0.0, 0.0, 0.0, 0.0]}\n",
      "REWARD:  0.8823529411764706\n",
      "Worst model: EfficientNetV2L with score: 0.5911481481481482\n",
      "Model 'EfficientNetV2L' successfully removed from the target YAML.\n",
      "Best model: EfficientNetV2L with score: 0.5911481481481482\n",
      "Model 'EfficientNetV2L' successfully added to the target YAML.\n"
     ]
    },
    {
     "name": "stderr",
     "output_type": "stream",
     "text": [
      "2025-01-24 16:41:34,196:INFO -- Action: Keeping the ensemble\n"
     ]
    },
    {
     "name": "stdout",
     "output_type": "stream",
     "text": [
      "STATE:  {'ensemble_state': {'total_energy_consumption': 0.023205572371097348, 'ensemble_size': 16}, 'model_states': {'InceptionResNetV2': {'accuracy': 0.91015625, 'confidence': 0.7954129105200991, 'avg_response_time': 2.067594737473505, 'max_response_time': 2.180662360029575, 'contribution': 0.7902402025647461}, 'MobileNetV2': {'accuracy': 0.8117154811715481, 'confidence': 0.6666366050183523, 'avg_response_time': 0.09731835631160383, 'max_response_time': 0.14616136826811602, 'contribution': 0.6817755363725718}, 'ResNet50V2': {'accuracy': 0.7212389380530974, 'confidence': 0.6617875572590701, 'avg_response_time': 0.39352555477224754, 'max_response_time': 0.45869836032732075, 'contribution': 0.6935617222195178}, 'ensemble': {'accuracy': 0.87890625, 'confidence': 0.7403275382076753, 'avg_response_time': 7.02620815864461, 'max_response_time': 7.2646600209859935, 'contribution': 0.9076546569122002}, 'EfficientNetV2S': {'accuracy': 0.932806324110672, 'confidence': 0.8123115891288862, 'avg_response_time': 1.1451296573777217, 'max_response_time': 1.197277924930375, 'contribution': 0.7850238118953856}, 'NASNetLarge': {'accuracy': 0.9285714285714286, 'confidence': 0.8162140056254372, 'avg_response_time': 3.8189049260240227, 'max_response_time': 3.974230726139105, 'contribution': 0.8030467476873171}, 'EfficientNetB7': {'accuracy': 0.944, 'confidence': 0.7037849659919739, 'avg_response_time': 7.120409014163894, 'max_response_time': 7.2560127503873435, 'contribution': 0.6600029464960099}, 'DenseNet201': {'accuracy': 0.8995983935742972, 'confidence': 0.8144587560829867, 'avg_response_time': 0.5829233670685111, 'max_response_time': 0.7171171364734032, 'contribution': 0.7987487670408195}, 'Xception': {'accuracy': 0.8669354838709677, 'confidence': 0.7363499147036383, 'avg_response_time': 0.9908154053933464, 'max_response_time': 1.0693688646426827, 'contribution': 0.7368621886257203}, 'InceptionV3': {'accuracy': 0.8975409836065574, 'confidence': 0.7792612692860307, 'avg_response_time': 0.5745281971195584, 'max_response_time': 0.6754832735299773, 'contribution': 0.7654475286358693}}, 'input_state': {'input_file_length': 15, 'image_height': 224, 'image_width': 224}, 'distribution_weights': [1.0, 1.0, 1.0, 1.0, 1.0, 0.0, 0.0, 0.0, 0.0, 0.0, 0.0, 0.0, 0.0, 0.0, 0.0, 0.0, 0.0, 0.0, 0.0, 0.0]}\n",
      "REWARD:  0.87890625\n"
     ]
    },
    {
     "name": "stderr",
     "output_type": "stream",
     "text": [
      "2025-01-24 16:41:34,967:INFO -- Action: Adding a model\n"
     ]
    },
    {
     "name": "stdout",
     "output_type": "stream",
     "text": [
      "STATE:  {'ensemble_state': {'total_energy_consumption': 0.023205572371097348, 'ensemble_size': 16}, 'model_states': {'InceptionResNetV2': {'accuracy': 0.9105058365758755, 'confidence': 0.7959134459263619, 'avg_response_time': 2.0674613601049177, 'max_response_time': 2.180662360029575, 'contribution': 0.7907608652393178}, 'MobileNetV2': {'accuracy': 0.8125, 'confidence': 0.6678886576245229, 'avg_response_time': 0.0972932785683933, 'max_response_time': 0.14616136826811602, 'contribution': 0.6829645100980997}, 'ResNet50V2': {'accuracy': 0.7224669603524229, 'confidence': 0.6632774799143165, 'avg_response_time': 0.3935306488796299, 'max_response_time': 0.45869836032732075, 'contribution': 0.6949116705797842}, 'ensemble': {'accuracy': 0.8793774319066148, 'confidence': 0.7410537531647599, 'avg_response_time': 7.026683307037977, 'max_response_time': 7.2646600209859935, 'contribution': 0.90801397731332}, 'EfficientNetV2S': {'accuracy': 0.9330708661417323, 'confidence': 0.8127779459624779, 'avg_response_time': 1.145086640973641, 'max_response_time': 1.197277924930375, 'contribution': 0.7855976009228098}, 'NASNetLarge': {'accuracy': 0.9288537549407114, 'confidence': 0.8165835535573394, 'avg_response_time': 3.8188669524187477, 'max_response_time': 3.974230726139105, 'contribution': 0.8034683401169984}, 'EfficientNetB7': {'accuracy': 0.9442231075697212, 'confidence': 0.7041633447327936, 'avg_response_time': 7.12048291923087, 'max_response_time': 7.2560127503873435, 'contribution': 0.6605557555933873}, 'DenseNet201': {'accuracy': 0.9, 'confidence': 0.8152009167671204, 'avg_response_time': 0.5830026898797168, 'max_response_time': 0.7171171364734032, 'contribution': 0.7995537676811219}, 'Xception': {'accuracy': 0.8674698795180723, 'confidence': 0.7369982634921629, 'avg_response_time': 0.9909413537216258, 'max_response_time': 1.0693688646426827, 'contribution': 0.7375084800892565}, 'InceptionV3': {'accuracy': 0.8979591836734694, 'confidence': 0.7801558669732541, 'avg_response_time': 0.5746410659488729, 'max_response_time': 0.6754832735299773, 'contribution': 0.7663985089379914}}, 'input_state': {'input_file_length': 15, 'image_height': 224, 'image_width': 224}, 'distribution_weights': [1.0, 1.0, 1.0, 1.0, 1.0, 0.0, 0.0, 0.0, 0.0, 0.0, 0.0, 0.0, 0.0, 0.0, 0.0, 0.0, 0.0, 0.0, 0.0, 0.0]}\n",
      "REWARD:  0.8793774319066148\n",
      "No eligible models to score.\n"
     ]
    },
    {
     "name": "stderr",
     "output_type": "stream",
     "text": [
      "2025-01-24 16:41:35,700:INFO -- Action: Keeping the ensemble\n"
     ]
    },
    {
     "name": "stdout",
     "output_type": "stream",
     "text": [
      "STATE:  {'ensemble_state': {'total_energy_consumption': 0.023205572371097348, 'ensemble_size': 16}, 'model_states': {'InceptionResNetV2': {'accuracy': 0.9108527131782945, 'confidence': 0.7964031935431236, 'avg_response_time': 2.0673769577244414, 'max_response_time': 2.180662360029575, 'contribution': 0.7912705840990525}, 'MobileNetV2': {'accuracy': 0.8132780082987552, 'confidence': 0.6681694050794815, 'avg_response_time': 0.09726523926958679, 'max_response_time': 0.14616136826811602, 'contribution': 0.6831827021486037}, 'ResNet50V2': {'accuracy': 0.7236842105263158, 'confidence': 0.6640511807381061, 'avg_response_time': 0.39358299432556637, 'max_response_time': 0.45869836032732075, 'contribution': 0.6955466249532867}, 'ensemble': {'accuracy': 0.8798449612403101, 'confidence': 0.7413945112668472, 'avg_response_time': 7.027052110398936, 'max_response_time': 7.2646600209859935, 'contribution': 0.9083629198545633}, 'EfficientNetV2S': {'accuracy': 0.9333333333333333, 'confidence': 0.8131704864548702, 'avg_response_time': 1.1450391910105036, 'max_response_time': 1.197277924930375, 'contribution': 0.786096731003593}, 'NASNetLarge': {'accuracy': 0.9291338582677166, 'confidence': 0.8169507576724676, 'avg_response_time': 3.8188504727165458, 'max_response_time': 3.974230726139105, 'contribution': 0.8038871789307106}, 'EfficientNetB7': {'accuracy': 0.9444444444444444, 'confidence': 0.7044150006203425, 'avg_response_time': 7.120452474322204, 'max_response_time': 7.2560127503873435, 'contribution': 0.6609804574695844}, 'DenseNet201': {'accuracy': 0.900398406374502, 'confidence': 0.8159293639232438, 'avg_response_time': 0.5829554872035277, 'max_response_time': 0.7171171364734032, 'contribution': 0.8003445540766317}, 'Xception': {'accuracy': 0.868, 'confidence': 0.7376693795919418, 'avg_response_time': 0.9909492172133272, 'max_response_time': 1.0693688646426827, 'contribution': 0.7381775553226471}, 'InceptionV3': {'accuracy': 0.8983739837398373, 'confidence': 0.7807508617397246, 'avg_response_time': 0.5747507990578326, 'max_response_time': 0.6754832735299773, 'contribution': 0.7670494279241175}}, 'input_state': {'input_file_length': 15, 'image_height': 224, 'image_width': 224}, 'distribution_weights': [1.0, 1.0, 1.0, 1.0, 1.0, 0.0, 0.0, 0.0, 0.0, 0.0, 0.0, 0.0, 0.0, 0.0, 0.0, 0.0, 0.0, 0.0, 0.0, 0.0]}\n",
      "REWARD:  0.8798449612403101\n"
     ]
    },
    {
     "name": "stderr",
     "output_type": "stream",
     "text": [
      "2025-01-24 16:41:36,438:INFO -- Action: Replacing a model\n"
     ]
    },
    {
     "name": "stdout",
     "output_type": "stream",
     "text": [
      "STATE:  {'ensemble_state': {'total_energy_consumption': 0.023205572371097348, 'ensemble_size': 16}, 'model_states': {'InceptionResNetV2': {'accuracy': 0.9111969111969112, 'confidence': 0.7965968721851879, 'avg_response_time': 2.0675843284940068, 'max_response_time': 2.180662360029575, 'contribution': 0.7914840797659973}, 'MobileNetV2': {'accuracy': 0.8140495867768595, 'confidence': 0.6692783552999338, 'avg_response_time': 0.09722324304566114, 'max_response_time': 0.14616136826811602, 'contribution': 0.684229613951415}, 'ResNet50V2': {'accuracy': 0.7248908296943232, 'confidence': 0.665335192560629, 'avg_response_time': 0.39349314070989755, 'max_response_time': 0.45869836032732075, 'contribution': 0.6966931020849136}, 'ensemble': {'accuracy': 0.8803088803088803, 'confidence': 0.742061476995545, 'avg_response_time': 7.0273349513123655, 'max_response_time': 7.2646600209859935, 'contribution': 0.908708147215567}, 'EfficientNetV2S': {'accuracy': 0.93359375, 'confidence': 0.8134815456578508, 'avg_response_time': 1.1450329257230216, 'max_response_time': 1.197277924930375, 'contribution': 0.7865135470638052}, 'NASNetLarge': {'accuracy': 0.9294117647058824, 'confidence': 0.8173299941362119, 'avg_response_time': 3.81898765922193, 'max_response_time': 3.974230726139105, 'contribution': 0.8043176451150109}, 'EfficientNetB7': {'accuracy': 0.9446640316205533, 'confidence': 0.7050293943156367, 'avg_response_time': 7.120336457307587, 'max_response_time': 7.2560127503873435, 'contribution': 0.6617665292010477}, 'DenseNet201': {'accuracy': 0.9007936507936508, 'confidence': 0.8166281337302829, 'avg_response_time': 0.5828526190353271, 'max_response_time': 0.7171171364734032, 'contribution': 0.801105168367189}, 'Xception': {'accuracy': 0.8685258964143426, 'confidence': 0.7386195406733281, 'avg_response_time': 0.9909064319087363, 'max_response_time': 1.0693688646426827, 'contribution': 0.7391256917995286}, 'InceptionV3': {'accuracy': 0.8987854251012146, 'confidence': 0.7813122451064075, 'avg_response_time': 0.574744611870311, 'max_response_time': 0.6754832735299773, 'contribution': 0.7676662826827663}}, 'input_state': {'input_file_length': 14, 'image_height': 224, 'image_width': 224}, 'distribution_weights': [1.0, 1.0, 1.0, 1.0, 1.0, 0.0, 0.0, 0.0, 0.0, 0.0, 0.0, 0.0, 0.0, 0.0, 0.0, 0.0, 0.0, 0.0, 0.0, 0.0]}\n",
      "REWARD:  0.8803088803088803\n",
      "Worst model: EfficientNetV2L with score: 0.5911481481481482\n",
      "Model 'EfficientNetV2L' successfully removed from the target YAML.\n",
      "Best model: EfficientNetV2L with score: 0.5911481481481482\n",
      "Model 'EfficientNetV2L' successfully added to the target YAML.\n"
     ]
    },
    {
     "name": "stderr",
     "output_type": "stream",
     "text": [
      "2025-01-24 16:41:37,373:INFO -- Action: Keeping the ensemble\n"
     ]
    },
    {
     "name": "stdout",
     "output_type": "stream",
     "text": [
      "STATE:  {'ensemble_state': {'total_energy_consumption': 0.023205572371097348, 'ensemble_size': 16}, 'model_states': {'InceptionResNetV2': {'accuracy': 0.9115384615384615, 'confidence': 0.7971581570230998, 'avg_response_time': 2.0677557825246784, 'max_response_time': 2.180662360029575, 'contribution': 0.7920650291901369}, 'MobileNetV2': {'accuracy': 0.8148148148148148, 'confidence': 0.6703435073418872, 'avg_response_time': 0.09723097644255943, 'max_response_time': 0.14616136826811602, 'contribution': 0.6852332381799878}, 'ResNet50V2': {'accuracy': 0.7260869565217392, 'confidence': 0.6667768746614456, 'avg_response_time': 0.3935776588935886, 'max_response_time': 0.45869836032732075, 'contribution': 0.6979984454486681}, 'ensemble': {'accuracy': 0.8807692307692307, 'confidence': 0.7428492024676897, 'avg_response_time': 7.027748500483443, 'max_response_time': 7.2646600209859935, 'contribution': 0.9090582566765638}, 'EfficientNetV2S': {'accuracy': 0.933852140077821, 'confidence': 0.8137610836483625, 'avg_response_time': 1.1449302841692148, 'max_response_time': 1.197277924930375, 'contribution': 0.7868980189009863}, 'NASNetLarge': {'accuracy': 0.9296875, 'confidence': 0.8177092634141445, 'avg_response_time': 3.8190098236530927, 'max_response_time': 3.974230726139105, 'contribution': 0.8047477438813075}, 'EfficientNetB7': {'accuracy': 0.9448818897637795, 'confidence': 0.7055751038348581, 'avg_response_time': 7.120348119068647, 'max_response_time': 7.2560127503873435, 'contribution': 0.6624825649608778}, 'DenseNet201': {'accuracy': 0.9011857707509882, 'confidence': 0.8172640088989801, 'avg_response_time': 0.5827025956528773, 'max_response_time': 0.7171171364734032, 'contribution': 0.8018023991302068}, 'Xception': {'accuracy': 0.8690476190476191, 'confidence': 0.7395702771960743, 'avg_response_time': 0.9909527150931682, 'max_response_time': 1.0693688646426827, 'contribution': 0.7400744197860597}, 'InceptionV3': {'accuracy': 0.8991935483870968, 'confidence': 0.7821713758091773, 'avg_response_time': 0.5748058341441704, 'max_response_time': 0.6754832735299773, 'contribution': 0.7685804374275669}}, 'input_state': {'input_file_length': 15, 'image_height': 224, 'image_width': 224}, 'distribution_weights': [1.0, 1.0, 1.0, 1.0, 1.0, 0.0, 0.0, 0.0, 0.0, 0.0, 0.0, 0.0, 0.0, 0.0, 0.0, 0.0, 0.0, 0.0, 0.0, 0.0]}\n",
      "REWARD:  0.8807692307692307\n"
     ]
    },
    {
     "ename": "KeyboardInterrupt",
     "evalue": "",
     "output_type": "error",
     "traceback": [
      "\u001b[1;31m---------------------------------------------------------------------------\u001b[0m",
      "\u001b[1;31mKeyboardInterrupt\u001b[0m                         Traceback (most recent call last)",
      "Cell \u001b[1;32mIn[2], line 10\u001b[0m\n\u001b[0;32m      8\u001b[0m \u001b[38;5;66;03m# Train the agent\u001b[39;00m\n\u001b[0;32m      9\u001b[0m model \u001b[38;5;241m=\u001b[39m PPO(\u001b[38;5;124m\"\u001b[39m\u001b[38;5;124mMlpPolicy\u001b[39m\u001b[38;5;124m\"\u001b[39m, env, verbose\u001b[38;5;241m=\u001b[39m\u001b[38;5;241m1\u001b[39m, n_steps\u001b[38;5;241m=\u001b[39m\u001b[38;5;241m1028\u001b[39m)\n\u001b[1;32m---> 10\u001b[0m \u001b[43mmodel\u001b[49m\u001b[38;5;241;43m.\u001b[39;49m\u001b[43mlearn\u001b[49m\u001b[43m(\u001b[49m\u001b[43mtotal_timesteps\u001b[49m\u001b[38;5;241;43m=\u001b[39;49m\u001b[38;5;241;43m1\u001b[39;49m\u001b[43m)\u001b[49m\n\u001b[0;32m     12\u001b[0m \u001b[38;5;66;03m# Save the trained model\u001b[39;00m\n\u001b[0;32m     13\u001b[0m model\u001b[38;5;241m.\u001b[39msave(\u001b[38;5;124m\"\u001b[39m\u001b[38;5;124msimulation_policy\u001b[39m\u001b[38;5;124m\"\u001b[39m)\n",
      "File \u001b[1;32mc:\\Users\\Filippo\\anaconda3\\Lib\\site-packages\\stable_baselines3\\ppo\\ppo.py:311\u001b[0m, in \u001b[0;36mPPO.learn\u001b[1;34m(self, total_timesteps, callback, log_interval, tb_log_name, reset_num_timesteps, progress_bar)\u001b[0m\n\u001b[0;32m    302\u001b[0m \u001b[38;5;28;01mdef\u001b[39;00m \u001b[38;5;21mlearn\u001b[39m(\n\u001b[0;32m    303\u001b[0m     \u001b[38;5;28mself\u001b[39m: SelfPPO,\n\u001b[0;32m    304\u001b[0m     total_timesteps: \u001b[38;5;28mint\u001b[39m,\n\u001b[1;32m   (...)\u001b[0m\n\u001b[0;32m    309\u001b[0m     progress_bar: \u001b[38;5;28mbool\u001b[39m \u001b[38;5;241m=\u001b[39m \u001b[38;5;28;01mFalse\u001b[39;00m,\n\u001b[0;32m    310\u001b[0m ) \u001b[38;5;241m-\u001b[39m\u001b[38;5;241m>\u001b[39m SelfPPO:\n\u001b[1;32m--> 311\u001b[0m     \u001b[38;5;28;01mreturn\u001b[39;00m \u001b[38;5;28;43msuper\u001b[39;49m\u001b[43m(\u001b[49m\u001b[43m)\u001b[49m\u001b[38;5;241;43m.\u001b[39;49m\u001b[43mlearn\u001b[49m\u001b[43m(\u001b[49m\n\u001b[0;32m    312\u001b[0m \u001b[43m        \u001b[49m\u001b[43mtotal_timesteps\u001b[49m\u001b[38;5;241;43m=\u001b[39;49m\u001b[43mtotal_timesteps\u001b[49m\u001b[43m,\u001b[49m\n\u001b[0;32m    313\u001b[0m \u001b[43m        \u001b[49m\u001b[43mcallback\u001b[49m\u001b[38;5;241;43m=\u001b[39;49m\u001b[43mcallback\u001b[49m\u001b[43m,\u001b[49m\n\u001b[0;32m    314\u001b[0m \u001b[43m        \u001b[49m\u001b[43mlog_interval\u001b[49m\u001b[38;5;241;43m=\u001b[39;49m\u001b[43mlog_interval\u001b[49m\u001b[43m,\u001b[49m\n\u001b[0;32m    315\u001b[0m \u001b[43m        \u001b[49m\u001b[43mtb_log_name\u001b[49m\u001b[38;5;241;43m=\u001b[39;49m\u001b[43mtb_log_name\u001b[49m\u001b[43m,\u001b[49m\n\u001b[0;32m    316\u001b[0m \u001b[43m        \u001b[49m\u001b[43mreset_num_timesteps\u001b[49m\u001b[38;5;241;43m=\u001b[39;49m\u001b[43mreset_num_timesteps\u001b[49m\u001b[43m,\u001b[49m\n\u001b[0;32m    317\u001b[0m \u001b[43m        \u001b[49m\u001b[43mprogress_bar\u001b[49m\u001b[38;5;241;43m=\u001b[39;49m\u001b[43mprogress_bar\u001b[49m\u001b[43m,\u001b[49m\n\u001b[0;32m    318\u001b[0m \u001b[43m    \u001b[49m\u001b[43m)\u001b[49m\n",
      "File \u001b[1;32mc:\\Users\\Filippo\\anaconda3\\Lib\\site-packages\\stable_baselines3\\common\\on_policy_algorithm.py:323\u001b[0m, in \u001b[0;36mOnPolicyAlgorithm.learn\u001b[1;34m(self, total_timesteps, callback, log_interval, tb_log_name, reset_num_timesteps, progress_bar)\u001b[0m\n\u001b[0;32m    320\u001b[0m \u001b[38;5;28;01massert\u001b[39;00m \u001b[38;5;28mself\u001b[39m\u001b[38;5;241m.\u001b[39menv \u001b[38;5;129;01mis\u001b[39;00m \u001b[38;5;129;01mnot\u001b[39;00m \u001b[38;5;28;01mNone\u001b[39;00m\n\u001b[0;32m    322\u001b[0m \u001b[38;5;28;01mwhile\u001b[39;00m \u001b[38;5;28mself\u001b[39m\u001b[38;5;241m.\u001b[39mnum_timesteps \u001b[38;5;241m<\u001b[39m total_timesteps:\n\u001b[1;32m--> 323\u001b[0m     continue_training \u001b[38;5;241m=\u001b[39m \u001b[38;5;28;43mself\u001b[39;49m\u001b[38;5;241;43m.\u001b[39;49m\u001b[43mcollect_rollouts\u001b[49m\u001b[43m(\u001b[49m\u001b[38;5;28;43mself\u001b[39;49m\u001b[38;5;241;43m.\u001b[39;49m\u001b[43menv\u001b[49m\u001b[43m,\u001b[49m\u001b[43m \u001b[49m\u001b[43mcallback\u001b[49m\u001b[43m,\u001b[49m\u001b[43m \u001b[49m\u001b[38;5;28;43mself\u001b[39;49m\u001b[38;5;241;43m.\u001b[39;49m\u001b[43mrollout_buffer\u001b[49m\u001b[43m,\u001b[49m\u001b[43m \u001b[49m\u001b[43mn_rollout_steps\u001b[49m\u001b[38;5;241;43m=\u001b[39;49m\u001b[38;5;28;43mself\u001b[39;49m\u001b[38;5;241;43m.\u001b[39;49m\u001b[43mn_steps\u001b[49m\u001b[43m)\u001b[49m\n\u001b[0;32m    325\u001b[0m     \u001b[38;5;28;01mif\u001b[39;00m \u001b[38;5;129;01mnot\u001b[39;00m continue_training:\n\u001b[0;32m    326\u001b[0m         \u001b[38;5;28;01mbreak\u001b[39;00m\n",
      "File \u001b[1;32mc:\\Users\\Filippo\\anaconda3\\Lib\\site-packages\\stable_baselines3\\common\\on_policy_algorithm.py:218\u001b[0m, in \u001b[0;36mOnPolicyAlgorithm.collect_rollouts\u001b[1;34m(self, env, callback, rollout_buffer, n_rollout_steps)\u001b[0m\n\u001b[0;32m    213\u001b[0m     \u001b[38;5;28;01melse\u001b[39;00m:\n\u001b[0;32m    214\u001b[0m         \u001b[38;5;66;03m# Otherwise, clip the actions to avoid out of bound error\u001b[39;00m\n\u001b[0;32m    215\u001b[0m         \u001b[38;5;66;03m# as we are sampling from an unbounded Gaussian distribution\u001b[39;00m\n\u001b[0;32m    216\u001b[0m         clipped_actions \u001b[38;5;241m=\u001b[39m np\u001b[38;5;241m.\u001b[39mclip(actions, \u001b[38;5;28mself\u001b[39m\u001b[38;5;241m.\u001b[39maction_space\u001b[38;5;241m.\u001b[39mlow, \u001b[38;5;28mself\u001b[39m\u001b[38;5;241m.\u001b[39maction_space\u001b[38;5;241m.\u001b[39mhigh)\n\u001b[1;32m--> 218\u001b[0m new_obs, rewards, dones, infos \u001b[38;5;241m=\u001b[39m \u001b[43menv\u001b[49m\u001b[38;5;241;43m.\u001b[39;49m\u001b[43mstep\u001b[49m\u001b[43m(\u001b[49m\u001b[43mclipped_actions\u001b[49m\u001b[43m)\u001b[49m\n\u001b[0;32m    220\u001b[0m \u001b[38;5;28mself\u001b[39m\u001b[38;5;241m.\u001b[39mnum_timesteps \u001b[38;5;241m+\u001b[39m\u001b[38;5;241m=\u001b[39m env\u001b[38;5;241m.\u001b[39mnum_envs\n\u001b[0;32m    222\u001b[0m \u001b[38;5;66;03m# Give access to local variables\u001b[39;00m\n",
      "File \u001b[1;32mc:\\Users\\Filippo\\anaconda3\\Lib\\site-packages\\stable_baselines3\\common\\vec_env\\base_vec_env.py:206\u001b[0m, in \u001b[0;36mVecEnv.step\u001b[1;34m(self, actions)\u001b[0m\n\u001b[0;32m    199\u001b[0m \u001b[38;5;250m\u001b[39m\u001b[38;5;124;03m\"\"\"\u001b[39;00m\n\u001b[0;32m    200\u001b[0m \u001b[38;5;124;03mStep the environments with the given action\u001b[39;00m\n\u001b[0;32m    201\u001b[0m \n\u001b[0;32m    202\u001b[0m \u001b[38;5;124;03m:param actions: the action\u001b[39;00m\n\u001b[0;32m    203\u001b[0m \u001b[38;5;124;03m:return: observation, reward, done, information\u001b[39;00m\n\u001b[0;32m    204\u001b[0m \u001b[38;5;124;03m\"\"\"\u001b[39;00m\n\u001b[0;32m    205\u001b[0m \u001b[38;5;28mself\u001b[39m\u001b[38;5;241m.\u001b[39mstep_async(actions)\n\u001b[1;32m--> 206\u001b[0m \u001b[38;5;28;01mreturn\u001b[39;00m \u001b[38;5;28;43mself\u001b[39;49m\u001b[38;5;241;43m.\u001b[39;49m\u001b[43mstep_wait\u001b[49m\u001b[43m(\u001b[49m\u001b[43m)\u001b[49m\n",
      "File \u001b[1;32mc:\\Users\\Filippo\\anaconda3\\Lib\\site-packages\\stable_baselines3\\common\\vec_env\\dummy_vec_env.py:58\u001b[0m, in \u001b[0;36mDummyVecEnv.step_wait\u001b[1;34m(self)\u001b[0m\n\u001b[0;32m     55\u001b[0m \u001b[38;5;28;01mdef\u001b[39;00m \u001b[38;5;21mstep_wait\u001b[39m(\u001b[38;5;28mself\u001b[39m) \u001b[38;5;241m-\u001b[39m\u001b[38;5;241m>\u001b[39m VecEnvStepReturn:\n\u001b[0;32m     56\u001b[0m     \u001b[38;5;66;03m# Avoid circular imports\u001b[39;00m\n\u001b[0;32m     57\u001b[0m     \u001b[38;5;28;01mfor\u001b[39;00m env_idx \u001b[38;5;129;01min\u001b[39;00m \u001b[38;5;28mrange\u001b[39m(\u001b[38;5;28mself\u001b[39m\u001b[38;5;241m.\u001b[39mnum_envs):\n\u001b[1;32m---> 58\u001b[0m         obs, \u001b[38;5;28mself\u001b[39m\u001b[38;5;241m.\u001b[39mbuf_rews[env_idx], terminated, truncated, \u001b[38;5;28mself\u001b[39m\u001b[38;5;241m.\u001b[39mbuf_infos[env_idx] \u001b[38;5;241m=\u001b[39m \u001b[38;5;28;43mself\u001b[39;49m\u001b[38;5;241;43m.\u001b[39;49m\u001b[43menvs\u001b[49m\u001b[43m[\u001b[49m\u001b[43menv_idx\u001b[49m\u001b[43m]\u001b[49m\u001b[38;5;241;43m.\u001b[39;49m\u001b[43mstep\u001b[49m\u001b[43m(\u001b[49m\n\u001b[0;32m     59\u001b[0m \u001b[43m            \u001b[49m\u001b[38;5;28;43mself\u001b[39;49m\u001b[38;5;241;43m.\u001b[39;49m\u001b[43mactions\u001b[49m\u001b[43m[\u001b[49m\u001b[43menv_idx\u001b[49m\u001b[43m]\u001b[49m\n\u001b[0;32m     60\u001b[0m \u001b[43m        \u001b[49m\u001b[43m)\u001b[49m\n\u001b[0;32m     61\u001b[0m         \u001b[38;5;66;03m# convert to SB3 VecEnv api\u001b[39;00m\n\u001b[0;32m     62\u001b[0m         \u001b[38;5;28mself\u001b[39m\u001b[38;5;241m.\u001b[39mbuf_dones[env_idx] \u001b[38;5;241m=\u001b[39m terminated \u001b[38;5;129;01mor\u001b[39;00m truncated\n",
      "File \u001b[1;32mc:\\Users\\Filippo\\anaconda3\\Lib\\site-packages\\stable_baselines3\\common\\monitor.py:94\u001b[0m, in \u001b[0;36mMonitor.step\u001b[1;34m(self, action)\u001b[0m\n\u001b[0;32m     92\u001b[0m \u001b[38;5;28;01mif\u001b[39;00m \u001b[38;5;28mself\u001b[39m\u001b[38;5;241m.\u001b[39mneeds_reset:\n\u001b[0;32m     93\u001b[0m     \u001b[38;5;28;01mraise\u001b[39;00m \u001b[38;5;167;01mRuntimeError\u001b[39;00m(\u001b[38;5;124m\"\u001b[39m\u001b[38;5;124mTried to step environment that needs reset\u001b[39m\u001b[38;5;124m\"\u001b[39m)\n\u001b[1;32m---> 94\u001b[0m observation, reward, terminated, truncated, info \u001b[38;5;241m=\u001b[39m \u001b[38;5;28;43mself\u001b[39;49m\u001b[38;5;241;43m.\u001b[39;49m\u001b[43menv\u001b[49m\u001b[38;5;241;43m.\u001b[39;49m\u001b[43mstep\u001b[49m\u001b[43m(\u001b[49m\u001b[43maction\u001b[49m\u001b[43m)\u001b[49m\n\u001b[0;32m     95\u001b[0m \u001b[38;5;28mself\u001b[39m\u001b[38;5;241m.\u001b[39mrewards\u001b[38;5;241m.\u001b[39mappend(\u001b[38;5;28mfloat\u001b[39m(reward))\n\u001b[0;32m     96\u001b[0m \u001b[38;5;28;01mif\u001b[39;00m terminated \u001b[38;5;129;01mor\u001b[39;00m truncated:\n",
      "File \u001b[1;32mc:\\Users\\Filippo\\anaconda3\\Lib\\site-packages\\shimmy\\openai_gym_compatibility.py:250\u001b[0m, in \u001b[0;36mGymV21CompatibilityV0.step\u001b[1;34m(self, action)\u001b[0m\n\u001b[0;32m    241\u001b[0m \u001b[38;5;28;01mdef\u001b[39;00m \u001b[38;5;21mstep\u001b[39m(\u001b[38;5;28mself\u001b[39m, action: ActType) \u001b[38;5;241m-\u001b[39m\u001b[38;5;241m>\u001b[39m \u001b[38;5;28mtuple\u001b[39m[Any, \u001b[38;5;28mfloat\u001b[39m, \u001b[38;5;28mbool\u001b[39m, \u001b[38;5;28mbool\u001b[39m, \u001b[38;5;28mdict\u001b[39m]:\n\u001b[0;32m    242\u001b[0m \u001b[38;5;250m    \u001b[39m\u001b[38;5;124;03m\"\"\"Steps through the environment.\u001b[39;00m\n\u001b[0;32m    243\u001b[0m \n\u001b[0;32m    244\u001b[0m \u001b[38;5;124;03m    Args:\u001b[39;00m\n\u001b[1;32m   (...)\u001b[0m\n\u001b[0;32m    248\u001b[0m \u001b[38;5;124;03m        (observation, reward, terminated, truncated, info)\u001b[39;00m\n\u001b[0;32m    249\u001b[0m \u001b[38;5;124;03m    \"\"\"\u001b[39;00m\n\u001b[1;32m--> 250\u001b[0m     obs, reward, done, info \u001b[38;5;241m=\u001b[39m \u001b[38;5;28;43mself\u001b[39;49m\u001b[38;5;241;43m.\u001b[39;49m\u001b[43mgym_env\u001b[49m\u001b[38;5;241;43m.\u001b[39;49m\u001b[43mstep\u001b[49m\u001b[43m(\u001b[49m\u001b[43maction\u001b[49m\u001b[43m)\u001b[49m\n\u001b[0;32m    252\u001b[0m     \u001b[38;5;28;01mif\u001b[39;00m \u001b[38;5;28mself\u001b[39m\u001b[38;5;241m.\u001b[39mrender_mode \u001b[38;5;129;01mis\u001b[39;00m \u001b[38;5;129;01mnot\u001b[39;00m \u001b[38;5;28;01mNone\u001b[39;00m:\n\u001b[0;32m    253\u001b[0m         \u001b[38;5;28mself\u001b[39m\u001b[38;5;241m.\u001b[39mrender()\n",
      "Cell \u001b[1;32mIn[1], line 67\u001b[0m, in \u001b[0;36mSimulationEnv.step\u001b[1;34m(self, action)\u001b[0m\n\u001b[0;32m     64\u001b[0m \u001b[38;5;28;01melif\u001b[39;00m action \u001b[38;5;241m==\u001b[39m \u001b[38;5;241m2\u001b[39m:\n\u001b[0;32m     65\u001b[0m     \u001b[38;5;28mself\u001b[39m\u001b[38;5;241m.\u001b[39mapply_action(\u001b[38;5;124m\"\u001b[39m\u001b[38;5;124mreplace_model\u001b[39m\u001b[38;5;124m\"\u001b[39m)\n\u001b[1;32m---> 67\u001b[0m state \u001b[38;5;241m=\u001b[39m \u001b[38;5;28;43mself\u001b[39;49m\u001b[38;5;241;43m.\u001b[39;49m\u001b[43mstate_manager\u001b[49m\u001b[38;5;241;43m.\u001b[39;49m\u001b[43mget_state\u001b[49m\u001b[43m(\u001b[49m\u001b[43m)\u001b[49m\n\u001b[0;32m     68\u001b[0m \u001b[38;5;28mprint\u001b[39m(\u001b[38;5;124m\"\u001b[39m\u001b[38;5;124mSTATE: \u001b[39m\u001b[38;5;124m\"\u001b[39m, state)\n\u001b[0;32m     70\u001b[0m \u001b[38;5;66;03m# Simulate a step in the environment\u001b[39;00m\n",
      "File \u001b[1;32mc:\\Documents\\Aalto Semester 2\\ResearchCloud\\RL_simulation\\state_manager.py:189\u001b[0m, in \u001b[0;36mStateManager.get_state\u001b[1;34m(self)\u001b[0m\n\u001b[0;32m    186\u001b[0m \u001b[38;5;28;01mdef\u001b[39;00m \u001b[38;5;21mget_state\u001b[39m(\u001b[38;5;28mself\u001b[39m):\n\u001b[0;32m    187\u001b[0m \u001b[38;5;66;03m# Generates state vector based on the current inference metrics\u001b[39;00m\n\u001b[1;32m--> 189\u001b[0m     data \u001b[38;5;241m=\u001b[39m \u001b[38;5;28;43mself\u001b[39;49m\u001b[38;5;241;43m.\u001b[39;49m\u001b[43mrandom_data_metrics\u001b[49m\u001b[43m(\u001b[49m\u001b[43m)\u001b[49m\n\u001b[0;32m    191\u001b[0m     \u001b[38;5;66;03m# Ensemble-level metrics\u001b[39;00m\n\u001b[0;32m    192\u001b[0m     energy_report \u001b[38;5;241m=\u001b[39m \u001b[38;5;28mself\u001b[39m\u001b[38;5;241m.\u001b[39mensemble_service\u001b[38;5;241m.\u001b[39menergy_estimate()\n",
      "File \u001b[1;32mc:\\Documents\\Aalto Semester 2\\ResearchCloud\\RL_simulation\\state_manager.py:130\u001b[0m, in \u001b[0;36mStateManager.random_data_metrics\u001b[1;34m(self)\u001b[0m\n\u001b[0;32m    126\u001b[0m \u001b[38;5;28;01mdef\u001b[39;00m \u001b[38;5;21mrandom_data_metrics\u001b[39m(\u001b[38;5;28mself\u001b[39m):\n\u001b[0;32m    127\u001b[0m     \u001b[38;5;66;03m# Perform the inference on a random data sampled from the distribution\u001b[39;00m\n\u001b[0;32m    128\u001b[0m \n\u001b[0;32m    129\u001b[0m     \u001b[38;5;66;03m# Ensure the pipeline is configured\u001b[39;00m\n\u001b[1;32m--> 130\u001b[0m     \u001b[38;5;28;43mself\u001b[39;49m\u001b[38;5;241;43m.\u001b[39;49m\u001b[43mconfig_pipeline\u001b[49m\u001b[43m(\u001b[49m\u001b[43m)\u001b[49m\n\u001b[0;32m    132\u001b[0m     model_count \u001b[38;5;241m=\u001b[39m \u001b[38;5;241m0\u001b[39m\n\u001b[0;32m    133\u001b[0m     \u001b[38;5;66;03m# Prepare input data: 224-224\u001b[39;00m\n",
      "File \u001b[1;32mc:\\Documents\\Aalto Semester 2\\ResearchCloud\\RL_simulation\\state_manager.py:123\u001b[0m, in \u001b[0;36mStateManager.config_pipeline\u001b[1;34m(self)\u001b[0m\n\u001b[0;32m    121\u001b[0m model_config[\u001b[38;5;124m\"\u001b[39m\u001b[38;5;124mthroughput_requirement\u001b[39m\u001b[38;5;124m\"\u001b[39m] \u001b[38;5;241m=\u001b[39m \u001b[38;5;28mint\u001b[39m(\u001b[38;5;28mself\u001b[39m\u001b[38;5;241m.\u001b[39msim_config[\u001b[38;5;124m\"\u001b[39m\u001b[38;5;124mthroughput_requirement\u001b[39m\u001b[38;5;124m\"\u001b[39m])\n\u001b[0;32m    122\u001b[0m inference_service_config \u001b[38;5;241m=\u001b[39m ServiceConfig\u001b[38;5;241m.\u001b[39mmodel_validate(model_config)\n\u001b[1;32m--> 123\u001b[0m inference_service \u001b[38;5;241m=\u001b[39m \u001b[43mInferenceService\u001b[49m\u001b[43m(\u001b[49m\u001b[43minference_service_config\u001b[49m\u001b[43m)\u001b[49m\n\u001b[0;32m    124\u001b[0m \u001b[38;5;28mself\u001b[39m\u001b[38;5;241m.\u001b[39mensemble_service\u001b[38;5;241m.\u001b[39madd_model(inference_service)\n",
      "File \u001b[1;32mc:\\Documents\\Aalto Semester 2\\ResearchCloud\\RL_simulation\\model_rl.py:142\u001b[0m, in \u001b[0;36mInferenceService.__init__\u001b[1;34m(self, config)\u001b[0m\n\u001b[0;32m    140\u001b[0m \u001b[38;5;28;01mif\u001b[39;00m \u001b[38;5;28mself\u001b[39m\u001b[38;5;241m.\u001b[39mconfig\u001b[38;5;241m.\u001b[39mdata_path \u001b[38;5;129;01mis\u001b[39;00m \u001b[38;5;129;01mnot\u001b[39;00m \u001b[38;5;28;01mNone\u001b[39;00m \u001b[38;5;129;01mand\u001b[39;00m \u001b[38;5;28mself\u001b[39m\u001b[38;5;241m.\u001b[39mconfig\u001b[38;5;241m.\u001b[39mmlmodel_name \u001b[38;5;129;01mis\u001b[39;00m \u001b[38;5;129;01mnot\u001b[39;00m \u001b[38;5;28;01mNone\u001b[39;00m:\n\u001b[0;32m    141\u001b[0m     data_path \u001b[38;5;241m=\u001b[39m os\u001b[38;5;241m.\u001b[39mpath\u001b[38;5;241m.\u001b[39mjoin(\u001b[38;5;28mself\u001b[39m\u001b[38;5;241m.\u001b[39mconfig\u001b[38;5;241m.\u001b[39mdata_path, \u001b[38;5;124mf\u001b[39m\u001b[38;5;124m\"\u001b[39m\u001b[38;5;132;01m{\u001b[39;00m\u001b[38;5;28mself\u001b[39m\u001b[38;5;241m.\u001b[39mconfig\u001b[38;5;241m.\u001b[39mmlmodel_name\u001b[38;5;132;01m}\u001b[39;00m\u001b[38;5;124m.csv\u001b[39m\u001b[38;5;124m\"\u001b[39m)\n\u001b[1;32m--> 142\u001b[0m     \u001b[38;5;28mself\u001b[39m\u001b[38;5;241m.\u001b[39mdf \u001b[38;5;241m=\u001b[39m \u001b[43mpd\u001b[49m\u001b[38;5;241;43m.\u001b[39;49m\u001b[43mread_csv\u001b[49m\u001b[43m(\u001b[49m\u001b[43mdata_path\u001b[49m\u001b[43m)\u001b[49m\n\u001b[0;32m    143\u001b[0m \u001b[38;5;28mself\u001b[39m\u001b[38;5;241m.\u001b[39mcurrent_inferences \u001b[38;5;241m=\u001b[39m \u001b[38;5;241m0\u001b[39m\n\u001b[0;32m    144\u001b[0m \u001b[38;5;28;01mif\u001b[39;00m \u001b[38;5;28mself\u001b[39m\u001b[38;5;241m.\u001b[39mconfig\u001b[38;5;241m.\u001b[39mhost \u001b[38;5;129;01mis\u001b[39;00m \u001b[38;5;28;01mNone\u001b[39;00m:\n",
      "File \u001b[1;32mc:\\Users\\Filippo\\anaconda3\\Lib\\site-packages\\pandas\\util\\_decorators.py:311\u001b[0m, in \u001b[0;36mdeprecate_nonkeyword_arguments.<locals>.decorate.<locals>.wrapper\u001b[1;34m(*args, **kwargs)\u001b[0m\n\u001b[0;32m    305\u001b[0m \u001b[38;5;28;01mif\u001b[39;00m \u001b[38;5;28mlen\u001b[39m(args) \u001b[38;5;241m>\u001b[39m num_allow_args:\n\u001b[0;32m    306\u001b[0m     warnings\u001b[38;5;241m.\u001b[39mwarn(\n\u001b[0;32m    307\u001b[0m         msg\u001b[38;5;241m.\u001b[39mformat(arguments\u001b[38;5;241m=\u001b[39marguments),\n\u001b[0;32m    308\u001b[0m         \u001b[38;5;167;01mFutureWarning\u001b[39;00m,\n\u001b[0;32m    309\u001b[0m         stacklevel\u001b[38;5;241m=\u001b[39mstacklevel,\n\u001b[0;32m    310\u001b[0m     )\n\u001b[1;32m--> 311\u001b[0m \u001b[38;5;28;01mreturn\u001b[39;00m \u001b[43mfunc\u001b[49m\u001b[43m(\u001b[49m\u001b[38;5;241;43m*\u001b[39;49m\u001b[43margs\u001b[49m\u001b[43m,\u001b[49m\u001b[43m \u001b[49m\u001b[38;5;241;43m*\u001b[39;49m\u001b[38;5;241;43m*\u001b[39;49m\u001b[43mkwargs\u001b[49m\u001b[43m)\u001b[49m\n",
      "File \u001b[1;32mc:\\Users\\Filippo\\anaconda3\\Lib\\site-packages\\pandas\\io\\parsers\\readers.py:680\u001b[0m, in \u001b[0;36mread_csv\u001b[1;34m(filepath_or_buffer, sep, delimiter, header, names, index_col, usecols, squeeze, prefix, mangle_dupe_cols, dtype, engine, converters, true_values, false_values, skipinitialspace, skiprows, skipfooter, nrows, na_values, keep_default_na, na_filter, verbose, skip_blank_lines, parse_dates, infer_datetime_format, keep_date_col, date_parser, dayfirst, cache_dates, iterator, chunksize, compression, thousands, decimal, lineterminator, quotechar, quoting, doublequote, escapechar, comment, encoding, encoding_errors, dialect, error_bad_lines, warn_bad_lines, on_bad_lines, delim_whitespace, low_memory, memory_map, float_precision, storage_options)\u001b[0m\n\u001b[0;32m    665\u001b[0m kwds_defaults \u001b[38;5;241m=\u001b[39m _refine_defaults_read(\n\u001b[0;32m    666\u001b[0m     dialect,\n\u001b[0;32m    667\u001b[0m     delimiter,\n\u001b[1;32m   (...)\u001b[0m\n\u001b[0;32m    676\u001b[0m     defaults\u001b[38;5;241m=\u001b[39m{\u001b[38;5;124m\"\u001b[39m\u001b[38;5;124mdelimiter\u001b[39m\u001b[38;5;124m\"\u001b[39m: \u001b[38;5;124m\"\u001b[39m\u001b[38;5;124m,\u001b[39m\u001b[38;5;124m\"\u001b[39m},\n\u001b[0;32m    677\u001b[0m )\n\u001b[0;32m    678\u001b[0m kwds\u001b[38;5;241m.\u001b[39mupdate(kwds_defaults)\n\u001b[1;32m--> 680\u001b[0m \u001b[38;5;28;01mreturn\u001b[39;00m \u001b[43m_read\u001b[49m\u001b[43m(\u001b[49m\u001b[43mfilepath_or_buffer\u001b[49m\u001b[43m,\u001b[49m\u001b[43m \u001b[49m\u001b[43mkwds\u001b[49m\u001b[43m)\u001b[49m\n",
      "File \u001b[1;32mc:\\Users\\Filippo\\anaconda3\\Lib\\site-packages\\pandas\\io\\parsers\\readers.py:581\u001b[0m, in \u001b[0;36m_read\u001b[1;34m(filepath_or_buffer, kwds)\u001b[0m\n\u001b[0;32m    578\u001b[0m     \u001b[38;5;28;01mreturn\u001b[39;00m parser\n\u001b[0;32m    580\u001b[0m \u001b[38;5;28;01mwith\u001b[39;00m parser:\n\u001b[1;32m--> 581\u001b[0m     \u001b[38;5;28;01mreturn\u001b[39;00m \u001b[43mparser\u001b[49m\u001b[38;5;241;43m.\u001b[39;49m\u001b[43mread\u001b[49m\u001b[43m(\u001b[49m\u001b[43mnrows\u001b[49m\u001b[43m)\u001b[49m\n",
      "File \u001b[1;32mc:\\Users\\Filippo\\anaconda3\\Lib\\site-packages\\pandas\\io\\parsers\\readers.py:1255\u001b[0m, in \u001b[0;36mTextFileReader.read\u001b[1;34m(self, nrows)\u001b[0m\n\u001b[0;32m   1253\u001b[0m nrows \u001b[38;5;241m=\u001b[39m validate_integer(\u001b[38;5;124m\"\u001b[39m\u001b[38;5;124mnrows\u001b[39m\u001b[38;5;124m\"\u001b[39m, nrows)\n\u001b[0;32m   1254\u001b[0m \u001b[38;5;28;01mtry\u001b[39;00m:\n\u001b[1;32m-> 1255\u001b[0m     index, columns, col_dict \u001b[38;5;241m=\u001b[39m \u001b[38;5;28;43mself\u001b[39;49m\u001b[38;5;241;43m.\u001b[39;49m\u001b[43m_engine\u001b[49m\u001b[38;5;241;43m.\u001b[39;49m\u001b[43mread\u001b[49m\u001b[43m(\u001b[49m\u001b[43mnrows\u001b[49m\u001b[43m)\u001b[49m\n\u001b[0;32m   1256\u001b[0m \u001b[38;5;28;01mexcept\u001b[39;00m \u001b[38;5;167;01mException\u001b[39;00m:\n\u001b[0;32m   1257\u001b[0m     \u001b[38;5;28mself\u001b[39m\u001b[38;5;241m.\u001b[39mclose()\n",
      "File \u001b[1;32mc:\\Users\\Filippo\\anaconda3\\Lib\\site-packages\\pandas\\io\\parsers\\c_parser_wrapper.py:225\u001b[0m, in \u001b[0;36mCParserWrapper.read\u001b[1;34m(self, nrows)\u001b[0m\n\u001b[0;32m    223\u001b[0m \u001b[38;5;28;01mtry\u001b[39;00m:\n\u001b[0;32m    224\u001b[0m     \u001b[38;5;28;01mif\u001b[39;00m \u001b[38;5;28mself\u001b[39m\u001b[38;5;241m.\u001b[39mlow_memory:\n\u001b[1;32m--> 225\u001b[0m         chunks \u001b[38;5;241m=\u001b[39m \u001b[38;5;28mself\u001b[39m\u001b[38;5;241m.\u001b[39m_reader\u001b[38;5;241m.\u001b[39mread_low_memory(nrows)\n\u001b[0;32m    226\u001b[0m         \u001b[38;5;66;03m# destructive to chunks\u001b[39;00m\n\u001b[0;32m    227\u001b[0m         data \u001b[38;5;241m=\u001b[39m _concatenate_chunks(chunks)\n",
      "File \u001b[1;32mc:\\Users\\Filippo\\anaconda3\\Lib\\site-packages\\pandas\\_libs\\parsers.pyx:805\u001b[0m, in \u001b[0;36mpandas._libs.parsers.TextReader.read_low_memory\u001b[1;34m()\u001b[0m\n",
      "File \u001b[1;32mc:\\Users\\Filippo\\anaconda3\\Lib\\site-packages\\pandas\\_libs\\parsers.pyx:883\u001b[0m, in \u001b[0;36mpandas._libs.parsers.TextReader._read_rows\u001b[1;34m()\u001b[0m\n",
      "File \u001b[1;32mc:\\Users\\Filippo\\anaconda3\\Lib\\site-packages\\pandas\\_libs\\parsers.pyx:1026\u001b[0m, in \u001b[0;36mpandas._libs.parsers.TextReader._convert_column_data\u001b[1;34m()\u001b[0m\n",
      "File \u001b[1;32mc:\\Users\\Filippo\\anaconda3\\Lib\\site-packages\\pandas\\_libs\\parsers.pyx:1072\u001b[0m, in \u001b[0;36mpandas._libs.parsers.TextReader._convert_tokens\u001b[1;34m()\u001b[0m\n",
      "File \u001b[1;32mc:\\Users\\Filippo\\anaconda3\\Lib\\site-packages\\pandas\\_libs\\parsers.pyx:1147\u001b[0m, in \u001b[0;36mpandas._libs.parsers.TextReader._convert_with_dtype\u001b[1;34m()\u001b[0m\n",
      "File \u001b[1;32mc:\\Users\\Filippo\\anaconda3\\Lib\\site-packages\\pandas\\core\\dtypes\\common.py:1429\u001b[0m, in \u001b[0;36mis_extension_array_dtype\u001b[1;34m(arr_or_dtype)\u001b[0m\n\u001b[0;32m   1420\u001b[0m     \u001b[38;5;66;03m# Note: if other EA dtypes are ever held in HybridBlock, exclude those\u001b[39;00m\n\u001b[0;32m   1421\u001b[0m     \u001b[38;5;66;03m#  here too.\u001b[39;00m\n\u001b[0;32m   1422\u001b[0m     \u001b[38;5;66;03m# NB: need to check DatetimeTZDtype and not is_datetime64tz_dtype\u001b[39;00m\n\u001b[0;32m   1423\u001b[0m     \u001b[38;5;66;03m#  to exclude ArrowTimestampUSDtype\u001b[39;00m\n\u001b[0;32m   1424\u001b[0m     \u001b[38;5;28;01mreturn\u001b[39;00m \u001b[38;5;28misinstance\u001b[39m(dtype, ExtensionDtype) \u001b[38;5;129;01mand\u001b[39;00m \u001b[38;5;129;01mnot\u001b[39;00m \u001b[38;5;28misinstance\u001b[39m(\n\u001b[0;32m   1425\u001b[0m         dtype, (DatetimeTZDtype, PeriodDtype)\n\u001b[0;32m   1426\u001b[0m     )\n\u001b[1;32m-> 1429\u001b[0m \u001b[38;5;28;01mdef\u001b[39;00m \u001b[38;5;21mis_extension_array_dtype\u001b[39m(arr_or_dtype) \u001b[38;5;241m-\u001b[39m\u001b[38;5;241m>\u001b[39m \u001b[38;5;28mbool\u001b[39m:\n\u001b[0;32m   1430\u001b[0m \u001b[38;5;250m    \u001b[39m\u001b[38;5;124;03m\"\"\"\u001b[39;00m\n\u001b[0;32m   1431\u001b[0m \u001b[38;5;124;03m    Check if an object is a pandas extension array type.\u001b[39;00m\n\u001b[0;32m   1432\u001b[0m \n\u001b[1;32m   (...)\u001b[0m\n\u001b[0;32m   1472\u001b[0m \u001b[38;5;124;03m    False\u001b[39;00m\n\u001b[0;32m   1473\u001b[0m \u001b[38;5;124;03m    \"\"\"\u001b[39;00m\n\u001b[0;32m   1474\u001b[0m     dtype \u001b[38;5;241m=\u001b[39m \u001b[38;5;28mgetattr\u001b[39m(arr_or_dtype, \u001b[38;5;124m\"\u001b[39m\u001b[38;5;124mdtype\u001b[39m\u001b[38;5;124m\"\u001b[39m, arr_or_dtype)\n",
      "\u001b[1;31mKeyboardInterrupt\u001b[0m: "
     ]
    }
   ],
   "source": [
    "from stable_baselines3 import PPO\n",
    "\n",
    "#setup_config()\n",
    "\n",
    "# Create the environment\n",
    "env = SimulationEnv()\n",
    "\n",
    "# Train the agent\n",
    "model = PPO(\"MlpPolicy\", env, verbose=1, n_steps=1028)\n",
    "model.learn(total_timesteps=1)\n",
    "\n",
    "# Save the trained model\n",
    "model.save(\"simulation_policy\")\n"
   ]
  },
  {
   "cell_type": "markdown",
   "metadata": {},
   "source": [
    "# Check results"
   ]
  },
  {
   "cell_type": "code",
   "execution_count": 3,
   "metadata": {},
   "outputs": [
    {
     "name": "stdout",
     "output_type": "stream",
     "text": [
      "action policy: random action - with Bounds\n",
      "\n",
      "number of inferences:  5150\n",
      "Average accuracy across all labels: 0.8864\n",
      "Average accuracy for all labels: \n",
      "label\n",
      "n01440764    0.932292\n",
      "n01443537    0.960976\n",
      "n01484850    0.840376\n",
      "n01491361    0.806604\n",
      "n01494475    0.899038\n",
      "Name: accuracy, dtype: float64\n"
     ]
    }
   ],
   "source": [
    "import pandas as pd\n",
    "\n",
    "# Define the path to the CSV file\n",
    "csv_file_path = \"results/reinf_learning_inference/ensemble_inference.csv\"\n",
    "\n",
    "print(\"action policy: random action - with Bounds\\n\")\n",
    "# Read the CSV file\n",
    "df = pd.read_csv(csv_file_path)\n",
    "print(\"number of inferences: \", df.size)\n",
    "\n",
    "# Calculate average accuracy for all labels\n",
    "average_accuracy_all = df[\"accuracy\"].mean()\n",
    "\n",
    "# Calculate average accuracy for a specific label\n",
    "average_accuracy_per_label = df.groupby(\"label\")[\"accuracy\"].mean()\n",
    "\n",
    "# Print the results\n",
    "print(f\"Average accuracy across all labels: {average_accuracy_all:.4f}\")\n",
    "print(f\"Average accuracy for all labels: \") \n",
    "print(average_accuracy_per_label)"
   ]
  },
  {
   "cell_type": "code",
   "execution_count": null,
   "metadata": {},
   "outputs": [
    {
     "data": {
      "image/png": "[encoded data removed]",
      "text/plain": [
       "<Figure size 1000x600 with 1 Axes>"
      ]
     },
     "metadata": {},
     "output_type": "display_data"
    }
   ],
   "source": [
    "\n",
    "import matplotlib.pyplot as plt\n",
    "\n",
    "# Assuming env.visualization_manager.reward_list is a list of rewards\n",
    "def plot_rewards(reward_list):\n",
    "    plt.figure(figsize=(10, 6))\n",
    "    plt.plot(reward_list, label=\"Rewards\", marker='o', linestyle='-')\n",
    "    plt.title(\"Rewards Over Time\", fontsize=16)\n",
    "    plt.xlabel(\"Episode\", fontsize=14)\n",
    "    plt.ylabel(\"Reward\", fontsize=14)\n",
    "    plt.grid(True)\n",
    "    plt.legend(fontsize=12)\n",
    "    plt.show()\n",
    "\n",
    "# Example usage:\n",
    "if hasattr(env, 'visualization_manager') and hasattr(env.visualization_manager, 'reward_list'):\n",
    "    plot_rewards(env.visualization_manager.reward_list)\n",
    "else:\n",
    "    print(\"reward_list not found in env.visualization_manager.\")"
   ]
  },
  {
   "cell_type": "code",
   "execution_count": 11,
   "metadata": {},
   "outputs": [
    {
     "name": "stdout",
     "output_type": "stream",
     "text": [
      "Reward column:\n",
      "0      0.003295\n",
      "1      0.003833\n",
      "2      0.006500\n",
      "3      0.006500\n",
      "4      0.011043\n",
      "         ...   \n",
      "253    0.023206\n",
      "254    0.023206\n",
      "255    0.023206\n",
      "256    0.023206\n",
      "257    0.023206\n",
      "Name: total_energy_consumption, Length: 258, dtype: float64\n"
     ]
    },
    {
     "data": {
      "image/png": "[encoded data removed]",
      "text/plain": [
       "<Figure size 1000x600 with 1 Axes>"
      ]
     },
     "metadata": {},
     "output_type": "display_data"
    },
    {
     "data": {
      "text/plain": [
       "0      0.003295\n",
       "1      0.003833\n",
       "2      0.006500\n",
       "3      0.006500\n",
       "4      0.011043\n",
       "         ...   \n",
       "253    0.023206\n",
       "254    0.023206\n",
       "255    0.023206\n",
       "256    0.023206\n",
       "257    0.023206\n",
       "Name: total_energy_consumption, Length: 258, dtype: float64"
      ]
     },
     "execution_count": 11,
     "metadata": {},
     "output_type": "execute_result"
    }
   ],
   "source": [
    "import pandas as pd\n",
    "import matplotlib.pyplot as plt\n",
    "\n",
    "def read_reward_column(csv_file_path):\n",
    "    try:\n",
    "        # Load the CSV file\n",
    "        data = pd.read_csv(csv_file_path)\n",
    "\n",
    "        # Check if 'reward' column exists\n",
    "        if 'reward' in data.columns:\n",
    "            # Read the 'reward' column\n",
    "            reward_column = data['total_energy_consumption']\n",
    "            print(\"Reward column:\")\n",
    "            print(reward_column)\n",
    "\n",
    "            # Plot the reward column\n",
    "            plt.figure(figsize=(10, 6))\n",
    "            plt.plot(reward_column, marker='o', linestyle='-', color='b')\n",
    "            plt.title('Reward Column Plot')\n",
    "            plt.xlabel('Index')\n",
    "            plt.ylabel('Reward')\n",
    "            plt.grid(True)\n",
    "            plt.show()\n",
    "\n",
    "            return reward_column\n",
    "        else:\n",
    "            print(\"Error: 'reward' column not found in the CSV file.\")\n",
    "            return None\n",
    "    except FileNotFoundError:\n",
    "        print(\"Error: File not found. Please check the file path.\")\n",
    "    except Exception as e:\n",
    "        print(f\"An error occurred: {e}\")\n",
    "\n",
    "# Example usage\n",
    "csv_file_path = \"results/reinforcement_learning.csv\"  # Replace with your actual file path\n",
    "read_reward_column(csv_file_path)"
   ]
  }
 ],
 "metadata": {
  "kernelspec": {
   "display_name": "base",
   "language": "python",
   "name": "python3"
  },
  "language_info": {
   "codemirror_mode": {
    "name": "ipython",
    "version": 3
   },
   "file_extension": ".py",
   "mimetype": "text/x-python",
   "name": "python",
   "nbconvert_exporter": "python",
   "pygments_lexer": "ipython3",
   "version": "3.11.7"
  }
 },
 "nbformat": 4,
 "nbformat_minor": 2
}
