{
 "cells": [
  {
   "cell_type": "markdown",
   "metadata": {},
   "source": [
    "# Random Ensemble Orchestration - With get STATE\n"
   ]
  },
  {
   "cell_type": "markdown",
   "metadata": {},
   "source": [
    "## RL test"
   ]
  },
  {
   "cell_type": "markdown",
   "metadata": {},
   "source": [
    "Defining the Simulation enviroment"
   ]
  },
  {
   "cell_type": "code",
   "execution_count": 1,
   "metadata": {},
   "outputs": [],
   "source": [
    "import logging\n",
    "import os\n",
    "import numpy as np\n",
    "\n",
    "from managers.state_manager import StateManager \n",
    "from managers.visualization_manager import VisualizationManager, DashApp\n",
    "from managers.objective import rl_reward_estimation\n",
    "from managers.config_manager import ConfigManager\n",
    "\n",
    "\n",
    "\n",
    "import gym\n",
    "from gym import spaces\n",
    "\n",
    "\n",
    "class SimulationEnv(gym.Env):\n",
    "\n",
    "    def __init__(self):\n",
    "        super(SimulationEnv, self).__init__()\n",
    "\n",
    "        current_dir = os.getcwd()   \n",
    "        \n",
    "\n",
    "        parent_dir = os.path.dirname(current_dir)\n",
    "        CONFIG_PATH = os.path.join(current_dir, \"sim_config.yaml\")\n",
    "        PROFILE_PATH = os.path.join(current_dir, \"profile/model_profile/model_profile.yaml\")\n",
    "        self.CONTRACT_PATH = os.path.join(current_dir, \"config/contract_metrics.json\")\n",
    "\n",
    "\n",
    "        self.state_manager = StateManager(current_dir)\n",
    "        self.config_manager = ConfigManager(PROFILE_PATH, CONFIG_PATH)\n",
    "        self.visualization_manager = VisualizationManager(current_dir)\n",
    "        self.dash_app = DashApp(self.visualization_manager)\n",
    "\n",
    "        self.dash_app.run()\n",
    "\n",
    "        # Define constants\n",
    "        self.state_size = self.state_manager.state_lenght # Change this to be dynamic based on the enviroment\n",
    "        # Observation space: Fixed size of 55\n",
    "        self.observation_space = spaces.Box(\n",
    "            low=0.0, high=10.0, shape=(self.state_size,), dtype=np.float32\n",
    "        )\n",
    "\n",
    "        # Action space (example: add/remove/replace a model)\n",
    "        self.action_space = spaces.Discrete(3)\n",
    "\n",
    "        self.weights = {\n",
    "            \"accuracy\": 1.0,\n",
    "            \"confidence\": 0.0,\n",
    "            \"latency\": 0.0,\n",
    "            \"energy\": 0.0,\n",
    "            \"explainability\": 0.0\n",
    "        }\n",
    "\n",
    "    def reset(self):\n",
    "        # Reset the environment to an initial state\n",
    "        # Define Init Data:\n",
    "        \n",
    "        self.current_state = self.state_manager.get_state()  # Get initial state\n",
    "        \n",
    "        return self.state_manager.flatten_structured_state(self.current_state)\n",
    "\n",
    "    def step(self, action):\n",
    "        \n",
    "        if action == 0:\n",
    "            self.apply_action(\"keep_ensemble\")\n",
    "        elif action == 1:\n",
    "            self.apply_action(\"add_model\")\n",
    "        elif action == 2:\n",
    "            self.apply_action(\"replace_model\")\n",
    "      \n",
    "        state = self.state_manager.get_state()\n",
    "        print(\"STATE: \", state)\n",
    "\n",
    "        # Simulate a step in the environment\n",
    "        self.current_state = state\n",
    "        reward = self._calculate_reward(self.current_state)\n",
    "\n",
    "        state[\"reward\"] = reward\n",
    "\n",
    "        self.visualization_manager.reward_list.append(reward)\n",
    "        self.visualization_manager.add_state_to_csv(state)\n",
    "        self.dash_app.update_graph()\n",
    "\n",
    "        print(\"REWARD: \", reward)\n",
    "\n",
    "        done = False  # Define termination condition if applicable\n",
    "        \n",
    "        return  self.state_manager.flatten_structured_state(self.current_state), reward, done, {}\n",
    "\n",
    "\n",
    "    def _calculate_reward(self, state):\n",
    "\n",
    "        # TO REDO\n",
    "        model_states = state[\"model_states\"][\"ensemble\"]\n",
    "        performance_metrics = {}\n",
    "        performance_metrics[\"accuracy\"] = model_states[\"accuracy\"]\n",
    "        performance_metrics[\"confidence\"] = model_states[\"confidence\"]\n",
    "        performance_metrics[\"explainability\"] = 1.0\n",
    "        performance_metrics[\"energy\"] = state[\"ensemble_state\"][\"total_energy_consumption\"]\n",
    "        performance_metrics[\"latency\"] = model_states[\"avg_response_time\"]\n",
    " \n",
    "\n",
    "        \n",
    "        reward = rl_reward_estimation(performance_metrics, self.CONTRACT_PATH)\n",
    "\n",
    "\n",
    "        return reward\n",
    "    \n",
    "    def apply_action(self, action):\n",
    "    \n",
    "        weights = self.weights\n",
    "        manager = self.config_manager\n",
    "        if action == \"keep_ensemble\":\n",
    "            logging.info(\"Action: Keeping the ensemble\")\n",
    "        \n",
    "        elif action == \"add_model\":\n",
    "            manager.add_best_model(weights)\n",
    "            logging.info(\"Action: Adding a model\")\n",
    "            # Logic for adding a new model (Placeholder)\n",
    "        elif action == \"replace_model\":\n",
    "            logging.info(\"Action: Replacing a model\")\n",
    "            manager.remove_worst_model(weights)\n",
    "            manager.add_best_model(weights)\n",
    "            # Logic for replacing a model (Placeholder)\n",
    "        elif action == \"remove_model\":\n",
    "            manager.remove_worst_model(weights)\n",
    "\n",
    "        elif action == \"add_random_model\":\n",
    "            manager.add_random_model()\n",
    "        elif action == \"remove_random_model\":\n",
    "            manager.remove_random_model()\n",
    "        elif action == \"replace_random_model\":\n",
    "            manager.remove_random_model()\n",
    "            manager.add_random_model()\n",
    "\n",
    "\n",
    "        else:\n",
    "            logging.warning(\"Unknown action\")"
   ]
  },
  {
   "cell_type": "markdown",
   "metadata": {},
   "source": [
    "Running the simulation"
   ]
  },
  {
   "cell_type": "code",
   "execution_count": 2,
   "metadata": {},
   "outputs": [
    {
     "name": "stdout",
     "output_type": "stream",
     "text": [
      "Contents of c:\\Documents\\Aalto Semester 2\\ResearchCloud\\RL_simulation\\initial_sim_config.yaml have been dumped into c:\\Documents\\Aalto Semester 2\\ResearchCloud\\RL_simulation\\sim_config.yaml.\n"
     ]
    },
    {
     "data": {
      "text/html": [
       "\n",
       "        <iframe\n",
       "            width=\"100%\"\n",
       "            height=\"650\"\n",
       "            src=\"http://127.0.0.1:8000/\"\n",
       "            frameborder=\"0\"\n",
       "            allowfullscreen\n",
       "            \n",
       "        ></iframe>\n",
       "        "
      ],
      "text/plain": [
       "<IPython.lib.display.IFrame at 0x210daad9c10>"
      ]
     },
     "metadata": {},
     "output_type": "display_data"
    },
    {
     "name": "stdout",
     "output_type": "stream",
     "text": [
      "Using cpu device\n",
      "Wrapping the env with a `Monitor` wrapper\n",
      "Wrapping the env in a DummyVecEnv.\n"
     ]
    },
    {
     "name": "stderr",
     "output_type": "stream",
     "text": [
      "c:\\Users\\Filippo\\anaconda3\\Lib\\site-packages\\stable_baselines3\\common\\vec_env\\patch_gym.py:49: UserWarning:\n",
      "\n",
      "You provided an OpenAI Gym environment. We strongly recommend transitioning to Gymnasium environments. Stable-Baselines3 is automatically wrapping your environments in a compatibility layer, which could potentially cause issues.\n",
      "\n",
      "c:\\Users\\Filippo\\anaconda3\\Lib\\site-packages\\stable_baselines3\\ppo\\ppo.py:155: UserWarning:\n",
      "\n",
      "You have specified a mini-batch size of 64, but because the `RolloutBuffer` is of size `n_steps * n_envs = 1028`, after every 16 untruncated mini-batches, there will be a truncated mini-batch of size 4\n",
      "We recommend using a `batch_size` that is a factor of `n_steps * n_envs`.\n",
      "Info: (n_steps=1028 and n_envs=1)\n",
      "\n",
      "2025-01-28 15:52:21,761:INFO -- Action: Adding a model\n"
     ]
    },
    {
     "name": "stdout",
     "output_type": "stream",
     "text": [
      "Best model: EfficientNetV2S with score: 0.953925925925926\n",
      "Model 'EfficientNetV2S' successfully added to the target YAML.\n",
      "STATE:  {'ensemble_state': {'total_energy_consumption': 0.003833157044692698, 'ensemble_size': 4}, 'model_states': {'InceptionResNetV2': {'accuracy': 0.6666666666666666, 'confidence': 0.5262173612912496, 'avg_response_time': 2.084688843683192, 'max_response_time': 2.144495518235469, 'contribution': 0.2994645635286967}, 'MobileNetV2': {'accuracy': 0.3333333333333333, 'confidence': 0.29443474610646564, 'avg_response_time': 0.03163960823469955, 'max_response_time': 0.038629286375490984, 'contribution': 0.29443474610646564}, 'ResNet50V2': {'accuracy': 0.3333333333333333, 'confidence': 0.3332943518956502, 'avg_response_time': 0.11916933314687535, 'max_response_time': 0.12852528502682153, 'contribution': 0.6088864008585612}, 'ensemble': {'accuracy': 0.6666666666666666, 'confidence': 0.5962646868493823, 'avg_response_time': 2.0951593731502722, 'max_response_time': 2.1538846901038506, 'contribution': 0.8960865338643392}, 'EfficientNetV2S': {'accuracy': 1.0, 'confidence': 0.861600399017334, 'avg_response_time': 1.1130535006466042, 'max_response_time': 1.1130535006466042, 'contribution': 0.861600399017334}, 'padding_model_6': {'accuracy': 0.0, 'confidence': 0.0, 'avg_response_time': 0.0, 'max_response_time': 0.0, 'contribution': 0.0}, 'padding_model_7': {'accuracy': 0.0, 'confidence': 0.0, 'avg_response_time': 0.0, 'max_response_time': 0.0, 'contribution': 0.0}, 'padding_model_8': {'accuracy': 0.0, 'confidence': 0.0, 'avg_response_time': 0.0, 'max_response_time': 0.0, 'contribution': 0.0}, 'padding_model_9': {'accuracy': 0.0, 'confidence': 0.0, 'avg_response_time': 0.0, 'max_response_time': 0.0, 'contribution': 0.0}, 'padding_model_10': {'accuracy': 0.0, 'confidence': 0.0, 'avg_response_time': 0.0, 'max_response_time': 0.0, 'contribution': 0.0}}, 'input_state': {'input_file_length': 14, 'image_height': 224, 'image_width': 224}, 'distribution_weights': [1.0, 1.0, 1.0, 1.0, 1.0, 0.0, 0.0, 0.0, 0.0, 0.0, 0.0, 0.0, 0.0, 0.0, 0.0, 0.0, 0.0, 0.0, 0.0, 0.0]}\n",
      "{'accuracy': 0.6666666666666666, 'confidence': 0.5962646868493823, 'explainability': 1.0, 'energy': 0.003833157044692698, 'latency': 2.0951593731502722}\n"
     ]
    },
    {
     "name": "stderr",
     "output_type": "stream",
     "text": [
      "2025-01-28 15:52:23,075:INFO -- Action: Adding a model\n"
     ]
    },
    {
     "name": "stdout",
     "output_type": "stream",
     "text": [
      "REWARD:  3.9799673915208267\n",
      "Best model: NASNetLarge with score: 0.942962962962963\n",
      "Model 'NASNetLarge' successfully added to the target YAML.\n"
     ]
    },
    {
     "name": "stderr",
     "output_type": "stream",
     "text": [
      "2025-01-28 15:52:23,334:INFO -- Action: Keeping the ensemble\n"
     ]
    },
    {
     "name": "stdout",
     "output_type": "stream",
     "text": [
      "STATE:  {'ensemble_state': {'total_energy_consumption': 0.006996982659451798, 'ensemble_size': 5}, 'model_states': {'InceptionResNetV2': {'accuracy': 0.75, 'confidence': 0.6248959898948669, 'avg_response_time': 2.071759220683632, 'max_response_time': 2.144495518235469, 'contribution': 0.45483139157295227}, 'MobileNetV2': {'accuracy': 0.5, 'confidence': 0.4404422789812088, 'avg_response_time': 0.027577185996276125, 'max_response_time': 0.038629286375490984, 'contribution': 0.4404422789812088}, 'ResNet50V2': {'accuracy': 0.5, 'confidence': 0.3517714738845825, 'avg_response_time': 0.1179578448175417, 'max_response_time': 0.12852528502682153, 'contribution': 0.5584655106067657}, 'ensemble': {'accuracy': 0.75, 'confidence': 0.6497036983569464, 'avg_response_time': 2.531350378219589, 'max_response_time': 3.8399233934275396, 'contribution': 0.9031233638525009}, 'EfficientNetV2S': {'accuracy': 1.0, 'confidence': 0.8904353082180023, 'avg_response_time': 1.138849439115788, 'max_response_time': 1.1646453775849717, 'contribution': 0.8904353082180023}, 'NASNetLarge': {'accuracy': 1.0, 'confidence': 0.9242338538169861, 'avg_response_time': 3.8298757230561002, 'max_response_time': 3.8298757230561002, 'contribution': 0.9242338538169861}, 'padding_model_7': {'accuracy': 0.0, 'confidence': 0.0, 'avg_response_time': 0.0, 'max_response_time': 0.0, 'contribution': 0.0}, 'padding_model_8': {'accuracy': 0.0, 'confidence': 0.0, 'avg_response_time': 0.0, 'max_response_time': 0.0, 'contribution': 0.0}, 'padding_model_9': {'accuracy': 0.0, 'confidence': 0.0, 'avg_response_time': 0.0, 'max_response_time': 0.0, 'contribution': 0.0}, 'padding_model_10': {'accuracy': 0.0, 'confidence': 0.0, 'avg_response_time': 0.0, 'max_response_time': 0.0, 'contribution': 0.0}}, 'input_state': {'input_file_length': 14, 'image_height': 224, 'image_width': 224}, 'distribution_weights': [1.0, 1.0, 1.0, 1.0, 1.0, 0.0, 0.0, 0.0, 0.0, 0.0, 0.0, 0.0, 0.0, 0.0, 0.0, 0.0, 0.0, 0.0, 0.0, 0.0]}\n",
      "{'accuracy': 0.75, 'confidence': 0.6497036983569464, 'explainability': 1.0, 'energy': 0.006996982659451798, 'latency': 2.531350378219589}\n",
      "REWARD:  3.9843888301165533\n"
     ]
    },
    {
     "name": "stderr",
     "output_type": "stream",
     "text": [
      "2025-01-28 15:52:23,574:INFO -- Action: Keeping the ensemble\n"
     ]
    },
    {
     "name": "stdout",
     "output_type": "stream",
     "text": [
      "STATE:  {'ensemble_state': {'total_energy_consumption': 0.006996982659451798, 'ensemble_size': 5}, 'model_states': {'InceptionResNetV2': {'accuracy': 0.8, 'confidence': 0.6857612013816834, 'avg_response_time': 2.0642710968197227, 'max_response_time': 2.144495518235469, 'contribution': 0.5497095227241516}, 'MobileNetV2': {'accuracy': 0.6, 'confidence': 0.5403431057929993, 'avg_response_time': 0.02971681304500053, 'max_response_time': 0.038629286375490984, 'contribution': 0.5403431057929993}, 'ResNet50V2': {'accuracy': 0.6, 'confidence': 0.47564694881439207, 'avg_response_time': 0.11742181422001033, 'max_response_time': 0.12852528502682153, 'contribution': 0.6410021781921387}, 'ensemble': {'accuracy': 0.8, 'confidence': 0.7067159907023113, 'avg_response_time': 2.784744975228457, 'max_response_time': 3.8399233934275396, 'contribution': 0.9167284607887268}, 'EfficientNetV2S': {'accuracy': 1.0, 'confidence': 0.9043493866920471, 'avg_response_time': 1.1434418348946593, 'max_response_time': 1.1646453775849717, 'contribution': 0.9043493866920471}, 'NASNetLarge': {'accuracy': 1.0, 'confidence': 0.9127824008464813, 'avg_response_time': 3.811398677081673, 'max_response_time': 3.8298757230561002, 'contribution': 0.9127824008464813}, 'padding_model_7': {'accuracy': 0.0, 'confidence': 0.0, 'avg_response_time': 0.0, 'max_response_time': 0.0, 'contribution': 0.0}, 'padding_model_8': {'accuracy': 0.0, 'confidence': 0.0, 'avg_response_time': 0.0, 'max_response_time': 0.0, 'contribution': 0.0}, 'padding_model_9': {'accuracy': 0.0, 'confidence': 0.0, 'avg_response_time': 0.0, 'max_response_time': 0.0, 'contribution': 0.0}, 'padding_model_10': {'accuracy': 0.0, 'confidence': 0.0, 'avg_response_time': 0.0, 'max_response_time': 0.0, 'contribution': 0.0}}, 'input_state': {'input_file_length': 14, 'image_height': 224, 'image_width': 224}, 'distribution_weights': [1.0, 1.0, 1.0, 1.0, 1.0, 0.0, 0.0, 0.0, 0.0, 0.0, 0.0, 0.0, 0.0, 0.0, 0.0, 0.0, 0.0, 0.0, 0.0, 0.0]}\n",
      "{'accuracy': 0.8, 'confidence': 0.7067159907023113, 'explainability': 1.0, 'energy': 0.006996982659451798, 'latency': 2.784744975228457}\n",
      "REWARD:  3.9876167452550253\n"
     ]
    },
    {
     "name": "stderr",
     "output_type": "stream",
     "text": [
      "2025-01-28 15:52:23,911:INFO -- Action: Adding a model\n"
     ]
    },
    {
     "name": "stdout",
     "output_type": "stream",
     "text": [
      "STATE:  {'ensemble_state': {'total_energy_consumption': 0.006996982659451798, 'ensemble_size': 5}, 'model_states': {'InceptionResNetV2': {'accuracy': 0.8333333333333334, 'confidence': 0.7282340427239736, 'avg_response_time': 2.065887940642281, 'max_response_time': 2.144495518235469, 'contribution': 0.6148576438426971}, 'MobileNetV2': {'accuracy': 0.6666666666666666, 'confidence': 0.5038270503282547, 'avg_response_time': 0.03223899603243439, 'max_response_time': 0.04484991096960366, 'contribution': 0.5038270503282547}, 'ResNet50V2': {'accuracy': 0.5, 'confidence': 0.3963724573453267, 'avg_response_time': 0.11804588517545968, 'max_response_time': 0.12852528502682153, 'contribution': 0.5341684818267822}, 'ensemble': {'accuracy': 0.8333333333333334, 'confidence': 0.7099189088576371, 'avg_response_time': 2.9598943830819953, 'max_response_time': 3.8399233934275396, 'contribution': 0.9207067588965098}, 'EfficientNetV2S': {'accuracy': 1.0, 'confidence': 0.9108916521072388, 'avg_response_time': 1.1530715919417323, 'max_response_time': 1.1819608630829506, 'contribution': 0.9108916521072388}, 'NASNetLarge': {'accuracy': 1.0, 'confidence': 0.8456451098124186, 'avg_response_time': 3.8156487493917264, 'max_response_time': 3.8298757230561002, 'contribution': 0.8456451098124186}, 'padding_model_7': {'accuracy': 0.0, 'confidence': 0.0, 'avg_response_time': 0.0, 'max_response_time': 0.0, 'contribution': 0.0}, 'padding_model_8': {'accuracy': 0.0, 'confidence': 0.0, 'avg_response_time': 0.0, 'max_response_time': 0.0, 'contribution': 0.0}, 'padding_model_9': {'accuracy': 0.0, 'confidence': 0.0, 'avg_response_time': 0.0, 'max_response_time': 0.0, 'contribution': 0.0}, 'padding_model_10': {'accuracy': 0.0, 'confidence': 0.0, 'avg_response_time': 0.0, 'max_response_time': 0.0, 'contribution': 0.0}}, 'input_state': {'input_file_length': 15, 'image_height': 224, 'image_width': 224}, 'distribution_weights': [1.0, 1.0, 1.0, 1.0, 1.0, 0.0, 0.0, 0.0, 0.0, 0.0, 0.0, 0.0, 0.0, 0.0, 0.0, 0.0, 0.0, 0.0, 0.0, 0.0]}\n",
      "{'accuracy': 0.8333333333333334, 'confidence': 0.7099189088576371, 'explainability': 1.0, 'energy': 0.006996982659451798, 'latency': 2.9598943830819953}\n",
      "REWARD:  3.9886013748908296\n",
      "Best model: EfficientNetB7 with score: 0.9045925925925926\n",
      "Model 'EfficientNetB7' successfully added to the target YAML.\n"
     ]
    },
    {
     "name": "stderr",
     "output_type": "stream",
     "text": [
      "2025-01-28 15:52:24,213:INFO -- Action: Replacing a model\n"
     ]
    },
    {
     "name": "stdout",
     "output_type": "stream",
     "text": [
      "STATE:  {'ensemble_state': {'total_energy_consumption': 0.011539725062961177, 'ensemble_size': 6}, 'model_states': {'InceptionResNetV2': {'accuracy': 0.8571428571428571, 'confidence': 0.7532832026481628, 'avg_response_time': 2.0730289727327773, 'max_response_time': 2.144495518235469, 'contribution': 0.6561034321784973}, 'MobileNetV2': {'accuracy': 0.7142857142857143, 'confidence': 0.5658079428332192, 'avg_response_time': 0.03288209775141878, 'max_response_time': 0.04484991096960366, 'contribution': 0.5658079428332192}, 'ResNet50V2': {'accuracy': 0.5714285714285714, 'confidence': 0.4826028687613351, 'avg_response_time': 0.1181562562557086, 'max_response_time': 0.12852528502682153, 'contribution': 0.6007137468882969}, 'ensemble': {'accuracy': 0.8571428571428571, 'confidence': 0.7385479162846293, 'avg_response_time': 3.552253749681167, 'max_response_time': 7.1064099492761965, 'contribution': 0.9320322700909206}, 'EfficientNetV2S': {'accuracy': 1.0, 'confidence': 0.9137818574905395, 'avg_response_time': 1.1559342166055688, 'max_response_time': 1.1819608630829506, 'contribution': 0.9137818574905395}, 'NASNetLarge': {'accuracy': 1.0, 'confidence': 0.8565323799848557, 'avg_response_time': 3.8204925914850216, 'max_response_time': 3.8350241177649083, 'contribution': 0.8565323799848557}, 'EfficientNetB7': {'accuracy': 1.0, 'confidence': 0.8061380982398987, 'avg_response_time': 7.098562569964554, 'max_response_time': 7.098562569964554, 'contribution': 0.8061380982398987}, 'padding_model_8': {'accuracy': 0.0, 'confidence': 0.0, 'avg_response_time': 0.0, 'max_response_time': 0.0, 'contribution': 0.0}, 'padding_model_9': {'accuracy': 0.0, 'confidence': 0.0, 'avg_response_time': 0.0, 'max_response_time': 0.0, 'contribution': 0.0}, 'padding_model_10': {'accuracy': 0.0, 'confidence': 0.0, 'avg_response_time': 0.0, 'max_response_time': 0.0, 'contribution': 0.0}}, 'input_state': {'input_file_length': 13, 'image_height': 224, 'image_width': 224}, 'distribution_weights': [1.0, 1.0, 1.0, 1.0, 1.0, 0.0, 0.0, 0.0, 0.0, 0.0, 0.0, 0.0, 0.0, 0.0, 0.0, 0.0, 0.0, 0.0, 0.0, 0.0]}\n",
      "{'accuracy': 0.8571428571428571, 'confidence': 0.7385479162846293, 'explainability': 1.0, 'energy': 0.011539725062961177, 'latency': 3.552253749681167}\n",
      "REWARD:  3.9900715943771665\n",
      "Worst model: ResNet50V2 with score: 0.7573739295908658\n",
      "Model 'ResNet50V2' successfully removed from the target YAML.\n",
      "Best model: DenseNet201 with score: 0.8944655883285759\n",
      "Model 'DenseNet201' successfully added to the target YAML.\n"
     ]
    },
    {
     "name": "stderr",
     "output_type": "stream",
     "text": [
      "2025-01-28 15:52:24,663:INFO -- Action: Keeping the ensemble\n"
     ]
    },
    {
     "name": "stdout",
     "output_type": "stream",
     "text": [
      "STATE:  {'ensemble_state': {'total_energy_consumption': 0.011354318386132727, 'ensemble_size': 6}, 'model_states': {'InceptionResNetV2': {'accuracy': 0.875, 'confidence': 0.7724207639694214, 'avg_response_time': 2.0776366122271366, 'max_response_time': 2.144495518235469, 'contribution': 0.687388464808464}, 'MobileNetV2': {'accuracy': 0.75, 'confidence': 0.6155490539968014, 'avg_response_time': 0.0337710607365712, 'max_response_time': 0.04484991096960366, 'contribution': 0.6155490539968014}, 'ResNet50V2': {'accuracy': 0.5714285714285714, 'confidence': 0.4826028687613351, 'avg_response_time': 0.1181562562557086, 'max_response_time': 0.12852528502682153, 'contribution': 0.6007137468882969}, 'ensemble': {'accuracy': 0.875, 'confidence': 0.75806691814214, 'avg_response_time': 3.992528851277204, 'max_response_time': 7.1064099492761965, 'contribution': 0.9397020116448402}, 'EfficientNetV2S': {'accuracy': 1.0, 'confidence': 0.9116517702738444, 'avg_response_time': 1.1584358572844184, 'max_response_time': 1.1819608630829506, 'contribution': 0.9116517702738444}, 'NASNetLarge': {'accuracy': 1.0, 'confidence': 0.8610321640968323, 'avg_response_time': 3.819624335256055, 'max_response_time': 3.8350241177649083, 'contribution': 0.8610321640968323}, 'EfficientNetB7': {'accuracy': 1.0, 'confidence': 0.7653971612453461, 'avg_response_time': 7.081328790637068, 'max_response_time': 7.098562569964554, 'contribution': 0.7653971612453461}, 'DenseNet201': {'accuracy': 1.0, 'confidence': 0.9933902025222778, 'avg_response_time': 0.5136891062438714, 'max_response_time': 0.5136891062438714, 'contribution': 0.9933902025222778}, 'padding_model_9': {'accuracy': 0.0, 'confidence': 0.0, 'avg_response_time': 0.0, 'max_response_time': 0.0, 'contribution': 0.0}, 'padding_model_10': {'accuracy': 0.0, 'confidence': 0.0, 'avg_response_time': 0.0, 'max_response_time': 0.0, 'contribution': 0.0}}, 'input_state': {'input_file_length': 14, 'image_height': 224, 'image_width': 224}, 'distribution_weights': [1.0, 1.0, 1.0, 1.0, 1.0, 0.0, 0.0, 0.0, 0.0, 0.0, 0.0, 0.0, 0.0, 0.0, 0.0, 0.0, 0.0, 0.0, 0.0, 0.0]}\n",
      "{'accuracy': 0.875, 'confidence': 0.75806691814214, 'explainability': 1.0, 'energy': 0.011354318386132727, 'latency': 3.992528851277204}\n",
      "REWARD:  3.9910857798784374\n"
     ]
    },
    {
     "name": "stderr",
     "output_type": "stream",
     "text": [
      "2025-01-28 15:52:25,060:INFO -- Action: Adding a model\n"
     ]
    },
    {
     "name": "stdout",
     "output_type": "stream",
     "text": [
      "STATE:  {'ensemble_state': {'total_energy_consumption': 0.011354318386132727, 'ensemble_size': 6}, 'model_states': {'InceptionResNetV2': {'accuracy': 0.8888888888888888, 'confidence': 0.7887648079130385, 'avg_response_time': 2.0764119228607387, 'max_response_time': 2.144495518235469, 'contribution': 0.7131805419921875}, 'MobileNetV2': {'accuracy': 0.7777777777777778, 'confidence': 0.6529386407799191, 'avg_response_time': 0.04192996017132648, 'max_response_time': 0.10720115564936877, 'contribution': 0.6529386407799191}, 'ResNet50V2': {'accuracy': 0.5714285714285714, 'confidence': 0.4826028687613351, 'avg_response_time': 0.1181562562557086, 'max_response_time': 0.12852528502682153, 'contribution': 0.6007137468882969}, 'ensemble': {'accuracy': 0.8888888888888888, 'confidence': 0.7763680733464383, 'avg_response_time': 4.339736094305094, 'max_response_time': 7.1173940385282135, 'contribution': 0.9463804562886556}, 'EfficientNetV2S': {'accuracy': 1.0, 'confidence': 0.916156530380249, 'avg_response_time': 1.158246197379094, 'max_response_time': 1.1819608630829506, 'contribution': 0.916156530380249}, 'NASNetLarge': {'accuracy': 1.0, 'confidence': 0.8713934520880381, 'avg_response_time': 3.8189031644215734, 'max_response_time': 3.8350241177649083, 'contribution': 0.8713934520880381}, 'EfficientNetB7': {'accuracy': 1.0, 'confidence': 0.7765642404556274, 'avg_response_time': 7.089839908967664, 'max_response_time': 7.106862145628856, 'contribution': 0.7765642404556274}, 'DenseNet201': {'accuracy': 1.0, 'confidence': 0.9965991079807281, 'avg_response_time': 0.5601844795580282, 'max_response_time': 0.6066798528721851, 'contribution': 0.9965991079807281}, 'padding_model_9': {'accuracy': 0.0, 'confidence': 0.0, 'avg_response_time': 0.0, 'max_response_time': 0.0, 'contribution': 0.0}, 'padding_model_10': {'accuracy': 0.0, 'confidence': 0.0, 'avg_response_time': 0.0, 'max_response_time': 0.0, 'contribution': 0.0}}, 'input_state': {'input_file_length': 14, 'image_height': 224, 'image_width': 224}, 'distribution_weights': [1.0, 1.0, 1.0, 1.0, 1.0, 0.0, 0.0, 0.0, 0.0, 0.0, 0.0, 0.0, 0.0, 0.0, 0.0, 0.0, 0.0, 0.0, 0.0, 0.0]}\n",
      "{'accuracy': 0.8888888888888888, 'confidence': 0.7763680733464383, 'explainability': 1.0, 'energy': 0.011354318386132727, 'latency': 4.339736094305094}\n",
      "REWARD:  3.9919457572552712\n",
      "Best model: Xception with score: 0.8872592592592593\n",
      "Model 'Xception' successfully added to the target YAML.\n"
     ]
    },
    {
     "name": "stderr",
     "output_type": "stream",
     "text": [
      "2025-01-28 15:52:25,392:INFO -- Action: Keeping the ensemble\n"
     ]
    },
    {
     "name": "stdout",
     "output_type": "stream",
     "text": [
      "STATE:  {'ensemble_state': {'total_energy_consumption': 0.016839173459921662, 'ensemble_size': 7}, 'model_states': {'InceptionResNetV2': {'accuracy': 0.8, 'confidence': 0.7098883271217347, 'avg_response_time': 2.072370006984685, 'max_response_time': 2.144495518235469, 'contribution': 0.6418624877929687}, 'MobileNetV2': {'accuracy': 0.8, 'confidence': 0.6746802538633346, 'avg_response_time': 0.041882615563376926, 'max_response_time': 0.10720115564936877, 'contribution': 0.6746802538633346}, 'ResNet50V2': {'accuracy': 0.5714285714285714, 'confidence': 0.4826028687613351, 'avg_response_time': 0.1181562562557086, 'max_response_time': 0.12852528502682153, 'contribution': 0.6007137468882969}, 'ensemble': {'accuracy': 0.9, 'confidence': 0.7835632806519668, 'avg_response_time': 4.6214898055406834, 'max_response_time': 7.157273206660992, 'contribution': 0.9400223791599274}, 'EfficientNetV2S': {'accuracy': 1.0, 'confidence': 0.9105604588985443, 'avg_response_time': 1.1535019387008025, 'max_response_time': 1.1819608630829506, 'contribution': 0.9105604588985443}, 'NASNetLarge': {'accuracy': 1.0, 'confidence': 0.8690811565944127, 'avg_response_time': 3.816321890637942, 'max_response_time': 3.8350241177649083, 'contribution': 0.8690811565944127}, 'EfficientNetB7': {'accuracy': 1.0, 'confidence': 0.786543995141983, 'avg_response_time': 7.103723393039435, 'max_response_time': 7.145373845254748, 'contribution': 0.786543995141983}, 'DenseNet201': {'accuracy': 1.0, 'confidence': 0.9289620121320089, 'avg_response_time': 0.5786432737391304, 'max_response_time': 0.6155608621013346, 'contribution': 0.9289620121320089}, 'Xception': {'accuracy': 1.0, 'confidence': 0.8827996850013733, 'avg_response_time': 0.9859798813203515, 'max_response_time': 0.9859798813203515, 'contribution': 0.8827996850013733}, 'padding_model_10': {'accuracy': 0.0, 'confidence': 0.0, 'avg_response_time': 0.0, 'max_response_time': 0.0, 'contribution': 0.0}}, 'input_state': {'input_file_length': 15, 'image_height': 224, 'image_width': 224}, 'distribution_weights': [1.0, 1.0, 1.0, 1.0, 1.0, 0.0, 0.0, 0.0, 0.0, 0.0, 0.0, 0.0, 0.0, 0.0, 0.0, 0.0, 0.0, 0.0, 0.0, 0.0]}\n",
      "{'accuracy': 0.9, 'confidence': 0.7835632806519668, 'explainability': 1.0, 'energy': 0.016839173459921662, 'latency': 4.6214898055406834}\n",
      "REWARD:  3.9924158292663887\n"
     ]
    },
    {
     "name": "stderr",
     "output_type": "stream",
     "text": [
      "2025-01-28 15:52:25,768:INFO -- Action: Replacing a model\n"
     ]
    },
    {
     "name": "stdout",
     "output_type": "stream",
     "text": [
      "STATE:  {'ensemble_state': {'total_energy_consumption': 0.016839173459921662, 'ensemble_size': 7}, 'model_states': {'InceptionResNetV2': {'accuracy': 0.8181818181818182, 'confidence': 0.7298655347390608, 'avg_response_time': 2.0718441781477313, 'max_response_time': 2.144495518235469, 'contribution': 0.668023862622001}, 'MobileNetV2': {'accuracy': 0.8181818181818182, 'confidence': 0.686980889602141, 'avg_response_time': 0.04293592684982646, 'max_response_time': 0.10720115564936877, 'contribution': 0.686980889602141}, 'ResNet50V2': {'accuracy': 0.5714285714285714, 'confidence': 0.4826028687613351, 'avg_response_time': 0.1181562562557086, 'max_response_time': 0.12852528502682153, 'contribution': 0.6007137468882969}, 'ensemble': {'accuracy': 0.9090909090909091, 'confidence': 0.7913071363325759, 'avg_response_time': 4.852818042916341, 'max_response_time': 7.166100416672916, 'contribution': 0.9412245967171409}, 'EfficientNetV2S': {'accuracy': 1.0, 'confidence': 0.9088950024710761, 'avg_response_time': 1.1527214004366468, 'max_response_time': 1.1819608630829506, 'contribution': 0.9088950024710761}, 'NASNetLarge': {'accuracy': 1.0, 'confidence': 0.8713185340166092, 'avg_response_time': 3.8201721087234937, 'max_response_time': 3.847123635322354, 'contribution': 0.8713185340166092}, 'EfficientNetB7': {'accuracy': 1.0, 'confidence': 0.7745653390884399, 'avg_response_time': 7.1141492536677315, 'max_response_time': 7.155852696180918, 'contribution': 0.7745653390884399}, 'DenseNet201': {'accuracy': 1.0, 'confidence': 0.9165080040693283, 'avg_response_time': 0.5878668503944178, 'max_response_time': 0.6155608621013346, 'contribution': 0.9165080040693283}, 'Xception': {'accuracy': 1.0, 'confidence': 0.9180232286453247, 'avg_response_time': 0.9796257192568446, 'max_response_time': 0.9859798813203515, 'contribution': 0.9180232286453247}, 'padding_model_10': {'accuracy': 0.0, 'confidence': 0.0, 'avg_response_time': 0.0, 'max_response_time': 0.0, 'contribution': 0.0}}, 'input_state': {'input_file_length': 14, 'image_height': 224, 'image_width': 224}, 'distribution_weights': [1.0, 1.0, 1.0, 1.0, 1.0, 0.0, 0.0, 0.0, 0.0, 0.0, 0.0, 0.0, 0.0, 0.0, 0.0, 0.0, 0.0, 0.0, 0.0, 0.0]}\n",
      "{'accuracy': 0.9090909090909091, 'confidence': 0.7913071363325759, 'explainability': 1.0, 'energy': 0.016839173459921662, 'latency': 4.852818042916341}\n",
      "REWARD:  3.9928476198616427\n",
      "Worst model: MobileNetV2 with score: 0.8261111111111111\n",
      "Model 'MobileNetV2' successfully removed from the target YAML.\n",
      "Best model: InceptionV3 with score: 0.8844354582936885\n",
      "Model 'InceptionV3' successfully added to the target YAML.\n"
     ]
    },
    {
     "name": "stderr",
     "output_type": "stream",
     "text": [
      "2025-01-28 15:52:26,263:INFO -- Action: Replacing a model\n"
     ]
    },
    {
     "name": "stdout",
     "output_type": "stream",
     "text": [
      "STATE:  {'ensemble_state': {'total_energy_consumption': 0.017675754738927185, 'ensemble_size': 7}, 'model_states': {'InceptionResNetV2': {'accuracy': 0.8333333333333334, 'confidence': 0.7472291141748428, 'avg_response_time': 2.069762769217387, 'max_response_time': 2.144495518235469, 'contribution': 0.6905409147342046}, 'MobileNetV2': {'accuracy': 0.8181818181818182, 'confidence': 0.686980889602141, 'avg_response_time': 0.04293592684982646, 'max_response_time': 0.10720115564936877, 'contribution': 0.686980889602141}, 'ResNet50V2': {'accuracy': 0.5714285714285714, 'confidence': 0.4826028687613351, 'avg_response_time': 0.1181562562557086, 'max_response_time': 0.12852528502682153, 'contribution': 0.6007137468882969}, 'ensemble': {'accuracy': 0.9166666666666666, 'confidence': 0.7977892661674155, 'avg_response_time': 5.043376348022365, 'max_response_time': 7.166100416672916, 'contribution': 0.9456780354181925}, 'EfficientNetV2S': {'accuracy': 1.0, 'confidence': 0.9068763315677643, 'avg_response_time': 1.1509888061285012, 'max_response_time': 1.1819608630829506, 'contribution': 0.9068763315677643}, 'NASNetLarge': {'accuracy': 1.0, 'confidence': 0.8743462695015801, 'avg_response_time': 3.815742952899751, 'max_response_time': 3.847123635322354, 'contribution': 0.8743462695015801}, 'EfficientNetB7': {'accuracy': 1.0, 'confidence': 0.7374144494533539, 'avg_response_time': 7.116690748768775, 'max_response_time': 7.155852696180918, 'contribution': 0.7374144494533539}, 'DenseNet201': {'accuracy': 1.0, 'confidence': 0.9321395754814148, 'avg_response_time': 0.5857754613985807, 'max_response_time': 0.6155608621013346, 'contribution': 0.9321395754814148}, 'Xception': {'accuracy': 1.0, 'confidence': 0.8865840832392374, 'avg_response_time': 0.9882400853610118, 'max_response_time': 1.005468817569346, 'contribution': 0.8865840832392374}, 'InceptionV3': {'accuracy': 1.0, 'confidence': 0.9881122708320618, 'avg_response_time': 0.5686696789416563, 'max_response_time': 0.5686696789416563, 'contribution': 0.9881122708320618}}, 'input_state': {'input_file_length': 15, 'image_height': 224, 'image_width': 224}, 'distribution_weights': [1.0, 1.0, 1.0, 1.0, 1.0, 0.0, 0.0, 0.0, 0.0, 0.0, 0.0, 0.0, 0.0, 0.0, 0.0, 0.0, 0.0, 0.0, 0.0, 0.0]}\n",
      "{'accuracy': 0.9166666666666666, 'confidence': 0.7977892661674155, 'explainability': 1.0, 'energy': 0.017675754738927185, 'latency': 5.043376348022365}\n",
      "REWARD:  3.99320498139606\n",
      "Worst model: InceptionV3 with score: 0.8844354582936885\n",
      "Model 'InceptionV3' successfully removed from the target YAML.\n",
      "Best model: InceptionV3 with score: 0.8844354582936885\n",
      "Model 'InceptionV3' successfully added to the target YAML.\n"
     ]
    },
    {
     "name": "stderr",
     "output_type": "stream",
     "text": [
      "2025-01-28 15:52:26,746:INFO -- Action: Replacing a model\n"
     ]
    },
    {
     "name": "stdout",
     "output_type": "stream",
     "text": [
      "STATE:  {'ensemble_state': {'total_energy_consumption': 0.017675754738927185, 'ensemble_size': 7}, 'model_states': {'InceptionResNetV2': {'accuracy': 0.8461538461538461, 'confidence': 0.7625040962145879, 'avg_response_time': 2.0651280030765378, 'max_response_time': 2.144495518235469, 'contribution': 0.7101765275001526}, 'MobileNetV2': {'accuracy': 0.8181818181818182, 'confidence': 0.686980889602141, 'avg_response_time': 0.04293592684982646, 'max_response_time': 0.10720115564936877, 'contribution': 0.686980889602141}, 'ResNet50V2': {'accuracy': 0.5714285714285714, 'confidence': 0.4826028687613351, 'avg_response_time': 0.1181562562557086, 'max_response_time': 0.12852528502682153, 'contribution': 0.6007137468882969}, 'ensemble': {'accuracy': 0.9230769230769231, 'confidence': 0.8082677051534147, 'avg_response_time': 5.2036589090442895, 'max_response_time': 7.166100416672916, 'contribution': 0.9492710920480582}, 'EfficientNetV2S': {'accuracy': 1.0, 'confidence': 0.9096235199408098, 'avg_response_time': 1.1523594114437001, 'max_response_time': 1.1819608630829506, 'contribution': 0.9096235199408098}, 'NASNetLarge': {'accuracy': 1.0, 'confidence': 0.879936420917511, 'avg_response_time': 3.817143774199278, 'max_response_time': 3.847123635322354, 'contribution': 0.879936420917511}, 'EfficientNetB7': {'accuracy': 1.0, 'confidence': 0.7498754007475716, 'avg_response_time': 7.1171284058039825, 'max_response_time': 7.155852696180918, 'contribution': 0.7498754007475716}, 'DenseNet201': {'accuracy': 1.0, 'confidence': 0.9421809415022532, 'avg_response_time': 0.5843223332222663, 'max_response_time': 0.6155608621013346, 'contribution': 0.9421809415022532}, 'Xception': {'accuracy': 1.0, 'confidence': 0.900257334113121, 'avg_response_time': 0.9855592799875131, 'max_response_time': 1.005468817569346, 'contribution': 0.900257334113121}, 'InceptionV3': {'accuracy': 1.0, 'confidence': 0.9773610234260559, 'avg_response_time': 0.5789169402305876, 'max_response_time': 0.5891642015195189, 'contribution': 0.9773610234260559}}, 'input_state': {'input_file_length': 14, 'image_height': 224, 'image_width': 224}, 'distribution_weights': [1.0, 1.0, 1.0, 1.0, 1.0, 0.0, 0.0, 0.0, 0.0, 0.0, 0.0, 0.0, 0.0, 0.0, 0.0, 0.0, 0.0, 0.0, 0.0, 0.0]}\n",
      "{'accuracy': 0.9230769230769231, 'confidence': 0.8082677051534147, 'explainability': 1.0, 'energy': 0.017675754738927185, 'latency': 5.2036589090442895}\n",
      "REWARD:  3.9936396560187855\n",
      "Worst model: InceptionV3 with score: 0.8844354582936885\n",
      "Model 'InceptionV3' successfully removed from the target YAML.\n",
      "Best model: InceptionV3 with score: 0.8844354582936885\n",
      "Model 'InceptionV3' successfully added to the target YAML.\n"
     ]
    },
    {
     "name": "stderr",
     "output_type": "stream",
     "text": [
      "2025-01-28 15:52:27,393:INFO -- Action: Replacing a model\n"
     ]
    },
    {
     "name": "stdout",
     "output_type": "stream",
     "text": [
      "STATE:  {'ensemble_state': {'total_energy_consumption': 0.017675754738927185, 'ensemble_size': 7}, 'model_states': {'InceptionResNetV2': {'accuracy': 0.8571428571428571, 'confidence': 0.7728983802454812, 'avg_response_time': 2.0703769108196526, 'max_response_time': 2.144495518235469, 'contribution': 0.7243084950106484}, 'MobileNetV2': {'accuracy': 0.8181818181818182, 'confidence': 0.686980889602141, 'avg_response_time': 0.04293592684982646, 'max_response_time': 0.10720115564936877, 'contribution': 0.686980889602141}, 'ResNet50V2': {'accuracy': 0.5714285714285714, 'confidence': 0.4826028687613351, 'avg_response_time': 0.1181562562557086, 'max_response_time': 0.12852528502682153, 'contribution': 0.6007137468882969}, 'ensemble': {'accuracy': 0.9285714285714286, 'confidence': 0.8123963941370144, 'avg_response_time': 5.341656965395383, 'max_response_time': 7.166100416672916, 'contribution': 0.950134881905147}, 'EfficientNetV2S': {'accuracy': 1.0, 'confidence': 0.9105264196793238, 'avg_response_time': 1.153684737159138, 'max_response_time': 1.1819608630829506, 'contribution': 0.9105264196793238}, 'NASNetLarge': {'accuracy': 1.0, 'confidence': 0.8818774169141596, 'avg_response_time': 3.818832731681792, 'max_response_time': 3.847123635322354, 'contribution': 0.8818774169141596}, 'EfficientNetB7': {'accuracy': 1.0, 'confidence': 0.7542773559689522, 'avg_response_time': 7.118466792611786, 'max_response_time': 7.155852696180918, 'contribution': 0.7542773559689522}, 'DenseNet201': {'accuracy': 1.0, 'confidence': 0.9449213998658317, 'avg_response_time': 0.583396328614756, 'max_response_time': 0.6155608621013346, 'contribution': 0.9449213998658317}, 'Xception': {'accuracy': 1.0, 'confidence': 0.8855800867080689, 'avg_response_time': 0.986832321408122, 'max_response_time': 1.005468817569346, 'contribution': 0.8855800867080689}, 'InceptionV3': {'accuracy': 1.0, 'confidence': 0.9047038157780966, 'avg_response_time': 0.5790711928395686, 'max_response_time': 0.5891642015195189, 'contribution': 0.9047038157780966}}, 'input_state': {'input_file_length': 14, 'image_height': 224, 'image_width': 224}, 'distribution_weights': [1.0, 1.0, 1.0, 1.0, 1.0, 0.0, 0.0, 0.0, 0.0, 0.0, 0.0, 0.0, 0.0, 0.0, 0.0, 0.0, 0.0, 0.0, 0.0, 0.0]}\n",
      "{'accuracy': 0.9285714285714286, 'confidence': 0.8123963941370144, 'explainability': 1.0, 'energy': 0.017675754738927185, 'latency': 5.341656965395383}\n",
      "REWARD:  3.993879165186368\n",
      "Worst model: InceptionV3 with score: 0.8844354582936885\n",
      "Model 'InceptionV3' successfully removed from the target YAML.\n",
      "Best model: InceptionV3 with score: 0.8844354582936885\n",
      "Model 'InceptionV3' successfully added to the target YAML.\n"
     ]
    },
    {
     "name": "stderr",
     "output_type": "stream",
     "text": [
      "2025-01-28 15:52:27,981:INFO -- Action: Adding a model\n"
     ]
    },
    {
     "name": "stdout",
     "output_type": "stream",
     "text": [
      "STATE:  {'ensemble_state': {'total_energy_consumption': 0.017675754738927185, 'ensemble_size': 7}, 'model_states': {'InceptionResNetV2': {'accuracy': 0.8666666666666667, 'confidence': 0.7840776403745016, 'avg_response_time': 2.0747869030326282, 'max_response_time': 2.144495518235469, 'contribution': 0.738727080821991}, 'MobileNetV2': {'accuracy': 0.8181818181818182, 'confidence': 0.686980889602141, 'avg_response_time': 0.04293592684982646, 'max_response_time': 0.10720115564936877, 'contribution': 0.686980889602141}, 'ResNet50V2': {'accuracy': 0.5714285714285714, 'confidence': 0.4826028687613351, 'avg_response_time': 0.1181562562557086, 'max_response_time': 0.12852528502682153, 'contribution': 0.6007137468882969}, 'ensemble': {'accuracy': 0.9333333333333333, 'confidence': 0.820683328107236, 'avg_response_time': 5.460878835041452, 'max_response_time': 7.166100416672916, 'contribution': 0.9534359852472941}, 'EfficientNetV2S': {'accuracy': 1.0, 'confidence': 0.9106144079795251, 'avg_response_time': 1.1526281880023275, 'max_response_time': 1.1819608630829506, 'contribution': 0.9106144079795251}, 'NASNetLarge': {'accuracy': 1.0, 'confidence': 0.8852191517750422, 'avg_response_time': 3.810725129274035, 'max_response_time': 3.847123635322354, 'contribution': 0.8852191517750422}, 'EfficientNetB7': {'accuracy': 1.0, 'confidence': 0.7626508474349976, 'avg_response_time': 7.118864412786501, 'max_response_time': 7.155852696180918, 'contribution': 0.7626508474349976}, 'DenseNet201': {'accuracy': 1.0, 'confidence': 0.9517626538872719, 'avg_response_time': 0.5814774445643408, 'max_response_time': 0.6155608621013346, 'contribution': 0.9517626538872719}, 'Xception': {'accuracy': 1.0, 'confidence': 0.8982445995012919, 'avg_response_time': 0.9853378017548886, 'max_response_time': 1.005468817569346, 'contribution': 0.8982445995012919}, 'InceptionV3': {'accuracy': 1.0, 'confidence': 0.9264802783727646, 'avg_response_time': 0.5867954892015417, 'max_response_time': 0.6099683782874605, 'contribution': 0.9264802783727646}}, 'input_state': {'input_file_length': 14, 'image_height': 224, 'image_width': 224}, 'distribution_weights': [1.0, 1.0, 1.0, 1.0, 1.0, 0.0, 0.0, 0.0, 0.0, 0.0, 0.0, 0.0, 0.0, 0.0, 0.0, 0.0, 0.0, 0.0, 0.0, 0.0]}\n",
      "{'accuracy': 0.9333333333333333, 'confidence': 0.820683328107236, 'explainability': 1.0, 'energy': 0.017675754738927185, 'latency': 5.460878835041452}\n",
      "REWARD:  3.994210619379799\n",
      "Best model: DenseNet121 with score: 0.8663703703703703\n",
      "Model 'DenseNet121' successfully added to the target YAML.\n"
     ]
    },
    {
     "name": "stderr",
     "output_type": "stream",
     "text": [
      "2025-01-28 15:52:28,461:INFO -- Action: Adding a model\n"
     ]
    },
    {
     "name": "stdout",
     "output_type": "stream",
     "text": [
      "STATE:  {'ensemble_state': {'total_energy_consumption': 0.017825260597325844, 'ensemble_size': 8}, 'model_states': {'InceptionResNetV2': {'accuracy': 0.875, 'confidence': 0.7929595708847046, 'avg_response_time': 2.074163036568352, 'max_response_time': 2.144495518235469, 'contribution': 0.7504434213042259}, 'MobileNetV2': {'accuracy': 0.8181818181818182, 'confidence': 0.686980889602141, 'avg_response_time': 0.04293592684982646, 'max_response_time': 0.10720115564936877, 'contribution': 0.686980889602141}, 'ResNet50V2': {'accuracy': 0.5714285714285714, 'confidence': 0.4826028687613351, 'avg_response_time': 0.1181562562557086, 'max_response_time': 0.12852528502682153, 'contribution': 0.6007137468882969}, 'ensemble': {'accuracy': 0.9375, 'confidence': 0.8257471814707277, 'avg_response_time': 5.56449430289176, 'max_response_time': 7.166100416672916, 'contribution': 0.9556955173611641}, 'EfficientNetV2S': {'accuracy': 1.0, 'confidence': 0.9107038123267037, 'avg_response_time': 1.1536054649228629, 'max_response_time': 1.1819608630829506, 'contribution': 0.9107038123267037}, 'NASNetLarge': {'accuracy': 1.0, 'confidence': 0.8879641661277184, 'avg_response_time': 3.812042537568918, 'max_response_time': 3.847123635322354, 'contribution': 0.8879641661277184}, 'EfficientNetB7': {'accuracy': 1.0, 'confidence': 0.7683340609073639, 'avg_response_time': 7.118008608905294, 'max_response_time': 7.155852696180918, 'contribution': 0.7683340609073639}, 'DenseNet201': {'accuracy': 1.0, 'confidence': 0.9403084648980035, 'avg_response_time': 0.5835681012716788, 'max_response_time': 0.6155608621013346, 'contribution': 0.9403084648980035}, 'Xception': {'accuracy': 1.0, 'confidence': 0.8874229107584272, 'avg_response_time': 0.9853996000160532, 'max_response_time': 1.005468817569346, 'contribution': 0.8874229107584272}, 'InceptionV3': {'accuracy': 1.0, 'confidence': 0.9391019225120545, 'avg_response_time': 0.5857298889587375, 'max_response_time': 0.6099683782874605, 'contribution': 0.9391019225120545}}, 'input_state': {'input_file_length': 14, 'image_height': 224, 'image_width': 224}, 'distribution_weights': [1.0, 1.0, 1.0, 1.0, 1.0, 0.0, 0.0, 0.0, 0.0, 0.0, 0.0, 0.0, 0.0, 0.0, 0.0, 0.0, 0.0, 0.0, 0.0, 0.0]}\n",
      "{'accuracy': 0.9375, 'confidence': 0.8257471814707277, 'explainability': 1.0, 'energy': 0.017825260597325844, 'latency': 5.56449430289176}\n",
      "REWARD:  3.99444091881925\n",
      "Best model: MobileNet with score: 0.84\n",
      "Model 'MobileNet' successfully added to the target YAML.\n"
     ]
    },
    {
     "name": "stderr",
     "output_type": "stream",
     "text": [
      "2025-01-28 15:52:29,028:INFO -- Action: Adding a model\n"
     ]
    },
    {
     "name": "stdout",
     "output_type": "stream",
     "text": [
      "STATE:  {'ensemble_state': {'total_energy_consumption': 0.017859681623383035, 'ensemble_size': 9}, 'model_states': {'InceptionResNetV2': {'accuracy': 0.8823529411764706, 'confidence': 0.8016131274840411, 'avg_response_time': 2.071560531807325, 'max_response_time': 2.144495518235469, 'contribution': 0.7615979278788847}, 'MobileNetV2': {'accuracy': 0.8181818181818182, 'confidence': 0.686980889602141, 'avg_response_time': 0.04293592684982646, 'max_response_time': 0.10720115564936877, 'contribution': 0.686980889602141}, 'ResNet50V2': {'accuracy': 0.5714285714285714, 'confidence': 0.4826028687613351, 'avg_response_time': 0.1181562562557086, 'max_response_time': 0.12852528502682153, 'contribution': 0.6007137468882969}, 'ensemble': {'accuracy': 0.9411764705882353, 'confidence': 0.8298434170201268, 'avg_response_time': 5.656220670136061, 'max_response_time': 7.166100416672916, 'contribution': 0.9578674996600431}, 'EfficientNetV2S': {'accuracy': 1.0, 'confidence': 0.9091284354527791, 'avg_response_time': 1.1489962461495922, 'max_response_time': 1.1819608630829506, 'contribution': 0.9091284354527791}, 'NASNetLarge': {'accuracy': 1.0, 'confidence': 0.8906473304544177, 'avg_response_time': 3.8127832747140955, 'max_response_time': 3.847123635322354, 'contribution': 0.8906473304544177}, 'EfficientNetB7': {'accuracy': 1.0, 'confidence': 0.7743917920372703, 'avg_response_time': 7.11764313324745, 'max_response_time': 7.155852696180918, 'contribution': 0.7743917920372703}, 'DenseNet201': {'accuracy': 1.0, 'confidence': 0.9455395400524139, 'avg_response_time': 0.585809921271289, 'max_response_time': 0.6155608621013346, 'contribution': 0.9455395400524139}, 'Xception': {'accuracy': 1.0, 'confidence': 0.8583667650818825, 'avg_response_time': 0.9855294176389994, 'max_response_time': 1.005468817569346, 'contribution': 0.8583667650818825}, 'InceptionV3': {'accuracy': 1.0, 'confidence': 0.9253374437491099, 'avg_response_time': 0.5820751075394736, 'max_response_time': 0.6099683782874605, 'contribution': 0.9253374437491099}}, 'input_state': {'input_file_length': 15, 'image_height': 224, 'image_width': 224}, 'distribution_weights': [1.0, 1.0, 1.0, 1.0, 1.0, 0.0, 0.0, 0.0, 0.0, 0.0, 0.0, 0.0, 0.0, 0.0, 0.0, 0.0, 0.0, 0.0, 0.0, 0.0]}\n",
      "{'accuracy': 0.9411764705882353, 'confidence': 0.8298434170201268, 'explainability': 1.0, 'energy': 0.017859681623383035, 'latency': 5.656220670136061}\n",
      "REWARD:  3.9946333607224775\n",
      "Best model: ResNet50 with score: 0.8398350777037742\n",
      "Model 'ResNet50' successfully added to the target YAML.\n"
     ]
    },
    {
     "name": "stderr",
     "output_type": "stream",
     "text": [
      "2025-01-28 15:52:29,485:INFO -- Action: Keeping the ensemble\n"
     ]
    },
    {
     "name": "stdout",
     "output_type": "stream",
     "text": [
      "STATE:  {'ensemble_state': {'total_energy_consumption': 0.018470515036970083, 'ensemble_size': 10}, 'model_states': {'InceptionResNetV2': {'accuracy': 0.8888888888888888, 'confidence': 0.8099540637599097, 'avg_response_time': 2.0709284868966673, 'max_response_time': 2.144495518235469, 'contribution': 0.7721619307994843}, 'MobileNetV2': {'accuracy': 0.8181818181818182, 'confidence': 0.686980889602141, 'avg_response_time': 0.04293592684982646, 'max_response_time': 0.10720115564936877, 'contribution': 0.686980889602141}, 'ResNet50V2': {'accuracy': 0.5714285714285714, 'confidence': 0.4826028687613351, 'avg_response_time': 0.1181562562557086, 'max_response_time': 0.12852528502682153, 'contribution': 0.6007137468882969}, 'ensemble': {'accuracy': 0.9444444444444444, 'confidence': 0.834807793221829, 'avg_response_time': 5.740772555948342, 'max_response_time': 7.1781546147571245, 'contribution': 0.9601248866981931}, 'EfficientNetV2S': {'accuracy': 1.0, 'confidence': 0.9087997488677502, 'avg_response_time': 1.14996660345659, 'max_response_time': 1.1819608630829506, 'contribution': 0.9087997488677502}, 'NASNetLarge': {'accuracy': 1.0, 'confidence': 0.8871686379114787, 'avg_response_time': 3.8097973277930532, 'max_response_time': 3.847123635322354, 'contribution': 0.8871686379114787}, 'EfficientNetB7': {'accuracy': 1.0, 'confidence': 0.7811855673789978, 'avg_response_time': 7.122033918814616, 'max_response_time': 7.170332560053439, 'contribution': 0.7811855673789978}, 'DenseNet201': {'accuracy': 1.0, 'confidence': 0.9502439878203652, 'avg_response_time': 0.5819465804764276, 'max_response_time': 0.6155608621013346, 'contribution': 0.9502439878203652}, 'Xception': {'accuracy': 1.0, 'confidence': 0.8570410013198853, 'avg_response_time': 0.9828520047329508, 'max_response_time': 1.005468817569346, 'contribution': 0.8570410013198853}, 'InceptionV3': {'accuracy': 1.0, 'confidence': 0.9283890809331622, 'avg_response_time': 0.5808488036197206, 'max_response_time': 0.6099683782874605, 'contribution': 0.9283890809331622}}, 'input_state': {'input_file_length': 15, 'image_height': 224, 'image_width': 224}, 'distribution_weights': [1.0, 1.0, 1.0, 1.0, 1.0, 0.0, 0.0, 0.0, 0.0, 0.0, 0.0, 0.0, 0.0, 0.0, 0.0, 0.0, 0.0, 0.0, 0.0, 0.0]}\n",
      "{'accuracy': 0.9444444444444444, 'confidence': 0.834807793221829, 'explainability': 1.0, 'energy': 0.018470515036970083, 'latency': 5.740772555948342}\n",
      "REWARD:  3.9948381455488864\n"
     ]
    },
    {
     "name": "stderr",
     "output_type": "stream",
     "text": [
      "2025-01-28 15:52:30,028:INFO -- Action: Adding a model\n"
     ]
    },
    {
     "name": "stdout",
     "output_type": "stream",
     "text": [
      "STATE:  {'ensemble_state': {'total_energy_consumption': 0.018470515036970083, 'ensemble_size': 10}, 'model_states': {'InceptionResNetV2': {'accuracy': 0.8947368421052632, 'confidence': 0.8158338603220487, 'avg_response_time': 2.0693542103469547, 'max_response_time': 2.144495518235469, 'contribution': 0.7800307869911194}, 'MobileNetV2': {'accuracy': 0.8181818181818182, 'confidence': 0.686980889602141, 'avg_response_time': 0.04293592684982646, 'max_response_time': 0.10720115564936877, 'contribution': 0.686980889602141}, 'ResNet50V2': {'accuracy': 0.5714285714285714, 'confidence': 0.4826028687613351, 'avg_response_time': 0.1181562562557086, 'max_response_time': 0.12852528502682153, 'contribution': 0.6007137468882969}, 'ensemble': {'accuracy': 0.9473684210526315, 'confidence': 0.8411435998633889, 'avg_response_time': 5.815202768567386, 'max_response_time': 7.1781546147571245, 'contribution': 0.9622213620888559}, 'EfficientNetV2S': {'accuracy': 1.0, 'confidence': 0.909839970224044, 'avg_response_time': 1.1484960444280334, 'max_response_time': 1.1819608630829506, 'contribution': 0.909839970224044}, 'NASNetLarge': {'accuracy': 1.0, 'confidence': 0.8893767520785332, 'avg_response_time': 3.8100872644489296, 'max_response_time': 3.847123635322354, 'contribution': 0.8893767520785332}, 'EfficientNetB7': {'accuracy': 1.0, 'confidence': 0.784947775877439, 'avg_response_time': 7.123726654892122, 'max_response_time': 7.170332560053439, 'contribution': 0.784947775877439}, 'DenseNet201': {'accuracy': 1.0, 'confidence': 0.9543543954690298, 'avg_response_time': 0.5819312926295955, 'max_response_time': 0.6155608621013346, 'contribution': 0.9543543954690298}, 'Xception': {'accuracy': 1.0, 'confidence': 0.866983312368393, 'avg_response_time': 0.9809380865338954, 'max_response_time': 1.005468817569346, 'contribution': 0.866983312368393}, 'InceptionV3': {'accuracy': 1.0, 'confidence': 0.9369162544608116, 'avg_response_time': 0.5795114724763852, 'max_response_time': 0.6099683782874605, 'contribution': 0.9369162544608116}}, 'input_state': {'input_file_length': 15, 'image_height': 224, 'image_width': 224}, 'distribution_weights': [1.0, 1.0, 1.0, 1.0, 1.0, 0.0, 0.0, 0.0, 0.0, 0.0, 0.0, 0.0, 0.0, 0.0, 0.0, 0.0, 0.0, 0.0, 0.0, 0.0]}\n",
      "{'accuracy': 0.9473684210526315, 'confidence': 0.8411435998633889, 'explainability': 1.0, 'energy': 0.018470515036970083, 'latency': 5.815202768567386}\n",
      "REWARD:  3.9950694524471535\n",
      "Best model: NASNetMobile with score: 0.8327037037037037\n",
      "Model 'NASNetMobile' successfully added to the target YAML.\n"
     ]
    },
    {
     "name": "stderr",
     "output_type": "stream",
     "text": [
      "2025-01-28 15:52:30,620:INFO -- Action: Adding a model\n"
     ]
    },
    {
     "name": "stdout",
     "output_type": "stream",
     "text": [
      "STATE:  {'ensemble_state': {'total_energy_consumption': 0.018556997220561713, 'ensemble_size': 11}, 'model_states': {'InceptionResNetV2': {'accuracy': 0.9, 'confidence': 0.8224210202693939, 'avg_response_time': 2.0729696925658496, 'max_response_time': 2.144495518235469, 'contribution': 0.788408100605011}, 'MobileNetV2': {'accuracy': 0.8181818181818182, 'confidence': 0.686980889602141, 'avg_response_time': 0.04293592684982646, 'max_response_time': 0.10720115564936877, 'contribution': 0.686980889602141}, 'ResNet50V2': {'accuracy': 0.5714285714285714, 'confidence': 0.4826028687613351, 'avg_response_time': 0.1181562562557086, 'max_response_time': 0.12852528502682153, 'contribution': 0.6007137468882969}, 'ensemble': {'accuracy': 0.95, 'confidence': 0.8412537274421508, 'avg_response_time': 5.880329725273306, 'max_response_time': 7.1781546147571245, 'contribution': 0.9625516444444656}, 'EfficientNetV2S': {'accuracy': 1.0, 'confidence': 0.9070370528433058, 'avg_response_time': 1.1471035786704655, 'max_response_time': 1.1819608630829506, 'contribution': 0.9070370528433058}, 'NASNetLarge': {'accuracy': 1.0, 'confidence': 0.8884570388232961, 'avg_response_time': 3.8120768959207094, 'max_response_time': 3.847123635322354, 'contribution': 0.8884570388232961}, 'EfficientNetB7': {'accuracy': 1.0, 'confidence': 0.7844206903662, 'avg_response_time': 7.122672578747703, 'max_response_time': 7.170332560053439, 'contribution': 0.7844206903662}, 'DenseNet201': {'accuracy': 1.0, 'confidence': 0.9507960585447458, 'avg_response_time': 0.5804663844303175, 'max_response_time': 0.6155608621013346, 'contribution': 0.9507960585447458}, 'Xception': {'accuracy': 1.0, 'confidence': 0.8635316274382852, 'avg_response_time': 0.9826488660204805, 'max_response_time': 1.005468817569346, 'contribution': 0.8635316274382852}, 'InceptionV3': {'accuracy': 1.0, 'confidence': 0.9404618938763937, 'avg_response_time': 0.5795895079529703, 'max_response_time': 0.6099683782874605, 'contribution': 0.9404618938763937}}, 'input_state': {'input_file_length': 14, 'image_height': 224, 'image_width': 224}, 'distribution_weights': [1.0, 1.0, 1.0, 1.0, 1.0, 0.0, 0.0, 0.0, 0.0, 0.0, 0.0, 0.0, 0.0, 0.0, 0.0, 0.0, 0.0, 0.0, 0.0, 0.0]}\n",
      "{'accuracy': 0.95, 'confidence': 0.8412537274421508, 'explainability': 1.0, 'energy': 0.018556997220561713, 'latency': 5.880329725273306}\n",
      "REWARD:  3.995132530340247\n",
      "Best model: MobileNetV2 with score: 0.8261111111111111\n",
      "Model 'MobileNetV2' successfully added to the target YAML.\n"
     ]
    },
    {
     "name": "stderr",
     "output_type": "stream",
     "text": [
      "2025-01-28 15:52:31,186:INFO -- Action: Replacing a model\n"
     ]
    },
    {
     "name": "stdout",
     "output_type": "stream",
     "text": [
      "STATE:  {'ensemble_state': {'total_energy_consumption': 0.018591318869234208, 'ensemble_size': 12}, 'model_states': {'InceptionResNetV2': {'accuracy': 0.9047619047619048, 'confidence': 0.8281817606517247, 'avg_response_time': 2.072790585476546, 'max_response_time': 2.144495518235469, 'contribution': 0.7957885038285029}, 'MobileNetV2': {'accuracy': 0.8333333333333334, 'confidence': 0.712681400279204, 'avg_response_time': 0.046954788586440255, 'max_response_time': 0.10720115564936877, 'contribution': 0.712681400279204}, 'ResNet50V2': {'accuracy': 0.5714285714285714, 'confidence': 0.4826028687613351, 'avg_response_time': 0.1181562562557086, 'max_response_time': 0.12852528502682153, 'contribution': 0.6007137468882969}, 'ensemble': {'accuracy': 0.9523809523809523, 'confidence': 0.8461536557107932, 'avg_response_time': 5.939597382412177, 'max_response_time': 7.1781546147571245, 'contribution': 0.9643269578615824}, 'EfficientNetV2S': {'accuracy': 1.0, 'confidence': 0.9069221960870844, 'avg_response_time': 1.1479321841220005, 'max_response_time': 1.1819608630829506, 'contribution': 0.9069221960870844}, 'NASNetLarge': {'accuracy': 1.0, 'confidence': 0.8886926472187042, 'avg_response_time': 3.8132482322525334, 'max_response_time': 3.847123635322354, 'contribution': 0.8886926472187042}, 'EfficientNetB7': {'accuracy': 1.0, 'confidence': 0.7852434118588766, 'avg_response_time': 7.122365475154682, 'max_response_time': 7.170332560053439, 'contribution': 0.7852434118588766}, 'DenseNet201': {'accuracy': 1.0, 'confidence': 0.9542686300618308, 'avg_response_time': 0.580832052212681, 'max_response_time': 0.6155608621013346, 'contribution': 0.9542686300618308}, 'Xception': {'accuracy': 1.0, 'confidence': 0.8721314917008082, 'avg_response_time': 0.9839224349366368, 'max_response_time': 1.005468817569346, 'contribution': 0.8721314917008082}, 'InceptionV3': {'accuracy': 1.0, 'confidence': 0.9443504095077515, 'avg_response_time': 0.5778537870876763, 'max_response_time': 0.6099683782874605, 'contribution': 0.9443504095077515}}, 'input_state': {'input_file_length': 14, 'image_height': 224, 'image_width': 224}, 'distribution_weights': [1.0, 1.0, 1.0, 1.0, 1.0, 0.0, 0.0, 0.0, 0.0, 0.0, 0.0, 0.0, 0.0, 0.0, 0.0, 0.0, 0.0, 0.0, 0.0, 0.0]}\n",
      "{'accuracy': 0.9523809523809523, 'confidence': 0.8461536557107932, 'explainability': 1.0, 'energy': 0.018591318869234208, 'latency': 5.939597382412177}\n",
      "REWARD:  3.9953129968017596\n",
      "Worst model: MobileNetV2 with score: 0.8261111111111111\n",
      "Model 'MobileNetV2' successfully removed from the target YAML.\n",
      "Best model: MobileNetV2 with score: 0.8261111111111111\n",
      "Model 'MobileNetV2' successfully added to the target YAML.\n"
     ]
    },
    {
     "name": "stderr",
     "output_type": "stream",
     "text": [
      "2025-01-28 15:52:31,964:INFO -- Action: Replacing a model\n"
     ]
    },
    {
     "name": "stdout",
     "output_type": "stream",
     "text": [
      "STATE:  {'ensemble_state': {'total_energy_consumption': 0.018591318869234208, 'ensemble_size': 12}, 'model_states': {'InceptionResNetV2': {'accuracy': 0.9090909090909091, 'confidence': 0.832794804464687, 'avg_response_time': 2.072820547703789, 'max_response_time': 2.144495518235469, 'contribution': 0.8018739684061571}, 'MobileNetV2': {'accuracy': 0.8461538461538461, 'confidence': 0.707395083629168, 'avg_response_time': 0.05250361158309437, 'max_response_time': 0.1190894875429438, 'contribution': 0.707395083629168}, 'ResNet50V2': {'accuracy': 0.5714285714285714, 'confidence': 0.4826028687613351, 'avg_response_time': 0.1181562562557086, 'max_response_time': 0.12852528502682153, 'contribution': 0.6007137468882969}, 'ensemble': {'accuracy': 0.9545454545454546, 'confidence': 0.846938760231955, 'avg_response_time': 5.994663375688038, 'max_response_time': 7.1781546147571245, 'contribution': 0.9644589451226321}, 'EfficientNetV2S': {'accuracy': 1.0, 'confidence': 0.9072405606508255, 'avg_response_time': 1.1481499543277438, 'max_response_time': 1.1819608630829506, 'contribution': 0.9072405606508255}, 'NASNetLarge': {'accuracy': 1.0, 'confidence': 0.8902920578655443, 'avg_response_time': 3.8139996894354753, 'max_response_time': 3.847123635322354, 'contribution': 0.8902920578655443}, 'EfficientNetB7': {'accuracy': 1.0, 'confidence': 0.7848416641354561, 'avg_response_time': 7.12354531238261, 'max_response_time': 7.170332560053439, 'contribution': 0.7848416641354561}, 'DenseNet201': {'accuracy': 1.0, 'confidence': 0.955132766564687, 'avg_response_time': 0.582380359788173, 'max_response_time': 0.6155608621013346, 'contribution': 0.955132766564687}, 'Xception': {'accuracy': 1.0, 'confidence': 0.8778951443158663, 'avg_response_time': 0.9850242134804337, 'max_response_time': 1.005468817569346, 'contribution': 0.8778951443158663}, 'InceptionV3': {'accuracy': 1.0, 'confidence': 0.9204556237567555, 'avg_response_time': 0.5793986062047797, 'max_response_time': 0.6099683782874605, 'contribution': 0.9204556237567555}}, 'input_state': {'input_file_length': 14, 'image_height': 224, 'image_width': 224}, 'distribution_weights': [1.0, 1.0, 1.0, 1.0, 1.0, 0.0, 0.0, 0.0, 0.0, 0.0, 0.0, 0.0, 0.0, 0.0, 0.0, 0.0, 0.0, 0.0, 0.0, 0.0]}\n",
      "{'accuracy': 0.9545454545454546, 'confidence': 0.846938760231955, 'explainability': 1.0, 'energy': 0.018591318869234208, 'latency': 5.994663375688038}\n",
      "REWARD:  3.9953824311380446\n",
      "Worst model: MobileNetV2 with score: 0.8261111111111111\n",
      "Model 'MobileNetV2' successfully removed from the target YAML.\n",
      "Best model: MobileNetV2 with score: 0.8261111111111111\n",
      "Model 'MobileNetV2' successfully added to the target YAML.\n"
     ]
    },
    {
     "name": "stderr",
     "output_type": "stream",
     "text": [
      "2025-01-28 15:52:32,825:INFO -- Action: Adding a model\n"
     ]
    },
    {
     "name": "stdout",
     "output_type": "stream",
     "text": [
      "STATE:  {'ensemble_state': {'total_energy_consumption': 0.018591318869234208, 'ensemble_size': 12}, 'model_states': {'InceptionResNetV2': {'accuracy': 0.9130434782608695, 'confidence': 0.8372210912082506, 'avg_response_time': 2.072238546991084, 'max_response_time': 2.144495518235469, 'contribution': 0.8076446393261785}, 'MobileNetV2': {'accuracy': 0.8571428571428571, 'confidence': 0.7280992461102349, 'avg_response_time': 0.05684975802081667, 'max_response_time': 0.1190894875429438, 'contribution': 0.7280992461102349}, 'ResNet50V2': {'accuracy': 0.5714285714285714, 'confidence': 0.4826028687613351, 'avg_response_time': 0.1181562562557086, 'max_response_time': 0.12852528502682153, 'contribution': 0.6007137468882969}, 'ensemble': {'accuracy': 0.9565217391304348, 'confidence': 0.850746960109667, 'avg_response_time': 6.044076495541771, 'max_response_time': 7.1781546147571245, 'contribution': 0.9660028659779093}, 'EfficientNetV2S': {'accuracy': 1.0, 'confidence': 0.9074840063140506, 'avg_response_time': 1.147146338465091, 'max_response_time': 1.1819608630829506, 'contribution': 0.9074840063140506}, 'NASNetLarge': {'accuracy': 1.0, 'confidence': 0.8899510771036148, 'avg_response_time': 3.814576384824535, 'max_response_time': 3.847123635322354, 'contribution': 0.8899510771036148}, 'EfficientNetB7': {'accuracy': 1.0, 'confidence': 0.7842131958288305, 'avg_response_time': 7.123201698337714, 'max_response_time': 7.170332560053439, 'contribution': 0.7842131958288305}, 'DenseNet201': {'accuracy': 1.0, 'confidence': 0.9579350389540195, 'avg_response_time': 0.5816168962227243, 'max_response_time': 0.6155608621013346, 'contribution': 0.9579350389540195}, 'Xception': {'accuracy': 1.0, 'confidence': 0.8769288573946271, 'avg_response_time': 0.9861282469299972, 'max_response_time': 1.005468817569346, 'contribution': 0.8769288573946271}, 'InceptionV3': {'accuracy': 1.0, 'confidence': 0.9269802222649256, 'avg_response_time': 0.5789269238324163, 'max_response_time': 0.6099683782874605, 'contribution': 0.9269802222649256}}, 'input_state': {'input_file_length': 14, 'image_height': 224, 'image_width': 224}, 'distribution_weights': [1.0, 1.0, 1.0, 1.0, 1.0, 0.0, 0.0, 0.0, 0.0, 0.0, 0.0, 0.0, 0.0, 0.0, 0.0, 0.0, 0.0, 0.0, 0.0, 0.0]}\n",
      "{'accuracy': 0.9565217391304348, 'confidence': 0.850746960109667, 'explainability': 1.0, 'energy': 0.018591318869234208, 'latency': 6.044076495541771}\n",
      "REWARD:  3.995524762537676\n",
      "Best model: EfficientNetB0 with score: 0.793037037037037\n",
      "Model 'EfficientNetB0' successfully added to the target YAML.\n"
     ]
    },
    {
     "name": "stderr",
     "output_type": "stream",
     "text": [
      "2025-01-28 15:52:33,552:INFO -- Action: Adding a model\n"
     ]
    },
    {
     "name": "stdout",
     "output_type": "stream",
     "text": [
      "STATE:  {'ensemble_state': {'total_energy_consumption': 0.018654365737329086, 'ensemble_size': 13}, 'model_states': {'InceptionResNetV2': {'accuracy': 0.9166666666666666, 'confidence': 0.8404782066742579, 'avg_response_time': 2.0750085656673742, 'max_response_time': 2.144495518235469, 'contribution': 0.8121341069539388}, 'MobileNetV2': {'accuracy': 0.8666666666666667, 'confidence': 0.7441894431908925, 'avg_response_time': 0.059392370876327566, 'max_response_time': 0.1190894875429438, 'contribution': 0.7441894431908925}, 'ResNet50V2': {'accuracy': 0.5714285714285714, 'confidence': 0.4826028687613351, 'avg_response_time': 0.1181562562557086, 'max_response_time': 0.12852528502682153, 'contribution': 0.6007137468882969}, 'ensemble': {'accuracy': 0.9583333333333334, 'confidence': 0.8544433819597878, 'avg_response_time': 6.089164463876237, 'max_response_time': 7.1781546147571245, 'contribution': 0.9674190357327461}, 'EfficientNetV2S': {'accuracy': 1.0, 'confidence': 0.9087195288051259, 'avg_response_time': 1.1466231407130933, 'max_response_time': 1.1819608630829506, 'contribution': 0.9087195288051259}, 'NASNetLarge': {'accuracy': 1.0, 'confidence': 0.8902499562218076, 'avg_response_time': 3.813746542700435, 'max_response_time': 3.847123635322354, 'contribution': 0.8902499562218076}, 'EfficientNetB7': {'accuracy': 1.0, 'confidence': 0.7872927619351281, 'avg_response_time': 7.122778667376917, 'max_response_time': 7.170332560053439, 'contribution': 0.7872927619351281}, 'DenseNet201': {'accuracy': 1.0, 'confidence': 0.9604085017653072, 'avg_response_time': 0.5824611697705931, 'max_response_time': 0.6155608621013346, 'contribution': 0.9604085017653072}, 'Xception': {'accuracy': 1.0, 'confidence': 0.8794587691624959, 'avg_response_time': 0.985322861448091, 'max_response_time': 1.005468817569346, 'contribution': 0.8794587691624959}, 'InceptionV3': {'accuracy': 1.0, 'confidence': 0.9322397938141456, 'avg_response_time': 0.5793048266927735, 'max_response_time': 0.6099683782874605, 'contribution': 0.9322397938141456}}, 'input_state': {'input_file_length': 14, 'image_height': 224, 'image_width': 224}, 'distribution_weights': [1.0, 1.0, 1.0, 1.0, 1.0, 0.0, 0.0, 0.0, 0.0, 0.0, 0.0, 0.0, 0.0, 0.0, 0.0, 0.0, 0.0, 0.0, 0.0, 0.0]}\n",
      "{'accuracy': 0.9583333333333334, 'confidence': 0.8544433819597878, 'explainability': 1.0, 'energy': 0.018654365737329086, 'latency': 6.089164463876237}\n",
      "REWARD:  3.995659994231561\n",
      "Best model: VGG16 with score: 0.7599259259259259\n",
      "Model 'VGG16' successfully added to the target YAML.\n"
     ]
    },
    {
     "name": "stderr",
     "output_type": "stream",
     "text": [
      "2025-01-28 15:52:34,191:INFO -- Action: Replacing a model\n"
     ]
    },
    {
     "name": "stdout",
     "output_type": "stream",
     "text": [
      "STATE:  {'ensemble_state': {'total_energy_consumption': 0.01894598299398171, 'ensemble_size': 14}, 'model_states': {'InceptionResNetV2': {'accuracy': 0.92, 'confidence': 0.8435468888282776, 'avg_response_time': 2.074237807713268, 'max_response_time': 2.144495518235469, 'contribution': 0.8163365530967712}, 'MobileNetV2': {'accuracy': 0.875, 'confidence': 0.7592220399528742, 'avg_response_time': 0.06168506096171415, 'max_response_time': 0.1190894875429438, 'contribution': 0.7592220399528742}, 'ResNet50V2': {'accuracy': 0.5714285714285714, 'confidence': 0.4826028687613351, 'avg_response_time': 0.1181562562557086, 'max_response_time': 0.12852528502682153, 'contribution': 0.6007137468882969}, 'ensemble': {'accuracy': 0.96, 'confidence': 0.8579852576108854, 'avg_response_time': 6.1294249155033755, 'max_response_time': 7.1781546147571245, 'contribution': 0.968703339099884}, 'EfficientNetV2S': {'accuracy': 1.0, 'confidence': 0.9074485301971436, 'avg_response_time': 1.147001147608396, 'max_response_time': 1.1819608630829506, 'contribution': 0.9074485301971436}, 'NASNetLarge': {'accuracy': 1.0, 'confidence': 0.8918770578774539, 'avg_response_time': 3.812839907476106, 'max_response_time': 3.847123635322354, 'contribution': 0.8918770578774539}, 'EfficientNetB7': {'accuracy': 1.0, 'confidence': 0.7895153478572243, 'avg_response_time': 7.1207621401260655, 'max_response_time': 7.170332560053439, 'contribution': 0.7895153478572243}, 'DenseNet201': {'accuracy': 1.0, 'confidence': 0.9624660114447275, 'avg_response_time': 0.5832863125907815, 'max_response_time': 0.6155608621013346, 'contribution': 0.9624660114447275}, 'Xception': {'accuracy': 1.0, 'confidence': 0.8853170238435268, 'avg_response_time': 0.9864628587807246, 'max_response_time': 1.005468817569346, 'contribution': 0.8853170238435268}, 'InceptionV3': {'accuracy': 1.0, 'confidence': 0.9311250490801675, 'avg_response_time': 0.5780374126234413, 'max_response_time': 0.6099683782874605, 'contribution': 0.9311250490801675}}, 'input_state': {'input_file_length': 14, 'image_height': 224, 'image_width': 224}, 'distribution_weights': [1.0, 1.0, 1.0, 1.0, 1.0, 0.0, 0.0, 0.0, 0.0, 0.0, 0.0, 0.0, 0.0, 0.0, 0.0, 0.0, 0.0, 0.0, 0.0, 0.0]}\n",
      "{'accuracy': 0.96, 'confidence': 0.8579852576108854, 'explainability': 1.0, 'energy': 0.01894598299398171, 'latency': 6.1294249155033755}\n",
      "REWARD:  3.995787552932919\n",
      "Worst model: VGG16 with score: 0.7599259259259259\n",
      "Model 'VGG16' successfully removed from the target YAML.\n",
      "Best model: VGG16 with score: 0.7599259259259259\n",
      "Model 'VGG16' successfully added to the target YAML.\n"
     ]
    },
    {
     "name": "stderr",
     "output_type": "stream",
     "text": [
      "2025-01-28 15:52:35,113:INFO -- Action: Adding a model\n"
     ]
    },
    {
     "name": "stdout",
     "output_type": "stream",
     "text": [
      "STATE:  {'ensemble_state': {'total_energy_consumption': 0.01894598299398171, 'ensemble_size': 14}, 'model_states': {'InceptionResNetV2': {'accuracy': 0.9230769230769231, 'confidence': 0.8392413831674136, 'avg_response_time': 2.072908983060082, 'max_response_time': 2.144495518235469, 'contribution': 0.8130775988101959}, 'MobileNetV2': {'accuracy': 0.8823529411764706, 'confidence': 0.7638567949042601, 'avg_response_time': 0.06389709614295036, 'max_response_time': 0.1190894875429438, 'contribution': 0.7638567949042601}, 'ResNet50V2': {'accuracy': 0.5714285714285714, 'confidence': 0.4826028687613351, 'avg_response_time': 0.1181562562557086, 'max_response_time': 0.12852528502682153, 'contribution': 0.6007137468882969}, 'ensemble': {'accuracy': 0.9615384615384616, 'confidence': 0.8535696743895804, 'avg_response_time': 6.167844889294059, 'max_response_time': 7.1781546147571245, 'contribution': 0.9674132397541633}, 'EfficientNetV2S': {'accuracy': 1.0, 'confidence': 0.9078688795367876, 'avg_response_time': 1.1477403137277338, 'max_response_time': 1.1819608630829506, 'contribution': 0.9078688795367876}, 'NASNetLarge': {'accuracy': 1.0, 'confidence': 0.8922217203223187, 'avg_response_time': 3.8125383884236324, 'max_response_time': 3.847123635322354, 'contribution': 0.8922217203223187}, 'EfficientNetB7': {'accuracy': 1.0, 'confidence': 0.7896179735660553, 'avg_response_time': 7.120575350257459, 'max_response_time': 7.170332560053439, 'contribution': 0.7896179735660553}, 'DenseNet201': {'accuracy': 1.0, 'confidence': 0.9610288927429601, 'avg_response_time': 0.5832848511821652, 'max_response_time': 0.6155608621013346, 'contribution': 0.9610288927429601}, 'Xception': {'accuracy': 1.0, 'confidence': 0.8789717449861414, 'avg_response_time': 0.9878027634018497, 'max_response_time': 1.009241237339851, 'contribution': 0.8789717449861414}, 'InceptionV3': {'accuracy': 1.0, 'confidence': 0.9301625649134319, 'avg_response_time': 0.578700720849622, 'max_response_time': 0.6099683782874605, 'contribution': 0.9301625649134319}}, 'input_state': {'input_file_length': 14, 'image_height': 224, 'image_width': 224}, 'distribution_weights': [1.0, 1.0, 1.0, 1.0, 1.0, 0.0, 0.0, 0.0, 0.0, 0.0, 0.0, 0.0, 0.0, 0.0, 0.0, 0.0, 0.0, 0.0, 0.0, 0.0]}\n",
      "{'accuracy': 0.9615384615384616, 'confidence': 0.8535696743895804, 'explainability': 1.0, 'energy': 0.01894598299398171, 'latency': 6.167844889294059}\n",
      "REWARD:  3.995710281889198\n",
      "Best model: ResNet50V2 with score: 0.7573739295908658\n",
      "Model 'ResNet50V2' successfully added to the target YAML.\n"
     ]
    },
    {
     "name": "stderr",
     "output_type": "stream",
     "text": [
      "2025-01-28 15:52:35,760:INFO -- Action: Keeping the ensemble\n"
     ]
    },
    {
     "name": "stdout",
     "output_type": "stream",
     "text": [
      "STATE:  {'ensemble_state': {'total_energy_consumption': 0.01944298437078823, 'ensemble_size': 15}, 'model_states': {'InceptionResNetV2': {'accuracy': 0.9259259259259259, 'confidence': 0.841272685262892, 'avg_response_time': 2.0724553457796264, 'max_response_time': 2.144495518235469, 'contribution': 0.8160779299559416}, 'MobileNetV2': {'accuracy': 0.8888888888888888, 'confidence': 0.7445660730202993, 'avg_response_time': 0.06551208521386741, 'max_response_time': 0.1190894875429438, 'contribution': 0.7445660730202993}, 'ResNet50V2': {'accuracy': 0.5, 'confidence': 0.4222775101661682, 'avg_response_time': 0.1541017410259319, 'max_response_time': 0.40572013441749516, 'contribution': 0.5256245285272598}, 'ensemble': {'accuracy': 0.9629629629629629, 'confidence': 0.8480557019588066, 'avg_response_time': 6.203939162270366, 'max_response_time': 7.1781546147571245, 'contribution': 0.9682381594622577}, 'EfficientNetV2S': {'accuracy': 1.0, 'confidence': 0.9077494072914124, 'avg_response_time': 1.1477632546345629, 'max_response_time': 1.1819608630829506, 'contribution': 0.9077494072914124}, 'NASNetLarge': {'accuracy': 1.0, 'confidence': 0.8915197004874548, 'avg_response_time': 3.812444396647022, 'max_response_time': 3.847123635322354, 'contribution': 0.8915197004874548}, 'EfficientNetB7': {'accuracy': 1.0, 'confidence': 0.7869459731238229, 'avg_response_time': 7.121226279451408, 'max_response_time': 7.170332560053439, 'contribution': 0.7869459731238229}, 'DenseNet201': {'accuracy': 1.0, 'confidence': 0.9624617516994476, 'avg_response_time': 0.5835621468763759, 'max_response_time': 0.6155608621013346, 'contribution': 0.9624617516994476}, 'Xception': {'accuracy': 1.0, 'confidence': 0.8806930383046468, 'avg_response_time': 0.9876262039725301, 'max_response_time': 1.009241237339851, 'contribution': 0.8806930383046468}, 'InceptionV3': {'accuracy': 1.0, 'confidence': 0.8950620461255312, 'avg_response_time': 0.5786062570976679, 'max_response_time': 0.6099683782874605, 'contribution': 0.8950620461255312}}, 'input_state': {'input_file_length': 14, 'image_height': 224, 'image_width': 224}, 'distribution_weights': [1.0, 1.0, 1.0, 1.0, 1.0, 0.0, 0.0, 0.0, 0.0, 0.0, 0.0, 0.0, 0.0, 0.0, 0.0, 0.0, 0.0, 0.0, 0.0, 0.0]}\n",
      "{'accuracy': 0.9629629629629629, 'confidence': 0.8480557019588066, 'explainability': 1.0, 'energy': 0.01944298437078823, 'latency': 6.203939162270366}\n",
      "REWARD:  3.9956016981158604\n"
     ]
    },
    {
     "name": "stderr",
     "output_type": "stream",
     "text": [
      "2025-01-28 15:52:36,427:INFO -- Action: Keeping the ensemble\n"
     ]
    },
    {
     "name": "stdout",
     "output_type": "stream",
     "text": [
      "STATE:  {'ensemble_state': {'total_energy_consumption': 0.01944298437078823, 'ensemble_size': 15}, 'model_states': {'InceptionResNetV2': {'accuracy': 0.9285714285714286, 'confidence': 0.845079996756145, 'avg_response_time': 2.0712853829145823, 'max_response_time': 2.144495518235469, 'contribution': 0.8207850541387286}, 'MobileNetV2': {'accuracy': 0.8947368421052632, 'confidence': 0.7556398354078594, 'avg_response_time': 0.06771334383843775, 'max_response_time': 0.1190894875429438, 'contribution': 0.7556398354078594}, 'ResNet50V2': {'accuracy': 0.5555555555555556, 'confidence': 0.48646889792548287, 'avg_response_time': 0.1811896567105579, 'max_response_time': 0.40572013441749516, 'contribution': 0.5783329142464532}, 'ensemble': {'accuracy': 0.9642857142857143, 'confidence': 0.8486303953945529, 'avg_response_time': 6.238553732556098, 'max_response_time': 7.1781546147571245, 'contribution': 0.9693725109100342}, 'EfficientNetV2S': {'accuracy': 1.0, 'confidence': 0.9068095844525558, 'avg_response_time': 1.1480482058650001, 'max_response_time': 1.1819608630829506, 'contribution': 0.9068095844525558}, 'NASNetLarge': {'accuracy': 1.0, 'confidence': 0.8906540346145629, 'avg_response_time': 3.8117771085503036, 'max_response_time': 3.847123635322354, 'contribution': 0.8906540346145629}, 'EfficientNetB7': {'accuracy': 1.0, 'confidence': 0.7869073911146685, 'avg_response_time': 7.123121000761725, 'max_response_time': 7.170332560053439, 'contribution': 0.7869073911146685}, 'DenseNet201': {'accuracy': 1.0, 'confidence': 0.9641955211049035, 'avg_response_time': 0.5849723304312788, 'max_response_time': 0.6155608621013346, 'contribution': 0.9641955211049035}, 'Xception': {'accuracy': 1.0, 'confidence': 0.8742732060583014, 'avg_response_time': 0.9884455338745788, 'max_response_time': 1.009241237339851, 'contribution': 0.8742732060583014}, 'InceptionV3': {'accuracy': 1.0, 'confidence': 0.9007196654291714, 'avg_response_time': 0.5783500453490242, 'max_response_time': 0.6099683782874605, 'contribution': 0.9007196654291714}}, 'input_state': {'input_file_length': 15, 'image_height': 224, 'image_width': 224}, 'distribution_weights': [1.0, 1.0, 1.0, 1.0, 1.0, 0.0, 0.0, 0.0, 0.0, 0.0, 0.0, 0.0, 0.0, 0.0, 0.0, 0.0, 0.0, 0.0, 0.0, 0.0]}\n",
      "{'accuracy': 0.9642857142857143, 'confidence': 0.8486303953945529, 'explainability': 1.0, 'energy': 0.01944298437078823, 'latency': 6.238553732556098}\n",
      "REWARD:  3.995646215782562\n",
      "STATE:  {'ensemble_state': {'total_energy_consumption': 0.01944298437078823, 'ensemble_size': 15}, 'model_states': {'InceptionResNetV2': {'accuracy': 0.9310344827586207, 'confidence': 0.8484055934281185, 'avg_response_time': 2.071264349625167, 'max_response_time': 2.144495518235469, 'contribution': 0.8249484074526819}, 'MobileNetV2': {'accuracy': 0.9, 'confidence': 0.7350955918431282, 'avg_response_time': 0.06899785162535856, 'max_response_time': 0.1190894875429438, 'contribution': 0.7350955918431282}, 'ResNet50V2': {'accuracy': 0.5, 'confidence': 0.4378220081329346, 'avg_response_time': 0.21482468455091636, 'max_response_time': 0.5175399351141425, 'contribution': 0.5204996228218078}, 'ensemble': {'accuracy': 0.9655172413793104, 'confidence': 0.8440871534037759, 'avg_response_time': 6.269343259311276, 'max_response_time': 7.1781546147571245, 'contribution': 0.9684121588180805}, 'EfficientNetV2S': {'accuracy': 1.0, 'confidence': 0.905808793173896, 'avg_response_time': 1.1468925972570323, 'max_response_time': 1.1819608630829506, 'contribution': 0.905808793173896}, 'NASNetLarge': {'accuracy': 1.0, 'confidence': 0.8907604423853067, 'avg_response_time': 3.812739694611585, 'max_response_time': 3.847123635322354, 'contribution': 0.8907604423853067}, 'EfficientNetB7': {'accuracy': 1.0, 'confidence': 0.7831567629523899, 'avg_response_time': 7.12300644649719, 'max_response_time': 7.170332560053439, 'contribution': 0.7831567629523899}, 'DenseNet201': {'accuracy': 1.0, 'confidence': 0.9594503478570418, 'avg_response_time': 0.5848443145251427, 'max_response_time': 0.6155608621013346, 'contribution': 0.9594503478570418}, 'Xception': {'accuracy': 1.0, 'confidence': 0.875663498044014, 'avg_response_time': 0.9890398010838467, 'max_response_time': 1.009241237339851, 'contribution': 0.875663498044014}, 'InceptionV3': {'accuracy': 1.0, 'confidence': 0.902962831987275, 'avg_response_time': 0.5776995905173017, 'max_response_time': 0.6099683782874605, 'contribution': 0.902962831987275}}, 'input_state': {'input_file_length': 14, 'image_height': 224, 'image_width': 224}, 'distribution_weights': [1.0, 1.0, 1.0, 1.0, 1.0, 0.0, 0.0, 0.0, 0.0, 0.0, 0.0, 0.0, 0.0, 0.0, 0.0, 0.0, 0.0, 0.0, 0.0, 0.0]}\n",
      "{'accuracy': 0.9655172413793104, 'confidence': 0.8440871534037759, 'explainability': 1.0, 'energy': 0.01944298437078823, 'latency': 6.269343259311276}\n",
      "REWARD:  3.9955573662006154\n",
      "Best model: EfficientNetV2L with score: 0.5911481481481482\n"
     ]
    },
    {
     "name": "stderr",
     "output_type": "stream",
     "text": [
      "2025-01-28 15:52:37,383:INFO -- Action: Adding a model\n"
     ]
    },
    {
     "name": "stdout",
     "output_type": "stream",
     "text": [
      "Model 'EfficientNetV2L' successfully added to the target YAML.\n"
     ]
    },
    {
     "name": "stderr",
     "output_type": "stream",
     "text": [
      "2025-01-28 15:52:38,229:INFO -- Action: Adding a model\n"
     ]
    },
    {
     "name": "stdout",
     "output_type": "stream",
     "text": [
      "STATE:  {'ensemble_state': {'total_energy_consumption': 0.023205572371097348, 'ensemble_size': 16}, 'model_states': {'InceptionResNetV2': {'accuracy': 0.9333333333333333, 'confidence': 0.8505337258179982, 'avg_response_time': 2.0719475647135837, 'max_response_time': 2.144495518235469, 'contribution': 0.827858446041743}, 'MobileNetV2': {'accuracy': 0.9047619047619048, 'confidence': 0.7359074396746499, 'avg_response_time': 0.07034084597898903, 'max_response_time': 0.1190894875429438, 'contribution': 0.7359074396746499}, 'ResNet50V2': {'accuracy': 0.5454545454545454, 'confidence': 0.4889288165352561, 'avg_response_time': 0.23146239595659238, 'max_response_time': 0.5175399351141425, 'contribution': 0.5640902844342318}, 'ensemble': {'accuracy': 0.9666666666666667, 'confidence': 0.8473056227013699, 'avg_response_time': 6.298356512671166, 'max_response_time': 7.1781546147571245, 'contribution': 0.9694649835427602}, 'EfficientNetV2S': {'accuracy': 1.0, 'confidence': 0.9068236436162677, 'avg_response_time': 1.146669001043214, 'max_response_time': 1.1819608630829506, 'contribution': 0.9068236436162677}, 'NASNetLarge': {'accuracy': 1.0, 'confidence': 0.892111928374679, 'avg_response_time': 3.812149114952744, 'max_response_time': 3.847123635322354, 'contribution': 0.892111928374679}, 'EfficientNetB7': {'accuracy': 1.0, 'confidence': 0.7855756705005964, 'avg_response_time': 7.123335192416111, 'max_response_time': 7.170332560053439, 'contribution': 0.7855756705005964}, 'DenseNet201': {'accuracy': 1.0, 'confidence': 0.9610597828160161, 'avg_response_time': 0.584751505794743, 'max_response_time': 0.6155608621013346, 'contribution': 0.9610597828160161}, 'Xception': {'accuracy': 1.0, 'confidence': 0.8777228792508444, 'avg_response_time': 0.9889367536065133, 'max_response_time': 1.009241237339851, 'contribution': 0.8777228792508444}, 'InceptionV3': {'accuracy': 1.0, 'confidence': 0.9054896784456152, 'avg_response_time': 0.5767645606082197, 'max_response_time': 0.6099683782874605, 'contribution': 0.9054896784456152}}, 'input_state': {'input_file_length': 15, 'image_height': 224, 'image_width': 224}, 'distribution_weights': [1.0, 1.0, 1.0, 1.0, 1.0, 0.0, 0.0, 0.0, 0.0, 0.0, 0.0, 0.0, 0.0, 0.0, 0.0, 0.0, 0.0, 0.0, 0.0, 0.0]}\n",
      "{'accuracy': 0.9666666666666667, 'confidence': 0.8473056227013699, 'explainability': 1.0, 'energy': 0.023205572371097348, 'latency': 6.298356512671166}\n",
      "REWARD:  3.995665841578216\n",
      "No eligible models to score.\n"
     ]
    },
    {
     "name": "stderr",
     "output_type": "stream",
     "text": [
      "2025-01-28 15:52:39,094:INFO -- Action: Adding a model\n"
     ]
    },
    {
     "name": "stdout",
     "output_type": "stream",
     "text": [
      "STATE:  {'ensemble_state': {'total_energy_consumption': 0.023205572371097348, 'ensemble_size': 16}, 'model_states': {'InceptionResNetV2': {'accuracy': 0.9354838709677419, 'confidence': 0.8492495763686395, 'avg_response_time': 2.0724662515788492, 'max_response_time': 2.144495518235469, 'contribution': 0.827305757230328}, 'MobileNetV2': {'accuracy': 0.9090909090909091, 'confidence': 0.7400530346415259, 'avg_response_time': 0.07249956159689898, 'max_response_time': 0.1190894875429438, 'contribution': 0.7400530346415259}, 'ResNet50V2': {'accuracy': 0.5833333333333334, 'confidence': 0.5288439889748892, 'avg_response_time': 0.246460401853939, 'max_response_time': 0.5175399351141425, 'contribution': 0.5977420012156168}, 'ensemble': {'accuracy': 0.967741935483871, 'confidence': 0.8461573702717243, 'avg_response_time': 6.3252090850484795, 'max_response_time': 7.1781546147571245, 'contribution': 0.96941485135786}, 'EfficientNetV2S': {'accuracy': 1.0, 'confidence': 0.9059374784601146, 'avg_response_time': 1.1466187518932922, 'max_response_time': 1.1819608630829506, 'contribution': 0.9059374784601146}, 'NASNetLarge': {'accuracy': 1.0, 'confidence': 0.8921503892966679, 'avg_response_time': 3.8120335437756623, 'max_response_time': 3.847123635322354, 'contribution': 0.8921503892966679}, 'EfficientNetB7': {'accuracy': 1.0, 'confidence': 0.7826206231117249, 'avg_response_time': 7.123332273433826, 'max_response_time': 7.170332560053439, 'contribution': 0.7826206231117249}, 'DenseNet201': {'accuracy': 1.0, 'confidence': 0.9587540999054909, 'avg_response_time': 0.585238069181408, 'max_response_time': 0.6155608621013346, 'contribution': 0.9587540999054909}, 'Xception': {'accuracy': 1.0, 'confidence': 0.8619410829110579, 'avg_response_time': 0.9894370348048624, 'max_response_time': 1.009241237339851, 'contribution': 0.8619410829110579}, 'InceptionV3': {'accuracy': 1.0, 'confidence': 0.9053295627236366, 'avg_response_time': 0.5762598079866372, 'max_response_time': 0.6099683782874605, 'contribution': 0.9053295627236366}}, 'input_state': {'input_file_length': 14, 'image_height': 224, 'image_width': 224}, 'distribution_weights': [1.0, 1.0, 1.0, 1.0, 1.0, 0.0, 0.0, 0.0, 0.0, 0.0, 0.0, 0.0, 0.0, 0.0, 0.0, 0.0, 0.0, 0.0, 0.0, 0.0]}\n",
      "{'accuracy': 0.967741935483871, 'confidence': 0.8461573702717243, 'explainability': 1.0, 'energy': 0.023205572371097348, 'latency': 6.3252090850484795}\n",
      "REWARD:  3.9956605351255794\n",
      "No eligible models to score.\n"
     ]
    },
    {
     "name": "stderr",
     "output_type": "stream",
     "text": [
      "2025-01-28 15:52:39,823:INFO -- Action: Keeping the ensemble\n"
     ]
    },
    {
     "name": "stdout",
     "output_type": "stream",
     "text": [
      "STATE:  {'ensemble_state': {'total_energy_consumption': 0.023205572371097348, 'ensemble_size': 16}, 'model_states': {'InceptionResNetV2': {'accuracy': 0.9375, 'confidence': 0.8526539150625467, 'avg_response_time': 2.0734596462496047, 'max_response_time': 2.144495518235469, 'contribution': 0.8313958402723074}, 'MobileNetV2': {'accuracy': 0.8695652173913043, 'confidence': 0.7078768157440684, 'avg_response_time': 0.07351975410962998, 'max_response_time': 0.1190894875429438, 'contribution': 0.7078768157440684}, 'ResNet50V2': {'accuracy': 0.5384615384615384, 'confidence': 0.48816368213066685, 'avg_response_time': 0.2556388530977059, 'max_response_time': 0.5175399351141425, 'contribution': 0.551761847275954}, 'ensemble': {'accuracy': 0.96875, 'confidence': 0.8446028393520474, 'avg_response_time': 6.35069935416398, 'max_response_time': 7.1781546147571245, 'contribution': 0.9696276411414146}, 'EfficientNetV2S': {'accuracy': 1.0, 'confidence': 0.9060727059841156, 'avg_response_time': 1.147461293442709, 'max_response_time': 1.1819608630829506, 'contribution': 0.9060727059841156}, 'NASNetLarge': {'accuracy': 1.0, 'confidence': 0.8929047748960298, 'avg_response_time': 3.8111238560862035, 'max_response_time': 3.847123635322354, 'contribution': 0.8929047748960298}, 'EfficientNetB7': {'accuracy': 1.0, 'confidence': 0.784551047361814, 'avg_response_time': 7.123717218203355, 'max_response_time': 7.170332560053439, 'contribution': 0.784551047361814}, 'DenseNet201': {'accuracy': 1.0, 'confidence': 0.9594529008865357, 'avg_response_time': 0.5851113826181902, 'max_response_time': 0.6155608621013346, 'contribution': 0.9594529008865357}, 'Xception': {'accuracy': 1.0, 'confidence': 0.8656033536662227, 'avg_response_time': 0.9901767711922081, 'max_response_time': 1.009241237339851, 'contribution': 0.8656033536662227}, 'InceptionV3': {'accuracy': 1.0, 'confidence': 0.894919487692061, 'avg_response_time': 0.5764035331270397, 'max_response_time': 0.6099683782874605, 'contribution': 0.894919487692061}}, 'input_state': {'input_file_length': 14, 'image_height': 224, 'image_width': 224}, 'distribution_weights': [1.0, 1.0, 1.0, 1.0, 1.0, 0.0, 0.0, 0.0, 0.0, 0.0, 0.0, 0.0, 0.0, 0.0, 0.0, 0.0, 0.0, 0.0, 0.0, 0.0]}\n",
      "{'accuracy': 0.96875, 'confidence': 0.8446028393520474, 'explainability': 1.0, 'energy': 0.023205572371097348, 'latency': 6.35069935416398}\n",
      "REWARD:  3.9956432126299766\n"
     ]
    },
    {
     "name": "stderr",
     "output_type": "stream",
     "text": [
      "2025-01-28 15:52:40,566:INFO -- Action: Keeping the ensemble\n"
     ]
    },
    {
     "name": "stdout",
     "output_type": "stream",
     "text": [
      "STATE:  {'ensemble_state': {'total_energy_consumption': 0.023205572371097348, 'ensemble_size': 16}, 'model_states': {'InceptionResNetV2': {'accuracy': 0.9393939393939394, 'confidence': 0.8550186590714888, 'avg_response_time': 2.0725687900416383, 'max_response_time': 2.144495518235469, 'contribution': 0.8344047683658022}, 'MobileNetV2': {'accuracy': 0.875, 'confidence': 0.7188136962552866, 'avg_response_time': 0.07497065416436703, 'max_response_time': 0.1190894875429438, 'contribution': 0.7188136962552866}, 'ResNet50V2': {'accuracy': 0.5714285714285714, 'confidence': 0.5152681384767804, 'avg_response_time': 0.26396050282429995, 'max_response_time': 0.5175399351141425, 'contribution': 0.5743235775402614}, 'ensemble': {'accuracy': 0.9696969696969697, 'confidence': 0.8466657172382296, 'avg_response_time': 6.374857150633807, 'max_response_time': 7.1781546147571245, 'contribution': 0.970529008995403}, 'EfficientNetV2S': {'accuracy': 1.0, 'confidence': 0.9065634646723347, 'avg_response_time': 1.1453518664237798, 'max_response_time': 1.1819608630829506, 'contribution': 0.9065634646723347}, 'NASNetLarge': {'accuracy': 1.0, 'confidence': 0.8930364628632863, 'avg_response_time': 3.813254128438369, 'max_response_time': 3.875032026651169, 'contribution': 0.8930364628632863}, 'EfficientNetB7': {'accuracy': 1.0, 'confidence': 0.7863852779070536, 'avg_response_time': 7.124364615832946, 'max_response_time': 7.170332560053439, 'contribution': 0.7863852779070536}, 'DenseNet201': {'accuracy': 1.0, 'confidence': 0.9608741173377404, 'avg_response_time': 0.585197659236252, 'max_response_time': 0.6155608621013346, 'contribution': 0.9608741173377404}, 'Xception': {'accuracy': 1.0, 'confidence': 0.8706769744555155, 'avg_response_time': 0.9903784513806001, 'max_response_time': 1.009241237339851, 'contribution': 0.8706769744555155}, 'InceptionV3': {'accuracy': 1.0, 'confidence': 0.8994384448636662, 'avg_response_time': 0.5761087634170579, 'max_response_time': 0.6099683782874605, 'contribution': 0.8994384448636662}}, 'input_state': {'input_file_length': 14, 'image_height': 224, 'image_width': 224}, 'distribution_weights': [1.0, 1.0, 1.0, 1.0, 1.0, 0.0, 0.0, 0.0, 0.0, 0.0, 0.0, 0.0, 0.0, 0.0, 0.0, 0.0, 0.0, 0.0, 0.0, 0.0]}\n",
      "{'accuracy': 0.9696969696969697, 'confidence': 0.8466657172382296, 'explainability': 1.0, 'energy': 0.023205572371097348, 'latency': 6.374857150633807}\n",
      "REWARD:  3.9957174006668135\n"
     ]
    },
    {
     "name": "stderr",
     "output_type": "stream",
     "text": [
      "2025-01-28 15:52:41,380:INFO -- Action: Adding a model\n"
     ]
    },
    {
     "name": "stdout",
     "output_type": "stream",
     "text": [
      "STATE:  {'ensemble_state': {'total_energy_consumption': 0.023205572371097348, 'ensemble_size': 16}, 'model_states': {'InceptionResNetV2': {'accuracy': 0.9411764705882353, 'confidence': 0.8564583238433389, 'avg_response_time': 2.0718081560060924, 'max_response_time': 2.144495518235469, 'contribution': 0.8364507240407607}, 'MobileNetV2': {'accuracy': 0.88, 'confidence': 0.727513974905014, 'avg_response_time': 0.07584834817573131, 'max_response_time': 0.1190894875429438, 'contribution': 0.727513974905014}, 'ResNet50V2': {'accuracy': 0.6, 'confidence': 0.5475731372833252, 'avg_response_time': 0.27259547291356145, 'max_response_time': 0.5175399351141425, 'contribution': 0.6026915470759074}, 'ensemble': {'accuracy': 0.9705882352941176, 'confidence': 0.8480146071765758, 'avg_response_time': 6.397426321562732, 'max_response_time': 7.1781546147571245, 'contribution': 0.9713911887477426}, 'EfficientNetV2S': {'accuracy': 1.0, 'confidence': 0.9063842259347439, 'avg_response_time': 1.1458542540857795, 'max_response_time': 1.1819608630829506, 'contribution': 0.9063842259347439}, 'NASNetLarge': {'accuracy': 1.0, 'confidence': 0.8950925930853812, 'avg_response_time': 3.813331867037, 'max_response_time': 3.875032026651169, 'contribution': 0.8950925930853812}, 'EfficientNetB7': {'accuracy': 1.0, 'confidence': 0.7872992306947708, 'avg_response_time': 7.124657669478296, 'max_response_time': 7.170332560053439, 'contribution': 0.7872992306947708}, 'DenseNet201': {'accuracy': 1.0, 'confidence': 0.9621178242895339, 'avg_response_time': 0.5857260855397614, 'max_response_time': 0.6155608621013346, 'contribution': 0.9621178242895339}, 'Xception': {'accuracy': 1.0, 'confidence': 0.8757718992233277, 'avg_response_time': 0.9909446374798825, 'max_response_time': 1.009241237339851, 'contribution': 0.8757718992233277}, 'InceptionV3': {'accuracy': 1.0, 'confidence': 0.9037290617175724, 'avg_response_time': 0.5761781337675629, 'max_response_time': 0.6099683782874605, 'contribution': 0.9037290617175724}}, 'input_state': {'input_file_length': 15, 'image_height': 224, 'image_width': 224}, 'distribution_weights': [1.0, 1.0, 1.0, 1.0, 1.0, 0.0, 0.0, 0.0, 0.0, 0.0, 0.0, 0.0, 0.0, 0.0, 0.0, 0.0, 0.0, 0.0, 0.0, 0.0]}\n",
      "{'accuracy': 0.9705882352941176, 'confidence': 0.8480146071765758, 'explainability': 1.0, 'energy': 0.023205572371097348, 'latency': 6.397426321562732}\n",
      "REWARD:  3.9957719177971613\n",
      "No eligible models to score.\n"
     ]
    },
    {
     "name": "stderr",
     "output_type": "stream",
     "text": [
      "2025-01-28 15:52:42,195:INFO -- Action: Keeping the ensemble\n"
     ]
    },
    {
     "name": "stdout",
     "output_type": "stream",
     "text": [
      "STATE:  {'ensemble_state': {'total_energy_consumption': 0.023205572371097348, 'ensemble_size': 16}, 'model_states': {'InceptionResNetV2': {'accuracy': 0.9428571428571428, 'confidence': 0.8579848561968122, 'avg_response_time': 2.071574877382586, 'max_response_time': 2.144495518235469, 'contribution': 0.8385489021028791}, 'MobileNetV2': {'accuracy': 0.8846153846153846, 'confidence': 0.7363015287197553, 'avg_response_time': 0.07656347024699003, 'max_response_time': 0.1190894875429438, 'contribution': 0.7363015287197553}, 'ResNet50V2': {'accuracy': 0.625, 'confidence': 0.5668800920248032, 'avg_response_time': 0.2816562223002143, 'max_response_time': 0.5175399351141425, 'contribution': 0.618553601205349}, 'ensemble': {'accuracy': 0.9714285714285714, 'confidence': 0.8461407891041718, 'avg_response_time': 6.4180091439103215, 'max_response_time': 7.1781546147571245, 'contribution': 0.9714232904570443}, 'EfficientNetV2S': {'accuracy': 1.0, 'confidence': 0.904880940914154, 'avg_response_time': 1.144297508023079, 'max_response_time': 1.1819608630829506, 'contribution': 0.904880940914154}, 'NASNetLarge': {'accuracy': 1.0, 'confidence': 0.8953641392290592, 'avg_response_time': 3.8136562276172774, 'max_response_time': 3.875032026651169, 'contribution': 0.8953641392290592}, 'EfficientNetB7': {'accuracy': 1.0, 'confidence': 0.7865095344083063, 'avg_response_time': 7.124038349899282, 'max_response_time': 7.170332560053439, 'contribution': 0.7865095344083063}, 'DenseNet201': {'accuracy': 1.0, 'confidence': 0.9592181827340808, 'avg_response_time': 0.5873490306177239, 'max_response_time': 0.631168547722713, 'contribution': 0.9592181827340808}, 'Xception': {'accuracy': 1.0, 'confidence': 0.8722156515488257, 'avg_response_time': 0.9902397818758562, 'max_response_time': 1.009241237339851, 'contribution': 0.8722156515488257}, 'InceptionV3': {'accuracy': 1.0, 'confidence': 0.9065951320032278, 'avg_response_time': 0.5768858912143291, 'max_response_time': 0.6099683782874605, 'contribution': 0.9065951320032278}}, 'input_state': {'input_file_length': 14, 'image_height': 224, 'image_width': 224}, 'distribution_weights': [1.0, 1.0, 1.0, 1.0, 1.0, 0.0, 0.0, 0.0, 0.0, 0.0, 0.0, 0.0, 0.0, 0.0, 0.0, 0.0, 0.0, 0.0, 0.0, 0.0]}\n",
      "{'accuracy': 0.9714285714285714, 'confidence': 0.8461407891041718, 'explainability': 1.0, 'energy': 0.023205572371097348, 'latency': 6.4180091439103215}\n",
      "REWARD:  3.9957426751934007\n"
     ]
    },
    {
     "name": "stderr",
     "output_type": "stream",
     "text": [
      "2025-01-28 15:52:42,938:INFO -- Action: Replacing a model\n"
     ]
    },
    {
     "name": "stdout",
     "output_type": "stream",
     "text": [
      "STATE:  {'ensemble_state': {'total_energy_consumption': 0.023205572371097348, 'ensemble_size': 16}, 'model_states': {'InceptionResNetV2': {'accuracy': 0.9444444444444444, 'confidence': 0.8560458885298835, 'avg_response_time': 2.0724703688952832, 'max_response_time': 2.144495518235469, 'contribution': 0.8152558770444658}, 'MobileNetV2': {'accuracy': 0.8518518518518519, 'confidence': 0.7090311017301347, 'avg_response_time': 0.07744962313106114, 'max_response_time': 0.1190894875429438, 'contribution': 0.7090311017301347}, 'ResNet50V2': {'accuracy': 0.5882352941176471, 'confidence': 0.5335342042586383, 'avg_response_time': 0.28825164880770293, 'max_response_time': 0.5175399351141425, 'contribution': 0.6336509339949664}, 'ensemble': {'accuracy': 0.9444444444444444, 'confidence': 0.8226368782957226, 'avg_response_time': 6.438070420518894, 'max_response_time': 7.1781546147571245, 'contribution': 0.9444393101665709}, 'EfficientNetV2S': {'accuracy': 1.0, 'confidence': 0.9032852088703829, 'avg_response_time': 1.1435018719837995, 'max_response_time': 1.1819608630829506, 'contribution': 0.8782667955931496}, 'NASNetLarge': {'accuracy': 1.0, 'confidence': 0.8961449120983933, 'avg_response_time': 3.8142260139656696, 'max_response_time': 3.875032026651169, 'contribution': 0.8682318925857544}, 'EfficientNetB7': {'accuracy': 1.0, 'confidence': 0.7749137332042059, 'avg_response_time': 7.1243194425582885, 'max_response_time': 7.170332560053439, 'contribution': 0.7602925499280294}, 'DenseNet201': {'accuracy': 1.0, 'confidence': 0.952136779653615, 'avg_response_time': 0.5871515024046841, 'max_response_time': 0.631168547722713, 'contribution': 0.9261416936742848}, 'Xception': {'accuracy': 1.0, 'confidence': 0.8567040695084466, 'avg_response_time': 0.9906797085000718, 'max_response_time': 1.009241237339851, 'contribution': 0.8399113681581285}, 'InceptionV3': {'accuracy': 0.96, 'confidence': 0.8703313267230988, 'avg_response_time': 0.5771600402042125, 'max_response_time': 0.6099683782874605, 'contribution': 0.8703313267230988}}, 'input_state': {'input_file_length': 15, 'image_height': 224, 'image_width': 224}, 'distribution_weights': [1.0, 1.0, 1.0, 1.0, 1.0, 0.0, 0.0, 0.0, 0.0, 0.0, 0.0, 0.0, 0.0, 0.0, 0.0, 0.0, 0.0, 0.0, 0.0, 0.0]}\n",
      "{'accuracy': 0.9444444444444444, 'confidence': 0.8226368782957226, 'explainability': 1.0, 'energy': 0.023205572371097348, 'latency': 6.438070420518894}\n",
      "REWARD:  3.9945192295517\n",
      "Worst model: EfficientNetV2L with score: 0.5911481481481482\n",
      "Model 'EfficientNetV2L' successfully removed from the target YAML.\n",
      "Best model: EfficientNetV2L with score: 0.5911481481481482\n",
      "Model 'EfficientNetV2L' successfully added to the target YAML.\n"
     ]
    },
    {
     "name": "stderr",
     "output_type": "stream",
     "text": [
      "2025-01-28 15:52:43,811:INFO -- Action: Replacing a model\n"
     ]
    },
    {
     "name": "stdout",
     "output_type": "stream",
     "text": [
      "STATE:  {'ensemble_state': {'total_energy_consumption': 0.023205572371097348, 'ensemble_size': 16}, 'model_states': {'InceptionResNetV2': {'accuracy': 0.918918918918919, 'confidence': 0.8329095131642109, 'avg_response_time': 2.0734837627471605, 'max_response_time': 2.144495518235469, 'contribution': 0.7932219344216425}, 'MobileNetV2': {'accuracy': 0.8571428571428571, 'confidence': 0.7018461259348052, 'avg_response_time': 0.08017298760782099, 'max_response_time': 0.15370382848033695, 'contribution': 0.7018461259348052}, 'ResNet50V2': {'accuracy': 0.5555555555555556, 'confidence': 0.5038934151331583, 'avg_response_time': 0.29820418681603605, 'max_response_time': 0.5175399351141425, 'contribution': 0.5984481043285794}, 'ensemble': {'accuracy': 0.9459459459459459, 'confidence': 0.8171664366030315, 'avg_response_time': 6.456541146330024, 'max_response_time': 7.1781546147571245, 'contribution': 0.9392022973782307}, 'EfficientNetV2S': {'accuracy': 0.9714285714285714, 'confidence': 0.8774770600455147, 'avg_response_time': 1.142357539173721, 'max_response_time': 1.1819608630829506, 'contribution': 0.8531734585762024}, 'NASNetLarge': {'accuracy': 1.0, 'confidence': 0.8918662334189695, 'avg_response_time': 3.81401279722699, 'max_response_time': 3.875032026651169, 'contribution': 0.864774185068467}, 'EfficientNetB7': {'accuracy': 0.967741935483871, 'confidence': 0.7499165160040702, 'avg_response_time': 7.123872486880481, 'max_response_time': 7.170332560053439, 'contribution': 0.7357669838013188}, 'DenseNet201': {'accuracy': 0.9666666666666667, 'confidence': 0.9203988869984945, 'avg_response_time': 0.5878777242117929, 'max_response_time': 0.631168547722713, 'contribution': 0.8952703038851421}, 'Xception': {'accuracy': 0.9642857142857143, 'confidence': 0.8261074955974307, 'avg_response_time': 0.9904115765636908, 'max_response_time': 1.009241237339851, 'contribution': 0.8099145335810525}, 'InceptionV3': {'accuracy': 0.9230769230769231, 'confidence': 0.8368570449260565, 'avg_response_time': 0.5777837756355898, 'max_response_time': 0.6099683782874605, 'contribution': 0.8368570449260565}}, 'input_state': {'input_file_length': 14, 'image_height': 224, 'image_width': 224}, 'distribution_weights': [1.0, 1.0, 1.0, 1.0, 1.0, 0.0, 0.0, 0.0, 0.0, 0.0, 0.0, 0.0, 0.0, 0.0, 0.0, 0.0, 0.0, 0.0, 0.0, 0.0]}\n",
      "{'accuracy': 0.9459459459459459, 'confidence': 0.8171664366030315, 'explainability': 1.0, 'energy': 0.023205572371097348, 'latency': 6.456541146330024}\n",
      "REWARD:  3.9944088420437653\n",
      "Worst model: EfficientNetV2L with score: 0.5911481481481482\n",
      "Model 'EfficientNetV2L' successfully removed from the target YAML.\n",
      "Best model: EfficientNetV2L with score: 0.5911481481481482\n",
      "Model 'EfficientNetV2L' successfully added to the target YAML.\n"
     ]
    },
    {
     "name": "stderr",
     "output_type": "stream",
     "text": [
      "2025-01-28 15:52:44,668:INFO -- Action: Keeping the ensemble\n"
     ]
    },
    {
     "name": "stdout",
     "output_type": "stream",
     "text": [
      "STATE:  {'ensemble_state': {'total_energy_consumption': 0.023205572371097348, 'ensemble_size': 16}, 'model_states': {'InceptionResNetV2': {'accuracy': 0.9210526315789473, 'confidence': 0.8349040260440425, 'avg_response_time': 2.0729813429974615, 'max_response_time': 2.144495518235469, 'contribution': 0.7962608572683836}, 'MobileNetV2': {'accuracy': 0.8620689655172413, 'confidence': 0.7070383727550507, 'avg_response_time': 0.08115906130639977, 'max_response_time': 0.15370382848033695, 'contribution': 0.7070383727550507}, 'ResNet50V2': {'accuracy': 0.5789473684210527, 'confidence': 0.5264255216247157, 'avg_response_time': 0.3034683806079556, 'max_response_time': 0.5175399351141425, 'contribution': 0.616003648230904}, 'ensemble': {'accuracy': 0.9473684210526315, 'confidence': 0.8185965049931717, 'avg_response_time': 6.474056115691596, 'max_response_time': 7.1781546147571245, 'contribution': 0.9405886609303323}, 'EfficientNetV2S': {'accuracy': 0.9722222222222222, 'confidence': 0.8781845188803143, 'avg_response_time': 1.142379688394058, 'max_response_time': 1.1819608630829506, 'contribution': 0.8545560174518161}, 'NASNetLarge': {'accuracy': 1.0, 'confidence': 0.8918752806527274, 'avg_response_time': 3.8146121039783663, 'max_response_time': 3.875032026651169, 'contribution': 0.865557290826525}, 'EfficientNetB7': {'accuracy': 0.96875, 'confidence': 0.7505950545892119, 'avg_response_time': 7.12350913146339, 'max_response_time': 7.170332560053439, 'contribution': 0.7368876952677965}, 'DenseNet201': {'accuracy': 0.967741935483871, 'confidence': 0.9227048620100944, 'avg_response_time': 0.5881680311169539, 'max_response_time': 0.631168547722713, 'contribution': 0.8983868783520114}, 'Xception': {'accuracy': 0.9655172413793104, 'confidence': 0.8291121392414488, 'avg_response_time': 0.9906535230673555, 'max_response_time': 1.009241237339851, 'contribution': 0.8134775552256354}, 'InceptionV3': {'accuracy': 0.9259259259259259, 'confidence': 0.8424396592157858, 'avg_response_time': 0.5774848287378094, 'max_response_time': 0.6099683782874605, 'contribution': 0.8424396592157858}}, 'input_state': {'input_file_length': 14, 'image_height': 224, 'image_width': 224}, 'distribution_weights': [1.0, 1.0, 1.0, 1.0, 1.0, 0.0, 0.0, 0.0, 0.0, 0.0, 0.0, 0.0, 0.0, 0.0, 0.0, 0.0, 0.0, 0.0, 0.0, 0.0]}\n",
      "{'accuracy': 0.9473684210526315, 'confidence': 0.8185965049931717, 'explainability': 1.0, 'energy': 0.023205572371097348, 'latency': 6.474056115691596}\n",
      "REWARD:  3.9944794395119296\n"
     ]
    },
    {
     "name": "stderr",
     "output_type": "stream",
     "text": [
      "2025-01-28 15:52:45,329:INFO -- Action: Replacing a model\n"
     ]
    },
    {
     "name": "stdout",
     "output_type": "stream",
     "text": [
      "STATE:  {'ensemble_state': {'total_energy_consumption': 0.023205572371097348, 'ensemble_size': 16}, 'model_states': {'InceptionResNetV2': {'accuracy': 0.9230769230769231, 'confidence': 0.8382968138425778, 'avg_response_time': 2.0728277528220924, 'max_response_time': 2.144495518235469, 'contribution': 0.8006444955483462}, 'MobileNetV2': {'accuracy': 0.8666666666666667, 'confidence': 0.7137615571419398, 'avg_response_time': 0.08187834803821285, 'max_response_time': 0.15370382848033695, 'contribution': 0.7137615571419398}, 'ResNet50V2': {'accuracy': 0.6, 'confidence': 0.5489425837993622, 'avg_response_time': 0.3085662173465212, 'max_response_time': 0.5175399351141425, 'contribution': 0.6340418040752411}, 'ensemble': {'accuracy': 0.9487179487179487, 'confidence': 0.8204104725288883, 'avg_response_time': 6.491862113611475, 'max_response_time': 7.1781546147571245, 'contribution': 0.9420474675985483}, 'EfficientNetV2S': {'accuracy': 0.972972972972973, 'confidence': 0.8793144113308674, 'avg_response_time': 1.1427345338613681, 'max_response_time': 1.1819608630829506, 'contribution': 0.8563245180490855}, 'NASNetLarge': {'accuracy': 1.0, 'confidence': 0.8912792801856995, 'avg_response_time': 3.8147502546183194, 'max_response_time': 3.875032026651169, 'contribution': 0.8656923456324471}, 'EfficientNetB7': {'accuracy': 0.9696969696969697, 'confidence': 0.7520286774996555, 'avg_response_time': 7.124512362788023, 'max_response_time': 7.170332560053439, 'contribution': 0.7387366927031315}, 'DenseNet201': {'accuracy': 0.96875, 'confidence': 0.924746735021472, 'avg_response_time': 0.5901277456031595, 'max_response_time': 0.650878894675531, 'contribution': 0.901188688352704}, 'Xception': {'accuracy': 0.9666666666666667, 'confidence': 0.8298365314801533, 'avg_response_time': 0.9908805519137638, 'max_response_time': 1.009241237339851, 'contribution': 0.8147231002648672}, 'InceptionV3': {'accuracy': 0.9285714285714286, 'confidence': 0.837643641446318, 'avg_response_time': 0.5772336061352766, 'max_response_time': 0.6099683782874605, 'contribution': 0.837643641446318}}, 'input_state': {'input_file_length': 15, 'image_height': 224, 'image_width': 224}, 'distribution_weights': [1.0, 1.0, 1.0, 1.0, 1.0, 0.0, 0.0, 0.0, 0.0, 0.0, 0.0, 0.0, 0.0, 0.0, 0.0, 0.0, 0.0, 0.0, 0.0, 0.0]}\n",
      "{'accuracy': 0.9487179487179487, 'confidence': 0.8204104725288883, 'explainability': 1.0, 'energy': 0.023205572371097348, 'latency': 6.491862113611475}\n",
      "REWARD:  3.994558415626778\n",
      "Worst model: EfficientNetV2L with score: 0.5911481481481482\n",
      "Model 'EfficientNetV2L' successfully removed from the target YAML.\n",
      "Best model: EfficientNetV2L with score: 0.5911481481481482\n",
      "Model 'EfficientNetV2L' successfully added to the target YAML.\n"
     ]
    },
    {
     "name": "stderr",
     "output_type": "stream",
     "text": [
      "2025-01-28 15:52:46,300:INFO -- Action: Adding a model\n"
     ]
    },
    {
     "name": "stdout",
     "output_type": "stream",
     "text": [
      "STATE:  {'ensemble_state': {'total_energy_consumption': 0.023205572371097348, 'ensemble_size': 16}, 'model_states': {'InceptionResNetV2': {'accuracy': 0.925, 'confidence': 0.8401329159736634, 'avg_response_time': 2.0734980250288593, 'max_response_time': 2.144495518235469, 'contribution': 0.8034219056367874}, 'MobileNetV2': {'accuracy': 0.8709677419354839, 'confidence': 0.7174228074089173, 'avg_response_time': 0.08207889808657971, 'max_response_time': 0.15370382848033695, 'contribution': 0.7174228074089173}, 'ResNet50V2': {'accuracy': 0.6190476190476191, 'confidence': 0.5704020290147691, 'avg_response_time': 0.3130256789407583, 'max_response_time': 0.5175399351141425, 'contribution': 0.6514489054679871}, 'ensemble': {'accuracy': 0.95, 'confidence': 0.8222735291891642, 'avg_response_time': 6.508014124057254, 'max_response_time': 7.1781546147571245, 'contribution': 0.9434860542416572}, 'EfficientNetV2S': {'accuracy': 0.9736842105263158, 'confidence': 0.8794464437585128, 'avg_response_time': 1.14343109088867, 'max_response_time': 1.1819608630829506, 'contribution': 0.8570615476683566}, 'NASNetLarge': {'accuracy': 1.0, 'confidence': 0.8921869832116205, 'avg_response_time': 3.814188241113264, 'max_response_time': 3.875032026651169, 'contribution': 0.8672915874300776}, 'EfficientNetB7': {'accuracy': 0.9705882352941176, 'confidence': 0.7543122321367264, 'avg_response_time': 7.124669030235457, 'max_response_time': 7.170332560053439, 'contribution': 0.7414111880695119}, 'DenseNet201': {'accuracy': 0.9696969696969697, 'confidence': 0.9248753731900995, 'avg_response_time': 0.5904544319903167, 'max_response_time': 0.650878894675531, 'contribution': 0.9020312067234155}, 'Xception': {'accuracy': 0.967741935483871, 'confidence': 0.8332401590962564, 'avg_response_time': 0.9904016277685861, 'max_response_time': 1.009241237339851, 'contribution': 0.818614257920173}, 'InceptionV3': {'accuracy': 0.9310344827586207, 'confidence': 0.8426896878357591, 'avg_response_time': 0.5778670054073911, 'max_response_time': 0.6099683782874605, 'contribution': 0.8426896878357591}}, 'input_state': {'input_file_length': 15, 'image_height': 224, 'image_width': 224}, 'distribution_weights': [1.0, 1.0, 1.0, 1.0, 1.0, 0.0, 0.0, 0.0, 0.0, 0.0, 0.0, 0.0, 0.0, 0.0, 0.0, 0.0, 0.0, 0.0, 0.0, 0.0]}\n",
      "{'accuracy': 0.95, 'confidence': 0.8222735291891642, 'explainability': 1.0, 'energy': 0.023205572371097348, 'latency': 6.508014124057254}\n",
      "REWARD:  3.994636995743464\n",
      "No eligible models to score.\n"
     ]
    },
    {
     "name": "stderr",
     "output_type": "stream",
     "text": [
      "2025-01-28 15:52:47,002:INFO -- Action: Keeping the ensemble\n"
     ]
    },
    {
     "name": "stdout",
     "output_type": "stream",
     "text": [
      "STATE:  {'ensemble_state': {'total_energy_consumption': 0.023205572371097348, 'ensemble_size': 16}, 'model_states': {'InceptionResNetV2': {'accuracy': 0.926829268292683, 'confidence': 0.8432311212144247, 'avg_response_time': 2.0731105669590693, 'max_response_time': 2.144495518235469, 'contribution': 0.8074155013735701}, 'MobileNetV2': {'accuracy': 0.875, 'confidence': 0.7224642811343074, 'avg_response_time': 0.0827140162015052, 'max_response_time': 0.15370382848033695, 'contribution': 0.7224642811343074}, 'ResNet50V2': {'accuracy': 0.6363636363636364, 'confidence': 0.5898647172884508, 'avg_response_time': 0.3183447838640527, 'max_response_time': 0.5175399351141425, 'contribution': 0.667227644811977}, 'ensemble': {'accuracy': 0.9512195121951219, 'confidence': 0.8238735180728172, 'avg_response_time': 6.522530406207033, 'max_response_time': 7.1781546147571245, 'contribution': 0.9448298375780989}, 'EfficientNetV2S': {'accuracy': 0.9743589743589743, 'confidence': 0.879738028232868, 'avg_response_time': 1.1436543451364998, 'max_response_time': 1.1819608630829506, 'contribution': 0.8579271038373312}, 'NASNetLarge': {'accuracy': 1.0, 'confidence': 0.8928108654524151, 'avg_response_time': 3.8142678651850073, 'max_response_time': 3.875032026651169, 'contribution': 0.8685706116651234}, 'EfficientNetB7': {'accuracy': 0.9714285714285714, 'confidence': 0.7545557592596327, 'avg_response_time': 7.123816990427307, 'max_response_time': 7.170332560053439, 'contribution': 0.7420233164514815}, 'DenseNet201': {'accuracy': 0.9705882352941176, 'confidence': 0.926052228492849, 'avg_response_time': 0.5900224530508068, 'max_response_time': 0.650878894675531, 'contribution': 0.9038799492751851}, 'Xception': {'accuracy': 0.96875, 'confidence': 0.836543682962656, 'avg_response_time': 0.9902614543547898, 'max_response_time': 1.009241237339851, 'contribution': 0.8223748411983252}, 'InceptionV3': {'accuracy': 0.9333333333333333, 'confidence': 0.8448175777991612, 'avg_response_time': 0.5778172949423651, 'max_response_time': 0.6099683782874605, 'contribution': 0.8448175777991612}}, 'input_state': {'input_file_length': 14, 'image_height': 224, 'image_width': 224}, 'distribution_weights': [1.0, 1.0, 1.0, 1.0, 1.0, 0.0, 0.0, 0.0, 0.0, 0.0, 0.0, 0.0, 0.0, 0.0, 0.0, 0.0, 0.0, 0.0, 0.0, 0.0]}\n",
      "{'accuracy': 0.9512195121951219, 'confidence': 0.8238735180728172, 'explainability': 1.0, 'energy': 0.023205572371097348, 'latency': 6.522530406207033}\n",
      "REWARD:  3.994707064688828\n"
     ]
    },
    {
     "name": "stderr",
     "output_type": "stream",
     "text": [
      "2025-01-28 15:52:47,702:INFO -- Action: Replacing a model\n"
     ]
    },
    {
     "name": "stdout",
     "output_type": "stream",
     "text": [
      "STATE:  {'ensemble_state': {'total_energy_consumption': 0.023205572371097348, 'ensemble_size': 16}, 'model_states': {'InceptionResNetV2': {'accuracy': 0.9285714285714286, 'confidence': 0.8435564793291546, 'avg_response_time': 2.0730203532151408, 'max_response_time': 2.144495518235469, 'contribution': 0.8085936123416537}, 'MobileNetV2': {'accuracy': 0.8787878787878788, 'confidence': 0.7250051254575903, 'avg_response_time': 0.08307236364262674, 'max_response_time': 0.15370382848033695, 'contribution': 0.7250051254575903}, 'ResNet50V2': {'accuracy': 0.6521739130434783, 'confidence': 0.5836529809495677, 'avg_response_time': 0.32186696519364716, 'max_response_time': 0.5175399351141425, 'contribution': 0.6576523029285929}, 'ensemble': {'accuracy': 0.9523809523809523, 'confidence': 0.823695560321378, 'avg_response_time': 6.53704785639332, 'max_response_time': 7.1781546147571245, 'contribution': 0.9456104792299724}, 'EfficientNetV2S': {'accuracy': 0.975, 'confidence': 0.8808312445878983, 'avg_response_time': 1.1436760204864245, 'max_response_time': 1.1819608630829506, 'contribution': 0.8595655933022499}, 'NASNetLarge': {'accuracy': 1.0, 'confidence': 0.8937208300981766, 'avg_response_time': 3.8139096915422055, 'max_response_time': 3.875032026651169, 'contribution': 0.8701021212797898}, 'EfficientNetB7': {'accuracy': 0.9722222222222222, 'confidence': 0.7556832027104166, 'avg_response_time': 7.123791297849171, 'max_response_time': 7.170332560053439, 'contribution': 0.7434988833136029}, 'DenseNet201': {'accuracy': 0.9714285714285714, 'confidence': 0.9275255015918187, 'avg_response_time': 0.5891967832051794, 'max_response_time': 0.650878894675531, 'contribution': 0.905986716066088}, 'Xception': {'accuracy': 0.9696969696969697, 'confidence': 0.8375999331474304, 'avg_response_time': 0.9896786186539924, 'max_response_time': 1.009241237339851, 'contribution': 0.8238604502244429}, 'InceptionV3': {'accuracy': 0.9354838709677419, 'confidence': 0.8479860742245952, 'avg_response_time': 0.5782665491506807, 'max_response_time': 0.6099683782874605, 'contribution': 0.8479860742245952}}, 'input_state': {'input_file_length': 15, 'image_height': 224, 'image_width': 224}, 'distribution_weights': [1.0, 1.0, 1.0, 1.0, 1.0, 0.0, 0.0, 0.0, 0.0, 0.0, 0.0, 0.0, 0.0, 0.0, 0.0, 0.0, 0.0, 0.0, 0.0, 0.0]}\n",
      "{'accuracy': 0.9523809523809523, 'confidence': 0.823695560321378, 'explainability': 1.0, 'energy': 0.023205572371097348, 'latency': 6.53704785639332}\n",
      "REWARD:  3.994728871304706\n",
      "Worst model: EfficientNetV2L with score: 0.5911481481481482\n",
      "Model 'EfficientNetV2L' successfully removed from the target YAML.\n",
      "Best model: EfficientNetV2L with score: 0.5911481481481482\n",
      "Model 'EfficientNetV2L' successfully added to the target YAML.\n"
     ]
    },
    {
     "name": "stderr",
     "output_type": "stream",
     "text": [
      "2025-01-28 15:52:48,601:INFO -- Action: Keeping the ensemble\n"
     ]
    },
    {
     "name": "stdout",
     "output_type": "stream",
     "text": [
      "STATE:  {'ensemble_state': {'total_energy_consumption': 0.023205572371097348, 'ensemble_size': 16}, 'model_states': {'InceptionResNetV2': {'accuracy': 0.9302325581395349, 'confidence': 0.8443790979163591, 'avg_response_time': 2.0733725483305925, 'max_response_time': 2.144495518235469, 'contribution': 0.8102293208588002}, 'MobileNetV2': {'accuracy': 0.8823529411764706, 'confidence': 0.7263719798887477, 'avg_response_time': 0.08347895183462217, 'max_response_time': 0.15370382848033695, 'contribution': 0.7263719798887477}, 'ResNet50V2': {'accuracy': 0.6666666666666666, 'confidence': 0.6009714032212893, 'avg_response_time': 0.32550382914204284, 'max_response_time': 0.5175399351141425, 'contribution': 0.6718874201178551}, 'ensemble': {'accuracy': 0.9534883720930233, 'confidence': 0.8247949022090949, 'avg_response_time': 6.550885034943866, 'max_response_time': 7.1781546147571245, 'contribution': 0.9468704822451569}, 'EfficientNetV2S': {'accuracy': 0.975609756097561, 'confidence': 0.881682624177235, 'avg_response_time': 1.1442304886411776, 'max_response_time': 1.1819608630829506, 'contribution': 0.8609356473131877}, 'NASNetLarge': {'accuracy': 1.0, 'confidence': 0.8944491282105446, 'avg_response_time': 3.813841917304029, 'max_response_time': 3.875032026651169, 'contribution': 0.8714208871126174}, 'EfficientNetB7': {'accuracy': 0.972972972972973, 'confidence': 0.7569204770229958, 'avg_response_time': 7.123745568022954, 'max_response_time': 7.170332560053439, 'contribution': 0.7450654635558257}, 'DenseNet201': {'accuracy': 0.9722222222222222, 'confidence': 0.9245949784914652, 'avg_response_time': 0.5889681088139178, 'max_response_time': 0.650878894675531, 'contribution': 0.9036544925636716}, 'Xception': {'accuracy': 0.9705882352941176, 'confidence': 0.8398388519006617, 'avg_response_time': 0.9897632898678391, 'max_response_time': 1.009241237339851, 'contribution': 0.8265034714165855}, 'InceptionV3': {'accuracy': 0.9375, 'confidence': 0.8514514053240418, 'avg_response_time': 0.5780523176774855, 'max_response_time': 0.6099683782874605, 'contribution': 0.8514514053240418}}, 'input_state': {'input_file_length': 15, 'image_height': 224, 'image_width': 224}, 'distribution_weights': [1.0, 1.0, 1.0, 1.0, 1.0, 0.0, 0.0, 0.0, 0.0, 0.0, 0.0, 0.0, 0.0, 0.0, 0.0, 0.0, 0.0, 0.0, 0.0, 0.0]}\n",
      "{'accuracy': 0.9534883720930233, 'confidence': 0.8247949022090949, 'explainability': 1.0, 'energy': 0.023205572371097348, 'latency': 6.550885034943866}\n",
      "REWARD:  3.994783068459499\n"
     ]
    },
    {
     "name": "stderr",
     "output_type": "stream",
     "text": [
      "2025-01-28 15:52:49,356:INFO -- Action: Adding a model\n"
     ]
    },
    {
     "name": "stdout",
     "output_type": "stream",
     "text": [
      "STATE:  {'ensemble_state': {'total_energy_consumption': 0.023205572371097348, 'ensemble_size': 16}, 'model_states': {'InceptionResNetV2': {'accuracy': 0.9318181818181818, 'confidence': 0.8462996699593284, 'avg_response_time': 2.0717098959510767, 'max_response_time': 2.144495518235469, 'contribution': 0.8129260241985321}, 'MobileNetV2': {'accuracy': 0.8857142857142857, 'confidence': 0.7336569436958857, 'avg_response_time': 0.08391401545044778, 'max_response_time': 0.15370382848033695, 'contribution': 0.7336569436958857}, 'ResNet50V2': {'accuracy': 0.68, 'confidence': 0.6168846535682678, 'avg_response_time': 0.3280430524615801, 'max_response_time': 0.5175399351141425, 'contribution': 0.684964029788971}, 'ensemble': {'accuracy': 0.9545454545454546, 'confidence': 0.8267172256650707, 'avg_response_time': 6.5632276958330324, 'max_response_time': 7.1781546147571245, 'contribution': 0.9480507590553977}, 'EfficientNetV2S': {'accuracy': 0.9761904761904762, 'confidence': 0.8826187480063665, 'avg_response_time': 1.1437023977460385, 'max_response_time': 1.1819608630829506, 'contribution': 0.8623657467819396}, 'NASNetLarge': {'accuracy': 1.0, 'confidence': 0.8940842762226011, 'avg_response_time': 3.813222180184571, 'max_response_time': 3.875032026651169, 'contribution': 0.8716176995416967}, 'EfficientNetB7': {'accuracy': 0.9736842105263158, 'confidence': 0.7588651423391543, 'avg_response_time': 7.12274378478879, 'max_response_time': 7.170332560053439, 'contribution': 0.747322102910594}, 'DenseNet201': {'accuracy': 0.972972972972973, 'confidence': 0.9263307613295477, 'avg_response_time': 0.5890722265406723, 'max_response_time': 0.650878894675531, 'contribution': 0.9059562344808836}, 'Xception': {'accuracy': 0.9714285714285714, 'confidence': 0.8429677026612418, 'avg_response_time': 0.9898636175645575, 'max_response_time': 1.009241237339851, 'contribution': 0.8300133330481393}, 'InceptionV3': {'accuracy': 0.9393939393939394, 'confidence': 0.8556471259304972, 'avg_response_time': 0.5784169006568537, 'max_response_time': 0.6099683782874605, 'contribution': 0.8556471259304972}}, 'input_state': {'input_file_length': 15, 'image_height': 224, 'image_width': 224}, 'distribution_weights': [1.0, 1.0, 1.0, 1.0, 1.0, 0.0, 0.0, 0.0, 0.0, 0.0, 0.0, 0.0, 0.0, 0.0, 0.0, 0.0, 0.0, 0.0, 0.0, 0.0]}\n",
      "{'accuracy': 0.9545454545454546, 'confidence': 0.8267172256650707, 'explainability': 1.0, 'energy': 0.023205572371097348, 'latency': 6.5632276958330324}\n",
      "REWARD:  3.9948576800345372\n",
      "No eligible models to score.\n"
     ]
    },
    {
     "name": "stderr",
     "output_type": "stream",
     "text": [
      "2025-01-28 15:52:50,046:INFO -- Action: Replacing a model\n"
     ]
    },
    {
     "name": "stdout",
     "output_type": "stream",
     "text": [
      "STATE:  {'ensemble_state': {'total_energy_consumption': 0.023205572371097348, 'ensemble_size': 16}, 'model_states': {'InceptionResNetV2': {'accuracy': 0.9333333333333333, 'confidence': 0.8486796312861973, 'avg_response_time': 2.0719579245794115, 'max_response_time': 2.144495518235469, 'contribution': 0.7948610014385648}, 'MobileNetV2': {'accuracy': 0.8888888888888888, 'confidence': 0.7261424329545763, 'avg_response_time': 0.0841520496415746, 'max_response_time': 0.15370382848033695, 'contribution': 0.7132775841487778}, 'ResNet50V2': {'accuracy': 0.6538461538461539, 'confidence': 0.5931583207387191, 'avg_response_time': 0.3302108772575047, 'max_response_time': 0.5175399351141425, 'contribution': 0.6933178374400506}, 'ensemble': {'accuracy': 0.9333333333333333, 'confidence': 0.8083457317614025, 'avg_response_time': 6.575816572271828, 'max_response_time': 7.1781546147571245, 'contribution': 0.9269829644097223}, 'EfficientNetV2S': {'accuracy': 0.9767441860465116, 'confidence': 0.8833025264185529, 'avg_response_time': 1.1445535804079368, 'max_response_time': 1.1819608630829506, 'contribution': 0.8423107294149177}, 'NASNetLarge': {'accuracy': 1.0, 'confidence': 0.8927271905399504, 'avg_response_time': 3.812711305470914, 'max_response_time': 3.875032026651169, 'contribution': 0.8508648971716563}, 'EfficientNetB7': {'accuracy': 0.9743589743589743, 'confidence': 0.7605268366825886, 'avg_response_time': 7.122682281348809, 'max_response_time': 7.170332560053439, 'contribution': 0.7281599977077582}, 'DenseNet201': {'accuracy': 0.9736842105263158, 'confidence': 0.9277883815137964, 'avg_response_time': 0.5892456710839578, 'max_response_time': 0.650878894675531, 'contribution': 0.882115280941913}, 'Xception': {'accuracy': 0.9722222222222222, 'confidence': 0.8466005358431075, 'avg_response_time': 0.9901126629928885, 'max_response_time': 1.009241237339851, 'contribution': 0.8069574071301354}, 'InceptionV3': {'accuracy': 0.9411764705882353, 'confidence': 0.8573650621316012, 'avg_response_time': 0.5786106285710602, 'max_response_time': 0.6099683782874605, 'contribution': 0.8304810339913649}}, 'input_state': {'input_file_length': 15, 'image_height': 224, 'image_width': 224}, 'distribution_weights': [1.0, 1.0, 1.0, 1.0, 1.0, 0.0, 0.0, 0.0, 0.0, 0.0, 0.0, 0.0, 0.0, 0.0, 0.0, 0.0, 0.0, 0.0, 0.0, 0.0]}\n",
      "{'accuracy': 0.9333333333333333, 'confidence': 0.8083457317614025, 'explainability': 1.0, 'energy': 0.023205572371097348, 'latency': 6.575816572271828}\n",
      "REWARD:  3.9938816963056216\n",
      "Worst model: EfficientNetV2L with score: 0.5911481481481482\n",
      "Model 'EfficientNetV2L' successfully removed from the target YAML.\n",
      "Best model: EfficientNetV2L with score: 0.5911481481481482\n",
      "Model 'EfficientNetV2L' successfully added to the target YAML.\n",
      "STATE:  {'ensemble_state': {'total_energy_consumption': 0.023205572371097348, 'ensemble_size': 16}, 'model_states': {'InceptionResNetV2': {'accuracy': 0.9130434782608695, 'confidence': 0.8302300740843234, 'avg_response_time': 2.0723159608033654, 'max_response_time': 2.144495518235469, 'contribution': 0.7775814144507699}, 'MobileNetV2': {'accuracy': 0.8918918918918919, 'confidence': 0.7221673259863982, 'avg_response_time': 0.08485379162735111, 'max_response_time': 0.15370382848033695, 'contribution': 0.7096501757969728}, 'ResNet50V2': {'accuracy': 0.6666666666666666, 'confidence': 0.5853367160867762, 'avg_response_time': 0.3331097752941232, 'max_response_time': 0.5175399351141425, 'contribution': 0.6817866210584287}, 'ensemble': {'accuracy': 0.9347826086956522, 'confidence': 0.8046206805424916, 'avg_response_time': 6.58705762423778, 'max_response_time': 7.1781546147571245, 'contribution': 0.9264738170996957}, 'EfficientNetV2S': {'accuracy': 0.9772727272727273, 'confidence': 0.8813070790334181, 'avg_response_time': 1.1450632911899115, 'max_response_time': 1.1819608630829506, 'contribution': 0.8412469137798656}, 'NASNetLarge': {'accuracy': 1.0, 'confidence': 0.8911487321520961, 'avg_response_time': 3.8130096568824636, 'max_response_time': 3.875032026651169, 'contribution': 0.8502599804900414}, 'EfficientNetB7': {'accuracy': 0.975, 'confidence': 0.7615496329963207, 'avg_response_time': 7.121669011331744, 'max_response_time': 7.170332560053439, 'contribution': 0.729991964995861}, 'DenseNet201': {'accuracy': 0.9743589743589743, 'confidence': 0.9168771107991537, 'avg_response_time': 0.5892154699357016, 'max_response_time': 0.650878894675531, 'contribution': 0.8723751153701391}, 'Xception': {'accuracy': 0.972972972972973, 'confidence': 0.8406812838605933, 'avg_response_time': 0.9896937983590999, 'max_response_time': 1.009241237339851, 'contribution': 0.8021095910587827}, 'InceptionV3': {'accuracy': 0.9428571428571428, 'confidence': 0.8444813285555158, 'avg_response_time': 0.5787319085193118, 'max_response_time': 0.6099683782874605, 'contribution': 0.8183654155050005}}, 'input_state': {'input_file_length': 15, 'image_height': 224, 'image_width': 224}, 'distribution_weights': [1.0, 1.0, 1.0, 1.0, 1.0, 0.0, 0.0, 0.0, 0.0, 0.0, 0.0, 0.0, 0.0, 0.0, 0.0, 0.0, 0.0, 0.0, 0.0, 0.0]}\n",
      "{'accuracy': 0.9347826086956522, 'confidence': 0.8046206805424916, 'explainability': 1.0, 'energy': 0.023205572371097348, 'latency': 6.58705762423778}\n",
      "REWARD:  3.993815090730579\n"
     ]
    },
    {
     "name": "stderr",
     "output_type": "stream",
     "text": [
      "2025-01-28 15:52:51,122:INFO -- Action: Adding a model\n"
     ]
    },
    {
     "name": "stdout",
     "output_type": "stream",
     "text": [
      "No eligible models to score.\n"
     ]
    },
    {
     "name": "stderr",
     "output_type": "stream",
     "text": [
      "2025-01-28 15:52:51,862:INFO -- Action: Adding a model\n"
     ]
    },
    {
     "name": "stdout",
     "output_type": "stream",
     "text": [
      "STATE:  {'ensemble_state': {'total_energy_consumption': 0.023205572371097348, 'ensemble_size': 16}, 'model_states': {'InceptionResNetV2': {'accuracy': 0.9148936170212766, 'confidence': 0.8329255314583474, 'avg_response_time': 2.071383181158478, 'max_response_time': 2.144495518235469, 'contribution': 0.7813970560723162}, 'MobileNetV2': {'accuracy': 0.868421052631579, 'confidence': 0.7031629226709667, 'avg_response_time': 0.08532387709550611, 'max_response_time': 0.15370382848033695, 'contribution': 0.6909751711707366}, 'ResNet50V2': {'accuracy': 0.6785714285714286, 'confidence': 0.5967880231993539, 'avg_response_time': 0.3367792101358345, 'max_response_time': 0.5175399351141425, 'contribution': 0.6897932887077332}, 'ensemble': {'accuracy': 0.9361702127659575, 'confidence': 0.8043703414712883, 'avg_response_time': 6.598325897367143, 'max_response_time': 7.1781546147571245, 'contribution': 0.9271215352606266}, 'EfficientNetV2S': {'accuracy': 0.9777777777777777, 'confidence': 0.8796830323007372, 'avg_response_time': 1.1455446927143886, 'max_response_time': 1.1819608630829506, 'contribution': 0.8405130929417081}, 'NASNetLarge': {'accuracy': 1.0, 'confidence': 0.8917080150409178, 'avg_response_time': 3.812896640583007, 'max_response_time': 3.875032026651169, 'contribution': 0.8517485531893644}, 'EfficientNetB7': {'accuracy': 0.975609756097561, 'confidence': 0.7598691052053033, 'avg_response_time': 7.121231685662357, 'max_response_time': 7.170332560053439, 'contribution': 0.729081136424367}, 'DenseNet201': {'accuracy': 0.975, 'confidence': 0.9126676082611084, 'avg_response_time': 0.588780770930603, 'max_response_time': 0.650878894675531, 'contribution': 0.8692781627178192}, 'Xception': {'accuracy': 0.9736842105263158, 'confidence': 0.8276163982717615, 'avg_response_time': 0.9869436128982327, 'max_response_time': 1.009241237339851, 'contribution': 0.790059750017367}, 'InceptionV3': {'accuracy': 0.9444444444444444, 'confidence': 0.8431771381033791, 'avg_response_time': 0.5800579911939314, 'max_response_time': 0.6264708848056196, 'contribution': 0.8177866670820448}}, 'input_state': {'input_file_length': 15, 'image_height': 224, 'image_width': 224}, 'distribution_weights': [1.0, 1.0, 1.0, 1.0, 1.0, 0.0, 0.0, 0.0, 0.0, 0.0, 0.0, 0.0, 0.0, 0.0, 0.0, 0.0, 0.0, 0.0, 0.0, 0.0]}\n",
      "{'accuracy': 0.9361702127659575, 'confidence': 0.8043703414712883, 'explainability': 1.0, 'energy': 0.023205572371097348, 'latency': 6.598325897367143}\n",
      "REWARD:  3.9938405433790036\n",
      "No eligible models to score.\n"
     ]
    },
    {
     "name": "stderr",
     "output_type": "stream",
     "text": [
      "2025-01-28 15:52:52,523:INFO -- Action: Keeping the ensemble\n"
     ]
    },
    {
     "name": "stdout",
     "output_type": "stream",
     "text": [
      "STATE:  {'ensemble_state': {'total_energy_consumption': 0.023205572371097348, 'ensemble_size': 16}, 'model_states': {'InceptionResNetV2': {'accuracy': 0.9166666666666666, 'confidence': 0.8358490156630675, 'avg_response_time': 2.070557267901592, 'max_response_time': 2.144495518235469, 'contribution': 0.785394050180912}, 'MobileNetV2': {'accuracy': 0.8717948717948718, 'confidence': 0.7077802480795444, 'avg_response_time': 0.08593286102849299, 'max_response_time': 0.15370382848033695, 'contribution': 0.6959050030280383}, 'ResNet50V2': {'accuracy': 0.6896551724137931, 'confidence': 0.6083838672473513, 'avg_response_time': 0.3398539256094643, 'max_response_time': 0.5175399351141425, 'contribution': 0.6981820546347519}, 'ensemble': {'accuracy': 0.9375, 'confidence': 0.8042617127766692, 'avg_response_time': 6.609311045948243, 'max_response_time': 7.1781546147571245, 'contribution': 0.9280826027194659}, 'EfficientNetV2S': {'accuracy': 0.9782608695652174, 'confidence': 0.8789695708648019, 'avg_response_time': 1.1454805098753145, 'max_response_time': 1.1819608630829506, 'contribution': 0.8406511519266211}, 'NASNetLarge': {'accuracy': 1.0, 'confidence': 0.8916882276535034, 'avg_response_time': 3.812909512751991, 'max_response_time': 3.875032026651169, 'contribution': 0.8526167538430955}, 'EfficientNetB7': {'accuracy': 0.9761904761904762, 'confidence': 0.7621479822056634, 'avg_response_time': 7.121098915898345, 'max_response_time': 7.170332560053439, 'contribution': 0.7320930603004637}, 'DenseNet201': {'accuracy': 0.975609756097561, 'confidence': 0.9117712625643102, 'avg_response_time': 0.5888335790770305, 'max_response_time': 0.650878894675531, 'contribution': 0.8694400961806135}, 'Xception': {'accuracy': 0.9743589743589743, 'confidence': 0.8252835472424825, 'avg_response_time': 0.9865174487206017, 'max_response_time': 1.009241237339851, 'contribution': 0.7886898899689699}, 'InceptionV3': {'accuracy': 0.9459459459459459, 'confidence': 0.8417446629421131, 'avg_response_time': 0.580411676192001, 'max_response_time': 0.6264708848056196, 'contribution': 0.8170404208673013}}, 'input_state': {'input_file_length': 14, 'image_height': 224, 'image_width': 224}, 'distribution_weights': [1.0, 1.0, 1.0, 1.0, 1.0, 0.0, 0.0, 0.0, 0.0, 0.0, 0.0, 0.0, 0.0, 0.0, 0.0, 0.0, 0.0, 0.0, 0.0, 0.0]}\n",
      "{'accuracy': 0.9375, 'confidence': 0.8042617127766692, 'explainability': 1.0, 'energy': 0.023205572371097348, 'latency': 6.609311045948243}\n",
      "REWARD:  3.993868433540978\n"
     ]
    },
    {
     "name": "stderr",
     "output_type": "stream",
     "text": [
      "2025-01-28 15:52:53,178:INFO -- Action: Keeping the ensemble\n"
     ]
    },
    {
     "name": "stdout",
     "output_type": "stream",
     "text": [
      "STATE:  {'ensemble_state': {'total_energy_consumption': 0.023205572371097348, 'ensemble_size': 16}, 'model_states': {'InceptionResNetV2': {'accuracy': 0.9183673469387755, 'confidence': 0.8374152706593884, 'avg_response_time': 2.070743649020395, 'max_response_time': 2.144495518235469, 'contribution': 0.787989998350338}, 'MobileNetV2': {'accuracy': 0.875, 'confidence': 0.709325610101223, 'avg_response_time': 0.0860031800685438, 'max_response_time': 0.15370382848033695, 'contribution': 0.6977472461760044}, 'ResNet50V2': {'accuracy': 0.7, 'confidence': 0.6214329461256664, 'avg_response_time': 0.3428288553003493, 'max_response_time': 0.5175399351141425, 'contribution': 0.7082378606001536}, 'ensemble': {'accuracy': 0.9387755102040817, 'confidence': 0.8043295249876791, 'avg_response_time': 6.619852276926479, 'max_response_time': 7.1781546147571245, 'contribution': 0.9295473706965544}, 'EfficientNetV2S': {'accuracy': 0.9787234042553191, 'confidence': 0.8796328737380656, 'avg_response_time': 1.1455742755051734, 'max_response_time': 1.1819608630829506, 'contribution': 0.842129740309208}, 'NASNetLarge': {'accuracy': 1.0, 'confidence': 0.8921143244142118, 'avg_response_time': 3.813006219608032, 'max_response_time': 3.875032026651169, 'contribution': 0.8538922304692476}, 'EfficientNetB7': {'accuracy': 0.9767441860465116, 'confidence': 0.7619257146535918, 'avg_response_time': 7.1209708302922, 'max_response_time': 7.170332560053439, 'contribution': 0.7325697444206061}, 'DenseNet201': {'accuracy': 0.9761904761904762, 'confidence': 0.9086168238094875, 'avg_response_time': 0.5892341578773843, 'max_response_time': 0.650878894675531, 'contribution': 0.8672935423396883}, 'Xception': {'accuracy': 0.975, 'confidence': 0.8259991019964218, 'avg_response_time': 0.9866322432327939, 'max_response_time': 1.009241237339851, 'contribution': 0.790320286154747}, 'InceptionV3': {'accuracy': 0.9473684210526315, 'confidence': 0.8434516850270724, 'avg_response_time': 0.5787299737076328, 'max_response_time': 0.6264708848056196, 'contribution': 0.8193975545858082}}, 'input_state': {'input_file_length': 14, 'image_height': 224, 'image_width': 224}, 'distribution_weights': [1.0, 1.0, 1.0, 1.0, 1.0, 0.0, 0.0, 0.0, 0.0, 0.0, 0.0, 0.0, 0.0, 0.0, 0.0, 0.0, 0.0, 0.0, 0.0, 0.0]}\n",
      "{'accuracy': 0.9387755102040817, 'confidence': 0.8043295249876791, 'explainability': 1.0, 'energy': 0.023205572371097348, 'latency': 6.619852276926479}\n",
      "REWARD:  3.993899788127309\n"
     ]
    },
    {
     "name": "stderr",
     "output_type": "stream",
     "text": [
      "2025-01-28 15:52:53,851:INFO -- Action: Keeping the ensemble\n"
     ]
    },
    {
     "name": "stdout",
     "output_type": "stream",
     "text": [
      "STATE:  {'ensemble_state': {'total_energy_consumption': 0.023205572371097348, 'ensemble_size': 16}, 'model_states': {'InceptionResNetV2': {'accuracy': 0.92, 'confidence': 0.839259717464447, 'avg_response_time': 2.070902671941325, 'max_response_time': 2.144495518235469, 'contribution': 0.7908229506015778}, 'MobileNetV2': {'accuracy': 0.8780487804878049, 'confidence': 0.711780771976564, 'avg_response_time': 0.08661110124014752, 'max_response_time': 0.15370382848033695, 'contribution': 0.7004848071714727}, 'ResNet50V2': {'accuracy': 0.7096774193548387, 'confidence': 0.6323430903496281, 'avg_response_time': 0.34514960152782637, 'max_response_time': 0.5175399351141425, 'contribution': 0.7163478462926803}, 'ensemble': {'accuracy': 0.94, 'confidence': 0.8044552449436649, 'avg_response_time': 6.62976902761853, 'max_response_time': 7.1781546147571245, 'contribution': 0.9307118904590607}, 'EfficientNetV2S': {'accuracy': 0.9791666666666666, 'confidence': 0.8799649253487587, 'avg_response_time': 1.1454689179725615, 'max_response_time': 1.1819608630829506, 'contribution': 0.8432431071996689}, 'NASNetLarge': {'accuracy': 1.0, 'confidence': 0.8920050872133133, 'avg_response_time': 3.8123529528352744, 'max_response_time': 3.875032026651169, 'contribution': 0.8545962293097313}, 'EfficientNetB7': {'accuracy': 0.9772727272727273, 'confidence': 0.7611240101131526, 'avg_response_time': 7.120533279778041, 'max_response_time': 7.170332560053439, 'contribution': 0.7324352210218256}, 'DenseNet201': {'accuracy': 0.9767441860465116, 'confidence': 0.9079314553460409, 'avg_response_time': 0.5890011800831767, 'max_response_time': 0.650878894675531, 'contribution': 0.867569180422051}, 'Xception': {'accuracy': 0.975609756097561, 'confidence': 0.8291027037108817, 'avg_response_time': 0.9868668565484789, 'max_response_time': 1.009241237339851, 'contribution': 0.7942941028897356}, 'InceptionV3': {'accuracy': 0.9487179487179487, 'confidence': 0.8467549024484097, 'avg_response_time': 0.5792680719210724, 'max_response_time': 0.6264708848056196, 'contribution': 0.8233175445825626}}, 'input_state': {'input_file_length': 14, 'image_height': 224, 'image_width': 224}, 'distribution_weights': [1.0, 1.0, 1.0, 1.0, 1.0, 0.0, 0.0, 0.0, 0.0, 0.0, 0.0, 0.0, 0.0, 0.0, 0.0, 0.0, 0.0, 0.0, 0.0, 0.0]}\n",
      "{'accuracy': 0.94, 'confidence': 0.8044552449436649, 'explainability': 1.0, 'energy': 0.023205572371097348, 'latency': 6.62976902761853}\n",
      "REWARD:  3.993931487058563\n"
     ]
    },
    {
     "name": "stderr",
     "output_type": "stream",
     "text": [
      "2025-01-28 15:52:54,518:INFO -- Action: Keeping the ensemble\n"
     ]
    },
    {
     "name": "stdout",
     "output_type": "stream",
     "text": [
      "STATE:  {'ensemble_state': {'total_energy_consumption': 0.023205572371097348, 'ensemble_size': 16}, 'model_states': {'InceptionResNetV2': {'accuracy': 0.9215686274509803, 'confidence': 0.8400107388402901, 'avg_response_time': 2.071418684524389, 'max_response_time': 2.144495518235469, 'contribution': 0.7925237125041438}, 'MobileNetV2': {'accuracy': 0.8809523809523809, 'confidence': 0.7184158194632757, 'avg_response_time': 0.08677570318420659, 'max_response_time': 0.15370382848033695, 'contribution': 0.7073888062011628}, 'ResNet50V2': {'accuracy': 0.71875, 'confidence': 0.6438323389738798, 'avg_response_time': 0.34643162379445785, 'max_response_time': 0.5175399351141425, 'contribution': 0.7252119462937117}, 'ensemble': {'accuracy': 0.9411764705882353, 'confidence': 0.8071811501157503, 'avg_response_time': 6.639373982364718, 'max_response_time': 7.1781546147571245, 'contribution': 0.9320704621427199}, 'EfficientNetV2S': {'accuracy': 0.9795918367346939, 'confidence': 0.8804463865805645, 'avg_response_time': 1.145604505878879, 'max_response_time': 1.1819608630829506, 'contribution': 0.8444739932916603}, 'NASNetLarge': {'accuracy': 1.0, 'confidence': 0.8922047751645247, 'avg_response_time': 3.8123661946533485, 'max_response_time': 3.875032026651169, 'contribution': 0.8555752684672674}, 'EfficientNetB7': {'accuracy': 0.9777777777777777, 'confidence': 0.7625477108690474, 'avg_response_time': 7.120269205296783, 'max_response_time': 7.170332560053439, 'contribution': 0.7344964504241943}, 'DenseNet201': {'accuracy': 0.9772727272727273, 'confidence': 0.9099856289950284, 'avg_response_time': 0.5887888729907246, 'max_response_time': 0.650878894675531, 'contribution': 0.8705406785011292}, 'Xception': {'accuracy': 0.9761904761904762, 'confidence': 0.8324125096911476, 'avg_response_time': 0.9869538956196451, 'max_response_time': 1.009241237339851, 'contribution': 0.7984326850800287}, 'InceptionV3': {'accuracy': 0.95, 'confidence': 0.8503729775547981, 'avg_response_time': 0.5789587300851408, 'max_response_time': 0.6264708848056196, 'contribution': 0.8275215536355972}}, 'input_state': {'input_file_length': 14, 'image_height': 224, 'image_width': 224}, 'distribution_weights': [1.0, 1.0, 1.0, 1.0, 1.0, 0.0, 0.0, 0.0, 0.0, 0.0, 0.0, 0.0, 0.0, 0.0, 0.0, 0.0, 0.0, 0.0, 0.0, 0.0]}\n",
      "{'accuracy': 0.9411764705882353, 'confidence': 0.8071811501157503, 'explainability': 1.0, 'energy': 0.023205572371097348, 'latency': 6.639373982364718}\n",
      "REWARD:  3.994032103633136\n"
     ]
    },
    {
     "name": "stderr",
     "output_type": "stream",
     "text": [
      "2025-01-28 15:52:55,171:INFO -- Action: Replacing a model\n"
     ]
    },
    {
     "name": "stdout",
     "output_type": "stream",
     "text": [
      "STATE:  {'ensemble_state': {'total_energy_consumption': 0.023205572371097348, 'ensemble_size': 16}, 'model_states': {'InceptionResNetV2': {'accuracy': 0.9230769230769231, 'confidence': 0.8415403469250753, 'avg_response_time': 2.070851980187968, 'max_response_time': 2.144495518235469, 'contribution': 0.7949665326338547}, 'MobileNetV2': {'accuracy': 0.8837209302325582, 'confidence': 0.7216288530549337, 'avg_response_time': 0.08694455796275363, 'max_response_time': 0.15370382848033695, 'contribution': 0.7108582819617072}, 'ResNet50V2': {'accuracy': 0.7272727272727273, 'confidence': 0.6546248829726017, 'avg_response_time': 0.34812273756544393, 'max_response_time': 0.5175399351141425, 'contribution': 0.733538441585772}, 'ensemble': {'accuracy': 0.9423076923076923, 'confidence': 0.8081930100919407, 'avg_response_time': 6.648883559326405, 'max_response_time': 7.1781546147571245, 'contribution': 0.9333765357732773}, 'EfficientNetV2S': {'accuracy': 0.98, 'confidence': 0.880910438299179, 'avg_response_time': 1.145791211263036, 'max_response_time': 1.1819608630829506, 'contribution': 0.8456574928760529}, 'NASNetLarge': {'accuracy': 1.0, 'confidence': 0.8922900910280189, 'avg_response_time': 3.8123266630521524, 'max_response_time': 3.875032026651169, 'contribution': 0.8564081252837668}, 'EfficientNetB7': {'accuracy': 0.9782608695652174, 'confidence': 0.763739353288775, 'avg_response_time': 7.1204009508535355, 'max_response_time': 7.170332560053439, 'contribution': 0.7362979028535925}, 'DenseNet201': {'accuracy': 0.9777777777777777, 'confidence': 0.9119574944178264, 'avg_response_time': 0.5871703061995573, 'max_response_time': 0.650878894675531, 'contribution': 0.8733890983793471}, 'Xception': {'accuracy': 0.9767441860465116, 'confidence': 0.8352852200352868, 'avg_response_time': 0.9871630648892987, 'max_response_time': 1.009241237339851, 'contribution': 0.8020956239034963}, 'InceptionV3': {'accuracy': 0.9512195121951219, 'confidence': 0.8532594282452654, 'avg_response_time': 0.5790506249970572, 'max_response_time': 0.6264708848056196, 'contribution': 0.8309653561289717}}, 'input_state': {'input_file_length': 13, 'image_height': 224, 'image_width': 224}, 'distribution_weights': [1.0, 1.0, 1.0, 1.0, 1.0, 0.0, 0.0, 0.0, 0.0, 0.0, 0.0, 0.0, 0.0, 0.0, 0.0, 0.0, 0.0, 0.0, 0.0, 0.0]}\n",
      "{'accuracy': 0.9423076923076923, 'confidence': 0.8081930100919407, 'explainability': 1.0, 'energy': 0.023205572371097348, 'latency': 6.648883559326405}\n",
      "REWARD:  3.994085391319299\n",
      "Worst model: EfficientNetV2L with score: 0.5911481481481482\n",
      "Model 'EfficientNetV2L' successfully removed from the target YAML.\n",
      "Best model: EfficientNetV2L with score: 0.5911481481481482\n",
      "Model 'EfficientNetV2L' successfully added to the target YAML.\n"
     ]
    },
    {
     "name": "stderr",
     "output_type": "stream",
     "text": [
      "2025-01-28 15:52:56,018:INFO -- Action: Replacing a model\n"
     ]
    },
    {
     "name": "stdout",
     "output_type": "stream",
     "text": [
      "STATE:  {'ensemble_state': {'total_energy_consumption': 0.023205572371097348, 'ensemble_size': 16}, 'model_states': {'InceptionResNetV2': {'accuracy': 0.9245283018867925, 'confidence': 0.8427327050352996, 'avg_response_time': 2.070952102676068, 'max_response_time': 2.144495518235469, 'contribution': 0.7970376419571211}, 'MobileNetV2': {'accuracy': 0.8863636363636364, 'confidence': 0.7273700928146188, 'avg_response_time': 0.08694780337532351, 'max_response_time': 0.15370382848033695, 'contribution': 0.7168443074280565}, 'ResNet50V2': {'accuracy': 0.7352941176470589, 'confidence': 0.6647829746498781, 'avg_response_time': 0.3492581775424952, 'max_response_time': 0.5175399351141425, 'contribution': 0.741375546245014}, 'ensemble': {'accuracy': 0.9433962264150944, 'confidence': 0.811017887322564, 'avg_response_time': 6.658865428376048, 'max_response_time': 7.1781546147571245, 'contribution': 0.9346335822681211}, 'EfficientNetV2S': {'accuracy': 0.9803921568627451, 'confidence': 0.8821288195310855, 'avg_response_time': 1.1459052794215057, 'max_response_time': 1.1819608630829506, 'contribution': 0.847567108331942}, 'NASNetLarge': {'accuracy': 1.0, 'confidence': 0.8928203678131104, 'avg_response_time': 3.8122055392438052, 'max_response_time': 3.875032026651169, 'contribution': 0.8576560413837433}, 'EfficientNetB7': {'accuracy': 0.9787234042553191, 'confidence': 0.7647340532313002, 'avg_response_time': 7.1214261560407435, 'max_response_time': 7.170332560053439, 'contribution': 0.737876463443675}, 'DenseNet201': {'accuracy': 0.9782608695652174, 'confidence': 0.9138618902019833, 'avg_response_time': 0.5867278404967038, 'max_response_time': 0.650878894675531, 'contribution': 0.8761319375556448}, 'Xception': {'accuracy': 0.9772727272727273, 'confidence': 0.8364024351943623, 'avg_response_time': 0.9873470289732015, 'max_response_time': 1.009241237339851, 'contribution': 0.803967148065567}, 'InceptionV3': {'accuracy': 0.9523809523809523, 'confidence': 0.8567223846912384, 'avg_response_time': 0.5789820662338261, 'max_response_time': 0.6264708848056196, 'contribution': 0.834959123815809}}, 'input_state': {'input_file_length': 15, 'image_height': 224, 'image_width': 224}, 'distribution_weights': [1.0, 1.0, 1.0, 1.0, 1.0, 0.0, 0.0, 0.0, 0.0, 0.0, 0.0, 0.0, 0.0, 0.0, 0.0, 0.0, 0.0, 0.0, 0.0, 0.0]}\n",
      "{'accuracy': 0.9433962264150944, 'confidence': 0.811017887322564, 'explainability': 1.0, 'energy': 0.023205572371097348, 'latency': 6.658865428376048}\n",
      "REWARD:  3.9941862283794904\n",
      "Worst model: EfficientNetV2L with score: 0.5911481481481482\n",
      "Model 'EfficientNetV2L' successfully removed from the target YAML.\n",
      "Best model: EfficientNetV2L with score: 0.5911481481481482\n",
      "Model 'EfficientNetV2L' successfully added to the target YAML.\n"
     ]
    },
    {
     "name": "stderr",
     "output_type": "stream",
     "text": [
      "2025-01-28 15:52:56,965:INFO -- Action: Adding a model\n"
     ]
    },
    {
     "name": "stdout",
     "output_type": "stream",
     "text": [
      "STATE:  {'ensemble_state': {'total_energy_consumption': 0.023205572371097348, 'ensemble_size': 16}, 'model_states': {'InceptionResNetV2': {'accuracy': 0.9259259259259259, 'confidence': 0.8436019829025975, 'avg_response_time': 2.070693845918338, 'max_response_time': 2.144495518235469, 'contribution': 0.798753124696237}, 'MobileNetV2': {'accuracy': 0.8888888888888888, 'confidence': 0.732096693250868, 'avg_response_time': 0.08695048039538998, 'max_response_time': 0.15370382848033695, 'contribution': 0.7218048142062293}, 'ResNet50V2': {'accuracy': 0.7428571428571429, 'confidence': 0.6743605869156973, 'avg_response_time': 0.35156829970187314, 'max_response_time': 0.5175399351141425, 'contribution': 0.7487647993224008}, 'ensemble': {'accuracy': 0.9444444444444444, 'confidence': 0.8135607731196676, 'avg_response_time': 6.667502584782757, 'max_response_time': 7.1781546147571245, 'contribution': 0.9358440604474809}, 'EfficientNetV2S': {'accuracy': 0.9807692307692307, 'confidence': 0.8823182433843613, 'avg_response_time': 1.1461556222427534, 'max_response_time': 1.1819608630829506, 'contribution': 0.8484211804775091}, 'NASNetLarge': {'accuracy': 1.0, 'confidence': 0.8932417631149292, 'avg_response_time': 3.8121851003035454, 'max_response_time': 3.875032026651169, 'contribution': 0.8587669332822164}, 'EfficientNetB7': {'accuracy': 0.9791666666666666, 'confidence': 0.7665854363391796, 'avg_response_time': 7.121277619887908, 'max_response_time': 7.170332560053439, 'contribution': 0.74028737967213}, 'DenseNet201': {'accuracy': 0.9787234042553191, 'confidence': 0.9156324698569926, 'avg_response_time': 0.5868634248861971, 'max_response_time': 0.650878894675531, 'contribution': 0.8787052821605763}, 'Xception': {'accuracy': 0.9777777777777777, 'confidence': 0.8386734578344557, 'avg_response_time': 0.9874277239356704, 'max_response_time': 1.009241237339851, 'contribution': 0.8069589548640781}, 'InceptionV3': {'accuracy': 0.9534883720930233, 'confidence': 0.859782453193221, 'avg_response_time': 0.5781454916365929, 'max_response_time': 0.6264708848056196, 'contribution': 0.8385253146637318}}, 'input_state': {'input_file_length': 15, 'image_height': 224, 'image_width': 224}, 'distribution_weights': [1.0, 1.0, 1.0, 1.0, 1.0, 0.0, 0.0, 0.0, 0.0, 0.0, 0.0, 0.0, 0.0, 0.0, 0.0, 0.0, 0.0, 0.0, 0.0, 0.0]}\n",
      "{'accuracy': 0.9444444444444444, 'confidence': 0.8135607731196676, 'explainability': 1.0, 'energy': 0.023205572371097348, 'latency': 6.667502584782757}\n",
      "REWARD:  3.9942783208313384\n",
      "No eligible models to score.\n"
     ]
    },
    {
     "name": "stderr",
     "output_type": "stream",
     "text": [
      "2025-01-28 15:52:57,683:INFO -- Action: Keeping the ensemble\n"
     ]
    },
    {
     "name": "stdout",
     "output_type": "stream",
     "text": [
      "STATE:  {'ensemble_state': {'total_energy_consumption': 0.023205572371097348, 'ensemble_size': 16}, 'model_states': {'InceptionResNetV2': {'accuracy': 0.9090909090909091, 'confidence': 0.8282637650316412, 'avg_response_time': 2.0698481467056173, 'max_response_time': 2.144495518235469, 'contribution': 0.784230340610851}, 'MobileNetV2': {'accuracy': 0.8913043478260869, 'confidence': 0.7276472915773806, 'avg_response_time': 0.08717822979582024, 'max_response_time': 0.15370382848033695, 'contribution': 0.7175791490337123}, 'ResNet50V2': {'accuracy': 0.7222222222222222, 'confidence': 0.6556283483902613, 'avg_response_time': 0.35265397150470545, 'max_response_time': 0.5175399351141425, 'contribution': 0.7279657771190008}, 'ensemble': {'accuracy': 0.9454545454545454, 'confidence': 0.8104671958000068, 'avg_response_time': 6.676681030032856, 'max_response_time': 7.1781546147571245, 'contribution': 0.9352102257988669}, 'EfficientNetV2S': {'accuracy': 0.9811320754716981, 'confidence': 0.8826207383623663, 'avg_response_time': 1.1465186925471944, 'max_response_time': 1.1819608630829506, 'contribution': 0.8493632426801717}, 'NASNetLarge': {'accuracy': 1.0, 'confidence': 0.8914249310126672, 'avg_response_time': 3.8125707122540367, 'max_response_time': 3.875032026651169, 'contribution': 0.8576130786767373}, 'EfficientNetB7': {'accuracy': 0.9795918367346939, 'confidence': 0.7664601030398388, 'avg_response_time': 7.12214748292621, 'max_response_time': 7.170332560053439, 'contribution': 0.7406987414068106}, 'DenseNet201': {'accuracy': 0.9791666666666666, 'confidence': 0.9153272757927576, 'avg_response_time': 0.5866037152657501, 'max_response_time': 0.650878894675531, 'contribution': 0.8791694045066833}, 'Xception': {'accuracy': 0.9782608695652174, 'confidence': 0.8285980911358543, 'avg_response_time': 0.9871832097917301, 'max_response_time': 1.009241237339851, 'contribution': 0.797573033882224}, 'InceptionV3': {'accuracy': 0.9545454545454546, 'confidence': 0.8586726608601484, 'avg_response_time': 0.5788899683886968, 'max_response_time': 0.6264708848056196, 'contribution': 0.8378986391154203}}, 'input_state': {'input_file_length': 14, 'image_height': 224, 'image_width': 224}, 'distribution_weights': [1.0, 1.0, 1.0, 1.0, 1.0, 0.0, 0.0, 0.0, 0.0, 0.0, 0.0, 0.0, 0.0, 0.0, 0.0, 0.0, 0.0, 0.0, 0.0, 0.0]}\n",
      "{'accuracy': 0.9454545454545454, 'confidence': 0.8104671958000068, 'explainability': 1.0, 'energy': 0.023205572371097348, 'latency': 6.676681030032856}\n",
      "REWARD:  3.994218804766109\n"
     ]
    },
    {
     "name": "stderr",
     "output_type": "stream",
     "text": [
      "2025-01-28 15:52:58,424:INFO -- Action: Keeping the ensemble\n"
     ]
    },
    {
     "name": "stdout",
     "output_type": "stream",
     "text": [
      "STATE:  {'ensemble_state': {'total_energy_consumption': 0.023205572371097348, 'ensemble_size': 16}, 'model_states': {'InceptionResNetV2': {'accuracy': 0.9107142857142857, 'confidence': 0.8298472921763148, 'avg_response_time': 2.0705530570190747, 'max_response_time': 2.144495518235469, 'contribution': 0.7866001789058957}, 'MobileNetV2': {'accuracy': 0.8936170212765957, 'confidence': 0.7314821291477123, 'avg_response_time': 0.08790684359835307, 'max_response_time': 0.15370382848033695, 'contribution': 0.7216282024028453}, 'ResNet50V2': {'accuracy': 0.7297297297297297, 'confidence': 0.6590858681781872, 'avg_response_time': 0.3543132717754069, 'max_response_time': 0.5175399351141425, 'contribution': 0.7294682312656093}, 'ensemble': {'accuracy': 0.9464285714285714, 'confidence': 0.8114138100408608, 'avg_response_time': 6.685331991333344, 'max_response_time': 7.1781546147571245, 'contribution': 0.9362944087811879}, 'EfficientNetV2S': {'accuracy': 0.9814814814814815, 'confidence': 0.8833480521484658, 'avg_response_time': 1.1462480227585603, 'max_response_time': 1.1819608630829506, 'contribution': 0.8507064360159414}, 'NASNetLarge': {'accuracy': 1.0, 'confidence': 0.8915564620269919, 'avg_response_time': 3.812245966410477, 'max_response_time': 3.875032026651169, 'contribution': 0.8583825691690985}, 'EfficientNetB7': {'accuracy': 0.98, 'confidence': 0.7676129370927811, 'avg_response_time': 7.122732077941991, 'max_response_time': 7.170332560053439, 'contribution': 0.7423668026924133}, 'DenseNet201': {'accuracy': 0.9795918367346939, 'confidence': 0.9166763485694418, 'avg_response_time': 0.5860819997898089, 'max_response_time': 0.650878894675531, 'contribution': 0.8812563930238996}, 'Xception': {'accuracy': 0.9787234042553191, 'confidence': 0.8294660664619283, 'avg_response_time': 0.987126870169619, 'max_response_time': 1.009241237339851, 'contribution': 0.7991011168094392}, 'InceptionV3': {'accuracy': 0.9555555555555556, 'confidence': 0.8598380102051629, 'avg_response_time': 0.5787652182911392, 'max_response_time': 0.6264708848056196, 'contribution': 0.8395256333880954}}, 'input_state': {'input_file_length': 15, 'image_height': 224, 'image_width': 224}, 'distribution_weights': [1.0, 1.0, 1.0, 1.0, 1.0, 0.0, 0.0, 0.0, 0.0, 0.0, 0.0, 0.0, 0.0, 0.0, 0.0, 0.0, 0.0, 0.0, 0.0, 0.0]}\n",
      "{'accuracy': 0.9464285714285714, 'confidence': 0.8114138100408608, 'explainability': 1.0, 'energy': 0.023205572371097348, 'latency': 6.685331991333344}\n",
      "REWARD:  3.994266511879948\n"
     ]
    },
    {
     "name": "stderr",
     "output_type": "stream",
     "text": [
      "2025-01-28 15:52:59,162:INFO -- Action: Replacing a model\n"
     ]
    },
    {
     "name": "stdout",
     "output_type": "stream",
     "text": [
      "STATE:  {'ensemble_state': {'total_energy_consumption': 0.023205572371097348, 'ensemble_size': 16}, 'model_states': {'InceptionResNetV2': {'accuracy': 0.9122807017543859, 'confidence': 0.8309823964771471, 'avg_response_time': 2.070721441380436, 'max_response_time': 2.144495518235469, 'contribution': 0.7884940044921741}, 'MobileNetV2': {'accuracy': 0.8958333333333334, 'confidence': 0.7368476974467436, 'avg_response_time': 0.08815734589155753, 'max_response_time': 0.15370382848033695, 'contribution': 0.7271990608423948}, 'ResNet50V2': {'accuracy': 0.7368421052631579, 'confidence': 0.6680571044746199, 'avg_response_time': 0.3553286982656549, 'max_response_time': 0.5175399351141425, 'contribution': 0.736587300112373}, 'ensemble': {'accuracy': 0.9473684210526315, 'confidence': 0.8133980779381754, 'avg_response_time': 6.691970654751463, 'max_response_time': 7.1781546147571245, 'contribution': 0.9374119252489325}, 'EfficientNetV2S': {'accuracy': 0.9818181818181818, 'confidence': 0.8843394734642722, 'avg_response_time': 1.1459183450198676, 'max_response_time': 1.1819608630829506, 'contribution': 0.8522913412614302}, 'NASNetLarge': {'accuracy': 1.0, 'confidence': 0.8918668473208392, 'avg_response_time': 3.8119428217961446, 'max_response_time': 3.875032026651169, 'contribution': 0.859307285812166}, 'EfficientNetB7': {'accuracy': 0.9803921568627451, 'confidence': 0.7688616274618635, 'avg_response_time': 7.121416125475242, 'max_response_time': 7.170332560053439, 'contribution': 0.7441105153046402}, 'DenseNet201': {'accuracy': 0.98, 'confidence': 0.9182302510738373, 'avg_response_time': 0.5865521146112406, 'max_response_time': 0.650878894675531, 'contribution': 0.883518694639206}, 'Xception': {'accuracy': 0.9791666666666666, 'confidence': 0.832390538106362, 'avg_response_time': 0.9875698042156769, 'max_response_time': 1.009241237339851, 'contribution': 0.802658191571633}, 'InceptionV3': {'accuracy': 0.9565217391304348, 'confidence': 0.8625439820082291, 'avg_response_time': 0.5788891976164454, 'max_response_time': 0.6264708848056196, 'contribution': 0.8426731786002284}}, 'input_state': {'input_file_length': 14, 'image_height': 224, 'image_width': 224}, 'distribution_weights': [1.0, 1.0, 1.0, 1.0, 1.0, 0.0, 0.0, 0.0, 0.0, 0.0, 0.0, 0.0, 0.0, 0.0, 0.0, 0.0, 0.0, 0.0, 0.0, 0.0]}\n",
      "{'accuracy': 0.9473684210526315, 'confidence': 0.8133980779381754, 'explainability': 1.0, 'energy': 0.023205572371097348, 'latency': 6.691970654751463}\n",
      "REWARD:  3.994341102299062\n",
      "Worst model: EfficientNetV2L with score: 0.5911481481481482\n",
      "Model 'EfficientNetV2L' successfully removed from the target YAML.\n",
      "Best model: EfficientNetV2L with score: 0.5911481481481482\n",
      "Model 'EfficientNetV2L' successfully added to the target YAML.\n"
     ]
    },
    {
     "name": "stderr",
     "output_type": "stream",
     "text": [
      "2025-01-28 15:53:00,120:INFO -- Action: Keeping the ensemble\n"
     ]
    },
    {
     "name": "stdout",
     "output_type": "stream",
     "text": [
      "STATE:  {'ensemble_state': {'total_energy_consumption': 0.023205572371097348, 'ensemble_size': 16}, 'model_states': {'InceptionResNetV2': {'accuracy': 0.896551724137931, 'confidence': 0.8166551137792653, 'avg_response_time': 2.0716390788101453, 'max_response_time': 2.144495518235469, 'contribution': 0.7901963375765702}, 'MobileNetV2': {'accuracy': 0.8775510204081632, 'confidence': 0.7218099893355856, 'avg_response_time': 0.08850190594366912, 'max_response_time': 0.15370382848033695, 'contribution': 0.7241681260722024}, 'ResNet50V2': {'accuracy': 0.717948717948718, 'confidence': 0.6509274351291168, 'avg_response_time': 0.3561910621198591, 'max_response_time': 0.5175399351141425, 'contribution': 0.7177004462633377}, 'ensemble': {'accuracy': 0.9310344827586207, 'confidence': 0.7993739731461379, 'avg_response_time': 6.697801420637242, 'max_response_time': 7.1781546147571245, 'contribution': 0.921249650675675}, 'EfficientNetV2S': {'accuracy': 0.9642857142857143, 'confidence': 0.8685476971524102, 'avg_response_time': 1.1456509830635542, 'max_response_time': 1.1819608630829506, 'contribution': 0.8523008546658924}, 'NASNetLarge': {'accuracy': 0.9818181818181818, 'confidence': 0.8756510864604603, 'avg_response_time': 3.8120914298394912, 'max_response_time': 3.875032026651169, 'contribution': 0.8590659379959107}, 'EfficientNetB7': {'accuracy': 0.9615384615384616, 'confidence': 0.7540758269337507, 'avg_response_time': 7.11955150750191, 'max_response_time': 7.170332560053439, 'contribution': 0.7298006977026279}, 'DenseNet201': {'accuracy': 0.9607843137254902, 'confidence': 0.9002257363468993, 'avg_response_time': 0.5861174408843335, 'max_response_time': 0.650878894675531, 'contribution': 0.8830638481121437}, 'Xception': {'accuracy': 0.9591836734693877, 'confidence': 0.8154029761041913, 'avg_response_time': 0.987605817295401, 'max_response_time': 1.009241237339851, 'contribution': 0.7965773100755653}, 'InceptionV3': {'accuracy': 0.9361702127659575, 'confidence': 0.8441919823910328, 'avg_response_time': 0.5790026104266766, 'max_response_time': 0.6264708848056196, 'contribution': 0.8429125433272504}}, 'input_state': {'input_file_length': 15, 'image_height': 224, 'image_width': 224}, 'distribution_weights': [1.0, 1.0, 1.0, 1.0, 1.0, 0.0, 0.0, 0.0, 0.0, 0.0, 0.0, 0.0, 0.0, 0.0, 0.0, 0.0, 0.0, 0.0, 0.0, 0.0]}\n",
      "{'accuracy': 0.9310344827586207, 'confidence': 0.7993739731461379, 'explainability': 1.0, 'energy': 0.023205572371097348, 'latency': 6.697801420637242}\n",
      "REWARD:  3.9935857885100177\n"
     ]
    },
    {
     "name": "stderr",
     "output_type": "stream",
     "text": [
      "2025-01-28 15:53:00,916:INFO -- Action: Adding a model\n"
     ]
    },
    {
     "name": "stdout",
     "output_type": "stream",
     "text": [
      "STATE:  {'ensemble_state': {'total_energy_consumption': 0.023205572371097348, 'ensemble_size': 16}, 'model_states': {'InceptionResNetV2': {'accuracy': 0.8813559322033898, 'confidence': 0.8028135016813116, 'avg_response_time': 2.0706587810906156, 'max_response_time': 2.144495518235469, 'contribution': 0.7768031793125605}, 'MobileNetV2': {'accuracy': 0.88, 'confidence': 0.718932603597641, 'avg_response_time': 0.08864103398290336, 'max_response_time': 0.15370382848033695, 'contribution': 0.7212435775995254}, 'ResNet50V2': {'accuracy': 0.7, 'confidence': 0.6346542492508889, 'avg_response_time': 0.3573724086233932, 'max_response_time': 0.5175399351141425, 'contribution': 0.6997579351067543}, 'ensemble': {'accuracy': 0.9322033898305084, 'confidence': 0.7967378852216035, 'avg_response_time': 6.70547227807695, 'max_response_time': 7.1781546147571245, 'contribution': 0.9220606068433341}, 'EfficientNetV2S': {'accuracy': 0.9649122807017544, 'confidence': 0.869382361570994, 'avg_response_time': 1.1457092824173822, 'max_response_time': 1.1819608630829506, 'contribution': 0.8534205514088011}, 'NASNetLarge': {'accuracy': 0.9821428571428571, 'confidence': 0.874928413757256, 'avg_response_time': 3.8119828297460003, 'max_response_time': 3.875032026651169, 'contribution': 0.8586394286581448}, 'EfficientNetB7': {'accuracy': 0.9622641509433962, 'confidence': 0.7556134209317981, 'avg_response_time': 7.119935660745918, 'max_response_time': 7.170332560053439, 'contribution': 0.7317963130069229}, 'DenseNet201': {'accuracy': 0.9615384615384616, 'confidence': 0.8966458187653468, 'avg_response_time': 0.5858895948895921, 'max_response_time': 0.650878894675531, 'contribution': 0.8798139668427981}, 'Xception': {'accuracy': 0.96, 'confidence': 0.8100010895729065, 'avg_response_time': 0.987467917838915, 'max_response_time': 1.009241237339851, 'contribution': 0.7915519368648529}, 'InceptionV3': {'accuracy': 0.9166666666666666, 'confidence': 0.8266046494245529, 'avg_response_time': 0.5789073861173849, 'max_response_time': 0.6264708848056196, 'contribution': 0.825351865341266}}, 'input_state': {'input_file_length': 15, 'image_height': 224, 'image_width': 224}, 'distribution_weights': [1.0, 1.0, 1.0, 1.0, 1.0, 0.0, 0.0, 0.0, 0.0, 0.0, 0.0, 0.0, 0.0, 0.0, 0.0, 0.0, 0.0, 0.0, 0.0, 0.0]}\n",
      "{'accuracy': 0.9322033898305084, 'confidence': 0.7967378852216035, 'explainability': 1.0, 'energy': 0.023205572371097348, 'latency': 6.70547227807695}\n",
      "REWARD:  3.9935413073196986\n",
      "No eligible models to score.\n"
     ]
    },
    {
     "name": "stderr",
     "output_type": "stream",
     "text": [
      "2025-01-28 15:53:01,683:INFO -- Action: Adding a model\n"
     ]
    },
    {
     "name": "stdout",
     "output_type": "stream",
     "text": [
      "STATE:  {'ensemble_state': {'total_energy_consumption': 0.023205572371097348, 'ensemble_size': 16}, 'model_states': {'InceptionResNetV2': {'accuracy': 0.8833333333333333, 'confidence': 0.8038956721623739, 'avg_response_time': 2.07065918161156, 'max_response_time': 2.144495518235469, 'contribution': 0.7783188551664353}, 'MobileNetV2': {'accuracy': 0.8823529411764706, 'confidence': 0.723119060198466, 'avg_response_time': 0.08889732427909282, 'max_response_time': 0.15370382848033695, 'contribution': 0.7253847209846273}, 'ResNet50V2': {'accuracy': 0.7073170731707317, 'confidence': 0.6432148508909272, 'avg_response_time': 0.35836684177271544, 'max_response_time': 0.5175399351141425, 'contribution': 0.7067306419698204}, 'ensemble': {'accuracy': 0.9333333333333333, 'confidence': 0.7980528444911211, 'avg_response_time': 6.712670887021553, 'max_response_time': 7.1781546147571245, 'contribution': 0.9233191937208176}, 'EfficientNetV2S': {'accuracy': 0.9655172413793104, 'confidence': 0.8698511411403788, 'avg_response_time': 1.1455894218107623, 'max_response_time': 1.1819608630829506, 'contribution': 0.854164534601672}, 'NASNetLarge': {'accuracy': 0.9824561403508771, 'confidence': 0.874842856013984, 'avg_response_time': 3.8120225157264342, 'max_response_time': 3.875032026651169, 'contribution': 0.8588396425832782}, 'EfficientNetB7': {'accuracy': 0.9629629629629629, 'confidence': 0.7570202201604843, 'avg_response_time': 7.120071634355929, 'max_response_time': 7.170332560053439, 'contribution': 0.7336441697897734}, 'DenseNet201': {'accuracy': 0.9622641509433962, 'confidence': 0.8980312223704356, 'avg_response_time': 0.5857587200954347, 'max_response_time': 0.650878894675531, 'contribution': 0.881516952559633}, 'Xception': {'accuracy': 0.9607843137254902, 'confidence': 0.813177203430849, 'avg_response_time': 0.9872643093716614, 'max_response_time': 1.009241237339851, 'contribution': 0.7950897988151101}, 'InceptionV3': {'accuracy': 0.9183673469387755, 'confidence': 0.8293996368135724, 'avg_response_time': 0.5782331897991859, 'max_response_time': 0.6264708848056196, 'contribution': 0.8281724197523934}}, 'input_state': {'input_file_length': 14, 'image_height': 224, 'image_width': 224}, 'distribution_weights': [1.0, 1.0, 1.0, 1.0, 1.0, 0.0, 0.0, 0.0, 0.0, 0.0, 0.0, 0.0, 0.0, 0.0, 0.0, 0.0, 0.0, 0.0, 0.0, 0.0]}\n",
      "{'accuracy': 0.9333333333333333, 'confidence': 0.7980528444911211, 'explainability': 1.0, 'energy': 0.023205572371097348, 'latency': 6.712670887021553}\n",
      "REWARD:  3.993603421325421\n",
      "No eligible models to score.\n"
     ]
    },
    {
     "name": "stderr",
     "output_type": "stream",
     "text": [
      "2025-01-28 15:53:02,432:INFO -- Action: Adding a model\n"
     ]
    },
    {
     "name": "stdout",
     "output_type": "stream",
     "text": [
      "STATE:  {'ensemble_state': {'total_energy_consumption': 0.023205572371097348, 'ensemble_size': 16}, 'model_states': {'InceptionResNetV2': {'accuracy': 0.8852459016393442, 'confidence': 0.8049418007741209, 'avg_response_time': 2.0700724146197516, 'max_response_time': 2.144495518235469, 'contribution': 0.7797842758600829}, 'MobileNetV2': {'accuracy': 0.8846153846153846, 'confidence': 0.7208758340432093, 'avg_response_time': 0.08915521608903419, 'max_response_time': 0.15370382848033695, 'contribution': 0.7230979244296367}, 'ResNet50V2': {'accuracy': 0.6904761904761905, 'confidence': 0.6279002115840003, 'avg_response_time': 0.35945333368148635, 'max_response_time': 0.5175399351141425, 'contribution': 0.6899037219229198}, 'ensemble': {'accuracy': 0.9344262295081968, 'confidence': 0.7957096745157461, 'avg_response_time': 6.719547078673356, 'max_response_time': 7.1781546147571245, 'contribution': 0.9224075596840655}, 'EfficientNetV2S': {'accuracy': 0.9661016949152542, 'confidence': 0.8659605303053128, 'avg_response_time': 1.145582352884884, 'max_response_time': 1.1819608630829506, 'contribution': 0.8505397984537028}, 'NASNetLarge': {'accuracy': 0.9827586206896551, 'confidence': 0.8726179825848547, 'avg_response_time': 3.811676810667913, 'max_response_time': 3.875032026651169, 'contribution': 0.856890686627092}, 'EfficientNetB7': {'accuracy': 0.9454545454545454, 'confidence': 0.7432562161575664, 'avg_response_time': 7.120081412293374, 'max_response_time': 7.170332560053439, 'contribution': 0.7203051848845048}, 'DenseNet201': {'accuracy': 0.9629629629629629, 'confidence': 0.8938332707793625, 'avg_response_time': 0.5859248130476681, 'max_response_time': 0.650878894675531, 'contribution': 0.877624820779871}, 'Xception': {'accuracy': 0.9423076923076923, 'confidence': 0.797539180287948, 'avg_response_time': 0.987039988189445, 'max_response_time': 1.009241237339851, 'contribution': 0.779799610376358}, 'InceptionV3': {'accuracy': 0.92, 'confidence': 0.8266776287555695, 'avg_response_time': 0.5778013523398106, 'max_response_time': 0.6264708848056196, 'contribution': 0.825474956035614}}, 'input_state': {'input_file_length': 15, 'image_height': 224, 'image_width': 224}, 'distribution_weights': [1.0, 1.0, 1.0, 1.0, 1.0, 0.0, 0.0, 0.0, 0.0, 0.0, 0.0, 0.0, 0.0, 0.0, 0.0, 0.0, 0.0, 0.0, 0.0, 0.0]}\n",
      "{'accuracy': 0.9344262295081968, 'confidence': 0.7957096745157461, 'explainability': 1.0, 'energy': 0.023205572371097348, 'latency': 6.719547078673356}\n",
      "REWARD:  3.9935649829529343\n",
      "No eligible models to score.\n"
     ]
    },
    {
     "name": "stderr",
     "output_type": "stream",
     "text": [
      "2025-01-28 15:53:03,125:INFO -- Action: Replacing a model\n"
     ]
    },
    {
     "name": "stdout",
     "output_type": "stream",
     "text": [
      "STATE:  {'ensemble_state': {'total_energy_consumption': 0.023205572371097348, 'ensemble_size': 16}, 'model_states': {'InceptionResNetV2': {'accuracy': 0.8870967741935484, 'confidence': 0.8060365453843148, 'avg_response_time': 2.0704779086841807, 'max_response_time': 2.144495518235469, 'contribution': 0.7812847870011483}, 'MobileNetV2': {'accuracy': 0.8867924528301887, 'confidence': 0.7172681914185578, 'avg_response_time': 0.0890326884494135, 'max_response_time': 0.15370382848033695, 'contribution': 0.719448355571279}, 'ResNet50V2': {'accuracy': 0.6976744186046512, 'confidence': 0.6331694278606149, 'avg_response_time': 0.36047994423014423, 'max_response_time': 0.5175399351141425, 'contribution': 0.6937309960986293}, 'ensemble': {'accuracy': 0.9354838709677419, 'confidence': 0.7947479374243144, 'avg_response_time': 6.725866272085691, 'max_response_time': 7.1781546147571245, 'contribution': 0.9221790519452864}, 'EfficientNetV2S': {'accuracy': 0.9666666666666667, 'confidence': 0.8663717816273372, 'avg_response_time': 1.1453236849201127, 'max_response_time': 1.1819608630829506, 'contribution': 0.8512080619732539}, 'NASNetLarge': {'accuracy': 0.9830508474576272, 'confidence': 0.8722960181155447, 'avg_response_time': 3.811995357284616, 'max_response_time': 3.875032026651169, 'contribution': 0.8568352864960492}, 'EfficientNetB7': {'accuracy': 0.9464285714285714, 'confidence': 0.7383173826549735, 'avg_response_time': 7.119754795559664, 'max_response_time': 7.170332560053439, 'contribution': 0.7157761912260737}, 'DenseNet201': {'accuracy': 0.9636363636363636, 'confidence': 0.890500690720298, 'avg_response_time': 0.5848870264317572, 'max_response_time': 0.650878894675531, 'contribution': 0.8745869398117065}, 'Xception': {'accuracy': 0.9433962264150944, 'confidence': 0.7948809580982856, 'avg_response_time': 0.9873996835412002, 'max_response_time': 1.009241237339851, 'contribution': 0.7774760970529521}, 'InceptionV3': {'accuracy': 0.9215686274509803, 'confidence': 0.8212364327673819, 'avg_response_time': 0.5775562596305603, 'max_response_time': 0.6264708848056196, 'contribution': 0.8200573418654648}}, 'input_state': {'input_file_length': 15, 'image_height': 224, 'image_width': 224}, 'distribution_weights': [1.0, 1.0, 1.0, 1.0, 1.0, 0.0, 0.0, 0.0, 0.0, 0.0, 0.0, 0.0, 0.0, 0.0, 0.0, 0.0, 0.0, 0.0, 0.0, 0.0]}\n",
      "{'accuracy': 0.9354838709677419, 'confidence': 0.7947479374243144, 'explainability': 1.0, 'energy': 0.023205572371097348, 'latency': 6.725866272085691}\n",
      "REWARD:  3.9935632856773435\n",
      "Worst model: EfficientNetV2L with score: 0.5911481481481482\n",
      "Model 'EfficientNetV2L' successfully removed from the target YAML.\n",
      "Best model: EfficientNetV2L with score: 0.5911481481481482\n",
      "Model 'EfficientNetV2L' successfully added to the target YAML.\n"
     ]
    },
    {
     "name": "stderr",
     "output_type": "stream",
     "text": [
      "2025-01-28 15:53:03,998:INFO -- Action: Keeping the ensemble\n"
     ]
    },
    {
     "name": "stdout",
     "output_type": "stream",
     "text": [
      "STATE:  {'ensemble_state': {'total_energy_consumption': 0.023205572371097348, 'ensemble_size': 16}, 'model_states': {'InceptionResNetV2': {'accuracy': 0.8888888888888888, 'confidence': 0.8080731403260004, 'avg_response_time': 2.0707116493797426, 'max_response_time': 2.144495518235469, 'contribution': 0.783714266996535}, 'MobileNetV2': {'accuracy': 0.8888888888888888, 'confidence': 0.7219365217067577, 'avg_response_time': 0.08933482660093123, 'max_response_time': 0.15370382848033695, 'contribution': 0.7240763124492433}, 'ResNet50V2': {'accuracy': 0.7045454545454546, 'confidence': 0.6415002698248083, 'avg_response_time': 0.3612776866963381, 'max_response_time': 0.5175399351141425, 'contribution': 0.700685438784686}, 'ensemble': {'accuracy': 0.9365079365079365, 'confidence': 0.7971289483896419, 'avg_response_time': 6.731987328188378, 'max_response_time': 7.1781546147571245, 'contribution': 0.9234105462119693}, 'EfficientNetV2S': {'accuracy': 0.9672131147540983, 'confidence': 0.8668283927636068, 'avg_response_time': 1.1453557882293053, 'max_response_time': 1.1819608630829506, 'contribution': 0.8519132586776234}, 'NASNetLarge': {'accuracy': 0.9833333333333333, 'confidence': 0.8726111729939778, 'avg_response_time': 3.812511094519024, 'max_response_time': 3.875032026651169, 'contribution': 0.8574081202348073}, 'EfficientNetB7': {'accuracy': 0.9473684210526315, 'confidence': 0.7391615891665743, 'avg_response_time': 7.119393923938349, 'max_response_time': 7.170332560053439, 'contribution': 0.7170158572364271}, 'DenseNet201': {'accuracy': 0.9642857142857143, 'confidence': 0.8922733728374753, 'avg_response_time': 0.5846805103789542, 'max_response_time': 0.650878894675531, 'contribution': 0.8766437960522515}, 'Xception': {'accuracy': 0.9444444444444444, 'confidence': 0.7977027705422154, 'avg_response_time': 0.9879913603878511, 'max_response_time': 1.0193502332603366, 'contribution': 0.7806202217384621}, 'InceptionV3': {'accuracy': 0.9230769230769231, 'confidence': 0.8241898451860135, 'avg_response_time': 0.577238502193887, 'max_response_time': 0.6264708848056196, 'contribution': 0.8230334291091332}}, 'input_state': {'input_file_length': 14, 'image_height': 224, 'image_width': 224}, 'distribution_weights': [1.0, 1.0, 1.0, 1.0, 1.0, 0.0, 0.0, 0.0, 0.0, 0.0, 0.0, 0.0, 0.0, 0.0, 0.0, 0.0, 0.0, 0.0, 0.0, 0.0]}\n",
      "{'accuracy': 0.9365079365079365, 'confidence': 0.7971289483896419, 'explainability': 1.0, 'energy': 0.023205572371097348, 'latency': 6.731987328188378}\n",
      "REWARD:  3.993652002168208\n"
     ]
    },
    {
     "name": "stderr",
     "output_type": "stream",
     "text": [
      "2025-01-28 15:53:04,746:INFO -- Action: Keeping the ensemble\n"
     ]
    },
    {
     "name": "stdout",
     "output_type": "stream",
     "text": [
      "STATE:  {'ensemble_state': {'total_energy_consumption': 0.023205572371097348, 'ensemble_size': 16}, 'model_states': {'InceptionResNetV2': {'accuracy': 0.890625, 'confidence': 0.8037645695731044, 'avg_response_time': 2.070190093735619, 'max_response_time': 2.144495518235469, 'contribution': 0.7769896234385669}, 'MobileNetV2': {'accuracy': 0.8727272727272727, 'confidence': 0.7088104031302712, 'avg_response_time': 0.0896000523367823, 'max_response_time': 0.15370382848033695, 'contribution': 0.7259654375639829}, 'ResNet50V2': {'accuracy': 0.6888888888888889, 'confidence': 0.6272447082731459, 'avg_response_time': 0.3616187336337718, 'max_response_time': 0.5175399351141425, 'contribution': 0.7073165628645155}, 'ensemble': {'accuracy': 0.921875, 'confidence': 0.7846738085710537, 'avg_response_time': 6.738483906762805, 'max_response_time': 7.1781546147571245, 'contribution': 0.9245929755270481}, 'EfficientNetV2S': {'accuracy': 0.9516129032258065, 'confidence': 0.8528472896545164, 'avg_response_time': 1.1453797790985416, 'max_response_time': 1.1819608630829506, 'contribution': 0.8498974269436251}, 'NASNetLarge': {'accuracy': 0.9672131147540983, 'confidence': 0.8583060717973553, 'avg_response_time': 3.8128134861321374, 'max_response_time': 3.875032026651169, 'contribution': 0.8549302386455848}, 'EfficientNetB7': {'accuracy': 0.9310344827586207, 'confidence': 0.7264174238361162, 'avg_response_time': 7.119630550399583, 'max_response_time': 7.170332560053439, 'contribution': 0.7146718471214689}, 'DenseNet201': {'accuracy': 0.9473684210526315, 'confidence': 0.8766194540157652, 'avg_response_time': 0.5842929023263452, 'max_response_time': 0.650878894675531, 'contribution': 0.8760143738043936}, 'Xception': {'accuracy': 0.9272727272727272, 'confidence': 0.7831990838050842, 'avg_response_time': 0.9877106287392422, 'max_response_time': 1.0193502332603366, 'contribution': 0.7783002777533098}, 'InceptionV3': {'accuracy': 0.9056603773584906, 'confidence': 0.8086390933900509, 'avg_response_time': 0.5769877782144942, 'max_response_time': 0.6264708848056196, 'contribution': 0.8230832534016304}}, 'input_state': {'input_file_length': 15, 'image_height': 224, 'image_width': 224}, 'distribution_weights': [1.0, 1.0, 1.0, 1.0, 1.0, 0.0, 0.0, 0.0, 0.0, 0.0, 0.0, 0.0, 0.0, 0.0, 0.0, 0.0, 0.0, 0.0, 0.0, 0.0]}\n",
      "{'accuracy': 0.921875, 'confidence': 0.7846738085710537, 'explainability': 1.0, 'energy': 0.023205572371097348, 'latency': 6.738483906762805}\n",
      "REWARD:  3.9929680597151775\n"
     ]
    },
    {
     "name": "stderr",
     "output_type": "stream",
     "text": [
      "2025-01-28 15:53:05,409:INFO -- Action: Keeping the ensemble\n"
     ]
    },
    {
     "name": "stdout",
     "output_type": "stream",
     "text": [
      "STATE:  {'ensemble_state': {'total_energy_consumption': 0.023205572371097348, 'ensemble_size': 16}, 'model_states': {'InceptionResNetV2': {'accuracy': 0.8923076923076924, 'confidence': 0.8062421312698951, 'avg_response_time': 2.069044649072357, 'max_response_time': 2.144495518235469, 'contribution': 0.7798791073835813}, 'MobileNetV2': {'accuracy': 0.8571428571428571, 'confidence': 0.696153074502945, 'avg_response_time': 0.08977609986459946, 'max_response_time': 0.15370382848033695, 'contribution': 0.7130017690360546}, 'ResNet50V2': {'accuracy': 0.6956521739130435, 'confidence': 0.6208981463442678, 'avg_response_time': 0.36262942471752024, 'max_response_time': 0.5175399351141425, 'contribution': 0.6992293084445207}, 'ensemble': {'accuracy': 0.9230769230769231, 'confidence': 0.7834055771064544, 'avg_response_time': 6.743886841858051, 'max_response_time': 7.1781546147571245, 'contribution': 0.9252832284340492}, 'EfficientNetV2S': {'accuracy': 0.9523809523809523, 'confidence': 0.853989703314645, 'avg_response_time': 1.1454273854583614, 'max_response_time': 1.1819608630829506, 'contribution': 0.8510866638213869}, 'NASNetLarge': {'accuracy': 0.967741935483871, 'confidence': 0.85905723802505, 'avg_response_time': 3.8127368351458224, 'max_response_time': 3.875032026651169, 'contribution': 0.8557358537950823}, 'EfficientNetB7': {'accuracy': 0.9322033898305084, 'confidence': 0.7283696618120549, 'avg_response_time': 7.119080451036095, 'max_response_time': 7.170332560053439, 'contribution': 0.7168231626688424}, 'DenseNet201': {'accuracy': 0.9482758620689655, 'confidence': 0.878220142989323, 'avg_response_time': 0.5840830719627477, 'max_response_time': 0.650878894675531, 'contribution': 0.8776254951953888}, 'Xception': {'accuracy': 0.9285714285714286, 'confidence': 0.7770959388996873, 'avg_response_time': 0.9874235201097544, 'max_response_time': 1.0193502332603366, 'contribution': 0.7722846115274089}, 'InceptionV3': {'accuracy': 0.9074074074074074, 'confidence': 0.8111458917458853, 'avg_response_time': 0.5768766999323877, 'max_response_time': 0.6264708848056196, 'contribution': 0.8253225673128057}}, 'input_state': {'input_file_length': 15, 'image_height': 224, 'image_width': 224}, 'distribution_weights': [1.0, 1.0, 1.0, 1.0, 1.0, 0.0, 0.0, 0.0, 0.0, 0.0, 0.0, 0.0, 0.0, 0.0, 0.0, 0.0, 0.0, 0.0, 0.0, 0.0]}\n",
      "{'accuracy': 0.9230769230769231, 'confidence': 0.7834055771064544, 'explainability': 1.0, 'energy': 0.023205572371097348, 'latency': 6.743886841858051}\n",
      "REWARD:  3.992961227636471\n",
      "STATE:  {'ensemble_state': {'total_energy_consumption': 0.023205572371097348, 'ensemble_size': 16}, 'model_states': {'InceptionResNetV2': {'accuracy': 0.8939393939393939, 'confidence': 0.8075739813573433, 'avg_response_time': 2.0691754668266937, 'max_response_time': 2.144495518235469, 'contribution': 0.7816103972268827}, 'MobileNetV2': {'accuracy': 0.8596491228070176, 'confidence': 0.6986335986538937, 'avg_response_time': 0.09005419319474164, 'max_response_time': 0.15370382848033695, 'contribution': 0.7151867020548436}, 'ResNet50V2': {'accuracy': 0.7021276595744681, 'confidence': 0.6286883094209306, 'avg_response_time': 0.36314023206144985, 'max_response_time': 0.5175399351141425, 'contribution': 0.7053528510509653}, 'ensemble': {'accuracy': 0.9242424242424242, 'confidence': 0.7844520115883453, 'avg_response_time': 6.749647021498158, 'max_response_time': 7.1781546147571245, 'contribution': 0.9262376671487634}, 'EfficientNetV2S': {'accuracy': 0.953125, 'confidence': 0.8549504028633237, 'avg_response_time': 1.1454724186770753, 'max_response_time': 1.1819608630829506, 'contribution': 0.8520927233621478}, 'NASNetLarge': {'accuracy': 0.9682539682539683, 'confidence': 0.8597320904807438, 'avg_response_time': 3.8127967502870277, 'max_response_time': 3.875032026651169, 'contribution': 0.8564634266353789}, 'EfficientNetB7': {'accuracy': 0.9333333333333333, 'confidence': 0.7279011194904645, 'avg_response_time': 7.119019406447077, 'max_response_time': 7.170332560053439, 'contribution': 0.7165470619996389}, 'DenseNet201': {'accuracy': 0.9491525423728814, 'confidence': 0.8799834847450256, 'avg_response_time': 0.5816011925255216, 'max_response_time': 0.650878894675531, 'contribution': 0.8793989157272597}, 'Xception': {'accuracy': 0.9298245614035088, 'confidence': 0.7783957411322677, 'avg_response_time': 0.9877110405714566, 'max_response_time': 1.0193502332603366, 'contribution': 0.7736688230121345}, 'InceptionV3': {'accuracy': 0.9090909090909091, 'confidence': 0.8141119371760975, 'avg_response_time': 0.5769199046663029, 'max_response_time': 0.6264708848056196, 'contribution': 0.8280308550054377}}, 'input_state': {'input_file_length': 15, 'image_height': 224, 'image_width': 224}, 'distribution_weights': [1.0, 1.0, 1.0, 1.0, 1.0, 0.0, 0.0, 0.0, 0.0, 0.0, 0.0, 0.0, 0.0, 0.0, 0.0, 0.0, 0.0, 0.0, 0.0, 0.0]}\n",
      "{'accuracy': 0.9242424242424242, 'confidence': 0.7844520115883453, 'explainability': 1.0, 'energy': 0.023205572371097348, 'latency': 6.749647021498158}\n",
      "REWARD:  3.99301761402416\n"
     ]
    },
    {
     "name": "stderr",
     "output_type": "stream",
     "text": [
      "2025-01-28 15:53:06,293:INFO -- Action: Adding a model\n"
     ]
    },
    {
     "name": "stdout",
     "output_type": "stream",
     "text": [
      "No eligible models to score.\n"
     ]
    },
    {
     "name": "stderr",
     "output_type": "stream",
     "text": [
      "2025-01-28 15:53:06,985:INFO -- Action: Replacing a model\n"
     ]
    },
    {
     "name": "stdout",
     "output_type": "stream",
     "text": [
      "STATE:  {'ensemble_state': {'total_energy_consumption': 0.023205572371097348, 'ensemble_size': 16}, 'model_states': {'InceptionResNetV2': {'accuracy': 0.8955223880597015, 'confidence': 0.8094009792626794, 'avg_response_time': 2.0692149332817515, 'max_response_time': 2.144495518235469, 'contribution': 0.7838249113132705}, 'MobileNetV2': {'accuracy': 0.8620689655172413, 'confidence': 0.7027200861223812, 'avg_response_time': 0.0902127091243143, 'max_response_time': 0.15370382848033695, 'contribution': 0.7189877911888319}, 'ResNet50V2': {'accuracy': 0.7083333333333334, 'confidence': 0.6364051817605892, 'avg_response_time': 0.36373126582356363, 'max_response_time': 0.5175399351141425, 'contribution': 0.7114725454399983}, 'ensemble': {'accuracy': 0.9253731343283582, 'confidence': 0.7850544175269385, 'avg_response_time': 6.754552585219378, 'max_response_time': 7.1781546147571245, 'contribution': 0.9273251375155662}, 'EfficientNetV2S': {'accuracy': 0.9538461538461539, 'confidence': 0.8550038117628831, 'avg_response_time': 1.145194158415688, 'max_response_time': 1.1819608630829506, 'contribution': 0.8521900965617253}, 'NASNetLarge': {'accuracy': 0.96875, 'confidence': 0.8605528753250837, 'avg_response_time': 3.810868482031055, 'max_response_time': 3.875032026651169, 'contribution': 0.8573352843523026}, 'EfficientNetB7': {'accuracy': 0.9344262295081968, 'confidence': 0.7276083636479299, 'avg_response_time': 7.118206260152211, 'max_response_time': 7.170332560053439, 'contribution': 0.7164404382471179}, 'DenseNet201': {'accuracy': 0.95, 'confidence': 0.8808615426222484, 'avg_response_time': 0.5827923124791584, 'max_response_time': 0.6530683897437307, 'contribution': 0.8802867164214452}, 'Xception': {'accuracy': 0.9310344827586207, 'confidence': 0.7819205620165529, 'avg_response_time': 0.9876595217723663, 'max_response_time': 1.0193502332603366, 'contribution': 0.7772751424846978}, 'InceptionV3': {'accuracy': 0.9107142857142857, 'confidence': 0.817370339163712, 'avg_response_time': 0.5774780926374241, 'max_response_time': 0.6264708848056196, 'contribution': 0.8310407048889569}}, 'input_state': {'input_file_length': 15, 'image_height': 224, 'image_width': 224}, 'distribution_weights': [1.0, 1.0, 1.0, 1.0, 1.0, 0.0, 0.0, 0.0, 0.0, 0.0, 0.0, 0.0, 0.0, 0.0, 0.0, 0.0, 0.0, 0.0, 0.0, 0.0]}\n",
      "{'accuracy': 0.9253731343283582, 'confidence': 0.7850544175269385, 'explainability': 1.0, 'energy': 0.023205572371097348, 'latency': 6.754552585219378}\n",
      "REWARD:  3.993060832426342\n",
      "Worst model: EfficientNetV2L with score: 0.5911481481481482\n",
      "Model 'EfficientNetV2L' successfully removed from the target YAML.\n",
      "Best model: EfficientNetV2L with score: 0.5911481481481482\n",
      "Model 'EfficientNetV2L' successfully added to the target YAML.\n"
     ]
    },
    {
     "name": "stderr",
     "output_type": "stream",
     "text": [
      "2025-01-28 15:53:07,932:INFO -- Action: Adding a model\n"
     ]
    },
    {
     "name": "stdout",
     "output_type": "stream",
     "text": [
      "STATE:  {'ensemble_state': {'total_energy_consumption': 0.023205572371097348, 'ensemble_size': 16}, 'model_states': {'InceptionResNetV2': {'accuracy': 0.8823529411764706, 'confidence': 0.797498023685287, 'avg_response_time': 2.0697975325008304, 'max_response_time': 2.144495518235469, 'contribution': 0.772298074382193}, 'MobileNetV2': {'accuracy': 0.864406779661017, 'confidence': 0.6962745694790856, 'avg_response_time': 0.09050310601053656, 'max_response_time': 0.15370382848033695, 'contribution': 0.7122665507308508}, 'ResNet50V2': {'accuracy': 0.6938775510204082, 'confidence': 0.6234173209083324, 'avg_response_time': 0.3646134533140961, 'max_response_time': 0.5175399351141425, 'contribution': 0.6969526975738759}, 'ensemble': {'accuracy': 0.9264705882352942, 'confidence': 0.7818059141744966, 'avg_response_time': 6.761039277092521, 'max_response_time': 7.19564763259307, 'contribution': 0.9263901193352306}, 'EfficientNetV2S': {'accuracy': 0.9545454545454546, 'confidence': 0.850520832972093, 'avg_response_time': 1.1454963926008266, 'max_response_time': 1.1819608630829506, 'contribution': 0.8477497498194376}, 'NASNetLarge': {'accuracy': 0.9692307692307692, 'confidence': 0.8606019680316631, 'avg_response_time': 3.811111440901889, 'max_response_time': 3.875032026651169, 'contribution': 0.8574338784584632}, 'EfficientNetB7': {'accuracy': 0.9354838709677419, 'confidence': 0.7255442262657227, 'avg_response_time': 7.119348888493059, 'max_response_time': 7.189049217284859, 'contribution': 0.714556428693956}, 'DenseNet201': {'accuracy': 0.9344262295081968, 'confidence': 0.8664211894645065, 'avg_response_time': 0.5847432145266128, 'max_response_time': 0.7017973373738774, 'contribution': 0.8658557866440445}, 'Xception': {'accuracy': 0.9152542372881356, 'confidence': 0.7686676711349164, 'avg_response_time': 0.9874684971931261, 'max_response_time': 1.0193502332603366, 'contribution': 0.76410098752733}, 'InceptionV3': {'accuracy': 0.9122807017543859, 'confidence': 0.8154997992933842, 'avg_response_time': 0.5788147480915261, 'max_response_time': 0.6536674535212357, 'contribution': 0.8289303340409931}}, 'input_state': {'input_file_length': 14, 'image_height': 224, 'image_width': 224}, 'distribution_weights': [1.0, 1.0, 1.0, 1.0, 1.0, 0.0, 0.0, 0.0, 0.0, 0.0, 0.0, 0.0, 0.0, 0.0, 0.0, 0.0, 0.0, 0.0, 0.0, 0.0]}\n",
      "{'accuracy': 0.9264705882352942, 'confidence': 0.7818059141744966, 'explainability': 1.0, 'energy': 0.023205572371097348, 'latency': 6.761039277092521}\n",
      "REWARD:  3.992996529409487\n",
      "No eligible models to score.\n"
     ]
    },
    {
     "name": "stderr",
     "output_type": "stream",
     "text": [
      "2025-01-28 15:53:08,622:INFO -- Action: Keeping the ensemble\n"
     ]
    },
    {
     "name": "stdout",
     "output_type": "stream",
     "text": [
      "STATE:  {'ensemble_state': {'total_energy_consumption': 0.023205572371097348, 'ensemble_size': 16}, 'model_states': {'InceptionResNetV2': {'accuracy': 0.8840579710144928, 'confidence': 0.7986536984858306, 'avg_response_time': 2.0701474778373363, 'max_response_time': 2.144495518235469, 'contribution': 0.7738189658393031}, 'MobileNetV2': {'accuracy': 0.8666666666666667, 'confidence': 0.6951000114281972, 'avg_response_time': 0.09074939347112024, 'max_response_time': 0.15370382848033695, 'contribution': 0.7108254596590996}, 'ResNet50V2': {'accuracy': 0.7, 'confidence': 0.6307870954275131, 'avg_response_time': 0.36552454185968714, 'max_response_time': 0.5175399351141425, 'contribution': 0.7028517645597457}, 'ensemble': {'accuracy': 0.927536231884058, 'confidence': 0.7825969937978491, 'avg_response_time': 6.766344684558675, 'max_response_time': 7.19564763259307, 'contribution': 0.9273396255313486}, 'EfficientNetV2S': {'accuracy': 0.9552238805970149, 'confidence': 0.8518351120735282, 'avg_response_time': 1.145417742464012, 'max_response_time': 1.1819608630829506, 'contribution': 0.8491053883709124}, 'NASNetLarge': {'accuracy': 0.9696969696969697, 'confidence': 0.8615019204038562, 'avg_response_time': 3.8107948292208995, 'max_response_time': 3.875032026651169, 'contribution': 0.8583818321878259}, 'EfficientNetB7': {'accuracy': 0.9365079365079365, 'confidence': 0.7277202270333729, 'avg_response_time': 7.119283383903082, 'max_response_time': 7.189049217284859, 'contribution': 0.7169068389468722}, 'DenseNet201': {'accuracy': 0.9354838709677419, 'confidence': 0.8680988838595729, 'avg_response_time': 0.5852196734603775, 'max_response_time': 0.7017973373738774, 'contribution': 0.8675426004394409}, 'Xception': {'accuracy': 0.9166666666666666, 'confidence': 0.7705342158675194, 'avg_response_time': 0.9877553292446345, 'max_response_time': 1.0193502332603366, 'contribution': 0.7660436436533928}, 'InceptionV3': {'accuracy': 0.9137931034482759, 'confidence': 0.8119074897519474, 'avg_response_time': 0.5790074622353197, 'max_response_time': 0.6536674535212357, 'contribution': 0.825106463555632}}, 'input_state': {'input_file_length': 14, 'image_height': 224, 'image_width': 224}, 'distribution_weights': [1.0, 1.0, 1.0, 1.0, 1.0, 0.0, 0.0, 0.0, 0.0, 0.0, 0.0, 0.0, 0.0, 0.0, 0.0, 0.0, 0.0, 0.0, 0.0, 0.0]}\n",
      "{'accuracy': 0.927536231884058, 'confidence': 0.7825969937978491, 'explainability': 1.0, 'energy': 0.023205572371097348, 'latency': 6.766344684558675}\n",
      "REWARD:  3.9930434529276138\n"
     ]
    },
    {
     "name": "stderr",
     "output_type": "stream",
     "text": [
      "2025-01-28 15:53:09,364:INFO -- Action: Keeping the ensemble\n"
     ]
    },
    {
     "name": "stdout",
     "output_type": "stream",
     "text": [
      "STATE:  {'ensemble_state': {'total_energy_consumption': 0.023205572371097348, 'ensemble_size': 16}, 'model_states': {'InceptionResNetV2': {'accuracy': 0.8857142857142857, 'confidence': 0.8006036068711962, 'avg_response_time': 2.070450530793596, 'max_response_time': 2.144495518235469, 'contribution': 0.7761236561196191}, 'MobileNetV2': {'accuracy': 0.8688524590163934, 'confidence': 0.6991007963164908, 'avg_response_time': 0.09086984423967773, 'max_response_time': 0.15370382848033695, 'contribution': 0.7145684503140997}, 'ResNet50V2': {'accuracy': 0.7058823529411765, 'confidence': 0.6380265524574354, 'avg_response_time': 0.3662434834702203, 'max_response_time': 0.5175399351141425, 'contribution': 0.7086781888615852}, 'ensemble': {'accuracy': 0.9285714285714286, 'confidence': 0.7850124997243186, 'avg_response_time': 6.771311060294363, 'max_response_time': 7.19564763259307, 'contribution': 0.9283776223659516}, 'EfficientNetV2S': {'accuracy': 0.9558823529411765, 'confidence': 0.8530599545030033, 'avg_response_time': 1.1453077138898657, 'max_response_time': 1.1819608630829506, 'contribution': 0.8503703737960142}, 'NASNetLarge': {'accuracy': 0.9701492537313433, 'confidence': 0.86265561829752, 'avg_response_time': 3.8105399778250915, 'max_response_time': 3.875032026651169, 'contribution': 0.859582098562326}, 'EfficientNetB7': {'accuracy': 0.9375, 'confidence': 0.7292131637223065, 'avg_response_time': 7.119042723676975, 'max_response_time': 7.189049217284859, 'contribution': 0.7185687348246574}, 'DenseNet201': {'accuracy': 0.9365079365079365, 'confidence': 0.8701832843205285, 'avg_response_time': 0.5848735853486742, 'max_response_time': 0.7017973373738774, 'contribution': 0.8696358307959542}, 'Xception': {'accuracy': 0.9180327868852459, 'confidence': 0.7731778108682789, 'avg_response_time': 0.9875705208119633, 'max_response_time': 1.0193502332603366, 'contribution': 0.7687608545920888}, 'InceptionV3': {'accuracy': 0.9152542372881356, 'confidence': 0.8148370183120339, 'avg_response_time': 0.5786457758752973, 'max_response_time': 0.6536674535212357, 'contribution': 0.8278122806953172}}, 'input_state': {'input_file_length': 15, 'image_height': 224, 'image_width': 224}, 'distribution_weights': [1.0, 1.0, 1.0, 1.0, 1.0, 0.0, 0.0, 0.0, 0.0, 0.0, 0.0, 0.0, 0.0, 0.0, 0.0, 0.0, 0.0, 0.0, 0.0, 0.0]}\n",
      "{'accuracy': 0.9285714285714286, 'confidence': 0.7850124997243186, 'explainability': 1.0, 'energy': 0.023205572371097348, 'latency': 6.771311060294363}\n",
      "REWARD:  3.993134594434175\n"
     ]
    },
    {
     "name": "stderr",
     "output_type": "stream",
     "text": [
      "2025-01-28 15:53:10,101:INFO -- Action: Replacing a model\n"
     ]
    },
    {
     "name": "stdout",
     "output_type": "stream",
     "text": [
      "STATE:  {'ensemble_state': {'total_energy_consumption': 0.023205572371097348, 'ensemble_size': 16}, 'model_states': {'InceptionResNetV2': {'accuracy': 0.8873239436619719, 'confidence': 0.802485960470119, 'avg_response_time': 2.07067873962288, 'max_response_time': 2.144495518235469, 'contribution': 0.7783507977572965}, 'MobileNetV2': {'accuracy': 0.8709677419354839, 'confidence': 0.7034202141146506, 'avg_response_time': 0.09091805618368551, 'max_response_time': 0.15370382848033695, 'contribution': 0.7186383898219755}, 'ResNet50V2': {'accuracy': 0.7115384615384616, 'confidence': 0.6447818605945661, 'avg_response_time': 0.36696349979190923, 'max_response_time': 0.5175399351141425, 'contribution': 0.7140748116832513}, 'ensemble': {'accuracy': 0.9295774647887324, 'confidence': 0.7868602812627994, 'avg_response_time': 6.776722749775473, 'max_response_time': 7.19564763259307, 'contribution': 0.9292461250869322}, 'EfficientNetV2S': {'accuracy': 0.9565217391304348, 'confidence': 0.8540348281031069, 'avg_response_time': 1.1451480980926434, 'max_response_time': 1.1819608630829506, 'contribution': 0.8513842268266539}, 'NASNetLarge': {'accuracy': 0.9705882352941176, 'confidence': 0.8636093314956216, 'avg_response_time': 3.810234144206752, 'max_response_time': 3.875032026651169, 'contribution': 0.8605810105800629}, 'EfficientNetB7': {'accuracy': 0.9384615384615385, 'confidence': 0.7303675344357123, 'avg_response_time': 7.1194047190074485, 'max_response_time': 7.189049217284859, 'contribution': 0.7198868659826425}, 'DenseNet201': {'accuracy': 0.9375, 'confidence': 0.8718279637396336, 'avg_response_time': 0.58410991480661, 'max_response_time': 0.7017973373738774, 'contribution': 0.8712890641763806}, 'Xception': {'accuracy': 0.9193548387096774, 'confidence': 0.7753848486369656, 'avg_response_time': 0.9878316883611215, 'max_response_time': 1.0193502332603366, 'contribution': 0.7710391335910366}, 'InceptionV3': {'accuracy': 0.9166666666666666, 'confidence': 0.8177570899327596, 'avg_response_time': 0.5778503936626849, 'max_response_time': 0.6536674535212357, 'contribution': 0.8305160979429881}}, 'input_state': {'input_file_length': 14, 'image_height': 224, 'image_width': 224}, 'distribution_weights': [1.0, 1.0, 1.0, 1.0, 1.0, 0.0, 0.0, 0.0, 0.0, 0.0, 0.0, 0.0, 0.0, 0.0, 0.0, 0.0, 0.0, 0.0, 0.0, 0.0]}\n",
      "{'accuracy': 0.9295774647887324, 'confidence': 0.7868602812627994, 'explainability': 1.0, 'energy': 0.023205572371097348, 'latency': 6.776722749775473}\n",
      "REWARD:  3.993209160529392\n",
      "Worst model: EfficientNetV2L with score: 0.5911481481481482\n",
      "Model 'EfficientNetV2L' successfully removed from the target YAML.\n",
      "Best model: EfficientNetV2L with score: 0.5911481481481482\n",
      "Model 'EfficientNetV2L' successfully added to the target YAML.\n"
     ]
    },
    {
     "name": "stderr",
     "output_type": "stream",
     "text": [
      "2025-01-28 15:53:11,005:INFO -- Action: Keeping the ensemble\n"
     ]
    },
    {
     "name": "stdout",
     "output_type": "stream",
     "text": [
      "STATE:  {'ensemble_state': {'total_energy_consumption': 0.023205572371097348, 'ensemble_size': 16}, 'model_states': {'InceptionResNetV2': {'accuracy': 0.8888888888888888, 'confidence': 0.8037867719928423, 'avg_response_time': 2.0702030496310133, 'max_response_time': 2.144495518235469, 'contribution': 0.7799868198732535}, 'MobileNetV2': {'accuracy': 0.873015873015873, 'confidence': 0.7040069860125345, 'avg_response_time': 0.0909031541886001, 'max_response_time': 0.15370382848033695, 'contribution': 0.7189836033752987}, 'ResNet50V2': {'accuracy': 0.6981132075471698, 'confidence': 0.6326161651116498, 'avg_response_time': 0.36797188190929964, 'max_response_time': 0.5175399351141425, 'contribution': 0.7006017020288503}, 'ensemble': {'accuracy': 0.9305555555555556, 'confidence': 0.7872090186015089, 'avg_response_time': 6.781620712320832, 'max_response_time': 7.19564763259307, 'contribution': 0.9300143495202065}, 'EfficientNetV2S': {'accuracy': 0.9571428571428572, 'confidence': 0.8549324895654405, 'avg_response_time': 1.1448399628230699, 'max_response_time': 1.1819608630829506, 'contribution': 0.8523197540215084}, 'NASNetLarge': {'accuracy': 0.9710144927536232, 'confidence': 0.8638689025588657, 'avg_response_time': 3.810400140964038, 'max_response_time': 3.875032026651169, 'contribution': 0.8608844703522281}, 'EfficientNetB7': {'accuracy': 0.9393939393939394, 'confidence': 0.7312065629344998, 'avg_response_time': 7.1193857994791365, 'max_response_time': 7.189049217284859, 'contribution': 0.7208846924882947}, 'DenseNet201': {'accuracy': 0.9384615384615385, 'confidence': 0.8735622763633728, 'avg_response_time': 0.5840436578972695, 'max_response_time': 0.7017973373738774, 'contribution': 0.8730316675626315}, 'Xception': {'accuracy': 0.9206349206349206, 'confidence': 0.7776519008099086, 'avg_response_time': 0.9879704799714913, 'max_response_time': 1.0193502332603366, 'contribution': 0.7733751653678833}, 'InceptionV3': {'accuracy': 0.9180327868852459, 'confidence': 0.8204630632869533, 'avg_response_time': 0.5781389735354757, 'max_response_time': 0.6536674535212357, 'contribution': 0.8330129072314403}}, 'input_state': {'input_file_length': 14, 'image_height': 224, 'image_width': 224}, 'distribution_weights': [1.0, 1.0, 1.0, 1.0, 1.0, 0.0, 0.0, 0.0, 0.0, 0.0, 0.0, 0.0, 0.0, 0.0, 0.0, 0.0, 0.0, 0.0, 0.0, 0.0]}\n",
      "{'accuracy': 0.9305555555555556, 'confidence': 0.7872090186015089, 'explainability': 1.0, 'energy': 0.023205572371097348, 'latency': 6.781620712320832}\n",
      "REWARD:  3.9932416183591872\n"
     ]
    },
    {
     "name": "stderr",
     "output_type": "stream",
     "text": [
      "2025-01-28 15:53:11,728:INFO -- Action: Keeping the ensemble\n"
     ]
    },
    {
     "name": "stdout",
     "output_type": "stream",
     "text": [
      "STATE:  {'ensemble_state': {'total_energy_consumption': 0.023205572371097348, 'ensemble_size': 16}, 'model_states': {'InceptionResNetV2': {'accuracy': 0.8904109589041096, 'confidence': 0.805360445421036, 'avg_response_time': 2.070017423911102, 'max_response_time': 2.144495518235469, 'contribution': 0.7818865200428113}, 'MobileNetV2': {'accuracy': 0.875, 'confidence': 0.7063546720892191, 'avg_response_time': 0.09101700204374728, 'max_response_time': 0.15370382848033695, 'contribution': 0.72109727980569}, 'ResNet50V2': {'accuracy': 0.6851851851851852, 'confidence': 0.6209010509429155, 'avg_response_time': 0.36900623554071843, 'max_response_time': 0.5175399351141425, 'contribution': 0.6876275964357235}, 'ensemble': {'accuracy': 0.9315068493150684, 'confidence': 0.7872918875767068, 'avg_response_time': 6.786704753793288, 'max_response_time': 7.19564763259307, 'contribution': 0.9307755329837538}, 'EfficientNetV2S': {'accuracy': 0.9577464788732394, 'confidence': 0.855470789989955, 'avg_response_time': 1.1449133253447656, 'max_response_time': 1.1819608630829506, 'contribution': 0.8528948535381908}, 'NASNetLarge': {'accuracy': 0.9714285714285714, 'confidence': 0.865072158404759, 'avg_response_time': 3.810221875245278, 'max_response_time': 3.875032026651169, 'contribution': 0.8621303609439305}, 'EfficientNetB7': {'accuracy': 0.9402985074626866, 'confidence': 0.7317554359115771, 'avg_response_time': 7.119763373446726, 'max_response_time': 7.189049217284859, 'contribution': 0.7215876232332258}, 'DenseNet201': {'accuracy': 0.9393939393939394, 'confidence': 0.8752595258481575, 'avg_response_time': 0.5839411663356364, 'max_response_time': 0.7017973373738774, 'contribution': 0.8747369565747001}, 'Xception': {'accuracy': 0.921875, 'confidence': 0.7794009591452777, 'avg_response_time': 0.9880868687849201, 'max_response_time': 1.0193502332603366, 'contribution': 0.7751910476945341}, 'InceptionV3': {'accuracy': 0.9193548387096774, 'confidence': 0.822975811458403, 'avg_response_time': 0.5783638903089533, 'max_response_time': 0.6536674535212357, 'contribution': 0.8353232385650757}}, 'input_state': {'input_file_length': 15, 'image_height': 224, 'image_width': 224}, 'distribution_weights': [1.0, 1.0, 1.0, 1.0, 1.0, 0.0, 0.0, 0.0, 0.0, 0.0, 0.0, 0.0, 0.0, 0.0, 0.0, 0.0, 0.0, 0.0, 0.0, 0.0]}\n",
      "{'accuracy': 0.9315068493150684, 'confidence': 0.7872918875767068, 'explainability': 1.0, 'energy': 0.023205572371097348, 'latency': 6.786704753793288}\n",
      "REWARD:  3.9932660914494007\n"
     ]
    },
    {
     "name": "stderr",
     "output_type": "stream",
     "text": [
      "2025-01-28 15:53:12,435:INFO -- Action: Keeping the ensemble\n"
     ]
    },
    {
     "name": "stdout",
     "output_type": "stream",
     "text": [
      "STATE:  {'ensemble_state': {'total_energy_consumption': 0.023205572371097348, 'ensemble_size': 16}, 'model_states': {'InceptionResNetV2': {'accuracy': 0.8918918918918919, 'confidence': 0.8066857956551217, 'avg_response_time': 2.0699803383070114, 'max_response_time': 2.144495518235469, 'contribution': 0.7835290854847109}, 'MobileNetV2': {'accuracy': 0.8769230769230769, 'confidence': 0.7025401032887972, 'avg_response_time': 0.09119403252465763, 'max_response_time': 0.15370382848033695, 'contribution': 0.717055901655784}, 'ResNet50V2': {'accuracy': 0.6727272727272727, 'confidence': 0.6096119409257715, 'avg_response_time': 0.3694949109585189, 'max_response_time': 0.5175399351141425, 'contribution': 0.6751252765005286}, 'ensemble': {'accuracy': 0.9324324324324325, 'confidence': 0.7865151764277794, 'avg_response_time': 6.791588502197546, 'max_response_time': 7.19564763259307, 'contribution': 0.9314917027950287}, 'EfficientNetV2S': {'accuracy': 0.9583333333333334, 'confidence': 0.8557411606113116, 'avg_response_time': 1.1452323144470833, 'max_response_time': 1.1819608630829506, 'contribution': 0.8532010010547109}, 'NASNetLarge': {'accuracy': 0.971830985915493, 'confidence': 0.8659293021954281, 'avg_response_time': 3.810066177994313, 'max_response_time': 3.875032026651169, 'contribution': 0.8630289385016535}, 'EfficientNetB7': {'accuracy': 0.9411764705882353, 'confidence': 0.7318381066708004, 'avg_response_time': 7.1199884739123505, 'max_response_time': 7.189049217284859, 'contribution': 0.7218198206494836}, 'DenseNet201': {'accuracy': 0.9402985074626866, 'confidence': 0.872656650507628, 'avg_response_time': 0.5841350724496669, 'max_response_time': 0.7017973373738774, 'contribution': 0.8721418807755655}, 'Xception': {'accuracy': 0.9230769230769231, 'confidence': 0.7784646726571597, 'avg_response_time': 0.9884264905395029, 'max_response_time': 1.0193502332603366, 'contribution': 0.774319529074889}, 'InceptionV3': {'accuracy': 0.9206349206349206, 'confidence': 0.8255281334831601, 'avg_response_time': 0.5786092024041952, 'max_response_time': 0.6536674535212357, 'contribution': 0.8376795696833778}}, 'input_state': {'input_file_length': 15, 'image_height': 224, 'image_width': 224}, 'distribution_weights': [1.0, 1.0, 1.0, 1.0, 1.0, 0.0, 0.0, 0.0, 0.0, 0.0, 0.0, 0.0, 0.0, 0.0, 0.0, 0.0, 0.0, 0.0, 0.0, 0.0]}\n",
      "{'accuracy': 0.9324324324324325, 'confidence': 0.7865151764277794, 'explainability': 1.0, 'energy': 0.023205572371097348, 'latency': 6.791588502197546}\n",
      "REWARD:  3.9932662239049703\n"
     ]
    },
    {
     "name": "stderr",
     "output_type": "stream",
     "text": [
      "2025-01-28 15:53:13,207:INFO -- Action: Adding a model\n"
     ]
    },
    {
     "name": "stdout",
     "output_type": "stream",
     "text": [
      "STATE:  {'ensemble_state': {'total_energy_consumption': 0.023205572371097348, 'ensemble_size': 16}, 'model_states': {'InceptionResNetV2': {'accuracy': 0.8933333333333333, 'confidence': 0.8082474327087402, 'avg_response_time': 2.06910437144777, 'max_response_time': 2.144495518235469, 'contribution': 0.7853994786739349}, 'MobileNetV2': {'accuracy': 0.8787878787878788, 'confidence': 0.704399312987472, 'avg_response_time': 0.09141224398472446, 'max_response_time': 0.15370382848033695, 'contribution': 0.7186951750155651}, 'ResNet50V2': {'accuracy': 0.6785714285714286, 'confidence': 0.6162875853478909, 'avg_response_time': 0.37011642719588356, 'max_response_time': 0.5175399351141425, 'contribution': 0.6806310399302414}, 'ensemble': {'accuracy': 0.9333333333333333, 'confidence': 0.7872850553269934, 'avg_response_time': 6.796134623851972, 'max_response_time': 7.19564763259307, 'contribution': 0.9322608200709025}, 'EfficientNetV2S': {'accuracy': 0.958904109589041, 'confidence': 0.8561441784035669, 'avg_response_time': 1.1452575891525445, 'max_response_time': 1.1819608630829506, 'contribution': 0.853638815553221}, 'NASNetLarge': {'accuracy': 0.9722222222222222, 'confidence': 0.8668167740106583, 'avg_response_time': 3.810156853637236, 'max_response_time': 3.875032026651169, 'contribution': 0.8639566931459639}, 'EfficientNetB7': {'accuracy': 0.9420289855072463, 'confidence': 0.7299499852933745, 'avg_response_time': 7.120044912203342, 'max_response_time': 7.189049217284859, 'contribution': 0.7200768918230913}, 'DenseNet201': {'accuracy': 0.9411764705882353, 'confidence': 0.8721099487122368, 'avg_response_time': 0.584292949739635, 'max_response_time': 0.7017973373738774, 'contribution': 0.8716027491232928}, 'Xception': {'accuracy': 0.9242424242424242, 'confidence': 0.7805696920011983, 'avg_response_time': 0.9887068016504393, 'max_response_time': 1.0193502332603366, 'contribution': 0.7764873536247195}, 'InceptionV3': {'accuracy': 0.921875, 'confidence': 0.8244530186057091, 'avg_response_time': 0.5772371114075732, 'max_response_time': 0.6536674535212357, 'contribution': 0.8364145886152983}}, 'input_state': {'input_file_length': 14, 'image_height': 224, 'image_width': 224}, 'distribution_weights': [1.0, 1.0, 1.0, 1.0, 1.0, 0.0, 0.0, 0.0, 0.0, 0.0, 0.0, 0.0, 0.0, 0.0, 0.0, 0.0, 0.0, 0.0, 0.0, 0.0]}\n",
      "{'accuracy': 0.9333333333333333, 'confidence': 0.7872850553269934, 'explainability': 1.0, 'energy': 0.023205572371097348, 'latency': 6.796134623851972}\n",
      "REWARD:  3.993308439206441\n",
      "No eligible models to score.\n"
     ]
    },
    {
     "name": "stderr",
     "output_type": "stream",
     "text": [
      "2025-01-28 15:53:13,945:INFO -- Action: Keeping the ensemble\n"
     ]
    },
    {
     "name": "stdout",
     "output_type": "stream",
     "text": [
      "STATE:  {'ensemble_state': {'total_energy_consumption': 0.023205572371097348, 'ensemble_size': 16}, 'model_states': {'InceptionResNetV2': {'accuracy': 0.8947368421052632, 'confidence': 0.8099240825364464, 'avg_response_time': 2.0688129945998655, 'max_response_time': 2.144495518235469, 'contribution': 0.7873767594757833}, 'MobileNetV2': {'accuracy': 0.8805970149253731, 'confidence': 0.7071300255718516, 'avg_response_time': 0.09158109035856193, 'max_response_time': 0.15370382848033695, 'contribution': 0.7212125165248985}, 'ResNet50V2': {'accuracy': 0.6842105263157895, 'confidence': 0.6230131225627765, 'avg_response_time': 0.37041707312702954, 'max_response_time': 0.5175399351141425, 'contribution': 0.6862277446085947}, 'ensemble': {'accuracy': 0.9342105263157895, 'confidence': 0.7894698327644893, 'avg_response_time': 6.801103550837478, 'max_response_time': 7.19564763259307, 'contribution': 0.9331474304199219}, 'EfficientNetV2S': {'accuracy': 0.9594594594594594, 'confidence': 0.8571359458807353, 'avg_response_time': 1.1457981469246612, 'max_response_time': 1.185258864289181, 'contribution': 0.8546644392851237}, 'NASNetLarge': {'accuracy': 0.9726027397260274, 'confidence': 0.8672775299581763, 'avg_response_time': 3.8106994321031036, 'max_response_time': 3.875032026651169, 'contribution': 0.8644566282834092}, 'EfficientNetB7': {'accuracy': 0.9428571428571428, 'confidence': 0.7313529095479421, 'avg_response_time': 7.120640734050821, 'max_response_time': 7.189049217284859, 'contribution': 0.7216208602700914}, 'DenseNet201': {'accuracy': 0.9420289855072463, 'confidence': 0.8739579509997714, 'avg_response_time': 0.5843588978622482, 'max_response_time': 0.7017973373738774, 'contribution': 0.8734581021295078}, 'Xception': {'accuracy': 0.9253731343283582, 'confidence': 0.783700945217218, 'avg_response_time': 0.9888392556279986, 'max_response_time': 1.0193502332603366, 'contribution': 0.7796795372642688}, 'InceptionV3': {'accuracy': 0.9230769230769231, 'confidence': 0.827072915664086, 'avg_response_time': 0.5772057346249796, 'max_response_time': 0.6536674535212357, 'contribution': 0.8388504615196815}}, 'input_state': {'input_file_length': 15, 'image_height': 224, 'image_width': 224}, 'distribution_weights': [1.0, 1.0, 1.0, 1.0, 1.0, 0.0, 0.0, 0.0, 0.0, 0.0, 0.0, 0.0, 0.0, 0.0, 0.0, 0.0, 0.0, 0.0, 0.0, 0.0]}\n",
      "{'accuracy': 0.9342105263157895, 'confidence': 0.7894698327644893, 'explainability': 1.0, 'energy': 0.023205572371097348, 'latency': 6.801103550837478}\n",
      "REWARD:  3.9933890147915534\n"
     ]
    },
    {
     "name": "stderr",
     "output_type": "stream",
     "text": [
      "2025-01-28 15:53:14,770:INFO -- Action: Adding a model\n"
     ]
    },
    {
     "name": "stdout",
     "output_type": "stream",
     "text": [
      "STATE:  {'ensemble_state': {'total_energy_consumption': 0.023205572371097348, 'ensemble_size': 16}, 'model_states': {'InceptionResNetV2': {'accuracy': 0.8961038961038961, 'confidence': 0.8080115906603924, 'avg_response_time': 2.0693303610949223, 'max_response_time': 2.144495518235469, 'contribution': 0.7857570899771406}, 'MobileNetV2': {'accuracy': 0.8676470588235294, 'confidence': 0.6967310546075597, 'avg_response_time': 0.09162547948778758, 'max_response_time': 0.15370382848033695, 'contribution': 0.7106064501054147}, 'ResNet50V2': {'accuracy': 0.6896551724137931, 'confidence': 0.6294261026999046, 'avg_response_time': 0.37104572674527836, 'max_response_time': 0.5175399351141425, 'contribution': 0.6915508174690707}, 'ensemble': {'accuracy': 0.935064935064935, 'confidence': 0.7874152653411888, 'avg_response_time': 6.804786004837827, 'max_response_time': 7.19564763259307, 'contribution': 0.9339502686029905}, 'EfficientNetV2S': {'accuracy': 0.96, 'confidence': 0.8553237533569336, 'avg_response_time': 1.1459557482930498, 'max_response_time': 1.185258864289181, 'contribution': 0.8528852001825968}, 'NASNetLarge': {'accuracy': 0.9594594594594594, 'confidence': 0.8555575633371199, 'avg_response_time': 3.8108493601820466, 'max_response_time': 3.875032026651169, 'contribution': 0.852774781955255}, 'EfficientNetB7': {'accuracy': 0.9436619718309859, 'confidence': 0.728917657909259, 'avg_response_time': 7.120000359509516, 'max_response_time': 7.189049217284859, 'contribution': 0.7193226797479979}, 'DenseNet201': {'accuracy': 0.9428571428571428, 'confidence': 0.8690109772341592, 'avg_response_time': 0.5843235142170609, 'max_response_time': 0.7017973373738774, 'contribution': 0.8685182690620422}, 'Xception': {'accuracy': 0.9117647058823529, 'confidence': 0.7721759313169647, 'avg_response_time': 0.9890199122275422, 'max_response_time': 1.0193502332603366, 'contribution': 0.7682136617162648}, 'InceptionV3': {'accuracy': 0.9242424242424242, 'confidence': 0.8210795589468696, 'avg_response_time': 0.5775256555400788, 'max_response_time': 0.6536674535212357, 'contribution': 0.8326786571379864}}, 'input_state': {'input_file_length': 14, 'image_height': 224, 'image_width': 224}, 'distribution_weights': [1.0, 1.0, 1.0, 1.0, 1.0, 0.0, 0.0, 0.0, 0.0, 0.0, 0.0, 0.0, 0.0, 0.0, 0.0, 0.0, 0.0, 0.0, 0.0, 0.0]}\n",
      "{'accuracy': 0.935064935064935, 'confidence': 0.7874152653411888, 'explainability': 1.0, 'energy': 0.023205572371097348, 'latency': 6.804786004837827}\n",
      "REWARD:  3.993352280065405\n",
      "No eligible models to score.\n"
     ]
    },
    {
     "name": "stderr",
     "output_type": "stream",
     "text": [
      "2025-01-28 15:53:15,577:INFO -- Action: Keeping the ensemble\n"
     ]
    },
    {
     "name": "stdout",
     "output_type": "stream",
     "text": [
      "STATE:  {'ensemble_state': {'total_energy_consumption': 0.023205572371097348, 'ensemble_size': 16}, 'model_states': {'InceptionResNetV2': {'accuracy': 0.8974358974358975, 'confidence': 0.8095211050449274, 'avg_response_time': 2.0692403453310706, 'max_response_time': 2.144495518235469, 'contribution': 0.7875519184729992}, 'MobileNetV2': {'accuracy': 0.8695652173913043, 'confidence': 0.700141323649365, 'avg_response_time': 0.09177857799952466, 'max_response_time': 0.15370382848033695, 'contribution': 0.7138156264588453}, 'ResNet50V2': {'accuracy': 0.6949152542372882, 'confidence': 0.6357066181756682, 'avg_response_time': 0.37126012614243276, 'max_response_time': 0.5175399351141425, 'contribution': 0.6967783716775603}, 'ensemble': {'accuracy': 0.9358974358974359, 'confidence': 0.7894526839010245, 'avg_response_time': 6.809603151239887, 'max_response_time': 7.19564763259307, 'contribution': 0.934796758951285}, 'EfficientNetV2S': {'accuracy': 0.9605263157894737, 'confidence': 0.8561596352803079, 'avg_response_time': 1.1465288656460304, 'max_response_time': 1.189512667119588, 'contribution': 0.8537531683319494}, 'NASNetLarge': {'accuracy': 0.96, 'confidence': 0.8563008149464925, 'avg_response_time': 3.8105236841706285, 'max_response_time': 3.875032026651169, 'contribution': 0.8535551373163859}, 'EfficientNetB7': {'accuracy': 0.9444444444444444, 'confidence': 0.7307116558982266, 'avg_response_time': 7.120739179567206, 'max_response_time': 7.189049217284859, 'contribution': 0.7212499413225386}, 'DenseNet201': {'accuracy': 0.9436619718309859, 'confidence': 0.8708070096835284, 'avg_response_time': 0.5845388099919543, 'max_response_time': 0.7017973373738774, 'contribution': 0.8703212410631315}, 'Xception': {'accuracy': 0.9130434782608695, 'confidence': 0.7737557849158412, 'avg_response_time': 0.988931779321036, 'max_response_time': 1.0193502332603366, 'contribution': 0.7698509395122528}, 'InceptionV3': {'accuracy': 0.9253731343283582, 'confidence': 0.8228819881802174, 'avg_response_time': 0.5774023736042447, 'max_response_time': 0.6536674535212357, 'contribution': 0.8343079655028102}}, 'input_state': {'input_file_length': 14, 'image_height': 224, 'image_width': 224}, 'distribution_weights': [1.0, 1.0, 1.0, 1.0, 1.0, 0.0, 0.0, 0.0, 0.0, 0.0, 0.0, 0.0, 0.0, 0.0, 0.0, 0.0, 0.0, 0.0, 0.0, 0.0]}\n",
      "{'accuracy': 0.9358974358974359, 'confidence': 0.7894526839010245, 'explainability': 1.0, 'energy': 0.023205572371097348, 'latency': 6.809603151239887}\n",
      "REWARD:  3.993427718148785\n"
     ]
    },
    {
     "name": "stderr",
     "output_type": "stream",
     "text": [
      "2025-01-28 15:53:16,312:INFO -- Action: Replacing a model\n"
     ]
    },
    {
     "name": "stdout",
     "output_type": "stream",
     "text": [
      "STATE:  {'ensemble_state': {'total_energy_consumption': 0.023205572371097348, 'ensemble_size': 16}, 'model_states': {'InceptionResNetV2': {'accuracy': 0.8987341772151899, 'confidence': 0.8102789694749857, 'avg_response_time': 2.0685350279490122, 'max_response_time': 2.144495518235469, 'contribution': 0.7885878738723223}, 'MobileNetV2': {'accuracy': 0.8714285714285714, 'confidence': 0.7030492033277239, 'avg_response_time': 0.09165580146555076, 'max_response_time': 0.15370382848033695, 'contribution': 0.7165281589542116}, 'ResNet50V2': {'accuracy': 0.7, 'confidence': 0.6417697126666705, 'avg_response_time': 0.37185671514959273, 'max_response_time': 0.5175399351141425, 'contribution': 0.7018236036101977}, 'ensemble': {'accuracy': 0.9367088607594937, 'confidence': 0.790438499557169, 'avg_response_time': 6.813210298404038, 'max_response_time': 7.19564763259307, 'contribution': 0.9356156896941269}, 'EfficientNetV2S': {'accuracy': 0.961038961038961, 'confidence': 0.8570996979614357, 'avg_response_time': 1.1460028812335035, 'max_response_time': 1.189512667119588, 'contribution': 0.8547244838305882}, 'NASNetLarge': {'accuracy': 0.9605263157894737, 'confidence': 0.8569896425071516, 'avg_response_time': 3.811106069587539, 'max_response_time': 3.875032026651169, 'contribution': 0.8542800922142831}, 'EfficientNetB7': {'accuracy': 0.9452054794520548, 'confidence': 0.7310029313172379, 'avg_response_time': 7.120249141131018, 'max_response_time': 7.189049217284859, 'contribution': 0.721670829269984}, 'DenseNet201': {'accuracy': 0.9444444444444444, 'confidence': 0.8723724782466888, 'avg_response_time': 0.5846626842228871, 'max_response_time': 0.7017973373738774, 'contribution': 0.8718934564126862}, 'Xception': {'accuracy': 0.9142857142857143, 'confidence': 0.7754016480275563, 'avg_response_time': 0.9889242855257263, 'max_response_time': 1.0193502332603366, 'contribution': 0.7715525861297335}, 'InceptionV3': {'accuracy': 0.9264705882352942, 'confidence': 0.8254043043536299, 'avg_response_time': 0.5753086852508436, 'max_response_time': 0.6536674535212357, 'contribution': 0.8366622525979491}}, 'input_state': {'input_file_length': 14, 'image_height': 224, 'image_width': 224}, 'distribution_weights': [1.0, 1.0, 1.0, 1.0, 1.0, 0.0, 0.0, 0.0, 0.0, 0.0, 0.0, 0.0, 0.0, 0.0, 0.0, 0.0, 0.0, 0.0, 0.0, 0.0]}\n",
      "{'accuracy': 0.9367088607594937, 'confidence': 0.790438499557169, 'explainability': 1.0, 'energy': 0.023205572371097348, 'latency': 6.813210298404038}\n",
      "REWARD:  3.9934736356767413\n",
      "Worst model: EfficientNetV2L with score: 0.5911481481481482\n",
      "Model 'EfficientNetV2L' successfully removed from the target YAML.\n",
      "Best model: EfficientNetV2L with score: 0.5911481481481482\n",
      "Model 'EfficientNetV2L' successfully added to the target YAML.\n"
     ]
    },
    {
     "name": "stderr",
     "output_type": "stream",
     "text": [
      "2025-01-28 15:53:17,255:INFO -- Action: Adding a model\n"
     ]
    },
    {
     "name": "stdout",
     "output_type": "stream",
     "text": [
      "STATE:  {'ensemble_state': {'total_energy_consumption': 0.023205572371097348, 'ensemble_size': 16}, 'model_states': {'InceptionResNetV2': {'accuracy': 0.9, 'confidence': 0.8121022962033748, 'avg_response_time': 2.070459699298447, 'max_response_time': 2.222508735903802, 'contribution': 0.7906823392957449}, 'MobileNetV2': {'accuracy': 0.8732394366197183, 'confidence': 0.7000495052673448, 'avg_response_time': 0.09200661977949144, 'max_response_time': 0.15370382848033695, 'contribution': 0.7133386164483889}, 'ResNet50V2': {'accuracy': 0.7049180327868853, 'confidence': 0.6460176437604622, 'avg_response_time': 0.3724904833480773, 'max_response_time': 0.5175399351141425, 'contribution': 0.7050870446885218}, 'ensemble': {'accuracy': 0.9375, 'confidence': 0.7898651258713216, 'avg_response_time': 6.816960928449667, 'max_response_time': 7.19564763259307, 'contribution': 0.9359130375087261}, 'EfficientNetV2S': {'accuracy': 0.9615384615384616, 'confidence': 0.8573059569566678, 'avg_response_time': 1.1456503243264708, 'max_response_time': 1.189512667119588, 'contribution': 0.8549611942890363}, 'NASNetLarge': {'accuracy': 0.961038961038961, 'confidence': 0.8577499977954022, 'avg_response_time': 3.8113370100296815, 'max_response_time': 3.875032026651169, 'contribution': 0.8550756364673763}, 'EfficientNetB7': {'accuracy': 0.9459459459459459, 'confidence': 0.7334310053973585, 'avg_response_time': 7.120027799033237, 'max_response_time': 7.189049217284859, 'contribution': 0.7242250128372295}, 'DenseNet201': {'accuracy': 0.9452054794520548, 'confidence': 0.8653914565092897, 'avg_response_time': 0.5846993851987665, 'max_response_time': 0.7017973373738774, 'contribution': 0.8649189966182186}, 'Xception': {'accuracy': 0.9154929577464789, 'confidence': 0.772689380696122, 'avg_response_time': 0.9891877957139781, 'max_response_time': 1.0193502332603366, 'contribution': 0.7688945309377052}, 'InceptionV3': {'accuracy': 0.927536231884058, 'confidence': 0.8262136582879053, 'avg_response_time': 0.5755220920119906, 'max_response_time': 0.6536674535212357, 'contribution': 0.837308447862017}}, 'input_state': {'input_file_length': 15, 'image_height': 224, 'image_width': 224}, 'distribution_weights': [1.0, 1.0, 1.0, 1.0, 1.0, 0.0, 0.0, 0.0, 0.0, 0.0, 0.0, 0.0, 0.0, 0.0, 0.0, 0.0, 0.0, 0.0, 0.0, 0.0]}\n",
      "{'accuracy': 0.9375, 'confidence': 0.7898651258713216, 'explainability': 1.0, 'energy': 0.023205572371097348, 'latency': 6.816960928449667}\n",
      "REWARD:  3.9934762107838404\n",
      "No eligible models to score.\n"
     ]
    },
    {
     "name": "stderr",
     "output_type": "stream",
     "text": [
      "2025-01-28 15:53:18,049:INFO -- Action: Adding a model\n"
     ]
    },
    {
     "name": "stdout",
     "output_type": "stream",
     "text": [
      "STATE:  {'ensemble_state': {'total_energy_consumption': 0.023205572371097348, 'ensemble_size': 16}, 'model_states': {'InceptionResNetV2': {'accuracy': 0.9012345679012346, 'confidence': 0.812990273958371, 'avg_response_time': 2.0704528071101, 'max_response_time': 2.222508735903802, 'contribution': 0.791834760963181}, 'MobileNetV2': {'accuracy': 0.875, 'confidence': 0.697559981710381, 'avg_response_time': 0.09210863752178952, 'max_response_time': 0.15370382848033695, 'contribution': 0.7106645219027996}, 'ResNet50V2': {'accuracy': 0.7096774193548387, 'confidence': 0.6516510887492087, 'avg_response_time': 0.3728498166326864, 'max_response_time': 0.5175399351141425, 'contribution': 0.7097677574042351}, 'ensemble': {'accuracy': 0.9382716049382716, 'confidence': 0.7909791321179219, 'avg_response_time': 6.8205485379075474, 'max_response_time': 7.19564763259307, 'contribution': 0.9366461016513683}, 'EfficientNetV2S': {'accuracy': 0.9620253164556962, 'confidence': 0.8580778988101815, 'avg_response_time': 1.145999098476577, 'max_response_time': 1.189512667119588, 'contribution': 0.8557628166826465}, 'NASNetLarge': {'accuracy': 0.9615384615384616, 'confidence': 0.8584588429866693, 'avg_response_time': 3.81165407955319, 'max_response_time': 3.875032026651169, 'contribution': 0.8558187683423361}, 'EfficientNetB7': {'accuracy': 0.9466666666666667, 'confidence': 0.7344272720813751, 'avg_response_time': 7.119747341345475, 'max_response_time': 7.189049217284859, 'contribution': 0.7253440260887146}, 'DenseNet201': {'accuracy': 0.9459459459459459, 'confidence': 0.8666735939882897, 'avg_response_time': 0.5853151539351344, 'max_response_time': 0.7017973373738774, 'contribution': 0.8662075186903412}, 'Xception': {'accuracy': 0.9166666666666666, 'confidence': 0.7747765469054381, 'avg_response_time': 0.9894070875973614, 'max_response_time': 1.0193502332603366, 'contribution': 0.7710344033936659}, 'InceptionV3': {'accuracy': 0.9285714285714286, 'confidence': 0.8282826887709754, 'avg_response_time': 0.5753838384606886, 'max_response_time': 0.6536674535212357, 'contribution': 0.8392189813511712}}, 'input_state': {'input_file_length': 14, 'image_height': 224, 'image_width': 224}, 'distribution_weights': [1.0, 1.0, 1.0, 1.0, 1.0, 0.0, 0.0, 0.0, 0.0, 0.0, 0.0, 0.0, 0.0, 0.0, 0.0, 0.0, 0.0, 0.0, 0.0, 0.0]}\n",
      "{'accuracy': 0.9382716049382716, 'confidence': 0.7909791321179219, 'explainability': 1.0, 'energy': 0.023205572371097348, 'latency': 6.8205485379075474}\n",
      "REWARD:  3.9935246799672677\n",
      "No eligible models to score.\n"
     ]
    },
    {
     "name": "stderr",
     "output_type": "stream",
     "text": [
      "2025-01-28 15:53:18,735:INFO -- Action: Keeping the ensemble\n"
     ]
    },
    {
     "name": "stdout",
     "output_type": "stream",
     "text": [
      "STATE:  {'ensemble_state': {'total_energy_consumption': 0.023205572371097348, 'ensemble_size': 16}, 'model_states': {'InceptionResNetV2': {'accuracy': 0.8902439024390244, 'confidence': 0.8030757584222933, 'avg_response_time': 2.0703424089324085, 'max_response_time': 2.222508735903802, 'contribution': 0.7925327358449378}, 'MobileNetV2': {'accuracy': 0.863013698630137, 'confidence': 0.6880043655225675, 'avg_response_time': 0.0923593522158095, 'max_response_time': 0.15370382848033695, 'contribution': 0.7009293914657749}, 'ResNet50V2': {'accuracy': 0.6984126984126984, 'confidence': 0.6413074206738245, 'avg_response_time': 0.3732759197864163, 'max_response_time': 0.5175399351141425, 'contribution': 0.6985016025248028}, 'ensemble': {'accuracy': 0.926829268292683, 'confidence': 0.7813330451408741, 'avg_response_time': 6.824500003887994, 'max_response_time': 7.19564763259307, 'contribution': 0.9252235882165956}, 'EfficientNetV2S': {'accuracy': 0.9625, 'confidence': 0.8513594843447209, 'avg_response_time': 1.146461746533012, 'max_response_time': 1.189512667119588, 'contribution': 0.8450657814741135}, 'NASNetLarge': {'accuracy': 0.9620253164556962, 'confidence': 0.8592759393438508, 'avg_response_time': 3.8115893618751, 'max_response_time': 3.875032026651169, 'contribution': 0.8449856193759774}, 'EfficientNetB7': {'accuracy': 0.9473684210526315, 'confidence': 0.7310666845817315, 'avg_response_time': 7.119935085861233, 'max_response_time': 7.189049217284859, 'contribution': 0.715800025745442}, 'DenseNet201': {'accuracy': 0.9333333333333333, 'confidence': 0.8551179460684458, 'avg_response_time': 0.5854052682144449, 'max_response_time': 0.7017973373738774, 'contribution': 0.8546580851078034}, 'Xception': {'accuracy': 0.9041095890410958, 'confidence': 0.7641631695505691, 'avg_response_time': 0.9895863199522226, 'max_response_time': 1.0193502332603366, 'contribution': 0.7604722882786842}, 'InceptionV3': {'accuracy': 0.9154929577464789, 'confidence': 0.816616735408004, 'avg_response_time': 0.5754644543583439, 'max_response_time': 0.6536674535212357, 'contribution': 0.8273989956983379}}, 'input_state': {'input_file_length': 15, 'image_height': 224, 'image_width': 224}, 'distribution_weights': [1.0, 1.0, 1.0, 1.0, 1.0, 0.0, 0.0, 0.0, 0.0, 0.0, 0.0, 0.0, 0.0, 0.0, 0.0, 0.0, 0.0, 0.0, 0.0, 0.0]}\n",
      "{'accuracy': 0.926829268292683, 'confidence': 0.7813330451408741, 'explainability': 1.0, 'energy': 0.023205572371097348, 'latency': 6.824500003887994}\n",
      "REWARD:  3.992991796616761\n"
     ]
    },
    {
     "name": "stderr",
     "output_type": "stream",
     "text": [
      "2025-01-28 15:53:19,471:INFO -- Action: Adding a model\n"
     ]
    },
    {
     "name": "stdout",
     "output_type": "stream",
     "text": [
      "STATE:  {'ensemble_state': {'total_energy_consumption': 0.023205572371097348, 'ensemble_size': 16}, 'model_states': {'InceptionResNetV2': {'accuracy': 0.891566265060241, 'confidence': 0.8044860032667597, 'avg_response_time': 2.0705780607254325, 'max_response_time': 2.222508735903802, 'contribution': 0.794070005057806}, 'MobileNetV2': {'accuracy': 0.8648648648648649, 'confidence': 0.6907662596251514, 'avg_response_time': 0.09229775067883302, 'max_response_time': 0.15370382848033695, 'contribution': 0.7035166230556127}, 'ResNet50V2': {'accuracy': 0.703125, 'confidence': 0.6468093390576541, 'avg_response_time': 0.3740416145598397, 'max_response_time': 0.5175399351141425, 'contribution': 0.7031098618172109}, 'ensemble': {'accuracy': 0.927710843373494, 'confidence': 0.7828917170253704, 'avg_response_time': 6.8281981976537285, 'max_response_time': 7.19564763259307, 'contribution': 0.9260968458221619}, 'EfficientNetV2S': {'accuracy': 0.9629629629629629, 'confidence': 0.8523277596191123, 'avg_response_time': 1.1465025054447762, 'max_response_time': 1.189512667119588, 'contribution': 0.8461117567839446}, 'NASNetLarge': {'accuracy': 0.9625, 'confidence': 0.860163039714098, 'avg_response_time': 3.8116912746537865, 'max_response_time': 3.875032026651169, 'contribution': 0.8460513487458229}, 'EfficientNetB7': {'accuracy': 0.948051948051948, 'confidence': 0.732078296410573, 'avg_response_time': 7.119963188143183, 'max_response_time': 7.189049217284859, 'contribution': 0.7170099058708588}, 'DenseNet201': {'accuracy': 0.9342105263157895, 'confidence': 0.8569940779554216, 'avg_response_time': 0.5852820764938719, 'max_response_time': 0.7017973373738774, 'contribution': 0.8565402677968929}, 'Xception': {'accuracy': 0.9054054054054054, 'confidence': 0.7664416436408017, 'avg_response_time': 0.9896045044829581, 'max_response_time': 1.0193502332603366, 'contribution': 0.7628006391428612}, 'InceptionV3': {'accuracy': 0.9166666666666666, 'confidence': 0.8185514455868138, 'avg_response_time': 0.575408882678047, 'max_response_time': 0.6536674535212357, 'contribution': 0.8291839522620043}}, 'input_state': {'input_file_length': 15, 'image_height': 224, 'image_width': 224}, 'distribution_weights': [1.0, 1.0, 1.0, 1.0, 1.0, 0.0, 0.0, 0.0, 0.0, 0.0, 0.0, 0.0, 0.0, 0.0, 0.0, 0.0, 0.0, 0.0, 0.0, 0.0]}\n",
      "{'accuracy': 0.927710843373494, 'confidence': 0.7828917170253704, 'explainability': 1.0, 'energy': 0.023205572371097348, 'latency': 6.8281981976537285}\n",
      "REWARD:  3.993055716553038\n",
      "No eligible models to score.\n"
     ]
    },
    {
     "name": "stderr",
     "output_type": "stream",
     "text": [
      "2025-01-28 15:53:20,145:INFO -- Action: Replacing a model\n"
     ]
    },
    {
     "name": "stdout",
     "output_type": "stream",
     "text": [
      "STATE:  {'ensemble_state': {'total_energy_consumption': 0.023205572371097348, 'ensemble_size': 16}, 'model_states': {'InceptionResNetV2': {'accuracy': 0.8928571428571429, 'confidence': 0.8061683993963968, 'avg_response_time': 2.0706890160330613, 'max_response_time': 2.222508735903802, 'contribution': 0.7958764011661211}, 'MobileNetV2': {'accuracy': 0.8666666666666667, 'confidence': 0.6938622490564982, 'avg_response_time': 0.09249431038393527, 'max_response_time': 0.15370382848033695, 'contribution': 0.7064426076412201}, 'ResNet50V2': {'accuracy': 0.7076923076923077, 'confidence': 0.6521389617369725, 'avg_response_time': 0.3742154892829808, 'max_response_time': 0.5175399351141425, 'contribution': 0.7075733226079207}, 'ensemble': {'accuracy': 0.9285714285714286, 'confidence': 0.7833481672193876, 'avg_response_time': 6.831595510233434, 'max_response_time': 7.19564763259307, 'contribution': 0.9268993855941863}, 'EfficientNetV2S': {'accuracy': 0.9634146341463414, 'confidence': 0.8527690986307656, 'avg_response_time': 1.146322283104365, 'max_response_time': 1.189512667119588, 'contribution': 0.8466289007082218}, 'NASNetLarge': {'accuracy': 0.9629629629629629, 'confidence': 0.8609320705319629, 'avg_response_time': 3.8117454011359206, 'max_response_time': 3.875032026651169, 'contribution': 0.8469945979707035}, 'EfficientNetB7': {'accuracy': 0.9487179487179487, 'confidence': 0.7329623779425254, 'avg_response_time': 7.1197518201566385, 'max_response_time': 7.189049217284859, 'contribution': 0.7180871718969101}, 'DenseNet201': {'accuracy': 0.935064935064935, 'confidence': 0.8584180462670017, 'avg_response_time': 0.5851187503496706, 'max_response_time': 0.7017973373738774, 'contribution': 0.8579701297468953}, 'Xception': {'accuracy': 0.9066666666666666, 'confidence': 0.7681622087955475, 'avg_response_time': 0.9896288383358478, 'max_response_time': 1.0193502332603366, 'contribution': 0.7645697510242462}, 'InceptionV3': {'accuracy': 0.9178082191780822, 'confidence': 0.8209481406701754, 'avg_response_time': 0.5754834233839875, 'max_response_time': 0.6536674535212357, 'contribution': 0.8314349965689933}}, 'input_state': {'input_file_length': 14, 'image_height': 224, 'image_width': 224}, 'distribution_weights': [1.0, 1.0, 1.0, 1.0, 1.0, 0.0, 0.0, 0.0, 0.0, 0.0, 0.0, 0.0, 0.0, 0.0, 0.0, 0.0, 0.0, 0.0, 0.0, 0.0]}\n",
      "{'accuracy': 0.9285714285714286, 'confidence': 0.7833481672193876, 'explainability': 1.0, 'energy': 0.023205572371097348, 'latency': 6.831595510233434}\n",
      "REWARD:  3.993088507414174\n",
      "Worst model: EfficientNetV2L with score: 0.5911481481481482\n",
      "Model 'EfficientNetV2L' successfully removed from the target YAML.\n",
      "Best model: EfficientNetV2L with score: 0.5911481481481482\n",
      "Model 'EfficientNetV2L' successfully added to the target YAML.\n"
     ]
    },
    {
     "name": "stderr",
     "output_type": "stream",
     "text": [
      "2025-01-28 15:53:21,084:INFO -- Action: Adding a model\n"
     ]
    },
    {
     "name": "stdout",
     "output_type": "stream",
     "text": [
      "STATE:  {'ensemble_state': {'total_energy_consumption': 0.023205572371097348, 'ensemble_size': 16}, 'model_states': {'InceptionResNetV2': {'accuracy': 0.8823529411764706, 'confidence': 0.796684065285851, 'avg_response_time': 2.0707100793734785, 'max_response_time': 2.222508735903802, 'contribution': 0.7865131493876962}, 'MobileNetV2': {'accuracy': 0.8552631578947368, 'confidence': 0.6847324826215443, 'avg_response_time': 0.09267016982386685, 'max_response_time': 0.15370382848033695, 'contribution': 0.6971473101722566}, 'ResNet50V2': {'accuracy': 0.696969696969697, 'confidence': 0.6422580683773215, 'avg_response_time': 0.37477206578505473, 'max_response_time': 0.5175399351141425, 'contribution': 0.6968525146896188}, 'ensemble': {'accuracy': 0.9294117647058824, 'confidence': 0.7807273033717647, 'avg_response_time': 6.835869809360453, 'max_response_time': 7.19564763259307, 'contribution': 0.9261631488800048}, 'EfficientNetV2S': {'accuracy': 0.963855421686747, 'confidence': 0.8501471273870354, 'avg_response_time': 1.14623613817824, 'max_response_time': 1.189512667119588, 'contribution': 0.8440809077527149}, 'NASNetLarge': {'accuracy': 0.9634146341463414, 'confidence': 0.8609733777802165, 'avg_response_time': 3.811431622835686, 'max_response_time': 3.875032026651169, 'contribution': 0.8472058743965335}, 'EfficientNetB7': {'accuracy': 0.9367088607594937, 'confidence': 0.7236843731584428, 'avg_response_time': 7.120552612271646, 'max_response_time': 7.189049217284859, 'contribution': 0.7089974608602403}, 'DenseNet201': {'accuracy': 0.9358974358974359, 'confidence': 0.8549611258965272, 'avg_response_time': 0.5852450635311794, 'max_response_time': 0.7017973373738774, 'contribution': 0.8545189518959094}, 'Xception': {'accuracy': 0.8947368421052632, 'confidence': 0.7580548113113955, 'avg_response_time': 0.989633167121917, 'max_response_time': 1.0193502332603366, 'contribution': 0.7545096227212956}, 'InceptionV3': {'accuracy': 0.9054054054054054, 'confidence': 0.8098542468773352, 'avg_response_time': 0.5751775083266051, 'max_response_time': 0.6536674535212357, 'contribution': 0.8201993885072502}}, 'input_state': {'input_file_length': 14, 'image_height': 224, 'image_width': 224}, 'distribution_weights': [1.0, 1.0, 1.0, 1.0, 1.0, 0.0, 0.0, 0.0, 0.0, 0.0, 0.0, 0.0, 0.0, 0.0, 0.0, 0.0, 0.0, 0.0, 0.0, 0.0]}\n",
      "{'accuracy': 0.9294117647058824, 'confidence': 0.7807273033717647, 'explainability': 1.0, 'energy': 0.023205572371097348, 'latency': 6.835869809360453}\n",
      "REWARD:  3.993035376661436\n",
      "No eligible models to score.\n"
     ]
    },
    {
     "name": "stderr",
     "output_type": "stream",
     "text": [
      "2025-01-28 15:53:21,970:INFO -- Action: Adding a model\n"
     ]
    },
    {
     "name": "stdout",
     "output_type": "stream",
     "text": [
      "STATE:  {'ensemble_state': {'total_energy_consumption': 0.023205572371097348, 'ensemble_size': 16}, 'model_states': {'InceptionResNetV2': {'accuracy': 0.8837209302325582, 'confidence': 0.797251995912818, 'avg_response_time': 2.070943592654481, 'max_response_time': 2.222508735903802, 'contribution': 0.7871993464785952}, 'MobileNetV2': {'accuracy': 0.8571428571428571, 'confidence': 0.6818883163588387, 'avg_response_time': 0.09269473197509447, 'max_response_time': 0.15370382848033695, 'contribution': 0.6941419123829186}, 'ResNet50V2': {'accuracy': 0.7014925373134329, 'confidence': 0.6455743459623251, 'avg_response_time': 0.3750665907460589, 'max_response_time': 0.5175399351141425, 'contribution': 0.6993539497923495}, 'ensemble': {'accuracy': 0.9302325581395349, 'confidence': 0.779586126492521, 'avg_response_time': 6.83993066559509, 'max_response_time': 7.19564763259307, 'contribution': 0.9261502935442814}, 'EfficientNetV2S': {'accuracy': 0.9642857142857143, 'confidence': 0.8510389186087108, 'avg_response_time': 1.145934386421106, 'max_response_time': 1.189512667119588, 'contribution': 0.8450449158747991}, 'NASNetLarge': {'accuracy': 0.963855421686747, 'confidence': 0.8614729046821594, 'avg_response_time': 3.811657334930494, 'max_response_time': 3.875032026651169, 'contribution': 0.8478712748332196}, 'EfficientNetB7': {'accuracy': 0.9375, 'confidence': 0.7223191622644662, 'avg_response_time': 7.121284166286417, 'max_response_time': 7.189049217284859, 'contribution': 0.7078158363699913}, 'DenseNet201': {'accuracy': 0.9367088607594937, 'confidence': 0.8540840695930433, 'avg_response_time': 0.5853647169975335, 'max_response_time': 0.7017973373738774, 'contribution': 0.8536474927316738}, 'Xception': {'accuracy': 0.8961038961038961, 'confidence': 0.7567737183787606, 'avg_response_time': 0.9897405257033882, 'max_response_time': 1.0193502332603366, 'contribution': 0.7532745711989217}, 'InceptionV3': {'accuracy': 0.9066666666666666, 'confidence': 0.8096770838896433, 'avg_response_time': 0.5749734299197433, 'max_response_time': 0.6536674535212357, 'contribution': 0.8198842902978262}}, 'input_state': {'input_file_length': 15, 'image_height': 224, 'image_width': 224}, 'distribution_weights': [1.0, 1.0, 1.0, 1.0, 1.0, 0.0, 0.0, 0.0, 0.0, 0.0, 0.0, 0.0, 0.0, 0.0, 0.0, 0.0, 0.0, 0.0, 0.0, 0.0]}\n",
      "{'accuracy': 0.9302325581395349, 'confidence': 0.779586126492521, 'explainability': 1.0, 'energy': 0.023205572371097348, 'latency': 6.83993066559509}\n",
      "REWARD:  3.993022781878108\n",
      "No eligible models to score.\n"
     ]
    },
    {
     "name": "stderr",
     "output_type": "stream",
     "text": [
      "2025-01-28 15:53:22,648:INFO -- Action: Replacing a model\n"
     ]
    },
    {
     "name": "stdout",
     "output_type": "stream",
     "text": [
      "STATE:  {'ensemble_state': {'total_energy_consumption': 0.023205572371097348, 'ensemble_size': 16}, 'model_states': {'InceptionResNetV2': {'accuracy': 0.8850574712643678, 'confidence': 0.7985186145223421, 'avg_response_time': 2.0710380726504307, 'max_response_time': 2.222508735903802, 'contribution': 0.7885815127827656}, 'MobileNetV2': {'accuracy': 0.8589743589743589, 'confidence': 0.6794846271857237, 'avg_response_time': 0.09254839700217081, 'max_response_time': 0.15370382848033695, 'contribution': 0.6915811258248794}, 'ResNet50V2': {'accuracy': 0.6911764705882353, 'confidence': 0.6360806055805263, 'avg_response_time': 0.3759591605024418, 'max_response_time': 0.5175399351141425, 'contribution': 0.6890693328836385}, 'ensemble': {'accuracy': 0.9310344827586207, 'confidence': 0.7788338463181532, 'avg_response_time': 6.8430996757604134, 'max_response_time': 7.19564763259307, 'contribution': 0.9268465651862923}, 'EfficientNetV2S': {'accuracy': 0.9647058823529412, 'confidence': 0.8515315203105702, 'avg_response_time': 1.1462146907924549, 'max_response_time': 1.189512667119588, 'contribution': 0.8456080352558809}, 'NASNetLarge': {'accuracy': 0.9642857142857143, 'confidence': 0.8625086418219975, 'avg_response_time': 3.811685038706613, 'max_response_time': 3.875032026651169, 'contribution': 0.849068936137926}, 'EfficientNetB7': {'accuracy': 0.9382716049382716, 'confidence': 0.7240098100385548, 'avg_response_time': 7.121066431409065, 'max_response_time': 7.189049217284859, 'contribution': 0.7096855375501845}, 'DenseNet201': {'accuracy': 0.9375, 'confidence': 0.8557420928031206, 'avg_response_time': 0.5852318568577373, 'max_response_time': 0.7017973373738774, 'contribution': 0.8553109731525183}, 'Xception': {'accuracy': 0.8974358974358975, 'confidence': 0.7515562088825763, 'avg_response_time': 0.9896559327462867, 'max_response_time': 1.0193502332603366, 'contribution': 0.7481019225640174}, 'InceptionV3': {'accuracy': 0.9078947368421053, 'confidence': 0.8060858277113814, 'avg_response_time': 0.5761846717402026, 'max_response_time': 0.6670278082746478, 'contribution': 0.8161587287720881}}, 'input_state': {'input_file_length': 15, 'image_height': 224, 'image_width': 224}, 'distribution_weights': [1.0, 1.0, 1.0, 1.0, 1.0, 0.0, 0.0, 0.0, 0.0, 0.0, 0.0, 0.0, 0.0, 0.0, 0.0, 0.0, 0.0, 0.0, 0.0, 0.0]}\n",
      "{'accuracy': 0.9310344827586207, 'confidence': 0.7788338463181532, 'explainability': 1.0, 'energy': 0.023205572371097348, 'latency': 6.8430996757604134}\n",
      "REWARD:  3.9930205291476075\n",
      "Worst model: EfficientNetV2L with score: 0.5911481481481482\n",
      "Model 'EfficientNetV2L' successfully removed from the target YAML.\n",
      "Best model: EfficientNetV2L with score: 0.5911481481481482\n",
      "Model 'EfficientNetV2L' successfully added to the target YAML.\n"
     ]
    },
    {
     "name": "stderr",
     "output_type": "stream",
     "text": [
      "2025-01-28 15:53:23,567:INFO -- Action: Keeping the ensemble\n"
     ]
    },
    {
     "name": "stdout",
     "output_type": "stream",
     "text": [
      "STATE:  {'ensemble_state': {'total_energy_consumption': 0.023205572371097348, 'ensemble_size': 16}, 'model_states': {'InceptionResNetV2': {'accuracy': 0.8863636363636364, 'confidence': 0.8001032668081197, 'avg_response_time': 2.0712748967992893, 'max_response_time': 2.222508735903802, 'contribution': 0.7902790866792202}, 'MobileNetV2': {'accuracy': 0.8607594936708861, 'confidence': 0.6816748305212094, 'avg_response_time': 0.09243168031417129, 'max_response_time': 0.15370382848033695, 'contribution': 0.6936182089244263}, 'ResNet50V2': {'accuracy': 0.6956521739130435, 'confidence': 0.6413547893365225, 'avg_response_time': 0.37652013216751673, 'max_response_time': 0.5175399351141425, 'contribution': 0.6935755640700243}, 'ensemble': {'accuracy': 0.9318181818181818, 'confidence': 0.7807115717578366, 'avg_response_time': 6.846567457187376, 'max_response_time': 7.19564763259307, 'contribution': 0.9276778460903601}, 'EfficientNetV2S': {'accuracy': 0.9651162790697675, 'confidence': 0.8521188171797021, 'avg_response_time': 1.1467978417510596, 'max_response_time': 1.1963656732324701, 'contribution': 0.8462642098582068}, 'NASNetLarge': {'accuracy': 0.9647058823529412, 'confidence': 0.8631792804774117, 'avg_response_time': 3.812113474868018, 'max_response_time': 3.875032026651169, 'contribution': 0.8498976889778586}, 'EfficientNetB7': {'accuracy': 0.9390243902439024, 'confidence': 0.725008149336024, 'avg_response_time': 7.1212433358703775, 'max_response_time': 7.189049217284859, 'contribution': 0.7108585630975118}, 'DenseNet201': {'accuracy': 0.9382716049382716, 'confidence': 0.8575191648653996, 'avg_response_time': 0.5847827357196392, 'max_response_time': 0.7017973373738774, 'contribution': 0.8570933676796195}, 'Xception': {'accuracy': 0.8987341772151899, 'confidence': 0.7545628936230382, 'avg_response_time': 0.9896019361539885, 'max_response_time': 1.0193502332603366, 'contribution': 0.7511523324477521}, 'InceptionV3': {'accuracy': 0.9090909090909091, 'confidence': 0.8085102535687484, 'avg_response_time': 0.5760645015990805, 'max_response_time': 0.6670278082746478, 'contribution': 0.8184523377325628}}, 'input_state': {'input_file_length': 14, 'image_height': 224, 'image_width': 224}, 'distribution_weights': [1.0, 1.0, 1.0, 1.0, 1.0, 0.0, 0.0, 0.0, 0.0, 0.0, 0.0, 0.0, 0.0, 0.0, 0.0, 0.0, 0.0, 0.0, 0.0, 0.0]}\n",
      "{'accuracy': 0.9318181818181818, 'confidence': 0.7807115717578366, 'explainability': 1.0, 'energy': 0.023205572371097348, 'latency': 6.846567457187376}\n",
      "REWARD:  3.9930910898393543\n"
     ]
    },
    {
     "name": "stderr",
     "output_type": "stream",
     "text": [
      "2025-01-28 15:53:24,346:INFO -- Action: Adding a model\n"
     ]
    },
    {
     "name": "stdout",
     "output_type": "stream",
     "text": [
      "STATE:  {'ensemble_state': {'total_energy_consumption': 0.023205572371097348, 'ensemble_size': 16}, 'model_states': {'InceptionResNetV2': {'accuracy': 0.8876404494382022, 'confidence': 0.8012071292052109, 'avg_response_time': 2.0713045139642006, 'max_response_time': 2.222508735903802, 'contribution': 0.7914933331227034}, 'MobileNetV2': {'accuracy': 0.85, 'confidence': 0.6731538951396943, 'avg_response_time': 0.09230284422727394, 'max_response_time': 0.15370382848033695, 'contribution': 0.6849479813128709}, 'ResNet50V2': {'accuracy': 0.6857142857142857, 'confidence': 0.6321925780602864, 'avg_response_time': 0.3769193056805245, 'max_response_time': 0.5175399351141425, 'contribution': 0.6836673417261668}, 'ensemble': {'accuracy': 0.9325842696629213, 'confidence': 0.7795424642190066, 'avg_response_time': 6.849725536737074, 'max_response_time': 7.19564763259307, 'contribution': 0.927348286248325}, 'EfficientNetV2S': {'accuracy': 0.9655172413793104, 'confidence': 0.8522093803033062, 'avg_response_time': 1.146755346550621, 'max_response_time': 1.1963656732324701, 'contribution': 0.8464220673188396}, 'NASNetLarge': {'accuracy': 0.9651162790697675, 'confidence': 0.8634942381881004, 'avg_response_time': 3.8123015965594473, 'max_response_time': 3.875032026651169, 'contribution': 0.8503670837990073}, 'EfficientNetB7': {'accuracy': 0.9397590361445783, 'confidence': 0.7218815152903637, 'avg_response_time': 7.121191016210543, 'max_response_time': 7.189049217284859, 'contribution': 0.7079024059944842}, 'DenseNet201': {'accuracy': 0.9390243902439024, 'confidence': 0.8514891979171009, 'avg_response_time': 0.5846643619477674, 'max_response_time': 0.7017973373738774, 'contribution': 0.8510685933799278}, 'Xception': {'accuracy': 0.9, 'confidence': 0.7497051928192378, 'avg_response_time': 0.9895371594722564, 'max_response_time': 1.0193502332603366, 'contribution': 0.7463372636586427}, 'InceptionV3': {'accuracy': 0.9102564102564102, 'confidence': 0.8084950183446591, 'avg_response_time': 0.5777341682683405, 'max_response_time': 0.7062985018013463, 'contribution': 0.8183096398909887}}, 'input_state': {'input_file_length': 15, 'image_height': 224, 'image_width': 224}, 'distribution_weights': [1.0, 1.0, 1.0, 1.0, 1.0, 0.0, 0.0, 0.0, 0.0, 0.0, 0.0, 0.0, 0.0, 0.0, 0.0, 0.0, 0.0, 0.0, 0.0, 0.0]}\n",
      "{'accuracy': 0.9325842696629213, 'confidence': 0.7795424642190066, 'explainability': 1.0, 'energy': 0.023205572371097348, 'latency': 6.849725536737074}\n",
      "REWARD:  3.993076393166822\n",
      "No eligible models to score.\n"
     ]
    },
    {
     "name": "stderr",
     "output_type": "stream",
     "text": [
      "2025-01-28 15:53:25,071:INFO -- Action: Replacing a model\n"
     ]
    },
    {
     "name": "stdout",
     "output_type": "stream",
     "text": [
      "STATE:  {'ensemble_state': {'total_energy_consumption': 0.023205572371097348, 'ensemble_size': 16}, 'model_states': {'InceptionResNetV2': {'accuracy': 0.8888888888888888, 'confidence': 0.8013320432768928, 'avg_response_time': 2.0714153597894027, 'max_response_time': 2.222508735903802, 'contribution': 0.7917261782619688}, 'MobileNetV2': {'accuracy': 0.8518518518518519, 'confidence': 0.6750868882661984, 'avg_response_time': 0.09227355485711601, 'max_response_time': 0.15370382848033695, 'contribution': 0.6867353684372373}, 'ResNet50V2': {'accuracy': 0.6901408450704225, 'confidence': 0.6373706674072105, 'avg_response_time': 0.3773547104252779, 'max_response_time': 0.5175399351141425, 'contribution': 0.6881204344017405}, 'ensemble': {'accuracy': 0.9333333333333333, 'confidence': 0.7802075975031773, 'avg_response_time': 6.852317705839192, 'max_response_time': 7.19564763259307, 'contribution': 0.9281537155310313}, 'EfficientNetV2S': {'accuracy': 0.9659090909090909, 'confidence': 0.8529203913428567, 'avg_response_time': 1.1468449856849279, 'max_response_time': 1.1963656732324701, 'contribution': 0.8471988432786681}, 'NASNetLarge': {'accuracy': 0.9655172413793104, 'confidence': 0.8641297234885994, 'avg_response_time': 3.8123408845596196, 'max_response_time': 3.875032026651169, 'contribution': 0.8511534559315649}, 'EfficientNetB7': {'accuracy': 0.9404761904761905, 'confidence': 0.7225429749204999, 'avg_response_time': 7.1206178720174504, 'max_response_time': 7.189049217284859, 'contribution': 0.7087302835924285}, 'DenseNet201': {'accuracy': 0.9397590361445783, 'confidence': 0.8516534035464367, 'avg_response_time': 0.5848402326604563, 'max_response_time': 0.7017973373738774, 'contribution': 0.851237866533808}, 'Xception': {'accuracy': 0.9012345679012346, 'confidence': 0.7509298423926035, 'avg_response_time': 0.9897528762867703, 'max_response_time': 1.0193502332603366, 'contribution': 0.7476034926043617}, 'InceptionV3': {'accuracy': 0.9113924050632911, 'confidence': 0.8049268499959873, 'avg_response_time': 0.5780321712326556, 'max_response_time': 0.7062985018013463, 'contribution': 0.8146172358265406}}, 'input_state': {'input_file_length': 14, 'image_height': 224, 'image_width': 224}, 'distribution_weights': [1.0, 1.0, 1.0, 1.0, 1.0, 0.0, 0.0, 0.0, 0.0, 0.0, 0.0, 0.0, 0.0, 0.0, 0.0, 0.0, 0.0, 0.0, 0.0, 0.0]}\n",
      "{'accuracy': 0.9333333333333333, 'confidence': 0.7802075975031773, 'explainability': 1.0, 'energy': 0.023205572371097348, 'latency': 6.852317705839192}\n",
      "REWARD:  3.9931123475845203\n",
      "Worst model: EfficientNetV2L with score: 0.5911481481481482\n",
      "Model 'EfficientNetV2L' successfully removed from the target YAML.\n",
      "Best model: EfficientNetV2L with score: 0.5911481481481482\n",
      "Model 'EfficientNetV2L' successfully added to the target YAML.\n"
     ]
    },
    {
     "name": "stderr",
     "output_type": "stream",
     "text": [
      "2025-01-28 15:53:25,936:INFO -- Action: Replacing a model\n"
     ]
    },
    {
     "name": "stdout",
     "output_type": "stream",
     "text": [
      "STATE:  {'ensemble_state': {'total_energy_consumption': 0.023205572371097348, 'ensemble_size': 16}, 'model_states': {'InceptionResNetV2': {'accuracy': 0.8901098901098901, 'confidence': 0.8029291361242861, 'avg_response_time': 2.072190993741478, 'max_response_time': 2.222508735903802, 'contribution': 0.7934288300655701}, 'MobileNetV2': {'accuracy': 0.8536585365853658, 'confidence': 0.6780442973462547, 'avg_response_time': 0.09240099985581746, 'max_response_time': 0.15370382848033695, 'contribution': 0.6895507228810612}, 'ResNet50V2': {'accuracy': 0.6944444444444444, 'confidence': 0.6424071577688059, 'avg_response_time': 0.37774280039900604, 'max_response_time': 0.5175399351141425, 'contribution': 0.6924520668884119}, 'ensemble': {'accuracy': 0.9340659340659341, 'confidence': 0.7817885393435928, 'avg_response_time': 6.855211487262984, 'max_response_time': 7.19564763259307, 'contribution': 0.9289432285906194}, 'EfficientNetV2S': {'accuracy': 0.9662921348314607, 'confidence': 0.853857306282172, 'avg_response_time': 1.14706637121966, 'max_response_time': 1.1963656732324701, 'contribution': 0.8482000452748845}, 'NASNetLarge': {'accuracy': 0.9659090909090909, 'confidence': 0.8645942041819746, 'avg_response_time': 3.812387718461521, 'max_response_time': 3.875032026651169, 'contribution': 0.8517653942108154}, 'EfficientNetB7': {'accuracy': 0.9411764705882353, 'confidence': 0.7238452609847573, 'avg_response_time': 7.120485384871492, 'max_response_time': 7.189049217284859, 'contribution': 0.7101950719076044}, 'DenseNet201': {'accuracy': 0.9404761904761905, 'confidence': 0.8534193124089923, 'avg_response_time': 0.5850414088527077, 'max_response_time': 0.7017973373738774, 'contribution': 0.8530087222655615}, 'Xception': {'accuracy': 0.9024390243902439, 'confidence': 0.7529459592045807, 'avg_response_time': 0.9898130764775726, 'max_response_time': 1.0193502332603366, 'contribution': 0.7496601746576589}, 'InceptionV3': {'accuracy': 0.9125, 'confidence': 0.8073426779359579, 'avg_response_time': 0.5781437865502955, 'max_response_time': 0.7062985018013463, 'contribution': 0.8169119339436293}}, 'input_state': {'input_file_length': 14, 'image_height': 224, 'image_width': 224}, 'distribution_weights': [1.0, 1.0, 1.0, 1.0, 1.0, 0.0, 0.0, 0.0, 0.0, 0.0, 0.0, 0.0, 0.0, 0.0, 0.0, 0.0, 0.0, 0.0, 0.0, 0.0]}\n",
      "{'accuracy': 0.9340659340659341, 'confidence': 0.7817885393435928, 'explainability': 1.0, 'energy': 0.023205572371097348, 'latency': 6.855211487262984}\n",
      "REWARD:  3.9931733416490482\n",
      "Worst model: EfficientNetV2L with score: 0.5911481481481482\n",
      "Model 'EfficientNetV2L' successfully removed from the target YAML.\n",
      "Best model: EfficientNetV2L with score: 0.5911481481481482\n",
      "Model 'EfficientNetV2L' successfully added to the target YAML.\n"
     ]
    },
    {
     "name": "stderr",
     "output_type": "stream",
     "text": [
      "2025-01-28 15:53:26,862:INFO -- Action: Keeping the ensemble\n"
     ]
    },
    {
     "name": "stdout",
     "output_type": "stream",
     "text": [
      "STATE:  {'ensemble_state': {'total_energy_consumption': 0.023205572371097348, 'ensemble_size': 16}, 'model_states': {'InceptionResNetV2': {'accuracy': 0.8913043478260869, 'confidence': 0.804379949103231, 'avg_response_time': 2.072010080347664, 'max_response_time': 2.222508735903802, 'contribution': 0.7949829072408054}, 'MobileNetV2': {'accuracy': 0.8554216867469879, 'confidence': 0.6812062421476984, 'avg_response_time': 0.09260337056648604, 'max_response_time': 0.15370382848033695, 'contribution': 0.6925740360495556}, 'ResNet50V2': {'accuracy': 0.6986301369863014, 'confidence': 0.6465322918271366, 'avg_response_time': 0.37791248042297004, 'max_response_time': 0.5175399351141425, 'contribution': 0.6958916542464739}, 'ensemble': {'accuracy': 0.9347826086956522, 'confidence': 0.7826689667569994, 'avg_response_time': 6.858120572029708, 'max_response_time': 7.19564763259307, 'contribution': 0.9294134585753732}, 'EfficientNetV2S': {'accuracy': 0.9666666666666667, 'confidence': 0.8545158048470815, 'avg_response_time': 1.1472605301677241, 'max_response_time': 1.1963656732324701, 'contribution': 0.8489214022954304}, 'NASNetLarge': {'accuracy': 0.9662921348314607, 'confidence': 0.8648297183969048, 'avg_response_time': 3.8126981132218605, 'max_response_time': 3.875032026651169, 'contribution': 0.8521450523580059}, 'EfficientNetB7': {'accuracy': 0.9418604651162791, 'confidence': 0.7246311972307604, 'avg_response_time': 7.120399000153318, 'max_response_time': 7.189049217284859, 'contribution': 0.7111397312824116}, 'DenseNet201': {'accuracy': 0.9411764705882353, 'confidence': 0.8547902016078724, 'avg_response_time': 0.5850925194161525, 'max_response_time': 0.7017973373738774, 'contribution': 0.8543844419367174}, 'Xception': {'accuracy': 0.9036144578313253, 'confidence': 0.7540811390043741, 'avg_response_time': 0.990002815222069, 'max_response_time': 1.0193502332603366, 'contribution': 0.7508349422230778}, 'InceptionV3': {'accuracy': 0.9135802469135802, 'confidence': 0.8082365735813424, 'avg_response_time': 0.578194606054906, 'max_response_time': 0.7062985018013463, 'contribution': 0.817687690625956}}, 'input_state': {'input_file_length': 14, 'image_height': 224, 'image_width': 224}, 'distribution_weights': [1.0, 1.0, 1.0, 1.0, 1.0, 0.0, 0.0, 0.0, 0.0, 0.0, 0.0, 0.0, 0.0, 0.0, 0.0, 0.0, 0.0, 0.0, 0.0, 0.0]}\n",
      "{'accuracy': 0.9347826086956522, 'confidence': 0.7826689667569994, 'explainability': 1.0, 'energy': 0.023205572371097348, 'latency': 6.858120572029708}\n",
      "REWARD:  3.993214436902543\n"
     ]
    },
    {
     "name": "stderr",
     "output_type": "stream",
     "text": [
      "2025-01-28 15:53:27,568:INFO -- Action: Keeping the ensemble\n"
     ]
    },
    {
     "name": "stdout",
     "output_type": "stream",
     "text": [
      "STATE:  {'ensemble_state': {'total_energy_consumption': 0.023205572371097348, 'ensemble_size': 16}, 'model_states': {'InceptionResNetV2': {'accuracy': 0.8924731182795699, 'confidence': 0.8057274632556464, 'avg_response_time': 2.072388593208266, 'max_response_time': 2.222508735903802, 'contribution': 0.7964314648541071}, 'MobileNetV2': {'accuracy': 0.8571428571428571, 'confidence': 0.680568516254425, 'avg_response_time': 0.09269312712182269, 'max_response_time': 0.15370382848033695, 'contribution': 0.6918009792764982}, 'ResNet50V2': {'accuracy': 0.7027027027027027, 'confidence': 0.6459425192426991, 'avg_response_time': 0.37818439442186, 'max_response_time': 0.5175399351141425, 'contribution': 0.6946348632509644}, 'ensemble': {'accuracy': 0.9354838709677419, 'confidence': 0.782374320374382, 'avg_response_time': 6.860494424940525, 'max_response_time': 7.19564763259307, 'contribution': 0.9301321916682745}, 'EfficientNetV2S': {'accuracy': 0.967032967032967, 'confidence': 0.8550756933924916, 'avg_response_time': 1.1474592412843008, 'max_response_time': 1.1963656732324701, 'contribution': 0.8495427677919577}, 'NASNetLarge': {'accuracy': 0.9666666666666667, 'confidence': 0.865409176879459, 'avg_response_time': 3.8131167730201745, 'max_response_time': 3.875032026651169, 'contribution': 0.8528654515743256}, 'EfficientNetB7': {'accuracy': 0.9425287356321839, 'confidence': 0.7255237719108318, 'avg_response_time': 7.1198399391102765, 'max_response_time': 7.189049217284859, 'contribution': 0.7121873802837284}, 'DenseNet201': {'accuracy': 0.9418604651162791, 'confidence': 0.8518845279549443, 'avg_response_time': 0.5845585366411239, 'max_response_time': 0.7017973373738774, 'contribution': 0.8514834864195003}, 'Xception': {'accuracy': 0.9047619047619048, 'confidence': 0.753172323462509, 'avg_response_time': 0.9900387602480174, 'max_response_time': 1.0193502332603366, 'contribution': 0.74996477188099}, 'InceptionV3': {'accuracy': 0.9146341463414634, 'confidence': 0.8105294889793163, 'avg_response_time': 0.5780201444942872, 'max_response_time': 0.7062985018013463, 'contribution': 0.8198653484989957}}, 'input_state': {'input_file_length': 13, 'image_height': 224, 'image_width': 224}, 'distribution_weights': [1.0, 1.0, 1.0, 1.0, 1.0, 0.0, 0.0, 0.0, 0.0, 0.0, 0.0, 0.0, 0.0, 0.0, 0.0, 0.0, 0.0, 0.0, 0.0, 0.0]}\n",
      "{'accuracy': 0.9354838709677419, 'confidence': 0.782374320374382, 'explainability': 1.0, 'energy': 0.023205572371097348, 'latency': 6.860494424940525}\n",
      "REWARD:  3.9932225445683667\n"
     ]
    },
    {
     "name": "stderr",
     "output_type": "stream",
     "text": [
      "2025-01-28 15:53:28,329:INFO -- Action: Replacing a model\n"
     ]
    },
    {
     "name": "stdout",
     "output_type": "stream",
     "text": [
      "STATE:  {'ensemble_state': {'total_energy_consumption': 0.023205572371097348, 'ensemble_size': 16}, 'model_states': {'InceptionResNetV2': {'accuracy': 0.8936170212765957, 'confidence': 0.807020494912533, 'avg_response_time': 2.0721941543379563, 'max_response_time': 2.222508735903802, 'contribution': 0.7978233901110101}, 'MobileNetV2': {'accuracy': 0.8588235294117647, 'confidence': 0.68334780440611, 'avg_response_time': 0.09280862293974368, 'max_response_time': 0.15370382848033695, 'contribution': 0.694448120804394}, 'ResNet50V2': {'accuracy': 0.7066666666666667, 'confidence': 0.650662537018458, 'avg_response_time': 0.37838773381909535, 'max_response_time': 0.5175399351141425, 'contribution': 0.6987056497732799}, 'ensemble': {'accuracy': 0.9361702127659575, 'confidence': 0.783957238331755, 'avg_response_time': 6.863860117537717, 'max_response_time': 7.19564763259307, 'contribution': 0.9308754345203968}, 'EfficientNetV2S': {'accuracy': 0.967391304347826, 'confidence': 0.8558452200630436, 'avg_response_time': 1.1474370481601481, 'max_response_time': 1.1963656732324701, 'contribution': 0.8503724349581677}, 'NASNetLarge': {'accuracy': 0.967032967032967, 'confidence': 0.8658007514345777, 'avg_response_time': 3.8133621266509894, 'max_response_time': 3.875032026651169, 'contribution': 0.8533948692646656}, 'EfficientNetB7': {'accuracy': 0.9431818181818182, 'confidence': 0.7264733192595568, 'avg_response_time': 7.120357256893857, 'max_response_time': 7.189049217284859, 'contribution': 0.7132884775373068}, 'DenseNet201': {'accuracy': 0.9425287356321839, 'confidence': 0.8535784976235752, 'avg_response_time': 0.5840105723260485, 'max_response_time': 0.7017973373738774, 'contribution': 0.8531820657609523}, 'Xception': {'accuracy': 0.9058823529411765, 'confidence': 0.754512781606001, 'avg_response_time': 0.9899621847599505, 'max_response_time': 1.0193502332603366, 'contribution': 0.751342965925441}, 'InceptionV3': {'accuracy': 0.9156626506024096, 'confidence': 0.8126256936285869, 'avg_response_time': 0.5783214747160764, 'max_response_time': 0.7062985018013463, 'contribution': 0.8218490729130894}}, 'input_state': {'input_file_length': 14, 'image_height': 224, 'image_width': 224}, 'distribution_weights': [1.0, 1.0, 1.0, 1.0, 1.0, 0.0, 0.0, 0.0, 0.0, 0.0, 0.0, 0.0, 0.0, 0.0, 0.0, 0.0, 0.0, 0.0, 0.0, 0.0]}\n",
      "{'accuracy': 0.9361702127659575, 'confidence': 0.783957238331755, 'explainability': 1.0, 'energy': 0.023205572371097348, 'latency': 6.863860117537717}\n",
      "REWARD:  3.9932823596444598\n",
      "Worst model: EfficientNetV2L with score: 0.5911481481481482\n",
      "Model 'EfficientNetV2L' successfully removed from the target YAML.\n",
      "Best model: EfficientNetV2L with score: 0.5911481481481482\n",
      "Model 'EfficientNetV2L' successfully added to the target YAML.\n"
     ]
    },
    {
     "name": "stderr",
     "output_type": "stream",
     "text": [
      "2025-01-28 15:53:29,282:INFO -- Action: Adding a model\n"
     ]
    },
    {
     "name": "stdout",
     "output_type": "stream",
     "text": [
      "STATE:  {'ensemble_state': {'total_energy_consumption': 0.023205572371097348, 'ensemble_size': 16}, 'model_states': {'InceptionResNetV2': {'accuracy': 0.8842105263157894, 'confidence': 0.7985255423345063, 'avg_response_time': 2.0725047457892543, 'max_response_time': 2.222508735903802, 'contribution': 0.7894252491624731}, 'MobileNetV2': {'accuracy': 0.8604651162790697, 'confidence': 0.6795610743899678, 'avg_response_time': 0.09283393726514055, 'max_response_time': 0.15370382848033695, 'contribution': 0.6863731426555056}, 'ResNet50V2': {'accuracy': 0.6973684210526315, 'confidence': 0.6421011878471625, 'avg_response_time': 0.3789431778722289, 'max_response_time': 0.5175399351141425, 'contribution': 0.6996400862147933}, 'ensemble': {'accuracy': 0.9263157894736842, 'confidence': 0.7757050568756313, 'avg_response_time': 6.866735760091371, 'max_response_time': 7.19564763259307, 'contribution': 0.9210767457359715}, 'EfficientNetV2S': {'accuracy': 0.967741935483871, 'confidence': 0.8562066696023428, 'avg_response_time': 1.1473424351585357, 'max_response_time': 1.1963656732324701, 'contribution': 0.8412286453349616}, 'NASNetLarge': {'accuracy': 0.967391304347826, 'confidence': 0.866128559993661, 'avg_response_time': 3.813361666700033, 'max_response_time': 3.875032026651169, 'contribution': 0.8441188380770062}, 'EfficientNetB7': {'accuracy': 0.9438202247191011, 'confidence': 0.724004450139035, 'avg_response_time': 7.120437543399275, 'max_response_time': 7.189049217284859, 'contribution': 0.7052740002616068}, 'DenseNet201': {'accuracy': 0.9318181818181818, 'confidence': 0.8438787419687618, 'avg_response_time': 0.5839982363036826, 'max_response_time': 0.7017973373738774, 'contribution': 0.8434868150136687}, 'Xception': {'accuracy': 0.8953488372093024, 'confidence': 0.745739377168722, 'avg_response_time': 0.9901504910110294, 'max_response_time': 1.0193502332603366, 'contribution': 0.742606419810029}, 'InceptionV3': {'accuracy': 0.9166666666666666, 'confidence': 0.8137274629303387, 'avg_response_time': 0.578426347691712, 'max_response_time': 0.7062985018013463, 'contribution': 0.8120651553784098}}, 'input_state': {'input_file_length': 15, 'image_height': 224, 'image_width': 224}, 'distribution_weights': [1.0, 1.0, 1.0, 1.0, 1.0, 0.0, 0.0, 0.0, 0.0, 0.0, 0.0, 0.0, 0.0, 0.0, 0.0, 0.0, 0.0, 0.0, 0.0, 0.0]}\n",
      "{'accuracy': 0.9263157894736842, 'confidence': 0.7757050568756313, 'explainability': 1.0, 'energy': 0.023205572371097348, 'latency': 6.866735760091371}\n",
      "REWARD:  3.992822784475545\n",
      "No eligible models to score.\n"
     ]
    },
    {
     "name": "stderr",
     "output_type": "stream",
     "text": [
      "2025-01-28 15:53:30,038:INFO -- Action: Adding a model\n"
     ]
    },
    {
     "name": "stdout",
     "output_type": "stream",
     "text": [
      "STATE:  {'ensemble_state': {'total_energy_consumption': 0.023205572371097348, 'ensemble_size': 16}, 'model_states': {'InceptionResNetV2': {'accuracy': 0.8854166666666666, 'confidence': 0.8000737143059572, 'avg_response_time': 2.0722232646390597, 'max_response_time': 2.222508735903802, 'contribution': 0.791068215854466}, 'MobileNetV2': {'accuracy': 0.8620689655172413, 'confidence': 0.6791316373594876, 'avg_response_time': 0.09294212937400124, 'max_response_time': 0.15370382848033695, 'contribution': 0.6858654059897894}, 'ResNet50V2': {'accuracy': 0.7012987012987013, 'confidence': 0.6465443771380883, 'avg_response_time': 0.37891058369942116, 'max_response_time': 0.5175399351141425, 'contribution': 0.7033360170853602}, 'ensemble': {'accuracy': 0.9270833333333334, 'confidence': 0.7760289632133438, 'avg_response_time': 6.8694576495280275, 'max_response_time': 7.19564763259307, 'contribution': 0.9217345584183931}, 'EfficientNetV2S': {'accuracy': 0.9680851063829787, 'confidence': 0.8566609342047509, 'avg_response_time': 1.1473520399122277, 'max_response_time': 1.1963656732324701, 'contribution': 0.8418422506210652}, 'NASNetLarge': {'accuracy': 0.967741935483871, 'confidence': 0.86630368040454, 'avg_response_time': 3.8132369525578413, 'max_response_time': 3.875032026651169, 'contribution': 0.8445306221644083}, 'EfficientNetB7': {'accuracy': 0.9444444444444444, 'confidence': 0.721911241610845, 'avg_response_time': 7.120420352662823, 'max_response_time': 7.189049217284859, 'contribution': 0.7033889078431659}, 'DenseNet201': {'accuracy': 0.9325842696629213, 'confidence': 0.8454022300377321, 'avg_response_time': 0.5841069747274851, 'max_response_time': 0.7017973373738774, 'contribution': 0.8450147067562918}, 'Xception': {'accuracy': 0.896551724137931, 'confidence': 0.7480462402447887, 'avg_response_time': 0.9903219827341011, 'max_response_time': 1.0193502332603366, 'contribution': 0.7449492938902186}, 'InceptionV3': {'accuracy': 0.9176470588235294, 'confidence': 0.81496582346804, 'avg_response_time': 0.5782413538039053, 'max_response_time': 0.7062985018013463, 'contribution': 0.8133230724755456}}, 'input_state': {'input_file_length': 14, 'image_height': 224, 'image_width': 224}, 'distribution_weights': [1.0, 1.0, 1.0, 1.0, 1.0, 0.0, 0.0, 0.0, 0.0, 0.0, 0.0, 0.0, 0.0, 0.0, 0.0, 0.0, 0.0, 0.0, 0.0, 0.0]}\n",
      "{'accuracy': 0.9270833333333334, 'confidence': 0.7760289632133438, 'explainability': 1.0, 'energy': 0.023205572371097348, 'latency': 6.8694576495280275}\n",
      "REWARD:  3.9928498352025192\n",
      "No eligible models to score.\n"
     ]
    },
    {
     "name": "stderr",
     "output_type": "stream",
     "text": [
      "2025-01-28 15:53:30,776:INFO -- Action: Adding a model\n"
     ]
    },
    {
     "name": "stdout",
     "output_type": "stream",
     "text": [
      "STATE:  {'ensemble_state': {'total_energy_consumption': 0.023205572371097348, 'ensemble_size': 16}, 'model_states': {'InceptionResNetV2': {'accuracy': 0.8865979381443299, 'confidence': 0.7984199247409388, 'avg_response_time': 2.0717319269614696, 'max_response_time': 2.222508735903802, 'contribution': 0.7895072664796692}, 'MobileNetV2': {'accuracy': 0.8636363636363636, 'confidence': 0.6813378090208227, 'avg_response_time': 0.09312571654609342, 'max_response_time': 0.15370382848033695, 'contribution': 0.6879950575530529}, 'ResNet50V2': {'accuracy': 0.7051282051282052, 'confidence': 0.6496306004432532, 'avg_response_time': 0.37886821354375233, 'max_response_time': 0.5175399351141425, 'contribution': 0.7056941424424832}, 'ensemble': {'accuracy': 0.9278350515463918, 'confidence': 0.7758333225527646, 'avg_response_time': 6.87206567205437, 'max_response_time': 7.19564763259307, 'contribution': 0.9213879704475403}, 'EfficientNetV2S': {'accuracy': 0.968421052631579, 'confidence': 0.8548863304288764, 'avg_response_time': 1.1475454096441882, 'max_response_time': 1.1963656732324701, 'contribution': 0.8402236329881768}, 'NASNetLarge': {'accuracy': 0.9680851063829787, 'confidence': 0.8662957999300449, 'avg_response_time': 3.8132044366204156, 'max_response_time': 3.875032026651169, 'contribution': 0.8447543699690636}, 'EfficientNetB7': {'accuracy': 0.945054945054945, 'confidence': 0.7206047956760113, 'avg_response_time': 7.120350105140266, 'max_response_time': 7.189049217284859, 'contribution': 0.7022860040376474}, 'DenseNet201': {'accuracy': 0.9333333333333333, 'confidence': 0.8458768222067091, 'avg_response_time': 0.584198209923943, 'max_response_time': 0.7017973373738774, 'contribution': 0.8454936047395071}, 'Xception': {'accuracy': 0.8977272727272727, 'confidence': 0.7493316182358698, 'avg_response_time': 0.9904654207049487, 'max_response_time': 1.0193502332603366, 'contribution': 0.7462698644535108}, 'InceptionV3': {'accuracy': 0.9186046511627907, 'confidence': 0.8149024896150412, 'avg_response_time': 0.5780945939348208, 'max_response_time': 0.7062985018013463, 'contribution': 0.8132788403782734}}, 'input_state': {'input_file_length': 14, 'image_height': 224, 'image_width': 224}, 'distribution_weights': [1.0, 1.0, 1.0, 1.0, 1.0, 0.0, 0.0, 0.0, 0.0, 0.0, 0.0, 0.0, 0.0, 0.0, 0.0, 0.0, 0.0, 0.0, 0.0, 0.0]}\n",
      "{'accuracy': 0.9278350515463918, 'confidence': 0.7758333225527646, 'explainability': 1.0, 'energy': 0.023205572371097348, 'latency': 6.87206567205437}\n",
      "REWARD:  3.9928619602036037\n",
      "No eligible models to score.\n"
     ]
    },
    {
     "name": "stderr",
     "output_type": "stream",
     "text": [
      "2025-01-28 15:53:31,521:INFO -- Action: Adding a model\n"
     ]
    },
    {
     "name": "stdout",
     "output_type": "stream",
     "text": [
      "STATE:  {'ensemble_state': {'total_energy_consumption': 0.023205572371097348, 'ensemble_size': 16}, 'model_states': {'InceptionResNetV2': {'accuracy': 0.8877551020408163, 'confidence': 0.799667409488133, 'avg_response_time': 2.0711484111787337, 'max_response_time': 2.222508735903802, 'contribution': 0.7908456967193254}, 'MobileNetV2': {'accuracy': 0.8651685393258427, 'confidence': 0.6837380287352572, 'avg_response_time': 0.09314772300131692, 'max_response_time': 0.15370382848033695, 'contribution': 0.6903204767221816}, 'ResNet50V2': {'accuracy': 0.7088607594936709, 'confidence': 0.6540655384335337, 'avg_response_time': 0.37896578076040605, 'max_response_time': 0.5175399351141425, 'contribution': 0.7094194153441659}, 'ensemble': {'accuracy': 0.9285714285714286, 'confidence': 0.7771952058658576, 'avg_response_time': 6.874582874743101, 'max_response_time': 7.19564763259307, 'contribution': 0.9221900403499603}, 'EfficientNetV2S': {'accuracy': 0.96875, 'confidence': 0.8557633981108665, 'avg_response_time': 1.1475058930287012, 'max_response_time': 1.1963656732324701, 'contribution': 0.841253437101841}, 'NASNetLarge': {'accuracy': 0.968421052631579, 'confidence': 0.8668221944256833, 'avg_response_time': 3.8132501270086046, 'max_response_time': 3.875032026651169, 'contribution': 0.8455075163590281}, 'EfficientNetB7': {'accuracy': 0.9456521739130435, 'confidence': 0.7219723080811293, 'avg_response_time': 7.120218873708138, 'max_response_time': 7.189049217284859, 'contribution': 0.7038526337431825}, 'DenseNet201': {'accuracy': 0.9340659340659341, 'confidence': 0.8475667120336177, 'avg_response_time': 0.5844060605393802, 'max_response_time': 0.7017973373738774, 'contribution': 0.8471877057473738}, 'Xception': {'accuracy': 0.898876404494382, 'confidence': 0.7512985042641672, 'avg_response_time': 0.9906434173751008, 'max_response_time': 1.0193502332603366, 'contribution': 0.7482711522096999}, 'InceptionV3': {'accuracy': 0.9195402298850575, 'confidence': 0.815319974874628, 'avg_response_time': 0.5778958827427797, 'max_response_time': 0.7062985018013463, 'contribution': 0.8137149882727656}}, 'input_state': {'input_file_length': 14, 'image_height': 224, 'image_width': 224}, 'distribution_weights': [1.0, 1.0, 1.0, 1.0, 1.0, 0.0, 0.0, 0.0, 0.0, 0.0, 0.0, 0.0, 0.0, 0.0, 0.0, 0.0, 0.0, 0.0, 0.0, 0.0]}\n",
      "{'accuracy': 0.9285714285714286, 'confidence': 0.7771952058658576, 'explainability': 1.0, 'energy': 0.023205572371097348, 'latency': 6.874582874743101}\n",
      "REWARD:  3.992917271480801\n",
      "No eligible models to score.\n"
     ]
    },
    {
     "name": "stderr",
     "output_type": "stream",
     "text": [
      "2025-01-28 15:53:32,252:INFO -- Action: Replacing a model\n"
     ]
    },
    {
     "name": "stdout",
     "output_type": "stream",
     "text": [
      "STATE:  {'ensemble_state': {'total_energy_consumption': 0.023205572371097348, 'ensemble_size': 16}, 'model_states': {'InceptionResNetV2': {'accuracy': 0.8888888888888888, 'confidence': 0.8008017925300983, 'avg_response_time': 2.070771084000767, 'max_response_time': 2.222508735903802, 'contribution': 0.7920691879710766}, 'MobileNetV2': {'accuracy': 0.8666666666666667, 'confidence': 0.6870721532238855, 'avg_response_time': 0.09322722345789866, 'max_response_time': 0.15370382848033695, 'contribution': 0.6935814628998439}, 'ResNet50V2': {'accuracy': 0.7125, 'confidence': 0.6581592623144388, 'avg_response_time': 0.37925018137542443, 'max_response_time': 0.5175399351141425, 'contribution': 0.7128212157636881}, 'ensemble': {'accuracy': 0.9292929292929293, 'confidence': 0.7786131461130112, 'avg_response_time': 6.877610806659625, 'max_response_time': 7.19564763259307, 'contribution': 0.9229753914505544}, 'EfficientNetV2S': {'accuracy': 0.9690721649484536, 'confidence': 0.8562879126096509, 'avg_response_time': 1.1483864097425234, 'max_response_time': 1.232916014269438, 'contribution': 0.8419275388275225}, 'NASNetLarge': {'accuracy': 0.96875, 'confidence': 0.867484080294768, 'avg_response_time': 3.8123739817970743, 'max_response_time': 3.875032026651169, 'contribution': 0.8463914301246405}, 'EfficientNetB7': {'accuracy': 0.946236559139785, 'confidence': 0.7230584185610536, 'avg_response_time': 7.120669679857181, 'max_response_time': 7.189049217284859, 'contribution': 0.7051335794310416}, 'DenseNet201': {'accuracy': 0.9347826086956522, 'confidence': 0.8492088829693587, 'avg_response_time': 0.5846690703948372, 'max_response_time': 0.7017973373738774, 'contribution': 0.848833996316661}, 'Xception': {'accuracy': 0.9, 'confidence': 0.7535133365127775, 'avg_response_time': 0.9908215578670834, 'max_response_time': 1.0193502332603366, 'contribution': 0.7505196217033598}, 'InceptionV3': {'accuracy': 0.9204545454545454, 'confidence': 0.8168645572255958, 'avg_response_time': 0.5780470292146673, 'max_response_time': 0.7062985018013463, 'contribution': 0.8152778091078455}}, 'input_state': {'input_file_length': 14, 'image_height': 224, 'image_width': 224}, 'distribution_weights': [1.0, 1.0, 1.0, 1.0, 1.0, 0.0, 0.0, 0.0, 0.0, 0.0, 0.0, 0.0, 0.0, 0.0, 0.0, 0.0, 0.0, 0.0, 0.0, 0.0]}\n",
      "{'accuracy': 0.9292929292929293, 'confidence': 0.7786131461130112, 'explainability': 1.0, 'energy': 0.023205572371097348, 'latency': 6.877610806659625}\n",
      "REWARD:  3.9929737182412457\n",
      "Worst model: EfficientNetV2L with score: 0.5911481481481482\n",
      "Model 'EfficientNetV2L' successfully removed from the target YAML.\n",
      "Best model: EfficientNetV2L with score: 0.5911481481481482\n",
      "Model 'EfficientNetV2L' successfully added to the target YAML.\n"
     ]
    },
    {
     "name": "stderr",
     "output_type": "stream",
     "text": [
      "2025-01-28 15:53:33,197:INFO -- Action: Adding a model\n"
     ]
    },
    {
     "name": "stdout",
     "output_type": "stream",
     "text": [
      "STATE:  {'ensemble_state': {'total_energy_consumption': 0.023205572371097348, 'ensemble_size': 16}, 'model_states': {'InceptionResNetV2': {'accuracy': 0.89, 'confidence': 0.8016327226161957, 'avg_response_time': 2.070633660328602, 'max_response_time': 2.222508735903802, 'contribution': 0.7929874441027641}, 'MobileNetV2': {'accuracy': 0.8681318681318682, 'confidence': 0.687831197466169, 'avg_response_time': 0.09331452144137711, 'max_response_time': 0.15370382848033695, 'contribution': 0.6942689762665675}, 'ResNet50V2': {'accuracy': 0.7037037037037037, 'confidence': 0.6500338393229025, 'avg_response_time': 0.3795873043297306, 'max_response_time': 0.5175399351141425, 'contribution': 0.7040209538406796}, 'ensemble': {'accuracy': 0.93, 'confidence': 0.7786860814308443, 'avg_response_time': 6.879779468591139, 'max_response_time': 7.19564763259307, 'contribution': 0.9236449825763703}, 'EfficientNetV2S': {'accuracy': 0.9693877551020408, 'confidence': 0.8569598374318104, 'avg_response_time': 1.1486778945856924, 'max_response_time': 1.232916014269438, 'contribution': 0.8427459980760302}, 'NASNetLarge': {'accuracy': 0.9690721649484536, 'confidence': 0.8676892402245826, 'avg_response_time': 3.812584456347615, 'max_response_time': 3.875032026651169, 'contribution': 0.846814040056209}, 'EfficientNetB7': {'accuracy': 0.9468085106382979, 'confidence': 0.7241334464955838, 'avg_response_time': 7.120298253519328, 'max_response_time': 7.189049217284859, 'contribution': 0.7063992971435507}, 'DenseNet201': {'accuracy': 0.9354838709677419, 'confidence': 0.8486286728612839, 'avg_response_time': 0.5843538249398266, 'max_response_time': 0.7017973373738774, 'contribution': 0.8482578172478624}, 'Xception': {'accuracy': 0.9010989010989011, 'confidence': 0.7541921200988057, 'avg_response_time': 0.990869191494986, 'max_response_time': 1.0193502332603366, 'contribution': 0.7512313032543266}, 'InceptionV3': {'accuracy': 0.9213483146067416, 'confidence': 0.8188091633694895, 'avg_response_time': 0.5780951448594436, 'max_response_time': 0.7062985018013463, 'contribution': 0.8172402438822757}}, 'input_state': {'input_file_length': 15, 'image_height': 224, 'image_width': 224}, 'distribution_weights': [1.0, 1.0, 1.0, 1.0, 1.0, 0.0, 0.0, 0.0, 0.0, 0.0, 0.0, 0.0, 0.0, 0.0, 0.0, 0.0, 0.0, 0.0, 0.0, 0.0]}\n",
      "{'accuracy': 0.93, 'confidence': 0.7786860814308443, 'explainability': 1.0, 'energy': 0.023205572371097348, 'latency': 6.879779468591139}\n",
      "REWARD:  3.9929922680276766\n",
      "No eligible models to score.\n"
     ]
    },
    {
     "name": "stderr",
     "output_type": "stream",
     "text": [
      "2025-01-28 15:53:33,881:INFO -- Action: Keeping the ensemble\n"
     ]
    },
    {
     "name": "stdout",
     "output_type": "stream",
     "text": [
      "STATE:  {'ensemble_state': {'total_energy_consumption': 0.023205572371097348, 'ensemble_size': 16}, 'model_states': {'InceptionResNetV2': {'accuracy': 0.8910891089108911, 'confidence': 0.8028044582593559, 'avg_response_time': 2.070295197279876, 'max_response_time': 2.222508735903802, 'contribution': 0.794244776562889}, 'MobileNetV2': {'accuracy': 0.8695652173913043, 'confidence': 0.690899863191273, 'avg_response_time': 0.09341808432258489, 'max_response_time': 0.15370382848033695, 'contribution': 0.6972676661351452}, 'ResNet50V2': {'accuracy': 0.7073170731707317, 'confidence': 0.654301197427075, 'avg_response_time': 0.37990209864794466, 'max_response_time': 0.5175399351141425, 'contribution': 0.7076299324995134}, 'ensemble': {'accuracy': 0.9306930693069307, 'confidence': 0.7802432637910361, 'avg_response_time': 6.882195475058598, 'max_response_time': 7.19564763259307, 'contribution': 0.9244008925881716}, 'EfficientNetV2S': {'accuracy': 0.9696969696969697, 'confidence': 0.8577123844262325, 'avg_response_time': 1.1491452877513468, 'max_response_time': 1.232916014269438, 'contribution': 0.8436421192053593}, 'NASNetLarge': {'accuracy': 0.9693877551020408, 'confidence': 0.8678768982692641, 'avg_response_time': 3.812952667157093, 'max_response_time': 3.875032026651169, 'contribution': 0.8472147103475065}, 'EfficientNetB7': {'accuracy': 0.9473684210526315, 'confidence': 0.7246822840289066, 'avg_response_time': 7.12023016536974, 'max_response_time': 7.189049217284859, 'contribution': 0.7071348099332107}, 'DenseNet201': {'accuracy': 0.9361702127659575, 'confidence': 0.8502341033296382, 'avg_response_time': 0.584228139220395, 'max_response_time': 0.7017973373738774, 'contribution': 0.8498671929887001}, 'Xception': {'accuracy': 0.9021739130434783, 'confidence': 0.7558455768486728, 'avg_response_time': 0.9909090113497353, 'max_response_time': 1.0193502332603366, 'contribution': 0.7529169427959815}, 'InceptionV3': {'accuracy': 0.9222222222222223, 'confidence': 0.820734108487765, 'avg_response_time': 0.5781502523921918, 'max_response_time': 0.7062985018013463, 'contribution': 0.819182621439298}}, 'input_state': {'input_file_length': 14, 'image_height': 224, 'image_width': 224}, 'distribution_weights': [1.0, 1.0, 1.0, 1.0, 1.0, 0.0, 0.0, 0.0, 0.0, 0.0, 0.0, 0.0, 0.0, 0.0, 0.0, 0.0, 0.0, 0.0, 0.0, 0.0]}\n",
      "{'accuracy': 0.9306930693069307, 'confidence': 0.7802432637910361, 'explainability': 1.0, 'energy': 0.023205572371097348, 'latency': 6.882195475058598}\n",
      "REWARD:  3.9930518253850513\n"
     ]
    },
    {
     "name": "stderr",
     "output_type": "stream",
     "text": [
      "2025-01-28 15:53:34,551:INFO -- Action: Keeping the ensemble\n"
     ]
    },
    {
     "name": "stdout",
     "output_type": "stream",
     "text": [
      "STATE:  {'ensemble_state': {'total_energy_consumption': 0.023205572371097348, 'ensemble_size': 16}, 'model_states': {'InceptionResNetV2': {'accuracy': 0.8921568627450981, 'confidence': 0.802667102392982, 'avg_response_time': 2.0702840881756654, 'max_response_time': 2.222508735903802, 'contribution': 0.7941913391445198}, 'MobileNetV2': {'accuracy': 0.8602150537634409, 'confidence': 0.68347083240427, 'avg_response_time': 0.09344034827095295, 'max_response_time': 0.15370382848033695, 'contribution': 0.6897701643487458}, 'ResNet50V2': {'accuracy': 0.7108433734939759, 'confidence': 0.6526506288223956, 'avg_response_time': 0.38020719689967336, 'max_response_time': 0.5175399351141425, 'contribution': 0.705336849014443}, 'ensemble': {'accuracy': 0.9313725490196079, 'confidence': 0.7790236526344675, 'avg_response_time': 6.884589761310928, 'max_response_time': 7.19564763259307, 'contribution': 0.915338138739268}, 'EfficientNetV2S': {'accuracy': 0.97, 'confidence': 0.8570290237665177, 'avg_response_time': 1.1493024160846828, 'max_response_time': 1.232916014269438, 'contribution': 0.8430994611978531}, 'NASNetLarge': {'accuracy': 0.9696969696969697, 'confidence': 0.8672767510317793, 'avg_response_time': 3.8127930959214518, 'max_response_time': 3.875032026651169, 'contribution': 0.8468232720789283}, 'EfficientNetB7': {'accuracy': 0.9375, 'confidence': 0.7171335102369388, 'avg_response_time': 7.120168128183565, 'max_response_time': 7.189049217284859, 'contribution': 0.6997688223297397}, 'DenseNet201': {'accuracy': 0.9368421052631579, 'confidence': 0.850567384770042, 'avg_response_time': 0.5846829054346329, 'max_response_time': 0.7017973373738774, 'contribution': 0.850204336643219}, 'Xception': {'accuracy': 0.9032258064516129, 'confidence': 0.7520302014966165, 'avg_response_time': 0.9910225549787596, 'max_response_time': 1.0193502332603366, 'contribution': 0.7491330581326638}, 'InceptionV3': {'accuracy': 0.9230769230769231, 'confidence': 0.8161551860662607, 'avg_response_time': 0.5777951854068162, 'max_response_time': 0.7062985018013463, 'contribution': 0.8146207483260186}}, 'input_state': {'input_file_length': 14, 'image_height': 224, 'image_width': 224}, 'distribution_weights': [1.0, 1.0, 1.0, 1.0, 1.0, 0.0, 0.0, 0.0, 0.0, 0.0, 0.0, 0.0, 0.0, 0.0, 0.0, 0.0, 0.0, 0.0, 0.0, 0.0]}\n",
      "{'accuracy': 0.9313725490196079, 'confidence': 0.7790236526344675, 'explainability': 1.0, 'energy': 0.023205572371097348, 'latency': 6.884589761310928}\n",
      "REWARD:  3.99303370387016\n"
     ]
    },
    {
     "name": "stderr",
     "output_type": "stream",
     "text": [
      "2025-01-28 15:53:35,209:INFO -- Action: Replacing a model\n"
     ]
    },
    {
     "name": "stdout",
     "output_type": "stream",
     "text": [
      "STATE:  {'ensemble_state': {'total_energy_consumption': 0.023205572371097348, 'ensemble_size': 16}, 'model_states': {'InceptionResNetV2': {'accuracy': 0.8932038834951457, 'confidence': 0.8037994949563035, 'avg_response_time': 2.0704351632540576, 'max_response_time': 2.222508735903802, 'contribution': 0.7954060206714185}, 'MobileNetV2': {'accuracy': 0.8617021276595744, 'confidence': 0.6856929019410559, 'avg_response_time': 0.09336281586430818, 'max_response_time': 0.15370382848033695, 'contribution': 0.6919252197159097}, 'ResNet50V2': {'accuracy': 0.7142857142857143, 'confidence': 0.6567857361265591, 'avg_response_time': 0.3806867181364258, 'max_response_time': 0.5175399351141425, 'contribution': 0.7088447394115585}, 'ensemble': {'accuracy': 0.9320388349514563, 'confidence': 0.7803466539877467, 'avg_response_time': 6.887206435020161, 'max_response_time': 7.19564763259307, 'contribution': 0.9161600950852181}, 'EfficientNetV2S': {'accuracy': 0.9702970297029703, 'confidence': 0.8577979862099827, 'avg_response_time': 1.1497059129938272, 'max_response_time': 1.232916014269438, 'contribution': 0.8440063401023941}, 'NASNetLarge': {'accuracy': 0.97, 'confidence': 0.8680068117380142, 'avg_response_time': 3.8126975994044856, 'max_response_time': 3.875032026651169, 'contribution': 0.8477578675746917}, 'EfficientNetB7': {'accuracy': 0.9381443298969072, 'confidence': 0.7184932637460453, 'avg_response_time': 7.1204292836033325, 'max_response_time': 7.189049217284859, 'contribution': 0.7013075932399514}, 'DenseNet201': {'accuracy': 0.9375, 'confidence': 0.8520379917075237, 'avg_response_time': 0.5848918671847548, 'max_response_time': 0.7017973373738774, 'contribution': 0.8516787253320217}, 'Xception': {'accuracy': 0.9042553191489362, 'confidence': 0.754214106087989, 'avg_response_time': 0.990959876247086, 'max_response_time': 1.0193502332603366, 'contribution': 0.7513477833981209}, 'InceptionV3': {'accuracy': 0.9239130434782609, 'confidence': 0.8179652755675109, 'avg_response_time': 0.5775955229294899, 'max_response_time': 0.7062985018013463, 'contribution': 0.8164475164983583}}, 'input_state': {'input_file_length': 15, 'image_height': 224, 'image_width': 224}, 'distribution_weights': [1.0, 1.0, 1.0, 1.0, 1.0, 0.0, 0.0, 0.0, 0.0, 0.0, 0.0, 0.0, 0.0, 0.0, 0.0, 0.0, 0.0, 0.0, 0.0, 0.0]}\n",
      "{'accuracy': 0.9320388349514563, 'confidence': 0.7803466539877467, 'explainability': 1.0, 'energy': 0.023205572371097348, 'latency': 6.887206435020161}\n",
      "REWARD:  3.993086079042885\n",
      "Worst model: EfficientNetV2L with score: 0.5911481481481482\n",
      "Model 'EfficientNetV2L' successfully removed from the target YAML.\n",
      "Best model: EfficientNetV2L with score: 0.5911481481481482\n",
      "Model 'EfficientNetV2L' successfully added to the target YAML.\n"
     ]
    },
    {
     "name": "stderr",
     "output_type": "stream",
     "text": [
      "2025-01-28 15:53:36,252:INFO -- Action: Adding a model\n"
     ]
    },
    {
     "name": "stdout",
     "output_type": "stream",
     "text": [
      "STATE:  {'ensemble_state': {'total_energy_consumption': 0.023205572371097348, 'ensemble_size': 16}, 'model_states': {'InceptionResNetV2': {'accuracy': 0.8942307692307693, 'confidence': 0.805010688992647, 'avg_response_time': 2.0706896348925277, 'max_response_time': 2.222508735903802, 'contribution': 0.7966979211912706}, 'MobileNetV2': {'accuracy': 0.8631578947368421, 'confidence': 0.6889621169943558, 'avg_response_time': 0.09338869898243643, 'max_response_time': 0.15370382848033695, 'contribution': 0.6951288314242112}, 'ResNet50V2': {'accuracy': 0.7176470588235294, 'confidence': 0.6608235509956584, 'avg_response_time': 0.3808835414399375, 'max_response_time': 0.5175399351141425, 'contribution': 0.7122700954184813}, 'ensemble': {'accuracy': 0.9326923076923077, 'confidence': 0.7820693524923794, 'avg_response_time': 6.8894811734622206, 'max_response_time': 7.19564763259307, 'contribution': 0.916966248017091}, 'EfficientNetV2S': {'accuracy': 0.9705882352941176, 'confidence': 0.858619270955815, 'avg_response_time': 1.149817037762551, 'max_response_time': 1.232916014269438, 'contribution': 0.8449628370649674}, 'NASNetLarge': {'accuracy': 0.9702970297029703, 'confidence': 0.868491004599203, 'avg_response_time': 3.812984502303912, 'max_response_time': 3.875032026651169, 'contribution': 0.848442545031557}, 'EfficientNetB7': {'accuracy': 0.9387755102040817, 'confidence': 0.7199517299934309, 'avg_response_time': 7.120363205974308, 'max_response_time': 7.189049217284859, 'contribution': 0.7029414234720931}, 'DenseNet201': {'accuracy': 0.9381443298969072, 'confidence': 0.8535633277647274, 'avg_response_time': 0.5845737472819679, 'max_response_time': 0.7017973373738774, 'contribution': 0.8532077651662925}, 'Xception': {'accuracy': 0.9052631578947369, 'confidence': 0.7559432374803643, 'avg_response_time': 0.9909127018234922, 'max_response_time': 1.0193502332603366, 'contribution': 0.7531070866082844}, 'InceptionV3': {'accuracy': 0.9247311827956989, 'confidence': 0.8199137359537104, 'avg_response_time': 0.5772861333594737, 'max_response_time': 0.7062985018013463, 'contribution': 0.8184122968745488}}, 'input_state': {'input_file_length': 15, 'image_height': 224, 'image_width': 224}, 'distribution_weights': [1.0, 1.0, 1.0, 1.0, 1.0, 0.0, 0.0, 0.0, 0.0, 0.0, 0.0, 0.0, 0.0, 0.0, 0.0, 0.0, 0.0, 0.0, 0.0, 0.0]}\n",
      "{'accuracy': 0.9326923076923077, 'confidence': 0.7820693524923794, 'explainability': 1.0, 'energy': 0.023205572371097348, 'latency': 6.8894811734622206}\n",
      "REWARD:  3.993149183109118\n",
      "No eligible models to score.\n"
     ]
    },
    {
     "name": "stderr",
     "output_type": "stream",
     "text": [
      "2025-01-28 15:53:36,925:INFO -- Action: Keeping the ensemble\n"
     ]
    },
    {
     "name": "stdout",
     "output_type": "stream",
     "text": [
      "STATE:  {'ensemble_state': {'total_energy_consumption': 0.023205572371097348, 'ensemble_size': 16}, 'model_states': {'InceptionResNetV2': {'accuracy': 0.8952380952380953, 'confidence': 0.8060463587443034, 'avg_response_time': 2.071130537560247, 'max_response_time': 2.222508735903802, 'contribution': 0.7978127601600828}, 'MobileNetV2': {'accuracy': 0.8645833333333334, 'confidence': 0.6882320661097765, 'avg_response_time': 0.0938423654568538, 'max_response_time': 0.15370382848033695, 'contribution': 0.6943345439309875}, 'ResNet50V2': {'accuracy': 0.7209302325581395, 'confidence': 0.6623544516258462, 'avg_response_time': 0.3813378574050346, 'max_response_time': 0.5175399351141425, 'contribution': 0.7132027804158455}, 'ensemble': {'accuracy': 0.9333333333333333, 'confidence': 0.7824611076416238, 'avg_response_time': 6.891731336392987, 'max_response_time': 7.19564763259307, 'contribution': 0.9175391804604304}, 'EfficientNetV2S': {'accuracy': 0.970873786407767, 'confidence': 0.8592040781835908, 'avg_response_time': 1.1496868142352983, 'max_response_time': 1.232916014269438, 'contribution': 0.8456802310295475}, 'NASNetLarge': {'accuracy': 0.9705882352941176, 'confidence': 0.8689071547751334, 'avg_response_time': 3.812848653593487, 'max_response_time': 3.875032026651169, 'contribution': 0.8490552487326604}, 'EfficientNetB7': {'accuracy': 0.9393939393939394, 'confidence': 0.721038671454998, 'avg_response_time': 7.120323516740365, 'max_response_time': 7.189049217284859, 'contribution': 0.7042001862116535}, 'DenseNet201': {'accuracy': 0.9387755102040817, 'confidence': 0.8542896715962157, 'avg_response_time': 0.584480954987826, 'max_response_time': 0.7017973373738774, 'contribution': 0.8539377371875607}, 'Xception': {'accuracy': 0.90625, 'confidence': 0.7578809770445029, 'avg_response_time': 0.990918241163869, 'max_response_time': 1.0193502332603366, 'contribution': 0.7550743694106737}, 'InceptionV3': {'accuracy': 0.925531914893617, 'confidence': 0.8199585238669781, 'avg_response_time': 0.577314927161361, 'max_response_time': 0.7062985018013463, 'contribution': 0.8184730575439778}}, 'input_state': {'input_file_length': 14, 'image_height': 224, 'image_width': 224}, 'distribution_weights': [1.0, 1.0, 1.0, 1.0, 1.0, 0.0, 0.0, 0.0, 0.0, 0.0, 0.0, 0.0, 0.0, 0.0, 0.0, 0.0, 0.0, 0.0, 0.0, 0.0]}\n",
      "{'accuracy': 0.9333333333333333, 'confidence': 0.7824611076416238, 'explainability': 1.0, 'energy': 0.023205572371097348, 'latency': 6.891731336392987}\n",
      "REWARD:  3.9931749768349336\n"
     ]
    },
    {
     "name": "stderr",
     "output_type": "stream",
     "text": [
      "2025-01-28 15:53:37,628:INFO -- Action: Keeping the ensemble\n"
     ]
    },
    {
     "name": "stdout",
     "output_type": "stream",
     "text": [
      "STATE:  {'ensemble_state': {'total_energy_consumption': 0.023205572371097348, 'ensemble_size': 16}, 'model_states': {'InceptionResNetV2': {'accuracy': 0.8962264150943396, 'confidence': 0.8072895778799957, 'avg_response_time': 2.0709974271718044, 'max_response_time': 2.222508735903802, 'contribution': 0.7991336547541168}, 'MobileNetV2': {'accuracy': 0.865979381443299, 'confidence': 0.6913512840713423, 'avg_response_time': 0.093889974932141, 'max_response_time': 0.15370382848033695, 'contribution': 0.6973908497500665}, 'ResNet50V2': {'accuracy': 0.7241379310344828, 'confidence': 0.6662241292410883, 'avg_response_time': 0.381474078147321, 'max_response_time': 0.5175399351141425, 'contribution': 0.7164879944817774}, 'ensemble': {'accuracy': 0.9339622641509434, 'confidence': 0.7834957305751269, 'avg_response_time': 6.893535131854004, 'max_response_time': 7.19564763259307, 'contribution': 0.9183078335141236}, 'EfficientNetV2S': {'accuracy': 0.9711538461538461, 'confidence': 0.8595383797700589, 'avg_response_time': 1.1496084569112877, 'max_response_time': 1.232916014269438, 'contribution': 0.8461445696078814}, 'NASNetLarge': {'accuracy': 0.970873786407767, 'confidence': 0.869173792959417, 'avg_response_time': 3.812693976821515, 'max_response_time': 3.875032026651169, 'contribution': 0.8495146238688126}, 'EfficientNetB7': {'accuracy': 0.94, 'confidence': 0.7211865222454071, 'avg_response_time': 7.119855645110374, 'max_response_time': 7.189049217284859, 'contribution': 0.704516421854496}, 'DenseNet201': {'accuracy': 0.9393939393939394, 'confidence': 0.8557176921102736, 'avg_response_time': 0.5845105164380827, 'max_response_time': 0.7017973373738774, 'contribution': 0.8553693125946353}, 'Xception': {'accuracy': 0.9072164948453608, 'confidence': 0.7589682586414298, 'avg_response_time': 0.9909530587955373, 'max_response_time': 1.0193502332603366, 'contribution': 0.7561905851069185}, 'InceptionV3': {'accuracy': 0.9263157894736842, 'confidence': 0.819842265154186, 'avg_response_time': 0.5772210129775752, 'max_response_time': 0.7062985018013463, 'contribution': 0.8183724353187962}}, 'input_state': {'input_file_length': 15, 'image_height': 224, 'image_width': 224}, 'distribution_weights': [1.0, 1.0, 1.0, 1.0, 1.0, 0.0, 0.0, 0.0, 0.0, 0.0, 0.0, 0.0, 0.0, 0.0, 0.0, 0.0, 0.0, 0.0, 0.0, 0.0]}\n",
      "{'accuracy': 0.9339622641509434, 'confidence': 0.7834957305751269, 'explainability': 1.0, 'energy': 0.023205572371097348, 'latency': 6.893535131854004}\n",
      "REWARD:  3.993218298179319\n"
     ]
    },
    {
     "name": "stderr",
     "output_type": "stream",
     "text": [
      "2025-01-28 15:53:38,424:INFO -- Action: Keeping the ensemble\n"
     ]
    },
    {
     "name": "stdout",
     "output_type": "stream",
     "text": [
      "STATE:  {'ensemble_state': {'total_energy_consumption': 0.023205572371097348, 'ensemble_size': 16}, 'model_states': {'InceptionResNetV2': {'accuracy': 0.897196261682243, 'confidence': 0.8034364820640778, 'avg_response_time': 2.071190993910909, 'max_response_time': 2.222508735903802, 'contribution': 0.7916651159246392}, 'MobileNetV2': {'accuracy': 0.8571428571428571, 'confidence': 0.6842966791318388, 'avg_response_time': 0.09378334892585703, 'max_response_time': 0.15370382848033695, 'contribution': 0.6902746165893516}, 'ResNet50V2': {'accuracy': 0.7159090909090909, 'confidence': 0.6586534004997123, 'avg_response_time': 0.38183503183960377, 'max_response_time': 0.5175399351141425, 'contribution': 0.7083460854535754}, 'ensemble': {'accuracy': 0.9252336448598131, 'confidence': 0.776173340569752, 'avg_response_time': 6.895906807900174, 'max_response_time': 7.19564763259307, 'contribution': 0.9097255173130571}, 'EfficientNetV2S': {'accuracy': 0.9714285714285714, 'confidence': 0.85724002463477, 'avg_response_time': 1.1495663199697042, 'max_response_time': 1.232916014269438, 'contribution': 0.8380860498973302}, 'NASNetLarge': {'accuracy': 0.9711538461538461, 'confidence': 0.869397236750676, 'avg_response_time': 3.8131354077844675, 'max_response_time': 3.875032026651169, 'contribution': 0.8413462140239202}, 'EfficientNetB7': {'accuracy': 0.9405940594059405, 'confidence': 0.7203370096659897, 'avg_response_time': 7.120048948980992, 'max_response_time': 7.189049217284859, 'contribution': 0.6975410117371248}, 'DenseNet201': {'accuracy': 0.93, 'confidence': 0.8471605151891708, 'avg_response_time': 0.5844336712996784, 'max_response_time': 0.7017973373738774, 'contribution': 0.846815619468689}, 'Xception': {'accuracy': 0.9081632653061225, 'confidence': 0.7542881871364555, 'avg_response_time': 0.9907776558768963, 'max_response_time': 1.0193502332603366, 'contribution': 0.7484743546466438}, 'InceptionV3': {'accuracy': 0.9270833333333334, 'confidence': 0.8156455826635162, 'avg_response_time': 0.5772301090730776, 'max_response_time': 0.7062985018013463, 'contribution': 0.8098477224508921}}, 'input_state': {'input_file_length': 14, 'image_height': 224, 'image_width': 224}, 'distribution_weights': [1.0, 1.0, 1.0, 1.0, 1.0, 0.0, 0.0, 0.0, 0.0, 0.0, 0.0, 0.0, 0.0, 0.0, 0.0, 0.0, 0.0, 0.0, 0.0, 0.0]}\n",
      "{'accuracy': 0.9252336448598131, 'confidence': 0.776173340569752, 'explainability': 1.0, 'energy': 0.023205572371097348, 'latency': 6.895906807900174}\n",
      "REWARD:  3.9928105069372752\n"
     ]
    },
    {
     "name": "stderr",
     "output_type": "stream",
     "text": [
      "2025-01-28 15:53:39,204:INFO -- Action: Replacing a model\n"
     ]
    },
    {
     "name": "stdout",
     "output_type": "stream",
     "text": [
      "STATE:  {'ensemble_state': {'total_energy_consumption': 0.023205572371097348, 'ensemble_size': 16}, 'model_states': {'InceptionResNetV2': {'accuracy': 0.8981481481481481, 'confidence': 0.8045021714987578, 'avg_response_time': 2.071295382209962, 'max_response_time': 2.222508735903802, 'contribution': 0.7928397994902399}, 'MobileNetV2': {'accuracy': 0.8585858585858586, 'confidence': 0.6866646439138085, 'avg_response_time': 0.09373812160583357, 'max_response_time': 0.15370382848033695, 'contribution': 0.6925821981646798}, 'ResNet50V2': {'accuracy': 0.7191011235955056, 'confidence': 0.6624882117416082, 'avg_response_time': 0.38205144323159895, 'max_response_time': 0.5175399351141425, 'contribution': 0.7116225519207087}, 'ensemble': {'accuracy': 0.9259259259259259, 'confidence': 0.7772305196242427, 'avg_response_time': 6.898306054993568, 'max_response_time': 7.19564763259307, 'contribution': 0.9105609440141254}, 'EfficientNetV2S': {'accuracy': 0.9716981132075472, 'confidence': 0.8573623114037063, 'avg_response_time': 1.1495927641270345, 'max_response_time': 1.232916014269438, 'contribution': 0.8383890345411481}, 'NASNetLarge': {'accuracy': 0.9714285714285714, 'confidence': 0.8699488197054182, 'avg_response_time': 3.8130573527192966, 'max_response_time': 3.875032026651169, 'contribution': 0.84216494957606}, 'EfficientNetB7': {'accuracy': 0.9411764705882353, 'confidence': 0.7214076764443341, 'avg_response_time': 7.120287566831677, 'max_response_time': 7.189049217284859, 'contribution': 0.6988351686912424}, 'DenseNet201': {'accuracy': 0.9306930693069307, 'confidence': 0.8486303722504343, 'avg_response_time': 0.5843251292904379, 'max_response_time': 0.7017973373738774, 'contribution': 0.848288891339066}, 'Xception': {'accuracy': 0.9090909090909091, 'confidence': 0.7548477375748182, 'avg_response_time': 0.9909545251583263, 'max_response_time': 1.0193502332603366, 'contribution': 0.7490926306657116}, 'InceptionV3': {'accuracy': 0.9278350515463918, 'confidence': 0.8167808212570309, 'avg_response_time': 0.5769405338222365, 'max_response_time': 0.7062985018013463, 'contribution': 0.811042732799176}}, 'input_state': {'input_file_length': 13, 'image_height': 224, 'image_width': 224}, 'distribution_weights': [1.0, 1.0, 1.0, 1.0, 1.0, 0.0, 0.0, 0.0, 0.0, 0.0, 0.0, 0.0, 0.0, 0.0, 0.0, 0.0, 0.0, 0.0, 0.0, 0.0]}\n",
      "{'accuracy': 0.9259259259259259, 'confidence': 0.7772305196242427, 'explainability': 1.0, 'energy': 0.023205572371097348, 'latency': 6.898306054993568}\n",
      "REWARD:  3.9928563045140213\n",
      "Worst model: EfficientNetV2L with score: 0.5911481481481482\n",
      "Model 'EfficientNetV2L' successfully removed from the target YAML.\n",
      "Best model: EfficientNetV2L with score: 0.5911481481481482\n",
      "Model 'EfficientNetV2L' successfully added to the target YAML.\n"
     ]
    },
    {
     "name": "stderr",
     "output_type": "stream",
     "text": [
      "2025-01-28 15:53:40,150:INFO -- Action: Replacing a model\n"
     ]
    },
    {
     "name": "stdout",
     "output_type": "stream",
     "text": [
      "STATE:  {'ensemble_state': {'total_energy_consumption': 0.023205572371097348, 'ensemble_size': 16}, 'model_states': {'InceptionResNetV2': {'accuracy': 0.8990825688073395, 'confidence': 0.8055464215234879, 'avg_response_time': 2.071414912233632, 'max_response_time': 2.222508735903802, 'contribution': 0.7939910437535802}, 'MobileNetV2': {'accuracy': 0.86, 'confidence': 0.6865964430570602, 'avg_response_time': 0.0938812644047598, 'max_response_time': 0.15370382848033695, 'contribution': 0.6924548217654228}, 'ResNet50V2': {'accuracy': 0.7222222222222222, 'confidence': 0.6661613805426492, 'avg_response_time': 0.3820790505005082, 'max_response_time': 0.5175399351141425, 'contribution': 0.7147497836086485}, 'ensemble': {'accuracy': 0.926605504587156, 'confidence': 0.777809597017454, 'avg_response_time': 6.900381730641472, 'max_response_time': 7.19564763259307, 'contribution': 0.9113617287863285}, 'EfficientNetV2S': {'accuracy': 0.9719626168224299, 'confidence': 0.8577859613382928, 'avg_response_time': 1.1496629991293723, 'max_response_time': 1.232916014269438, 'contribution': 0.8389900048202443}, 'NASNetLarge': {'accuracy': 0.9716981132075472, 'confidence': 0.8700936341060782, 'avg_response_time': 3.8131739206204704, 'max_response_time': 3.875032026651169, 'contribution': 0.8425718759590725}, 'EfficientNetB7': {'accuracy': 0.941747572815534, 'confidence': 0.722284698370591, 'avg_response_time': 7.120223990495066, 'max_response_time': 7.189049217284859, 'contribution': 0.6999313411782089}, 'DenseNet201': {'accuracy': 0.9313725490196079, 'confidence': 0.8494371023832583, 'avg_response_time': 0.5841673119396402, 'max_response_time': 0.7017973373738774, 'contribution': 0.8490989693239623}, 'Xception': {'accuracy': 0.91, 'confidence': 0.7558249166607857, 'avg_response_time': 0.9909498651552565, 'max_response_time': 1.0193502332603366, 'contribution': 0.7501273608207703}, 'InceptionV3': {'accuracy': 0.9285714285714286, 'confidence': 0.8175182394227203, 'avg_response_time': 0.5762171011975777, 'max_response_time': 0.7062985018013463, 'contribution': 0.8118387028879049}}, 'input_state': {'input_file_length': 13, 'image_height': 224, 'image_width': 224}, 'distribution_weights': [1.0, 1.0, 1.0, 1.0, 1.0, 0.0, 0.0, 0.0, 0.0, 0.0, 0.0, 0.0, 0.0, 0.0, 0.0, 0.0, 0.0, 0.0, 0.0, 0.0]}\n",
      "{'accuracy': 0.926605504587156, 'confidence': 0.777809597017454, 'explainability': 1.0, 'energy': 0.023205572371097348, 'latency': 6.900381730641472}\n",
      "REWARD:  3.992888408661833\n",
      "Worst model: EfficientNetV2L with score: 0.5911481481481482\n",
      "Model 'EfficientNetV2L' successfully removed from the target YAML.\n",
      "Best model: EfficientNetV2L with score: 0.5911481481481482\n",
      "Model 'EfficientNetV2L' successfully added to the target YAML.\n"
     ]
    },
    {
     "name": "stderr",
     "output_type": "stream",
     "text": [
      "2025-01-28 15:53:41,111:INFO -- Action: Adding a model\n"
     ]
    },
    {
     "name": "stdout",
     "output_type": "stream",
     "text": [
      "STATE:  {'ensemble_state': {'total_energy_consumption': 0.023205572371097348, 'ensemble_size': 16}, 'model_states': {'InceptionResNetV2': {'accuracy': 0.9, 'confidence': 0.8065806074575944, 'avg_response_time': 2.0715254269034005, 'max_response_time': 2.222508735903802, 'contribution': 0.7951302785765041}, 'MobileNetV2': {'accuracy': 0.8613861386138614, 'confidence': 0.6885221376277433, 'avg_response_time': 0.09382454922968417, 'max_response_time': 0.15370382848033695, 'contribution': 0.6943225125865181}, 'ResNet50V2': {'accuracy': 0.7252747252747253, 'confidence': 0.6686380056889503, 'avg_response_time': 0.3819892862056068, 'max_response_time': 0.5175399351141425, 'contribution': 0.7166924702597188}, 'ensemble': {'accuracy': 0.9272727272727272, 'confidence': 0.7788430878327423, 'avg_response_time': 6.902920258777863, 'max_response_time': 7.19564763259307, 'contribution': 0.9121474379842932}, 'EfficientNetV2S': {'accuracy': 0.9722222222222222, 'confidence': 0.8578317215045294, 'avg_response_time': 1.1496795517483496, 'max_response_time': 1.232916014269438, 'contribution': 0.8392098016209073}, 'NASNetLarge': {'accuracy': 0.9719626168224299, 'confidence': 0.8708891595635458, 'avg_response_time': 3.8132710225357744, 'max_response_time': 3.875032026651169, 'contribution': 0.8436246141095027}, 'EfficientNetB7': {'accuracy': 0.9423076923076923, 'confidence': 0.7231734234553117, 'avg_response_time': 7.1207017234132115, 'max_response_time': 7.189049217284859, 'contribution': 0.7010350023897794}, 'DenseNet201': {'accuracy': 0.9320388349514563, 'confidence': 0.8507284192205633, 'avg_response_time': 0.5840035855279363, 'max_response_time': 0.7017973373738774, 'contribution': 0.8503935690065032}, 'Xception': {'accuracy': 0.9108910891089109, 'confidence': 0.7575284103945931, 'avg_response_time': 0.9908636206894595, 'max_response_time': 1.0193502332603366, 'contribution': 0.7518872659985382}, 'InceptionV3': {'accuracy': 0.9292929292929293, 'confidence': 0.8193391636766568, 'avg_response_time': 0.5761064295128525, 'max_response_time': 0.7062985018013463, 'contribution': 0.8137169961977486}}, 'input_state': {'input_file_length': 14, 'image_height': 224, 'image_width': 224}, 'distribution_weights': [1.0, 1.0, 1.0, 1.0, 1.0, 0.0, 0.0, 0.0, 0.0, 0.0, 0.0, 0.0, 0.0, 0.0, 0.0, 0.0, 0.0, 0.0, 0.0, 0.0]}\n",
      "{'accuracy': 0.9272727272727272, 'confidence': 0.7788430878327423, 'explainability': 1.0, 'energy': 0.023205572371097348, 'latency': 6.902920258777863}\n",
      "REWARD:  3.9929328728266142\n",
      "No eligible models to score.\n"
     ]
    },
    {
     "name": "stderr",
     "output_type": "stream",
     "text": [
      "2025-01-28 15:53:41,809:INFO -- Action: Replacing a model\n"
     ]
    },
    {
     "name": "stdout",
     "output_type": "stream",
     "text": [
      "STATE:  {'ensemble_state': {'total_energy_consumption': 0.023205572371097348, 'ensemble_size': 16}, 'model_states': {'InceptionResNetV2': {'accuracy': 0.9009009009009009, 'confidence': 0.8076736449121354, 'avg_response_time': 2.071690198793279, 'max_response_time': 2.222508735903802, 'contribution': 0.7963264721470911}, 'MobileNetV2': {'accuracy': 0.8627450980392157, 'confidence': 0.6914606293042501, 'avg_response_time': 0.09395218233613013, 'max_response_time': 0.15370382848033695, 'contribution': 0.6972041378418604}, 'ResNet50V2': {'accuracy': 0.7282608695652174, 'confidence': 0.6722393648132033, 'avg_response_time': 0.3822683264058252, 'max_response_time': 0.5175399351141425, 'contribution': 0.7197714982473332}, 'ensemble': {'accuracy': 0.9279279279279279, 'confidence': 0.7803173531718751, 'avg_response_time': 6.905077780660973, 'max_response_time': 7.19564763259307, 'contribution': 0.9129388745840605}, 'EfficientNetV2S': {'accuracy': 0.9724770642201835, 'confidence': 0.8585727745239887, 'avg_response_time': 1.149960424744136, 'max_response_time': 1.232916014269438, 'contribution': 0.8401216979420513}, 'NASNetLarge': {'accuracy': 0.9722222222222222, 'confidence': 0.8712781562849328, 'avg_response_time': 3.8131313434270533, 'max_response_time': 3.875032026651169, 'contribution': 0.8442660603258345}, 'EfficientNetB7': {'accuracy': 0.9428571428571428, 'confidence': 0.7241442867687771, 'avg_response_time': 7.120829130747933, 'max_response_time': 7.189049217284859, 'contribution': 0.7022167078086308}, 'DenseNet201': {'accuracy': 0.9326923076923077, 'confidence': 0.8521508379624441, 'avg_response_time': 0.5838693259562932, 'max_response_time': 0.7017973373738774, 'contribution': 0.8518192074619807}, 'Xception': {'accuracy': 0.9117647058823529, 'confidence': 0.7571964559017443, 'avg_response_time': 0.9910004305863401, 'max_response_time': 1.0193502332603366, 'contribution': 0.7516106168429056}, 'InceptionV3': {'accuracy': 0.93, 'confidence': 0.8209203621745109, 'avg_response_time': 0.5759749639174757, 'max_response_time': 0.7062985018013463, 'contribution': 0.8153544163703919}}, 'input_state': {'input_file_length': 14, 'image_height': 224, 'image_width': 224}, 'distribution_weights': [1.0, 1.0, 1.0, 1.0, 1.0, 0.0, 0.0, 0.0, 0.0, 0.0, 0.0, 0.0, 0.0, 0.0, 0.0, 0.0, 0.0, 0.0, 0.0, 0.0]}\n",
      "{'accuracy': 0.9279279279279279, 'confidence': 0.7803173531718751, 'explainability': 1.0, 'energy': 0.023205572371097348, 'latency': 6.905077780660973}\n",
      "REWARD:  3.992989275552313\n",
      "Worst model: EfficientNetV2L with score: 0.5911481481481482\n",
      "Model 'EfficientNetV2L' successfully removed from the target YAML.\n",
      "Best model: EfficientNetV2L with score: 0.5911481481481482\n",
      "Model 'EfficientNetV2L' successfully added to the target YAML.\n"
     ]
    },
    {
     "name": "stderr",
     "output_type": "stream",
     "text": [
      "2025-01-28 15:53:42,734:INFO -- Action: Adding a model\n"
     ]
    },
    {
     "name": "stdout",
     "output_type": "stream",
     "text": [
      "STATE:  {'ensemble_state': {'total_energy_consumption': 0.023205572371097348, 'ensemble_size': 16}, 'model_states': {'InceptionResNetV2': {'accuracy': 0.9017857142857143, 'confidence': 0.8042785088930812, 'avg_response_time': 2.071538655031339, 'max_response_time': 2.222508735903802, 'contribution': 0.7930326501705817}, 'MobileNetV2': {'accuracy': 0.8543689320388349, 'confidence': 0.6847474193110049, 'avg_response_time': 0.09389229585319792, 'max_response_time': 0.15370382848033695, 'contribution': 0.6904351656298036}, 'ResNet50V2': {'accuracy': 0.7204301075268817, 'confidence': 0.6650109845463947, 'avg_response_time': 0.3826297491655724, 'max_response_time': 0.5175399351141425, 'contribution': 0.7120320197715554}, 'ensemble': {'accuracy': 0.9285714285714286, 'confidence': 0.7788580626414953, 'avg_response_time': 6.907268902187953, 'max_response_time': 7.19564763259307, 'contribution': 0.9047876346324172}, 'EfficientNetV2S': {'accuracy': 0.9727272727272728, 'confidence': 0.8584611995653673, 'avg_response_time': 1.1498277880109575, 'max_response_time': 1.232916014269438, 'contribution': 0.8401778600432656}, 'NASNetLarge': {'accuracy': 0.9724770642201835, 'confidence': 0.8691559729226138, 'avg_response_time': 3.8131732651309864, 'max_response_time': 3.875032026651169, 'contribution': 0.8423916943576357}, 'EfficientNetB7': {'accuracy': 0.9433962264150944, 'confidence': 0.7240181795830997, 'avg_response_time': 7.121029617622129, 'max_response_time': 7.189049217284859, 'contribution': 0.7022974645754076}, 'DenseNet201': {'accuracy': 0.9333333333333333, 'confidence': 0.8523175353095644, 'avg_response_time': 0.5838754041510322, 'max_response_time': 0.7017973373738774, 'contribution': 0.8519890631948198}, 'Xception': {'accuracy': 0.912621359223301, 'confidence': 0.7554159427730782, 'avg_response_time': 0.9909800320020024, 'max_response_time': 1.0193502332603366, 'contribution': 0.7498843351614128}, 'InceptionV3': {'accuracy': 0.9207920792079208, 'confidence': 0.8127924377965455, 'avg_response_time': 0.5760864105180454, 'max_response_time': 0.7062985018013463, 'contribution': 0.8072816003667246}}, 'input_state': {'input_file_length': 14, 'image_height': 224, 'image_width': 224}, 'distribution_weights': [1.0, 1.0, 1.0, 1.0, 1.0, 0.0, 0.0, 0.0, 0.0, 0.0, 0.0, 0.0, 0.0, 0.0, 0.0, 0.0, 0.0, 0.0, 0.0, 0.0]}\n",
      "{'accuracy': 0.9285714285714286, 'confidence': 0.7788580626414953, 'explainability': 1.0, 'energy': 0.023205572371097348, 'latency': 6.907268902187953}\n",
      "REWARD:  3.9929636818326424\n",
      "No eligible models to score.\n"
     ]
    },
    {
     "name": "stderr",
     "output_type": "stream",
     "text": [
      "2025-01-28 15:53:43,536:INFO -- Action: Adding a model\n"
     ]
    },
    {
     "name": "stdout",
     "output_type": "stream",
     "text": [
      "STATE:  {'ensemble_state': {'total_energy_consumption': 0.023205572371097348, 'ensemble_size': 16}, 'model_states': {'InceptionResNetV2': {'accuracy': 0.9026548672566371, 'confidence': 0.8056255552621014, 'avg_response_time': 2.071377544104218, 'max_response_time': 2.222508735903802, 'contribution': 0.7944792174132524}, 'MobileNetV2': {'accuracy': 0.8557692307692307, 'confidence': 0.6868570653291849, 'avg_response_time': 0.09376286763451479, 'max_response_time': 0.15370382848033695, 'contribution': 0.6924901217795335}, 'ResNet50V2': {'accuracy': 0.723404255319149, 'confidence': 0.6685713190347591, 'avg_response_time': 0.3828141587384926, 'max_response_time': 0.5175399351141425, 'contribution': 0.7150921304809287}, 'ensemble': {'accuracy': 0.9292035398230089, 'confidence': 0.7797283841609556, 'avg_response_time': 6.909240219567185, 'max_response_time': 7.19564763259307, 'contribution': 0.9056274115511801}, 'EfficientNetV2S': {'accuracy': 0.972972972972973, 'confidence': 0.859073421439609, 'avg_response_time': 1.1499110154712209, 'max_response_time': 1.232916014269438, 'contribution': 0.8409547966879767}, 'NASNetLarge': {'accuracy': 0.9727272727272728, 'confidence': 0.8695105373859405, 'avg_response_time': 3.8132839203391113, 'max_response_time': 3.875032026651169, 'contribution': 0.8429895704442805}, 'EfficientNetB7': {'accuracy': 0.9439252336448598, 'confidence': 0.7238399492245968, 'avg_response_time': 7.121028179699369, 'max_response_time': 7.189049217284859, 'contribution': 0.7023222315534253}, 'DenseNet201': {'accuracy': 0.9339622641509434, 'confidence': 0.8535319684811358, 'avg_response_time': 0.5835908442177662, 'max_response_time': 0.7017973373738774, 'contribution': 0.8532065951599265}, 'Xception': {'accuracy': 0.9134615384615384, 'confidence': 0.7573948310544858, 'avg_response_time': 0.9910827360022496, 'max_response_time': 1.0193502332603366, 'contribution': 0.7519164119775479}, 'InceptionV3': {'accuracy': 0.9215686274509803, 'confidence': 0.8140321990438536, 'avg_response_time': 0.5760730732107117, 'max_response_time': 0.7062985018013463, 'contribution': 0.8085753894319722}}, 'input_state': {'input_file_length': 14, 'image_height': 224, 'image_width': 224}, 'distribution_weights': [1.0, 1.0, 1.0, 1.0, 1.0, 0.0, 0.0, 0.0, 0.0, 0.0, 0.0, 0.0, 0.0, 0.0, 0.0, 0.0, 0.0, 0.0, 0.0, 0.0]}\n",
      "{'accuracy': 0.9292035398230089, 'confidence': 0.7797283841609556, 'explainability': 1.0, 'energy': 0.023205572371097348, 'latency': 6.909240219567185}\n",
      "REWARD:  3.993002709977733\n",
      "No eligible models to score.\n"
     ]
    },
    {
     "name": "stderr",
     "output_type": "stream",
     "text": [
      "2025-01-28 15:53:44,306:INFO -- Action: Adding a model\n"
     ]
    },
    {
     "name": "stdout",
     "output_type": "stream",
     "text": [
      "STATE:  {'ensemble_state': {'total_energy_consumption': 0.023205572371097348, 'ensemble_size': 16}, 'model_states': {'InceptionResNetV2': {'accuracy': 0.9035087719298246, 'confidence': 0.8068250036030485, 'avg_response_time': 2.0715300665380645, 'max_response_time': 2.222508735903802, 'contribution': 0.7957764406476104}, 'MobileNetV2': {'accuracy': 0.8571428571428571, 'confidence': 0.6887238332203456, 'avg_response_time': 0.093725663722563, 'max_response_time': 0.15370382848033695, 'contribution': 0.6943032415140242}, 'ResNet50V2': {'accuracy': 0.7157894736842105, 'confidence': 0.6615337262028143, 'avg_response_time': 0.38297371658254925, 'max_response_time': 0.5175399351141425, 'contribution': 0.7075648448969188}, 'ensemble': {'accuracy': 0.9298245614035088, 'confidence': 0.7803349287858975, 'avg_response_time': 6.910892475419216, 'max_response_time': 7.19564763259307, 'contribution': 0.9062608203344178}, 'EfficientNetV2S': {'accuracy': 0.9732142857142857, 'confidence': 0.859934254948582, 'avg_response_time': 1.149974739379396, 'max_response_time': 1.232916014269438, 'contribution': 0.8419774036322322}, 'NASNetLarge': {'accuracy': 0.972972972972973, 'confidence': 0.8703175181741113, 'avg_response_time': 3.813376950257139, 'max_response_time': 3.875032026651169, 'contribution': 0.8440354788625563}, 'EfficientNetB7': {'accuracy': 0.9444444444444444, 'confidence': 0.7252376068521429, 'avg_response_time': 7.120718221662606, 'max_response_time': 7.189049217284859, 'contribution': 0.7039191273075563}, 'DenseNet201': {'accuracy': 0.9252336448598131, 'confidence': 0.8455550341962654, 'avg_response_time': 0.5835373239733195, 'max_response_time': 0.7017973373738774, 'contribution': 0.8452327017472169}, 'Xception': {'accuracy': 0.9142857142857143, 'confidence': 0.7577383498350779, 'avg_response_time': 0.9911906042275763, 'max_response_time': 1.0193502332603366, 'contribution': 0.7523121061779204}, 'InceptionV3': {'accuracy': 0.9223300970873787, 'confidence': 0.8156225273331392, 'avg_response_time': 0.5760663550250451, 'max_response_time': 0.7062985018013463, 'contribution': 0.8102186964553537}}, 'input_state': {'input_file_length': 15, 'image_height': 224, 'image_width': 224}, 'distribution_weights': [1.0, 1.0, 1.0, 1.0, 1.0, 0.0, 0.0, 0.0, 0.0, 0.0, 0.0, 0.0, 0.0, 0.0, 0.0, 0.0, 0.0, 0.0, 0.0, 0.0]}\n",
      "{'accuracy': 0.9298245614035088, 'confidence': 0.7803349287858975, 'explainability': 1.0, 'energy': 0.023205572371097348, 'latency': 6.910892475419216}\n",
      "REWARD:  3.99303410304267\n",
      "No eligible models to score.\n"
     ]
    },
    {
     "name": "stderr",
     "output_type": "stream",
     "text": [
      "2025-01-28 15:53:45,112:INFO -- Action: Adding a model\n"
     ]
    },
    {
     "name": "stdout",
     "output_type": "stream",
     "text": [
      "STATE:  {'ensemble_state': {'total_energy_consumption': 0.023205572371097348, 'ensemble_size': 16}, 'model_states': {'InceptionResNetV2': {'accuracy': 0.9043478260869565, 'confidence': 0.8079038816949595, 'avg_response_time': 2.0714733781369237, 'max_response_time': 2.222508735903802, 'contribution': 0.7969513932000036}, 'MobileNetV2': {'accuracy': 0.8584905660377359, 'confidence': 0.6901597847353738, 'avg_response_time': 0.0937071788896799, 'max_response_time': 0.15370382848033695, 'contribution': 0.6956865571017535}, 'ResNet50V2': {'accuracy': 0.71875, 'confidence': 0.6629354627802968, 'avg_response_time': 0.3828650734487325, 'max_response_time': 0.5175399351141425, 'contribution': 0.7084870906546712}, 'ensemble': {'accuracy': 0.9304347826086956, 'confidence': 0.78126253459493, 'avg_response_time': 6.913114165122082, 'max_response_time': 7.19564763259307, 'contribution': 0.9070743892503821}, 'EfficientNetV2S': {'accuracy': 0.9734513274336283, 'confidence': 0.8605388387114601, 'avg_response_time': 1.1496951318618815, 'max_response_time': 1.232916014269438, 'contribution': 0.8427408975837505}, 'NASNetLarge': {'accuracy': 0.9732142857142857, 'confidence': 0.8704717409397874, 'avg_response_time': 3.8135286264704535, 'max_response_time': 3.875032026651169, 'contribution': 0.8444243626935142}, 'EfficientNetB7': {'accuracy': 0.944954128440367, 'confidence': 0.7265688481680844, 'avg_response_time': 7.1210540745911635, 'max_response_time': 7.189049217284859, 'contribution': 0.7054459510046408}, 'DenseNet201': {'accuracy': 0.9259259259259259, 'confidence': 0.8460132507262407, 'avg_response_time': 0.5835425636520144, 'max_response_time': 0.7017973373738774, 'contribution': 0.8456939028369056}, 'Xception': {'accuracy': 0.9150943396226415, 'confidence': 0.7586984997088054, 'avg_response_time': 0.9910526523887805, 'max_response_time': 1.0193502332603366, 'contribution': 0.7533234470295456}, 'InceptionV3': {'accuracy': 0.9230769230769231, 'confidence': 0.8173507638275623, 'avg_response_time': 0.5760813025354875, 'max_response_time': 0.7062985018013463, 'contribution': 0.8119988928620632}}, 'input_state': {'input_file_length': 15, 'image_height': 224, 'image_width': 224}, 'distribution_weights': [1.0, 1.0, 1.0, 1.0, 1.0, 0.0, 0.0, 0.0, 0.0, 0.0, 0.0, 0.0, 0.0, 0.0, 0.0, 0.0, 0.0, 0.0, 0.0, 0.0]}\n",
      "{'accuracy': 0.9304347826086956, 'confidence': 0.78126253459493, 'explainability': 1.0, 'energy': 0.023205572371097348, 'latency': 6.913114165122082}\n",
      "REWARD:  3.993074146778538\n",
      "No eligible models to score.\n"
     ]
    },
    {
     "name": "stderr",
     "output_type": "stream",
     "text": [
      "2025-01-28 15:53:45,924:INFO -- Action: Adding a model\n"
     ]
    },
    {
     "name": "stdout",
     "output_type": "stream",
     "text": [
      "STATE:  {'ensemble_state': {'total_energy_consumption': 0.023205572371097348, 'ensemble_size': 16}, 'model_states': {'InceptionResNetV2': {'accuracy': 0.9051724137931034, 'confidence': 0.8089623106964703, 'avg_response_time': 2.0712715092829734, 'max_response_time': 2.222508735903802, 'contribution': 0.7981042402057812}, 'MobileNetV2': {'accuracy': 0.8598130841121495, 'confidence': 0.692877332740855, 'avg_response_time': 0.09384023548082046, 'max_response_time': 0.15370382848033695, 'contribution': 0.6983524530290444}, 'ResNet50V2': {'accuracy': 0.7216494845360825, 'confidence': 0.6648104003409749, 'avg_response_time': 0.38332383111764007, 'max_response_time': 0.5175399351141425, 'contribution': 0.7098924238042733}, 'ensemble': {'accuracy': 0.9310344827586207, 'confidence': 0.7817775110590872, 'avg_response_time': 6.914851052497909, 'max_response_time': 7.19564763259307, 'contribution': 0.907755636963351}, 'EfficientNetV2S': {'accuracy': 0.9736842105263158, 'confidence': 0.8611662910695661, 'avg_response_time': 1.1499034038504614, 'max_response_time': 1.232916014269438, 'contribution': 0.8435244722324505}, 'NASNetLarge': {'accuracy': 0.9734513274336283, 'confidence': 0.8707915871544222, 'avg_response_time': 3.813522429954412, 'max_response_time': 3.875032026651169, 'contribution': 0.8449747166802398}, 'EfficientNetB7': {'accuracy': 0.9454545454545454, 'confidence': 0.7274664515798742, 'avg_response_time': 7.120908220908901, 'max_response_time': 7.189049217284859, 'contribution': 0.7065355807542801}, 'DenseNet201': {'accuracy': 0.926605504587156, 'confidence': 0.8465407878980724, 'avg_response_time': 0.5835293534436329, 'max_response_time': 0.7017973373738774, 'contribution': 0.8462243698058872}, 'Xception': {'accuracy': 0.9158878504672897, 'confidence': 0.7594938587362521, 'avg_response_time': 0.9913606455996792, 'max_response_time': 1.0240079259549277, 'contribution': 0.7541690401941816}, 'InceptionV3': {'accuracy': 0.9238095238095239, 'confidence': 0.8189578910668691, 'avg_response_time': 0.5765048948339693, 'max_response_time': 0.7062985018013463, 'contribution': 0.8136569903010413}}, 'input_state': {'input_file_length': 15, 'image_height': 224, 'image_width': 224}, 'distribution_weights': [1.0, 1.0, 1.0, 1.0, 1.0, 0.0, 0.0, 0.0, 0.0, 0.0, 0.0, 0.0, 0.0, 0.0, 0.0, 0.0, 0.0, 0.0, 0.0, 0.0]}\n",
      "{'accuracy': 0.9310344827586207, 'confidence': 0.7817775110590872, 'explainability': 1.0, 'energy': 0.023205572371097348, 'latency': 6.914851052497909}\n",
      "REWARD:  3.9931024469719048\n",
      "No eligible models to score.\n"
     ]
    },
    {
     "name": "stderr",
     "output_type": "stream",
     "text": [
      "2025-01-28 15:53:46,647:INFO -- Action: Replacing a model\n"
     ]
    },
    {
     "name": "stdout",
     "output_type": "stream",
     "text": [
      "STATE:  {'ensemble_state': {'total_energy_consumption': 0.023205572371097348, 'ensemble_size': 16}, 'model_states': {'InceptionResNetV2': {'accuracy': 0.905982905982906, 'confidence': 0.8097438160170857, 'avg_response_time': 2.0713375072439435, 'max_response_time': 2.222508735903802, 'contribution': 0.7989785495476845}, 'MobileNetV2': {'accuracy': 0.8611111111111112, 'confidence': 0.6939047425985336, 'avg_response_time': 0.09387799471813071, 'max_response_time': 0.15370382848033695, 'contribution': 0.699329167328499}, 'ResNet50V2': {'accuracy': 0.7244897959183674, 'confidence': 0.668230453011941, 'avg_response_time': 0.3834935232939831, 'max_response_time': 0.5175399351141425, 'contribution': 0.7128524558276547}, 'ensemble': {'accuracy': 0.9316239316239316, 'confidence': 0.7826131163854683, 'avg_response_time': 6.916599934791829, 'max_response_time': 7.19564763259307, 'contribution': 0.9085438414516612}, 'EfficientNetV2S': {'accuracy': 0.9739130434782609, 'confidence': 0.8616614538690318, 'avg_response_time': 1.149806464816892, 'max_response_time': 1.232916014269438, 'contribution': 0.844173042152239}, 'NASNetLarge': {'accuracy': 0.9736842105263158, 'confidence': 0.8710716272655287, 'avg_response_time': 3.8137038975203534, 'max_response_time': 3.875032026651169, 'contribution': 0.8454812205674356}, 'EfficientNetB7': {'accuracy': 0.9459459459459459, 'confidence': 0.7285435194367761, 'avg_response_time': 7.120813752153937, 'max_response_time': 7.189049217284859, 'contribution': 0.7078012150150161}, 'DenseNet201': {'accuracy': 0.9272727272727272, 'confidence': 0.8478732894767415, 'avg_response_time': 0.5833729809919074, 'max_response_time': 0.7017973373738774, 'contribution': 0.847559747912667}, 'Xception': {'accuracy': 0.9166666666666666, 'confidence': 0.7605795653329955, 'avg_response_time': 0.9913122905855247, 'max_response_time': 1.0240079259549277, 'contribution': 0.7553040506663146}, 'InceptionV3': {'accuracy': 0.9245283018867925, 'confidence': 0.820264736717602, 'avg_response_time': 0.5762180928934985, 'max_response_time': 0.7062985018013463, 'contribution': 0.8150138444495652}}, 'input_state': {'input_file_length': 13, 'image_height': 224, 'image_width': 224}, 'distribution_weights': [1.0, 1.0, 1.0, 1.0, 1.0, 0.0, 0.0, 0.0, 0.0, 0.0, 0.0, 0.0, 0.0, 0.0, 0.0, 0.0, 0.0, 0.0, 0.0, 0.0]}\n",
      "{'accuracy': 0.9316239316239316, 'confidence': 0.7826131163854683, 'explainability': 1.0, 'energy': 0.023205572371097348, 'latency': 6.916599934791829}\n",
      "REWARD:  3.9931393879239447\n",
      "Worst model: EfficientNetV2L with score: 0.5911481481481482\n",
      "Model 'EfficientNetV2L' successfully removed from the target YAML.\n",
      "Best model: EfficientNetV2L with score: 0.5911481481481482\n",
      "Model 'EfficientNetV2L' successfully added to the target YAML.\n"
     ]
    },
    {
     "name": "stderr",
     "output_type": "stream",
     "text": [
      "2025-01-28 15:53:47,542:INFO -- Action: Replacing a model\n"
     ]
    },
    {
     "name": "stdout",
     "output_type": "stream",
     "text": [
      "STATE:  {'ensemble_state': {'total_energy_consumption': 0.023205572371097348, 'ensemble_size': 16}, 'model_states': {'InceptionResNetV2': {'accuracy': 0.9067796610169492, 'confidence': 0.8108566070007066, 'avg_response_time': 2.0712229311027435, 'max_response_time': 2.222508735903802, 'contribution': 0.8001825716030799}, 'MobileNetV2': {'accuracy': 0.8623853211009175, 'confidence': 0.6927139414559811, 'avg_response_time': 0.09402731355432313, 'max_response_time': 0.15370382848033695, 'contribution': 0.6980886008214513}, 'ResNet50V2': {'accuracy': 0.7272727272727273, 'confidence': 0.6715779939685205, 'avg_response_time': 0.38372792559344765, 'max_response_time': 0.5175399351141425, 'contribution': 0.7157492694830654}, 'ensemble': {'accuracy': 0.9322033898305084, 'confidence': 0.7835615186046883, 'avg_response_time': 6.919083932776474, 'max_response_time': 7.209711696979988, 'contribution': 0.9093158174369295}, 'EfficientNetV2S': {'accuracy': 0.9741379310344828, 'confidence': 0.8619501750017035, 'avg_response_time': 1.150054177043644, 'max_response_time': 1.232916014269438, 'contribution': 0.844612525454883}, 'NASNetLarge': {'accuracy': 0.9739130434782609, 'confidence': 0.8713533100874528, 'avg_response_time': 3.813860337457186, 'max_response_time': 3.875032026651169, 'contribution': 0.8459854286649953}, 'EfficientNetB7': {'accuracy': 0.9464285714285714, 'confidence': 0.7284804917871952, 'avg_response_time': 7.12152707517577, 'max_response_time': 7.200705930599174, 'contribution': 0.7079233865120581}, 'DenseNet201': {'accuracy': 0.9279279279279279, 'confidence': 0.849195679028829, 'avg_response_time': 0.5832982524481944, 'max_response_time': 0.7017973373738774, 'contribution': 0.8488849621635299}, 'Xception': {'accuracy': 0.9174311926605505, 'confidence': 0.7621034293546589, 'avg_response_time': 0.991162738414307, 'max_response_time': 1.0240079259549277, 'contribution': 0.7568763139051035}, 'InceptionV3': {'accuracy': 0.9252336448598131, 'confidence': 0.8219282256665631, 'avg_response_time': 0.5762401616139176, 'max_response_time': 0.7062985018013463, 'contribution': 0.8167264071580406}}, 'input_state': {'input_file_length': 15, 'image_height': 224, 'image_width': 224}, 'distribution_weights': [1.0, 1.0, 1.0, 1.0, 1.0, 0.0, 0.0, 0.0, 0.0, 0.0, 0.0, 0.0, 0.0, 0.0, 0.0, 0.0, 0.0, 0.0, 0.0, 0.0]}\n",
      "{'accuracy': 0.9322033898305084, 'confidence': 0.7835615186046883, 'explainability': 1.0, 'energy': 0.023205572371097348, 'latency': 6.919083932776474}\n",
      "REWARD:  3.9931791888557275\n",
      "Worst model: EfficientNetV2L with score: 0.5911481481481482\n",
      "Model 'EfficientNetV2L' successfully removed from the target YAML.\n",
      "Best model: EfficientNetV2L with score: 0.5911481481481482\n",
      "Model 'EfficientNetV2L' successfully added to the target YAML.\n"
     ]
    },
    {
     "name": "stderr",
     "output_type": "stream",
     "text": [
      "2025-01-28 15:53:48,613:INFO -- Action: Keeping the ensemble\n"
     ]
    },
    {
     "name": "stdout",
     "output_type": "stream",
     "text": [
      "STATE:  {'ensemble_state': {'total_energy_consumption': 0.023205572371097348, 'ensemble_size': 16}, 'model_states': {'InceptionResNetV2': {'accuracy': 0.907563025210084, 'confidence': 0.8120200032947444, 'avg_response_time': 2.0713038970089857, 'max_response_time': 2.222508735903802, 'contribution': 0.8014356656735685}, 'MobileNetV2': {'accuracy': 0.8636363636363636, 'confidence': 0.6948614727367054, 'avg_response_time': 0.09403494428441582, 'max_response_time': 0.15370382848033695, 'contribution': 0.7001872715624896}, 'ResNet50V2': {'accuracy': 0.73, 'confidence': 0.6747946271300316, 'avg_response_time': 0.3837268332894413, 'max_response_time': 0.5175399351141425, 'contribution': 0.718524189889431}, 'ensemble': {'accuracy': 0.9327731092436975, 'confidence': 0.7840249015310368, 'avg_response_time': 6.920662569167126, 'max_response_time': 7.209711696979988, 'contribution': 0.9100628845831927}, 'EfficientNetV2S': {'accuracy': 0.9743589743589743, 'confidence': 0.8622012571391896, 'avg_response_time': 1.1499826634989392, 'max_response_time': 1.232916014269438, 'contribution': 0.8450117926312308}, 'NASNetLarge': {'accuracy': 0.9741379310344828, 'confidence': 0.8714140838590162, 'avg_response_time': 3.813676989179292, 'max_response_time': 3.875032026651169, 'contribution': 0.8462648910695109}, 'EfficientNetB7': {'accuracy': 0.9469026548672567, 'confidence': 0.7285382826771356, 'avg_response_time': 7.121358343950328, 'max_response_time': 7.200705930599174, 'contribution': 0.7081630986876193}, 'DenseNet201': {'accuracy': 0.9285714285714286, 'confidence': 0.8501113046492849, 'avg_response_time': 0.583437562695982, 'max_response_time': 0.7017973373738774, 'contribution': 0.8498033620417118}, 'Xception': {'accuracy': 0.9181818181818182, 'confidence': 0.7623908099803057, 'avg_response_time': 0.991147621608779, 'max_response_time': 1.0240079259549277, 'contribution': 0.75721121376211}, 'InceptionV3': {'accuracy': 0.9259259259259259, 'confidence': 0.8199159047669835, 'avg_response_time': 0.5761466760400351, 'max_response_time': 0.7062985018013463, 'contribution': 0.814762251244651}}, 'input_state': {'input_file_length': 15, 'image_height': 224, 'image_width': 224}, 'distribution_weights': [1.0, 1.0, 1.0, 1.0, 1.0, 0.0, 0.0, 0.0, 0.0, 0.0, 0.0, 0.0, 0.0, 0.0, 0.0, 0.0, 0.0, 0.0, 0.0, 0.0]}\n",
      "{'accuracy': 0.9327731092436975, 'confidence': 0.7840249015310368, 'explainability': 1.0, 'energy': 0.023205572371097348, 'latency': 6.920662569167126}\n",
      "REWARD:  3.9932052936994498\n"
     ]
    },
    {
     "name": "stderr",
     "output_type": "stream",
     "text": [
      "2025-01-28 15:53:49,358:INFO -- Action: Adding a model\n"
     ]
    },
    {
     "name": "stdout",
     "output_type": "stream",
     "text": [
      "STATE:  {'ensemble_state': {'total_energy_consumption': 0.023205572371097348, 'ensemble_size': 16}, 'model_states': {'InceptionResNetV2': {'accuracy': 0.9, 'confidence': 0.8052531699339549, 'avg_response_time': 2.071745492485791, 'max_response_time': 2.222508735903802, 'contribution': 0.8014860200385253}, 'MobileNetV2': {'accuracy': 0.8558558558558559, 'confidence': 0.6886014594688071, 'avg_response_time': 0.09421441523199268, 'max_response_time': 0.15370382848033695, 'contribution': 0.7009053560527595}, 'ResNet50V2': {'accuracy': 0.7227722772277227, 'confidence': 0.668113492207952, 'avg_response_time': 0.38371852813307045, 'max_response_time': 0.5175399351141425, 'contribution': 0.7211408700683329}, 'ensemble': {'accuracy': 0.925, 'confidence': 0.7774913606849447, 'avg_response_time': 6.922334601881683, 'max_response_time': 7.209711696979988, 'contribution': 0.9106691012779872}, 'EfficientNetV2S': {'accuracy': 0.9661016949152542, 'confidence': 0.8548944668244507, 'avg_response_time': 1.1502328343120978, 'max_response_time': 1.232916014269438, 'contribution': 0.8450116090855356}, 'NASNetLarge': {'accuracy': 0.9658119658119658, 'confidence': 0.8639661002362895, 'avg_response_time': 3.8135435511708073, 'max_response_time': 3.875032026651169, 'contribution': 0.8464632034301758}, 'EfficientNetB7': {'accuracy': 0.9385964912280702, 'confidence': 0.7221475959869853, 'avg_response_time': 7.121283749434814, 'max_response_time': 7.200705930599174, 'contribution': 0.7081591322233802}, 'DenseNet201': {'accuracy': 0.9203539823008849, 'confidence': 0.8425881957585832, 'avg_response_time': 0.5839077848674722, 'max_response_time': 0.7017973373738774, 'contribution': 0.849573635422023}, 'Xception': {'accuracy': 0.9099099099099099, 'confidence': 0.7555224243048075, 'avg_response_time': 0.9912897434828333, 'max_response_time': 1.0240079259549277, 'contribution': 0.7571106982660724}, 'InceptionV3': {'accuracy': 0.9174311926605505, 'confidence': 0.8123937405030662, 'avg_response_time': 0.5760916405276667, 'max_response_time': 0.7062985018013463, 'contribution': 0.8146564156637279}}, 'input_state': {'input_file_length': 14, 'image_height': 224, 'image_width': 224}, 'distribution_weights': [1.0, 1.0, 1.0, 1.0, 1.0, 0.0, 0.0, 0.0, 0.0, 0.0, 0.0, 0.0, 0.0, 0.0, 0.0, 0.0, 0.0, 0.0, 0.0, 0.0]}\n",
      "{'accuracy': 0.925, 'confidence': 0.7774913606849447, 'explainability': 1.0, 'energy': 0.023205572371097348, 'latency': 6.922334601881683}\n",
      "REWARD:  3.9928418652339404\n",
      "No eligible models to score.\n"
     ]
    },
    {
     "name": "stderr",
     "output_type": "stream",
     "text": [
      "2025-01-28 15:53:50,037:INFO -- Action: Replacing a model\n"
     ]
    },
    {
     "name": "stdout",
     "output_type": "stream",
     "text": [
      "STATE:  {'ensemble_state': {'total_energy_consumption': 0.023205572371097348, 'ensemble_size': 16}, 'model_states': {'InceptionResNetV2': {'accuracy': 0.9008264462809917, 'confidence': 0.8063052902536944, 'avg_response_time': 2.071869535645393, 'max_response_time': 2.222508735903802, 'contribution': 0.802569273828475}, 'MobileNetV2': {'accuracy': 0.8571428571428571, 'confidence': 0.6912250093051365, 'avg_response_time': 0.09428109219119682, 'max_response_time': 0.15370382848033695, 'contribution': 0.7034190496695893}, 'ResNet50V2': {'accuracy': 0.7254901960784313, 'confidence': 0.671367281500031, 'avg_response_time': 0.38367886098033016, 'max_response_time': 0.5175399351141425, 'contribution': 0.7238747831068787}, 'ensemble': {'accuracy': 0.9256198347107438, 'confidence': 0.7787832034022981, 'avg_response_time': 6.924079209947689, 'max_response_time': 7.209711696979988, 'contribution': 0.9114073731682517}, 'EfficientNetV2S': {'accuracy': 0.9663865546218487, 'confidence': 0.8555710345757108, 'avg_response_time': 1.1500754352842273, 'max_response_time': 1.232916014269438, 'contribution': 0.8457712260614924}, 'NASNetLarge': {'accuracy': 0.9661016949152542, 'confidence': 0.8643563278650833, 'avg_response_time': 3.813464372559201, 'max_response_time': 3.875032026651169, 'contribution': 0.8470017606929198}, 'EfficientNetB7': {'accuracy': 0.9391304347826087, 'confidence': 0.7232133419617363, 'avg_response_time': 7.121311312085711, 'max_response_time': 7.200705930599174, 'contribution': 0.7093465170134668}, 'DenseNet201': {'accuracy': 0.9210526315789473, 'confidence': 0.8439689728251675, 'avg_response_time': 0.5838784914162539, 'max_response_time': 0.7017973373738774, 'contribution': 0.8508931367020858}, 'Xception': {'accuracy': 0.9107142857142857, 'confidence': 0.7569993114364999, 'avg_response_time': 0.991378757515046, 'max_response_time': 1.0240079259549277, 'contribution': 0.7585734043802533}, 'InceptionV3': {'accuracy': 0.9181818181818182, 'confidence': 0.8140677579424598, 'avg_response_time': 0.576303443781981, 'max_response_time': 0.7062985018013463, 'contribution': 0.8163098633289337}}, 'input_state': {'input_file_length': 14, 'image_height': 224, 'image_width': 224}, 'distribution_weights': [1.0, 1.0, 1.0, 1.0, 1.0, 0.0, 0.0, 0.0, 0.0, 0.0, 0.0, 0.0, 0.0, 0.0, 0.0, 0.0, 0.0, 0.0, 0.0, 0.0]}\n",
      "{'accuracy': 0.9256198347107438, 'confidence': 0.7787832034022981, 'explainability': 1.0, 'energy': 0.023205572371097348, 'latency': 6.924079209947689}\n",
      "REWARD:  3.9928924614275\n",
      "Worst model: EfficientNetV2L with score: 0.5911481481481482\n",
      "Model 'EfficientNetV2L' successfully removed from the target YAML.\n",
      "Best model: EfficientNetV2L with score: 0.5911481481481482\n",
      "Model 'EfficientNetV2L' successfully added to the target YAML.\n"
     ]
    },
    {
     "name": "stderr",
     "output_type": "stream",
     "text": [
      "2025-01-28 15:53:50,956:INFO -- Action: Adding a model\n"
     ]
    },
    {
     "name": "stdout",
     "output_type": "stream",
     "text": [
      "STATE:  {'ensemble_state': {'total_energy_consumption': 0.023205572371097348, 'ensemble_size': 16}, 'model_states': {'InceptionResNetV2': {'accuracy': 0.9016393442622951, 'confidence': 0.8073325308619953, 'avg_response_time': 2.0721526456062374, 'max_response_time': 2.222508735903802, 'contribution': 0.8036271375222285}, 'MobileNetV2': {'accuracy': 0.8584070796460177, 'confidence': 0.6930169969533397, 'avg_response_time': 0.09428295898499559, 'max_response_time': 0.15370382848033695, 'contribution': 0.7051031254561602}, 'ResNet50V2': {'accuracy': 0.7281553398058253, 'confidence': 0.6745562249595679, 'avg_response_time': 0.3837522522287389, 'max_response_time': 0.5175399351141425, 'contribution': 0.7265539449974171}, 'ensemble': {'accuracy': 0.9262295081967213, 'confidence': 0.7800258730273398, 'avg_response_time': 6.925924586856446, 'max_response_time': 7.209711696979988, 'contribution': 0.9121321361573016}, 'EfficientNetV2S': {'accuracy': 0.9666666666666667, 'confidence': 0.8562714199225108, 'avg_response_time': 1.150070736136748, 'max_response_time': 1.232916014269438, 'contribution': 0.8465532764792443}, 'NASNetLarge': {'accuracy': 0.9663865546218487, 'confidence': 0.8650321740062297, 'avg_response_time': 3.8135932214402346, 'max_response_time': 3.875032026651169, 'contribution': 0.8478234435329918}, 'EfficientNetB7': {'accuracy': 0.9396551724137931, 'confidence': 0.7242003139750711, 'avg_response_time': 7.121491553966185, 'max_response_time': 7.200705930599174, 'contribution': 0.7104530306211834}, 'DenseNet201': {'accuracy': 0.9217391304347826, 'confidence': 0.8453137615452642, 'avg_response_time': 0.5838501361730728, 'max_response_time': 0.7017973373738774, 'contribution': 0.8521777153015136}, 'Xception': {'accuracy': 0.911504424778761, 'confidence': 0.7575841089793011, 'avg_response_time': 0.9917966016590908, 'max_response_time': 1.0385951457921117, 'contribution': 0.7591442718970037}, 'InceptionV3': {'accuracy': 0.918918918918919, 'confidence': 0.8156380666805817, 'avg_response_time': 0.5763909512565079, 'max_response_time': 0.7062985018013463, 'contribution': 0.8178599729194297}}, 'input_state': {'input_file_length': 15, 'image_height': 224, 'image_width': 224}, 'distribution_weights': [1.0, 1.0, 1.0, 1.0, 1.0, 0.0, 0.0, 0.0, 0.0, 0.0, 0.0, 0.0, 0.0, 0.0, 0.0, 0.0, 0.0, 0.0, 0.0, 0.0]}\n",
      "{'accuracy': 0.9262295081967213, 'confidence': 0.7800258730273398, 'explainability': 1.0, 'energy': 0.023205572371097348, 'latency': 6.925924586856446}\n",
      "REWARD:  3.9929413810523067\n",
      "No eligible models to score.\n"
     ]
    },
    {
     "name": "stderr",
     "output_type": "stream",
     "text": [
      "2025-01-28 15:53:51,673:INFO -- Action: Replacing a model\n"
     ]
    },
    {
     "name": "stdout",
     "output_type": "stream",
     "text": [
      "STATE:  {'ensemble_state': {'total_energy_consumption': 0.023205572371097348, 'ensemble_size': 16}, 'model_states': {'InceptionResNetV2': {'accuracy': 0.9024390243902439, 'confidence': 0.8074594673102464, 'avg_response_time': 2.0726928353590535, 'max_response_time': 2.222508735903802, 'contribution': 0.8037841991195834}, 'MobileNetV2': {'accuracy': 0.8508771929824561, 'confidence': 0.6869379004888367, 'avg_response_time': 0.09436322935278378, 'max_response_time': 0.15370382848033695, 'contribution': 0.6989180103205798}, 'ResNet50V2': {'accuracy': 0.7211538461538461, 'confidence': 0.6680701074118798, 'avg_response_time': 0.38407325734715764, 'max_response_time': 0.5175399351141425, 'contribution': 0.719567849372442}, 'ensemble': {'accuracy': 0.926829268292683, 'confidence': 0.7792607239516971, 'avg_response_time': 6.927389150715483, 'max_response_time': 7.209711696979988, 'contribution': 0.9117633826364346}, 'EfficientNetV2S': {'accuracy': 0.9669421487603306, 'confidence': 0.8563582301139832, 'avg_response_time': 1.1497745874996708, 'max_response_time': 1.232916014269438, 'contribution': 0.8467204019057849}, 'NASNetLarge': {'accuracy': 0.9666666666666667, 'confidence': 0.8648038804531097, 'avg_response_time': 3.8136798956242695, 'max_response_time': 3.875032026651169, 'contribution': 0.8477385560671489}, 'EfficientNetB7': {'accuracy': 0.9401709401709402, 'confidence': 0.7235537940620357, 'avg_response_time': 7.121274124903143, 'max_response_time': 7.200705930599174, 'contribution': 0.7099240088564718}, 'DenseNet201': {'accuracy': 0.9137931034482759, 'confidence': 0.8380265739457361, 'avg_response_time': 0.584136359788529, 'max_response_time': 0.7017973373738774, 'contribution': 0.8448313556868454}, 'Xception': {'accuracy': 0.9122807017543859, 'confidence': 0.753883362339254, 'avg_response_time': 0.991894091538542, 'max_response_time': 1.0385951457921117, 'contribution': 0.7554298396173277}, 'InceptionV3': {'accuracy': 0.9196428571428571, 'confidence': 0.8149381378399474, 'avg_response_time': 0.5759172301843114, 'max_response_time': 0.7062985018013463, 'contribution': 0.8171402056302343}}, 'input_state': {'input_file_length': 15, 'image_height': 224, 'image_width': 224}, 'distribution_weights': [1.0, 1.0, 1.0, 1.0, 1.0, 0.0, 0.0, 0.0, 0.0, 0.0, 0.0, 0.0, 0.0, 0.0, 0.0, 0.0, 0.0, 0.0, 0.0, 0.0]}\n",
      "{'accuracy': 0.926829268292683, 'confidence': 0.7792607239516971, 'explainability': 1.0, 'energy': 0.023205572371097348, 'latency': 6.927389150715483}\n",
      "REWARD:  3.9929341263758555\n",
      "Worst model: EfficientNetV2L with score: 0.5911481481481482\n",
      "Model 'EfficientNetV2L' successfully removed from the target YAML.\n",
      "Best model: EfficientNetV2L with score: 0.5911481481481482\n",
      "Model 'EfficientNetV2L' successfully added to the target YAML.\n"
     ]
    },
    {
     "name": "stderr",
     "output_type": "stream",
     "text": [
      "2025-01-28 15:53:52,585:INFO -- Action: Keeping the ensemble\n"
     ]
    },
    {
     "name": "stdout",
     "output_type": "stream",
     "text": [
      "STATE:  {'ensemble_state': {'total_energy_consumption': 0.023205572371097348, 'ensemble_size': 16}, 'model_states': {'InceptionResNetV2': {'accuracy': 0.9032258064516129, 'confidence': 0.8083738381824186, 'avg_response_time': 2.072792014003079, 'max_response_time': 2.222508735903802, 'contribution': 0.8047282092513577}, 'MobileNetV2': {'accuracy': 0.8521739130434782, 'confidence': 0.6885459314221921, 'avg_response_time': 0.0944023420241184, 'max_response_time': 0.15370382848033695, 'contribution': 0.700421866385833}, 'ResNet50V2': {'accuracy': 0.7238095238095238, 'confidence': 0.6712308642410096, 'avg_response_time': 0.38432496318229664, 'max_response_time': 0.5175399351141425, 'contribution': 0.7222381515162332}, 'ensemble': {'accuracy': 0.9274193548387096, 'confidence': 0.7801633397764456, 'avg_response_time': 6.928925971298765, 'max_response_time': 7.209711696979988, 'contribution': 0.9124745616028386}, 'EfficientNetV2S': {'accuracy': 0.9672131147540983, 'confidence': 0.856970406458026, 'avg_response_time': 1.149483014858034, 'max_response_time': 1.232916014269438, 'contribution': 0.8474115768416983}, 'NASNetLarge': {'accuracy': 0.9669421487603306, 'confidence': 0.8652660230959742, 'avg_response_time': 3.8136667636293007, 'max_response_time': 3.875032026651169, 'contribution': 0.8483417344487403}, 'EfficientNetB7': {'accuracy': 0.940677966101695, 'confidence': 0.7244293755393917, 'avg_response_time': 7.12114176777046, 'max_response_time': 7.200705930599174, 'contribution': 0.7109150969881123}, 'DenseNet201': {'accuracy': 0.9145299145299145, 'confidence': 0.8387334418093038, 'avg_response_time': 0.5838960199671163, 'max_response_time': 0.7017973373738774, 'contribution': 0.8454800630227114}, 'Xception': {'accuracy': 0.9130434782608695, 'confidence': 0.7533642006957013, 'avg_response_time': 0.991787741958084, 'max_response_time': 1.0385951457921117, 'contribution': 0.7548972303452699}, 'InceptionV3': {'accuracy': 0.9203539823008849, 'confidence': 0.8149616668182137, 'avg_response_time': 0.5756729634372653, 'max_response_time': 0.7062985018013463, 'contribution': 0.8171442472829228}}, 'input_state': {'input_file_length': 15, 'image_height': 224, 'image_width': 224}, 'distribution_weights': [1.0, 1.0, 1.0, 1.0, 1.0, 0.0, 0.0, 0.0, 0.0, 0.0, 0.0, 0.0, 0.0, 0.0, 0.0, 0.0, 0.0, 0.0, 0.0, 0.0]}\n",
      "{'accuracy': 0.9274193548387096, 'confidence': 0.7801633397764456, 'explainability': 1.0, 'energy': 0.023205572371097348, 'latency': 6.928925971298765}\n",
      "REWARD:  3.9929730846977534\n"
     ]
    },
    {
     "name": "stderr",
     "output_type": "stream",
     "text": [
      "2025-01-28 15:53:53,273:INFO -- Action: Keeping the ensemble\n"
     ]
    },
    {
     "name": "stdout",
     "output_type": "stream",
     "text": [
      "STATE:  {'ensemble_state': {'total_energy_consumption': 0.023205572371097348, 'ensemble_size': 16}, 'model_states': {'InceptionResNetV2': {'accuracy': 0.904, 'confidence': 0.8091890029907226, 'avg_response_time': 2.0725049877587076, 'max_response_time': 2.222508735903802, 'contribution': 0.8055725390911103}, 'MobileNetV2': {'accuracy': 0.853448275862069, 'confidence': 0.6905630446713547, 'avg_response_time': 0.09437484151029112, 'max_response_time': 0.15370382848033695, 'contribution': 0.702336600885309}, 'ResNet50V2': {'accuracy': 0.7264150943396226, 'confidence': 0.674326296403723, 'avg_response_time': 0.3846147570319751, 'max_response_time': 0.5175399351141425, 'contribution': 0.7248523828555953}, 'ensemble': {'accuracy': 0.928, 'confidence': 0.7812395987675864, 'avg_response_time': 6.9302362619324995, 'max_response_time': 7.209711696979988, 'contribution': 0.9131725358963013}, 'EfficientNetV2S': {'accuracy': 0.967479674796748, 'confidence': 0.8573077878331751, 'avg_response_time': 1.149443922027511, 'max_response_time': 1.232916014269438, 'contribution': 0.8478266722787686}, 'NASNetLarge': {'accuracy': 0.9672131147540983, 'confidence': 0.8655673876160481, 'avg_response_time': 3.81400615111103, 'max_response_time': 3.875032026651169, 'contribution': 0.8487818226462505}, 'EfficientNetB7': {'accuracy': 0.9411764705882353, 'confidence': 0.7249114057596993, 'avg_response_time': 7.120831641350995, 'max_response_time': 7.200705930599174, 'contribution': 0.7115106925743968}, 'DenseNet201': {'accuracy': 0.9152542372881356, 'confidence': 0.8400770319720446, 'avg_response_time': 0.5837000057307576, 'max_response_time': 0.7017973373738774, 'contribution': 0.8467664784294063}, 'Xception': {'accuracy': 0.9137931034482759, 'confidence': 0.7552670867278658, 'avg_response_time': 0.9918737897895652, 'max_response_time': 1.0385951457921117, 'contribution': 0.7567869006045933}, 'InceptionV3': {'accuracy': 0.9210526315789473, 'confidence': 0.8164872900958646, 'avg_response_time': 0.5757539776945602, 'max_response_time': 0.7062985018013463, 'contribution': 0.8186507251179009}}, 'input_state': {'input_file_length': 14, 'image_height': 224, 'image_width': 224}, 'distribution_weights': [1.0, 1.0, 1.0, 1.0, 1.0, 0.0, 0.0, 0.0, 0.0, 0.0, 0.0, 0.0, 0.0, 0.0, 0.0, 0.0, 0.0, 0.0, 0.0, 0.0]}\n",
      "{'accuracy': 0.928, 'confidence': 0.7812395987675864, 'explainability': 1.0, 'energy': 0.023205572371097348, 'latency': 6.9302362619324995}\n",
      "REWARD:  3.993016611225963\n"
     ]
    },
    {
     "name": "stderr",
     "output_type": "stream",
     "text": [
      "2025-01-28 15:53:54,017:INFO -- Action: Replacing a model\n"
     ]
    },
    {
     "name": "stdout",
     "output_type": "stream",
     "text": [
      "STATE:  {'ensemble_state': {'total_energy_consumption': 0.023205572371097348, 'ensemble_size': 16}, 'model_states': {'InceptionResNetV2': {'accuracy': 0.9047619047619048, 'confidence': 0.8101778891351488, 'avg_response_time': 2.0725875031452294, 'max_response_time': 2.222508735903802, 'contribution': 0.8065901273299777}, 'MobileNetV2': {'accuracy': 0.8547008547008547, 'confidence': 0.6928102532003679, 'avg_response_time': 0.09448687870772747, 'max_response_time': 0.15370382848033695, 'contribution': 0.7044831807287331}, 'ResNet50V2': {'accuracy': 0.7289719626168224, 'confidence': 0.6773698845199335, 'avg_response_time': 0.3850359932306045, 'max_response_time': 0.5175399351141425, 'contribution': 0.7274237645563678}, 'ensemble': {'accuracy': 0.9285714285714286, 'confidence': 0.7826304014561549, 'avg_response_time': 6.931857987702561, 'max_response_time': 7.209711696979988, 'contribution': 0.9138615651736184}, 'EfficientNetV2S': {'accuracy': 0.967741935483871, 'confidence': 0.8578925675922825, 'avg_response_time': 1.1494277151843957, 'max_response_time': 1.232916014269438, 'contribution': 0.8484879126471858}, 'NASNetLarge': {'accuracy': 0.967479674796748, 'confidence': 0.8660747471863661, 'avg_response_time': 3.814055249977802, 'max_response_time': 3.875032026651169, 'contribution': 0.849425650224453}, 'EfficientNetB7': {'accuracy': 0.9416666666666667, 'confidence': 0.7259240875641505, 'avg_response_time': 7.1208563809348115, 'max_response_time': 7.200705930599174, 'contribution': 0.7126350469887257}, 'DenseNet201': {'accuracy': 0.9159663865546218, 'confidence': 0.8414141300345669, 'avg_response_time': 0.5836056478771487, 'max_response_time': 0.7017973373738774, 'contribution': 0.8480473626561525}, 'Xception': {'accuracy': 0.9145299145299145, 'confidence': 0.756821293097276, 'avg_response_time': 0.9920933697556361, 'max_response_time': 1.0385951457921117, 'contribution': 0.7583281171118093}, 'InceptionV3': {'accuracy': 0.9217391304347826, 'confidence': 0.8177523693312769, 'avg_response_time': 0.5758002535739537, 'max_response_time': 0.7062985018013463, 'contribution': 0.8198969918748606}}, 'input_state': {'input_file_length': 15, 'image_height': 224, 'image_width': 224}, 'distribution_weights': [1.0, 1.0, 1.0, 1.0, 1.0, 0.0, 0.0, 0.0, 0.0, 0.0, 0.0, 0.0, 0.0, 0.0, 0.0, 0.0, 0.0, 0.0, 0.0, 0.0]}\n",
      "{'accuracy': 0.9285714285714286, 'confidence': 0.7826304014561549, 'explainability': 1.0, 'energy': 0.023205572371097348, 'latency': 6.931857987702561}\n",
      "REWARD:  3.9930686015394485\n",
      "Worst model: EfficientNetV2L with score: 0.5911481481481482\n",
      "Model 'EfficientNetV2L' successfully removed from the target YAML.\n",
      "Best model: EfficientNetV2L with score: 0.5911481481481482\n",
      "Model 'EfficientNetV2L' successfully added to the target YAML.\n"
     ]
    },
    {
     "name": "stderr",
     "output_type": "stream",
     "text": [
      "2025-01-28 15:53:54,957:INFO -- Action: Keeping the ensemble\n"
     ]
    },
    {
     "name": "stdout",
     "output_type": "stream",
     "text": [
      "STATE:  {'ensemble_state': {'total_energy_consumption': 0.023205572371097348, 'ensemble_size': 16}, 'model_states': {'InceptionResNetV2': {'accuracy': 0.905511811023622, 'confidence': 0.8108259157871637, 'avg_response_time': 2.072860081148319, 'max_response_time': 2.222508735903802, 'contribution': 0.8002390239651748}, 'MobileNetV2': {'accuracy': 0.8559322033898306, 'confidence': 0.6951641632338702, 'avg_response_time': 0.09458279807719373, 'max_response_time': 0.15370382848033695, 'contribution': 0.6985129842818794}, 'ResNet50V2': {'accuracy': 0.7222222222222222, 'confidence': 0.671097941144749, 'avg_response_time': 0.3851697235198727, 'max_response_time': 0.5175399351141425, 'contribution': 0.7292899856412852}, 'ensemble': {'accuracy': 0.9212598425196851, 'confidence': 0.776467957350201, 'avg_response_time': 6.933320348015129, 'max_response_time': 7.209711696979988, 'contribution': 0.9066658048179206}, 'EfficientNetV2S': {'accuracy': 0.968, 'confidence': 0.8582686157226562, 'avg_response_time': 1.1494353466410954, 'max_response_time': 1.232916014269438, 'contribution': 0.8417000093460083}, 'NASNetLarge': {'accuracy': 0.967741935483871, 'confidence': 0.8668932732074491, 'avg_response_time': 3.814433270771525, 'max_response_time': 3.875032026651169, 'contribution': 0.8425754433678042}, 'EfficientNetB7': {'accuracy': 0.9421487603305785, 'confidence': 0.7269278631722631, 'avg_response_time': 7.120751445198134, 'max_response_time': 7.200705930599174, 'contribution': 0.7067455011458437}, 'DenseNet201': {'accuracy': 0.9166666666666666, 'confidence': 0.8427057137091954, 'avg_response_time': 0.58346962880487, 'max_response_time': 0.7017973373738774, 'contribution': 0.8409803013006846}, 'Xception': {'accuracy': 0.9152542372881356, 'confidence': 0.7587316420118687, 'avg_response_time': 0.9920315128591053, 'max_response_time': 1.0385951457921117, 'contribution': 0.75190160764476}, 'InceptionV3': {'accuracy': 0.9224137931034483, 'confidence': 0.8192912692139889, 'avg_response_time': 0.5759416201243999, 'max_response_time': 0.7062985018013463, 'contribution': 0.8128289143586981}}, 'input_state': {'input_file_length': 15, 'image_height': 224, 'image_width': 224}, 'distribution_weights': [1.0, 1.0, 1.0, 1.0, 1.0, 0.0, 0.0, 0.0, 0.0, 0.0, 0.0, 0.0, 0.0, 0.0, 0.0, 0.0, 0.0, 0.0, 0.0, 0.0]}\n",
      "{'accuracy': 0.9212598425196851, 'confidence': 0.776467957350201, 'explainability': 1.0, 'energy': 0.023205572371097348, 'latency': 6.933320348015129}\n",
      "REWARD:  3.9927252839556093\n"
     ]
    },
    {
     "name": "stderr",
     "output_type": "stream",
     "text": [
      "2025-01-28 15:53:55,728:INFO -- Action: Adding a model\n"
     ]
    },
    {
     "name": "stdout",
     "output_type": "stream",
     "text": [
      "STATE:  {'ensemble_state': {'total_energy_consumption': 0.023205572371097348, 'ensemble_size': 16}, 'model_states': {'InceptionResNetV2': {'accuracy': 0.8984375, 'confidence': 0.8044913383200765, 'avg_response_time': 2.0731968184096767, 'max_response_time': 2.222508735903802, 'contribution': 0.7939871565904468}, 'MobileNetV2': {'accuracy': 0.8487394957983193, 'confidence': 0.6893224475764427, 'avg_response_time': 0.09463583652029946, 'max_response_time': 0.15370382848033695, 'contribution': 0.6926431272711072}, 'ResNet50V2': {'accuracy': 0.7155963302752294, 'confidence': 0.6649410792993843, 'avg_response_time': 0.3855879695895004, 'max_response_time': 0.5175399351141425, 'contribution': 0.730085663565802}, 'ensemble': {'accuracy': 0.9140625, 'confidence': 0.7704018014334025, 'avg_response_time': 6.934948427588011, 'max_response_time': 7.209711696979988, 'contribution': 0.8995824782177806}, 'EfficientNetV2S': {'accuracy': 0.9682539682539683, 'confidence': 0.8589858275557322, 'avg_response_time': 1.149348629505146, 'max_response_time': 1.232916014269438, 'contribution': 0.8350198505416749}, 'NASNetLarge': {'accuracy': 0.968, 'confidence': 0.8634354555606842, 'avg_response_time': 3.814740320850323, 'max_response_time': 3.875032026651169, 'contribution': 0.8358348398208618}, 'EfficientNetB7': {'accuracy': 0.9344262295081968, 'confidence': 0.7209694380642938, 'avg_response_time': 7.120850287259417, 'max_response_time': 7.200705930599174, 'contribution': 0.7009525052348121}, 'DenseNet201': {'accuracy': 0.9090909090909091, 'confidence': 0.835741203678541, 'avg_response_time': 0.5832771447262273, 'max_response_time': 0.7017973373738774, 'contribution': 0.834030050876712}, 'Xception': {'accuracy': 0.907563025210084, 'confidence': 0.7523557458605085, 'avg_response_time': 0.991958791158837, 'max_response_time': 1.0385951457921117, 'contribution': 0.7455831067401821}, 'InceptionV3': {'accuracy': 0.9145299145299145, 'confidence': 0.8122887797335274, 'avg_response_time': 0.5759348272256564, 'max_response_time': 0.7062985018013463, 'contribution': 0.8058816586804186}}, 'input_state': {'input_file_length': 15, 'image_height': 224, 'image_width': 224}, 'distribution_weights': [1.0, 1.0, 1.0, 1.0, 1.0, 0.0, 0.0, 0.0, 0.0, 0.0, 0.0, 0.0, 0.0, 0.0, 0.0, 0.0, 0.0, 0.0, 0.0, 0.0]}\n",
      "{'accuracy': 0.9140625, 'confidence': 0.7704018014334025, 'explainability': 1.0, 'energy': 0.023205572371097348, 'latency': 6.934948427588011}\n",
      "REWARD:  3.9923846590864183\n",
      "No eligible models to score.\n"
     ]
    },
    {
     "name": "stderr",
     "output_type": "stream",
     "text": [
      "2025-01-28 15:53:56,490:INFO -- Action: Keeping the ensemble\n"
     ]
    },
    {
     "name": "stdout",
     "output_type": "stream",
     "text": [
      "STATE:  {'ensemble_state': {'total_energy_consumption': 0.023205572371097348, 'ensemble_size': 16}, 'model_states': {'InceptionResNetV2': {'accuracy': 0.8992248062015504, 'confidence': 0.8052829009617946, 'avg_response_time': 2.0721480444027236, 'max_response_time': 2.222508735903802, 'contribution': 0.794860146997511}, 'MobileNetV2': {'accuracy': 0.85, 'confidence': 0.6902175764242808, 'avg_response_time': 0.09468263330610296, 'max_response_time': 0.15370382848033695, 'contribution': 0.6935105837881566}, 'ResNet50V2': {'accuracy': 0.7181818181818181, 'confidence': 0.6679870196364143, 'avg_response_time': 0.3856004220699589, 'max_response_time': 0.5175399351141425, 'contribution': 0.7325393804095008}, 'ensemble': {'accuracy': 0.9147286821705426, 'confidence': 0.7715984139799649, 'avg_response_time': 6.936410371595618, 'max_response_time': 7.209711696979988, 'contribution': 0.9003608661104542}, 'EfficientNetV2S': {'accuracy': 0.968503937007874, 'confidence': 0.8594060925048167, 'avg_response_time': 1.1493792370348896, 'max_response_time': 1.232916014269438, 'contribution': 0.8356288239711852}, 'NASNetLarge': {'accuracy': 0.9682539682539683, 'confidence': 0.8639192176716668, 'avg_response_time': 3.8149904075855052, 'max_response_time': 3.875032026651169, 'contribution': 0.836537654437716}, 'EfficientNetB7': {'accuracy': 0.9349593495934959, 'confidence': 0.7219988340284766, 'avg_response_time': 7.120801716353416, 'max_response_time': 7.200705930599174, 'contribution': 0.7021446404902916}, 'DenseNet201': {'accuracy': 0.9098360655737705, 'confidence': 0.8370846773757309, 'avg_response_time': 0.5831455660817972, 'max_response_time': 0.7017973373738774, 'contribution': 0.8353875504165399}, 'Xception': {'accuracy': 0.9083333333333333, 'confidence': 0.7537307446201642, 'avg_response_time': 0.9919953469986716, 'max_response_time': 1.0385951457921117, 'contribution': 0.747014544159174}, 'InceptionV3': {'accuracy': 0.9152542372881356, 'confidence': 0.8135248066510185, 'avg_response_time': 0.5756808055533442, 'max_response_time': 0.7062985018013463, 'contribution': 0.8071719832339529}}, 'input_state': {'input_file_length': 12, 'image_height': 224, 'image_width': 224}, 'distribution_weights': [1.0, 1.0, 1.0, 1.0, 1.0, 0.0, 0.0, 0.0, 0.0, 0.0, 0.0, 0.0, 0.0, 0.0, 0.0, 0.0, 0.0, 0.0, 0.0, 0.0]}\n",
      "{'accuracy': 0.9147286821705426, 'confidence': 0.7715984139799649, 'explainability': 1.0, 'energy': 0.023205572371097348, 'latency': 6.936410371595618}\n",
      "REWARD:  3.9924341811643806\n"
     ]
    },
    {
     "name": "stderr",
     "output_type": "stream",
     "text": [
      "2025-01-28 15:53:57,232:INFO -- Action: Keeping the ensemble\n"
     ]
    },
    {
     "name": "stdout",
     "output_type": "stream",
     "text": [
      "STATE:  {'ensemble_state': {'total_energy_consumption': 0.023205572371097348, 'ensemble_size': 16}, 'model_states': {'InceptionResNetV2': {'accuracy': 0.9, 'confidence': 0.8059324122392214, 'avg_response_time': 2.0717825128641114, 'max_response_time': 2.222508735903802, 'contribution': 0.7955898333054322}, 'MobileNetV2': {'accuracy': 0.8512396694214877, 'confidence': 0.6921508790047701, 'avg_response_time': 0.09473095985455732, 'max_response_time': 0.15370382848033695, 'contribution': 0.6954166714317542}, 'ResNet50V2': {'accuracy': 0.7207207207207207, 'confidence': 0.6709604786859976, 'avg_response_time': 0.38590701751357537, 'max_response_time': 0.5175399351141425, 'contribution': 0.7349312866593266}, 'ensemble': {'accuracy': 0.9153846153846154, 'confidence': 0.7728833873919837, 'avg_response_time': 6.938335060229928, 'max_response_time': 7.209711696979988, 'contribution': 0.9011230344955737}, 'EfficientNetV2S': {'accuracy': 0.96875, 'confidence': 0.8599305213429034, 'avg_response_time': 1.1491203250969169, 'max_response_time': 1.232916014269438, 'contribution': 0.8363390127196908}, 'NASNetLarge': {'accuracy': 0.968503937007874, 'confidence': 0.8642797106363642, 'avg_response_time': 3.8150251277047595, 'max_response_time': 3.875032026651169, 'contribution': 0.8371137502625232}, 'EfficientNetB7': {'accuracy': 0.9354838709677419, 'confidence': 0.7226211221948746, 'avg_response_time': 7.121274630870127, 'max_response_time': 7.200705930599174, 'contribution': 0.7029270431207072}, 'DenseNet201': {'accuracy': 0.9105691056910569, 'confidence': 0.8384046617562209, 'avg_response_time': 0.5834769890632313, 'max_response_time': 0.7017973373738774, 'contribution': 0.836721332577186}, 'Xception': {'accuracy': 0.9090909090909091, 'confidence': 0.7551262487064708, 'avg_response_time': 0.9919004456370593, 'max_response_time': 1.0385951457921117, 'contribution': 0.7484655540344144}, 'InceptionV3': {'accuracy': 0.9159663865546218, 'confidence': 0.8146620901191935, 'avg_response_time': 0.5760140105568085, 'max_response_time': 0.7062985018013463, 'contribution': 0.8083626517728597}}, 'input_state': {'input_file_length': 33, 'image_height': 224, 'image_width': 224}, 'distribution_weights': [1.0, 1.0, 1.0, 1.0, 1.0, 0.0, 0.0, 0.0, 0.0, 0.0, 0.0, 0.0, 0.0, 0.0, 0.0, 0.0, 0.0, 0.0, 0.0, 0.0]}\n",
      "{'accuracy': 0.9153846153846154, 'confidence': 0.7728833873919837, 'explainability': 1.0, 'energy': 0.023205572371097348, 'latency': 6.938335060229928}\n",
      "REWARD:  3.9924858790808226\n"
     ]
    },
    {
     "name": "stderr",
     "output_type": "stream",
     "text": [
      "2025-01-28 15:53:58,006:INFO -- Action: Replacing a model\n"
     ]
    },
    {
     "name": "stdout",
     "output_type": "stream",
     "text": [
      "STATE:  {'ensemble_state': {'total_energy_consumption': 0.023205572371097348, 'ensemble_size': 16}, 'model_states': {'InceptionResNetV2': {'accuracy': 0.9007633587786259, 'confidence': 0.8069241674801776, 'avg_response_time': 2.072052045173673, 'max_response_time': 2.222508735903802, 'contribution': 0.7966605395306158}, 'MobileNetV2': {'accuracy': 0.8524590163934426, 'confidence': 0.693219714477414, 'avg_response_time': 0.09467544517335978, 'max_response_time': 0.15370382848033695, 'contribution': 0.696458738114013}, 'ResNet50V2': {'accuracy': 0.7232142857142857, 'confidence': 0.6738976503589323, 'avg_response_time': 0.3862404861383597, 'max_response_time': 0.5175399351141425, 'contribution': 0.7372972904039281}, 'ensemble': {'accuracy': 0.916030534351145, 'confidence': 0.7740905074223801, 'avg_response_time': 6.939890740444639, 'max_response_time': 7.209711696979988, 'contribution': 0.9018772380952617}, 'EfficientNetV2S': {'accuracy': 0.9689922480620154, 'confidence': 0.8602112841236499, 'avg_response_time': 1.1487531794949934, 'max_response_time': 1.232916014269438, 'contribution': 0.8368026554122452}, 'NASNetLarge': {'accuracy': 0.96875, 'confidence': 0.8646123025100678, 'avg_response_time': 3.8155614015669976, 'max_response_time': 3.88366818207123, 'contribution': 0.8376585762016475}, 'EfficientNetB7': {'accuracy': 0.936, 'confidence': 0.7232748103141785, 'avg_response_time': 7.121378882324206, 'max_response_time': 7.200705930599174, 'contribution': 0.7037382838726044}, 'DenseNet201': {'accuracy': 0.9112903225806451, 'confidence': 0.8396601018405729, 'avg_response_time': 0.5836362767981432, 'max_response_time': 0.7017973373738774, 'contribution': 0.8379903478968528}, 'Xception': {'accuracy': 0.9098360655737705, 'confidence': 0.7569031187745391, 'avg_response_time': 0.9919815638304019, 'max_response_time': 1.0385951457921117, 'contribution': 0.7502970199604504}, 'InceptionV3': {'accuracy': 0.9166666666666666, 'confidence': 0.8161938048899173, 'avg_response_time': 0.5760788811971935, 'max_response_time': 0.7062985018013463, 'contribution': 0.8099468618631362}}, 'input_state': {'input_file_length': 15, 'image_height': 224, 'image_width': 224}, 'distribution_weights': [1.0, 1.0, 1.0, 1.0, 1.0, 0.0, 0.0, 0.0, 0.0, 0.0, 0.0, 0.0, 0.0, 0.0, 0.0, 0.0, 0.0, 0.0, 0.0, 0.0]}\n",
      "{'accuracy': 0.916030534351145, 'confidence': 0.7740905074223801, 'explainability': 1.0, 'energy': 0.023205572371097348, 'latency': 6.939890740444639}\n",
      "REWARD:  3.9925350846090426\n",
      "Worst model: EfficientNetV2L with score: 0.5911481481481482\n",
      "Model 'EfficientNetV2L' successfully removed from the target YAML.\n",
      "Best model: EfficientNetV2L with score: 0.5911481481481482\n",
      "Model 'EfficientNetV2L' successfully added to the target YAML.\n"
     ]
    },
    {
     "name": "stderr",
     "output_type": "stream",
     "text": [
      "2025-01-28 15:53:59,024:INFO -- Action: Adding a model\n"
     ]
    },
    {
     "name": "stdout",
     "output_type": "stream",
     "text": [
      "STATE:  {'ensemble_state': {'total_energy_consumption': 0.023205572371097348, 'ensemble_size': 16}, 'model_states': {'InceptionResNetV2': {'accuracy': 0.9015151515151515, 'confidence': 0.8079328482801263, 'avg_response_time': 2.0719759767124453, 'max_response_time': 2.222508735903802, 'contribution': 0.7977469750877583}, 'MobileNetV2': {'accuracy': 0.8536585365853658, 'confidence': 0.6951340936063751, 'avg_response_time': 0.09473380538683662, 'max_response_time': 0.15370382848033695, 'contribution': 0.6983467837174734}, 'ResNet50V2': {'accuracy': 0.7256637168141593, 'confidence': 0.6767316742808418, 'avg_response_time': 0.3865632298113168, 'max_response_time': 0.5175399351141425, 'contribution': 0.7395702555643774}, 'ensemble': {'accuracy': 0.9166666666666666, 'confidence': 0.7749852366977156, 'avg_response_time': 6.941325734482512, 'max_response_time': 7.209711696979988, 'contribution': 0.9025762162425301}, 'EfficientNetV2S': {'accuracy': 0.9692307692307692, 'confidence': 0.8604179139320667, 'avg_response_time': 1.1486496381628801, 'max_response_time': 1.232916014269438, 'contribution': 0.8371893515953651}, 'NASNetLarge': {'accuracy': 0.9689922480620154, 'confidence': 0.8650845208371333, 'avg_response_time': 3.8154003537185908, 'max_response_time': 3.88366818207123, 'contribution': 0.8383397381435069}, 'EfficientNetB7': {'accuracy': 0.9365079365079365, 'confidence': 0.7241612729572114, 'avg_response_time': 7.121357504934765, 'max_response_time': 7.200705930599174, 'contribution': 0.7047797983127927}, 'DenseNet201': {'accuracy': 0.912, 'confidence': 0.8408837747573853, 'avg_response_time': 0.5838537929811329, 'max_response_time': 0.7017973373738774, 'contribution': 0.8392273788452148}, 'Xception': {'accuracy': 0.9105691056910569, 'confidence': 0.7560744246816248, 'avg_response_time': 0.9920700429376411, 'max_response_time': 1.0385951457921117, 'contribution': 0.7495220339879757}, 'InceptionV3': {'accuracy': 0.9173553719008265, 'confidence': 0.8165270383200369, 'avg_response_time': 0.5761806207857306, 'max_response_time': 0.7062985018013463, 'contribution': 0.8103317229215764}}, 'input_state': {'input_file_length': 15, 'image_height': 224, 'image_width': 224}, 'distribution_weights': [1.0, 1.0, 1.0, 1.0, 1.0, 0.0, 0.0, 0.0, 0.0, 0.0, 0.0, 0.0, 0.0, 0.0, 0.0, 0.0, 0.0, 0.0, 0.0, 0.0]}\n",
      "{'accuracy': 0.9166666666666666, 'confidence': 0.7749852366977156, 'explainability': 1.0, 'energy': 0.023205572371097348, 'latency': 6.941325734482512}\n",
      "REWARD:  3.992575243423956\n",
      "No eligible models to score.\n"
     ]
    },
    {
     "name": "stderr",
     "output_type": "stream",
     "text": [
      "2025-01-28 15:53:59,765:INFO -- Action: Keeping the ensemble\n"
     ]
    },
    {
     "name": "stdout",
     "output_type": "stream",
     "text": [
      "STATE:  {'ensemble_state': {'total_energy_consumption': 0.023205572371097348, 'ensemble_size': 16}, 'model_states': {'InceptionResNetV2': {'accuracy': 0.9022556390977443, 'confidence': 0.8085368199456007, 'avg_response_time': 2.0718058187774293, 'max_response_time': 2.222508735903802, 'contribution': 0.7984275322659571}, 'MobileNetV2': {'accuracy': 0.8548387096774194, 'confidence': 0.6940749138593674, 'avg_response_time': 0.0947271485334563, 'max_response_time': 0.15370382848033695, 'contribution': 0.6972616951792471}, 'ResNet50V2': {'accuracy': 0.7280701754385965, 'confidence': 0.6773955704350221, 'avg_response_time': 0.3865810727661416, 'max_response_time': 0.5175399351141425, 'contribution': 0.7396829360932634}, 'ensemble': {'accuracy': 0.9172932330827067, 'confidence': 0.7747718311534678, 'avg_response_time': 6.942482930676947, 'max_response_time': 7.209711696979988, 'contribution': 0.9032415962757024}, 'EfficientNetV2S': {'accuracy': 0.9694656488549618, 'confidence': 0.8609138508789412, 'avg_response_time': 1.148580377108008, 'max_response_time': 1.232916014269438, 'contribution': 0.8378626058119854}, 'NASNetLarge': {'accuracy': 0.9692307692307692, 'confidence': 0.8655735944326107, 'avg_response_time': 3.815396496288944, 'max_response_time': 3.88366818207123, 'contribution': 0.8390345408366277}, 'EfficientNetB7': {'accuracy': 0.937007874015748, 'confidence': 0.7254532580300579, 'avg_response_time': 7.121096336346423, 'max_response_time': 7.200705930599174, 'contribution': 0.7062243934222093}, 'DenseNet201': {'accuracy': 0.9126984126984127, 'confidence': 0.8383375486684224, 'avg_response_time': 0.5841052698662048, 'max_response_time': 0.7017973373738774, 'contribution': 0.8366942987555549}, 'Xception': {'accuracy': 0.9112903225806451, 'confidence': 0.7541993885271011, 'avg_response_time': 0.9921028873297586, 'max_response_time': 1.0385951457921117, 'contribution': 0.7476998396938846}, 'InceptionV3': {'accuracy': 0.9098360655737705, 'confidence': 0.8098341937436432, 'avg_response_time': 0.5759923181592957, 'max_response_time': 0.7062985018013463, 'contribution': 0.8036896596189405}}, 'input_state': {'input_file_length': 15, 'image_height': 224, 'image_width': 224}, 'distribution_weights': [1.0, 1.0, 1.0, 1.0, 1.0, 0.0, 0.0, 0.0, 0.0, 0.0, 0.0, 0.0, 0.0, 0.0, 0.0, 0.0, 0.0, 0.0, 0.0, 0.0]}\n",
      "{'accuracy': 0.9172932330827067, 'confidence': 0.7747718311534678, 'explainability': 1.0, 'energy': 0.023205572371097348, 'latency': 6.942482930676947}\n",
      "REWARD:  3.992584100606774\n"
     ]
    },
    {
     "name": "stderr",
     "output_type": "stream",
     "text": [
      "2025-01-28 15:54:00,482:INFO -- Action: Keeping the ensemble\n"
     ]
    },
    {
     "name": "stdout",
     "output_type": "stream",
     "text": [
      "STATE:  {'ensemble_state': {'total_energy_consumption': 0.023205572371097348, 'ensemble_size': 16}, 'model_states': {'InceptionResNetV2': {'accuracy': 0.9029850746268657, 'confidence': 0.8093943764914328, 'avg_response_time': 2.0715650605814724, 'max_response_time': 2.222508735903802, 'contribution': 0.7993605312571597}, 'MobileNetV2': {'accuracy': 0.856, 'confidence': 0.6946237344741821, 'avg_response_time': 0.094697185292517, 'max_response_time': 0.15370382848033695, 'contribution': 0.6977850215435029}, 'ResNet50V2': {'accuracy': 0.7304347826086957, 'confidence': 0.6801110648590586, 'avg_response_time': 0.38693066759504674, 'max_response_time': 0.5175399351141425, 'contribution': 0.7418568012507065}, 'ensemble': {'accuracy': 0.917910447761194, 'confidence': 0.7755811472239225, 'avg_response_time': 6.9440387165128135, 'max_response_time': 7.209711696979988, 'contribution': 0.9038866398049824}, 'EfficientNetV2S': {'accuracy': 0.9696969696969697, 'confidence': 0.8610506933746915, 'avg_response_time': 1.1484077536435124, 'max_response_time': 1.232916014269438, 'contribution': 0.8381740789521824}, 'NASNetLarge': {'accuracy': 0.9694656488549618, 'confidence': 0.8656959344867532, 'avg_response_time': 3.815426313193079, 'max_response_time': 3.88366818207123, 'contribution': 0.8393594690861593}, 'EfficientNetB7': {'accuracy': 0.9375, 'confidence': 0.7263847966678441, 'avg_response_time': 7.121234564473213, 'max_response_time': 7.200705930599174, 'contribution': 0.7073061575647444}, 'DenseNet201': {'accuracy': 0.9133858267716536, 'confidence': 0.8387719251978116, 'avg_response_time': 0.5839811862919204, 'max_response_time': 0.7017973373738774, 'contribution': 0.8371416142606359}, 'Xception': {'accuracy': 0.912, 'confidence': 0.7549082956314087, 'avg_response_time': 0.9922631928649179, 'max_response_time': 1.0385951457921117, 'contribution': 0.748460743188858}, 'InceptionV3': {'accuracy': 0.9105691056910569, 'confidence': 0.8111841632583277, 'avg_response_time': 0.5757672036458044, 'max_response_time': 0.7062985018013463, 'contribution': 0.8050895846956144}}, 'input_state': {'input_file_length': 13, 'image_height': 224, 'image_width': 224}, 'distribution_weights': [1.0, 1.0, 1.0, 1.0, 1.0, 0.0, 0.0, 0.0, 0.0, 0.0, 0.0, 0.0, 0.0, 0.0, 0.0, 0.0, 0.0, 0.0, 0.0, 0.0]}\n",
      "{'accuracy': 0.917910447761194, 'confidence': 0.7755811472239225, 'explainability': 1.0, 'energy': 0.023205572371097348, 'latency': 6.9440387165128135}\n",
      "REWARD:  3.9926213778403774\n"
     ]
    },
    {
     "name": "stderr",
     "output_type": "stream",
     "text": [
      "2025-01-28 15:54:01,224:INFO -- Action: Replacing a model\n"
     ]
    },
    {
     "name": "stdout",
     "output_type": "stream",
     "text": [
      "STATE:  {'ensemble_state': {'total_energy_consumption': 0.023205572371097348, 'ensemble_size': 16}, 'model_states': {'InceptionResNetV2': {'accuracy': 0.8962962962962963, 'confidence': 0.8033988625914962, 'avg_response_time': 2.0715608605385327, 'max_response_time': 2.222508735903802, 'contribution': 0.7934393421367363}, 'MobileNetV2': {'accuracy': 0.8492063492063492, 'confidence': 0.689110847692641, 'avg_response_time': 0.09467692437998776, 'max_response_time': 0.15370382848033695, 'contribution': 0.6922470451820464}, 'ResNet50V2': {'accuracy': 0.7241379310344828, 'confidence': 0.6742480384378597, 'avg_response_time': 0.3869291720901935, 'max_response_time': 0.5175399351141425, 'contribution': 0.7407917670648674}, 'ensemble': {'accuracy': 0.9111111111111111, 'confidence': 0.7698361016889305, 'avg_response_time': 6.945132381634961, 'max_response_time': 7.209711696979988, 'contribution': 0.9017712782930445}, 'EfficientNetV2S': {'accuracy': 0.9624060150375939, 'confidence': 0.8545766280109721, 'avg_response_time': 1.1481727586822639, 'max_response_time': 1.232916014269438, 'contribution': 0.831872018208181}, 'NASNetLarge': {'accuracy': 0.9621212121212122, 'confidence': 0.8591376319527626, 'avg_response_time': 3.815528080356172, 'max_response_time': 3.88366818207123, 'contribution': 0.8330006852294459}, 'EfficientNetB7': {'accuracy': 0.9302325581395349, 'confidence': 0.7207539067711941, 'avg_response_time': 7.120911688254699, 'max_response_time': 7.200705930599174, 'contribution': 0.7018231640952503}, 'DenseNet201': {'accuracy': 0.90625, 'confidence': 0.8322190195322037, 'avg_response_time': 0.5842025477534107, 'max_response_time': 0.7017973373738774, 'contribution': 0.8306014453992248}, 'Xception': {'accuracy': 0.9047619047619048, 'confidence': 0.7489169599517943, 'avg_response_time': 0.992100800639686, 'max_response_time': 1.0385951457921117, 'contribution': 0.742520578560375}, 'InceptionV3': {'accuracy': 0.9032258064516129, 'confidence': 0.8046423554901154, 'avg_response_time': 0.5757602444389173, 'max_response_time': 0.7062985018013463, 'contribution': 0.7985969267545208}}, 'input_state': {'input_file_length': 15, 'image_height': 224, 'image_width': 224}, 'distribution_weights': [1.0, 1.0, 1.0, 1.0, 1.0, 0.0, 0.0, 0.0, 0.0, 0.0, 0.0, 0.0, 0.0, 0.0, 0.0, 0.0, 0.0, 0.0, 0.0, 0.0]}\n",
      "{'accuracy': 0.9111111111111111, 'confidence': 0.7698361016889305, 'explainability': 1.0, 'energy': 0.023205572371097348, 'latency': 6.945132381634961}\n",
      "REWARD:  3.9922984808273574\n",
      "Worst model: EfficientNetV2L with score: 0.5911481481481482\n",
      "Model 'EfficientNetV2L' successfully removed from the target YAML.\n",
      "Best model: EfficientNetV2L with score: 0.5911481481481482\n",
      "Model 'EfficientNetV2L' successfully added to the target YAML.\n"
     ]
    },
    {
     "name": "stderr",
     "output_type": "stream",
     "text": [
      "2025-01-28 15:54:02,154:INFO -- Action: Keeping the ensemble\n"
     ]
    },
    {
     "name": "stdout",
     "output_type": "stream",
     "text": [
      "STATE:  {'ensemble_state': {'total_energy_consumption': 0.023205572371097348, 'ensemble_size': 16}, 'model_states': {'InceptionResNetV2': {'accuracy': 0.8970588235294118, 'confidence': 0.80349440259092, 'avg_response_time': 2.0718002600511842, 'max_response_time': 2.222508735903802, 'contribution': 0.7936081139042097}, 'MobileNetV2': {'accuracy': 0.8503937007874016, 'confidence': 0.6873124112763743, 'avg_response_time': 0.09466981276020266, 'max_response_time': 0.15370382848033695, 'contribution': 0.6904239142973592}, 'ResNet50V2': {'accuracy': 0.717948717948718, 'confidence': 0.6684852346905277, 'avg_response_time': 0.38705550878549305, 'max_response_time': 0.5175399351141425, 'contribution': 0.7344602135002104}, 'ensemble': {'accuracy': 0.9117647058823529, 'confidence': 0.7697524483124722, 'avg_response_time': 6.94662715863402, 'max_response_time': 7.209711696979988, 'contribution': 0.9024304112090784}, 'EfficientNetV2S': {'accuracy': 0.9626865671641791, 'confidence': 0.8548913255556306, 'avg_response_time': 1.1482037947120725, 'max_response_time': 1.232916014269438, 'contribution': 0.8323561531394276}, 'NASNetLarge': {'accuracy': 0.9624060150375939, 'confidence': 0.859415249492889, 'avg_response_time': 3.8154700053396255, 'max_response_time': 3.88366818207123, 'contribution': 0.8334748211659884}, 'EfficientNetB7': {'accuracy': 0.9307692307692308, 'confidence': 0.7213515414641454, 'avg_response_time': 7.121049746375336, 'max_response_time': 7.200705930599174, 'contribution': 0.7025664198857088}, 'DenseNet201': {'accuracy': 0.9069767441860465, 'confidence': 0.8331087860026101, 'avg_response_time': 0.5842524011911923, 'max_response_time': 0.7017973373738774, 'contribution': 0.8315037512039953}, 'Xception': {'accuracy': 0.905511811023622, 'confidence': 0.7472665413158146, 'avg_response_time': 0.99205968279635, 'max_response_time': 1.0385951457921117, 'contribution': 0.7409205251322017}, 'InceptionV3': {'accuracy': 0.904, 'confidence': 0.8059494001865387, 'avg_response_time': 0.5758006761467372, 'max_response_time': 0.7062985018013463, 'contribution': 0.7999523348808288}}, 'input_state': {'input_file_length': 14, 'image_height': 224, 'image_width': 224}, 'distribution_weights': [1.0, 1.0, 1.0, 1.0, 1.0, 0.0, 0.0, 0.0, 0.0, 0.0, 0.0, 0.0, 0.0, 0.0, 0.0, 0.0, 0.0, 0.0, 0.0, 0.0]}\n",
      "{'accuracy': 0.9117647058823529, 'confidence': 0.7697524483124722, 'explainability': 1.0, 'energy': 0.023205572371097348, 'latency': 6.94662715863402}\n",
      "REWARD:  3.992311692785391\n"
     ]
    },
    {
     "name": "stderr",
     "output_type": "stream",
     "text": [
      "2025-01-28 15:54:02,873:INFO -- Action: Replacing a model\n"
     ]
    },
    {
     "name": "stdout",
     "output_type": "stream",
     "text": [
      "STATE:  {'ensemble_state': {'total_energy_consumption': 0.023205572371097348, 'ensemble_size': 16}, 'model_states': {'InceptionResNetV2': {'accuracy': 0.8978102189781022, 'confidence': 0.8044608130942296, 'avg_response_time': 2.0717134691627916, 'max_response_time': 2.222508735903802, 'contribution': 0.7946466870986633}, 'MobileNetV2': {'accuracy': 0.8515625, 'confidence': 0.6870577957015485, 'avg_response_time': 0.09464797076397756, 'max_response_time': 0.15370382848033695, 'contribution': 0.6901449901051819}, 'ResNet50V2': {'accuracy': 0.7203389830508474, 'confidence': 0.671284976399551, 'avg_response_time': 0.38716702205923803, 'max_response_time': 0.5175399351141425, 'contribution': 0.7367008452193212}, 'ensemble': {'accuracy': 0.9124087591240876, 'confidence': 0.7709029797084735, 'avg_response_time': 6.948090817489768, 'max_response_time': 7.209711696979988, 'contribution': 0.9031390225800284}, 'EfficientNetV2S': {'accuracy': 0.9629629629629629, 'confidence': 0.8554756870976201, 'avg_response_time': 1.1482026185887586, 'max_response_time': 1.232916014269438, 'contribution': 0.8331074418845}, 'NASNetLarge': {'accuracy': 0.9626865671641791, 'confidence': 0.8596863562046592, 'avg_response_time': 3.8156846147958006, 'max_response_time': 3.88366818207123, 'contribution': 0.8339395131637801}, 'EfficientNetB7': {'accuracy': 0.9312977099236641, 'confidence': 0.7221974807841177, 'avg_response_time': 7.1211618044012885, 'max_response_time': 7.200705930599174, 'contribution': 0.7035557570803257}, 'DenseNet201': {'accuracy': 0.9076923076923077, 'confidence': 0.8343876471886268, 'avg_response_time': 0.5842782525905454, 'max_response_time': 0.7017973373738774, 'contribution': 0.8327949588115399}, 'Xception': {'accuracy': 0.90625, 'confidence': 0.7489315965212882, 'avg_response_time': 0.9921083901251311, 'max_response_time': 1.0385951457921117, 'contribution': 0.7426351585891098}, 'InceptionV3': {'accuracy': 0.9047619047619048, 'confidence': 0.807378512289789, 'avg_response_time': 0.5755576031243718, 'max_response_time': 0.7062985018013463, 'contribution': 0.8014290427404737}}, 'input_state': {'input_file_length': 15, 'image_height': 224, 'image_width': 224}, 'distribution_weights': [1.0, 1.0, 1.0, 1.0, 1.0, 0.0, 0.0, 0.0, 0.0, 0.0, 0.0, 0.0, 0.0, 0.0, 0.0, 0.0, 0.0, 0.0, 0.0, 0.0]}\n",
      "{'accuracy': 0.9124087591240876, 'confidence': 0.7709029797084735, 'explainability': 1.0, 'energy': 0.023205572371097348, 'latency': 6.948090817489768}\n",
      "REWARD:  3.9923594585084534\n",
      "Worst model: EfficientNetV2L with score: 0.5911481481481482\n",
      "Model 'EfficientNetV2L' successfully removed from the target YAML.\n",
      "Best model: EfficientNetV2L with score: 0.5911481481481482\n",
      "Model 'EfficientNetV2L' successfully added to the target YAML.\n"
     ]
    },
    {
     "name": "stderr",
     "output_type": "stream",
     "text": [
      "2025-01-28 15:54:03,804:INFO -- Action: Replacing a model\n"
     ]
    },
    {
     "name": "stdout",
     "output_type": "stream",
     "text": [
      "STATE:  {'ensemble_state': {'total_energy_consumption': 0.023205572371097348, 'ensemble_size': 16}, 'model_states': {'InceptionResNetV2': {'accuracy': 0.8985507246376812, 'confidence': 0.8050464806349381, 'avg_response_time': 2.07134896376765, 'max_response_time': 2.222508735903802, 'contribution': 0.795303471494412}, 'MobileNetV2': {'accuracy': 0.8527131782945736, 'confidence': 0.6861359784307406, 'avg_response_time': 0.09462315091298566, 'max_response_time': 0.15370382848033695, 'contribution': 0.689199241094811}, 'ResNet50V2': {'accuracy': 0.7226890756302521, 'confidence': 0.6740025289419318, 'avg_response_time': 0.3873684822131845, 'max_response_time': 0.5175399351141425, 'contribution': 0.7388686845783426}, 'ensemble': {'accuracy': 0.9130434782608695, 'confidence': 0.7706915326971732, 'avg_response_time': 6.949071481847762, 'max_response_time': 7.209711696979988, 'contribution': 0.9038023175536722}, 'EfficientNetV2S': {'accuracy': 0.9632352941176471, 'confidence': 0.8548518695375499, 'avg_response_time': 1.1482873105354603, 'max_response_time': 1.232916014269438, 'contribution': 0.8326480967157027}, 'NASNetLarge': {'accuracy': 0.9629629629629629, 'confidence': 0.8595480691503595, 'avg_response_time': 3.81571803080492, 'max_response_time': 3.88366818207123, 'contribution': 0.8339919434653388}, 'EfficientNetB7': {'accuracy': 0.9318181818181818, 'confidence': 0.7214412147348578, 'avg_response_time': 7.120778656140672, 'max_response_time': 7.200705930599174, 'contribution': 0.7029407162106398}, 'DenseNet201': {'accuracy': 0.9083969465648855, 'confidence': 0.834522073505489, 'avg_response_time': 0.5844139469045415, 'max_response_time': 0.7017973373738774, 'contribution': 0.8329415430549447}, 'Xception': {'accuracy': 0.8992248062015504, 'confidence': 0.7431259252304254, 'avg_response_time': 0.9920309029397066, 'max_response_time': 1.0385951457921117, 'contribution': 0.7368782968946206}, 'InceptionV3': {'accuracy': 0.905511811023622, 'confidence': 0.8082420227565165, 'avg_response_time': 0.5756680834370339, 'max_response_time': 0.7062985018013463, 'contribution': 0.8023393994241249}}, 'input_state': {'input_file_length': 15, 'image_height': 224, 'image_width': 224}, 'distribution_weights': [1.0, 1.0, 1.0, 1.0, 1.0, 0.0, 0.0, 0.0, 0.0, 0.0, 0.0, 0.0, 0.0, 0.0, 0.0, 0.0, 0.0, 0.0, 0.0, 0.0]}\n",
      "{'accuracy': 0.9130434782608695, 'confidence': 0.7706915326971732, 'explainability': 1.0, 'energy': 0.023205572371097348, 'latency': 6.949071481847762}\n",
      "REWARD:  3.992368602314785\n",
      "Worst model: EfficientNetV2L with score: 0.5911481481481482\n",
      "Model 'EfficientNetV2L' successfully removed from the target YAML.\n",
      "Best model: EfficientNetV2L with score: 0.5911481481481482\n",
      "Model 'EfficientNetV2L' successfully added to the target YAML.\n"
     ]
    },
    {
     "name": "stderr",
     "output_type": "stream",
     "text": [
      "2025-01-28 15:54:04,886:INFO -- Action: Replacing a model\n"
     ]
    },
    {
     "name": "stdout",
     "output_type": "stream",
     "text": [
      "STATE:  {'ensemble_state': {'total_energy_consumption': 0.023205572371097348, 'ensemble_size': 16}, 'model_states': {'InceptionResNetV2': {'accuracy': 0.8992805755395683, 'confidence': 0.8058179668385348, 'avg_response_time': 2.0714303881966614, 'max_response_time': 2.222508735903802, 'contribution': 0.7961450512889477}, 'MobileNetV2': {'accuracy': 0.8461538461538461, 'confidence': 0.6808580093658887, 'avg_response_time': 0.0945924235354855, 'max_response_time': 0.15370382848033695, 'contribution': 0.6838977084710047}, 'ResNet50V2': {'accuracy': 0.7166666666666667, 'confidence': 0.6683858412007491, 'avg_response_time': 0.3876162813179263, 'max_response_time': 0.5175399351141425, 'contribution': 0.7327114455401897}, 'ensemble': {'accuracy': 0.9136690647482014, 'confidence': 0.7712273898257135, 'avg_response_time': 6.950791427862379, 'max_response_time': 7.209711696979988, 'contribution': 0.9038633301103716}, 'EfficientNetV2S': {'accuracy': 0.9635036496350365, 'confidence': 0.8549587448147962, 'avg_response_time': 1.148213879276218, 'max_response_time': 1.232916014269438, 'contribution': 0.8329170433274151}, 'NASNetLarge': {'accuracy': 0.9632352941176471, 'confidence': 0.8594306258156019, 'avg_response_time': 3.815535983679826, 'max_response_time': 3.88366818207123, 'contribution': 0.8340624128194416}, 'EfficientNetB7': {'accuracy': 0.9323308270676691, 'confidence': 0.7228537824817169, 'avg_response_time': 7.121213618550214, 'max_response_time': 7.200705930599174, 'contribution': 0.7044923854501624}, 'DenseNet201': {'accuracy': 0.9015151515151515, 'confidence': 0.8281999365849928, 'avg_response_time': 0.5842591252138847, 'max_response_time': 0.7017973373738774, 'contribution': 0.826631379849983}, 'Xception': {'accuracy': 0.8923076923076924, 'confidence': 0.7374095719594221, 'avg_response_time': 0.9920780012131705, 'max_response_time': 1.0385951457921117, 'contribution': 0.7312100023031235}, 'InceptionV3': {'accuracy': 0.90625, 'confidence': 0.8087047494482249, 'avg_response_time': 0.5757928541493991, 'max_response_time': 0.7062985018013463, 'contribution': 0.8028482403606176}}, 'input_state': {'input_file_length': 15, 'image_height': 224, 'image_width': 224}, 'distribution_weights': [1.0, 1.0, 1.0, 1.0, 1.0, 0.0, 0.0, 0.0, 0.0, 0.0, 0.0, 0.0, 0.0, 0.0, 0.0, 0.0, 0.0, 0.0, 0.0, 0.0]}\n",
      "{'accuracy': 0.9136690647482014, 'confidence': 0.7712273898257135, 'explainability': 1.0, 'energy': 0.023205572371097348, 'latency': 6.950791427862379}\n",
      "REWARD:  3.9923985682830825\n",
      "Worst model: EfficientNetV2L with score: 0.5911481481481482\n",
      "Model 'EfficientNetV2L' successfully removed from the target YAML.\n",
      "Best model: EfficientNetV2L with score: 0.5911481481481482\n",
      "Model 'EfficientNetV2L' successfully added to the target YAML.\n"
     ]
    },
    {
     "name": "stderr",
     "output_type": "stream",
     "text": [
      "2025-01-28 15:54:05,806:INFO -- Action: Keeping the ensemble\n"
     ]
    },
    {
     "name": "stdout",
     "output_type": "stream",
     "text": [
      "STATE:  {'ensemble_state': {'total_energy_consumption': 0.023205572371097348, 'ensemble_size': 16}, 'model_states': {'InceptionResNetV2': {'accuracy': 0.9, 'confidence': 0.8067360303231648, 'avg_response_time': 2.0713317799328848, 'max_response_time': 2.222508735903802, 'contribution': 0.7971322070275034}, 'MobileNetV2': {'accuracy': 0.8473282442748091, 'confidence': 0.6817229201320474, 'avg_response_time': 0.0946484862895187, 'max_response_time': 0.15370382848033695, 'contribution': 0.6847394154272006}, 'ResNet50V2': {'accuracy': 0.71900826446281, 'confidence': 0.6706605797464197, 'avg_response_time': 0.3875614303302014, 'max_response_time': 0.5175399351141425, 'contribution': 0.7344545675210716}, 'ensemble': {'accuracy': 0.9142857142857143, 'confidence': 0.7714311369399451, 'avg_response_time': 6.952233354217631, 'max_response_time': 7.209711696979988, 'contribution': 0.9044777580669948}, 'EfficientNetV2S': {'accuracy': 0.9637681159420289, 'confidence': 0.8551591621792834, 'avg_response_time': 1.148320530902733, 'max_response_time': 1.232916014269438, 'contribution': 0.8332771831664486}, 'NASNetLarge': {'accuracy': 0.9635036496350365, 'confidence': 0.859236706129826, 'avg_response_time': 3.8154675700356186, 'max_response_time': 3.88366818207123, 'contribution': 0.8340536625715937}, 'EfficientNetB7': {'accuracy': 0.9328358208955224, 'confidence': 0.7229151836971739, 'avg_response_time': 7.121375500576153, 'max_response_time': 7.200705930599174, 'contribution': 0.704690812016601}, 'DenseNet201': {'accuracy': 0.9022556390977443, 'confidence': 0.8294156005508021, 'avg_response_time': 0.584374403868215, 'max_response_time': 0.7017973373738774, 'contribution': 0.827858837475454}, 'Xception': {'accuracy': 0.8931297709923665, 'confidence': 0.739227365901452, 'avg_response_time': 0.9922236456478608, 'max_response_time': 1.0385951457921117, 'contribution': 0.7330751212043617}, 'InceptionV3': {'accuracy': 0.9069767441860465, 'confidence': 0.8099190738312033, 'avg_response_time': 0.5756656943690418, 'max_response_time': 0.7062985018013463, 'contribution': 0.8041079640388489}}, 'input_state': {'input_file_length': 14, 'image_height': 224, 'image_width': 224}, 'distribution_weights': [1.0, 1.0, 1.0, 1.0, 1.0, 0.0, 0.0, 0.0, 0.0, 0.0, 0.0, 0.0, 0.0, 0.0, 0.0, 0.0, 0.0, 0.0, 0.0, 0.0]}\n",
      "{'accuracy': 0.9142857142857143, 'confidence': 0.7714311369399451, 'explainability': 1.0, 'energy': 0.023205572371097348, 'latency': 6.952233354217631}\n",
      "REWARD:  3.9924189549046494\n"
     ]
    },
    {
     "name": "stderr",
     "output_type": "stream",
     "text": [
      "2025-01-28 15:54:06,607:INFO -- Action: Adding a model\n"
     ]
    },
    {
     "name": "stdout",
     "output_type": "stream",
     "text": [
      "STATE:  {'ensemble_state': {'total_energy_consumption': 0.023205572371097348, 'ensemble_size': 16}, 'model_states': {'InceptionResNetV2': {'accuracy': 0.900709219858156, 'confidence': 0.8069918540352625, 'avg_response_time': 2.0715054234390475, 'max_response_time': 2.222508735903802, 'contribution': 0.7974561429615562}, 'MobileNetV2': {'accuracy': 0.8484848484848485, 'confidence': 0.6799429953098297, 'avg_response_time': 0.09456716650789088, 'max_response_time': 0.15370382848033695, 'contribution': 0.6829366383678985}, 'ResNet50V2': {'accuracy': 0.7213114754098361, 'confidence': 0.6710984108389401, 'avg_response_time': 0.3878042080808045, 'max_response_time': 0.5175399351141425, 'contribution': 0.7343694970744555}, 'ensemble': {'accuracy': 0.9148936170212766, 'confidence': 0.7713087959348953, 'avg_response_time': 6.954018128312354, 'max_response_time': 7.209711696979988, 'contribution': 0.9045819158249713}, 'EfficientNetV2S': {'accuracy': 0.9640287769784173, 'confidence': 0.8546573884195561, 'avg_response_time': 1.1480646122692804, 'max_response_time': 1.232916014269438, 'contribution': 0.8329328337161661}, 'NASNetLarge': {'accuracy': 0.9637681159420289, 'confidence': 0.8590623285027518, 'avg_response_time': 3.8151401886493774, 'max_response_time': 3.88366818207123, 'contribution': 0.8340617707674054}, 'EfficientNetB7': {'accuracy': 0.9333333333333333, 'confidence': 0.7232696683318527, 'avg_response_time': 7.121911471853182, 'max_response_time': 7.200705930599174, 'contribution': 0.7051802919970618}, 'DenseNet201': {'accuracy': 0.9029850746268657, 'confidence': 0.8300853647402863, 'avg_response_time': 0.5843838665496313, 'max_response_time': 0.7017973373738774, 'contribution': 0.8285402192998288}, 'Xception': {'accuracy': 0.8939393939393939, 'confidence': 0.740279242847905, 'avg_response_time': 0.9924093822825785, 'max_response_time': 1.0385951457921117, 'contribution': 0.7341736060651866}, 'InceptionV3': {'accuracy': 0.9076923076923077, 'confidence': 0.8104450085988412, 'avg_response_time': 0.5755317975042877, 'max_response_time': 0.7062985018013463, 'contribution': 0.8046785996510433}}, 'input_state': {'input_file_length': 14, 'image_height': 224, 'image_width': 224}, 'distribution_weights': [1.0, 1.0, 1.0, 1.0, 1.0, 0.0, 0.0, 0.0, 0.0, 0.0, 0.0, 0.0, 0.0, 0.0, 0.0, 0.0, 0.0, 0.0, 0.0, 0.0]}\n",
      "{'accuracy': 0.9148936170212766, 'confidence': 0.7713087959348953, 'explainability': 1.0, 'energy': 0.023205572371097348, 'latency': 6.954018128312354}\n",
      "REWARD:  3.9924299440844573\n",
      "No eligible models to score.\n"
     ]
    },
    {
     "name": "stderr",
     "output_type": "stream",
     "text": [
      "2025-01-28 15:54:07,436:INFO -- Action: Adding a model\n"
     ]
    },
    {
     "name": "stdout",
     "output_type": "stream",
     "text": [
      "STATE:  {'ensemble_state': {'total_energy_consumption': 0.023205572371097348, 'ensemble_size': 16}, 'model_states': {'InceptionResNetV2': {'accuracy': 0.9014084507042254, 'confidence': 0.8079356391664961, 'avg_response_time': 2.0715399814710547, 'max_response_time': 2.222508735903802, 'contribution': 0.798467080987675}, 'MobileNetV2': {'accuracy': 0.849624060150376, 'confidence': 0.6795791965678222, 'avg_response_time': 0.09460262404284138, 'max_response_time': 0.15370382848033695, 'contribution': 0.6825503310314694}, 'ResNet50V2': {'accuracy': 0.7235772357723578, 'confidence': 0.6731040097349058, 'avg_response_time': 0.3879437794044511, 'max_response_time': 0.5175399351141425, 'contribution': 0.7358606968953357}, 'ensemble': {'accuracy': 0.9154929577464789, 'confidence': 0.7717571170254711, 'avg_response_time': 6.955600579155649, 'max_response_time': 7.209711696979988, 'contribution': 0.9051762466699305}, 'EfficientNetV2S': {'accuracy': 0.9642857142857143, 'confidence': 0.8548846312931606, 'avg_response_time': 1.1481985014362126, 'max_response_time': 1.232916014269438, 'contribution': 0.833315251980509}, 'NASNetLarge': {'accuracy': 0.9640287769784173, 'confidence': 0.859430753284221, 'avg_response_time': 3.8150006845474125, 'max_response_time': 3.88366818207123, 'contribution': 0.8346100556764672}, 'EfficientNetB7': {'accuracy': 0.9338235294117647, 'confidence': 0.7238769049153608, 'avg_response_time': 7.122256095637316, 'max_response_time': 7.200705930599174, 'contribution': 0.7059205387006787}, 'DenseNet201': {'accuracy': 0.9037037037037037, 'confidence': 0.8304851377451862, 'avg_response_time': 0.5844781417823185, 'max_response_time': 0.7017973373738774, 'contribution': 0.8289514378265098}, 'Xception': {'accuracy': 0.8947368421052632, 'confidence': 0.7421491500130273, 'avg_response_time': 0.992629981800992, 'max_response_time': 1.0385951457921117, 'contribution': 0.736089420273788}, 'InceptionV3': {'accuracy': 0.9083969465648855, 'confidence': 0.8099895112842094, 'avg_response_time': 0.5754021129069571, 'max_response_time': 0.7062985018013463, 'contribution': 0.8042671207253259}}, 'input_state': {'input_file_length': 14, 'image_height': 224, 'image_width': 224}, 'distribution_weights': [1.0, 1.0, 1.0, 1.0, 1.0, 0.0, 0.0, 0.0, 0.0, 0.0, 0.0, 0.0, 0.0, 0.0, 0.0, 0.0, 0.0, 0.0, 0.0, 0.0]}\n",
      "{'accuracy': 0.9154929577464789, 'confidence': 0.7717571170254711, 'explainability': 1.0, 'energy': 0.023205572371097348, 'latency': 6.955600579155649}\n",
      "REWARD:  3.9924567825546657\n",
      "No eligible models to score.\n"
     ]
    },
    {
     "name": "stderr",
     "output_type": "stream",
     "text": [
      "2025-01-28 15:54:08,161:INFO -- Action: Replacing a model\n"
     ]
    },
    {
     "name": "stdout",
     "output_type": "stream",
     "text": [
      "STATE:  {'ensemble_state': {'total_energy_consumption': 0.023205572371097348, 'ensemble_size': 16}, 'model_states': {'InceptionResNetV2': {'accuracy': 0.9020979020979021, 'confidence': 0.8086467264415501, 'avg_response_time': 2.0715587165106255, 'max_response_time': 2.222508735903802, 'contribution': 0.7992443819562872}, 'MobileNetV2': {'accuracy': 0.8507462686567164, 'confidence': 0.6795866636197958, 'avg_response_time': 0.0946618720910798, 'max_response_time': 0.15370382848033695, 'contribution': 0.682535625438192}, 'ResNet50V2': {'accuracy': 0.717741935483871, 'confidence': 0.6676757515918824, 'avg_response_time': 0.38785663554313854, 'max_response_time': 0.5175399351141425, 'contribution': 0.7299263364365024}, 'ensemble': {'accuracy': 0.916083916083916, 'confidence': 0.7717662733371896, 'avg_response_time': 6.956636943340399, 'max_response_time': 7.209711696979988, 'contribution': 0.905738774296287}, 'EfficientNetV2S': {'accuracy': 0.9645390070921985, 'confidence': 0.8545080537491656, 'avg_response_time': 1.1480441206626633, 'max_response_time': 1.232916014269438, 'contribution': 0.8330916487578804}, 'NASNetLarge': {'accuracy': 0.9642857142857143, 'confidence': 0.8596695910607065, 'avg_response_time': 3.8149440672361776, 'max_response_time': 3.88366818207123, 'contribution': 0.8350261841501508}, 'EfficientNetB7': {'accuracy': 0.9343065693430657, 'confidence': 0.7228374938025092, 'avg_response_time': 7.122037960860232, 'max_response_time': 7.200705930599174, 'contribution': 0.7050121959543576}, 'DenseNet201': {'accuracy': 0.9044117647058824, 'confidence': 0.8302394379587734, 'avg_response_time': 0.5844135441093475, 'max_response_time': 0.7017973373738774, 'contribution': 0.8287170152453815}, 'Xception': {'accuracy': 0.8955223880597015, 'confidence': 0.7427301175558745, 'avg_response_time': 0.9925272273885641, 'max_response_time': 1.0385951457921117, 'contribution': 0.7367156096803609}, 'InceptionV3': {'accuracy': 0.9090909090909091, 'confidence': 0.8069056848233397, 'avg_response_time': 0.5752458626173437, 'max_response_time': 0.7062985018013463, 'contribution': 0.8012266457080841}}, 'input_state': {'input_file_length': 15, 'image_height': 224, 'image_width': 224}, 'distribution_weights': [1.0, 1.0, 1.0, 1.0, 1.0, 0.0, 0.0, 0.0, 0.0, 0.0, 0.0, 0.0, 0.0, 0.0, 0.0, 0.0, 0.0, 0.0, 0.0, 0.0]}\n",
      "{'accuracy': 0.916083916083916, 'confidence': 0.7717662733371896, 'explainability': 1.0, 'energy': 0.023205572371097348, 'latency': 6.956636943340399}\n",
      "REWARD:  3.992471052695184\n",
      "Worst model: EfficientNetV2L with score: 0.5911481481481482\n",
      "Model 'EfficientNetV2L' successfully removed from the target YAML.\n",
      "Best model: EfficientNetV2L with score: 0.5911481481481482\n",
      "Model 'EfficientNetV2L' successfully added to the target YAML.\n"
     ]
    },
    {
     "name": "stderr",
     "output_type": "stream",
     "text": [
      "2025-01-28 15:54:09,048:INFO -- Action: Keeping the ensemble\n"
     ]
    },
    {
     "name": "stdout",
     "output_type": "stream",
     "text": [
      "STATE:  {'ensemble_state': {'total_energy_consumption': 0.023205572371097348, 'ensemble_size': 16}, 'model_states': {'InceptionResNetV2': {'accuracy': 0.9027777777777778, 'confidence': 0.8086093800763289, 'avg_response_time': 2.071460706787703, 'max_response_time': 2.222508735903802, 'contribution': 0.7992723296499915}, 'MobileNetV2': {'accuracy': 0.8518518518518519, 'confidence': 0.6803402768241035, 'avg_response_time': 0.0946894707242142, 'max_response_time': 0.15370382848033695, 'contribution': 0.6832673944808819}, 'ResNet50V2': {'accuracy': 0.712, 'confidence': 0.6623343455791474, 'avg_response_time': 0.3873567270525451, 'max_response_time': 0.5175399351141425, 'contribution': 0.7240869257450103}, 'ensemble': {'accuracy': 0.9166666666666666, 'confidence': 0.771700761461354, 'avg_response_time': 6.957757763523253, 'max_response_time': 7.209711696979988, 'contribution': 0.9059168410797914}, 'EfficientNetV2S': {'accuracy': 0.9647887323943662, 'confidence': 0.853220564378819, 'avg_response_time': 1.1482140405885366, 'max_response_time': 1.232916014269438, 'contribution': 0.8319549791409936}, 'NASNetLarge': {'accuracy': 0.9645390070921985, 'confidence': 0.8595983054198272, 'avg_response_time': 3.814758084102831, 'max_response_time': 3.88366818207123, 'contribution': 0.8351296744448073}, 'EfficientNetB7': {'accuracy': 0.9347826086956522, 'confidence': 0.7232022579165472, 'avg_response_time': 7.121945040773449, 'max_response_time': 7.200705930599174, 'contribution': 0.7055061288933823}, 'DenseNet201': {'accuracy': 0.9051094890510949, 'confidence': 0.8309639761917782, 'avg_response_time': 0.5843965403696882, 'max_response_time': 0.7017973373738774, 'contribution': 0.8294526660529367}, 'Xception': {'accuracy': 0.8962962962962963, 'confidence': 0.7416450668264318, 'avg_response_time': 0.9923023682033907, 'max_response_time': 1.0385951457921117, 'contribution': 0.7356751108611072}, 'InceptionV3': {'accuracy': 0.9097744360902256, 'confidence': 0.8059938449160498, 'avg_response_time': 0.5753803200283139, 'max_response_time': 0.7062985018013463, 'contribution': 0.8003575053430141}}, 'input_state': {'input_file_length': 33, 'image_height': 224, 'image_width': 224}, 'distribution_weights': [1.0, 1.0, 1.0, 1.0, 1.0, 0.0, 0.0, 0.0, 0.0, 0.0, 0.0, 0.0, 0.0, 0.0, 0.0, 0.0, 0.0, 0.0, 0.0, 0.0]}\n",
      "{'accuracy': 0.9166666666666666, 'confidence': 0.771700761461354, 'explainability': 1.0, 'energy': 0.023205572371097348, 'latency': 6.957757763523253}\n",
      "REWARD:  3.992483018394638\n"
     ]
    },
    {
     "name": "stderr",
     "output_type": "stream",
     "text": [
      "2025-01-28 15:54:09,827:INFO -- Action: Keeping the ensemble\n"
     ]
    },
    {
     "name": "stdout",
     "output_type": "stream",
     "text": [
      "STATE:  {'ensemble_state': {'total_energy_consumption': 0.023205572371097348, 'ensemble_size': 16}, 'model_states': {'InceptionResNetV2': {'accuracy': 0.903448275862069, 'confidence': 0.8097309157766145, 'avg_response_time': 2.0712357591065818, 'max_response_time': 2.222508735903802, 'contribution': 0.8004582588014931}, 'MobileNetV2': {'accuracy': 0.8529411764705882, 'confidence': 0.6813681002925424, 'avg_response_time': 0.09474253974586218, 'max_response_time': 0.15370382848033695, 'contribution': 0.6842736950253739}, 'ResNet50V2': {'accuracy': 0.7142857142857143, 'confidence': 0.6601280205779605, 'avg_response_time': 0.3876188548896462, 'max_response_time': 0.5175399351141425, 'contribution': 0.7213905009012374}, 'ensemble': {'accuracy': 0.9172413793103448, 'confidence': 0.7715784608500649, 'avg_response_time': 6.9587779926312265, 'max_response_time': 7.209711696979988, 'contribution': 0.9063672908421221}, 'EfficientNetV2S': {'accuracy': 0.965034965034965, 'confidence': 0.8533455400200157, 'avg_response_time': 1.1482293184985346, 'max_response_time': 1.232916014269438, 'contribution': 0.8322286651684687}, 'NASNetLarge': {'accuracy': 0.9647887323943662, 'confidence': 0.8598701699938572, 'avg_response_time': 3.8147491268533984, 'max_response_time': 3.88366818207123, 'contribution': 0.8355738533214784}, 'EfficientNetB7': {'accuracy': 0.935251798561151, 'confidence': 0.7228022895270972, 'avg_response_time': 7.1217521598952835, 'max_response_time': 7.200705930599174, 'contribution': 0.7052334707846745}, 'DenseNet201': {'accuracy': 0.9057971014492754, 'confidence': 0.8319560902706091, 'avg_response_time': 0.5845562835973729, 'max_response_time': 0.7017973373738774, 'contribution': 0.8304557316545127}, 'Xception': {'accuracy': 0.8970588235294118, 'confidence': 0.7392219248063424, 'avg_response_time': 0.9923448717078507, 'max_response_time': 1.0385951457921117, 'contribution': 0.7332958655760569}, 'InceptionV3': {'accuracy': 0.9104477611940298, 'confidence': 0.8055046874640593, 'avg_response_time': 0.5753872220715929, 'max_response_time': 0.7062985018013463, 'contribution': 0.7999104101266434}}, 'input_state': {'input_file_length': 15, 'image_height': 224, 'image_width': 224}, 'distribution_weights': [1.0, 1.0, 1.0, 1.0, 1.0, 0.0, 0.0, 0.0, 0.0, 0.0, 0.0, 0.0, 0.0, 0.0, 0.0, 0.0, 0.0, 0.0, 0.0, 0.0]}\n",
      "{'accuracy': 0.9172413793103448, 'confidence': 0.7715784608500649, 'explainability': 1.0, 'energy': 0.023205572371097348, 'latency': 6.9587779926312265}\n",
      "REWARD:  3.992493186712017\n"
     ]
    },
    {
     "name": "stderr",
     "output_type": "stream",
     "text": [
      "2025-01-28 15:54:10,618:INFO -- Action: Keeping the ensemble\n"
     ]
    },
    {
     "name": "stdout",
     "output_type": "stream",
     "text": [
      "STATE:  {'ensemble_state': {'total_energy_consumption': 0.023205572371097348, 'ensemble_size': 16}, 'model_states': {'InceptionResNetV2': {'accuracy': 0.9041095890410958, 'confidence': 0.8104652333749484, 'avg_response_time': 2.0713269029205503, 'max_response_time': 2.222508735903802, 'contribution': 0.8012560877489717}, 'MobileNetV2': {'accuracy': 0.8540145985401459, 'confidence': 0.6830215058187499, 'avg_response_time': 0.09480930264397754, 'max_response_time': 0.15370382848033695, 'contribution': 0.6859058918309038}, 'ResNet50V2': {'accuracy': 0.7165354330708661, 'confidence': 0.6610998990028862, 'avg_response_time': 0.38778249735829295, 'max_response_time': 0.5175399351141425, 'contribution': 0.721879997591334}, 'ensemble': {'accuracy': 0.9178082191780822, 'confidence': 0.7722079069626523, 'avg_response_time': 6.9599073508211236, 'max_response_time': 7.209711696979988, 'contribution': 0.9069806961980584}, 'EfficientNetV2S': {'accuracy': 0.9652777777777778, 'confidence': 0.8538215826782916, 'avg_response_time': 1.1483801638206477, 'max_response_time': 1.232916014269438, 'contribution': 0.8328513527909914}, 'NASNetLarge': {'accuracy': 0.965034965034965, 'confidence': 0.8601395819153819, 'avg_response_time': 3.814550046453684, 'max_response_time': 3.88366818207123, 'contribution': 0.8360131695553973}, 'EfficientNetB7': {'accuracy': 0.9357142857142857, 'confidence': 0.7235258574996676, 'avg_response_time': 7.121672215723569, 'max_response_time': 7.200705930599174, 'contribution': 0.7060825303196907}, 'DenseNet201': {'accuracy': 0.9064748201438849, 'confidence': 0.8330314553898873, 'avg_response_time': 0.584292646660827, 'max_response_time': 0.7017973373738774, 'contribution': 0.8315418907206693}, 'Xception': {'accuracy': 0.8978102189781022, 'confidence': 0.7401720781395905, 'avg_response_time': 0.9923634786809958, 'max_response_time': 1.0385951457921117, 'contribution': 0.7342892748160954}, 'InceptionV3': {'accuracy': 0.9111111111111111, 'confidence': 0.8062869740857018, 'avg_response_time': 0.5752688811011005, 'max_response_time': 0.7062985018013463, 'contribution': 0.8007341358396742}}, 'input_state': {'input_file_length': 15, 'image_height': 224, 'image_width': 224}, 'distribution_weights': [1.0, 1.0, 1.0, 1.0, 1.0, 0.0, 0.0, 0.0, 0.0, 0.0, 0.0, 0.0, 0.0, 0.0, 0.0, 0.0, 0.0, 0.0, 0.0, 0.0]}\n",
      "{'accuracy': 0.9178082191780822, 'confidence': 0.7722079069626523, 'explainability': 1.0, 'energy': 0.023205572371097348, 'latency': 6.9599073508211236}\n",
      "REWARD:  3.9925243093407827\n"
     ]
    },
    {
     "name": "stderr",
     "output_type": "stream",
     "text": [
      "2025-01-28 15:54:11,451:INFO -- Action: Keeping the ensemble\n"
     ]
    },
    {
     "name": "stdout",
     "output_type": "stream",
     "text": [
      "STATE:  {'ensemble_state': {'total_energy_consumption': 0.023205572371097348, 'ensemble_size': 16}, 'model_states': {'InceptionResNetV2': {'accuracy': 0.9047619047619048, 'confidence': 0.8113027725900922, 'avg_response_time': 2.071159779670292, 'max_response_time': 2.222508735903802, 'contribution': 0.8021562742132718}, 'MobileNetV2': {'accuracy': 0.855072463768116, 'confidence': 0.6848303956398065, 'avg_response_time': 0.09488128839037674, 'max_response_time': 0.15370382848033695, 'contribution': 0.6876938803040463}, 'ResNet50V2': {'accuracy': 0.71875, 'confidence': 0.6637321375310421, 'avg_response_time': 0.38765459895699583, 'max_response_time': 0.5175399351141425, 'contribution': 0.7240373915992677}, 'ensemble': {'accuracy': 0.9183673469387755, 'confidence': 0.7733873403511485, 'avg_response_time': 6.9608745980611, 'max_response_time': 7.209711696979988, 'contribution': 0.9076000549355332}, 'EfficientNetV2S': {'accuracy': 0.9655172413793104, 'confidence': 0.8542803217624796, 'avg_response_time': 1.1481337088151522, 'max_response_time': 1.232916014269438, 'contribution': 0.8334547141502644}, 'NASNetLarge': {'accuracy': 0.9652777777777778, 'confidence': 0.8604969802416034, 'avg_response_time': 3.8145230122094, 'max_response_time': 3.88366818207123, 'contribution': 0.8365381124118964}, 'EfficientNetB7': {'accuracy': 0.9361702127659575, 'confidence': 0.7241050529141798, 'avg_response_time': 7.121466268699844, 'max_response_time': 7.200705930599174, 'contribution': 0.7067854372744865}, 'DenseNet201': {'accuracy': 0.9071428571428571, 'confidence': 0.8341756616319929, 'avg_response_time': 0.5842871120083882, 'max_response_time': 0.7017973373738774, 'contribution': 0.8326967367104121}, 'Xception': {'accuracy': 0.8985507246376812, 'confidence': 0.741595033718192, 'avg_response_time': 0.9924090147209038, 'max_response_time': 1.0385951457921117, 'contribution': 0.7357548594042875}, 'InceptionV3': {'accuracy': 0.9117647058823529, 'confidence': 0.8076371723676429, 'avg_response_time': 0.5752635607964365, 'max_response_time': 0.7062985018013463, 'contribution': 0.8021251638146008}}, 'input_state': {'input_file_length': 14, 'image_height': 224, 'image_width': 224}, 'distribution_weights': [1.0, 1.0, 1.0, 1.0, 1.0, 0.0, 0.0, 0.0, 0.0, 0.0, 0.0, 0.0, 0.0, 0.0, 0.0, 0.0, 0.0, 0.0, 0.0, 0.0]}\n",
      "{'accuracy': 0.9183673469387755, 'confidence': 0.7733873403511485, 'explainability': 1.0, 'energy': 0.023205572371097348, 'latency': 6.9608745980611}\n",
      "REWARD:  3.9925706746267773\n"
     ]
    },
    {
     "name": "stderr",
     "output_type": "stream",
     "text": [
      "2025-01-28 15:54:12,347:INFO -- Action: Adding a model\n"
     ]
    },
    {
     "name": "stdout",
     "output_type": "stream",
     "text": [
      "STATE:  {'ensemble_state': {'total_energy_consumption': 0.023205572371097348, 'ensemble_size': 16}, 'model_states': {'InceptionResNetV2': {'accuracy': 0.9054054054054054, 'confidence': 0.811927864277685, 'avg_response_time': 2.0709215347543264, 'max_response_time': 2.222508735903802, 'contribution': 0.8028431665655729}, 'MobileNetV2': {'accuracy': 0.8561151079136691, 'confidence': 0.6862126280077927, 'avg_response_time': 0.09494698345617263, 'max_response_time': 0.15370382848033695, 'contribution': 0.6890555120629372}, 'ResNet50V2': {'accuracy': 0.7209302325581395, 'confidence': 0.6660731832186381, 'avg_response_time': 0.3876580328298258, 'max_response_time': 0.5175399351141425, 'contribution': 0.7259109546971876}, 'ensemble': {'accuracy': 0.918918918918919, 'confidence': 0.7732752305619822, 'avg_response_time': 6.9617458475418, 'max_response_time': 7.209711696979988, 'contribution': 0.9080286098493112}, 'EfficientNetV2S': {'accuracy': 0.9657534246575342, 'confidence': 0.8542325398693346, 'avg_response_time': 1.148055077506697, 'max_response_time': 1.232916014269438, 'contribution': 0.8335495734051482}, 'NASNetLarge': {'accuracy': 0.9655172413793104, 'confidence': 0.8602864390817182, 'avg_response_time': 3.814797647075184, 'max_response_time': 3.88366818207123, 'contribution': 0.8364928048232506}, 'EfficientNetB7': {'accuracy': 0.9366197183098591, 'confidence': 0.7242919596987711, 'avg_response_time': 7.121190217529286, 'max_response_time': 7.200705930599174, 'contribution': 0.707094313183301}, 'DenseNet201': {'accuracy': 0.9078014184397163, 'confidence': 0.833921896650436, 'avg_response_time': 0.5843595100505203, 'max_response_time': 0.7017973373738774, 'contribution': 0.8324534605580864}, 'Xception': {'accuracy': 0.8992805755395683, 'confidence': 0.742301128322272, 'avg_response_time': 0.9924698427449564, 'max_response_time': 1.0385951457921117, 'contribution': 0.7365029696509134}, 'InceptionV3': {'accuracy': 0.9124087591240876, 'confidence': 0.808769948943688, 'avg_response_time': 0.5752423914853816, 'max_response_time': 0.7062985018013463, 'contribution': 0.8032981740297193}}, 'input_state': {'input_file_length': 15, 'image_height': 224, 'image_width': 224}, 'distribution_weights': [1.0, 1.0, 1.0, 1.0, 1.0, 0.0, 0.0, 0.0, 0.0, 0.0, 0.0, 0.0, 0.0, 0.0, 0.0, 0.0, 0.0, 0.0, 0.0, 0.0]}\n",
      "{'accuracy': 0.918918918918919, 'confidence': 0.7732752305619822, 'explainability': 1.0, 'energy': 0.023205572371097348, 'latency': 6.9617458475418}\n",
      "REWARD:  3.992580564605969\n",
      "No eligible models to score.\n"
     ]
    },
    {
     "name": "stderr",
     "output_type": "stream",
     "text": [
      "2025-01-28 15:54:13,282:INFO -- Action: Adding a model\n"
     ]
    },
    {
     "name": "stdout",
     "output_type": "stream",
     "text": [
      "STATE:  {'ensemble_state': {'total_energy_consumption': 0.023205572371097348, 'ensemble_size': 16}, 'model_states': {'InceptionResNetV2': {'accuracy': 0.9060402684563759, 'confidence': 0.8120625455107465, 'avg_response_time': 2.0708198172756673, 'max_response_time': 2.222508735903802, 'contribution': 0.803038818924219}, 'MobileNetV2': {'accuracy': 0.8571428571428571, 'confidence': 0.6876527650015695, 'avg_response_time': 0.09494669852407396, 'max_response_time': 0.15370382848033695, 'contribution': 0.6904753427420344}, 'ResNet50V2': {'accuracy': 0.7230769230769231, 'confidence': 0.6647262458617871, 'avg_response_time': 0.38784935772097917, 'max_response_time': 0.5175399351141425, 'contribution': 0.7241037267905015}, 'ensemble': {'accuracy': 0.9194630872483222, 'confidence': 0.7730304492321525, 'avg_response_time': 6.9628986990242385, 'max_response_time': 7.209711696979988, 'contribution': 0.9083000457526853}, 'EfficientNetV2S': {'accuracy': 0.9659863945578231, 'confidence': 0.8545894014592074, 'avg_response_time': 1.147988225967339, 'max_response_time': 1.232916014269438, 'contribution': 0.8340471354471582}, 'NASNetLarge': {'accuracy': 0.9657534246575342, 'confidence': 0.8607400167886525, 'avg_response_time': 3.8147281544304157, 'max_response_time': 3.88366818207123, 'contribution': 0.8371093526278457}, 'EfficientNetB7': {'accuracy': 0.9370629370629371, 'confidence': 0.7248735548732997, 'avg_response_time': 7.121204480989177, 'max_response_time': 7.200705930599174, 'contribution': 0.7077961716201756}, 'DenseNet201': {'accuracy': 0.9084507042253521, 'confidence': 0.8338064996289535, 'avg_response_time': 0.5843206998781822, 'max_response_time': 0.7017973373738774, 'contribution': 0.8323484046358458}, 'Xception': {'accuracy': 0.9, 'confidence': 0.7427884927817754, 'avg_response_time': 0.9925348167432564, 'max_response_time': 1.0385951457921117, 'contribution': 0.737031749529498}, 'InceptionV3': {'accuracy': 0.9130434782608695, 'confidence': 0.805643055965935, 'avg_response_time': 0.5753005149466197, 'max_response_time': 0.7062985018013463, 'contribution': 0.800210931594821}}, 'input_state': {'input_file_length': 15, 'image_height': 224, 'image_width': 224}, 'distribution_weights': [1.0, 1.0, 1.0, 1.0, 1.0, 0.0, 0.0, 0.0, 0.0, 0.0, 0.0, 0.0, 0.0, 0.0, 0.0, 0.0, 0.0, 0.0, 0.0, 0.0]}\n",
      "{'accuracy': 0.9194630872483222, 'confidence': 0.7730304492321525, 'explainability': 1.0, 'energy': 0.023205572371097348, 'latency': 6.9628986990242385}\n",
      "REWARD:  3.992586544980669\n",
      "No eligible models to score.\n"
     ]
    },
    {
     "name": "stderr",
     "output_type": "stream",
     "text": [
      "2025-01-28 15:54:14,233:INFO -- Action: Keeping the ensemble\n"
     ]
    },
    {
     "name": "stdout",
     "output_type": "stream",
     "text": [
      "STATE:  {'ensemble_state': {'total_energy_consumption': 0.023205572371097348, 'ensemble_size': 16}, 'model_states': {'InceptionResNetV2': {'accuracy': 0.9, 'confidence': 0.8066487952073416, 'avg_response_time': 2.0706685147970774, 'max_response_time': 2.222508735903802, 'contribution': 0.7976852267980575}, 'MobileNetV2': {'accuracy': 0.851063829787234, 'confidence': 0.6827757950370194, 'avg_response_time': 0.09490482613315362, 'max_response_time': 0.15370382848033695, 'contribution': 0.685578354495637}, 'ResNet50V2': {'accuracy': 0.7175572519083969, 'confidence': 0.6596519997101704, 'avg_response_time': 0.3879974231934902, 'max_response_time': 0.5175399351141425, 'contribution': 0.7185762174256886}, 'ensemble': {'accuracy': 0.9133333333333333, 'confidence': 0.7678769129039381, 'avg_response_time': 6.963993488080242, 'max_response_time': 7.209711696979988, 'contribution': 0.9022447121143341}, 'EfficientNetV2S': {'accuracy': 0.9594594594594594, 'confidence': 0.8488151487466451, 'avg_response_time': 1.14806513497855, 'max_response_time': 1.232916014269438, 'contribution': 0.828411681829272}, 'NASNetLarge': {'accuracy': 0.9591836734693877, 'confidence': 0.8548846425247841, 'avg_response_time': 3.81490327347284, 'max_response_time': 3.88366818207123, 'contribution': 0.8314147311813977}, 'EfficientNetB7': {'accuracy': 0.9375, 'confidence': 0.724163907683558, 'avg_response_time': 7.121185900181759, 'max_response_time': 7.200705930599174, 'contribution': 0.7028809204283688}, 'DenseNet201': {'accuracy': 0.9090909090909091, 'confidence': 0.8337370428172025, 'avg_response_time': 0.5843456831464737, 'max_response_time': 0.7017973373738774, 'contribution': 0.8265277864216091}, 'Xception': {'accuracy': 0.8936170212765957, 'confidence': 0.7375204892868691, 'avg_response_time': 0.9925123857409631, 'max_response_time': 1.0385951457921117, 'contribution': 0.7318045740009199}, 'InceptionV3': {'accuracy': 0.9064748201438849, 'confidence': 0.7998470627575469, 'avg_response_time': 0.5752329446081695, 'max_response_time': 0.7062985018013463, 'contribution': 0.7944540184178799}}, 'input_state': {'input_file_length': 14, 'image_height': 224, 'image_width': 224}, 'distribution_weights': [1.0, 1.0, 1.0, 1.0, 1.0, 0.0, 0.0, 0.0, 0.0, 0.0, 0.0, 0.0, 0.0, 0.0, 0.0, 0.0, 0.0, 0.0, 0.0, 0.0]}\n",
      "{'accuracy': 0.9133333333333333, 'confidence': 0.7678769129039381, 'explainability': 1.0, 'energy': 0.023205572371097348, 'latency': 6.963993488080242}\n",
      "REWARD:  3.992296045916328\n"
     ]
    },
    {
     "name": "stderr",
     "output_type": "stream",
     "text": [
      "2025-01-28 15:54:15,244:INFO -- Action: Keeping the ensemble\n"
     ]
    },
    {
     "name": "stdout",
     "output_type": "stream",
     "text": [
      "STATE:  {'ensemble_state': {'total_energy_consumption': 0.023205572371097348, 'ensemble_size': 16}, 'model_states': {'InceptionResNetV2': {'accuracy': 0.9006622516556292, 'confidence': 0.8074572220543362, 'avg_response_time': 2.070845113342856, 'max_response_time': 2.222508735903802, 'contribution': 0.7985530150252462}, 'MobileNetV2': {'accuracy': 0.852112676056338, 'confidence': 0.6823576684568969, 'avg_response_time': 0.0949430964760848, 'max_response_time': 0.15370382848033695, 'contribution': 0.685140491581299}, 'ResNet50V2': {'accuracy': 0.7196969696969697, 'confidence': 0.6571993310794686, 'avg_response_time': 0.388242764143355, 'max_response_time': 0.5175399351141425, 'contribution': 0.7156771532062328}, 'ensemble': {'accuracy': 0.9139072847682119, 'confidence': 0.7674928717583155, 'avg_response_time': 6.965043686225204, 'max_response_time': 7.209711696979988, 'contribution': 0.902740300885889}, 'EfficientNetV2S': {'accuracy': 0.959731543624161, 'confidence': 0.8492564442973809, 'avg_response_time': 1.1479577632765996, 'max_response_time': 1.232916014269438, 'contribution': 0.8289899133995875}, 'NASNetLarge': {'accuracy': 0.9594594594594594, 'confidence': 0.8550200174386436, 'avg_response_time': 3.8150062519063965, 'max_response_time': 3.88366818207123, 'contribution': 0.8317086865773072}, 'EfficientNetB7': {'accuracy': 0.9379310344827586, 'confidence': 0.7227482857375309, 'avg_response_time': 7.121117376412682, 'max_response_time': 7.200705930599174, 'contribution': 0.7016120777047914}, 'DenseNet201': {'accuracy': 0.9097222222222222, 'confidence': 0.8343571755621169, 'avg_response_time': 0.5841370150821328, 'max_response_time': 0.7017973373738774, 'contribution': 0.8271979834470484}, 'Xception': {'accuracy': 0.8943661971830986, 'confidence': 0.7390235129376532, 'avg_response_time': 0.9925356589876104, 'max_response_time': 1.0385951457921117, 'contribution': 0.733347850576253}, 'InceptionV3': {'accuracy': 0.9, 'confidence': 0.7941338694521359, 'avg_response_time': 0.5752274892692036, 'max_response_time': 0.7062985018013463, 'contribution': 0.7887793468577521}}, 'input_state': {'input_file_length': 15, 'image_height': 224, 'image_width': 224}, 'distribution_weights': [1.0, 1.0, 1.0, 1.0, 1.0, 0.0, 0.0, 0.0, 0.0, 0.0, 0.0, 0.0, 0.0, 0.0, 0.0, 0.0, 0.0, 0.0, 0.0, 0.0]}\n",
      "{'accuracy': 0.9139072847682119, 'confidence': 0.7674928717583155, 'explainability': 1.0, 'energy': 0.023205572371097348, 'latency': 6.965043686225204}\n",
      "REWARD:  3.9922988244840107\n"
     ]
    },
    {
     "name": "stderr",
     "output_type": "stream",
     "text": [
      "2025-01-28 15:54:16,056:INFO -- Action: Keeping the ensemble\n"
     ]
    },
    {
     "name": "stdout",
     "output_type": "stream",
     "text": [
      "STATE:  {'ensemble_state': {'total_energy_consumption': 0.023205572371097348, 'ensemble_size': 16}, 'model_states': {'InceptionResNetV2': {'accuracy': 0.9013157894736842, 'confidence': 0.8083313417277838, 'avg_response_time': 2.070766122931273, 'max_response_time': 2.222508735903802, 'contribution': 0.7994857150080957}, 'MobileNetV2': {'accuracy': 0.8531468531468531, 'confidence': 0.6843930320306257, 'avg_response_time': 0.09492599376220782, 'max_response_time': 0.15370382848033695, 'contribution': 0.6871563948534586}, 'ResNet50V2': {'accuracy': 0.7218045112781954, 'confidence': 0.6597767322135151, 'avg_response_time': 0.38810298762471496, 'max_response_time': 0.5175399351141425, 'contribution': 0.7178148714671457}, 'ensemble': {'accuracy': 0.9144736842105263, 'confidence': 0.768530106492687, 'avg_response_time': 6.965994718594894, 'max_response_time': 7.209711696979988, 'contribution': 0.9033801257610321}, 'EfficientNetV2S': {'accuracy': 0.96, 'confidence': 0.8497850290934245, 'avg_response_time': 1.147984520608492, 'max_response_time': 1.232916014269438, 'contribution': 0.8296536084016164}, 'NASNetLarge': {'accuracy': 0.959731543624161, 'confidence': 0.8551182584874581, 'avg_response_time': 3.8148858583989256, 'max_response_time': 3.88366818207123, 'contribution': 0.8319633795110971}, 'EfficientNetB7': {'accuracy': 0.9383561643835616, 'confidence': 0.7234551939245772, 'avg_response_time': 7.120974947586966, 'max_response_time': 7.200705930599174, 'contribution': 0.7024637544400072}, 'DenseNet201': {'accuracy': 0.9103448275862069, 'confidence': 0.8354953626106525, 'avg_response_time': 0.5843033140752254, 'max_response_time': 0.7017973373738774, 'contribution': 0.8283855442343087}, 'Xception': {'accuracy': 0.8951048951048951, 'confidence': 0.739029881420669, 'avg_response_time': 0.9925216922272068, 'max_response_time': 1.0385951457921117, 'contribution': 0.733393909005852}, 'InceptionV3': {'accuracy': 0.900709219858156, 'confidence': 0.7954513073390257, 'avg_response_time': 0.5752358242651993, 'max_response_time': 0.7062985018013463, 'contribution': 0.7901347600821907}}, 'input_state': {'input_file_length': 15, 'image_height': 224, 'image_width': 224}, 'distribution_weights': [1.0, 1.0, 1.0, 1.0, 1.0, 0.0, 0.0, 0.0, 0.0, 0.0, 0.0, 0.0, 0.0, 0.0, 0.0, 0.0, 0.0, 0.0, 0.0, 0.0]}\n",
      "{'accuracy': 0.9144736842105263, 'confidence': 0.768530106492687, 'explainability': 1.0, 'energy': 0.023205572371097348, 'latency': 6.965994718594894}\n",
      "REWARD:  3.9923416048791824\n"
     ]
    },
    {
     "name": "stderr",
     "output_type": "stream",
     "text": [
      "2025-01-28 15:54:16,903:INFO -- Action: Replacing a model\n"
     ]
    },
    {
     "name": "stdout",
     "output_type": "stream",
     "text": [
      "STATE:  {'ensemble_state': {'total_energy_consumption': 0.023205572371097348, 'ensemble_size': 16}, 'model_states': {'InceptionResNetV2': {'accuracy': 0.9019607843137255, 'confidence': 0.8089191726609772, 'avg_response_time': 2.070781567284885, 'max_response_time': 2.222508735903802, 'contribution': 0.8001313604950125}, 'MobileNetV2': {'accuracy': 0.8541666666666666, 'confidence': 0.6850597063700358, 'avg_response_time': 0.09494945346488025, 'max_response_time': 0.15370382848033695, 'contribution': 0.6878038791732656}, 'ResNet50V2': {'accuracy': 0.7238805970149254, 'confidence': 0.6623139588245704, 'avg_response_time': 0.3882878178186004, 'max_response_time': 0.5175399351141425, 'contribution': 0.7199189776360099}, 'ensemble': {'accuracy': 0.9150326797385621, 'confidence': 0.7692686832390905, 'avg_response_time': 6.966817320676608, 'max_response_time': 7.209711696979988, 'contribution': 0.9040100929004694}, 'EfficientNetV2S': {'accuracy': 0.9602649006622517, 'confidence': 0.8500366680669469, 'avg_response_time': 1.147975776167501, 'max_response_time': 1.232916014269438, 'contribution': 0.830038568041972}, 'NASNetLarge': {'accuracy': 0.96, 'confidence': 0.8554558398326239, 'avg_response_time': 3.8147913514778784, 'max_response_time': 3.88366818207123, 'contribution': 0.8324553267161051}, 'EfficientNetB7': {'accuracy': 0.9387755102040817, 'confidence': 0.7238129588211475, 'avg_response_time': 7.1207205114713075, 'max_response_time': 7.200705930599174, 'contribution': 0.7029643182446357}, 'DenseNet201': {'accuracy': 0.910958904109589, 'confidence': 0.8364966038155229, 'avg_response_time': 0.584328610472003, 'max_response_time': 0.7017973373738774, 'contribution': 0.8294354828253184}, 'Xception': {'accuracy': 0.8958333333333334, 'confidence': 0.740344897740417, 'avg_response_time': 0.9923402025500694, 'max_response_time': 1.0385951457921117, 'contribution': 0.7347480640229251}, 'InceptionV3': {'accuracy': 0.9014084507042254, 'confidence': 0.7963611401722465, 'avg_response_time': 0.575231061076016, 'max_response_time': 0.7062985018013463, 'contribution': 0.7910820333890511}}, 'input_state': {'input_file_length': 15, 'image_height': 224, 'image_width': 224}, 'distribution_weights': [1.0, 1.0, 1.0, 1.0, 1.0, 0.0, 0.0, 0.0, 0.0, 0.0, 0.0, 0.0, 0.0, 0.0, 0.0, 0.0, 0.0, 0.0, 0.0, 0.0]}\n",
      "{'accuracy': 0.9150326797385621, 'confidence': 0.7692686832390905, 'explainability': 1.0, 'energy': 0.023205572371097348, 'latency': 6.966817320676608}\n",
      "REWARD:  3.992375732881214\n",
      "Worst model: EfficientNetV2L with score: 0.5911481481481482\n",
      "Model 'EfficientNetV2L' successfully removed from the target YAML.\n",
      "Best model: EfficientNetV2L with score: 0.5911481481481482\n",
      "Model 'EfficientNetV2L' successfully added to the target YAML.\n"
     ]
    },
    {
     "name": "stderr",
     "output_type": "stream",
     "text": [
      "2025-01-28 15:54:17,924:INFO -- Action: Replacing a model\n"
     ]
    },
    {
     "name": "stdout",
     "output_type": "stream",
     "text": [
      "STATE:  {'ensemble_state': {'total_energy_consumption': 0.023205572371097348, 'ensemble_size': 16}, 'model_states': {'InceptionResNetV2': {'accuracy': 0.9025974025974026, 'confidence': 0.8097938132750524, 'avg_response_time': 2.0706274182745776, 'max_response_time': 2.222508735903802, 'contribution': 0.8010630648244511}, 'MobileNetV2': {'accuracy': 0.8551724137931035, 'confidence': 0.686967813557592, 'avg_response_time': 0.09508286272021901, 'max_response_time': 0.15370382848033695, 'contribution': 0.6896930610311442}, 'ResNet50V2': {'accuracy': 0.725925925925926, 'confidence': 0.6647984056561081, 'avg_response_time': 0.3883058217321572, 'max_response_time': 0.5175399351141425, 'contribution': 0.7219767206244998}, 'ensemble': {'accuracy': 0.9155844155844156, 'confidence': 0.7695445132571511, 'avg_response_time': 6.967804712384492, 'max_response_time': 7.209711696979988, 'contribution': 0.9046206714270951}, 'EfficientNetV2S': {'accuracy': 0.9605263157894737, 'confidence': 0.8505764780075926, 'avg_response_time': 1.1479002705116212, 'max_response_time': 1.232916014269438, 'contribution': 0.8307099444301504}, 'NASNetLarge': {'accuracy': 0.9602649006622517, 'confidence': 0.8557623607038662, 'avg_response_time': 3.814686388782097, 'max_response_time': 3.88366818207123, 'contribution': 0.8329141688662649}, 'EfficientNetB7': {'accuracy': 0.9391891891891891, 'confidence': 0.7243331630487699, 'avg_response_time': 7.1206457161759555, 'max_response_time': 7.200705930599174, 'contribution': 0.7036253916653427}, 'DenseNet201': {'accuracy': 0.9115646258503401, 'confidence': 0.8375955329460352, 'avg_response_time': 0.5841047610071206, 'max_response_time': 0.7017973373738774, 'contribution': 0.8305824467924987}, 'Xception': {'accuracy': 0.896551724137931, 'confidence': 0.7402988569489841, 'avg_response_time': 0.9922891930612201, 'max_response_time': 1.0385951457921117, 'contribution': 0.7347406220847162}, 'InceptionV3': {'accuracy': 0.9020979020979021, 'confidence': 0.7977658704027429, 'avg_response_time': 0.5753067886694918, 'max_response_time': 0.7062985018013463, 'contribution': 0.7925236804501994}}, 'input_state': {'input_file_length': 14, 'image_height': 224, 'image_width': 224}, 'distribution_weights': [1.0, 1.0, 1.0, 1.0, 1.0, 0.0, 0.0, 0.0, 0.0, 0.0, 0.0, 0.0, 0.0, 0.0, 0.0, 0.0, 0.0, 0.0, 0.0, 0.0]}\n",
      "{'accuracy': 0.9155844155844156, 'confidence': 0.7695445132571511, 'explainability': 1.0, 'energy': 0.023205572371097348, 'latency': 6.967804712384492}\n",
      "REWARD:  3.992396606894371\n",
      "Worst model: EfficientNetV2L with score: 0.5911481481481482\n",
      "Model 'EfficientNetV2L' successfully removed from the target YAML.\n",
      "Best model: EfficientNetV2L with score: 0.5911481481481482\n",
      "Model 'EfficientNetV2L' successfully added to the target YAML.\n"
     ]
    },
    {
     "name": "stderr",
     "output_type": "stream",
     "text": [
      "2025-01-28 15:54:18,952:INFO -- Action: Adding a model\n"
     ]
    },
    {
     "name": "stdout",
     "output_type": "stream",
     "text": [
      "STATE:  {'ensemble_state': {'total_energy_consumption': 0.023205572371097348, 'ensemble_size': 16}, 'model_states': {'InceptionResNetV2': {'accuracy': 0.9032258064516129, 'confidence': 0.8104113778760357, 'avg_response_time': 2.070812616518887, 'max_response_time': 2.222508735903802, 'contribution': 0.8017369568347931}, 'MobileNetV2': {'accuracy': 0.8561643835616438, 'confidence': 0.6867316320334396, 'avg_response_time': 0.09508948514241296, 'max_response_time': 0.15370382848033695, 'contribution': 0.6894382134284058}, 'ResNet50V2': {'accuracy': 0.7279411764705882, 'confidence': 0.6672630750519388, 'avg_response_time': 0.38828450910303414, 'max_response_time': 0.5175399351141425, 'contribution': 0.7240209612337982}, 'ensemble': {'accuracy': 0.9161290322580645, 'confidence': 0.7705356467519909, 'avg_response_time': 6.96881727039002, 'max_response_time': 7.209711696979988, 'contribution': 0.9052359796339465}, 'EfficientNetV2S': {'accuracy': 0.9607843137254902, 'confidence': 0.8510443353964612, 'avg_response_time': 1.1478423923679306, 'max_response_time': 1.232916014269438, 'contribution': 0.8313076484437082}, 'NASNetLarge': {'accuracy': 0.9605263157894737, 'confidence': 0.8561658225953579, 'avg_response_time': 3.81460314338851, 'max_response_time': 3.88366818207123, 'contribution': 0.8334679478093198}, 'EfficientNetB7': {'accuracy': 0.9395973154362416, 'confidence': 0.7250770418435936, 'avg_response_time': 7.120618549357647, 'max_response_time': 7.200705930599174, 'contribution': 0.7045082487915987}, 'DenseNet201': {'accuracy': 0.9121621621621622, 'confidence': 0.8386413595966391, 'avg_response_time': 0.5842528186066046, 'max_response_time': 0.7017973373738774, 'contribution': 0.8316756591603562}, 'Xception': {'accuracy': 0.8972602739726028, 'confidence': 0.7416303263951655, 'avg_response_time': 0.9922768933486693, 'max_response_time': 1.0385951457921117, 'contribution': 0.7361101616327077}, 'InceptionV3': {'accuracy': 0.9027777777777778, 'confidence': 0.7989069970531596, 'avg_response_time': 0.5752956708894224, 'max_response_time': 0.7062985018013463, 'contribution': 0.7937012111975087}}, 'input_state': {'input_file_length': 33, 'image_height': 224, 'image_width': 224}, 'distribution_weights': [1.0, 1.0, 1.0, 1.0, 1.0, 0.0, 0.0, 0.0, 0.0, 0.0, 0.0, 0.0, 0.0, 0.0, 0.0, 0.0, 0.0, 0.0, 0.0, 0.0]}\n",
      "{'accuracy': 0.9161290322580645, 'confidence': 0.7705356467519909, 'explainability': 1.0, 'energy': 0.023205572371097348, 'latency': 6.96881727039002}\n",
      "REWARD:  3.9924374690596993\n",
      "No eligible models to score.\n"
     ]
    },
    {
     "name": "stderr",
     "output_type": "stream",
     "text": [
      "2025-01-28 15:54:19,737:INFO -- Action: Keeping the ensemble\n"
     ]
    },
    {
     "name": "stdout",
     "output_type": "stream",
     "text": [
      "STATE:  {'ensemble_state': {'total_energy_consumption': 0.023205572371097348, 'ensemble_size': 16}, 'model_states': {'InceptionResNetV2': {'accuracy': 0.9038461538461539, 'confidence': 0.8108819742233325, 'avg_response_time': 2.0712940438218364, 'max_response_time': 2.222508735903802, 'contribution': 0.8022631584451749}, 'MobileNetV2': {'accuracy': 0.8571428571428571, 'confidence': 0.6865901861871991, 'avg_response_time': 0.09503452940018654, 'max_response_time': 0.15370382848033695, 'contribution': 0.6892783554638324}, 'ResNet50V2': {'accuracy': 0.7299270072992701, 'confidence': 0.6696729335906731, 'avg_response_time': 0.38824204808472695, 'max_response_time': 0.5175399351141425, 'contribution': 0.726016528632519}, 'ensemble': {'accuracy': 0.9166666666666666, 'confidence': 0.7709895541633425, 'avg_response_time': 6.969787056171987, 'max_response_time': 7.209711696979988, 'contribution': 0.9058268624238479}, 'EfficientNetV2S': {'accuracy': 0.961038961038961, 'confidence': 0.8511929318502351, 'avg_response_time': 1.1478212979418536, 'max_response_time': 1.232916014269438, 'contribution': 0.8315844052023702}, 'NASNetLarge': {'accuracy': 0.9607843137254902, 'confidence': 0.8562927131169762, 'avg_response_time': 3.8147313735449053, 'max_response_time': 3.88366818207123, 'contribution': 0.8337431904537226}, 'EfficientNetB7': {'accuracy': 0.94, 'confidence': 0.7254402208328247, 'avg_response_time': 7.120555053291226, 'max_response_time': 7.200705930599174, 'contribution': 0.7050085530678432}, 'DenseNet201': {'accuracy': 0.912751677852349, 'confidence': 0.839007454430497, 'avg_response_time': 0.5842388619949181, 'max_response_time': 0.7017973373738774, 'contribution': 0.8320885036615717}, 'Xception': {'accuracy': 0.8979591836734694, 'confidence': 0.7407902531883344, 'avg_response_time': 0.9923542106815956, 'max_response_time': 1.0385951457921117, 'contribution': 0.7353076405671178}, 'InceptionV3': {'accuracy': 0.903448275862069, 'confidence': 0.7998414259532403, 'avg_response_time': 0.5753165407986952, 'max_response_time': 0.7062985018013463, 'contribution': 0.7946715420690076}}, 'input_state': {'input_file_length': 14, 'image_height': 224, 'image_width': 224}, 'distribution_weights': [1.0, 1.0, 1.0, 1.0, 1.0, 0.0, 0.0, 0.0, 0.0, 0.0, 0.0, 0.0, 0.0, 0.0, 0.0, 0.0, 0.0, 0.0, 0.0, 0.0]}\n",
      "{'accuracy': 0.9166666666666666, 'confidence': 0.7709895541633425, 'explainability': 1.0, 'energy': 0.023205572371097348, 'latency': 6.969787056171987}\n",
      "REWARD:  3.992462996655746\n"
     ]
    },
    {
     "name": "stderr",
     "output_type": "stream",
     "text": [
      "2025-01-28 15:54:20,528:INFO -- Action: Replacing a model\n"
     ]
    },
    {
     "name": "stdout",
     "output_type": "stream",
     "text": [
      "STATE:  {'ensemble_state': {'total_energy_consumption': 0.023205572371097348, 'ensemble_size': 16}, 'model_states': {'InceptionResNetV2': {'accuracy': 0.9044585987261147, 'confidence': 0.8113868395993664, 'avg_response_time': 2.0712303966366052, 'max_response_time': 2.222508735903802, 'contribution': 0.8028229207369932}, 'MobileNetV2': {'accuracy': 0.8581081081081081, 'confidence': 0.6877498501861418, 'avg_response_time': 0.0950782813798567, 'max_response_time': 0.15370382848033695, 'contribution': 0.6904198561568518}, 'ResNet50V2': {'accuracy': 0.7318840579710145, 'confidence': 0.6680976852126743, 'avg_response_time': 0.38835943147102087, 'max_response_time': 0.5175399351141425, 'contribution': 0.7240329933339271}, 'ensemble': {'accuracy': 0.9171974522292994, 'confidence': 0.7708406122228016, 'avg_response_time': 6.970860478467218, 'max_response_time': 7.209711696979988, 'contribution': 0.9058665348466035}, 'EfficientNetV2S': {'accuracy': 0.9612903225806452, 'confidence': 0.851493780074581, 'avg_response_time': 1.148004657946183, 'max_response_time': 1.232916014269438, 'contribution': 0.8320117600502507}, 'NASNetLarge': {'accuracy': 0.961038961038961, 'confidence': 0.856194533891492, 'avg_response_time': 3.81461143689963, 'max_response_time': 3.88366818207123, 'contribution': 0.8337914367000778}, 'EfficientNetB7': {'accuracy': 0.9403973509933775, 'confidence': 0.7256628140708469, 'avg_response_time': 7.120613266449633, 'max_response_time': 7.200705930599174, 'contribution': 0.7053664553639115}, 'DenseNet201': {'accuracy': 0.9133333333333333, 'confidence': 0.8390661056836446, 'avg_response_time': 0.5842737672148166, 'max_response_time': 0.7017973373738774, 'contribution': 0.8321932812531789}, 'Xception': {'accuracy': 0.8986486486486487, 'confidence': 0.7419474503478488, 'avg_response_time': 0.9923297535594575, 'max_response_time': 1.0385951457921117, 'contribution': 0.7365018824065054}, 'InceptionV3': {'accuracy': 0.9041095890410958, 'confidence': 0.7999198112177522, 'avg_response_time': 0.5757159447694524, 'max_response_time': 0.7062985018013463, 'contribution': 0.7947853374971102}}, 'input_state': {'input_file_length': 14, 'image_height': 224, 'image_width': 224}, 'distribution_weights': [1.0, 1.0, 1.0, 1.0, 1.0, 0.0, 0.0, 0.0, 0.0, 0.0, 0.0, 0.0, 0.0, 0.0, 0.0, 0.0, 0.0, 0.0, 0.0, 0.0]}\n",
      "{'accuracy': 0.9171974522292994, 'confidence': 0.7708406122228016, 'explainability': 1.0, 'energy': 0.023205572371097348, 'latency': 6.970860478467218}\n",
      "REWARD:  3.992471371367516\n",
      "Worst model: EfficientNetV2L with score: 0.5911481481481482\n",
      "Model 'EfficientNetV2L' successfully removed from the target YAML.\n",
      "Best model: EfficientNetV2L with score: 0.5911481481481482\n",
      "Model 'EfficientNetV2L' successfully added to the target YAML.\n"
     ]
    },
    {
     "name": "stderr",
     "output_type": "stream",
     "text": [
      "2025-01-28 15:54:21,532:INFO -- Action: Replacing a model\n"
     ]
    },
    {
     "name": "stdout",
     "output_type": "stream",
     "text": [
      "STATE:  {'ensemble_state': {'total_energy_consumption': 0.023205572371097348, 'ensemble_size': 16}, 'model_states': {'InceptionResNetV2': {'accuracy': 0.9050632911392406, 'confidence': 0.8122149675707274, 'avg_response_time': 2.071185253974542, 'max_response_time': 2.222508735903802, 'contribution': 0.8037052507264705}, 'MobileNetV2': {'accuracy': 0.8590604026845637, 'confidence': 0.6893740012341698, 'avg_response_time': 0.09502900874433112, 'max_response_time': 0.15370382848033695, 'contribution': 0.6920260877017207}, 'ResNet50V2': {'accuracy': 0.7338129496402878, 'confidence': 0.6704852083604113, 'avg_response_time': 0.3884920816761174, 'max_response_time': 0.5175399351141425, 'contribution': 0.7260181041930219}, 'ensemble': {'accuracy': 0.9177215189873418, 'confidence': 0.7716143810654618, 'avg_response_time': 6.9720333492301645, 'max_response_time': 7.209711696979988, 'contribution': 0.9064620846434485}, 'EfficientNetV2S': {'accuracy': 0.9615384615384616, 'confidence': 0.8518834805641419, 'avg_response_time': 1.1480174874299467, 'max_response_time': 1.232916014269438, 'contribution': 0.8325263452835572}, 'NASNetLarge': {'accuracy': 0.9612903225806452, 'confidence': 0.856643428533308, 'avg_response_time': 3.8144042269018628, 'max_response_time': 3.88366818207123, 'contribution': 0.834384867452806}, 'EfficientNetB7': {'accuracy': 0.9407894736842105, 'confidence': 0.7264426111390716, 'avg_response_time': 7.120787825440078, 'max_response_time': 7.200705930599174, 'contribution': 0.7062797811078397}, 'DenseNet201': {'accuracy': 0.9139072847682119, 'confidence': 0.840011666152651, 'avg_response_time': 0.5842642278063614, 'max_response_time': 0.7017973373738774, 'contribution': 0.8331843571157644}, 'Xception': {'accuracy': 0.8993288590604027, 'confidence': 0.7434265601554974, 'avg_response_time': 0.9924098056277502, 'max_response_time': 1.0385951457921117, 'contribution': 0.7380175396500018}, 'InceptionV3': {'accuracy': 0.9047619047619048, 'confidence': 0.8008814379066026, 'avg_response_time': 0.5757013475978062, 'max_response_time': 0.7062985018013463, 'contribution': 0.7957818925786181}}, 'input_state': {'input_file_length': 14, 'image_height': 224, 'image_width': 224}, 'distribution_weights': [1.0, 1.0, 1.0, 1.0, 1.0, 0.0, 0.0, 0.0, 0.0, 0.0, 0.0, 0.0, 0.0, 0.0, 0.0, 0.0, 0.0, 0.0, 0.0, 0.0]}\n",
      "{'accuracy': 0.9177215189873418, 'confidence': 0.7716143810654618, 'explainability': 1.0, 'energy': 0.023205572371097348, 'latency': 6.9720333492301645}\n",
      "REWARD:  3.9925055614274445\n",
      "Worst model: EfficientNetV2L with score: 0.5911481481481482\n",
      "Model 'EfficientNetV2L' successfully removed from the target YAML.\n",
      "Best model: EfficientNetV2L with score: 0.5911481481481482\n",
      "Model 'EfficientNetV2L' successfully added to the target YAML.\n"
     ]
    },
    {
     "name": "stderr",
     "output_type": "stream",
     "text": [
      "2025-01-28 15:54:22,714:INFO -- Action: Adding a model\n"
     ]
    },
    {
     "name": "stdout",
     "output_type": "stream",
     "text": [
      "STATE:  {'ensemble_state': {'total_energy_consumption': 0.023205572371097348, 'ensemble_size': 16}, 'model_states': {'InceptionResNetV2': {'accuracy': 0.89937106918239, 'confidence': 0.8071066973344335, 'avg_response_time': 2.0710832884139085, 'max_response_time': 2.222508735903802, 'contribution': 0.7986505007219015}, 'MobileNetV2': {'accuracy': 0.8533333333333334, 'confidence': 0.6847781745592753, 'avg_response_time': 0.09502137706914733, 'max_response_time': 0.15370382848033695, 'contribution': 0.6874125804503759}, 'ResNet50V2': {'accuracy': 0.7285714285714285, 'confidence': 0.6656960283006941, 'avg_response_time': 0.38845692128339593, 'max_response_time': 0.5175399351141425, 'contribution': 0.7208322605916432}, 'ensemble': {'accuracy': 0.9119496855345912, 'confidence': 0.76676146042983, 'avg_response_time': 6.973260328321515, 'max_response_time': 7.209711696979988, 'contribution': 0.9007610652431752}, 'EfficientNetV2S': {'accuracy': 0.9617834394904459, 'confidence': 0.8514415181366501, 'avg_response_time': 1.1479339609444816, 'max_response_time': 1.232916014269438, 'contribution': 0.8272236297085027}, 'NASNetLarge': {'accuracy': 0.9615384615384616, 'confidence': 0.8535045054860604, 'avg_response_time': 3.814357701386531, 'max_response_time': 3.88366818207123, 'contribution': 0.8290362465075958}, 'EfficientNetB7': {'accuracy': 0.9411764705882353, 'confidence': 0.7247942590635587, 'avg_response_time': 7.1210370077206315, 'max_response_time': 7.200705930599174, 'contribution': 0.7016635733881808}, 'DenseNet201': {'accuracy': 0.9144736842105263, 'confidence': 0.8369095666628135, 'avg_response_time': 0.5842226208416706, 'max_response_time': 0.7017973373738774, 'contribution': 0.8277028810821081}, 'Xception': {'accuracy': 0.8933333333333333, 'confidence': 0.738470383087794, 'avg_response_time': 0.9925232024207783, 'max_response_time': 1.0385951457921117, 'contribution': 0.7330974227190018}, 'InceptionV3': {'accuracy': 0.8986486486486487, 'confidence': 0.7954700768396661, 'avg_response_time': 0.5757256529042504, 'max_response_time': 0.7062985018013463, 'contribution': 0.7904049878990328}}, 'input_state': {'input_file_length': 14, 'image_height': 224, 'image_width': 224}, 'distribution_weights': [1.0, 1.0, 1.0, 1.0, 1.0, 0.0, 0.0, 0.0, 0.0, 0.0, 0.0, 0.0, 0.0, 0.0, 0.0, 0.0, 0.0, 0.0, 0.0, 0.0]}\n",
      "{'accuracy': 0.9119496855345912, 'confidence': 0.76676146042983, 'explainability': 1.0, 'energy': 0.023205572371097348, 'latency': 6.973260328321515}\n",
      "REWARD:  3.9922315576908414\n",
      "No eligible models to score.\n"
     ]
    },
    {
     "name": "stderr",
     "output_type": "stream",
     "text": [
      "2025-01-28 15:54:23,409:INFO -- Action: Replacing a model\n"
     ]
    },
    {
     "name": "stdout",
     "output_type": "stream",
     "text": [
      "STATE:  {'ensemble_state': {'total_energy_consumption': 0.023205572371097348, 'ensemble_size': 16}, 'model_states': {'InceptionResNetV2': {'accuracy': 0.9, 'confidence': 0.8078734129667282, 'avg_response_time': 2.071206117539475, 'max_response_time': 2.222508735903802, 'contribution': 0.7994700675830245}, 'MobileNetV2': {'accuracy': 0.8543046357615894, 'confidence': 0.6865883753789181, 'avg_response_time': 0.09510702140898122, 'max_response_time': 0.15370382848033695, 'contribution': 0.689205334873389}, 'ResNet50V2': {'accuracy': 0.7304964539007093, 'confidence': 0.6680669784545898, 'avg_response_time': 0.3884831876210498, 'max_response_time': 0.5175399351141425, 'contribution': 0.7228121736370925}, 'ensemble': {'accuracy': 0.9125, 'confidence': 0.7678675854001071, 'avg_response_time': 6.974153729499109, 'max_response_time': 7.209711696979988, 'contribution': 0.9013813085854053}, 'EfficientNetV2S': {'accuracy': 0.9620253164556962, 'confidence': 0.8520173166371598, 'avg_response_time': 1.1481225876626453, 'max_response_time': 1.232916014269438, 'contribution': 0.8279527059838742}, 'NASNetLarge': {'accuracy': 0.9617834394904459, 'confidence': 0.854015402543317, 'avg_response_time': 3.8143266835915592, 'max_response_time': 3.88366818207123, 'contribution': 0.8297029923481546}, 'EfficientNetB7': {'accuracy': 0.9415584415584416, 'confidence': 0.725478113278166, 'avg_response_time': 7.120951256891032, 'max_response_time': 7.200705930599174, 'contribution': 0.7024976268604204}, 'DenseNet201': {'accuracy': 0.9150326797385621, 'confidence': 0.8379750777693356, 'avg_response_time': 0.5840641163935002, 'max_response_time': 0.7017973373738774, 'contribution': 0.8288285666041904}, 'Xception': {'accuracy': 0.8940397350993378, 'confidence': 0.7395292023159811, 'avg_response_time': 0.9925364156133599, 'max_response_time': 1.0385951457921117, 'contribution': 0.7341918244661875}, 'InceptionV3': {'accuracy': 0.8993288590604027, 'confidence': 0.7966801442155902, 'avg_response_time': 0.5758125102312789, 'max_response_time': 0.7062985018013463, 'contribution': 0.7916490491604645}}, 'input_state': {'input_file_length': 15, 'image_height': 224, 'image_width': 224}, 'distribution_weights': [1.0, 1.0, 1.0, 1.0, 1.0, 0.0, 0.0, 0.0, 0.0, 0.0, 0.0, 0.0, 0.0, 0.0, 0.0, 0.0, 0.0, 0.0, 0.0, 0.0]}\n",
      "{'accuracy': 0.9125, 'confidence': 0.7678675854001071, 'explainability': 1.0, 'energy': 0.023205572371097348, 'latency': 6.974153729499109}\n",
      "REWARD:  3.9922759603944495\n",
      "Worst model: EfficientNetV2L with score: 0.5911481481481482\n",
      "Model 'EfficientNetV2L' successfully removed from the target YAML.\n",
      "Best model: EfficientNetV2L with score: 0.5911481481481482\n",
      "Model 'EfficientNetV2L' successfully added to the target YAML.\n"
     ]
    },
    {
     "name": "stderr",
     "output_type": "stream",
     "text": [
      "2025-01-28 15:54:24,325:INFO -- Action: Keeping the ensemble\n"
     ]
    },
    {
     "name": "stdout",
     "output_type": "stream",
     "text": [
      "STATE:  {'ensemble_state': {'total_energy_consumption': 0.023205572371097348, 'ensemble_size': 16}, 'model_states': {'InceptionResNetV2': {'accuracy': 0.9006211180124224, 'confidence': 0.8083677066038855, 'avg_response_time': 2.0715173683587644, 'max_response_time': 2.222508735903802, 'contribution': 0.8000165559120059}, 'MobileNetV2': {'accuracy': 0.8552631578947368, 'confidence': 0.6857345523802858, 'avg_response_time': 0.09522370214376923, 'max_response_time': 0.15370382848033695, 'contribution': 0.6883342950359771}, 'ResNet50V2': {'accuracy': 0.7323943661971831, 'confidence': 0.6692556579348067, 'avg_response_time': 0.3885428999191972, 'max_response_time': 0.5175399351141425, 'contribution': 0.7236153235737707}, 'ensemble': {'accuracy': 0.9130434782608695, 'confidence': 0.7683864685231176, 'avg_response_time': 6.974980878039808, 'max_response_time': 7.209711696979988, 'contribution': 0.9019781173386189}, 'EfficientNetV2S': {'accuracy': 0.9622641509433962, 'confidence': 0.8523298535706862, 'avg_response_time': 1.1479322088448867, 'max_response_time': 1.232916014269438, 'contribution': 0.8284165926699368}, 'NASNetLarge': {'accuracy': 0.9620253164556962, 'confidence': 0.8544809397640107, 'avg_response_time': 3.8143230962497863, 'max_response_time': 3.88366818207123, 'contribution': 0.8303224055827418}, 'EfficientNetB7': {'accuracy': 0.9419354838709677, 'confidence': 0.7262432238747997, 'avg_response_time': 7.120798833375074, 'max_response_time': 7.200705930599174, 'contribution': 0.7034109986597492}, 'DenseNet201': {'accuracy': 0.9155844155844156, 'confidence': 0.8390107429646826, 'avg_response_time': 0.584168198639981, 'max_response_time': 0.7017973373738774, 'contribution': 0.8299236247291812}, 'Xception': {'accuracy': 0.8947368421052632, 'confidence': 0.7410667166113853, 'avg_response_time': 0.9925427701351209, 'max_response_time': 1.0385951457921117, 'contribution': 0.735764453089551}, 'InceptionV3': {'accuracy': 0.9, 'confidence': 0.7976963732639949, 'avg_response_time': 0.5758320633843806, 'max_response_time': 0.7062985018013463, 'contribution': 0.79269881884257}}, 'input_state': {'input_file_length': 15, 'image_height': 224, 'image_width': 224}, 'distribution_weights': [1.0, 1.0, 1.0, 1.0, 1.0, 0.0, 0.0, 0.0, 0.0, 0.0, 0.0, 0.0, 0.0, 0.0, 0.0, 0.0, 0.0, 0.0, 0.0, 0.0]}\n",
      "{'accuracy': 0.9130434782608695, 'confidence': 0.7683864685231176, 'explainability': 1.0, 'energy': 0.023205572371097348, 'latency': 6.974980878039808}\n",
      "REWARD:  3.9923035583469724\n"
     ]
    },
    {
     "name": "stderr",
     "output_type": "stream",
     "text": [
      "2025-01-28 15:54:25,020:INFO -- Action: Replacing a model\n"
     ]
    },
    {
     "name": "stdout",
     "output_type": "stream",
     "text": [
      "STATE:  {'ensemble_state': {'total_energy_consumption': 0.023205572371097348, 'ensemble_size': 16}, 'model_states': {'InceptionResNetV2': {'accuracy': 0.9012345679012346, 'confidence': 0.808998751051632, 'avg_response_time': 2.0718863352548125, 'max_response_time': 2.222508735903802, 'contribution': 0.8006991506726654}, 'MobileNetV2': {'accuracy': 0.8562091503267973, 'confidence': 0.683793279470182, 'avg_response_time': 0.09528203020321431, 'max_response_time': 0.15370382848033695, 'contribution': 0.6863760303438099}, 'ResNet50V2': {'accuracy': 0.7342657342657343, 'confidence': 0.6678729965970233, 'avg_response_time': 0.3884350320069902, 'max_response_time': 0.5175399351141425, 'contribution': 0.7218525247140364}, 'ensemble': {'accuracy': 0.9135802469135802, 'confidence': 0.7680027221675089, 'avg_response_time': 6.97610436560339, 'max_response_time': 7.209711696979988, 'contribution': 0.9022074845837958}, 'EfficientNetV2S': {'accuracy': 0.9625, 'confidence': 0.8519578307867051, 'avg_response_time': 1.147725112264979, 'max_response_time': 1.232916014269438, 'contribution': 0.8281940277665854}, 'NASNetLarge': {'accuracy': 0.9622641509433962, 'confidence': 0.8547293898069633, 'avg_response_time': 3.8144152900791504, 'max_response_time': 3.88366818207123, 'contribution': 0.8307227960922433}, 'EfficientNetB7': {'accuracy': 0.9423076923076923, 'confidence': 0.726416924634041, 'avg_response_time': 7.120971353396149, 'max_response_time': 7.200705930599174, 'contribution': 0.7037310598370357}, 'DenseNet201': {'accuracy': 0.9161290322580645, 'confidence': 0.8394707225984143, 'avg_response_time': 0.5839737948917043, 'max_response_time': 0.7017973373738774, 'contribution': 0.8304422309321742}, 'Xception': {'accuracy': 0.8954248366013072, 'confidence': 0.7403538643924239, 'avg_response_time': 0.9925691560757689, 'max_response_time': 1.0385951457921117, 'contribution': 0.7350862561877257}, 'InceptionV3': {'accuracy': 0.9006622516556292, 'confidence': 0.7986330569579901, 'avg_response_time': 0.5757160924866153, 'max_response_time': 0.7062985018013463, 'contribution': 0.7936685989234621}}, 'input_state': {'input_file_length': 15, 'image_height': 224, 'image_width': 224}, 'distribution_weights': [1.0, 1.0, 1.0, 1.0, 1.0, 0.0, 0.0, 0.0, 0.0, 0.0, 0.0, 0.0, 0.0, 0.0, 0.0, 0.0, 0.0, 0.0, 0.0, 0.0]}\n",
      "{'accuracy': 0.9135802469135802, 'confidence': 0.7680027221675089, 'explainability': 1.0, 'energy': 0.023205572371097348, 'latency': 6.97610436560339}\n",
      "REWARD:  3.992305473011655\n",
      "Worst model: EfficientNetV2L with score: 0.5911481481481482\n",
      "Model 'EfficientNetV2L' successfully removed from the target YAML.\n",
      "Best model: EfficientNetV2L with score: 0.5911481481481482\n",
      "Model 'EfficientNetV2L' successfully added to the target YAML.\n"
     ]
    },
    {
     "name": "stderr",
     "output_type": "stream",
     "text": [
      "2025-01-28 15:54:26,021:INFO -- Action: Adding a model\n"
     ]
    },
    {
     "name": "stdout",
     "output_type": "stream",
     "text": [
      "STATE:  {'ensemble_state': {'total_energy_consumption': 0.023205572371097348, 'ensemble_size': 16}, 'model_states': {'InceptionResNetV2': {'accuracy': 0.901840490797546, 'confidence': 0.8096538628537231, 'avg_response_time': 2.071831429439868, 'max_response_time': 2.222508735903802, 'contribution': 0.8014051802684924}, 'MobileNetV2': {'accuracy': 0.8571428571428571, 'confidence': 0.6854364306895764, 'avg_response_time': 0.0952039330125343, 'max_response_time': 0.15370382848033695, 'contribution': 0.6880024104536354}, 'ResNet50V2': {'accuracy': 0.7361111111111112, 'confidence': 0.6700320711566342, 'avg_response_time': 0.3883696340876004, 'max_response_time': 0.5175399351141425, 'contribution': 0.7236367414395014}, 'ensemble': {'accuracy': 0.9141104294478528, 'confidence': 0.7688110475080511, 'avg_response_time': 6.9769700082281, 'max_response_time': 7.209711696979988, 'contribution': 0.9027457171422573}, 'EfficientNetV2S': {'accuracy': 0.9627329192546584, 'confidence': 0.8524152247802071, 'avg_response_time': 1.1475911666373884, 'max_response_time': 1.232916014269438, 'contribution': 0.828799023021082}, 'NASNetLarge': {'accuracy': 0.9625, 'confidence': 0.8549225078895688, 'avg_response_time': 3.814398390300782, 'max_response_time': 3.88366818207123, 'contribution': 0.8310659553855657}, 'EfficientNetB7': {'accuracy': 0.9426751592356688, 'confidence': 0.7272033404772449, 'avg_response_time': 7.120889239295582, 'max_response_time': 7.200705930599174, 'contribution': 0.7046619716343606}, 'DenseNet201': {'accuracy': 0.9166666666666666, 'confidence': 0.8404244681199392, 'avg_response_time': 0.5837948812204033, 'max_response_time': 0.7017973373738774, 'contribution': 0.8314538514002775}, 'Xception': {'accuracy': 0.8961038961038961, 'confidence': 0.7418201697337163, 'avg_response_time': 0.9925120759005137, 'max_response_time': 1.0385951457921117, 'contribution': 0.7365867667771006}, 'InceptionV3': {'accuracy': 0.9013157894736842, 'confidence': 0.7995236384633341, 'avg_response_time': 0.5756808002508386, 'max_response_time': 0.7062985018013463, 'contribution': 0.794591841336928}}, 'input_state': {'input_file_length': 15, 'image_height': 224, 'image_width': 224}, 'distribution_weights': [1.0, 1.0, 1.0, 1.0, 1.0, 0.0, 0.0, 0.0, 0.0, 0.0, 0.0, 0.0, 0.0, 0.0, 0.0, 0.0, 0.0, 0.0, 0.0, 0.0]}\n",
      "{'accuracy': 0.9141104294478528, 'confidence': 0.7688110475080511, 'explainability': 1.0, 'energy': 0.023205572371097348, 'latency': 6.9769700082281}\n",
      "REWARD:  3.9923409139676047\n",
      "No eligible models to score.\n"
     ]
    },
    {
     "name": "stderr",
     "output_type": "stream",
     "text": [
      "2025-01-28 15:54:26,812:INFO -- Action: Replacing a model\n"
     ]
    },
    {
     "name": "stdout",
     "output_type": "stream",
     "text": [
      "STATE:  {'ensemble_state': {'total_energy_consumption': 0.023205572371097348, 'ensemble_size': 16}, 'model_states': {'InceptionResNetV2': {'accuracy': 0.9024390243902439, 'confidence': 0.8105119168758392, 'avg_response_time': 2.0720207525621404, 'max_response_time': 2.222508735903802, 'contribution': 0.8023135311356405}, 'MobileNetV2': {'accuracy': 0.8580645161290322, 'confidence': 0.6857405824045981, 'avg_response_time': 0.09533925085039428, 'max_response_time': 0.15370382848033695, 'contribution': 0.6882900074605018}, 'ResNet50V2': {'accuracy': 0.7379310344827587, 'confidence': 0.6721342329321236, 'avg_response_time': 0.38841967773603076, 'max_response_time': 0.5175399351141425, 'contribution': 0.7253692158337297}, 'ensemble': {'accuracy': 0.9146341463414634, 'confidence': 0.7689387990673505, 'avg_response_time': 6.978001245332426, 'max_response_time': 7.209711696979988, 'contribution': 0.9032191216218762}, 'EfficientNetV2S': {'accuracy': 0.9629629629629629, 'confidence': 0.8525712434892301, 'avg_response_time': 1.1474657900415832, 'max_response_time': 1.232916014269438, 'contribution': 0.8291008207533095}, 'NASNetLarge': {'accuracy': 0.9627329192546584, 'confidence': 0.8553712492033562, 'avg_response_time': 3.8145045169332636, 'max_response_time': 3.88366818207123, 'contribution': 0.8316628740440984}, 'EfficientNetB7': {'accuracy': 0.9430379746835443, 'confidence': 0.7280611959816534, 'avg_response_time': 7.120953655752136, 'max_response_time': 7.200705930599174, 'contribution': 0.7056624940301799}, 'DenseNet201': {'accuracy': 0.9171974522292994, 'confidence': 0.8409018254583809, 'avg_response_time': 0.583516799441178, 'max_response_time': 0.7017973373738774, 'contribution': 0.8319883464248317}, 'Xception': {'accuracy': 0.896774193548387, 'confidence': 0.7425617914046011, 'avg_response_time': 0.9924580088409943, 'max_response_time': 1.0385951457921117, 'contribution': 0.7373621523380279}, 'InceptionV3': {'accuracy': 0.9019607843137255, 'confidence': 0.8007057326681474, 'avg_response_time': 0.5756499578463954, 'max_response_time': 0.7062985018013463, 'contribution': 0.7958061695098877}}, 'input_state': {'input_file_length': 15, 'image_height': 224, 'image_width': 224}, 'distribution_weights': [1.0, 1.0, 1.0, 1.0, 1.0, 0.0, 0.0, 0.0, 0.0, 0.0, 0.0, 0.0, 0.0, 0.0, 0.0, 0.0, 0.0, 0.0, 0.0, 0.0]}\n",
      "{'accuracy': 0.9146341463414634, 'confidence': 0.7689387990673505, 'explainability': 1.0, 'energy': 0.023205572371097348, 'latency': 6.978001245332426}\n",
      "REWARD:  3.9923569593034713\n",
      "Worst model: EfficientNetV2L with score: 0.5911481481481482\n",
      "Model 'EfficientNetV2L' successfully removed from the target YAML.\n",
      "Best model: EfficientNetV2L with score: 0.5911481481481482\n",
      "Model 'EfficientNetV2L' successfully added to the target YAML.\n"
     ]
    },
    {
     "name": "stderr",
     "output_type": "stream",
     "text": [
      "2025-01-28 15:54:27,939:INFO -- Action: Adding a model\n"
     ]
    },
    {
     "name": "stdout",
     "output_type": "stream",
     "text": [
      "STATE:  {'ensemble_state': {'total_energy_consumption': 0.023205572371097348, 'ensemble_size': 16}, 'model_states': {'InceptionResNetV2': {'accuracy': 0.9030303030303031, 'confidence': 0.8112030531420852, 'avg_response_time': 2.071938514627918, 'max_response_time': 2.222508735903802, 'contribution': 0.8030543545881907}, 'MobileNetV2': {'accuracy': 0.8589743589743589, 'confidence': 0.6862645042248261, 'avg_response_time': 0.09534951598695275, 'max_response_time': 0.15370382848033695, 'contribution': 0.6887975868124229}, 'ResNet50V2': {'accuracy': 0.7397260273972602, 'confidence': 0.6743741896871018, 'avg_response_time': 0.38855821150650444, 'max_response_time': 0.5175399351141425, 'contribution': 0.727244549418149}, 'ensemble': {'accuracy': 0.9151515151515152, 'confidence': 0.7699999293636673, 'avg_response_time': 6.979003866581049, 'max_response_time': 7.209711696979988, 'contribution': 0.903804256699302}, 'EfficientNetV2S': {'accuracy': 0.9631901840490797, 'confidence': 0.8529836440378903, 'avg_response_time': 1.147367233920351, 'max_response_time': 1.232916014269438, 'contribution': 0.8296572116255029}, 'NASNetLarge': {'accuracy': 0.9629629629629629, 'confidence': 0.855803981423378, 'avg_response_time': 3.8143188880221524, 'max_response_time': 3.88366818207123, 'contribution': 0.8322419542589305}, 'EfficientNetB7': {'accuracy': 0.9433962264150944, 'confidence': 0.7286534832333619, 'avg_response_time': 7.121031769162413, 'max_response_time': 7.200705930599174, 'contribution': 0.7063956536212057}, 'DenseNet201': {'accuracy': 0.9177215189873418, 'confidence': 0.841907297508626, 'avg_response_time': 0.5833142145728121, 'max_response_time': 0.7017973373738774, 'contribution': 0.8330502328993399}, 'Xception': {'accuracy': 0.8974358974358975, 'confidence': 0.7439049092622904, 'avg_response_time': 0.9923075964939176, 'max_response_time': 1.0385951457921117, 'contribution': 0.7387386012153748}, 'InceptionV3': {'accuracy': 0.9025974025974026, 'confidence': 0.8017986914167157, 'avg_response_time': 0.5754988156071846, 'max_response_time': 0.7062985018013463, 'contribution': 0.7969309436036395}}, 'input_state': {'input_file_length': 15, 'image_height': 224, 'image_width': 224}, 'distribution_weights': [1.0, 1.0, 1.0, 1.0, 1.0, 0.0, 0.0, 0.0, 0.0, 0.0, 0.0, 0.0, 0.0, 0.0, 0.0, 0.0, 0.0, 0.0, 0.0, 0.0]}\n",
      "{'accuracy': 0.9151515151515152, 'confidence': 0.7699999293636673, 'explainability': 1.0, 'energy': 0.023205572371097348, 'latency': 6.979003866581049}\n",
      "REWARD:  3.9923991844205764\n",
      "No eligible models to score.\n"
     ]
    },
    {
     "name": "stderr",
     "output_type": "stream",
     "text": [
      "2025-01-28 15:54:28,844:INFO -- Action: Adding a model\n"
     ]
    },
    {
     "name": "stdout",
     "output_type": "stream",
     "text": [
      "STATE:  {'ensemble_state': {'total_energy_consumption': 0.023205572371097348, 'ensemble_size': 16}, 'model_states': {'InceptionResNetV2': {'accuracy': 0.9036144578313253, 'confidence': 0.8119593302169478, 'avg_response_time': 2.0719291158806605, 'max_response_time': 2.222508735903802, 'contribution': 0.8038597202085587}, 'MobileNetV2': {'accuracy': 0.8598726114649682, 'confidence': 0.6854736899874013, 'avg_response_time': 0.09533348730803785, 'max_response_time': 0.15370382848033695, 'contribution': 0.6879906382910006}, 'ResNet50V2': {'accuracy': 0.7346938775510204, 'confidence': 0.6697866101654208, 'avg_response_time': 0.3885994593248409, 'max_response_time': 0.5175399351141425, 'contribution': 0.7222973075853724}, 'ensemble': {'accuracy': 0.9156626506024096, 'confidence': 0.7697198926008011, 'avg_response_time': 6.97956438375963, 'max_response_time': 7.209711696979988, 'contribution': 0.9041488303477505}, 'EfficientNetV2S': {'accuracy': 0.9634146341463414, 'confidence': 0.8532508419054311, 'avg_response_time': 1.147322324869898, 'max_response_time': 1.232916014269438, 'contribution': 0.8300666438370217}, 'NASNetLarge': {'accuracy': 0.9631901840490797, 'confidence': 0.855646882137638, 'avg_response_time': 3.8142009015572587, 'max_response_time': 3.88366818207123, 'contribution': 0.8322294072870828}, 'EfficientNetB7': {'accuracy': 0.94375, 'confidence': 0.7283162789419293, 'avg_response_time': 7.120659836509235, 'max_response_time': 7.200705930599174, 'contribution': 0.7061975607648492}, 'DenseNet201': {'accuracy': 0.9182389937106918, 'confidence': 0.8423091233151514, 'avg_response_time': 0.5833252509004536, 'max_response_time': 0.7017973373738774, 'contribution': 0.8335077635147287}, 'Xception': {'accuracy': 0.8980891719745223, 'confidence': 0.7414291275155013, 'avg_response_time': 0.9923680152419629, 'max_response_time': 1.0385951457921117, 'contribution': 0.7362957258892667}, 'InceptionV3': {'accuracy': 0.9032258064516129, 'confidence': 0.8028258191001031, 'avg_response_time': 0.5755459978747676, 'max_response_time': 0.7062985018013463, 'contribution': 0.7979894761116274}}, 'input_state': {'input_file_length': 14, 'image_height': 224, 'image_width': 224}, 'distribution_weights': [1.0, 1.0, 1.0, 1.0, 1.0, 0.0, 0.0, 0.0, 0.0, 0.0, 0.0, 0.0, 0.0, 0.0, 0.0, 0.0, 0.0, 0.0, 0.0, 0.0]}\n",
      "{'accuracy': 0.9156626506024096, 'confidence': 0.7697198926008011, 'explainability': 1.0, 'energy': 0.023205572371097348, 'latency': 6.97956438375963}\n",
      "REWARD:  3.99240341052466\n",
      "No eligible models to score.\n"
     ]
    },
    {
     "name": "stderr",
     "output_type": "stream",
     "text": [
      "2025-01-28 15:54:29,673:INFO -- Action: Keeping the ensemble\n"
     ]
    },
    {
     "name": "stdout",
     "output_type": "stream",
     "text": [
      "STATE:  {'ensemble_state': {'total_energy_consumption': 0.023205572371097348, 'ensemble_size': 16}, 'model_states': {'InceptionResNetV2': {'accuracy': 0.9041916167664671, 'confidence': 0.8125482754792995, 'avg_response_time': 2.0716663059513594, 'max_response_time': 2.222508735903802, 'contribution': 0.8044971661296433}, 'MobileNetV2': {'accuracy': 0.8607594936708861, 'confidence': 0.6856442361692839, 'avg_response_time': 0.09528876811094145, 'max_response_time': 0.15370382848033695, 'contribution': 0.6881452544203287}, 'ResNet50V2': {'accuracy': 0.7364864864864865, 'confidence': 0.6709188154420337, 'avg_response_time': 0.3886511466883297, 'max_response_time': 0.5175399351141425, 'contribution': 0.7230747108523911}, 'ensemble': {'accuracy': 0.9161676646706587, 'confidence': 0.7700511339058703, 'avg_response_time': 6.980339534522162, 'max_response_time': 7.209711696979988, 'contribution': 0.9044938376563751}, 'EfficientNetV2S': {'accuracy': 0.9636363636363636, 'confidence': 0.8536817586783206, 'avg_response_time': 1.1472745005364169, 'max_response_time': 1.232916014269438, 'contribution': 0.830638070901235}, 'NASNetLarge': {'accuracy': 0.9634146341463414, 'confidence': 0.8559637038809497, 'avg_response_time': 3.8143824580574983, 'max_response_time': 3.88366818207123, 'contribution': 0.8326890185111906}, 'EfficientNetB7': {'accuracy': 0.9440993788819876, 'confidence': 0.7288742141323801, 'avg_response_time': 7.120485024775096, 'max_response_time': 7.200705930599174, 'contribution': 0.7068928792980147}, 'DenseNet201': {'accuracy': 0.9125, 'confidence': 0.8370446912944317, 'avg_response_time': 0.5834459274153132, 'max_response_time': 0.7017973373738774, 'contribution': 0.8282983399927616}, 'Xception': {'accuracy': 0.8987341772151899, 'confidence': 0.7418168471961082, 'avg_response_time': 0.9923994546647449, 'max_response_time': 1.0385951457921117, 'contribution': 0.7367159354535839}, 'InceptionV3': {'accuracy': 0.9038461538461539, 'confidence': 0.8038446603295131, 'avg_response_time': 0.5754769177244545, 'max_response_time': 0.7062985018013463, 'contribution': 0.7990393195396814}}, 'input_state': {'input_file_length': 14, 'image_height': 224, 'image_width': 224}, 'distribution_weights': [1.0, 1.0, 1.0, 1.0, 1.0, 0.0, 0.0, 0.0, 0.0, 0.0, 0.0, 0.0, 0.0, 0.0, 0.0, 0.0, 0.0, 0.0, 0.0, 0.0]}\n",
      "{'accuracy': 0.9161676646706587, 'confidence': 0.7700511339058703, 'explainability': 1.0, 'energy': 0.023205572371097348, 'latency': 6.980339534522162}\n",
      "REWARD:  3.992424726218477\n"
     ]
    },
    {
     "name": "stderr",
     "output_type": "stream",
     "text": [
      "2025-01-28 15:54:30,510:INFO -- Action: Adding a model\n"
     ]
    },
    {
     "name": "stdout",
     "output_type": "stream",
     "text": [
      "STATE:  {'ensemble_state': {'total_energy_consumption': 0.023205572371097348, 'ensemble_size': 16}, 'model_states': {'InceptionResNetV2': {'accuracy': 0.9047619047619048, 'confidence': 0.813037267043477, 'avg_response_time': 2.0713936106735833, 'max_response_time': 2.222508735903802, 'contribution': 0.8050340809637592}, 'MobileNetV2': {'accuracy': 0.8616352201257862, 'confidence': 0.6866353251649149, 'avg_response_time': 0.09530765723623523, 'max_response_time': 0.15370382848033695, 'contribution': 0.6891206137414249}, 'ResNet50V2': {'accuracy': 0.738255033557047, 'confidence': 0.67312422734779, 'avg_response_time': 0.3888461454072056, 'max_response_time': 0.5175399351141425, 'contribution': 0.7249300831916349}, 'ensemble': {'accuracy': 0.9166666666666666, 'confidence': 0.7709177530588185, 'avg_response_time': 6.981357028097351, 'max_response_time': 7.209711696979988, 'contribution': 0.9050602561661175}, 'EfficientNetV2S': {'accuracy': 0.963855421686747, 'confidence': 0.8540714016879898, 'avg_response_time': 1.1473199775113214, 'max_response_time': 1.232916014269438, 'contribution': 0.8311665313071516}, 'NASNetLarge': {'accuracy': 0.9636363636363636, 'confidence': 0.8561230086919033, 'avg_response_time': 3.81442476795663, 'max_response_time': 3.88366818207123, 'contribution': 0.8329893820213549}, 'EfficientNetB7': {'accuracy': 0.9444444444444444, 'confidence': 0.7292533279569061, 'avg_response_time': 7.120622489947171, 'max_response_time': 7.200705930599174, 'contribution': 0.7074076803746047}, 'DenseNet201': {'accuracy': 0.9130434782608695, 'confidence': 0.8380447018960988, 'avg_response_time': 0.5835494132932683, 'max_response_time': 0.7017973373738774, 'contribution': 0.8293526757577931}, 'Xception': {'accuracy': 0.89937106918239, 'confidence': 0.74110065934793, 'avg_response_time': 0.9923695865467826, 'max_response_time': 1.0385951457921117, 'contribution': 0.7360318288113337}, 'InceptionV3': {'accuracy': 0.9044585987261147, 'confidence': 0.8046966052738724, 'avg_response_time': 0.5755968906369209, 'max_response_time': 0.7062985018013463, 'contribution': 0.7999218717502181}}, 'input_state': {'input_file_length': 14, 'image_height': 224, 'image_width': 224}, 'distribution_weights': [1.0, 1.0, 1.0, 1.0, 1.0, 0.0, 0.0, 0.0, 0.0, 0.0, 0.0, 0.0, 0.0, 0.0, 0.0, 0.0, 0.0, 0.0, 0.0, 0.0]}\n",
      "{'accuracy': 0.9166666666666666, 'confidence': 0.7709177530588185, 'explainability': 1.0, 'energy': 0.023205572371097348, 'latency': 6.981357028097351}\n",
      "REWARD:  3.9924609743017845\n",
      "No eligible models to score.\n"
     ]
    },
    {
     "name": "stderr",
     "output_type": "stream",
     "text": [
      "2025-01-28 15:54:31,270:INFO -- Action: Keeping the ensemble\n"
     ]
    },
    {
     "name": "stdout",
     "output_type": "stream",
     "text": [
      "STATE:  {'ensemble_state': {'total_energy_consumption': 0.023205572371097348, 'ensemble_size': 16}, 'model_states': {'InceptionResNetV2': {'accuracy': 0.9053254437869822, 'confidence': 0.8137144375834945, 'avg_response_time': 2.0712686794665123, 'max_response_time': 2.222508735903802, 'contribution': 0.8057586076344259}, 'MobileNetV2': {'accuracy': 0.8625, 'confidence': 0.6883974228054285, 'avg_response_time': 0.09527360112612256, 'max_response_time': 0.15370382848033695, 'contribution': 0.6908671783283353}, 'ResNet50V2': {'accuracy': 0.74, 'confidence': 0.6752620176474253, 'avg_response_time': 0.3888251634432605, 'max_response_time': 0.5175399351141425, 'contribution': 0.7267225011189778}, 'ensemble': {'accuracy': 0.9171597633136095, 'confidence': 0.7714469230735136, 'avg_response_time': 6.982153026008942, 'max_response_time': 7.209711696979988, 'contribution': 0.9056008606267398}, 'EfficientNetV2S': {'accuracy': 0.9640718562874252, 'confidence': 0.8544988671462693, 'avg_response_time': 1.1473233699511347, 'max_response_time': 1.232916014269438, 'contribution': 0.8317311516778911}, 'NASNetLarge': {'accuracy': 0.963855421686747, 'confidence': 0.8562796509050461, 'avg_response_time': 3.814719701212661, 'max_response_time': 3.88366818207123, 'contribution': 0.8332853834313082}, 'EfficientNetB7': {'accuracy': 0.9447852760736196, 'confidence': 0.7297275298577877, 'avg_response_time': 7.120529851530149, 'max_response_time': 7.200705930599174, 'contribution': 0.7080159046532918}, 'DenseNet201': {'accuracy': 0.9135802469135802, 'confidence': 0.8373873377287829, 'avg_response_time': 0.5835388167993477, 'max_response_time': 0.7017973373738774, 'contribution': 0.8287489660728125}, 'Xception': {'accuracy': 0.9, 'confidence': 0.7405141847208142, 'avg_response_time': 0.9923784516673553, 'max_response_time': 1.0385951457921117, 'contribution': 0.7354770343750715}, 'InceptionV3': {'accuracy': 0.9050632911392406, 'confidence': 0.8050298809627944, 'avg_response_time': 0.5754356000212234, 'max_response_time': 0.7062985018013463, 'contribution': 0.8002853672715682}}, 'input_state': {'input_file_length': 14, 'image_height': 224, 'image_width': 224}, 'distribution_weights': [1.0, 1.0, 1.0, 1.0, 1.0, 0.0, 0.0, 0.0, 0.0, 0.0, 0.0, 0.0, 0.0, 0.0, 0.0, 0.0, 0.0, 0.0, 0.0, 0.0]}\n",
      "{'accuracy': 0.9171597633136095, 'confidence': 0.7714469230735136, 'explainability': 1.0, 'energy': 0.023205572371097348, 'latency': 6.982153026008942}\n",
      "REWARD:  3.9924875522373715\n"
     ]
    },
    {
     "name": "stderr",
     "output_type": "stream",
     "text": [
      "2025-01-28 15:54:31,999:INFO -- Action: Replacing a model\n"
     ]
    },
    {
     "name": "stdout",
     "output_type": "stream",
     "text": [
      "STATE:  {'ensemble_state': {'total_energy_consumption': 0.023205572371097348, 'ensemble_size': 16}, 'model_states': {'InceptionResNetV2': {'accuracy': 0.9058823529411765, 'confidence': 0.8142905736670775, 'avg_response_time': 2.0713759265817937, 'max_response_time': 2.222508735903802, 'contribution': 0.8063815427177092}, 'MobileNetV2': {'accuracy': 0.8633540372670807, 'confidence': 0.6887403578491684, 'avg_response_time': 0.09530776492273975, 'max_response_time': 0.15370382848033695, 'contribution': 0.6911947732756597}, 'ResNet50V2': {'accuracy': 0.7417218543046358, 'confidence': 0.6768267644162209, 'avg_response_time': 0.38894402054394656, 'max_response_time': 0.5175399351141425, 'contribution': 0.7279464499839884}, 'ensemble': {'accuracy': 0.9176470588235294, 'confidence': 0.7721802386768821, 'avg_response_time': 6.982720005342106, 'max_response_time': 7.209711696979988, 'contribution': 0.9061385449241189}, 'EfficientNetV2S': {'accuracy': 0.9642857142857143, 'confidence': 0.8547468774375462, 'avg_response_time': 1.1472867384090595, 'max_response_time': 1.232916014269438, 'contribution': 0.8321146840850512}, 'NASNetLarge': {'accuracy': 0.9640718562874252, 'confidence': 0.8565630222152093, 'avg_response_time': 3.8144737941717612, 'max_response_time': 3.88366818207123, 'contribution': 0.8337064449658651}, 'EfficientNetB7': {'accuracy': 0.9451219512195121, 'confidence': 0.7301978881402713, 'avg_response_time': 7.120214122396677, 'max_response_time': 7.200705930599174, 'contribution': 0.7086186508943395}, 'DenseNet201': {'accuracy': 0.9141104294478528, 'confidence': 0.8375242473157637, 'avg_response_time': 0.5838742949776348, 'max_response_time': 0.7017973373738774, 'contribution': 0.8289388718049219}, 'Xception': {'accuracy': 0.9006211180124224, 'confidence': 0.7419999425085435, 'avg_response_time': 0.9922399462832477, 'max_response_time': 1.0385951457921117, 'contribution': 0.736994078810911}, 'InceptionV3': {'accuracy': 0.9056603773584906, 'confidence': 0.8060579732903894, 'avg_response_time': 0.5755056520580742, 'max_response_time': 0.7062985018013463, 'contribution': 0.8013432993079131}}, 'input_state': {'input_file_length': 15, 'image_height': 224, 'image_width': 224}, 'distribution_weights': [1.0, 1.0, 1.0, 1.0, 1.0, 0.0, 0.0, 0.0, 0.0, 0.0, 0.0, 0.0, 0.0, 0.0, 0.0, 0.0, 0.0, 0.0, 0.0, 0.0]}\n",
      "{'accuracy': 0.9176470588235294, 'confidence': 0.7721802386768821, 'explainability': 1.0, 'energy': 0.023205572371097348, 'latency': 6.982720005342106}\n",
      "REWARD:  3.9925197180059198\n",
      "Worst model: EfficientNetV2L with score: 0.5911481481481482\n",
      "Model 'EfficientNetV2L' successfully removed from the target YAML.\n",
      "Best model: EfficientNetV2L with score: 0.5911481481481482\n",
      "Model 'EfficientNetV2L' successfully added to the target YAML.\n"
     ]
    },
    {
     "name": "stderr",
     "output_type": "stream",
     "text": [
      "2025-01-28 15:54:32,951:INFO -- Action: Replacing a model\n"
     ]
    },
    {
     "name": "stdout",
     "output_type": "stream",
     "text": [
      "STATE:  {'ensemble_state': {'total_energy_consumption': 0.023205572371097348, 'ensemble_size': 16}, 'model_states': {'InceptionResNetV2': {'accuracy': 0.9064327485380117, 'confidence': 0.8150446150037978, 'avg_response_time': 2.0709430980987205, 'max_response_time': 2.222508735903802, 'contribution': 0.8071818356974083}, 'MobileNetV2': {'accuracy': 0.8641975308641975, 'confidence': 0.6899591912457972, 'avg_response_time': 0.09528695738101095, 'max_response_time': 0.15370382848033695, 'contribution': 0.6923984559597792}, 'ResNet50V2': {'accuracy': 0.743421052631579, 'confidence': 0.6789528947127493, 'avg_response_time': 0.38894111773727713, 'max_response_time': 0.5175399351141425, 'contribution': 0.7297362665596762}, 'ensemble': {'accuracy': 0.9181286549707602, 'confidence': 0.7731307172065286, 'avg_response_time': 6.983698339417176, 'max_response_time': 7.209711696979988, 'contribution': 0.9066874339566593}, 'EfficientNetV2S': {'accuracy': 0.9644970414201184, 'confidence': 0.8551009046960865, 'avg_response_time': 1.147295787254977, 'max_response_time': 1.232916014269438, 'contribution': 0.8326026296474525}, 'NASNetLarge': {'accuracy': 0.9642857142857143, 'confidence': 0.8568574117407912, 'avg_response_time': 3.8144680672221085, 'max_response_time': 3.88366818207123, 'contribution': 0.8341368855465026}, 'EfficientNetB7': {'accuracy': 0.9454545454545454, 'confidence': 0.7307046064824769, 'avg_response_time': 7.120324603903016, 'max_response_time': 7.200705930599174, 'contribution': 0.709256152492581}, 'DenseNet201': {'accuracy': 0.9146341463414634, 'confidence': 0.8385134793636275, 'avg_response_time': 0.5836989636150417, 'max_response_time': 0.7017973373738774, 'contribution': 0.8299804537034616}, 'Xception': {'accuracy': 0.9012345679012346, 'confidence': 0.7429333187547731, 'avg_response_time': 0.992220438339988, 'max_response_time': 1.0385951457921117, 'contribution': 0.7379583554503358}, 'InceptionV3': {'accuracy': 0.90625, 'confidence': 0.8072464788332582, 'avg_response_time': 0.5754662524596971, 'max_response_time': 0.7062985018013463, 'contribution': 0.8025612715631724}}, 'input_state': {'input_file_length': 14, 'image_height': 224, 'image_width': 224}, 'distribution_weights': [1.0, 1.0, 1.0, 1.0, 1.0, 0.0, 0.0, 0.0, 0.0, 0.0, 0.0, 0.0, 0.0, 0.0, 0.0, 0.0, 0.0, 0.0, 0.0, 0.0]}\n",
      "{'accuracy': 0.9181286549707602, 'confidence': 0.7731307172065286, 'explainability': 1.0, 'energy': 0.023205572371097348, 'latency': 6.983698339417176}\n",
      "REWARD:  3.9925578235278203\n",
      "Worst model: EfficientNetV2L with score: 0.5911481481481482\n",
      "Model 'EfficientNetV2L' successfully removed from the target YAML.\n",
      "Best model: EfficientNetV2L with score: 0.5911481481481482\n",
      "Model 'EfficientNetV2L' successfully added to the target YAML.\n"
     ]
    },
    {
     "name": "stderr",
     "output_type": "stream",
     "text": [
      "2025-01-28 15:54:33,962:INFO -- Action: Adding a model\n"
     ]
    },
    {
     "name": "stdout",
     "output_type": "stream",
     "text": [
      "STATE:  {'ensemble_state': {'total_energy_consumption': 0.023205572371097348, 'ensemble_size': 16}, 'model_states': {'InceptionResNetV2': {'accuracy': 0.9069767441860465, 'confidence': 0.8157951533794403, 'avg_response_time': 2.070840601481957, 'max_response_time': 2.222508735903802, 'contribution': 0.8079780879062276}, 'MobileNetV2': {'accuracy': 0.8650306748466258, 'confidence': 0.6911372173051893, 'avg_response_time': 0.09526771000999816, 'max_response_time': 0.15370382848033695, 'contribution': 0.693561517204975}, 'ResNet50V2': {'accuracy': 0.7450980392156863, 'confidence': 0.6810500173786886, 'avg_response_time': 0.38892958987856113, 'max_response_time': 0.5175399351141425, 'contribution': 0.7315014717625636}, 'ensemble': {'accuracy': 0.9186046511627907, 'confidence': 0.7740417111415432, 'avg_response_time': 6.984415998343124, 'max_response_time': 7.209711696979988, 'contribution': 0.9072288597045943}, 'EfficientNetV2S': {'accuracy': 0.9647058823529412, 'confidence': 0.8555028308840359, 'avg_response_time': 1.1472608802137876, 'max_response_time': 1.232916014269438, 'contribution': 0.8331368986298057}, 'NASNetLarge': {'accuracy': 0.9644970414201184, 'confidence': 0.8572610914707184, 'avg_response_time': 3.8145151817198975, 'max_response_time': 3.88366818207123, 'contribution': 0.8346750062598279}, 'EfficientNetB7': {'accuracy': 0.9457831325301205, 'confidence': 0.7314169616943382, 'avg_response_time': 7.1201868140644615, 'max_response_time': 7.200705930599174, 'contribution': 0.7100977152585983}, 'DenseNet201': {'accuracy': 0.9151515151515152, 'confidence': 0.8394830060727668, 'avg_response_time': 0.5836269455481583, 'max_response_time': 0.7017973373738774, 'contribution': 0.8310016957196322}, 'Xception': {'accuracy': 0.901840490797546, 'confidence': 0.7441773398156546, 'avg_response_time': 0.9922081651441711, 'max_response_time': 1.0385951457921117, 'contribution': 0.7392328977584839}, 'InceptionV3': {'accuracy': 0.906832298136646, 'confidence': 0.808061808347702, 'avg_response_time': 0.5755272364294006, 'max_response_time': 0.7062985018013463, 'contribution': 0.80340570174389}}, 'input_state': {'input_file_length': 15, 'image_height': 224, 'image_width': 224}, 'distribution_weights': [1.0, 1.0, 1.0, 1.0, 1.0, 0.0, 0.0, 0.0, 0.0, 0.0, 0.0, 0.0, 0.0, 0.0, 0.0, 0.0, 0.0, 0.0, 0.0, 0.0]}\n",
      "{'accuracy': 0.9186046511627907, 'confidence': 0.7740417111415432, 'explainability': 1.0, 'energy': 0.023205572371097348, 'latency': 6.984415998343124}\n",
      "REWARD:  3.992594650219338\n",
      "No eligible models to score.\n"
     ]
    },
    {
     "name": "stderr",
     "output_type": "stream",
     "text": [
      "2025-01-28 15:54:34,732:INFO -- Action: Replacing a model\n"
     ]
    },
    {
     "name": "stdout",
     "output_type": "stream",
     "text": [
      "STATE:  {'ensemble_state': {'total_energy_consumption': 0.023205572371097348, 'ensemble_size': 16}, 'model_states': {'InceptionResNetV2': {'accuracy': 0.9075144508670521, 'confidence': 0.8163584515538519, 'avg_response_time': 2.0712346345669523, 'max_response_time': 2.222508735903802, 'contribution': 0.8085865714301953}, 'MobileNetV2': {'accuracy': 0.8658536585365854, 'confidence': 0.6898085215106243, 'avg_response_time': 0.09527818330605801, 'max_response_time': 0.15370382848033695, 'contribution': 0.692218039093948}, 'ResNet50V2': {'accuracy': 0.7402597402597403, 'confidence': 0.6766276146684375, 'avg_response_time': 0.3890843731654503, 'max_response_time': 0.5175399351141425, 'contribution': 0.7267514622056639}, 'ensemble': {'accuracy': 0.9190751445086706, 'confidence': 0.774661284137555, 'avg_response_time': 6.985138564765449, 'max_response_time': 7.209711696979988, 'contribution': 0.9077648534251086}, 'EfficientNetV2S': {'accuracy': 0.9649122807017544, 'confidence': 0.8556570923119261, 'avg_response_time': 1.14724292984682, 'max_response_time': 1.232916014269438, 'contribution': 0.8334219549831591}, 'NASNetLarge': {'accuracy': 0.9647058823529412, 'confidence': 0.8575684836682151, 'avg_response_time': 3.8143343697500587, 'max_response_time': 3.88366818207123, 'contribution': 0.8351152577820946}, 'EfficientNetB7': {'accuracy': 0.9461077844311377, 'confidence': 0.7323389390628495, 'avg_response_time': 7.120061671255216, 'max_response_time': 7.200705930599174, 'contribution': 0.7111473527854074}, 'DenseNet201': {'accuracy': 0.9156626506024096, 'confidence': 0.8404402894427977, 'avg_response_time': 0.5832961713011592, 'max_response_time': 0.7017973373738774, 'contribution': 0.8320100713207061}, 'Xception': {'accuracy': 0.9024390243902439, 'confidence': 0.7450668210300003, 'avg_response_time': 0.9921935266368208, 'max_response_time': 1.0385951457921117, 'contribution': 0.7401525280097636}, 'InceptionV3': {'accuracy': 0.9074074074074074, 'confidence': 0.8084735783897801, 'avg_response_time': 0.5756959311623056, 'max_response_time': 0.7062985018013463, 'contribution': 0.803846213184757}}, 'input_state': {'input_file_length': 14, 'image_height': 224, 'image_width': 224}, 'distribution_weights': [1.0, 1.0, 1.0, 1.0, 1.0, 0.0, 0.0, 0.0, 0.0, 0.0, 0.0, 0.0, 0.0, 0.0, 0.0, 0.0, 0.0, 0.0, 0.0, 0.0]}\n",
      "{'accuracy': 0.9190751445086706, 'confidence': 0.774661284137555, 'explainability': 1.0, 'energy': 0.023205572371097348, 'latency': 6.985138564765449}\n",
      "REWARD:  3.9926231436310196\n",
      "Worst model: EfficientNetV2L with score: 0.5911481481481482\n",
      "Model 'EfficientNetV2L' successfully removed from the target YAML.\n",
      "Best model: EfficientNetV2L with score: 0.5911481481481482\n",
      "Model 'EfficientNetV2L' successfully added to the target YAML.\n"
     ]
    },
    {
     "name": "stderr",
     "output_type": "stream",
     "text": [
      "2025-01-28 15:54:35,853:INFO -- Action: Keeping the ensemble\n"
     ]
    },
    {
     "name": "stdout",
     "output_type": "stream",
     "text": [
      "STATE:  {'ensemble_state': {'total_energy_consumption': 0.023205572371097348, 'ensemble_size': 16}, 'model_states': {'InceptionResNetV2': {'accuracy': 0.9080459770114943, 'confidence': 0.814885868080731, 'avg_response_time': 2.071239944605608, 'max_response_time': 2.222508735903802, 'contribution': 0.8071586539347967}, 'MobileNetV2': {'accuracy': 0.8606060606060606, 'confidence': 0.6856278638044994, 'avg_response_time': 0.09528459959594465, 'max_response_time': 0.15370382848033695, 'contribution': 0.6880227782509544}, 'ResNet50V2': {'accuracy': 0.7354838709677419, 'confidence': 0.6722622752189636, 'avg_response_time': 0.389210138643024, 'max_response_time': 0.5175399351141425, 'contribution': 0.7220627430946597}, 'ensemble': {'accuracy': 0.9195402298850575, 'confidence': 0.7733628874916701, 'avg_response_time': 6.985994596978175, 'max_response_time': 7.209711696979988, 'contribution': 0.9061097084790811}, 'EfficientNetV2S': {'accuracy': 0.9651162790697675, 'confidence': 0.8533366260140441, 'avg_response_time': 1.1475955754224114, 'max_response_time': 1.232916014269438, 'contribution': 0.8312307627395142}, 'NASNetLarge': {'accuracy': 0.9649122807017544, 'confidence': 0.8561778471135256, 'avg_response_time': 3.814319401720751, 'max_response_time': 3.88366818207123, 'contribution': 0.8338559266419439}, 'EfficientNetB7': {'accuracy': 0.9404761904761905, 'confidence': 0.7279797787112849, 'avg_response_time': 7.1200966060473805, 'max_response_time': 7.200705930599174, 'contribution': 0.7069143328283515}, 'DenseNet201': {'accuracy': 0.9101796407185628, 'confidence': 0.8354077128593079, 'avg_response_time': 0.5832348567200929, 'max_response_time': 0.7017973373738774, 'contribution': 0.8270279750852527}, 'Xception': {'accuracy': 0.896969696969697, 'confidence': 0.7405512645389094, 'avg_response_time': 0.9921895099384311, 'max_response_time': 1.0385951457921117, 'contribution': 0.7356667551127347}, 'InceptionV3': {'accuracy': 0.9079754601226994, 'confidence': 0.8070557287499949, 'avg_response_time': 0.5758210440983148, 'max_response_time': 0.7062985018013463, 'contribution': 0.802456752288561}}, 'input_state': {'input_file_length': 14, 'image_height': 224, 'image_width': 224}, 'distribution_weights': [1.0, 1.0, 1.0, 1.0, 1.0, 0.0, 0.0, 0.0, 0.0, 0.0, 0.0, 0.0, 0.0, 0.0, 0.0, 0.0, 0.0, 0.0, 0.0, 0.0]}\n",
      "{'accuracy': 0.9195402298850575, 'confidence': 0.7733628874916701, 'explainability': 1.0, 'energy': 0.023205572371097348, 'latency': 6.985994596978175}\n",
      "REWARD:  3.99259770307395\n"
     ]
    },
    {
     "name": "stderr",
     "output_type": "stream",
     "text": [
      "2025-01-28 15:54:36,628:INFO -- Action: Replacing a model\n"
     ]
    },
    {
     "name": "stdout",
     "output_type": "stream",
     "text": [
      "STATE:  {'ensemble_state': {'total_energy_consumption': 0.023205572371097348, 'ensemble_size': 16}, 'model_states': {'InceptionResNetV2': {'accuracy': 0.9085714285714286, 'confidence': 0.8142748965535845, 'avg_response_time': 2.071127176613914, 'max_response_time': 2.222508735903802, 'contribution': 0.8025463187694549}, 'MobileNetV2': {'accuracy': 0.8614457831325302, 'confidence': 0.6852765656020268, 'avg_response_time': 0.09525624257851552, 'max_response_time': 0.15370382848033695, 'contribution': 0.6838780627193222}, 'ResNet50V2': {'accuracy': 0.7307692307692307, 'confidence': 0.6679529016598676, 'avg_response_time': 0.38923187491735706, 'max_response_time': 0.5175399351141425, 'contribution': 0.7222725955339578}, 'ensemble': {'accuracy': 0.9142857142857143, 'confidence': 0.7689436709917178, 'avg_response_time': 6.9867457009248115, 'max_response_time': 7.209711696979988, 'contribution': 0.9059880437169756}, 'EfficientNetV2S': {'accuracy': 0.9653179190751445, 'confidence': 0.852273658865449, 'avg_response_time': 1.1476266439081675, 'max_response_time': 1.232916014269438, 'contribution': 0.826425960642754}, 'NASNetLarge': {'accuracy': 0.9593023255813954, 'confidence': 0.8512000689326331, 'avg_response_time': 3.814292554103048, 'max_response_time': 3.88366818207123, 'contribution': 0.8340526885071466}, 'EfficientNetB7': {'accuracy': 0.9408284023668639, 'confidence': 0.7274026128314656, 'avg_response_time': 7.120023520430406, 'max_response_time': 7.200705930599174, 'contribution': 0.7027314077820298}, 'DenseNet201': {'accuracy': 0.9047619047619048, 'confidence': 0.8304350479018121, 'avg_response_time': 0.5832960234892356, 'max_response_time': 0.7017973373738774, 'contribution': 0.8267280345871335}, 'Xception': {'accuracy': 0.8975903614457831, 'confidence': 0.7384073892271662, 'avg_response_time': 0.9922661285035679, 'max_response_time': 1.0385951457921117, 'contribution': 0.7337764203548431}, 'InceptionV3': {'accuracy': 0.9085365853658537, 'confidence': 0.8040343068721818, 'avg_response_time': 0.575941977395151, 'max_response_time': 0.7062985018013463, 'contribution': 0.8009873214291363}}, 'input_state': {'input_file_length': 14, 'image_height': 224, 'image_width': 224}, 'distribution_weights': [1.0, 1.0, 1.0, 1.0, 1.0, 0.0, 0.0, 0.0, 0.0, 0.0, 0.0, 0.0, 0.0, 0.0, 0.0, 0.0, 0.0, 0.0, 0.0, 0.0]}\n",
      "{'accuracy': 0.9142857142857143, 'confidence': 0.7689436709917178, 'explainability': 1.0, 'energy': 0.023205572371097348, 'latency': 6.9867457009248115}\n",
      "REWARD:  3.9923488230335806\n",
      "Worst model: EfficientNetV2L with score: 0.5911481481481482\n",
      "Model 'EfficientNetV2L' successfully removed from the target YAML.\n",
      "Best model: EfficientNetV2L with score: 0.5911481481481482\n",
      "Model 'EfficientNetV2L' successfully added to the target YAML.\n"
     ]
    },
    {
     "ename": "KeyboardInterrupt",
     "evalue": "",
     "output_type": "error",
     "traceback": [
      "\u001b[1;31m---------------------------------------------------------------------------\u001b[0m",
      "\u001b[1;31mKeyboardInterrupt\u001b[0m                         Traceback (most recent call last)",
      "Cell \u001b[1;32mIn[2], line 10\u001b[0m\n\u001b[0;32m      8\u001b[0m \u001b[38;5;66;03m# Train the agent\u001b[39;00m\n\u001b[0;32m      9\u001b[0m model \u001b[38;5;241m=\u001b[39m PPO(\u001b[38;5;124m\"\u001b[39m\u001b[38;5;124mMlpPolicy\u001b[39m\u001b[38;5;124m\"\u001b[39m, env, verbose\u001b[38;5;241m=\u001b[39m\u001b[38;5;241m1\u001b[39m, n_steps\u001b[38;5;241m=\u001b[39m\u001b[38;5;241m1028\u001b[39m)\n\u001b[1;32m---> 10\u001b[0m \u001b[43mmodel\u001b[49m\u001b[38;5;241;43m.\u001b[39;49m\u001b[43mlearn\u001b[49m\u001b[43m(\u001b[49m\u001b[43mtotal_timesteps\u001b[49m\u001b[38;5;241;43m=\u001b[39;49m\u001b[38;5;241;43m1\u001b[39;49m\u001b[43m)\u001b[49m\n\u001b[0;32m     12\u001b[0m \u001b[38;5;66;03m# Save the trained model\u001b[39;00m\n\u001b[0;32m     13\u001b[0m model\u001b[38;5;241m.\u001b[39msave(\u001b[38;5;124m\"\u001b[39m\u001b[38;5;124msimulation_policy\u001b[39m\u001b[38;5;124m\"\u001b[39m)\n",
      "File \u001b[1;32mc:\\Users\\Filippo\\anaconda3\\Lib\\site-packages\\stable_baselines3\\ppo\\ppo.py:311\u001b[0m, in \u001b[0;36mPPO.learn\u001b[1;34m(self, total_timesteps, callback, log_interval, tb_log_name, reset_num_timesteps, progress_bar)\u001b[0m\n\u001b[0;32m    302\u001b[0m \u001b[38;5;28;01mdef\u001b[39;00m \u001b[38;5;21mlearn\u001b[39m(\n\u001b[0;32m    303\u001b[0m     \u001b[38;5;28mself\u001b[39m: SelfPPO,\n\u001b[0;32m    304\u001b[0m     total_timesteps: \u001b[38;5;28mint\u001b[39m,\n\u001b[1;32m   (...)\u001b[0m\n\u001b[0;32m    309\u001b[0m     progress_bar: \u001b[38;5;28mbool\u001b[39m \u001b[38;5;241m=\u001b[39m \u001b[38;5;28;01mFalse\u001b[39;00m,\n\u001b[0;32m    310\u001b[0m ) \u001b[38;5;241m-\u001b[39m\u001b[38;5;241m>\u001b[39m SelfPPO:\n\u001b[1;32m--> 311\u001b[0m     \u001b[38;5;28;01mreturn\u001b[39;00m \u001b[38;5;28;43msuper\u001b[39;49m\u001b[43m(\u001b[49m\u001b[43m)\u001b[49m\u001b[38;5;241;43m.\u001b[39;49m\u001b[43mlearn\u001b[49m\u001b[43m(\u001b[49m\n\u001b[0;32m    312\u001b[0m \u001b[43m        \u001b[49m\u001b[43mtotal_timesteps\u001b[49m\u001b[38;5;241;43m=\u001b[39;49m\u001b[43mtotal_timesteps\u001b[49m\u001b[43m,\u001b[49m\n\u001b[0;32m    313\u001b[0m \u001b[43m        \u001b[49m\u001b[43mcallback\u001b[49m\u001b[38;5;241;43m=\u001b[39;49m\u001b[43mcallback\u001b[49m\u001b[43m,\u001b[49m\n\u001b[0;32m    314\u001b[0m \u001b[43m        \u001b[49m\u001b[43mlog_interval\u001b[49m\u001b[38;5;241;43m=\u001b[39;49m\u001b[43mlog_interval\u001b[49m\u001b[43m,\u001b[49m\n\u001b[0;32m    315\u001b[0m \u001b[43m        \u001b[49m\u001b[43mtb_log_name\u001b[49m\u001b[38;5;241;43m=\u001b[39;49m\u001b[43mtb_log_name\u001b[49m\u001b[43m,\u001b[49m\n\u001b[0;32m    316\u001b[0m \u001b[43m        \u001b[49m\u001b[43mreset_num_timesteps\u001b[49m\u001b[38;5;241;43m=\u001b[39;49m\u001b[43mreset_num_timesteps\u001b[49m\u001b[43m,\u001b[49m\n\u001b[0;32m    317\u001b[0m \u001b[43m        \u001b[49m\u001b[43mprogress_bar\u001b[49m\u001b[38;5;241;43m=\u001b[39;49m\u001b[43mprogress_bar\u001b[49m\u001b[43m,\u001b[49m\n\u001b[0;32m    318\u001b[0m \u001b[43m    \u001b[49m\u001b[43m)\u001b[49m\n",
      "File \u001b[1;32mc:\\Users\\Filippo\\anaconda3\\Lib\\site-packages\\stable_baselines3\\common\\on_policy_algorithm.py:323\u001b[0m, in \u001b[0;36mOnPolicyAlgorithm.learn\u001b[1;34m(self, total_timesteps, callback, log_interval, tb_log_name, reset_num_timesteps, progress_bar)\u001b[0m\n\u001b[0;32m    320\u001b[0m \u001b[38;5;28;01massert\u001b[39;00m \u001b[38;5;28mself\u001b[39m\u001b[38;5;241m.\u001b[39menv \u001b[38;5;129;01mis\u001b[39;00m \u001b[38;5;129;01mnot\u001b[39;00m \u001b[38;5;28;01mNone\u001b[39;00m\n\u001b[0;32m    322\u001b[0m \u001b[38;5;28;01mwhile\u001b[39;00m \u001b[38;5;28mself\u001b[39m\u001b[38;5;241m.\u001b[39mnum_timesteps \u001b[38;5;241m<\u001b[39m total_timesteps:\n\u001b[1;32m--> 323\u001b[0m     continue_training \u001b[38;5;241m=\u001b[39m \u001b[38;5;28;43mself\u001b[39;49m\u001b[38;5;241;43m.\u001b[39;49m\u001b[43mcollect_rollouts\u001b[49m\u001b[43m(\u001b[49m\u001b[38;5;28;43mself\u001b[39;49m\u001b[38;5;241;43m.\u001b[39;49m\u001b[43menv\u001b[49m\u001b[43m,\u001b[49m\u001b[43m \u001b[49m\u001b[43mcallback\u001b[49m\u001b[43m,\u001b[49m\u001b[43m \u001b[49m\u001b[38;5;28;43mself\u001b[39;49m\u001b[38;5;241;43m.\u001b[39;49m\u001b[43mrollout_buffer\u001b[49m\u001b[43m,\u001b[49m\u001b[43m \u001b[49m\u001b[43mn_rollout_steps\u001b[49m\u001b[38;5;241;43m=\u001b[39;49m\u001b[38;5;28;43mself\u001b[39;49m\u001b[38;5;241;43m.\u001b[39;49m\u001b[43mn_steps\u001b[49m\u001b[43m)\u001b[49m\n\u001b[0;32m    325\u001b[0m     \u001b[38;5;28;01mif\u001b[39;00m \u001b[38;5;129;01mnot\u001b[39;00m continue_training:\n\u001b[0;32m    326\u001b[0m         \u001b[38;5;28;01mbreak\u001b[39;00m\n",
      "File \u001b[1;32mc:\\Users\\Filippo\\anaconda3\\Lib\\site-packages\\stable_baselines3\\common\\on_policy_algorithm.py:218\u001b[0m, in \u001b[0;36mOnPolicyAlgorithm.collect_rollouts\u001b[1;34m(self, env, callback, rollout_buffer, n_rollout_steps)\u001b[0m\n\u001b[0;32m    213\u001b[0m     \u001b[38;5;28;01melse\u001b[39;00m:\n\u001b[0;32m    214\u001b[0m         \u001b[38;5;66;03m# Otherwise, clip the actions to avoid out of bound error\u001b[39;00m\n\u001b[0;32m    215\u001b[0m         \u001b[38;5;66;03m# as we are sampling from an unbounded Gaussian distribution\u001b[39;00m\n\u001b[0;32m    216\u001b[0m         clipped_actions \u001b[38;5;241m=\u001b[39m np\u001b[38;5;241m.\u001b[39mclip(actions, \u001b[38;5;28mself\u001b[39m\u001b[38;5;241m.\u001b[39maction_space\u001b[38;5;241m.\u001b[39mlow, \u001b[38;5;28mself\u001b[39m\u001b[38;5;241m.\u001b[39maction_space\u001b[38;5;241m.\u001b[39mhigh)\n\u001b[1;32m--> 218\u001b[0m new_obs, rewards, dones, infos \u001b[38;5;241m=\u001b[39m \u001b[43menv\u001b[49m\u001b[38;5;241;43m.\u001b[39;49m\u001b[43mstep\u001b[49m\u001b[43m(\u001b[49m\u001b[43mclipped_actions\u001b[49m\u001b[43m)\u001b[49m\n\u001b[0;32m    220\u001b[0m \u001b[38;5;28mself\u001b[39m\u001b[38;5;241m.\u001b[39mnum_timesteps \u001b[38;5;241m+\u001b[39m\u001b[38;5;241m=\u001b[39m env\u001b[38;5;241m.\u001b[39mnum_envs\n\u001b[0;32m    222\u001b[0m \u001b[38;5;66;03m# Give access to local variables\u001b[39;00m\n",
      "File \u001b[1;32mc:\\Users\\Filippo\\anaconda3\\Lib\\site-packages\\stable_baselines3\\common\\vec_env\\base_vec_env.py:206\u001b[0m, in \u001b[0;36mVecEnv.step\u001b[1;34m(self, actions)\u001b[0m\n\u001b[0;32m    199\u001b[0m \u001b[38;5;250m\u001b[39m\u001b[38;5;124;03m\"\"\"\u001b[39;00m\n\u001b[0;32m    200\u001b[0m \u001b[38;5;124;03mStep the environments with the given action\u001b[39;00m\n\u001b[0;32m    201\u001b[0m \n\u001b[0;32m    202\u001b[0m \u001b[38;5;124;03m:param actions: the action\u001b[39;00m\n\u001b[0;32m    203\u001b[0m \u001b[38;5;124;03m:return: observation, reward, done, information\u001b[39;00m\n\u001b[0;32m    204\u001b[0m \u001b[38;5;124;03m\"\"\"\u001b[39;00m\n\u001b[0;32m    205\u001b[0m \u001b[38;5;28mself\u001b[39m\u001b[38;5;241m.\u001b[39mstep_async(actions)\n\u001b[1;32m--> 206\u001b[0m \u001b[38;5;28;01mreturn\u001b[39;00m \u001b[38;5;28;43mself\u001b[39;49m\u001b[38;5;241;43m.\u001b[39;49m\u001b[43mstep_wait\u001b[49m\u001b[43m(\u001b[49m\u001b[43m)\u001b[49m\n",
      "File \u001b[1;32mc:\\Users\\Filippo\\anaconda3\\Lib\\site-packages\\stable_baselines3\\common\\vec_env\\dummy_vec_env.py:58\u001b[0m, in \u001b[0;36mDummyVecEnv.step_wait\u001b[1;34m(self)\u001b[0m\n\u001b[0;32m     55\u001b[0m \u001b[38;5;28;01mdef\u001b[39;00m \u001b[38;5;21mstep_wait\u001b[39m(\u001b[38;5;28mself\u001b[39m) \u001b[38;5;241m-\u001b[39m\u001b[38;5;241m>\u001b[39m VecEnvStepReturn:\n\u001b[0;32m     56\u001b[0m     \u001b[38;5;66;03m# Avoid circular imports\u001b[39;00m\n\u001b[0;32m     57\u001b[0m     \u001b[38;5;28;01mfor\u001b[39;00m env_idx \u001b[38;5;129;01min\u001b[39;00m \u001b[38;5;28mrange\u001b[39m(\u001b[38;5;28mself\u001b[39m\u001b[38;5;241m.\u001b[39mnum_envs):\n\u001b[1;32m---> 58\u001b[0m         obs, \u001b[38;5;28mself\u001b[39m\u001b[38;5;241m.\u001b[39mbuf_rews[env_idx], terminated, truncated, \u001b[38;5;28mself\u001b[39m\u001b[38;5;241m.\u001b[39mbuf_infos[env_idx] \u001b[38;5;241m=\u001b[39m \u001b[38;5;28;43mself\u001b[39;49m\u001b[38;5;241;43m.\u001b[39;49m\u001b[43menvs\u001b[49m\u001b[43m[\u001b[49m\u001b[43menv_idx\u001b[49m\u001b[43m]\u001b[49m\u001b[38;5;241;43m.\u001b[39;49m\u001b[43mstep\u001b[49m\u001b[43m(\u001b[49m\n\u001b[0;32m     59\u001b[0m \u001b[43m            \u001b[49m\u001b[38;5;28;43mself\u001b[39;49m\u001b[38;5;241;43m.\u001b[39;49m\u001b[43mactions\u001b[49m\u001b[43m[\u001b[49m\u001b[43menv_idx\u001b[49m\u001b[43m]\u001b[49m\n\u001b[0;32m     60\u001b[0m \u001b[43m        \u001b[49m\u001b[43m)\u001b[49m\n\u001b[0;32m     61\u001b[0m         \u001b[38;5;66;03m# convert to SB3 VecEnv api\u001b[39;00m\n\u001b[0;32m     62\u001b[0m         \u001b[38;5;28mself\u001b[39m\u001b[38;5;241m.\u001b[39mbuf_dones[env_idx] \u001b[38;5;241m=\u001b[39m terminated \u001b[38;5;129;01mor\u001b[39;00m truncated\n",
      "File \u001b[1;32mc:\\Users\\Filippo\\anaconda3\\Lib\\site-packages\\stable_baselines3\\common\\monitor.py:94\u001b[0m, in \u001b[0;36mMonitor.step\u001b[1;34m(self, action)\u001b[0m\n\u001b[0;32m     92\u001b[0m \u001b[38;5;28;01mif\u001b[39;00m \u001b[38;5;28mself\u001b[39m\u001b[38;5;241m.\u001b[39mneeds_reset:\n\u001b[0;32m     93\u001b[0m     \u001b[38;5;28;01mraise\u001b[39;00m \u001b[38;5;167;01mRuntimeError\u001b[39;00m(\u001b[38;5;124m\"\u001b[39m\u001b[38;5;124mTried to step environment that needs reset\u001b[39m\u001b[38;5;124m\"\u001b[39m)\n\u001b[1;32m---> 94\u001b[0m observation, reward, terminated, truncated, info \u001b[38;5;241m=\u001b[39m \u001b[38;5;28;43mself\u001b[39;49m\u001b[38;5;241;43m.\u001b[39;49m\u001b[43menv\u001b[49m\u001b[38;5;241;43m.\u001b[39;49m\u001b[43mstep\u001b[49m\u001b[43m(\u001b[49m\u001b[43maction\u001b[49m\u001b[43m)\u001b[49m\n\u001b[0;32m     95\u001b[0m \u001b[38;5;28mself\u001b[39m\u001b[38;5;241m.\u001b[39mrewards\u001b[38;5;241m.\u001b[39mappend(\u001b[38;5;28mfloat\u001b[39m(reward))\n\u001b[0;32m     96\u001b[0m \u001b[38;5;28;01mif\u001b[39;00m terminated \u001b[38;5;129;01mor\u001b[39;00m truncated:\n",
      "File \u001b[1;32mc:\\Users\\Filippo\\anaconda3\\Lib\\site-packages\\shimmy\\openai_gym_compatibility.py:250\u001b[0m, in \u001b[0;36mGymV21CompatibilityV0.step\u001b[1;34m(self, action)\u001b[0m\n\u001b[0;32m    241\u001b[0m \u001b[38;5;28;01mdef\u001b[39;00m \u001b[38;5;21mstep\u001b[39m(\u001b[38;5;28mself\u001b[39m, action: ActType) \u001b[38;5;241m-\u001b[39m\u001b[38;5;241m>\u001b[39m \u001b[38;5;28mtuple\u001b[39m[Any, \u001b[38;5;28mfloat\u001b[39m, \u001b[38;5;28mbool\u001b[39m, \u001b[38;5;28mbool\u001b[39m, \u001b[38;5;28mdict\u001b[39m]:\n\u001b[0;32m    242\u001b[0m \u001b[38;5;250m    \u001b[39m\u001b[38;5;124;03m\"\"\"Steps through the environment.\u001b[39;00m\n\u001b[0;32m    243\u001b[0m \n\u001b[0;32m    244\u001b[0m \u001b[38;5;124;03m    Args:\u001b[39;00m\n\u001b[1;32m   (...)\u001b[0m\n\u001b[0;32m    248\u001b[0m \u001b[38;5;124;03m        (observation, reward, terminated, truncated, info)\u001b[39;00m\n\u001b[0;32m    249\u001b[0m \u001b[38;5;124;03m    \"\"\"\u001b[39;00m\n\u001b[1;32m--> 250\u001b[0m     obs, reward, done, info \u001b[38;5;241m=\u001b[39m \u001b[38;5;28;43mself\u001b[39;49m\u001b[38;5;241;43m.\u001b[39;49m\u001b[43mgym_env\u001b[49m\u001b[38;5;241;43m.\u001b[39;49m\u001b[43mstep\u001b[49m\u001b[43m(\u001b[49m\u001b[43maction\u001b[49m\u001b[43m)\u001b[49m\n\u001b[0;32m    252\u001b[0m     \u001b[38;5;28;01mif\u001b[39;00m \u001b[38;5;28mself\u001b[39m\u001b[38;5;241m.\u001b[39mrender_mode \u001b[38;5;129;01mis\u001b[39;00m \u001b[38;5;129;01mnot\u001b[39;00m \u001b[38;5;28;01mNone\u001b[39;00m:\n\u001b[0;32m    253\u001b[0m         \u001b[38;5;28mself\u001b[39m\u001b[38;5;241m.\u001b[39mrender()\n",
      "Cell \u001b[1;32mIn[1], line 72\u001b[0m, in \u001b[0;36mSimulationEnv.step\u001b[1;34m(self, action)\u001b[0m\n\u001b[0;32m     69\u001b[0m \u001b[38;5;28;01melif\u001b[39;00m action \u001b[38;5;241m==\u001b[39m \u001b[38;5;241m2\u001b[39m:\n\u001b[0;32m     70\u001b[0m     \u001b[38;5;28mself\u001b[39m\u001b[38;5;241m.\u001b[39mapply_action(\u001b[38;5;124m\"\u001b[39m\u001b[38;5;124mreplace_model\u001b[39m\u001b[38;5;124m\"\u001b[39m)\n\u001b[1;32m---> 72\u001b[0m state \u001b[38;5;241m=\u001b[39m \u001b[38;5;28;43mself\u001b[39;49m\u001b[38;5;241;43m.\u001b[39;49m\u001b[43mstate_manager\u001b[49m\u001b[38;5;241;43m.\u001b[39;49m\u001b[43mget_state\u001b[49m\u001b[43m(\u001b[49m\u001b[43m)\u001b[49m\n\u001b[0;32m     73\u001b[0m \u001b[38;5;28mprint\u001b[39m(\u001b[38;5;124m\"\u001b[39m\u001b[38;5;124mSTATE: \u001b[39m\u001b[38;5;124m\"\u001b[39m, state)\n\u001b[0;32m     75\u001b[0m \u001b[38;5;66;03m# Simulate a step in the environment\u001b[39;00m\n",
      "File \u001b[1;32mc:\\Documents\\Aalto Semester 2\\ResearchCloud\\RL_simulation\\managers\\state_manager.py:192\u001b[0m, in \u001b[0;36mStateManager.get_state\u001b[1;34m(self)\u001b[0m\n\u001b[0;32m    189\u001b[0m \u001b[38;5;28;01mdef\u001b[39;00m \u001b[38;5;21mget_state\u001b[39m(\u001b[38;5;28mself\u001b[39m):\n\u001b[0;32m    190\u001b[0m \u001b[38;5;66;03m# Generates state vector based on the current inference metrics\u001b[39;00m\n\u001b[1;32m--> 192\u001b[0m     data \u001b[38;5;241m=\u001b[39m \u001b[38;5;28;43mself\u001b[39;49m\u001b[38;5;241;43m.\u001b[39;49m\u001b[43mrandom_data_metrics\u001b[49m\u001b[43m(\u001b[49m\u001b[43m)\u001b[49m\n\u001b[0;32m    194\u001b[0m     \u001b[38;5;66;03m# Ensemble-level metrics\u001b[39;00m\n\u001b[0;32m    195\u001b[0m     energy_report \u001b[38;5;241m=\u001b[39m \u001b[38;5;28mself\u001b[39m\u001b[38;5;241m.\u001b[39mensemble_service\u001b[38;5;241m.\u001b[39menergy_estimate()\n",
      "File \u001b[1;32mc:\\Documents\\Aalto Semester 2\\ResearchCloud\\RL_simulation\\managers\\state_manager.py:133\u001b[0m, in \u001b[0;36mStateManager.random_data_metrics\u001b[1;34m(self)\u001b[0m\n\u001b[0;32m    129\u001b[0m \u001b[38;5;28;01mdef\u001b[39;00m \u001b[38;5;21mrandom_data_metrics\u001b[39m(\u001b[38;5;28mself\u001b[39m):\n\u001b[0;32m    130\u001b[0m     \u001b[38;5;66;03m# Perform the inference on a random data sampled from the distribution\u001b[39;00m\n\u001b[0;32m    131\u001b[0m \n\u001b[0;32m    132\u001b[0m     \u001b[38;5;66;03m# Ensure the pipeline is configured\u001b[39;00m\n\u001b[1;32m--> 133\u001b[0m     \u001b[38;5;28;43mself\u001b[39;49m\u001b[38;5;241;43m.\u001b[39;49m\u001b[43mconfig_pipeline\u001b[49m\u001b[43m(\u001b[49m\u001b[43m)\u001b[49m\n\u001b[0;32m    135\u001b[0m     model_count \u001b[38;5;241m=\u001b[39m \u001b[38;5;241m0\u001b[39m\n\u001b[0;32m    136\u001b[0m     \u001b[38;5;66;03m# Prepare input data: 224-224\u001b[39;00m\n",
      "File \u001b[1;32mc:\\Documents\\Aalto Semester 2\\ResearchCloud\\RL_simulation\\managers\\state_manager.py:94\u001b[0m, in \u001b[0;36mStateManager.config_pipeline\u001b[1;34m(self)\u001b[0m\n\u001b[0;32m     92\u001b[0m \u001b[38;5;250m\u001b[39m\u001b[38;5;124;03m\"\"\"Configure the pipeline based on the simulation config.\"\"\"\u001b[39;00m\n\u001b[0;32m     93\u001b[0m \u001b[38;5;66;03m# Load the simulation config from the model rl \u001b[39;00m\n\u001b[1;32m---> 94\u001b[0m \u001b[38;5;28mself\u001b[39m\u001b[38;5;241m.\u001b[39msim_config \u001b[38;5;241m=\u001b[39m \u001b[43mutils\u001b[49m\u001b[38;5;241;43m.\u001b[39;49m\u001b[43mload_config\u001b[49m\u001b[43m(\u001b[49m\u001b[38;5;28;43mself\u001b[39;49m\u001b[38;5;241;43m.\u001b[39;49m\u001b[43mCONFIG_PATH\u001b[49m\u001b[43m)\u001b[49m\n\u001b[0;32m     96\u001b[0m \u001b[38;5;66;03m# Input distribution\u001b[39;00m\n\u001b[0;32m     97\u001b[0m distribution \u001b[38;5;241m=\u001b[39m \u001b[38;5;28mself\u001b[39m\u001b[38;5;241m.\u001b[39msim_config[\u001b[38;5;124m\"\u001b[39m\u001b[38;5;124mdistribution\u001b[39m\u001b[38;5;124m\"\u001b[39m]\n",
      "File \u001b[1;32mc:\\Users\\Filippo\\anaconda3\\Lib\\site-packages\\rohe\\common\\rohe_utils.py:79\u001b[0m, in \u001b[0;36mload_config\u001b[1;34m(file_path)\u001b[0m\n\u001b[0;32m     77\u001b[0m         \u001b[38;5;28;01mreturn\u001b[39;00m json\u001b[38;5;241m.\u001b[39mload(f)\n\u001b[0;32m     78\u001b[0m \u001b[38;5;28;01mif\u001b[39;00m (\u001b[38;5;124m\"\u001b[39m\u001b[38;5;124myaml\u001b[39m\u001b[38;5;124m\"\u001b[39m \u001b[38;5;129;01min\u001b[39;00m file_path) \u001b[38;5;129;01mor\u001b[39;00m (\u001b[38;5;124m\"\u001b[39m\u001b[38;5;124myml\u001b[39m\u001b[38;5;124m\"\u001b[39m \u001b[38;5;129;01min\u001b[39;00m file_path):\n\u001b[1;32m---> 79\u001b[0m \u001b[43m    \u001b[49m\u001b[38;5;28;43;01mwith\u001b[39;49;00m\u001b[43m \u001b[49m\u001b[38;5;28;43mopen\u001b[39;49m\u001b[43m(\u001b[49m\u001b[43mfile_path\u001b[49m\u001b[43m)\u001b[49m\u001b[43m \u001b[49m\u001b[38;5;28;43;01mas\u001b[39;49;00m\u001b[43m \u001b[49m\u001b[43mf\u001b[49m\u001b[43m:\u001b[49m\n\u001b[0;32m     80\u001b[0m \u001b[43m        \u001b[49m\u001b[38;5;28;43;01mreturn\u001b[39;49;00m\u001b[43m \u001b[49m\u001b[43myaml\u001b[49m\u001b[38;5;241;43m.\u001b[39;49m\u001b[43msafe_load\u001b[49m\u001b[43m(\u001b[49m\u001b[43mf\u001b[49m\u001b[43m)\u001b[49m\n\u001b[0;32m     81\u001b[0m \u001b[38;5;28;01melse\u001b[39;00m:\n",
      "\u001b[1;31mKeyboardInterrupt\u001b[0m: "
     ]
    }
   ],
   "source": [
    "from stable_baselines3 import PPO\n",
    "\n",
    "#setup_config()\n",
    "\n",
    "# Create the environment\n",
    "env = SimulationEnv()\n",
    "\n",
    "# Train the agent\n",
    "model = PPO(\"MlpPolicy\", env, verbose=1, n_steps=1028)\n",
    "model.learn(total_timesteps=1)\n",
    "\n",
    "# Save the trained model\n",
    "model.save(\"simulation_policy\")\n"
   ]
  },
  {
   "cell_type": "markdown",
   "metadata": {},
   "source": [
    "# Check results"
   ]
  },
  {
   "cell_type": "code",
   "execution_count": 3,
   "metadata": {},
   "outputs": [
    {
     "name": "stdout",
     "output_type": "stream",
     "text": [
      "action policy: random action - with Bounds\n",
      "\n",
      "number of inferences:  5150\n",
      "Average accuracy across all labels: 0.8864\n",
      "Average accuracy for all labels: \n",
      "label\n",
      "n01440764    0.932292\n",
      "n01443537    0.960976\n",
      "n01484850    0.840376\n",
      "n01491361    0.806604\n",
      "n01494475    0.899038\n",
      "Name: accuracy, dtype: float64\n"
     ]
    }
   ],
   "source": [
    "import pandas as pd\n",
    "\n",
    "# Define the path to the CSV file\n",
    "csv_file_path = \"results/reinf_learning_inference/ensemble_inference.csv\"\n",
    "\n",
    "print(\"action policy: random action - with Bounds\\n\")\n",
    "# Read the CSV file\n",
    "df = pd.read_csv(csv_file_path)\n",
    "print(\"number of inferences: \", df.size)\n",
    "\n",
    "# Calculate average accuracy for all labels\n",
    "average_accuracy_all = df[\"accuracy\"].mean()\n",
    "\n",
    "# Calculate average accuracy for a specific label\n",
    "average_accuracy_per_label = df.groupby(\"label\")[\"accuracy\"].mean()\n",
    "\n",
    "# Print the results\n",
    "print(f\"Average accuracy across all labels: {average_accuracy_all:.4f}\")\n",
    "print(f\"Average accuracy for all labels: \") \n",
    "print(average_accuracy_per_label)"
   ]
  },
  {
   "cell_type": "code",
   "execution_count": null,
   "metadata": {},
   "outputs": [
    {
     "data": {
      "image/png": "[encoded data removed]",
      "text/plain": [
       "<Figure size 1000x600 with 1 Axes>"
      ]
     },
     "metadata": {},
     "output_type": "display_data"
    }
   ],
   "source": [
    "\n",
    "import matplotlib.pyplot as plt\n",
    "\n",
    "# Assuming env.visualization_manager.reward_list is a list of rewards\n",
    "def plot_rewards(reward_list):\n",
    "    plt.figure(figsize=(10, 6))\n",
    "    plt.plot(reward_list, label=\"Rewards\", marker='o', linestyle='-')\n",
    "    plt.title(\"Rewards Over Time\", fontsize=16)\n",
    "    plt.xlabel(\"Episode\", fontsize=14)\n",
    "    plt.ylabel(\"Reward\", fontsize=14)\n",
    "    plt.grid(True)\n",
    "    plt.legend(fontsize=12)\n",
    "    plt.show()\n",
    "\n",
    "# Example usage:\n",
    "if hasattr(env, 'visualization_manager') and hasattr(env.visualization_manager, 'reward_list'):\n",
    "    plot_rewards(env.visualization_manager.reward_list)\n",
    "else:\n",
    "    print(\"reward_list not found in env.visualization_manager.\")"
   ]
  },
  {
   "cell_type": "code",
   "execution_count": 11,
   "metadata": {},
   "outputs": [
    {
     "name": "stdout",
     "output_type": "stream",
     "text": [
      "Reward column:\n",
      "0      0.003295\n",
      "1      0.003833\n",
      "2      0.006500\n",
      "3      0.006500\n",
      "4      0.011043\n",
      "         ...   \n",
      "253    0.023206\n",
      "254    0.023206\n",
      "255    0.023206\n",
      "256    0.023206\n",
      "257    0.023206\n",
      "Name: total_energy_consumption, Length: 258, dtype: float64\n"
     ]
    },
    {
     "data": {
      "image/png": "[encoded data removed]",
      "text/plain": [
       "<Figure size 1000x600 with 1 Axes>"
      ]
     },
     "metadata": {},
     "output_type": "display_data"
    },
    {
     "data": {
      "text/plain": [
       "0      0.003295\n",
       "1      0.003833\n",
       "2      0.006500\n",
       "3      0.006500\n",
       "4      0.011043\n",
       "         ...   \n",
       "253    0.023206\n",
       "254    0.023206\n",
       "255    0.023206\n",
       "256    0.023206\n",
       "257    0.023206\n",
       "Name: total_energy_consumption, Length: 258, dtype: float64"
      ]
     },
     "execution_count": 11,
     "metadata": {},
     "output_type": "execute_result"
    }
   ],
   "source": [
    "import pandas as pd\n",
    "import matplotlib.pyplot as plt\n",
    "\n",
    "def read_reward_column(csv_file_path):\n",
    "    try:\n",
    "        # Load the CSV file\n",
    "        data = pd.read_csv(csv_file_path)\n",
    "\n",
    "        # Check if 'reward' column exists\n",
    "        if 'reward' in data.columns:\n",
    "            # Read the 'reward' column\n",
    "            reward_column = data['total_energy_consumption']\n",
    "            print(\"Reward column:\")\n",
    "            print(reward_column)\n",
    "\n",
    "            # Plot the reward column\n",
    "            plt.figure(figsize=(10, 6))\n",
    "            plt.plot(reward_column, marker='o', linestyle='-', color='b')\n",
    "            plt.title('Reward Column Plot')\n",
    "            plt.xlabel('Index')\n",
    "            plt.ylabel('Reward')\n",
    "            plt.grid(True)\n",
    "            plt.show()\n",
    "\n",
    "            return reward_column\n",
    "        else:\n",
    "            print(\"Error: 'reward' column not found in the CSV file.\")\n",
    "            return None\n",
    "    except FileNotFoundError:\n",
    "        print(\"Error: File not found. Please check the file path.\")\n",
    "    except Exception as e:\n",
    "        print(f\"An error occurred: {e}\")\n",
    "\n",
    "# Example usage\n",
    "csv_file_path = \"results/reinforcement_learning.csv\"  # Replace with your actual file path\n",
    "read_reward_column(csv_file_path)"
   ]
  }
 ],
 "metadata": {
  "kernelspec": {
   "display_name": "base",
   "language": "python",
   "name": "python3"
  },
  "language_info": {
   "codemirror_mode": {
    "name": "ipython",
    "version": 3
   },
   "file_extension": ".py",
   "mimetype": "text/x-python",
   "name": "python",
   "nbconvert_exporter": "python",
   "pygments_lexer": "ipython3",
   "version": "3.11.7"
  }
 },
 "nbformat": 4,
 "nbformat_minor": 2
}
